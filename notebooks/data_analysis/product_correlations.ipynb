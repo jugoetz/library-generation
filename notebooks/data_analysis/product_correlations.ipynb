{
 "cells": [
  {
   "cell_type": "markdown",
   "id": "0",
   "metadata": {},
   "source": [
    "# Product correlations\n",
    "An obvious question to ask in exploratory data analysis: Is there a correlation between the different products.\n",
    "E.g. do we get product C in the cases where we do not get A?"
   ]
  },
  {
   "cell_type": "code",
   "execution_count": null,
   "id": "1",
   "metadata": {},
   "outputs": [],
   "source": [
    "import pathlib\n",
    "import sys\n",
    "\n",
    "sys.path.append(str(pathlib.Path().resolve().parents[1]))\n",
    "\n",
    "import pandas as pd\n",
    "import scipy\n",
    "import matplotlib.pyplot as plt\n",
    "\n",
    "from src.definitions import DATA_DIR"
   ]
  },
  {
   "cell_type": "code",
   "execution_count": null,
   "id": "2",
   "metadata": {},
   "outputs": [],
   "source": [
    "# get the dataset\n",
    "df = pd.read_csv(DATA_DIR / \"curated_data\" / \"synferm_dataset_2024-04-18_38586records.csv\")\n",
    "df.head()"
   ]
  },
  {
   "cell_type": "markdown",
   "id": "3",
   "metadata": {},
   "source": [
    "## Correlation between products"
   ]
  },
  {
   "cell_type": "code",
   "execution_count": null,
   "id": "4",
   "metadata": {},
   "outputs": [],
   "source": [
    "scipy.stats.pearsonr(df[\"binary_A\"], df[\"binary_B\"])"
   ]
  },
  {
   "cell_type": "code",
   "execution_count": null,
   "id": "5",
   "metadata": {},
   "outputs": [],
   "source": [
    "scipy.stats.pearsonr(df[\"binary_A\"], df[\"binary_C\"])"
   ]
  },
  {
   "cell_type": "code",
   "execution_count": null,
   "id": "6",
   "metadata": {},
   "outputs": [],
   "source": [
    "scipy.stats.pearsonr(df[\"binary_B\"], df[\"binary_C\"])"
   ]
  },
  {
   "cell_type": "code",
   "execution_count": null,
   "id": "7",
   "metadata": {},
   "outputs": [],
   "source": [
    "scipy.stats.pearsonr(df[\"binary_A\"], df[\"binary_H\"])"
   ]
  },
  {
   "cell_type": "code",
   "execution_count": null,
   "id": "8",
   "metadata": {},
   "outputs": [],
   "source": [
    "scipy.stats.pearsonr(df[\"scaled_A\"], df[\"scaled_B\"])"
   ]
  },
  {
   "cell_type": "code",
   "execution_count": null,
   "id": "9",
   "metadata": {},
   "outputs": [],
   "source": [
    "scipy.stats.pearsonr(df[\"scaled_A\"], df[\"scaled_C\"])"
   ]
  },
  {
   "cell_type": "code",
   "execution_count": null,
   "id": "10",
   "metadata": {},
   "outputs": [],
   "source": [
    "scipy.stats.pearsonr(df[\"scaled_B\"], df[\"scaled_C\"])"
   ]
  },
  {
   "cell_type": "markdown",
   "id": "11",
   "metadata": {},
   "source": [
    "We know that B  can be converted to A by a variety of means (increasing reaction time, temperature, adding oxidant,...)\n",
    "\n",
    "How often do we get A or B vs. C?"
   ]
  },
  {
   "cell_type": "code",
   "execution_count": null,
   "id": "12",
   "metadata": {},
   "outputs": [],
   "source": [
    "# how often do we get A or B?\n",
    "df[\"binary_AorB\"] = df[\"binary_A\"] | df[\"binary_B\"]\n",
    "df[\"binary_AorB\"].mean()\n",
    "print(f'A or B combined occur in {df[\"binary_AorB\"].mean():.2%} of all reactions')"
   ]
  },
  {
   "cell_type": "code",
   "execution_count": null,
   "id": "13",
   "metadata": {},
   "outputs": [],
   "source": [
    "# if we get B, do we always get A too?\n",
    "print(f'If B is present, A is also present in {df.loc[df[\"binary_B\"] == 1, \"binary_A\"].mean():.2%} of cases')"
   ]
  },
  {
   "cell_type": "code",
   "execution_count": null,
   "id": "14",
   "metadata": {},
   "outputs": [],
   "source": [
    "# reverse question, if we get A, is B also present?\n",
    "print(f'If A is present, B is also present in {df.loc[df[\"binary_A\"] == 1, \"binary_B\"].mean():.2%} of cases')"
   ]
  },
  {
   "cell_type": "code",
   "execution_count": null,
   "id": "15",
   "metadata": {},
   "outputs": [],
   "source": [
    "# If we get C, are A and B also present?\n",
    "print(f'If C is present, A is also present in {df.loc[df[\"binary_C\"] == 1, \"binary_A\"].mean():.2%} of cases')\n",
    "print(f'If C is present, B is also present in {df.loc[df[\"binary_C\"] == 1, \"binary_B\"].mean():.2%} of cases')"
   ]
  },
  {
   "cell_type": "code",
   "execution_count": null,
   "id": "16",
   "metadata": {},
   "outputs": [],
   "source": [
    "# How often do we get C exlusively?\n",
    "print(f'If C is present, A is not present in {1 - df.loc[df[\"binary_C\"] == 1, \"binary_A\"].mean():.2%} of cases')\n",
    "print(f'If C is present, neither A nor B are present in {1 - df.loc[df[\"binary_C\"] == 1, \"binary_AorB\"].mean():.2%} of cases')\n"
   ]
  },
  {
   "cell_type": "markdown",
   "id": "17",
   "metadata": {},
   "source": [
    "We think that product H may occur through elimination of the amide after forming product A\n",
    "\n",
    "How often do we get H vs. A?"
   ]
  },
  {
   "cell_type": "code",
   "execution_count": null,
   "id": "18",
   "metadata": {},
   "outputs": [],
   "source": [
    "# If we get H, are A and B also present?\n",
    "print(f'If H is present, A is also present in {df.loc[df[\"binary_H\"] == 1, \"binary_A\"].mean():.2%} of cases')\n",
    "print(f'If H is present, B is also present in {df.loc[df[\"binary_H\"] == 1, \"binary_B\"].mean():.2%} of cases')\n",
    "print(f'If H is present, C is also present in {df.loc[df[\"binary_H\"] == 1, \"binary_C\"].mean():.2%} of cases')\n",
    "\n",
    "# compare to background rate\n",
    "print(f'On average A is present in {df[\"binary_A\"].mean():.2%} of cases')\n",
    "print(f'On average B is present in {df[\"binary_B\"].mean():.2%} of cases')\n",
    "print(f'On average B is present in {df[\"binary_C\"].mean():.2%} of cases')\n",
    "\n",
    "# If we dont get A, do we see H?\n",
    "print(f'If A is no present, H is present in {df.loc[df[\"binary_A\"] == 0, \"binary_H\"].mean():.2%} of cases')\n",
    "# compare to background rate\n",
    "print(f'On average H is present in {df[\"binary_H\"].mean():.2%} of cases')"
   ]
  },
  {
   "cell_type": "markdown",
   "id": "19",
   "metadata": {},
   "source": [
    "Occurence of A is indeed enriched, conditional on occurence of H. This is not observed for either B or C. This is in alignment with the conjecture of H occuring by elimination from A."
   ]
  },
  {
   "cell_type": "code",
   "execution_count": null,
   "id": "20",
   "metadata": {},
   "outputs": [],
   "source": [
    "# do we ever see C for ABTs?\n",
    "print(f'C occurs for ABTs in {df.loc[df[\"T_long\"].str.startswith(\"TerABT\"), \"binary_C\"].mean():.2%} of cases')\n",
    "print(f'C occurs for THs in {df.loc[df[\"T_long\"].str.startswith(\"TerTH\"), \"binary_C\"].mean():.2%} of cases')"
   ]
  },
  {
   "cell_type": "code",
   "execution_count": null,
   "id": "21",
   "metadata": {},
   "outputs": [],
   "source": [
    "# formation of C by terminator\n",
    "plt.figure(figsize=(2.25,2), dpi=300)\n",
    "df[[\"T_long\", \"binary_C\"]].groupby(\"T_long\").mean().plot.bar()\n",
    "plt.xlabel(\"Terminator\")\n",
    "plt.ylabel(\"Occurence of product C\")\n",
    "plt.ylim(0,1)\n",
    "plt.legend([])\n",
    "plt.xticks(fontsize=8)\n",
    "plt.show()"
   ]
  },
  {
   "cell_type": "code",
   "execution_count": null,
   "id": "22",
   "metadata": {},
   "outputs": [],
   "source": [
    "# formation of H by monomer\n",
    "plt.figure(figsize=(2.25,2), dpi=300)\n",
    "df[[\"M_long\", \"binary_H\"]].groupby(\"M_long\").mean().plot.bar()\n",
    "plt.xlabel(\"Monomer\")\n",
    "plt.ylabel(\"Occurence of product H\")\n",
    "plt.ylim(0,1)\n",
    "plt.legend([])\n",
    "plt.xticks(fontsize=5)\n",
    "plt.show()"
   ]
  },
  {
   "cell_type": "markdown",
   "id": "23",
   "metadata": {},
   "source": [
    "## Conclusion\n",
    "It seems the formation of A and B is moderately correlated (which makes some sense as B is an intermediate en route to A). Particulary, whenever we see B, we also see A.\n",
    "\n",
    "A and C are weakly correlated (probably this is the result of two opposing tendencies: Formation of A depletes mutual intermediate B, leading to a negative correlation, but formation of A and C is confounded by formation of B, leading to a positive correlation). Particularly, we only see C if we also see A. This makes sense when considering the first point. Basically, we get (some) A whenever B forms. Intramolecular cyclization does not outcompete oxidative decarboxylation sufficiently to shut down formation of A."
   ]
  }
 ],
 "metadata": {
  "kernelspec": {
   "display_name": "Python 3 (ipykernel)",
   "language": "python",
   "name": "python3"
  },
  "language_info": {
   "codemirror_mode": {
    "name": "ipython",
    "version": 3
   },
   "file_extension": ".py",
   "mimetype": "text/x-python",
   "name": "python",
   "nbconvert_exporter": "python",
   "pygments_lexer": "ipython3",
   "version": "3.9.7"
  }
 },
 "nbformat": 4,
 "nbformat_minor": 5
}
