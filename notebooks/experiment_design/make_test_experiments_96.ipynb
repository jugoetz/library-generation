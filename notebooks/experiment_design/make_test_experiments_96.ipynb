{
 "cells": [
  {
   "cell_type": "markdown",
   "metadata": {},
   "source": [
    "# Test Experiments for Synthetic Fermentation\n",
    "Here we want to make test experiments for Synthetic Fermentation"
   ]
  },
  {
   "cell_type": "code",
   "execution_count": null,
   "metadata": {},
   "outputs": [],
   "source": [
    "import pathlib\n",
    "import sys\n",
    "\n",
    "sys.path.append(str(pathlib.Path().resolve().parents[1]))\n",
    "from labware.plates import Plate96\n",
    "\n",
    "from src.definitions import DATA_DIR"
   ]
  },
  {
   "cell_type": "code",
   "execution_count": null,
   "metadata": {},
   "outputs": [],
   "source": [
    "OUTPUT_DIR = DATA_DIR / 'outputs'\n",
    "if not OUTPUT_DIR.exists():\n",
    "    OUTPUT_DIR.mkdir(parents=True)\n",
    "OUTPUT_DIR"
   ]
  },
  {
   "cell_type": "code",
   "execution_count": null,
   "metadata": {},
   "outputs": [],
   "source": [
    "plate = Plate96(max_vol=150000, dead_vol=5000)\n",
    "print(plate.test())"
   ]
  },
  {
   "cell_type": "code",
   "execution_count": null,
   "metadata": {},
   "outputs": [],
   "source": [
    "for ini, row in zip([f'I{x}' for x in range(1,5)] * 2, plate.rows()):\n",
    "    plate.fill_block((row,), plate.columns(), ini, 2000)\n",
    "print(plate)\n"
   ]
  },
  {
   "cell_type": "code",
   "execution_count": null,
   "metadata": {},
   "outputs": [],
   "source": [
    "plate.fill_span('A1', 'D4', 'M1', 2000)\n",
    "plate.fill_span('A5', 'D8', 'M2', 2000)\n",
    "plate.fill_span('A9', 'D12', 'M3', 2000)\n",
    "plate.fill_span('E1', 'H4', 'M4', 2000)\n",
    "plate.fill_span('E5', 'H8', 'M5', 2000)\n",
    "plate.fill_span('E9', 'H12', 'M6', 2000)\n",
    "print(plate)"
   ]
  },
  {
   "cell_type": "code",
   "execution_count": null,
   "metadata": {},
   "outputs": [],
   "source": [
    "for ter, column in zip([f'T{x}' for x in range(1,5)] * 3, plate.columns()):\n",
    "    plate.fill_block(plate.rows(), (column,), ter, 2000)\n",
    "print(plate)"
   ]
  },
  {
   "cell_type": "code",
   "execution_count": null,
   "metadata": {},
   "outputs": [],
   "source": [
    "OUT_DIR = OUTPUT_DIR / 'target_plates' / 'JG215'"
   ]
  },
  {
   "cell_type": "code",
   "execution_count": null,
   "metadata": {},
   "outputs": [],
   "source": [
    "plate.to_csv(OUT_DIR / 'plate_layout_1.csv', save_volumes=True)"
   ]
  }
 ],
 "metadata": {
  "kernelspec": {
   "display_name": "Python 3",
   "language": "python",
   "name": "python3"
  },
  "language_info": {
   "codemirror_mode": {
    "name": "ipython",
    "version": 2
   },
   "file_extension": ".py",
   "mimetype": "text/x-python",
   "name": "python",
   "nbconvert_exporter": "python",
   "pygments_lexer": "ipython2",
   "version": "2.7.6"
  }
 },
 "nbformat": 4,
 "nbformat_minor": 0
}
