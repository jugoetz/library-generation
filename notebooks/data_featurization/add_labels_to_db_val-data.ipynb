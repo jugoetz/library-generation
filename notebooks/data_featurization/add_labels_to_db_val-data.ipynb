{
 "cells": [
  {
   "cell_type": "markdown",
   "metadata": {},
   "source": [
    "# Add labels to DB\n",
    "For every _valid_ experiment **from the validation data**, add labels to a separate table.\n",
    "We use the following labels:\n",
    "- scaled MS responses for all products\n",
    "- binary outcome for all products\n",
    "- major product (A, B, C, or no_product)\n",
    "\n",
    "We use the scaling factors obtained on the ML data set (2024-04-18)."
   ]
  },
  {
   "cell_type": "code",
   "execution_count": null,
   "metadata": {},
   "outputs": [],
   "source": [
    "import pathlib\n",
    "import sys\n",
    "\n",
    "sys.path.append(str(pathlib.Path().resolve().parents[1]))\n",
    "\n",
    "import pandas as pd\n",
    "\n",
    "from src.util.db_utils import SynFermDatabaseConnection\n",
    "from src.definitions import DATA_DIR"
   ]
  },
  {
   "cell_type": "code",
   "execution_count": null,
   "metadata": {},
   "outputs": [],
   "source": [
    "con = SynFermDatabaseConnection()"
   ]
  },
  {
   "cell_type": "code",
   "execution_count": null,
   "metadata": {},
   "outputs": [],
   "source": [
    "# get only valid experiments from DB\n",
    "data = con.con.execute(\"SELECT * FROM experiments WHERE exp_nr BETWEEN 100 AND 101 AND (valid NOT LIKE '%ERROR%' OR valid IS NULL)\").fetchall()\n",
    "df = pd.DataFrame(data, columns=[c[1] for c in con.con.execute(\"PRAGMA table_info(experiments)\").fetchall()])\n",
    "len(df)"
   ]
  },
  {
   "cell_type": "code",
   "execution_count": null,
   "metadata": {},
   "outputs": [],
   "source": [
    "# load scaling factors\n",
    "scaling_factors = pd.read_csv(DATA_DIR / \"scaling-factors_2024-04-18.csv\").set_index(\"product_type\")"
   ]
  },
  {
   "cell_type": "code",
   "execution_count": null,
   "metadata": {},
   "outputs": [],
   "source": [
    "# apply scaling to all products\n",
    "for s in \"ABCDEFGH\":\n",
    "    df[f'scaled_{s}'] = df[f'product_{s}_lcms_ratio'] / scaling_factors.loc[\"A\", \"factor\"]"
   ]
  },
  {
   "cell_type": "code",
   "execution_count": null,
   "metadata": {},
   "outputs": [],
   "source": [
    "# add binary outcome: 1 if product was formed, 0 if not\n",
    "df[\"binary_A\"] = (df[\"scaled_A\"] > 0).astype(int)\n",
    "df[\"binary_B\"] = (df[\"scaled_B\"] > 0).astype(int)\n",
    "df[\"binary_C\"] = (df[\"scaled_C\"] > 0).astype(int)\n",
    "df[\"binary_D\"] = (df[\"scaled_D\"] > 0).astype(int)\n",
    "df[\"binary_E\"] = (df[\"scaled_E\"] > 0).astype(int)\n",
    "df[\"binary_F\"] = (df[\"scaled_F\"] > 0).astype(int)\n",
    "df[\"binary_G\"] = (df[\"scaled_G\"] > 0).astype(int)\n",
    "df[\"binary_H\"] = (df[\"scaled_H\"] > 0).astype(float)\n",
    "df.loc[df[\"scaled_H\"].isna(), \"binary_H\"] = pd.NA"
   ]
  },
  {
   "cell_type": "code",
   "execution_count": null,
   "metadata": {},
   "outputs": [],
   "source": [
    "df.describe()"
   ]
  },
  {
   "cell_type": "code",
   "execution_count": null,
   "metadata": {},
   "outputs": [],
   "source": [
    "# assign the main product\n",
    "df[\"main_product\"] = df[[\"scaled_A\", \"scaled_B\", \"scaled_C\"]].idxmax(axis=1).str.replace(\"scaled_\", \"\")\n",
    "# are there any reactions where neither A,nor B, nor C appear?\n",
    "df.loc[df[[\"scaled_A\", \"scaled_B\", \"scaled_C\"]].sum(axis=1) == 0, \"main_product\"] = \"no_product\"\n",
    "df"
   ]
  },
  {
   "cell_type": "code",
   "execution_count": null,
   "metadata": {},
   "outputs": [],
   "source": [
    "# write to 'labels' table of DB\n",
    "with con.con:\n",
    "    con.con.executemany('INSERT INTO labels (experiment_id, scaled_A, scaled_B, scaled_C, scaled_D, scaled_E, scaled_F, scaled_G, scaled_H, binary_A, binary_B, binary_C, binary_D, binary_E, binary_F, binary_G, binary_H, \"major_A-C\") VALUES (?, ?, ?, ?, ?, ?, ?, ?, ?, ?, ?, ?, ?, ?, ?, ?, ?, ?);',\n",
    "                        df[[\"id\", \"scaled_A\", \"scaled_B\", \"scaled_C\", \"scaled_D\", \"scaled_E\", \"scaled_F\", \"scaled_G\", \"scaled_H\", \"binary_A\", \"binary_B\", \"binary_C\", \"binary_D\", \"binary_E\", \"binary_F\", \"binary_G\", \"binary_H\", \"main_product\"]].values.tolist()\n",
    "                        )"
   ]
  },
  {
   "cell_type": "code",
   "execution_count": null,
   "metadata": {},
   "outputs": [],
   "source": [
    "df[\"binary_A\"].mean()"
   ]
  },
  {
   "cell_type": "code",
   "execution_count": null,
   "metadata": {},
   "outputs": [],
   "source": []
  }
 ],
 "metadata": {
  "kernelspec": {
   "display_name": "Python 3 (ipykernel)",
   "language": "python",
   "name": "python3"
  },
  "language_info": {
   "codemirror_mode": {
    "name": "ipython",
    "version": 3
   },
   "file_extension": ".py",
   "mimetype": "text/x-python",
   "name": "python",
   "nbconvert_exporter": "python",
   "pygments_lexer": "ipython3",
   "version": "3.9.7"
  }
 },
 "nbformat": 4,
 "nbformat_minor": 1
}
