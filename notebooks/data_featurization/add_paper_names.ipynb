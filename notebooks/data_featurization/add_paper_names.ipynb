{
 "cells": [
  {
   "cell_type": "markdown",
   "id": "0",
   "metadata": {},
   "source": [
    "# Prepare auxiliary supplementary materials\n",
    "\n",
    "- data S1: Just add paper names to the data set\n",
    "- data S2: Manual from split folder, not in here\n",
    "- data S3: Export from DB\n",
    "- data S4: Export from DB\n"
   ]
  },
  {
   "cell_type": "code",
   "execution_count": null,
   "id": "1",
   "metadata": {},
   "outputs": [],
   "source": [
    "import pathlib\n",
    "import sys\n",
    "\n",
    "sys.path.append(str(pathlib.Path().resolve().parents[1]))\n",
    "\n",
    "import pandas as pd\n",
    "\n",
    "from src.util.db_utils import SynFermDatabaseConnection\n",
    "from src.definitions import DATA_DIR"
   ]
  },
  {
   "cell_type": "code",
   "execution_count": null,
   "id": "2",
   "metadata": {},
   "outputs": [],
   "source": [
    "con = SynFermDatabaseConnection()"
   ]
  },
  {
   "cell_type": "markdown",
   "id": "3",
   "metadata": {},
   "source": [
    "## Data S1"
   ]
  },
  {
   "cell_type": "code",
   "execution_count": null,
   "id": "4",
   "metadata": {},
   "outputs": [],
   "source": [
    "data_s1 = pd.read_csv(DATA_DIR / \"curated_data\" / \"synferm_dataset_2023-12-20_39486records.csv\")\n",
    "data_s1"
   ]
  },
  {
   "cell_type": "code",
   "execution_count": null,
   "id": "5",
   "metadata": {},
   "outputs": [],
   "source": [
    "data_s1.insert(3, \"I_paper\", data_s1[\"I_long\"].apply(lambda x: con.get_paper_name(long=x)))\n",
    "data_s1.insert(4, \"M_paper\", data_s1[\"M_long\"].apply(lambda x: con.get_paper_name(long=x)))\n",
    "data_s1.insert(5, \"T_paper\", data_s1[\"T_long\"].apply(lambda x: con.get_paper_name(long=x)))"
   ]
  },
  {
   "cell_type": "code",
   "execution_count": null,
   "id": "6",
   "metadata": {},
   "outputs": [],
   "source": [
    "# uncomment to save\n",
    "# data_s1.to_csv(\"/Users/julian/Documents/SynFerm/Paper/Auxiliary Supplementary Materials/Data S1.csv\", index=False)"
   ]
  }
 ],
 "metadata": {
  "kernelspec": {
   "display_name": "Python 3 (ipykernel)",
   "language": "python",
   "name": "python3"
  },
  "language_info": {
   "codemirror_mode": {
    "name": "ipython",
    "version": 3
   },
   "file_extension": ".py",
   "mimetype": "text/x-python",
   "name": "python",
   "nbconvert_exporter": "python",
   "pygments_lexer": "ipython3",
   "version": "3.9.7"
  }
 },
 "nbformat": 4,
 "nbformat_minor": 5
}
