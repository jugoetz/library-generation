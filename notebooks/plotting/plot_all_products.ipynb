{
 "cells": [
  {
   "cell_type": "markdown",
   "id": "0",
   "metadata": {},
   "source": [
    "# Plot all products\n",
    "\n",
    "Plot all products from the cleaned 50k data set for use with the interactive heatmap"
   ]
  },
  {
   "cell_type": "code",
   "execution_count": null,
   "id": "1",
   "metadata": {},
   "outputs": [],
   "source": [
    "import pathlib\n",
    "import re\n",
    "import sys\n",
    "\n",
    "import pandas as pd\n",
    "from rdkit import Chem\n",
    "from rdkit.Chem import AllChem\n",
    "from rdkit.Chem.Draw import rdMolDraw2D\n",
    "\n",
    "sys.path.append(str(pathlib.Path().resolve().parents[1]))\n",
    "from src.util.db_utils import SynFermDatabaseConnection"
   ]
  },
  {
   "cell_type": "code",
   "execution_count": null,
   "id": "2",
   "metadata": {},
   "outputs": [],
   "source": [
    "# connect to DB\n",
    "con = SynFermDatabaseConnection()"
   ]
  },
  {
   "cell_type": "code",
   "execution_count": null,
   "id": "3",
   "metadata": {},
   "outputs": [],
   "source": [
    "res = con.con.execute(\"SELECT e.id, e.initiator_long, e.monomer_long, e.terminator_long, e.product_A_smiles FROM experiments e WHERE e.exp_nr BETWEEN 4 AND 29 AND (e.valid NOT LIKE '%ERROR%' OR e.valid IS NULL);\").fetchall()\n",
    "\n",
    "columns = [\n",
    "    \"experiment_id\", \n",
    "    \"I_long\", \n",
    "    \"M_long\", \n",
    "    \"T_long\", \n",
    "    \"product_A_smiles\", \n",
    "]\n",
    "df = pd.DataFrame(res, columns=columns)"
   ]
  },
  {
   "cell_type": "code",
   "execution_count": null,
   "id": "4",
   "metadata": {},
   "outputs": [],
   "source": [
    "df.head()"
   ]
  },
  {
   "cell_type": "code",
   "execution_count": null,
   "id": "5",
   "metadata": {},
   "outputs": [],
   "source": [
    "len(df)"
   ]
  },
  {
   "cell_type": "code",
   "execution_count": null,
   "id": "6",
   "metadata": {},
   "outputs": [],
   "source": [
    "template = Chem.RWMol(Chem.MolFromSmarts(\"[#6]-C(=O)-[NH1]-C(-[*])-C(-[*])-c1:n:[n,c]:c:s:1\"))\n",
    "\n",
    "AllChem.Compute2DCoords(template, canonOrient=False, sampleSeed=50, nSample=200)\n",
    "template"
   ]
  },
  {
   "cell_type": "code",
   "execution_count": null,
   "id": "7",
   "metadata": {},
   "outputs": [],
   "source": [
    "# n.b. we use the SE-ethers to get a nice orientation for the molecule\n",
    "template = Chem.RWMol(Chem.MolFromSmarts(\"[#6]-C(=O)-[NH1]-C(-[Se]1)-C(-[Se]-C-C-1)-c1:n:[n,c]:c:s:1\"))\n",
    "\n",
    "AllChem.Compute2DCoords(template, canonOrient=True, sampleSeed=0, nSample=1)\n",
    "template"
   ]
  },
  {
   "cell_type": "code",
   "execution_count": null,
   "id": "8",
   "metadata": {},
   "outputs": [],
   "source": [
    "for atom in template.GetAtoms():\n",
    "    print(atom.GetIdx(), atom.GetSymbol())"
   ]
  },
  {
   "cell_type": "code",
   "execution_count": null,
   "id": "9",
   "metadata": {},
   "outputs": [],
   "source": [
    "# delete the placeholder atoms\n",
    "template.RemoveAtom(9)\n",
    "template.RemoveAtom(8)\n",
    "template.RemoveAtom(7)\n",
    "template.RemoveAtom(5)"
   ]
  },
  {
   "cell_type": "code",
   "execution_count": null,
   "id": "10",
   "metadata": {},
   "outputs": [],
   "source": [
    "template"
   ]
  },
  {
   "cell_type": "code",
   "execution_count": null,
   "id": "11",
   "metadata": {},
   "outputs": [],
   "source": [
    "for i, row in df.iterrows():\n",
    "    m = Chem.MolFromSmiles(row[\"product_A_smiles\"])\n",
    "    _ = AllChem.GenerateDepictionMatching2DStructure(m, template, allowRGroups=True)\n",
    "\n",
    "    d = rdMolDraw2D.MolDraw2DSVG(300, 300)\n",
    "    d.DrawMolecule(m)\n",
    "    d.FinishDrawing()\n",
    "    save_dir = pathlib.Path(\"product_images\")\n",
    "    save_dir.mkdir(exist_ok=True)\n",
    "    with open(save_dir / f\"{row['I_long']}_{row['M_long']}_{row['T_long']}.svg\", \"w\") as f:\n",
    "        f.write(re.sub('<rect.*</rect>\\n', '', d.GetDrawingText()))  # remove background with regex"
   ]
  },
  {
   "cell_type": "code",
   "execution_count": null,
   "id": "12",
   "metadata": {},
   "outputs": [],
   "source": []
  }
 ],
 "metadata": {
  "kernelspec": {
   "display_name": "Python 3 (ipykernel)",
   "language": "python",
   "name": "python3"
  },
  "language_info": {
   "codemirror_mode": {
    "name": "ipython",
    "version": 3
   },
   "file_extension": ".py",
   "mimetype": "text/x-python",
   "name": "python",
   "nbconvert_exporter": "python",
   "pygments_lexer": "ipython3",
   "version": "3.9.7"
  }
 },
 "nbformat": 4,
 "nbformat_minor": 5
}
