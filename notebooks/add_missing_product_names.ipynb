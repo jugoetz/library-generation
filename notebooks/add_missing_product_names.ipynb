{
 "cells": [
  {
   "cell_type": "markdown",
   "source": [
    "Purpose of this notebook was a (hopefully) one-time use to add/update product H after the enumaeration of that had benn corrected"
   ],
   "metadata": {
    "collapsed": false,
    "pycharm": {
     "name": "#%% md\n"
    }
   }
  },
  {
   "cell_type": "code",
   "execution_count": 5,
   "metadata": {
    "collapsed": true
   },
   "outputs": [],
   "source": [
    "import pickle as pkl\n",
    "import json\n",
    "import sqlite3 as sql\n",
    "from pathlib import Path\n",
    "import pandas as pd\n",
    "from rdkit.Chem import Draw\n",
    "from rdkit.Chem.rdMolDescriptors import CalcMolFormula, CalcExactMolWt\n",
    "from rdkit.Chem.rdmolfiles import ForwardSDMolSupplier\n",
    "from rdkit import Chem\n",
    "\n",
    "import gzip\n",
    "from util_functions import *\n",
    "from rdkit import Chem\n",
    "from rdkit.Chem import Draw, SaltRemover, AllChem\n",
    "from rdkit.Chem.SimpleEnum.Enumerator import EnumerateReaction\n",
    "\n",
    "import gzip\n",
    "import warnings\n",
    "import string\n",
    "import itertools\n",
    "\n",
    "\n"
   ]
  },
  {
   "cell_type": "code",
   "execution_count": 2,
   "outputs": [],
   "source": [
    "DATA_DIR = Path('..', 'data').resolve()\n",
    "INFO_PATH = DATA_DIR / 'library_static' / 'library_constituents_dataframe.pkl'\n",
    "MAPPING_PATH = DATA_DIR / 'buildingblocks' / 'compound_mapping.txt'\n",
    "EXP_PLAN_PATH = DATA_DIR / 'library_info' / 'synthesis_plan.json'\n",
    "DB_PATH = DATA_DIR / 'db' / '50k_project.db'\n",
    "STATIC_DIR = DATA_DIR / 'db' / 'static'"
   ],
   "metadata": {
    "collapsed": false,
    "pycharm": {
     "name": "#%%\n"
    }
   }
  },
  {
   "cell_type": "code",
   "execution_count": 3,
   "outputs": [
    {
     "name": "stdout",
     "output_type": "stream",
     "text": [
      "H done\n"
     ]
    }
   ],
   "source": [
    "# open the sdf.gz\n",
    "product_dicts = {}\n",
    "# for product_type in ['A', 'B', 'C', 'D', 'E', 'F', 'G', 'H']:\n",
    "for product_type in ['H']:  # I need this to update products H. The commented version is the original one.\n",
    "    counter = 0\n",
    "    product_dict = {}\n",
    "    with gzip.open(DATA_DIR / 'library_static' / f'product_{product_type}.sdf.gz') as file:\n",
    "        supplier = ForwardSDMolSupplier(file)\n",
    "        for i, mol in enumerate(supplier):\n",
    "            if mol is not None:\n",
    "\n",
    "                smiles = Chem.MolToSmiles(mol)\n",
    "                molecular_formula_1 = CalcMolFormula(mol)\n",
    "                mass_1 = CalcExactMolWt(mol)\n",
    "\n",
    "                product_dict[i] = (smiles, molecular_formula_1, mass_1)\n",
    "\n",
    "                # # now we need to match the mol with a database entry\n",
    "                # result = cur.execute('SELECT id FROM virtuallibrary WHERE long_name = ? AND type = ?;', [name, product_type]).fetchall()\n",
    "                # # check if we got exactly one id back\n",
    "                # try:\n",
    "                #     if len(result) == 0:\n",
    "                #         raise ValueError(f'No entry in DB for long name {name}')\n",
    "                #     elif len(result) > 1:\n",
    "                #         raise ValueError(f'Duplicate entry for long name {name} and type {product_type}. Offending entries: {result}')\n",
    "                #     # sine we now have the correct id, we can add the new info obtained from the sdf file\n",
    "                #     cur.execute('UPDATE virtuallibrary SET SMILES = ?, molecular_formula_1 = ?, lcms_mass_1 = ?  WHERE id = ?', (smiles, molecular_formula_1, mass_1, result[0][0]))\n",
    "                # except ValueError:\n",
    "                #     # only raise the error if the building block was used in 50k project\n",
    "                #     if name.split(' + ')[0] in compound_long_names and name.split(' + ')[1] in compound_long_names and name.split(' + ')[2] in compound_long_names:\n",
    "                #         raise ValueError(f'Failed on product {name}')\n",
    "    product_dicts[product_type] = product_dict\n",
    "    print(f'{product_type} done')"
   ],
   "metadata": {
    "collapsed": false,
    "pycharm": {
     "name": "#%%\n"
    }
   }
  },
  {
   "cell_type": "code",
   "execution_count": 6,
   "outputs": [],
   "source": [
    "# we need to infer names\n",
    "\n",
    "compounds = pd.read_pickle(DATA_DIR / 'library_info' / 'library_constituents_dataframe.pkl')\n",
    "remover = SaltRemover.SaltRemover()\n",
    "compounds['desalted'] = compounds.loc[:, 'mol'].apply(remover.StripMol)\n",
    "\n",
    "compounds['desalted_SMILES'] = compounds.loc[:, 'desalted'].apply(Chem.MolToSmiles)\n",
    "all_KAT = compounds[compounds.loc[:, 'Category'].str.startswith('I')]\n",
    "all_Mon = compounds[compounds.loc[:, 'Category'].str.startswith('M')]\n",
    "all_Spiro = compounds[compounds.loc[:, 'Compound Name'].str.startswith('Spiro')]\n",
    "all_Fused = compounds[compounds.loc[:, 'Compound Name'].str.startswith('Fused')]\n",
    "all_Sub = compounds[compounds.loc[:, 'Compound Name'].str.startswith('Mon')]\n",
    "all_TerTH = compounds[compounds.loc[:, 'Compound Name'].str.startswith('TerTH')]\n",
    "all_TerABT = compounds[compounds.loc[:, 'Compound Name'].str.startswith('TerABT')]\n",
    "\n",
    "I = all_KAT['desalted'].tolist()\n",
    "M = all_Mon['desalted'].tolist()\n",
    "fused = all_Fused['desalted'].tolist()\n",
    "spiro = all_Spiro['desalted'].tolist()\n",
    "sub = all_Sub['desalted'].tolist()\n",
    "T_TH = all_TerTH['desalted'].tolist()\n",
    "T_ABT = all_TerABT['desalted'].tolist()\n",
    "reactant_I = I\n",
    "reactant_M = M\n",
    "reactant_ABT = T_ABT\n",
    "reactant_TH = T_TH"
   ],
   "metadata": {
    "collapsed": false,
    "pycharm": {
     "name": "#%%\n"
    }
   }
  },
  {
   "cell_type": "code",
   "execution_count": 7,
   "outputs": [],
   "source": [
    "names = [f'{i.GetProp(\"_Name\")} + {m.GetProp(\"_Name\")} + {t.GetProp(\"_Name\")}'\n",
    "             for i in reactant_I\n",
    "             for m in reactant_M\n",
    "             for t in reactant_ABT\n",
    "             ]  # generate the names from reactant properties\n",
    "\n",
    "names2 = [f'{i.GetProp(\"_Name\")} + {m.GetProp(\"_Name\")} + {t.GetProp(\"_Name\")}'\n",
    "             for i in reactant_I\n",
    "             for m in reactant_M\n",
    "             for t in reactant_TH\n",
    "             ]  # generate the names from reactant properties\n",
    "\n",
    "all_names = names + names2"
   ],
   "metadata": {
    "collapsed": false,
    "pycharm": {
     "name": "#%%\n"
    }
   }
  },
  {
   "cell_type": "code",
   "execution_count": 8,
   "outputs": [
    {
     "data": {
      "text/plain": "236652"
     },
     "execution_count": 8,
     "metadata": {},
     "output_type": "execute_result"
    }
   ],
   "source": [
    "len(all_names)"
   ],
   "metadata": {
    "collapsed": false,
    "pycharm": {
     "name": "#%%\n"
    }
   }
  },
  {
   "cell_type": "code",
   "execution_count": 9,
   "outputs": [
    {
     "data": {
      "text/plain": "236652"
     },
     "execution_count": 9,
     "metadata": {},
     "output_type": "execute_result"
    }
   ],
   "source": [
    "len(product_dict)"
   ],
   "metadata": {
    "collapsed": false,
    "pycharm": {
     "name": "#%%\n"
    }
   }
  },
  {
   "cell_type": "code",
   "execution_count": 24,
   "outputs": [],
   "source": [
    "named_product_dict = {k:v for v, k in zip(product_dict.values(), all_names)}  # assign the name property"
   ],
   "metadata": {
    "collapsed": false,
    "pycharm": {
     "name": "#%%\n"
    }
   }
  },
  {
   "cell_type": "code",
   "execution_count": 22,
   "outputs": [
    {
     "name": "stdout",
     "output_type": "stream",
     "text": [
      "3-Pyr003 + Mon017 + TerABT009:('Cc1ccc2sc(C=CCCC(=O)OC(C)(C)C)nc2c1', 'C17H21NO2S', 303.129299912)\n",
      "Al002 + Mon082 + TerABT022:('CCOc1ccc2nc(C=CCc3cn(C(=O)OC(C)(C)C)c4ccccc34)sc2c1', 'C25H26N2O3S', 434.1664136919999)\n",
      "BiPh001 + Mon086 + TerABT017:('Brc1ccc2nc(C=Cc3cccnc3)sc2c1', 'C14H9BrN2S', 315.966981388)\n"
     ]
    }
   ],
   "source": [
    "# checks\n",
    "for i, (k, v) in enumerate(named_product_dict.items()):\n",
    "    if i in [15000, 50000, 34000]:\n",
    "        print(f'{k}:{v}')"
   ],
   "metadata": {
    "collapsed": false,
    "pycharm": {
     "name": "#%%\n"
    }
   }
  },
  {
   "cell_type": "code",
   "execution_count": 25,
   "outputs": [],
   "source": [
    "with open(DATA_DIR / 'library_static' / 'H_dict_named.pkl', 'wb') as file:\n",
    "    pkl.dump(named_product_dict, file)\n"
   ],
   "metadata": {
    "collapsed": false,
    "pycharm": {
     "name": "#%%\n"
    }
   }
  }
 ],
 "metadata": {
  "kernelspec": {
   "display_name": "Python 3",
   "language": "python",
   "name": "python3"
  },
  "language_info": {
   "codemirror_mode": {
    "name": "ipython",
    "version": 2
   },
   "file_extension": ".py",
   "mimetype": "text/x-python",
   "name": "python",
   "nbconvert_exporter": "python",
   "pygments_lexer": "ipython2",
   "version": "2.7.6"
  }
 },
 "nbformat": 4,
 "nbformat_minor": 0
}