{
 "cells": [
  {
   "cell_type": "markdown",
   "id": "295e0b34",
   "metadata": {
    "collapsed": true
   },
   "source": [
    "# SynFerm data preparation\n",
    "#### Targets:\n",
    "- Import experiment, representation, and target data from db\n",
    "- Export to CSV"
   ]
  },
  {
   "cell_type": "code",
   "execution_count": 39,
   "id": "69d02537",
   "metadata": {
    "ExecuteTime": {
     "end_time": "2023-09-05T08:46:24.570418Z",
     "start_time": "2023-09-05T08:46:24.562229Z"
    }
   },
   "outputs": [],
   "source": [
    "import datetime\n",
    "import json\n",
    "import pathlib\n",
    "import sys\n",
    "\n",
    "sys.path.append(str(pathlib.Path().resolve().parents[1]))\n",
    "\n",
    "import pandas as pd\n",
    "\n",
    "from src.util.db_utils import SynFermDatabaseConnection\n",
    "from src.definitions import DATA_DIR"
   ]
  },
  {
   "cell_type": "code",
   "execution_count": 2,
   "id": "95259c45",
   "metadata": {
    "ExecuteTime": {
     "end_time": "2023-09-05T08:11:06.448197Z",
     "start_time": "2023-09-05T08:11:06.437745Z"
    }
   },
   "outputs": [],
   "source": [
    "con = SynFermDatabaseConnection()  # we will use this for various simple queries"
   ]
  },
  {
   "cell_type": "markdown",
   "source": [
    "## Import data"
   ],
   "metadata": {
    "collapsed": false
   },
   "id": "c5e6a1125ac49b09"
  },
  {
   "cell_type": "code",
   "execution_count": 3,
   "id": "33d4dbab",
   "metadata": {
    "ExecuteTime": {
     "end_time": "2023-09-05T08:11:16.162255Z",
     "start_time": "2023-09-05T08:11:15.442635Z"
    }
   },
   "outputs": [
    {
     "name": "stdout",
     "output_type": "stream",
     "text": [
      "Number of reactions (in total): 40389\n"
     ]
    }
   ],
   "source": [
    "# note that we only select valid reactions by using the INNER JOIN with the labels table\n",
    "res = con.con.execute('SELECT e.id, r.I_long, r.M_long, r.T_long, r.product_A_smiles, r.I_smiles, r.M_smiles, r.T_smiles, r.reaction_smiles, r.reaction_smiles_atom_mapped, l.binary_A, l.binary_B, l.binary_C, l.binary_D, l.binary_E, l.binary_F, l.binary_G, l.binary_H, l.scaled_A, l.scaled_B, l.scaled_C, l.scaled_D, l.scaled_E, l.scaled_F, l.scaled_G, l.scaled_H, l.\"major_A-C\" FROM experiments e LEFT JOIN representations r on e.id = r.experiment_id INNER JOIN labels l on e.id = l.experiment_id;').fetchall()\n",
    "\n",
    "columns = [\"experiment_id\", \"I_long\", \"M_long\", \"T_long\", \"product_A_smiles\", \"I_smiles\", \"M_smiles\", \"T_smiles\", \"reaction_smiles\", \"reaction_smiles_atom_mapped\", \"binary_A\", \"binary_B\", \"binary_C\", \"binary_D\", \"binary_E\", \"binary_F\", \"binary_G\", \"binary_H\", \"scaled_A\", \"scaled_B\", \"scaled_C\", \"scaled_D\", \"scaled_E\", \"scaled_F\", \"scaled_G\", \"scaled_H\", \"major_A-C\"]\n",
    "df = pd.DataFrame(res, columns=columns)\n",
    "print(f'Number of reactions (in total): {len(df)}')"
   ]
  },
  {
   "cell_type": "code",
   "execution_count": 4,
   "id": "d26dc3a9",
   "metadata": {
    "scrolled": false,
    "ExecuteTime": {
     "end_time": "2023-09-05T08:11:18.503679Z",
     "start_time": "2023-09-05T08:11:18.475940Z"
    }
   },
   "outputs": [
    {
     "data": {
      "text/plain": "0"
     },
     "execution_count": 4,
     "metadata": {},
     "output_type": "execute_result"
    }
   ],
   "source": [
    "# doublecheck we don't have missing values\n",
    "df['scaled_A'].isna().sum()"
   ]
  },
  {
   "cell_type": "markdown",
   "source": [
    "## Aggregate duplicates\n",
    "For training, we want to remove duplicates from out data.\n",
    "To aggregate we follow these steps:\n",
    "1. Take the mean of the scaled values\n",
    "2. From the mean scaled values, calculate the binary labels and the major_A-C label"
   ],
   "metadata": {
    "collapsed": false
   },
   "id": "8570a4d684e78e59"
  },
  {
   "cell_type": "code",
   "execution_count": 5,
   "outputs": [
    {
     "data": {
      "text/plain": "371"
     },
     "execution_count": 5,
     "metadata": {},
     "output_type": "execute_result"
    }
   ],
   "source": [
    "# how many duplicates are there?\n",
    "df[\"product_A_smiles\"].duplicated().sum()"
   ],
   "metadata": {
    "collapsed": false,
    "ExecuteTime": {
     "end_time": "2023-09-05T08:11:56.105516Z",
     "start_time": "2023-09-05T08:11:56.099104Z"
    }
   },
   "id": "29a8a52a81fd9c73"
  },
  {
   "cell_type": "code",
   "execution_count": 8,
   "outputs": [
    {
     "data": {
      "text/plain": "   experiment_id I_long  M_long     T_long  \\\n0          10578  Ph023  Mon017   TerTH010   \n1          10579  Ph023  Mon017   TerTH026   \n2          10580  Ph023  Mon017   TerTH015   \n3          10581  Ph023  Mon017   TerTH020   \n4          10584  Ph023  Mon017  TerABT001   \n\n                                    product_A_smiles  \\\n0  CC(C)(C)OC(=O)CC[C@@H](Cc1nnc(C=Cc2ccccc2)s1)N...   \n1  CC(C)(C)OC(=O)CC[C@@H](Cc1nnc(-c2cn[nH]c2)s1)N...   \n2  CC(C)(C)OC(=O)CC[C@@H](Cc1nnc(-c2cc(Cl)cc(Cl)c...   \n3  CN(C)c1cccc(-c2nnc(C[C@H](CCC(=O)OC(C)(C)C)NC(...   \n4  CC(C)(C)OC(=O)CC[C@@H](Cc1nc2ccccc2s1)NC(=O)c1...   \n\n                            I_smiles  \\\n0  O=C(c1ccc(Cl)cc1)[B-](F)(F)F.[K+]   \n1  O=C(c1ccc(Cl)cc1)[B-](F)(F)F.[K+]   \n2  O=C(c1ccc(Cl)cc1)[B-](F)(F)F.[K+]   \n3  O=C(c1ccc(Cl)cc1)[B-](F)(F)F.[K+]   \n4  O=C(c1ccc(Cl)cc1)[B-](F)(F)F.[K+]   \n\n                                            M_smiles  \\\n0  CC(C)(C)OC(=O)CC[C@H]1C[C@]2(ON1)OC1(CCCCC1)OC2=O   \n1  CC(C)(C)OC(=O)CC[C@H]1C[C@]2(ON1)OC1(CCCCC1)OC2=O   \n2  CC(C)(C)OC(=O)CC[C@H]1C[C@]2(ON1)OC1(CCCCC1)OC2=O   \n3  CC(C)(C)OC(=O)CC[C@H]1C[C@]2(ON1)OC1(CCCCC1)OC2=O   \n4  CC(C)(C)OC(=O)CC[C@H]1C[C@]2(ON1)OC1(CCCCC1)OC2=O   \n\n                     T_smiles  \\\n0     Cl.NNC(=S)/C=C/c1ccccc1   \n1        Cl.NNC(=S)c1cn[nH]c1   \n2  Cl.NNC(=S)c1cc(Cl)cc(Cl)c1   \n3   CN(C)c1cccc(C(=S)NN)c1.Cl   \n4                  Nc1ccccc1S   \n\n                                     reaction_smiles  \\\n0  O=C(c1ccc(Cl)cc1)[B-](F)(F)F.CC(C)(C)OC(=O)CC[...   \n1  O=C(c1ccc(Cl)cc1)[B-](F)(F)F.CC(C)(C)OC(=O)CC[...   \n2  O=C(c1ccc(Cl)cc1)[B-](F)(F)F.CC(C)(C)OC(=O)CC[...   \n3  O=C(c1ccc(Cl)cc1)[B-](F)(F)F.CC(C)(C)OC(=O)CC[...   \n4  O=C(c1ccc(Cl)cc1)[B-](F)(F)F.CC(C)(C)OC(=O)CC[...   \n\n                         reaction_smiles_atom_mapped  ...  binary_H  scaled_A  \\\n0  F[B-](F)(F)[C:2]([c:1]1[cH:13][cH:15][c:17]([C...  ...       1.0  2.430935   \n1  F[B-](F)(F)[C:2]([c:1]1[cH:13][cH:15][c:17]([C...  ...       0.0  0.382317   \n2  F[B-](F)(F)[C:2]([c:1]1[cH:13][cH:15][c:17]([C...  ...       0.0  0.931135   \n3  F[B-](F)(F)[C:2]([c:1]1[cH:13][cH:15][c:17]([C...  ...       1.0  2.138999   \n4  F[B-](F)(F)[C:2]([c:1]1[cH:16][cH:18][c:20]([C...  ...       1.0  2.400752   \n\n   scaled_B  scaled_C  scaled_D  scaled_E  scaled_F  scaled_G  scaled_H  \\\n0  1.277949  0.285254  0.000000  0.413053  0.232611  5.452566  0.290557   \n1  0.926318  0.240020  0.000000  0.064906  0.339427  5.693844  0.000000   \n2  0.867479  0.042005  0.000000  0.000000  0.291865  5.596290  0.000000   \n3  2.543982  0.074154  0.000830  0.283941  0.321137  6.585098  0.213757   \n4  0.011716  0.000000  0.001561  0.209155  1.204209  7.226035  0.811754   \n\n   major_A-C  \n0          A  \n1          B  \n2          A  \n3          B  \n4          A  \n\n[5 rows x 27 columns]",
      "text/html": "<div>\n<style scoped>\n    .dataframe tbody tr th:only-of-type {\n        vertical-align: middle;\n    }\n\n    .dataframe tbody tr th {\n        vertical-align: top;\n    }\n\n    .dataframe thead th {\n        text-align: right;\n    }\n</style>\n<table border=\"1\" class=\"dataframe\">\n  <thead>\n    <tr style=\"text-align: right;\">\n      <th></th>\n      <th>experiment_id</th>\n      <th>I_long</th>\n      <th>M_long</th>\n      <th>T_long</th>\n      <th>product_A_smiles</th>\n      <th>I_smiles</th>\n      <th>M_smiles</th>\n      <th>T_smiles</th>\n      <th>reaction_smiles</th>\n      <th>reaction_smiles_atom_mapped</th>\n      <th>...</th>\n      <th>binary_H</th>\n      <th>scaled_A</th>\n      <th>scaled_B</th>\n      <th>scaled_C</th>\n      <th>scaled_D</th>\n      <th>scaled_E</th>\n      <th>scaled_F</th>\n      <th>scaled_G</th>\n      <th>scaled_H</th>\n      <th>major_A-C</th>\n    </tr>\n  </thead>\n  <tbody>\n    <tr>\n      <th>0</th>\n      <td>10578</td>\n      <td>Ph023</td>\n      <td>Mon017</td>\n      <td>TerTH010</td>\n      <td>CC(C)(C)OC(=O)CC[C@@H](Cc1nnc(C=Cc2ccccc2)s1)N...</td>\n      <td>O=C(c1ccc(Cl)cc1)[B-](F)(F)F.[K+]</td>\n      <td>CC(C)(C)OC(=O)CC[C@H]1C[C@]2(ON1)OC1(CCCCC1)OC2=O</td>\n      <td>Cl.NNC(=S)/C=C/c1ccccc1</td>\n      <td>O=C(c1ccc(Cl)cc1)[B-](F)(F)F.CC(C)(C)OC(=O)CC[...</td>\n      <td>F[B-](F)(F)[C:2]([c:1]1[cH:13][cH:15][c:17]([C...</td>\n      <td>...</td>\n      <td>1.0</td>\n      <td>2.430935</td>\n      <td>1.277949</td>\n      <td>0.285254</td>\n      <td>0.000000</td>\n      <td>0.413053</td>\n      <td>0.232611</td>\n      <td>5.452566</td>\n      <td>0.290557</td>\n      <td>A</td>\n    </tr>\n    <tr>\n      <th>1</th>\n      <td>10579</td>\n      <td>Ph023</td>\n      <td>Mon017</td>\n      <td>TerTH026</td>\n      <td>CC(C)(C)OC(=O)CC[C@@H](Cc1nnc(-c2cn[nH]c2)s1)N...</td>\n      <td>O=C(c1ccc(Cl)cc1)[B-](F)(F)F.[K+]</td>\n      <td>CC(C)(C)OC(=O)CC[C@H]1C[C@]2(ON1)OC1(CCCCC1)OC2=O</td>\n      <td>Cl.NNC(=S)c1cn[nH]c1</td>\n      <td>O=C(c1ccc(Cl)cc1)[B-](F)(F)F.CC(C)(C)OC(=O)CC[...</td>\n      <td>F[B-](F)(F)[C:2]([c:1]1[cH:13][cH:15][c:17]([C...</td>\n      <td>...</td>\n      <td>0.0</td>\n      <td>0.382317</td>\n      <td>0.926318</td>\n      <td>0.240020</td>\n      <td>0.000000</td>\n      <td>0.064906</td>\n      <td>0.339427</td>\n      <td>5.693844</td>\n      <td>0.000000</td>\n      <td>B</td>\n    </tr>\n    <tr>\n      <th>2</th>\n      <td>10580</td>\n      <td>Ph023</td>\n      <td>Mon017</td>\n      <td>TerTH015</td>\n      <td>CC(C)(C)OC(=O)CC[C@@H](Cc1nnc(-c2cc(Cl)cc(Cl)c...</td>\n      <td>O=C(c1ccc(Cl)cc1)[B-](F)(F)F.[K+]</td>\n      <td>CC(C)(C)OC(=O)CC[C@H]1C[C@]2(ON1)OC1(CCCCC1)OC2=O</td>\n      <td>Cl.NNC(=S)c1cc(Cl)cc(Cl)c1</td>\n      <td>O=C(c1ccc(Cl)cc1)[B-](F)(F)F.CC(C)(C)OC(=O)CC[...</td>\n      <td>F[B-](F)(F)[C:2]([c:1]1[cH:13][cH:15][c:17]([C...</td>\n      <td>...</td>\n      <td>0.0</td>\n      <td>0.931135</td>\n      <td>0.867479</td>\n      <td>0.042005</td>\n      <td>0.000000</td>\n      <td>0.000000</td>\n      <td>0.291865</td>\n      <td>5.596290</td>\n      <td>0.000000</td>\n      <td>A</td>\n    </tr>\n    <tr>\n      <th>3</th>\n      <td>10581</td>\n      <td>Ph023</td>\n      <td>Mon017</td>\n      <td>TerTH020</td>\n      <td>CN(C)c1cccc(-c2nnc(C[C@H](CCC(=O)OC(C)(C)C)NC(...</td>\n      <td>O=C(c1ccc(Cl)cc1)[B-](F)(F)F.[K+]</td>\n      <td>CC(C)(C)OC(=O)CC[C@H]1C[C@]2(ON1)OC1(CCCCC1)OC2=O</td>\n      <td>CN(C)c1cccc(C(=S)NN)c1.Cl</td>\n      <td>O=C(c1ccc(Cl)cc1)[B-](F)(F)F.CC(C)(C)OC(=O)CC[...</td>\n      <td>F[B-](F)(F)[C:2]([c:1]1[cH:13][cH:15][c:17]([C...</td>\n      <td>...</td>\n      <td>1.0</td>\n      <td>2.138999</td>\n      <td>2.543982</td>\n      <td>0.074154</td>\n      <td>0.000830</td>\n      <td>0.283941</td>\n      <td>0.321137</td>\n      <td>6.585098</td>\n      <td>0.213757</td>\n      <td>B</td>\n    </tr>\n    <tr>\n      <th>4</th>\n      <td>10584</td>\n      <td>Ph023</td>\n      <td>Mon017</td>\n      <td>TerABT001</td>\n      <td>CC(C)(C)OC(=O)CC[C@@H](Cc1nc2ccccc2s1)NC(=O)c1...</td>\n      <td>O=C(c1ccc(Cl)cc1)[B-](F)(F)F.[K+]</td>\n      <td>CC(C)(C)OC(=O)CC[C@H]1C[C@]2(ON1)OC1(CCCCC1)OC2=O</td>\n      <td>Nc1ccccc1S</td>\n      <td>O=C(c1ccc(Cl)cc1)[B-](F)(F)F.CC(C)(C)OC(=O)CC[...</td>\n      <td>F[B-](F)(F)[C:2]([c:1]1[cH:16][cH:18][c:20]([C...</td>\n      <td>...</td>\n      <td>1.0</td>\n      <td>2.400752</td>\n      <td>0.011716</td>\n      <td>0.000000</td>\n      <td>0.001561</td>\n      <td>0.209155</td>\n      <td>1.204209</td>\n      <td>7.226035</td>\n      <td>0.811754</td>\n      <td>A</td>\n    </tr>\n  </tbody>\n</table>\n<p>5 rows × 27 columns</p>\n</div>"
     },
     "execution_count": 8,
     "metadata": {},
     "output_type": "execute_result"
    }
   ],
   "source": [
    "df.head()"
   ],
   "metadata": {
    "collapsed": false,
    "ExecuteTime": {
     "end_time": "2023-09-05T08:20:56.898178Z",
     "start_time": "2023-09-05T08:20:56.893129Z"
    }
   },
   "id": "a807e118057e67b"
  },
  {
   "cell_type": "code",
   "execution_count": 37,
   "outputs": [
    {
     "data": {
      "text/plain": "40018"
     },
     "execution_count": 37,
     "metadata": {},
     "output_type": "execute_result"
    }
   ],
   "source": [
    "# aggregate duplicates\n",
    "group = df.groupby([\"I_long\", \"M_long\", \"T_long\", \"product_A_smiles\", \"I_smiles\", \"M_smiles\", \"T_smiles\", \"reaction_smiles\", \"reaction_smiles_atom_mapped\"])\n",
    "\n",
    "# take the mean of the scaled values\n",
    "scaled_responses = group[[f\"scaled_{i}\" for i in \"ABCDEFGH\"]].mean()\n",
    "\n",
    "# reassign the binary labels\n",
    "binary_responses = scaled_responses.applymap(lambda x: 1 if x > 0.5 else 0).rename(columns={f\"scaled_{i}\": f\"binary_{i}\" for i in \"ABCDEFGH\"})\n",
    "\n",
    "# reassign the major_A-C label\n",
    "major = scaled_responses[[f\"scaled_{i}\" for i in \"ABC\"]].idxmax(axis=1).str.strip(\"scaled_\").rename(\"major_A-C\")\n",
    "major.loc[scaled_responses[[f\"scaled_{i}\" for i in \"ABC\"]].sum(axis=1) == 0] = \"no_product\"\n",
    "\n",
    "# merge the results\n",
    "exp_nr = group[\"experiment_id\"].agg(lambda x: x if len(x) == 1 else \"/\".join([str(i) for i in x]))\n",
    "df = pd.merge(exp_nr, binary_responses, left_index=True, right_index=True).merge(scaled_responses, left_index=True, right_index=True).merge(major, left_index=True, right_index=True).reset_index()\n",
    "# length should be original length minus number of duplicates\n",
    "len(df)"
   ],
   "metadata": {
    "collapsed": false,
    "ExecuteTime": {
     "end_time": "2023-09-05T08:45:16.195894Z",
     "start_time": "2023-09-05T08:45:15.491649Z"
    }
   },
   "id": "bd3eed808ddce067"
  },
  {
   "cell_type": "markdown",
   "id": "8a096a33",
   "metadata": {},
   "source": [
    "## Export\n",
    "Now we have a cleaned dataset. Export to CSV."
   ]
  },
  {
   "cell_type": "code",
   "execution_count": 42,
   "outputs": [],
   "source": [
    "# export to CSV, with timestamp\n",
    "df.to_csv(DATA_DIR / \"curated_data\" / f\"synferm_dataset_{datetime.datetime.today().strftime('%Y-%m-%d')}_{len(df)}records.csv\", index=False)"
   ],
   "metadata": {
    "collapsed": false,
    "ExecuteTime": {
     "end_time": "2023-09-05T08:47:37.352028Z",
     "start_time": "2023-09-05T08:47:36.668089Z"
    }
   },
   "id": "a706a6a2a07237ad"
  },
  {
   "cell_type": "markdown",
   "source": [
    "Export the same data as hierarchically nested JSON (for d3.js visualizations)\n",
    "Note: takes a few minutes to run"
   ],
   "metadata": {
    "collapsed": false
   },
   "id": "4499899beec7192e"
  },
  {
   "cell_type": "code",
   "execution_count": 44,
   "outputs": [
    {
     "name": "stdout",
     "output_type": "stream",
     "text": [
      "2-Pyr003\n",
      "2-Pyr006\n",
      "2-Pyr007\n",
      "2-Pyr008\n",
      "2-Pyr009\n",
      "2-Pyr010\n",
      "2-Thio001\n",
      "3-Fur001\n",
      "3-Pyr002\n",
      "3-Pyr003\n",
      "3-Pyr004\n",
      "3-Thio001\n",
      "4-Pym001\n",
      "4-Pyr002\n",
      "4-Pyrazole001\n",
      "5-Quin001\n",
      "6-Quin001\n",
      "8-Quin003\n",
      "8-Quin004\n",
      "8-Quin005\n",
      "8-Quin008\n",
      "Al001\n",
      "Al002\n",
      "Al003\n",
      "Al004\n",
      "Al005\n",
      "Al007\n",
      "Al013\n",
      "Al036\n",
      "Al038\n",
      "BiAl007\n",
      "BiAl008\n",
      "BiAl009\n",
      "BiPh001\n",
      "BiPh002\n",
      "BiPh004\n",
      "BiPh006\n",
      "BiPh007\n",
      "BiPh010\n",
      "BiPh011\n",
      "BiPyr001\n",
      "BiPyr004\n",
      "Ph001\n",
      "Ph002\n",
      "Ph005\n",
      "Ph006\n",
      "Ph007\n",
      "Ph009\n",
      "Ph010\n",
      "Ph013\n",
      "Ph017\n",
      "Ph018\n",
      "Ph020\n",
      "Ph021\n",
      "Ph022\n",
      "Ph023\n",
      "Ph024\n",
      "Ph025\n",
      "Ph026\n",
      "Ph027\n",
      "Ph028\n",
      "Ph030\n",
      "Ph031\n",
      "Ph033\n",
      "Ph034\n",
      "Pyrazine001\n",
      "Pyrazine002\n"
     ]
    }
   ],
   "source": [
    "# create nested dictionary for JSON export\n",
    "res = {\"name\": \"synfermdata\", \"children\": []}\n",
    "\n",
    "for i in df[\"I_long\"].unique():\n",
    "    print(i)  # show progress\n",
    "    res[\"children\"].append({\"name\": i, \"children\": []})\n",
    "    for m in df.loc[df[\"I_long\"] == i, \"M_long\"].unique():\n",
    "        res[\"children\"][-1][\"children\"].append({\"name\": m, \"children\": []})\n",
    "        for t in df.loc[(df[\"I_long\"] == i) & (df[\"M_long\"] == m), \"T_long\"].unique():\n",
    "            values = df.loc[(df[\"I_long\"] == i) & (df[\"M_long\"] == m) & (df[\"T_long\"] == t), [\"scaled_A\", 'scaled_B', \"scaled_C\"]].values.flatten().tolist()\n",
    "            res[\"children\"][-1][\"children\"][-1][\"children\"].append(\n",
    "                {\"name\": t, \"children\": \n",
    "                    [{\"name\": \"A\", \"value\": values[0]}, {\"name\": \"B\", \"value\": values[1]}, {\"name\": \"C\", \"value\": values[2]}]})"
   ],
   "metadata": {
    "collapsed": false,
    "ExecuteTime": {
     "end_time": "2023-09-05T08:52:40.911181Z",
     "start_time": "2023-09-05T08:49:50.927478Z"
    }
   },
   "id": "cd59d5f6096b0b33"
  },
  {
   "cell_type": "code",
   "execution_count": 46,
   "outputs": [],
   "source": [
    "# export to JSON\n",
    "with open(DATA_DIR / \"curated_data\" / f\"synferm_dataset_{datetime.datetime.today().strftime('%Y-%m-%d')}_{len(df)}records.json\", \"w\") as outfile:\n",
    "    json.dump(res, outfile)"
   ],
   "metadata": {
    "collapsed": false,
    "ExecuteTime": {
     "end_time": "2023-09-05T08:53:51.086937Z",
     "start_time": "2023-09-05T08:53:50.497267Z"
    }
   },
   "id": "71ed2eb8ee1919ae"
  }
 ],
 "metadata": {
  "kernelspec": {
   "display_name": "Python 3 (ipykernel)",
   "language": "python",
   "name": "python3"
  },
  "language_info": {
   "codemirror_mode": {
    "name": "ipython",
    "version": 3
   },
   "file_extension": ".py",
   "mimetype": "text/x-python",
   "name": "python",
   "nbconvert_exporter": "python",
   "pygments_lexer": "ipython3",
   "version": "3.9.16"
  }
 },
 "nbformat": 4,
 "nbformat_minor": 5
}
