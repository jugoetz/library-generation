{
 "cells": [
  {
   "cell_type": "code",
   "execution_count": 2,
   "outputs": [],
   "source": [
    "import numpy as np\n",
    "import re"
   ],
   "metadata": {
    "collapsed": false,
    "ExecuteTime": {
     "end_time": "2023-06-29T15:11:06.589902Z",
     "start_time": "2023-06-29T15:11:06.486871Z"
    }
   }
  },
  {
   "cell_type": "code",
   "execution_count": 1,
   "metadata": {
    "collapsed": true,
    "ExecuteTime": {
     "end_time": "2023-06-29T15:11:06.485880Z",
     "start_time": "2023-06-29T15:11:06.483098Z"
    }
   },
   "outputs": [],
   "source": [
    "# definitions\n",
    "m_c=12.\n",
    "m_h=1.0078\n",
    "m_o=15.9949\n",
    "m_n=14.0031\n",
    "m_s=31.9721\n",
    "m_f=18.9984\n",
    "m_b=11.0093\n",
    "m_br=78.9183\n",
    "m_cl=34.9689\n",
    "x_c=range(13)\n",
    "x_h=range(13)\n",
    "x_o=range(7)\n",
    "x_n=range(7)\n",
    "x_s=range(3)\n",
    "x_f=range(2)\n",
    "x_b=range(2)\n",
    "x_br=range(2)\n",
    "x_cl=range(2)"
   ]
  },
  {
   "cell_type": "code",
   "execution_count": 4,
   "outputs": [
    {
     "data": {
      "text/plain": "397488"
     },
     "execution_count": 4,
     "metadata": {},
     "output_type": "execute_result"
    }
   ],
   "source": [
    "res = [(f\"C{i}H{j}O{k}N{l}S{m}F{n}Br{o}Cl{p}B{q}\", m_c * i + m_h * j + m_o * k + m_n * l + m_s * m + m_f * n + m_br * o + m_cl * p + m_b * q) for i in x_c for j in x_h for k in x_o for l in x_n for m in x_s for n in x_f for o in x_br for p in x_cl for q in x_b]\n",
    "len(res)"
   ],
   "metadata": {
    "collapsed": false,
    "ExecuteTime": {
     "end_time": "2023-06-29T15:11:44.533835Z",
     "start_time": "2023-06-29T15:11:44.186186Z"
    }
   }
  },
  {
   "cell_type": "code",
   "execution_count": 5,
   "outputs": [],
   "source": [
    "formula_arr = np.array([i[0] for i in res])\n",
    "m_arr = np.array([i[1] for i in res])"
   ],
   "metadata": {
    "collapsed": false,
    "ExecuteTime": {
     "end_time": "2023-06-29T15:12:01.455665Z",
     "start_time": "2023-06-29T15:12:01.398304Z"
    }
   }
  },
  {
   "cell_type": "code",
   "execution_count": 7,
   "outputs": [],
   "source": [
    "def remove_zeros(string):\n",
    "    modified_string = re.sub(r'\\D*0', '', string)\n",
    "    return modified_string"
   ],
   "metadata": {
    "collapsed": false,
    "ExecuteTime": {
     "end_time": "2023-06-29T15:12:14.817691Z",
     "start_time": "2023-06-29T15:12:14.813567Z"
    }
   }
  },
  {
   "cell_type": "code",
   "execution_count": 8,
   "outputs": [],
   "source": [
    "formula_arr = np.vectorize(remove_zeros)(formula_arr)"
   ],
   "metadata": {
    "collapsed": false,
    "ExecuteTime": {
     "end_time": "2023-06-29T15:12:28.345008Z",
     "start_time": "2023-06-29T15:12:27.808878Z"
    }
   }
  },
  {
   "cell_type": "code",
   "execution_count": 13,
   "outputs": [
    {
     "name": "stdout",
     "output_type": "stream",
     "text": [
      "C1H1O1N3\n",
      "C3H12O2\n"
     ]
    },
    {
     "data": {
      "text/plain": "[None, None]"
     },
     "execution_count": 13,
     "metadata": {},
     "output_type": "execute_result"
    }
   ],
   "source": [
    "search_mass = 80.0843  # change me!\n",
    "\n",
    "[print(s) for s in formula_arr[np.isclose(m_arr, search_mass, atol=0.002)]]"
   ],
   "metadata": {
    "collapsed": false,
    "ExecuteTime": {
     "end_time": "2023-06-29T15:13:44.345300Z",
     "start_time": "2023-06-29T15:13:44.340405Z"
    }
   }
  },
  {
   "cell_type": "code",
   "execution_count": null,
   "outputs": [],
   "source": [],
   "metadata": {
    "collapsed": false
   }
  }
 ],
 "metadata": {
  "kernelspec": {
   "display_name": "Python 3",
   "language": "python",
   "name": "python3"
  },
  "language_info": {
   "codemirror_mode": {
    "name": "ipython",
    "version": 2
   },
   "file_extension": ".py",
   "mimetype": "text/x-python",
   "name": "python",
   "nbconvert_exporter": "python",
   "pygments_lexer": "ipython2",
   "version": "2.7.6"
  }
 },
 "nbformat": 4,
 "nbformat_minor": 0
}
