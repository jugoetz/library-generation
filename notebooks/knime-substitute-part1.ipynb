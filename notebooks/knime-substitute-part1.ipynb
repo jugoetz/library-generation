{
 "cells": [
  {
   "cell_type": "markdown",
   "source": [
    "\n",
    "#### This has been implemented as python script in inventorytosdf.py\n",
    "\n",
    "### What does the Schrödinger workflow do?\n",
    "- Read in sdfs\n",
    "- MM\n",
    "- ionize at pH 7\n",
    "- desalt\n",
    "- generate tautomers\n",
    "- retain chirality as specified in input\n",
    "- reaction-based enumeration\n",
    "### What is the rdkit equivalent to this?\n",
    "- take the df of mols\n",
    "- desalt\n",
    "- chirality: watch out for weird consequences of the sometimes unassigned spiro center\n",
    "- reaction enumeration\n",
    "\n",
    "### What does Yu's second script (SDFtoFormula) do?\n",
    "- Read in SDFs\n",
    "- Calculate molecular formula\n",
    "- write to file"
   ],
   "metadata": {
    "collapsed": false
   }
  },
  {
   "cell_type": "code",
   "execution_count": null,
   "outputs": [],
   "source": [
    "from rdkit import Chem\n",
    "from rdkit.Chem import Draw, SaltRemover, AllChem, FunctionalGroups, rdFMCS, DetectChemistryProblems\n",
    "from rdkit.Chem.SimpleEnum.Enumerator import EnumerateReaction\n",
    "from pathlib import Path\n",
    "import pandas as pd"
   ],
   "metadata": {
    "collapsed": false,
    "pycharm": {
     "name": "#%%\n"
    }
   }
  },
  {
   "cell_type": "code",
   "execution_count": null,
   "outputs": [],
   "source": [
    "DATA_DIR = Path('..', 'data').resolve()\n",
    "OUTPUT_DIR = DATA_DIR / 'outputs'"
   ],
   "metadata": {
    "collapsed": false,
    "pycharm": {
     "name": "#%%\n"
    }
   }
  },
  {
   "cell_type": "code",
   "execution_count": null,
   "outputs": [],
   "source": [
    "compounds = pd.read_csv(OUTPUT_DIR / 'inventory_compounds.csv')\n",
    "compounds"
   ],
   "metadata": {
    "collapsed": false,
    "pycharm": {
     "name": "#%%\n"
    }
   }
  },
  {
   "cell_type": "code",
   "execution_count": null,
   "outputs": [],
   "source": [
    "compounds['mol'] = compounds['SMILES'].apply(Chem.MolFromSmiles)\n",
    "compounds"
   ],
   "metadata": {
    "collapsed": false,
    "pycharm": {
     "name": "#%%\n"
    }
   }
  },
  {
   "cell_type": "code",
   "execution_count": null,
   "outputs": [],
   "source": [
    "compounds['img'] = compounds['mol'].apply(Draw.MolToImage)\n",
    "compounds"
   ],
   "metadata": {
    "collapsed": false,
    "pycharm": {
     "name": "#%%\n"
    }
   }
  },
  {
   "cell_type": "code",
   "execution_count": null,
   "outputs": [],
   "source": [
    "compounds['weigh-in [mg] / 100 µL'] = compounds['MW [g/mol]'].apply(lambda x: round(x * 1e-4 * 0.05 * 1000, 2))\n",
    "compounds"
   ],
   "metadata": {
    "collapsed": false,
    "pycharm": {
     "name": "#%%\n"
    }
   }
  },
  {
   "cell_type": "markdown",
   "source": [
    "### Generate outputs"
   ],
   "metadata": {
    "collapsed": false
   }
  },
  {
   "cell_type": "code",
   "execution_count": null,
   "outputs": [],
   "source": [
    "# output to Excel\n",
    "compounds.drop(columns=['mol', 'img'], inplace=False).to_excel(OUTPUT_DIR / 'inventory_compounds_extended.xlsx')"
   ],
   "metadata": {
    "collapsed": false,
    "pycharm": {
     "name": "#%%\n"
    }
   }
  },
  {
   "cell_type": "code",
   "execution_count": null,
   "outputs": [],
   "source": [
    "# output to molecule images\n",
    "for i, data in compounds.iterrows():\n",
    "    with open(DATA_DIR / 'images' / ''.join([data.loc['Compound Name'], '.png']), 'wb') as file:\n",
    "        data.loc['img'].save(file)"
   ],
   "metadata": {
    "collapsed": false,
    "pycharm": {
     "name": "#%%\n"
    }
   }
  },
  {
   "cell_type": "code",
   "execution_count": null,
   "outputs": [],
   "source": [
    "# output to SDF\n",
    "with open(OUTPUT_DIR / 'sdf' / 'initiators.sdf', 'w') as file_i,\\\n",
    "    open(OUTPUT_DIR / 'sdf' / 'monomers.sdf', 'w') as file_m,\\\n",
    "    open(OUTPUT_DIR / 'sdf' / 'terminators.sdf', 'w') as file_t:\n",
    "    writer_i = Chem.SDWriter(file_i)\n",
    "    writer_m = Chem.SDWriter(file_m)\n",
    "    writer_t = Chem.SDWriter(file_t)\n",
    "    for i, data in compounds.iterrows():\n",
    "        if data.loc['Category'] == 'I':\n",
    "            writer_i.write(data.loc['mol'])\n",
    "        if data.loc['Category'] == 'M':\n",
    "            writer_m.write(data.loc['mol'])\n",
    "        if data.loc['Category'] == 'T':\n",
    "            writer_t.write(data.loc['mol'])"
   ],
   "metadata": {
    "collapsed": false,
    "pycharm": {
     "name": "#%%\n"
    }
   }
  },
  {
   "cell_type": "code",
   "execution_count": null,
   "outputs": [],
   "source": [
    "# dump df\n",
    "compounds.to_pickle(OUTPUT_DIR / 'library_constituents_dataframe.pkl')\n"
   ],
   "metadata": {
    "collapsed": false,
    "pycharm": {
     "name": "#%%\n"
    }
   }
  }
 ],
 "metadata": {
  "kernelspec": {
   "name": "python3",
   "language": "python",
   "display_name": "Python 3"
  },
  "language_info": {
   "codemirror_mode": {
    "name": "ipython",
    "version": 2
   },
   "file_extension": ".py",
   "mimetype": "text/x-python",
   "name": "python",
   "nbconvert_exporter": "python",
   "pygments_lexer": "ipython2",
   "version": "2.7.6"
  }
 },
 "nbformat": 4,
 "nbformat_minor": 0
}