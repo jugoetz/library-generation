{
 "cells": [
  {
   "cell_type": "markdown",
   "id": "600d5503",
   "metadata": {},
   "source": [
    "# Initial attempt to learn from SF data\n",
    "\n",
    "We use only part of the data (exp22-24) and a basic algorithm (Ridge regression)"
   ]
  },
  {
   "cell_type": "code",
   "execution_count": 1,
   "id": "00abe202",
   "metadata": {},
   "outputs": [],
   "source": [
    "import sys\n",
    "import os\n",
    "\n",
    "import numpy as np\n",
    "import pandas as pd\n",
    "import sqlite3\n",
    "from rdkit import Chem\n",
    "from rdkit.Chem.Descriptors import rdMolDescriptors\n",
    "from sklearn.linear_model import Ridge, LogisticRegression\n",
    "from sklearn.model_selection import train_test_split\n",
    "from sklearn.metrics import r2_score, mean_absolute_error, mean_squared_error, accuracy_score\n",
    "from sklearn.preprocessing import StandardScaler\n",
    "import matplotlib.pyplot as plt\n",
    "from matplotlib import cm\n",
    "\n",
    "sys.path.insert(0, os.path.abspath('../..'))\n",
    "\n",
    "from src.definitions import DB_PATH\n",
    "from src.util.db_utils import MyDatabaseConnection"
   ]
  },
  {
   "cell_type": "code",
   "execution_count": 2,
   "id": "a1518bc9",
   "metadata": {},
   "outputs": [],
   "source": [
    "db = MyDatabaseConnection()  # we will use this for various simple queries"
   ]
  },
  {
   "cell_type": "code",
   "execution_count": 3,
   "id": "746e38f3",
   "metadata": {},
   "outputs": [
    {
     "name": "stdout",
     "output_type": "stream",
     "text": [
      "Number of reactions (in total): 58664\n"
     ]
    }
   ],
   "source": [
    "con = sqlite3.connect(DB_PATH)\n",
    "df_full = pd.read_sql('SELECT * FROM experiments', con, index_col='id', coerce_float=False)\n",
    "con.close()\n",
    "print(f'Number of reactions (in total): {len(df_full)}')"
   ]
  },
  {
   "cell_type": "code",
   "execution_count": 4,
   "id": "2793859d",
   "metadata": {},
   "outputs": [
    {
     "name": "stdout",
     "output_type": "stream",
     "text": [
      "Number of reactions considered here: 26560\n"
     ]
    }
   ],
   "source": [
    "# select experiment numbers for further analysis\n",
    "start_exp_nr = 14\n",
    "end_exp_nr = 27  # (inclusive)\n",
    "\n",
    "df_full = df_full.loc[df_full['exp_nr'].between(start_exp_nr, end_exp_nr)]  # kick out invalid experiments (SOP changed after exp3)\n",
    "df_full = df_full.loc[~(df_full['lab_journal_number'] == \"JG335\")]\n",
    "                      \n",
    "print(f'Number of reactions considered here: {len(df_full)}')"
   ]
  },
  {
   "cell_type": "code",
   "execution_count": 5,
   "id": "47d76dd4",
   "metadata": {},
   "outputs": [],
   "source": [
    "descriptor_names = list(rdMolDescriptors.Properties.GetAvailableProperties())\n",
    "\n",
    "get_descriptors = rdMolDescriptors.Properties(descriptor_names)\n",
    "\n",
    "def smi_to_descriptors(smile):\n",
    "    mol = Chem.MolFromSmiles(smile)\n",
    "    descriptors = []\n",
    "    if mol:\n",
    "        descriptors = np.array(get_descriptors.ComputeProperties(mol))\n",
    "    return descriptors"
   ]
  },
  {
   "cell_type": "code",
   "execution_count": 6,
   "id": "12389f8f",
   "metadata": {},
   "outputs": [],
   "source": [
    "df_full['descriptors'] = df_full[\"product_A_smiles\"].apply(smi_to_descriptors)"
   ]
  },
  {
   "cell_type": "code",
   "execution_count": 7,
   "id": "123ee0a4",
   "metadata": {
    "scrolled": true
   },
   "outputs": [
    {
     "data": {
      "text/html": [
       "<div>\n",
       "<style scoped>\n",
       "    .dataframe tbody tr th:only-of-type {\n",
       "        vertical-align: middle;\n",
       "    }\n",
       "\n",
       "    .dataframe tbody tr th {\n",
       "        vertical-align: top;\n",
       "    }\n",
       "\n",
       "    .dataframe thead th {\n",
       "        text-align: right;\n",
       "    }\n",
       "</style>\n",
       "<table border=\"1\" class=\"dataframe\">\n",
       "  <thead>\n",
       "    <tr style=\"text-align: right;\">\n",
       "      <th></th>\n",
       "      <th>exp_nr</th>\n",
       "      <th>plate_nr</th>\n",
       "      <th>well</th>\n",
       "      <th>lab_journal_number</th>\n",
       "      <th>synthesis_date_unixepoch</th>\n",
       "      <th>initiator</th>\n",
       "      <th>monomer</th>\n",
       "      <th>terminator</th>\n",
       "      <th>initiator_long</th>\n",
       "      <th>monomer_long</th>\n",
       "      <th>...</th>\n",
       "      <th>product_B_smiles</th>\n",
       "      <th>product_C_smiles</th>\n",
       "      <th>product_D_smiles</th>\n",
       "      <th>product_E_smiles</th>\n",
       "      <th>product_F_smiles</th>\n",
       "      <th>product_G_smiles</th>\n",
       "      <th>product_H_smiles</th>\n",
       "      <th>vl_id</th>\n",
       "      <th>valid</th>\n",
       "      <th>descriptors</th>\n",
       "    </tr>\n",
       "    <tr>\n",
       "      <th>id</th>\n",
       "      <th></th>\n",
       "      <th></th>\n",
       "      <th></th>\n",
       "      <th></th>\n",
       "      <th></th>\n",
       "      <th></th>\n",
       "      <th></th>\n",
       "      <th></th>\n",
       "      <th></th>\n",
       "      <th></th>\n",
       "      <th></th>\n",
       "      <th></th>\n",
       "      <th></th>\n",
       "      <th></th>\n",
       "      <th></th>\n",
       "      <th></th>\n",
       "      <th></th>\n",
       "      <th></th>\n",
       "      <th></th>\n",
       "      <th></th>\n",
       "      <th></th>\n",
       "    </tr>\n",
       "  </thead>\n",
       "  <tbody>\n",
       "    <tr>\n",
       "      <th>33682</th>\n",
       "      <td>14</td>\n",
       "      <td>4</td>\n",
       "      <td>A10</td>\n",
       "      <td>JG312</td>\n",
       "      <td>2022-03-29</td>\n",
       "      <td>I67</td>\n",
       "      <td>M11</td>\n",
       "      <td>T41</td>\n",
       "      <td>Ph023</td>\n",
       "      <td>Mon003</td>\n",
       "      <td>...</td>\n",
       "      <td>CC(C)C[C@@H](CC1(C(=O)O)NN=C(c2cccnc2)S1)NC(=O...</td>\n",
       "      <td>CC(C)C[C@H]1CC2(C(=O)[O-])SC(c3cccnc3)=N[N+]2=...</td>\n",
       "      <td>Clc1ccc(-c2nnc(-c3cccnc3)s2)cc1</td>\n",
       "      <td>c1cncc(-c2nnc(-c3cccnc3)s2)c1</td>\n",
       "      <td>CC(C)C[C@@H](CC(=O)C(=O)O)NC(=O)c1ccc(Cl)cc1</td>\n",
       "      <td>CC(C)C[C@@H](CC(=O)O)NC(=O)c1ccc(Cl)cc1</td>\n",
       "      <td>CC(C)CC=Cc1nnc(-c2cccnc2)s1</td>\n",
       "      <td>200695</td>\n",
       "      <td>ERROR: too many peaks for IS (2)</td>\n",
       "      <td>[400.112459972, 400.9350000000002, 5.0, 1.0, 7...</td>\n",
       "    </tr>\n",
       "    <tr>\n",
       "      <th>33683</th>\n",
       "      <td>14</td>\n",
       "      <td>4</td>\n",
       "      <td>A11</td>\n",
       "      <td>JG312</td>\n",
       "      <td>2022-03-29</td>\n",
       "      <td>I67</td>\n",
       "      <td>M11</td>\n",
       "      <td>T9</td>\n",
       "      <td>Ph023</td>\n",
       "      <td>Mon003</td>\n",
       "      <td>...</td>\n",
       "      <td>CC(C)C[C@@H](CC1(C(=O)O)Nc2ccc(S(C)(=O)=O)cc2S...</td>\n",
       "      <td>CC(C)C[C@H]1CC2(C(=O)[O-])Sc3cc(S(C)(=O)=O)ccc...</td>\n",
       "      <td>CS(=O)(=O)c1ccc2nc(-c3ccc(Cl)cc3)sc2c1</td>\n",
       "      <td>CS(=O)(=O)c1ccc(N)c(SSc2cc(S(C)(=O)=O)ccc2N)c1</td>\n",
       "      <td>CC(C)C[C@@H](CC(=O)C(=O)O)NC(=O)c1ccc(Cl)cc1</td>\n",
       "      <td>CC(C)C[C@@H](CC(=O)O)NC(=O)c1ccc(Cl)cc1</td>\n",
       "      <td>CC(C)CC=Cc1nc2ccc(S(C)(=O)=O)cc2s1</td>\n",
       "      <td>200663</td>\n",
       "      <td>None</td>\n",
       "      <td>[450.083862276, 451.01300000000015, 5.0, 1.0, ...</td>\n",
       "    </tr>\n",
       "    <tr>\n",
       "      <th>33684</th>\n",
       "      <td>14</td>\n",
       "      <td>4</td>\n",
       "      <td>A12</td>\n",
       "      <td>JG312</td>\n",
       "      <td>2022-03-29</td>\n",
       "      <td>I67</td>\n",
       "      <td>M11</td>\n",
       "      <td>T37</td>\n",
       "      <td>Ph023</td>\n",
       "      <td>Mon003</td>\n",
       "      <td>...</td>\n",
       "      <td>CC(C)C[C@@H](CC1(C(=O)O)NN=C(c2cccc3[nH]ncc23)...</td>\n",
       "      <td>CC(C)C[C@H]1CC2(C(=O)[O-])SC(c3cccc4[nH]ncc34)...</td>\n",
       "      <td>Clc1ccc(-c2nnc(-c3cccc4[nH]ncc34)s2)cc1</td>\n",
       "      <td>c1cc(-c2nnc(-c3cccc4[nH]ncc34)s2)c2cn[nH]c2c1</td>\n",
       "      <td>CC(C)C[C@@H](CC(=O)C(=O)O)NC(=O)c1ccc(Cl)cc1</td>\n",
       "      <td>CC(C)C[C@@H](CC(=O)O)NC(=O)c1ccc(Cl)cc1</td>\n",
       "      <td>CC(C)CC=Cc1nnc(-c2cccc3[nH]ncc23)s1</td>\n",
       "      <td>200691</td>\n",
       "      <td>None</td>\n",
       "      <td>[439.123359004, 439.9720000000001, 6.0, 2.0, 7...</td>\n",
       "    </tr>\n",
       "    <tr>\n",
       "      <th>33685</th>\n",
       "      <td>14</td>\n",
       "      <td>4</td>\n",
       "      <td>A13</td>\n",
       "      <td>JG312</td>\n",
       "      <td>2022-03-29</td>\n",
       "      <td>I67</td>\n",
       "      <td>M64</td>\n",
       "      <td>T4</td>\n",
       "      <td>Ph023</td>\n",
       "      <td>Spiro006</td>\n",
       "      <td>...</td>\n",
       "      <td>Cc1cc2c(cc1C)SC(C(=O)O)(C1(CNC(=O)c3ccc(Cl)cc3...</td>\n",
       "      <td>Cc1cc2c(cc1C)[N+]1=C(c3ccc(Cl)cc3)NCC3(CCN(C(=...</td>\n",
       "      <td>Cc1cc2nc(-c3ccc(Cl)cc3)sc2cc1C</td>\n",
       "      <td>Cc1cc(N)c(SSc2cc(C)c(C)cc2N)cc1C</td>\n",
       "      <td>O=C(O)C(=O)C1(CNC(=O)c2ccc(Cl)cc2)CCN(C(=O)OCc...</td>\n",
       "      <td>O=C(NCC1(C(=O)O)CCN(C(=O)OCc2ccccc2)CC1)c1ccc(...</td>\n",
       "      <td>O</td>\n",
       "      <td>202831</td>\n",
       "      <td>None</td>\n",
       "      <td>[547.1696405, 548.1080000000004, 6.0, 1.0, 6.0...</td>\n",
       "    </tr>\n",
       "    <tr>\n",
       "      <th>33686</th>\n",
       "      <td>14</td>\n",
       "      <td>4</td>\n",
       "      <td>A14</td>\n",
       "      <td>JG312</td>\n",
       "      <td>2022-03-29</td>\n",
       "      <td>I67</td>\n",
       "      <td>M64</td>\n",
       "      <td>T10</td>\n",
       "      <td>Ph023</td>\n",
       "      <td>Spiro006</td>\n",
       "      <td>...</td>\n",
       "      <td>O=C(NCC1(C2(C(=O)O)Nc3cc(Cl)ccc3S2)CCN(C(=O)OC...</td>\n",
       "      <td>O=C(OCc1ccccc1)N1CCC2(CC1)CNC(c1ccc(Cl)cc1)=[N...</td>\n",
       "      <td>Clc1ccc(-c2nc3cc(Cl)ccc3s2)cc1</td>\n",
       "      <td>Nc1cc(Cl)ccc1SSc1ccc(Cl)cc1N</td>\n",
       "      <td>O=C(O)C(=O)C1(CNC(=O)c2ccc(Cl)cc2)CCN(C(=O)OCc...</td>\n",
       "      <td>O=C(NCC1(C(=O)O)CCN(C(=O)OCc2ccccc2)CC1)c1ccc(...</td>\n",
       "      <td>O</td>\n",
       "      <td>202837</td>\n",
       "      <td>None</td>\n",
       "      <td>[553.0993680199999, 554.4990000000004, 6.0, 1....</td>\n",
       "    </tr>\n",
       "    <tr>\n",
       "      <th>...</th>\n",
       "      <td>...</td>\n",
       "      <td>...</td>\n",
       "      <td>...</td>\n",
       "      <td>...</td>\n",
       "      <td>...</td>\n",
       "      <td>...</td>\n",
       "      <td>...</td>\n",
       "      <td>...</td>\n",
       "      <td>...</td>\n",
       "      <td>...</td>\n",
       "      <td>...</td>\n",
       "      <td>...</td>\n",
       "      <td>...</td>\n",
       "      <td>...</td>\n",
       "      <td>...</td>\n",
       "      <td>...</td>\n",
       "      <td>...</td>\n",
       "      <td>...</td>\n",
       "      <td>...</td>\n",
       "      <td>...</td>\n",
       "      <td>...</td>\n",
       "    </tr>\n",
       "    <tr>\n",
       "      <th>73997</th>\n",
       "      <td>14</td>\n",
       "      <td>3</td>\n",
       "      <td>P5</td>\n",
       "      <td>JG311</td>\n",
       "      <td>2022-03-29</td>\n",
       "      <td>I57</td>\n",
       "      <td>M60</td>\n",
       "      <td>T14</td>\n",
       "      <td>Ph007</td>\n",
       "      <td>Spiro003</td>\n",
       "      <td>...</td>\n",
       "      <td>COc1ccc(C(=O)NCC2(C3(C(=O)O)Nc4cc(OC)c(OC)cc4S...</td>\n",
       "      <td>COc1ccc(C2=[N+]3c4cc(OC)c(OC)cc4SC3(C(=O)[O-])...</td>\n",
       "      <td>COc1ccc(-c2nc3cc(OC)c(OC)cc3s2)c(OC)c1</td>\n",
       "      <td>COc1cc(N)c(SSc2cc(OC)c(OC)cc2N)cc1OC</td>\n",
       "      <td>COc1ccc(C(=O)NCC2(C(=O)C(=O)O)CCN(C(=O)OCC3CCC...</td>\n",
       "      <td>COc1ccc(C(=O)NCC2(C(=O)O)CCN(C(=O)OCC3CCC3)CC2...</td>\n",
       "      <td>O</td>\n",
       "      <td>172378</td>\n",
       "      <td>None</td>\n",
       "      <td>[583.2352215239999, 583.7070000000003, 10.0, 1...</td>\n",
       "    </tr>\n",
       "    <tr>\n",
       "      <th>73998</th>\n",
       "      <td>14</td>\n",
       "      <td>3</td>\n",
       "      <td>P6</td>\n",
       "      <td>JG311</td>\n",
       "      <td>2022-03-29</td>\n",
       "      <td>I57</td>\n",
       "      <td>M60</td>\n",
       "      <td>T6</td>\n",
       "      <td>Ph007</td>\n",
       "      <td>Spiro003</td>\n",
       "      <td>...</td>\n",
       "      <td>COc1ccc(C(=O)NCC2(C3(C(=O)O)Nc4ccc(OC(F)(F)F)c...</td>\n",
       "      <td>COc1ccc(C2=[N+]3c4ccc(OC(F)(F)F)cc4SC3(C(=O)[O...</td>\n",
       "      <td>COc1ccc(-c2nc3ccc(OC(F)(F)F)cc3s2)c(OC)c1</td>\n",
       "      <td>Nc1ccc(OC(F)(F)F)cc1SSc1cc(OC(F)(F)F)ccc1N</td>\n",
       "      <td>COc1ccc(C(=O)NCC2(C(=O)C(=O)O)CCN(C(=O)OCC3CCC...</td>\n",
       "      <td>COc1ccc(C(=O)NCC2(C(=O)O)CCN(C(=O)OCC3CCC3)CC2...</td>\n",
       "      <td>O</td>\n",
       "      <td>172370</td>\n",
       "      <td>None</td>\n",
       "      <td>[607.1963914040001, 607.6510000000001, 9.0, 1....</td>\n",
       "    </tr>\n",
       "    <tr>\n",
       "      <th>73999</th>\n",
       "      <td>14</td>\n",
       "      <td>3</td>\n",
       "      <td>P7</td>\n",
       "      <td>JG311</td>\n",
       "      <td>2022-03-29</td>\n",
       "      <td>I57</td>\n",
       "      <td>M60</td>\n",
       "      <td>T15</td>\n",
       "      <td>Ph007</td>\n",
       "      <td>Spiro003</td>\n",
       "      <td>...</td>\n",
       "      <td>COc1ccc(C(=O)NCC2(C3(C(=O)O)Nc4ccc(Br)cc4S3)CC...</td>\n",
       "      <td>COc1ccc(C2=[N+]3c4ccc(Br)cc4SC3(C(=O)[O-])C3(C...</td>\n",
       "      <td>COc1ccc(-c2nc3ccc(Br)cc3s2)c(OC)c1</td>\n",
       "      <td>Nc1ccc(Br)cc1SSc1cc(Br)ccc1N</td>\n",
       "      <td>COc1ccc(C(=O)NCC2(C(=O)C(=O)O)CCN(C(=O)OCC3CCC...</td>\n",
       "      <td>COc1ccc(C(=O)NCC2(C(=O)O)CCN(C(=O)OCC3CCC3)CC2...</td>\n",
       "      <td>O</td>\n",
       "      <td>172379</td>\n",
       "      <td>None</td>\n",
       "      <td>[601.1246042240001, 602.5510000000002, 8.0, 1....</td>\n",
       "    </tr>\n",
       "    <tr>\n",
       "      <th>74000</th>\n",
       "      <td>14</td>\n",
       "      <td>3</td>\n",
       "      <td>P8</td>\n",
       "      <td>JG311</td>\n",
       "      <td>2022-03-29</td>\n",
       "      <td>I57</td>\n",
       "      <td>M60</td>\n",
       "      <td>T35</td>\n",
       "      <td>Ph007</td>\n",
       "      <td>Spiro003</td>\n",
       "      <td>...</td>\n",
       "      <td>COc1ccc(C(=O)NCC2(C3(C(=O)O)NN=C(c4ccnn4C)S3)C...</td>\n",
       "      <td>COc1ccc(C2=[N+]3N=C(c4ccnn4C)SC3(C(=O)[O-])C3(...</td>\n",
       "      <td>COc1ccc(-c2nnc(-c3ccnn3C)s2)c(OC)c1</td>\n",
       "      <td>Cn1nccc1-c1nnc(-c2ccnn2C)s1</td>\n",
       "      <td>COc1ccc(C(=O)NCC2(C(=O)C(=O)O)CCN(C(=O)OCC3CCC...</td>\n",
       "      <td>COc1ccc(C(=O)NCC2(C(=O)O)CCN(C(=O)OCC3CCC3)CC2...</td>\n",
       "      <td>None</td>\n",
       "      <td>172399</td>\n",
       "      <td>None</td>\n",
       "      <td>[554.231139188, 554.6730000000005, 11.0, 1.0, ...</td>\n",
       "    </tr>\n",
       "    <tr>\n",
       "      <th>74001</th>\n",
       "      <td>14</td>\n",
       "      <td>3</td>\n",
       "      <td>P9</td>\n",
       "      <td>JG311</td>\n",
       "      <td>2022-03-29</td>\n",
       "      <td>I57</td>\n",
       "      <td>M60</td>\n",
       "      <td>T24</td>\n",
       "      <td>Ph007</td>\n",
       "      <td>Spiro003</td>\n",
       "      <td>...</td>\n",
       "      <td>COc1ccc(C(=O)NCC2(C3(C(=O)O)NN=C(c4ccc(N5CCOCC...</td>\n",
       "      <td>COc1ccc(C2=[N+]3N=C(c4ccc(N5CCOCC5)cc4)SC3(C(=...</td>\n",
       "      <td>COc1ccc(-c2nnc(-c3ccc(N4CCOCC4)cc3)s2)c(OC)c1</td>\n",
       "      <td>c1cc(N2CCOCC2)ccc1-c1nnc(-c2ccc(N3CCOCC3)cc2)s1</td>\n",
       "      <td>COc1ccc(C(=O)NCC2(C(=O)C(=O)O)CCN(C(=O)OCC3CCC...</td>\n",
       "      <td>COc1ccc(C(=O)NCC2(C(=O)O)CCN(C(=O)OCC3CCC3)CC2...</td>\n",
       "      <td>None</td>\n",
       "      <td>172388</td>\n",
       "      <td>None</td>\n",
       "      <td>[635.2777550320001, 635.787, 11.0, 1.0, 10.0, ...</td>\n",
       "    </tr>\n",
       "  </tbody>\n",
       "</table>\n",
       "<p>26560 rows × 32 columns</p>\n",
       "</div>"
      ],
      "text/plain": [
       "       exp_nr  plate_nr well lab_journal_number synthesis_date_unixepoch  \\\n",
       "id                                                                         \n",
       "33682      14         4  A10              JG312               2022-03-29   \n",
       "33683      14         4  A11              JG312               2022-03-29   \n",
       "33684      14         4  A12              JG312               2022-03-29   \n",
       "33685      14         4  A13              JG312               2022-03-29   \n",
       "33686      14         4  A14              JG312               2022-03-29   \n",
       "...       ...       ...  ...                ...                      ...   \n",
       "73997      14         3   P5              JG311               2022-03-29   \n",
       "73998      14         3   P6              JG311               2022-03-29   \n",
       "73999      14         3   P7              JG311               2022-03-29   \n",
       "74000      14         3   P8              JG311               2022-03-29   \n",
       "74001      14         3   P9              JG311               2022-03-29   \n",
       "\n",
       "      initiator monomer terminator initiator_long monomer_long  ...  \\\n",
       "id                                                              ...   \n",
       "33682       I67     M11        T41          Ph023       Mon003  ...   \n",
       "33683       I67     M11         T9          Ph023       Mon003  ...   \n",
       "33684       I67     M11        T37          Ph023       Mon003  ...   \n",
       "33685       I67     M64         T4          Ph023     Spiro006  ...   \n",
       "33686       I67     M64        T10          Ph023     Spiro006  ...   \n",
       "...         ...     ...        ...            ...          ...  ...   \n",
       "73997       I57     M60        T14          Ph007     Spiro003  ...   \n",
       "73998       I57     M60         T6          Ph007     Spiro003  ...   \n",
       "73999       I57     M60        T15          Ph007     Spiro003  ...   \n",
       "74000       I57     M60        T35          Ph007     Spiro003  ...   \n",
       "74001       I57     M60        T24          Ph007     Spiro003  ...   \n",
       "\n",
       "                                        product_B_smiles  \\\n",
       "id                                                         \n",
       "33682  CC(C)C[C@@H](CC1(C(=O)O)NN=C(c2cccnc2)S1)NC(=O...   \n",
       "33683  CC(C)C[C@@H](CC1(C(=O)O)Nc2ccc(S(C)(=O)=O)cc2S...   \n",
       "33684  CC(C)C[C@@H](CC1(C(=O)O)NN=C(c2cccc3[nH]ncc23)...   \n",
       "33685  Cc1cc2c(cc1C)SC(C(=O)O)(C1(CNC(=O)c3ccc(Cl)cc3...   \n",
       "33686  O=C(NCC1(C2(C(=O)O)Nc3cc(Cl)ccc3S2)CCN(C(=O)OC...   \n",
       "...                                                  ...   \n",
       "73997  COc1ccc(C(=O)NCC2(C3(C(=O)O)Nc4cc(OC)c(OC)cc4S...   \n",
       "73998  COc1ccc(C(=O)NCC2(C3(C(=O)O)Nc4ccc(OC(F)(F)F)c...   \n",
       "73999  COc1ccc(C(=O)NCC2(C3(C(=O)O)Nc4ccc(Br)cc4S3)CC...   \n",
       "74000  COc1ccc(C(=O)NCC2(C3(C(=O)O)NN=C(c4ccnn4C)S3)C...   \n",
       "74001  COc1ccc(C(=O)NCC2(C3(C(=O)O)NN=C(c4ccc(N5CCOCC...   \n",
       "\n",
       "                                        product_C_smiles  \\\n",
       "id                                                         \n",
       "33682  CC(C)C[C@H]1CC2(C(=O)[O-])SC(c3cccnc3)=N[N+]2=...   \n",
       "33683  CC(C)C[C@H]1CC2(C(=O)[O-])Sc3cc(S(C)(=O)=O)ccc...   \n",
       "33684  CC(C)C[C@H]1CC2(C(=O)[O-])SC(c3cccc4[nH]ncc34)...   \n",
       "33685  Cc1cc2c(cc1C)[N+]1=C(c3ccc(Cl)cc3)NCC3(CCN(C(=...   \n",
       "33686  O=C(OCc1ccccc1)N1CCC2(CC1)CNC(c1ccc(Cl)cc1)=[N...   \n",
       "...                                                  ...   \n",
       "73997  COc1ccc(C2=[N+]3c4cc(OC)c(OC)cc4SC3(C(=O)[O-])...   \n",
       "73998  COc1ccc(C2=[N+]3c4ccc(OC(F)(F)F)cc4SC3(C(=O)[O...   \n",
       "73999  COc1ccc(C2=[N+]3c4ccc(Br)cc4SC3(C(=O)[O-])C3(C...   \n",
       "74000  COc1ccc(C2=[N+]3N=C(c4ccnn4C)SC3(C(=O)[O-])C3(...   \n",
       "74001  COc1ccc(C2=[N+]3N=C(c4ccc(N5CCOCC5)cc4)SC3(C(=...   \n",
       "\n",
       "                                    product_D_smiles  \\\n",
       "id                                                     \n",
       "33682                Clc1ccc(-c2nnc(-c3cccnc3)s2)cc1   \n",
       "33683         CS(=O)(=O)c1ccc2nc(-c3ccc(Cl)cc3)sc2c1   \n",
       "33684        Clc1ccc(-c2nnc(-c3cccc4[nH]ncc34)s2)cc1   \n",
       "33685                 Cc1cc2nc(-c3ccc(Cl)cc3)sc2cc1C   \n",
       "33686                 Clc1ccc(-c2nc3cc(Cl)ccc3s2)cc1   \n",
       "...                                              ...   \n",
       "73997         COc1ccc(-c2nc3cc(OC)c(OC)cc3s2)c(OC)c1   \n",
       "73998      COc1ccc(-c2nc3ccc(OC(F)(F)F)cc3s2)c(OC)c1   \n",
       "73999             COc1ccc(-c2nc3ccc(Br)cc3s2)c(OC)c1   \n",
       "74000            COc1ccc(-c2nnc(-c3ccnn3C)s2)c(OC)c1   \n",
       "74001  COc1ccc(-c2nnc(-c3ccc(N4CCOCC4)cc3)s2)c(OC)c1   \n",
       "\n",
       "                                      product_E_smiles  \\\n",
       "id                                                       \n",
       "33682                    c1cncc(-c2nnc(-c3cccnc3)s2)c1   \n",
       "33683   CS(=O)(=O)c1ccc(N)c(SSc2cc(S(C)(=O)=O)ccc2N)c1   \n",
       "33684    c1cc(-c2nnc(-c3cccc4[nH]ncc34)s2)c2cn[nH]c2c1   \n",
       "33685                 Cc1cc(N)c(SSc2cc(C)c(C)cc2N)cc1C   \n",
       "33686                     Nc1cc(Cl)ccc1SSc1ccc(Cl)cc1N   \n",
       "...                                                ...   \n",
       "73997             COc1cc(N)c(SSc2cc(OC)c(OC)cc2N)cc1OC   \n",
       "73998       Nc1ccc(OC(F)(F)F)cc1SSc1cc(OC(F)(F)F)ccc1N   \n",
       "73999                     Nc1ccc(Br)cc1SSc1cc(Br)ccc1N   \n",
       "74000                      Cn1nccc1-c1nnc(-c2ccnn2C)s1   \n",
       "74001  c1cc(N2CCOCC2)ccc1-c1nnc(-c2ccc(N3CCOCC3)cc2)s1   \n",
       "\n",
       "                                        product_F_smiles  \\\n",
       "id                                                         \n",
       "33682       CC(C)C[C@@H](CC(=O)C(=O)O)NC(=O)c1ccc(Cl)cc1   \n",
       "33683       CC(C)C[C@@H](CC(=O)C(=O)O)NC(=O)c1ccc(Cl)cc1   \n",
       "33684       CC(C)C[C@@H](CC(=O)C(=O)O)NC(=O)c1ccc(Cl)cc1   \n",
       "33685  O=C(O)C(=O)C1(CNC(=O)c2ccc(Cl)cc2)CCN(C(=O)OCc...   \n",
       "33686  O=C(O)C(=O)C1(CNC(=O)c2ccc(Cl)cc2)CCN(C(=O)OCc...   \n",
       "...                                                  ...   \n",
       "73997  COc1ccc(C(=O)NCC2(C(=O)C(=O)O)CCN(C(=O)OCC3CCC...   \n",
       "73998  COc1ccc(C(=O)NCC2(C(=O)C(=O)O)CCN(C(=O)OCC3CCC...   \n",
       "73999  COc1ccc(C(=O)NCC2(C(=O)C(=O)O)CCN(C(=O)OCC3CCC...   \n",
       "74000  COc1ccc(C(=O)NCC2(C(=O)C(=O)O)CCN(C(=O)OCC3CCC...   \n",
       "74001  COc1ccc(C(=O)NCC2(C(=O)C(=O)O)CCN(C(=O)OCC3CCC...   \n",
       "\n",
       "                                        product_G_smiles  \\\n",
       "id                                                         \n",
       "33682            CC(C)C[C@@H](CC(=O)O)NC(=O)c1ccc(Cl)cc1   \n",
       "33683            CC(C)C[C@@H](CC(=O)O)NC(=O)c1ccc(Cl)cc1   \n",
       "33684            CC(C)C[C@@H](CC(=O)O)NC(=O)c1ccc(Cl)cc1   \n",
       "33685  O=C(NCC1(C(=O)O)CCN(C(=O)OCc2ccccc2)CC1)c1ccc(...   \n",
       "33686  O=C(NCC1(C(=O)O)CCN(C(=O)OCc2ccccc2)CC1)c1ccc(...   \n",
       "...                                                  ...   \n",
       "73997  COc1ccc(C(=O)NCC2(C(=O)O)CCN(C(=O)OCC3CCC3)CC2...   \n",
       "73998  COc1ccc(C(=O)NCC2(C(=O)O)CCN(C(=O)OCC3CCC3)CC2...   \n",
       "73999  COc1ccc(C(=O)NCC2(C(=O)O)CCN(C(=O)OCC3CCC3)CC2...   \n",
       "74000  COc1ccc(C(=O)NCC2(C(=O)O)CCN(C(=O)OCC3CCC3)CC2...   \n",
       "74001  COc1ccc(C(=O)NCC2(C(=O)O)CCN(C(=O)OCC3CCC3)CC2...   \n",
       "\n",
       "                          product_H_smiles   vl_id  \\\n",
       "id                                                   \n",
       "33682          CC(C)CC=Cc1nnc(-c2cccnc2)s1  200695   \n",
       "33683   CC(C)CC=Cc1nc2ccc(S(C)(=O)=O)cc2s1  200663   \n",
       "33684  CC(C)CC=Cc1nnc(-c2cccc3[nH]ncc23)s1  200691   \n",
       "33685                                    O  202831   \n",
       "33686                                    O  202837   \n",
       "...                                    ...     ...   \n",
       "73997                                    O  172378   \n",
       "73998                                    O  172370   \n",
       "73999                                    O  172379   \n",
       "74000                                 None  172399   \n",
       "74001                                 None  172388   \n",
       "\n",
       "                                  valid  \\\n",
       "id                                        \n",
       "33682  ERROR: too many peaks for IS (2)   \n",
       "33683                              None   \n",
       "33684                              None   \n",
       "33685                              None   \n",
       "33686                              None   \n",
       "...                                 ...   \n",
       "73997                              None   \n",
       "73998                              None   \n",
       "73999                              None   \n",
       "74000                              None   \n",
       "74001                              None   \n",
       "\n",
       "                                             descriptors  \n",
       "id                                                        \n",
       "33682  [400.112459972, 400.9350000000002, 5.0, 1.0, 7...  \n",
       "33683  [450.083862276, 451.01300000000015, 5.0, 1.0, ...  \n",
       "33684  [439.123359004, 439.9720000000001, 6.0, 2.0, 7...  \n",
       "33685  [547.1696405, 548.1080000000004, 6.0, 1.0, 6.0...  \n",
       "33686  [553.0993680199999, 554.4990000000004, 6.0, 1....  \n",
       "...                                                  ...  \n",
       "73997  [583.2352215239999, 583.7070000000003, 10.0, 1...  \n",
       "73998  [607.1963914040001, 607.6510000000001, 9.0, 1....  \n",
       "73999  [601.1246042240001, 602.5510000000002, 8.0, 1....  \n",
       "74000  [554.231139188, 554.6730000000005, 11.0, 1.0, ...  \n",
       "74001  [635.2777550320001, 635.787, 11.0, 1.0, 10.0, ...  \n",
       "\n",
       "[26560 rows x 32 columns]"
      ]
     },
     "execution_count": 7,
     "metadata": {},
     "output_type": "execute_result"
    }
   ],
   "source": [
    "df_full"
   ]
  },
  {
   "cell_type": "code",
   "execution_count": 8,
   "id": "a3015de6",
   "metadata": {},
   "outputs": [
    {
     "data": {
      "text/html": [
       "<div>\n",
       "<style scoped>\n",
       "    .dataframe tbody tr th:only-of-type {\n",
       "        vertical-align: middle;\n",
       "    }\n",
       "\n",
       "    .dataframe tbody tr th {\n",
       "        vertical-align: top;\n",
       "    }\n",
       "\n",
       "    .dataframe thead th {\n",
       "        text-align: right;\n",
       "    }\n",
       "</style>\n",
       "<table border=\"1\" class=\"dataframe\">\n",
       "  <thead>\n",
       "    <tr style=\"text-align: right;\">\n",
       "      <th></th>\n",
       "      <th>exp_nr</th>\n",
       "      <th>plate_nr</th>\n",
       "      <th>well</th>\n",
       "      <th>lab_journal_number</th>\n",
       "      <th>synthesis_date_unixepoch</th>\n",
       "      <th>initiator</th>\n",
       "      <th>monomer</th>\n",
       "      <th>terminator</th>\n",
       "      <th>initiator_long</th>\n",
       "      <th>monomer_long</th>\n",
       "      <th>...</th>\n",
       "      <th>product_B_smiles</th>\n",
       "      <th>product_C_smiles</th>\n",
       "      <th>product_D_smiles</th>\n",
       "      <th>product_E_smiles</th>\n",
       "      <th>product_F_smiles</th>\n",
       "      <th>product_G_smiles</th>\n",
       "      <th>product_H_smiles</th>\n",
       "      <th>vl_id</th>\n",
       "      <th>valid</th>\n",
       "      <th>descriptors</th>\n",
       "    </tr>\n",
       "    <tr>\n",
       "      <th>id</th>\n",
       "      <th></th>\n",
       "      <th></th>\n",
       "      <th></th>\n",
       "      <th></th>\n",
       "      <th></th>\n",
       "      <th></th>\n",
       "      <th></th>\n",
       "      <th></th>\n",
       "      <th></th>\n",
       "      <th></th>\n",
       "      <th></th>\n",
       "      <th></th>\n",
       "      <th></th>\n",
       "      <th></th>\n",
       "      <th></th>\n",
       "      <th></th>\n",
       "      <th></th>\n",
       "      <th></th>\n",
       "      <th></th>\n",
       "      <th></th>\n",
       "      <th></th>\n",
       "    </tr>\n",
       "  </thead>\n",
       "  <tbody>\n",
       "  </tbody>\n",
       "</table>\n",
       "<p>0 rows × 32 columns</p>\n",
       "</div>"
      ],
      "text/plain": [
       "Empty DataFrame\n",
       "Columns: [exp_nr, plate_nr, well, lab_journal_number, synthesis_date_unixepoch, initiator, monomer, terminator, initiator_long, monomer_long, terminator_long, long_name, product_A_lcms_ratio, product_B_lcms_ratio, product_C_lcms_ratio, product_D_lcms_ratio, product_E_lcms_ratio, product_F_lcms_ratio, product_G_lcms_ratio, product_H_lcms_ratio, comment, product_A_smiles, product_B_smiles, product_C_smiles, product_D_smiles, product_E_smiles, product_F_smiles, product_G_smiles, product_H_smiles, vl_id, valid, descriptors]\n",
       "Index: []\n",
       "\n",
       "[0 rows x 32 columns]"
      ]
     },
     "execution_count": 8,
     "metadata": {},
     "output_type": "execute_result"
    }
   ],
   "source": [
    "df_full[df_full[\"product_A_lcms_ratio\"].isna()]"
   ]
  },
  {
   "cell_type": "code",
   "execution_count": 9,
   "id": "4ee13e62",
   "metadata": {},
   "outputs": [],
   "source": [
    "# extract our data\n",
    "X = np.stack(df_full[\"descriptors\"].values.tolist())\n",
    "y = df_full[\"product_A_lcms_ratio\"].values"
   ]
  },
  {
   "cell_type": "code",
   "execution_count": 10,
   "id": "8eed87dd",
   "metadata": {},
   "outputs": [
    {
     "data": {
      "text/plain": [
       "(26560, 43)"
      ]
     },
     "execution_count": 10,
     "metadata": {},
     "output_type": "execute_result"
    }
   ],
   "source": [
    "X.shape"
   ]
  },
  {
   "cell_type": "code",
   "execution_count": 11,
   "id": "27893f4c",
   "metadata": {
    "scrolled": true
   },
   "outputs": [
    {
     "data": {
      "text/plain": [
       "(26560,)"
      ]
     },
     "execution_count": 11,
     "metadata": {},
     "output_type": "execute_result"
    }
   ],
   "source": [
    "y.shape"
   ]
  },
  {
   "cell_type": "code",
   "execution_count": 12,
   "id": "07080372",
   "metadata": {},
   "outputs": [
    {
     "data": {
      "text/plain": [
       "(26560, 1)"
      ]
     },
     "execution_count": 12,
     "metadata": {},
     "output_type": "execute_result"
    }
   ],
   "source": [
    "y = y.reshape(-1,1)\n",
    "y.shape"
   ]
  },
  {
   "cell_type": "code",
   "execution_count": 13,
   "id": "91931a15",
   "metadata": {},
   "outputs": [],
   "source": [
    "# normalize y to 0-100\n",
    "y = (y - y.min()) / (y.max() - y.min()) * 100"
   ]
  },
  {
   "cell_type": "code",
   "execution_count": 52,
   "id": "5bab6cf4",
   "metadata": {},
   "outputs": [],
   "source": [
    "# train-test split\n",
    "X_train, X_test, y_train, y_test = train_test_split(X, y, test_size=0.2)\n",
    "X_train, X_val, y_train, y_val = train_test_split(X_train, y_train, test_size=0.1)"
   ]
  },
  {
   "cell_type": "code",
   "execution_count": 53,
   "id": "979e2723",
   "metadata": {},
   "outputs": [],
   "source": [
    "# scaling\n",
    "scaler = StandardScaler()\n",
    "X_train = scaler.fit_transform(X_train)\n",
    "X_val = scaler.transform(X_val)\n",
    "X_test = scaler.transform(X_test)"
   ]
  },
  {
   "cell_type": "code",
   "execution_count": 54,
   "id": "fc064942",
   "metadata": {},
   "outputs": [],
   "source": [
    "# hparam search\n",
    "val_scores = []\n",
    "alphas = np.logspace(-7, 1, num=1000)\n",
    "for alpha in alphas:\n",
    "    model = Ridge(alpha=alpha)\n",
    "    model.fit(X_train, y_train)\n",
    "    y_hat = model.predict(X_val)\n",
    "    val_scores.append(mean_absolute_error(y_val, y_hat))"
   ]
  },
  {
   "cell_type": "code",
   "execution_count": 55,
   "id": "6d5e909a",
   "metadata": {},
   "outputs": [
    {
     "data": {
      "image/png": "[encoded data removed]",
      "text/plain": [
       "<Figure size 432x288 with 1 Axes>"
      ]
     },
     "metadata": {
      "needs_background": "light"
     },
     "output_type": "display_data"
    }
   ],
   "source": [
    "# show hparam search results\n",
    "plt.plot(alphas, val_scores)\n",
    "plt.xscale(\"log\")\n",
    "plt.show()"
   ]
  },
  {
   "cell_type": "code",
   "execution_count": 56,
   "id": "9bf0a87d",
   "metadata": {},
   "outputs": [
    {
     "name": "stdout",
     "output_type": "stream",
     "text": [
      "0.002584713507469564\n"
     ]
    }
   ],
   "source": [
    "# best alpha\n",
    "best_alpha = alphas[np.argmin(val_scores)]\n",
    "print(best_alpha)"
   ]
  },
  {
   "cell_type": "code",
   "execution_count": 57,
   "id": "1d9c7248",
   "metadata": {},
   "outputs": [],
   "source": [
    "best_alpha = 0.005"
   ]
  },
  {
   "cell_type": "code",
   "execution_count": 58,
   "id": "046102b0",
   "metadata": {},
   "outputs": [
    {
     "name": "stdout",
     "output_type": "stream",
     "text": [
      "MAE: 3.718463997976009\n",
      "RMSE: 6.422615342462785\n"
     ]
    }
   ],
   "source": [
    "# fit model on test set with best hparams\n",
    "model = Ridge(alpha=best_alpha)\n",
    "model.fit(np.concatenate((X_train, X_val)), np.concatenate((y_train, y_val)))\n",
    "y_hat = model.predict(X_test)\n",
    "\n",
    "print(f\"MAE: {mean_absolute_error(y_test, y_hat)}\")\n",
    "print(f\"RMSE: {np.sqrt(mean_squared_error(y_test, y_hat))}\")"
   ]
  },
  {
   "cell_type": "code",
   "execution_count": 59,
   "id": "3bd61c50",
   "metadata": {
    "scrolled": false
   },
   "outputs": [
    {
     "data": {
      "image/png": "[encoded data removed]",
      "text/plain": [
       "<Figure size 432x288 with 1 Axes>"
      ]
     },
     "metadata": {
      "needs_background": "light"
     },
     "output_type": "display_data"
    }
   ],
   "source": [
    "from scipy.stats import gaussian_kde\n",
    "# Calculate the point density\n",
    "xy = np.vstack([y_hat.flatten(),y_test.flatten()])\n",
    "z = gaussian_kde(xy)(xy)\n",
    "\n",
    "\n",
    "fig, ax = plt.subplots()\n",
    "ax.scatter(y_hat, y_test, c=z,  s=10)\n",
    "plt.show()\n"
   ]
  },
  {
   "cell_type": "code",
   "execution_count": 60,
   "id": "4b69a7e7",
   "metadata": {},
   "outputs": [
    {
     "data": {
      "image/png": "[encoded data removed]",
      "text/plain": [
       "<Figure size 432x288 with 1 Axes>"
      ]
     },
     "metadata": {
      "needs_background": "light"
     },
     "output_type": "display_data"
    }
   ],
   "source": [
    "# the distribution of y is not good for learning\n",
    "plt.figure()\n",
    "plt.hist(y)\n",
    "plt.show()"
   ]
  },
  {
   "cell_type": "code",
   "execution_count": 61,
   "id": "a66be9d0",
   "metadata": {},
   "outputs": [
    {
     "data": {
      "image/png": "[encoded data removed]",
      "text/plain": [
       "<Figure size 432x288 with 1 Axes>"
      ]
     },
     "metadata": {
      "needs_background": "light"
     },
     "output_type": "display_data"
    }
   ],
   "source": [
    "# the logarithm is much better behaved\n",
    "plt.figure()\n",
    "plt.hist(np.log(y+0.0001))\n",
    "plt.show()"
   ]
  },
  {
   "cell_type": "code",
   "execution_count": 68,
   "id": "a2a09dc6",
   "metadata": {},
   "outputs": [
    {
     "data": {
      "text/plain": [
       "array([[2.02515136],\n",
       "       [0.1989897 ],\n",
       "       [3.36831049],\n",
       "       ...,\n",
       "       [3.69740268],\n",
       "       [1.70922835],\n",
       "       [0.        ]])"
      ]
     },
     "execution_count": 68,
     "metadata": {},
     "output_type": "execute_result"
    }
   ],
   "source": [
    "y_test"
   ]
  },
  {
   "cell_type": "code",
   "execution_count": 62,
   "id": "37378ab2",
   "metadata": {},
   "outputs": [],
   "source": [
    "# hparam search\n",
    "val_scores = []\n",
    "alphas = np.logspace(-7, 1, num=1000)\n",
    "for alpha in alphas:\n",
    "    model = Ridge(alpha=alpha)\n",
    "    model.fit(X_train, y_train_log)\n",
    "    y_hat = model.predict(X_val)\n",
    "    val_scores.append(mean_absolute_error(y_val_log, y_hat))"
   ]
  },
  {
   "cell_type": "code",
   "execution_count": 63,
   "id": "0a8282b2",
   "metadata": {},
   "outputs": [
    {
     "data": {
      "image/png": "[encoded data removed]",
      "text/plain": [
       "<Figure size 432x288 with 1 Axes>"
      ]
     },
     "metadata": {
      "needs_background": "light"
     },
     "output_type": "display_data"
    }
   ],
   "source": [
    "# show hparam search results\n",
    "plt.plot(alphas, val_scores)\n",
    "plt.xscale(\"log\")\n",
    "plt.show()"
   ]
  },
  {
   "cell_type": "code",
   "execution_count": 65,
   "id": "395409e7",
   "metadata": {},
   "outputs": [
    {
     "name": "stdout",
     "output_type": "stream",
     "text": [
      "1e-07\n"
     ]
    }
   ],
   "source": [
    "# best alpha\n",
    "best_alpha = alphas[np.argmin(val_scores)]\n",
    "print(best_alpha)"
   ]
  },
  {
   "cell_type": "code",
   "execution_count": 66,
   "id": "28b9bc3e",
   "metadata": {},
   "outputs": [
    {
     "name": "stdout",
     "output_type": "stream",
     "text": [
      "MAE: 3.2447974464527283\n",
      "RMSE: 3.892648943910121\n"
     ]
    }
   ],
   "source": [
    "# fit model on test set with best hparams\n",
    "model = Ridge(alpha=best_alpha)\n",
    "model.fit(np.concatenate((X_train, X_val)), np.concatenate((y_train_log, y_val_log)))\n",
    "y_hat = model.predict(X_test)\n",
    "\n",
    "print(f\"MAE: {mean_absolute_error(y_test_log, y_hat)}\")\n",
    "print(f\"RMSE: {np.sqrt(mean_squared_error(y_test_log, y_hat))}\")"
   ]
  },
  {
   "cell_type": "code",
   "execution_count": 67,
   "id": "37c187c8",
   "metadata": {},
   "outputs": [
    {
     "data": {
      "image/png": "[encoded data removed]",
      "text/plain": [
       "<Figure size 432x288 with 1 Axes>"
      ]
     },
     "metadata": {
      "needs_background": "light"
     },
     "output_type": "display_data"
    }
   ],
   "source": [
    "from scipy.stats import gaussian_kde\n",
    "# Calculate the point density\n",
    "xy = np.vstack([y_hat.flatten(),y_test_log.flatten()])\n",
    "z = gaussian_kde(xy)(xy)\n",
    "\n",
    "\n",
    "fig, ax = plt.subplots()\n",
    "ax.scatter(y_hat, y_test_log, c=z,  s=10)\n",
    "plt.show()\n"
   ]
  },
  {
   "cell_type": "code",
   "execution_count": 22,
   "id": "67fe7bdb",
   "metadata": {},
   "outputs": [],
   "source": [
    "# get highest coefficients\n",
    "highest_coefs = np.argsort(np.abs(model.coef_.flatten()))[::-1]"
   ]
  },
  {
   "cell_type": "code",
   "execution_count": 23,
   "id": "72b5c0be",
   "metadata": {},
   "outputs": [
    {
     "name": "stdout",
     "output_type": "stream",
     "text": [
      "amw\n",
      "-449.003530346223\n",
      "exactmw\n",
      "432.2800680085848\n",
      "chi0v\n",
      "81.48794750007929\n",
      "chi0n\n",
      "-40.46313577840624\n",
      "labuteASA\n",
      "-28.681531741780947\n"
     ]
    }
   ],
   "source": [
    "# show most extreme coefficients with their names\n",
    "for idx in highest_coefs[:5]:\n",
    "    print(descriptor_names[idx])\n",
    "    print(model.coef_.flatten()[idx])"
   ]
  },
  {
   "cell_type": "code",
   "execution_count": 24,
   "id": "b93054b0",
   "metadata": {},
   "outputs": [],
   "source": [
    "# helper function\n",
    "def iterable_to_nested_list(list_to_break_up, inner_len, pad_last=False, pad_value=None):\n",
    "    \"\"\"Break up list into nested lists of given length\"\"\"\n",
    "    # invert list for fast pop()\n",
    "    list_tmp = list(reversed(list_to_break_up))\n",
    "\n",
    "    outer_list = []\n",
    "    while len(list_tmp) > 0:\n",
    "        inner_list = []\n",
    "        while len(inner_list) < inner_len:\n",
    "            if len(list_tmp) == 0:\n",
    "                if pad_last:\n",
    "                    while len(inner_list) < inner_len:\n",
    "                        inner_list.append(pad_value)\n",
    "                break\n",
    "            inner_list.append(list_tmp.pop())\n",
    "        outer_list.append(inner_list)\n",
    "    return outer_list"
   ]
  },
  {
   "cell_type": "code",
   "execution_count": 25,
   "id": "d1207d6b",
   "metadata": {},
   "outputs": [
    {
     "data": {
      "image/png": "[encoded data removed]",
      "text/plain": [
       "<Figure size 1296x288 with 1 Axes>"
      ]
     },
     "metadata": {
      "needs_background": "light"
     },
     "output_type": "display_data"
    }
   ],
   "source": [
    "# show most extreme descriptors\n",
    "fig, ax = plt.subplots(figsize=(18,4))\n",
    "ax.axis('tight')\n",
    "ax.axis('off')\n",
    "\n",
    "norm = plt.Normalize()\n",
    "colors = iterable_to_nested_list(cm.PuOr(norm(model.coef_.flatten())), 5,True,  np.array([1.,1.,1.,1.]))\n",
    "\n",
    "ax.table(cellText = iterable_to_nested_list(descriptor_names, 5, True, \"-\"), cellColours=colors, loc='center')\n",
    "plt.show()"
   ]
  },
  {
   "cell_type": "code",
   "execution_count": 26,
   "id": "83bb5bad",
   "metadata": {},
   "outputs": [
    {
     "data": {
      "text/plain": [
       "(array([   0.,    0.,    0.,    0.,    0.,    0.,    0.,    0.,    0.,\n",
       "           0.,    0.,    0.,    0.,    0.,    0.,    0.,    0.,    0.,\n",
       "           0.,    0.,    0.,    0.,    0.,    0.,    0.,    0.,    0.,\n",
       "           0.,    0.,    0.,    0.,    0.,    0.,    0.,    0.,    0.,\n",
       "           0.,    0.,    0.,    0.,    0.,    0.,    0.,    0.,    0.,\n",
       "           0.,    0.,    0.,    0.,    0., 5995.,    0.,    0.,    0.,\n",
       "           0.,    0.,    0.,    0.,    0.,    0.,    0.,    0.,    0.,\n",
       "           0.,    0.,    0.,    0.,    0.,    0.,    0.,    0.,    0.,\n",
       "           0.,    0.,    0.,    0.,    0.,    0.,    0.,    0.,    0.,\n",
       "           0.,    0.,    0.,    0.,    0.,    0.,    0.,    0.,    0.,\n",
       "           0.,    0.,    0.,    0.,    0.,    0.,    0.,    0.,    0.,\n",
       "           0.]),\n",
       " array([-0.5 , -0.49, -0.48, -0.47, -0.46, -0.45, -0.44, -0.43, -0.42,\n",
       "        -0.41, -0.4 , -0.39, -0.38, -0.37, -0.36, -0.35, -0.34, -0.33,\n",
       "        -0.32, -0.31, -0.3 , -0.29, -0.28, -0.27, -0.26, -0.25, -0.24,\n",
       "        -0.23, -0.22, -0.21, -0.2 , -0.19, -0.18, -0.17, -0.16, -0.15,\n",
       "        -0.14, -0.13, -0.12, -0.11, -0.1 , -0.09, -0.08, -0.07, -0.06,\n",
       "        -0.05, -0.04, -0.03, -0.02, -0.01,  0.  ,  0.01,  0.02,  0.03,\n",
       "         0.04,  0.05,  0.06,  0.07,  0.08,  0.09,  0.1 ,  0.11,  0.12,\n",
       "         0.13,  0.14,  0.15,  0.16,  0.17,  0.18,  0.19,  0.2 ,  0.21,\n",
       "         0.22,  0.23,  0.24,  0.25,  0.26,  0.27,  0.28,  0.29,  0.3 ,\n",
       "         0.31,  0.32,  0.33,  0.34,  0.35,  0.36,  0.37,  0.38,  0.39,\n",
       "         0.4 ,  0.41,  0.42,  0.43,  0.44,  0.45,  0.46,  0.47,  0.48,\n",
       "         0.49,  0.5 ]),\n",
       " <BarContainer object of 100 artists>)"
      ]
     },
     "execution_count": 26,
     "metadata": {},
     "output_type": "execute_result"
    },
    {
     "data": {
      "image/png": "[encoded data removed]",
      "text/plain": [
       "<Figure size 432x288 with 1 Axes>"
      ]
     },
     "metadata": {
      "needs_background": "light"
     },
     "output_type": "display_data"
    }
   ],
   "source": [
    "# where should we put the classification threshold?\n",
    "plt.hist(y[y<0.001], bins=100)"
   ]
  },
  {
   "cell_type": "code",
   "execution_count": 27,
   "id": "9d714ae5",
   "metadata": {
    "scrolled": true
   },
   "outputs": [
    {
     "data": {
      "text/plain": [
       "array([1., 0., 1., ..., 0., 1., 1.])"
      ]
     },
     "execution_count": 27,
     "metadata": {},
     "output_type": "execute_result"
    }
   ],
   "source": [
    "# bin y into two clases\n",
    "y_binary = np.zeros(len(y))\n",
    "y_binary[y.flatten()>0.001] = 1.\n",
    "y_binary"
   ]
  },
  {
   "cell_type": "code",
   "execution_count": 28,
   "id": "4241d191",
   "metadata": {},
   "outputs": [],
   "source": [
    "# train-test split\n",
    "X_train, X_test, y_train, y_test = train_test_split(X, y_binary, test_size=0.2)\n",
    "X_train, X_val, y_train, y_val = train_test_split(X_train, y_train, test_size=0.1)"
   ]
  },
  {
   "cell_type": "code",
   "execution_count": 29,
   "id": "52aab6aa",
   "metadata": {},
   "outputs": [],
   "source": [
    "# scaling\n",
    "scaler = StandardScaler()\n",
    "X_train = scaler.fit_transform(X_train)\n",
    "X_val = scaler.transform(X_val)\n",
    "X_test = scaler.transform(X_test)"
   ]
  },
  {
   "cell_type": "code",
   "execution_count": 30,
   "id": "80966c8e",
   "metadata": {},
   "outputs": [],
   "source": [
    "val_scores = []\n",
    "Cs = np.logspace(-3, 4, num=100)\n",
    "for C in Cs:\n",
    "    model = LogisticRegression(C=C, solver=\"liblinear\")\n",
    "    model.fit(X_train, y_train)\n",
    "    y_hat = model.predict(X_val)\n",
    "    val_scores.append(accuracy_score(y_val, y_hat))"
   ]
  },
  {
   "cell_type": "code",
   "execution_count": 31,
   "id": "f0912a3b",
   "metadata": {},
   "outputs": [
    {
     "data": {
      "image/png": "[encoded data removed]",
      "text/plain": [
       "<Figure size 432x288 with 1 Axes>"
      ]
     },
     "metadata": {
      "needs_background": "light"
     },
     "output_type": "display_data"
    }
   ],
   "source": [
    "# show hparam search results\n",
    "plt.plot(Cs, val_scores)\n",
    "plt.xscale(\"log\")\n",
    "plt.show()"
   ]
  },
  {
   "cell_type": "code",
   "execution_count": 32,
   "id": "fde66895",
   "metadata": {},
   "outputs": [
    {
     "data": {
      "text/plain": [
       "0.7742846385542169"
      ]
     },
     "execution_count": 32,
     "metadata": {},
     "output_type": "execute_result"
    }
   ],
   "source": [
    "np.count_nonzero(y) / len(y)"
   ]
  },
  {
   "cell_type": "code",
   "execution_count": null,
   "id": "a4850c29",
   "metadata": {},
   "outputs": [],
   "source": []
  }
 ],
 "metadata": {
  "kernelspec": {
   "display_name": "Python 3 (ipykernel)",
   "language": "python",
   "name": "python3"
  },
  "language_info": {
   "codemirror_mode": {
    "name": "ipython",
    "version": 3
   },
   "file_extension": ".py",
   "mimetype": "text/x-python",
   "name": "python",
   "nbconvert_exporter": "python",
   "pygments_lexer": "ipython3",
   "version": "3.9.9"
  }
 },
 "nbformat": 4,
 "nbformat_minor": 5
}
