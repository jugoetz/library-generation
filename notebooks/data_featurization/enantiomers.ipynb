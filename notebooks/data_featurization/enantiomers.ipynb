{
 "cells": [
  {
   "cell_type": "markdown",
   "id": "0",
   "metadata": {},
   "source": [
    "# Enantiomers\n",
    "The data contains some enantiomeric monomers (n.b. if you consider the protecting group, you may be inclined to call them diastereomers instead. For reactivity, we would still expect them to behave nearly the same). We check how consistent these react."
   ]
  },
  {
   "cell_type": "code",
   "execution_count": null,
   "id": "1",
   "metadata": {},
   "outputs": [],
   "source": [
    "import pathlib\n",
    "import sys\n",
    "\n",
    "sys.path.append(str(pathlib.Path().resolve().parents[1]))\n",
    "\n",
    "import pandas as pd\n",
    "from sklearn.metrics import accuracy_score\n",
    "\n",
    "from src.util.db_utils import SynFermDatabaseConnection\n",
    "from src.definitions import DATA_DIR"
   ]
  },
  {
   "cell_type": "code",
   "execution_count": null,
   "id": "2",
   "metadata": {},
   "outputs": [],
   "source": [
    "con = SynFermDatabaseConnection()"
   ]
  },
  {
   "cell_type": "code",
   "execution_count": null,
   "id": "3",
   "metadata": {},
   "outputs": [],
   "source": [
    "res = con.con.execute(\"SELECT initiator_long, monomer_long, terminator_long, long_name, l.binary_A, l.binary_B, l.binary_C, l.binary_D, l.binary_E, l.binary_F, l.binary_G, l.binary_H FROM experiments INNER JOIN main.labels l on experiments.id = l.experiment_id WHERE valid IS NULL OR valid NOT LIKE 'ERROR%';\").fetchall()\n",
    "df = pd.DataFrame(res, columns=[\"initiator\", \"monomer\", \"terminator\", \"long\", \"binary_A\", \"binary_B\", \"binary_C\", \"binary_D\", \"binary_E\", \"binary_F\", \"binary_G\", \"binary_H\"])\n",
    "df.head()"
   ]
  },
  {
   "cell_type": "code",
   "execution_count": null,
   "id": "4",
   "metadata": {},
   "outputs": [],
   "source": [
    "enantiomer_pairs = [\n",
    "[\"Mon001\", \"Mon087\"],\n",
    "[\"Mon003\", \"Mon078\"],\n",
    "[\"Mon011\", \"Mon088\"],\n",
    "[\"Mon013\", \"Mon074\"],\n",
    "[\"Mon014\", \"Mon090\"],\n",
    "[\"Mon015\", \"Mon076\"],\n",
    "[\"Mon016\", \"Mon096\"],\n",
    "[\"Mon017\", \"Mon075\"],\n",
    "[\"Mon019\", \"Mon091\"],\n",
    "[\"Mon020\", \"Mon077\"],\n",
    "]"
   ]
  },
  {
   "cell_type": "code",
   "execution_count": null,
   "id": "5",
   "metadata": {},
   "outputs": [],
   "source": [
    "# check the accuracy for one of the enantiomers approximating the outcome for the other\n",
    "for pair in enantiomer_pairs:\n",
    "    exp1 = df.loc[df[\"monomer\"] == pair[0]]\n",
    "    exp2 = df.loc[df[\"monomer\"] == pair[1]]\n",
    "    both = pd.merge(exp1, exp2, on=[\"initiator\", \"terminator\"], how=\"inner\")\n",
    "    print(pair)\n",
    "    print(f\"{len(both)} overlapping samples\")\n",
    "    for s in \"ABCDEFGH\":\n",
    "        print(s, \":\", accuracy_score(both[f\"binary_{s}_x\"], both[f\"binary_{s}_y\"]))"
   ]
  },
  {
   "cell_type": "markdown",
   "id": "6",
   "metadata": {},
   "source": [
    "## Conclusion\n",
    "For most products, formation is highly reproducible, especially for A, B, E, and F. H is the worst but still around 85-90% reproducible.\n"
   ]
  },
  {
   "cell_type": "code",
   "execution_count": null,
   "id": "7",
   "metadata": {},
   "outputs": [],
   "source": []
  }
 ],
 "metadata": {
  "kernelspec": {
   "display_name": "Python 3 (ipykernel)",
   "language": "python",
   "name": "python3"
  },
  "language_info": {
   "codemirror_mode": {
    "name": "ipython",
    "version": 3
   },
   "file_extension": ".py",
   "mimetype": "text/x-python",
   "name": "python",
   "nbconvert_exporter": "python",
   "pygments_lexer": "ipython3",
   "version": "3.9.7"
  }
 },
 "nbformat": 4,
 "nbformat_minor": 5
}
