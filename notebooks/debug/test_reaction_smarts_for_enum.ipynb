{
 "cells": [
  {
   "cell_type": "code",
   "execution_count": null,
   "metadata": {},
   "outputs": [],
   "source": [
    "import sqlite3\n",
    "from pathlib import Path\n",
    "\n",
    "from rdkit import Chem\n",
    "from rdkit.Chem import Draw\n",
    "from rdkit.Chem.SimpleEnum.Enumerator import EnumerateReaction\n",
    "from rdkit.Chem.rdChemReactions import ReactionFromSmarts, Compute2DCoordsForReaction\n"
   ]
  },
  {
   "cell_type": "code",
   "execution_count": null,
   "metadata": {},
   "outputs": [],
   "source": [
    "DATA_DIR = Path('..', 'data').resolve()\n",
    "DB_PATH = DATA_DIR / 'db' / '50k_project.db'"
   ]
  },
  {
   "cell_type": "code",
   "execution_count": null,
   "metadata": {},
   "outputs": [],
   "source": [
    "con = sqlite3.connect(DB_PATH)\n",
    "cur = con.cursor()"
   ]
  },
  {
   "cell_type": "code",
   "execution_count": null,
   "metadata": {},
   "outputs": [],
   "source": [
    "# retrieve one of each building block kind for testing\n",
    "buildingblocks = cur.execute('SELECT SMILES FROM building_blocks WHERE long IN (?, ?, ?, ?, ?, ?, ?, ?);', ('Al001', 'Fused002', 'Spiro001', 'Spiro002', 'Mon001', 'Mon072', 'TerABT001', 'TerTH001')).fetchall()\n",
    "names = ['initiator', 'monomer_fused', 'monomer_spiro_3', 'monomer_spiro_2', 'monomer_sub_3', 'monomer_sub_2', 'ter_abt', 'ter_th']\n",
    "buildingblocks = [Chem.MolFromSmiles(sm) for tup in buildingblocks for sm in tup]\n",
    "buildingblocks = {k: v for k, v in zip(names, buildingblocks)}\n",
    "buildingblocks\n"
   ]
  },
  {
   "cell_type": "code",
   "execution_count": null,
   "metadata": {},
   "outputs": [],
   "source": [
    "# define the reactions\n",
    "\n",
    "rxn_TH = ReactionFromSmarts(\n",
    "    'F[B-](F)(F)[#6](-[*:1])=O.O=[#6]1-[#8]C2([#6]-[#6]-[#6]-[#6]-[#6]2)[#8]C11[#6:3]-[#6:2]-[#7]-[#8]1.[#6:4]-[#6](=S)-[#7]-[#7]>>[#6:4]-[#6]-1=[#7]-[#7]=[#6](-[#6:3]-[#6:2]-[#7]-[#6](-[*:1])=O)-[#16]-1.[#6:4]-[#6]-1=[#7]-[#7]C([#6:3]-[#6:2]-[#7]-[#6](-[*:1])=O)([#16]-1)[#6](-[#8])=O.[#6:4]-[#6]-1=[#7]-[#7+]2=[#6](-[*:1])-[#7]-[#6:2]-[#6:3]C2([#16]-1)[#6](-[#8-])=O.[#6:4]-[#6]-1=[#7]-[#7]=[#6](-[*:1])-[#16]-1.[#6:4]-[#6]-1=[#7]-[#7]=[#6](-[#6:4])-[#16]-1.[#8]-[#6](=O)-[#6](=O)-[#6:3]-[#6:2]-[#7]-[#6](-[*:1])=O.[#8]-[#6](=O)-[#6:3]-[#6:2]-[#7]-[#6](-[*:1])=O.[#6:4]-[#6]-1=[#7]-[#7]=[#6](-[#16]-1)-[#6:3]=[#6:2]'\n",
    ")\n",
    "\n",
    "rxn_ABT = ReactionFromSmarts(\n",
    "    \"F[B-](F)(F)[#6](-[*:1])=O.O=[#6]1-[#8]C2([#6]-[#6]-[#6]-[#6]-[#6]2)[#8]C11[#6:3]-[#6:2]-[#7]-[#8]1.[#7]-c1[c:4][c:5][c:6][c:7]c1-[#16]>>[*:1]-[#6](=O)-[#7]-[#6:2]-[#6:3]-c1nc2[c:4][c:5][c:6][c:7]c2s1.[#8]-[#6](=O)C1([#6:3]-[#6:2]-[#7]-[#6](-[*:1])=O)[#7]-c2[c:4][c:5][c:6][c:7]c2-[#16]1.[#8-]-[#6](=O)C12[#6:3]-[#6:2]-[#7]-[#6](-[*:1])=[#7+]1-c1[c:4][c:5][c:6][c:7]c1-[#16]2.[*:1]-c1nc2[c:4][c:5][c:6][c:7]c2s1.[#7]-c1[c:4][c:5][c:6][c:7]c1-[#16]-[#16]-c1[c:7][c:6][c:5][c:4]c1-[#7].[#8]-[#6](=O)-[#6](=O)-[#6:3]-[#6:2]-[#7]-[#6](-[*:1])=O.[#8]-[#6](=O)-[#6:3]-[#6:2]-[#7]-[#6](-[*:1])=O.[#6:2]=[#6;v4:3]-c1nc2[c:4][c:5][c:6][c:7]c2s1\"\n",
    ")\n",
    "# prepare for visualization\n",
    "Compute2DCoordsForReaction(rxn_TH)\n",
    "Compute2DCoordsForReaction(rxn_ABT)\n",
    "# prepare for enumeration\n",
    "rxn_TH.Initialize()\n",
    "rxn_ABT.Initialize()"
   ]
  },
  {
   "cell_type": "code",
   "execution_count": null,
   "metadata": {},
   "outputs": [],
   "source": [
    "# Control reactions visually\n",
    "Draw.ReactionToImage(rxn_TH)"
   ]
  },
  {
   "cell_type": "code",
   "execution_count": null,
   "metadata": {},
   "outputs": [],
   "source": [
    "# Control reactions visually\n",
    "Draw.ReactionToImage(rxn_ABT)"
   ]
  },
  {
   "cell_type": "code",
   "execution_count": null,
   "metadata": {},
   "outputs": [],
   "source": [
    "# Control which reactants work\n",
    "print('Reactants working in the TH reaction:')\n",
    "for k, v in buildingblocks.items():\n",
    "    print(f'{k}: {rxn_TH.IsMoleculeReactant(v)}')"
   ]
  },
  {
   "cell_type": "code",
   "execution_count": null,
   "metadata": {},
   "outputs": [],
   "source": [
    "# Control which reactants work\n",
    "print('Reactants working in the ABT reaction:')\n",
    "for k, v in buildingblocks.items():\n",
    "    print(f'{k}: {rxn_ABT.IsMoleculeReactant(v)}')"
   ]
  },
  {
   "cell_type": "code",
   "execution_count": null,
   "metadata": {},
   "outputs": [],
   "source": [
    "# Perform enumeration\n",
    "product_generator_TH = EnumerateReaction(rxn_TH, ([buildingblocks['initiator']], [buildingblocks['monomer_fused'], buildingblocks['monomer_spiro_3'], buildingblocks['monomer_spiro_2'], buildingblocks['monomer_sub_3'], buildingblocks['monomer_sub_2']], [buildingblocks['ter_th']]), uniqueProductsOnly=True)\n",
    "product_generator_ABT = EnumerateReaction(rxn_ABT, ([buildingblocks['initiator']], [buildingblocks['monomer_fused'], buildingblocks['monomer_spiro_3'], buildingblocks['monomer_spiro_2'], buildingblocks['monomer_sub_3'], buildingblocks['monomer_sub_2']], [buildingblocks['ter_abt']]), uniqueProductsOnly=True)"
   ]
  },
  {
   "cell_type": "code",
   "execution_count": null,
   "metadata": {},
   "outputs": [],
   "source": [
    "product_list_TH = list(product_generator_TH)\n",
    "product_list_ABT = list(product_generator_ABT)"
   ]
  },
  {
   "cell_type": "code",
   "execution_count": null,
   "metadata": {},
   "outputs": [],
   "source": [
    "for ps in product_list_ABT:\n",
    "    mol = ps[7]\n",
    "    problems = Chem.DetectChemistryProblems(mol)\n",
    "    print(problems)\n",
    "    if len(problems) > 0:\n",
    "        if problems[0].GetType() == 'AtomValenceException':\n",
    "            try:\n",
    "                atom_idx = problems[0].GetAtomIdx()\n",
    "                mol.GetAtomWithIdx(atom_idx).SetNumExplicitHs(0)\n",
    "            except ValueError:\n",
    "                print('fail')\n",
    "                pass\n",
    "\n",
    "for reac in product_list_ABT:\n",
    "    for prod in reac:\n",
    "        try:\n",
    "            Chem.SanitizeMol(prod)\n",
    "        except:\n",
    "            print('no')"
   ]
  },
  {
   "cell_type": "code",
   "execution_count": null,
   "metadata": {},
   "outputs": [],
   "source": [
    "product_list_ABT[0][7]"
   ]
  },
  {
   "cell_type": "code",
   "execution_count": null,
   "metadata": {},
   "outputs": [],
   "source": [
    "for atom in product_list_TH[0][0].GetAtoms():\n",
    "   print(atom.GetSymbol(), atom.GetTotalValence(), atom.GetExplicitValence(), atom.GetImplicitValence(), atom.GetNumExplicitHs(), atom.GetNumImplicitHs(), atom.GetTotalNumHs(), atom.NeedsUpdatePropertyCache())"
   ]
  },
  {
   "cell_type": "code",
   "execution_count": null,
   "metadata": {},
   "outputs": [],
   "source": [
    "# this works but better get the reaction right\n",
    "product_list_TH[0][7].GetAtomWithIdx(6).SetNumExplicitHs(0)\n",
    "product_list_TH[0][7]"
   ]
  }
 ],
 "metadata": {
  "kernelspec": {
   "display_name": "Python 3",
   "language": "python",
   "name": "python3"
  },
  "language_info": {
   "codemirror_mode": {
    "name": "ipython",
    "version": 2
   },
   "file_extension": ".py",
   "mimetype": "text/x-python",
   "name": "python",
   "nbconvert_exporter": "python",
   "pygments_lexer": "ipython2",
   "version": "2.7.6"
  }
 },
 "nbformat": 4,
 "nbformat_minor": 0
}
