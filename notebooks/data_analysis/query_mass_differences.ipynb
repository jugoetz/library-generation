{
 "cells": [
  {
   "cell_type": "markdown",
   "metadata": {},
   "source": [
    "# Query mass differences\n",
    "Just a snippet to assemble a list of sum formula, calculate their exact mass and query that.\n",
    "Used to assist in explaining observed mass differences to an expected value."
   ]
  },
  {
   "cell_type": "code",
   "execution_count": null,
   "metadata": {},
   "outputs": [],
   "source": [
    "import re\n",
    "\n",
    "import numpy as np"
   ]
  },
  {
   "cell_type": "code",
   "execution_count": null,
   "metadata": {},
   "outputs": [],
   "source": [
    "# definitions\n",
    "m_c=12.\n",
    "m_h=1.0078\n",
    "m_o=15.9949\n",
    "m_n=14.0031\n",
    "m_s=31.9721\n",
    "m_f=18.9984\n",
    "m_b=11.0093\n",
    "m_br=78.9183\n",
    "m_cl=34.9689\n",
    "x_c=range(13)\n",
    "x_h=range(13)\n",
    "x_o=range(7)\n",
    "x_n=range(7)\n",
    "x_s=range(3)\n",
    "x_f=range(2)\n",
    "x_b=range(2)\n",
    "x_br=range(2)\n",
    "x_cl=range(2)"
   ]
  },
  {
   "cell_type": "code",
   "execution_count": null,
   "metadata": {},
   "outputs": [],
   "source": [
    "res = [(f\"C{i}H{j}O{k}N{l}S{m}F{n}Br{o}Cl{p}B{q}\", m_c * i + m_h * j + m_o * k + m_n * l + m_s * m + m_f * n + m_br * o + m_cl * p + m_b * q) for i in x_c for j in x_h for k in x_o for l in x_n for m in x_s for n in x_f for o in x_br for p in x_cl for q in x_b]\n",
    "len(res)"
   ]
  },
  {
   "cell_type": "code",
   "execution_count": null,
   "metadata": {},
   "outputs": [],
   "source": [
    "formula_arr = np.array([i[0] for i in res])\n",
    "m_arr = np.array([i[1] for i in res])"
   ]
  },
  {
   "cell_type": "code",
   "execution_count": null,
   "metadata": {},
   "outputs": [],
   "source": [
    "def remove_zeros(string):\n",
    "    modified_string = re.sub(r'\\D*0', '', string)\n",
    "    return modified_string"
   ]
  },
  {
   "cell_type": "code",
   "execution_count": null,
   "metadata": {},
   "outputs": [],
   "source": [
    "formula_arr = np.vectorize(remove_zeros)(formula_arr)"
   ]
  },
  {
   "cell_type": "code",
   "execution_count": null,
   "metadata": {},
   "outputs": [],
   "source": [
    "search_mass = 73.0074\n",
    "\n",
    "# change me!\n",
    "idx = np.isclose(m_arr, search_mass, atol=0.002, rtol=0)\n",
    "[print(f\"{s}, {search_mass - m:.5}\") for s, m in zip(formula_arr[idx], m_arr[idx])]"
   ]
  }
 ],
 "metadata": {
  "kernelspec": {
   "display_name": "Python 3",
   "language": "python",
   "name": "python3"
  },
  "language_info": {
   "codemirror_mode": {
    "name": "ipython",
    "version": 2
   },
   "file_extension": ".py",
   "mimetype": "text/x-python",
   "name": "python",
   "nbconvert_exporter": "python",
   "pygments_lexer": "ipython2",
   "version": "2.7.6"
  }
 },
 "nbformat": 4,
 "nbformat_minor": 0
}
