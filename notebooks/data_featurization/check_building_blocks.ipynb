{
 "cells": [
  {
   "cell_type": "markdown",
   "source": [
    "# Check Building Blocks\n",
    "We go through the building blocks to identify features that a GNN should add to atoms and bonds"
   ],
   "metadata": {
    "collapsed": false
   },
   "id": "38a61edbd93add76"
  },
  {
   "cell_type": "code",
   "execution_count": 3,
   "outputs": [],
   "source": [
    "import pathlib\n",
    "import sys\n",
    "\n",
    "sys.path.append(str(pathlib.Path().resolve().parents[1]))\n",
    "\n",
    "import pandas as pd\n",
    "from rdkit import Chem\n",
    "\n",
    "from src.util.db_utils import SynFermDatabaseConnection"
   ],
   "metadata": {
    "collapsed": false,
    "ExecuteTime": {
     "end_time": "2023-08-28T08:40:46.413730Z",
     "start_time": "2023-08-28T08:40:46.330430Z"
    }
   },
   "id": "c1917080de213579"
  },
  {
   "cell_type": "code",
   "execution_count": 4,
   "outputs": [],
   "source": [
    "con = SynFermDatabaseConnection()"
   ],
   "metadata": {
    "collapsed": false,
    "ExecuteTime": {
     "end_time": "2023-08-28T08:40:52.617602Z",
     "start_time": "2023-08-28T08:40:52.603025Z"
    }
   },
   "id": "671437dd4ccfbbf0"
  },
  {
   "cell_type": "code",
   "execution_count": 10,
   "outputs": [
    {
     "data": {
      "text/plain": "         long category                             SMILES\n0    2-Pyr002        I  O=C(c1cc(Cl)ccn1)[B-](F)(F)F.[K+]\n1    2-Pyr003        I  O=C(c1cccc(Cl)n1)[B-](F)(F)F.[K+]\n2    2-Pyr005        I  O=C(c1cccc(Br)n1)[B-](F)(F)F.[K+]\n3    2-Pyr006        I  O=C(c1ccc(Br)cn1)[B-](F)(F)F.[K+]\n4    2-Pyr007        I   O=C(c1cccc(F)n1)[B-](F)(F)F.[K+]\n..        ...      ...                                ...\n188  TerTH023        T         Cl.NNC(=S)c1cccc2[nH]ncc12\n189  TerTH025        T               Cl.NNC(=S)c1c[nH]cn1\n190  TerTH026        T               Cl.NNC(=S)c1cn[nH]c1\n191  TerTH027        T         Cl.NNC(=S)c1ccc2[nH]nnc2c1\n192  TerTH028        T         [Cl-].[NH3+]NC(=S)c1cccnc1\n\n[193 rows x 3 columns]",
      "text/html": "<div>\n<style scoped>\n    .dataframe tbody tr th:only-of-type {\n        vertical-align: middle;\n    }\n\n    .dataframe tbody tr th {\n        vertical-align: top;\n    }\n\n    .dataframe thead th {\n        text-align: right;\n    }\n</style>\n<table border=\"1\" class=\"dataframe\">\n  <thead>\n    <tr style=\"text-align: right;\">\n      <th></th>\n      <th>long</th>\n      <th>category</th>\n      <th>SMILES</th>\n    </tr>\n  </thead>\n  <tbody>\n    <tr>\n      <th>0</th>\n      <td>2-Pyr002</td>\n      <td>I</td>\n      <td>O=C(c1cc(Cl)ccn1)[B-](F)(F)F.[K+]</td>\n    </tr>\n    <tr>\n      <th>1</th>\n      <td>2-Pyr003</td>\n      <td>I</td>\n      <td>O=C(c1cccc(Cl)n1)[B-](F)(F)F.[K+]</td>\n    </tr>\n    <tr>\n      <th>2</th>\n      <td>2-Pyr005</td>\n      <td>I</td>\n      <td>O=C(c1cccc(Br)n1)[B-](F)(F)F.[K+]</td>\n    </tr>\n    <tr>\n      <th>3</th>\n      <td>2-Pyr006</td>\n      <td>I</td>\n      <td>O=C(c1ccc(Br)cn1)[B-](F)(F)F.[K+]</td>\n    </tr>\n    <tr>\n      <th>4</th>\n      <td>2-Pyr007</td>\n      <td>I</td>\n      <td>O=C(c1cccc(F)n1)[B-](F)(F)F.[K+]</td>\n    </tr>\n    <tr>\n      <th>...</th>\n      <td>...</td>\n      <td>...</td>\n      <td>...</td>\n    </tr>\n    <tr>\n      <th>188</th>\n      <td>TerTH023</td>\n      <td>T</td>\n      <td>Cl.NNC(=S)c1cccc2[nH]ncc12</td>\n    </tr>\n    <tr>\n      <th>189</th>\n      <td>TerTH025</td>\n      <td>T</td>\n      <td>Cl.NNC(=S)c1c[nH]cn1</td>\n    </tr>\n    <tr>\n      <th>190</th>\n      <td>TerTH026</td>\n      <td>T</td>\n      <td>Cl.NNC(=S)c1cn[nH]c1</td>\n    </tr>\n    <tr>\n      <th>191</th>\n      <td>TerTH027</td>\n      <td>T</td>\n      <td>Cl.NNC(=S)c1ccc2[nH]nnc2c1</td>\n    </tr>\n    <tr>\n      <th>192</th>\n      <td>TerTH028</td>\n      <td>T</td>\n      <td>[Cl-].[NH3+]NC(=S)c1cccnc1</td>\n    </tr>\n  </tbody>\n</table>\n<p>193 rows × 3 columns</p>\n</div>"
     },
     "execution_count": 10,
     "metadata": {},
     "output_type": "execute_result"
    }
   ],
   "source": [
    "df = pd.DataFrame(con.con.execute('SELECT long, category, SMILES FROM building_blocks').fetchall(), columns=['long', 'category', 'SMILES'])\n",
    "df"
   ],
   "metadata": {
    "collapsed": false,
    "ExecuteTime": {
     "end_time": "2023-08-28T08:43:22.279976Z",
     "start_time": "2023-08-28T08:43:22.268933Z"
    }
   },
   "id": "abb03e8d7ed3b1cc"
  },
  {
   "cell_type": "code",
   "execution_count": 12,
   "outputs": [
    {
     "data": {
      "text/plain": "{'B', 'Br', 'C', 'Cl', 'F', 'I', 'K', 'N', 'O', 'S', 'Si'}"
     },
     "execution_count": 12,
     "metadata": {},
     "output_type": "execute_result"
    }
   ],
   "source": [
    "# what atom types are there?\n",
    "atom_types = set()\n",
    "for smiles in df.SMILES:\n",
    "    mol = Chem.MolFromSmiles(smiles)\n",
    "    for atom in mol.GetAtoms():\n",
    "        atom_types.add(atom.GetSymbol())\n",
    "atom_types"
   ],
   "metadata": {
    "collapsed": false,
    "ExecuteTime": {
     "end_time": "2023-08-28T08:44:22.246233Z",
     "start_time": "2023-08-28T08:44:22.203637Z"
    }
   },
   "id": "2056cd7d35bf1a0b"
  },
  {
   "cell_type": "code",
   "execution_count": 14,
   "outputs": [
    {
     "data": {
      "text/plain": "{0, 1, 2, 3, 4}"
     },
     "execution_count": 14,
     "metadata": {},
     "output_type": "execute_result"
    }
   ],
   "source": [
    "# what atom degrees are there?\n",
    "atom_degrees = set()\n",
    "for smiles in df.SMILES:\n",
    "    mol = Chem.MolFromSmiles(smiles)\n",
    "    for atom in mol.GetAtoms():\n",
    "        atom_degrees.add(atom.GetDegree())\n",
    "atom_degrees"
   ],
   "metadata": {
    "collapsed": false,
    "ExecuteTime": {
     "end_time": "2023-08-28T08:46:49.975220Z",
     "start_time": "2023-08-28T08:46:49.916412Z"
    }
   },
   "id": "1bc9f119b57a0bd6"
  },
  {
   "cell_type": "code",
   "execution_count": 15,
   "outputs": [
    {
     "data": {
      "text/plain": "{-1, 0, 1}"
     },
     "execution_count": 15,
     "metadata": {},
     "output_type": "execute_result"
    }
   ],
   "source": [
    "# what formal charges are there?\n",
    "formal_charges = set()\n",
    "for smiles in df.SMILES:\n",
    "    mol = Chem.MolFromSmiles(smiles)\n",
    "    for atom in mol.GetAtoms():\n",
    "        formal_charges.add(atom.GetFormalCharge())\n",
    "formal_charges"
   ],
   "metadata": {
    "collapsed": false,
    "ExecuteTime": {
     "end_time": "2023-08-28T08:47:42.736323Z",
     "start_time": "2023-08-28T08:47:42.631176Z"
    }
   },
   "id": "86c63b4eae1107dc"
  },
  {
   "cell_type": "code",
   "execution_count": 16,
   "outputs": [
    {
     "data": {
      "text/plain": "{0, 1, 2, 3}"
     },
     "execution_count": 16,
     "metadata": {},
     "output_type": "execute_result"
    }
   ],
   "source": [
    "# what number of total Hs are there?\n",
    "total_hs = set()\n",
    "for smiles in df.SMILES:\n",
    "    mol = Chem.MolFromSmiles(smiles)\n",
    "    for atom in mol.GetAtoms():\n",
    "        total_hs.add(atom.GetTotalNumHs())\n",
    "total_hs"
   ],
   "metadata": {
    "collapsed": false,
    "ExecuteTime": {
     "end_time": "2023-08-28T08:48:10.322485Z",
     "start_time": "2023-08-28T08:48:10.270723Z"
    }
   },
   "id": "31db2031094ef9ac"
  },
  {
   "cell_type": "code",
   "execution_count": 18,
   "outputs": [
    {
     "data": {
      "text/plain": "{rdkit.Chem.rdchem.HybridizationType.S,\n rdkit.Chem.rdchem.HybridizationType.SP,\n rdkit.Chem.rdchem.HybridizationType.SP2,\n rdkit.Chem.rdchem.HybridizationType.SP3}"
     },
     "execution_count": 18,
     "metadata": {},
     "output_type": "execute_result"
    }
   ],
   "source": [
    "# what hybridizations are there?\n",
    "hybridizations = set()\n",
    "for smiles in df.SMILES:\n",
    "    mol = Chem.MolFromSmiles(smiles)\n",
    "    for atom in mol.GetAtoms():\n",
    "        hybridizations.add(atom.GetHybridization())\n",
    "hybridizations"
   ],
   "metadata": {
    "collapsed": false,
    "ExecuteTime": {
     "end_time": "2023-08-28T08:48:55.330368Z",
     "start_time": "2023-08-28T08:48:55.220236Z"
    }
   },
   "id": "b7db5c6615e99d39"
  },
  {
   "cell_type": "code",
   "execution_count": 19,
   "outputs": [
    {
     "data": {
      "text/plain": "{rdkit.Chem.rdchem.BondType.SINGLE,\n rdkit.Chem.rdchem.BondType.DOUBLE,\n rdkit.Chem.rdchem.BondType.TRIPLE,\n rdkit.Chem.rdchem.BondType.AROMATIC}"
     },
     "execution_count": 19,
     "metadata": {},
     "output_type": "execute_result"
    }
   ],
   "source": [
    "# what bond types are there?\n",
    "bond_types = set()\n",
    "for smiles in df.SMILES:\n",
    "    mol = Chem.MolFromSmiles(smiles)\n",
    "    for bond in mol.GetBonds():\n",
    "        bond_types.add(bond.GetBondType())\n",
    "bond_types"
   ],
   "metadata": {
    "collapsed": false,
    "ExecuteTime": {
     "end_time": "2023-08-28T08:50:08.172656Z",
     "start_time": "2023-08-28T08:50:08.102372Z"
    }
   },
   "id": "2d294860d3be2814"
  },
  {
   "cell_type": "code",
   "execution_count": 20,
   "outputs": [
    {
     "data": {
      "text/plain": "{rdkit.Chem.rdchem.BondStereo.STEREONONE, rdkit.Chem.rdchem.BondStereo.STEREOE}"
     },
     "execution_count": 20,
     "metadata": {},
     "output_type": "execute_result"
    }
   ],
   "source": [
    "# what bond stereochemistries are there?\n",
    "bond_stereochemistries = set()\n",
    "for smiles in df.SMILES:\n",
    "    mol = Chem.MolFromSmiles(smiles)\n",
    "    for bond in mol.GetBonds():\n",
    "        bond_stereochemistries.add(bond.GetStereo())\n",
    "bond_stereochemistries"
   ],
   "metadata": {
    "collapsed": false,
    "ExecuteTime": {
     "end_time": "2023-08-28T08:50:32.357410Z",
     "start_time": "2023-08-28T08:50:32.269372Z"
    }
   },
   "id": "ba72dd75f9df6603"
  },
  {
   "cell_type": "code",
   "execution_count": 26,
   "outputs": [
    {
     "data": {
      "image/png": "[encoded data removed]",
      "text/plain": "<IPython.core.display.Image object>"
     },
     "execution_count": 26,
     "metadata": {},
     "output_type": "execute_result"
    }
   ],
   "source": [
    "# which buildingblocks have E stereochemistry?\n",
    "mols_e = []\n",
    "for smiles in df.SMILES:\n",
    "    mol = Chem.MolFromSmiles(smiles)\n",
    "    for bond in mol.GetBonds():\n",
    "        if bond.GetStereo() == Chem.BondStereo.STEREOE:\n",
    "            mols_e.append(mol)\n",
    "Chem.Draw.MolsToGridImage(mols_e, molsPerRow=3)\n"
   ],
   "metadata": {
    "collapsed": false,
    "ExecuteTime": {
     "end_time": "2023-08-28T08:56:05.801368Z",
     "start_time": "2023-08-28T08:56:05.704132Z"
    }
   },
   "id": "eaa7edb1851a1009"
  },
  {
   "cell_type": "markdown",
   "source": [
    "## Conclusions\n",
    "\n",
    "For most properties, the data covers the usual values.\n",
    "For bond stereochemistry however, we seem to have only E or no stereochemistry, and we only have a single example of E.\n",
    "This limitation is worth bearing in mind.\n",
    "\n",
    "For the featurization, we should probably leave this out entirely."
   ],
   "metadata": {
    "collapsed": false
   },
   "id": "740e7b32227bc22f"
  }
 ],
 "metadata": {
  "kernelspec": {
   "display_name": "Python 3",
   "language": "python",
   "name": "python3"
  },
  "language_info": {
   "codemirror_mode": {
    "name": "ipython",
    "version": 2
   },
   "file_extension": ".py",
   "mimetype": "text/x-python",
   "name": "python",
   "nbconvert_exporter": "python",
   "pygments_lexer": "ipython2",
   "version": "2.7.6"
  }
 },
 "nbformat": 4,
 "nbformat_minor": 5
}
