{
 "cells": [
  {
   "cell_type": "markdown",
   "metadata": {},
   "source": [
    "# Add new products to VL database table\n",
    "\n",
    "You will most likely need to run this after additions to the `building_blocks` table, e.g. through `add_new_buildingblocks_to_vl.ipynb`."
   ]
  },
  {
   "cell_type": "code",
   "execution_count": null,
   "metadata": {},
   "outputs": [],
   "source": [
    "import pathlib\n",
    "import sys\n",
    "sys.path.append(str(pathlib.Path().resolve().parents[1]))\n",
    "\n",
    "import pandas as pd\n",
    "from rdkit import Chem\n",
    "from rdkit.Chem.rdMolDescriptors import CalcMolFormula, CalcExactMolWt\n",
    "\n",
    "from src.util.db_utils import SynFermDatabaseConnection\n",
    "from src.library_design.reaction_generator import SFReactionGenerator\n",
    "from src.util.rdkit_util import desalt_building_block\n",
    "from src.util.protecting_groups import pg_dict\n",
    "from src.util.sumformula_manipulation import string_formula_substraction"
   ]
  },
  {
   "cell_type": "code",
   "execution_count": null,
   "metadata": {},
   "outputs": [],
   "source": [
    "con = SynFermDatabaseConnection()"
   ]
  },
  {
   "cell_type": "markdown",
   "metadata": {},
   "source": [
    "## Determine missing building block combinations"
   ]
  },
  {
   "cell_type": "code",
   "execution_count": null,
   "metadata": {},
   "outputs": [],
   "source": [
    "# Determine all building block combinations already in the virtuallibrary table (* 8 different products)\n",
    "vl = pd.DataFrame(con.con.execute(\"SELECT long_name, type FROM virtuallibrary\").fetchall(), columns=[\"long_name\", \"type\"])\n",
    "vl_members = set([f\"{l} - {t}\" for _, (l, t) in vl.iterrows()])\n",
    "len(vl_members)"
   ]
  },
  {
   "cell_type": "code",
   "execution_count": null,
   "metadata": {},
   "outputs": [],
   "source": [
    "# Determine all possible building block combinations (* 8 different products)\n",
    "bbs = pd.DataFrame(con.con.execute(\"SELECT long, category FROM building_blocks\").fetchall(), columns=[\"long\", \"category\"])\n",
    "bb_combinations = set([\n",
    "    f\"{i} + {m} + {t} - {product_type}\" \n",
    "    for i in bbs.loc[bbs[\"category\"] == \"I\", \"long\"] \n",
    "    for m in bbs.loc[bbs[\"category\"] == \"M\", \"long\"]\n",
    "    for t in bbs.loc[bbs[\"category\"] == \"T\", \"long\"]\n",
    "    for product_type in \"ABCDEFGH\"\n",
    "])\n",
    "len(bb_combinations)"
   ]
  },
  {
   "cell_type": "code",
   "execution_count": null,
   "metadata": {},
   "outputs": [],
   "source": [
    "# diagnostic only: Check if we have any combinations in the VL that are not in the building_blocks table\n",
    "# should give an empty set\n",
    "vl_members - bb_combinations"
   ]
  },
  {
   "cell_type": "code",
   "execution_count": null,
   "metadata": {},
   "outputs": [],
   "source": [
    "# Determine all combinations of building blocks that are not in the VL\n",
    "vl_missing = bb_combinations - vl_members\n",
    "len(vl_missing)"
   ]
  },
  {
   "cell_type": "markdown",
   "metadata": {},
   "source": [
    "## Run enumeration of missing building block combinations"
   ]
  },
  {
   "cell_type": "code",
   "execution_count": null,
   "metadata": {},
   "outputs": [],
   "source": [
    "# first, import the reactants\n",
    "reactants = set([n for name in vl_missing for n in name.split(\" - \")[0].split(\" + \")])\n",
    "reactants = {long: Chem.Mol(desalt_building_block(con.get_mol(long=long))) for long in reactants}"
   ]
  },
  {
   "cell_type": "code",
   "execution_count": null,
   "metadata": {},
   "outputs": [],
   "source": [
    "# set up reaction generator\n",
    "rxn_gen = SFReactionGenerator()"
   ]
  },
  {
   "cell_type": "code",
   "execution_count": null,
   "metadata": {},
   "outputs": [],
   "source": [
    "list(vl_missing)[:5]"
   ]
  },
  {
   "cell_type": "code",
   "execution_count": null,
   "metadata": {},
   "outputs": [],
   "source": [
    "# for each combination, generate the product\n",
    "prods = []\n",
    "for item_missing in list(vl_missing):\n",
    "    reac, product_type = item_missing.split(\" - \")\n",
    "    i, m, t = reac.split(\" + \")\n",
    "    prod = rxn_gen.generate_product([reactants[i], reactants[m], reactants[t]], product_type=product_type)\n",
    "    prods.append(Chem.MolToSmiles(prod) if prod else None)"
   ]
  },
  {
   "cell_type": "code",
   "execution_count": null,
   "metadata": {},
   "outputs": [],
   "source": [
    "len(prods)"
   ]
  },
  {
   "cell_type": "markdown",
   "metadata": {},
   "source": [
    "## Add enumerated products to DB"
   ]
  },
  {
   "cell_type": "code",
   "execution_count": null,
   "metadata": {},
   "outputs": [],
   "source": [
    "def count_protecting_groups(initiator, monomer, terminator, product_type):\n",
    "    i_boc, i_cbz, i_tbu, i_tms = range(4)\n",
    "    if product_type in ['A', 'B', 'C']:\n",
    "        boc = initiator[i_boc] + monomer[i_boc] + terminator[i_boc]\n",
    "        cbz = initiator[i_cbz] + monomer[i_cbz] + terminator[i_cbz]\n",
    "        tbu = initiator[i_tbu] + monomer[i_tbu] + terminator[i_tbu]\n",
    "        tms = initiator[i_tms] + monomer[i_tms] + terminator[i_tms]\n",
    "    elif product_type in ['D']:\n",
    "        boc = initiator[i_boc] + terminator[i_boc]\n",
    "        cbz = initiator[i_cbz] + terminator[i_cbz]\n",
    "        tbu = initiator[i_tbu] + terminator[i_tbu]\n",
    "        tms = initiator[i_tms] + terminator[i_tms]\n",
    "    elif product_type in 'E':\n",
    "        boc = 2 * terminator[i_boc]\n",
    "        cbz = 2 * terminator[i_cbz]\n",
    "        tbu = 2 * terminator[i_tbu]\n",
    "        tms = 2 * terminator[i_tms]\n",
    "    elif product_type in ['F', 'G']:\n",
    "        boc = initiator[i_boc] + monomer[i_boc]\n",
    "        cbz = initiator[i_cbz] + monomer[i_cbz]\n",
    "        tbu = initiator[i_tbu] + monomer[i_tbu]\n",
    "        tms = initiator[i_tms] + monomer[i_tms]\n",
    "    elif product_type == 'H':\n",
    "        boc = monomer[i_boc] + terminator[i_boc]\n",
    "        cbz = monomer[i_cbz] + terminator[i_cbz]\n",
    "        tbu = monomer[i_tbu] + terminator[i_tbu]\n",
    "        tms = monomer[i_tms] + terminator[i_tms]\n",
    "    else:\n",
    "        raise ValueError(f'Invalid product type {product_type}')\n",
    "\n",
    "    return boc, cbz, tbu, tms\n",
    "\n",
    "pg_counts = []\n",
    "\n",
    "for item_missing in list(vl_missing):\n",
    "    reac, product_type = item_missing.split(\" - \")\n",
    "    i, m, t = reac.split(\" + \")\n",
    "    initiator = con.list_pg(long=i)\n",
    "    monomer = con.list_pg(long=m)\n",
    "    terminator = con.list_pg(long=t)\n",
    "    pg_counts.append(count_protecting_groups(initiator, monomer, terminator, product_type))\n",
    "    "
   ]
  },
  {
   "cell_type": "code",
   "execution_count": null,
   "metadata": {},
   "outputs": [],
   "source": [
    "len(pg_counts)"
   ]
  },
  {
   "cell_type": "code",
   "execution_count": null,
   "metadata": {},
   "outputs": [],
   "source": [
    "lcms_props_1 = []\n",
    "for smi in prods:\n",
    "    if smi is not None:\n",
    "        mol = Chem.MolFromSmiles(smi)\n",
    "        lcms_props_1.append([CalcMolFormula(mol), CalcExactMolWt(mol)])\n",
    "    else:\n",
    "        lcms_props_1.append([None, None])"
   ]
  },
  {
   "cell_type": "code",
   "execution_count": null,
   "metadata": {},
   "outputs": [],
   "source": [
    "len(lcms_props_1)"
   ]
  },
  {
   "cell_type": "code",
   "execution_count": null,
   "metadata": {},
   "outputs": [],
   "source": [
    "lcms_props_1[0]"
   ]
  },
  {
   "cell_type": "code",
   "execution_count": null,
   "metadata": {},
   "outputs": [],
   "source": [
    "# finally, we need the lcms formulae and masses\n",
    "# do our magic with the protecting groups\n",
    "\n",
    "lcms_formula_alt, lcms_mass_alt = [], []\n",
    "for i, ((boc, cbz, tbu, tms), (molecular_formula_1, lcms_mass_1)) in enumerate(zip(pg_counts, lcms_props_1)):\n",
    "    additional_formulae = []\n",
    "    additional_masses = []\n",
    "    if molecular_formula_1 is not None and lcms_mass_1 is not None:\n",
    "\n",
    "        # generate all the combinations in that we need to leave PGs out\n",
    "        combinations = [(i, j, k, l) for i in range(boc+1) for j in range(cbz+1) for k in range(tbu+1) for l in range(tms + 1) if sum([i,j,k,l]) > 0]\n",
    "        pgname = ['boc', 'cbz', 'tbu', 'tms']\n",
    "        for i in combinations:\n",
    "            new_mass = lcms_mass_1 - i[0] * pg_dict['boc'][1] - i[1] * pg_dict['cbz'][1] - i[2] * pg_dict['tbu'][1] - i[3] * pg_dict['tms'][1]\n",
    "            substrahend_formulae = [j * pg_dict[pgname[idx]][0] for idx, j in enumerate(i)]\n",
    "            new_form = molecular_formula_1\n",
    "            for s in substrahend_formulae:\n",
    "                if s != '':\n",
    "                    new_form = string_formula_substraction(new_form, s)\n",
    "            additional_masses.append(new_mass)\n",
    "            additional_formulae.append(new_form)\n",
    "        additional_masses = [f'{i:.4f}' for i in additional_masses]\n",
    "    lcms_formula_alt.append(additional_formulae)\n",
    "    lcms_mass_alt.append(additional_masses)"
   ]
  },
  {
   "cell_type": "code",
   "execution_count": null,
   "metadata": {},
   "outputs": [],
   "source": [
    "len(lcms_formula_alt)"
   ]
  },
  {
   "cell_type": "code",
   "execution_count": null,
   "metadata": {},
   "outputs": [],
   "source": [
    "len(lcms_mass_alt)"
   ]
  },
  {
   "cell_type": "code",
   "execution_count": null,
   "metadata": {},
   "outputs": [],
   "source": [
    "lcms_formula_alt[:10]"
   ]
  },
  {
   "cell_type": "code",
   "execution_count": null,
   "metadata": {},
   "outputs": [],
   "source": [
    "# finally, we just assemble everything and write it to the table\n",
    "len(vl_missing)"
   ]
  },
  {
   "cell_type": "code",
   "execution_count": null,
   "metadata": {},
   "outputs": [],
   "source": [
    "data = []\n",
    "for item, p, pg, lcms1, lcms_f_alt, lcms_m_alt in zip(vl_missing, prods, pg_counts, lcms_props_1, lcms_formula_alt, lcms_mass_alt):\n",
    "    reac, product_type = item.split(\" - \")\n",
    "    i,m,t = reac.split(\" + \")\n",
    "    data.append({\n",
    "        \"initiator_long\": i,\n",
    "        \"monomer_long\": m,\n",
    "        \"terminators_long\": t,\n",
    "        \"type\": product_type,\n",
    "        \"SMILES\": p,\n",
    "        \"boc\": pg[0],\n",
    "        \"cbz\": pg[1],\n",
    "        \"tbu\": pg[2],\n",
    "        \"tms\": pg[3],\n",
    "        \"comment\": None,\n",
    "        \"molecular_formula_1\": lcms1[0],\n",
    "        \"lcms_mass_1\": lcms1[1],\n",
    "        \"molecular_formula_alt\": repr(lcms_f_alt) if len(lcms_f_alt) > 0 else None,\n",
    "        \"lcms_mass_alt\": repr(lcms_m_alt) if len(lcms_m_alt) > 0 else None,\n",
    "        }\n",
    "    )\n",
    "data = [list(dic.values()) for dic in data]"
   ]
  },
  {
   "cell_type": "code",
   "execution_count": null,
   "metadata": {},
   "outputs": [],
   "source": [
    "data"
   ]
  },
  {
   "cell_type": "code",
   "execution_count": null,
   "metadata": {},
   "outputs": [],
   "source": [
    "cur = con.con.cursor()"
   ]
  },
  {
   "cell_type": "code",
   "execution_count": null,
   "metadata": {},
   "outputs": [],
   "source": [
    "cur.executemany(\"\"\"INSERT INTO virtuallibrary (\n",
    "initiator_long, monomer_long, terminator_long, type, \n",
    "SMILES, boc, cbz, tbu, tms, comment, \n",
    "molecular_formula_1, lcms_mass_1, molecular_formula_alt, lcms_mass_alt)\n",
    "VALUES (?, ?, ?, ?, ?, ?, ?, ?, ?, ?, ?, ?, ?, ?\n",
    ")\"\"\", data)"
   ]
  },
  {
   "cell_type": "code",
   "execution_count": null,
   "metadata": {},
   "outputs": [],
   "source": [
    "cur.rowcount"
   ]
  },
  {
   "cell_type": "code",
   "execution_count": null,
   "metadata": {},
   "outputs": [],
   "source": [
    "con.con.commit()"
   ]
  }
 ],
 "metadata": {
  "kernelspec": {
   "display_name": "Python 3 (ipykernel)",
   "language": "python",
   "name": "python3"
  },
  "language_info": {
   "codemirror_mode": {
    "name": "ipython",
    "version": 3
   },
   "file_extension": ".py",
   "mimetype": "text/x-python",
   "name": "python",
   "nbconvert_exporter": "python",
   "pygments_lexer": "ipython3",
   "version": "3.9.7"
  }
 },
 "nbformat": 4,
 "nbformat_minor": 1
}
