{
 "cells": [
  {
   "cell_type": "markdown",
   "metadata": {},
   "source": [
    "# Add representations to DB\n",
    "For every experiment, add representations to a separate table.\n",
    "We use the following representations:\n",
    "- Identifier of reactants I, M, T\n",
    "- SMILES of product A (expected product)\n",
    "- SMILES of reactants I, M, T\n",
    "- reactionsSMILES\n",
    "- atom-mapped, unbalanced reactionSMILES"
   ]
  },
  {
   "cell_type": "code",
   "execution_count": null,
   "metadata": {
    "ExecuteTime": {
     "end_time": "2023-07-20T09:41:45.631211Z",
     "start_time": "2023-07-20T09:41:45.506818Z"
    }
   },
   "outputs": [],
   "source": [
    "import pathlib\n",
    "import sys\n",
    "\n",
    "sys.path.append(str(pathlib.Path().resolve().parents[1]))\n",
    "\n",
    "from IPython.display import SVG, display\n",
    "from rdkit import Chem\n",
    "from rdkit.Chem import (\n",
    "    Draw,\n",
    "    rdChemReactions,\n",
    ")\n",
    "\n",
    "from src.util.db_utils import SynFermDatabaseConnection\n",
    "from src.util.rdkit_util import map_reactions, desalt_building_block"
   ]
  },
  {
   "cell_type": "code",
   "execution_count": null,
   "metadata": {
    "ExecuteTime": {
     "end_time": "2023-07-20T09:41:45.725683Z",
     "start_time": "2023-07-20T09:41:45.720095Z"
    }
   },
   "outputs": [],
   "source": [
    "# connect to DB\n",
    "con = SynFermDatabaseConnection()"
   ]
  },
  {
   "cell_type": "code",
   "execution_count": null,
   "metadata": {
    "ExecuteTime": {
     "end_time": "2023-07-20T09:41:46.908416Z",
     "start_time": "2023-07-20T09:41:46.661363Z"
    }
   },
   "outputs": [],
   "source": [
    "# import experiments\n",
    "res = con.con.execute(\"SELECT e.id, e.initiator_long, e.monomer_long, e.terminator_long, e.product_A_smiles, bb1.SMILES, bb2.SMILES, bb3.SMILES FROM experiments as e LEFT JOIN building_blocks as bb1 on e.initiator_long = bb1.long LEFT JOIN building_blocks as bb2 on e.monomer_long = bb2.long LEFT JOIN building_blocks as bb3 on e.terminator_long = bb3.long;\").fetchall()\n",
    "\n",
    "columns = ['experiment_id', 'initiator_long', 'monomer_long', 'terminator_long', 'product_A_smiles', 'initiator_smiles', 'monomer_smiles', 'terminator_smiles']\n"
   ]
  },
  {
   "cell_type": "code",
   "execution_count": null,
   "metadata": {
    "ExecuteTime": {
     "end_time": "2023-07-20T09:41:46.913511Z",
     "start_time": "2023-07-20T09:41:46.909278Z"
    }
   },
   "outputs": [],
   "source": [
    "def make_reaction_smiles(initiator, monomer, terminator, product):\n",
    "    \"\"\"Form unmapped, plain reactionSMILES\"\"\"\n",
    "    return f\"{initiator}.{monomer}.{terminator}>>{product}\""
   ]
  },
  {
   "cell_type": "code",
   "execution_count": null,
   "metadata": {
    "ExecuteTime": {
     "end_time": "2023-07-20T09:41:47.102366Z",
     "start_time": "2023-07-20T09:41:47.078903Z"
    }
   },
   "outputs": [],
   "source": [
    "# generate reactionSMILES for all records\n",
    "reaction_smiles = [make_reaction_smiles(*(exp[5:] + exp[4:5])) for exp in res]\n",
    "len(reaction_smiles)"
   ]
  },
  {
   "cell_type": "code",
   "execution_count": null,
   "metadata": {
    "ExecuteTime": {
     "end_time": "2023-07-20T09:41:47.269193Z",
     "start_time": "2023-07-20T09:41:47.262728Z"
    }
   },
   "outputs": [],
   "source": [
    "# prepare reactions for atom-mapping\n",
    "rxn_TH = rdChemReactions.ReactionFromSmarts(\n",
    "        '[#9]-[#5-](-[#9])(-[#9])-[#6:2](-[*:1])=[#8:3].[#8]=[#6]-1-[#8]-C-2(-[#6]-[#6]-[#6]-[#6]-[#6]2)-[#8]-[#6:7]11-[#6:6]-[#6:5]-[#7:4]-[#8]-1.[#6:11]-[#6:10](=[#16:12])-[#7:9]-[#7:8]>>[#6:11]-[#6:10]:1:[#7:9]:[#7:8]:[#6:7](-[#6:6]-[#6:5]-[#7:4]-[#6:2](-[*:1])=[#8:3]):[#16:12]-1'\n",
    "    )\n",
    "\n",
    "rxn_ABT = rdChemReactions.ReactionFromSmarts(\n",
    "    \"[#9]-[#5-](-[#9])(-[#9])-[#6:2](-[*:1])=[#8:3].[#8]=[#6]-1-[#8]-C-2(-[#6]-[#6]-[#6]-[#6]-[#6]2)-[#8]-[#6:7]11-[#6:6]-[#6:5]-[#7:4]-[#8]-1.[#7:8]-[#6:9]1:[#6:10]:[#6:11]:[#6:12]:[#6:13]:[#6:14]:1-[#16:15]>>[*:1]-[#6:2](=[#8:3])-[#7:4]-[#6:5]-[#6:6]-[#6:7]1:[#7:8]:[#6:9]2:[#6:10]:[#6:11]:[#6:12]:[#6:13]:[#6:14]:2:[#16:15]:1\"\n",
    ")\n",
    "# prepare for visualization\n",
    "rdChemReactions.Compute2DCoordsForReaction(rxn_TH)\n",
    "rdChemReactions.Compute2DCoordsForReaction(rxn_ABT)\n",
    "# prepare for enumeration\n",
    "rxn_TH.Initialize()\n",
    "rxn_ABT.Initialize()\n",
    "# validate reactions\n",
    "n_warn_TH, n_err_TH = rxn_TH.Validate(silent=True)\n",
    "n_warn_ABT, n_err_ABT = rxn_ABT.Validate(silent=True)\n",
    "if n_err_TH > 0:\n",
    "    raise ValueError(f'Invalid reaction gave {n_err_TH} errors in validation')\n",
    "if n_err_ABT > 0:\n",
    "    raise ValueError(f'Invalid reaction gave {n_err_ABT} errors in validation')"
   ]
  },
  {
   "cell_type": "code",
   "execution_count": null,
   "metadata": {
    "ExecuteTime": {
     "end_time": "2023-07-20T09:41:47.762546Z",
     "start_time": "2023-07-20T09:41:47.740908Z"
    }
   },
   "outputs": [],
   "source": [
    "Draw.ReactionToImage(rxn_TH)"
   ]
  },
  {
   "cell_type": "code",
   "execution_count": null,
   "metadata": {
    "ExecuteTime": {
     "end_time": "2023-07-20T09:41:48.009579Z",
     "start_time": "2023-07-20T09:41:47.995039Z"
    }
   },
   "outputs": [],
   "source": [
    "Draw.ReactionToImage(rxn_ABT)"
   ]
  },
  {
   "cell_type": "code",
   "execution_count": null,
   "metadata": {},
   "outputs": [],
   "source": [
    "res[0:3]"
   ]
  },
  {
   "cell_type": "code",
   "execution_count": null,
   "metadata": {
    "ExecuteTime": {
     "end_time": "2023-07-20T09:43:01.236893Z",
     "start_time": "2023-07-20T09:43:00.005878Z"
    }
   },
   "outputs": [],
   "source": [
    "# test the reactions on the first three records\n",
    "# NOTE: It is expected that map_reactions(rxn_TH, ...) prints an error for ABTs and vice versa\n",
    "rxn = map_reactions(rxn_TH, [[Chem.Mol(desalt_building_block(Chem.MolFromSmiles(smiles))) for smiles in reaction[5:]] for reaction in res[0:3]])"
   ]
  },
  {
   "cell_type": "code",
   "execution_count": null,
   "metadata": {
    "ExecuteTime": {
     "end_time": "2023-07-20T09:44:09.173825Z",
     "start_time": "2023-07-20T09:44:09.157250Z"
    }
   },
   "outputs": [],
   "source": [
    "# check enumerated reactions\n",
    "rxn[0][0]"
   ]
  },
  {
   "cell_type": "code",
   "execution_count": null,
   "metadata": {
    "ExecuteTime": {
     "end_time": "2023-07-20T09:44:05.684092Z",
     "start_time": "2023-07-20T09:44:05.267900Z"
    }
   },
   "outputs": [],
   "source": [
    "# enumerate ABT reactions\n",
    "rxns_abt = map_reactions(rxn_ABT, [[Chem.Mol(desalt_building_block(Chem.MolFromSmiles(smiles))) for smiles in reaction[5:]] for reaction in res])"
   ]
  },
  {
   "cell_type": "code",
   "execution_count": null,
   "metadata": {
    "ExecuteTime": {
     "end_time": "2023-07-20T10:00:04.965844Z",
     "start_time": "2023-07-20T09:45:01.867809Z"
    }
   },
   "outputs": [],
   "source": [
    "# enumerate TH reactions\n",
    "rxns_th = map_reactions(rxn_TH, [[Chem.Mol(desalt_building_block(Chem.MolFromSmiles(smiles))) for smiles in reaction[5:]] for reaction in res])"
   ]
  },
  {
   "cell_type": "code",
   "execution_count": null,
   "metadata": {},
   "outputs": [],
   "source": [
    "# combine ABT and TH reactions\n",
    "rxns = [a if a else b for a,b in zip(rxns_abt, rxns_th)]\n",
    "\n",
    "len(rxns)"
   ]
  },
  {
   "cell_type": "code",
   "execution_count": null,
   "metadata": {},
   "outputs": [],
   "source": [
    "# verify this worked\n",
    "for r in rxns:\n",
    "    assert r is not None\n",
    "    assert len(r) == 1"
   ]
  },
  {
   "cell_type": "code",
   "execution_count": null,
   "metadata": {},
   "outputs": [],
   "source": [
    "rxns = [r[0] for r in rxns]"
   ]
  },
  {
   "cell_type": "code",
   "execution_count": null,
   "metadata": {},
   "outputs": [],
   "source": [
    "reaction_smiles_atom_mapped = [rdChemReactions.ReactionToSmiles(r) for r in rxns]"
   ]
  },
  {
   "cell_type": "code",
   "execution_count": null,
   "metadata": {
    "ExecuteTime": {
     "end_time": "2023-07-20T09:41:49.157800Z",
     "start_time": "2023-07-20T09:41:49.150391Z"
    }
   },
   "outputs": [],
   "source": [
    "# assemble results for committing to DB\n",
    "data = [(*i, j, k) for i, j, k in zip(res, reaction_smiles, reaction_smiles_atom_mapped)]"
   ]
  },
  {
   "cell_type": "code",
   "execution_count": null,
   "metadata": {},
   "outputs": [],
   "source": [
    "with con.con:\n",
    "    con.con.executemany(\"INSERT INTO representations (experiment_id, I_long, M_long, T_long, product_A_smiles, I_smiles, M_smiles, T_smiles, reaction_smiles, reaction_smiles_atom_mapped) VALUES (?, ?, ?, ?, ?, ?, ?, ?, ?, ?);\", data)"
   ]
  }
 ],
 "metadata": {
  "kernelspec": {
   "display_name": "Python 3 (ipykernel)",
   "language": "python",
   "name": "python3"
  },
  "language_info": {
   "codemirror_mode": {
    "name": "ipython",
    "version": 3
   },
   "file_extension": ".py",
   "mimetype": "text/x-python",
   "name": "python",
   "nbconvert_exporter": "python",
   "pygments_lexer": "ipython3",
   "version": "3.9.7"
  }
 },
 "nbformat": 4,
 "nbformat_minor": 1
}
