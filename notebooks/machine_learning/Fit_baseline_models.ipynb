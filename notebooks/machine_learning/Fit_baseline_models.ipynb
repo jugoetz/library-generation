{
 "cells": [
  {
   "cell_type": "markdown",
   "id": "600d5503",
   "metadata": {},
   "source": [
    "# Initial attempt to learn from SF data\n",
    "\n",
    "We use only basic algorithms"
   ]
  },
  {
   "cell_type": "code",
   "execution_count": 1,
   "id": "00abe202",
   "metadata": {},
   "outputs": [],
   "source": [
    "import os\n",
    "import sqlite3\n",
    "import sys\n",
    "\n",
    "import matplotlib.pyplot as plt\n",
    "import numpy as np\n",
    "import pandas as pd\n",
    "import seaborn as sns\n",
    "from matplotlib import cm\n",
    "from rdkit import Chem\n",
    "from rdkit.Chem.Descriptors import rdMolDescriptors\n",
    "from sklearn.linear_model import LogisticRegression\n",
    "from sklearn.metrics import accuracy_score, balanced_accuracy_score, f1_score, confusion_matrix\n",
    "from sklearn.model_selection import train_test_split\n",
    "from sklearn.preprocessing import StandardScaler\n",
    "\n",
    "sys.path.insert(0, os.path.abspath('../..'))\n",
    "\n",
    "from src.definitions import DB_PATH\n",
    "from src.util.db_utils import SynFermDatabaseConnection"
   ]
  },
  {
   "cell_type": "code",
   "execution_count": 2,
   "id": "a1518bc9",
   "metadata": {},
   "outputs": [],
   "source": [
    "db = SynFermDatabaseConnection()  # we will use this for various simple queries"
   ]
  },
  {
   "cell_type": "code",
   "execution_count": 3,
   "id": "746e38f3",
   "metadata": {},
   "outputs": [
    {
     "name": "stdout",
     "output_type": "stream",
     "text": [
      "Number of reactions (in total): 58664\n"
     ]
    }
   ],
   "source": [
    "con = sqlite3.connect(DB_PATH)\n",
    "df_full = pd.read_sql('SELECT * FROM experiments', con, index_col='id', coerce_float=False)\n",
    "con.close()\n",
    "print(f'Number of reactions (in total): {len(df_full)}')"
   ]
  },
  {
   "cell_type": "code",
   "execution_count": 4,
   "id": "2793859d",
   "metadata": {},
   "outputs": [
    {
     "name": "stdout",
     "output_type": "stream",
     "text": [
      "Number of reactions considered here: 49920\n"
     ]
    }
   ],
   "source": [
    "# select experiment numbers for further analysis\n",
    "start_exp_nr = 4  # kick out invalid experiments (SOP changed after exp3)\n",
    "end_exp_nr = 29  # (inclusive)\n",
    "\n",
    "df_full = df_full.loc[df_full['exp_nr'].between(start_exp_nr, end_exp_nr)]  \n",
    "                      \n",
    "print(f'Number of reactions considered here: {len(df_full)}')"
   ]
  },
  {
   "cell_type": "code",
   "execution_count": 5,
   "id": "a3015de6",
   "metadata": {},
   "outputs": [
    {
     "data": {
      "text/html": [
       "<div>\n",
       "<style scoped>\n",
       "    .dataframe tbody tr th:only-of-type {\n",
       "        vertical-align: middle;\n",
       "    }\n",
       "\n",
       "    .dataframe tbody tr th {\n",
       "        vertical-align: top;\n",
       "    }\n",
       "\n",
       "    .dataframe thead th {\n",
       "        text-align: right;\n",
       "    }\n",
       "</style>\n",
       "<table border=\"1\" class=\"dataframe\">\n",
       "  <thead>\n",
       "    <tr style=\"text-align: right;\">\n",
       "      <th></th>\n",
       "      <th>exp_nr</th>\n",
       "      <th>plate_nr</th>\n",
       "      <th>well</th>\n",
       "      <th>lab_journal_number</th>\n",
       "      <th>synthesis_date_unixepoch</th>\n",
       "      <th>initiator</th>\n",
       "      <th>monomer</th>\n",
       "      <th>terminator</th>\n",
       "      <th>initiator_long</th>\n",
       "      <th>monomer_long</th>\n",
       "      <th>...</th>\n",
       "      <th>product_A_smiles</th>\n",
       "      <th>product_B_smiles</th>\n",
       "      <th>product_C_smiles</th>\n",
       "      <th>product_D_smiles</th>\n",
       "      <th>product_E_smiles</th>\n",
       "      <th>product_F_smiles</th>\n",
       "      <th>product_G_smiles</th>\n",
       "      <th>product_H_smiles</th>\n",
       "      <th>vl_id</th>\n",
       "      <th>valid</th>\n",
       "    </tr>\n",
       "    <tr>\n",
       "      <th>id</th>\n",
       "      <th></th>\n",
       "      <th></th>\n",
       "      <th></th>\n",
       "      <th></th>\n",
       "      <th></th>\n",
       "      <th></th>\n",
       "      <th></th>\n",
       "      <th></th>\n",
       "      <th></th>\n",
       "      <th></th>\n",
       "      <th></th>\n",
       "      <th></th>\n",
       "      <th></th>\n",
       "      <th></th>\n",
       "      <th></th>\n",
       "      <th></th>\n",
       "      <th></th>\n",
       "      <th></th>\n",
       "      <th></th>\n",
       "      <th></th>\n",
       "      <th></th>\n",
       "    </tr>\n",
       "  </thead>\n",
       "  <tbody>\n",
       "  </tbody>\n",
       "</table>\n",
       "<p>0 rows × 31 columns</p>\n",
       "</div>"
      ],
      "text/plain": [
       "Empty DataFrame\n",
       "Columns: [exp_nr, plate_nr, well, lab_journal_number, synthesis_date_unixepoch, initiator, monomer, terminator, initiator_long, monomer_long, terminator_long, long_name, product_A_lcms_ratio, product_B_lcms_ratio, product_C_lcms_ratio, product_D_lcms_ratio, product_E_lcms_ratio, product_F_lcms_ratio, product_G_lcms_ratio, product_H_lcms_ratio, comment, product_A_smiles, product_B_smiles, product_C_smiles, product_D_smiles, product_E_smiles, product_F_smiles, product_G_smiles, product_H_smiles, vl_id, valid]\n",
       "Index: []\n",
       "\n",
       "[0 rows x 31 columns]"
      ]
     },
     "execution_count": 5,
     "metadata": {},
     "output_type": "execute_result"
    }
   ],
   "source": [
    "# doublecheck that there are no \"empty\" experiments where results are missing\n",
    "df_full[df_full[\"product_A_lcms_ratio\"].isna()]"
   ]
  },
  {
   "cell_type": "code",
   "execution_count": 6,
   "id": "7655250a",
   "metadata": {},
   "outputs": [
    {
     "data": {
      "text/plain": [
       "Index(['WARNING: multiple peaks for product A (2)',\n",
       "       'WARNING: multiple peaks for product A (3)',\n",
       "       'WARNING: multiple peaks for product A (4)',\n",
       "       'WARNING: heating failure on first step',\n",
       "       'WARNING: heating failure on first step; WARNING: multiple peaks for product A (2)',\n",
       "       'WARNING: heating failure on first step; WARNING: multiple peaks for product A (3)',\n",
       "       'WARNING: QC T9 peak not found', 'WARNING: QC M36 [M-2+H]+ found',\n",
       "       'WARNING: QC M53 peak not found', 'WARNING: QC M48 peak not found',\n",
       "       'WARNING: heating failure on first step; WARNING: multiple peaks for product A (4)',\n",
       "       'WARNING: QC M27 contaminated', 'WARNING: QC M39 contaminated',\n",
       "       'WARNING: QC M36 peak not found', 'WARNING: bad LCMS I45',\n",
       "       'WARNING: bad LCMS I56', 'WARNING: QC M11 contaminated',\n",
       "       'WARNING: QC I45 peak not found', 'WARNING: QC I57 peak not found',\n",
       "       'WARNING: QC M12 contaminated', 'WARNING: QC I56 acid found',\n",
       "       'WARNING: QC I17 peak not found', 'WARNING: QC I51 peak not found',\n",
       "       'WARNING: QC I56 acid found; WARNING: multiple peaks for product A (2)',\n",
       "       'WARNING: bad LCMS M54; WARNING: multiple peaks for product A (3)',\n",
       "       'WARNING: bad LCMS M54',\n",
       "       'WARNING: QC M48 peak not found; WARNING: multiple peaks for product A (2)',\n",
       "       'WARNING: QC I17 peak not found; WARNING: multiple peaks for product A (2)',\n",
       "       'WARNING: QC M12 contaminated; WARNING: multiple peaks for product A (2)',\n",
       "       'WARNING: bad LCMS M54; WARNING: multiple peaks for product A (2)',\n",
       "       'WARNING: bad LCMS M54; WARNING: multiple peaks for product A (4)',\n",
       "       'WARNING: QC M53 peak not found; WARNING: multiple peaks for product A (2)',\n",
       "       'WARNING: QC I51 peak not found; WARNING: multiple peaks for product A (2)',\n",
       "       'WARNING: QC I57 peak not found; WARNING: multiple peaks for product A (2)',\n",
       "       'WARNING: bad LCMS I56; WARNING: multiple peaks for product A (2)',\n",
       "       'WARNING: QC M11 contaminated; WARNING: multiple peaks for product A (2)',\n",
       "       'WARNING: QC M39 contaminated; WARNING: QC T9 peak not found',\n",
       "       'WARNING: QC M12 contaminated; WARNING: multiple peaks for product A (4)',\n",
       "       'WARNING: QC I51 peak not found; WARNING: QC T9 peak not found',\n",
       "       'WARNING: QC M36 peak not found; WARNING: QC T9 peak not found',\n",
       "       'WARNING: QC I45 peak not found; WARNING: QC M36 peak not found',\n",
       "       'WARNING: QC M11 contaminated; WARNING: QC T9 peak not found',\n",
       "       'WARNING: bad LCMS I56; WARNING: multiple peaks for product A (3)',\n",
       "       'WARNING: QC I45 peak not found; WARNING: QC T9 peak not found',\n",
       "       'WARNING: QC I57 peak not found; WARNING: QC T9 peak not found',\n",
       "       'WARNING: QC I51 peak not found; WARNING: QC M39 contaminated',\n",
       "       'WARNING: QC I57 peak not found; WARNING: QC M11 contaminated',\n",
       "       'WARNING: QC M12 contaminated; WARNING: multiple peaks for product A (3)',\n",
       "       'WARNING: precipitation I36; WARNING: multiple peaks for product A (2)',\n",
       "       'WARNING: QC M36 peak not found; WARNING: multiple peaks for product A (2)',\n",
       "       'WARNING: QC I51 peak not found; WARNING: multiple peaks for product A (3)',\n",
       "       'WARNING: QC I57 peak not found; WARNING: QC M39 contaminated',\n",
       "       'WARNING: QC I51 peak not found; WARNING: QC M11 contaminated',\n",
       "       'WARNING: bad LCMS I56; WARNING: multiple peaks for product A (4)',\n",
       "       'WARNING: precipitation I36',\n",
       "       'WARNING: QC I56 acid found; WARNING: QC M27 contaminated',\n",
       "       'WARNING: QC I17 peak not found; WARNING: multiple peaks for product A (3)',\n",
       "       'WARNING: QC M36 [M-2+H]+ found; WARNING: multiple peaks for product A (2)',\n",
       "       'WARNING: QC I17 peak not found; WARNING: QC M12 contaminated',\n",
       "       'WARNING: QC I56 acid found; WARNING: multiple peaks for product A (3)',\n",
       "       'WARNING: precipitation I36; WARNING: multiple peaks for product A (3)',\n",
       "       'WARNING: QC M48 peak not found; WARNING: multiple peaks for product A (3)',\n",
       "       'WARNING: QC I17 peak not found; WARNING: multiple peaks for product A (4)',\n",
       "       'WARNING: QC I57 peak not found; WARNING: multiple peaks for product A (4)',\n",
       "       'WARNING: QC I51 peak not found; WARNING: multiple peaks for product A (4)',\n",
       "       'WARNING: QC I57 peak not found; WARNING: multiple peaks for product A (3)',\n",
       "       'WARNING: QC I56 acid found; WARNING: multiple peaks for product A (4)',\n",
       "       'WARNING: QC M11 contaminated; WARNING: multiple peaks for product A (3)',\n",
       "       'WARNING: QC I17 peak not found; WARNING: QC M12 contaminated; WARNING: multiple peaks for product A (3)',\n",
       "       'WARNING: QC I45 peak not found; WARNING: multiple peaks for product A (2)',\n",
       "       'WARNING: QC M53 peak not found; WARNING: multiple peaks for product A (3)',\n",
       "       'WARNING: QC T9 peak not found; WARNING: multiple peaks for product A (3)',\n",
       "       'WARNING: QC M48 peak not found; WARNING: multiple peaks for product A (4)',\n",
       "       'WARNING: QC I57 peak not found; WARNING: QC M39 contaminated; WARNING: QC T9 peak not found',\n",
       "       'WARNING: QC I57 peak not found; WARNING: QC M39 contaminated; WARNING: multiple peaks for product A (2)',\n",
       "       'WARNING: QC I45 peak not found; WARNING: multiple peaks for product A (3)',\n",
       "       'WARNING: QC I51 peak not found; WARNING: QC M39 contaminated; WARNING: QC T9 peak not found',\n",
       "       'WARNING: QC I45 peak not found; WARNING: QC M36 peak not found; WARNING: QC T9 peak not found',\n",
       "       'WARNING: QC M27 contaminated; WARNING: multiple peaks for product A (2)',\n",
       "       'WARNING: QC M36 peak not found; WARNING: multiple peaks for product A (4)',\n",
       "       'WARNING: QC M36 peak not found; WARNING: multiple peaks for product A (3)',\n",
       "       'WARNING: QC M36 [M-2+H]+ found; WARNING: multiple peaks for product A (4)',\n",
       "       'WARNING: QC I17 peak not found; WARNING: QC M12 contaminated; WARNING: multiple peaks for product A (2)',\n",
       "       'WARNING: QC M27 contaminated; WARNING: multiple peaks for product A (3)',\n",
       "       'WARNING: QC T9 peak not found; WARNING: multiple peaks for product A (2)',\n",
       "       'WARNING: QC I57 peak not found; WARNING: QC M11 contaminated; WARNING: QC T9 peak not found',\n",
       "       'WARNING: QC M11 contaminated; WARNING: multiple peaks for product A (4)',\n",
       "       'WARNING: QC I51 peak not found; WARNING: QC M11 contaminated; WARNING: multiple peaks for product A (2)',\n",
       "       'WARNING: QC I51 peak not found; WARNING: QC M11 contaminated; WARNING: multiple peaks for product A (3)',\n",
       "       'WARNING: QC I51 peak not found; WARNING: QC M11 contaminated; WARNING: QC T9 peak not found',\n",
       "       'WARNING: bad LCMS I45; WARNING: multiple peaks for product A (2)'],\n",
       "      dtype='object')"
      ]
     },
     "execution_count": 6,
     "metadata": {},
     "output_type": "execute_result"
    }
   ],
   "source": [
    "df_full.loc[~df_full[\"valid\"].str.contains(\"ERROR\", na=False), \"valid\"].value_counts().index"
   ]
  },
  {
   "cell_type": "code",
   "execution_count": 7,
   "id": "91b3b625",
   "metadata": {},
   "outputs": [
    {
     "data": {
      "text/plain": [
       "False    26104\n",
       "True     23816\n",
       "Name: valid, dtype: int64"
      ]
     },
     "execution_count": 7,
     "metadata": {},
     "output_type": "execute_result"
    }
   ],
   "source": [
    "df_full[\"valid\"].isna().value_counts()"
   ]
  },
  {
   "cell_type": "code",
   "execution_count": 8,
   "id": "b066dc0a",
   "metadata": {},
   "outputs": [
    {
     "data": {
      "text/plain": [
       "41735"
      ]
     },
     "execution_count": 8,
     "metadata": {},
     "output_type": "execute_result"
    }
   ],
   "source": [
    "# remove everything that says ERROR\n",
    "df_full = df_full.loc[~df_full[\"valid\"].str.contains(\"ERROR\", na=False)]\n",
    "len(df_full)"
   ]
  },
  {
   "cell_type": "code",
   "execution_count": 9,
   "id": "f89b3243",
   "metadata": {},
   "outputs": [
    {
     "data": {
      "text/plain": [
       "<Axes: ylabel='Frequency'>"
      ]
     },
     "execution_count": 9,
     "metadata": {},
     "output_type": "execute_result"
    },
    {
     "data": {
      "image/png": "[encoded data removed]",
      "text/plain": [
       "<Figure size 640x480 with 1 Axes>"
      ]
     },
     "metadata": {},
     "output_type": "display_data"
    }
   ],
   "source": [
    "# plot everything with a value > 0\n",
    "df_full.loc[df_full[\"product_A_lcms_ratio\"].between(1e-10,1), \"product_A_lcms_ratio\"].plot.hist(bins=400)"
   ]
  },
  {
   "cell_type": "code",
   "execution_count": 10,
   "id": "63e0d7d4",
   "metadata": {},
   "outputs": [],
   "source": [
    "# We assign classes 0 (failure) and 1 (success) by >0\n",
    "\n",
    "df_full[\"product_A_outcome\"] = 0\n",
    "df_full.loc[df_full[\"product_A_lcms_ratio\"] > 0, \"product_A_outcome\"] = 1"
   ]
  },
  {
   "cell_type": "code",
   "execution_count": 11,
   "id": "43533904",
   "metadata": {
    "scrolled": true
   },
   "outputs": [
    {
     "data": {
      "text/plain": [
       "1    32519\n",
       "0     9216\n",
       "Name: product_A_outcome, dtype: int64"
      ]
     },
     "execution_count": 11,
     "metadata": {},
     "output_type": "execute_result"
    }
   ],
   "source": [
    "df_full[\"product_A_outcome\"].value_counts()"
   ]
  },
  {
   "cell_type": "code",
   "execution_count": 12,
   "id": "d5233cb5",
   "metadata": {},
   "outputs": [
    {
     "data": {
      "text/plain": [
       "0.7791781478375465"
      ]
     },
     "execution_count": 12,
     "metadata": {},
     "output_type": "execute_result"
    }
   ],
   "source": [
    "# %pos class\n",
    "df_full[\"product_A_outcome\"].value_counts()[1] / len(df_full)"
   ]
  },
  {
   "cell_type": "code",
   "execution_count": 13,
   "id": "47d76dd4",
   "metadata": {},
   "outputs": [],
   "source": [
    "descriptor_names = list(rdMolDescriptors.Properties.GetAvailableProperties())\n",
    "\n",
    "get_descriptors = rdMolDescriptors.Properties(descriptor_names)\n",
    "\n",
    "def smi_to_descriptors(smile):\n",
    "    mol = Chem.MolFromSmiles(smile)\n",
    "    descriptors = []\n",
    "    if mol:\n",
    "        descriptors = np.array(get_descriptors.ComputeProperties(mol))\n",
    "    return descriptors"
   ]
  },
  {
   "cell_type": "code",
   "execution_count": 14,
   "id": "12389f8f",
   "metadata": {},
   "outputs": [],
   "source": [
    "df_full['descriptors'] = df_full[\"product_A_smiles\"].apply(smi_to_descriptors)"
   ]
  },
  {
   "cell_type": "code",
   "execution_count": 15,
   "id": "fc41ab49",
   "metadata": {},
   "outputs": [],
   "source": [
    "df_pred = df_full.dropna(subset=[\"descriptors\", \"product_A_outcome\"])"
   ]
  },
  {
   "cell_type": "code",
   "execution_count": 16,
   "id": "4ee13e62",
   "metadata": {},
   "outputs": [],
   "source": [
    "# extract our data\n",
    "X = np.stack(df_pred[\"descriptors\"].values.tolist())\n",
    "y = df_pred[\"product_A_outcome\"].values"
   ]
  },
  {
   "cell_type": "code",
   "execution_count": 17,
   "id": "8eed87dd",
   "metadata": {},
   "outputs": [
    {
     "data": {
      "text/plain": [
       "(41735, 43)"
      ]
     },
     "execution_count": 17,
     "metadata": {},
     "output_type": "execute_result"
    }
   ],
   "source": [
    "X.shape"
   ]
  },
  {
   "cell_type": "code",
   "execution_count": 18,
   "id": "27893f4c",
   "metadata": {
    "scrolled": true
   },
   "outputs": [
    {
     "data": {
      "text/plain": [
       "(41735,)"
      ]
     },
     "execution_count": 18,
     "metadata": {},
     "output_type": "execute_result"
    }
   ],
   "source": [
    "y.shape"
   ]
  },
  {
   "cell_type": "code",
   "execution_count": 19,
   "id": "5bab6cf4",
   "metadata": {},
   "outputs": [],
   "source": [
    "# train-test split (produce indices)\n",
    "X_train, X_test, y_train, y_test = train_test_split(X, y, test_size=0.2)\n",
    "X_train, X_val, y_train, y_val = train_test_split(X_train, y_train, test_size=0.1)"
   ]
  },
  {
   "cell_type": "code",
   "execution_count": 20,
   "id": "7a3fa1ed",
   "metadata": {},
   "outputs": [],
   "source": [
    "# train-test split\n",
    "X_train, X_test, y_train, y_test = train_test_split(X, y, test_size=0.2)\n",
    "X_train, X_val, y_train, y_val = train_test_split(X_train, y_train, test_size=0.1)"
   ]
  },
  {
   "cell_type": "code",
   "execution_count": 21,
   "id": "979e2723",
   "metadata": {},
   "outputs": [],
   "source": [
    "# scaling\n",
    "scaler = StandardScaler()\n",
    "X_train = scaler.fit_transform(X_train)\n",
    "X_val = scaler.transform(X_val)\n",
    "X_test = scaler.transform(X_test)"
   ]
  },
  {
   "cell_type": "code",
   "execution_count": 22,
   "id": "80966c8e",
   "metadata": {},
   "outputs": [],
   "source": [
    "# hparam search\n",
    "val_scores = []\n",
    "Cs = np.logspace(-3, 4, num=100)\n",
    "for C in Cs:\n",
    "    model = LogisticRegression(C=C, solver=\"newton-cholesky\")\n",
    "    model.fit(X_train, y_train)\n",
    "    y_hat = model.predict(X_val)\n",
    "    val_scores.append(accuracy_score(y_val, y_hat))"
   ]
  },
  {
   "cell_type": "code",
   "execution_count": 23,
   "id": "6d5e909a",
   "metadata": {},
   "outputs": [
    {
     "data": {
      "image/png": "[encoded data removed]",
      "text/plain": [
       "<Figure size 640x480 with 1 Axes>"
      ]
     },
     "metadata": {},
     "output_type": "display_data"
    }
   ],
   "source": [
    "# show hparam search results\n",
    "plt.plot(Cs, val_scores)\n",
    "plt.xscale(\"log\")\n",
    "plt.show()"
   ]
  },
  {
   "cell_type": "code",
   "execution_count": 24,
   "id": "9bf0a87d",
   "metadata": {},
   "outputs": [
    {
     "name": "stdout",
     "output_type": "stream",
     "text": [
      "236.4489412645407\n"
     ]
    }
   ],
   "source": [
    "# best C\n",
    "best_C = Cs[np.argmax(val_scores)]\n",
    "print(best_C)"
   ]
  },
  {
   "cell_type": "code",
   "execution_count": 25,
   "id": "046102b0",
   "metadata": {},
   "outputs": [
    {
     "name": "stdout",
     "output_type": "stream",
     "text": [
      "Accuracy: 0.8095123996645501\n",
      "Balanced Accuracy: 0.770292011345975\n",
      "F1-score: 0.9429241075010362\n"
     ]
    }
   ],
   "source": [
    "# refit best model and evaluate on test set\n",
    "model = LogisticRegression(C=best_C, solver=\"newton-cholesky\")\n",
    "model.fit(np.concatenate((X_train, X_val)), np.concatenate((y_train, y_val)))\n",
    "y_hat = model.predict(X_test)\n",
    "\n",
    "print(f\"Accuracy: {accuracy_score(y_test, y_hat)}\")\n",
    "print(f\"Balanced Accuracy: {np.sqrt(balanced_accuracy_score(y_test, y_hat))}\")\n",
    "print(f\"F1-score: {np.sqrt(f1_score(y_test, y_hat))}\")"
   ]
  },
  {
   "cell_type": "code",
   "execution_count": 26,
   "id": "3a0818b2",
   "metadata": {},
   "outputs": [
    {
     "data": {
      "text/plain": [
       "0.7830358212531449"
      ]
     },
     "execution_count": 26,
     "metadata": {},
     "output_type": "execute_result"
    }
   ],
   "source": [
    "y_test.mean()"
   ]
  },
  {
   "cell_type": "code",
   "execution_count": 27,
   "id": "ec7d78f8",
   "metadata": {},
   "outputs": [
    {
     "data": {
      "image/png": "[encoded data removed]",
      "text/plain": [
       "<Figure size 300x267 with 2 Axes>"
      ]
     },
     "metadata": {},
     "output_type": "display_data"
    }
   ],
   "source": [
    "plt.figure(figsize=(3,2.67))\n",
    "sns.heatmap(confusion_matrix(y_test, y_hat), annot=True, fmt=\"01\", cmap=sns.color_palette(\"mako_r\", as_cmap=True))\n",
    "plt.xlabel(\"Predicted\")\n",
    "plt.ylabel(\"True\")\n",
    "plt.tight_layout()\n",
    "plt.savefig(\"confusion_matrix_LogReg_props.png\", dpi=300)"
   ]
  },
  {
   "cell_type": "code",
   "execution_count": 28,
   "id": "67fe7bdb",
   "metadata": {},
   "outputs": [],
   "source": [
    "# get highest coefficients\n",
    "highest_coefs = np.argsort(np.abs(model.coef_.flatten()))[::-1]"
   ]
  },
  {
   "cell_type": "code",
   "execution_count": 29,
   "id": "72b5c0be",
   "metadata": {},
   "outputs": [
    {
     "name": "stdout",
     "output_type": "stream",
     "text": [
      "NumHeavyAtoms\n",
      "-66.09344012379077\n",
      "chi0n\n",
      "23.684953273425084\n",
      "labuteASA\n",
      "23.2248306944182\n",
      "kappa1\n",
      "21.41647542035254\n",
      "exactmw\n",
      "20.74856225371491\n"
     ]
    }
   ],
   "source": [
    "# show most extreme coefficients with their names\n",
    "for idx in highest_coefs[:5]:\n",
    "    print(descriptor_names[idx])\n",
    "    print(model.coef_.flatten()[idx])"
   ]
  },
  {
   "cell_type": "code",
   "execution_count": 30,
   "id": "b93054b0",
   "metadata": {},
   "outputs": [],
   "source": [
    "# helper function\n",
    "def iterable_to_nested_list(list_to_break_up, inner_len, pad_last=False, pad_value=None):\n",
    "    \"\"\"Break up list into nested lists of given length\"\"\"\n",
    "    # invert list for fast pop()\n",
    "    list_tmp = list(reversed(list_to_break_up))\n",
    "\n",
    "    outer_list = []\n",
    "    while len(list_tmp) > 0:\n",
    "        inner_list = []\n",
    "        while len(inner_list) < inner_len:\n",
    "            if len(list_tmp) == 0:\n",
    "                if pad_last:\n",
    "                    while len(inner_list) < inner_len:\n",
    "                        inner_list.append(pad_value)\n",
    "                break\n",
    "            inner_list.append(list_tmp.pop())\n",
    "        outer_list.append(inner_list)\n",
    "    return outer_list"
   ]
  },
  {
   "cell_type": "code",
   "execution_count": 31,
   "id": "d1207d6b",
   "metadata": {},
   "outputs": [
    {
     "data": {
      "image/png": "[encoded data removed]",
      "text/plain": [
       "<Figure size 1800x400 with 1 Axes>"
      ]
     },
     "metadata": {},
     "output_type": "display_data"
    }
   ],
   "source": [
    "# show most extreme descriptors\n",
    "fig, ax = plt.subplots(figsize=(18,4))\n",
    "ax.axis('tight')\n",
    "ax.axis('off')\n",
    "\n",
    "norm = plt.Normalize()\n",
    "colors = iterable_to_nested_list(cm.PuOr(norm(model.coef_.flatten())), 5,True,  np.array([1.,1.,1.,1.]))\n",
    "\n",
    "ax.table(cellText = iterable_to_nested_list(descriptor_names, 5, True, \"-\"), cellColours=colors, loc='center')\n",
    "plt.show()"
   ]
  },
  {
   "cell_type": "code",
   "execution_count": 32,
   "id": "a4850c29",
   "metadata": {},
   "outputs": [
    {
     "data": {
      "text/html": [
       "<div>\n",
       "<style scoped>\n",
       "    .dataframe tbody tr th:only-of-type {\n",
       "        vertical-align: middle;\n",
       "    }\n",
       "\n",
       "    .dataframe tbody tr th {\n",
       "        vertical-align: top;\n",
       "    }\n",
       "\n",
       "    .dataframe thead th {\n",
       "        text-align: right;\n",
       "    }\n",
       "</style>\n",
       "<table border=\"1\" class=\"dataframe\">\n",
       "  <thead>\n",
       "    <tr style=\"text-align: right;\">\n",
       "      <th></th>\n",
       "      <th>initiator</th>\n",
       "      <th>monomer</th>\n",
       "      <th>terminator</th>\n",
       "    </tr>\n",
       "    <tr>\n",
       "      <th>id</th>\n",
       "      <th></th>\n",
       "      <th></th>\n",
       "      <th></th>\n",
       "    </tr>\n",
       "  </thead>\n",
       "  <tbody>\n",
       "    <tr>\n",
       "      <th>10578</th>\n",
       "      <td>I67</td>\n",
       "      <td>M20</td>\n",
       "      <td>T25</td>\n",
       "    </tr>\n",
       "    <tr>\n",
       "      <th>10579</th>\n",
       "      <td>I67</td>\n",
       "      <td>M20</td>\n",
       "      <td>T39</td>\n",
       "    </tr>\n",
       "    <tr>\n",
       "      <th>10580</th>\n",
       "      <td>I67</td>\n",
       "      <td>M20</td>\n",
       "      <td>T30</td>\n",
       "    </tr>\n",
       "    <tr>\n",
       "      <th>10581</th>\n",
       "      <td>I67</td>\n",
       "      <td>M20</td>\n",
       "      <td>T34</td>\n",
       "    </tr>\n",
       "    <tr>\n",
       "      <th>10584</th>\n",
       "      <td>I67</td>\n",
       "      <td>M20</td>\n",
       "      <td>T1</td>\n",
       "    </tr>\n",
       "    <tr>\n",
       "      <th>...</th>\n",
       "      <td>...</td>\n",
       "      <td>...</td>\n",
       "      <td>...</td>\n",
       "    </tr>\n",
       "    <tr>\n",
       "      <th>85516</th>\n",
       "      <td>I33</td>\n",
       "      <td>M22</td>\n",
       "      <td>T32</td>\n",
       "    </tr>\n",
       "    <tr>\n",
       "      <th>85517</th>\n",
       "      <td>I33</td>\n",
       "      <td>M22</td>\n",
       "      <td>T31</td>\n",
       "    </tr>\n",
       "    <tr>\n",
       "      <th>85518</th>\n",
       "      <td>I33</td>\n",
       "      <td>M22</td>\n",
       "      <td>T40</td>\n",
       "    </tr>\n",
       "    <tr>\n",
       "      <th>85519</th>\n",
       "      <td>I33</td>\n",
       "      <td>M22</td>\n",
       "      <td>T20</td>\n",
       "    </tr>\n",
       "    <tr>\n",
       "      <th>85520</th>\n",
       "      <td>I33</td>\n",
       "      <td>M22</td>\n",
       "      <td>T7</td>\n",
       "    </tr>\n",
       "  </tbody>\n",
       "</table>\n",
       "<p>41735 rows × 3 columns</p>\n",
       "</div>"
      ],
      "text/plain": [
       "      initiator monomer terminator\n",
       "id                                \n",
       "10578       I67     M20        T25\n",
       "10579       I67     M20        T39\n",
       "10580       I67     M20        T30\n",
       "10581       I67     M20        T34\n",
       "10584       I67     M20         T1\n",
       "...         ...     ...        ...\n",
       "85516       I33     M22        T32\n",
       "85517       I33     M22        T31\n",
       "85518       I33     M22        T40\n",
       "85519       I33     M22        T20\n",
       "85520       I33     M22         T7\n",
       "\n",
       "[41735 rows x 3 columns]"
      ]
     },
     "execution_count": 32,
     "metadata": {},
     "output_type": "execute_result"
    }
   ],
   "source": [
    "# let's train a different model instead: OHE of reactants + FFN\n",
    "from sklearn.preprocessing import OneHotEncoder\n",
    "ohe = OneHotEncoder(sparse_output=False, handle_unknown=\"infrequent_if_exist\")\n",
    "df_OHE = df_pred[[\"initiator\", \"monomer\", \"terminator\"]]\n",
    "df_OHE"
   ]
  },
  {
   "cell_type": "code",
   "execution_count": 33,
   "id": "ca61ad01",
   "metadata": {},
   "outputs": [],
   "source": [
    "X_train, X_test, y_train, y_test = train_test_split(df_OHE.values, y)\n",
    "X_train, X_val, y_train, y_val = train_test_split(X_train, y_train)"
   ]
  },
  {
   "cell_type": "code",
   "execution_count": 34,
   "id": "bcf8d553",
   "metadata": {},
   "outputs": [],
   "source": [
    "X_train_OHE = ohe.fit_transform(X_train)\n",
    "X_val_OHE = ohe.transform(X_val)\n",
    "X_test_OHE = ohe.transform(X_test)"
   ]
  },
  {
   "cell_type": "code",
   "execution_count": 35,
   "id": "7a7bc919",
   "metadata": {},
   "outputs": [],
   "source": [
    "import torch\n"
   ]
  },
  {
   "cell_type": "code",
   "execution_count": 36,
   "id": "12893077",
   "metadata": {},
   "outputs": [],
   "source": [
    "class FFN(torch.nn.Module):\n",
    "    def __init__(self, input_size):\n",
    "        super().__init__()\n",
    "        self.W_i = torch.nn.Linear(input_size, 600, bias=True)\n",
    "        self.W_h = torch.nn.Linear(600, 400, bias=True)\n",
    "        self.W_o = torch.nn.Linear(400, 1, bias=False)\n",
    "        self.activation = torch.nn.ReLU()\n",
    "        \n",
    "    def forward(self, x):\n",
    "        return self.W_o(self.activation(self.W_h(self.activation(self.W_i(x)))))"
   ]
  },
  {
   "cell_type": "code",
   "execution_count": 37,
   "id": "85c158e2",
   "metadata": {},
   "outputs": [],
   "source": [
    "class SFDataset(torch.utils.data.Dataset):\n",
    "    def __init__(self, X, y):\n",
    "        self.X = torch.tensor(X, dtype=torch.float32)\n",
    "        self.y = torch.tensor(y, dtype=torch.float32)\n",
    "        \n",
    "    def __len__(self):\n",
    "        return len(self.X)\n",
    "    \n",
    "    def __getitem__(self, idx):\n",
    "        return self.X[idx], self.y[idx]"
   ]
  },
  {
   "cell_type": "code",
   "execution_count": 38,
   "id": "e4a46804",
   "metadata": {},
   "outputs": [],
   "source": [
    "model = FFN(182)"
   ]
  },
  {
   "cell_type": "code",
   "execution_count": 39,
   "id": "a1d68620",
   "metadata": {},
   "outputs": [],
   "source": [
    "optimizer = torch.optim.Adam(model.parameters(), lr=1e-4)"
   ]
  },
  {
   "cell_type": "code",
   "execution_count": 40,
   "id": "7e86e738",
   "metadata": {},
   "outputs": [],
   "source": [
    "loss_fn = torch.nn.BCEWithLogitsLoss()"
   ]
  },
  {
   "cell_type": "code",
   "execution_count": 41,
   "id": "6521e221",
   "metadata": {},
   "outputs": [],
   "source": [
    "dataset_train = SFDataset(X_train_OHE, y_train)\n",
    "dataset_val = SFDataset(X_val_OHE, y_val)\n",
    "dataset_test = SFDataset(X_test_OHE, y_test)"
   ]
  },
  {
   "cell_type": "code",
   "execution_count": 42,
   "id": "c7577965",
   "metadata": {},
   "outputs": [],
   "source": [
    "training_loader = torch.utils.data.DataLoader(dataset_train, batch_size=32, shuffle=True)"
   ]
  },
  {
   "cell_type": "code",
   "execution_count": 43,
   "id": "c4510714",
   "metadata": {},
   "outputs": [],
   "source": [
    "validation_loader = torch.utils.data.DataLoader(dataset_val, batch_size=32, shuffle=False)"
   ]
  },
  {
   "cell_type": "code",
   "execution_count": 44,
   "id": "db7f9bf3",
   "metadata": {},
   "outputs": [
    {
     "data": {
      "text/plain": [
       "[tensor([[0., 0., 0.,  ..., 0., 0., 0.],\n",
       "         [0., 0., 1.,  ..., 0., 0., 0.],\n",
       "         [0., 0., 0.,  ..., 0., 0., 0.],\n",
       "         ...,\n",
       "         [0., 0., 0.,  ..., 0., 0., 0.],\n",
       "         [0., 0., 0.,  ..., 0., 0., 0.],\n",
       "         [0., 0., 0.,  ..., 0., 0., 0.]]),\n",
       " tensor([1., 0., 1., 1., 1., 1., 0., 1., 1., 1., 0., 0., 1., 0., 1., 1., 1., 1.,\n",
       "         0., 1., 1., 1., 0., 1., 1., 1., 0., 1., 1., 1., 1., 1.])]"
      ]
     },
     "execution_count": 44,
     "metadata": {},
     "output_type": "execute_result"
    }
   ],
   "source": [
    "next(iter(training_loader))"
   ]
  },
  {
   "cell_type": "code",
   "execution_count": 45,
   "id": "9b978216",
   "metadata": {},
   "outputs": [
    {
     "data": {
      "text/plain": [
       "torch.Size([2, 1])"
      ]
     },
     "execution_count": 45,
     "metadata": {},
     "output_type": "execute_result"
    }
   ],
   "source": [
    "torch.tensor([0,1]).reshape(-1,1).shape"
   ]
  },
  {
   "cell_type": "code",
   "execution_count": 46,
   "id": "32663f9f",
   "metadata": {},
   "outputs": [],
   "source": [
    "def train_one_epoch(epoch_index):\n",
    "    running_loss = 0.\n",
    "    last_loss = 0.\n",
    "\n",
    "    # Here, we use enumerate(training_loader) instead of\n",
    "    # iter(training_loader) so that we can track the batch\n",
    "    # index and do some intra-epoch reporting\n",
    "    for i, data in enumerate(training_loader):\n",
    "        # Every data instance is an input + label pair\n",
    "        inputs, labels = data\n",
    "\n",
    "        # Zero your gradients for every batch!\n",
    "        optimizer.zero_grad()\n",
    "\n",
    "        # Make predictions for this batch\n",
    "        outputs = model(inputs)\n",
    "        # Compute the loss and its gradients\n",
    "        loss = loss_fn(outputs, labels.reshape(-1, 1))\n",
    "        \n",
    "        loss.backward()\n",
    "\n",
    "        # Adjust learning weights\n",
    "        optimizer.step()\n",
    "\n",
    "        # Gather data and report\n",
    "        running_loss += loss.item()\n",
    "\n",
    "        last_loss = running_loss / (i+1) # loss per batch\n",
    "        #print('  batch {} loss: {}'.format(i + 1, last_loss))\n",
    "\n",
    "    return last_loss\n"
   ]
  },
  {
   "cell_type": "code",
   "execution_count": 47,
   "id": "66707c51",
   "metadata": {},
   "outputs": [
    {
     "name": "stdout",
     "output_type": "stream",
     "text": [
      "EPOCH 1:\n",
      "LOSS train 0.3941321394708241 valid 0.254343718290329\n",
      "EPOCH 2:\n",
      "LOSS train 0.22086539068728767 valid 0.23811085522174835\n",
      "EPOCH 3:\n",
      "LOSS train 0.20218695716409657 valid 0.22649846971035004\n",
      "EPOCH 4:\n",
      "LOSS train 0.18728872533755667 valid 0.21766403317451477\n",
      "EPOCH 5:\n",
      "LOSS train 0.17172166461008284 valid 0.20958496630191803\n",
      "EPOCH 6:\n",
      "LOSS train 0.15370150381947895 valid 0.20200110971927643\n",
      "EPOCH 7:\n",
      "LOSS train 0.13343014774148731 valid 0.1943673938512802\n",
      "EPOCH 8:\n",
      "LOSS train 0.11235120422295637 valid 0.18910746276378632\n",
      "EPOCH 9:\n",
      "LOSS train 0.09390633269175075 valid 0.18606677651405334\n",
      "EPOCH 10:\n",
      "LOSS train 0.07743472300282088 valid 0.18832868337631226\n",
      "EPOCH 11:\n",
      "LOSS train 0.06294863426623921 valid 0.18453040719032288\n",
      "EPOCH 12:\n",
      "LOSS train 0.05133737967798755 valid 0.19925162196159363\n",
      "EPOCH 13:\n",
      "LOSS train 0.04100968219591711 valid 0.205088809132576\n",
      "EPOCH 14:\n",
      "LOSS train 0.03321077259370362 valid 0.22495749592781067\n",
      "EPOCH 15:\n",
      "LOSS train 0.026028576109536773 valid 0.2135491669178009\n",
      "EPOCH 16:\n",
      "LOSS train 0.020215983180759338 valid 0.2285289168357849\n",
      "EPOCH 17:\n",
      "LOSS train 0.015552626199551957 valid 0.26266154646873474\n",
      "EPOCH 18:\n",
      "LOSS train 0.011736536585841308 valid 0.27494150400161743\n",
      "EPOCH 19:\n",
      "LOSS train 0.009037142619292369 valid 0.28118935227394104\n",
      "EPOCH 20:\n",
      "LOSS train 0.006925615152254972 valid 0.2845696210861206\n",
      "EPOCH 21:\n",
      "LOSS train 0.005051140211446419 valid 0.29309239983558655\n",
      "EPOCH 22:\n",
      "LOSS train 0.0034687492431090526 valid 0.3106400966644287\n",
      "EPOCH 23:\n",
      "LOSS train 0.002502160884243088 valid 0.3278007209300995\n",
      "EPOCH 24:\n",
      "LOSS train 0.0019215085350621503 valid 0.35002315044403076\n",
      "EPOCH 25:\n",
      "LOSS train 0.0014819831573517426 valid 0.359503835439682\n",
      "EPOCH 26:\n",
      "LOSS train 0.0011517973132307993 valid 0.38559144735336304\n",
      "EPOCH 27:\n",
      "LOSS train 0.0008507518214198397 valid 0.3909938335418701\n",
      "EPOCH 28:\n",
      "LOSS train 0.0004204241466090464 valid 0.39489123225212097\n",
      "EPOCH 29:\n",
      "LOSS train 0.0002806415036806163 valid 0.40590181946754456\n",
      "EPOCH 30:\n",
      "LOSS train 0.00022371729271408706 valid 0.4216509163379669\n",
      "EPOCH 31:\n",
      "LOSS train 0.0001606008469856687 valid 0.43386515974998474\n",
      "EPOCH 32:\n",
      "LOSS train 0.0024075148133362737 valid 0.4963781237602234\n",
      "EPOCH 33:\n",
      "LOSS train 0.0006530535805644365 valid 0.44867751002311707\n",
      "EPOCH 34:\n",
      "LOSS train 0.00015097821689731368 valid 0.45235300064086914\n",
      "EPOCH 35:\n",
      "LOSS train 8.66919746643009e-05 valid 0.4534863233566284\n",
      "EPOCH 36:\n",
      "LOSS train 7.313232642423351e-05 valid 0.4565979838371277\n",
      "EPOCH 37:\n",
      "LOSS train 6.447138682344243e-05 valid 0.45722755789756775\n",
      "EPOCH 38:\n",
      "LOSS train 5.578225809658798e-05 valid 0.46522319316864014\n",
      "EPOCH 39:\n",
      "LOSS train 4.781755128242218e-05 valid 0.4646417498588562\n",
      "EPOCH 40:\n",
      "LOSS train 4.04766531475285e-05 valid 0.47640150785446167\n",
      "EPOCH 41:\n",
      "LOSS train 3.485516627963584e-05 valid 0.48602959513664246\n",
      "EPOCH 42:\n",
      "LOSS train 2.8854089314162835e-05 valid 0.502186119556427\n",
      "EPOCH 43:\n",
      "LOSS train 0.0020248220276371776 valid 0.5617283582687378\n",
      "EPOCH 44:\n",
      "LOSS train 0.0001615965744370801 valid 0.5135944485664368\n",
      "EPOCH 45:\n",
      "LOSS train 3.142615531682964e-05 valid 0.5180396437644958\n",
      "EPOCH 46:\n",
      "LOSS train 2.091272237409342e-05 valid 0.5188215374946594\n",
      "EPOCH 47:\n",
      "LOSS train 1.7545350458316297e-05 valid 0.5186660289764404\n",
      "EPOCH 48:\n",
      "LOSS train 1.4995820375131827e-05 valid 0.5209313631057739\n",
      "EPOCH 49:\n",
      "LOSS train 1.3454009170235353e-05 valid 0.5226120948791504\n",
      "EPOCH 50:\n",
      "LOSS train 1.2006843958030234e-05 valid 0.5269765257835388\n",
      "EPOCH 51:\n",
      "LOSS train 1.0792515161907842e-05 valid 0.5292401909828186\n",
      "EPOCH 52:\n",
      "LOSS train 9.578468319259036e-06 valid 0.5369818806648254\n",
      "EPOCH 53:\n",
      "LOSS train 8.469278528073347e-06 valid 0.5392434000968933\n",
      "EPOCH 54:\n",
      "LOSS train 7.541769026485644e-06 valid 0.5521037578582764\n",
      "EPOCH 55:\n",
      "LOSS train 6.743414928271671e-06 valid 0.5534125566482544\n",
      "EPOCH 56:\n",
      "LOSS train 5.177618421652234e-06 valid 0.5657099485397339\n",
      "EPOCH 57:\n",
      "LOSS train 1.6690888582190217e-05 valid 0.6155686378479004\n",
      "EPOCH 58:\n",
      "LOSS train 0.0006914155361423794 valid 0.6091919541358948\n",
      "EPOCH 59:\n",
      "LOSS train 1.0106051027658218e-05 valid 0.5938519239425659\n",
      "EPOCH 60:\n",
      "LOSS train 3.903501920826956e-06 valid 0.5927779078483582\n",
      "EPOCH 61:\n",
      "LOSS train 3.100101830917048e-06 valid 0.5940865278244019\n",
      "EPOCH 62:\n",
      "LOSS train 2.704113598345139e-06 valid 0.5932890176773071\n",
      "EPOCH 63:\n",
      "LOSS train 2.4435941514516433e-06 valid 0.5950401425361633\n",
      "EPOCH 64:\n",
      "LOSS train 2.1959475066673046e-06 valid 0.5966161489486694\n",
      "EPOCH 65:\n",
      "LOSS train 1.9917622703626413e-06 valid 0.5951938629150391\n",
      "EPOCH 66:\n",
      "LOSS train 1.9932276205919304e-06 valid 0.5997300148010254\n",
      "EPOCH 67:\n",
      "LOSS train 1.6634034666658364e-06 valid 0.6062877178192139\n",
      "EPOCH 68:\n",
      "LOSS train 1.4803139374397387e-06 valid 0.6009936928749084\n",
      "EPOCH 69:\n",
      "LOSS train 1.3242457905865862e-06 valid 0.6113108992576599\n",
      "EPOCH 70:\n",
      "LOSS train 1.3899734836907118e-06 valid 0.6167411208152771\n",
      "EPOCH 71:\n",
      "LOSS train 0.001276054908277147 valid 0.6509654521942139\n",
      "EPOCH 72:\n",
      "LOSS train 5.922571001292435e-06 valid 0.6420354247093201\n",
      "EPOCH 73:\n",
      "LOSS train 1.9650819868040428e-06 valid 0.6382975578308105\n",
      "EPOCH 74:\n",
      "LOSS train 1.5570183048281822e-06 valid 0.6366832256317139\n",
      "EPOCH 75:\n",
      "LOSS train 1.3300965450584673e-06 valid 0.6356814503669739\n",
      "EPOCH 76:\n",
      "LOSS train 1.163218268704411e-06 valid 0.6363168954849243\n",
      "EPOCH 77:\n",
      "LOSS train 1.0307232328585117e-06 valid 0.6360132098197937\n",
      "EPOCH 78:\n",
      "LOSS train 9.249839443529677e-07 valid 0.6368781924247742\n",
      "EPOCH 79:\n",
      "LOSS train 8.413806040133246e-07 valid 0.6375483870506287\n",
      "EPOCH 80:\n",
      "LOSS train 7.680541995705727e-07 valid 0.640230119228363\n",
      "EPOCH 81:\n",
      "LOSS train 6.843470487324339e-07 valid 0.6378615498542786\n",
      "EPOCH 82:\n",
      "LOSS train 6.212899954962041e-07 valid 0.6399915218353271\n",
      "EPOCH 83:\n",
      "LOSS train 6.430298836181251e-07 valid 0.6437460780143738\n",
      "EPOCH 84:\n",
      "LOSS train 5.749556985731927e-07 valid 0.6484758853912354\n",
      "EPOCH 85:\n",
      "LOSS train 1.0434417823781606e-06 valid 0.6551147699356079\n",
      "EPOCH 86:\n",
      "LOSS train 0.0011879553938088001 valid 0.6853526830673218\n",
      "EPOCH 87:\n",
      "LOSS train 8.721127515303252e-06 valid 0.6821938157081604\n",
      "EPOCH 88:\n",
      "LOSS train 1.398725208298517e-06 valid 0.6744111180305481\n",
      "EPOCH 89:\n",
      "LOSS train 8.187296506896186e-07 valid 0.6733587384223938\n",
      "EPOCH 90:\n",
      "LOSS train 6.785466498515786e-07 valid 0.6732876896858215\n",
      "EPOCH 91:\n",
      "LOSS train 5.834700362591919e-07 valid 0.671839714050293\n",
      "EPOCH 92:\n",
      "LOSS train 5.1625844356724e-07 valid 0.671286404132843\n",
      "EPOCH 93:\n",
      "LOSS train 4.621491275809004e-07 valid 0.6713380217552185\n",
      "EPOCH 94:\n",
      "LOSS train 4.1279110485711286e-07 valid 0.6725340485572815\n",
      "EPOCH 95:\n",
      "LOSS train 3.7011004011196665e-07 valid 0.6729214787483215\n",
      "EPOCH 96:\n",
      "LOSS train 3.348660254415981e-07 valid 0.6738772988319397\n",
      "EPOCH 97:\n",
      "LOSS train 3.0300214036283306e-07 valid 0.6723300218582153\n",
      "EPOCH 98:\n",
      "LOSS train 2.789617529560501e-07 valid 0.6744962930679321\n",
      "EPOCH 99:\n",
      "LOSS train 2.6235711065398607e-07 valid 0.6758304238319397\n",
      "EPOCH 100:\n",
      "LOSS train 2.3632097263247907e-07 valid 0.6827549934387207\n"
     ]
    }
   ],
   "source": [
    "EPOCHS = 100\n",
    "\n",
    "best_vloss = 1_000_000.\n",
    "\n",
    "for epoch in range(EPOCHS):\n",
    "    print('EPOCH {}:'.format(epoch + 1))\n",
    "\n",
    "    # Make sure gradient tracking is on, and do a pass over the data\n",
    "    model.train(True)\n",
    "    avg_loss = train_one_epoch(epoch)\n",
    "\n",
    "    # We don't need gradients on to do reporting\n",
    "    model.train(False)\n",
    "\n",
    "    running_vloss = 0.0\n",
    "    for i, vdata in enumerate(validation_loader):\n",
    "        vinputs, vlabels = vdata\n",
    "        voutputs = model(vinputs)\n",
    "        vloss = loss_fn(voutputs, vlabels.reshape(-1,1))\n",
    "        running_vloss += vloss\n",
    "\n",
    "    avg_vloss = running_vloss / (i + 1)\n",
    "    print('LOSS train {} valid {}'.format(avg_loss, avg_vloss))\n",
    "\n",
    "    \n",
    "\n",
    "    # Track best performance, and save the model's state\n",
    "    if avg_vloss < best_vloss:\n",
    "        best_vloss = avg_vloss\n",
    "        model_path = 'model_{}'.format(epoch)\n",
    "        torch.save(model.state_dict(), model_path)\n",
    "\n"
   ]
  },
  {
   "cell_type": "code",
   "execution_count": 48,
   "id": "0f4102e3",
   "metadata": {},
   "outputs": [
    {
     "data": {
      "text/plain": [
       "'model_10'"
      ]
     },
     "execution_count": 48,
     "metadata": {},
     "output_type": "execute_result"
    }
   ],
   "source": [
    "model_path"
   ]
  },
  {
   "cell_type": "code",
   "execution_count": 49,
   "id": "989e37a9",
   "metadata": {},
   "outputs": [
    {
     "data": {
      "text/plain": [
       "<All keys matched successfully>"
      ]
     },
     "execution_count": 49,
     "metadata": {},
     "output_type": "execute_result"
    }
   ],
   "source": [
    "best_model = FFN(182)\n",
    "best_model.load_state_dict(torch.load(model_path))"
   ]
  },
  {
   "cell_type": "code",
   "execution_count": 50,
   "id": "236f7aa0",
   "metadata": {},
   "outputs": [
    {
     "name": "stdout",
     "output_type": "stream",
     "text": [
      "tensor([[2.2914e-07],\n",
      "        [1.0000e+00],\n",
      "        [2.2376e-02],\n",
      "        ...,\n",
      "        [1.0000e+00],\n",
      "        [7.9058e-02],\n",
      "        [1.0000e+00]])\n",
      "Predicted: \"tensor([[0.],\n",
      "        [1.],\n",
      "        [0.],\n",
      "        ...,\n",
      "        [1.],\n",
      "        [0.],\n",
      "        [1.]])\", Actual: \"tensor([0., 1., 0.,  ..., 1., 1., 1.])\"\n"
     ]
    }
   ],
   "source": [
    "best_model.eval()\n",
    "\n",
    "with torch.no_grad():\n",
    "    pred = torch.sigmoid(model(dataset_test.X))\n",
    "    print(pred)\n",
    "    predicted, actual = (pred > 0.5).float(), dataset_test.y\n",
    "    print(f'Predicted: \"{predicted}\", Actual: \"{actual}\"')"
   ]
  },
  {
   "cell_type": "code",
   "execution_count": 51,
   "id": "d68c31cc",
   "metadata": {},
   "outputs": [
    {
     "data": {
      "text/plain": [
       "tensor(8243)"
      ]
     },
     "execution_count": 51,
     "metadata": {},
     "output_type": "execute_result"
    }
   ],
   "source": [
    "(pred > 0.5).count_nonzero()"
   ]
  },
  {
   "cell_type": "code",
   "execution_count": 52,
   "id": "5d7117d0",
   "metadata": {},
   "outputs": [
    {
     "data": {
      "text/plain": [
       "0.9305156220049837"
      ]
     },
     "execution_count": 52,
     "metadata": {},
     "output_type": "execute_result"
    }
   ],
   "source": [
    "accuracy_score(predicted, actual)"
   ]
  },
  {
   "cell_type": "code",
   "execution_count": 63,
   "id": "1d77adb5",
   "metadata": {},
   "outputs": [
    {
     "data": {
      "text/plain": [
       "tensor(0.7823)"
      ]
     },
     "execution_count": 63,
     "metadata": {},
     "output_type": "execute_result"
    }
   ],
   "source": [
    "# %pos class in test set\n",
    "dataset_test.y.mean()"
   ]
  },
  {
   "cell_type": "code",
   "execution_count": 62,
   "id": "98fd5b40",
   "metadata": {
    "scrolled": true
   },
   "outputs": [
    {
     "data": {
      "image/png": "[encoded data removed]",
      "text/plain": [
       "<Figure size 300x233 with 2 Axes>"
      ]
     },
     "metadata": {},
     "output_type": "display_data"
    }
   ],
   "source": [
    "plt.figure(figsize=(3,2.33))\n",
    "sns.heatmap(confusion_matrix(predicted, actual), vmin=0, vmax=len(dataset_test), annot=True, fmt=\"01\", cmap=sns.color_palette(\"mako_r\", as_cmap=True))\n",
    "plt.xlabel(\"Predicted\")\n",
    "plt.ylabel(\"True\")\n",
    "plt.tight_layout()\n",
    "plt.savefig(\"confusion_matrix_FFN_OHE.png\", dpi=300)"
   ]
  },
  {
   "cell_type": "code",
   "execution_count": 56,
   "id": "299f91e7",
   "metadata": {},
   "outputs": [
    {
     "data": {
      "text/plain": [
       "0.955806156659555"
      ]
     },
     "execution_count": 56,
     "metadata": {},
     "output_type": "execute_result"
    }
   ],
   "source": [
    "f1_score(predicted, actual)"
   ]
  },
  {
   "cell_type": "code",
   "execution_count": 57,
   "id": "6edb1e94",
   "metadata": {},
   "outputs": [
    {
     "data": {
      "text/plain": [
       "0.9020725882625165"
      ]
     },
     "execution_count": 57,
     "metadata": {},
     "output_type": "execute_result"
    }
   ],
   "source": [
    "balanced_accuracy_score(predicted, actual)"
   ]
  },
  {
   "cell_type": "code",
   "execution_count": null,
   "id": "6ce289b8",
   "metadata": {},
   "outputs": [],
   "source": []
  }
 ],
 "metadata": {
  "kernelspec": {
   "display_name": "Python 3 (ipykernel)",
   "language": "python",
   "name": "python3"
  },
  "language_info": {
   "codemirror_mode": {
    "name": "ipython",
    "version": 3
   },
   "file_extension": ".py",
   "mimetype": "text/x-python",
   "name": "python",
   "nbconvert_exporter": "python",
   "pygments_lexer": "ipython3",
   "version": "3.10.9"
  }
 },
 "nbformat": 4,
 "nbformat_minor": 5
}
