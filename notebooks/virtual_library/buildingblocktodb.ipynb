{
 "cells": [
  {
   "cell_type": "markdown",
   "source": [
    "### Add entries to the building block database\n"
   ],
   "metadata": {
    "collapsed": false
   }
  },
  {
   "cell_type": "code",
   "execution_count": 1,
   "metadata": {
    "collapsed": true,
    "ExecuteTime": {
     "end_time": "2023-06-15T12:53:56.370738Z",
     "start_time": "2023-06-15T12:53:55.846339Z"
    }
   },
   "outputs": [],
   "source": [
    "import pathlib\n",
    "import sqlite3 as sql\n",
    "import sys\n",
    "\n",
    "import pandas as pd\n",
    "from rdkit import Chem\n",
    "from rdkit.Chem import Draw\n",
    "from rdkit.Chem.rdMolDescriptors import CalcMolFormula, CalcExactMolWt\n",
    "\n",
    "sys.path.append(str(pathlib.Path().resolve().parents[1]))\n",
    "from src.definitions import DATA_DIR\n",
    "from src.definitions import COMPOUND_MAPPING_PATH, DB_PATH, DB_DIR\n",
    "from src.util.rdkit_util import desalt_building_block\n",
    "from src.util.sumformula_manipulation import string_formula_substraction\n",
    "from src.util.protecting_groups import pg_dict"
   ]
  },
  {
   "cell_type": "code",
   "execution_count": 2,
   "outputs": [],
   "source": [
    "DB_STATIC_DIR = DB_DIR / 'static'\n",
    "INFO_PATH = DATA_DIR / 'library_info' / 'library_constituents_dataframe.pkl'"
   ],
   "metadata": {
    "collapsed": false,
    "ExecuteTime": {
     "end_time": "2023-06-15T12:53:59.302198Z",
     "start_time": "2023-06-15T12:53:59.298642Z"
    }
   }
  },
  {
   "cell_type": "code",
   "execution_count": 3,
   "outputs": [],
   "source": [
    "# Import data\n",
    "with open(INFO_PATH, 'rb') as file:\n",
    "    df = pd.read_pickle(file)\n",
    "\n",
    "with open(COMPOUND_MAPPING_PATH, 'r') as file:\n",
    "    compound_mapping = {}\n",
    "    for line in file.readlines():\n",
    "        compound_mapping[line.split()[0]] = line.split()[1]"
   ],
   "metadata": {
    "collapsed": false,
    "ExecuteTime": {
     "end_time": "2023-06-15T12:54:20.176427Z",
     "start_time": "2023-06-15T12:54:20.114348Z"
    }
   }
  },
  {
   "cell_type": "code",
   "execution_count": 7,
   "outputs": [],
   "source": [
    "# open DB connection\n",
    "con = sql.connect(DB_PATH)\n",
    "cur = con.cursor()"
   ],
   "metadata": {
    "collapsed": false,
    "ExecuteTime": {
     "end_time": "2023-06-15T13:00:28.257Z",
     "start_time": "2023-06-15T13:00:28.247701Z"
    }
   }
  },
  {
   "cell_type": "code",
   "execution_count": 5,
   "outputs": [
    {
     "data": {
      "text/plain": "    Compound Name                                  SMILES Category  \\\n0        2-Pyr002  C1=NC(C([B-](F)(F)F)=O)=CC(Cl)=C1.[K+]        I   \n1        2-Pyr003  C1(Cl)C=CC=C(C(=O)[B-](F)(F)F)N=1.[K+]        I   \n2        2-Pyr005  C1(Br)C=CC=C(C(=O)[B-](F)(F)F)N=1.[K+]        I   \n3        2-Pyr006  C1C(Br)=CC=C(C(=O)[B-](F)(F)F)N=1.[K+]        I   \n4        2-Pyr007   C1(F)C=CC=C(C(=O)[B-](F)(F)F)N=1.[K+]        I   \n..            ...                                     ...      ...   \n188      TerTH023             S=C(C1C=CC=C2NN=CC=12)NN.Cl        T   \n189      TerTH025                     S=C(C1N=CNC=1)NN.Cl        T   \n190      TerTH026                     S=C(C1C=NNC=1)NN.Cl        T   \n191      TerTH027             S=C(C1C=CC2NN=NC=2C=1)NN.Cl        T   \n192      TerTH028           S=C(C1C=NC=CC=1)N[NH3+].[Cl-]        T   \n\n                                                   mol  \\\n0    <rdkit.Chem.PropertyMol.PropertyMol object at ...   \n1    <rdkit.Chem.PropertyMol.PropertyMol object at ...   \n2    <rdkit.Chem.PropertyMol.PropertyMol object at ...   \n3    <rdkit.Chem.PropertyMol.PropertyMol object at ...   \n4    <rdkit.Chem.PropertyMol.PropertyMol object at ...   \n..                                                 ...   \n188  <rdkit.Chem.PropertyMol.PropertyMol object at ...   \n189  <rdkit.Chem.PropertyMol.PropertyMol object at ...   \n190  <rdkit.Chem.PropertyMol.PropertyMol object at ...   \n191  <rdkit.Chem.PropertyMol.PropertyMol object at ...   \n192  <rdkit.Chem.PropertyMol.PropertyMol object at ...   \n\n                                                   img  exact mass  \\\n0    <PIL.PngImagePlugin.PngImageFile image mode=RG...  246.958538   \n1    <PIL.PngImagePlugin.PngImageFile image mode=RG...  246.958538   \n2    <PIL.PngImagePlugin.PngImageFile image mode=RG...  290.908023   \n3    <PIL.PngImagePlugin.PngImageFile image mode=RG...  290.908023   \n4    <PIL.PngImagePlugin.PngImageFile image mode=RG...  230.988089   \n..                                                 ...         ...   \n188  <PIL.PngImagePlugin.PngImageFile image mode=RG...  228.023645   \n189  <PIL.PngImagePlugin.PngImageFile image mode=RG...  178.007995   \n190  <PIL.PngImagePlugin.PngImageFile image mode=RG...  178.007995   \n191  <PIL.PngImagePlugin.PngImageFile image mode=RG...  229.018894   \n192  <PIL.PngImagePlugin.PngImageFile image mode=RG...  189.012746   \n\n     MW_from_mol  weigh-in [mg] / 100 µL  \n0        247.453                    1.24  \n1        247.453                    1.24  \n2        291.904                    1.46  \n3        291.904                    1.46  \n4        230.998                    1.15  \n..           ...                     ...  \n188      228.708                    1.14  \n189      178.648                    0.89  \n190      178.648                    0.89  \n191      229.696                    1.15  \n192      189.671                    0.95  \n\n[193 rows x 8 columns]",
      "text/html": "<div>\n<style scoped>\n    .dataframe tbody tr th:only-of-type {\n        vertical-align: middle;\n    }\n\n    .dataframe tbody tr th {\n        vertical-align: top;\n    }\n\n    .dataframe thead th {\n        text-align: right;\n    }\n</style>\n<table border=\"1\" class=\"dataframe\">\n  <thead>\n    <tr style=\"text-align: right;\">\n      <th></th>\n      <th>Compound Name</th>\n      <th>SMILES</th>\n      <th>Category</th>\n      <th>mol</th>\n      <th>img</th>\n      <th>exact mass</th>\n      <th>MW_from_mol</th>\n      <th>weigh-in [mg] / 100 µL</th>\n    </tr>\n  </thead>\n  <tbody>\n    <tr>\n      <th>0</th>\n      <td>2-Pyr002</td>\n      <td>C1=NC(C([B-](F)(F)F)=O)=CC(Cl)=C1.[K+]</td>\n      <td>I</td>\n      <td>&lt;rdkit.Chem.PropertyMol.PropertyMol object at ...</td>\n      <td>&lt;PIL.PngImagePlugin.PngImageFile image mode=RG...</td>\n      <td>246.958538</td>\n      <td>247.453</td>\n      <td>1.24</td>\n    </tr>\n    <tr>\n      <th>1</th>\n      <td>2-Pyr003</td>\n      <td>C1(Cl)C=CC=C(C(=O)[B-](F)(F)F)N=1.[K+]</td>\n      <td>I</td>\n      <td>&lt;rdkit.Chem.PropertyMol.PropertyMol object at ...</td>\n      <td>&lt;PIL.PngImagePlugin.PngImageFile image mode=RG...</td>\n      <td>246.958538</td>\n      <td>247.453</td>\n      <td>1.24</td>\n    </tr>\n    <tr>\n      <th>2</th>\n      <td>2-Pyr005</td>\n      <td>C1(Br)C=CC=C(C(=O)[B-](F)(F)F)N=1.[K+]</td>\n      <td>I</td>\n      <td>&lt;rdkit.Chem.PropertyMol.PropertyMol object at ...</td>\n      <td>&lt;PIL.PngImagePlugin.PngImageFile image mode=RG...</td>\n      <td>290.908023</td>\n      <td>291.904</td>\n      <td>1.46</td>\n    </tr>\n    <tr>\n      <th>3</th>\n      <td>2-Pyr006</td>\n      <td>C1C(Br)=CC=C(C(=O)[B-](F)(F)F)N=1.[K+]</td>\n      <td>I</td>\n      <td>&lt;rdkit.Chem.PropertyMol.PropertyMol object at ...</td>\n      <td>&lt;PIL.PngImagePlugin.PngImageFile image mode=RG...</td>\n      <td>290.908023</td>\n      <td>291.904</td>\n      <td>1.46</td>\n    </tr>\n    <tr>\n      <th>4</th>\n      <td>2-Pyr007</td>\n      <td>C1(F)C=CC=C(C(=O)[B-](F)(F)F)N=1.[K+]</td>\n      <td>I</td>\n      <td>&lt;rdkit.Chem.PropertyMol.PropertyMol object at ...</td>\n      <td>&lt;PIL.PngImagePlugin.PngImageFile image mode=RG...</td>\n      <td>230.988089</td>\n      <td>230.998</td>\n      <td>1.15</td>\n    </tr>\n    <tr>\n      <th>...</th>\n      <td>...</td>\n      <td>...</td>\n      <td>...</td>\n      <td>...</td>\n      <td>...</td>\n      <td>...</td>\n      <td>...</td>\n      <td>...</td>\n    </tr>\n    <tr>\n      <th>188</th>\n      <td>TerTH023</td>\n      <td>S=C(C1C=CC=C2NN=CC=12)NN.Cl</td>\n      <td>T</td>\n      <td>&lt;rdkit.Chem.PropertyMol.PropertyMol object at ...</td>\n      <td>&lt;PIL.PngImagePlugin.PngImageFile image mode=RG...</td>\n      <td>228.023645</td>\n      <td>228.708</td>\n      <td>1.14</td>\n    </tr>\n    <tr>\n      <th>189</th>\n      <td>TerTH025</td>\n      <td>S=C(C1N=CNC=1)NN.Cl</td>\n      <td>T</td>\n      <td>&lt;rdkit.Chem.PropertyMol.PropertyMol object at ...</td>\n      <td>&lt;PIL.PngImagePlugin.PngImageFile image mode=RG...</td>\n      <td>178.007995</td>\n      <td>178.648</td>\n      <td>0.89</td>\n    </tr>\n    <tr>\n      <th>190</th>\n      <td>TerTH026</td>\n      <td>S=C(C1C=NNC=1)NN.Cl</td>\n      <td>T</td>\n      <td>&lt;rdkit.Chem.PropertyMol.PropertyMol object at ...</td>\n      <td>&lt;PIL.PngImagePlugin.PngImageFile image mode=RG...</td>\n      <td>178.007995</td>\n      <td>178.648</td>\n      <td>0.89</td>\n    </tr>\n    <tr>\n      <th>191</th>\n      <td>TerTH027</td>\n      <td>S=C(C1C=CC2NN=NC=2C=1)NN.Cl</td>\n      <td>T</td>\n      <td>&lt;rdkit.Chem.PropertyMol.PropertyMol object at ...</td>\n      <td>&lt;PIL.PngImagePlugin.PngImageFile image mode=RG...</td>\n      <td>229.018894</td>\n      <td>229.696</td>\n      <td>1.15</td>\n    </tr>\n    <tr>\n      <th>192</th>\n      <td>TerTH028</td>\n      <td>S=C(C1C=NC=CC=1)N[NH3+].[Cl-]</td>\n      <td>T</td>\n      <td>&lt;rdkit.Chem.PropertyMol.PropertyMol object at ...</td>\n      <td>&lt;PIL.PngImagePlugin.PngImageFile image mode=RG...</td>\n      <td>189.012746</td>\n      <td>189.671</td>\n      <td>0.95</td>\n    </tr>\n  </tbody>\n</table>\n<p>193 rows × 8 columns</p>\n</div>"
     },
     "execution_count": 5,
     "metadata": {},
     "output_type": "execute_result"
    }
   ],
   "source": [
    "df"
   ],
   "metadata": {
    "collapsed": false,
    "ExecuteTime": {
     "end_time": "2023-06-15T12:58:03.255427Z",
     "start_time": "2023-06-15T12:58:03.230026Z"
    }
   }
  },
  {
   "cell_type": "code",
   "execution_count": 8,
   "outputs": [],
   "source": [
    "# Add entries to DB\n",
    "# Save molecule images to the static directory and add the path to DB\n",
    "# note: originally we would use compound_mapping to add the short name to the building blocks table\n",
    "# however, we realized later that we need to change the relation in some cases, so we now use a separate table building_blocks_shorts\n",
    "for long in compound_mapping.values():\n",
    "    mol = df.loc[df['Compound Name'] == long, 'mol'].item()\n",
    "    smiles = Chem.MolToSmiles(mol)  # we regenerate SMILES instead of using the value from df to have a canonical representation\n",
    "    image = Draw.MolToImage(mol)\n",
    "    category = df.loc[df['Compound Name'] == long,'Category'].item()\n",
    "    # save image to static dir and keep imagepath to add to db\n",
    "    image_path = DB_STATIC_DIR / 'image' / f'{long}.png'\n",
    "    image.save(image_path)\n",
    "    # write this to the db\n",
    "    cur.execute('INSERT INTO building_blocks(long, SMILES, image, category) VALUES(?,?,?,?);', (long, smiles, str(image_path.resolve()), category))\n",
    "con.commit()"
   ],
   "metadata": {
    "collapsed": false,
    "ExecuteTime": {
     "end_time": "2023-06-15T13:00:31.695671Z",
     "start_time": "2023-06-15T13:00:29.887859Z"
    }
   }
  },
  {
   "cell_type": "code",
   "execution_count": null,
   "outputs": [],
   "source": [
    "# at this point, boc, cbz, tbu, tms columns were set after manual inspection"
   ],
   "metadata": {
    "collapsed": false
   }
  },
  {
   "cell_type": "code",
   "execution_count": 4,
   "outputs": [],
   "source": [
    "\"\"\"For existing entries, use SMILES and number of protecting groups to calculate probable formulae in LCMS\"\"\"\n",
    "for id, smiles, boc, cbz, tbu, tms in cur.execute('SELECT id, SMILES, boc, cbz, tbu, tms FROM building_blocks;').fetchall():\n",
    "    mol = Chem.MolFromSmiles(smiles)\n",
    "    mol_desalted = desalt_building_block(mol)\n",
    "    lcms_formula_1 = CalcMolFormula(mol_desalted)\n",
    "    lcms_mass_1 = CalcExactMolWt(mol_desalted)\n",
    "    cur.execute('UPDATE building_blocks SET lcms_formula_1 = ?, lcms_mass_1 = ? WHERE id = ?', (lcms_formula_1, lcms_mass_1, id))\n",
    "    con.commit()\n",
    "    additional_formulae = []\n",
    "    additional_masses = []\n",
    "    for pg, pgname in zip([boc, cbz, tbu, tms], ['boc', 'cbz', 'tbu', 'tms']):\n",
    "        for i in range(pg):\n",
    "            # if boc == 0, this will not evaluate\n",
    "            additional_formulae.append(string_formula_substraction(lcms_formula_1, pg_dict[pgname][0]))\n",
    "            additional_masses.append(lcms_mass_1 - pg_dict[pgname][1])\n",
    "    additional_masses = [f'{i:.4f}' for i in additional_masses]\n",
    "    if len(additional_formulae) > 0:\n",
    "        cur.execute('UPDATE building_blocks SET lcms_formula_alt = ?, lcms_mass_alt = ? WHERE id = ?', (','.join(additional_formulae), ','.join(additional_masses), id))\n",
    "        con.commit()"
   ],
   "metadata": {
    "collapsed": false
   }
  },
  {
   "cell_type": "code",
   "execution_count": 5,
   "outputs": [],
   "source": [
    "con.close()"
   ],
   "metadata": {
    "collapsed": false
   }
  }
 ],
 "metadata": {
  "kernelspec": {
   "display_name": "Python 3",
   "language": "python",
   "name": "python3"
  },
  "language_info": {
   "codemirror_mode": {
    "name": "ipython",
    "version": 2
   },
   "file_extension": ".py",
   "mimetype": "text/x-python",
   "name": "python",
   "nbconvert_exporter": "python",
   "pygments_lexer": "ipython2",
   "version": "2.7.6"
  }
 },
 "nbformat": 4,
 "nbformat_minor": 0
}
