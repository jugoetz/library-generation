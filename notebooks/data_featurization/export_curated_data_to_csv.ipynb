{
 "cells": [
  {
   "cell_type": "markdown",
   "id": "295e0b34",
   "metadata": {
    "collapsed": true
   },
   "source": [
    "# SynFerm data preparation\n",
    "#### Targets:\n",
    "- Import experiment, representation, and target data from db\n",
    "- Export to CSV"
   ]
  },
  {
   "cell_type": "code",
   "execution_count": 1,
   "id": "69d02537",
   "metadata": {
    "ExecuteTime": {
     "end_time": "2023-08-29T15:33:30.025895Z",
     "start_time": "2023-08-29T15:33:29.558866Z"
    }
   },
   "outputs": [],
   "source": [
    "import os\n",
    "import sys\n",
    "\n",
    "sys.path.insert(0, os.path.abspath('../..'))\n",
    "\n",
    "import pandas as pd\n",
    "\n",
    "from src.util.db_utils import SynFermDatabaseConnection\n",
    "from src.definitions import DATA_DIR\n"
   ]
  },
  {
   "cell_type": "code",
   "execution_count": 2,
   "id": "95259c45",
   "metadata": {
    "ExecuteTime": {
     "end_time": "2023-08-29T15:33:30.031705Z",
     "start_time": "2023-08-29T15:33:30.026243Z"
    }
   },
   "outputs": [],
   "source": [
    "con = SynFermDatabaseConnection()  # we will use this for various simple queries"
   ]
  },
  {
   "cell_type": "code",
   "execution_count": 3,
   "id": "33d4dbab",
   "metadata": {
    "ExecuteTime": {
     "end_time": "2023-08-29T15:33:30.669264Z",
     "start_time": "2023-08-29T15:33:30.029534Z"
    }
   },
   "outputs": [
    {
     "name": "stdout",
     "output_type": "stream",
     "text": [
      "Number of reactions (in total): 40433\n"
     ]
    }
   ],
   "source": [
    "# note that we only select valid reaction by using the INNER JOIN with the labels table\n",
    "res = con.con.execute('SELECT e.id, r.I_long, r.M_long, r.T_long, r.product_A_smiles, r.I_smiles, r.M_smiles, r.T_smiles, r.reaction_smiles, r.reaction_smiles_atom_mapped, l.binary_A, l.binary_B, l.binary_C, l.binary_D, l.binary_E, l.binary_F, l.binary_G, l.binary_H, l.scaled_A, l.scaled_B, l.scaled_C, l.scaled_D, l.scaled_E, l.scaled_F, l.scaled_G, l.scaled_H, l.\"major_A-C\" FROM experiments e LEFT JOIN representations r on e.id = r.experiment_id INNER JOIN labels l on e.id = l.experiment_id;').fetchall()\n",
    "\n",
    "columns = [\"experiment_id\", \"I_long\", \"M_long\", \"T_long\", \"product_A_smiles\", \"I_smiles\", \"M_smiles\", \"T_smiles\", \"reaction_smiles\", \"reaction_smiles_atom_mapped\", \"binary_A\", \"binary_B\", \"binary_C\", \"binary_D\", \"binary_E\", \"binary_F\", \"binary_G\", \"binary_H\", \"scaled_A\", \"scaled_B\", \"scaled_C\", \"scaled_D\", \"scaled_E\", \"scaled_F\", \"scaled_G\", \"scaled_H\", \"major_A-C\"]\n",
    "df = pd.DataFrame(res, columns=columns)\n",
    "print(f'Number of reactions (in total): {len(df)}')"
   ]
  },
  {
   "cell_type": "code",
   "execution_count": 4,
   "id": "d26dc3a9",
   "metadata": {
    "scrolled": false,
    "ExecuteTime": {
     "end_time": "2023-08-29T15:33:30.669601Z",
     "start_time": "2023-08-29T15:33:30.667474Z"
    }
   },
   "outputs": [
    {
     "data": {
      "text/plain": "0"
     },
     "execution_count": 4,
     "metadata": {},
     "output_type": "execute_result"
    }
   ],
   "source": [
    "# doublecheck we don't have missing values\n",
    "df['scaled_A'].isna().sum()"
   ]
  },
  {
   "cell_type": "markdown",
   "id": "8a096a33",
   "metadata": {},
   "source": [
    "Now we have a cleaned dataset. Export to CSV."
   ]
  },
  {
   "cell_type": "code",
   "execution_count": 5,
   "outputs": [],
   "source": [
    "df.to_csv(DATA_DIR / \"curated_data\" / f\"synferm_dataset_2023-07-20_{len(df)}records.csv\", index=False)"
   ],
   "metadata": {
    "collapsed": false,
    "ExecuteTime": {
     "end_time": "2023-08-29T15:33:31.362037Z",
     "start_time": "2023-08-29T15:33:30.730655Z"
    }
   },
   "id": "a706a6a2a07237ad"
  },
  {
   "cell_type": "markdown",
   "source": [
    "Export the same data as hierarchically nested JSON (for d3.js visualizations)"
   ],
   "metadata": {
    "collapsed": false
   },
   "id": "4499899beec7192e"
  },
  {
   "cell_type": "code",
   "execution_count": null,
   "outputs": [],
   "source": [
    "import json"
   ],
   "metadata": {
    "collapsed": false
   },
   "id": "d8b2892c80fb0d39"
  },
  {
   "cell_type": "code",
   "execution_count": 9,
   "outputs": [],
   "source": [
    "res = {\"name\": \"synfermdata\", \"children\": []}"
   ],
   "metadata": {
    "collapsed": false,
    "ExecuteTime": {
     "end_time": "2023-08-29T15:47:26.454695Z",
     "start_time": "2023-08-29T15:47:26.453440Z"
    }
   },
   "id": "cd59d5f6096b0b33"
  },
  {
   "cell_type": "code",
   "execution_count": 10,
   "outputs": [
    {
     "name": "stdout",
     "output_type": "stream",
     "text": [
      "Ph023\n",
      "Ph010\n",
      "Ph018\n",
      "Al013\n",
      "BiPh006\n",
      "8-Quin003\n",
      "6-Quin001\n",
      "Ph022\n",
      "5-Quin001\n",
      "BiAl009\n",
      "Ph009\n",
      "Ph017\n",
      "2-Pyr010\n",
      "Al002\n",
      "8-Quin008\n",
      "Ph007\n",
      "4-Pym001\n",
      "2-Pyr006\n",
      "Al036\n",
      "Al005\n",
      "3-Thio001\n",
      "Ph026\n",
      "3-Pyr003\n",
      "Ph005\n",
      "2-Pyr007\n",
      "Pyrazine001\n",
      "Ph027\n",
      "Al004\n",
      "Al007\n",
      "Al038\n",
      "BiAl008\n",
      "Ph021\n",
      "8-Quin004\n",
      "4-Pyr002\n",
      "3-Fur001\n",
      "Ph028\n",
      "BiPh011\n",
      "2-Pyr009\n",
      "2-Pyr008\n",
      "Al001\n",
      "BiPyr001\n",
      "Ph013\n",
      "4-Pyrazole001\n",
      "Ph002\n",
      "Ph020\n",
      "8-Quin005\n",
      "BiPh007\n",
      "BiPh002\n",
      "2-Pyr003\n",
      "Ph034\n",
      "3-Pyr004\n",
      "BiPh010\n",
      "Ph033\n",
      "BiAl007\n",
      "Al003\n",
      "Pyrazine002\n",
      "Ph031\n",
      "BiPh001\n",
      "Ph030\n",
      "2-Thio001\n",
      "3-Pyr002\n",
      "Ph006\n",
      "Ph001\n",
      "BiPyr004\n",
      "Ph024\n",
      "Ph025\n",
      "BiPh004\n"
     ]
    }
   ],
   "source": [
    "for i in df[\"I_long\"].unique():\n",
    "    print(i)  # show progress\n",
    "    res[\"children\"].append({\"name\": i, \"children\": []})\n",
    "    for m in df.loc[df[\"I_long\"] == i, \"M_long\"].unique():\n",
    "        res[\"children\"][-1][\"children\"].append({\"name\": m, \"children\": []})\n",
    "        for t in df.loc[(df[\"I_long\"] == i) & (df[\"M_long\"] == m), \"T_long\"].unique():\n",
    "            values = df.loc[(df[\"I_long\"] == i) & (df[\"M_long\"] == m) & (df[\"T_long\"] == t), [\"scaled_A\", 'scaled_B', \"scaled_C\"]].values.flatten().tolist()\n",
    "            res[\"children\"][-1][\"children\"][-1][\"children\"].append(\n",
    "                {\"name\": t, \"children\": \n",
    "                    [{\"name\": \"A\", \"value\": values[0]}, {\"name\": \"B\", \"value\": values[1]}, {\"name\": \"C\", \"value\": values[2]}]})"
   ],
   "metadata": {
    "collapsed": false,
    "ExecuteTime": {
     "end_time": "2023-08-29T15:50:49.060962Z",
     "start_time": "2023-08-29T15:47:26.882307Z"
    }
   },
   "id": "7fe4a3d095ec25e5"
  },
  {
   "cell_type": "code",
   "execution_count": 11,
   "outputs": [],
   "source": [
    "with open(DATA_DIR / \"curated_data\" / \"synferm.json\", \"w\") as outfile:\n",
    "    json.dump(res, outfile)"
   ],
   "metadata": {
    "collapsed": false,
    "ExecuteTime": {
     "end_time": "2023-08-29T15:50:49.592179Z",
     "start_time": "2023-08-29T15:50:49.062839Z"
    }
   },
   "id": "71ed2eb8ee1919ae"
  }
 ],
 "metadata": {
  "kernelspec": {
   "display_name": "Python 3 (ipykernel)",
   "language": "python",
   "name": "python3"
  },
  "language_info": {
   "codemirror_mode": {
    "name": "ipython",
    "version": 3
   },
   "file_extension": ".py",
   "mimetype": "text/x-python",
   "name": "python",
   "nbconvert_exporter": "python",
   "pygments_lexer": "ipython3",
   "version": "3.9.16"
  }
 },
 "nbformat": 4,
 "nbformat_minor": 5
}
