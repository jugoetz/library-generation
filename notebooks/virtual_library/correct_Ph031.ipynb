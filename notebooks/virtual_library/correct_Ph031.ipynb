{
 "cells": [
  {
   "cell_type": "markdown",
   "id": "0",
   "metadata": {},
   "source": [
    "# Correct Ph031\n",
    "\n",
    "Change all relevant entries related to initiator Ph031 in the virtuallibrary table.\n",
    "Only products A-D, F, and G are affected.\n",
    "\n",
    "- Add a comment about the side product\n",
    "- Append +H2O to molecular_formula_alt\n",
    "- Append +18.0106 to lcms_mass_alt"
   ]
  },
  {
   "cell_type": "code",
   "execution_count": null,
   "id": "1",
   "metadata": {},
   "outputs": [],
   "source": [
    "import copy\n",
    "import re\n",
    "import sqlite3\n",
    "\n",
    "import pandas as pd"
   ]
  },
  {
   "cell_type": "code",
   "execution_count": null,
   "id": "2",
   "metadata": {},
   "outputs": [],
   "source": [
    "# Connect to database\n",
    "con = sqlite3.connect('../../data/db/50k_project.db')\n",
    "con"
   ]
  },
  {
   "cell_type": "code",
   "execution_count": null,
   "id": "3",
   "metadata": {},
   "outputs": [],
   "source": [
    "# Get all Ph031 entries\n",
    "df = pd.read_sql_query(\n",
    "    \"SELECT * FROM virtuallibrary WHERE initiator_long = 'Ph031' AND type IN ('A', 'B', 'C', 'D', 'F', 'G')\",\n",
    "    con\n",
    ")\n",
    "df"
   ]
  },
  {
   "cell_type": "code",
   "execution_count": null,
   "id": "4",
   "metadata": {},
   "outputs": [],
   "source": [
    "# add comment\n",
    "df['comment'] = 'oxazoline->amide side product for Ph031'"
   ]
  },
  {
   "cell_type": "code",
   "execution_count": null,
   "id": "5",
   "metadata": {},
   "outputs": [],
   "source": [
    "# some helper functions\n",
    "def parse_formula(formula : str) -> dict: # Formula Parsing by Aditya Matam\n",
    "    def multiply(formula: dict, mul: int) -> None:\n",
    "        for key in formula: formula[key] *= mul\n",
    "\n",
    "    formDict = {}\n",
    "    # PARENS\n",
    "    for match in re.finditer(r\"\\((.*?)\\)(\\d*)\", formula):\n",
    "        parens = parse_formula(match.group(1))\n",
    "        mul = match.group(2)\n",
    "        if not mul: mul = 1\n",
    "        multiply(parens, int(mul))\n",
    "        formDict.update(parens)\n",
    "    # REST\n",
    "    for match in re.finditer(r\"(\\(?)([A-Z][a-z]?)(\\d*)(\\)?)\", formula):\n",
    "        left, elem, mul, right = match.groups()\n",
    "        if left or right: continue\n",
    "        if not mul: mul = 1\n",
    "        if elem in formDict:\n",
    "            formDict[elem] += int(mul)\n",
    "        else:\n",
    "            formDict[elem] = int(mul)\n",
    "\n",
    "    return formDict\n",
    "\n",
    "def formula_to_string(formDict):\n",
    "    s = ''\n",
    "    for key, value in formDict.items():\n",
    "        if value == 1:\n",
    "            s += key\n",
    "        elif value > 1:\n",
    "            s += f'{key}{value}'\n",
    "    return s\n",
    "\n",
    "def add_formulae(formula1, formula2):\n",
    "    result = copy.deepcopy(formula1)  # we make a deepcopy to not alter the first formula\n",
    "    for key, value in formula2.items():\n",
    "        result[key] += value\n",
    "    return result\n",
    "\n",
    "def string_formula_addition(formula1, formula2):\n",
    "    return formula_to_string(add_formulae(parse_formula(formula1), parse_formula(formula2)))"
   ]
  },
  {
   "cell_type": "code",
   "execution_count": null,
   "id": "6",
   "metadata": {},
   "outputs": [],
   "source": [
    "# append +H2O to molecular_formula_alt\n",
    "df['new_formula'] = df.apply(lambda row: string_formula_addition(row['molecular_formula_1'], 'H2O'), axis=1)\n",
    "df['molecular_formula_alt_new'] = [','.join(filter(None, (a, b))) for a,b in zip(df['molecular_formula_alt'], df['new_formula'])]\n",
    "df[['molecular_formula_alt', 'new_formula', 'molecular_formula_alt_new']]"
   ]
  },
  {
   "cell_type": "code",
   "execution_count": null,
   "id": "7",
   "metadata": {},
   "outputs": [],
   "source": [
    "# append +18.0106 to lcms_mass_alt\n",
    "df['new_mass'] = df.apply(lambda row: f\"{row['lcms_mass_1'] + 18.0106:.4f}\", axis=1)\n",
    "df['lcms_mass_alt_new'] = [','.join(filter(None, (a, b))) for a,b in zip(df['lcms_mass_alt'], df['new_mass'].astype(str))]\n",
    "df[['lcms_mass_alt', 'new_mass', 'lcms_mass_alt_new']]"
   ]
  },
  {
   "cell_type": "code",
   "execution_count": null,
   "id": "8",
   "metadata": {},
   "outputs": [],
   "source": [
    "# update database\n",
    "with con:\n",
    "    con.executemany(\n",
    "        \"UPDATE virtuallibrary SET comment = ?, molecular_formula_alt = ?, lcms_mass_alt = ? WHERE id = ?\",\n",
    "        zip(df['comment'], df['molecular_formula_alt_new'], df['lcms_mass_alt_new'], df['id'])\n",
    "    )\n"
   ]
  }
 ],
 "metadata": {
  "kernelspec": {
   "display_name": "Python 3 (ipykernel)",
   "language": "python",
   "name": "python3"
  },
  "language_info": {
   "codemirror_mode": {
    "name": "ipython",
    "version": 3
   },
   "file_extension": ".py",
   "mimetype": "text/x-python",
   "name": "python",
   "nbconvert_exporter": "python",
   "pygments_lexer": "ipython3",
   "version": "3.9.7"
  }
 },
 "nbformat": 4,
 "nbformat_minor": 5
}
