{
 "cells": [
  {
   "cell_type": "code",
   "execution_count": 25,
   "metadata": {
    "collapsed": true
   },
   "outputs": [],
   "source": [
    "import pickle\n",
    "import pickle as pkl\n",
    "import json\n",
    "import sqlite3 as sql\n",
    "from pathlib import Path\n",
    "import pandas as pd\n",
    "from rdkit.Chem import Draw\n",
    "from rdkit.Chem.rdMolDescriptors import CalcMolFormula, CalcExactMolWt\n",
    "from rdkit.Chem.rdmolfiles import ForwardSDMolSupplier\n",
    "from rdkit import Chem\n",
    "from PIL import Image\n",
    "import re\n",
    "import copy\n",
    "import gzip\n"
   ]
  },
  {
   "cell_type": "code",
   "execution_count": 26,
   "outputs": [],
   "source": [
    "DATA_DIR = Path('..', 'data').resolve()\n",
    "OUTPUT_DIR = DATA_DIR / 'outputs'\n",
    "INFO_PATH = OUTPUT_DIR / 'library_constituents_dataframe.pkl'\n",
    "MAPPING_PATH = OUTPUT_DIR / 'compound_mapping.txt'\n",
    "EXP_PLAN_PATH = OUTPUT_DIR / 'synthesis_plan.json'\n",
    "DB_PATH = DATA_DIR / 'db' / '50k_project.db'\n",
    "STATIC_DIR = DATA_DIR / 'db' / 'static'\n",
    "LIB_DIR = DATA_DIR / 'library_static'"
   ],
   "metadata": {
    "collapsed": false,
    "pycharm": {
     "name": "#%%\n"
    }
   }
  },
  {
   "cell_type": "code",
   "execution_count": 27,
   "outputs": [],
   "source": [
    "con = sql.connect(DB_PATH)\n",
    "cur = con.cursor()"
   ],
   "metadata": {
    "collapsed": false,
    "pycharm": {
     "name": "#%%\n"
    }
   }
  },
  {
   "cell_type": "code",
   "execution_count": 28,
   "outputs": [],
   "source": [
    "with open(MAPPING_PATH, 'r') as file:\n",
    "    compound_long_names = []\n",
    "    for line in file.readlines():\n",
    "        compound_long_names.append(line.split()[1])"
   ],
   "metadata": {
    "collapsed": false,
    "pycharm": {
     "name": "#%%\n"
    }
   }
  },
  {
   "cell_type": "code",
   "execution_count": 29,
   "outputs": [
    {
     "name": "stdout",
     "output_type": "stream",
     "text": [
      "78 74 41\n"
     ]
    }
   ],
   "source": [
    "# lets grab our building blocks from their db\n",
    "initiator_ids = [i[0] for i in cur.execute('SELECT id FROM buildingblocks WHERE category = ?;', 'I').fetchall()]\n",
    "monomer_ids = [i[0] for i in cur.execute('SELECT id FROM buildingblocks WHERE category = ?;', 'M').fetchall()]\n",
    "terminator_ids = [i[0] for i in cur.execute('SELECT id FROM buildingblocks WHERE category = ?;', 'T').fetchall()]\n",
    "print(len(initiator_ids), len(monomer_ids), len(terminator_ids))"
   ],
   "metadata": {
    "collapsed": false,
    "pycharm": {
     "name": "#%%\n"
    }
   }
  },
  {
   "cell_type": "code",
   "execution_count": 31,
   "outputs": [],
   "source": [
    "# let's try adding product A for one combination\n",
    "# initiator_short, initiator_long, boc_i, cbz_i, tbu_i, tms_i\\\n",
    "def query_building_block(id):\n",
    "    \"\"\"For a building block id, retrieve short, long, #boc, #cbz, #tbu, #tms in that order from DB\"\"\"\n",
    "    assert type(id) is str or type(id) is int\n",
    "    result = cur.execute('SELECT short, long, boc, cbz, tbu, tms FROM buildingblocks WHERE id = ?;', [id]).fetchone()\n",
    "    if result is None:\n",
    "        raise ValueError(f'No entry in database for id {id}')\n",
    "    return result\n",
    "\n",
    "def count_protecting_groups(initiator, monomer, terminator, product_type):\n",
    "    # we will assume the indices as 2: boc, 3: cbz, 4: tbu, 5:tms\n",
    "    if product_type in ['A', 'B', 'C']:\n",
    "        boc = initiator[2] + monomer[2] + terminator[2]\n",
    "        cbz = initiator[3] + monomer[3] + terminator[3]\n",
    "        tbu = initiator[4] + monomer[4] + terminator[4]\n",
    "        tms = initiator[5] + monomer[5] + terminator[5]\n",
    "    elif product_type in ['D']:\n",
    "        boc = initiator[2] + terminator[2]\n",
    "        cbz = initiator[3] + terminator[3]\n",
    "        tbu = initiator[4] + terminator[4]\n",
    "        tms = initiator[5] + terminator[5]\n",
    "    elif product_type in 'E':\n",
    "        boc = 2 * terminator[2]\n",
    "        cbz = 2 * terminator[3]\n",
    "        tbu = 2 * terminator[4]\n",
    "        tms = 2 * terminator[5]\n",
    "    elif product_type in ['F', 'G']:\n",
    "        boc = initiator[2] + monomer[2]\n",
    "        cbz = initiator[3] + monomer[3]\n",
    "        tbu = initiator[4] + monomer[4]\n",
    "        tms = initiator[5] + monomer[5]\n",
    "    elif product_type == 'H':\n",
    "        boc = monomer[2] + terminator[2]\n",
    "        cbz = monomer[3] + terminator[3]\n",
    "        tbu = monomer[4] + terminator[4]\n",
    "        tms = monomer[5] + terminator[5]\n",
    "    else:\n",
    "        raise ValueError(f'Invalid product type {product_type}')\n",
    "\n",
    "    return boc, cbz, tbu, tms\n",
    "\n",
    "for product_type in ['A', 'B', 'C', 'D', 'E', 'F', 'G', 'H']:\n",
    "    for i in initiator_ids:\n",
    "        for m in monomer_ids:\n",
    "            for t in terminator_ids:\n",
    "                initiator = query_building_block(i)\n",
    "                monomer = query_building_block(m)\n",
    "                terminator = query_building_block(t)\n",
    "                boc, cbz, tbu, tms = count_protecting_groups(initiator, monomer, terminator, product_type)\n",
    "                # Let's add those entries to DB\n",
    "                cur.execute('INSERT INTO virtuallibrary (initiator, monomer, terminator, type, boc, cbz, tbu, tms, initiator_long, monomer_long, terminator_long) VALUES (?,?,?,?,?,?,?,?,?,?,?)', (initiator[0], monomer[0], terminator[0], product_type, boc, cbz, tbu, tms, initiator[1], monomer[1], terminator[1]))\n",
    "            # commit after going through all terminators\n",
    "            con.commit()"
   ],
   "metadata": {
    "collapsed": false,
    "pycharm": {
     "name": "#%%\n"
    }
   }
  },
  {
   "cell_type": "code",
   "execution_count": null,
   "outputs": [],
   "source": [
    "\"\"\"\n",
    "still TODO\n",
    "- get product mol -> image and smiles and molecular formula_1\n",
    "- from pg numbers and pg dict, get the molecular formulae of deprotection products\n",
    "\"\"\""
   ],
   "metadata": {
    "collapsed": false,
    "pycharm": {
     "name": "#%%\n"
    }
   }
  },
  {
   "cell_type": "code",
   "execution_count": null,
   "outputs": [],
   "source": [
    "# open the sdf.gz\n",
    "product_type = 'A'\n",
    "with gzip.open(LIB_DIR / 'product_A.sdf.gz') as file:\n",
    "    supplier = ForwardSDMolSupplier(file)\n",
    "    for mol in supplier:\n",
    "        if mol is not None:\n",
    "            smiles = Chem.MolToSmiles(mol)\n",
    "            molecular_formula_1 = CalcMolFormula(mol)\n",
    "            mass_1 = CalcExactMolWt(mol)\n",
    "            name = mol.GetProp('_Name')\n",
    "            # now we need to match the mol with a database entry\n",
    "            result = cur.execute('SELECT id FROM virtuallibrary WHERE long_name = ? AND type = ?;', [name, product_type]).fetchall()\n",
    "            # check if we got exactly one id back\n",
    "            try:\n",
    "                if len(result) == 0:\n",
    "                    raise ValueError(f'No entry in DB for long name {name}')\n",
    "                elif len(result) > 1:\n",
    "                    raise ValueError(f'Duplicate entry for long name {name} and type {product_type}. Offending entries: {result}')\n",
    "                # sine we now have the correct id, we can add the new info obtained from the sdf file\n",
    "                cur.execute('UPDATE virtuallibrary SET SMILES = ?, molecular_formula_1 = ?, lcms_mass_1 = ?  WHERE id = ?', (smiles, molecular_formula_1, mass_1, result[0][0]))\n",
    "            except ValueError:\n",
    "                # only raise the error if the building block was used in 50k project\n",
    "                if name.split(' + ')[0] in compound_long_names and name.split(' + ')[1] in compound_long_names and name.split(' + ')[2] in compound_long_names:\n",
    "                    raise ValueError(f'Failed on product {name}')\n",
    "con.commit()"
   ],
   "metadata": {
    "collapsed": false,
    "pycharm": {
     "name": "#%%\n",
     "is_executing": true
    }
   }
  },
  {
   "cell_type": "code",
   "execution_count": 24,
   "outputs": [],
   "source": [
    "con.rollback()"
   ],
   "metadata": {
    "collapsed": false,
    "pycharm": {
     "name": "#%%\n"
    }
   }
  },
  {
   "cell_type": "code",
   "execution_count": null,
   "outputs": [],
   "source": [
    "\"\"\"Add entries to DB\"\"\"\n",
    "for short in compound_mapping.keys():\n",
    "    long = compound_mapping[short]\n",
    "    mol = df.loc[df['Compound Name'] == long, 'mol'].item()\n",
    "    smiles = Chem.MolToSmiles(mol)  # we regenerate SMILES instead of using the value from df to have a canonical representation\n",
    "    image = Draw.MolToImage(mol)  # TODO change this into the better drawing method\n",
    "    category = df.loc[df['Compound Name'] == long,'Category'].item()\n",
    "    # save image to static dir and keep imagepath to add to db\n",
    "    image_path = STATIC_DIR / 'image' / f'{short}.png'\n",
    "    image.save(image_path)\n",
    "    # write this to the db\n",
    "    cur.execute('INSERT INTO main.buildingblocks(long, short, SMILES, image, category, boc, cbz, tbu, tms) VALUES(?,?,?,?,?,?,?,?,?);', (long, short, smiles, str(image_path.resolve()), category, boc, cbz, tbu, tms))"
   ],
   "metadata": {
    "collapsed": false,
    "pycharm": {
     "name": "#%%\n"
    }
   }
  },
  {
   "cell_type": "code",
   "execution_count": 11,
   "outputs": [],
   "source": [
    "con.commit()"
   ],
   "metadata": {
    "collapsed": false,
    "pycharm": {
     "name": "#%%\n"
    }
   }
  },
  {
   "cell_type": "code",
   "execution_count": 35,
   "outputs": [],
   "source": [
    "\"\"\"A dictionary to look up protecting group properties\"\"\"\n",
    "pg_dict = {\n",
    "    'boc': ('C5H8O2', 100.0524),\n",
    "    'cbz': ('C8H6O2', 134.0368),\n",
    "    'tbu': ('C4H8', 56.0626),\n",
    "    'tms': ('C3H8Si', 72.0395),\n",
    "}"
   ],
   "metadata": {
    "collapsed": false,
    "pycharm": {
     "name": "#%%\n"
    }
   }
  },
  {
   "cell_type": "code",
   "execution_count": 33,
   "outputs": [],
   "source": [
    "def parse_formula(formula : str) -> dict: # Formula Parsing by Aditya Matam\n",
    "    def multiply(formula: dict, mul: int) -> None:\n",
    "        for key in formula: formula[key] *= mul\n",
    "\n",
    "    formDict = {}\n",
    "    # PARENS\n",
    "    for match in re.finditer(r\"\\((.*?)\\)(\\d*)\", formula):\n",
    "        parens = parse_formula(match.group(1))\n",
    "        mul = match.group(2)\n",
    "        if not mul: mul = 1\n",
    "        multiply(parens, int(mul))\n",
    "        formDict.update(parens)\n",
    "    # REST\n",
    "    for match in re.finditer(r\"(\\(?)([A-Z][a-z]?)(\\d*)(\\)?)\", formula):\n",
    "        left, elem, mul, right = match.groups()\n",
    "        if left or right: continue\n",
    "        if not mul: mul = 1\n",
    "        if elem in formDict:\n",
    "            formDict[elem] += int(mul)\n",
    "        else:\n",
    "            formDict[elem] = int(mul)\n",
    "\n",
    "    return formDict\n",
    "\n",
    "def formula_to_string(formDict):\n",
    "    s = ''\n",
    "    for key, value in formDict.items():\n",
    "        if value == 1:\n",
    "            s += key\n",
    "        elif value > 1:\n",
    "            s += f'{key}{value}'\n",
    "    return s\n",
    "\n",
    "def substract_formulae(minuend, substrahend):\n",
    "    result = copy.deepcopy(minuend)  # we make a deepcopy to not alter the minuend\n",
    "    for key, value in substrahend.items():\n",
    "        result[key] -= value\n",
    "    return result\n",
    "\n",
    "def string_formula_substraction(minuend, substrahend):\n",
    "    return formula_to_string(substract_formulae(parse_formula(minuend), parse_formula(substrahend)))"
   ],
   "metadata": {
    "collapsed": false,
    "pycharm": {
     "name": "#%%\n"
    }
   }
  },
  {
   "cell_type": "code",
   "execution_count": 48,
   "outputs": [],
   "source": [
    "\"\"\"For existing entries, use SMILES and number of protecting groups to calculate probable formulae in LCMS\"\"\"\n",
    "for id, smiles, boc, cbz, tbu, tms in cur.execute('SELECT id, SMILES, boc, cbz, tbu, tms FROM buildingblocks;').fetchall():\n",
    "    mol = Chem.MolFromSmiles(smiles)\n",
    "    lcms_formula_1 = CalcMolFormula(mol)\n",
    "    lcms_mass_1 = CalcExactMolWt(mol)\n",
    "    cur.execute('UPDATE buildingblocks SET lcms_formula_1 = ?, lcms_mass_1 = ? WHERE id = ?', (lcms_formula_1, lcms_mass_1, id))\n",
    "    con.commit()\n",
    "    additional_formulae = []\n",
    "    additional_masses = []\n",
    "    for pg, pgname in zip([boc, cbz, tbu, tms], ['boc', 'cbz', 'tbu', 'tms']):\n",
    "        for i in range(pg):\n",
    "            # if boc == 0, this will not evaluate\n",
    "            additional_formulae.append(string_formula_substraction(lcms_formula_1, pg_dict[pgname][0]))\n",
    "            additional_masses.append(lcms_mass_1 - pg_dict[pgname][1])\n",
    "    additional_masses = [f'{i:.4f}' for i in additional_masses]\n",
    "    if len(additional_formulae) > 0:\n",
    "        cur.execute('UPDATE buildingblocks SET lcms_formula_alt = ?, lcms_mass_alt = ? WHERE id = ?', (','.join(additional_formulae), ','.join(additional_masses), id))\n",
    "        con.commit()"
   ],
   "metadata": {
    "collapsed": false,
    "pycharm": {
     "name": "#%%\n"
    }
   }
  },
  {
   "cell_type": "code",
   "execution_count": 32,
   "outputs": [
    {
     "data": {
      "text/plain": "'C7H4O'"
     },
     "execution_count": 32,
     "metadata": {},
     "output_type": "execute_result"
    }
   ],
   "source": [
    "ex1 = 'C10H5O'\n",
    "ex2 = 'C3H'\n",
    "formula_to_string(substract_formulae(parse_formula(ex1), parse_formula(ex2)))"
   ],
   "metadata": {
    "collapsed": false,
    "pycharm": {
     "name": "#%%\n"
    }
   }
  },
  {
   "cell_type": "code",
   "execution_count": null,
   "outputs": [],
   "source": [
    "con.commit()"
   ],
   "metadata": {
    "collapsed": false,
    "pycharm": {
     "name": "#%%\n"
    }
   }
  },
  {
   "cell_type": "code",
   "execution_count": 37,
   "outputs": [],
   "source": [
    "con.close()"
   ],
   "metadata": {
    "collapsed": false,
    "pycharm": {
     "name": "#%%\n"
    }
   }
  }
 ],
 "metadata": {
  "kernelspec": {
   "display_name": "Python 3",
   "language": "python",
   "name": "python3"
  },
  "language_info": {
   "codemirror_mode": {
    "name": "ipython",
    "version": 2
   },
   "file_extension": ".py",
   "mimetype": "text/x-python",
   "name": "python",
   "nbconvert_exporter": "python",
   "pygments_lexer": "ipython2",
   "version": "2.7.6"
  }
 },
 "nbformat": 4,
 "nbformat_minor": 0
}