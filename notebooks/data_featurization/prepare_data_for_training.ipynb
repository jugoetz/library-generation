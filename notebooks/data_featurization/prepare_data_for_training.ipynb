{
 "cells": [
  {
   "cell_type": "markdown",
   "id": "295e0b34",
   "metadata": {
    "collapsed": true
   },
   "source": [
    "# SynFerm data preparation\n",
    "#### Targets:\n",
    "- Import experiment, representation, and target data from db\n",
    "- Export to CSV"
   ]
  },
  {
   "cell_type": "code",
   "execution_count": 4,
   "id": "69d02537",
   "metadata": {
    "ExecuteTime": {
     "end_time": "2023-07-20T12:30:50.300118Z",
     "start_time": "2023-07-20T12:30:50.150485Z"
    }
   },
   "outputs": [],
   "source": [
    "import os\n",
    "import sys\n",
    "\n",
    "sys.path.insert(0, os.path.abspath('../..'))\n",
    "from copy import deepcopy\n",
    "\n",
    "from IPython.display import SVG, display\n",
    "import pandas as pd\n",
    "\n",
    "from src.util.db_utils import SynFermDatabaseConnection\n"
   ]
  },
  {
   "cell_type": "code",
   "execution_count": 5,
   "id": "95259c45",
   "metadata": {
    "ExecuteTime": {
     "end_time": "2023-07-20T12:30:50.451282Z",
     "start_time": "2023-07-20T12:30:50.449013Z"
    }
   },
   "outputs": [],
   "source": [
    "con = SynFermDatabaseConnection()  # we will use this for various simple queries"
   ]
  },
  {
   "cell_type": "code",
   "execution_count": 7,
   "id": "33d4dbab",
   "metadata": {
    "ExecuteTime": {
     "end_time": "2023-07-20T12:31:11.267473Z",
     "start_time": "2023-07-20T12:31:10.599794Z"
    }
   },
   "outputs": [
    {
     "name": "stdout",
     "output_type": "stream",
     "text": [
      "Number of reactions (in total): 58664\n"
     ]
    }
   ],
   "source": [
    "res = con.con.execute('SELECT e.id, r.I_long, r.M_long, r.T_long, r.product_A_smiles, r.I_smiles, r.M_smiles, r.T_smiles, r.reaction_smiles, r.reaction_smiles_atom_mapped, l.binary_A, l.binary_B, l.binary_C, l.binary_D, l.binary_E, l.binary_F, l.binary_G, l.binary_H, l.scaled_A, l.scaled_B, l.scaled_C, l.scaled_D, l.scaled_E, l.scaled_F, l.scaled_G, l.scaled_H, l.\"major_A-C\" FROM experiments e LEFT JOIN representations r on e.id = r.experiment_id LEFT JOIN labels l on e.id = l.experiment_id;').fetchall()\n",
    "\n",
    "columns = [\"experiment_id\", \"I_long\", \"M_long\", \"T_long\", \"product_A_smiles\", \"I_smiles\", \"M_smiles\", \"T_smiles\", \"reaction_smiles\", \"reaction_smiles_atom_mapped\", \"binary_A\", \"binary_B\", \"binary_C\", \"binary_D\", \"binary_E\", \"binary_F\", \"binary_G\", \"binary_H\", \"scaled_A\", \"scaled_B\", \"scaled_C\", \"scaled_D\", \"scaled_E\", \"scaled_F\", \"scaled_G\", \"scaled_H\", \"major_A-C\"]\n",
    "df_full = pd.DataFrame(res, columns=columns)\n",
    "print(f'Number of reactions (in total): {len(df_full)}')"
   ]
  },
  {
   "cell_type": "code",
   "execution_count": 8,
   "id": "0b12ecce",
   "metadata": {
    "ExecuteTime": {
     "end_time": "2023-07-20T12:31:23.499147Z",
     "start_time": "2023-07-20T12:31:22.258301Z"
    }
   },
   "outputs": [
    {
     "ename": "KeyError",
     "evalue": "'valid'",
     "output_type": "error",
     "traceback": [
      "\u001B[0;31m---------------------------------------------------------------------------\u001B[0m",
      "\u001B[0;31mKeyError\u001B[0m                                  Traceback (most recent call last)",
      "File \u001B[0;32m~/miniconda3/envs/library-generation/lib/python3.9/site-packages/pandas/core/indexes/base.py:3802\u001B[0m, in \u001B[0;36mIndex.get_loc\u001B[0;34m(self, key, method, tolerance)\u001B[0m\n\u001B[1;32m   3801\u001B[0m \u001B[38;5;28;01mtry\u001B[39;00m:\n\u001B[0;32m-> 3802\u001B[0m     \u001B[38;5;28;01mreturn\u001B[39;00m \u001B[38;5;28;43mself\u001B[39;49m\u001B[38;5;241;43m.\u001B[39;49m\u001B[43m_engine\u001B[49m\u001B[38;5;241;43m.\u001B[39;49m\u001B[43mget_loc\u001B[49m\u001B[43m(\u001B[49m\u001B[43mcasted_key\u001B[49m\u001B[43m)\u001B[49m\n\u001B[1;32m   3803\u001B[0m \u001B[38;5;28;01mexcept\u001B[39;00m \u001B[38;5;167;01mKeyError\u001B[39;00m \u001B[38;5;28;01mas\u001B[39;00m err:\n",
      "File \u001B[0;32m~/miniconda3/envs/library-generation/lib/python3.9/site-packages/pandas/_libs/index.pyx:138\u001B[0m, in \u001B[0;36mpandas._libs.index.IndexEngine.get_loc\u001B[0;34m()\u001B[0m\n",
      "File \u001B[0;32m~/miniconda3/envs/library-generation/lib/python3.9/site-packages/pandas/_libs/index.pyx:165\u001B[0m, in \u001B[0;36mpandas._libs.index.IndexEngine.get_loc\u001B[0;34m()\u001B[0m\n",
      "File \u001B[0;32mpandas/_libs/hashtable_class_helper.pxi:5745\u001B[0m, in \u001B[0;36mpandas._libs.hashtable.PyObjectHashTable.get_item\u001B[0;34m()\u001B[0m\n",
      "File \u001B[0;32mpandas/_libs/hashtable_class_helper.pxi:5753\u001B[0m, in \u001B[0;36mpandas._libs.hashtable.PyObjectHashTable.get_item\u001B[0;34m()\u001B[0m\n",
      "\u001B[0;31mKeyError\u001B[0m: 'valid'",
      "\nThe above exception was the direct cause of the following exception:\n",
      "\u001B[0;31mKeyError\u001B[0m                                  Traceback (most recent call last)",
      "Cell \u001B[0;32mIn[8], line 1\u001B[0m\n\u001B[0;32m----> 1\u001B[0m df_valid \u001B[38;5;241m=\u001B[39m df_full\u001B[38;5;241m.\u001B[39mloc[(\u001B[38;5;241m~\u001B[39m\u001B[43mdf_full\u001B[49m\u001B[43m[\u001B[49m\u001B[38;5;124;43m\"\u001B[39;49m\u001B[38;5;124;43mvalid\u001B[39;49m\u001B[38;5;124;43m\"\u001B[39;49m\u001B[43m]\u001B[49m\u001B[38;5;241m.\u001B[39mstr\u001B[38;5;241m.\u001B[39mcontains(\u001B[38;5;124m\"\u001B[39m\u001B[38;5;124mERROR\u001B[39m\u001B[38;5;124m\"\u001B[39m, na\u001B[38;5;241m=\u001B[39m\u001B[38;5;28;01mFalse\u001B[39;00m)) \u001B[38;5;241m&\u001B[39m (df_full[\u001B[38;5;124m\"\u001B[39m\u001B[38;5;124mexp_nr\u001B[39m\u001B[38;5;124m\"\u001B[39m]\u001B[38;5;241m.\u001B[39mbetween(\u001B[38;5;241m4\u001B[39m, \u001B[38;5;241m29\u001B[39m))]  \u001B[38;5;66;03m# kick out invalid experiments\u001B[39;00m\n\u001B[1;32m      2\u001B[0m \u001B[38;5;28mprint\u001B[39m(\u001B[38;5;124mf\u001B[39m\u001B[38;5;124m'\u001B[39m\u001B[38;5;124mNumber of valid (non-test) reactions: \u001B[39m\u001B[38;5;132;01m{\u001B[39;00m\u001B[38;5;28mlen\u001B[39m(df_valid)\u001B[38;5;132;01m}\u001B[39;00m\u001B[38;5;124m'\u001B[39m)\n",
      "File \u001B[0;32m~/miniconda3/envs/library-generation/lib/python3.9/site-packages/pandas/core/frame.py:3807\u001B[0m, in \u001B[0;36mDataFrame.__getitem__\u001B[0;34m(self, key)\u001B[0m\n\u001B[1;32m   3805\u001B[0m \u001B[38;5;28;01mif\u001B[39;00m \u001B[38;5;28mself\u001B[39m\u001B[38;5;241m.\u001B[39mcolumns\u001B[38;5;241m.\u001B[39mnlevels \u001B[38;5;241m>\u001B[39m \u001B[38;5;241m1\u001B[39m:\n\u001B[1;32m   3806\u001B[0m     \u001B[38;5;28;01mreturn\u001B[39;00m \u001B[38;5;28mself\u001B[39m\u001B[38;5;241m.\u001B[39m_getitem_multilevel(key)\n\u001B[0;32m-> 3807\u001B[0m indexer \u001B[38;5;241m=\u001B[39m \u001B[38;5;28;43mself\u001B[39;49m\u001B[38;5;241;43m.\u001B[39;49m\u001B[43mcolumns\u001B[49m\u001B[38;5;241;43m.\u001B[39;49m\u001B[43mget_loc\u001B[49m\u001B[43m(\u001B[49m\u001B[43mkey\u001B[49m\u001B[43m)\u001B[49m\n\u001B[1;32m   3808\u001B[0m \u001B[38;5;28;01mif\u001B[39;00m is_integer(indexer):\n\u001B[1;32m   3809\u001B[0m     indexer \u001B[38;5;241m=\u001B[39m [indexer]\n",
      "File \u001B[0;32m~/miniconda3/envs/library-generation/lib/python3.9/site-packages/pandas/core/indexes/base.py:3804\u001B[0m, in \u001B[0;36mIndex.get_loc\u001B[0;34m(self, key, method, tolerance)\u001B[0m\n\u001B[1;32m   3802\u001B[0m     \u001B[38;5;28;01mreturn\u001B[39;00m \u001B[38;5;28mself\u001B[39m\u001B[38;5;241m.\u001B[39m_engine\u001B[38;5;241m.\u001B[39mget_loc(casted_key)\n\u001B[1;32m   3803\u001B[0m \u001B[38;5;28;01mexcept\u001B[39;00m \u001B[38;5;167;01mKeyError\u001B[39;00m \u001B[38;5;28;01mas\u001B[39;00m err:\n\u001B[0;32m-> 3804\u001B[0m     \u001B[38;5;28;01mraise\u001B[39;00m \u001B[38;5;167;01mKeyError\u001B[39;00m(key) \u001B[38;5;28;01mfrom\u001B[39;00m \u001B[38;5;21;01merr\u001B[39;00m\n\u001B[1;32m   3805\u001B[0m \u001B[38;5;28;01mexcept\u001B[39;00m \u001B[38;5;167;01mTypeError\u001B[39;00m:\n\u001B[1;32m   3806\u001B[0m     \u001B[38;5;66;03m# If we have a listlike key, _check_indexing_error will raise\u001B[39;00m\n\u001B[1;32m   3807\u001B[0m     \u001B[38;5;66;03m#  InvalidIndexError. Otherwise we fall through and re-raise\u001B[39;00m\n\u001B[1;32m   3808\u001B[0m     \u001B[38;5;66;03m#  the TypeError.\u001B[39;00m\n\u001B[1;32m   3809\u001B[0m     \u001B[38;5;28mself\u001B[39m\u001B[38;5;241m.\u001B[39m_check_indexing_error(key)\n",
      "\u001B[0;31mKeyError\u001B[0m: 'valid'"
     ]
    }
   ],
   "source": [
    "df_valid = df_full.loc[(~df_full[\"valid\"].str.contains(\"ERROR\", na=False)) & (df_full[\"exp_nr\"].between(4, 29))]  # kick out invalid experiments\n",
    "print(f'Number of valid (non-test) reactions: {len(df_valid)}')"
   ]
  },
  {
   "cell_type": "code",
   "execution_count": 23,
   "id": "d26dc3a9",
   "metadata": {
    "scrolled": false,
    "ExecuteTime": {
     "end_time": "2023-07-19T10:42:15.721977Z",
     "start_time": "2023-07-19T10:42:15.702571Z"
    }
   },
   "outputs": [
    {
     "data": {
      "text/plain": "0"
     },
     "execution_count": 23,
     "metadata": {},
     "output_type": "execute_result"
    }
   ],
   "source": [
    "# doublecheck we don't have missing values\n",
    "df_valid['product_A_lcms_ratio'].isna().sum()"
   ]
  },
  {
   "cell_type": "markdown",
   "id": "8a096a33",
   "metadata": {},
   "source": [
    "Now we have a cleaned dataset. Export to CSV."
   ]
  },
  {
   "cell_type": "code",
   "execution_count": null,
   "outputs": [],
   "source": [
    "df_valid.to_csv(f'synferm_dataset_2023-07-20_{len(df_valid)}records.csv', index=False)"
   ],
   "metadata": {
    "collapsed": false
   }
  }
 ],
 "metadata": {
  "kernelspec": {
   "display_name": "Python 3 (ipykernel)",
   "language": "python",
   "name": "python3"
  },
  "language_info": {
   "codemirror_mode": {
    "name": "ipython",
    "version": 3
   },
   "file_extension": ".py",
   "mimetype": "text/x-python",
   "name": "python",
   "nbconvert_exporter": "python",
   "pygments_lexer": "ipython3",
   "version": "3.9.16"
  }
 },
 "nbformat": 4,
 "nbformat_minor": 5
}
