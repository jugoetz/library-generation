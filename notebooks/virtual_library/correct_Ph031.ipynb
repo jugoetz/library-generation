{
 "cells": [
  {
   "cell_type": "markdown",
   "source": [
    "# Correct Ph031\n",
    "\n",
    "Change all relevant entries related to Ph031 in the virtuallibrary table.\n",
    "Only products A-D, F, and G are affected.\n",
    "\n",
    "- Add a comment about the side product\n",
    "- Append +H2O to molecular_formula_alt\n",
    "- Append +18.0106 to lcms_mass_alt"
   ],
   "metadata": {
    "collapsed": false
   },
   "id": "d6850d714bef7ac8"
  },
  {
   "cell_type": "code",
   "execution_count": 5,
   "outputs": [],
   "source": [
    "import sqlite3\n",
    "import re\n",
    "import copy\n",
    "\n",
    "import pandas as pd"
   ],
   "metadata": {
    "collapsed": false,
    "ExecuteTime": {
     "end_time": "2023-08-18T13:55:22.981540Z",
     "start_time": "2023-08-18T13:55:22.971045Z"
    }
   },
   "id": "a52b4ea700c2f78a"
  },
  {
   "cell_type": "code",
   "execution_count": 2,
   "outputs": [
    {
     "data": {
      "text/plain": "<sqlite3.Connection at 0x11e8fa990>"
     },
     "execution_count": 2,
     "metadata": {},
     "output_type": "execute_result"
    }
   ],
   "source": [
    "# Connect to database\n",
    "con = sqlite3.connect('../../data/db/50k_project.db')\n",
    "con"
   ],
   "metadata": {
    "collapsed": false,
    "ExecuteTime": {
     "end_time": "2023-08-18T13:52:00.903136Z",
     "start_time": "2023-08-18T13:52:00.877838Z"
    }
   },
   "id": "8a51f176e5a288a5"
  },
  {
   "cell_type": "code",
   "execution_count": 46,
   "outputs": [
    {
     "data": {
      "text/plain": "            id initiator_long monomer_long terminator_long  \\\n0       221483          Ph031     Fused002       TerABT001   \n1       221484          Ph031     Fused002       TerABT004   \n2       221485          Ph031     Fused002       TerABT005   \n3       221486          Ph031     Fused002       TerABT006   \n4       221487          Ph031     Fused002       TerABT007   \n...        ...            ...          ...             ...   \n18199  1644424          Ph031     Spiro017        TerTH023   \n18200  1644425          Ph031     Spiro017        TerTH025   \n18201  1644426          Ph031     Spiro017        TerTH026   \n18202  1644427          Ph031     Spiro017        TerTH027   \n18203  1644428          Ph031     Spiro017        TerTH028   \n\n                          long_name type  \\\n0      Ph031 + Fused002 + TerABT001    A   \n1      Ph031 + Fused002 + TerABT004    A   \n2      Ph031 + Fused002 + TerABT005    A   \n3      Ph031 + Fused002 + TerABT006    A   \n4      Ph031 + Fused002 + TerABT007    A   \n...                             ...  ...   \n18199   Ph031 + Spiro017 + TerTH023    G   \n18200   Ph031 + Spiro017 + TerTH025    G   \n18201   Ph031 + Spiro017 + TerTH026    G   \n18202   Ph031 + Spiro017 + TerTH027    G   \n18203   Ph031 + Spiro017 + TerTH028    G   \n\n                                                  SMILES  boc  cbz  tbu  tms  \\\n0      COc1ccc(CCOC(=O)N2C[C@H](NC(=O)c3ccc(C4=NCCO4)...    0    0    0    0   \n1      COc1ccc(CCOC(=O)N2C[C@H](NC(=O)c3ccc(C4=NCCO4)...    0    0    0    0   \n2      COc1ccc(CCOC(=O)N2C[C@H](NC(=O)c3ccc(C4=NCCO4)...    0    0    0    0   \n3      COc1ccc(CCOC(=O)N2C[C@H](NC(=O)c3ccc(C4=NCCO4)...    0    0    0    0   \n4      COc1ccc(CCOC(=O)N2C[C@H](NC(=O)c3ccc(C4=NCCO4)...    0    0    0    0   \n...                                                  ...  ...  ...  ...  ...   \n18199      O=C(O)C[C@@]1(NC(=O)c2ccc(C3=NCCO3)cc2)CCCOC1    0    0    0    0   \n18200      O=C(O)C[C@@]1(NC(=O)c2ccc(C3=NCCO3)cc2)CCCOC1    0    0    0    0   \n18201      O=C(O)C[C@@]1(NC(=O)c2ccc(C3=NCCO3)cc2)CCCOC1    0    0    0    0   \n18202      O=C(O)C[C@@]1(NC(=O)c2ccc(C3=NCCO3)cc2)CCCOC1    0    0    0    0   \n18203      O=C(O)C[C@@]1(NC(=O)c2ccc(C3=NCCO3)cc2)CCCOC1    0    0    0    0   \n\n      comment molecular_formula_1  lcms_mass_1 molecular_formula_alt  \\\n0        None         C32H32N4O6S   600.204256                  None   \n1        None        C32H31FN4O6S   618.194834                  None   \n2        None         C33H34N4O6S   614.219906                  None   \n3        None         C34H36N4O6S   628.235556                  None   \n4        None       C32H31BrN4O6S   678.114768                  None   \n...       ...                 ...          ...                   ...   \n18199    None          C17H20N2O5   332.137222                  None   \n18200    None          C17H20N2O5   332.137222                  None   \n18201    None          C17H20N2O5   332.137222                  None   \n18202    None          C17H20N2O5   332.137222                  None   \n18203    None          C17H20N2O5   332.137222                  None   \n\n      lcms_mass_alt  \n0              None  \n1              None  \n2              None  \n3              None  \n4              None  \n...             ...  \n18199          None  \n18200          None  \n18201          None  \n18202          None  \n18203          None  \n\n[18204 rows x 16 columns]",
      "text/html": "<div>\n<style scoped>\n    .dataframe tbody tr th:only-of-type {\n        vertical-align: middle;\n    }\n\n    .dataframe tbody tr th {\n        vertical-align: top;\n    }\n\n    .dataframe thead th {\n        text-align: right;\n    }\n</style>\n<table border=\"1\" class=\"dataframe\">\n  <thead>\n    <tr style=\"text-align: right;\">\n      <th></th>\n      <th>id</th>\n      <th>initiator_long</th>\n      <th>monomer_long</th>\n      <th>terminator_long</th>\n      <th>long_name</th>\n      <th>type</th>\n      <th>SMILES</th>\n      <th>boc</th>\n      <th>cbz</th>\n      <th>tbu</th>\n      <th>tms</th>\n      <th>comment</th>\n      <th>molecular_formula_1</th>\n      <th>lcms_mass_1</th>\n      <th>molecular_formula_alt</th>\n      <th>lcms_mass_alt</th>\n    </tr>\n  </thead>\n  <tbody>\n    <tr>\n      <th>0</th>\n      <td>221483</td>\n      <td>Ph031</td>\n      <td>Fused002</td>\n      <td>TerABT001</td>\n      <td>Ph031 + Fused002 + TerABT001</td>\n      <td>A</td>\n      <td>COc1ccc(CCOC(=O)N2C[C@H](NC(=O)c3ccc(C4=NCCO4)...</td>\n      <td>0</td>\n      <td>0</td>\n      <td>0</td>\n      <td>0</td>\n      <td>None</td>\n      <td>C32H32N4O6S</td>\n      <td>600.204256</td>\n      <td>None</td>\n      <td>None</td>\n    </tr>\n    <tr>\n      <th>1</th>\n      <td>221484</td>\n      <td>Ph031</td>\n      <td>Fused002</td>\n      <td>TerABT004</td>\n      <td>Ph031 + Fused002 + TerABT004</td>\n      <td>A</td>\n      <td>COc1ccc(CCOC(=O)N2C[C@H](NC(=O)c3ccc(C4=NCCO4)...</td>\n      <td>0</td>\n      <td>0</td>\n      <td>0</td>\n      <td>0</td>\n      <td>None</td>\n      <td>C32H31FN4O6S</td>\n      <td>618.194834</td>\n      <td>None</td>\n      <td>None</td>\n    </tr>\n    <tr>\n      <th>2</th>\n      <td>221485</td>\n      <td>Ph031</td>\n      <td>Fused002</td>\n      <td>TerABT005</td>\n      <td>Ph031 + Fused002 + TerABT005</td>\n      <td>A</td>\n      <td>COc1ccc(CCOC(=O)N2C[C@H](NC(=O)c3ccc(C4=NCCO4)...</td>\n      <td>0</td>\n      <td>0</td>\n      <td>0</td>\n      <td>0</td>\n      <td>None</td>\n      <td>C33H34N4O6S</td>\n      <td>614.219906</td>\n      <td>None</td>\n      <td>None</td>\n    </tr>\n    <tr>\n      <th>3</th>\n      <td>221486</td>\n      <td>Ph031</td>\n      <td>Fused002</td>\n      <td>TerABT006</td>\n      <td>Ph031 + Fused002 + TerABT006</td>\n      <td>A</td>\n      <td>COc1ccc(CCOC(=O)N2C[C@H](NC(=O)c3ccc(C4=NCCO4)...</td>\n      <td>0</td>\n      <td>0</td>\n      <td>0</td>\n      <td>0</td>\n      <td>None</td>\n      <td>C34H36N4O6S</td>\n      <td>628.235556</td>\n      <td>None</td>\n      <td>None</td>\n    </tr>\n    <tr>\n      <th>4</th>\n      <td>221487</td>\n      <td>Ph031</td>\n      <td>Fused002</td>\n      <td>TerABT007</td>\n      <td>Ph031 + Fused002 + TerABT007</td>\n      <td>A</td>\n      <td>COc1ccc(CCOC(=O)N2C[C@H](NC(=O)c3ccc(C4=NCCO4)...</td>\n      <td>0</td>\n      <td>0</td>\n      <td>0</td>\n      <td>0</td>\n      <td>None</td>\n      <td>C32H31BrN4O6S</td>\n      <td>678.114768</td>\n      <td>None</td>\n      <td>None</td>\n    </tr>\n    <tr>\n      <th>...</th>\n      <td>...</td>\n      <td>...</td>\n      <td>...</td>\n      <td>...</td>\n      <td>...</td>\n      <td>...</td>\n      <td>...</td>\n      <td>...</td>\n      <td>...</td>\n      <td>...</td>\n      <td>...</td>\n      <td>...</td>\n      <td>...</td>\n      <td>...</td>\n      <td>...</td>\n      <td>...</td>\n    </tr>\n    <tr>\n      <th>18199</th>\n      <td>1644424</td>\n      <td>Ph031</td>\n      <td>Spiro017</td>\n      <td>TerTH023</td>\n      <td>Ph031 + Spiro017 + TerTH023</td>\n      <td>G</td>\n      <td>O=C(O)C[C@@]1(NC(=O)c2ccc(C3=NCCO3)cc2)CCCOC1</td>\n      <td>0</td>\n      <td>0</td>\n      <td>0</td>\n      <td>0</td>\n      <td>None</td>\n      <td>C17H20N2O5</td>\n      <td>332.137222</td>\n      <td>None</td>\n      <td>None</td>\n    </tr>\n    <tr>\n      <th>18200</th>\n      <td>1644425</td>\n      <td>Ph031</td>\n      <td>Spiro017</td>\n      <td>TerTH025</td>\n      <td>Ph031 + Spiro017 + TerTH025</td>\n      <td>G</td>\n      <td>O=C(O)C[C@@]1(NC(=O)c2ccc(C3=NCCO3)cc2)CCCOC1</td>\n      <td>0</td>\n      <td>0</td>\n      <td>0</td>\n      <td>0</td>\n      <td>None</td>\n      <td>C17H20N2O5</td>\n      <td>332.137222</td>\n      <td>None</td>\n      <td>None</td>\n    </tr>\n    <tr>\n      <th>18201</th>\n      <td>1644426</td>\n      <td>Ph031</td>\n      <td>Spiro017</td>\n      <td>TerTH026</td>\n      <td>Ph031 + Spiro017 + TerTH026</td>\n      <td>G</td>\n      <td>O=C(O)C[C@@]1(NC(=O)c2ccc(C3=NCCO3)cc2)CCCOC1</td>\n      <td>0</td>\n      <td>0</td>\n      <td>0</td>\n      <td>0</td>\n      <td>None</td>\n      <td>C17H20N2O5</td>\n      <td>332.137222</td>\n      <td>None</td>\n      <td>None</td>\n    </tr>\n    <tr>\n      <th>18202</th>\n      <td>1644427</td>\n      <td>Ph031</td>\n      <td>Spiro017</td>\n      <td>TerTH027</td>\n      <td>Ph031 + Spiro017 + TerTH027</td>\n      <td>G</td>\n      <td>O=C(O)C[C@@]1(NC(=O)c2ccc(C3=NCCO3)cc2)CCCOC1</td>\n      <td>0</td>\n      <td>0</td>\n      <td>0</td>\n      <td>0</td>\n      <td>None</td>\n      <td>C17H20N2O5</td>\n      <td>332.137222</td>\n      <td>None</td>\n      <td>None</td>\n    </tr>\n    <tr>\n      <th>18203</th>\n      <td>1644428</td>\n      <td>Ph031</td>\n      <td>Spiro017</td>\n      <td>TerTH028</td>\n      <td>Ph031 + Spiro017 + TerTH028</td>\n      <td>G</td>\n      <td>O=C(O)C[C@@]1(NC(=O)c2ccc(C3=NCCO3)cc2)CCCOC1</td>\n      <td>0</td>\n      <td>0</td>\n      <td>0</td>\n      <td>0</td>\n      <td>None</td>\n      <td>C17H20N2O5</td>\n      <td>332.137222</td>\n      <td>None</td>\n      <td>None</td>\n    </tr>\n  </tbody>\n</table>\n<p>18204 rows × 16 columns</p>\n</div>"
     },
     "execution_count": 46,
     "metadata": {},
     "output_type": "execute_result"
    }
   ],
   "source": [
    "# Get all Ph031 entries\n",
    "df = pd.read_sql_query(\n",
    "    \"SELECT * FROM virtuallibrary WHERE initiator_long = 'Ph031' AND type IN ('A', 'B', 'C', 'D', 'F', 'G')\",\n",
    "    con\n",
    ")\n",
    "df"
   ],
   "metadata": {
    "collapsed": false,
    "ExecuteTime": {
     "end_time": "2023-08-18T14:15:10.705785Z",
     "start_time": "2023-08-18T14:15:10.332397Z"
    }
   },
   "id": "7862c02b6079c439"
  },
  {
   "cell_type": "code",
   "execution_count": 47,
   "outputs": [],
   "source": [
    "# add comment\n",
    "df['comment'] = 'oxazoline->amide side product for Ph031'"
   ],
   "metadata": {
    "collapsed": false,
    "ExecuteTime": {
     "end_time": "2023-08-18T14:15:13.145212Z",
     "start_time": "2023-08-18T14:15:13.138244Z"
    }
   },
   "id": "8d30c5f116ef01e2"
  },
  {
   "cell_type": "code",
   "execution_count": 48,
   "outputs": [],
   "source": [
    "# some helper functions\n",
    "def parse_formula(formula : str) -> dict: # Formula Parsing by Aditya Matam\n",
    "    def multiply(formula: dict, mul: int) -> None:\n",
    "        for key in formula: formula[key] *= mul\n",
    "\n",
    "    formDict = {}\n",
    "    # PARENS\n",
    "    for match in re.finditer(r\"\\((.*?)\\)(\\d*)\", formula):\n",
    "        parens = parse_formula(match.group(1))\n",
    "        mul = match.group(2)\n",
    "        if not mul: mul = 1\n",
    "        multiply(parens, int(mul))\n",
    "        formDict.update(parens)\n",
    "    # REST\n",
    "    for match in re.finditer(r\"(\\(?)([A-Z][a-z]?)(\\d*)(\\)?)\", formula):\n",
    "        left, elem, mul, right = match.groups()\n",
    "        if left or right: continue\n",
    "        if not mul: mul = 1\n",
    "        if elem in formDict:\n",
    "            formDict[elem] += int(mul)\n",
    "        else:\n",
    "            formDict[elem] = int(mul)\n",
    "\n",
    "    return formDict\n",
    "\n",
    "def formula_to_string(formDict):\n",
    "    s = ''\n",
    "    for key, value in formDict.items():\n",
    "        if value == 1:\n",
    "            s += key\n",
    "        elif value > 1:\n",
    "            s += f'{key}{value}'\n",
    "    return s\n",
    "\n",
    "def add_formulae(formula1, formula2):\n",
    "    result = copy.deepcopy(formula1)  # we make a deepcopy to not alter the first formula\n",
    "    for key, value in formula2.items():\n",
    "        result[key] += value\n",
    "    return result\n",
    "\n",
    "def string_formula_addition(formula1, formula2):\n",
    "    return formula_to_string(add_formulae(parse_formula(formula1), parse_formula(formula2)))"
   ],
   "metadata": {
    "collapsed": false,
    "ExecuteTime": {
     "end_time": "2023-08-18T14:15:15.694364Z",
     "start_time": "2023-08-18T14:15:15.681256Z"
    }
   },
   "id": "3912f78b431c13fb"
  },
  {
   "cell_type": "code",
   "execution_count": 50,
   "outputs": [
    {
     "data": {
      "text/plain": "      molecular_formula_alt    new_formula molecular_formula_alt_new\n0                      None    C32H34N4O7S               C32H34N4O7S\n1                      None   C32H33FN4O7S              C32H33FN4O7S\n2                      None    C33H36N4O7S               C33H36N4O7S\n3                      None    C34H38N4O7S               C34H38N4O7S\n4                      None  C32H33BrN4O7S             C32H33BrN4O7S\n...                     ...            ...                       ...\n18199                  None     C17H22N2O6                C17H22N2O6\n18200                  None     C17H22N2O6                C17H22N2O6\n18201                  None     C17H22N2O6                C17H22N2O6\n18202                  None     C17H22N2O6                C17H22N2O6\n18203                  None     C17H22N2O6                C17H22N2O6\n\n[18204 rows x 3 columns]",
      "text/html": "<div>\n<style scoped>\n    .dataframe tbody tr th:only-of-type {\n        vertical-align: middle;\n    }\n\n    .dataframe tbody tr th {\n        vertical-align: top;\n    }\n\n    .dataframe thead th {\n        text-align: right;\n    }\n</style>\n<table border=\"1\" class=\"dataframe\">\n  <thead>\n    <tr style=\"text-align: right;\">\n      <th></th>\n      <th>molecular_formula_alt</th>\n      <th>new_formula</th>\n      <th>molecular_formula_alt_new</th>\n    </tr>\n  </thead>\n  <tbody>\n    <tr>\n      <th>0</th>\n      <td>None</td>\n      <td>C32H34N4O7S</td>\n      <td>C32H34N4O7S</td>\n    </tr>\n    <tr>\n      <th>1</th>\n      <td>None</td>\n      <td>C32H33FN4O7S</td>\n      <td>C32H33FN4O7S</td>\n    </tr>\n    <tr>\n      <th>2</th>\n      <td>None</td>\n      <td>C33H36N4O7S</td>\n      <td>C33H36N4O7S</td>\n    </tr>\n    <tr>\n      <th>3</th>\n      <td>None</td>\n      <td>C34H38N4O7S</td>\n      <td>C34H38N4O7S</td>\n    </tr>\n    <tr>\n      <th>4</th>\n      <td>None</td>\n      <td>C32H33BrN4O7S</td>\n      <td>C32H33BrN4O7S</td>\n    </tr>\n    <tr>\n      <th>...</th>\n      <td>...</td>\n      <td>...</td>\n      <td>...</td>\n    </tr>\n    <tr>\n      <th>18199</th>\n      <td>None</td>\n      <td>C17H22N2O6</td>\n      <td>C17H22N2O6</td>\n    </tr>\n    <tr>\n      <th>18200</th>\n      <td>None</td>\n      <td>C17H22N2O6</td>\n      <td>C17H22N2O6</td>\n    </tr>\n    <tr>\n      <th>18201</th>\n      <td>None</td>\n      <td>C17H22N2O6</td>\n      <td>C17H22N2O6</td>\n    </tr>\n    <tr>\n      <th>18202</th>\n      <td>None</td>\n      <td>C17H22N2O6</td>\n      <td>C17H22N2O6</td>\n    </tr>\n    <tr>\n      <th>18203</th>\n      <td>None</td>\n      <td>C17H22N2O6</td>\n      <td>C17H22N2O6</td>\n    </tr>\n  </tbody>\n</table>\n<p>18204 rows × 3 columns</p>\n</div>"
     },
     "execution_count": 50,
     "metadata": {},
     "output_type": "execute_result"
    }
   ],
   "source": [
    "# append +H2O to molecular_formula_alt\n",
    "df['new_formula'] = df.apply(lambda row: string_formula_addition(row['molecular_formula_1'], 'H2O'), axis=1)\n",
    "df['molecular_formula_alt_new'] = [','.join(filter(None, (a, b))) for a,b in zip(df['molecular_formula_alt'], df['new_formula'])]\n",
    "df[['molecular_formula_alt', 'new_formula', 'molecular_formula_alt_new']]"
   ],
   "metadata": {
    "collapsed": false,
    "ExecuteTime": {
     "end_time": "2023-08-18T14:15:22.587179Z",
     "start_time": "2023-08-18T14:15:22.329813Z"
    }
   },
   "id": "bc7c0073d5ecca85"
  },
  {
   "cell_type": "code",
   "execution_count": 55,
   "outputs": [
    {
     "data": {
      "text/plain": "      lcms_mass_alt  new_mass lcms_mass_alt_new\n0              None  618.2149          618.2149\n1              None  636.2054          636.2054\n2              None  632.2305          632.2305\n3              None  646.2462          646.2462\n4              None  696.1254          696.1254\n...             ...       ...               ...\n18199          None  350.1478          350.1478\n18200          None  350.1478          350.1478\n18201          None  350.1478          350.1478\n18202          None  350.1478          350.1478\n18203          None  350.1478          350.1478\n\n[18204 rows x 3 columns]",
      "text/html": "<div>\n<style scoped>\n    .dataframe tbody tr th:only-of-type {\n        vertical-align: middle;\n    }\n\n    .dataframe tbody tr th {\n        vertical-align: top;\n    }\n\n    .dataframe thead th {\n        text-align: right;\n    }\n</style>\n<table border=\"1\" class=\"dataframe\">\n  <thead>\n    <tr style=\"text-align: right;\">\n      <th></th>\n      <th>lcms_mass_alt</th>\n      <th>new_mass</th>\n      <th>lcms_mass_alt_new</th>\n    </tr>\n  </thead>\n  <tbody>\n    <tr>\n      <th>0</th>\n      <td>None</td>\n      <td>618.2149</td>\n      <td>618.2149</td>\n    </tr>\n    <tr>\n      <th>1</th>\n      <td>None</td>\n      <td>636.2054</td>\n      <td>636.2054</td>\n    </tr>\n    <tr>\n      <th>2</th>\n      <td>None</td>\n      <td>632.2305</td>\n      <td>632.2305</td>\n    </tr>\n    <tr>\n      <th>3</th>\n      <td>None</td>\n      <td>646.2462</td>\n      <td>646.2462</td>\n    </tr>\n    <tr>\n      <th>4</th>\n      <td>None</td>\n      <td>696.1254</td>\n      <td>696.1254</td>\n    </tr>\n    <tr>\n      <th>...</th>\n      <td>...</td>\n      <td>...</td>\n      <td>...</td>\n    </tr>\n    <tr>\n      <th>18199</th>\n      <td>None</td>\n      <td>350.1478</td>\n      <td>350.1478</td>\n    </tr>\n    <tr>\n      <th>18200</th>\n      <td>None</td>\n      <td>350.1478</td>\n      <td>350.1478</td>\n    </tr>\n    <tr>\n      <th>18201</th>\n      <td>None</td>\n      <td>350.1478</td>\n      <td>350.1478</td>\n    </tr>\n    <tr>\n      <th>18202</th>\n      <td>None</td>\n      <td>350.1478</td>\n      <td>350.1478</td>\n    </tr>\n    <tr>\n      <th>18203</th>\n      <td>None</td>\n      <td>350.1478</td>\n      <td>350.1478</td>\n    </tr>\n  </tbody>\n</table>\n<p>18204 rows × 3 columns</p>\n</div>"
     },
     "execution_count": 55,
     "metadata": {},
     "output_type": "execute_result"
    }
   ],
   "source": [
    "# append +18.0106 to lcms_mass_alt\n",
    "df['new_mass'] = df.apply(lambda row: f\"{row['lcms_mass_1'] + 18.0106:.4f}\", axis=1)\n",
    "df['lcms_mass_alt_new'] = [','.join(filter(None, (a, b))) for a,b in zip(df['lcms_mass_alt'], df['new_mass'].astype(str))]\n",
    "df[['lcms_mass_alt', 'new_mass', 'lcms_mass_alt_new']]"
   ],
   "metadata": {
    "collapsed": false,
    "ExecuteTime": {
     "end_time": "2023-08-18T14:19:00.415437Z",
     "start_time": "2023-08-18T14:19:00.323044Z"
    }
   },
   "id": "d06f8d05664d3431"
  },
  {
   "cell_type": "code",
   "execution_count": 56,
   "outputs": [],
   "source": [
    "# update database\n",
    "with con:\n",
    "    con.executemany(\n",
    "        \"UPDATE virtuallibrary SET comment = ?, molecular_formula_alt = ?, lcms_mass_alt = ? WHERE id = ?\",\n",
    "        zip(df['comment'], df['molecular_formula_alt_new'], df['lcms_mass_alt_new'], df['id'])\n",
    "    )\n"
   ],
   "metadata": {
    "collapsed": false,
    "ExecuteTime": {
     "end_time": "2023-08-18T14:21:56.925917Z",
     "start_time": "2023-08-18T14:21:56.859176Z"
    }
   },
   "id": "40fdae7a678101de"
  },
  {
   "cell_type": "code",
   "execution_count": 59,
   "outputs": [
    {
     "data": {
      "text/plain": "-1"
     },
     "execution_count": 59,
     "metadata": {},
     "output_type": "execute_result"
    }
   ],
   "source": [
    "con.cursor().rowcount\n",
    "\n"
   ],
   "metadata": {
    "collapsed": false,
    "ExecuteTime": {
     "end_time": "2023-08-18T14:23:04.793470Z",
     "start_time": "2023-08-18T14:23:04.783866Z"
    }
   },
   "id": "66be0833023ba105"
  },
  {
   "cell_type": "code",
   "execution_count": null,
   "outputs": [],
   "source": [],
   "metadata": {
    "collapsed": false
   },
   "id": "61ed13d890e8e56d"
  }
 ],
 "metadata": {
  "kernelspec": {
   "display_name": "Python 3",
   "language": "python",
   "name": "python3"
  },
  "language_info": {
   "codemirror_mode": {
    "name": "ipython",
    "version": 2
   },
   "file_extension": ".py",
   "mimetype": "text/x-python",
   "name": "python",
   "nbconvert_exporter": "python",
   "pygments_lexer": "ipython2",
   "version": "2.7.6"
  }
 },
 "nbformat": 4,
 "nbformat_minor": 5
}
