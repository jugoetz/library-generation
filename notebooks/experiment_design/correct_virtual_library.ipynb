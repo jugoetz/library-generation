{
 "cells": [
  {
   "cell_type": "markdown",
   "id": "0",
   "metadata": {},
   "source": [
    "# Correct virtual library\n",
    "\n",
    "We have found a problem with the products originating from TerTH010:\n",
    "The E-configuration of the double bound in this terminator was not transferred to products.\n",
    "We will fix this here."
   ]
  },
  {
   "cell_type": "code",
   "execution_count": null,
   "id": "1",
   "metadata": {},
   "outputs": [],
   "source": [
    "import pathlib\n",
    "import sys\n",
    "\n",
    "import pandas as pd\n",
    "from rdkit import Chem\n",
    "from rdkit.Chem.rdchem import BondStereo\n",
    "\n",
    "sys.path.append(str(pathlib.Path().resolve().parents[1]))\n",
    "from src.util.db_utils import SynFermDatabaseConnection\n",
    "from src.library_design.reaction_generator import SFReactionGenerator\n",
    "from src.util.rdkit_util import desalt_building_block, remove_monomer_pg_chirality"
   ]
  },
  {
   "cell_type": "code",
   "execution_count": null,
   "id": "2",
   "metadata": {},
   "outputs": [],
   "source": [
    "con = SynFermDatabaseConnection()\n",
    "res = con.con.execute(\"SELECT id, initiator_long, monomer_long, terminator_long, type, SMILES FROM virtuallibrary WHERE terminator_long = 'TerTH010'\").fetchall()\n",
    "header = [\"id\", \"initiator_long\", \"monomer_long\", \"terminator_long\", \"type\", \"SMILES\"]\n",
    "df = pd.DataFrame(res, columns=header)\n",
    "df.head()"
   ]
  },
  {
   "cell_type": "code",
   "execution_count": null,
   "id": "3",
   "metadata": {},
   "outputs": [],
   "source": [
    "# pattern to identify the double bond in products originating from TerTH010\n",
    "# matches four atoms: the carbon that used to be the thiohydrazide carbonyl,\n",
    "# the two double bond atoms and the first atom of the phenyl ring on the other side\n",
    "# note that on the thiohydrazide side the pattern is less specific to account for the non-aromatized products\n",
    "# in particular the carbonyl-C to N bond is undefined to match either aromatic or double bonds\n",
    "pat = Chem.MolFromSmarts(\"[$([#6]([#16])~[#7][#7])]-C=C-[$([cX3]1[cX3H][cX3H][cX3H][cX3H][cX3H]1)]\") \n",
    "pat"
   ]
  },
  {
   "cell_type": "code",
   "execution_count": null,
   "id": "4",
   "metadata": {},
   "outputs": [],
   "source": [
    "with_stereo = []\n",
    "for i, (smi, t) in df.loc[~df.type.isin([\"F\", \"G\"]), [\"SMILES\", \"type\"]].iterrows():\n",
    "    if smi:  # for some product H, no SMILES exist, b/c it would be chemically invalid\n",
    "        mol = Chem.MolFromSmiles(smi)\n",
    "\n",
    "        atom_idx = mol.GetSubstructMatches(pat)\n",
    "\n",
    "        if t == \"E\":\n",
    "            assert len(atom_idx) == 2  # the dimer should have two matches of course\n",
    "        else:\n",
    "            assert len(atom_idx) == 1\n",
    "\n",
    "        for a_idx in atom_idx:\n",
    "\n",
    "            bond = mol.GetBondBetweenAtoms(a_idx[1], a_idx[2])\n",
    "\n",
    "            if a_idx[1] < a_idx[2]:\n",
    "                prec = a_idx[0]\n",
    "                subs = a_idx[3]\n",
    "            else:\n",
    "                prec = a_idx[3]\n",
    "                subs = a_idx[0]\n",
    "\n",
    "            # set preceeding and follow atom that define stereo chem. First argument is the atom connected to the bond atom with lower idx\n",
    "            bond.SetStereoAtoms(prec, subs)\n",
    "\n",
    "            # set stereo descriptor\n",
    "            bond.SetStereo(BondStereo.STEREOE)\n",
    "\n",
    "            # set direction of preceeding and following bond\n",
    "            mol.GetBondBetweenAtoms(a_idx[0], a_idx[1]).SetBondDir(Chem.rdchem.BondDir.ENDUPRIGHT)\n",
    "            mol.GetBondBetweenAtoms(a_idx[2], a_idx[3]).SetBondDir(Chem.rdchem.BondDir.ENDUPRIGHT)\n",
    "\n",
    "        Chem.SanitizeMol(mol)\n",
    "        with_stereo.append(Chem.MolToSmiles(mol))\n",
    "    else:\n",
    "        with_stereo.append(None)"
   ]
  },
  {
   "cell_type": "code",
   "execution_count": null,
   "id": "5",
   "metadata": {},
   "outputs": [],
   "source": [
    "# add the new product SMILES back to dataframe\n",
    "df.loc[~df.type.isin([\"F\", \"G\"]), \"SMILES\"] = with_stereo"
   ]
  },
  {
   "cell_type": "markdown",
   "id": "6",
   "metadata": {},
   "source": [
    "## Doublecheck the products with SFReactionGenerator\n",
    "(we can only check type A)"
   ]
  },
  {
   "cell_type": "code",
   "execution_count": null,
   "id": "7",
   "metadata": {},
   "outputs": [],
   "source": [
    "rxn_generator = SFReactionGenerator()"
   ]
  },
  {
   "cell_type": "code",
   "execution_count": null,
   "id": "8",
   "metadata": {},
   "outputs": [],
   "source": [
    "building_blocks = {\n",
    "    long: Chem.MolToSmiles(\n",
    "        remove_monomer_pg_chirality(desalt_building_block(smiles))\n",
    "    )\n",
    "    if (\n",
    "        long.startswith(\"Mon\")\n",
    "        or long.startswith(\"Fused\")\n",
    "        or long.startswith(\"Spiro\")\n",
    "    )\n",
    "    else Chem.MolToSmiles(desalt_building_block(smiles))\n",
    "    for long, smiles in con.building_blocks()\n",
    "}"
   ]
  },
  {
   "cell_type": "code",
   "execution_count": null,
   "id": "9",
   "metadata": {},
   "outputs": [],
   "source": [
    "reactants = [tuple(bbs) for i, bbs in df.loc[df.type == \"A\", [\"initiator_long\", \"monomer_long\", \"terminator_long\", \"type\"]].iterrows()]"
   ]
  },
  {
   "cell_type": "code",
   "execution_count": null,
   "id": "10",
   "metadata": {},
   "outputs": [],
   "source": [
    "prods = []\n",
    "failed_reactants = []\n",
    "for bbs in reactants:\n",
    "    if bbs[3] == \"A\":\n",
    "        try:\n",
    "            prods.append(Chem.MolToSmiles(rxn_generator.generate_product([Chem.MolFromSmiles(building_blocks[smi]) for smi in bbs[:3]])))\n",
    "        except RuntimeError as e:\n",
    "            failed_reactants.append(bbs)\n",
    "            prods.append(None)\n"
   ]
  },
  {
   "cell_type": "code",
   "execution_count": null,
   "id": "11",
   "metadata": {},
   "outputs": [],
   "source": [
    "# compare SFReactionGeneratorProducts\n",
    "for i, j in zip(prods, df.loc[df.type == \"A\", \"SMILES\"]):\n",
    "    if i != j:\n",
    "        print(i)\n",
    "        print(j)"
   ]
  },
  {
   "cell_type": "code",
   "execution_count": null,
   "id": "12",
   "metadata": {},
   "outputs": [],
   "source": [
    "failed_reactants"
   ]
  },
  {
   "cell_type": "markdown",
   "id": "13",
   "metadata": {},
   "source": [
    "### Conclusion\n",
    "this has worked fine. Only for the bullshit initiator 4-Pyrazole002, the SFReactionGenerator found no product, which is expected. We write the new SMILES with added double bond stereochemistry back to the database."
   ]
  },
  {
   "cell_type": "code",
   "execution_count": null,
   "id": "14",
   "metadata": {},
   "outputs": [],
   "source": [
    "data = df[[\"SMILES\", \"id\"]].to_numpy().tolist()\n",
    "data"
   ]
  },
  {
   "cell_type": "code",
   "execution_count": null,
   "id": "15",
   "metadata": {},
   "outputs": [],
   "source": [
    "con.con.executemany(\"UPDATE virtuallibrary SET SMILES = ? WHERE id = ?\", data)"
   ]
  },
  {
   "cell_type": "code",
   "execution_count": null,
   "id": "16",
   "metadata": {},
   "outputs": [],
   "source": [
    "con.con.total_changes"
   ]
  },
  {
   "cell_type": "code",
   "execution_count": null,
   "id": "17",
   "metadata": {},
   "outputs": [],
   "source": [
    "len(df)"
   ]
  },
  {
   "cell_type": "code",
   "execution_count": null,
   "id": "18",
   "metadata": {},
   "outputs": [],
   "source": [
    "con.con.commit()"
   ]
  },
  {
   "cell_type": "markdown",
   "id": "19",
   "metadata": {},
   "source": [
    "## Some errors remain\n",
    "As previously said, we could only check correctness with the SFReactionGenerator for product type A. Meanwhile, I have implemented and tested the other products types and it seems that the VL contains incorrect Z-stereochemistry for some products D, E, and H containing TerTH010. Since we now have the SFReactionGenerator working for those as well, we can easily fix it."
   ]
  },
  {
   "cell_type": "code",
   "execution_count": null,
   "id": "20",
   "metadata": {},
   "outputs": [],
   "source": [
    "rxn_generator = SFReactionGenerator()"
   ]
  },
  {
   "cell_type": "code",
   "execution_count": null,
   "id": "21",
   "metadata": {},
   "outputs": [],
   "source": [
    "con = SynFermDatabaseConnection()\n",
    "res = con.con.execute(\"SELECT id, initiator_long, monomer_long, terminator_long, type, SMILES FROM virtuallibrary WHERE terminator_long = 'TerTH010' AND type IN ('D', 'E', 'H') AND initiator_long != '4-Pyrazole002'\").fetchall()\n",
    "header = [\"id\", \"initiator_long\", \"monomer_long\", \"terminator_long\", \"type\", \"SMILES\"]\n",
    "df = pd.DataFrame(res, columns=header)\n",
    "df.head()"
   ]
  },
  {
   "cell_type": "code",
   "execution_count": null,
   "id": "22",
   "metadata": {},
   "outputs": [],
   "source": [
    "building_blocks = {\n",
    "    long: Chem.MolToSmiles(\n",
    "        remove_monomer_pg_chirality(desalt_building_block(smiles))\n",
    "    )\n",
    "    if (\n",
    "        long.startswith(\"Mon\")\n",
    "        or long.startswith(\"Fused\")\n",
    "        or long.startswith(\"Spiro\")\n",
    "    )\n",
    "    else Chem.MolToSmiles(desalt_building_block(smiles))\n",
    "    for long, smiles in con.building_blocks()\n",
    "}"
   ]
  },
  {
   "cell_type": "code",
   "execution_count": null,
   "id": "23",
   "metadata": {},
   "outputs": [],
   "source": [
    "reactants = [tuple(bbs) for i, bbs in df[[\"initiator_long\", \"monomer_long\", \"terminator_long\", \"type\"]].iterrows()]"
   ]
  },
  {
   "cell_type": "code",
   "execution_count": null,
   "id": "24",
   "metadata": {},
   "outputs": [],
   "source": [
    "prods = []\n",
    "failed_reactants = []\n",
    "for bbs in reactants:\n",
    "    try:\n",
    "        prod = rxn_generator.generate_product([Chem.MolFromSmiles(building_blocks[smi]) for smi in bbs[:3]], product_type=bbs[3])\n",
    "        if prod:\n",
    "            prods.append(Chem.MolToSmiles(prod))\n",
    "        else:\n",
    "            prods.append(None)\n",
    "    except RuntimeError as e:\n",
    "        failed_reactants.append(bbs)\n",
    "        prods.append(None)\n"
   ]
  },
  {
   "cell_type": "code",
   "execution_count": null,
   "id": "25",
   "metadata": {},
   "outputs": [],
   "source": [
    "len(prods)"
   ]
  },
  {
   "cell_type": "code",
   "execution_count": null,
   "id": "26",
   "metadata": {},
   "outputs": [],
   "source": [
    "len(df[[\"SMILES\"]].values.tolist())"
   ]
  },
  {
   "cell_type": "code",
   "execution_count": null,
   "id": "27",
   "metadata": {},
   "outputs": [],
   "source": [
    "# compare SFReactionGeneratorProducts\n",
    "for i, j in zip(prods, df[\"SMILES\"].values.tolist()):\n",
    "    if i != j:\n",
    "        print(i)\n",
    "        print(j)"
   ]
  },
  {
   "cell_type": "markdown",
   "id": "28",
   "metadata": {},
   "source": [
    "### Conclusion\n",
    "this has worked. The differences we see are solely double bond stereo and `prods` is in the correct E-configuration. We write the new SMILES with correct double bond stereochemistry back to the database."
   ]
  },
  {
   "cell_type": "code",
   "execution_count": null,
   "id": "29",
   "metadata": {},
   "outputs": [],
   "source": [
    "df[[\"SMILES\"]].shape"
   ]
  },
  {
   "cell_type": "code",
   "execution_count": null,
   "id": "30",
   "metadata": {},
   "outputs": [],
   "source": [
    "df[\"SMILES\"] = prods"
   ]
  },
  {
   "cell_type": "code",
   "execution_count": null,
   "id": "31",
   "metadata": {},
   "outputs": [],
   "source": [
    "data = df[[\"SMILES\", \"id\"]].to_numpy().tolist()\n",
    "data"
   ]
  },
  {
   "cell_type": "code",
   "execution_count": null,
   "id": "32",
   "metadata": {},
   "outputs": [],
   "source": [
    "con.con.executemany(\"UPDATE virtuallibrary SET SMILES = ? WHERE id = ?\", data)"
   ]
  },
  {
   "cell_type": "code",
   "execution_count": null,
   "id": "33",
   "metadata": {},
   "outputs": [],
   "source": [
    "con.con.total_changes"
   ]
  },
  {
   "cell_type": "code",
   "execution_count": null,
   "id": "34",
   "metadata": {},
   "outputs": [],
   "source": [
    "con.con.commit()"
   ]
  },
  {
   "cell_type": "code",
   "execution_count": null,
   "id": "35",
   "metadata": {},
   "outputs": [],
   "source": []
  }
 ],
 "metadata": {
  "kernelspec": {
   "display_name": "Python 3 (ipykernel)",
   "language": "python",
   "name": "python3"
  },
  "language_info": {
   "codemirror_mode": {
    "name": "ipython",
    "version": 3
   },
   "file_extension": ".py",
   "mimetype": "text/x-python",
   "name": "python",
   "nbconvert_exporter": "python",
   "pygments_lexer": "ipython3",
   "version": "3.9.7"
  }
 },
 "nbformat": 4,
 "nbformat_minor": 5
}
