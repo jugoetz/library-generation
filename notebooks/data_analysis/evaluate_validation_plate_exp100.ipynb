{
 "cells": [
  {
   "cell_type": "markdown",
   "id": "bb5d5f45",
   "metadata": {},
   "source": [
    "# Evaluation of the 0D validation plate (exp100/JG405)\n",
    "\n",
    "We have previously made predictions for this plate and now have obtained the analytical data.\n",
    "We want to evaluate how well our predictions align with the experiment.\n",
    "\n",
    "The plate was originally designed using the model trained on 2023-09-05 data and it was designed such that all attempted syntheses were predicted to work by the model. In the meantime we had to make minor changes in the data and retrain on the updated 2023-12-20 data. While the predictions of the two models align well (ca. 97% accuracy across the VL across products), we need to account for the differences.\n",
    "\n",
    "There is no completely unbiased way to do this. The best is to just drop all of the cases where the new model predicts a negative value and evaluate the precision based on the remaining values. This is slightly biased because the compounds were \"pre-selected\" by the earlier model. Fortunately the influence of this will be small since the models align so well."
   ]
  },
  {
   "cell_type": "code",
   "execution_count": 21,
   "id": "b04ebacf",
   "metadata": {},
   "outputs": [],
   "source": [
    "import pathlib\n",
    "import sys\n",
    "\n",
    "sys.path.append(str(pathlib.Path().resolve().parents[1]))\n",
    "\n",
    "import numpy as np\n",
    "import pandas as pd\n",
    "from sklearn.metrics import precision_score, recall_score, accuracy_score\n",
    "\n",
    "from src.definitions import DATA_DIR\n",
    "from src.util.db_utils import SynFermDatabaseConnection"
   ]
  },
  {
   "cell_type": "code",
   "execution_count": 22,
   "id": "035117c4",
   "metadata": {},
   "outputs": [
    {
     "data": {
      "text/html": [
       "<div>\n",
       "<style scoped>\n",
       "    .dataframe tbody tr th:only-of-type {\n",
       "        vertical-align: middle;\n",
       "    }\n",
       "\n",
       "    .dataframe tbody tr th {\n",
       "        vertical-align: top;\n",
       "    }\n",
       "\n",
       "    .dataframe thead th {\n",
       "        text-align: right;\n",
       "    }\n",
       "</style>\n",
       "<table border=\"1\" class=\"dataframe\">\n",
       "  <thead>\n",
       "    <tr style=\"text-align: right;\">\n",
       "      <th></th>\n",
       "      <th>vl_id</th>\n",
       "      <th>long_name</th>\n",
       "      <th>product_A_smiles</th>\n",
       "      <th>reaction_smiles_atom_mapped</th>\n",
       "      <th>prob_A</th>\n",
       "      <th>prob_B</th>\n",
       "      <th>prob_C</th>\n",
       "      <th>pred_A</th>\n",
       "      <th>pred_B</th>\n",
       "      <th>pred_C</th>\n",
       "    </tr>\n",
       "  </thead>\n",
       "  <tbody>\n",
       "    <tr>\n",
       "      <th>0</th>\n",
       "      <td>224342</td>\n",
       "      <td>Ph031 + Spiro013 + TerTH016</td>\n",
       "      <td>COc1ccccc1-c1nnc(CC2(NC(=O)c3ccc(C4=NCCO4)cc3)...</td>\n",
       "      <td>F[B-](F)(F)[C:1](=[O:2])[c:11]1[cH:12][cH:14][...</td>\n",
       "      <td>0.999998</td>\n",
       "      <td>0.999971</td>\n",
       "      <td>0.727206</td>\n",
       "      <td>1</td>\n",
       "      <td>1</td>\n",
       "      <td>1</td>\n",
       "    </tr>\n",
       "    <tr>\n",
       "      <th>1</th>\n",
       "      <td>224328</td>\n",
       "      <td>Ph031 + Spiro013 + TerABT022</td>\n",
       "      <td>CCOc1ccc2nc(CC3(NC(=O)c4ccc(C5=NCCO5)cc4)CN(C(...</td>\n",
       "      <td>F[B-](F)(F)[C:1](=[O:2])[c:15]1[cH:16][cH:18][...</td>\n",
       "      <td>0.985645</td>\n",
       "      <td>0.029104</td>\n",
       "      <td>0.004056</td>\n",
       "      <td>1</td>\n",
       "      <td>0</td>\n",
       "      <td>0</td>\n",
       "    </tr>\n",
       "    <tr>\n",
       "      <th>2</th>\n",
       "      <td>224321</td>\n",
       "      <td>Ph031 + Spiro013 + TerABT012</td>\n",
       "      <td>O=C(NC1(Cc2nc3cc(Cl)ccc3s2)CN(C(=O)O[C@H]2CCOC...</td>\n",
       "      <td>F[B-](F)(F)[C:1](=[O:2])[c:15]1[cH:16][cH:18][...</td>\n",
       "      <td>0.333029</td>\n",
       "      <td>0.114547</td>\n",
       "      <td>0.002028</td>\n",
       "      <td>0</td>\n",
       "      <td>0</td>\n",
       "      <td>0</td>\n",
       "    </tr>\n",
       "    <tr>\n",
       "      <th>3</th>\n",
       "      <td>224341</td>\n",
       "      <td>Ph031 + Spiro013 + TerTH015</td>\n",
       "      <td>O=C(NC1(Cc2nnc(-c3cc(Cl)cc(Cl)c3)s2)CN(C(=O)O[...</td>\n",
       "      <td>F[B-](F)(F)[C:1](=[O:2])[c:11]1[cH:12][cH:14][...</td>\n",
       "      <td>0.999727</td>\n",
       "      <td>0.999878</td>\n",
       "      <td>0.046494</td>\n",
       "      <td>1</td>\n",
       "      <td>1</td>\n",
       "      <td>0</td>\n",
       "    </tr>\n",
       "    <tr>\n",
       "      <th>4</th>\n",
       "      <td>224351</td>\n",
       "      <td>Ph031 + Spiro013 + TerTH027</td>\n",
       "      <td>O=C(NC1(Cc2nnc(-c3ccc4[nH]nnc4c3)s2)CN(C(=O)O[...</td>\n",
       "      <td>F[B-](F)(F)[C:1](=[O:2])[c:11]1[cH:12][cH:14][...</td>\n",
       "      <td>0.999959</td>\n",
       "      <td>0.999878</td>\n",
       "      <td>0.177345</td>\n",
       "      <td>1</td>\n",
       "      <td>1</td>\n",
       "      <td>0</td>\n",
       "    </tr>\n",
       "  </tbody>\n",
       "</table>\n",
       "</div>"
      ],
      "text/plain": [
       "    vl_id                     long_name  \\\n",
       "0  224342   Ph031 + Spiro013 + TerTH016   \n",
       "1  224328  Ph031 + Spiro013 + TerABT022   \n",
       "2  224321  Ph031 + Spiro013 + TerABT012   \n",
       "3  224341   Ph031 + Spiro013 + TerTH015   \n",
       "4  224351   Ph031 + Spiro013 + TerTH027   \n",
       "\n",
       "                                    product_A_smiles  \\\n",
       "0  COc1ccccc1-c1nnc(CC2(NC(=O)c3ccc(C4=NCCO4)cc3)...   \n",
       "1  CCOc1ccc2nc(CC3(NC(=O)c4ccc(C5=NCCO5)cc4)CN(C(...   \n",
       "2  O=C(NC1(Cc2nc3cc(Cl)ccc3s2)CN(C(=O)O[C@H]2CCOC...   \n",
       "3  O=C(NC1(Cc2nnc(-c3cc(Cl)cc(Cl)c3)s2)CN(C(=O)O[...   \n",
       "4  O=C(NC1(Cc2nnc(-c3ccc4[nH]nnc4c3)s2)CN(C(=O)O[...   \n",
       "\n",
       "                         reaction_smiles_atom_mapped    prob_A    prob_B  \\\n",
       "0  F[B-](F)(F)[C:1](=[O:2])[c:11]1[cH:12][cH:14][...  0.999998  0.999971   \n",
       "1  F[B-](F)(F)[C:1](=[O:2])[c:15]1[cH:16][cH:18][...  0.985645  0.029104   \n",
       "2  F[B-](F)(F)[C:1](=[O:2])[c:15]1[cH:16][cH:18][...  0.333029  0.114547   \n",
       "3  F[B-](F)(F)[C:1](=[O:2])[c:11]1[cH:12][cH:14][...  0.999727  0.999878   \n",
       "4  F[B-](F)(F)[C:1](=[O:2])[c:11]1[cH:12][cH:14][...  0.999959  0.999878   \n",
       "\n",
       "     prob_C  pred_A  pred_B  pred_C  \n",
       "0  0.727206       1       1       1  \n",
       "1  0.004056       1       0       0  \n",
       "2  0.002028       0       0       0  \n",
       "3  0.046494       1       1       0  \n",
       "4  0.177345       1       1       0  "
      ]
     },
     "execution_count": 22,
     "metadata": {},
     "output_type": "execute_result"
    }
   ],
   "source": [
    "preds = pd.read_csv(DATA_DIR / \"curated_data\" / \"validation-plate_candidates_predictions_2023-12-20.csv\")\n",
    "preds.head()"
   ]
  },
  {
   "cell_type": "code",
   "execution_count": 24,
   "id": "adbed734",
   "metadata": {},
   "outputs": [],
   "source": [
    "con = SynFermDatabaseConnection()"
   ]
  },
  {
   "cell_type": "code",
   "execution_count": 25,
   "id": "2b550d5f",
   "metadata": {},
   "outputs": [
    {
     "data": {
      "text/html": [
       "<div>\n",
       "<style scoped>\n",
       "    .dataframe tbody tr th:only-of-type {\n",
       "        vertical-align: middle;\n",
       "    }\n",
       "\n",
       "    .dataframe tbody tr th {\n",
       "        vertical-align: top;\n",
       "    }\n",
       "\n",
       "    .dataframe thead th {\n",
       "        text-align: right;\n",
       "    }\n",
       "</style>\n",
       "<table border=\"1\" class=\"dataframe\">\n",
       "  <thead>\n",
       "    <tr style=\"text-align: right;\">\n",
       "      <th></th>\n",
       "      <th>id</th>\n",
       "      <th>vl_id</th>\n",
       "      <th>well</th>\n",
       "      <th>initiator_long</th>\n",
       "      <th>monomer_long</th>\n",
       "      <th>terminator_long</th>\n",
       "      <th>product_A_lcms_ratio</th>\n",
       "      <th>product_B_lcms_ratio</th>\n",
       "      <th>product_C_lcms_ratio</th>\n",
       "      <th>binary_A</th>\n",
       "      <th>binary_B</th>\n",
       "      <th>binary_C</th>\n",
       "    </tr>\n",
       "  </thead>\n",
       "  <tbody>\n",
       "    <tr>\n",
       "      <th>0</th>\n",
       "      <td>88994</td>\n",
       "      <td>221911</td>\n",
       "      <td>A10</td>\n",
       "      <td>Ph031</td>\n",
       "      <td>Mon003</td>\n",
       "      <td>TerTH001</td>\n",
       "      <td>0.167212</td>\n",
       "      <td>0.145223</td>\n",
       "      <td>0.000475</td>\n",
       "      <td>1</td>\n",
       "      <td>1</td>\n",
       "      <td>1</td>\n",
       "    </tr>\n",
       "    <tr>\n",
       "      <th>1</th>\n",
       "      <td>88995</td>\n",
       "      <td>106262</td>\n",
       "      <td>A11</td>\n",
       "      <td>BiAl008</td>\n",
       "      <td>Fused005</td>\n",
       "      <td>TerTH016</td>\n",
       "      <td>0.377146</td>\n",
       "      <td>0.065183</td>\n",
       "      <td>0.266628</td>\n",
       "      <td>1</td>\n",
       "      <td>1</td>\n",
       "      <td>1</td>\n",
       "    </tr>\n",
       "    <tr>\n",
       "      <th>2</th>\n",
       "      <td>88996</td>\n",
       "      <td>108268</td>\n",
       "      <td>A12</td>\n",
       "      <td>BiAl008</td>\n",
       "      <td>Mon097</td>\n",
       "      <td>TerTH013</td>\n",
       "      <td>0.177339</td>\n",
       "      <td>0.268945</td>\n",
       "      <td>0.059126</td>\n",
       "      <td>1</td>\n",
       "      <td>1</td>\n",
       "      <td>1</td>\n",
       "    </tr>\n",
       "    <tr>\n",
       "      <th>3</th>\n",
       "      <td>89007</td>\n",
       "      <td>179066</td>\n",
       "      <td>A3</td>\n",
       "      <td>Ph013</td>\n",
       "      <td>Fused005</td>\n",
       "      <td>TerTH001</td>\n",
       "      <td>0.230543</td>\n",
       "      <td>0.232324</td>\n",
       "      <td>0.002596</td>\n",
       "      <td>1</td>\n",
       "      <td>1</td>\n",
       "      <td>1</td>\n",
       "    </tr>\n",
       "    <tr>\n",
       "      <th>4</th>\n",
       "      <td>89008</td>\n",
       "      <td>91449</td>\n",
       "      <td>A4</td>\n",
       "      <td>Al013</td>\n",
       "      <td>Mon003</td>\n",
       "      <td>TerTH001</td>\n",
       "      <td>1.155263</td>\n",
       "      <td>0.288549</td>\n",
       "      <td>0.615973</td>\n",
       "      <td>1</td>\n",
       "      <td>1</td>\n",
       "      <td>1</td>\n",
       "    </tr>\n",
       "  </tbody>\n",
       "</table>\n",
       "</div>"
      ],
      "text/plain": [
       "      id   vl_id well initiator_long monomer_long terminator_long  \\\n",
       "0  88994  221911  A10          Ph031       Mon003        TerTH001   \n",
       "1  88995  106262  A11        BiAl008     Fused005        TerTH016   \n",
       "2  88996  108268  A12        BiAl008       Mon097        TerTH013   \n",
       "3  89007  179066   A3          Ph013     Fused005        TerTH001   \n",
       "4  89008   91449   A4          Al013       Mon003        TerTH001   \n",
       "\n",
       "   product_A_lcms_ratio  product_B_lcms_ratio  product_C_lcms_ratio  binary_A  \\\n",
       "0              0.167212              0.145223              0.000475         1   \n",
       "1              0.377146              0.065183              0.266628         1   \n",
       "2              0.177339              0.268945              0.059126         1   \n",
       "3              0.230543              0.232324              0.002596         1   \n",
       "4              1.155263              0.288549              0.615973         1   \n",
       "\n",
       "   binary_B  binary_C  \n",
       "0         1         1  \n",
       "1         1         1  \n",
       "2         1         1  \n",
       "3         1         1  \n",
       "4         1         1  "
      ]
     },
     "execution_count": 25,
     "metadata": {},
     "output_type": "execute_result"
    }
   ],
   "source": [
    "res = con.con.execute(\"SELECT id, vl_id, well, initiator_long, monomer_long, terminator_long, product_A_lcms_ratio, product_B_lcms_ratio, product_C_lcms_ratio FROM experiments WHERE exp_nr = 100 AND (valid NOT LIKE 'ERROR%' OR valid IS NULL);\").fetchall()\n",
    "result = pd.DataFrame(res, columns=[\"id\", \"vl_id\", \"well\", \"initiator_long\", \"monomer_long\", \"terminator_long\", \"product_A_lcms_ratio\", \"product_B_lcms_ratio\", \"product_C_lcms_ratio\"])\n",
    "result[\"binary_A\"] = (result[\"product_A_lcms_ratio\"] > 0).astype(int)\n",
    "result[\"binary_B\"] = (result[\"product_B_lcms_ratio\"] > 0).astype(int)\n",
    "result[\"binary_C\"] = (result[\"product_C_lcms_ratio\"] > 0).astype(int)\n",
    "result.head()"
   ]
  },
  {
   "cell_type": "code",
   "execution_count": 26,
   "id": "33a11aa7",
   "metadata": {},
   "outputs": [
    {
     "data": {
      "text/plain": [
       "153"
      ]
     },
     "execution_count": 26,
     "metadata": {},
     "output_type": "execute_result"
    }
   ],
   "source": [
    "len(result)"
   ]
  },
  {
   "cell_type": "code",
   "execution_count": 27,
   "id": "097d9bb5",
   "metadata": {},
   "outputs": [
    {
     "data": {
      "text/html": [
       "<div>\n",
       "<style scoped>\n",
       "    .dataframe tbody tr th:only-of-type {\n",
       "        vertical-align: middle;\n",
       "    }\n",
       "\n",
       "    .dataframe tbody tr th {\n",
       "        vertical-align: top;\n",
       "    }\n",
       "\n",
       "    .dataframe thead th {\n",
       "        text-align: right;\n",
       "    }\n",
       "</style>\n",
       "<table border=\"1\" class=\"dataframe\">\n",
       "  <thead>\n",
       "    <tr style=\"text-align: right;\">\n",
       "      <th></th>\n",
       "      <th>id</th>\n",
       "      <th>vl_id</th>\n",
       "      <th>well</th>\n",
       "      <th>initiator_long</th>\n",
       "      <th>monomer_long</th>\n",
       "      <th>terminator_long</th>\n",
       "      <th>product_A_lcms_ratio</th>\n",
       "      <th>product_B_lcms_ratio</th>\n",
       "      <th>product_C_lcms_ratio</th>\n",
       "      <th>binary_A</th>\n",
       "      <th>...</th>\n",
       "      <th>binary_C</th>\n",
       "      <th>long_name</th>\n",
       "      <th>product_A_smiles</th>\n",
       "      <th>reaction_smiles_atom_mapped</th>\n",
       "      <th>prob_A</th>\n",
       "      <th>prob_B</th>\n",
       "      <th>prob_C</th>\n",
       "      <th>pred_A</th>\n",
       "      <th>pred_B</th>\n",
       "      <th>pred_C</th>\n",
       "    </tr>\n",
       "  </thead>\n",
       "  <tbody>\n",
       "    <tr>\n",
       "      <th>0</th>\n",
       "      <td>88994</td>\n",
       "      <td>221911</td>\n",
       "      <td>A10</td>\n",
       "      <td>Ph031</td>\n",
       "      <td>Mon003</td>\n",
       "      <td>TerTH001</td>\n",
       "      <td>0.167212</td>\n",
       "      <td>0.145223</td>\n",
       "      <td>0.000475</td>\n",
       "      <td>1</td>\n",
       "      <td>...</td>\n",
       "      <td>1</td>\n",
       "      <td>Ph031 + Mon003 + TerTH001</td>\n",
       "      <td>CC(C)C[C@@H](Cc1nnc(-c2ccccc2)s1)NC(=O)c1ccc(C...</td>\n",
       "      <td>F[B-](F)(F)[C:1](=[O:2])[c:11]1[cH:12][cH:14][...</td>\n",
       "      <td>0.999990</td>\n",
       "      <td>0.999992</td>\n",
       "      <td>0.205542</td>\n",
       "      <td>1</td>\n",
       "      <td>1</td>\n",
       "      <td>0</td>\n",
       "    </tr>\n",
       "    <tr>\n",
       "      <th>1</th>\n",
       "      <td>88995</td>\n",
       "      <td>106262</td>\n",
       "      <td>A11</td>\n",
       "      <td>BiAl008</td>\n",
       "      <td>Fused005</td>\n",
       "      <td>TerTH016</td>\n",
       "      <td>0.377146</td>\n",
       "      <td>0.065183</td>\n",
       "      <td>0.266628</td>\n",
       "      <td>1</td>\n",
       "      <td>...</td>\n",
       "      <td>1</td>\n",
       "      <td>BiAl008 + Fused005 + TerTH016</td>\n",
       "      <td>COC(=O)NCCCCC(=O)N[C@H]1CN(C(=O)OCc2ccccc2)C[C...</td>\n",
       "      <td>F[B-](F)(F)[C:1](=[O:2])[CH2:11][CH2:12][CH2:1...</td>\n",
       "      <td>0.999939</td>\n",
       "      <td>0.999690</td>\n",
       "      <td>0.999848</td>\n",
       "      <td>1</td>\n",
       "      <td>1</td>\n",
       "      <td>1</td>\n",
       "    </tr>\n",
       "    <tr>\n",
       "      <th>2</th>\n",
       "      <td>88996</td>\n",
       "      <td>108268</td>\n",
       "      <td>A12</td>\n",
       "      <td>BiAl008</td>\n",
       "      <td>Mon097</td>\n",
       "      <td>TerTH013</td>\n",
       "      <td>0.177339</td>\n",
       "      <td>0.268945</td>\n",
       "      <td>0.059126</td>\n",
       "      <td>1</td>\n",
       "      <td>...</td>\n",
       "      <td>1</td>\n",
       "      <td>BiAl008 + Mon097 + TerTH013</td>\n",
       "      <td>COC(=O)NCCCCC(=O)N[C@@H](Cc1nnc(-c2ccc(C(F)(F)...</td>\n",
       "      <td>F[B-](F)(F)[C:1](=[O:2])[CH2:11][CH2:12][CH2:1...</td>\n",
       "      <td>0.999999</td>\n",
       "      <td>0.999994</td>\n",
       "      <td>0.948263</td>\n",
       "      <td>1</td>\n",
       "      <td>1</td>\n",
       "      <td>1</td>\n",
       "    </tr>\n",
       "    <tr>\n",
       "      <th>3</th>\n",
       "      <td>89007</td>\n",
       "      <td>179066</td>\n",
       "      <td>A3</td>\n",
       "      <td>Ph013</td>\n",
       "      <td>Fused005</td>\n",
       "      <td>TerTH001</td>\n",
       "      <td>0.230543</td>\n",
       "      <td>0.232324</td>\n",
       "      <td>0.002596</td>\n",
       "      <td>1</td>\n",
       "      <td>...</td>\n",
       "      <td>1</td>\n",
       "      <td>Ph013 + Fused005 + TerTH001</td>\n",
       "      <td>CC(C)(C)OC(=O)Nc1ccc(C(=O)N[C@H]2CN(C(=O)OCc3c...</td>\n",
       "      <td>F[B-](F)(F)[C:1](=[O:2])[c:11]1[cH:12][cH:14][...</td>\n",
       "      <td>0.999867</td>\n",
       "      <td>0.997366</td>\n",
       "      <td>0.741841</td>\n",
       "      <td>1</td>\n",
       "      <td>1</td>\n",
       "      <td>1</td>\n",
       "    </tr>\n",
       "    <tr>\n",
       "      <th>4</th>\n",
       "      <td>89008</td>\n",
       "      <td>91449</td>\n",
       "      <td>A4</td>\n",
       "      <td>Al013</td>\n",
       "      <td>Mon003</td>\n",
       "      <td>TerTH001</td>\n",
       "      <td>1.155263</td>\n",
       "      <td>0.288549</td>\n",
       "      <td>0.615973</td>\n",
       "      <td>1</td>\n",
       "      <td>...</td>\n",
       "      <td>1</td>\n",
       "      <td>Al013 + Mon003 + TerTH001</td>\n",
       "      <td>CCCCCCCCC(=O)N[C@H](Cc1nnc(-c2ccccc2)s1)CC(C)C</td>\n",
       "      <td>F[B-](F)(F)[C:1](=[O:2])[CH2:11][CH2:12][CH2:1...</td>\n",
       "      <td>0.991691</td>\n",
       "      <td>0.999501</td>\n",
       "      <td>0.998680</td>\n",
       "      <td>1</td>\n",
       "      <td>1</td>\n",
       "      <td>1</td>\n",
       "    </tr>\n",
       "  </tbody>\n",
       "</table>\n",
       "<p>5 rows × 21 columns</p>\n",
       "</div>"
      ],
      "text/plain": [
       "      id   vl_id well initiator_long monomer_long terminator_long  \\\n",
       "0  88994  221911  A10          Ph031       Mon003        TerTH001   \n",
       "1  88995  106262  A11        BiAl008     Fused005        TerTH016   \n",
       "2  88996  108268  A12        BiAl008       Mon097        TerTH013   \n",
       "3  89007  179066   A3          Ph013     Fused005        TerTH001   \n",
       "4  89008   91449   A4          Al013       Mon003        TerTH001   \n",
       "\n",
       "   product_A_lcms_ratio  product_B_lcms_ratio  product_C_lcms_ratio  binary_A  \\\n",
       "0              0.167212              0.145223              0.000475         1   \n",
       "1              0.377146              0.065183              0.266628         1   \n",
       "2              0.177339              0.268945              0.059126         1   \n",
       "3              0.230543              0.232324              0.002596         1   \n",
       "4              1.155263              0.288549              0.615973         1   \n",
       "\n",
       "   ...  binary_C                      long_name  \\\n",
       "0  ...         1      Ph031 + Mon003 + TerTH001   \n",
       "1  ...         1  BiAl008 + Fused005 + TerTH016   \n",
       "2  ...         1    BiAl008 + Mon097 + TerTH013   \n",
       "3  ...         1    Ph013 + Fused005 + TerTH001   \n",
       "4  ...         1      Al013 + Mon003 + TerTH001   \n",
       "\n",
       "                                    product_A_smiles  \\\n",
       "0  CC(C)C[C@@H](Cc1nnc(-c2ccccc2)s1)NC(=O)c1ccc(C...   \n",
       "1  COC(=O)NCCCCC(=O)N[C@H]1CN(C(=O)OCc2ccccc2)C[C...   \n",
       "2  COC(=O)NCCCCC(=O)N[C@@H](Cc1nnc(-c2ccc(C(F)(F)...   \n",
       "3  CC(C)(C)OC(=O)Nc1ccc(C(=O)N[C@H]2CN(C(=O)OCc3c...   \n",
       "4     CCCCCCCCC(=O)N[C@H](Cc1nnc(-c2ccccc2)s1)CC(C)C   \n",
       "\n",
       "                         reaction_smiles_atom_mapped    prob_A    prob_B  \\\n",
       "0  F[B-](F)(F)[C:1](=[O:2])[c:11]1[cH:12][cH:14][...  0.999990  0.999992   \n",
       "1  F[B-](F)(F)[C:1](=[O:2])[CH2:11][CH2:12][CH2:1...  0.999939  0.999690   \n",
       "2  F[B-](F)(F)[C:1](=[O:2])[CH2:11][CH2:12][CH2:1...  0.999999  0.999994   \n",
       "3  F[B-](F)(F)[C:1](=[O:2])[c:11]1[cH:12][cH:14][...  0.999867  0.997366   \n",
       "4  F[B-](F)(F)[C:1](=[O:2])[CH2:11][CH2:12][CH2:1...  0.991691  0.999501   \n",
       "\n",
       "     prob_C  pred_A  pred_B  pred_C  \n",
       "0  0.205542       1       1       0  \n",
       "1  0.999848       1       1       1  \n",
       "2  0.948263       1       1       1  \n",
       "3  0.741841       1       1       1  \n",
       "4  0.998680       1       1       1  \n",
       "\n",
       "[5 rows x 21 columns]"
      ]
     },
     "execution_count": 27,
     "metadata": {},
     "output_type": "execute_result"
    }
   ],
   "source": [
    "# combine predictions and results\n",
    "comb = result.merge(preds, on=\"vl_id\", how=\"left\")\n",
    "comb.head()"
   ]
  },
  {
   "cell_type": "code",
   "execution_count": 28,
   "id": "b18345cf",
   "metadata": {},
   "outputs": [
    {
     "data": {
      "text/html": [
       "<div>\n",
       "<style scoped>\n",
       "    .dataframe tbody tr th:only-of-type {\n",
       "        vertical-align: middle;\n",
       "    }\n",
       "\n",
       "    .dataframe tbody tr th {\n",
       "        vertical-align: top;\n",
       "    }\n",
       "\n",
       "    .dataframe thead th {\n",
       "        text-align: right;\n",
       "    }\n",
       "</style>\n",
       "<table border=\"1\" class=\"dataframe\">\n",
       "  <thead>\n",
       "    <tr style=\"text-align: right;\">\n",
       "      <th></th>\n",
       "      <th>id</th>\n",
       "      <th>vl_id</th>\n",
       "      <th>well</th>\n",
       "      <th>initiator_long</th>\n",
       "      <th>monomer_long</th>\n",
       "      <th>terminator_long</th>\n",
       "      <th>product_A_lcms_ratio</th>\n",
       "      <th>product_B_lcms_ratio</th>\n",
       "      <th>product_C_lcms_ratio</th>\n",
       "      <th>binary_A</th>\n",
       "      <th>...</th>\n",
       "      <th>binary_C</th>\n",
       "      <th>long_name</th>\n",
       "      <th>product_A_smiles</th>\n",
       "      <th>reaction_smiles_atom_mapped</th>\n",
       "      <th>prob_A</th>\n",
       "      <th>prob_B</th>\n",
       "      <th>prob_C</th>\n",
       "      <th>pred_A</th>\n",
       "      <th>pred_B</th>\n",
       "      <th>pred_C</th>\n",
       "    </tr>\n",
       "  </thead>\n",
       "  <tbody>\n",
       "    <tr>\n",
       "      <th>22</th>\n",
       "      <td>89048</td>\n",
       "      <td>94042</td>\n",
       "      <td>C4</td>\n",
       "      <td>Al013</td>\n",
       "      <td>Spiro017</td>\n",
       "      <td>TerTH014</td>\n",
       "      <td>0.006011</td>\n",
       "      <td>0.00000</td>\n",
       "      <td>1.120595</td>\n",
       "      <td>1</td>\n",
       "      <td>...</td>\n",
       "      <td>1</td>\n",
       "      <td>Al013 + Spiro017 + TerTH014</td>\n",
       "      <td>CCCCCCCCC(=O)N[C@]1(Cc2nnc(-c3cccc([N+](=O)[O-...</td>\n",
       "      <td>F[B-](F)(F)[C:1](=[O:2])[CH2:11][CH2:12][CH2:1...</td>\n",
       "      <td>0.549312</td>\n",
       "      <td>0.779729</td>\n",
       "      <td>0.997211</td>\n",
       "      <td>0</td>\n",
       "      <td>1</td>\n",
       "      <td>1</td>\n",
       "    </tr>\n",
       "    <tr>\n",
       "      <th>105</th>\n",
       "      <td>89214</td>\n",
       "      <td>197185</td>\n",
       "      <td>L10</td>\n",
       "      <td>Ph021</td>\n",
       "      <td>Spiro017</td>\n",
       "      <td>TerABT018</td>\n",
       "      <td>0.002750</td>\n",
       "      <td>0.00149</td>\n",
       "      <td>0.000623</td>\n",
       "      <td>1</td>\n",
       "      <td>...</td>\n",
       "      <td>1</td>\n",
       "      <td>Ph021 + Spiro017 + TerABT018</td>\n",
       "      <td>O=C(N[C@]1(Cc2nc3c(F)cc(F)cc3s2)CCCOC1)c1ccc(F...</td>\n",
       "      <td>F[B-](F)(F)[C:1](=[O:2])[c:15]1[cH:16][cH:18][...</td>\n",
       "      <td>0.418977</td>\n",
       "      <td>0.638711</td>\n",
       "      <td>0.009563</td>\n",
       "      <td>0</td>\n",
       "      <td>1</td>\n",
       "      <td>0</td>\n",
       "    </tr>\n",
       "  </tbody>\n",
       "</table>\n",
       "<p>2 rows × 21 columns</p>\n",
       "</div>"
      ],
      "text/plain": [
       "        id   vl_id well initiator_long monomer_long terminator_long  \\\n",
       "22   89048   94042   C4          Al013     Spiro017        TerTH014   \n",
       "105  89214  197185  L10          Ph021     Spiro017       TerABT018   \n",
       "\n",
       "     product_A_lcms_ratio  product_B_lcms_ratio  product_C_lcms_ratio  \\\n",
       "22               0.006011               0.00000              1.120595   \n",
       "105              0.002750               0.00149              0.000623   \n",
       "\n",
       "     binary_A  ...  binary_C                     long_name  \\\n",
       "22          1  ...         1   Al013 + Spiro017 + TerTH014   \n",
       "105         1  ...         1  Ph021 + Spiro017 + TerABT018   \n",
       "\n",
       "                                      product_A_smiles  \\\n",
       "22   CCCCCCCCC(=O)N[C@]1(Cc2nnc(-c3cccc([N+](=O)[O-...   \n",
       "105  O=C(N[C@]1(Cc2nc3c(F)cc(F)cc3s2)CCCOC1)c1ccc(F...   \n",
       "\n",
       "                           reaction_smiles_atom_mapped    prob_A    prob_B  \\\n",
       "22   F[B-](F)(F)[C:1](=[O:2])[CH2:11][CH2:12][CH2:1...  0.549312  0.779729   \n",
       "105  F[B-](F)(F)[C:1](=[O:2])[c:15]1[cH:16][cH:18][...  0.418977  0.638711   \n",
       "\n",
       "       prob_C  pred_A  pred_B  pred_C  \n",
       "22   0.997211       0       1       1  \n",
       "105  0.009563       0       1       0  \n",
       "\n",
       "[2 rows x 21 columns]"
      ]
     },
     "execution_count": 28,
     "metadata": {},
     "output_type": "execute_result"
    }
   ],
   "source": [
    "# are there any compounds that the new model would not have predicted to work?\n",
    "comb.loc[comb[\"pred_A\"] == 0]"
   ]
  },
  {
   "cell_type": "markdown",
   "id": "5ca79738",
   "metadata": {},
   "source": [
    "### Side note on bias through model update\n",
    "Turns out there are only 2/153 instances where the two models disagree. (Curiously enough, the probability is almost exactly at the decision threshold). In any case, we drop these two data points before we continue the analysis"
   ]
  },
  {
   "cell_type": "code",
   "execution_count": 29,
   "id": "b906c2eb",
   "metadata": {},
   "outputs": [
    {
     "data": {
      "text/plain": [
       "151"
      ]
     },
     "execution_count": 29,
     "metadata": {},
     "output_type": "execute_result"
    }
   ],
   "source": [
    "comb = comb.loc[comb[\"pred_A\"] == 1]\n",
    "len(comb)"
   ]
  },
  {
   "cell_type": "code",
   "execution_count": 30,
   "id": "1e522a14",
   "metadata": {},
   "outputs": [
    {
     "data": {
      "text/plain": [
       "0.9801324503311258"
      ]
     },
     "execution_count": 30,
     "metadata": {},
     "output_type": "execute_result"
    }
   ],
   "source": [
    "# Evaluate for binary_A: What was the models prospective precision?\n",
    "len(comb.loc[comb[\"binary_A\"] == 1]) / len(comb)"
   ]
  },
  {
   "cell_type": "code",
   "execution_count": 31,
   "id": "8b25861a",
   "metadata": {},
   "outputs": [
    {
     "name": "stdout",
     "output_type": "stream",
     "text": [
      "Accuracy: 84.77%\n",
      "Precision: 84.62%\n",
      "Recall: 95.19%\n"
     ]
    }
   ],
   "source": [
    "# evaluate for binary_B\n",
    "print(f'Accuracy: {accuracy_score(comb[\"binary_B\"], comb[\"pred_B\"]):.2%}')\n",
    "print(f'Precision: {precision_score(comb[\"binary_B\"], comb[\"pred_B\"]):.2%}')\n",
    "print(f'Recall: {recall_score(comb[\"binary_B\"], comb[\"pred_B\"]):.2%}')"
   ]
  },
  {
   "cell_type": "code",
   "execution_count": 32,
   "id": "fa29ac6f",
   "metadata": {},
   "outputs": [
    {
     "name": "stdout",
     "output_type": "stream",
     "text": [
      "Accuracy: 86.75%\n",
      "Precision: 100.00%\n",
      "Recall: 67.74%\n"
     ]
    }
   ],
   "source": [
    "# evaluate for binary_C\n",
    "print(f'Accuracy: {accuracy_score(comb[\"binary_C\"], comb[\"pred_C\"]):.2%}')\n",
    "print(f'Precision: {precision_score(comb[\"binary_C\"], comb[\"pred_C\"]):.2%}')\n",
    "print(f'Recall: {recall_score(comb[\"binary_C\"], comb[\"pred_C\"]):.2%}')"
   ]
  },
  {
   "cell_type": "code",
   "execution_count": 33,
   "id": "149f9c35",
   "metadata": {},
   "outputs": [
    {
     "data": {
      "text/plain": [
       "array([[1, 1, 1, 0, 1, 1, 1, 1, 1, 1],\n",
       "       [1, 1, 1, 1, 1, 1, 0, 1, 1, 1],\n",
       "       [1, 0, 1, 1, 1, 1, 1, 1, 1, 1],\n",
       "       [1, 1, 1, 1, 1, 1, 0, 1, 1, 1],\n",
       "       [1, 1, 1, 1, 1, 1, 1, 1, 1, 1],\n",
       "       [1, 1, 1, 1, 1, 1, 1, 1, 1, 1],\n",
       "       [1, 1, 1, 1, 1, 1, 1, 1, 1, 1],\n",
       "       [1, 1, 1, 1, 1, 1, 1, 1, 1, 1],\n",
       "       [1, 1, 1, 1, 1, 1, 1, 1, 1, 1],\n",
       "       [1, 0, 1, 1, 1, 1, 1, 1, 1, 1],\n",
       "       [1, 0, 1, 1, 1, 1, 1, 1, 1, 1],\n",
       "       [1, 1, 1, 1, 0, 1, 1, 0, 1, 1],\n",
       "       [1, 1, 1, 1, 1, 1, 1, 1, 1, 1],\n",
       "       [1, 1, 0, 1, 1, 1, 1, 1, 1, 1],\n",
       "       [1, 1, 1, 1, 1, 1, 1, 1, 1, 1],\n",
       "       [1, 1, 1, 1, 1, 1, 1, 1, 1, 1]])"
      ]
     },
     "execution_count": 33,
     "metadata": {},
     "output_type": "execute_result"
    }
   ],
   "source": [
    "# show the wells that had valid reactions in the plate layout\n",
    "# n.b. we ignore the right half of the plate b/c all of that was invalid (oxalic acid transfer error)\n",
    "arr = np.zeros((16, 10), dtype=int)\n",
    "\n",
    "for well in comb[\"well\"]:\n",
    "    row = ord(well[0]) - 65\n",
    "    col = int(well[1:]) - 3\n",
    "    arr[row, col] = 1\n",
    "arr"
   ]
  },
  {
   "cell_type": "code",
   "execution_count": 47,
   "id": "2e9f20b7",
   "metadata": {},
   "outputs": [
    {
     "data": {
      "text/plain": [
       "<Axes: >"
      ]
     },
     "execution_count": 47,
     "metadata": {},
     "output_type": "execute_result"
    },
    {
     "data": {
      "image/png": "[encoded data removed]",
      "text/plain": [
       "<Figure size 640x480 with 2 Axes>"
      ]
     },
     "metadata": {},
     "output_type": "display_data"
    }
   ],
   "source": [
    "import seaborn as sns\n",
    "import matplotlib.pyplot as plt\n",
    "sns.heatmap(arr)"
   ]
  },
  {
   "cell_type": "code",
   "execution_count": 69,
   "id": "3b73a716",
   "metadata": {},
   "outputs": [
    {
     "data": {
      "text/html": [
       "<svg  width=\"165\" height=\"55\"><rect x=\"0\" y=\"0\" width=\"55\" height=\"55\" style=\"fill:#e42536;stroke-width:2;stroke:rgb(255,255,255)\"/><rect x=\"55\" y=\"0\" width=\"55\" height=\"55\" style=\"fill:#f0f0f0;stroke-width:2;stroke:rgb(255,255,255)\"/><rect x=\"110\" y=\"0\" width=\"55\" height=\"55\" style=\"fill:#5790fc;stroke-width:2;stroke:rgb(255,255,255)\"/></svg>"
      ],
      "text/plain": [
       "[(0.8941176470588236, 0.1450980392156863, 0.21176470588235294),\n",
       " (0.9411764705882353, 0.9411764705882353, 0.9411764705882353),\n",
       " (0.3411764705882353, 0.5647058823529412, 0.9882352941176471)]"
      ]
     },
     "execution_count": 69,
     "metadata": {},
     "output_type": "execute_result"
    }
   ],
   "source": [
    "palette = sns.color_palette([\"#e42536\", \"#f0f0f0\", \"#5790fc\"])\n",
    "palette"
   ]
  },
  {
   "cell_type": "code",
   "execution_count": 70,
   "id": "0753ffb1",
   "metadata": {},
   "outputs": [
    {
     "data": {
      "image/png": "[encoded data removed]",
      "text/plain": [
       "<Figure size 120x100 with 1 Axes>"
      ]
     },
     "metadata": {},
     "output_type": "display_data"
    }
   ],
   "source": [
    "# where was A predicted correctly?\n",
    "arr = np.zeros((16, 10), dtype=int)\n",
    "\n",
    "for i, dfrow in comb.iterrows():\n",
    "    row = ord(dfrow[\"well\"][0]) - 65\n",
    "    col = int(dfrow[\"well\"][1:]) - 3\n",
    "    if dfrow[\"pred_A\"] == dfrow[\"binary_A\"]:\n",
    "        arr[row, col] = 1\n",
    "    else:\n",
    "        arr[row, col] = -1\n",
    "plt.figure(figsize=(1.2, 1))\n",
    "ax = sns.heatmap(arr, center=0, cmap=palette, cbar=False, linewidths=0.1)\n",
    "ax.set_xticks([])\n",
    "ax.set_yticks([])\n",
    "plt.tight_layout()\n",
    "plt.savefig(\"exp100_precisionA.svg\", transparent=True)"
   ]
  },
  {
   "cell_type": "code",
   "execution_count": 40,
   "id": "165a72bb",
   "metadata": {},
   "outputs": [
    {
     "data": {
      "text/plain": [
       "<Axes: >"
      ]
     },
     "execution_count": 40,
     "metadata": {},
     "output_type": "execute_result"
    },
    {
     "data": {
      "image/png": "[encoded data removed]",
      "text/plain": [
       "<Figure size 640x480 with 2 Axes>"
      ]
     },
     "metadata": {},
     "output_type": "display_data"
    }
   ],
   "source": [
    "# where was B predicted correctly?\n",
    "arr = np.zeros((16, 10), dtype=int)\n",
    "\n",
    "for i, dfrow in comb.iterrows():\n",
    "    row = ord(dfrow[\"well\"][0]) - 65\n",
    "    col = int(dfrow[\"well\"][1:]) - 3\n",
    "    if dfrow[\"pred_B\"] == dfrow[\"binary_B\"]:\n",
    "        arr[row, col] = 1\n",
    "    else:\n",
    "        arr[row, col] = -1\n",
    "sns.heatmap(arr, center=0, cmap=palette)"
   ]
  },
  {
   "cell_type": "code",
   "execution_count": 41,
   "id": "2329711c",
   "metadata": {
    "scrolled": false
   },
   "outputs": [
    {
     "data": {
      "text/plain": [
       "<Axes: >"
      ]
     },
     "execution_count": 41,
     "metadata": {},
     "output_type": "execute_result"
    },
    {
     "data": {
      "image/png": "[encoded data removed]",
      "text/plain": [
       "<Figure size 640x480 with 2 Axes>"
      ]
     },
     "metadata": {},
     "output_type": "display_data"
    }
   ],
   "source": [
    "# where was C predicted correctly?\n",
    "arr = np.zeros((16, 10), dtype=int)\n",
    "\n",
    "for i, dfrow in comb.iterrows():\n",
    "    row = ord(dfrow[\"well\"][0]) - 65\n",
    "    col = int(dfrow[\"well\"][1:]) - 3\n",
    "    if dfrow[\"pred_C\"] == dfrow[\"binary_C\"]:\n",
    "        arr[row, col] = 1\n",
    "    else:\n",
    "        arr[row, col] = -1\n",
    "sns.heatmap(arr, center=0, cmap=palette)"
   ]
  },
  {
   "cell_type": "code",
   "execution_count": null,
   "id": "662138be",
   "metadata": {},
   "outputs": [],
   "source": []
  }
 ],
 "metadata": {
  "kernelspec": {
   "display_name": "Python 3 (ipykernel)",
   "language": "python",
   "name": "python3"
  },
  "language_info": {
   "codemirror_mode": {
    "name": "ipython",
    "version": 3
   },
   "file_extension": ".py",
   "mimetype": "text/x-python",
   "name": "python",
   "nbconvert_exporter": "python",
   "pygments_lexer": "ipython3",
   "version": "3.9.7"
  }
 },
 "nbformat": 4,
 "nbformat_minor": 5
}
