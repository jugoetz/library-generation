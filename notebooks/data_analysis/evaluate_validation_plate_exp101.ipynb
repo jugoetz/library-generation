{
 "cells": [
  {
   "cell_type": "markdown",
   "id": "0",
   "metadata": {},
   "source": [
    "# Evaluation of the 1D validation plate (exp101/JG406–408)\n",
    "\n",
    "We have to make the predictions for this plate and compare to the experimental outcome"
   ]
  },
  {
   "cell_type": "code",
   "execution_count": null,
   "id": "1",
   "metadata": {},
   "outputs": [],
   "source": [
    "import pathlib\n",
    "import sys\n",
    "\n",
    "sys.path.append(str(pathlib.Path().resolve().parents[1]))\n",
    "\n",
    "import numpy as np\n",
    "import pandas as pd\n",
    "from sklearn.metrics import precision_score, recall_score, accuracy_score, confusion_matrix\n",
    "\n",
    "from src.util.db_utils import SynFermDatabaseConnection\n",
    "from src.definitions import DATA_DIR"
   ]
  },
  {
   "cell_type": "code",
   "execution_count": null,
   "id": "2",
   "metadata": {},
   "outputs": [],
   "source": [
    "con = SynFermDatabaseConnection()"
   ]
  },
  {
   "cell_type": "code",
   "execution_count": null,
   "id": "3",
   "metadata": {},
   "outputs": [],
   "source": [
    "# gather the experimental data\n",
    "res = con.con.execute(\"SELECT e.id, vl_id, plate_nr, well, e.initiator_long, e.monomer_long, e.terminator_long, b.SMILES AS 'initiator', b2.SMILES AS 'monomer', b3.SMILES AS 'terminator', v.reaction_smiles_atom_mapped, product_A_lcms_ratio, product_B_lcms_ratio, product_C_lcms_ratio FROM experiments e LEFT JOIN virtuallibrary v on e.vl_id = v.id LEFT JOIN building_blocks b on e.initiator_long = b.long LEFT JOIN building_blocks b2 ON e.monomer_long = b2.long LEFT JOIN building_blocks b3 ON e.terminator_long = b3.long WHERE exp_nr = 101 AND (valid NOT LIKE '%ERROR%' OR valid IS NULL);\").fetchall()\n",
    "result = pd.DataFrame(res, columns=[\"id\", \"vl_id\", \"plate_nr\", \"well\", \"initiator_long\", \"monomer_long\", \"terminator_long\", \"initiator\", \"monomer\", \"terminator\", \"reaction_smiles_atom_mapped\", \"product_A_lcms_ratio\", \"product_B_lcms_ratio\", \"product_C_lcms_ratio\"])\n",
    "result[\"binary_A\"] = (result[\"product_A_lcms_ratio\"] > 0).astype(int)\n",
    "result[\"binary_B\"] = (result[\"product_B_lcms_ratio\"] > 0).astype(int)\n",
    "result[\"binary_C\"] = (result[\"product_C_lcms_ratio\"] > 0).astype(int)\n",
    "result.head()"
   ]
  },
  {
   "cell_type": "code",
   "execution_count": null,
   "id": "4",
   "metadata": {},
   "outputs": [],
   "source": [
    "# check how many of the 960 reactions were valid\n",
    "len(result)"
   ]
  },
  {
   "cell_type": "code",
   "execution_count": null,
   "id": "5",
   "metadata": {},
   "outputs": [],
   "source": [
    "# load plate data used for inference (we only need the vl_id to match with the experimental results)\n",
    "val_plate = pd.read_csv(DATA_DIR / \"curated_data\" / \"validation_plates.csv\")[[\"vl_id\"]]\n",
    "val_plate.head()"
   ]
  },
  {
   "cell_type": "code",
   "execution_count": null,
   "id": "6",
   "metadata": {},
   "outputs": [],
   "source": [
    "# load the predictions\n",
    "preds = pd.read_csv(DATA_DIR / \"curated_data\" / \"validation_plates_pred_2024-04-18.csv\")\n",
    "# merge plate data with preds\n",
    "preds = pd.concat([val_plate, preds], axis=1)\n",
    "preds.head()"
   ]
  },
  {
   "cell_type": "code",
   "execution_count": null,
   "id": "7",
   "metadata": {},
   "outputs": [],
   "source": [
    "# combine predictions and results\n",
    "comb = result.merge(preds, on=\"vl_id\", how=\"left\")\n",
    "comb.head()"
   ]
  },
  {
   "cell_type": "code",
   "execution_count": null,
   "id": "8",
   "metadata": {},
   "outputs": [],
   "source": [
    "# evaluate for binary_A\n",
    "print(f'Accuracy: {accuracy_score(comb[\"binary_A\"], comb[\"pred_A\"]):.2%}')\n",
    "print(f'Precision: {precision_score(comb[\"binary_A\"], comb[\"pred_A\"]):.2%}')\n",
    "print(f'Recall: {recall_score(comb[\"binary_A\"], comb[\"pred_A\"]):.2%}')\n",
    "print(f'Confusion: {confusion_matrix(comb[\"binary_A\"], comb[\"pred_A\"])}')"
   ]
  },
  {
   "cell_type": "code",
   "execution_count": null,
   "id": "9",
   "metadata": {},
   "outputs": [],
   "source": [
    "# evaluate for binary_B\n",
    "print(f'Accuracy: {accuracy_score(comb[\"binary_B\"], comb[\"pred_B\"]):.2%}')\n",
    "print(f'Precision: {precision_score(comb[\"binary_B\"], comb[\"pred_B\"]):.2%}')\n",
    "print(f'Recall: {recall_score(comb[\"binary_B\"], comb[\"pred_B\"]):.2%}')\n",
    "print(f'Confusion: {confusion_matrix(comb[\"binary_B\"], comb[\"pred_B\"])}')"
   ]
  },
  {
   "cell_type": "code",
   "execution_count": null,
   "id": "10",
   "metadata": {},
   "outputs": [],
   "source": [
    "# evaluate for binary_C\n",
    "print(f'Accuracy: {accuracy_score(comb[\"binary_C\"], comb[\"pred_C\"]):.2%}')\n",
    "print(f'Precision: {precision_score(comb[\"binary_C\"], comb[\"pred_C\"]):.2%}')\n",
    "print(f'Recall: {recall_score(comb[\"binary_C\"], comb[\"pred_C\"]):.2%}')\n",
    "print(f'Confusion: {confusion_matrix(comb[\"binary_C\"], comb[\"pred_C\"])}')"
   ]
  },
  {
   "cell_type": "code",
   "execution_count": null,
   "id": "11",
   "metadata": {},
   "outputs": [],
   "source": [
    "# does this cluster by initiator?\n",
    "for i in comb[\"initiator_long\"].drop_duplicates():\n",
    "    print(i)\n",
    "    select = comb.loc[comb[\"initiator_long\"] == i]\n",
    "    print(f'Accuracy: {accuracy_score(select[\"binary_A\"], select[\"pred_A\"]):.2%}')\n",
    "    print(f'Confusion: {confusion_matrix(select[\"binary_A\"], select[\"pred_A\"])}')"
   ]
  },
  {
   "cell_type": "markdown",
   "id": "12",
   "metadata": {},
   "source": [
    "n.b. (because I keep forgetting) sklearn confusion matrix structure is [[tn fp]  [fn tp]]\n",
    "\n",
    "https://scikit-learn.org/stable/modules/generated/sklearn.metrics.confusion_matrix.html"
   ]
  },
  {
   "cell_type": "code",
   "execution_count": null,
   "id": "13",
   "metadata": {},
   "outputs": [],
   "source": [
    "# show the wells that had valid reactions in the plate layout\n",
    "# n.b. we ignore the right half of the plate b/c all of that was invalid (oxalic acid transfer error)\n",
    "arr = np.zeros((3, 16, 20), dtype=int)\n",
    "for plate in comb[\"plate_nr\"]:\n",
    "    for well in comb.loc[comb[\"plate_nr\"] == plate, \"well\"]:\n",
    "        row = ord(well[0]) - 65\n",
    "        col = int(well[1:]) - 3\n",
    "        arr[plate-1, row, col] = 1\n",
    "arr"
   ]
  },
  {
   "cell_type": "code",
   "execution_count": null,
   "id": "14",
   "metadata": {},
   "outputs": [],
   "source": [
    "# show the wells that had valid reactions in the plate layout\n",
    "# n.b. we ignore the right half of the plate b/c all of that was invalid (oxalic acid transfer error)\n",
    "arr = np.zeros((3, 16, 20), dtype=int)\n",
    "for plate in comb[\"plate_nr\"]:\n",
    "    for well in comb.loc[comb[\"plate_nr\"] == plate, \"well\"]:\n",
    "        row = ord(well[0]) - 65\n",
    "        col = int(well[1:]) - 3\n",
    "        arr[plate-1, row, col] = 1\n",
    "arr"
   ]
  },
  {
   "cell_type": "code",
   "execution_count": null,
   "id": "15",
   "metadata": {},
   "outputs": [],
   "source": [
    "import seaborn as sns\n",
    "import matplotlib.pyplot as plt\n",
    "fig, ax = plt.subplots(3)\n",
    "sns.heatmap(arr[0], ax=ax[0])\n",
    "sns.heatmap(arr[1], ax=ax[1])\n",
    "sns.heatmap(arr[2], ax=ax[2])"
   ]
  },
  {
   "cell_type": "code",
   "execution_count": null,
   "id": "16",
   "metadata": {},
   "outputs": [],
   "source": [
    "palette = sns.color_palette([\"#e42536\", \"#f0f0f0\", \"#5790fc\"])\n"
   ]
  },
  {
   "cell_type": "code",
   "execution_count": null,
   "id": "17",
   "metadata": {},
   "outputs": [],
   "source": [
    "# show where we got it right for product A\n",
    "arr = np.zeros((3, 16, 20), dtype=int)\n",
    "for plate in comb[\"plate_nr\"]:\n",
    "    for i, dfrow in comb.loc[comb[\"plate_nr\"] == plate].iterrows():\n",
    "        row = ord(dfrow[\"well\"][0]) - 65\n",
    "        col = int(dfrow[\"well\"][1:]) - 3\n",
    "        if dfrow[\"pred_A\"] == dfrow[\"binary_A\"]:\n",
    "            arr[plate-1, row, col] = 1\n",
    "        else:\n",
    "            arr[plate-1, row, col] = -1\n",
    "fig, ax = plt.subplots(3)\n",
    "sns.heatmap(arr[0], ax=ax[0], center=0, cmap=palette, cbar=False, linewidths=0.1)\n",
    "sns.heatmap(arr[1], ax=ax[1], center=0, cmap=palette, cbar=False, linewidths=0.1)\n",
    "sns.heatmap(arr[2], ax=ax[2], center=0, cmap=palette, cbar=False, linewidths=0.1)\n",
    "for a in ax:\n",
    "    a.set_xticks([])\n",
    "    a.set_yticks([])\n",
    "fig.savefig(\"exp101_accuracyA.pdf\", transparent=True)"
   ]
  },
  {
   "cell_type": "markdown",
   "id": "18",
   "metadata": {},
   "source": [
    "#### Note\n",
    "Note how almost all of the wrong predictions for A originate from the first two rows. Which building blocks are these?"
   ]
  },
  {
   "cell_type": "code",
   "execution_count": null,
   "id": "19",
   "metadata": {},
   "outputs": [],
   "source": [
    "comb.loc[comb[\"well\"].str.startswith(\"A\") | comb[\"well\"].str.startswith(\"B\"), \"terminator_long\"].drop_duplicates()"
   ]
  },
  {
   "cell_type": "code",
   "execution_count": null,
   "id": "20",
   "metadata": {},
   "outputs": [],
   "source": [
    "from rdkit import Chem\n",
    "from rdkit.Chem import Draw"
   ]
  },
  {
   "cell_type": "code",
   "execution_count": null,
   "id": "21",
   "metadata": {},
   "outputs": [],
   "source": [
    "Draw.MolsToGridImage(\n",
    "    [Chem.MolFromSmiles(con.get_smiles(long=\"TerABT007\")), Chem.MolFromSmiles(con.get_smiles(long=\"TerABT012\"))]\n",
    ")"
   ]
  },
  {
   "cell_type": "code",
   "execution_count": null,
   "id": "22",
   "metadata": {},
   "outputs": [],
   "source": [
    "# average success rate for TerABT007\n",
    "con.con.execute(\"SELECT AVG(product_A_lcms_ratio > 0) FROM experiments WHERE terminator_long = 'TerABT007' AND exp_nr BETWEEN 4 AND 29 AND (valid NOT LIKE 'ERROR%' OR valid IS NULL);\").fetchone()"
   ]
  },
  {
   "cell_type": "code",
   "execution_count": null,
   "id": "23",
   "metadata": {},
   "outputs": [],
   "source": [
    "# average success rate for TerABT012\n",
    "con.con.execute(\"SELECT AVG(product_A_lcms_ratio > 0) FROM experiments WHERE terminator_long = 'TerABT012' AND exp_nr BETWEEN 4 AND 29 AND (valid NOT LIKE 'ERROR%' OR valid IS NULL);\").fetchone()"
   ]
  },
  {
   "cell_type": "markdown",
   "id": "24",
   "metadata": {},
   "source": [
    "The success rate for TerABT007 is indeed markedly lower than for most building blocks giving a hint to why this may have been predicted not to work. For TerABT012 however that is less true. Still the high structural similarity to TerABT007 may play a role."
   ]
  },
  {
   "cell_type": "code",
   "execution_count": null,
   "id": "25",
   "metadata": {},
   "outputs": [],
   "source": [
    "# show where we got it right for product B\n",
    "arr = np.zeros((3, 16, 20), dtype=int)\n",
    "for plate in comb[\"plate_nr\"]:\n",
    "    for i, dfrow in comb.loc[comb[\"plate_nr\"] == plate].iterrows():\n",
    "        row = ord(dfrow[\"well\"][0]) - 65\n",
    "        col = int(dfrow[\"well\"][1:]) - 3\n",
    "        if dfrow[\"pred_B\"] == dfrow[\"binary_B\"]:\n",
    "            arr[plate-1, row, col] = 1\n",
    "        else:\n",
    "            arr[plate-1, row, col] = -1\n",
    "fig, ax = plt.subplots(3)\n",
    "sns.heatmap(arr[0], ax=ax[0], center=0, cmap=sns.color_palette(\"coolwarm_r\", n_colors=3))\n",
    "sns.heatmap(arr[1], ax=ax[1], center=0, cmap=sns.color_palette(\"coolwarm_r\", n_colors=3))\n",
    "sns.heatmap(arr[2], ax=ax[2], center=0, cmap=sns.color_palette(\"coolwarm_r\", n_colors=3))"
   ]
  },
  {
   "cell_type": "code",
   "execution_count": null,
   "id": "26",
   "metadata": {},
   "outputs": [],
   "source": [
    "# show where we got it right for product C\n",
    "arr = np.zeros((3, 16, 20), dtype=int)\n",
    "for plate in comb[\"plate_nr\"]:\n",
    "    for i, dfrow in comb.loc[comb[\"plate_nr\"] == plate].iterrows():\n",
    "        row = ord(dfrow[\"well\"][0]) - 65\n",
    "        col = int(dfrow[\"well\"][1:]) - 3\n",
    "        if dfrow[\"pred_C\"] == dfrow[\"binary_C\"]:\n",
    "            arr[plate-1, row, col] = 1\n",
    "        else:\n",
    "            arr[plate-1, row, col] = -1\n",
    "fig, ax = plt.subplots(3)\n",
    "sns.heatmap(arr[0], ax=ax[0], center=0, cmap=sns.color_palette(\"coolwarm_r\", n_colors=3))\n",
    "sns.heatmap(arr[1], ax=ax[1], center=0, cmap=sns.color_palette(\"coolwarm_r\", n_colors=3))\n",
    "sns.heatmap(arr[2], ax=ax[2], center=0, cmap=sns.color_palette(\"coolwarm_r\", n_colors=3))"
   ]
  },
  {
   "cell_type": "code",
   "execution_count": null,
   "id": "27",
   "metadata": {},
   "outputs": [],
   "source": []
  }
 ],
 "metadata": {
  "kernelspec": {
   "display_name": "Python 3 (ipykernel)",
   "language": "python",
   "name": "python3"
  },
  "language_info": {
   "codemirror_mode": {
    "name": "ipython",
    "version": 3
   },
   "file_extension": ".py",
   "mimetype": "text/x-python",
   "name": "python",
   "nbconvert_exporter": "python",
   "pygments_lexer": "ipython3",
   "version": "3.9.7"
  }
 },
 "nbformat": 4,
 "nbformat_minor": 5
}
