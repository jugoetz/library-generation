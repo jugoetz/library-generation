{
 "cells": [
  {
   "cell_type": "markdown",
   "id": "261b6b1e-9b30-4a3f-9684-190bbbd48df0",
   "metadata": {},
   "source": [
    "# Extract MoBiAS PDF reports\n",
    "\n",
    "The PDF reports are a great source of additional information as they contain data for peaks that may not have been assigned to any known product.\n",
    "Mining these reports is much faster than reprocessing of the raw LCMS data.\n",
    "\n",
    "Here, we are in particular interested to identify\n",
    "1. leftover starting materials\n",
    "2. systematic side products that we have not been previously looking for\n"
   ]
  },
  {
   "cell_type": "code",
   "execution_count": 1,
   "id": "5414c150-132b-4c8d-989f-f84b6f1cb3f7",
   "metadata": {
    "tags": [],
    "ExecuteTime": {
     "end_time": "2023-07-04T07:26:35.717886Z",
     "start_time": "2023-07-04T07:26:35.226287Z"
    }
   },
   "outputs": [],
   "source": [
    "import sys\n",
    "import pathlib\n",
    "import re\n",
    "from datetime import datetime\n",
    "\n",
    "sys.path.insert(0, str(pathlib.Path().resolve().parents[1]))\n",
    "\n",
    "from pypdf import PdfReader\n",
    "import pandas as pd\n",
    "import numpy as np\n",
    "\n",
    "from src.util.db_utils import SynFermDatabaseConnection\n",
    "from src.definitions import DATA_DIR, PLATE_LIST_PATH\n",
    "from src.util.rdkit_util import smiles_to_lcms_mass"
   ]
  },
  {
   "cell_type": "code",
   "execution_count": 3,
   "id": "42e6e3fb-fa8c-4133-b15e-9e32e554d23b",
   "metadata": {
    "tags": [],
    "ExecuteTime": {
     "end_time": "2023-06-26T09:44:11.416304Z",
     "start_time": "2023-06-26T09:44:11.392617Z"
    }
   },
   "outputs": [],
   "source": [
    "con = SynFermDatabaseConnection()"
   ]
  },
  {
   "cell_type": "code",
   "execution_count": 81,
   "outputs": [],
   "source": [
    "def count_assigned_peaks():\n",
    "    assigned_peaks = con.con.execute(\"SELECT peak_id, assignment, lp.experiment_id FROM lcms_peaks_assignment JOIN lcms_peaks lp on lcms_peaks_assignment.peak_id = lp.id\").fetchall()\n",
    "    df = pd.DataFrame(assigned_peaks, columns=[\"peak_id\", \"assignment\", \"experiment_id\"])\n",
    "    # count the number of reaction each species is found in\n",
    "    return df[[\"assignment\", \"experiment_id\"]].drop_duplicates().groupby([\"assignment\"]).count()"
   ],
   "metadata": {
    "collapsed": false,
    "ExecuteTime": {
     "end_time": "2023-07-03T09:36:02.553471Z",
     "start_time": "2023-07-03T09:36:02.524828Z"
    }
   }
  },
  {
   "cell_type": "markdown",
   "id": "9f737ec6-a3cf-45da-951f-34987a5335b8",
   "metadata": {
    "jp-MarkdownHeadingCollapsed": true,
    "tags": []
   },
   "source": [
    "## Extract PDF data"
   ]
  },
  {
   "cell_type": "code",
   "execution_count": 3,
   "id": "e225f6ff-be47-47f0-bcba-7f9db2bc0ea2",
   "metadata": {
    "editable": true,
    "slideshow": {
     "slide_type": ""
    },
    "tags": []
   },
   "outputs": [],
   "source": [
    "def import_lcms_full_report(path):\n",
    "    # set up pdf reader\n",
    "    reader = PdfReader(path)\n",
    "    number_of_pages = len(reader.pages)\n",
    "    lines = []\n",
    "    found_data = False\n",
    "    # iterate from second page until entire peak summary table is read completely\n",
    "    for i in range(1, number_of_pages):\n",
    "        page = reader.pages[i]\n",
    "        text = page.extract_text()\n",
    "        line_list = text.splitlines()\n",
    "        if (line_list[0] != '# RT [min] Area I S/N Max. m/z FWHM [min] Area % Int. %') and found_data:  # stop when not encountering another data header\n",
    "            break\n",
    "        else:\n",
    "            found_data = True\n",
    "        lines += line_list\n",
    "    \n",
    "    if len(lines) == 0:\n",
    "        raise RuntimeError(\"No data extracted\")\n",
    "        \n",
    "    # remove spaces in header\n",
    "    cleaned_lines = ['# RT[min] Area I S/N max_m/z FWHM[min] Area% Int%',]\n",
    "    # remove footers and data headers on not-first page\n",
    "    cleaned_lines += [line for line in lines if line[0].isnumeric()] \n",
    "\n",
    "    # split the lines into individual fields\n",
    "    data = [line.split() for line in cleaned_lines]\n",
    "    \n",
    "    # assemble DataFrame from data\n",
    "    df = pd.DataFrame(data[1:], columns=data[0]).astype(\"float\")\n",
    "\n",
    "    return df"
   ]
  },
  {
   "cell_type": "code",
   "execution_count": null,
   "id": "ac2cca20-6f31-40b0-8469-900526543a3b",
   "metadata": {},
   "outputs": [],
   "source": [
    "%%capture output\n",
    "# import the plate list to obtain LCMS identifier - plate_nr relation\n",
    "plate_list = pd.read_csv(PLATE_LIST_PATH)\n",
    "# we will record any files that cause exceptions for manual inspection\n",
    "files_with_exceptions = []\n",
    "\n",
    "# iterate over all experiments/plates\n",
    "for exp_nr in range(1, 30):\n",
    "    for plate_nr in range(1, 7):\n",
    "        # print progress indicator\n",
    "        now = datetime.now()\n",
    "        print(f\"exp {exp_nr}-{plate_nr}, started {now.strftime('%H:%M:%S')}\")\n",
    " \n",
    "        \n",
    "        lcms_id = plate_list.loc[(plate_list[\"exp_nr\"] == exp_nr) & (plate_list[\"plate_nr\"] == plate_nr), \"results_file_name\"].item().split(\"_\")[0]\n",
    "        exp_path = DATA_DIR / \"pdf_reports\" / lcms_id\n",
    "        full_report_paths = list(exp_path.glob(\"*_LCMS_Fullreport.pdf\"))\n",
    "        \n",
    "        for path in full_report_paths:\n",
    "            try:\n",
    "                # get well from filename\n",
    "                regex = r'_P\\d{1}-[A-Z]-\\d{1,2}_'\n",
    "                match = re.search(regex, path.name)\n",
    "                well = \"\".join(match.group().strip(\"_\").split(\"-\")[1:])\n",
    "                reaction_id = con.get_reaction_id((exp_nr, plate_nr, well))\n",
    "                df = import_lcms_full_report(path)\n",
    "                # we persist this to the database for re-use\n",
    "                # first reformat df to fit DB\n",
    "                df.insert(0, \"reaction_id\", reaction_id)\n",
    "                df.insert(2, \"retention_time_s\", (df[\"RT[min]\"] * 60).astype(\"int\"))\n",
    "                df = df.drop(columns=\"RT[min]\")\n",
    "                df = df.rename(columns={\"#\": \"peak_number\", \n",
    "                           \"Area\": \"area\", \n",
    "                           \"I\": \"intensity\",\n",
    "                           \"S/N\": \"signal_to_noise\",\n",
    "                           \"max_m/z\": \"mz_max\",\n",
    "                           \"FWHM[min]\": \"fwhm_min\", \n",
    "                           \"Area%\": \"%area\",\n",
    "                           \"Int%\": \"%intensity\"\n",
    "                          }).astype({\"peak_number\": \"int\",\n",
    "                                     \"area\": \"int\",\n",
    "                                     \"intensity\": \"int\"})\n",
    "                # write all extracted peaks to DB\n",
    "                with con.con:\n",
    "                    con.con.executemany(\n",
    "                        'INSERT INTO lcms_peaks (experiment_id, peak_nr, retention_time_s, area, intensity, signal_to_noise, mz_max, fwhm_min, \"%area\", \"%intensity\") VALUES (?, ?, ?, ?, ?, ?, ?, ?, ?, ?);', \n",
    "                        [tuple(row) for row in df.to_numpy()]\n",
    "                    )\n",
    "            except Exception as e:\n",
    "                print(f\"Something went wrong for {str(path)}\")\n",
    "                files_with_exceptions.append(path)\n",
    "                print(e)"
   ]
  },
  {
   "cell_type": "markdown",
   "source": [
    "Note:\n",
    "We have later found one failure mode for the extraction:\n",
    "Sometimes values (intensity) are missing in the PDF table, in which case, that specific row is parsed incorrectly.\n",
    "We can remove these rows by checking for NaN values in the last column (%intensity).\n"
   ],
   "metadata": {
    "collapsed": false
   }
  },
  {
   "cell_type": "code",
   "execution_count": 125,
   "outputs": [
    {
     "data": {
      "text/plain": "38630"
     },
     "execution_count": 125,
     "metadata": {},
     "output_type": "execute_result"
    }
   ],
   "source": [
    "len(con.con.execute('SELECT * FROM lcms_peaks WHERE \"%intensity\" IS NULL').fetchall())"
   ],
   "metadata": {
    "collapsed": false,
    "ExecuteTime": {
     "end_time": "2023-07-03T11:17:17.278456Z",
     "start_time": "2023-07-03T11:17:17.053654Z"
    }
   }
  },
  {
   "cell_type": "code",
   "execution_count": 126,
   "outputs": [],
   "source": [
    "with con.con:\n",
    "    con.con.execute('DELETE FROM lcms_peaks WHERE \"%intensity\" IS NULL')"
   ],
   "metadata": {
    "collapsed": false,
    "ExecuteTime": {
     "end_time": "2023-07-03T11:18:01.219474Z",
     "start_time": "2023-07-03T11:18:00.401653Z"
    }
   }
  },
  {
   "cell_type": "markdown",
   "id": "e0c53f45-ea48-4d7f-ad77-f4f81730307f",
   "metadata": {
    "tags": []
   },
   "source": [
    "## Peak assignments - common contaminants"
   ]
  },
  {
   "cell_type": "code",
   "execution_count": 24,
   "id": "c2e7589f-c065-4a0c-a4b7-b9d9b7f2d7b8",
   "metadata": {
    "tags": [],
    "ExecuteTime": {
     "end_time": "2023-06-16T09:10:48.788634Z",
     "start_time": "2023-06-16T09:10:48.779710Z"
    }
   },
   "outputs": [],
   "source": [
    "# define some expected contaminants\n",
    "mz_dmso = [79.0212, 101.0032, 157.0351]  # M+H+, M+Na+ 2M+H+\n",
    "mz_lock_tmp = 142.1590  # tetramethylpiperidine\n",
    "mz_lock_hmp = 322.0481  # hexamethoxyphosphazene\n",
    "mz_is = 361.1201  # fenofibrate"
   ]
  },
  {
   "cell_type": "code",
   "execution_count": 22,
   "outputs": [],
   "source": [
    "# write DMSO assignments to DB\n",
    "# the median retention time for DMSO is 48 seconds, but it's a broad peak, so we just use <120s\n",
    "for mz in mz_dmso:\n",
    "    with con.con:\n",
    "        con.con.execute(\"INSERT INTO lcms_peaks_assignment (peak_id, assignment) SELECT id, 'DMSO' FROM lcms_peaks WHERE mz_max BETWEEN ? AND ? AND retention_time_s < 120\", (mz - 0.02, mz + 0.02))\n"
   ],
   "metadata": {
    "collapsed": false,
    "ExecuteTime": {
     "end_time": "2023-06-16T09:02:34.380397Z",
     "start_time": "2023-06-16T09:02:33.104781Z"
    }
   }
  },
  {
   "cell_type": "code",
   "execution_count": 27,
   "outputs": [],
   "source": [
    "# write lock mass assignments to DB\n",
    "# since lock molecules are part of the solvent, we do not put a retention time constraint\n",
    "with con.con:\n",
    "    con.con.execute(\"INSERT INTO lcms_peaks_assignment (peak_id, assignment) SELECT id, 'lock mass tetramethylpiperidine' FROM lcms_peaks WHERE mz_max BETWEEN ? AND ?\", (mz_lock_tmp - 0.02, mz_lock_tmp + 0.02))\n",
    "with con.con:\n",
    "    con.con.execute(\"INSERT INTO lcms_peaks_assignment (peak_id, assignment) SELECT id, 'lock mass hexamethoxyphosphazene' FROM lcms_peaks WHERE mz_max BETWEEN ? AND ?\", (mz_lock_hmp - 0.02, mz_lock_hmp + 0.02))"
   ],
   "metadata": {
    "collapsed": false,
    "ExecuteTime": {
     "end_time": "2023-06-16T09:13:14.305196Z",
     "start_time": "2023-06-16T09:13:13.555582Z"
    }
   }
  },
  {
   "cell_type": "code",
   "execution_count": 28,
   "outputs": [],
   "source": [
    "# write IS assignments to DB\n",
    "# the median retention time for fenofibrate was 368 s. We allow a 20 s window around this (the latest picked peak is at 388 so the upper bound is not necessary)\n",
    "with con.con:\n",
    "    con.con.execute(\"INSERT INTO lcms_peaks_assignment (peak_id, assignment) SELECT id, 'IS fenofibrate' FROM lcms_peaks WHERE mz_max BETWEEN ? AND ? AND retention_time_s > 348\", (mz_is - 0.02, mz_is + 0.02))"
   ],
   "metadata": {
    "collapsed": false,
    "ExecuteTime": {
     "end_time": "2023-06-16T09:21:43.417193Z",
     "start_time": "2023-06-16T09:21:42.713940Z"
    }
   }
  },
  {
   "cell_type": "markdown",
   "source": [
    "## Peak assignments - Known reactants/products\n",
    "\n",
    "We read extracted data from the DB, compare it with the expected masses and save the results back to the db"
   ],
   "metadata": {
    "collapsed": false
   }
  },
  {
   "cell_type": "code",
   "execution_count": 20,
   "outputs": [],
   "source": [
    "def calculate_lcms_peak_differences(identifier):\n",
    "\n",
    "    # import relevant reactants and products\n",
    "    # import starting material mzs\n",
    "    sms = con.get_starting_materials_for_reaction(identifier)\n",
    "    mz_i, mz_m, mz_t = [smiles_to_lcms_mass(smi) for smi in sms]\n",
    "    mz_iacid = mz_i - 52.0096  # mass difference of degradation KAT-H to carboxylic acid\n",
    "    mz_baa = mz_m - 124.05243  # mass difference of degradation to beta-amino acid\n",
    "    mzs = {\"I\": mz_i, \"M\": mz_m, \"T\": mz_t, \"I_acid\": mz_iacid, \"M_bAA\": mz_baa}\n",
    "\n",
    "    # import product mzs\n",
    "    known_product_smiles = con.get_product_smiles(identifier)\n",
    "    known_product_mzs = {s: smiles_to_lcms_mass(smi) for s, smi in zip(\"ABCDEFGH\", known_product_smiles) if smi}  # \"if smi\" bc we sometimes have None for product H\n",
    "    mzs.update(known_product_mzs)\n",
    "\n",
    "    # assign known peaks\n",
    "    for s, mz in mzs.items():\n",
    "        with con.con:\n",
    "            con.con.execute(\"INSERT INTO lcms_peaks_assignment (peak_id, assignment) SELECT id, ? AS assignment FROM lcms_peaks WHERE experiment_id=? AND mz_max BETWEEN ? AND ?\", (s, identifier, mz - 0.02, mz + 0.02))\n",
    "\n",
    "    # some peaks are still unexplained\n",
    "    # for these, we calculate the difference to known mzs to see if a pattern emerges\n",
    "    lcms_peaks = con.get_lcms_peaks(identifier, with_assignment=True)\n",
    "    # ignore peaks that are already explained or that are insignificant\n",
    "    unexplained_peaks = lcms_peaks.loc[lcms_peaks.assignment.isna() & (lcms_peaks[\"%area\"] > 5)]\n",
    "    unexplained_mzs = unexplained_peaks.mz_max.to_numpy()\n",
    "    mzs_arr = np.array(list(mzs.values()))\n",
    "    # calculate the differences with all the considered masses\n",
    "    delta = pd.concat([unexplained_peaks[[\"experiment_id\", \"id\"]].reset_index(drop=True), pd.DataFrame(unexplained_mzs[:, None] - mzs_arr, columns=list(mzs.keys()))], axis=1)\n",
    "\n",
    "    # add \"H\" column if it does not exist\n",
    "    if \"H\" not in delta.columns:\n",
    "        delta[\"H\"] = np.nan\n",
    "    \n",
    "    with con.con:\n",
    "        # persist differences to DB\n",
    "        con.con.executemany(\"INSERT INTO lcms_peaks_differences (experiment_id, peak_id, delta_I, delta_M, delta_T, delta_Iacid, delta_bAA, delta_A, delta_B, delta_C, delta_D, delta_E, delta_F, delta_G, delta_H) VALUES (?, ?, ?, ?, ?, ?, ?, ?, ?, ?, ?, ?, ?, ?, ?);\",\n",
    "                           delta.to_numpy())\n",
    "    return delta"
   ],
   "metadata": {
    "collapsed": false,
    "ExecuteTime": {
     "end_time": "2023-06-16T12:22:13.363766Z",
     "start_time": "2023-06-16T12:22:13.321516Z"
    }
   }
  },
  {
   "cell_type": "code",
   "execution_count": 21,
   "outputs": [
    {
     "name": "stdout",
     "output_type": "stream",
     "text": [
      "exp 1-1, started 14:22:14\n",
      "exp 1-2, started 14:22:17\n",
      "exp 1-3, started 14:22:19\n",
      "exp 1-4, started 14:22:21\n",
      "exp 1-5, started 14:22:24\n",
      "exp 1-6, started 14:22:26\n",
      "exp 2-1, started 14:22:29\n",
      "exp 2-2, started 14:22:31\n",
      "exp 2-3, started 14:22:33\n",
      "exp 2-4, started 14:22:36\n",
      "exp 2-5, started 14:22:38\n",
      "exp 2-6, started 14:22:41\n",
      "exp 3-1, started 14:22:43\n",
      "exp 3-2, started 14:22:45\n",
      "exp 3-3, started 14:22:48\n",
      "exp 3-4, started 14:22:51\n",
      "exp 3-5, started 14:22:54\n",
      "exp 3-6, started 14:22:56\n",
      "exp 4-1, started 14:22:59\n",
      "exp 4-2, started 14:23:01\n",
      "exp 4-3, started 14:23:04\n",
      "exp 4-4, started 14:23:07\n",
      "exp 4-5, started 14:23:09\n",
      "exp 4-6, started 14:23:12\n",
      "exp 5-1, started 14:23:14\n",
      "exp 5-2, started 14:23:17\n",
      "exp 5-3, started 14:23:19\n",
      "exp 5-4, started 14:23:22\n",
      "exp 5-5, started 14:23:25\n",
      "exp 5-6, started 14:23:28\n",
      "exp 6-1, started 14:23:30\n",
      "exp 6-2, started 14:23:33\n",
      "exp 6-3, started 14:23:35\n",
      "exp 6-4, started 14:23:38\n",
      "exp 6-5, started 14:23:40\n",
      "exp 6-6, started 14:23:42\n",
      "exp 7-1, started 14:23:45\n",
      "exp 7-2, started 14:23:47\n",
      "exp 7-3, started 14:23:49\n",
      "exp 7-4, started 14:23:52\n",
      "exp 7-5, started 14:23:54\n",
      "exp 7-6, started 14:23:57\n",
      "exp 8-1, started 14:23:59\n",
      "exp 8-2, started 14:24:01\n",
      "exp 8-3, started 14:24:04\n",
      "exp 8-4, started 14:24:06\n",
      "exp 8-5, started 14:24:09\n",
      "exp 8-6, started 14:24:11\n",
      "exp 9-1, started 14:24:14\n",
      "exp 9-2, started 14:24:16\n",
      "exp 9-3, started 14:24:18\n",
      "exp 9-4, started 14:24:21\n",
      "exp 9-5, started 14:24:23\n",
      "exp 9-6, started 14:24:25\n",
      "exp 10-1, started 14:24:27\n",
      "exp 10-2, started 14:24:30\n",
      "exp 10-3, started 14:24:32\n",
      "exp 10-4, started 14:24:35\n",
      "exp 10-5, started 14:24:37\n",
      "exp 10-6, started 14:24:39\n",
      "exp 11-1, started 14:24:42\n",
      "exp 11-2, started 14:24:44\n",
      "exp 11-3, started 14:24:46\n",
      "exp 11-4, started 14:24:49\n",
      "exp 11-5, started 14:24:51\n",
      "exp 11-6, started 14:24:54\n",
      "exp 12-1, started 14:24:56\n",
      "exp 12-2, started 14:24:59\n",
      "exp 12-3, started 14:25:01\n",
      "exp 12-4, started 14:25:04\n",
      "exp 12-5, started 14:25:07\n",
      "exp 12-6, started 14:25:09\n",
      "exp 13-1, started 14:25:13\n",
      "exp 13-2, started 14:25:15\n",
      "exp 13-3, started 14:25:17\n",
      "exp 13-4, started 14:25:20\n",
      "exp 13-5, started 14:25:22\n",
      "exp 13-6, started 14:25:24\n",
      "exp 14-1, started 14:25:27\n",
      "exp 14-2, started 14:25:29\n",
      "exp 14-3, started 14:25:31\n",
      "exp 14-4, started 14:25:34\n",
      "exp 14-5, started 14:25:36\n",
      "exp 14-6, started 14:25:39\n",
      "exp 15-1, started 14:25:41\n",
      "exp 15-2, started 14:25:43\n",
      "exp 15-3, started 14:25:45\n",
      "exp 15-4, started 14:25:48\n",
      "exp 15-5, started 14:25:50\n",
      "exp 15-6, started 14:25:53\n",
      "exp 16-1, started 14:25:55\n",
      "exp 16-2, started 14:25:58\n",
      "exp 16-3, started 14:26:00\n",
      "exp 16-4, started 14:26:03\n",
      "exp 16-5, started 14:26:05\n",
      "exp 16-6, started 14:26:08\n",
      "exp 17-1, started 14:26:10\n",
      "exp 17-2, started 14:26:13\n",
      "exp 17-3, started 14:26:15\n",
      "exp 17-4, started 14:26:18\n",
      "exp 17-5, started 14:26:20\n",
      "exp 17-6, started 14:26:23\n",
      "exp 18-1, started 14:26:25\n",
      "exp 18-2, started 14:26:28\n",
      "exp 18-3, started 14:26:30\n",
      "exp 18-4, started 14:26:32\n",
      "exp 18-5, started 14:26:35\n",
      "exp 18-6, started 14:26:37\n",
      "exp 19-1, started 14:26:40\n",
      "exp 19-2, started 14:26:42\n",
      "exp 19-3, started 14:26:44\n",
      "exp 19-4, started 14:26:47\n",
      "exp 19-5, started 14:26:49\n",
      "exp 19-6, started 14:26:51\n",
      "exp 20-1, started 14:26:54\n",
      "exp 20-2, started 14:26:56\n",
      "exp 20-3, started 14:26:59\n",
      "exp 20-4, started 14:27:01\n",
      "exp 20-5, started 14:27:04\n",
      "exp 20-6, started 14:27:06\n",
      "exp 21-1, started 14:27:09\n",
      "exp 21-2, started 14:27:11\n",
      "exp 21-3, started 14:27:14\n",
      "exp 21-4, started 14:27:16\n",
      "exp 21-5, started 14:27:19\n",
      "exp 21-6, started 14:27:23\n",
      "exp 22-1, started 14:27:25\n",
      "exp 22-2, started 14:27:28\n",
      "exp 22-3, started 14:27:31\n",
      "exp 22-4, started 14:27:33\n",
      "exp 22-5, started 14:27:35\n",
      "exp 22-6, started 14:27:38\n",
      "exp 23-1, started 14:27:40\n",
      "exp 23-2, started 14:27:43\n",
      "exp 23-3, started 14:27:45\n",
      "exp 23-4, started 14:27:47\n",
      "exp 23-5, started 14:27:49\n",
      "exp 23-6, started 14:27:52\n",
      "exp 24-1, started 14:27:54\n",
      "exp 24-2, started 14:27:56\n",
      "exp 24-3, started 14:27:59\n",
      "exp 24-4, started 14:28:01\n",
      "exp 24-5, started 14:28:04\n",
      "exp 24-6, started 14:28:06\n",
      "exp 25-1, started 14:28:08\n",
      "exp 25-2, started 14:28:11\n",
      "exp 25-3, started 14:28:13\n",
      "exp 25-4, started 14:28:15\n",
      "exp 25-5, started 14:28:18\n",
      "exp 25-6, started 14:28:20\n",
      "exp 26-1, started 14:28:22\n",
      "exp 26-2, started 14:28:25\n",
      "exp 26-3, started 14:28:27\n",
      "exp 26-4, started 14:28:29\n",
      "exp 26-5, started 14:28:31\n",
      "exp 26-6, started 14:28:34\n",
      "exp 27-1, started 14:28:36\n",
      "exp 27-2, started 14:28:38\n",
      "exp 27-3, started 14:28:40\n",
      "exp 27-4, started 14:28:43\n",
      "exp 27-5, started 14:28:45\n",
      "exp 27-6, started 14:28:47\n",
      "exp 28-1, started 14:28:49\n",
      "exp 28-2, started 14:28:52\n",
      "exp 28-3, started 14:28:54\n",
      "exp 28-4, started 14:28:57\n",
      "exp 28-5, started 14:28:59\n",
      "exp 28-6, started 14:29:01\n",
      "exp 29-1, started 14:29:03\n",
      "exp 29-2, started 14:29:06\n",
      "exp 29-3, started 14:29:08\n",
      "exp 29-4, started 14:29:10\n",
      "exp 29-5, started 14:29:13\n",
      "exp 29-6, started 14:29:15\n"
     ]
    }
   ],
   "source": [
    "# we will record any files that cause exceptions for manual inspection\n",
    "records_with_exceptions = []\n",
    "# iterate over all experiments/plates\n",
    "for exp_nr in range(1, 30):\n",
    "    for plate_nr in range(1, 7):\n",
    "        # print progress indicator\n",
    "        now = datetime.now()\n",
    "        print(f\"exp {exp_nr}-{plate_nr}, started {now.strftime('%H:%M:%S')}\")\n",
    "\n",
    "        identifiers = con.get_reaction_ids_for_plate((exp_nr, plate_nr))\n",
    "        for i in identifiers:\n",
    "            try:\n",
    "                calculate_lcms_peak_differences(i)\n",
    "            except Exception as e:\n",
    "                records_with_exceptions.append(i)"
   ],
   "metadata": {
    "collapsed": false,
    "ExecuteTime": {
     "end_time": "2023-06-16T12:29:17.768537Z",
     "start_time": "2023-06-16T12:22:14.048030Z"
    }
   }
  },
  {
   "cell_type": "code",
   "execution_count": 30,
   "outputs": [
    {
     "data": {
      "text/plain": "55477"
     },
     "execution_count": 30,
     "metadata": {},
     "output_type": "execute_result"
    }
   ],
   "source": [
    "len(df[\"experiment_id\"].unique())"
   ],
   "metadata": {
    "collapsed": false,
    "ExecuteTime": {
     "end_time": "2023-06-16T12:45:11.475913Z",
     "start_time": "2023-06-16T12:45:11.441747Z"
    }
   }
  },
  {
   "cell_type": "markdown",
   "source": [
    "## Peak assignments - Find more contaminants"
   ],
   "metadata": {
    "collapsed": false
   }
  },
  {
   "cell_type": "code",
   "execution_count": 31,
   "id": "05dd3d15-f7b8-4aab-8260-88d0aa57e631",
   "metadata": {
    "tags": [],
    "ExecuteTime": {
     "end_time": "2023-06-16T13:12:59.422730Z",
     "start_time": "2023-06-16T13:12:50.358018Z"
    }
   },
   "outputs": [],
   "source": [
    "## get all peaks to identify common contaminants\n",
    "res = con.con.execute('SELECT lcms_peaks.id, lcms_peaks.experiment_id, lcms_peaks.peak_nr, retention_time_s, area, intensity, signal_to_noise, mz_max, fwhm_min, \"%area\", \"%intensity\", a.assignment FROM lcms_peaks LEFT JOIN lcms_peaks_assignment a on lcms_peaks.id = a.peak_id;',\n",
    "                ).fetchall()\n",
    "df = pd.DataFrame(\n",
    "    res,\n",
    "    columns=[\n",
    "       \"peak_id\",\n",
    "        \"reaction_id\",\n",
    "        \"peak_nr\",\n",
    "        \"retention_time_s\",\n",
    "        \"area\",\n",
    "        \"intensity\",\n",
    "        \"signal_to_noise\",\n",
    "        \"mz_max\",\n",
    "        \"fwhm_min\",\n",
    "        \"%area\",\n",
    "        \"%intensity\",\n",
    "        \"assignment\",\n",
    "    ]\n",
    ")"
   ]
  },
  {
   "cell_type": "code",
   "execution_count": 32,
   "id": "5e9bed33-bd8c-414a-98c1-92a48a90946f",
   "metadata": {
    "tags": [],
    "ExecuteTime": {
     "end_time": "2023-06-16T13:12:59.508028Z",
     "start_time": "2023-06-16T13:12:59.457549Z"
    }
   },
   "outputs": [
    {
     "data": {
      "text/plain": "100.11    194848\n128.11     78793\n111.04     70752\n99.53      61966\n84.08      54308\n           ...  \n553.83         1\n756.27         1\n766.21         1\n79.08          1\n253.75         1\nName: mz_max, Length: 27420, dtype: int64"
     },
     "execution_count": 32,
     "metadata": {},
     "output_type": "execute_result"
    }
   ],
   "source": [
    "df.loc[df.assignment.isna(), \"mz_max\"].round(2).value_counts()"
   ]
  },
  {
   "cell_type": "markdown",
   "id": "5d88d1a3-3d38-4e64-95d2-b00a902aae4d",
   "metadata": {
    "jp-MarkdownHeadingCollapsed": true,
    "tags": []
   },
   "source": [
    "#### m/z 128.11"
   ]
  },
  {
   "cell_type": "code",
   "execution_count": 33,
   "id": "cc5e5f04-bca7-4170-975e-b858ad1d86e8",
   "metadata": {
    "tags": [],
    "ExecuteTime": {
     "end_time": "2023-06-16T13:13:34.003477Z",
     "start_time": "2023-06-16T13:13:33.968102Z"
    }
   },
   "outputs": [
    {
     "data": {
      "text/plain": "count    78398.000000\nmean       128.106494\nstd          0.000541\nmin        128.105000\n25%        128.106200\n50%        128.106400\n75%        128.106700\nmax        128.109000\nName: mz_max, dtype: float64"
     },
     "execution_count": 33,
     "metadata": {},
     "output_type": "execute_result"
    }
   ],
   "source": [
    "# what mass exactly do we observe?\n",
    "df.loc[df[\"mz_max\"].between(128.105, 128.109), \"mz_max\"].describe()"
   ]
  },
  {
   "cell_type": "code",
   "execution_count": 34,
   "id": "33673c65-bef3-4321-98be-3a4856555227",
   "metadata": {
    "tags": [],
    "ExecuteTime": {
     "end_time": "2023-06-16T13:13:48.440690Z",
     "start_time": "2023-06-16T13:13:48.382019Z"
    }
   },
   "outputs": [
    {
     "data": {
      "text/plain": "count    78398.000000\nmean       202.097936\nstd         44.703646\nmin         44.000000\n25%        183.000000\n50%        185.000000\n75%        189.000000\nmax        388.000000\nName: retention_time_s, dtype: float64"
     },
     "execution_count": 34,
     "metadata": {},
     "output_type": "execute_result"
    }
   ],
   "source": [
    "# when does the 128.1064 peak occur?\n",
    "df.loc[df[\"mz_max\"].between(128.105, 128.109), \"retention_time_s\"].describe()"
   ]
  },
  {
   "cell_type": "markdown",
   "id": "92aa18a4-7414-4cfb-a3a9-f12c9fa895b7",
   "metadata": {},
   "source": [
    "An m/z of 128.1064 corrsponds to C7H13NO (calc m/z 128.1070)\n",
    "This could e.g. be 2-azacyclooctanone.\n",
    "\n",
    "The peak usually occurs after 184 seconds. We will assign anything with ±15s and ±0.002 m/z to this formula\n"
   ]
  },
  {
   "cell_type": "code",
   "execution_count": 35,
   "id": "4ac3f4d5-d149-4fb9-b710-0ae2511ead65",
   "metadata": {
    "tags": [],
    "ExecuteTime": {
     "end_time": "2023-06-16T13:13:52.735719Z",
     "start_time": "2023-06-16T13:13:52.538779Z"
    }
   },
   "outputs": [],
   "source": [
    "# assign\n",
    "peak_ids = df.loc[df[\"mz_max\"].between(128.105, 128.109) & df[\"retention_time_s\"].between(169, 199), \"peak_id\"].to_numpy()\n",
    "with con.con:\n",
    "    con.con.executemany('INSERT INTO lcms_peaks_assignment (peak_id, assignment) VALUES (?, \"common contaminant C7H13NO\");', peak_ids[:, None].tolist())"
   ]
  },
  {
   "cell_type": "code",
   "execution_count": 36,
   "id": "d808f7f5-2b33-4ead-a778-fa793876104b",
   "metadata": {
    "tags": [],
    "ExecuteTime": {
     "end_time": "2023-06-16T13:13:57.025926Z",
     "start_time": "2023-06-16T13:13:56.913170Z"
    }
   },
   "outputs": [
    {
     "data": {
      "text/plain": "         peak_id  reaction_id  peak_nr  retention_time_s   area  intensity  \\\n444          445        86392       50               302   1399       3947   \n485          486        86413       32               249   4175       2389   \n627          628        86201       13               201  29472      10757   \n657          658        86201       43               310    476       1841   \n659          660        86201       45               314   2394       1152   \n...          ...          ...      ...               ...    ...        ...   \n3116160  3116161        70085       41               268   1512       1794   \n3116402  3116403        70001       17               208   2132       1199   \n3117415  3117416        69925       18               200     32          2   \n3117549  3117550        69916       22               200     33          2   \n3118201  3118202        69938       16               217     43          2   \n\n         signal_to_noise    mz_max  fwhm_min     %area  %intensity assignment  \n444                  1.7  128.1064     0.013  0.053290        4.06       None  \n485                 21.6  128.1066     0.029  0.053340        0.13       None  \n627                135.0  128.1066     0.037  0.204459        0.24       None  \n657                 23.1  128.1065     0.004  0.003304        0.04       None  \n659                 15.5  128.1063     0.037  0.016613        0.03       None  \n...                  ...       ...       ...       ...         ...        ...  \n3116160             17.3  128.1077     0.017  0.006253        0.06       None  \n3116402             14.3  128.1060     0.022  0.009843        0.03       None  \n3117415            209.7  128.1065     0.061  0.000152        0.00       None  \n3117549            297.4  128.1064     0.141  0.000170        0.00       None  \n3118201            143.2  128.1065     0.053  0.000208        0.00       None  \n\n[16089 rows x 12 columns]",
      "text/html": "<div>\n<style scoped>\n    .dataframe tbody tr th:only-of-type {\n        vertical-align: middle;\n    }\n\n    .dataframe tbody tr th {\n        vertical-align: top;\n    }\n\n    .dataframe thead th {\n        text-align: right;\n    }\n</style>\n<table border=\"1\" class=\"dataframe\">\n  <thead>\n    <tr style=\"text-align: right;\">\n      <th></th>\n      <th>peak_id</th>\n      <th>reaction_id</th>\n      <th>peak_nr</th>\n      <th>retention_time_s</th>\n      <th>area</th>\n      <th>intensity</th>\n      <th>signal_to_noise</th>\n      <th>mz_max</th>\n      <th>fwhm_min</th>\n      <th>%area</th>\n      <th>%intensity</th>\n      <th>assignment</th>\n    </tr>\n  </thead>\n  <tbody>\n    <tr>\n      <th>444</th>\n      <td>445</td>\n      <td>86392</td>\n      <td>50</td>\n      <td>302</td>\n      <td>1399</td>\n      <td>3947</td>\n      <td>1.7</td>\n      <td>128.1064</td>\n      <td>0.013</td>\n      <td>0.053290</td>\n      <td>4.06</td>\n      <td>None</td>\n    </tr>\n    <tr>\n      <th>485</th>\n      <td>486</td>\n      <td>86413</td>\n      <td>32</td>\n      <td>249</td>\n      <td>4175</td>\n      <td>2389</td>\n      <td>21.6</td>\n      <td>128.1066</td>\n      <td>0.029</td>\n      <td>0.053340</td>\n      <td>0.13</td>\n      <td>None</td>\n    </tr>\n    <tr>\n      <th>627</th>\n      <td>628</td>\n      <td>86201</td>\n      <td>13</td>\n      <td>201</td>\n      <td>29472</td>\n      <td>10757</td>\n      <td>135.0</td>\n      <td>128.1066</td>\n      <td>0.037</td>\n      <td>0.204459</td>\n      <td>0.24</td>\n      <td>None</td>\n    </tr>\n    <tr>\n      <th>657</th>\n      <td>658</td>\n      <td>86201</td>\n      <td>43</td>\n      <td>310</td>\n      <td>476</td>\n      <td>1841</td>\n      <td>23.1</td>\n      <td>128.1065</td>\n      <td>0.004</td>\n      <td>0.003304</td>\n      <td>0.04</td>\n      <td>None</td>\n    </tr>\n    <tr>\n      <th>659</th>\n      <td>660</td>\n      <td>86201</td>\n      <td>45</td>\n      <td>314</td>\n      <td>2394</td>\n      <td>1152</td>\n      <td>15.5</td>\n      <td>128.1063</td>\n      <td>0.037</td>\n      <td>0.016613</td>\n      <td>0.03</td>\n      <td>None</td>\n    </tr>\n    <tr>\n      <th>...</th>\n      <td>...</td>\n      <td>...</td>\n      <td>...</td>\n      <td>...</td>\n      <td>...</td>\n      <td>...</td>\n      <td>...</td>\n      <td>...</td>\n      <td>...</td>\n      <td>...</td>\n      <td>...</td>\n      <td>...</td>\n    </tr>\n    <tr>\n      <th>3116160</th>\n      <td>3116161</td>\n      <td>70085</td>\n      <td>41</td>\n      <td>268</td>\n      <td>1512</td>\n      <td>1794</td>\n      <td>17.3</td>\n      <td>128.1077</td>\n      <td>0.017</td>\n      <td>0.006253</td>\n      <td>0.06</td>\n      <td>None</td>\n    </tr>\n    <tr>\n      <th>3116402</th>\n      <td>3116403</td>\n      <td>70001</td>\n      <td>17</td>\n      <td>208</td>\n      <td>2132</td>\n      <td>1199</td>\n      <td>14.3</td>\n      <td>128.1060</td>\n      <td>0.022</td>\n      <td>0.009843</td>\n      <td>0.03</td>\n      <td>None</td>\n    </tr>\n    <tr>\n      <th>3117415</th>\n      <td>3117416</td>\n      <td>69925</td>\n      <td>18</td>\n      <td>200</td>\n      <td>32</td>\n      <td>2</td>\n      <td>209.7</td>\n      <td>128.1065</td>\n      <td>0.061</td>\n      <td>0.000152</td>\n      <td>0.00</td>\n      <td>None</td>\n    </tr>\n    <tr>\n      <th>3117549</th>\n      <td>3117550</td>\n      <td>69916</td>\n      <td>22</td>\n      <td>200</td>\n      <td>33</td>\n      <td>2</td>\n      <td>297.4</td>\n      <td>128.1064</td>\n      <td>0.141</td>\n      <td>0.000170</td>\n      <td>0.00</td>\n      <td>None</td>\n    </tr>\n    <tr>\n      <th>3118201</th>\n      <td>3118202</td>\n      <td>69938</td>\n      <td>16</td>\n      <td>217</td>\n      <td>43</td>\n      <td>2</td>\n      <td>143.2</td>\n      <td>128.1065</td>\n      <td>0.053</td>\n      <td>0.000208</td>\n      <td>0.00</td>\n      <td>None</td>\n    </tr>\n  </tbody>\n</table>\n<p>16089 rows × 12 columns</p>\n</div>"
     },
     "execution_count": 36,
     "metadata": {},
     "output_type": "execute_result"
    }
   ],
   "source": [
    "# assign\n",
    "df.loc[df[\"mz_max\"].between(128.105, 128.109) & ~df[\"retention_time_s\"].between(169, 199)]"
   ]
  },
  {
   "cell_type": "markdown",
   "id": "f05c5e88-7bf1-45ee-a01b-deb02a6e740f",
   "metadata": {
    "jp-MarkdownHeadingCollapsed": true,
    "tags": []
   },
   "source": [
    "#### m/z 185.11"
   ]
  },
  {
   "cell_type": "code",
   "execution_count": 37,
   "id": "fd7fe6f9-73c2-425e-bbdb-2c83a5deabb0",
   "metadata": {
    "tags": [],
    "ExecuteTime": {
     "end_time": "2023-06-16T13:14:00.840663Z",
     "start_time": "2023-06-16T13:14:00.812561Z"
    }
   },
   "outputs": [
    {
     "data": {
      "text/plain": "count    53431.000000\nmean       185.114160\nstd          0.000348\nmin        185.106300\n25%        185.113900\n50%        185.114100\n75%        185.114400\nmax        185.118500\nName: mz_max, dtype: float64"
     },
     "execution_count": 37,
     "metadata": {},
     "output_type": "execute_result"
    }
   ],
   "source": [
    "# what mass exactly do we observe?\n",
    "df.loc[df[\"mz_max\"].between(185.10, 185.12), \"mz_max\"].describe()"
   ]
  },
  {
   "cell_type": "code",
   "execution_count": 38,
   "id": "3e15460f-52df-4b07-9cae-82e1f0540323",
   "metadata": {
    "tags": [],
    "ExecuteTime": {
     "end_time": "2023-06-16T13:14:01.591610Z",
     "start_time": "2023-06-16T13:14:01.565471Z"
    }
   },
   "outputs": [
    {
     "data": {
      "text/plain": "count    53303.000000\nmean       196.797460\nstd          4.850153\nmin         64.000000\n25%        193.000000\n50%        198.000000\n75%        200.000000\nmax        326.000000\nName: retention_time_s, dtype: float64"
     },
     "execution_count": 38,
     "metadata": {},
     "output_type": "execute_result"
    }
   ],
   "source": [
    "# when does the 185.1141 peak occur?\n",
    "df.loc[df[\"mz_max\"].between(185.1121, 185.1161), \"retention_time_s\"].describe()"
   ]
  },
  {
   "cell_type": "markdown",
   "id": "cb3d876f-735f-499f-9f7c-1b5879c3b7e8",
   "metadata": {},
   "source": [
    "An m/z of 185.1141 could correspond to C8H18O3Na+ (calc m/z 185.1148)\n",
    "This could e.g. be diethyl-diethyleneglycol (or other short PEG chains) which are common LCMS contaiminants\n",
    "\n",
    "The peak usually occurs after 198 seconds. We will assign anything with ±15s and ±0.002 m/z to this formula\n"
   ]
  },
  {
   "cell_type": "code",
   "execution_count": 39,
   "id": "9ced6871-92d6-43b0-b5e5-759f9c77ff06",
   "metadata": {
    "tags": [],
    "ExecuteTime": {
     "end_time": "2023-06-16T13:14:03.633659Z",
     "start_time": "2023-06-16T13:14:02.998788Z"
    }
   },
   "outputs": [],
   "source": [
    "# assign\n",
    "peak_ids = df.loc[df[\"mz_max\"].between(185.1128, 185.1168) & df[\"retention_time_s\"].between(183, 213), \"peak_id\"].to_numpy()\n",
    "with con.con:\n",
    "    con.con.executemany('INSERT INTO lcms_peaks_assignment (peak_id, assignment) VALUES (?, \"common PEG contaminant\");', peak_ids[:, None].tolist())"
   ]
  },
  {
   "cell_type": "markdown",
   "id": "289a81a0-c0a8-4e39-aaf9-637d9ea13d7b",
   "metadata": {
    "jp-MarkdownHeadingCollapsed": true,
    "tags": []
   },
   "source": [
    "#### m/z 239.09"
   ]
  },
  {
   "cell_type": "code",
   "execution_count": 40,
   "id": "30fa032e-e1d2-4598-a33f-646179fa9d09",
   "metadata": {
    "tags": [],
    "ExecuteTime": {
     "end_time": "2023-06-16T13:14:04.402023Z",
     "start_time": "2023-06-16T13:14:04.362383Z"
    }
   },
   "outputs": [
    {
     "data": {
      "text/plain": "count    37169.000000\nmean       239.088666\nstd          0.000433\nmin        239.080700\n25%        239.088400\n50%        239.088600\n75%        239.088900\nmax        239.099500\nName: mz_max, dtype: float64"
     },
     "execution_count": 40,
     "metadata": {},
     "output_type": "execute_result"
    }
   ],
   "source": [
    "# what mass exactly do we observe?\n",
    "df.loc[df[\"mz_max\"].between(239.08, 239.10), \"mz_max\"].describe()"
   ]
  },
  {
   "cell_type": "code",
   "execution_count": 41,
   "id": "bdacb3d4-ac69-4000-b8a6-d78b04405733",
   "metadata": {
    "tags": [],
    "ExecuteTime": {
     "end_time": "2023-06-16T13:14:05.054077Z",
     "start_time": "2023-06-16T13:14:04.998212Z"
    }
   },
   "outputs": [
    {
     "data": {
      "text/plain": "count    36976.000000\nmean       196.820532\nstd          3.800570\nmin         46.000000\n25%        196.000000\n50%        197.000000\n75%        198.000000\nmax        297.000000\nName: retention_time_s, dtype: float64"
     },
     "execution_count": 41,
     "metadata": {},
     "output_type": "execute_result"
    }
   ],
   "source": [
    "# when does the 239.0885 peak occur?\n",
    "df.loc[df[\"mz_max\"].between(239.0865, 239.0905), \"retention_time_s\"].describe()"
   ]
  },
  {
   "cell_type": "markdown",
   "id": "fbb2a855-2088-4de8-bffd-39dee7b55c2b",
   "metadata": {},
   "source": [
    "An m/z of 239.0885 could correspond to many different compounds.\n",
    "The peak usually occurs after 196 seconds. We will assign anything with ±15s and ±0.002 m/z to \"common contaminant\"\n"
   ]
  },
  {
   "cell_type": "code",
   "execution_count": 42,
   "id": "e3244c94-7526-4446-802a-91de62fd3546",
   "metadata": {
    "tags": [],
    "ExecuteTime": {
     "end_time": "2023-06-16T13:14:06.985807Z",
     "start_time": "2023-06-16T13:14:06.775421Z"
    }
   },
   "outputs": [],
   "source": [
    "# assign\n",
    "peak_ids = df.loc[df[\"mz_max\"].between(239.0865, 239.0905) & df[\"retention_time_s\"].between(181, 211), \"peak_id\"].to_numpy()\n",
    "with con.con:\n",
    "    con.con.executemany('INSERT INTO lcms_peaks_assignment (peak_id, assignment) VALUES (?, \"common contaminant\");', peak_ids[:, None].tolist())"
   ]
  },
  {
   "cell_type": "markdown",
   "id": "b97ec07e-29ed-4f58-a356-9a68038aeeb5",
   "metadata": {},
   "source": [
    "## Identify systematic mass differences\n",
    "Here's an idea how to go about identifying systematic mass differences:\n",
    "Identify those records, where a certain mass difference (e.g. delta_T) is within a narrow span, but which use different (relevant) building blocks, in the example different terminators.\n",
    "Rationale: If the observed m/z is dependent on terminator mass, the responsible species contains the terminator in some form."
   ]
  },
  {
   "cell_type": "code",
   "execution_count": 89,
   "outputs": [
    {
     "data": {
      "text/plain": "            id experiment_id peak_nr retention_time_s     area intensity  \\\n0       522635         10578      72              196   597544    103890   \n1       522719         10578     156              321   746204    245426   \n2       522750         10578     187              343  5609629   2104344   \n3       524124         10579      83              196   453060     88700   \n4       524156         10579     115              245   371927     72549   \n...        ...           ...     ...              ...      ...       ...   \n205656  401424         85521      28              267   444307    136591   \n205657  401428         85521      32              274   140629     47175   \n205658  401431         85521      35              293   124932     41486   \n205659  401434         85521      38              305   131011     48852   \n205660  401435         85521      39              326   128159     28325   \n\n        signal_to_noise    mz_max  fwhm_min     %area  ...   delta_bAA  \\\n0                  39.8  239.0890     0.048   9.17523  ...   20.950312   \n1                  95.3  342.1919     0.040  11.45789  ...  124.053212   \n2                 826.3  259.1262     0.041  86.13517  ...   40.987512   \n3                  44.1  239.0889     0.052   6.79321  ...   20.950212   \n4                  35.9  274.2743     0.088   5.57669  ...   56.135612   \n...                 ...       ...       ...       ...  ...         ...   \n205656             59.2  475.1570     0.043  25.84048  ...  291.080167   \n205657             20.2  473.1438     0.041   8.17887  ...  289.066967   \n205658             17.4  691.2559     0.043   7.26593  ...  507.179067   \n205659             20.3  711.2244     0.043   7.61949  ...  527.147567   \n205660             10.9  282.1698     0.070   7.45362  ...   98.092967   \n\n           delta_A     delta_B     delta_C     delta_D     delta_E  \\\n0      -259.072270 -305.077750 -287.067185  -59.951427  -52.006049   \n1      -155.969370 -201.974850 -183.964285   43.151473   51.096851   \n2      -239.035070 -285.040550 -267.029985  -39.914227  -31.968849   \n3      -223.047218 -269.052698 -251.042133  -23.926375   20.044155   \n4      -187.861818 -233.867298 -215.856733   11.259025   55.229555   \n...            ...         ...         ...         ...         ...   \n205656   55.998207    9.992728   28.003293  221.057200  198.074229   \n205657   53.985007    7.979528   25.990093  219.044000  196.061029   \n205658  272.097107  226.091628  244.102193  437.156100  414.173129   \n205659  292.065607  246.060128  264.070693  457.124600  434.141629   \n205660 -136.988993 -182.994472 -164.983907   28.070000    5.087029   \n\n           delta_F     delta_G     delta_H                  assignment  \n0      -145.031845 -117.036930 -104.058479          common contaminant  \n1       -41.928945  -13.934030   -0.955579                           M  \n2      -124.994645  -96.999730  -84.021279  T cyclohexanone condensate  \n3      -145.031945 -117.037030  -68.033427          common contaminant  \n4      -109.846545  -81.851630  -32.848027                        None  \n...            ...         ...         ...                         ...  \n205656  131.027734  159.022648  205.082271                        None  \n205657  129.014534  157.009448  203.069071                        None  \n205658  347.126634  375.121548  421.181171                        None  \n205659  367.095134  395.090048  441.149671                        None  \n205660  -61.959466  -33.964552   12.095071                        None  \n\n[118449 rows x 28 columns]",
      "text/html": "<div>\n<style scoped>\n    .dataframe tbody tr th:only-of-type {\n        vertical-align: middle;\n    }\n\n    .dataframe tbody tr th {\n        vertical-align: top;\n    }\n\n    .dataframe thead th {\n        text-align: right;\n    }\n</style>\n<table border=\"1\" class=\"dataframe\">\n  <thead>\n    <tr style=\"text-align: right;\">\n      <th></th>\n      <th>id</th>\n      <th>experiment_id</th>\n      <th>peak_nr</th>\n      <th>retention_time_s</th>\n      <th>area</th>\n      <th>intensity</th>\n      <th>signal_to_noise</th>\n      <th>mz_max</th>\n      <th>fwhm_min</th>\n      <th>%area</th>\n      <th>...</th>\n      <th>delta_bAA</th>\n      <th>delta_A</th>\n      <th>delta_B</th>\n      <th>delta_C</th>\n      <th>delta_D</th>\n      <th>delta_E</th>\n      <th>delta_F</th>\n      <th>delta_G</th>\n      <th>delta_H</th>\n      <th>assignment</th>\n    </tr>\n  </thead>\n  <tbody>\n    <tr>\n      <th>0</th>\n      <td>522635</td>\n      <td>10578</td>\n      <td>72</td>\n      <td>196</td>\n      <td>597544</td>\n      <td>103890</td>\n      <td>39.8</td>\n      <td>239.0890</td>\n      <td>0.048</td>\n      <td>9.17523</td>\n      <td>...</td>\n      <td>20.950312</td>\n      <td>-259.072270</td>\n      <td>-305.077750</td>\n      <td>-287.067185</td>\n      <td>-59.951427</td>\n      <td>-52.006049</td>\n      <td>-145.031845</td>\n      <td>-117.036930</td>\n      <td>-104.058479</td>\n      <td>common contaminant</td>\n    </tr>\n    <tr>\n      <th>1</th>\n      <td>522719</td>\n      <td>10578</td>\n      <td>156</td>\n      <td>321</td>\n      <td>746204</td>\n      <td>245426</td>\n      <td>95.3</td>\n      <td>342.1919</td>\n      <td>0.040</td>\n      <td>11.45789</td>\n      <td>...</td>\n      <td>124.053212</td>\n      <td>-155.969370</td>\n      <td>-201.974850</td>\n      <td>-183.964285</td>\n      <td>43.151473</td>\n      <td>51.096851</td>\n      <td>-41.928945</td>\n      <td>-13.934030</td>\n      <td>-0.955579</td>\n      <td>M</td>\n    </tr>\n    <tr>\n      <th>2</th>\n      <td>522750</td>\n      <td>10578</td>\n      <td>187</td>\n      <td>343</td>\n      <td>5609629</td>\n      <td>2104344</td>\n      <td>826.3</td>\n      <td>259.1262</td>\n      <td>0.041</td>\n      <td>86.13517</td>\n      <td>...</td>\n      <td>40.987512</td>\n      <td>-239.035070</td>\n      <td>-285.040550</td>\n      <td>-267.029985</td>\n      <td>-39.914227</td>\n      <td>-31.968849</td>\n      <td>-124.994645</td>\n      <td>-96.999730</td>\n      <td>-84.021279</td>\n      <td>T cyclohexanone condensate</td>\n    </tr>\n    <tr>\n      <th>3</th>\n      <td>524124</td>\n      <td>10579</td>\n      <td>83</td>\n      <td>196</td>\n      <td>453060</td>\n      <td>88700</td>\n      <td>44.1</td>\n      <td>239.0889</td>\n      <td>0.052</td>\n      <td>6.79321</td>\n      <td>...</td>\n      <td>20.950212</td>\n      <td>-223.047218</td>\n      <td>-269.052698</td>\n      <td>-251.042133</td>\n      <td>-23.926375</td>\n      <td>20.044155</td>\n      <td>-145.031945</td>\n      <td>-117.037030</td>\n      <td>-68.033427</td>\n      <td>common contaminant</td>\n    </tr>\n    <tr>\n      <th>4</th>\n      <td>524156</td>\n      <td>10579</td>\n      <td>115</td>\n      <td>245</td>\n      <td>371927</td>\n      <td>72549</td>\n      <td>35.9</td>\n      <td>274.2743</td>\n      <td>0.088</td>\n      <td>5.57669</td>\n      <td>...</td>\n      <td>56.135612</td>\n      <td>-187.861818</td>\n      <td>-233.867298</td>\n      <td>-215.856733</td>\n      <td>11.259025</td>\n      <td>55.229555</td>\n      <td>-109.846545</td>\n      <td>-81.851630</td>\n      <td>-32.848027</td>\n      <td>None</td>\n    </tr>\n    <tr>\n      <th>...</th>\n      <td>...</td>\n      <td>...</td>\n      <td>...</td>\n      <td>...</td>\n      <td>...</td>\n      <td>...</td>\n      <td>...</td>\n      <td>...</td>\n      <td>...</td>\n      <td>...</td>\n      <td>...</td>\n      <td>...</td>\n      <td>...</td>\n      <td>...</td>\n      <td>...</td>\n      <td>...</td>\n      <td>...</td>\n      <td>...</td>\n      <td>...</td>\n      <td>...</td>\n      <td>...</td>\n    </tr>\n    <tr>\n      <th>205656</th>\n      <td>401424</td>\n      <td>85521</td>\n      <td>28</td>\n      <td>267</td>\n      <td>444307</td>\n      <td>136591</td>\n      <td>59.2</td>\n      <td>475.1570</td>\n      <td>0.043</td>\n      <td>25.84048</td>\n      <td>...</td>\n      <td>291.080167</td>\n      <td>55.998207</td>\n      <td>9.992728</td>\n      <td>28.003293</td>\n      <td>221.057200</td>\n      <td>198.074229</td>\n      <td>131.027734</td>\n      <td>159.022648</td>\n      <td>205.082271</td>\n      <td>None</td>\n    </tr>\n    <tr>\n      <th>205657</th>\n      <td>401428</td>\n      <td>85521</td>\n      <td>32</td>\n      <td>274</td>\n      <td>140629</td>\n      <td>47175</td>\n      <td>20.2</td>\n      <td>473.1438</td>\n      <td>0.041</td>\n      <td>8.17887</td>\n      <td>...</td>\n      <td>289.066967</td>\n      <td>53.985007</td>\n      <td>7.979528</td>\n      <td>25.990093</td>\n      <td>219.044000</td>\n      <td>196.061029</td>\n      <td>129.014534</td>\n      <td>157.009448</td>\n      <td>203.069071</td>\n      <td>None</td>\n    </tr>\n    <tr>\n      <th>205658</th>\n      <td>401431</td>\n      <td>85521</td>\n      <td>35</td>\n      <td>293</td>\n      <td>124932</td>\n      <td>41486</td>\n      <td>17.4</td>\n      <td>691.2559</td>\n      <td>0.043</td>\n      <td>7.26593</td>\n      <td>...</td>\n      <td>507.179067</td>\n      <td>272.097107</td>\n      <td>226.091628</td>\n      <td>244.102193</td>\n      <td>437.156100</td>\n      <td>414.173129</td>\n      <td>347.126634</td>\n      <td>375.121548</td>\n      <td>421.181171</td>\n      <td>None</td>\n    </tr>\n    <tr>\n      <th>205659</th>\n      <td>401434</td>\n      <td>85521</td>\n      <td>38</td>\n      <td>305</td>\n      <td>131011</td>\n      <td>48852</td>\n      <td>20.3</td>\n      <td>711.2244</td>\n      <td>0.043</td>\n      <td>7.61949</td>\n      <td>...</td>\n      <td>527.147567</td>\n      <td>292.065607</td>\n      <td>246.060128</td>\n      <td>264.070693</td>\n      <td>457.124600</td>\n      <td>434.141629</td>\n      <td>367.095134</td>\n      <td>395.090048</td>\n      <td>441.149671</td>\n      <td>None</td>\n    </tr>\n    <tr>\n      <th>205660</th>\n      <td>401435</td>\n      <td>85521</td>\n      <td>39</td>\n      <td>326</td>\n      <td>128159</td>\n      <td>28325</td>\n      <td>10.9</td>\n      <td>282.1698</td>\n      <td>0.070</td>\n      <td>7.45362</td>\n      <td>...</td>\n      <td>98.092967</td>\n      <td>-136.988993</td>\n      <td>-182.994472</td>\n      <td>-164.983907</td>\n      <td>28.070000</td>\n      <td>5.087029</td>\n      <td>-61.959466</td>\n      <td>-33.964552</td>\n      <td>12.095071</td>\n      <td>None</td>\n    </tr>\n  </tbody>\n</table>\n<p>118449 rows × 28 columns</p>\n</div>"
     },
     "execution_count": 89,
     "metadata": {},
     "output_type": "execute_result"
    }
   ],
   "source": [
    "reaction_ids = con.get_reaction_ids_for_building_block(filter_exp_nr=(4, 29))\n",
    "df = pd.concat([con.get_lcms_peaks(i, with_delta=True, with_assignment=True, with_building_blocks=True) for i in reaction_ids]).reset_index(drop=True)\n",
    "# filter a bit: only those with a retention time > 3 min (180 s), and only with an m/z over 200\n",
    "df = df.loc[(df[\"retention_time_s\"] > 180) & (df[\"mz_max\"] > 200)]\n",
    "df"
   ],
   "metadata": {
    "collapsed": false,
    "ExecuteTime": {
     "end_time": "2023-07-03T09:41:17.934901Z",
     "start_time": "2023-07-03T09:40:43.794292Z"
    }
   }
  },
  {
   "cell_type": "code",
   "execution_count": 90,
   "outputs": [
    {
     "data": {
      "text/plain": "delta_T\n-92.04         [T26]\n-91.91         [T26]\n-91.50         [T26]\n-90.93         [T26]\n-90.07         [T26]\n             ...    \n 803.27    [T21, T2]\n 804.26        [T39]\n 807.24        [T18]\n 821.26         [T1]\n 841.22         [T1]\nName: terminator, Length: 8984, dtype: object"
     },
     "execution_count": 90,
     "metadata": {},
     "output_type": "execute_result"
    }
   ],
   "source": [
    "# get unique differences\n",
    "t_diff = df.round(2).groupby(\"delta_T\")[\"terminator\"].unique()\n",
    "t_diff"
   ],
   "metadata": {
    "collapsed": false,
    "ExecuteTime": {
     "end_time": "2023-07-03T09:41:18.248659Z",
     "start_time": "2023-07-03T09:41:17.929602Z"
    }
   }
  },
  {
   "cell_type": "code",
   "execution_count": 91,
   "outputs": [
    {
     "data": {
      "text/plain": "delta_T\n80.06     [T25, T34, T18, T22, T36, T1, T39, T28, T32, T...\n101.03    [T20, T31, T32, T25, T22, T36, T17, T1, T37, T...\n103.01    [T18, T12, T2, T23, T11, T29, T19, T33, T5, T2...\n110.02    [T25, T39, T34, T17, T36, T18, T22, T1, T23, T...\n153.02    [T25, T36, T1, T8, T18, T22, T7, T3, T40, T12,...\n166.92    [T31, T40, T20, T7, T3, T34, T39, T17, T36, T1...\n173.05    [T27, T41, T9, T37, T10, T14, T35, T12, T2, T1...\nName: terminator, dtype: object"
     },
     "execution_count": 91,
     "metadata": {},
     "output_type": "execute_result"
    }
   ],
   "source": [
    "t_diff.loc[t_diff.apply(lambda x: len(x) > 20)]"
   ],
   "metadata": {
    "collapsed": false,
    "ExecuteTime": {
     "end_time": "2023-07-03T09:41:18.256122Z",
     "start_time": "2023-07-03T09:41:18.246711Z"
    }
   }
  },
  {
   "cell_type": "markdown",
   "source": [
    "#### <sup>81</sup>Br isotope"
   ],
   "metadata": {
    "collapsed": false
   }
  },
  {
   "cell_type": "code",
   "execution_count": 92,
   "outputs": [
    {
     "data": {
      "text/plain": "            id experiment_id peak_nr retention_time_s     area intensity  \\\n6397    435466         13160      42              344   681948    277515   \n6398    435468         13160      44              344   895042    284261   \n6403    452354         13161      48              274   417192    112765   \n6404    452355         13161      49              274   398529    116612   \n6408    443039         13162      55              335   403455    172618   \n...        ...           ...     ...              ...      ...       ...   \n203114  379448         84915      51              371   414345    142573   \n203125  376386         84917      45              343   825214    330219   \n203126  376387         84917      46              343  1073677    340251   \n204428  393234         85237      48              344   662514    261112   \n204429  393235         85237      49              344   828124    266902   \n\n        signal_to_noise    mz_max  fwhm_min     %area  ...   delta_bAA  \\\n6397              108.0  349.9781     0.043  21.03909  ...  219.891842   \n6398             3795.0  349.9781     0.046  27.61334  ...  219.891842   \n6403             1181.0  360.9690     0.053   6.36450  ...  230.882742   \n6404               48.7  360.9689     0.053   6.07978  ...  230.882642   \n6408               56.5  325.9238     0.042   5.99284  ...  195.837542   \n...                 ...       ...       ...       ...  ...         ...   \n203114           2415.8  387.9546     0.044   6.21591  ...  114.810102   \n203125            124.2  349.9777     0.044  11.96499  ...   76.833202   \n203126           2920.8  349.9778     0.046  15.56751  ...   76.833302   \n204428             74.3  349.9777     0.044   9.35856  ...  165.900867   \n204429           2841.9  349.9777     0.047  11.69795  ...  165.900867   \n\n           delta_A     delta_B     delta_C   delta_D    delta_E     delta_F  \\\n6397   -109.070389 -155.075868 -137.065304  1.998025  50.893221    8.964951   \n6398   -109.070389 -155.075868 -137.065304  1.998025  50.893221    8.964951   \n6403   -109.070321 -155.075801 -137.065236  1.998093  39.902457   19.955851   \n6404   -109.070421 -155.075901 -137.065336  1.997993  39.902357   19.955751   \n6408   -109.070545 -155.076025 -137.065460  1.997869  74.947209  -15.089349   \n...            ...         ...         ...       ...        ...         ...   \n203114 -252.128952 -298.134431 -280.123867  1.997705  12.916081  -96.116792   \n203125 -252.129032 -298.134511 -280.123947  1.997625  50.892821 -134.093692   \n203126 -252.128932 -298.134411 -280.123847  1.997725  50.892921 -134.093592   \n204428 -163.061367 -209.066846 -191.056282  1.997625  50.892821  -45.026027   \n204429 -163.061367 -209.066846 -191.056282  1.997625  50.892821  -45.026027   \n\n           delta_G    delta_H  assignment  \n6397     36.959866  90.888136      D 81Br  \n6398     36.959866  90.888136      D 81Br  \n6403     47.950766  90.888204      D 81Br  \n6404     47.950666  90.888104      D 81Br  \n6408     12.905566   90.88798      D 81Br  \n...            ...        ...         ...  \n203114  -68.121878 -52.170427      D 81Br  \n203125 -106.098778 -52.170507      D 81Br  \n203126 -106.098678 -52.170407      D 81Br  \n204428  -17.031113  36.897158      D 81Br  \n204429  -17.031113  36.897158      D 81Br  \n\n[181 rows x 28 columns]",
      "text/html": "<div>\n<style scoped>\n    .dataframe tbody tr th:only-of-type {\n        vertical-align: middle;\n    }\n\n    .dataframe tbody tr th {\n        vertical-align: top;\n    }\n\n    .dataframe thead th {\n        text-align: right;\n    }\n</style>\n<table border=\"1\" class=\"dataframe\">\n  <thead>\n    <tr style=\"text-align: right;\">\n      <th></th>\n      <th>id</th>\n      <th>experiment_id</th>\n      <th>peak_nr</th>\n      <th>retention_time_s</th>\n      <th>area</th>\n      <th>intensity</th>\n      <th>signal_to_noise</th>\n      <th>mz_max</th>\n      <th>fwhm_min</th>\n      <th>%area</th>\n      <th>...</th>\n      <th>delta_bAA</th>\n      <th>delta_A</th>\n      <th>delta_B</th>\n      <th>delta_C</th>\n      <th>delta_D</th>\n      <th>delta_E</th>\n      <th>delta_F</th>\n      <th>delta_G</th>\n      <th>delta_H</th>\n      <th>assignment</th>\n    </tr>\n  </thead>\n  <tbody>\n    <tr>\n      <th>6397</th>\n      <td>435466</td>\n      <td>13160</td>\n      <td>42</td>\n      <td>344</td>\n      <td>681948</td>\n      <td>277515</td>\n      <td>108.0</td>\n      <td>349.9781</td>\n      <td>0.043</td>\n      <td>21.03909</td>\n      <td>...</td>\n      <td>219.891842</td>\n      <td>-109.070389</td>\n      <td>-155.075868</td>\n      <td>-137.065304</td>\n      <td>1.998025</td>\n      <td>50.893221</td>\n      <td>8.964951</td>\n      <td>36.959866</td>\n      <td>90.888136</td>\n      <td>D 81Br</td>\n    </tr>\n    <tr>\n      <th>6398</th>\n      <td>435468</td>\n      <td>13160</td>\n      <td>44</td>\n      <td>344</td>\n      <td>895042</td>\n      <td>284261</td>\n      <td>3795.0</td>\n      <td>349.9781</td>\n      <td>0.046</td>\n      <td>27.61334</td>\n      <td>...</td>\n      <td>219.891842</td>\n      <td>-109.070389</td>\n      <td>-155.075868</td>\n      <td>-137.065304</td>\n      <td>1.998025</td>\n      <td>50.893221</td>\n      <td>8.964951</td>\n      <td>36.959866</td>\n      <td>90.888136</td>\n      <td>D 81Br</td>\n    </tr>\n    <tr>\n      <th>6403</th>\n      <td>452354</td>\n      <td>13161</td>\n      <td>48</td>\n      <td>274</td>\n      <td>417192</td>\n      <td>112765</td>\n      <td>1181.0</td>\n      <td>360.9690</td>\n      <td>0.053</td>\n      <td>6.36450</td>\n      <td>...</td>\n      <td>230.882742</td>\n      <td>-109.070321</td>\n      <td>-155.075801</td>\n      <td>-137.065236</td>\n      <td>1.998093</td>\n      <td>39.902457</td>\n      <td>19.955851</td>\n      <td>47.950766</td>\n      <td>90.888204</td>\n      <td>D 81Br</td>\n    </tr>\n    <tr>\n      <th>6404</th>\n      <td>452355</td>\n      <td>13161</td>\n      <td>49</td>\n      <td>274</td>\n      <td>398529</td>\n      <td>116612</td>\n      <td>48.7</td>\n      <td>360.9689</td>\n      <td>0.053</td>\n      <td>6.07978</td>\n      <td>...</td>\n      <td>230.882642</td>\n      <td>-109.070421</td>\n      <td>-155.075901</td>\n      <td>-137.065336</td>\n      <td>1.997993</td>\n      <td>39.902357</td>\n      <td>19.955751</td>\n      <td>47.950666</td>\n      <td>90.888104</td>\n      <td>D 81Br</td>\n    </tr>\n    <tr>\n      <th>6408</th>\n      <td>443039</td>\n      <td>13162</td>\n      <td>55</td>\n      <td>335</td>\n      <td>403455</td>\n      <td>172618</td>\n      <td>56.5</td>\n      <td>325.9238</td>\n      <td>0.042</td>\n      <td>5.99284</td>\n      <td>...</td>\n      <td>195.837542</td>\n      <td>-109.070545</td>\n      <td>-155.076025</td>\n      <td>-137.065460</td>\n      <td>1.997869</td>\n      <td>74.947209</td>\n      <td>-15.089349</td>\n      <td>12.905566</td>\n      <td>90.88798</td>\n      <td>D 81Br</td>\n    </tr>\n    <tr>\n      <th>...</th>\n      <td>...</td>\n      <td>...</td>\n      <td>...</td>\n      <td>...</td>\n      <td>...</td>\n      <td>...</td>\n      <td>...</td>\n      <td>...</td>\n      <td>...</td>\n      <td>...</td>\n      <td>...</td>\n      <td>...</td>\n      <td>...</td>\n      <td>...</td>\n      <td>...</td>\n      <td>...</td>\n      <td>...</td>\n      <td>...</td>\n      <td>...</td>\n      <td>...</td>\n      <td>...</td>\n    </tr>\n    <tr>\n      <th>203114</th>\n      <td>379448</td>\n      <td>84915</td>\n      <td>51</td>\n      <td>371</td>\n      <td>414345</td>\n      <td>142573</td>\n      <td>2415.8</td>\n      <td>387.9546</td>\n      <td>0.044</td>\n      <td>6.21591</td>\n      <td>...</td>\n      <td>114.810102</td>\n      <td>-252.128952</td>\n      <td>-298.134431</td>\n      <td>-280.123867</td>\n      <td>1.997705</td>\n      <td>12.916081</td>\n      <td>-96.116792</td>\n      <td>-68.121878</td>\n      <td>-52.170427</td>\n      <td>D 81Br</td>\n    </tr>\n    <tr>\n      <th>203125</th>\n      <td>376386</td>\n      <td>84917</td>\n      <td>45</td>\n      <td>343</td>\n      <td>825214</td>\n      <td>330219</td>\n      <td>124.2</td>\n      <td>349.9777</td>\n      <td>0.044</td>\n      <td>11.96499</td>\n      <td>...</td>\n      <td>76.833202</td>\n      <td>-252.129032</td>\n      <td>-298.134511</td>\n      <td>-280.123947</td>\n      <td>1.997625</td>\n      <td>50.892821</td>\n      <td>-134.093692</td>\n      <td>-106.098778</td>\n      <td>-52.170507</td>\n      <td>D 81Br</td>\n    </tr>\n    <tr>\n      <th>203126</th>\n      <td>376387</td>\n      <td>84917</td>\n      <td>46</td>\n      <td>343</td>\n      <td>1073677</td>\n      <td>340251</td>\n      <td>2920.8</td>\n      <td>349.9778</td>\n      <td>0.046</td>\n      <td>15.56751</td>\n      <td>...</td>\n      <td>76.833302</td>\n      <td>-252.128932</td>\n      <td>-298.134411</td>\n      <td>-280.123847</td>\n      <td>1.997725</td>\n      <td>50.892921</td>\n      <td>-134.093592</td>\n      <td>-106.098678</td>\n      <td>-52.170407</td>\n      <td>D 81Br</td>\n    </tr>\n    <tr>\n      <th>204428</th>\n      <td>393234</td>\n      <td>85237</td>\n      <td>48</td>\n      <td>344</td>\n      <td>662514</td>\n      <td>261112</td>\n      <td>74.3</td>\n      <td>349.9777</td>\n      <td>0.044</td>\n      <td>9.35856</td>\n      <td>...</td>\n      <td>165.900867</td>\n      <td>-163.061367</td>\n      <td>-209.066846</td>\n      <td>-191.056282</td>\n      <td>1.997625</td>\n      <td>50.892821</td>\n      <td>-45.026027</td>\n      <td>-17.031113</td>\n      <td>36.897158</td>\n      <td>D 81Br</td>\n    </tr>\n    <tr>\n      <th>204429</th>\n      <td>393235</td>\n      <td>85237</td>\n      <td>49</td>\n      <td>344</td>\n      <td>828124</td>\n      <td>266902</td>\n      <td>2841.9</td>\n      <td>349.9777</td>\n      <td>0.047</td>\n      <td>11.69795</td>\n      <td>...</td>\n      <td>165.900867</td>\n      <td>-163.061367</td>\n      <td>-209.066846</td>\n      <td>-191.056282</td>\n      <td>1.997625</td>\n      <td>50.892821</td>\n      <td>-45.026027</td>\n      <td>-17.031113</td>\n      <td>36.897158</td>\n      <td>D 81Br</td>\n    </tr>\n  </tbody>\n</table>\n<p>181 rows × 28 columns</p>\n</div>"
     },
     "execution_count": 92,
     "metadata": {},
     "output_type": "execute_result"
    }
   ],
   "source": [
    "df.loc[df[\"delta_T\"].between(166.915, 166.925)]"
   ],
   "metadata": {
    "collapsed": false,
    "ExecuteTime": {
     "end_time": "2023-07-03T09:41:18.312318Z",
     "start_time": "2023-07-03T09:41:18.256412Z"
    }
   }
  },
  {
   "cell_type": "markdown",
   "source": [
    "These are actually all caused by bromine isotope 81Br. The mass difference to 79Br is 1.9979535, which coincides with delta_T."
   ],
   "metadata": {
    "collapsed": false
   }
  },
  {
   "cell_type": "code",
   "execution_count": 93,
   "outputs": [],
   "source": [
    "delta_br_isotopes = (1.9959, 1.9999)"
   ],
   "metadata": {
    "collapsed": false,
    "ExecuteTime": {
     "end_time": "2023-07-03T09:41:18.312592Z",
     "start_time": "2023-07-03T09:41:18.270813Z"
    }
   }
  },
  {
   "cell_type": "code",
   "execution_count": 94,
   "outputs": [
    {
     "data": {
      "text/plain": "['I4', 'I11', 'I23', 'I53', 'I68', 'I78', 'M7', 'T5', 'T15', 'I53']"
     },
     "execution_count": 94,
     "metadata": {},
     "output_type": "execute_result"
    }
   ],
   "source": [
    "# obtain a list of building blocks that contain bromine\n",
    "building_blocks = [x[0] for x in con.con.execute(\"SELECT short FROM building_block_shorts;\").fetchall()]\n",
    "has_bromine = [\"Br\" in con.get_smiles(bb) for bb in building_blocks]\n",
    "building_blocks_with_bromine = [x[0] for x in zip(building_blocks, has_bromine) if x[1]]\n",
    "building_blocks_with_bromine"
   ],
   "metadata": {
    "collapsed": false,
    "ExecuteTime": {
     "end_time": "2023-07-03T09:41:18.313663Z",
     "start_time": "2023-07-03T09:41:18.274614Z"
    }
   }
  },
  {
   "cell_type": "code",
   "execution_count": 95,
   "outputs": [],
   "source": [
    "# select based on the isotope mass difference, but only if the relevant building blocks actually contain bromine\n",
    "peaks_br_d = df.loc[df[\"delta_D\"].between(*delta_br_isotopes) & (df[\"initiator\"].isin(building_blocks_with_bromine) | df[\"terminator\"].isin(building_blocks_with_bromine)), \"id\"].to_numpy()\n",
    "with con.con:\n",
    "    con.con.executemany(\"INSERT INTO lcms_peaks_assignment (peak_id, assignment) VALUES (?, 'D 81Br');\", peaks_br_d[:, None].tolist())"
   ],
   "metadata": {
    "collapsed": false,
    "ExecuteTime": {
     "end_time": "2023-07-03T09:41:18.410552Z",
     "start_time": "2023-07-03T09:41:18.288702Z"
    }
   }
  },
  {
   "cell_type": "markdown",
   "source": [
    "Now obviously, the same problem may occur for other products, so we check the other differences as well"
   ],
   "metadata": {
    "collapsed": false
   }
  },
  {
   "cell_type": "code",
   "execution_count": 96,
   "outputs": [
    {
     "name": "stdout",
     "output_type": "stream",
     "text": [
      "A: 41\n",
      "B: 40\n",
      "C: 0\n",
      "D: 585\n",
      "E: 215\n",
      "F: 46\n",
      "G: 5\n",
      "H: 0\n"
     ]
    }
   ],
   "source": [
    "# select based on the isotope mass difference, but only if the relevant building blocks actually contain bromine\n",
    "peaks_br_a = df.loc[df[\"delta_A\"].between(1.9976, 1.9982) & (df[\"initiator\"].isin(building_blocks_with_bromine) | df[\"monomer\"].isin(building_blocks_with_bromine) | df[\"terminator\"].isin(building_blocks_with_bromine)), \"id\"].to_numpy()\n",
    "peaks_br_b = df.loc[df[\"delta_B\"].between(1.9976, 1.9982) & (df[\"initiator\"].isin(building_blocks_with_bromine) | df[\"monomer\"].isin(building_blocks_with_bromine) | df[\"terminator\"].isin(building_blocks_with_bromine)), \"id\"].to_numpy()\n",
    "peaks_br_c = df.loc[df[\"delta_C\"].between(1.9976, 1.9982) & (df[\"initiator\"].isin(building_blocks_with_bromine) | df[\"monomer\"].isin(building_blocks_with_bromine) | df[\"terminator\"].isin(building_blocks_with_bromine)), \"id\"].to_numpy()\n",
    "peaks_br_e = df.loc[df[\"delta_E\"].between(1.9976, 1.9982) & df[\"terminator\"].isin(building_blocks_with_bromine), \"id\"].to_numpy()\n",
    "peaks_br_f = df.loc[df[\"delta_F\"].between(1.9976, 1.9982) & (df[\"initiator\"].isin(building_blocks_with_bromine) | df[\"monomer\"].isin(building_blocks_with_bromine)), \"id\"].to_numpy()\n",
    "peaks_br_g = df.loc[df[\"delta_G\"].between(1.9976, 1.9982) & (df[\"initiator\"].isin(building_blocks_with_bromine) | df[\"monomer\"].isin(building_blocks_with_bromine)), \"id\"].to_numpy()\n",
    "peaks_br_h = df.loc[df[\"delta_H\"].between(1.9976, 1.9982) & (df[\"monomer\"].isin(building_blocks_with_bromine) | df[\"terminator\"].isin(building_blocks_with_bromine)), \"id\"].to_numpy()\n",
    "\n",
    "# check how many we found\n",
    "for s, i in zip(\"ABCDEFGH\", [peaks_br_a, peaks_br_b, peaks_br_c, peaks_br_d, peaks_br_e, peaks_br_f, peaks_br_g, peaks_br_h]):\n",
    "    print(f\"{s}: {len(i)}\")"
   ],
   "metadata": {
    "collapsed": false,
    "ExecuteTime": {
     "end_time": "2023-07-03T09:41:22.337949Z",
     "start_time": "2023-07-03T09:41:22.206960Z"
    }
   }
  },
  {
   "cell_type": "code",
   "execution_count": 97,
   "outputs": [],
   "source": [
    "# commit to DB\n",
    "with con.con:\n",
    "    for s, i in zip(\"ABCEFGH\", [peaks_br_a, peaks_br_b, peaks_br_c, peaks_br_e, peaks_br_f, peaks_br_g, peaks_br_h]):\n",
    "        assignment = [f\"{s} 81Br\" for _ in range(len(i))]\n",
    "        con.con.executemany(\"INSERT INTO lcms_peaks_assignment (peak_id, assignment) VALUES (?, ?);\", tuple(zip(i.tolist(), assignment)))"
   ],
   "metadata": {
    "collapsed": false,
    "ExecuteTime": {
     "end_time": "2023-07-03T09:41:25.501132Z",
     "start_time": "2023-07-03T09:41:25.401415Z"
    }
   }
  },
  {
   "cell_type": "code",
   "execution_count": 98,
   "outputs": [
    {
     "data": {
      "text/plain": "                                                    experiment_id\nassignment                                                       \nA                                                           22943\nA 81Br                                                         25\nA hydroxyquinone lost oxygen substituent                       36\nB                                                           14541\nB 81Br                                                         25\nB hydroxyquinone lost oxygen substituent                       61\nC                                                            3630\nD                                                           25151\nD 81Br                                                        340\nD hydroxyquinone lost oxygen substituent                      202\nDMSO                                                        54892\nE                                                           27215\nE 81Br                                                        196\nF                                                           30292\nF (-tert-butyl fragmentation in MS for Boc or t...            866\nF 81Br                                                         30\nF hydroxyquinone lost oxygen substituent                       11\nG                                                           13861\nG 81Br                                                          4\nG hydroxyquinone lost oxygen substituent                        2\nG_decarboxylated                                              648\nH                                                            5662\nI                                                             582\nIS fenofibrate                                              54206\nI_acid                                                       7822\nM                                                           17350\nM (Boc->carbamic acid fragmentation in MS)                   1331\nM - H4O2                                                     1016\nM_bAA                                                       11527\nT                                                            3501\nT cyclohexanone condensate                                  14287\ncommon PEG contaminant                                      31608\ncommon contaminant                                          30199\ncommon contaminant C7H13NO                                  45148\nlock mass tetramethylpiperidine                              4572",
      "text/html": "<div>\n<style scoped>\n    .dataframe tbody tr th:only-of-type {\n        vertical-align: middle;\n    }\n\n    .dataframe tbody tr th {\n        vertical-align: top;\n    }\n\n    .dataframe thead th {\n        text-align: right;\n    }\n</style>\n<table border=\"1\" class=\"dataframe\">\n  <thead>\n    <tr style=\"text-align: right;\">\n      <th></th>\n      <th>experiment_id</th>\n    </tr>\n    <tr>\n      <th>assignment</th>\n      <th></th>\n    </tr>\n  </thead>\n  <tbody>\n    <tr>\n      <th>A</th>\n      <td>22943</td>\n    </tr>\n    <tr>\n      <th>A 81Br</th>\n      <td>25</td>\n    </tr>\n    <tr>\n      <th>A hydroxyquinone lost oxygen substituent</th>\n      <td>36</td>\n    </tr>\n    <tr>\n      <th>B</th>\n      <td>14541</td>\n    </tr>\n    <tr>\n      <th>B 81Br</th>\n      <td>25</td>\n    </tr>\n    <tr>\n      <th>B hydroxyquinone lost oxygen substituent</th>\n      <td>61</td>\n    </tr>\n    <tr>\n      <th>C</th>\n      <td>3630</td>\n    </tr>\n    <tr>\n      <th>D</th>\n      <td>25151</td>\n    </tr>\n    <tr>\n      <th>D 81Br</th>\n      <td>340</td>\n    </tr>\n    <tr>\n      <th>D hydroxyquinone lost oxygen substituent</th>\n      <td>202</td>\n    </tr>\n    <tr>\n      <th>DMSO</th>\n      <td>54892</td>\n    </tr>\n    <tr>\n      <th>E</th>\n      <td>27215</td>\n    </tr>\n    <tr>\n      <th>E 81Br</th>\n      <td>196</td>\n    </tr>\n    <tr>\n      <th>F</th>\n      <td>30292</td>\n    </tr>\n    <tr>\n      <th>F (-tert-butyl fragmentation in MS for Boc or tert-butyl ester)</th>\n      <td>866</td>\n    </tr>\n    <tr>\n      <th>F 81Br</th>\n      <td>30</td>\n    </tr>\n    <tr>\n      <th>F hydroxyquinone lost oxygen substituent</th>\n      <td>11</td>\n    </tr>\n    <tr>\n      <th>G</th>\n      <td>13861</td>\n    </tr>\n    <tr>\n      <th>G 81Br</th>\n      <td>4</td>\n    </tr>\n    <tr>\n      <th>G hydroxyquinone lost oxygen substituent</th>\n      <td>2</td>\n    </tr>\n    <tr>\n      <th>G_decarboxylated</th>\n      <td>648</td>\n    </tr>\n    <tr>\n      <th>H</th>\n      <td>5662</td>\n    </tr>\n    <tr>\n      <th>I</th>\n      <td>582</td>\n    </tr>\n    <tr>\n      <th>IS fenofibrate</th>\n      <td>54206</td>\n    </tr>\n    <tr>\n      <th>I_acid</th>\n      <td>7822</td>\n    </tr>\n    <tr>\n      <th>M</th>\n      <td>17350</td>\n    </tr>\n    <tr>\n      <th>M (Boc-&gt;carbamic acid fragmentation in MS)</th>\n      <td>1331</td>\n    </tr>\n    <tr>\n      <th>M - H4O2</th>\n      <td>1016</td>\n    </tr>\n    <tr>\n      <th>M_bAA</th>\n      <td>11527</td>\n    </tr>\n    <tr>\n      <th>T</th>\n      <td>3501</td>\n    </tr>\n    <tr>\n      <th>T cyclohexanone condensate</th>\n      <td>14287</td>\n    </tr>\n    <tr>\n      <th>common PEG contaminant</th>\n      <td>31608</td>\n    </tr>\n    <tr>\n      <th>common contaminant</th>\n      <td>30199</td>\n    </tr>\n    <tr>\n      <th>common contaminant C7H13NO</th>\n      <td>45148</td>\n    </tr>\n    <tr>\n      <th>lock mass tetramethylpiperidine</th>\n      <td>4572</td>\n    </tr>\n  </tbody>\n</table>\n</div>"
     },
     "execution_count": 98,
     "metadata": {},
     "output_type": "execute_result"
    }
   ],
   "source": [
    "count_assigned_peaks()"
   ],
   "metadata": {
    "collapsed": false,
    "ExecuteTime": {
     "end_time": "2023-07-03T09:41:30.803660Z",
     "start_time": "2023-07-03T09:41:28.079008Z"
    }
   }
  },
  {
   "cell_type": "markdown",
   "source": [
    "#### 4-hydroxy version of 8-Quin-4-alkoxy-KATS"
   ],
   "metadata": {
    "collapsed": false
   }
  },
  {
   "cell_type": "code",
   "execution_count": 99,
   "outputs": [
    {
     "data": {
      "text/plain": "            id experiment_id peak_nr retention_time_s     area intensity  \\\n551     532420         10688      48              279   954653    290147   \n581     528619         10693      25              239   670829    240257   \n584     530939         10694      38              269  2741743    880861   \n589     526455         10695      45              317   788845    159523   \n591     524027         10696      34              294  1140407    354130   \n...        ...           ...     ...              ...      ...       ...   \n198475  482313         84027      38              326  1014524     60218   \n198501  481948         84030      33              239   364263    117819   \n198509  484162         84031      39              269  1058978    432597   \n198520  492769         84033      39              294   695881    219059   \n198525  490138         84034      35              271   389315    119052   \n\n        signal_to_noise    mz_max  fwhm_min     %area  ...   delta_bAA  \\\n551                92.7  332.0860     0.048  12.83589  ...   86.098735   \n581                95.0  325.0761     0.046   9.70599  ...   79.088835   \n584               297.3  279.0588     0.046  37.88788  ...   33.071535   \n589                69.4  329.0752     0.068  10.96065  ...   83.087935   \n591               135.7  293.0747     0.048  15.20169  ...   47.087435   \n...                 ...       ...       ...       ...  ...         ...   \n198475             20.8  373.9919     0.234  15.39831  ...  177.895077   \n198501             45.2  325.0753     0.050   6.42974  ...  128.978477   \n198509            101.2  279.0581     0.041  22.47033  ...   82.961277   \n198520             63.2  293.0740     0.047  10.21235  ...   96.977177   \n198525             38.5  336.0801     0.051   5.88374  ...  139.983277   \n\n           delta_A     delta_B     delta_C    delta_D    delta_E     delta_F  \\\n551    -240.984287 -286.989766 -268.979202 -14.014863  40.990951 -126.943862   \n581    -240.984351 -286.989830 -268.979265 -14.014927  48.000723 -133.953762   \n584    -240.984938 -286.990417 -268.979853 -14.015514  30.007330 -179.971062   \n589    -240.984188 -286.989667 -268.979103 -14.014764 -20.007571 -129.954662   \n591    -240.984688 -286.990167 -268.979603 -14.015264  15.991929 -165.955162   \n...            ...         ...         ...        ...        ...         ...   \n198475 -191.094347 -237.099826 -219.089262 -14.015368  -0.915960  -35.147516   \n198501 -191.094705 -237.100185 -219.089620 -14.015727  47.999923  -84.064116   \n198509 -191.095193 -237.100672 -219.090107 -14.016214  30.006630 -130.081316   \n198520 -191.094943 -237.100422 -219.089857 -14.015964  15.991229 -116.065416   \n198525 -191.094656 -237.100136 -219.089571 -14.015678  36.995221  -73.059316   \n\n           delta_G    delta_H                                assignment  \n551     -98.948947 -38.910059  D hydroxyquinone lost oxygen substituent  \n581    -105.958847 -38.910123                                      None  \n584    -151.976147  -38.91071  D hydroxyquinone lost oxygen substituent  \n589    -101.959747  -38.90996  D hydroxyquinone lost oxygen substituent  \n591    -137.960247  -38.91046  D hydroxyquinone lost oxygen substituent  \n...            ...        ...                                       ...  \n198475   -7.152602  10.979881  D hydroxyquinone lost oxygen substituent  \n198501  -56.069202  10.979522                                      None  \n198509 -102.086402  10.979035  D hydroxyquinone lost oxygen substituent  \n198520  -88.070502  10.979285  D hydroxyquinone lost oxygen substituent  \n198525  -45.064402  10.979571  D hydroxyquinone lost oxygen substituent  \n\n[231 rows x 28 columns]",
      "text/html": "<div>\n<style scoped>\n    .dataframe tbody tr th:only-of-type {\n        vertical-align: middle;\n    }\n\n    .dataframe tbody tr th {\n        vertical-align: top;\n    }\n\n    .dataframe thead th {\n        text-align: right;\n    }\n</style>\n<table border=\"1\" class=\"dataframe\">\n  <thead>\n    <tr style=\"text-align: right;\">\n      <th></th>\n      <th>id</th>\n      <th>experiment_id</th>\n      <th>peak_nr</th>\n      <th>retention_time_s</th>\n      <th>area</th>\n      <th>intensity</th>\n      <th>signal_to_noise</th>\n      <th>mz_max</th>\n      <th>fwhm_min</th>\n      <th>%area</th>\n      <th>...</th>\n      <th>delta_bAA</th>\n      <th>delta_A</th>\n      <th>delta_B</th>\n      <th>delta_C</th>\n      <th>delta_D</th>\n      <th>delta_E</th>\n      <th>delta_F</th>\n      <th>delta_G</th>\n      <th>delta_H</th>\n      <th>assignment</th>\n    </tr>\n  </thead>\n  <tbody>\n    <tr>\n      <th>551</th>\n      <td>532420</td>\n      <td>10688</td>\n      <td>48</td>\n      <td>279</td>\n      <td>954653</td>\n      <td>290147</td>\n      <td>92.7</td>\n      <td>332.0860</td>\n      <td>0.048</td>\n      <td>12.83589</td>\n      <td>...</td>\n      <td>86.098735</td>\n      <td>-240.984287</td>\n      <td>-286.989766</td>\n      <td>-268.979202</td>\n      <td>-14.014863</td>\n      <td>40.990951</td>\n      <td>-126.943862</td>\n      <td>-98.948947</td>\n      <td>-38.910059</td>\n      <td>D hydroxyquinone lost oxygen substituent</td>\n    </tr>\n    <tr>\n      <th>581</th>\n      <td>528619</td>\n      <td>10693</td>\n      <td>25</td>\n      <td>239</td>\n      <td>670829</td>\n      <td>240257</td>\n      <td>95.0</td>\n      <td>325.0761</td>\n      <td>0.046</td>\n      <td>9.70599</td>\n      <td>...</td>\n      <td>79.088835</td>\n      <td>-240.984351</td>\n      <td>-286.989830</td>\n      <td>-268.979265</td>\n      <td>-14.014927</td>\n      <td>48.000723</td>\n      <td>-133.953762</td>\n      <td>-105.958847</td>\n      <td>-38.910123</td>\n      <td>None</td>\n    </tr>\n    <tr>\n      <th>584</th>\n      <td>530939</td>\n      <td>10694</td>\n      <td>38</td>\n      <td>269</td>\n      <td>2741743</td>\n      <td>880861</td>\n      <td>297.3</td>\n      <td>279.0588</td>\n      <td>0.046</td>\n      <td>37.88788</td>\n      <td>...</td>\n      <td>33.071535</td>\n      <td>-240.984938</td>\n      <td>-286.990417</td>\n      <td>-268.979853</td>\n      <td>-14.015514</td>\n      <td>30.007330</td>\n      <td>-179.971062</td>\n      <td>-151.976147</td>\n      <td>-38.91071</td>\n      <td>D hydroxyquinone lost oxygen substituent</td>\n    </tr>\n    <tr>\n      <th>589</th>\n      <td>526455</td>\n      <td>10695</td>\n      <td>45</td>\n      <td>317</td>\n      <td>788845</td>\n      <td>159523</td>\n      <td>69.4</td>\n      <td>329.0752</td>\n      <td>0.068</td>\n      <td>10.96065</td>\n      <td>...</td>\n      <td>83.087935</td>\n      <td>-240.984188</td>\n      <td>-286.989667</td>\n      <td>-268.979103</td>\n      <td>-14.014764</td>\n      <td>-20.007571</td>\n      <td>-129.954662</td>\n      <td>-101.959747</td>\n      <td>-38.90996</td>\n      <td>D hydroxyquinone lost oxygen substituent</td>\n    </tr>\n    <tr>\n      <th>591</th>\n      <td>524027</td>\n      <td>10696</td>\n      <td>34</td>\n      <td>294</td>\n      <td>1140407</td>\n      <td>354130</td>\n      <td>135.7</td>\n      <td>293.0747</td>\n      <td>0.048</td>\n      <td>15.20169</td>\n      <td>...</td>\n      <td>47.087435</td>\n      <td>-240.984688</td>\n      <td>-286.990167</td>\n      <td>-268.979603</td>\n      <td>-14.015264</td>\n      <td>15.991929</td>\n      <td>-165.955162</td>\n      <td>-137.960247</td>\n      <td>-38.91046</td>\n      <td>D hydroxyquinone lost oxygen substituent</td>\n    </tr>\n    <tr>\n      <th>...</th>\n      <td>...</td>\n      <td>...</td>\n      <td>...</td>\n      <td>...</td>\n      <td>...</td>\n      <td>...</td>\n      <td>...</td>\n      <td>...</td>\n      <td>...</td>\n      <td>...</td>\n      <td>...</td>\n      <td>...</td>\n      <td>...</td>\n      <td>...</td>\n      <td>...</td>\n      <td>...</td>\n      <td>...</td>\n      <td>...</td>\n      <td>...</td>\n      <td>...</td>\n      <td>...</td>\n    </tr>\n    <tr>\n      <th>198475</th>\n      <td>482313</td>\n      <td>84027</td>\n      <td>38</td>\n      <td>326</td>\n      <td>1014524</td>\n      <td>60218</td>\n      <td>20.8</td>\n      <td>373.9919</td>\n      <td>0.234</td>\n      <td>15.39831</td>\n      <td>...</td>\n      <td>177.895077</td>\n      <td>-191.094347</td>\n      <td>-237.099826</td>\n      <td>-219.089262</td>\n      <td>-14.015368</td>\n      <td>-0.915960</td>\n      <td>-35.147516</td>\n      <td>-7.152602</td>\n      <td>10.979881</td>\n      <td>D hydroxyquinone lost oxygen substituent</td>\n    </tr>\n    <tr>\n      <th>198501</th>\n      <td>481948</td>\n      <td>84030</td>\n      <td>33</td>\n      <td>239</td>\n      <td>364263</td>\n      <td>117819</td>\n      <td>45.2</td>\n      <td>325.0753</td>\n      <td>0.050</td>\n      <td>6.42974</td>\n      <td>...</td>\n      <td>128.978477</td>\n      <td>-191.094705</td>\n      <td>-237.100185</td>\n      <td>-219.089620</td>\n      <td>-14.015727</td>\n      <td>47.999923</td>\n      <td>-84.064116</td>\n      <td>-56.069202</td>\n      <td>10.979522</td>\n      <td>None</td>\n    </tr>\n    <tr>\n      <th>198509</th>\n      <td>484162</td>\n      <td>84031</td>\n      <td>39</td>\n      <td>269</td>\n      <td>1058978</td>\n      <td>432597</td>\n      <td>101.2</td>\n      <td>279.0581</td>\n      <td>0.041</td>\n      <td>22.47033</td>\n      <td>...</td>\n      <td>82.961277</td>\n      <td>-191.095193</td>\n      <td>-237.100672</td>\n      <td>-219.090107</td>\n      <td>-14.016214</td>\n      <td>30.006630</td>\n      <td>-130.081316</td>\n      <td>-102.086402</td>\n      <td>10.979035</td>\n      <td>D hydroxyquinone lost oxygen substituent</td>\n    </tr>\n    <tr>\n      <th>198520</th>\n      <td>492769</td>\n      <td>84033</td>\n      <td>39</td>\n      <td>294</td>\n      <td>695881</td>\n      <td>219059</td>\n      <td>63.2</td>\n      <td>293.0740</td>\n      <td>0.047</td>\n      <td>10.21235</td>\n      <td>...</td>\n      <td>96.977177</td>\n      <td>-191.094943</td>\n      <td>-237.100422</td>\n      <td>-219.089857</td>\n      <td>-14.015964</td>\n      <td>15.991229</td>\n      <td>-116.065416</td>\n      <td>-88.070502</td>\n      <td>10.979285</td>\n      <td>D hydroxyquinone lost oxygen substituent</td>\n    </tr>\n    <tr>\n      <th>198525</th>\n      <td>490138</td>\n      <td>84034</td>\n      <td>35</td>\n      <td>271</td>\n      <td>389315</td>\n      <td>119052</td>\n      <td>38.5</td>\n      <td>336.0801</td>\n      <td>0.051</td>\n      <td>5.88374</td>\n      <td>...</td>\n      <td>139.983277</td>\n      <td>-191.094656</td>\n      <td>-237.100136</td>\n      <td>-219.089571</td>\n      <td>-14.015678</td>\n      <td>36.995221</td>\n      <td>-73.059316</td>\n      <td>-45.064402</td>\n      <td>10.979571</td>\n      <td>D hydroxyquinone lost oxygen substituent</td>\n    </tr>\n  </tbody>\n</table>\n<p>231 rows × 28 columns</p>\n</div>"
     },
     "execution_count": 99,
     "metadata": {},
     "output_type": "execute_result"
    }
   ],
   "source": [
    "df.loc[df[\"delta_T\"].between(153.015, 153.025)]"
   ],
   "metadata": {
    "collapsed": false,
    "ExecuteTime": {
     "end_time": "2023-07-03T09:52:48.488398Z",
     "start_time": "2023-07-03T09:52:48.414273Z"
    }
   }
  },
  {
   "cell_type": "code",
   "execution_count": 100,
   "outputs": [
    {
     "data": {
      "text/plain": "'COc1ccnc2c(C(=O)[B-](F)(F)F)cccc12.[K+]'"
     },
     "execution_count": 100,
     "metadata": {},
     "output_type": "execute_result"
    }
   ],
   "source": [
    "# these all use either I21 or I22. What's unique about these?\n",
    "con.get_smiles(\"I21\")"
   ],
   "metadata": {
    "collapsed": false,
    "ExecuteTime": {
     "end_time": "2023-07-03T09:52:51.899187Z",
     "start_time": "2023-07-03T09:52:51.879902Z"
    }
   }
  },
  {
   "cell_type": "code",
   "execution_count": 101,
   "outputs": [
    {
     "data": {
      "text/plain": "'O=C(c1cccc2c(OCc3ccccc3)ccnc12)[B-](F)(F)F.[K+]'"
     },
     "execution_count": 101,
     "metadata": {},
     "output_type": "execute_result"
    }
   ],
   "source": [
    "con.get_smiles(\"I22\")"
   ],
   "metadata": {
    "collapsed": false,
    "ExecuteTime": {
     "end_time": "2023-07-03T09:52:52.925059Z",
     "start_time": "2023-07-03T09:52:52.866866Z"
    }
   }
  },
  {
   "cell_type": "markdown",
   "source": [
    "Both contain a 4-hydroxyquinone moiety. The other 8-Quin KATs we have are substituted on the 5-position.\n",
    "\n",
    "The mass difference corresponds to absence of the side on the oxygen atom (i.e. the methyl group for 8-Quin003/I21 and the benzyl group for 8-Quin004/I22).\n",
    "The mass differences for OR-->OH are:\n",
    "- 8-Quin003/I21: -14.01565\n",
    "- 8-Quin004/I22: -90.04695"
   ],
   "metadata": {
    "collapsed": false
   }
  },
  {
   "cell_type": "code",
   "execution_count": 102,
   "outputs": [],
   "source": [
    "delta_quin003 = (-14.01565 - 0.002, -14.01565 + 0.002)\n",
    "delta_quin004 = (-90.04695 - 0.002, -90.04695 + 0.002)"
   ],
   "metadata": {
    "collapsed": false,
    "ExecuteTime": {
     "end_time": "2023-07-03T09:52:54.855624Z",
     "start_time": "2023-07-03T09:52:54.832243Z"
    }
   }
  },
  {
   "cell_type": "code",
   "execution_count": 103,
   "outputs": [
    {
     "name": "stdout",
     "output_type": "stream",
     "text": [
      "Found 47 peaks for product A\n",
      "Found 95 peaks for product B\n",
      "Found 1 peaks for product C\n",
      "Found 229 peaks for product D\n",
      "Found 0 peaks for product E\n",
      "Found 234 peaks for product F\n",
      "Found 7 peaks for product G\n",
      "Found 0 peaks for product H\n"
     ]
    }
   ],
   "source": [
    "# add assignment to DB\n",
    "# select based on the isotope mass difference, but only if the relevant building blocks actually contain bromine\n",
    "for s in \"ABCDEFGH\":\n",
    "    peaks_hydroxy_quin = df.loc[(df[f\"delta_{s}\"].between(*delta_quin003) & (df[\"initiator\"] == \"I21\")) | (df[f\"delta_{s}\"].between(*delta_quin004) & (df[\"initiator\"] == \"I22\")), \"id\"].to_numpy()\n",
    "    print(f\"Found {len(peaks_hydroxy_quin)} peaks for product {s}\")\n",
    "    assignment = [f\"{s} hydroxyquinone lost oxygen substituent\" for _ in range(len(peaks_hydroxy_quin))]\n",
    "    with con.con:\n",
    "        con.con.executemany(\"INSERT INTO lcms_peaks_assignment (peak_id, assignment) VALUES (?, ?);\", tuple(zip(peaks_hydroxy_quin.tolist(), assignment)))"
   ],
   "metadata": {
    "collapsed": false,
    "ExecuteTime": {
     "end_time": "2023-07-03T09:52:59.039926Z",
     "start_time": "2023-07-03T09:52:58.726245Z"
    }
   }
  },
  {
   "cell_type": "markdown",
   "source": [
    "#### F->OH exchange on aromatic F-containing KATs (−1.9957)\n",
    "(mostly I6, containing 3-fluoropyridine)"
   ],
   "metadata": {
    "collapsed": false
   }
  },
  {
   "cell_type": "code",
   "execution_count": 104,
   "outputs": [
    {
     "data": {
      "text/plain": "            id experiment_id peak_nr retention_time_s     area intensity  \\\n447     519534         10668      67              345   450027    294935   \n448     519535         10668      68              345   882828    297775   \n451     520207         10669      34              245   362719    104112   \n465     518670         10671      55              349   464172    140949   \n466     518671         10671      56              349   215996    140566   \n...        ...           ...     ...              ...      ...       ...   \n198313  483843         84006      38              245   335360    103763   \n198335  479601         84008      45              350   125573     36802   \n198344  477892         84010      48              312   569737    153714   \n198345  477893         84010      49              312   490992    155109   \n198359  492076         84013      56              384  1126714    434082   \n\n        signal_to_noise    mz_max  fwhm_min     %area  ...   delta_bAA  \\\n447                74.8  289.0799     0.030   6.28280  ...   43.092635   \n448              2990.4  289.0799     0.043  12.32510  ...   43.092635   \n451                38.6  253.0544     0.050   5.19895  ...    7.067135   \n465              1888.8  306.1067     0.048  14.12194  ...   60.119435   \n466                30.4  306.1067     0.049   6.57146  ...   60.119435   \n...                 ...       ...       ...       ...  ...         ...   \n198313           1004.1  253.0537     0.047   5.09938  ...   56.956877   \n198335            559.3  306.1058     0.050  12.88179  ...  110.008977   \n198344             50.2  282.0692     0.044   8.58492  ...   85.972377   \n198345           1908.7  282.0692     0.046   7.39837  ...   85.972377   \n198359           2707.2  250.0679     0.039  16.10956  ...   53.971077   \n\n           delta_A     delta_B     delta_C    delta_D    delta_E     delta_F  \\\n447    -299.008450 -345.013929 -327.003365 -72.039026  -2.015149 -184.968025   \n448    -299.008450 -345.013929 -327.003365 -72.039026  -2.015149 -184.968025   \n451    -299.008798 -345.014277 -327.003713 -72.039374  34.009655 -220.993525   \n465    -299.008199 -345.013678 -327.003114 -72.038775 -19.041448 -167.941225   \n466    -299.008199 -345.013678 -327.003114 -72.038775 -19.041448 -167.941225   \n...            ...         ...         ...        ...        ...         ...   \n198313 -249.119053 -295.124532 -277.113967 -72.040074  34.008955 -171.103779   \n198335 -249.118654 -295.124133 -277.113568 -72.039675 -19.042348 -118.051679   \n198344 -249.118868 -295.124348 -277.113783 -72.039890   4.993823 -142.088279   \n198345 -249.118868 -295.124348 -277.113783 -72.039890   4.993823 -142.088279   \n198359 -249.119106 -295.124585 -277.114020 -72.040127 -27.014871 -174.089579   \n\n           delta_G    delta_H  assignment  \n447    -156.973110 -81.916159        None  \n448    -156.973110 -81.916159        None  \n451    -192.998610 -81.916507        None  \n465    -139.946310 -81.915909        None  \n466    -139.946310 -81.915909        None  \n...            ...        ...         ...  \n198313 -143.108865 -32.026762        None  \n198335  -90.056765 -32.026363        None  \n198344 -114.093365 -32.026578        None  \n198345 -114.093365 -32.026578        None  \n198359 -146.094665 -32.026815        None  \n\n[459 rows x 28 columns]",
      "text/html": "<div>\n<style scoped>\n    .dataframe tbody tr th:only-of-type {\n        vertical-align: middle;\n    }\n\n    .dataframe tbody tr th {\n        vertical-align: top;\n    }\n\n    .dataframe thead th {\n        text-align: right;\n    }\n</style>\n<table border=\"1\" class=\"dataframe\">\n  <thead>\n    <tr style=\"text-align: right;\">\n      <th></th>\n      <th>id</th>\n      <th>experiment_id</th>\n      <th>peak_nr</th>\n      <th>retention_time_s</th>\n      <th>area</th>\n      <th>intensity</th>\n      <th>signal_to_noise</th>\n      <th>mz_max</th>\n      <th>fwhm_min</th>\n      <th>%area</th>\n      <th>...</th>\n      <th>delta_bAA</th>\n      <th>delta_A</th>\n      <th>delta_B</th>\n      <th>delta_C</th>\n      <th>delta_D</th>\n      <th>delta_E</th>\n      <th>delta_F</th>\n      <th>delta_G</th>\n      <th>delta_H</th>\n      <th>assignment</th>\n    </tr>\n  </thead>\n  <tbody>\n    <tr>\n      <th>447</th>\n      <td>519534</td>\n      <td>10668</td>\n      <td>67</td>\n      <td>345</td>\n      <td>450027</td>\n      <td>294935</td>\n      <td>74.8</td>\n      <td>289.0799</td>\n      <td>0.030</td>\n      <td>6.28280</td>\n      <td>...</td>\n      <td>43.092635</td>\n      <td>-299.008450</td>\n      <td>-345.013929</td>\n      <td>-327.003365</td>\n      <td>-72.039026</td>\n      <td>-2.015149</td>\n      <td>-184.968025</td>\n      <td>-156.973110</td>\n      <td>-81.916159</td>\n      <td>None</td>\n    </tr>\n    <tr>\n      <th>448</th>\n      <td>519535</td>\n      <td>10668</td>\n      <td>68</td>\n      <td>345</td>\n      <td>882828</td>\n      <td>297775</td>\n      <td>2990.4</td>\n      <td>289.0799</td>\n      <td>0.043</td>\n      <td>12.32510</td>\n      <td>...</td>\n      <td>43.092635</td>\n      <td>-299.008450</td>\n      <td>-345.013929</td>\n      <td>-327.003365</td>\n      <td>-72.039026</td>\n      <td>-2.015149</td>\n      <td>-184.968025</td>\n      <td>-156.973110</td>\n      <td>-81.916159</td>\n      <td>None</td>\n    </tr>\n    <tr>\n      <th>451</th>\n      <td>520207</td>\n      <td>10669</td>\n      <td>34</td>\n      <td>245</td>\n      <td>362719</td>\n      <td>104112</td>\n      <td>38.6</td>\n      <td>253.0544</td>\n      <td>0.050</td>\n      <td>5.19895</td>\n      <td>...</td>\n      <td>7.067135</td>\n      <td>-299.008798</td>\n      <td>-345.014277</td>\n      <td>-327.003713</td>\n      <td>-72.039374</td>\n      <td>34.009655</td>\n      <td>-220.993525</td>\n      <td>-192.998610</td>\n      <td>-81.916507</td>\n      <td>None</td>\n    </tr>\n    <tr>\n      <th>465</th>\n      <td>518670</td>\n      <td>10671</td>\n      <td>55</td>\n      <td>349</td>\n      <td>464172</td>\n      <td>140949</td>\n      <td>1888.8</td>\n      <td>306.1067</td>\n      <td>0.048</td>\n      <td>14.12194</td>\n      <td>...</td>\n      <td>60.119435</td>\n      <td>-299.008199</td>\n      <td>-345.013678</td>\n      <td>-327.003114</td>\n      <td>-72.038775</td>\n      <td>-19.041448</td>\n      <td>-167.941225</td>\n      <td>-139.946310</td>\n      <td>-81.915909</td>\n      <td>None</td>\n    </tr>\n    <tr>\n      <th>466</th>\n      <td>518671</td>\n      <td>10671</td>\n      <td>56</td>\n      <td>349</td>\n      <td>215996</td>\n      <td>140566</td>\n      <td>30.4</td>\n      <td>306.1067</td>\n      <td>0.049</td>\n      <td>6.57146</td>\n      <td>...</td>\n      <td>60.119435</td>\n      <td>-299.008199</td>\n      <td>-345.013678</td>\n      <td>-327.003114</td>\n      <td>-72.038775</td>\n      <td>-19.041448</td>\n      <td>-167.941225</td>\n      <td>-139.946310</td>\n      <td>-81.915909</td>\n      <td>None</td>\n    </tr>\n    <tr>\n      <th>...</th>\n      <td>...</td>\n      <td>...</td>\n      <td>...</td>\n      <td>...</td>\n      <td>...</td>\n      <td>...</td>\n      <td>...</td>\n      <td>...</td>\n      <td>...</td>\n      <td>...</td>\n      <td>...</td>\n      <td>...</td>\n      <td>...</td>\n      <td>...</td>\n      <td>...</td>\n      <td>...</td>\n      <td>...</td>\n      <td>...</td>\n      <td>...</td>\n      <td>...</td>\n      <td>...</td>\n    </tr>\n    <tr>\n      <th>198313</th>\n      <td>483843</td>\n      <td>84006</td>\n      <td>38</td>\n      <td>245</td>\n      <td>335360</td>\n      <td>103763</td>\n      <td>1004.1</td>\n      <td>253.0537</td>\n      <td>0.047</td>\n      <td>5.09938</td>\n      <td>...</td>\n      <td>56.956877</td>\n      <td>-249.119053</td>\n      <td>-295.124532</td>\n      <td>-277.113967</td>\n      <td>-72.040074</td>\n      <td>34.008955</td>\n      <td>-171.103779</td>\n      <td>-143.108865</td>\n      <td>-32.026762</td>\n      <td>None</td>\n    </tr>\n    <tr>\n      <th>198335</th>\n      <td>479601</td>\n      <td>84008</td>\n      <td>45</td>\n      <td>350</td>\n      <td>125573</td>\n      <td>36802</td>\n      <td>559.3</td>\n      <td>306.1058</td>\n      <td>0.050</td>\n      <td>12.88179</td>\n      <td>...</td>\n      <td>110.008977</td>\n      <td>-249.118654</td>\n      <td>-295.124133</td>\n      <td>-277.113568</td>\n      <td>-72.039675</td>\n      <td>-19.042348</td>\n      <td>-118.051679</td>\n      <td>-90.056765</td>\n      <td>-32.026363</td>\n      <td>None</td>\n    </tr>\n    <tr>\n      <th>198344</th>\n      <td>477892</td>\n      <td>84010</td>\n      <td>48</td>\n      <td>312</td>\n      <td>569737</td>\n      <td>153714</td>\n      <td>50.2</td>\n      <td>282.0692</td>\n      <td>0.044</td>\n      <td>8.58492</td>\n      <td>...</td>\n      <td>85.972377</td>\n      <td>-249.118868</td>\n      <td>-295.124348</td>\n      <td>-277.113783</td>\n      <td>-72.039890</td>\n      <td>4.993823</td>\n      <td>-142.088279</td>\n      <td>-114.093365</td>\n      <td>-32.026578</td>\n      <td>None</td>\n    </tr>\n    <tr>\n      <th>198345</th>\n      <td>477893</td>\n      <td>84010</td>\n      <td>49</td>\n      <td>312</td>\n      <td>490992</td>\n      <td>155109</td>\n      <td>1908.7</td>\n      <td>282.0692</td>\n      <td>0.046</td>\n      <td>7.39837</td>\n      <td>...</td>\n      <td>85.972377</td>\n      <td>-249.118868</td>\n      <td>-295.124348</td>\n      <td>-277.113783</td>\n      <td>-72.039890</td>\n      <td>4.993823</td>\n      <td>-142.088279</td>\n      <td>-114.093365</td>\n      <td>-32.026578</td>\n      <td>None</td>\n    </tr>\n    <tr>\n      <th>198359</th>\n      <td>492076</td>\n      <td>84013</td>\n      <td>56</td>\n      <td>384</td>\n      <td>1126714</td>\n      <td>434082</td>\n      <td>2707.2</td>\n      <td>250.0679</td>\n      <td>0.039</td>\n      <td>16.10956</td>\n      <td>...</td>\n      <td>53.971077</td>\n      <td>-249.119106</td>\n      <td>-295.124585</td>\n      <td>-277.114020</td>\n      <td>-72.040127</td>\n      <td>-27.014871</td>\n      <td>-174.089579</td>\n      <td>-146.094665</td>\n      <td>-32.026815</td>\n      <td>None</td>\n    </tr>\n  </tbody>\n</table>\n<p>459 rows × 28 columns</p>\n</div>"
     },
     "execution_count": 104,
     "metadata": {},
     "output_type": "execute_result"
    }
   ],
   "source": [
    "df.loc[df[\"delta_T\"].between(110.015, 110.025)]"
   ],
   "metadata": {
    "collapsed": false,
    "ExecuteTime": {
     "end_time": "2023-07-03T09:53:03.981604Z",
     "start_time": "2023-07-03T09:53:03.951340Z"
    }
   }
  },
  {
   "cell_type": "code",
   "execution_count": 105,
   "outputs": [
    {
     "data": {
      "text/plain": "'C[Si](C)(C)C#Cc1ccc(C(=O)[B-](F)(F)F)cc1.[K+]'"
     },
     "execution_count": 105,
     "metadata": {},
     "output_type": "execute_result"
    }
   ],
   "source": [
    "con.get_smiles(\"I43\")"
   ],
   "metadata": {
    "collapsed": false,
    "ExecuteTime": {
     "end_time": "2023-07-03T09:53:05.383498Z",
     "start_time": "2023-07-03T09:53:05.361273Z"
    }
   }
  },
  {
   "cell_type": "markdown",
   "source": [
    "This mass difference (occurring exclusively with I43) corresponds to TMS->H exchange"
   ],
   "metadata": {
    "collapsed": false
   }
  },
  {
   "cell_type": "code",
   "execution_count": 106,
   "outputs": [
    {
     "data": {
      "text/plain": "             id experiment_id peak_nr retention_time_s     area intensity  \\\n39845   1295922         30023      21              296  1000213     66886   \n58038   1783555         39902      29              270  2286821    764960   \n58039   1783556         39902      30              270   834886    271477   \n58042   1796373         39903      22              241  1854356    408540   \n58051   1789198         39905      27              231  2750829    605496   \n...         ...           ...     ...              ...      ...       ...   \n146653  1740584         70953      17              241  3691226    782140   \n146666  1753433         70955      32              231  1016229    232625   \n146676  1754259         70956      26              285  1768655    658128   \n146683  1753308         70957      50              333   428707     99893   \n146699  1757374         70960      32              243   926673    430897   \n\n        signal_to_noise    mz_max  fwhm_min      %area  ...   delta_bAA  \\\n39845              10.5  243.0582     0.241   5.958616  ...   82.961381   \n58038             281.0  263.0034     0.044  18.167640  ...  130.901492   \n58039            2515.0  263.0034     0.045   6.632750  ...  130.901492   \n58042             145.3  247.0330     0.059  21.268640  ...  114.931092   \n58051             279.7  287.0594     0.060  34.862830  ...  119.977893   \n...                 ...       ...       ...        ...  ...         ...   \n146653            276.9  247.0330     0.062  58.894230  ...  -78.122811   \n146666             81.9  287.0595     0.059  10.308200  ...  115.001511   \n146676            205.3  297.0302     0.041  16.125710  ...  124.972211   \n146683             32.3  395.1178     0.056   5.009430  ...  223.059811   \n146699             69.5  300.0436     0.039   8.730770  ...  127.985611   \n\n           delta_A     delta_B     delta_C    delta_D     delta_E     delta_F  \\\n39845  -238.143440 -284.148919 -266.138354 -97.064461  -34.024571 -163.113913   \n58038  -115.080369 -161.085848 -143.075284  -1.996305  -53.970126  -20.105465   \n58039  -115.080369 -161.085848 -143.075284  -1.996305  -53.970126  -20.105465   \n58042  -115.080320 -161.085799 -143.075234  -1.996256  -37.999627  -36.075865   \n58051  -150.059653 -196.065132 -178.054568  -1.995990  -14.015977  -31.029064   \n...            ...         ...         ...        ...         ...         ...   \n146653 -308.134226 -354.139706 -336.129141  -1.996256  -37.999627 -229.129772   \n146666 -155.036039 -201.041518 -183.030953  -1.995890  -14.015877  -36.005450   \n146676 -155.036011 -201.041490 -183.030925  -1.995862  -87.996040  -26.034750   \n146683 -155.035253 -201.040733 -183.030168  -1.995105 -122.072606   72.052850   \n146699 -155.035954 -201.041433 -183.030869  -1.995806  -26.999808  -23.021350   \n\n           delta_G     delta_H  assignment  \n39845  -135.118999   -3.036515        None  \n58038     7.889449   24.958222        None  \n58039     7.889449   24.958222        None  \n58042    -8.080951   24.958271        None  \n58051    -3.034149  -10.021062        None  \n...            ...         ...         ...  \n146653 -201.134857 -168.095635        None  \n146666   -8.010535  -14.997448        None  \n146676    1.960165   -14.99742        None  \n146683  100.047765  -14.996662        None  \n146699    4.973565  -14.997363        None  \n\n[307 rows x 28 columns]",
      "text/html": "<div>\n<style scoped>\n    .dataframe tbody tr th:only-of-type {\n        vertical-align: middle;\n    }\n\n    .dataframe tbody tr th {\n        vertical-align: top;\n    }\n\n    .dataframe thead th {\n        text-align: right;\n    }\n</style>\n<table border=\"1\" class=\"dataframe\">\n  <thead>\n    <tr style=\"text-align: right;\">\n      <th></th>\n      <th>id</th>\n      <th>experiment_id</th>\n      <th>peak_nr</th>\n      <th>retention_time_s</th>\n      <th>area</th>\n      <th>intensity</th>\n      <th>signal_to_noise</th>\n      <th>mz_max</th>\n      <th>fwhm_min</th>\n      <th>%area</th>\n      <th>...</th>\n      <th>delta_bAA</th>\n      <th>delta_A</th>\n      <th>delta_B</th>\n      <th>delta_C</th>\n      <th>delta_D</th>\n      <th>delta_E</th>\n      <th>delta_F</th>\n      <th>delta_G</th>\n      <th>delta_H</th>\n      <th>assignment</th>\n    </tr>\n  </thead>\n  <tbody>\n    <tr>\n      <th>39845</th>\n      <td>1295922</td>\n      <td>30023</td>\n      <td>21</td>\n      <td>296</td>\n      <td>1000213</td>\n      <td>66886</td>\n      <td>10.5</td>\n      <td>243.0582</td>\n      <td>0.241</td>\n      <td>5.958616</td>\n      <td>...</td>\n      <td>82.961381</td>\n      <td>-238.143440</td>\n      <td>-284.148919</td>\n      <td>-266.138354</td>\n      <td>-97.064461</td>\n      <td>-34.024571</td>\n      <td>-163.113913</td>\n      <td>-135.118999</td>\n      <td>-3.036515</td>\n      <td>None</td>\n    </tr>\n    <tr>\n      <th>58038</th>\n      <td>1783555</td>\n      <td>39902</td>\n      <td>29</td>\n      <td>270</td>\n      <td>2286821</td>\n      <td>764960</td>\n      <td>281.0</td>\n      <td>263.0034</td>\n      <td>0.044</td>\n      <td>18.167640</td>\n      <td>...</td>\n      <td>130.901492</td>\n      <td>-115.080369</td>\n      <td>-161.085848</td>\n      <td>-143.075284</td>\n      <td>-1.996305</td>\n      <td>-53.970126</td>\n      <td>-20.105465</td>\n      <td>7.889449</td>\n      <td>24.958222</td>\n      <td>None</td>\n    </tr>\n    <tr>\n      <th>58039</th>\n      <td>1783556</td>\n      <td>39902</td>\n      <td>30</td>\n      <td>270</td>\n      <td>834886</td>\n      <td>271477</td>\n      <td>2515.0</td>\n      <td>263.0034</td>\n      <td>0.045</td>\n      <td>6.632750</td>\n      <td>...</td>\n      <td>130.901492</td>\n      <td>-115.080369</td>\n      <td>-161.085848</td>\n      <td>-143.075284</td>\n      <td>-1.996305</td>\n      <td>-53.970126</td>\n      <td>-20.105465</td>\n      <td>7.889449</td>\n      <td>24.958222</td>\n      <td>None</td>\n    </tr>\n    <tr>\n      <th>58042</th>\n      <td>1796373</td>\n      <td>39903</td>\n      <td>22</td>\n      <td>241</td>\n      <td>1854356</td>\n      <td>408540</td>\n      <td>145.3</td>\n      <td>247.0330</td>\n      <td>0.059</td>\n      <td>21.268640</td>\n      <td>...</td>\n      <td>114.931092</td>\n      <td>-115.080320</td>\n      <td>-161.085799</td>\n      <td>-143.075234</td>\n      <td>-1.996256</td>\n      <td>-37.999627</td>\n      <td>-36.075865</td>\n      <td>-8.080951</td>\n      <td>24.958271</td>\n      <td>None</td>\n    </tr>\n    <tr>\n      <th>58051</th>\n      <td>1789198</td>\n      <td>39905</td>\n      <td>27</td>\n      <td>231</td>\n      <td>2750829</td>\n      <td>605496</td>\n      <td>279.7</td>\n      <td>287.0594</td>\n      <td>0.060</td>\n      <td>34.862830</td>\n      <td>...</td>\n      <td>119.977893</td>\n      <td>-150.059653</td>\n      <td>-196.065132</td>\n      <td>-178.054568</td>\n      <td>-1.995990</td>\n      <td>-14.015977</td>\n      <td>-31.029064</td>\n      <td>-3.034149</td>\n      <td>-10.021062</td>\n      <td>None</td>\n    </tr>\n    <tr>\n      <th>...</th>\n      <td>...</td>\n      <td>...</td>\n      <td>...</td>\n      <td>...</td>\n      <td>...</td>\n      <td>...</td>\n      <td>...</td>\n      <td>...</td>\n      <td>...</td>\n      <td>...</td>\n      <td>...</td>\n      <td>...</td>\n      <td>...</td>\n      <td>...</td>\n      <td>...</td>\n      <td>...</td>\n      <td>...</td>\n      <td>...</td>\n      <td>...</td>\n      <td>...</td>\n      <td>...</td>\n    </tr>\n    <tr>\n      <th>146653</th>\n      <td>1740584</td>\n      <td>70953</td>\n      <td>17</td>\n      <td>241</td>\n      <td>3691226</td>\n      <td>782140</td>\n      <td>276.9</td>\n      <td>247.0330</td>\n      <td>0.062</td>\n      <td>58.894230</td>\n      <td>...</td>\n      <td>-78.122811</td>\n      <td>-308.134226</td>\n      <td>-354.139706</td>\n      <td>-336.129141</td>\n      <td>-1.996256</td>\n      <td>-37.999627</td>\n      <td>-229.129772</td>\n      <td>-201.134857</td>\n      <td>-168.095635</td>\n      <td>None</td>\n    </tr>\n    <tr>\n      <th>146666</th>\n      <td>1753433</td>\n      <td>70955</td>\n      <td>32</td>\n      <td>231</td>\n      <td>1016229</td>\n      <td>232625</td>\n      <td>81.9</td>\n      <td>287.0595</td>\n      <td>0.059</td>\n      <td>10.308200</td>\n      <td>...</td>\n      <td>115.001511</td>\n      <td>-155.036039</td>\n      <td>-201.041518</td>\n      <td>-183.030953</td>\n      <td>-1.995890</td>\n      <td>-14.015877</td>\n      <td>-36.005450</td>\n      <td>-8.010535</td>\n      <td>-14.997448</td>\n      <td>None</td>\n    </tr>\n    <tr>\n      <th>146676</th>\n      <td>1754259</td>\n      <td>70956</td>\n      <td>26</td>\n      <td>285</td>\n      <td>1768655</td>\n      <td>658128</td>\n      <td>205.3</td>\n      <td>297.0302</td>\n      <td>0.041</td>\n      <td>16.125710</td>\n      <td>...</td>\n      <td>124.972211</td>\n      <td>-155.036011</td>\n      <td>-201.041490</td>\n      <td>-183.030925</td>\n      <td>-1.995862</td>\n      <td>-87.996040</td>\n      <td>-26.034750</td>\n      <td>1.960165</td>\n      <td>-14.99742</td>\n      <td>None</td>\n    </tr>\n    <tr>\n      <th>146683</th>\n      <td>1753308</td>\n      <td>70957</td>\n      <td>50</td>\n      <td>333</td>\n      <td>428707</td>\n      <td>99893</td>\n      <td>32.3</td>\n      <td>395.1178</td>\n      <td>0.056</td>\n      <td>5.009430</td>\n      <td>...</td>\n      <td>223.059811</td>\n      <td>-155.035253</td>\n      <td>-201.040733</td>\n      <td>-183.030168</td>\n      <td>-1.995105</td>\n      <td>-122.072606</td>\n      <td>72.052850</td>\n      <td>100.047765</td>\n      <td>-14.996662</td>\n      <td>None</td>\n    </tr>\n    <tr>\n      <th>146699</th>\n      <td>1757374</td>\n      <td>70960</td>\n      <td>32</td>\n      <td>243</td>\n      <td>926673</td>\n      <td>430897</td>\n      <td>69.5</td>\n      <td>300.0436</td>\n      <td>0.039</td>\n      <td>8.730770</td>\n      <td>...</td>\n      <td>127.985611</td>\n      <td>-155.035954</td>\n      <td>-201.041433</td>\n      <td>-183.030869</td>\n      <td>-1.995806</td>\n      <td>-26.999808</td>\n      <td>-23.021350</td>\n      <td>4.973565</td>\n      <td>-14.997363</td>\n      <td>None</td>\n    </tr>\n  </tbody>\n</table>\n<p>307 rows × 28 columns</p>\n</div>"
     },
     "execution_count": 106,
     "metadata": {},
     "output_type": "execute_result"
    }
   ],
   "source": [
    "df.loc[df[\"delta_T\"].between(103.005, 103.015)]"
   ],
   "metadata": {
    "collapsed": false,
    "ExecuteTime": {
     "end_time": "2023-07-03T09:53:06.796492Z",
     "start_time": "2023-07-03T09:53:06.733938Z"
    }
   }
  },
  {
   "cell_type": "code",
   "execution_count": 107,
   "outputs": [
    {
     "data": {
      "text/plain": "'O=C(c1ccc(F)cn1)[B-](F)(F)F.[K+]'"
     },
     "execution_count": 107,
     "metadata": {},
     "output_type": "execute_result"
    }
   ],
   "source": [
    "con.get_smiles(\"I6\")"
   ],
   "metadata": {
    "collapsed": false,
    "ExecuteTime": {
     "end_time": "2023-07-03T09:53:13.474686Z",
     "start_time": "2023-07-03T09:53:13.451792Z"
    }
   }
  },
  {
   "cell_type": "markdown",
   "source": [
    "This mass difference (occurring exclusively with I6) corresponds to F->OH exchange (expected difference -1.99566)"
   ],
   "metadata": {
    "collapsed": false
   }
  },
  {
   "cell_type": "code",
   "execution_count": 108,
   "outputs": [],
   "source": [
    "delta_f_to_oh = (-1.99566 - 0.002, -1.99566 + 0.002)"
   ],
   "metadata": {
    "collapsed": false,
    "ExecuteTime": {
     "end_time": "2023-07-03T09:53:14.763306Z",
     "start_time": "2023-07-03T09:53:14.731507Z"
    }
   }
  },
  {
   "cell_type": "code",
   "execution_count": 109,
   "outputs": [
    {
     "data": {
      "text/plain": "['I65', 'I3', 'T2', 'I5', 'I66', 'I6', 'M65', 'T16', 'I48', 'M62']"
     },
     "execution_count": 109,
     "metadata": {},
     "output_type": "execute_result"
    }
   ],
   "source": [
    "# obtain a list of building blocks that contain fluorine, other than the BF3 group\n",
    "# so for initiators, there need to be at least 4 fluorines, for M and T at least 1\n",
    "building_blocks = [x[0] for x in con.con.execute(\"SELECT short FROM building_block_shorts;\").fetchall()]\n",
    "has_arom_fluorine = [\"c(F)\" in con.get_smiles(bb) for bb in building_blocks]  # not 100% safe, but good enough heuristic\n",
    "building_blocks_with_arom_fluorine = [x[0] for x in zip(building_blocks, has_arom_fluorine) if x[1]]\n",
    "list(set(building_blocks_with_arom_fluorine))"
   ],
   "metadata": {
    "collapsed": false,
    "ExecuteTime": {
     "end_time": "2023-07-03T09:53:16.831858Z",
     "start_time": "2023-07-03T09:53:16.766857Z"
    }
   }
  },
  {
   "cell_type": "code",
   "execution_count": 110,
   "outputs": [
    {
     "name": "stdout",
     "output_type": "stream",
     "text": [
      "Found 17 peaks for product A\n",
      "Found 46 peaks for product B\n",
      "Found 1 peaks for product C\n",
      "Found 306 peaks for product D\n",
      "Found 0 peaks for product E\n",
      "Found 24 peaks for product F\n",
      "Found 0 peaks for product G\n",
      "Found 0 peaks for product H\n"
     ]
    }
   ],
   "source": [
    "# add assignment to DB\n",
    "# select based on the isotope mass difference, but only if the relevant building blocks actually contain aromatic fluorine\n",
    "for s in \"ABCDEFGH\":\n",
    "    peaks_f_to_oh = df.loc[(df[f\"delta_{s}\"].between(*delta_f_to_oh) & (df[\"initiator\"].isin(building_blocks_with_arom_fluorine) | df[\"monomer\"].isin(building_blocks_with_arom_fluorine) | df[\"terminator\"].isin(building_blocks_with_arom_fluorine))), \"id\"].to_numpy()\n",
    "    print(f\"Found {len(peaks_f_to_oh)} peaks for product {s}\")\n",
    "    assignment = [f\"{s} fluorine to OH exchange\" for _ in range(len(peaks_f_to_oh))]\n",
    "    with con.con:\n",
    "        con.con.executemany(\"INSERT INTO lcms_peaks_assignment (peak_id, assignment) VALUES (?, ?);\", tuple(zip(peaks_br_f.tolist(), assignment)))"
   ],
   "metadata": {
    "collapsed": false,
    "ExecuteTime": {
     "end_time": "2023-07-03T09:53:19.473631Z",
     "start_time": "2023-07-03T09:53:19.249612Z"
    }
   }
  },
  {
   "cell_type": "markdown",
   "source": [
    "#### Terminator + cyclohexanone condensation (+80.06)"
   ],
   "metadata": {
    "collapsed": false
   }
  },
  {
   "cell_type": "code",
   "execution_count": 111,
   "outputs": [
    {
     "data": {
      "text/plain": "            id experiment_id peak_nr retention_time_s     area intensity  \\\n183427  776139         79851      42              332   474388    209429   \n183522  779825         79871      42              332   354264    154346   \n183835  774359         79931      38              332   582202    255373   \n183950  772304         79951      51              332  1013855    412097   \n184246  786389         80011      40              332  1028077    411293   \n...        ...           ...     ...              ...      ...       ...   \n182205  924561         79540      50              299   277172     87293   \n182316  914469         79560      24              299  3729885   1093574   \n182657  914778         79640      20              299   304741     95732   \n182748  928711         79660      29              299   415807    129593   \n182861  914276         79680      35              299  2039193    602921   \n\n        signal_to_noise    mz_max  fwhm_min     %area  ...   delta_bAA  \\\n183427            100.0  206.0989     0.036   8.09507  ... -133.056166   \n183522             49.9  206.0990     0.035   5.20091  ... -133.056066   \n183835             95.4  206.0990     0.037   9.24560  ... -133.056066   \n183950            142.4  206.0989     0.039  15.87101  ... -133.056166   \n184246            152.0  206.0988     0.039  14.54953  ... -133.056266   \n...                 ...       ...       ...       ...  ...         ...   \n182205             22.5  252.1165     0.046   5.35046  ...   80.058511   \n182316            321.8  252.1161     0.049  75.98351  ...   80.058111   \n182657             31.9  252.1164     0.048   6.22826  ...   80.058411   \n182748             49.4  252.1164     0.047   6.50729  ...   80.058411   \n182861            220.8  252.1162     0.048  25.96242  ...   80.058211   \n\n           delta_A     delta_B     delta_C     delta_D    delta_E     delta_F  \\\n183427 -356.101737 -402.107216 -384.096651  -35.964515 -42.952570 -295.087860   \n183522 -425.134334 -471.139813 -453.129248 -104.997112 -42.952470 -364.120458   \n183835 -340.106722 -386.112201 -368.101637  -19.969500 -42.952470 -279.092846   \n183950 -440.145333 -486.150812 -468.140247 -120.008111 -42.952570 -379.131457   \n184246 -316.081770 -362.087249 -344.076685    4.055452 -42.952670 -255.067894   \n...            ...         ...         ...         ...        ...         ...   \n182205 -139.024512 -185.029991 -167.019426   14.015637 -24.958877  -31.993923   \n182316 -249.036539 -295.042018 -277.031453  -95.996390 -24.959277 -142.005950   \n182657 -226.980696 -272.986175 -254.975611  -73.940548 -24.958977 -119.950107   \n182748 -177.979139 -223.984618 -205.974053  -24.938990 -24.958977  -70.948550   \n182861 -160.984009 -206.989489 -188.978924   -7.943861 -24.959177  -53.953420   \n\n           delta_G     delta_H                  assignment  \n183427 -267.092946 -205.038408  T cyclohexanone condensate  \n183522 -336.125543 -205.038308  T cyclohexanone condensate  \n183835 -251.097931 -205.038308  T cyclohexanone condensate  \n183950 -351.136542 -205.038408  T cyclohexanone condensate  \n184246 -227.072979 -205.038508  T cyclohexanone condensate  \n...            ...         ...                         ...  \n182205   -3.999008  -37.940448  T cyclohexanone condensate  \n182316 -114.011035  -37.940848  T cyclohexanone condensate  \n182657  -91.955193  -37.940548  T cyclohexanone condensate  \n182748  -42.953635  -37.940548  T cyclohexanone condensate  \n182861  -25.958506  -37.940748  T cyclohexanone condensate  \n\n[15364 rows x 28 columns]",
      "text/html": "<div>\n<style scoped>\n    .dataframe tbody tr th:only-of-type {\n        vertical-align: middle;\n    }\n\n    .dataframe tbody tr th {\n        vertical-align: top;\n    }\n\n    .dataframe thead th {\n        text-align: right;\n    }\n</style>\n<table border=\"1\" class=\"dataframe\">\n  <thead>\n    <tr style=\"text-align: right;\">\n      <th></th>\n      <th>id</th>\n      <th>experiment_id</th>\n      <th>peak_nr</th>\n      <th>retention_time_s</th>\n      <th>area</th>\n      <th>intensity</th>\n      <th>signal_to_noise</th>\n      <th>mz_max</th>\n      <th>fwhm_min</th>\n      <th>%area</th>\n      <th>...</th>\n      <th>delta_bAA</th>\n      <th>delta_A</th>\n      <th>delta_B</th>\n      <th>delta_C</th>\n      <th>delta_D</th>\n      <th>delta_E</th>\n      <th>delta_F</th>\n      <th>delta_G</th>\n      <th>delta_H</th>\n      <th>assignment</th>\n    </tr>\n  </thead>\n  <tbody>\n    <tr>\n      <th>183427</th>\n      <td>776139</td>\n      <td>79851</td>\n      <td>42</td>\n      <td>332</td>\n      <td>474388</td>\n      <td>209429</td>\n      <td>100.0</td>\n      <td>206.0989</td>\n      <td>0.036</td>\n      <td>8.09507</td>\n      <td>...</td>\n      <td>-133.056166</td>\n      <td>-356.101737</td>\n      <td>-402.107216</td>\n      <td>-384.096651</td>\n      <td>-35.964515</td>\n      <td>-42.952570</td>\n      <td>-295.087860</td>\n      <td>-267.092946</td>\n      <td>-205.038408</td>\n      <td>T cyclohexanone condensate</td>\n    </tr>\n    <tr>\n      <th>183522</th>\n      <td>779825</td>\n      <td>79871</td>\n      <td>42</td>\n      <td>332</td>\n      <td>354264</td>\n      <td>154346</td>\n      <td>49.9</td>\n      <td>206.0990</td>\n      <td>0.035</td>\n      <td>5.20091</td>\n      <td>...</td>\n      <td>-133.056066</td>\n      <td>-425.134334</td>\n      <td>-471.139813</td>\n      <td>-453.129248</td>\n      <td>-104.997112</td>\n      <td>-42.952470</td>\n      <td>-364.120458</td>\n      <td>-336.125543</td>\n      <td>-205.038308</td>\n      <td>T cyclohexanone condensate</td>\n    </tr>\n    <tr>\n      <th>183835</th>\n      <td>774359</td>\n      <td>79931</td>\n      <td>38</td>\n      <td>332</td>\n      <td>582202</td>\n      <td>255373</td>\n      <td>95.4</td>\n      <td>206.0990</td>\n      <td>0.037</td>\n      <td>9.24560</td>\n      <td>...</td>\n      <td>-133.056066</td>\n      <td>-340.106722</td>\n      <td>-386.112201</td>\n      <td>-368.101637</td>\n      <td>-19.969500</td>\n      <td>-42.952470</td>\n      <td>-279.092846</td>\n      <td>-251.097931</td>\n      <td>-205.038308</td>\n      <td>T cyclohexanone condensate</td>\n    </tr>\n    <tr>\n      <th>183950</th>\n      <td>772304</td>\n      <td>79951</td>\n      <td>51</td>\n      <td>332</td>\n      <td>1013855</td>\n      <td>412097</td>\n      <td>142.4</td>\n      <td>206.0989</td>\n      <td>0.039</td>\n      <td>15.87101</td>\n      <td>...</td>\n      <td>-133.056166</td>\n      <td>-440.145333</td>\n      <td>-486.150812</td>\n      <td>-468.140247</td>\n      <td>-120.008111</td>\n      <td>-42.952570</td>\n      <td>-379.131457</td>\n      <td>-351.136542</td>\n      <td>-205.038408</td>\n      <td>T cyclohexanone condensate</td>\n    </tr>\n    <tr>\n      <th>184246</th>\n      <td>786389</td>\n      <td>80011</td>\n      <td>40</td>\n      <td>332</td>\n      <td>1028077</td>\n      <td>411293</td>\n      <td>152.0</td>\n      <td>206.0988</td>\n      <td>0.039</td>\n      <td>14.54953</td>\n      <td>...</td>\n      <td>-133.056266</td>\n      <td>-316.081770</td>\n      <td>-362.087249</td>\n      <td>-344.076685</td>\n      <td>4.055452</td>\n      <td>-42.952670</td>\n      <td>-255.067894</td>\n      <td>-227.072979</td>\n      <td>-205.038508</td>\n      <td>T cyclohexanone condensate</td>\n    </tr>\n    <tr>\n      <th>...</th>\n      <td>...</td>\n      <td>...</td>\n      <td>...</td>\n      <td>...</td>\n      <td>...</td>\n      <td>...</td>\n      <td>...</td>\n      <td>...</td>\n      <td>...</td>\n      <td>...</td>\n      <td>...</td>\n      <td>...</td>\n      <td>...</td>\n      <td>...</td>\n      <td>...</td>\n      <td>...</td>\n      <td>...</td>\n      <td>...</td>\n      <td>...</td>\n      <td>...</td>\n      <td>...</td>\n    </tr>\n    <tr>\n      <th>182205</th>\n      <td>924561</td>\n      <td>79540</td>\n      <td>50</td>\n      <td>299</td>\n      <td>277172</td>\n      <td>87293</td>\n      <td>22.5</td>\n      <td>252.1165</td>\n      <td>0.046</td>\n      <td>5.35046</td>\n      <td>...</td>\n      <td>80.058511</td>\n      <td>-139.024512</td>\n      <td>-185.029991</td>\n      <td>-167.019426</td>\n      <td>14.015637</td>\n      <td>-24.958877</td>\n      <td>-31.993923</td>\n      <td>-3.999008</td>\n      <td>-37.940448</td>\n      <td>T cyclohexanone condensate</td>\n    </tr>\n    <tr>\n      <th>182316</th>\n      <td>914469</td>\n      <td>79560</td>\n      <td>24</td>\n      <td>299</td>\n      <td>3729885</td>\n      <td>1093574</td>\n      <td>321.8</td>\n      <td>252.1161</td>\n      <td>0.049</td>\n      <td>75.98351</td>\n      <td>...</td>\n      <td>80.058111</td>\n      <td>-249.036539</td>\n      <td>-295.042018</td>\n      <td>-277.031453</td>\n      <td>-95.996390</td>\n      <td>-24.959277</td>\n      <td>-142.005950</td>\n      <td>-114.011035</td>\n      <td>-37.940848</td>\n      <td>T cyclohexanone condensate</td>\n    </tr>\n    <tr>\n      <th>182657</th>\n      <td>914778</td>\n      <td>79640</td>\n      <td>20</td>\n      <td>299</td>\n      <td>304741</td>\n      <td>95732</td>\n      <td>31.9</td>\n      <td>252.1164</td>\n      <td>0.048</td>\n      <td>6.22826</td>\n      <td>...</td>\n      <td>80.058411</td>\n      <td>-226.980696</td>\n      <td>-272.986175</td>\n      <td>-254.975611</td>\n      <td>-73.940548</td>\n      <td>-24.958977</td>\n      <td>-119.950107</td>\n      <td>-91.955193</td>\n      <td>-37.940548</td>\n      <td>T cyclohexanone condensate</td>\n    </tr>\n    <tr>\n      <th>182748</th>\n      <td>928711</td>\n      <td>79660</td>\n      <td>29</td>\n      <td>299</td>\n      <td>415807</td>\n      <td>129593</td>\n      <td>49.4</td>\n      <td>252.1164</td>\n      <td>0.047</td>\n      <td>6.50729</td>\n      <td>...</td>\n      <td>80.058411</td>\n      <td>-177.979139</td>\n      <td>-223.984618</td>\n      <td>-205.974053</td>\n      <td>-24.938990</td>\n      <td>-24.958977</td>\n      <td>-70.948550</td>\n      <td>-42.953635</td>\n      <td>-37.940548</td>\n      <td>T cyclohexanone condensate</td>\n    </tr>\n    <tr>\n      <th>182861</th>\n      <td>914276</td>\n      <td>79680</td>\n      <td>35</td>\n      <td>299</td>\n      <td>2039193</td>\n      <td>602921</td>\n      <td>220.8</td>\n      <td>252.1162</td>\n      <td>0.048</td>\n      <td>25.96242</td>\n      <td>...</td>\n      <td>80.058211</td>\n      <td>-160.984009</td>\n      <td>-206.989489</td>\n      <td>-188.978924</td>\n      <td>-7.943861</td>\n      <td>-24.959177</td>\n      <td>-53.953420</td>\n      <td>-25.958506</td>\n      <td>-37.940748</td>\n      <td>T cyclohexanone condensate</td>\n    </tr>\n  </tbody>\n</table>\n<p>15364 rows × 28 columns</p>\n</div>"
     },
     "execution_count": 111,
     "metadata": {},
     "output_type": "execute_result"
    }
   ],
   "source": [
    "df.loc[df[\"delta_T\"].between(80.055, 80.065)].sort_values([\"monomer\", \"terminator\"])"
   ],
   "metadata": {
    "collapsed": false,
    "ExecuteTime": {
     "end_time": "2023-07-03T09:53:23.035138Z",
     "start_time": "2023-07-03T09:53:22.964242Z"
    }
   }
  },
  {
   "cell_type": "markdown",
   "source": [
    "The mass difference +80.0622 (compared to terminator) occurs for many peaks and occurs across most I, M, and T. Something interesting may be going on here."
   ],
   "metadata": {
    "collapsed": false
   }
  },
  {
   "cell_type": "code",
   "execution_count": 112,
   "outputs": [
    {
     "data": {
      "text/plain": "('COc1ccc(C(=O)N[C@H]2CN(C(=O)OCCc3ccc(OC)c(OC)c3)C[C@H]2c2nc3ccccc3s2)cc1',\n 'COc1ccc(C(=O)N[C@H]2CN(C(=O)OCCc3ccc(OC)c(OC)c3)C[C@H]2C2(C(=O)O)Nc3ccccc3S2)cc1',\n 'COc1ccc(C2=[N+]3c4ccccc4SC3(C(=O)[O-])[C@@H]3CN(C(=O)OCCc4ccc(OC)c(OC)c4)C[C@@H]3N2)cc1',\n 'COc1ccc(-c2nc3ccccc3s2)cc1',\n 'Nc1ccccc1SSc1ccccc1N',\n 'COc1ccc(C(=O)N[C@H]2CN(C(=O)OCCc3ccc(OC)c(OC)c3)C[C@H]2C(=O)C(=O)O)cc1',\n 'COc1ccc(C(=O)N[C@H]2CN(C(=O)OCCc3ccc(OC)c(OC)c3)C[C@H]2C(=O)O)cc1',\n 'COc1ccc(CCOC(=O)N2CC=C(c3nc4ccccc4s3)C2)cc1OC')"
     },
     "execution_count": 112,
     "metadata": {},
     "output_type": "execute_result"
    }
   ],
   "source": [
    "con.get_product_smiles(79851)"
   ],
   "metadata": {
    "collapsed": false,
    "ExecuteTime": {
     "end_time": "2023-07-03T09:53:26.751473Z",
     "start_time": "2023-07-03T09:53:26.735459Z"
    }
   }
  },
  {
   "cell_type": "code",
   "execution_count": 113,
   "outputs": [
    {
     "data": {
      "text/plain": "'COc1ccc(C(=S)N[NH3+])cc1.[Cl-]'"
     },
     "execution_count": 113,
     "metadata": {},
     "output_type": "execute_result"
    }
   ],
   "source": [
    "con.get_smiles(\"T22\")"
   ],
   "metadata": {
    "collapsed": false,
    "ExecuteTime": {
     "end_time": "2023-07-03T09:53:27.283636Z",
     "start_time": "2023-07-03T09:53:27.261815Z"
    }
   }
  },
  {
   "cell_type": "code",
   "execution_count": 114,
   "outputs": [
    {
     "data": {
      "text/plain": "'COc1ccc(C(=S)NN)cn1.Cl'"
     },
     "execution_count": 114,
     "metadata": {},
     "output_type": "execute_result"
    }
   ],
   "source": [
    "con.get_smiles(\"T23\")"
   ],
   "metadata": {
    "collapsed": false,
    "ExecuteTime": {
     "end_time": "2023-07-03T09:53:29.030765Z",
     "start_time": "2023-07-03T09:53:28.980918Z"
    }
   }
  },
  {
   "cell_type": "code",
   "execution_count": 115,
   "outputs": [
    {
     "data": {
      "text/plain": "'Cl.NNC(=S)/C=C/c1ccccc1'"
     },
     "execution_count": 115,
     "metadata": {},
     "output_type": "execute_result"
    }
   ],
   "source": [
    "con.get_smiles(\"T25\")"
   ],
   "metadata": {
    "collapsed": false,
    "ExecuteTime": {
     "end_time": "2023-07-03T09:53:29.328833Z",
     "start_time": "2023-07-03T09:53:29.313050Z"
    }
   }
  },
  {
   "cell_type": "markdown",
   "source": [
    "This seems to be the terminator, condensed with cyclohexanone to form something like `Sc1c(/N=C2CCCCC/2)cccc1` or `Sc1c(NC2=CCCCC2)cccc1` or `Nc1c(SC2=CCCCC2)cccc1`.\n",
    "Under certain circumstances (reaction with the T-dimer) `c1(NC2CCCCC2S3)c3cccc1` may also be possible.\n",
    "(In theory, reaction with hexylKAT would explain the mass, too – but it is highly improbable that we would somehow produce that)\n",
    "\n",
    "The expected mass difference for any of these with the terminator is 80.0626 (C6H8)."
   ],
   "metadata": {
    "collapsed": false
   }
  },
  {
   "cell_type": "code",
   "execution_count": 116,
   "outputs": [],
   "source": [
    "delta_cyclohexanone_condensation = (80.0626 - 0.002, 80.0626 + 0.002)"
   ],
   "metadata": {
    "collapsed": false,
    "ExecuteTime": {
     "end_time": "2023-07-03T09:53:33.517810Z",
     "start_time": "2023-07-03T09:53:33.496083Z"
    }
   }
  },
  {
   "cell_type": "code",
   "execution_count": 117,
   "outputs": [
    {
     "name": "stdout",
     "output_type": "stream",
     "text": [
      "15339\n"
     ]
    }
   ],
   "source": [
    "# find and count occurences\n",
    "peaks_cyclohexanone_condensation = df.loc[df[\"delta_T\"].between(*delta_cyclohexanone_condensation), \"id\"].to_numpy()\n",
    "print(len(peaks_cyclohexanone_condensation))"
   ],
   "metadata": {
    "collapsed": false,
    "ExecuteTime": {
     "end_time": "2023-07-03T09:53:36.173493Z",
     "start_time": "2023-07-03T09:53:36.115918Z"
    }
   }
  },
  {
   "cell_type": "code",
   "execution_count": 118,
   "outputs": [],
   "source": [
    "assignment = [f\"T cyclohexanone condensate\" for _ in range(len(peaks_cyclohexanone_condensation))]\n",
    "with con.con:\n",
    "    con.con.executemany(\"INSERT INTO lcms_peaks_assignment (peak_id, assignment) VALUES (?, ?);\", tuple(zip(peaks_cyclohexanone_condensation.tolist(), assignment)))"
   ],
   "metadata": {
    "collapsed": false,
    "ExecuteTime": {
     "end_time": "2023-07-03T09:53:37.704646Z",
     "start_time": "2023-07-03T09:53:37.516491Z"
    }
   }
  },
  {
   "cell_type": "code",
   "execution_count": 119,
   "outputs": [
    {
     "data": {
      "text/plain": "                                                    experiment_id\nassignment                                                       \nA                                                           22943\nA 81Br                                                         25\nA hydroxyquinone lost oxygen substituent                       47\nB                                                           14541\nB 81Br                                                         25\nB hydroxyquinone lost oxygen substituent                       93\nC                                                            3630\nC hydroxyquinone lost oxygen substituent                        1\nD                                                           25151\nD 81Br                                                        340\nD fluorine to OH exchange                                      15\nD hydroxyquinone lost oxygen substituent                      208\nDMSO                                                        54892\nE                                                           27215\nE 81Br                                                        196\nF                                                           30292\nF (-tert-butyl fragmentation in MS for Boc or t...            865\nF fluorine to OH exchange                                      16\nF hydroxyquinone lost oxygen substituent                      228\nG                                                           13861\nG 81Br                                                          4\nG hydroxyquinone lost oxygen substituent                        7\nG_decarboxylated                                              648\nH                                                            5662\nI                                                             576\nIS fenofibrate                                              54206\nI_acid                                                       7822\nM                                                           17350\nM (Boc->carbamic acid fragmentation in MS)                   1331\nM - H4O2                                                     1016\nM_bAA                                                       11527\nT                                                            3501\nT cyclohexanone condensate                                  14404\ncommon PEG contaminant                                      31608\ncommon contaminant                                          30199\ncommon contaminant C7H13NO                                  45148\nlock mass tetramethylpiperidine                              4572",
      "text/html": "<div>\n<style scoped>\n    .dataframe tbody tr th:only-of-type {\n        vertical-align: middle;\n    }\n\n    .dataframe tbody tr th {\n        vertical-align: top;\n    }\n\n    .dataframe thead th {\n        text-align: right;\n    }\n</style>\n<table border=\"1\" class=\"dataframe\">\n  <thead>\n    <tr style=\"text-align: right;\">\n      <th></th>\n      <th>experiment_id</th>\n    </tr>\n    <tr>\n      <th>assignment</th>\n      <th></th>\n    </tr>\n  </thead>\n  <tbody>\n    <tr>\n      <th>A</th>\n      <td>22943</td>\n    </tr>\n    <tr>\n      <th>A 81Br</th>\n      <td>25</td>\n    </tr>\n    <tr>\n      <th>A hydroxyquinone lost oxygen substituent</th>\n      <td>47</td>\n    </tr>\n    <tr>\n      <th>B</th>\n      <td>14541</td>\n    </tr>\n    <tr>\n      <th>B 81Br</th>\n      <td>25</td>\n    </tr>\n    <tr>\n      <th>B hydroxyquinone lost oxygen substituent</th>\n      <td>93</td>\n    </tr>\n    <tr>\n      <th>C</th>\n      <td>3630</td>\n    </tr>\n    <tr>\n      <th>C hydroxyquinone lost oxygen substituent</th>\n      <td>1</td>\n    </tr>\n    <tr>\n      <th>D</th>\n      <td>25151</td>\n    </tr>\n    <tr>\n      <th>D 81Br</th>\n      <td>340</td>\n    </tr>\n    <tr>\n      <th>D fluorine to OH exchange</th>\n      <td>15</td>\n    </tr>\n    <tr>\n      <th>D hydroxyquinone lost oxygen substituent</th>\n      <td>208</td>\n    </tr>\n    <tr>\n      <th>DMSO</th>\n      <td>54892</td>\n    </tr>\n    <tr>\n      <th>E</th>\n      <td>27215</td>\n    </tr>\n    <tr>\n      <th>E 81Br</th>\n      <td>196</td>\n    </tr>\n    <tr>\n      <th>F</th>\n      <td>30292</td>\n    </tr>\n    <tr>\n      <th>F (-tert-butyl fragmentation in MS for Boc or tert-butyl ester)</th>\n      <td>865</td>\n    </tr>\n    <tr>\n      <th>F fluorine to OH exchange</th>\n      <td>16</td>\n    </tr>\n    <tr>\n      <th>F hydroxyquinone lost oxygen substituent</th>\n      <td>228</td>\n    </tr>\n    <tr>\n      <th>G</th>\n      <td>13861</td>\n    </tr>\n    <tr>\n      <th>G 81Br</th>\n      <td>4</td>\n    </tr>\n    <tr>\n      <th>G hydroxyquinone lost oxygen substituent</th>\n      <td>7</td>\n    </tr>\n    <tr>\n      <th>G_decarboxylated</th>\n      <td>648</td>\n    </tr>\n    <tr>\n      <th>H</th>\n      <td>5662</td>\n    </tr>\n    <tr>\n      <th>I</th>\n      <td>576</td>\n    </tr>\n    <tr>\n      <th>IS fenofibrate</th>\n      <td>54206</td>\n    </tr>\n    <tr>\n      <th>I_acid</th>\n      <td>7822</td>\n    </tr>\n    <tr>\n      <th>M</th>\n      <td>17350</td>\n    </tr>\n    <tr>\n      <th>M (Boc-&gt;carbamic acid fragmentation in MS)</th>\n      <td>1331</td>\n    </tr>\n    <tr>\n      <th>M - H4O2</th>\n      <td>1016</td>\n    </tr>\n    <tr>\n      <th>M_bAA</th>\n      <td>11527</td>\n    </tr>\n    <tr>\n      <th>T</th>\n      <td>3501</td>\n    </tr>\n    <tr>\n      <th>T cyclohexanone condensate</th>\n      <td>14404</td>\n    </tr>\n    <tr>\n      <th>common PEG contaminant</th>\n      <td>31608</td>\n    </tr>\n    <tr>\n      <th>common contaminant</th>\n      <td>30199</td>\n    </tr>\n    <tr>\n      <th>common contaminant C7H13NO</th>\n      <td>45148</td>\n    </tr>\n    <tr>\n      <th>lock mass tetramethylpiperidine</th>\n      <td>4572</td>\n    </tr>\n  </tbody>\n</table>\n</div>"
     },
     "execution_count": 119,
     "metadata": {},
     "output_type": "execute_result"
    }
   ],
   "source": [
    "count_assigned_peaks()"
   ],
   "metadata": {
    "collapsed": false,
    "ExecuteTime": {
     "end_time": "2023-07-03T09:53:42.056546Z",
     "start_time": "2023-07-03T09:53:39.905274Z"
    }
   }
  },
  {
   "cell_type": "markdown",
   "source": [
    "#### Monomer - H<sub>4</sub>O<sub>2</sub> (−36.02)"
   ],
   "metadata": {
    "collapsed": false
   }
  },
  {
   "cell_type": "code",
   "execution_count": 120,
   "outputs": [
    {
     "name": "stdout",
     "output_type": "stream",
     "text": [
      "Frequent (>1000 examples) of mass differences for I\n",
      "[]\n",
      "Frequent (>1000 examples) of mass differences for M\n",
      "[0.0, -124.05, -36.02, -56.06]\n",
      "Frequent (>1000 examples) of mass differences for T\n",
      "[80.06, 110.04, 215.08, 99.04, 77.04, 73.01]\n",
      "Frequent (>1000 examples) of mass differences for A\n",
      "[]\n",
      "Frequent (>1000 examples) of mass differences for B\n",
      "[]\n",
      "Frequent (>1000 examples) of mass differences for C\n",
      "[]\n",
      "Frequent (>1000 examples) of mass differences for D\n",
      "[-19.97]\n",
      "Frequent (>1000 examples) of mass differences for E\n",
      "[78.05, -35.96, -37.99, -9.96, -24.96, -5.95, -73.94]\n",
      "Frequent (>1000 examples) of mass differences for F\n",
      "[-56.06]\n",
      "Frequent (>1000 examples) of mass differences for G\n",
      "[-28.07]\n",
      "Frequent (>1000 examples) of mass differences for H\n",
      "[]\n"
     ]
    }
   ],
   "source": [
    "# let's try to be systematic and find the most common differences\n",
    "for s in \"IMTABCDEFGH\":\n",
    "    mz_delta_count = df.round(2).groupby(f\"delta_{s}\")[\"id\"].count().sort_values(ascending=False)\n",
    "    print(\"Frequent (>1000 examples) of mass differences for\", s)\n",
    "    print(mz_delta_count[mz_delta_count > 1000].index.tolist())"
   ],
   "metadata": {
    "collapsed": false,
    "ExecuteTime": {
     "end_time": "2023-07-03T09:54:09.894714Z",
     "start_time": "2023-07-03T09:54:08.970390Z"
    }
   }
  },
  {
   "cell_type": "code",
   "execution_count": 121,
   "outputs": [
    {
     "data": {
      "text/plain": "            id experiment_id peak_nr retention_time_s     area intensity  \\\n1836    552157         10970      19              295   492813     36196   \n2421    552613         11089      26              301   446999     29492   \n3991    559383         11402      14              199   468603    157782   \n4006    555980         11404      14              199  1048669    420338   \n4011    571266         11405      15              200  1349225    421482   \n...        ...           ...     ...              ...      ...       ...   \n191731  717205         81584       8              183   326540     38293   \n197753  482395         83931      14              227   370394    104660   \n200992  496010         84523      21              233   530792    210256   \n201034  504339         84536      31              234   520440    145351   \n201036  500321         84537      15              233   348023    162438   \n\n        signal_to_noise    mz_max  fwhm_min     %area  ...  delta_bAA  \\\n1836                8.3  413.1888     0.266   6.86842  ...  88.032985   \n2421                9.6  413.1891     0.247   6.79770  ...  88.033285   \n3991               42.5  305.1315     0.038   6.68689  ...  88.034343   \n4006               98.4  305.1314     0.041  14.12038  ...  88.034243   \n4011              130.7  305.1314     0.045  18.17676  ...  88.034243   \n...                 ...       ...       ...       ...  ...        ...   \n191731             12.6  272.1077     0.150   5.22887  ...  88.030867   \n197753             40.8  284.1279     0.062   5.13490  ...  88.031077   \n200992             82.7  245.0916     0.039   7.72378  ...  88.030828   \n201034             67.2  245.0915     0.061   7.89864  ...  88.030728   \n201036             62.4  245.0914     0.039   5.08330  ...  88.030628   \n\n           delta_A     delta_B     delta_C     delta_D     delta_E  \\\n1836   -236.028876 -282.034355 -264.023790   70.109095   38.280940   \n2421   -184.058295 -230.063774 -212.053209  122.079676  194.144355   \n3991   -211.082055 -257.087534 -239.076969  -13.002742  -31.972400   \n4006   -167.055940 -213.061419 -195.050855   31.023373   56.079930   \n4011   -217.071590 -263.077069 -245.066505  -18.992277  -43.951371   \n...            ...         ...         ...         ...         ...   \n191731 -164.016104 -210.021583 -192.011019    1.042888  -26.977179   \n197753 -138.964957 -184.970436 -166.959871   38.114022   35.076430   \n200992 -242.051856 -288.057335 -270.046771 -104.008929  -31.991171   \n201034 -245.037703 -291.043182 -273.032618 -106.994776   26.046755   \n201036 -322.969360 -368.974840 -350.964275 -184.926433 -129.816460   \n\n           delta_F     delta_G    delta_H  assignment  \n1836    -80.082045  -52.087131       None    M - H4O2  \n2421   -106.043022  -78.048107       None    M - H4O2  \n3991   -106.041964  -78.047049 -27.974114        None  \n4006   -106.042064  -78.047149  16.052001        None  \n4011   -106.042064  -78.047149 -33.963649        None  \n...            ...         ...        ...         ...  \n191731  -45.980764  -17.985849 -40.972842        None  \n197753  -77.951080  -49.956166  16.048835        None  \n200992 -167.022330 -139.027415   2.032936        None  \n201034 -167.022430 -139.027515  -0.952911        None  \n201036 -167.022530 -139.027615 -78.884568        None  \n\n[1675 rows x 28 columns]",
      "text/html": "<div>\n<style scoped>\n    .dataframe tbody tr th:only-of-type {\n        vertical-align: middle;\n    }\n\n    .dataframe tbody tr th {\n        vertical-align: top;\n    }\n\n    .dataframe thead th {\n        text-align: right;\n    }\n</style>\n<table border=\"1\" class=\"dataframe\">\n  <thead>\n    <tr style=\"text-align: right;\">\n      <th></th>\n      <th>id</th>\n      <th>experiment_id</th>\n      <th>peak_nr</th>\n      <th>retention_time_s</th>\n      <th>area</th>\n      <th>intensity</th>\n      <th>signal_to_noise</th>\n      <th>mz_max</th>\n      <th>fwhm_min</th>\n      <th>%area</th>\n      <th>...</th>\n      <th>delta_bAA</th>\n      <th>delta_A</th>\n      <th>delta_B</th>\n      <th>delta_C</th>\n      <th>delta_D</th>\n      <th>delta_E</th>\n      <th>delta_F</th>\n      <th>delta_G</th>\n      <th>delta_H</th>\n      <th>assignment</th>\n    </tr>\n  </thead>\n  <tbody>\n    <tr>\n      <th>1836</th>\n      <td>552157</td>\n      <td>10970</td>\n      <td>19</td>\n      <td>295</td>\n      <td>492813</td>\n      <td>36196</td>\n      <td>8.3</td>\n      <td>413.1888</td>\n      <td>0.266</td>\n      <td>6.86842</td>\n      <td>...</td>\n      <td>88.032985</td>\n      <td>-236.028876</td>\n      <td>-282.034355</td>\n      <td>-264.023790</td>\n      <td>70.109095</td>\n      <td>38.280940</td>\n      <td>-80.082045</td>\n      <td>-52.087131</td>\n      <td>None</td>\n      <td>M - H4O2</td>\n    </tr>\n    <tr>\n      <th>2421</th>\n      <td>552613</td>\n      <td>11089</td>\n      <td>26</td>\n      <td>301</td>\n      <td>446999</td>\n      <td>29492</td>\n      <td>9.6</td>\n      <td>413.1891</td>\n      <td>0.247</td>\n      <td>6.79770</td>\n      <td>...</td>\n      <td>88.033285</td>\n      <td>-184.058295</td>\n      <td>-230.063774</td>\n      <td>-212.053209</td>\n      <td>122.079676</td>\n      <td>194.144355</td>\n      <td>-106.043022</td>\n      <td>-78.048107</td>\n      <td>None</td>\n      <td>M - H4O2</td>\n    </tr>\n    <tr>\n      <th>3991</th>\n      <td>559383</td>\n      <td>11402</td>\n      <td>14</td>\n      <td>199</td>\n      <td>468603</td>\n      <td>157782</td>\n      <td>42.5</td>\n      <td>305.1315</td>\n      <td>0.038</td>\n      <td>6.68689</td>\n      <td>...</td>\n      <td>88.034343</td>\n      <td>-211.082055</td>\n      <td>-257.087534</td>\n      <td>-239.076969</td>\n      <td>-13.002742</td>\n      <td>-31.972400</td>\n      <td>-106.041964</td>\n      <td>-78.047049</td>\n      <td>-27.974114</td>\n      <td>None</td>\n    </tr>\n    <tr>\n      <th>4006</th>\n      <td>555980</td>\n      <td>11404</td>\n      <td>14</td>\n      <td>199</td>\n      <td>1048669</td>\n      <td>420338</td>\n      <td>98.4</td>\n      <td>305.1314</td>\n      <td>0.041</td>\n      <td>14.12038</td>\n      <td>...</td>\n      <td>88.034243</td>\n      <td>-167.055940</td>\n      <td>-213.061419</td>\n      <td>-195.050855</td>\n      <td>31.023373</td>\n      <td>56.079930</td>\n      <td>-106.042064</td>\n      <td>-78.047149</td>\n      <td>16.052001</td>\n      <td>None</td>\n    </tr>\n    <tr>\n      <th>4011</th>\n      <td>571266</td>\n      <td>11405</td>\n      <td>15</td>\n      <td>200</td>\n      <td>1349225</td>\n      <td>421482</td>\n      <td>130.7</td>\n      <td>305.1314</td>\n      <td>0.045</td>\n      <td>18.17676</td>\n      <td>...</td>\n      <td>88.034243</td>\n      <td>-217.071590</td>\n      <td>-263.077069</td>\n      <td>-245.066505</td>\n      <td>-18.992277</td>\n      <td>-43.951371</td>\n      <td>-106.042064</td>\n      <td>-78.047149</td>\n      <td>-33.963649</td>\n      <td>None</td>\n    </tr>\n    <tr>\n      <th>...</th>\n      <td>...</td>\n      <td>...</td>\n      <td>...</td>\n      <td>...</td>\n      <td>...</td>\n      <td>...</td>\n      <td>...</td>\n      <td>...</td>\n      <td>...</td>\n      <td>...</td>\n      <td>...</td>\n      <td>...</td>\n      <td>...</td>\n      <td>...</td>\n      <td>...</td>\n      <td>...</td>\n      <td>...</td>\n      <td>...</td>\n      <td>...</td>\n      <td>...</td>\n      <td>...</td>\n    </tr>\n    <tr>\n      <th>191731</th>\n      <td>717205</td>\n      <td>81584</td>\n      <td>8</td>\n      <td>183</td>\n      <td>326540</td>\n      <td>38293</td>\n      <td>12.6</td>\n      <td>272.1077</td>\n      <td>0.150</td>\n      <td>5.22887</td>\n      <td>...</td>\n      <td>88.030867</td>\n      <td>-164.016104</td>\n      <td>-210.021583</td>\n      <td>-192.011019</td>\n      <td>1.042888</td>\n      <td>-26.977179</td>\n      <td>-45.980764</td>\n      <td>-17.985849</td>\n      <td>-40.972842</td>\n      <td>None</td>\n    </tr>\n    <tr>\n      <th>197753</th>\n      <td>482395</td>\n      <td>83931</td>\n      <td>14</td>\n      <td>227</td>\n      <td>370394</td>\n      <td>104660</td>\n      <td>40.8</td>\n      <td>284.1279</td>\n      <td>0.062</td>\n      <td>5.13490</td>\n      <td>...</td>\n      <td>88.031077</td>\n      <td>-138.964957</td>\n      <td>-184.970436</td>\n      <td>-166.959871</td>\n      <td>38.114022</td>\n      <td>35.076430</td>\n      <td>-77.951080</td>\n      <td>-49.956166</td>\n      <td>16.048835</td>\n      <td>None</td>\n    </tr>\n    <tr>\n      <th>200992</th>\n      <td>496010</td>\n      <td>84523</td>\n      <td>21</td>\n      <td>233</td>\n      <td>530792</td>\n      <td>210256</td>\n      <td>82.7</td>\n      <td>245.0916</td>\n      <td>0.039</td>\n      <td>7.72378</td>\n      <td>...</td>\n      <td>88.030828</td>\n      <td>-242.051856</td>\n      <td>-288.057335</td>\n      <td>-270.046771</td>\n      <td>-104.008929</td>\n      <td>-31.991171</td>\n      <td>-167.022330</td>\n      <td>-139.027415</td>\n      <td>2.032936</td>\n      <td>None</td>\n    </tr>\n    <tr>\n      <th>201034</th>\n      <td>504339</td>\n      <td>84536</td>\n      <td>31</td>\n      <td>234</td>\n      <td>520440</td>\n      <td>145351</td>\n      <td>67.2</td>\n      <td>245.0915</td>\n      <td>0.061</td>\n      <td>7.89864</td>\n      <td>...</td>\n      <td>88.030728</td>\n      <td>-245.037703</td>\n      <td>-291.043182</td>\n      <td>-273.032618</td>\n      <td>-106.994776</td>\n      <td>26.046755</td>\n      <td>-167.022430</td>\n      <td>-139.027515</td>\n      <td>-0.952911</td>\n      <td>None</td>\n    </tr>\n    <tr>\n      <th>201036</th>\n      <td>500321</td>\n      <td>84537</td>\n      <td>15</td>\n      <td>233</td>\n      <td>348023</td>\n      <td>162438</td>\n      <td>62.4</td>\n      <td>245.0914</td>\n      <td>0.039</td>\n      <td>5.08330</td>\n      <td>...</td>\n      <td>88.030628</td>\n      <td>-322.969360</td>\n      <td>-368.974840</td>\n      <td>-350.964275</td>\n      <td>-184.926433</td>\n      <td>-129.816460</td>\n      <td>-167.022530</td>\n      <td>-139.027615</td>\n      <td>-78.884568</td>\n      <td>None</td>\n    </tr>\n  </tbody>\n</table>\n<p>1675 rows × 28 columns</p>\n</div>"
     },
     "execution_count": 121,
     "metadata": {},
     "output_type": "execute_result"
    }
   ],
   "source": [
    "peaks = df.loc[df.delta_M.round(2) == -36.02]\n",
    "peaks"
   ],
   "metadata": {
    "collapsed": false,
    "ExecuteTime": {
     "end_time": "2023-07-03T09:54:46.388538Z",
     "start_time": "2023-07-03T09:54:46.196668Z"
    }
   }
  },
  {
   "cell_type": "code",
   "execution_count": 122,
   "outputs": [
    {
     "name": "stdout",
     "output_type": "stream",
     "text": [
      "I: 69\n",
      "M: 22\n",
      "T: 37\n"
     ]
    }
   ],
   "source": [
    "# check for how many different building blocks this occurs\n",
    "print(\"I:\", len(peaks.initiator.unique()))\n",
    "print(\"M:\", len(peaks.monomer.unique()))\n",
    "print(\"T:\", len(peaks.terminator.unique()))"
   ],
   "metadata": {
    "collapsed": false,
    "ExecuteTime": {
     "end_time": "2023-07-03T09:54:48.160322Z",
     "start_time": "2023-07-03T09:54:48.139003Z"
    }
   }
  },
  {
   "cell_type": "code",
   "execution_count": 123,
   "outputs": [
    {
     "name": "stdout",
     "output_type": "stream",
     "text": [
      "M62 Spiro004\n",
      "M52 Mon098\n",
      "M29 Mon036\n",
      "M10 Mon002\n",
      "M27 Mon031\n",
      "M35 Mon077\n",
      "M41 Mon087\n",
      "M9 Mon001\n",
      "M13 Mon007\n",
      "M36 Mon078\n",
      "M21 Mon019\n",
      "M48 Mon094\n",
      "M46 Mon092\n",
      "M45 Mon091\n",
      "M68 Spiro011\n",
      "M30 Mon049\n",
      "M14 Mon011\n",
      "M55 Mon101\n",
      "M23 Mon021\n",
      "M51 Mon097\n",
      "M22 Mon020\n",
      "M28 Mon033\n"
     ]
    }
   ],
   "source": [
    "# let's check which monomers are involved\n",
    "for short in peaks.monomer.unique():\n",
    "    print(short, con.get_long_name(short))"
   ],
   "metadata": {
    "collapsed": false,
    "ExecuteTime": {
     "end_time": "2023-07-03T09:54:50.341990Z",
     "start_time": "2023-07-03T09:54:50.324817Z"
    }
   }
  },
  {
   "cell_type": "code",
   "execution_count": 278,
   "outputs": [
    {
     "data": {
      "text/plain": "('O=C(N[C@H](Cc1nnc(-c2ccccc2Cl)s1)C1(c2ccc(Cl)cc2)CC1)c1ccc(F)c(F)c1',\n 'O=C(N[C@H](CC1(C(=O)O)NN=C(c2ccccc2Cl)S1)C1(c2ccc(Cl)cc2)CC1)c1ccc(F)c(F)c1',\n 'O=C([O-])C12C[C@H](C3(c4ccc(Cl)cc4)CC3)NC(c3ccc(F)c(F)c3)=[N+]1N=C(c1ccccc1Cl)S2',\n 'Fc1ccc(-c2nnc(-c3ccccc3Cl)s2)cc1F',\n 'Clc1ccccc1-c1nnc(-c2ccccc2Cl)s1',\n 'O=C(O)C(=O)C[C@@H](NC(=O)c1ccc(F)c(F)c1)C1(c2ccc(Cl)cc2)CC1',\n 'O=C(O)C[C@@H](NC(=O)c1ccc(F)c(F)c1)C1(c2ccc(Cl)cc2)CC1',\n 'Clc1ccc(C2(C=Cc3nnc(-c4ccccc4Cl)s3)CC2)cc1')"
     },
     "execution_count": 278,
     "metadata": {},
     "output_type": "execute_result"
    }
   ],
   "source": [
    "con.get_product_smiles(14739)"
   ],
   "metadata": {
    "collapsed": false,
    "ExecuteTime": {
     "end_time": "2023-06-21T13:33:13.004960Z",
     "start_time": "2023-06-21T13:33:12.946115Z"
    }
   }
  },
  {
   "cell_type": "code",
   "execution_count": 287,
   "outputs": [
    {
     "data": {
      "text/plain": "('CC(C)C[C@H](Cc1nnc(-c2ccccc2)s1)NC(=O)c1ccc(OCCCN=[N+]=[N-])cc1',\n 'CC(C)C[C@H](CC1(C(=O)O)NN=C(c2ccccc2)S1)NC(=O)c1ccc(OCCCN=[N+]=[N-])cc1',\n 'CC(C)C[C@@H]1CC2(C(=O)[O-])SC(c3ccccc3)=N[N+]2=C(c2ccc(OCCCN=[N+]=[N-])cc2)N1',\n '[N-]=[N+]=NCCCOc1ccc(-c2nnc(-c3ccccc3)s2)cc1',\n 'c1ccc(-c2nnc(-c3ccccc3)s2)cc1',\n 'CC(C)C[C@H](CC(=O)C(=O)O)NC(=O)c1ccc(OCCCN=[N+]=[N-])cc1',\n 'CC(C)C[C@H](CC(=O)O)NC(=O)c1ccc(OCCCN=[N+]=[N-])cc1',\n 'CC(C)CC=Cc1nnc(-c2ccccc2)s1')"
     },
     "execution_count": 287,
     "metadata": {},
     "output_type": "execute_result"
    }
   ],
   "source": [
    "con.get_product_smiles(58109)"
   ],
   "metadata": {
    "collapsed": false,
    "ExecuteTime": {
     "end_time": "2023-06-21T13:43:08.446489Z",
     "start_time": "2023-06-21T13:43:08.441265Z"
    }
   }
  },
  {
   "cell_type": "code",
   "execution_count": 289,
   "outputs": [
    {
     "data": {
      "text/plain": "'Cl.O=C1OC2(CCCCC2)O[C@@]12C[C@H](Cc1ccc(OCc3ccccc3)cc1)NO2'"
     },
     "execution_count": 289,
     "metadata": {},
     "output_type": "execute_result"
    }
   ],
   "source": [
    "con.get_smiles(\"M27\")"
   ],
   "metadata": {
    "collapsed": false,
    "ExecuteTime": {
     "end_time": "2023-06-21T13:51:35.918274Z",
     "start_time": "2023-06-21T13:51:35.906484Z"
    }
   }
  },
  {
   "cell_type": "markdown",
   "source": [
    "This peak comes from the monomer only.\n",
    "Actually, the mz value can typically be found in the QC LCMS data of the individual monomer (I checked for M36, M27 and M13 and found it in 3 out of 4 QC traces as a small but defined peak).\n",
    "We conclude that the contaminant is carried over from the monomer stock solutions.\n",
    "\n",
    "The m/z corresponds to monomer −H4O2 (−36.0211).\n",
    "We don't have a plausible structure, but we mark this peak M−H4O2"
   ],
   "metadata": {
    "collapsed": false
   }
  },
  {
   "cell_type": "code",
   "execution_count": 305,
   "outputs": [],
   "source": [
    "delta_h4o2 = (-36.0211 - 0.002, -36.0211 + 0.002)"
   ],
   "metadata": {
    "collapsed": false,
    "ExecuteTime": {
     "end_time": "2023-06-22T07:06:53.389903Z",
     "start_time": "2023-06-22T07:06:53.382760Z"
    }
   }
  },
  {
   "cell_type": "code",
   "execution_count": 307,
   "outputs": [
    {
     "name": "stdout",
     "output_type": "stream",
     "text": [
      "1610\n"
     ]
    }
   ],
   "source": [
    "# find and count occurences\n",
    "peaks_m_h4o2 = df.loc[df[\"delta_M\"].between(*delta_h4o2), \"id\"].to_numpy()\n",
    "print(len(peaks_m_h4o2))"
   ],
   "metadata": {
    "collapsed": false,
    "ExecuteTime": {
     "end_time": "2023-06-22T07:07:11.385828Z",
     "start_time": "2023-06-22T07:07:11.381368Z"
    }
   }
  },
  {
   "cell_type": "code",
   "execution_count": 308,
   "outputs": [],
   "source": [
    "# commit to DB\n",
    "assignment = [f\"M - H4O2\" for _ in range(len(peaks_m_h4o2))]\n",
    "with con.con:\n",
    "    con.con.executemany(\"INSERT INTO lcms_peaks_assignment (peak_id, assignment) VALUES (?, ?);\", tuple(zip(peaks_m_h4o2.tolist(), assignment)))"
   ],
   "metadata": {
    "collapsed": false,
    "ExecuteTime": {
     "end_time": "2023-06-22T07:07:56.009396Z",
     "start_time": "2023-06-22T07:07:55.958096Z"
    }
   }
  },
  {
   "cell_type": "markdown",
   "source": [
    "#### Boc -> carbamic acid MS fragmentation (-56.06)\n"
   ],
   "metadata": {
    "collapsed": false
   }
  },
  {
   "cell_type": "code",
   "execution_count": 50,
   "outputs": [
    {
     "data": {
      "text/plain": "            id experiment_id peak_nr retention_time_s     area intensity  \\\n3387    565445         11299      43              240   985674    187066   \n3388    565451         11299      49              241   938194    131968   \n10457   641312         14868      29              322  1327257    478786   \n10465   640518         14869      36              322  1062099    376018   \n10466   640519         14869      37              323   433626    136246   \n...        ...           ...     ...              ...      ...       ...   \n205582  395387         85507      49              322   765245    313410   \n205590  400344         85508      58              322   493896    167821   \n205597  396306         85509      46              323   818404    347601   \n205616  396108         85512      46              322   652535    208172   \n205628  399443         85514      46              322   737842    248481   \n\n        signal_to_noise    mz_max  fwhm_min     %area  ...  delta_bAA  \\\n3387               64.0  285.0944     0.091  13.99819  ...  67.997243   \n3388             1236.8  285.0944     0.112  13.32390  ...  67.997243   \n10457             197.7  341.1710     0.042  16.27546  ...  67.990113   \n10465             123.3  341.1710     0.044  16.79558  ...  67.990113   \n10466            1975.1  341.1710     0.047   6.85718  ...  67.990113   \n...                 ...       ...       ...       ...  ...        ...   \n205582            103.3  341.1706     0.041  11.24804  ...  67.989713   \n205590             62.7  341.1705     0.046   8.14605  ...  67.989613   \n205597            152.7  341.1704     0.039  12.29023  ...  67.989513   \n205616             87.8  341.1706     0.045  11.16905  ...  67.989713   \n205628             88.6  341.1705     0.044  12.09812  ...  67.989613   \n\n           delta_A     delta_B     delta_C    delta_D     delta_E     delta_F  \\\n3387   -238.078687 -284.084166 -266.073602 -39.999374   66.049655 -160.063414   \n3388   -238.078687 -284.084166 -266.073602 -39.999374   66.049655 -160.063414   \n10457  -251.048990 -297.054469 -279.043905   3.114052  -33.867519  -95.036830   \n10465  -217.022633 -263.028112 -245.017548  37.140409   34.185195  -95.036830   \n10466  -217.022633 -263.028112 -245.017548  37.140409   34.185195  -95.036830   \n...            ...         ...         ...        ...         ...         ...   \n205582 -210.098057 -256.103536 -238.092971  44.064986   42.085721  -92.062717   \n205590 -221.088989 -267.094468 -249.083904  33.074054   20.103957  -92.062817   \n205597 -186.044113 -232.049592 -214.039028  68.118930   90.193809  -92.062917   \n205616 -171.062006 -217.067485 -199.056920  83.101037  120.157824  -92.062717   \n205628 -196.082507 -242.087986 -224.077421  58.080536   70.116921  -92.062817   \n\n           delta_G    delta_H  \\\n3387   -132.068499 -20.986396   \n3388   -132.068499 -20.986396   \n10457   -67.041916 -98.990413   \n10465   -67.041916 -64.964056   \n10466   -67.041916 -64.964056   \n...            ...        ...   \n205582  -64.067802 -61.013993   \n205590  -64.067902 -72.004925   \n205597  -64.068002 -36.960049   \n205616  -64.067802 -21.977942   \n205628  -64.067902 -46.998443   \n\n                                               assignment  \n3387                                                 None  \n3388                                                 None  \n10457   F (-tert-butyl fragmentation in MS for Boc or ...  \n10465   F (-tert-butyl fragmentation in MS for Boc or ...  \n10466   F (-tert-butyl fragmentation in MS for Boc or ...  \n...                                                   ...  \n205582         M (Boc->carbamic acid fragmentation in MS)  \n205590         M (Boc->carbamic acid fragmentation in MS)  \n205597         M (Boc->carbamic acid fragmentation in MS)  \n205616         M (Boc->carbamic acid fragmentation in MS)  \n205628         M (Boc->carbamic acid fragmentation in MS)  \n\n[1360 rows x 28 columns]",
      "text/html": "<div>\n<style scoped>\n    .dataframe tbody tr th:only-of-type {\n        vertical-align: middle;\n    }\n\n    .dataframe tbody tr th {\n        vertical-align: top;\n    }\n\n    .dataframe thead th {\n        text-align: right;\n    }\n</style>\n<table border=\"1\" class=\"dataframe\">\n  <thead>\n    <tr style=\"text-align: right;\">\n      <th></th>\n      <th>id</th>\n      <th>experiment_id</th>\n      <th>peak_nr</th>\n      <th>retention_time_s</th>\n      <th>area</th>\n      <th>intensity</th>\n      <th>signal_to_noise</th>\n      <th>mz_max</th>\n      <th>fwhm_min</th>\n      <th>%area</th>\n      <th>...</th>\n      <th>delta_bAA</th>\n      <th>delta_A</th>\n      <th>delta_B</th>\n      <th>delta_C</th>\n      <th>delta_D</th>\n      <th>delta_E</th>\n      <th>delta_F</th>\n      <th>delta_G</th>\n      <th>delta_H</th>\n      <th>assignment</th>\n    </tr>\n  </thead>\n  <tbody>\n    <tr>\n      <th>3387</th>\n      <td>565445</td>\n      <td>11299</td>\n      <td>43</td>\n      <td>240</td>\n      <td>985674</td>\n      <td>187066</td>\n      <td>64.0</td>\n      <td>285.0944</td>\n      <td>0.091</td>\n      <td>13.99819</td>\n      <td>...</td>\n      <td>67.997243</td>\n      <td>-238.078687</td>\n      <td>-284.084166</td>\n      <td>-266.073602</td>\n      <td>-39.999374</td>\n      <td>66.049655</td>\n      <td>-160.063414</td>\n      <td>-132.068499</td>\n      <td>-20.986396</td>\n      <td>None</td>\n    </tr>\n    <tr>\n      <th>3388</th>\n      <td>565451</td>\n      <td>11299</td>\n      <td>49</td>\n      <td>241</td>\n      <td>938194</td>\n      <td>131968</td>\n      <td>1236.8</td>\n      <td>285.0944</td>\n      <td>0.112</td>\n      <td>13.32390</td>\n      <td>...</td>\n      <td>67.997243</td>\n      <td>-238.078687</td>\n      <td>-284.084166</td>\n      <td>-266.073602</td>\n      <td>-39.999374</td>\n      <td>66.049655</td>\n      <td>-160.063414</td>\n      <td>-132.068499</td>\n      <td>-20.986396</td>\n      <td>None</td>\n    </tr>\n    <tr>\n      <th>10457</th>\n      <td>641312</td>\n      <td>14868</td>\n      <td>29</td>\n      <td>322</td>\n      <td>1327257</td>\n      <td>478786</td>\n      <td>197.7</td>\n      <td>341.1710</td>\n      <td>0.042</td>\n      <td>16.27546</td>\n      <td>...</td>\n      <td>67.990113</td>\n      <td>-251.048990</td>\n      <td>-297.054469</td>\n      <td>-279.043905</td>\n      <td>3.114052</td>\n      <td>-33.867519</td>\n      <td>-95.036830</td>\n      <td>-67.041916</td>\n      <td>-98.990413</td>\n      <td>F (-tert-butyl fragmentation in MS for Boc or ...</td>\n    </tr>\n    <tr>\n      <th>10465</th>\n      <td>640518</td>\n      <td>14869</td>\n      <td>36</td>\n      <td>322</td>\n      <td>1062099</td>\n      <td>376018</td>\n      <td>123.3</td>\n      <td>341.1710</td>\n      <td>0.044</td>\n      <td>16.79558</td>\n      <td>...</td>\n      <td>67.990113</td>\n      <td>-217.022633</td>\n      <td>-263.028112</td>\n      <td>-245.017548</td>\n      <td>37.140409</td>\n      <td>34.185195</td>\n      <td>-95.036830</td>\n      <td>-67.041916</td>\n      <td>-64.964056</td>\n      <td>F (-tert-butyl fragmentation in MS for Boc or ...</td>\n    </tr>\n    <tr>\n      <th>10466</th>\n      <td>640519</td>\n      <td>14869</td>\n      <td>37</td>\n      <td>323</td>\n      <td>433626</td>\n      <td>136246</td>\n      <td>1975.1</td>\n      <td>341.1710</td>\n      <td>0.047</td>\n      <td>6.85718</td>\n      <td>...</td>\n      <td>67.990113</td>\n      <td>-217.022633</td>\n      <td>-263.028112</td>\n      <td>-245.017548</td>\n      <td>37.140409</td>\n      <td>34.185195</td>\n      <td>-95.036830</td>\n      <td>-67.041916</td>\n      <td>-64.964056</td>\n      <td>F (-tert-butyl fragmentation in MS for Boc or ...</td>\n    </tr>\n    <tr>\n      <th>...</th>\n      <td>...</td>\n      <td>...</td>\n      <td>...</td>\n      <td>...</td>\n      <td>...</td>\n      <td>...</td>\n      <td>...</td>\n      <td>...</td>\n      <td>...</td>\n      <td>...</td>\n      <td>...</td>\n      <td>...</td>\n      <td>...</td>\n      <td>...</td>\n      <td>...</td>\n      <td>...</td>\n      <td>...</td>\n      <td>...</td>\n      <td>...</td>\n      <td>...</td>\n      <td>...</td>\n    </tr>\n    <tr>\n      <th>205582</th>\n      <td>395387</td>\n      <td>85507</td>\n      <td>49</td>\n      <td>322</td>\n      <td>765245</td>\n      <td>313410</td>\n      <td>103.3</td>\n      <td>341.1706</td>\n      <td>0.041</td>\n      <td>11.24804</td>\n      <td>...</td>\n      <td>67.989713</td>\n      <td>-210.098057</td>\n      <td>-256.103536</td>\n      <td>-238.092971</td>\n      <td>44.064986</td>\n      <td>42.085721</td>\n      <td>-92.062717</td>\n      <td>-64.067802</td>\n      <td>-61.013993</td>\n      <td>M (Boc-&gt;carbamic acid fragmentation in MS)</td>\n    </tr>\n    <tr>\n      <th>205590</th>\n      <td>400344</td>\n      <td>85508</td>\n      <td>58</td>\n      <td>322</td>\n      <td>493896</td>\n      <td>167821</td>\n      <td>62.7</td>\n      <td>341.1705</td>\n      <td>0.046</td>\n      <td>8.14605</td>\n      <td>...</td>\n      <td>67.989613</td>\n      <td>-221.088989</td>\n      <td>-267.094468</td>\n      <td>-249.083904</td>\n      <td>33.074054</td>\n      <td>20.103957</td>\n      <td>-92.062817</td>\n      <td>-64.067902</td>\n      <td>-72.004925</td>\n      <td>M (Boc-&gt;carbamic acid fragmentation in MS)</td>\n    </tr>\n    <tr>\n      <th>205597</th>\n      <td>396306</td>\n      <td>85509</td>\n      <td>46</td>\n      <td>323</td>\n      <td>818404</td>\n      <td>347601</td>\n      <td>152.7</td>\n      <td>341.1704</td>\n      <td>0.039</td>\n      <td>12.29023</td>\n      <td>...</td>\n      <td>67.989513</td>\n      <td>-186.044113</td>\n      <td>-232.049592</td>\n      <td>-214.039028</td>\n      <td>68.118930</td>\n      <td>90.193809</td>\n      <td>-92.062917</td>\n      <td>-64.068002</td>\n      <td>-36.960049</td>\n      <td>M (Boc-&gt;carbamic acid fragmentation in MS)</td>\n    </tr>\n    <tr>\n      <th>205616</th>\n      <td>396108</td>\n      <td>85512</td>\n      <td>46</td>\n      <td>322</td>\n      <td>652535</td>\n      <td>208172</td>\n      <td>87.8</td>\n      <td>341.1706</td>\n      <td>0.045</td>\n      <td>11.16905</td>\n      <td>...</td>\n      <td>67.989713</td>\n      <td>-171.062006</td>\n      <td>-217.067485</td>\n      <td>-199.056920</td>\n      <td>83.101037</td>\n      <td>120.157824</td>\n      <td>-92.062717</td>\n      <td>-64.067802</td>\n      <td>-21.977942</td>\n      <td>M (Boc-&gt;carbamic acid fragmentation in MS)</td>\n    </tr>\n    <tr>\n      <th>205628</th>\n      <td>399443</td>\n      <td>85514</td>\n      <td>46</td>\n      <td>322</td>\n      <td>737842</td>\n      <td>248481</td>\n      <td>88.6</td>\n      <td>341.1705</td>\n      <td>0.044</td>\n      <td>12.09812</td>\n      <td>...</td>\n      <td>67.989613</td>\n      <td>-196.082507</td>\n      <td>-242.087986</td>\n      <td>-224.077421</td>\n      <td>58.080536</td>\n      <td>70.116921</td>\n      <td>-92.062817</td>\n      <td>-64.067902</td>\n      <td>-46.998443</td>\n      <td>M (Boc-&gt;carbamic acid fragmentation in MS)</td>\n    </tr>\n  </tbody>\n</table>\n<p>1360 rows × 28 columns</p>\n</div>"
     },
     "execution_count": 50,
     "metadata": {},
     "output_type": "execute_result"
    }
   ],
   "source": [
    "peaks = df.loc[df.delta_M.round(2) == -56.06]\n",
    "peaks"
   ],
   "metadata": {
    "collapsed": false,
    "ExecuteTime": {
     "end_time": "2023-07-03T09:15:23.428570Z",
     "start_time": "2023-07-03T09:15:23.308224Z"
    }
   }
  },
  {
   "cell_type": "code",
   "execution_count": 51,
   "outputs": [
    {
     "name": "stdout",
     "output_type": "stream",
     "text": [
      "I: 53\n",
      "M: 9\n",
      "T: 41\n"
     ]
    }
   ],
   "source": [
    "# check for how many different building blocks this occurs\n",
    "print(\"I:\", len(peaks.initiator.unique()))\n",
    "print(\"M:\", len(peaks.monomer.unique()))\n",
    "print(\"T:\", len(peaks.terminator.unique()))"
   ],
   "metadata": {
    "collapsed": false,
    "ExecuteTime": {
     "end_time": "2023-07-03T09:15:23.749339Z",
     "start_time": "2023-07-03T09:15:23.640312Z"
    }
   }
  },
  {
   "cell_type": "code",
   "execution_count": 52,
   "outputs": [
    {
     "name": "stdout",
     "output_type": "stream",
     "text": [
      "M52 Mon098\n",
      "M34 Mon076\n",
      "M19 Mon016\n",
      "M16 Mon013\n",
      "M18 Mon015\n",
      "M17 Mon014\n",
      "M5 Mon096\n",
      "M44 Mon090\n",
      "M68 Spiro011\n"
     ]
    }
   ],
   "source": [
    "# let's check which monomers are involved\n",
    "for short in peaks.monomer.unique():\n",
    "    print(short, con.get_long_name(short))"
   ],
   "metadata": {
    "collapsed": false,
    "ExecuteTime": {
     "end_time": "2023-07-03T09:15:24.090334Z",
     "start_time": "2023-07-03T09:15:24.051586Z"
    }
   }
  },
  {
   "cell_type": "code",
   "execution_count": 53,
   "outputs": [
    {
     "name": "stdout",
     "output_type": "stream",
     "text": [
      "M (#boc, #cbz, #tbu, #tms)\n",
      "M52 (0, 0, 0, 0)\n",
      "M34 (1, 0, 0, 0)\n",
      "M19 (1, 0, 0, 0)\n",
      "M16 (1, 0, 0, 0)\n",
      "M18 (1, 0, 0, 0)\n",
      "M17 (1, 0, 0, 0)\n",
      "M5 (1, 0, 0, 0)\n",
      "M44 (1, 0, 0, 0)\n",
      "M68 (0, 0, 0, 0)\n"
     ]
    }
   ],
   "source": [
    "# let's check if all of these have boc\n",
    "print(\"M (#boc, #cbz, #tbu, #tms)\")\n",
    "for short in peaks.monomer.unique():\n",
    "    print(short, con.list_pg(short))"
   ],
   "metadata": {
    "collapsed": false,
    "ExecuteTime": {
     "end_time": "2023-07-03T09:15:24.502029Z",
     "start_time": "2023-07-03T09:15:24.462706Z"
    }
   }
  },
  {
   "cell_type": "code",
   "execution_count": 54,
   "outputs": [
    {
     "data": {
      "text/plain": "M18    440\nM34    380\nM5     189\nM19    158\nM17    117\nM44     70\nM68      3\nM52      2\nM16      1\nName: monomer, dtype: int64"
     },
     "execution_count": 54,
     "metadata": {},
     "output_type": "execute_result"
    }
   ],
   "source": [
    "# M52 doesn't have a boc. Check number of peaks for M52 to determine whether this is a random collision\n",
    "peaks.monomer.value_counts()"
   ],
   "metadata": {
    "collapsed": false,
    "ExecuteTime": {
     "end_time": "2023-07-03T09:15:25.238037Z",
     "start_time": "2023-07-03T09:15:25.146287Z"
    }
   }
  },
  {
   "cell_type": "markdown",
   "source": [
    "The -56.06 difference to monomer occurs from loss of the tert-butyl group (part of the Boc group).\n",
    "The expected mass difference (-C4H8) is 56.0636."
   ],
   "metadata": {
    "collapsed": false
   }
  },
  {
   "cell_type": "code",
   "execution_count": 55,
   "outputs": [],
   "source": [
    "delta_tert_butyl = (-56.0636 - 0.002, -56.0636 + 0.002)"
   ],
   "metadata": {
    "collapsed": false,
    "ExecuteTime": {
     "end_time": "2023-07-03T09:15:27.360492Z",
     "start_time": "2023-07-03T09:15:27.312530Z"
    }
   }
  },
  {
   "cell_type": "code",
   "execution_count": 56,
   "outputs": [
    {
     "data": {
      "text/plain": "M18    440\nM34    380\nM5     189\nM19    158\nM17    117\nM44     70\nName: monomer, dtype: int64"
     },
     "execution_count": 56,
     "metadata": {},
     "output_type": "execute_result"
    }
   ],
   "source": [
    "# does the collision with M52 still occur in a more precise mass range?\n",
    "df.loc[df[\"delta_M\"].between(*delta_tert_butyl)].monomer.value_counts()"
   ],
   "metadata": {
    "collapsed": false,
    "ExecuteTime": {
     "end_time": "2023-07-03T09:15:28.132926Z",
     "start_time": "2023-07-03T09:15:28.016661Z"
    }
   }
  },
  {
   "cell_type": "markdown",
   "source": [
    "No, no more collision with M52 or M16. For the rest, the mass difference is safe to apply.\n",
    "However, one question is left: Does this degradation occur in the MS, or do we actually have the carbamic acid species (usually not stable)?\n",
    "\n",
    "To answer this, we need to manually inspect MS traces.\n"
   ],
   "metadata": {
    "collapsed": false
   }
  },
  {
   "cell_type": "code",
   "execution_count": 57,
   "outputs": [],
   "source": [
    "def get_lab_journal_number_well(experiment_id):\n",
    "    return con.con.execute(\"SELECT lab_journal_number, well FROM experiments WHERE id = ?\", (experiment_id,)).fetchone()"
   ],
   "metadata": {
    "collapsed": false,
    "ExecuteTime": {
     "end_time": "2023-07-03T09:15:30.063995Z",
     "start_time": "2023-07-03T09:15:30.003602Z"
    }
   }
  },
  {
   "cell_type": "code",
   "execution_count": 58,
   "outputs": [
    {
     "data": {
      "text/plain": "       experiment_id peak_nr monomer    identifier\n204313         85208      48     M18  (JG248, A16)\n81016          51068      17     M34  (JG366, F16)\n22101          22583      17     M19  (JG280, F11)",
      "text/html": "<div>\n<style scoped>\n    .dataframe tbody tr th:only-of-type {\n        vertical-align: middle;\n    }\n\n    .dataframe tbody tr th {\n        vertical-align: top;\n    }\n\n    .dataframe thead th {\n        text-align: right;\n    }\n</style>\n<table border=\"1\" class=\"dataframe\">\n  <thead>\n    <tr style=\"text-align: right;\">\n      <th></th>\n      <th>experiment_id</th>\n      <th>peak_nr</th>\n      <th>monomer</th>\n      <th>identifier</th>\n    </tr>\n  </thead>\n  <tbody>\n    <tr>\n      <th>204313</th>\n      <td>85208</td>\n      <td>48</td>\n      <td>M18</td>\n      <td>(JG248, A16)</td>\n    </tr>\n    <tr>\n      <th>81016</th>\n      <td>51068</td>\n      <td>17</td>\n      <td>M34</td>\n      <td>(JG366, F16)</td>\n    </tr>\n    <tr>\n      <th>22101</th>\n      <td>22583</td>\n      <td>17</td>\n      <td>M19</td>\n      <td>(JG280, F11)</td>\n    </tr>\n  </tbody>\n</table>\n</div>"
     },
     "execution_count": 58,
     "metadata": {},
     "output_type": "execute_result"
    }
   ],
   "source": [
    "# let's sample a few of the alrger peaks to inspect manually peaks\n",
    "peaks_to_inspect = df.loc[df[\"delta_M\"].between(*delta_tert_butyl) & (df[\"%area\"] > 20), [\"experiment_id\", \"peak_nr\", \"monomer\"]].sample(3, random_state=1)\n",
    "peaks_to_inspect[\"identifier\"] = peaks_to_inspect[\"experiment_id\"].apply(lambda x: get_lab_journal_number_well(x))\n",
    "peaks_to_inspect"
   ],
   "metadata": {
    "collapsed": false,
    "ExecuteTime": {
     "end_time": "2023-07-03T09:15:32.702Z",
     "start_time": "2023-07-03T09:15:32.593802Z"
    }
   }
  },
  {
   "cell_type": "markdown",
   "source": [
    "Outcome of manual inspection:\n",
    "- JG248/A16: Peak 48 contains both monomer and the carbamic acid derivative (ca. 3:5 int.), but not the fully deprotected amine. There is no other monomer peak.\n",
    "- JG366/F16: Same picture here for peak 17. Contains a miniscule amount of fully deprotected amine. No other monomer peak\n",
    "- JG280/F11: Exact same picture again. Only other peaks are shoulders of peak 17.\n",
    "\n",
    "_In conclusion_, our assumption that the conversion to carbamic acid occurs in the LCMS and does not indicate formation of a separate stable species is confirmed by the data."
   ],
   "metadata": {
    "collapsed": false
   }
  },
  {
   "cell_type": "code",
   "execution_count": 59,
   "outputs": [
    {
     "name": "stdout",
     "output_type": "stream",
     "text": [
      "1354\n"
     ]
    }
   ],
   "source": [
    "# find and count occurences\n",
    "peaks_m_carbamic_acid = df.loc[df[\"delta_M\"].between(*delta_tert_butyl), \"id\"].to_numpy()\n",
    "print(len(peaks_m_carbamic_acid))"
   ],
   "metadata": {
    "collapsed": false,
    "ExecuteTime": {
     "end_time": "2023-07-03T09:15:36.292716Z",
     "start_time": "2023-07-03T09:15:36.252920Z"
    }
   }
  },
  {
   "cell_type": "code",
   "execution_count": 60,
   "outputs": [],
   "source": [
    "# commit to DB\n",
    "assignment = [f\"M (Boc->carbamic acid fragmentation in MS)\" for _ in range(len(peaks_m_carbamic_acid))]\n",
    "with con.con:\n",
    "    con.con.executemany(\"INSERT INTO lcms_peaks_assignment (peak_id, assignment) VALUES (?, ?);\", tuple(zip(peaks_m_carbamic_acid.tolist(), assignment)))"
   ],
   "metadata": {
    "collapsed": false,
    "ExecuteTime": {
     "end_time": "2023-07-03T09:15:37.608753Z",
     "start_time": "2023-07-03T09:15:37.522771Z"
    }
   }
  },
  {
   "cell_type": "markdown",
   "source": [
    "#### Terminator +C<sub>6</sub>H<sub>6</sub>O<sub>2</sub> (+110.04)"
   ],
   "metadata": {
    "collapsed": false
   }
  },
  {
   "cell_type": "code",
   "execution_count": 351,
   "outputs": [
    {
     "data": {
      "text/plain": "            id experiment_id peak_nr retention_time_s     area intensity  \\\n43      518222         10584      99              242   373640    145574   \n48      521089         10585     153              288   390494    150981   \n132     527359         10605      32              288   448336    151736   \n310     521315         10645      24              288   414054    138359   \n401     517036         10662      21              261  1362267    448566   \n...        ...           ...     ...              ...      ...       ...   \n205556  394890         85500      18              259  1396384    530515   \n205558  388986         85501      21              260  1591041    620143   \n205603  395448         85510      20              259   479836    182845   \n205606  400692         85511      17              260   377169    179951   \n205619  400054         85513      17              244   739787    272331   \n\n        signal_to_noise    mz_max  fwhm_min     %area  ...  delta_bAA  \\\n43                 55.6  236.0739     0.038   5.15718  ...  17.935212   \n48                 54.4  286.0899     0.044   5.36774  ...  67.951212   \n132                56.3  286.0900     0.045   6.02827  ...  67.951312   \n310                54.2  286.0900     0.046   5.80533  ...  67.951312   \n401               161.1  280.1004     0.040  18.51341  ...  61.961712   \n...                 ...       ...       ...       ...  ...        ...   \n205556            211.1  250.0894     0.042  22.24137  ...  66.012567   \n205558            238.9  250.0895     0.040  23.38512  ...  66.012667   \n205603             64.6  250.0894     0.041   8.42067  ... -23.091487   \n205606             68.6  250.0894     0.030   5.56862  ... -23.091487   \n205619            102.6  266.0844     0.040  11.10255  ...  -7.096487   \n\n           delta_A     delta_B     delta_C    delta_D    delta_E     delta_F  \\\n43     -209.060821 -255.066301 -237.055736  -9.939978 -12.977570 -148.046945   \n48     -209.060471 -255.065951 -237.055386  -9.939628 -62.992871  -98.030945   \n132    -189.114994 -235.120473 -217.109908  10.005850 -62.992771  -78.085468   \n310    -211.193244 -257.198723 -239.188159 -12.072401 -62.992771 -100.163718   \n401    -271.139035 -317.144515 -299.133950 -72.018192 -57.003500 -166.098944   \n...            ...         ...         ...        ...        ...         ...   \n205556 -107.053743 -153.059222 -135.048657  58.005250 -26.993371  -32.024216   \n205558 -107.053643 -153.059122 -135.048557  58.005350 -26.993271  -32.024116   \n205603 -258.173443 -304.178922 -286.168358  -4.010400 -26.993371 -183.143917   \n205606 -258.173443 -304.178922 -286.168358  -4.010400 -26.993371 -183.143917   \n205619 -258.173358 -304.178837 -286.168272  -4.010315 -42.988200 -167.148917   \n\n           delta_G     delta_H  assignment  \n43     -120.052030   -54.04703        None  \n48      -70.036030   -54.04668        None  \n132     -50.090553   -54.04658        None  \n310     -72.168803   -54.04658        None  \n401    -138.104030  -54.046745        None  \n...            ...         ...         ...  \n205556   -4.029302  -19.985329        None  \n205558   -4.029202  -19.985229        None  \n205603 -155.149002 -109.089379        None  \n205606 -155.149002 -109.089379        None  \n205619 -139.154002 -109.089294        None  \n\n[2367 rows x 28 columns]",
      "text/html": "<div>\n<style scoped>\n    .dataframe tbody tr th:only-of-type {\n        vertical-align: middle;\n    }\n\n    .dataframe tbody tr th {\n        vertical-align: top;\n    }\n\n    .dataframe thead th {\n        text-align: right;\n    }\n</style>\n<table border=\"1\" class=\"dataframe\">\n  <thead>\n    <tr style=\"text-align: right;\">\n      <th></th>\n      <th>id</th>\n      <th>experiment_id</th>\n      <th>peak_nr</th>\n      <th>retention_time_s</th>\n      <th>area</th>\n      <th>intensity</th>\n      <th>signal_to_noise</th>\n      <th>mz_max</th>\n      <th>fwhm_min</th>\n      <th>%area</th>\n      <th>...</th>\n      <th>delta_bAA</th>\n      <th>delta_A</th>\n      <th>delta_B</th>\n      <th>delta_C</th>\n      <th>delta_D</th>\n      <th>delta_E</th>\n      <th>delta_F</th>\n      <th>delta_G</th>\n      <th>delta_H</th>\n      <th>assignment</th>\n    </tr>\n  </thead>\n  <tbody>\n    <tr>\n      <th>43</th>\n      <td>518222</td>\n      <td>10584</td>\n      <td>99</td>\n      <td>242</td>\n      <td>373640</td>\n      <td>145574</td>\n      <td>55.6</td>\n      <td>236.0739</td>\n      <td>0.038</td>\n      <td>5.15718</td>\n      <td>...</td>\n      <td>17.935212</td>\n      <td>-209.060821</td>\n      <td>-255.066301</td>\n      <td>-237.055736</td>\n      <td>-9.939978</td>\n      <td>-12.977570</td>\n      <td>-148.046945</td>\n      <td>-120.052030</td>\n      <td>-54.04703</td>\n      <td>None</td>\n    </tr>\n    <tr>\n      <th>48</th>\n      <td>521089</td>\n      <td>10585</td>\n      <td>153</td>\n      <td>288</td>\n      <td>390494</td>\n      <td>150981</td>\n      <td>54.4</td>\n      <td>286.0899</td>\n      <td>0.044</td>\n      <td>5.36774</td>\n      <td>...</td>\n      <td>67.951212</td>\n      <td>-209.060471</td>\n      <td>-255.065951</td>\n      <td>-237.055386</td>\n      <td>-9.939628</td>\n      <td>-62.992871</td>\n      <td>-98.030945</td>\n      <td>-70.036030</td>\n      <td>-54.04668</td>\n      <td>None</td>\n    </tr>\n    <tr>\n      <th>132</th>\n      <td>527359</td>\n      <td>10605</td>\n      <td>32</td>\n      <td>288</td>\n      <td>448336</td>\n      <td>151736</td>\n      <td>56.3</td>\n      <td>286.0900</td>\n      <td>0.045</td>\n      <td>6.02827</td>\n      <td>...</td>\n      <td>67.951312</td>\n      <td>-189.114994</td>\n      <td>-235.120473</td>\n      <td>-217.109908</td>\n      <td>10.005850</td>\n      <td>-62.992771</td>\n      <td>-78.085468</td>\n      <td>-50.090553</td>\n      <td>-54.04658</td>\n      <td>None</td>\n    </tr>\n    <tr>\n      <th>310</th>\n      <td>521315</td>\n      <td>10645</td>\n      <td>24</td>\n      <td>288</td>\n      <td>414054</td>\n      <td>138359</td>\n      <td>54.2</td>\n      <td>286.0900</td>\n      <td>0.046</td>\n      <td>5.80533</td>\n      <td>...</td>\n      <td>67.951312</td>\n      <td>-211.193244</td>\n      <td>-257.198723</td>\n      <td>-239.188159</td>\n      <td>-12.072401</td>\n      <td>-62.992771</td>\n      <td>-100.163718</td>\n      <td>-72.168803</td>\n      <td>-54.04658</td>\n      <td>None</td>\n    </tr>\n    <tr>\n      <th>401</th>\n      <td>517036</td>\n      <td>10662</td>\n      <td>21</td>\n      <td>261</td>\n      <td>1362267</td>\n      <td>448566</td>\n      <td>161.1</td>\n      <td>280.1004</td>\n      <td>0.040</td>\n      <td>18.51341</td>\n      <td>...</td>\n      <td>61.961712</td>\n      <td>-271.139035</td>\n      <td>-317.144515</td>\n      <td>-299.133950</td>\n      <td>-72.018192</td>\n      <td>-57.003500</td>\n      <td>-166.098944</td>\n      <td>-138.104030</td>\n      <td>-54.046745</td>\n      <td>None</td>\n    </tr>\n    <tr>\n      <th>...</th>\n      <td>...</td>\n      <td>...</td>\n      <td>...</td>\n      <td>...</td>\n      <td>...</td>\n      <td>...</td>\n      <td>...</td>\n      <td>...</td>\n      <td>...</td>\n      <td>...</td>\n      <td>...</td>\n      <td>...</td>\n      <td>...</td>\n      <td>...</td>\n      <td>...</td>\n      <td>...</td>\n      <td>...</td>\n      <td>...</td>\n      <td>...</td>\n      <td>...</td>\n      <td>...</td>\n    </tr>\n    <tr>\n      <th>205556</th>\n      <td>394890</td>\n      <td>85500</td>\n      <td>18</td>\n      <td>259</td>\n      <td>1396384</td>\n      <td>530515</td>\n      <td>211.1</td>\n      <td>250.0894</td>\n      <td>0.042</td>\n      <td>22.24137</td>\n      <td>...</td>\n      <td>66.012567</td>\n      <td>-107.053743</td>\n      <td>-153.059222</td>\n      <td>-135.048657</td>\n      <td>58.005250</td>\n      <td>-26.993371</td>\n      <td>-32.024216</td>\n      <td>-4.029302</td>\n      <td>-19.985329</td>\n      <td>None</td>\n    </tr>\n    <tr>\n      <th>205558</th>\n      <td>388986</td>\n      <td>85501</td>\n      <td>21</td>\n      <td>260</td>\n      <td>1591041</td>\n      <td>620143</td>\n      <td>238.9</td>\n      <td>250.0895</td>\n      <td>0.040</td>\n      <td>23.38512</td>\n      <td>...</td>\n      <td>66.012667</td>\n      <td>-107.053643</td>\n      <td>-153.059122</td>\n      <td>-135.048557</td>\n      <td>58.005350</td>\n      <td>-26.993271</td>\n      <td>-32.024116</td>\n      <td>-4.029202</td>\n      <td>-19.985229</td>\n      <td>None</td>\n    </tr>\n    <tr>\n      <th>205603</th>\n      <td>395448</td>\n      <td>85510</td>\n      <td>20</td>\n      <td>259</td>\n      <td>479836</td>\n      <td>182845</td>\n      <td>64.6</td>\n      <td>250.0894</td>\n      <td>0.041</td>\n      <td>8.42067</td>\n      <td>...</td>\n      <td>-23.091487</td>\n      <td>-258.173443</td>\n      <td>-304.178922</td>\n      <td>-286.168358</td>\n      <td>-4.010400</td>\n      <td>-26.993371</td>\n      <td>-183.143917</td>\n      <td>-155.149002</td>\n      <td>-109.089379</td>\n      <td>None</td>\n    </tr>\n    <tr>\n      <th>205606</th>\n      <td>400692</td>\n      <td>85511</td>\n      <td>17</td>\n      <td>260</td>\n      <td>377169</td>\n      <td>179951</td>\n      <td>68.6</td>\n      <td>250.0894</td>\n      <td>0.030</td>\n      <td>5.56862</td>\n      <td>...</td>\n      <td>-23.091487</td>\n      <td>-258.173443</td>\n      <td>-304.178922</td>\n      <td>-286.168358</td>\n      <td>-4.010400</td>\n      <td>-26.993371</td>\n      <td>-183.143917</td>\n      <td>-155.149002</td>\n      <td>-109.089379</td>\n      <td>None</td>\n    </tr>\n    <tr>\n      <th>205619</th>\n      <td>400054</td>\n      <td>85513</td>\n      <td>17</td>\n      <td>244</td>\n      <td>739787</td>\n      <td>272331</td>\n      <td>102.6</td>\n      <td>266.0844</td>\n      <td>0.040</td>\n      <td>11.10255</td>\n      <td>...</td>\n      <td>-7.096487</td>\n      <td>-258.173358</td>\n      <td>-304.178837</td>\n      <td>-286.168272</td>\n      <td>-4.010315</td>\n      <td>-42.988200</td>\n      <td>-167.148917</td>\n      <td>-139.154002</td>\n      <td>-109.089294</td>\n      <td>None</td>\n    </tr>\n  </tbody>\n</table>\n<p>2367 rows × 28 columns</p>\n</div>"
     },
     "execution_count": 351,
     "metadata": {},
     "output_type": "execute_result"
    }
   ],
   "source": [
    "peaks = df.loc[df.delta_T.round(2) == 110.04]\n",
    "peaks"
   ],
   "metadata": {
    "collapsed": false,
    "ExecuteTime": {
     "end_time": "2023-06-22T09:48:59.492684Z",
     "start_time": "2023-06-22T09:48:59.453664Z"
    }
   }
  },
  {
   "cell_type": "code",
   "execution_count": 352,
   "outputs": [
    {
     "name": "stdout",
     "output_type": "stream",
     "text": [
      "I: 69\n",
      "M: 72\n",
      "T: 13\n"
     ]
    }
   ],
   "source": [
    "# check for how many different building blocks this occurs\n",
    "print(\"I:\", len(peaks.initiator.unique()))\n",
    "print(\"M:\", len(peaks.monomer.unique()))\n",
    "print(\"T:\", len(peaks.terminator.unique()))"
   ],
   "metadata": {
    "collapsed": false,
    "ExecuteTime": {
     "end_time": "2023-06-22T09:49:15.156065Z",
     "start_time": "2023-06-22T09:49:15.127044Z"
    }
   }
  },
  {
   "cell_type": "code",
   "execution_count": 353,
   "outputs": [
    {
     "name": "stdout",
     "output_type": "stream",
     "text": [
      "T1 TerABT001\n",
      "T8 TerABT010\n",
      "T17 TerABT022\n",
      "T18 TerABT023\n",
      "T13 TerABT015\n",
      "T7 TerABT009\n",
      "T3 TerABT005\n",
      "T4 TerABT006\n",
      "T12 TerABT014\n",
      "T2 TerABT004\n",
      "T15 TerABT017\n",
      "T10 TerABT012\n",
      "T6 TerABT008\n"
     ]
    }
   ],
   "source": [
    "# let's check which terminators are involved\n",
    "for short in peaks.terminator.unique():\n",
    "    print(short, con.get_long_name(short))"
   ],
   "metadata": {
    "collapsed": false,
    "ExecuteTime": {
     "end_time": "2023-06-22T09:49:31.851320Z",
     "start_time": "2023-06-22T09:49:31.836166Z"
    }
   }
  },
  {
   "cell_type": "code",
   "execution_count": 356,
   "outputs": [
    {
     "data": {
      "text/plain": "T17    490\nT3     344\nT8     303\nT13    285\nT18    271\nT7     213\nT4     208\nT1     198\nT2      29\nT12     20\nT15      2\nT10      2\nT6       2\nName: terminator, dtype: int64"
     },
     "execution_count": 356,
     "metadata": {},
     "output_type": "execute_result"
    }
   ],
   "source": [
    "# obviously all are ABTs. Let's see where we have frequent occurences\n",
    "peaks.terminator.value_counts()"
   ],
   "metadata": {
    "collapsed": false,
    "ExecuteTime": {
     "end_time": "2023-06-22T09:51:32.520721Z",
     "start_time": "2023-06-22T09:51:32.507567Z"
    }
   }
  },
  {
   "cell_type": "code",
   "execution_count": 357,
   "outputs": [
    {
     "data": {
      "text/plain": "'CCOc1ccc(N)c(S)c1'"
     },
     "execution_count": 357,
     "metadata": {},
     "output_type": "execute_result"
    }
   ],
   "source": [
    "con.get_smiles(\"T17\")"
   ],
   "metadata": {
    "collapsed": false,
    "ExecuteTime": {
     "end_time": "2023-06-22T09:53:18.298133Z",
     "start_time": "2023-06-22T09:53:18.293329Z"
    }
   }
  },
  {
   "cell_type": "code",
   "execution_count": 358,
   "outputs": [
    {
     "data": {
      "text/plain": "'Nc1c(S)ccc2ccccc12'"
     },
     "execution_count": 358,
     "metadata": {},
     "output_type": "execute_result"
    }
   ],
   "source": [
    "con.get_smiles(\"T8\")"
   ],
   "metadata": {
    "collapsed": false,
    "ExecuteTime": {
     "end_time": "2023-06-22T10:31:35.586115Z",
     "start_time": "2023-06-22T10:31:35.572302Z"
    }
   }
  },
  {
   "cell_type": "markdown",
   "source": [
    "The mass difference is only observed for ABT terminators.\n",
    "It corresponds to +C<sub>6</sub>H<sub>6</sub>O<sub>2</sub> (+110.0368).\n",
    "I don't find a good structure to explain this mass difference.\n",
    "We will leave the peaks unassigned for now."
   ],
   "metadata": {
    "collapsed": false
   }
  },
  {
   "cell_type": "markdown",
   "source": [
    "#### Terminator delta only with methyl-ABT (+215.08)"
   ],
   "metadata": {
    "collapsed": false
   }
  },
  {
   "cell_type": "code",
   "execution_count": 359,
   "outputs": [
    {
     "data": {
      "text/plain": "            id experiment_id peak_nr retention_time_s     area intensity  \\\n55      519463         10586     181              382  5384517   2173071   \n87      528763         10596      43              382  4087039   1700510   \n135     528874         10606      56              382  4872804   2095422   \n164     529114         10616      41              382  4074432   1868198   \n261     533929         10636      36              382  3199862   1421639   \n...        ...           ...     ...              ...      ...       ...   \n205466  396840         85481      46              378  1834166    888599   \n205522  396361         85490      47              374   433704    222876   \n205604  395473         85510      45              374  4812195   1792343   \n205609  400719         85511      44              378  1390123   1483025   \n205646  389724         85520      39              374  1340364   1130266   \n\n        signal_to_noise    mz_max  fwhm_min     %area  ...   delta_bAA  \\\n55                938.2  355.1304     0.041  74.13447  ...  136.991712   \n87               1036.0  355.1304     0.040  51.41997  ...  109.143135   \n135               721.3  355.1305     0.040  71.86874  ...  136.991812   \n164               728.8  355.1306     0.039  58.47598  ...  109.143335   \n261               658.6  355.1307     0.038  43.13149  ...  109.143435   \n...                 ...       ...       ...       ...  ...         ...   \n205466            379.5  355.1292     0.035  26.58193  ...  171.052367   \n205522             77.4  355.1295     0.038   6.24589  ...   81.948613   \n205604            621.9  355.1291     0.044  84.44941  ...   81.948213   \n205609            332.2  355.1292     0.027  20.52410  ...   81.948313   \n205646            275.6  355.1293     0.032  12.50610  ...  171.052467   \n\n           delta_A     delta_B     delta_C     delta_D    delta_E    delta_F  \\\n55     -104.019971 -150.025451 -132.014886   95.100872  78.047629 -28.990445   \n87     -131.868552 -177.874031 -159.863467   95.100872  78.047629 -56.839026   \n135     -84.074494 -130.079973 -112.069408  115.046350  78.047729  -9.044968   \n164    -111.922974 -157.928454 -139.917889  115.046450  78.047829 -36.893448   \n261    -154.965073 -200.970553 -182.959988   72.004350  78.047929 -79.935547   \n...            ...         ...         ...         ...        ...        ...   \n205466  -16.029593  -62.035072  -44.024507  149.029400  78.046429  58.999934   \n205522  -91.117693 -137.123172 -119.112608  163.045350  78.046729 -16.088167   \n205604 -153.133743 -199.139222 -181.128658  101.029300  78.046329 -78.104217   \n205609 -153.133643 -199.139122 -181.128558  101.029400  78.046429 -78.104117   \n205646  -64.029493 -110.034972  -92.024407  101.029500  78.046529  11.000034   \n\n          delta_G    delta_H  assignment  \n55      -0.995530   50.99382        None  \n87     -28.844111   23.14524        None  \n135     18.949947   50.99392        None  \n164     -8.898533   23.14544        None  \n261    -51.940633   23.14554        None  \n...           ...        ...         ...  \n205466  86.994848  85.054471        None  \n205522  11.906748  -4.049279        None  \n205604 -50.109302  -4.049679        None  \n205609 -50.109202  -4.049579        None  \n205646  38.994948  85.054571        None  \n\n[2149 rows x 28 columns]",
      "text/html": "<div>\n<style scoped>\n    .dataframe tbody tr th:only-of-type {\n        vertical-align: middle;\n    }\n\n    .dataframe tbody tr th {\n        vertical-align: top;\n    }\n\n    .dataframe thead th {\n        text-align: right;\n    }\n</style>\n<table border=\"1\" class=\"dataframe\">\n  <thead>\n    <tr style=\"text-align: right;\">\n      <th></th>\n      <th>id</th>\n      <th>experiment_id</th>\n      <th>peak_nr</th>\n      <th>retention_time_s</th>\n      <th>area</th>\n      <th>intensity</th>\n      <th>signal_to_noise</th>\n      <th>mz_max</th>\n      <th>fwhm_min</th>\n      <th>%area</th>\n      <th>...</th>\n      <th>delta_bAA</th>\n      <th>delta_A</th>\n      <th>delta_B</th>\n      <th>delta_C</th>\n      <th>delta_D</th>\n      <th>delta_E</th>\n      <th>delta_F</th>\n      <th>delta_G</th>\n      <th>delta_H</th>\n      <th>assignment</th>\n    </tr>\n  </thead>\n  <tbody>\n    <tr>\n      <th>55</th>\n      <td>519463</td>\n      <td>10586</td>\n      <td>181</td>\n      <td>382</td>\n      <td>5384517</td>\n      <td>2173071</td>\n      <td>938.2</td>\n      <td>355.1304</td>\n      <td>0.041</td>\n      <td>74.13447</td>\n      <td>...</td>\n      <td>136.991712</td>\n      <td>-104.019971</td>\n      <td>-150.025451</td>\n      <td>-132.014886</td>\n      <td>95.100872</td>\n      <td>78.047629</td>\n      <td>-28.990445</td>\n      <td>-0.995530</td>\n      <td>50.99382</td>\n      <td>None</td>\n    </tr>\n    <tr>\n      <th>87</th>\n      <td>528763</td>\n      <td>10596</td>\n      <td>43</td>\n      <td>382</td>\n      <td>4087039</td>\n      <td>1700510</td>\n      <td>1036.0</td>\n      <td>355.1304</td>\n      <td>0.040</td>\n      <td>51.41997</td>\n      <td>...</td>\n      <td>109.143135</td>\n      <td>-131.868552</td>\n      <td>-177.874031</td>\n      <td>-159.863467</td>\n      <td>95.100872</td>\n      <td>78.047629</td>\n      <td>-56.839026</td>\n      <td>-28.844111</td>\n      <td>23.14524</td>\n      <td>None</td>\n    </tr>\n    <tr>\n      <th>135</th>\n      <td>528874</td>\n      <td>10606</td>\n      <td>56</td>\n      <td>382</td>\n      <td>4872804</td>\n      <td>2095422</td>\n      <td>721.3</td>\n      <td>355.1305</td>\n      <td>0.040</td>\n      <td>71.86874</td>\n      <td>...</td>\n      <td>136.991812</td>\n      <td>-84.074494</td>\n      <td>-130.079973</td>\n      <td>-112.069408</td>\n      <td>115.046350</td>\n      <td>78.047729</td>\n      <td>-9.044968</td>\n      <td>18.949947</td>\n      <td>50.99392</td>\n      <td>None</td>\n    </tr>\n    <tr>\n      <th>164</th>\n      <td>529114</td>\n      <td>10616</td>\n      <td>41</td>\n      <td>382</td>\n      <td>4074432</td>\n      <td>1868198</td>\n      <td>728.8</td>\n      <td>355.1306</td>\n      <td>0.039</td>\n      <td>58.47598</td>\n      <td>...</td>\n      <td>109.143335</td>\n      <td>-111.922974</td>\n      <td>-157.928454</td>\n      <td>-139.917889</td>\n      <td>115.046450</td>\n      <td>78.047829</td>\n      <td>-36.893448</td>\n      <td>-8.898533</td>\n      <td>23.14544</td>\n      <td>None</td>\n    </tr>\n    <tr>\n      <th>261</th>\n      <td>533929</td>\n      <td>10636</td>\n      <td>36</td>\n      <td>382</td>\n      <td>3199862</td>\n      <td>1421639</td>\n      <td>658.6</td>\n      <td>355.1307</td>\n      <td>0.038</td>\n      <td>43.13149</td>\n      <td>...</td>\n      <td>109.143435</td>\n      <td>-154.965073</td>\n      <td>-200.970553</td>\n      <td>-182.959988</td>\n      <td>72.004350</td>\n      <td>78.047929</td>\n      <td>-79.935547</td>\n      <td>-51.940633</td>\n      <td>23.14554</td>\n      <td>None</td>\n    </tr>\n    <tr>\n      <th>...</th>\n      <td>...</td>\n      <td>...</td>\n      <td>...</td>\n      <td>...</td>\n      <td>...</td>\n      <td>...</td>\n      <td>...</td>\n      <td>...</td>\n      <td>...</td>\n      <td>...</td>\n      <td>...</td>\n      <td>...</td>\n      <td>...</td>\n      <td>...</td>\n      <td>...</td>\n      <td>...</td>\n      <td>...</td>\n      <td>...</td>\n      <td>...</td>\n      <td>...</td>\n      <td>...</td>\n    </tr>\n    <tr>\n      <th>205466</th>\n      <td>396840</td>\n      <td>85481</td>\n      <td>46</td>\n      <td>378</td>\n      <td>1834166</td>\n      <td>888599</td>\n      <td>379.5</td>\n      <td>355.1292</td>\n      <td>0.035</td>\n      <td>26.58193</td>\n      <td>...</td>\n      <td>171.052367</td>\n      <td>-16.029593</td>\n      <td>-62.035072</td>\n      <td>-44.024507</td>\n      <td>149.029400</td>\n      <td>78.046429</td>\n      <td>58.999934</td>\n      <td>86.994848</td>\n      <td>85.054471</td>\n      <td>None</td>\n    </tr>\n    <tr>\n      <th>205522</th>\n      <td>396361</td>\n      <td>85490</td>\n      <td>47</td>\n      <td>374</td>\n      <td>433704</td>\n      <td>222876</td>\n      <td>77.4</td>\n      <td>355.1295</td>\n      <td>0.038</td>\n      <td>6.24589</td>\n      <td>...</td>\n      <td>81.948613</td>\n      <td>-91.117693</td>\n      <td>-137.123172</td>\n      <td>-119.112608</td>\n      <td>163.045350</td>\n      <td>78.046729</td>\n      <td>-16.088167</td>\n      <td>11.906748</td>\n      <td>-4.049279</td>\n      <td>None</td>\n    </tr>\n    <tr>\n      <th>205604</th>\n      <td>395473</td>\n      <td>85510</td>\n      <td>45</td>\n      <td>374</td>\n      <td>4812195</td>\n      <td>1792343</td>\n      <td>621.9</td>\n      <td>355.1291</td>\n      <td>0.044</td>\n      <td>84.44941</td>\n      <td>...</td>\n      <td>81.948213</td>\n      <td>-153.133743</td>\n      <td>-199.139222</td>\n      <td>-181.128658</td>\n      <td>101.029300</td>\n      <td>78.046329</td>\n      <td>-78.104217</td>\n      <td>-50.109302</td>\n      <td>-4.049679</td>\n      <td>None</td>\n    </tr>\n    <tr>\n      <th>205609</th>\n      <td>400719</td>\n      <td>85511</td>\n      <td>44</td>\n      <td>378</td>\n      <td>1390123</td>\n      <td>1483025</td>\n      <td>332.2</td>\n      <td>355.1292</td>\n      <td>0.027</td>\n      <td>20.52410</td>\n      <td>...</td>\n      <td>81.948313</td>\n      <td>-153.133643</td>\n      <td>-199.139122</td>\n      <td>-181.128558</td>\n      <td>101.029400</td>\n      <td>78.046429</td>\n      <td>-78.104117</td>\n      <td>-50.109202</td>\n      <td>-4.049579</td>\n      <td>None</td>\n    </tr>\n    <tr>\n      <th>205646</th>\n      <td>389724</td>\n      <td>85520</td>\n      <td>39</td>\n      <td>374</td>\n      <td>1340364</td>\n      <td>1130266</td>\n      <td>275.6</td>\n      <td>355.1293</td>\n      <td>0.032</td>\n      <td>12.50610</td>\n      <td>...</td>\n      <td>171.052467</td>\n      <td>-64.029493</td>\n      <td>-110.034972</td>\n      <td>-92.024407</td>\n      <td>101.029500</td>\n      <td>78.046529</td>\n      <td>11.000034</td>\n      <td>38.994948</td>\n      <td>85.054571</td>\n      <td>None</td>\n    </tr>\n  </tbody>\n</table>\n<p>2149 rows × 28 columns</p>\n</div>"
     },
     "execution_count": 359,
     "metadata": {},
     "output_type": "execute_result"
    }
   ],
   "source": [
    "peaks = df.loc[df.delta_T.round(2) == 215.08]\n",
    "peaks"
   ],
   "metadata": {
    "collapsed": false,
    "ExecuteTime": {
     "end_time": "2023-06-22T12:24:06.899189Z",
     "start_time": "2023-06-22T12:24:06.847609Z"
    }
   }
  },
  {
   "cell_type": "code",
   "execution_count": 368,
   "outputs": [
    {
     "data": {
      "text/plain": "355.1296"
     },
     "execution_count": 368,
     "metadata": {},
     "output_type": "execute_result"
    }
   ],
   "source": [
    "peaks.mz_max.median()"
   ],
   "metadata": {
    "collapsed": false,
    "ExecuteTime": {
     "end_time": "2023-06-22T12:30:37.561155Z",
     "start_time": "2023-06-22T12:30:37.540309Z"
    }
   }
  },
  {
   "cell_type": "code",
   "execution_count": 360,
   "outputs": [
    {
     "name": "stdout",
     "output_type": "stream",
     "text": [
      "I: 68\n",
      "M: 73\n",
      "T: 5\n"
     ]
    }
   ],
   "source": [
    "# check for how many different building blocks this occurs\n",
    "print(\"I:\", len(peaks.initiator.unique()))\n",
    "print(\"M:\", len(peaks.monomer.unique()))\n",
    "print(\"T:\", len(peaks.terminator.unique()))"
   ],
   "metadata": {
    "collapsed": false,
    "ExecuteTime": {
     "end_time": "2023-06-22T12:24:09.939450Z",
     "start_time": "2023-06-22T12:24:09.925913Z"
    }
   }
  },
  {
   "cell_type": "code",
   "execution_count": 361,
   "outputs": [
    {
     "name": "stdout",
     "output_type": "stream",
     "text": [
      "T18 TerABT023\n",
      "T7 TerABT009\n",
      "T3 TerABT005\n",
      "T24 TerTH006\n",
      "T1 TerABT001\n"
     ]
    }
   ],
   "source": [
    "# let's check which terminators are involved\n",
    "for short in peaks.terminator.unique():\n",
    "    print(short, con.get_long_name(short))"
   ],
   "metadata": {
    "collapsed": false,
    "ExecuteTime": {
     "end_time": "2023-06-22T12:24:13.449965Z",
     "start_time": "2023-06-22T12:24:13.436279Z"
    }
   }
  },
  {
   "cell_type": "code",
   "execution_count": 363,
   "outputs": [
    {
     "data": {
      "text/plain": "T18    1041\nT3      798\nT7      282\nT24      27\nT1        1\nName: terminator, dtype: int64"
     },
     "execution_count": 363,
     "metadata": {},
     "output_type": "execute_result"
    }
   ],
   "source": [
    "# Let's see where we have frequent occurrences\n",
    "peaks.terminator.value_counts()"
   ],
   "metadata": {
    "collapsed": false,
    "ExecuteTime": {
     "end_time": "2023-06-22T12:24:38.695749Z",
     "start_time": "2023-06-22T12:24:38.678420Z"
    }
   }
  },
  {
   "cell_type": "code",
   "execution_count": 364,
   "outputs": [],
   "source": [
    "con.show_image(\"T18\")"
   ],
   "metadata": {
    "collapsed": false,
    "ExecuteTime": {
     "end_time": "2023-06-22T12:26:54.360761Z",
     "start_time": "2023-06-22T12:26:54.084109Z"
    }
   }
  },
  {
   "cell_type": "code",
   "execution_count": 365,
   "outputs": [],
   "source": [
    "con.show_image(\"T3\")"
   ],
   "metadata": {
    "collapsed": false,
    "ExecuteTime": {
     "end_time": "2023-06-22T12:27:01.440374Z",
     "start_time": "2023-06-22T12:27:01.316911Z"
    }
   }
  },
  {
   "cell_type": "code",
   "execution_count": 366,
   "outputs": [],
   "source": [
    "con.show_image(\"T7\")"
   ],
   "metadata": {
    "collapsed": false,
    "ExecuteTime": {
     "end_time": "2023-06-22T12:27:08.706711Z",
     "start_time": "2023-06-22T12:27:08.590272Z"
    }
   }
  },
  {
   "cell_type": "markdown",
   "source": [
    "T18, T3, T7 are all isomers of each other (Me-substituted ABTs).\n",
    "Since they all have the same mass, the fact that the same delta_T comes up for all of them does not tell us anything about whether the terminator is part of the unknown species.\n",
    "We don't investigate this one further."
   ],
   "metadata": {
    "collapsed": false
   }
  },
  {
   "cell_type": "markdown",
   "source": [
    "#### Terminator +77.04 / product E +78.05 (C6H6)\n",
    "Initially, we only considered T+77.04 here, but analysis of the spectra showed that this is actually a frequent fragment arising from the product E + C6H6 species."
   ],
   "metadata": {
    "collapsed": false
   }
  },
  {
   "cell_type": "code",
   "execution_count": 369,
   "outputs": [
    {
     "data": {
      "text/plain": "             id experiment_id peak_nr retention_time_s     area intensity  \\\n30742   1150175         26661      48              354  2312804   1387892   \n30901   1149470         26701      40              354  3054552   1306252   \n31014   1151191         26721      50              354  2526741   1079650   \n31129   1150029         26741      58              354   694028    337756   \n31186   1157254         26751      46              354   722334    389763   \n...         ...           ...     ...              ...      ...       ...   \n174293  1126463         76811      52              354  3049385   1163253   \n174326  1135174         76821      50              354  1896936   1110388   \n174373  1133824         76831      47              354  1608932    976262   \n174465  1127497         76851      62              354  1740954    674977   \n174519  1142784         76861      43              354  1184042    557567   \n\n        signal_to_noise    mz_max  fwhm_min      %area  ...  delta_bAA  \\\n30742             239.5  203.0758     0.036  16.347060  ... -30.073787   \n30901             231.4  203.0757     0.041  21.476330  ... -30.073887   \n31014             225.2  203.0757     0.039  19.073080  ... -30.073887   \n31129              68.9  203.0757     0.037   5.357470  ... -30.073887   \n31186              62.2  203.0757     0.035   5.535304  ...  55.033025   \n...                 ...       ...       ...        ...  ...        ...   \n174293            279.2  203.0759     0.043  20.396290  ...  71.010377   \n174326            142.6  203.0759     0.037  12.833970  ... -40.036907   \n174373            114.1  203.0759     0.036  11.288160  ...  71.010377   \n174465            141.8  203.0758     0.042  11.302403  ...  71.010277   \n174519             93.1  203.0759     0.039   8.155251  ... -40.036907   \n\n           delta_A     delta_B     delta_C     delta_D   delta_E     delta_F  \\\n30742  -257.069820 -303.075300 -285.064735  -42.938078 -45.97567 -196.055944   \n30901  -280.166742 -326.172221 -308.161657  -66.035000 -45.97577 -219.152866   \n31014  -259.202793 -305.208272 -287.197708  -45.071051 -45.97577 -198.188917   \n31129  -319.148420 -365.153899 -347.143334 -105.016677 -45.97577 -258.134543   \n31186  -219.023449 -265.028928 -247.018363  -89.998614 -45.97577 -158.009573   \n...            ...         ...         ...         ...       ...         ...   \n174293 -153.030442 -199.035922 -181.025357  -39.982764 -45.97557  -92.016566   \n174326 -264.077727 -310.083206 -292.072642  -39.982764 -45.97557 -203.063851   \n174373 -164.071579 -210.077058 -192.066494  -51.023900 -45.97557 -103.057703   \n174465 -245.056757 -291.062236 -273.051672 -132.009079 -45.97567 -184.042881   \n174519 -356.103942 -402.109421 -384.098856 -132.008979 -45.97557 -295.090065   \n\n           delta_G     delta_H  assignment  \n30742  -168.061030 -102.056029        None  \n30901  -191.157951 -102.056129        None  \n31014  -170.194002 -102.056129        None  \n31129  -230.139629 -102.056129        None  \n31186  -130.014658  -16.949221        None  \n...            ...         ...         ...  \n174293  -64.021652   -0.971865        None  \n174326 -175.068936 -112.019149        None  \n174373  -75.062788   -0.971865        None  \n174465 -156.047966   -0.971965        None  \n174519 -267.095151 -112.019149        None  \n\n[1031 rows x 28 columns]",
      "text/html": "<div>\n<style scoped>\n    .dataframe tbody tr th:only-of-type {\n        vertical-align: middle;\n    }\n\n    .dataframe tbody tr th {\n        vertical-align: top;\n    }\n\n    .dataframe thead th {\n        text-align: right;\n    }\n</style>\n<table border=\"1\" class=\"dataframe\">\n  <thead>\n    <tr style=\"text-align: right;\">\n      <th></th>\n      <th>id</th>\n      <th>experiment_id</th>\n      <th>peak_nr</th>\n      <th>retention_time_s</th>\n      <th>area</th>\n      <th>intensity</th>\n      <th>signal_to_noise</th>\n      <th>mz_max</th>\n      <th>fwhm_min</th>\n      <th>%area</th>\n      <th>...</th>\n      <th>delta_bAA</th>\n      <th>delta_A</th>\n      <th>delta_B</th>\n      <th>delta_C</th>\n      <th>delta_D</th>\n      <th>delta_E</th>\n      <th>delta_F</th>\n      <th>delta_G</th>\n      <th>delta_H</th>\n      <th>assignment</th>\n    </tr>\n  </thead>\n  <tbody>\n    <tr>\n      <th>30742</th>\n      <td>1150175</td>\n      <td>26661</td>\n      <td>48</td>\n      <td>354</td>\n      <td>2312804</td>\n      <td>1387892</td>\n      <td>239.5</td>\n      <td>203.0758</td>\n      <td>0.036</td>\n      <td>16.347060</td>\n      <td>...</td>\n      <td>-30.073787</td>\n      <td>-257.069820</td>\n      <td>-303.075300</td>\n      <td>-285.064735</td>\n      <td>-42.938078</td>\n      <td>-45.97567</td>\n      <td>-196.055944</td>\n      <td>-168.061030</td>\n      <td>-102.056029</td>\n      <td>None</td>\n    </tr>\n    <tr>\n      <th>30901</th>\n      <td>1149470</td>\n      <td>26701</td>\n      <td>40</td>\n      <td>354</td>\n      <td>3054552</td>\n      <td>1306252</td>\n      <td>231.4</td>\n      <td>203.0757</td>\n      <td>0.041</td>\n      <td>21.476330</td>\n      <td>...</td>\n      <td>-30.073887</td>\n      <td>-280.166742</td>\n      <td>-326.172221</td>\n      <td>-308.161657</td>\n      <td>-66.035000</td>\n      <td>-45.97577</td>\n      <td>-219.152866</td>\n      <td>-191.157951</td>\n      <td>-102.056129</td>\n      <td>None</td>\n    </tr>\n    <tr>\n      <th>31014</th>\n      <td>1151191</td>\n      <td>26721</td>\n      <td>50</td>\n      <td>354</td>\n      <td>2526741</td>\n      <td>1079650</td>\n      <td>225.2</td>\n      <td>203.0757</td>\n      <td>0.039</td>\n      <td>19.073080</td>\n      <td>...</td>\n      <td>-30.073887</td>\n      <td>-259.202793</td>\n      <td>-305.208272</td>\n      <td>-287.197708</td>\n      <td>-45.071051</td>\n      <td>-45.97577</td>\n      <td>-198.188917</td>\n      <td>-170.194002</td>\n      <td>-102.056129</td>\n      <td>None</td>\n    </tr>\n    <tr>\n      <th>31129</th>\n      <td>1150029</td>\n      <td>26741</td>\n      <td>58</td>\n      <td>354</td>\n      <td>694028</td>\n      <td>337756</td>\n      <td>68.9</td>\n      <td>203.0757</td>\n      <td>0.037</td>\n      <td>5.357470</td>\n      <td>...</td>\n      <td>-30.073887</td>\n      <td>-319.148420</td>\n      <td>-365.153899</td>\n      <td>-347.143334</td>\n      <td>-105.016677</td>\n      <td>-45.97577</td>\n      <td>-258.134543</td>\n      <td>-230.139629</td>\n      <td>-102.056129</td>\n      <td>None</td>\n    </tr>\n    <tr>\n      <th>31186</th>\n      <td>1157254</td>\n      <td>26751</td>\n      <td>46</td>\n      <td>354</td>\n      <td>722334</td>\n      <td>389763</td>\n      <td>62.2</td>\n      <td>203.0757</td>\n      <td>0.035</td>\n      <td>5.535304</td>\n      <td>...</td>\n      <td>55.033025</td>\n      <td>-219.023449</td>\n      <td>-265.028928</td>\n      <td>-247.018363</td>\n      <td>-89.998614</td>\n      <td>-45.97577</td>\n      <td>-158.009573</td>\n      <td>-130.014658</td>\n      <td>-16.949221</td>\n      <td>None</td>\n    </tr>\n    <tr>\n      <th>...</th>\n      <td>...</td>\n      <td>...</td>\n      <td>...</td>\n      <td>...</td>\n      <td>...</td>\n      <td>...</td>\n      <td>...</td>\n      <td>...</td>\n      <td>...</td>\n      <td>...</td>\n      <td>...</td>\n      <td>...</td>\n      <td>...</td>\n      <td>...</td>\n      <td>...</td>\n      <td>...</td>\n      <td>...</td>\n      <td>...</td>\n      <td>...</td>\n      <td>...</td>\n      <td>...</td>\n    </tr>\n    <tr>\n      <th>174293</th>\n      <td>1126463</td>\n      <td>76811</td>\n      <td>52</td>\n      <td>354</td>\n      <td>3049385</td>\n      <td>1163253</td>\n      <td>279.2</td>\n      <td>203.0759</td>\n      <td>0.043</td>\n      <td>20.396290</td>\n      <td>...</td>\n      <td>71.010377</td>\n      <td>-153.030442</td>\n      <td>-199.035922</td>\n      <td>-181.025357</td>\n      <td>-39.982764</td>\n      <td>-45.97557</td>\n      <td>-92.016566</td>\n      <td>-64.021652</td>\n      <td>-0.971865</td>\n      <td>None</td>\n    </tr>\n    <tr>\n      <th>174326</th>\n      <td>1135174</td>\n      <td>76821</td>\n      <td>50</td>\n      <td>354</td>\n      <td>1896936</td>\n      <td>1110388</td>\n      <td>142.6</td>\n      <td>203.0759</td>\n      <td>0.037</td>\n      <td>12.833970</td>\n      <td>...</td>\n      <td>-40.036907</td>\n      <td>-264.077727</td>\n      <td>-310.083206</td>\n      <td>-292.072642</td>\n      <td>-39.982764</td>\n      <td>-45.97557</td>\n      <td>-203.063851</td>\n      <td>-175.068936</td>\n      <td>-112.019149</td>\n      <td>None</td>\n    </tr>\n    <tr>\n      <th>174373</th>\n      <td>1133824</td>\n      <td>76831</td>\n      <td>47</td>\n      <td>354</td>\n      <td>1608932</td>\n      <td>976262</td>\n      <td>114.1</td>\n      <td>203.0759</td>\n      <td>0.036</td>\n      <td>11.288160</td>\n      <td>...</td>\n      <td>71.010377</td>\n      <td>-164.071579</td>\n      <td>-210.077058</td>\n      <td>-192.066494</td>\n      <td>-51.023900</td>\n      <td>-45.97557</td>\n      <td>-103.057703</td>\n      <td>-75.062788</td>\n      <td>-0.971865</td>\n      <td>None</td>\n    </tr>\n    <tr>\n      <th>174465</th>\n      <td>1127497</td>\n      <td>76851</td>\n      <td>62</td>\n      <td>354</td>\n      <td>1740954</td>\n      <td>674977</td>\n      <td>141.8</td>\n      <td>203.0758</td>\n      <td>0.042</td>\n      <td>11.302403</td>\n      <td>...</td>\n      <td>71.010277</td>\n      <td>-245.056757</td>\n      <td>-291.062236</td>\n      <td>-273.051672</td>\n      <td>-132.009079</td>\n      <td>-45.97567</td>\n      <td>-184.042881</td>\n      <td>-156.047966</td>\n      <td>-0.971965</td>\n      <td>None</td>\n    </tr>\n    <tr>\n      <th>174519</th>\n      <td>1142784</td>\n      <td>76861</td>\n      <td>43</td>\n      <td>354</td>\n      <td>1184042</td>\n      <td>557567</td>\n      <td>93.1</td>\n      <td>203.0759</td>\n      <td>0.039</td>\n      <td>8.155251</td>\n      <td>...</td>\n      <td>-40.036907</td>\n      <td>-356.103942</td>\n      <td>-402.109421</td>\n      <td>-384.098856</td>\n      <td>-132.008979</td>\n      <td>-45.97557</td>\n      <td>-295.090065</td>\n      <td>-267.095151</td>\n      <td>-112.019149</td>\n      <td>None</td>\n    </tr>\n  </tbody>\n</table>\n<p>1031 rows × 28 columns</p>\n</div>"
     },
     "execution_count": 369,
     "metadata": {},
     "output_type": "execute_result"
    }
   ],
   "source": [
    "peaks = df.loc[df.delta_T.round(2) == 77.04]\n",
    "peaks"
   ],
   "metadata": {
    "collapsed": false,
    "ExecuteTime": {
     "end_time": "2023-06-22T12:33:01.739291Z",
     "start_time": "2023-06-22T12:33:01.708553Z"
    }
   }
  },
  {
   "cell_type": "code",
   "execution_count": 382,
   "outputs": [
    {
     "data": {
      "text/plain": "('JG337', 'E8')"
     },
     "execution_count": 382,
     "metadata": {},
     "output_type": "execute_result"
    }
   ],
   "source": [
    "get_lab_journal_number_well(41780)"
   ],
   "metadata": {
    "collapsed": false,
    "ExecuteTime": {
     "end_time": "2023-06-22T13:09:43.606590Z",
     "start_time": "2023-06-22T13:09:43.575628Z"
    }
   }
  },
  {
   "cell_type": "code",
   "execution_count": 380,
   "outputs": [
    {
     "data": {
      "text/plain": "('CC(C)(C)OC(=O)NCC[C@H](Cc1nc2ccccc2s1)NC(=O)c1ccc(Cl)cc1',\n 'CC(C)(C)OC(=O)NCC[C@H](CC1(C(=O)O)Nc2ccccc2S1)NC(=O)c1ccc(Cl)cc1',\n 'CC(C)(C)OC(=O)NCC[C@@H]1CC2(C(=O)[O-])Sc3ccccc3[N+]2=C(c2ccc(Cl)cc2)N1',\n 'Clc1ccc(-c2nc3ccccc3s2)cc1',\n 'Nc1ccccc1SSc1ccccc1N',\n 'CC(C)(C)OC(=O)NCC[C@H](CC(=O)C(=O)O)NC(=O)c1ccc(Cl)cc1',\n 'CC(C)(C)OC(=O)NCC[C@H](CC(=O)O)NC(=O)c1ccc(Cl)cc1',\n 'CC(C)(C)OC(=O)NCCC=Cc1nc2ccccc2s1')"
     },
     "execution_count": 380,
     "metadata": {},
     "output_type": "execute_result"
    }
   ],
   "source": [
    "con.get_product_smiles(26661)"
   ],
   "metadata": {
    "collapsed": false,
    "ExecuteTime": {
     "end_time": "2023-06-22T12:50:59.527653Z",
     "start_time": "2023-06-22T12:50:59.511265Z"
    }
   }
  },
  {
   "cell_type": "code",
   "execution_count": 378,
   "outputs": [
    {
     "data": {
      "text/plain": "count    1031.000000\nmean       77.038461\nstd         0.000167\nmin        77.037950\n25%        77.038350\n50%        77.038450\n75%        77.038600\nmax        77.039000\nName: delta_T, dtype: float64"
     },
     "execution_count": 378,
     "metadata": {},
     "output_type": "execute_result"
    }
   ],
   "source": [
    "peaks.delta_T.describe()"
   ],
   "metadata": {
    "collapsed": false,
    "ExecuteTime": {
     "end_time": "2023-06-22T12:45:41.486651Z",
     "start_time": "2023-06-22T12:45:41.474407Z"
    }
   }
  },
  {
   "cell_type": "code",
   "execution_count": 371,
   "outputs": [
    {
     "name": "stdout",
     "output_type": "stream",
     "text": [
      "I: 53\n",
      "M: 60\n",
      "T: 5\n"
     ]
    }
   ],
   "source": [
    "# check for how many different building blocks this occurs\n",
    "print(\"I:\", len(peaks.initiator.unique()))\n",
    "print(\"M:\", len(peaks.monomer.unique()))\n",
    "print(\"T:\", len(peaks.terminator.unique()))"
   ],
   "metadata": {
    "collapsed": false,
    "ExecuteTime": {
     "end_time": "2023-06-22T12:33:23.835927Z",
     "start_time": "2023-06-22T12:33:23.819269Z"
    }
   }
  },
  {
   "cell_type": "code",
   "execution_count": 372,
   "outputs": [
    {
     "name": "stdout",
     "output_type": "stream",
     "text": [
      "T1 TerABT001\n",
      "T7 TerABT009\n",
      "T10 TerABT012\n",
      "T3 TerABT005\n",
      "T2 TerABT004\n"
     ]
    }
   ],
   "source": [
    "# let's check which terminators are involved\n",
    "for short in peaks.terminator.unique():\n",
    "    print(short, con.get_long_name(short))"
   ],
   "metadata": {
    "collapsed": false,
    "ExecuteTime": {
     "end_time": "2023-06-22T12:33:25.604806Z",
     "start_time": "2023-06-22T12:33:25.585517Z"
    }
   }
  },
  {
   "cell_type": "code",
   "execution_count": 373,
   "outputs": [
    {
     "data": {
      "text/plain": "T7     598\nT1     426\nT3       3\nT10      2\nT2       2\nName: terminator, dtype: int64"
     },
     "execution_count": 373,
     "metadata": {},
     "output_type": "execute_result"
    }
   ],
   "source": [
    "# Let's see where we have frequent occurrences\n",
    "peaks.terminator.value_counts()"
   ],
   "metadata": {
    "collapsed": false,
    "ExecuteTime": {
     "end_time": "2023-06-22T12:33:30.871885Z",
     "start_time": "2023-06-22T12:33:30.843619Z"
    }
   }
  },
  {
   "cell_type": "code",
   "execution_count": 376,
   "outputs": [
    {
     "data": {
      "text/plain": "'Nc1ccccc1S'"
     },
     "execution_count": 376,
     "metadata": {},
     "output_type": "execute_result"
    }
   ],
   "source": [
    "con.get_smiles(\"T1\")"
   ],
   "metadata": {
    "collapsed": false,
    "ExecuteTime": {
     "end_time": "2023-06-22T12:35:19.061919Z",
     "start_time": "2023-06-22T12:35:19.039111Z"
    }
   }
  },
  {
   "cell_type": "code",
   "execution_count": 375,
   "outputs": [],
   "source": [
    "con.show_image(\"T7\")"
   ],
   "metadata": {
    "collapsed": false,
    "ExecuteTime": {
     "end_time": "2023-06-22T12:33:46.401097Z",
     "start_time": "2023-06-22T12:33:46.268310Z"
    }
   }
  },
  {
   "cell_type": "markdown",
   "source": [
    "Again, with only two terminators forming this, we have very little evidence to determine the structure of the unknown species.\n",
    "Looking into the spectrum reveals that the actual base peak has a different m/z (327.0984 for T1 and 355.1296 for T7, difference between the two is C2H4). In both cases, a difference +78.0468 (C6H6) is observed to terminator dimer E.\n",
    "It should be noted that we also observe delta_E +78.05 frequently for other terminators.\n",
    "Let's check those!"
   ],
   "metadata": {
    "collapsed": false
   }
  },
  {
   "cell_type": "code",
   "execution_count": 383,
   "outputs": [
    {
     "data": {
      "text/plain": "            id experiment_id peak_nr retention_time_s     area intensity  \\\n44      518314         10584     191              354  4999376   1875227   \n55      519463         10586     181              382  5384517   2173071   \n81      533032         10594      35              354  3276210   1215109   \n87      528763         10596      43              382  4087039   1700510   \n129     519939         10604      54              354  4929430   1608085   \n...        ...           ...     ...              ...      ...       ...   \n205466  396840         85481      46              378  1834166    888599   \n205522  396361         85490      47              374   433704    222876   \n205604  395473         85510      45              374  4812195   1792343   \n205609  400719         85511      44              378  1390123   1483025   \n205646  389724         85520      39              374  1340364   1130266   \n\n        signal_to_noise    mz_max  fwhm_min     %area  ...   delta_bAA  \\\n44                715.1  327.0988     0.043  69.00407  ...  108.960112   \n55                938.2  355.1304     0.041  74.13447  ...  136.991712   \n81                478.5  327.0989     0.041  48.48351  ...   81.111635   \n87               1036.0  355.1304     0.040  51.41997  ...  109.143135   \n129               615.0  327.0989     0.050  68.22611  ...  108.960212   \n...                 ...       ...       ...       ...  ...         ...   \n205466            379.5  355.1292     0.035  26.58193  ...  171.052367   \n205522             77.4  355.1295     0.038   6.24589  ...   81.948613   \n205604            621.9  355.1291     0.044  84.44941  ...   81.948213   \n205609            332.2  355.1292     0.027  20.52410  ...   81.948313   \n205646            275.6  355.1293     0.032  12.50610  ...  171.052467   \n\n           delta_A     delta_B     delta_C     delta_D    delta_E    delta_F  \\\n44     -118.035921 -164.041401 -146.030836   81.084922  78.047330 -57.022045   \n55     -104.019971 -150.025451 -132.014886   95.100872  78.047629 -28.990445   \n81     -145.884402 -191.889881 -173.879316   81.085022  78.047430 -84.870526   \n87     -131.868552 -177.874031 -159.863467   95.100872  78.047629 -56.839026   \n129     -98.090444 -144.095923 -126.085358  101.030400  78.047430 -37.076568   \n...            ...         ...         ...         ...        ...        ...   \n205466  -16.029593  -62.035072  -44.024507  149.029400  78.046429  58.999934   \n205522  -91.117693 -137.123172 -119.112608  163.045350  78.046729 -16.088167   \n205604 -153.133743 -199.139222 -181.128658  101.029300  78.046329 -78.104217   \n205609 -153.133643 -199.139122 -181.128558  101.029400  78.046429 -78.104117   \n205646  -64.029493 -110.034972  -92.024407  101.029500  78.046529  11.000034   \n\n          delta_G    delta_H  assignment  \n44     -29.027130   36.97787        None  \n55      -0.995530   50.99382        None  \n81     -56.875611    9.12939        None  \n87     -28.844111   23.14524        None  \n129     -9.081653   36.97797        None  \n...           ...        ...         ...  \n205466  86.994848  85.054471        None  \n205522  11.906748  -4.049279        None  \n205604 -50.109302  -4.049679        None  \n205609 -50.109202  -4.049579        None  \n205646  38.994948  85.054571        None  \n\n[3386 rows x 28 columns]",
      "text/html": "<div>\n<style scoped>\n    .dataframe tbody tr th:only-of-type {\n        vertical-align: middle;\n    }\n\n    .dataframe tbody tr th {\n        vertical-align: top;\n    }\n\n    .dataframe thead th {\n        text-align: right;\n    }\n</style>\n<table border=\"1\" class=\"dataframe\">\n  <thead>\n    <tr style=\"text-align: right;\">\n      <th></th>\n      <th>id</th>\n      <th>experiment_id</th>\n      <th>peak_nr</th>\n      <th>retention_time_s</th>\n      <th>area</th>\n      <th>intensity</th>\n      <th>signal_to_noise</th>\n      <th>mz_max</th>\n      <th>fwhm_min</th>\n      <th>%area</th>\n      <th>...</th>\n      <th>delta_bAA</th>\n      <th>delta_A</th>\n      <th>delta_B</th>\n      <th>delta_C</th>\n      <th>delta_D</th>\n      <th>delta_E</th>\n      <th>delta_F</th>\n      <th>delta_G</th>\n      <th>delta_H</th>\n      <th>assignment</th>\n    </tr>\n  </thead>\n  <tbody>\n    <tr>\n      <th>44</th>\n      <td>518314</td>\n      <td>10584</td>\n      <td>191</td>\n      <td>354</td>\n      <td>4999376</td>\n      <td>1875227</td>\n      <td>715.1</td>\n      <td>327.0988</td>\n      <td>0.043</td>\n      <td>69.00407</td>\n      <td>...</td>\n      <td>108.960112</td>\n      <td>-118.035921</td>\n      <td>-164.041401</td>\n      <td>-146.030836</td>\n      <td>81.084922</td>\n      <td>78.047330</td>\n      <td>-57.022045</td>\n      <td>-29.027130</td>\n      <td>36.97787</td>\n      <td>None</td>\n    </tr>\n    <tr>\n      <th>55</th>\n      <td>519463</td>\n      <td>10586</td>\n      <td>181</td>\n      <td>382</td>\n      <td>5384517</td>\n      <td>2173071</td>\n      <td>938.2</td>\n      <td>355.1304</td>\n      <td>0.041</td>\n      <td>74.13447</td>\n      <td>...</td>\n      <td>136.991712</td>\n      <td>-104.019971</td>\n      <td>-150.025451</td>\n      <td>-132.014886</td>\n      <td>95.100872</td>\n      <td>78.047629</td>\n      <td>-28.990445</td>\n      <td>-0.995530</td>\n      <td>50.99382</td>\n      <td>None</td>\n    </tr>\n    <tr>\n      <th>81</th>\n      <td>533032</td>\n      <td>10594</td>\n      <td>35</td>\n      <td>354</td>\n      <td>3276210</td>\n      <td>1215109</td>\n      <td>478.5</td>\n      <td>327.0989</td>\n      <td>0.041</td>\n      <td>48.48351</td>\n      <td>...</td>\n      <td>81.111635</td>\n      <td>-145.884402</td>\n      <td>-191.889881</td>\n      <td>-173.879316</td>\n      <td>81.085022</td>\n      <td>78.047430</td>\n      <td>-84.870526</td>\n      <td>-56.875611</td>\n      <td>9.12939</td>\n      <td>None</td>\n    </tr>\n    <tr>\n      <th>87</th>\n      <td>528763</td>\n      <td>10596</td>\n      <td>43</td>\n      <td>382</td>\n      <td>4087039</td>\n      <td>1700510</td>\n      <td>1036.0</td>\n      <td>355.1304</td>\n      <td>0.040</td>\n      <td>51.41997</td>\n      <td>...</td>\n      <td>109.143135</td>\n      <td>-131.868552</td>\n      <td>-177.874031</td>\n      <td>-159.863467</td>\n      <td>95.100872</td>\n      <td>78.047629</td>\n      <td>-56.839026</td>\n      <td>-28.844111</td>\n      <td>23.14524</td>\n      <td>None</td>\n    </tr>\n    <tr>\n      <th>129</th>\n      <td>519939</td>\n      <td>10604</td>\n      <td>54</td>\n      <td>354</td>\n      <td>4929430</td>\n      <td>1608085</td>\n      <td>615.0</td>\n      <td>327.0989</td>\n      <td>0.050</td>\n      <td>68.22611</td>\n      <td>...</td>\n      <td>108.960212</td>\n      <td>-98.090444</td>\n      <td>-144.095923</td>\n      <td>-126.085358</td>\n      <td>101.030400</td>\n      <td>78.047430</td>\n      <td>-37.076568</td>\n      <td>-9.081653</td>\n      <td>36.97797</td>\n      <td>None</td>\n    </tr>\n    <tr>\n      <th>...</th>\n      <td>...</td>\n      <td>...</td>\n      <td>...</td>\n      <td>...</td>\n      <td>...</td>\n      <td>...</td>\n      <td>...</td>\n      <td>...</td>\n      <td>...</td>\n      <td>...</td>\n      <td>...</td>\n      <td>...</td>\n      <td>...</td>\n      <td>...</td>\n      <td>...</td>\n      <td>...</td>\n      <td>...</td>\n      <td>...</td>\n      <td>...</td>\n      <td>...</td>\n      <td>...</td>\n    </tr>\n    <tr>\n      <th>205466</th>\n      <td>396840</td>\n      <td>85481</td>\n      <td>46</td>\n      <td>378</td>\n      <td>1834166</td>\n      <td>888599</td>\n      <td>379.5</td>\n      <td>355.1292</td>\n      <td>0.035</td>\n      <td>26.58193</td>\n      <td>...</td>\n      <td>171.052367</td>\n      <td>-16.029593</td>\n      <td>-62.035072</td>\n      <td>-44.024507</td>\n      <td>149.029400</td>\n      <td>78.046429</td>\n      <td>58.999934</td>\n      <td>86.994848</td>\n      <td>85.054471</td>\n      <td>None</td>\n    </tr>\n    <tr>\n      <th>205522</th>\n      <td>396361</td>\n      <td>85490</td>\n      <td>47</td>\n      <td>374</td>\n      <td>433704</td>\n      <td>222876</td>\n      <td>77.4</td>\n      <td>355.1295</td>\n      <td>0.038</td>\n      <td>6.24589</td>\n      <td>...</td>\n      <td>81.948613</td>\n      <td>-91.117693</td>\n      <td>-137.123172</td>\n      <td>-119.112608</td>\n      <td>163.045350</td>\n      <td>78.046729</td>\n      <td>-16.088167</td>\n      <td>11.906748</td>\n      <td>-4.049279</td>\n      <td>None</td>\n    </tr>\n    <tr>\n      <th>205604</th>\n      <td>395473</td>\n      <td>85510</td>\n      <td>45</td>\n      <td>374</td>\n      <td>4812195</td>\n      <td>1792343</td>\n      <td>621.9</td>\n      <td>355.1291</td>\n      <td>0.044</td>\n      <td>84.44941</td>\n      <td>...</td>\n      <td>81.948213</td>\n      <td>-153.133743</td>\n      <td>-199.139222</td>\n      <td>-181.128658</td>\n      <td>101.029300</td>\n      <td>78.046329</td>\n      <td>-78.104217</td>\n      <td>-50.109302</td>\n      <td>-4.049679</td>\n      <td>None</td>\n    </tr>\n    <tr>\n      <th>205609</th>\n      <td>400719</td>\n      <td>85511</td>\n      <td>44</td>\n      <td>378</td>\n      <td>1390123</td>\n      <td>1483025</td>\n      <td>332.2</td>\n      <td>355.1292</td>\n      <td>0.027</td>\n      <td>20.52410</td>\n      <td>...</td>\n      <td>81.948313</td>\n      <td>-153.133643</td>\n      <td>-199.139122</td>\n      <td>-181.128558</td>\n      <td>101.029400</td>\n      <td>78.046429</td>\n      <td>-78.104117</td>\n      <td>-50.109202</td>\n      <td>-4.049579</td>\n      <td>None</td>\n    </tr>\n    <tr>\n      <th>205646</th>\n      <td>389724</td>\n      <td>85520</td>\n      <td>39</td>\n      <td>374</td>\n      <td>1340364</td>\n      <td>1130266</td>\n      <td>275.6</td>\n      <td>355.1293</td>\n      <td>0.032</td>\n      <td>12.50610</td>\n      <td>...</td>\n      <td>171.052467</td>\n      <td>-64.029493</td>\n      <td>-110.034972</td>\n      <td>-92.024407</td>\n      <td>101.029500</td>\n      <td>78.046529</td>\n      <td>11.000034</td>\n      <td>38.994948</td>\n      <td>85.054571</td>\n      <td>None</td>\n    </tr>\n  </tbody>\n</table>\n<p>3386 rows × 28 columns</p>\n</div>"
     },
     "execution_count": 383,
     "metadata": {},
     "output_type": "execute_result"
    }
   ],
   "source": [
    "peaks = df.loc[df.delta_E.round(2) == 78.05]\n",
    "peaks"
   ],
   "metadata": {
    "collapsed": false,
    "ExecuteTime": {
     "end_time": "2023-06-22T13:19:17.480724Z",
     "start_time": "2023-06-22T13:19:17.423573Z"
    }
   }
  },
  {
   "cell_type": "code",
   "execution_count": 384,
   "outputs": [
    {
     "name": "stdout",
     "output_type": "stream",
     "text": [
      "I: 69\n",
      "M: 73\n",
      "T: 10\n"
     ]
    }
   ],
   "source": [
    "# check for how many different building blocks this occurs\n",
    "print(\"I:\", len(peaks.initiator.unique()))\n",
    "print(\"M:\", len(peaks.monomer.unique()))\n",
    "print(\"T:\", len(peaks.terminator.unique()))"
   ],
   "metadata": {
    "collapsed": false,
    "ExecuteTime": {
     "end_time": "2023-06-22T13:19:38.451303Z",
     "start_time": "2023-06-22T13:19:38.424112Z"
    }
   }
  },
  {
   "cell_type": "code",
   "execution_count": 385,
   "outputs": [
    {
     "name": "stdout",
     "output_type": "stream",
     "text": [
      "T1 TerABT001\n",
      "T18 TerABT023\n",
      "T7 TerABT009\n",
      "T3 TerABT005\n",
      "T13 TerABT015\n",
      "T2 TerABT004\n",
      "T12 TerABT014\n",
      "T10 TerABT012\n",
      "T16 TerABT018\n",
      "T41 TerTH028\n"
     ]
    }
   ],
   "source": [
    "# let's check which terminators are involved\n",
    "for short in peaks.terminator.unique():\n",
    "    print(short, con.get_long_name(short))"
   ],
   "metadata": {
    "collapsed": false,
    "ExecuteTime": {
     "end_time": "2023-06-22T13:19:50.547083Z",
     "start_time": "2023-06-22T13:19:50.531570Z"
    }
   }
  },
  {
   "cell_type": "code",
   "execution_count": 386,
   "outputs": [
    {
     "data": {
      "text/plain": "T18    1041\nT3      798\nT1      770\nT2      435\nT7      282\nT12      25\nT16      17\nT13       9\nT10       8\nT41       1\nName: terminator, dtype: int64"
     },
     "execution_count": 386,
     "metadata": {},
     "output_type": "execute_result"
    }
   ],
   "source": [
    "# Let's see where we have frequent occurrences\n",
    "peaks.terminator.value_counts()"
   ],
   "metadata": {
    "collapsed": false,
    "ExecuteTime": {
     "end_time": "2023-06-22T13:20:02.725442Z",
     "start_time": "2023-06-22T13:20:02.707062Z"
    }
   }
  },
  {
   "cell_type": "markdown",
   "source": [
    "So this occurs mainly with T1-3, T7, T18, all small ABTs (plain, Me- and F- substituted)"
   ],
   "metadata": {
    "collapsed": false
   }
  },
  {
   "cell_type": "code",
   "execution_count": 390,
   "outputs": [
    {
     "data": {
      "text/plain": "'Cc1cccc(S)c1N'"
     },
     "execution_count": 390,
     "metadata": {},
     "output_type": "execute_result"
    }
   ],
   "source": [
    "con.get_smiles(\"T18\")"
   ],
   "metadata": {
    "collapsed": false,
    "ExecuteTime": {
     "end_time": "2023-06-22T13:33:31.888390Z",
     "start_time": "2023-06-22T13:33:31.869933Z"
    }
   }
  },
  {
   "cell_type": "markdown",
   "source": [
    "The mass difference of +78.048 clearly corresponds to +C6H6.\n",
    "A possible explanation is pi-stacking with benzene, but it's not evident where the benzene could come from.\n",
    "In the end, we don't have any good hypothesis for this one."
   ],
   "metadata": {
    "collapsed": false
   }
  },
  {
   "cell_type": "markdown",
   "source": [
    "#### Terminator +73.01"
   ],
   "metadata": {
    "collapsed": false
   }
  },
  {
   "cell_type": "code",
   "execution_count": 407,
   "outputs": [
    {
     "data": {
      "text/plain": "            id experiment_id peak_nr retention_time_s    area intensity  \\\n76      526397         10592      35              330  670776    280693   \n161     531418         10615      31              353  363557    142053   \n163     529104         10616      31              337  396970    167275   \n191     527667         10622      45              330  728395    290757   \n252     530503         10632      44              330  486108    220762   \n...        ...           ...     ...              ...     ...       ...   \n205373  389234         85463      32              314  725622    298162   \n205459  386434         85480      31              333  491301    177351   \n205465  396825         85481      31              335  403853    163037   \n205562  388902         85503      31              314  639087    193320   \n205622  400068         85513      31              314  584443    242522   \n\n        signal_to_noise    mz_max  fwhm_min     %area  ...  delta_bAA  \\\n76                125.3  243.0713     0.038   8.54829  ...  -2.915965   \n161                67.7  249.0609     0.040   5.02121  ...   3.073635   \n163                70.7  213.0606     0.037   5.69730  ... -32.926665   \n191               125.2  243.0714     0.039  10.61125  ...  24.932712   \n252                68.3  243.0714     0.036   6.78165  ...  -2.915865   \n...                 ...       ...       ...       ...  ...        ...   \n205373            139.6  229.0554     0.041  10.63225  ...  44.978567   \n205459             63.7  213.0606     0.048   8.51142  ...  28.983767   \n205465             72.2  213.0605     0.040   5.85290  ...  28.983667   \n205562             63.1  229.0554     0.052   8.64167  ...  44.978567   \n205622             91.2  229.0553     0.039   8.77119  ... -44.125587   \n\n           delta_A     delta_B     delta_C    delta_D     delta_E     delta_F  \\\n76     -273.938217 -319.943696 -301.933131 -46.968793  -94.032600 -168.898126   \n161    -253.992674 -299.998154 -281.987589 -27.023250 -100.021871 -142.963148   \n163    -253.992974 -299.998454 -281.987889 -27.023550  -64.022171 -178.963448   \n191    -269.186358 -315.191837 -297.181272 -70.065514  -94.032500 -164.146267   \n252    -297.034938 -343.040417 -325.029853 -70.065514  -94.032500 -191.994847   \n...            ...         ...         ...        ...         ...         ...   \n205373 -158.098307 -204.103786 -186.093222   6.960685  -80.017200  -67.073866   \n205459 -158.098193 -204.103672 -186.093107   6.960800  -64.022171  -83.068666   \n205465 -158.098293 -204.103772 -186.093207   6.960700  -64.022271  -83.068766   \n205562 -206.098307 -252.103786 -234.093222 -41.039315  -80.017200 -115.073866   \n205622 -295.202458 -341.207937 -323.197372 -41.039415  -80.017300 -204.178017   \n\n           delta_G     delta_H  assignment  \n76     -140.903211 -118.924425        None  \n161    -114.968233  -118.92426        None  \n163    -150.968533  -118.92456        None  \n191    -136.151352  -91.075745        None  \n252    -163.999933 -118.924325        None  \n...            ...         ...         ...  \n205373  -39.078952  -57.014243        None  \n205459  -55.073752  -57.014129        None  \n205465  -55.073852  -57.014229        None  \n205562  -87.078952  -57.014243        None  \n205622 -176.183102 -146.118394        None  \n\n[1017 rows x 28 columns]",
      "text/html": "<div>\n<style scoped>\n    .dataframe tbody tr th:only-of-type {\n        vertical-align: middle;\n    }\n\n    .dataframe tbody tr th {\n        vertical-align: top;\n    }\n\n    .dataframe thead th {\n        text-align: right;\n    }\n</style>\n<table border=\"1\" class=\"dataframe\">\n  <thead>\n    <tr style=\"text-align: right;\">\n      <th></th>\n      <th>id</th>\n      <th>experiment_id</th>\n      <th>peak_nr</th>\n      <th>retention_time_s</th>\n      <th>area</th>\n      <th>intensity</th>\n      <th>signal_to_noise</th>\n      <th>mz_max</th>\n      <th>fwhm_min</th>\n      <th>%area</th>\n      <th>...</th>\n      <th>delta_bAA</th>\n      <th>delta_A</th>\n      <th>delta_B</th>\n      <th>delta_C</th>\n      <th>delta_D</th>\n      <th>delta_E</th>\n      <th>delta_F</th>\n      <th>delta_G</th>\n      <th>delta_H</th>\n      <th>assignment</th>\n    </tr>\n  </thead>\n  <tbody>\n    <tr>\n      <th>76</th>\n      <td>526397</td>\n      <td>10592</td>\n      <td>35</td>\n      <td>330</td>\n      <td>670776</td>\n      <td>280693</td>\n      <td>125.3</td>\n      <td>243.0713</td>\n      <td>0.038</td>\n      <td>8.54829</td>\n      <td>...</td>\n      <td>-2.915965</td>\n      <td>-273.938217</td>\n      <td>-319.943696</td>\n      <td>-301.933131</td>\n      <td>-46.968793</td>\n      <td>-94.032600</td>\n      <td>-168.898126</td>\n      <td>-140.903211</td>\n      <td>-118.924425</td>\n      <td>None</td>\n    </tr>\n    <tr>\n      <th>161</th>\n      <td>531418</td>\n      <td>10615</td>\n      <td>31</td>\n      <td>353</td>\n      <td>363557</td>\n      <td>142053</td>\n      <td>67.7</td>\n      <td>249.0609</td>\n      <td>0.040</td>\n      <td>5.02121</td>\n      <td>...</td>\n      <td>3.073635</td>\n      <td>-253.992674</td>\n      <td>-299.998154</td>\n      <td>-281.987589</td>\n      <td>-27.023250</td>\n      <td>-100.021871</td>\n      <td>-142.963148</td>\n      <td>-114.968233</td>\n      <td>-118.92426</td>\n      <td>None</td>\n    </tr>\n    <tr>\n      <th>163</th>\n      <td>529104</td>\n      <td>10616</td>\n      <td>31</td>\n      <td>337</td>\n      <td>396970</td>\n      <td>167275</td>\n      <td>70.7</td>\n      <td>213.0606</td>\n      <td>0.037</td>\n      <td>5.69730</td>\n      <td>...</td>\n      <td>-32.926665</td>\n      <td>-253.992974</td>\n      <td>-299.998454</td>\n      <td>-281.987889</td>\n      <td>-27.023550</td>\n      <td>-64.022171</td>\n      <td>-178.963448</td>\n      <td>-150.968533</td>\n      <td>-118.92456</td>\n      <td>None</td>\n    </tr>\n    <tr>\n      <th>191</th>\n      <td>527667</td>\n      <td>10622</td>\n      <td>45</td>\n      <td>330</td>\n      <td>728395</td>\n      <td>290757</td>\n      <td>125.2</td>\n      <td>243.0714</td>\n      <td>0.039</td>\n      <td>10.61125</td>\n      <td>...</td>\n      <td>24.932712</td>\n      <td>-269.186358</td>\n      <td>-315.191837</td>\n      <td>-297.181272</td>\n      <td>-70.065514</td>\n      <td>-94.032500</td>\n      <td>-164.146267</td>\n      <td>-136.151352</td>\n      <td>-91.075745</td>\n      <td>None</td>\n    </tr>\n    <tr>\n      <th>252</th>\n      <td>530503</td>\n      <td>10632</td>\n      <td>44</td>\n      <td>330</td>\n      <td>486108</td>\n      <td>220762</td>\n      <td>68.3</td>\n      <td>243.0714</td>\n      <td>0.036</td>\n      <td>6.78165</td>\n      <td>...</td>\n      <td>-2.915865</td>\n      <td>-297.034938</td>\n      <td>-343.040417</td>\n      <td>-325.029853</td>\n      <td>-70.065514</td>\n      <td>-94.032500</td>\n      <td>-191.994847</td>\n      <td>-163.999933</td>\n      <td>-118.924325</td>\n      <td>None</td>\n    </tr>\n    <tr>\n      <th>...</th>\n      <td>...</td>\n      <td>...</td>\n      <td>...</td>\n      <td>...</td>\n      <td>...</td>\n      <td>...</td>\n      <td>...</td>\n      <td>...</td>\n      <td>...</td>\n      <td>...</td>\n      <td>...</td>\n      <td>...</td>\n      <td>...</td>\n      <td>...</td>\n      <td>...</td>\n      <td>...</td>\n      <td>...</td>\n      <td>...</td>\n      <td>...</td>\n      <td>...</td>\n      <td>...</td>\n    </tr>\n    <tr>\n      <th>205373</th>\n      <td>389234</td>\n      <td>85463</td>\n      <td>32</td>\n      <td>314</td>\n      <td>725622</td>\n      <td>298162</td>\n      <td>139.6</td>\n      <td>229.0554</td>\n      <td>0.041</td>\n      <td>10.63225</td>\n      <td>...</td>\n      <td>44.978567</td>\n      <td>-158.098307</td>\n      <td>-204.103786</td>\n      <td>-186.093222</td>\n      <td>6.960685</td>\n      <td>-80.017200</td>\n      <td>-67.073866</td>\n      <td>-39.078952</td>\n      <td>-57.014243</td>\n      <td>None</td>\n    </tr>\n    <tr>\n      <th>205459</th>\n      <td>386434</td>\n      <td>85480</td>\n      <td>31</td>\n      <td>333</td>\n      <td>491301</td>\n      <td>177351</td>\n      <td>63.7</td>\n      <td>213.0606</td>\n      <td>0.048</td>\n      <td>8.51142</td>\n      <td>...</td>\n      <td>28.983767</td>\n      <td>-158.098193</td>\n      <td>-204.103672</td>\n      <td>-186.093107</td>\n      <td>6.960800</td>\n      <td>-64.022171</td>\n      <td>-83.068666</td>\n      <td>-55.073752</td>\n      <td>-57.014129</td>\n      <td>None</td>\n    </tr>\n    <tr>\n      <th>205465</th>\n      <td>396825</td>\n      <td>85481</td>\n      <td>31</td>\n      <td>335</td>\n      <td>403853</td>\n      <td>163037</td>\n      <td>72.2</td>\n      <td>213.0605</td>\n      <td>0.040</td>\n      <td>5.85290</td>\n      <td>...</td>\n      <td>28.983667</td>\n      <td>-158.098293</td>\n      <td>-204.103772</td>\n      <td>-186.093207</td>\n      <td>6.960700</td>\n      <td>-64.022271</td>\n      <td>-83.068766</td>\n      <td>-55.073852</td>\n      <td>-57.014229</td>\n      <td>None</td>\n    </tr>\n    <tr>\n      <th>205562</th>\n      <td>388902</td>\n      <td>85503</td>\n      <td>31</td>\n      <td>314</td>\n      <td>639087</td>\n      <td>193320</td>\n      <td>63.1</td>\n      <td>229.0554</td>\n      <td>0.052</td>\n      <td>8.64167</td>\n      <td>...</td>\n      <td>44.978567</td>\n      <td>-206.098307</td>\n      <td>-252.103786</td>\n      <td>-234.093222</td>\n      <td>-41.039315</td>\n      <td>-80.017200</td>\n      <td>-115.073866</td>\n      <td>-87.078952</td>\n      <td>-57.014243</td>\n      <td>None</td>\n    </tr>\n    <tr>\n      <th>205622</th>\n      <td>400068</td>\n      <td>85513</td>\n      <td>31</td>\n      <td>314</td>\n      <td>584443</td>\n      <td>242522</td>\n      <td>91.2</td>\n      <td>229.0553</td>\n      <td>0.039</td>\n      <td>8.77119</td>\n      <td>...</td>\n      <td>-44.125587</td>\n      <td>-295.202458</td>\n      <td>-341.207937</td>\n      <td>-323.197372</td>\n      <td>-41.039415</td>\n      <td>-80.017300</td>\n      <td>-204.178017</td>\n      <td>-176.183102</td>\n      <td>-146.118394</td>\n      <td>None</td>\n    </tr>\n  </tbody>\n</table>\n<p>1017 rows × 28 columns</p>\n</div>"
     },
     "execution_count": 407,
     "metadata": {},
     "output_type": "execute_result"
    }
   ],
   "source": [
    "peaks = df.loc[df.delta_T.round(2) == 73.01]\n",
    "peaks"
   ],
   "metadata": {
    "collapsed": false,
    "ExecuteTime": {
     "end_time": "2023-06-23T10:18:27.629710Z",
     "start_time": "2023-06-23T10:18:27.591101Z"
    }
   }
  },
  {
   "cell_type": "code",
   "execution_count": 408,
   "outputs": [
    {
     "data": {
      "text/plain": "count    1017.000000\nmean       73.007466\nstd         0.000385\nmin        73.006885\n25%        73.007185\n50%        73.007385\n75%        73.007685\nmax        73.008685\nName: delta_T, dtype: float64"
     },
     "execution_count": 408,
     "metadata": {},
     "output_type": "execute_result"
    }
   ],
   "source": [
    "peaks.delta_T.describe()"
   ],
   "metadata": {
    "collapsed": false,
    "ExecuteTime": {
     "end_time": "2023-06-23T10:18:27.880017Z",
     "start_time": "2023-06-23T10:18:27.835688Z"
    }
   }
  },
  {
   "cell_type": "code",
   "execution_count": 409,
   "outputs": [
    {
     "name": "stdout",
     "output_type": "stream",
     "text": [
      "I: 67\n",
      "M: 67\n",
      "T: 9\n"
     ]
    }
   ],
   "source": [
    "# check for how many different building blocks this occurs\n",
    "print(\"I:\", len(peaks.initiator.unique()))\n",
    "print(\"M:\", len(peaks.monomer.unique()))\n",
    "print(\"T:\", len(peaks.terminator.unique()))"
   ],
   "metadata": {
    "collapsed": false,
    "ExecuteTime": {
     "end_time": "2023-06-23T10:18:28.046993Z",
     "start_time": "2023-06-23T10:18:28.019858Z"
    }
   }
  },
  {
   "cell_type": "code",
   "execution_count": 410,
   "outputs": [
    {
     "name": "stdout",
     "output_type": "stream",
     "text": [
      "T17 TerABT022\n",
      "T8 TerABT010\n",
      "T18 TerABT023\n",
      "T13 TerABT015\n",
      "T7 TerABT009\n",
      "T2 TerABT004\n",
      "T4 TerABT006\n",
      "T3 TerABT005\n",
      "T14 TerABT016\n"
     ]
    }
   ],
   "source": [
    "# let's check which terminators are involved\n",
    "for short in peaks.terminator.unique():\n",
    "    print(short, con.get_long_name(short))"
   ],
   "metadata": {
    "collapsed": false,
    "ExecuteTime": {
     "end_time": "2023-06-23T10:18:28.727661Z",
     "start_time": "2023-06-23T10:18:28.708611Z"
    }
   }
  },
  {
   "cell_type": "code",
   "execution_count": 411,
   "outputs": [
    {
     "data": {
      "text/plain": "T17    478\nT13    313\nT4     151\nT18     18\nT3      16\nT8      14\nT7      13\nT2      10\nT14      4\nName: terminator, dtype: int64"
     },
     "execution_count": 411,
     "metadata": {},
     "output_type": "execute_result"
    }
   ],
   "source": [
    "# Let's see where we have frequent occurrences\n",
    "peaks.terminator.value_counts()"
   ],
   "metadata": {
    "collapsed": false,
    "ExecuteTime": {
     "end_time": "2023-06-23T10:18:29.718275Z",
     "start_time": "2023-06-23T10:18:29.700389Z"
    }
   }
  },
  {
   "cell_type": "code",
   "execution_count": 402,
   "outputs": [
    {
     "data": {
      "text/plain": "'Cc1cc(N)c(S)cc1C'"
     },
     "execution_count": 402,
     "metadata": {},
     "output_type": "execute_result"
    }
   ],
   "source": [
    "con.get_smiles(\"T4\")"
   ],
   "metadata": {
    "collapsed": false,
    "ExecuteTime": {
     "end_time": "2023-06-23T10:16:26.335557Z",
     "start_time": "2023-06-23T10:16:26.313750Z"
    }
   }
  },
  {
   "cell_type": "code",
   "execution_count": 401,
   "outputs": [],
   "source": [
    "con.show_image(\"T3\")"
   ],
   "metadata": {
    "collapsed": false,
    "ExecuteTime": {
     "end_time": "2023-06-23T10:12:26.825247Z",
     "start_time": "2023-06-23T10:12:26.668219Z"
    }
   }
  },
  {
   "cell_type": "markdown",
   "source": [
    "These are all particularly electron-rich ABTs, raising electrophilic aromatic substitution as a possible mechanism.\n",
    "One way to explain the difference would be +C3H3NCl -O, but T4 does not have an oxygen atom.\n",
    "We don't find an acceptable explanation for this mass difference."
   ],
   "metadata": {
    "collapsed": false
   }
  },
  {
   "cell_type": "markdown",
   "source": [
    "#### Product F −56.06 / Product G -28.07\n",
    "(these are the same, as the difference between F and G is constant)"
   ],
   "metadata": {
    "collapsed": false
   }
  },
  {
   "cell_type": "code",
   "execution_count": 43,
   "outputs": [
    {
     "data": {
      "text/plain": "            id experiment_id peak_nr retention_time_s     area intensity  \\\n8896    631692         14610      19              244  1171680    400098   \n9713    647315         14752      25              267   361222     90143   \n9718    646148         14753     146              259  1409229    340744   \n9719    646150         14753     148              259   730870    157756   \n9725    640793         14754      20              267   709969    146616   \n...        ...           ...     ...              ...      ...       ...   \n205613  396084         85512      22              256   478256    101867   \n205614  396085         85512      23              256   455263    105184   \n205620  400056         85513      19              262  1437655    350660   \n205621  400057         85513      20              262  1388678    318975   \n205626  399425         85514      28              256   353926     76704   \n\n        signal_to_noise    mz_max  fwhm_min     %area  ...   delta_bAA  \\\n8896              133.9  338.0628     0.040  18.08988  ...  190.020125   \n9713               33.9  385.1209     0.057   5.34745  ...  111.940013   \n9718              116.9  385.1208     0.060  21.45709  ...  111.939913   \n9719             2160.9  385.1208     0.064  11.12831  ...  111.939913   \n9725             1816.3  385.1208     0.063  10.10419  ...  111.939913   \n...                 ...       ...       ...       ...  ...         ...   \n205613           1342.3  377.1706     0.071   8.18602  ...  103.989713   \n205614             43.3  377.1706     0.068   7.79246  ...  103.989713   \n205620            133.7  377.1705     0.055  21.57598  ...  103.989613   \n205621           3814.2  377.1705     0.058  20.84094  ...  103.989613   \n205626            986.7  377.1707     0.067   5.80320  ...  103.989813   \n\n           delta_A     delta_B     delta_C     delta_D     delta_E    delta_F  \\\n8896   -174.090510 -220.095989 -202.085424  -45.065675   38.977921 -56.055170   \n9713   -150.043469 -196.048949 -178.038384  104.119573  134.144309 -56.062273   \n9718   -131.091899 -177.097379 -159.086814  123.071143  108.038029 -56.062373   \n9719   -131.091899 -177.097379 -159.086814  123.071143  108.038029 -56.062373   \n9725   -131.091899 -177.097379 -159.086814  123.071143  108.038029 -56.062373   \n...            ...         ...         ...         ...         ...        ...   \n205613 -135.062006 -181.067485 -163.056920  119.101037  156.157824 -56.062717   \n205614 -135.062006 -181.067485 -163.056920  119.101037  156.157824 -56.062717   \n205620 -147.087258 -193.092737 -175.082172  107.075785   68.097900 -56.062817   \n205621 -147.087258 -193.092737 -175.082172  107.075785   68.097900 -56.062817   \n205626 -160.082307 -206.087786 -188.077221   94.080736  106.117121 -56.062617   \n\n          delta_G    delta_H  assignment  \n8896   -28.060255  61.016415        None  \n9713   -28.067358   6.990451        None  \n9718   -28.067458  25.942021        None  \n9719   -28.067458  25.942021        None  \n9725   -28.067458  25.942021        None  \n...           ...        ...         ...  \n205613 -28.067802  14.022058        None  \n205614 -28.067802  14.022058        None  \n205620 -28.067902   1.996806        None  \n205621 -28.067902   1.996806        None  \n205626 -28.067702 -10.998243        None  \n\n[1396 rows x 28 columns]",
      "text/html": "<div>\n<style scoped>\n    .dataframe tbody tr th:only-of-type {\n        vertical-align: middle;\n    }\n\n    .dataframe tbody tr th {\n        vertical-align: top;\n    }\n\n    .dataframe thead th {\n        text-align: right;\n    }\n</style>\n<table border=\"1\" class=\"dataframe\">\n  <thead>\n    <tr style=\"text-align: right;\">\n      <th></th>\n      <th>id</th>\n      <th>experiment_id</th>\n      <th>peak_nr</th>\n      <th>retention_time_s</th>\n      <th>area</th>\n      <th>intensity</th>\n      <th>signal_to_noise</th>\n      <th>mz_max</th>\n      <th>fwhm_min</th>\n      <th>%area</th>\n      <th>...</th>\n      <th>delta_bAA</th>\n      <th>delta_A</th>\n      <th>delta_B</th>\n      <th>delta_C</th>\n      <th>delta_D</th>\n      <th>delta_E</th>\n      <th>delta_F</th>\n      <th>delta_G</th>\n      <th>delta_H</th>\n      <th>assignment</th>\n    </tr>\n  </thead>\n  <tbody>\n    <tr>\n      <th>8896</th>\n      <td>631692</td>\n      <td>14610</td>\n      <td>19</td>\n      <td>244</td>\n      <td>1171680</td>\n      <td>400098</td>\n      <td>133.9</td>\n      <td>338.0628</td>\n      <td>0.040</td>\n      <td>18.08988</td>\n      <td>...</td>\n      <td>190.020125</td>\n      <td>-174.090510</td>\n      <td>-220.095989</td>\n      <td>-202.085424</td>\n      <td>-45.065675</td>\n      <td>38.977921</td>\n      <td>-56.055170</td>\n      <td>-28.060255</td>\n      <td>61.016415</td>\n      <td>None</td>\n    </tr>\n    <tr>\n      <th>9713</th>\n      <td>647315</td>\n      <td>14752</td>\n      <td>25</td>\n      <td>267</td>\n      <td>361222</td>\n      <td>90143</td>\n      <td>33.9</td>\n      <td>385.1209</td>\n      <td>0.057</td>\n      <td>5.34745</td>\n      <td>...</td>\n      <td>111.940013</td>\n      <td>-150.043469</td>\n      <td>-196.048949</td>\n      <td>-178.038384</td>\n      <td>104.119573</td>\n      <td>134.144309</td>\n      <td>-56.062273</td>\n      <td>-28.067358</td>\n      <td>6.990451</td>\n      <td>None</td>\n    </tr>\n    <tr>\n      <th>9718</th>\n      <td>646148</td>\n      <td>14753</td>\n      <td>146</td>\n      <td>259</td>\n      <td>1409229</td>\n      <td>340744</td>\n      <td>116.9</td>\n      <td>385.1208</td>\n      <td>0.060</td>\n      <td>21.45709</td>\n      <td>...</td>\n      <td>111.939913</td>\n      <td>-131.091899</td>\n      <td>-177.097379</td>\n      <td>-159.086814</td>\n      <td>123.071143</td>\n      <td>108.038029</td>\n      <td>-56.062373</td>\n      <td>-28.067458</td>\n      <td>25.942021</td>\n      <td>None</td>\n    </tr>\n    <tr>\n      <th>9719</th>\n      <td>646150</td>\n      <td>14753</td>\n      <td>148</td>\n      <td>259</td>\n      <td>730870</td>\n      <td>157756</td>\n      <td>2160.9</td>\n      <td>385.1208</td>\n      <td>0.064</td>\n      <td>11.12831</td>\n      <td>...</td>\n      <td>111.939913</td>\n      <td>-131.091899</td>\n      <td>-177.097379</td>\n      <td>-159.086814</td>\n      <td>123.071143</td>\n      <td>108.038029</td>\n      <td>-56.062373</td>\n      <td>-28.067458</td>\n      <td>25.942021</td>\n      <td>None</td>\n    </tr>\n    <tr>\n      <th>9725</th>\n      <td>640793</td>\n      <td>14754</td>\n      <td>20</td>\n      <td>267</td>\n      <td>709969</td>\n      <td>146616</td>\n      <td>1816.3</td>\n      <td>385.1208</td>\n      <td>0.063</td>\n      <td>10.10419</td>\n      <td>...</td>\n      <td>111.939913</td>\n      <td>-131.091899</td>\n      <td>-177.097379</td>\n      <td>-159.086814</td>\n      <td>123.071143</td>\n      <td>108.038029</td>\n      <td>-56.062373</td>\n      <td>-28.067458</td>\n      <td>25.942021</td>\n      <td>None</td>\n    </tr>\n    <tr>\n      <th>...</th>\n      <td>...</td>\n      <td>...</td>\n      <td>...</td>\n      <td>...</td>\n      <td>...</td>\n      <td>...</td>\n      <td>...</td>\n      <td>...</td>\n      <td>...</td>\n      <td>...</td>\n      <td>...</td>\n      <td>...</td>\n      <td>...</td>\n      <td>...</td>\n      <td>...</td>\n      <td>...</td>\n      <td>...</td>\n      <td>...</td>\n      <td>...</td>\n      <td>...</td>\n      <td>...</td>\n    </tr>\n    <tr>\n      <th>205613</th>\n      <td>396084</td>\n      <td>85512</td>\n      <td>22</td>\n      <td>256</td>\n      <td>478256</td>\n      <td>101867</td>\n      <td>1342.3</td>\n      <td>377.1706</td>\n      <td>0.071</td>\n      <td>8.18602</td>\n      <td>...</td>\n      <td>103.989713</td>\n      <td>-135.062006</td>\n      <td>-181.067485</td>\n      <td>-163.056920</td>\n      <td>119.101037</td>\n      <td>156.157824</td>\n      <td>-56.062717</td>\n      <td>-28.067802</td>\n      <td>14.022058</td>\n      <td>None</td>\n    </tr>\n    <tr>\n      <th>205614</th>\n      <td>396085</td>\n      <td>85512</td>\n      <td>23</td>\n      <td>256</td>\n      <td>455263</td>\n      <td>105184</td>\n      <td>43.3</td>\n      <td>377.1706</td>\n      <td>0.068</td>\n      <td>7.79246</td>\n      <td>...</td>\n      <td>103.989713</td>\n      <td>-135.062006</td>\n      <td>-181.067485</td>\n      <td>-163.056920</td>\n      <td>119.101037</td>\n      <td>156.157824</td>\n      <td>-56.062717</td>\n      <td>-28.067802</td>\n      <td>14.022058</td>\n      <td>None</td>\n    </tr>\n    <tr>\n      <th>205620</th>\n      <td>400056</td>\n      <td>85513</td>\n      <td>19</td>\n      <td>262</td>\n      <td>1437655</td>\n      <td>350660</td>\n      <td>133.7</td>\n      <td>377.1705</td>\n      <td>0.055</td>\n      <td>21.57598</td>\n      <td>...</td>\n      <td>103.989613</td>\n      <td>-147.087258</td>\n      <td>-193.092737</td>\n      <td>-175.082172</td>\n      <td>107.075785</td>\n      <td>68.097900</td>\n      <td>-56.062817</td>\n      <td>-28.067902</td>\n      <td>1.996806</td>\n      <td>None</td>\n    </tr>\n    <tr>\n      <th>205621</th>\n      <td>400057</td>\n      <td>85513</td>\n      <td>20</td>\n      <td>262</td>\n      <td>1388678</td>\n      <td>318975</td>\n      <td>3814.2</td>\n      <td>377.1705</td>\n      <td>0.058</td>\n      <td>20.84094</td>\n      <td>...</td>\n      <td>103.989613</td>\n      <td>-147.087258</td>\n      <td>-193.092737</td>\n      <td>-175.082172</td>\n      <td>107.075785</td>\n      <td>68.097900</td>\n      <td>-56.062817</td>\n      <td>-28.067902</td>\n      <td>1.996806</td>\n      <td>None</td>\n    </tr>\n    <tr>\n      <th>205626</th>\n      <td>399425</td>\n      <td>85514</td>\n      <td>28</td>\n      <td>256</td>\n      <td>353926</td>\n      <td>76704</td>\n      <td>986.7</td>\n      <td>377.1707</td>\n      <td>0.067</td>\n      <td>5.80320</td>\n      <td>...</td>\n      <td>103.989813</td>\n      <td>-160.082307</td>\n      <td>-206.087786</td>\n      <td>-188.077221</td>\n      <td>94.080736</td>\n      <td>106.117121</td>\n      <td>-56.062617</td>\n      <td>-28.067702</td>\n      <td>-10.998243</td>\n      <td>None</td>\n    </tr>\n  </tbody>\n</table>\n<p>1396 rows × 28 columns</p>\n</div>"
     },
     "execution_count": 43,
     "metadata": {},
     "output_type": "execute_result"
    }
   ],
   "source": [
    "peaks = df.loc[df.delta_F.round(2) == -56.06]\n",
    "peaks"
   ],
   "metadata": {
    "collapsed": false,
    "ExecuteTime": {
     "end_time": "2023-07-03T09:15:09.458477Z",
     "start_time": "2023-07-03T09:15:09.316139Z"
    }
   }
  },
  {
   "cell_type": "code",
   "execution_count": 44,
   "outputs": [
    {
     "name": "stdout",
     "output_type": "stream",
     "text": [
      "I: 42\n",
      "M: 10\n",
      "T: 38\n"
     ]
    }
   ],
   "source": [
    "# check for how many different building blocks this occurs\n",
    "print(\"I:\", len(peaks.initiator.unique()))\n",
    "print(\"M:\", len(peaks.monomer.unique()))\n",
    "print(\"T:\", len(peaks.terminator.unique()))"
   ],
   "metadata": {
    "collapsed": false,
    "ExecuteTime": {
     "end_time": "2023-07-03T09:15:09.688150Z",
     "start_time": "2023-07-03T09:15:09.512675Z"
    }
   }
  },
  {
   "cell_type": "code",
   "execution_count": 45,
   "outputs": [
    {
     "name": "stdout",
     "output_type": "stream",
     "text": [
      "M73 Spiro016\n",
      "M34 Mon076\n",
      "M19 Mon016\n",
      "M33 Mon075\n",
      "M18 Mon015\n",
      "M31 Mon072\n",
      "M17 Mon014\n",
      "M20 Mon017\n",
      "M44 Mon090\n",
      "M5 Mon096\n"
     ]
    }
   ],
   "source": [
    "# let's check which monomers are involved\n",
    "for short in peaks.monomer.unique():\n",
    "    print(short, con.get_long_name(short))"
   ],
   "metadata": {
    "collapsed": false,
    "ExecuteTime": {
     "end_time": "2023-07-03T09:15:09.898292Z",
     "start_time": "2023-07-03T09:15:09.746451Z"
    }
   }
  },
  {
   "cell_type": "code",
   "execution_count": 46,
   "outputs": [
    {
     "data": {
      "text/plain": "M18    464\nM34    401\nM17    272\nM44    180\nM20     42\nM33     21\nM5       8\nM19      6\nM73      1\nM31      1\nName: monomer, dtype: int64"
     },
     "execution_count": 46,
     "metadata": {},
     "output_type": "execute_result"
    }
   ],
   "source": [
    "# Let's see where we have frequent occurrences\n",
    "peaks.monomer.value_counts()"
   ],
   "metadata": {
    "collapsed": false,
    "ExecuteTime": {
     "end_time": "2023-07-03T09:15:10.164491Z",
     "start_time": "2023-07-03T09:15:10.085055Z"
    }
   }
  },
  {
   "cell_type": "code",
   "execution_count": 47,
   "outputs": [],
   "source": [
    "con.show_image(\"M20\")"
   ],
   "metadata": {
    "collapsed": false,
    "ExecuteTime": {
     "end_time": "2023-07-03T09:15:11.465026Z",
     "start_time": "2023-07-03T09:15:11.208351Z"
    }
   }
  },
  {
   "cell_type": "markdown",
   "source": [
    "All of these monomers have a Boc or tert-butyl group. We already know this mass difference from the Boc -> carbamic acid fragmentation seen for monomers. For the tert-butyl esters the same fragmentation can occur."
   ],
   "metadata": {
    "collapsed": false
   }
  },
  {
   "cell_type": "code",
   "execution_count": 48,
   "outputs": [
    {
     "name": "stdout",
     "output_type": "stream",
     "text": [
      "1396\n"
     ]
    }
   ],
   "source": [
    "# find and count occurences\n",
    "peaks_f_carbamic_acid = df.loc[df[\"delta_F\"].between(*delta_tert_butyl), \"id\"].to_numpy()\n",
    "print(len(peaks_f_carbamic_acid))"
   ],
   "metadata": {
    "collapsed": false,
    "ExecuteTime": {
     "end_time": "2023-07-03T09:15:16.559856Z",
     "start_time": "2023-07-03T09:15:16.481148Z"
    }
   }
  },
  {
   "cell_type": "code",
   "execution_count": 49,
   "outputs": [],
   "source": [
    "# commit to DB\n",
    "assignment = [f\"F (-tert-butyl fragmentation in MS for Boc or tert-butyl ester)\" for _ in range(len(peaks_f_carbamic_acid))]\n",
    "with con.con:\n",
    "    con.con.executemany(\"INSERT INTO lcms_peaks_assignment (peak_id, assignment) VALUES (?, ?);\", tuple(zip(peaks_f_carbamic_acid.tolist(), assignment)))"
   ],
   "metadata": {
    "collapsed": false,
    "ExecuteTime": {
     "end_time": "2023-07-03T09:15:17.214216Z",
     "start_time": "2023-07-03T09:15:17.119613Z"
    }
   }
  },
  {
   "cell_type": "markdown",
   "source": [
    "Curiously, we don't usually get the fragmentation peak for all other products, only F and unreacted M."
   ],
   "metadata": {
    "collapsed": false
   }
  },
  {
   "cell_type": "markdown",
   "source": [
    "#### Product F −71.985 / Product G -43.990\n",
    "(these are the same)\n",
    "I found this one during analysing the fate of M58.\n",
    "It corresponds to loss of CO2 from G, which is a plausible decarboxylation for beta-2-monomers."
   ],
   "metadata": {
    "collapsed": false
   }
  },
  {
   "cell_type": "code",
   "execution_count": 65,
   "outputs": [
    {
     "data": {
      "text/plain": "             id experiment_id peak_nr retention_time_s     area intensity  \\\n60636   1878192         41480      13              131   510094    107270   \n120982   408992         63352      27              277  1199084    399078   \n133651  2940090         66978      12              174  1286813    434814   \n133654  2940861         66979       9              165  1269506    186868   \n133655  2940863         66979      11              175  1233923    400155   \n...         ...           ...     ...              ...      ...       ...   \n202940   352907         84879      11              167  5912382   2178955   \n202945   368213         84880       9              151  2850181    271802   \n202946   368214         84880      10              169  2777781    882640   \n202951   365555         84881       9              153  2309518    262576   \n202952   365556         84881      10              167  2628301   1086064   \n\n        signal_to_noise    mz_max  fwhm_min      %area  ...   delta_bAA  \\\n60636              10.7  250.1436     0.071   9.187080  ...  104.026045   \n120982            129.7  224.0850     0.045  13.826250  ...   62.026674   \n133651            105.0  251.1177     0.052   5.047331  ...   84.036193   \n133654             44.1  251.1177     0.087   5.317367  ...   84.036193   \n133655             96.7  251.1176     0.053   5.168329  ...   84.036093   \n...                 ...       ...       ...        ...  ...         ...   \n202940            563.8  255.1488     0.040  83.596760  ...   88.067293   \n202945             93.6  255.1491     0.115  38.430050  ...   88.067593   \n202946            306.5  255.1488     0.041  37.453860  ...   88.067293   \n202951             83.5  255.1490     0.157  31.611970  ...   88.067493   \n202952            357.3  255.1489     0.038  35.975370  ...   88.067393   \n\n           delta_A     delta_B     delta_C    delta_D    delta_E    delta_F  \\\n60636  -147.014444 -193.019923 -175.009358 -19.914730 -26.939171 -71.984917   \n120982 -150.984246 -196.989725 -178.979160  -7.943761   3.072224 -71.984957   \n133651 -204.994790 -251.000270 -232.989705 -56.931128 -77.916206 -71.984937   \n133654 -160.009712 -206.015191 -188.004627 -11.946049  12.053951 -71.984937   \n133655 -160.009812 -206.015291 -188.004727 -11.946149  12.053851 -71.985037   \n...            ...         ...         ...        ...        ...        ...   \n202940 -165.966333 -211.971813 -193.961248 -17.902670   4.172209 -71.985137   \n202945 -147.014363 -193.019843 -175.009278   1.049300 -21.933671 -71.984837   \n202946 -147.014663 -193.020143 -175.009578   1.049000 -21.933971 -71.985137   \n202951 -147.014463 -193.019943 -175.009378   1.049200 -21.933771 -71.984937   \n202952 -147.014563 -193.020043 -175.009478   1.049100 -21.933871 -71.985037   \n\n          delta_G    delta_H                  assignment  \n60636  -43.990003  18.028149                        None  \n120982 -43.990042 -27.940984  T cyclohexanone condensate  \n133651 -43.990022 -59.942027                        None  \n133654 -43.990022 -14.956948                        None  \n133655 -43.990122 -14.957048                        None  \n...           ...        ...                         ...  \n202940 -43.990222 -16.882269                        None  \n202945 -43.989922   2.069701                        None  \n202946 -43.990222   2.069401                        None  \n202951 -43.990022   2.069601                        None  \n202952 -43.990122   2.069501                        None  \n\n[796 rows x 28 columns]",
      "text/html": "<div>\n<style scoped>\n    .dataframe tbody tr th:only-of-type {\n        vertical-align: middle;\n    }\n\n    .dataframe tbody tr th {\n        vertical-align: top;\n    }\n\n    .dataframe thead th {\n        text-align: right;\n    }\n</style>\n<table border=\"1\" class=\"dataframe\">\n  <thead>\n    <tr style=\"text-align: right;\">\n      <th></th>\n      <th>id</th>\n      <th>experiment_id</th>\n      <th>peak_nr</th>\n      <th>retention_time_s</th>\n      <th>area</th>\n      <th>intensity</th>\n      <th>signal_to_noise</th>\n      <th>mz_max</th>\n      <th>fwhm_min</th>\n      <th>%area</th>\n      <th>...</th>\n      <th>delta_bAA</th>\n      <th>delta_A</th>\n      <th>delta_B</th>\n      <th>delta_C</th>\n      <th>delta_D</th>\n      <th>delta_E</th>\n      <th>delta_F</th>\n      <th>delta_G</th>\n      <th>delta_H</th>\n      <th>assignment</th>\n    </tr>\n  </thead>\n  <tbody>\n    <tr>\n      <th>60636</th>\n      <td>1878192</td>\n      <td>41480</td>\n      <td>13</td>\n      <td>131</td>\n      <td>510094</td>\n      <td>107270</td>\n      <td>10.7</td>\n      <td>250.1436</td>\n      <td>0.071</td>\n      <td>9.187080</td>\n      <td>...</td>\n      <td>104.026045</td>\n      <td>-147.014444</td>\n      <td>-193.019923</td>\n      <td>-175.009358</td>\n      <td>-19.914730</td>\n      <td>-26.939171</td>\n      <td>-71.984917</td>\n      <td>-43.990003</td>\n      <td>18.028149</td>\n      <td>None</td>\n    </tr>\n    <tr>\n      <th>120982</th>\n      <td>408992</td>\n      <td>63352</td>\n      <td>27</td>\n      <td>277</td>\n      <td>1199084</td>\n      <td>399078</td>\n      <td>129.7</td>\n      <td>224.0850</td>\n      <td>0.045</td>\n      <td>13.826250</td>\n      <td>...</td>\n      <td>62.026674</td>\n      <td>-150.984246</td>\n      <td>-196.989725</td>\n      <td>-178.979160</td>\n      <td>-7.943761</td>\n      <td>3.072224</td>\n      <td>-71.984957</td>\n      <td>-43.990042</td>\n      <td>-27.940984</td>\n      <td>T cyclohexanone condensate</td>\n    </tr>\n    <tr>\n      <th>133651</th>\n      <td>2940090</td>\n      <td>66978</td>\n      <td>12</td>\n      <td>174</td>\n      <td>1286813</td>\n      <td>434814</td>\n      <td>105.0</td>\n      <td>251.1177</td>\n      <td>0.052</td>\n      <td>5.047331</td>\n      <td>...</td>\n      <td>84.036193</td>\n      <td>-204.994790</td>\n      <td>-251.000270</td>\n      <td>-232.989705</td>\n      <td>-56.931128</td>\n      <td>-77.916206</td>\n      <td>-71.984937</td>\n      <td>-43.990022</td>\n      <td>-59.942027</td>\n      <td>None</td>\n    </tr>\n    <tr>\n      <th>133654</th>\n      <td>2940861</td>\n      <td>66979</td>\n      <td>9</td>\n      <td>165</td>\n      <td>1269506</td>\n      <td>186868</td>\n      <td>44.1</td>\n      <td>251.1177</td>\n      <td>0.087</td>\n      <td>5.317367</td>\n      <td>...</td>\n      <td>84.036193</td>\n      <td>-160.009712</td>\n      <td>-206.015191</td>\n      <td>-188.004627</td>\n      <td>-11.946049</td>\n      <td>12.053951</td>\n      <td>-71.984937</td>\n      <td>-43.990022</td>\n      <td>-14.956948</td>\n      <td>None</td>\n    </tr>\n    <tr>\n      <th>133655</th>\n      <td>2940863</td>\n      <td>66979</td>\n      <td>11</td>\n      <td>175</td>\n      <td>1233923</td>\n      <td>400155</td>\n      <td>96.7</td>\n      <td>251.1176</td>\n      <td>0.053</td>\n      <td>5.168329</td>\n      <td>...</td>\n      <td>84.036093</td>\n      <td>-160.009812</td>\n      <td>-206.015291</td>\n      <td>-188.004727</td>\n      <td>-11.946149</td>\n      <td>12.053851</td>\n      <td>-71.985037</td>\n      <td>-43.990122</td>\n      <td>-14.957048</td>\n      <td>None</td>\n    </tr>\n    <tr>\n      <th>...</th>\n      <td>...</td>\n      <td>...</td>\n      <td>...</td>\n      <td>...</td>\n      <td>...</td>\n      <td>...</td>\n      <td>...</td>\n      <td>...</td>\n      <td>...</td>\n      <td>...</td>\n      <td>...</td>\n      <td>...</td>\n      <td>...</td>\n      <td>...</td>\n      <td>...</td>\n      <td>...</td>\n      <td>...</td>\n      <td>...</td>\n      <td>...</td>\n      <td>...</td>\n      <td>...</td>\n    </tr>\n    <tr>\n      <th>202940</th>\n      <td>352907</td>\n      <td>84879</td>\n      <td>11</td>\n      <td>167</td>\n      <td>5912382</td>\n      <td>2178955</td>\n      <td>563.8</td>\n      <td>255.1488</td>\n      <td>0.040</td>\n      <td>83.596760</td>\n      <td>...</td>\n      <td>88.067293</td>\n      <td>-165.966333</td>\n      <td>-211.971813</td>\n      <td>-193.961248</td>\n      <td>-17.902670</td>\n      <td>4.172209</td>\n      <td>-71.985137</td>\n      <td>-43.990222</td>\n      <td>-16.882269</td>\n      <td>None</td>\n    </tr>\n    <tr>\n      <th>202945</th>\n      <td>368213</td>\n      <td>84880</td>\n      <td>9</td>\n      <td>151</td>\n      <td>2850181</td>\n      <td>271802</td>\n      <td>93.6</td>\n      <td>255.1491</td>\n      <td>0.115</td>\n      <td>38.430050</td>\n      <td>...</td>\n      <td>88.067593</td>\n      <td>-147.014363</td>\n      <td>-193.019843</td>\n      <td>-175.009278</td>\n      <td>1.049300</td>\n      <td>-21.933671</td>\n      <td>-71.984837</td>\n      <td>-43.989922</td>\n      <td>2.069701</td>\n      <td>None</td>\n    </tr>\n    <tr>\n      <th>202946</th>\n      <td>368214</td>\n      <td>84880</td>\n      <td>10</td>\n      <td>169</td>\n      <td>2777781</td>\n      <td>882640</td>\n      <td>306.5</td>\n      <td>255.1488</td>\n      <td>0.041</td>\n      <td>37.453860</td>\n      <td>...</td>\n      <td>88.067293</td>\n      <td>-147.014663</td>\n      <td>-193.020143</td>\n      <td>-175.009578</td>\n      <td>1.049000</td>\n      <td>-21.933971</td>\n      <td>-71.985137</td>\n      <td>-43.990222</td>\n      <td>2.069401</td>\n      <td>None</td>\n    </tr>\n    <tr>\n      <th>202951</th>\n      <td>365555</td>\n      <td>84881</td>\n      <td>9</td>\n      <td>153</td>\n      <td>2309518</td>\n      <td>262576</td>\n      <td>83.5</td>\n      <td>255.1490</td>\n      <td>0.157</td>\n      <td>31.611970</td>\n      <td>...</td>\n      <td>88.067493</td>\n      <td>-147.014463</td>\n      <td>-193.019943</td>\n      <td>-175.009378</td>\n      <td>1.049200</td>\n      <td>-21.933771</td>\n      <td>-71.984937</td>\n      <td>-43.990022</td>\n      <td>2.069601</td>\n      <td>None</td>\n    </tr>\n    <tr>\n      <th>202952</th>\n      <td>365556</td>\n      <td>84881</td>\n      <td>10</td>\n      <td>167</td>\n      <td>2628301</td>\n      <td>1086064</td>\n      <td>357.3</td>\n      <td>255.1489</td>\n      <td>0.038</td>\n      <td>35.975370</td>\n      <td>...</td>\n      <td>88.067393</td>\n      <td>-147.014563</td>\n      <td>-193.020043</td>\n      <td>-175.009478</td>\n      <td>1.049100</td>\n      <td>-21.933871</td>\n      <td>-71.985037</td>\n      <td>-43.990122</td>\n      <td>2.069501</td>\n      <td>None</td>\n    </tr>\n  </tbody>\n</table>\n<p>796 rows × 28 columns</p>\n</div>"
     },
     "execution_count": 65,
     "metadata": {},
     "output_type": "execute_result"
    }
   ],
   "source": [
    "peaks = df.loc[df.delta_G.between(-43.991, -43.989)]\n",
    "peaks"
   ],
   "metadata": {
    "collapsed": false,
    "ExecuteTime": {
     "end_time": "2023-07-03T09:20:15.866851Z",
     "start_time": "2023-07-03T09:20:15.838108Z"
    }
   }
  },
  {
   "cell_type": "code",
   "execution_count": 66,
   "outputs": [
    {
     "name": "stdout",
     "output_type": "stream",
     "text": [
      "I: 47\n",
      "M: 5\n",
      "T: 40\n"
     ]
    }
   ],
   "source": [
    "# check for how many different building blocks this occurs\n",
    "print(\"I:\", len(peaks.initiator.unique()))\n",
    "print(\"M:\", len(peaks.monomer.unique()))\n",
    "print(\"T:\", len(peaks.terminator.unique()))"
   ],
   "metadata": {
    "collapsed": false,
    "ExecuteTime": {
     "end_time": "2023-07-03T09:20:29.577567Z",
     "start_time": "2023-07-03T09:20:29.557380Z"
    }
   }
  },
  {
   "cell_type": "code",
   "execution_count": 67,
   "outputs": [
    {
     "name": "stdout",
     "output_type": "stream",
     "text": [
      "M11 Mon003\n",
      "M68 Spiro011\n",
      "M58 Mon104\n",
      "M73 Spiro016\n",
      "M57 Mon103\n"
     ]
    }
   ],
   "source": [
    "# let's check which monomers are involved\n",
    "for short in peaks.monomer.unique():\n",
    "    print(short, con.get_long_name(short))"
   ],
   "metadata": {
    "collapsed": false,
    "ExecuteTime": {
     "end_time": "2023-07-03T09:20:30.283788Z",
     "start_time": "2023-07-03T09:20:30.231903Z"
    }
   }
  },
  {
   "cell_type": "code",
   "execution_count": 68,
   "outputs": [
    {
     "data": {
      "text/plain": "M58    407\nM57    386\nM11      1\nM68      1\nM73      1\nName: monomer, dtype: int64"
     },
     "execution_count": 68,
     "metadata": {},
     "output_type": "execute_result"
    }
   ],
   "source": [
    "# Let's see where we have frequent occurrences\n",
    "peaks.monomer.value_counts()"
   ],
   "metadata": {
    "collapsed": false,
    "ExecuteTime": {
     "end_time": "2023-07-03T09:20:32.153918Z",
     "start_time": "2023-07-03T09:20:32.097951Z"
    }
   }
  },
  {
   "cell_type": "markdown",
   "source": [
    "The ones with M11, M68, M73 are likely random m/z collisions. We only consider the ones with M57 and M58."
   ],
   "metadata": {
    "collapsed": false
   }
  },
  {
   "cell_type": "code",
   "execution_count": 69,
   "outputs": [
    {
     "name": "stdout",
     "output_type": "stream",
     "text": [
      "793\n"
     ]
    }
   ],
   "source": [
    "# find and count occurences\n",
    "peaks_g_decarbox = peaks.loc[peaks[\"monomer\"].isin([\"M57\", \"M58\"]), \"id\"].to_numpy()\n",
    "print(len(peaks_g_decarbox))"
   ],
   "metadata": {
    "collapsed": false,
    "ExecuteTime": {
     "end_time": "2023-07-03T09:20:34.647440Z",
     "start_time": "2023-07-03T09:20:34.631325Z"
    }
   }
  },
  {
   "cell_type": "code",
   "execution_count": 70,
   "outputs": [],
   "source": [
    "# commit to DB\n",
    "assignment = [f\"G_decarboxylated\" for _ in range(len(peaks_g_decarbox))]\n",
    "with con.con:\n",
    "    con.con.executemany(\"INSERT INTO lcms_peaks_assignment (peak_id, assignment) VALUES (?, ?);\", tuple(zip(peaks_g_decarbox.tolist(), assignment)))"
   ],
   "metadata": {
    "collapsed": false,
    "ExecuteTime": {
     "end_time": "2023-07-03T09:20:35.659279Z",
     "start_time": "2023-07-03T09:20:35.594064Z"
    }
   }
  },
  {
   "cell_type": "markdown",
   "source": [
    "## Summary"
   ],
   "metadata": {
    "collapsed": false
   }
  },
  {
   "cell_type": "code",
   "execution_count": 22,
   "outputs": [
    {
     "data": {
      "text/plain": "           id experiment_id peak_nr retention_time_s      area intensity  \\\n16707  841547         20589       5               48  16453408    570256   \n16708  841571         20589      29              294   1308911    539379   \n\n       signal_to_noise    mz_max  fwhm_min      %area  ...  delta_bAA  \\\n16707            185.5  179.0164     0.475  100.00000  ... -66.970865   \n16708            173.6  325.0833     0.044    7.95526  ...  79.096035   \n\n          delta_A     delta_B     delta_C     delta_D   delta_E     delta_F  \\\n16707 -461.084853 -507.090332 -489.079767 -234.115429 -158.0875 -356.044762   \n16708 -315.017953 -361.023432 -343.012867  -88.048529  -12.0206 -209.977862   \n\n          delta_G     delta_H  assignment  \n16707 -328.049847 -182.979325        None  \n16708 -181.982947  -36.912425        None  \n\n[2 rows x 28 columns]",
      "text/html": "<div>\n<style scoped>\n    .dataframe tbody tr th:only-of-type {\n        vertical-align: middle;\n    }\n\n    .dataframe tbody tr th {\n        vertical-align: top;\n    }\n\n    .dataframe thead th {\n        text-align: right;\n    }\n</style>\n<table border=\"1\" class=\"dataframe\">\n  <thead>\n    <tr style=\"text-align: right;\">\n      <th></th>\n      <th>id</th>\n      <th>experiment_id</th>\n      <th>peak_nr</th>\n      <th>retention_time_s</th>\n      <th>area</th>\n      <th>intensity</th>\n      <th>signal_to_noise</th>\n      <th>mz_max</th>\n      <th>fwhm_min</th>\n      <th>%area</th>\n      <th>...</th>\n      <th>delta_bAA</th>\n      <th>delta_A</th>\n      <th>delta_B</th>\n      <th>delta_C</th>\n      <th>delta_D</th>\n      <th>delta_E</th>\n      <th>delta_F</th>\n      <th>delta_G</th>\n      <th>delta_H</th>\n      <th>assignment</th>\n    </tr>\n  </thead>\n  <tbody>\n    <tr>\n      <th>16707</th>\n      <td>841547</td>\n      <td>20589</td>\n      <td>5</td>\n      <td>48</td>\n      <td>16453408</td>\n      <td>570256</td>\n      <td>185.5</td>\n      <td>179.0164</td>\n      <td>0.475</td>\n      <td>100.00000</td>\n      <td>...</td>\n      <td>-66.970865</td>\n      <td>-461.084853</td>\n      <td>-507.090332</td>\n      <td>-489.079767</td>\n      <td>-234.115429</td>\n      <td>-158.0875</td>\n      <td>-356.044762</td>\n      <td>-328.049847</td>\n      <td>-182.979325</td>\n      <td>None</td>\n    </tr>\n    <tr>\n      <th>16708</th>\n      <td>841571</td>\n      <td>20589</td>\n      <td>29</td>\n      <td>294</td>\n      <td>1308911</td>\n      <td>539379</td>\n      <td>173.6</td>\n      <td>325.0833</td>\n      <td>0.044</td>\n      <td>7.95526</td>\n      <td>...</td>\n      <td>79.096035</td>\n      <td>-315.017953</td>\n      <td>-361.023432</td>\n      <td>-343.012867</td>\n      <td>-88.048529</td>\n      <td>-12.0206</td>\n      <td>-209.977862</td>\n      <td>-181.982947</td>\n      <td>-36.912425</td>\n      <td>None</td>\n    </tr>\n  </tbody>\n</table>\n<p>2 rows × 28 columns</p>\n</div>"
     },
     "execution_count": 22,
     "metadata": {},
     "output_type": "execute_result"
    }
   ],
   "source": [
    "df.loc[df[\"experiment_id\"] == 20589]"
   ],
   "metadata": {
    "collapsed": false,
    "ExecuteTime": {
     "end_time": "2023-06-26T15:35:25.148155Z",
     "start_time": "2023-06-26T15:35:25.123779Z"
    }
   }
  },
  {
   "cell_type": "code",
   "execution_count": 6,
   "outputs": [
    {
     "data": {
      "text/plain": "            id experiment_id peak_nr retention_time_s    area intensity  \\\n4       524156         10579     115              245  371927     72549   \n7       516525         10580     162              362  917843    223037   \n8       516528         10580     165              362  520875    203617   \n10      532645         10581     110              274  362967     89435   \n20      521701         10582     131              242  145022     57629   \n...        ...           ...     ...              ...     ...       ...   \n205656  401424         85521      28              267  444307    136591   \n205657  401428         85521      32              274  140629     47175   \n205658  401431         85521      35              293  124932     41486   \n205659  401434         85521      38              305  131011     48852   \n205660  401435         85521      39              326  128159     28325   \n\n        signal_to_noise    mz_max  fwhm_min     %area  ...   delta_bAA  \\\n4                  35.9  274.2743     0.088   5.57669  ...   56.135612   \n7                3555.3  588.0722     0.060  13.73421  ...  369.933512   \n8                  89.5  588.0721     0.051   7.79416  ...  369.933412   \n10                 31.9  405.1966     0.068   5.07251  ...  187.057912   \n20                 26.5  274.2743     0.048  11.76016  ...   56.135612   \n...                 ...       ...       ...       ...  ...         ...   \n205656             59.2  475.1570     0.043  25.84048  ...  291.080167   \n205657             20.2  473.1438     0.041   8.17887  ...  289.066967   \n205658             17.4  691.2559     0.043   7.26593  ...  507.179067   \n205659             20.3  711.2244     0.043   7.61949  ...  527.147567   \n205660             10.9  282.1698     0.070   7.45362  ...   98.092967   \n\n           delta_A     delta_B     delta_C     delta_D     delta_E  \\\n4      -187.861818 -233.867298 -215.856733   11.259025   55.229555   \n7        48.004524    1.999045   20.009610  247.125368  213.164340   \n8        48.004424    1.998945   20.009510  247.125268  213.164240   \n10     -109.991220 -155.996699 -137.986134   89.129624   80.048452   \n20     -214.886636 -260.892115 -242.881551  -15.765793  -62.829600   \n...            ...         ...         ...         ...         ...   \n205656   55.998207    9.992728   28.003293  221.057200  198.074229   \n205657   53.985007    7.979528   25.990093  219.044000  196.061029   \n205658  272.097107  226.091628  244.102193  437.156100  414.173129   \n205659  292.065607  246.060128  264.070693  457.124600  434.141629   \n205660 -136.988993 -182.994472 -164.983907   28.070000    5.087029   \n\n           delta_F     delta_G     delta_H  assignment  \n4      -109.846545  -81.851630  -32.848027        None  \n7       203.951355  231.946270  203.018316        None  \n8       203.951255  231.946170  203.018216        None  \n10       21.075755   49.070670   45.022572        None  \n20     -109.846545  -81.851630  -59.872845        None  \n...            ...         ...         ...         ...  \n205656  131.027734  159.022648  205.082271        None  \n205657  129.014534  157.009448  203.069071        None  \n205658  347.126634  375.121548  421.181171        None  \n205659  367.095134  395.090048  441.149671        None  \n205660  -61.959466  -33.964552   12.095071        None  \n\n[57363 rows x 28 columns]",
      "text/html": "<div>\n<style scoped>\n    .dataframe tbody tr th:only-of-type {\n        vertical-align: middle;\n    }\n\n    .dataframe tbody tr th {\n        vertical-align: top;\n    }\n\n    .dataframe thead th {\n        text-align: right;\n    }\n</style>\n<table border=\"1\" class=\"dataframe\">\n  <thead>\n    <tr style=\"text-align: right;\">\n      <th></th>\n      <th>id</th>\n      <th>experiment_id</th>\n      <th>peak_nr</th>\n      <th>retention_time_s</th>\n      <th>area</th>\n      <th>intensity</th>\n      <th>signal_to_noise</th>\n      <th>mz_max</th>\n      <th>fwhm_min</th>\n      <th>%area</th>\n      <th>...</th>\n      <th>delta_bAA</th>\n      <th>delta_A</th>\n      <th>delta_B</th>\n      <th>delta_C</th>\n      <th>delta_D</th>\n      <th>delta_E</th>\n      <th>delta_F</th>\n      <th>delta_G</th>\n      <th>delta_H</th>\n      <th>assignment</th>\n    </tr>\n  </thead>\n  <tbody>\n    <tr>\n      <th>4</th>\n      <td>524156</td>\n      <td>10579</td>\n      <td>115</td>\n      <td>245</td>\n      <td>371927</td>\n      <td>72549</td>\n      <td>35.9</td>\n      <td>274.2743</td>\n      <td>0.088</td>\n      <td>5.57669</td>\n      <td>...</td>\n      <td>56.135612</td>\n      <td>-187.861818</td>\n      <td>-233.867298</td>\n      <td>-215.856733</td>\n      <td>11.259025</td>\n      <td>55.229555</td>\n      <td>-109.846545</td>\n      <td>-81.851630</td>\n      <td>-32.848027</td>\n      <td>None</td>\n    </tr>\n    <tr>\n      <th>7</th>\n      <td>516525</td>\n      <td>10580</td>\n      <td>162</td>\n      <td>362</td>\n      <td>917843</td>\n      <td>223037</td>\n      <td>3555.3</td>\n      <td>588.0722</td>\n      <td>0.060</td>\n      <td>13.73421</td>\n      <td>...</td>\n      <td>369.933512</td>\n      <td>48.004524</td>\n      <td>1.999045</td>\n      <td>20.009610</td>\n      <td>247.125368</td>\n      <td>213.164340</td>\n      <td>203.951355</td>\n      <td>231.946270</td>\n      <td>203.018316</td>\n      <td>None</td>\n    </tr>\n    <tr>\n      <th>8</th>\n      <td>516528</td>\n      <td>10580</td>\n      <td>165</td>\n      <td>362</td>\n      <td>520875</td>\n      <td>203617</td>\n      <td>89.5</td>\n      <td>588.0721</td>\n      <td>0.051</td>\n      <td>7.79416</td>\n      <td>...</td>\n      <td>369.933412</td>\n      <td>48.004424</td>\n      <td>1.998945</td>\n      <td>20.009510</td>\n      <td>247.125268</td>\n      <td>213.164240</td>\n      <td>203.951255</td>\n      <td>231.946170</td>\n      <td>203.018216</td>\n      <td>None</td>\n    </tr>\n    <tr>\n      <th>10</th>\n      <td>532645</td>\n      <td>10581</td>\n      <td>110</td>\n      <td>274</td>\n      <td>362967</td>\n      <td>89435</td>\n      <td>31.9</td>\n      <td>405.1966</td>\n      <td>0.068</td>\n      <td>5.07251</td>\n      <td>...</td>\n      <td>187.057912</td>\n      <td>-109.991220</td>\n      <td>-155.996699</td>\n      <td>-137.986134</td>\n      <td>89.129624</td>\n      <td>80.048452</td>\n      <td>21.075755</td>\n      <td>49.070670</td>\n      <td>45.022572</td>\n      <td>None</td>\n    </tr>\n    <tr>\n      <th>20</th>\n      <td>521701</td>\n      <td>10582</td>\n      <td>131</td>\n      <td>242</td>\n      <td>145022</td>\n      <td>57629</td>\n      <td>26.5</td>\n      <td>274.2743</td>\n      <td>0.048</td>\n      <td>11.76016</td>\n      <td>...</td>\n      <td>56.135612</td>\n      <td>-214.886636</td>\n      <td>-260.892115</td>\n      <td>-242.881551</td>\n      <td>-15.765793</td>\n      <td>-62.829600</td>\n      <td>-109.846545</td>\n      <td>-81.851630</td>\n      <td>-59.872845</td>\n      <td>None</td>\n    </tr>\n    <tr>\n      <th>...</th>\n      <td>...</td>\n      <td>...</td>\n      <td>...</td>\n      <td>...</td>\n      <td>...</td>\n      <td>...</td>\n      <td>...</td>\n      <td>...</td>\n      <td>...</td>\n      <td>...</td>\n      <td>...</td>\n      <td>...</td>\n      <td>...</td>\n      <td>...</td>\n      <td>...</td>\n      <td>...</td>\n      <td>...</td>\n      <td>...</td>\n      <td>...</td>\n      <td>...</td>\n      <td>...</td>\n    </tr>\n    <tr>\n      <th>205656</th>\n      <td>401424</td>\n      <td>85521</td>\n      <td>28</td>\n      <td>267</td>\n      <td>444307</td>\n      <td>136591</td>\n      <td>59.2</td>\n      <td>475.1570</td>\n      <td>0.043</td>\n      <td>25.84048</td>\n      <td>...</td>\n      <td>291.080167</td>\n      <td>55.998207</td>\n      <td>9.992728</td>\n      <td>28.003293</td>\n      <td>221.057200</td>\n      <td>198.074229</td>\n      <td>131.027734</td>\n      <td>159.022648</td>\n      <td>205.082271</td>\n      <td>None</td>\n    </tr>\n    <tr>\n      <th>205657</th>\n      <td>401428</td>\n      <td>85521</td>\n      <td>32</td>\n      <td>274</td>\n      <td>140629</td>\n      <td>47175</td>\n      <td>20.2</td>\n      <td>473.1438</td>\n      <td>0.041</td>\n      <td>8.17887</td>\n      <td>...</td>\n      <td>289.066967</td>\n      <td>53.985007</td>\n      <td>7.979528</td>\n      <td>25.990093</td>\n      <td>219.044000</td>\n      <td>196.061029</td>\n      <td>129.014534</td>\n      <td>157.009448</td>\n      <td>203.069071</td>\n      <td>None</td>\n    </tr>\n    <tr>\n      <th>205658</th>\n      <td>401431</td>\n      <td>85521</td>\n      <td>35</td>\n      <td>293</td>\n      <td>124932</td>\n      <td>41486</td>\n      <td>17.4</td>\n      <td>691.2559</td>\n      <td>0.043</td>\n      <td>7.26593</td>\n      <td>...</td>\n      <td>507.179067</td>\n      <td>272.097107</td>\n      <td>226.091628</td>\n      <td>244.102193</td>\n      <td>437.156100</td>\n      <td>414.173129</td>\n      <td>347.126634</td>\n      <td>375.121548</td>\n      <td>421.181171</td>\n      <td>None</td>\n    </tr>\n    <tr>\n      <th>205659</th>\n      <td>401434</td>\n      <td>85521</td>\n      <td>38</td>\n      <td>305</td>\n      <td>131011</td>\n      <td>48852</td>\n      <td>20.3</td>\n      <td>711.2244</td>\n      <td>0.043</td>\n      <td>7.61949</td>\n      <td>...</td>\n      <td>527.147567</td>\n      <td>292.065607</td>\n      <td>246.060128</td>\n      <td>264.070693</td>\n      <td>457.124600</td>\n      <td>434.141629</td>\n      <td>367.095134</td>\n      <td>395.090048</td>\n      <td>441.149671</td>\n      <td>None</td>\n    </tr>\n    <tr>\n      <th>205660</th>\n      <td>401435</td>\n      <td>85521</td>\n      <td>39</td>\n      <td>326</td>\n      <td>128159</td>\n      <td>28325</td>\n      <td>10.9</td>\n      <td>282.1698</td>\n      <td>0.070</td>\n      <td>7.45362</td>\n      <td>...</td>\n      <td>98.092967</td>\n      <td>-136.988993</td>\n      <td>-182.994472</td>\n      <td>-164.983907</td>\n      <td>28.070000</td>\n      <td>5.087029</td>\n      <td>-61.959466</td>\n      <td>-33.964552</td>\n      <td>12.095071</td>\n      <td>None</td>\n    </tr>\n  </tbody>\n</table>\n<p>57363 rows × 28 columns</p>\n</div>"
     },
     "execution_count": 6,
     "metadata": {},
     "output_type": "execute_result"
    }
   ],
   "source": [
    "# let's get a new version from DB and see what unassigned peaks we have left!\n",
    "reaction_ids = con.get_reaction_ids_for_building_block(filter_exp_nr=(4, 29))\n",
    "df = pd.concat([con.get_lcms_peaks(i, with_delta=True, with_assignment=True, with_building_blocks=True) for i in reaction_ids]).reset_index(drop=True)\n",
    "# filter a bit: only unidentified peaks, and only those with a retention time > 4 min (240 s), and only with an m/z over 200\n",
    "df_unassigned = df.loc[df[\"assignment\"].isna() & (df[\"retention_time_s\"] > 240) & (df[\"mz_max\"] > 200)]\n",
    "df_unassigned"
   ],
   "metadata": {
    "collapsed": false,
    "ExecuteTime": {
     "end_time": "2023-06-26T11:57:34.492964Z",
     "start_time": "2023-06-26T11:57:08.417490Z"
    }
   }
  },
  {
   "cell_type": "code",
   "execution_count": 23,
   "outputs": [
    {
     "data": {
      "text/plain": "55693"
     },
     "execution_count": 23,
     "metadata": {},
     "output_type": "execute_result"
    }
   ],
   "source": [
    "con.con.execute('SELECT COUNT(*) FROM lcms_peaks WHERE \"%area\" = 100').fetchone()[0]\n"
   ],
   "metadata": {
    "collapsed": false,
    "ExecuteTime": {
     "end_time": "2023-06-26T15:36:17.789856Z",
     "start_time": "2023-06-26T15:36:17.581666Z"
    }
   }
  },
  {
   "cell_type": "code",
   "execution_count": 21,
   "outputs": [
    {
     "data": {
      "text/plain": "51499"
     },
     "execution_count": 21,
     "metadata": {},
     "output_type": "execute_result"
    }
   ],
   "source": [
    "con.con.execute('SELECT COUNT(*) FROM lcms_peaks JOIN lcms_peaks_assignment ON lcms_peaks.id = lcms_peaks_assignment.peak_id WHERE assignment IS NOT NULL AND \"%area\" = 100;').fetchone()[0]\n"
   ],
   "metadata": {
    "collapsed": false,
    "ExecuteTime": {
     "end_time": "2023-06-26T15:32:50.228781Z",
     "start_time": "2023-06-26T15:32:50.033931Z"
    }
   }
  },
  {
   "cell_type": "code",
   "execution_count": 14,
   "outputs": [
    {
     "data": {
      "text/plain": "85613"
     },
     "execution_count": 14,
     "metadata": {},
     "output_type": "execute_result"
    }
   ],
   "source": [
    "# number of peaks in the \"interesting\" region\n",
    "len(df.loc[(df[\"retention_time_s\"] > 240) & (df[\"mz_max\"] > 200)])"
   ],
   "metadata": {
    "collapsed": false,
    "ExecuteTime": {
     "end_time": "2023-06-26T14:41:15.594200Z",
     "start_time": "2023-06-26T14:41:15.538234Z"
    }
   }
  },
  {
   "cell_type": "code",
   "execution_count": 8,
   "outputs": [
    {
     "data": {
      "text/plain": "57363"
     },
     "execution_count": 8,
     "metadata": {},
     "output_type": "execute_result"
    }
   ],
   "source": [
    "# number of unassigned peaks in the \"interesting\" region\n",
    "len(df_unassigned)"
   ],
   "metadata": {
    "collapsed": false,
    "ExecuteTime": {
     "end_time": "2023-06-26T11:57:53.577476Z",
     "start_time": "2023-06-26T11:57:53.551388Z"
    }
   }
  },
  {
   "cell_type": "code",
   "execution_count": 15,
   "outputs": [
    {
     "data": {
      "text/plain": "502626"
     },
     "execution_count": 15,
     "metadata": {},
     "output_type": "execute_result"
    }
   ],
   "source": [
    "# total number of peaks >5% area\n",
    "con.con.execute('SELECT COUNT(*) FROM lcms_peaks WHERE \"%area\" > 5;').fetchone()[0]"
   ],
   "metadata": {
    "collapsed": false,
    "ExecuteTime": {
     "end_time": "2023-06-26T14:42:14.407972Z",
     "start_time": "2023-06-26T14:42:13.734223Z"
    }
   }
  },
  {
   "cell_type": "code",
   "execution_count": 16,
   "outputs": [
    {
     "data": {
      "text/plain": "383716"
     },
     "execution_count": 16,
     "metadata": {},
     "output_type": "execute_result"
    }
   ],
   "source": [
    "# total number of assigned peaks >5% area\n",
    "con.con.execute('SELECT COUNT(*) FROM lcms_peaks JOIN lcms_peaks_assignment ON lcms_peaks.id = lcms_peaks_assignment.peak_id WHERE assignment IS NOT NULL AND \"%area\" > 5;').fetchone()[0]"
   ],
   "metadata": {
    "collapsed": false,
    "ExecuteTime": {
     "end_time": "2023-06-26T14:43:04.343967Z",
     "start_time": "2023-06-26T14:43:03.797499Z"
    }
   }
  },
  {
   "cell_type": "code",
   "execution_count": null,
   "outputs": [],
   "source": [],
   "metadata": {
    "collapsed": false
   }
  }
 ],
 "metadata": {
  "kernelspec": {
   "display_name": "Python 3 (ipykernel)",
   "language": "python",
   "name": "python3"
  },
  "language_info": {
   "codemirror_mode": {
    "name": "ipython",
    "version": 3
   },
   "file_extension": ".py",
   "mimetype": "text/x-python",
   "name": "python",
   "nbconvert_exporter": "python",
   "pygments_lexer": "ipython3",
   "version": "3.9.7"
  }
 },
 "nbformat": 4,
 "nbformat_minor": 5
}
