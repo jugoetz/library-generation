{
 "cells": [
  {
   "cell_type": "markdown",
   "id": "0",
   "metadata": {},
   "source": [
    "### Calculate Morgan FP for the PRIME virtual library and save to CSV"
   ]
  },
  {
   "cell_type": "code",
   "execution_count": null,
   "id": "1",
   "metadata": {},
   "outputs": [],
   "source": [
    "import random\n",
    "\n",
    "import pandas as pd\n",
    "from rdkit import Chem\n",
    "from rdkit.Chem import rdMolDescriptors, PandasTools"
   ]
  },
  {
   "cell_type": "code",
   "execution_count": null,
   "id": "2",
   "metadata": {},
   "outputs": [],
   "source": [
    "df = pd.read_csv(\"../data/Data S4.csv\")\n",
    "df.head()"
   ]
  },
  {
   "cell_type": "code",
   "execution_count": null,
   "id": "3",
   "metadata": {},
   "outputs": [],
   "source": [
    "# calculate Morgan fingerprints\n",
    "fps = [rdMolDescriptors.GetMorganFingerprintAsBitVect(Chem.MolFromSmiles(smi), radius=3, nBits=1024).ToBitString() \n",
    "       for smi in df[\"product\"]]\n",
    "df[\"MorganFP\"] = fps"
   ]
  },
  {
   "cell_type": "code",
   "execution_count": null,
   "id": "4",
   "metadata": {},
   "outputs": [],
   "source": [
    "# calculate MACCSKeys fingerprints\n",
    "fps = [rdMolDescriptors.GetMACCSKeysFingerprint(Chem.MolFromSmiles(smi)).ToBitString() \n",
    "       for smi in df[\"product\"]]\n",
    "df[\"MACCSKeysFP\"] = fps"
   ]
  },
  {
   "cell_type": "code",
   "execution_count": null,
   "id": "5",
   "metadata": {},
   "outputs": [],
   "source": [
    "df.head()"
   ]
  },
  {
   "cell_type": "code",
   "execution_count": null,
   "id": "6",
   "metadata": {},
   "outputs": [],
   "source": [
    "df.to_csv(\"../data/dataS4_with_fps.csv.bz2\", index=False)"
   ]
  },
  {
   "cell_type": "markdown",
   "id": "7",
   "metadata": {},
   "source": [
    "### Calculate MorganFP for the Enamine hit locator library and save to CSV"
   ]
  },
  {
   "cell_type": "code",
   "execution_count": null,
   "id": "8",
   "metadata": {},
   "outputs": [],
   "source": [
    "# import Enamine hit locator library\n",
    "df = PandasTools.LoadSDF(\"../data/Enamine_Hit_Locator_Library_HLL-460_460160cmpds_20220221.sdf\")\n",
    "df.head()"
   ]
  },
  {
   "cell_type": "code",
   "execution_count": null,
   "id": "9",
   "metadata": {},
   "outputs": [],
   "source": [
    "# calculate Morgan fingerprints\n",
    "fps = [rdMolDescriptors.GetMorganFingerprintAsBitVect(mol, radius=3, nBits=1024).ToBitString() \n",
    "       for mol in df[\"ROMol\"]]\n",
    "df[\"MorganFP\"] = fps"
   ]
  },
  {
   "cell_type": "code",
   "execution_count": null,
   "id": "10",
   "metadata": {},
   "outputs": [],
   "source": [
    "df[[\"Catalog ID\", \"MorganFP\"]].to_csv(\"../data/Enamine_Hit_Locator_Library_HLL-460_460160cmpds_20220221_with_fps.csv\")"
   ]
  },
  {
   "cell_type": "markdown",
   "id": "11",
   "metadata": {},
   "source": [
    "### Calculate MorganFP for FDA approved drugs and save to CSV"
   ]
  },
  {
   "cell_type": "code",
   "execution_count": null,
   "id": "12",
   "metadata": {},
   "outputs": [],
   "source": [
    "# import Enamine FDA-approved library\n",
    "df = PandasTools.LoadSDF(\"../data/Enamine_FDA_approved_Drugs_1123cmpds_20231109.sdf\")\n",
    "df.head()"
   ]
  },
  {
   "cell_type": "code",
   "execution_count": null,
   "id": "13",
   "metadata": {},
   "outputs": [],
   "source": [
    "# calculate Morgan fingerprints\n",
    "fps = [rdMolDescriptors.GetMorganFingerprintAsBitVect(mol, radius=3, nBits=1024).ToBitString() \n",
    "       for mol in df[\"ROMol\"]]\n",
    "df[\"MorganFP\"] = fps"
   ]
  },
  {
   "cell_type": "code",
   "execution_count": null,
   "id": "14",
   "metadata": {},
   "outputs": [],
   "source": [
    "df.to_csv(\"../data/Enamine_FDA_with_fps.csv.bz2\", index=False)"
   ]
  },
  {
   "cell_type": "markdown",
   "id": "15",
   "metadata": {},
   "source": [
    "### Calculate MorganFP for chembl and save to CSV"
   ]
  },
  {
   "cell_type": "code",
   "execution_count": null,
   "id": "16",
   "metadata": {},
   "outputs": [],
   "source": [
    "# chembl is huge...we load only 50k random ones\n",
    "supplier = Chem.ForwardSDMolSupplier(\"../data/chembl_34.sdf\")\n",
    "chembl_count = sum(1 for mol in supplier if mol is not None)\n"
   ]
  },
  {
   "cell_type": "code",
   "execution_count": null,
   "id": "17",
   "metadata": {},
   "outputs": [],
   "source": [
    "random_indices = set(random.sample(range(chembl_count), 50000))\n",
    "supplier = Chem.ForwardSDMolSupplier(\"../data/chembl_34.sdf\")\n",
    "selected_molecules = []\n",
    "for idx, mol in enumerate(supplier):\n",
    "    if mol is None:\n",
    "        continue  # skip invalid molecules\n",
    "    if idx in random_indices:\n",
    "        selected_molecules.append(mol)\n",
    "    if len(selected_molecules) == chembl_count:\n",
    "        break"
   ]
  },
  {
   "cell_type": "code",
   "execution_count": null,
   "id": "18",
   "metadata": {},
   "outputs": [],
   "source": [
    "# calculate Morgan fingerprints\n",
    "fps = [rdMolDescriptors.GetMorganFingerprintAsBitVect(mol, radius=3, nBits=1024).ToBitString() \n",
    "       for mol in selected_molecules]"
   ]
  },
  {
   "cell_type": "code",
   "execution_count": null,
   "id": "19",
   "metadata": {},
   "outputs": [],
   "source": [
    "# calculate MACCSKeys fingerprints\n",
    "maccs_fps = [rdMolDescriptors.GetMACCSKeysFingerprint(mol).ToBitString() \n",
    "       for mol in selected_molecules]"
   ]
  },
  {
   "cell_type": "code",
   "execution_count": null,
   "id": "20",
   "metadata": {},
   "outputs": [],
   "source": [
    "pd.DataFrame({\"MorganFP\": fps, \"MACCSKeysFP\": maccs_fps}).to_csv(\"../data/chembl_34_50k-random_with_FP.csv\", index=False)"
   ]
  },
  {
   "cell_type": "code",
   "execution_count": null,
   "id": "21",
   "metadata": {},
   "outputs": [],
   "source": []
  }
 ],
 "metadata": {
  "kernelspec": {
   "display_name": "Python 3 (ipykernel)",
   "language": "python",
   "name": "python3"
  },
  "language_info": {
   "codemirror_mode": {
    "name": "ipython",
    "version": 3
   },
   "file_extension": ".py",
   "mimetype": "text/x-python",
   "name": "python",
   "nbconvert_exporter": "python",
   "pygments_lexer": "ipython3",
   "version": "3.9.7"
  }
 },
 "nbformat": 4,
 "nbformat_minor": 5
}
