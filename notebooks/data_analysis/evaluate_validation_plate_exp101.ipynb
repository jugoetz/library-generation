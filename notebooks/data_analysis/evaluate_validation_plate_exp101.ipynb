{
 "cells": [
  {
   "cell_type": "markdown",
   "id": "bb5d5f45",
   "metadata": {},
   "source": [
    "# Evaluation of the 1D validation plate (exp101/JG406–408)\n",
    "\n",
    "We have to make the predictions for this plate and compare to the experimental outcome"
   ]
  },
  {
   "cell_type": "code",
   "execution_count": 195,
   "id": "b04ebacf",
   "metadata": {},
   "outputs": [],
   "source": [
    "import pathlib\n",
    "import sys\n",
    "\n",
    "sys.path.append(str(pathlib.Path().resolve().parents[1]))\n",
    "\n",
    "import numpy as np\n",
    "import pandas as pd\n",
    "from sklearn.metrics import precision_score, recall_score, accuracy_score, confusion_matrix\n",
    "\n",
    "from src.definitions import DATA_DIR\n",
    "from src.util.db_utils import SynFermDatabaseConnection"
   ]
  },
  {
   "cell_type": "code",
   "execution_count": 196,
   "id": "adbed734",
   "metadata": {},
   "outputs": [],
   "source": [
    "con = SynFermDatabaseConnection()"
   ]
  },
  {
   "cell_type": "code",
   "execution_count": 197,
   "id": "2b550d5f",
   "metadata": {},
   "outputs": [
    {
     "data": {
      "text/html": [
       "<div>\n",
       "<style scoped>\n",
       "    .dataframe tbody tr th:only-of-type {\n",
       "        vertical-align: middle;\n",
       "    }\n",
       "\n",
       "    .dataframe tbody tr th {\n",
       "        vertical-align: top;\n",
       "    }\n",
       "\n",
       "    .dataframe thead th {\n",
       "        text-align: right;\n",
       "    }\n",
       "</style>\n",
       "<table border=\"1\" class=\"dataframe\">\n",
       "  <thead>\n",
       "    <tr style=\"text-align: right;\">\n",
       "      <th></th>\n",
       "      <th>id</th>\n",
       "      <th>vl_id</th>\n",
       "      <th>plate_nr</th>\n",
       "      <th>well</th>\n",
       "      <th>initiator_long</th>\n",
       "      <th>monomer_long</th>\n",
       "      <th>terminator_long</th>\n",
       "      <th>initiator</th>\n",
       "      <th>monomer</th>\n",
       "      <th>terminator</th>\n",
       "      <th>reaction_smiles_atom_mapped</th>\n",
       "      <th>product_A_lcms_ratio</th>\n",
       "      <th>product_B_lcms_ratio</th>\n",
       "      <th>product_C_lcms_ratio</th>\n",
       "      <th>binary_A</th>\n",
       "      <th>binary_B</th>\n",
       "      <th>binary_C</th>\n",
       "    </tr>\n",
       "  </thead>\n",
       "  <tbody>\n",
       "    <tr>\n",
       "      <th>0</th>\n",
       "      <td>89314</td>\n",
       "      <td>2023878</td>\n",
       "      <td>1</td>\n",
       "      <td>A10</td>\n",
       "      <td>Ph037</td>\n",
       "      <td>Mon097</td>\n",
       "      <td>TerABT007</td>\n",
       "      <td>CS(=O)(=O)c1ccc(C(=O)[B-](F)(F)F)cc1.[K+]</td>\n",
       "      <td>O=C1OC2(CCCCC2)O[C@@]12C[C@@H](c1cnco1)NO2</td>\n",
       "      <td>Nc1cc(Br)ccc1S</td>\n",
       "      <td>F[B-](F)(F)[C:1](=[O:2])[c:15]1[cH:16][cH:18][...</td>\n",
       "      <td>0.002873</td>\n",
       "      <td>0.0</td>\n",
       "      <td>0.0</td>\n",
       "      <td>1</td>\n",
       "      <td>0</td>\n",
       "      <td>0</td>\n",
       "    </tr>\n",
       "    <tr>\n",
       "      <th>1</th>\n",
       "      <td>89315</td>\n",
       "      <td>1991499</td>\n",
       "      <td>1</td>\n",
       "      <td>A11</td>\n",
       "      <td>Ph037</td>\n",
       "      <td>Spiro013</td>\n",
       "      <td>TerABT007</td>\n",
       "      <td>CS(=O)(=O)c1ccc(C(=O)[B-](F)(F)F)cc1.[K+]</td>\n",
       "      <td>O=C(O[C@H]1CCOC1)N1CC2(C1)C[C@]1(O[NH2+]2)OC2(...</td>\n",
       "      <td>Nc1cc(Br)ccc1S</td>\n",
       "      <td>F[B-](F)(F)[C:1](=[O:2])[c:15]1[cH:16][cH:18][...</td>\n",
       "      <td>0.000814</td>\n",
       "      <td>0.0</td>\n",
       "      <td>0.0</td>\n",
       "      <td>1</td>\n",
       "      <td>0</td>\n",
       "      <td>0</td>\n",
       "    </tr>\n",
       "    <tr>\n",
       "      <th>2</th>\n",
       "      <td>89316</td>\n",
       "      <td>2013141</td>\n",
       "      <td>1</td>\n",
       "      <td>A12</td>\n",
       "      <td>Ph037</td>\n",
       "      <td>Spiro017</td>\n",
       "      <td>TerABT007</td>\n",
       "      <td>CS(=O)(=O)c1ccc(C(=O)[B-](F)(F)F)cc1.[K+]</td>\n",
       "      <td>O=C1OC2(CCCCC2)O[C@@]12C[C@]1(CCCOC1)[NH2+]O2....</td>\n",
       "      <td>Nc1cc(Br)ccc1S</td>\n",
       "      <td>F[B-](F)(F)[C:1](=[O:2])[c:15]1[cH:16][cH:18][...</td>\n",
       "      <td>0.000783</td>\n",
       "      <td>0.0</td>\n",
       "      <td>0.0</td>\n",
       "      <td>1</td>\n",
       "      <td>0</td>\n",
       "      <td>0</td>\n",
       "    </tr>\n",
       "    <tr>\n",
       "      <th>3</th>\n",
       "      <td>89327</td>\n",
       "      <td>1952213</td>\n",
       "      <td>1</td>\n",
       "      <td>A3</td>\n",
       "      <td>Ph037</td>\n",
       "      <td>Fused005</td>\n",
       "      <td>TerABT007</td>\n",
       "      <td>CS(=O)(=O)c1ccc(C(=O)[B-](F)(F)F)cc1.[K+]</td>\n",
       "      <td>Cl.O=C(OCc1ccccc1)N1C[C@@H]2NO[C@]3(OC4(CCCCC4...</td>\n",
       "      <td>Nc1cc(Br)ccc1S</td>\n",
       "      <td>F[B-](F)(F)[C:1](=[O:2])[c:15]1[cH:16][cH:18][...</td>\n",
       "      <td>0.001276</td>\n",
       "      <td>0.0</td>\n",
       "      <td>0.0</td>\n",
       "      <td>1</td>\n",
       "      <td>0</td>\n",
       "      <td>0</td>\n",
       "    </tr>\n",
       "    <tr>\n",
       "      <th>4</th>\n",
       "      <td>89328</td>\n",
       "      <td>2068899</td>\n",
       "      <td>1</td>\n",
       "      <td>A4</td>\n",
       "      <td>Ph037</td>\n",
       "      <td>Mon049</td>\n",
       "      <td>TerABT007</td>\n",
       "      <td>CS(=O)(=O)c1ccc(C(=O)[B-](F)(F)F)cc1.[K+]</td>\n",
       "      <td>Cl.O=C1OC2(CCCCC2)O[C@@]12C[C@H](c1ccc(-c3cncn...</td>\n",
       "      <td>Nc1cc(Br)ccc1S</td>\n",
       "      <td>F[B-](F)(F)[C:1](=[O:2])[c:15]1[cH:16][cH:18][...</td>\n",
       "      <td>0.001873</td>\n",
       "      <td>0.0</td>\n",
       "      <td>0.0</td>\n",
       "      <td>1</td>\n",
       "      <td>0</td>\n",
       "      <td>0</td>\n",
       "    </tr>\n",
       "  </tbody>\n",
       "</table>\n",
       "</div>"
      ],
      "text/plain": [
       "      id    vl_id  plate_nr well initiator_long monomer_long terminator_long  \\\n",
       "0  89314  2023878         1  A10          Ph037       Mon097       TerABT007   \n",
       "1  89315  1991499         1  A11          Ph037     Spiro013       TerABT007   \n",
       "2  89316  2013141         1  A12          Ph037     Spiro017       TerABT007   \n",
       "3  89327  1952213         1   A3          Ph037     Fused005       TerABT007   \n",
       "4  89328  2068899         1   A4          Ph037       Mon049       TerABT007   \n",
       "\n",
       "                                   initiator  \\\n",
       "0  CS(=O)(=O)c1ccc(C(=O)[B-](F)(F)F)cc1.[K+]   \n",
       "1  CS(=O)(=O)c1ccc(C(=O)[B-](F)(F)F)cc1.[K+]   \n",
       "2  CS(=O)(=O)c1ccc(C(=O)[B-](F)(F)F)cc1.[K+]   \n",
       "3  CS(=O)(=O)c1ccc(C(=O)[B-](F)(F)F)cc1.[K+]   \n",
       "4  CS(=O)(=O)c1ccc(C(=O)[B-](F)(F)F)cc1.[K+]   \n",
       "\n",
       "                                             monomer      terminator  \\\n",
       "0         O=C1OC2(CCCCC2)O[C@@]12C[C@@H](c1cnco1)NO2  Nc1cc(Br)ccc1S   \n",
       "1  O=C(O[C@H]1CCOC1)N1CC2(C1)C[C@]1(O[NH2+]2)OC2(...  Nc1cc(Br)ccc1S   \n",
       "2  O=C1OC2(CCCCC2)O[C@@]12C[C@]1(CCCOC1)[NH2+]O2....  Nc1cc(Br)ccc1S   \n",
       "3  Cl.O=C(OCc1ccccc1)N1C[C@@H]2NO[C@]3(OC4(CCCCC4...  Nc1cc(Br)ccc1S   \n",
       "4  Cl.O=C1OC2(CCCCC2)O[C@@]12C[C@H](c1ccc(-c3cncn...  Nc1cc(Br)ccc1S   \n",
       "\n",
       "                         reaction_smiles_atom_mapped  product_A_lcms_ratio  \\\n",
       "0  F[B-](F)(F)[C:1](=[O:2])[c:15]1[cH:16][cH:18][...              0.002873   \n",
       "1  F[B-](F)(F)[C:1](=[O:2])[c:15]1[cH:16][cH:18][...              0.000814   \n",
       "2  F[B-](F)(F)[C:1](=[O:2])[c:15]1[cH:16][cH:18][...              0.000783   \n",
       "3  F[B-](F)(F)[C:1](=[O:2])[c:15]1[cH:16][cH:18][...              0.001276   \n",
       "4  F[B-](F)(F)[C:1](=[O:2])[c:15]1[cH:16][cH:18][...              0.001873   \n",
       "\n",
       "   product_B_lcms_ratio  product_C_lcms_ratio  binary_A  binary_B  binary_C  \n",
       "0                   0.0                   0.0         1         0         0  \n",
       "1                   0.0                   0.0         1         0         0  \n",
       "2                   0.0                   0.0         1         0         0  \n",
       "3                   0.0                   0.0         1         0         0  \n",
       "4                   0.0                   0.0         1         0         0  "
      ]
     },
     "execution_count": 197,
     "metadata": {},
     "output_type": "execute_result"
    }
   ],
   "source": [
    "# gather the experimental data\n",
    "res = con.con.execute(\"SELECT e.id, vl_id, plate_nr, well, e.initiator_long, e.monomer_long, e.terminator_long, b.SMILES AS 'initiator', b2.SMILES AS 'monomer', b3.SMILES AS 'terminator', v.reaction_smiles_atom_mapped, product_A_lcms_ratio, product_B_lcms_ratio, product_C_lcms_ratio FROM experiments e LEFT JOIN virtuallibrary v on e.vl_id = v.id LEFT JOIN building_blocks b on e.initiator_long = b.long LEFT JOIN building_blocks b2 ON e.monomer_long = b2.long LEFT JOIN building_blocks b3 ON e.terminator_long = b3.long WHERE exp_nr = 101 AND (valid NOT LIKE 'ERROR%' OR valid IS NULL);\").fetchall()\n",
    "result = pd.DataFrame(res, columns=[\"id\", \"vl_id\", \"plate_nr\", \"well\", \"initiator_long\", \"monomer_long\", \"terminator_long\", \"initiator\", \"monomer\", \"terminator\", \"reaction_smiles_atom_mapped\", \"product_A_lcms_ratio\", \"product_B_lcms_ratio\", \"product_C_lcms_ratio\"])\n",
    "result[\"binary_A\"] = (result[\"product_A_lcms_ratio\"] > 0).astype(int)\n",
    "result[\"binary_B\"] = (result[\"product_B_lcms_ratio\"] > 0).astype(int)\n",
    "result[\"binary_C\"] = (result[\"product_C_lcms_ratio\"] > 0).astype(int)\n",
    "result.head()"
   ]
  },
  {
   "cell_type": "code",
   "execution_count": 198,
   "id": "2fcbe180",
   "metadata": {},
   "outputs": [
    {
     "data": {
      "text/plain": [
       "601"
      ]
     },
     "execution_count": 198,
     "metadata": {},
     "output_type": "execute_result"
    }
   ],
   "source": [
    "# check how many of the 960 reactions were valid\n",
    "len(result)"
   ]
  },
  {
   "cell_type": "code",
   "execution_count": 199,
   "id": "6c36e185",
   "metadata": {},
   "outputs": [],
   "source": [
    "# export the reactants for prediction (will run on different machine)\n",
    "result[[\"id\", \"initiator\", \"monomer\", \"terminator\"]].to_csv(\"exp101_reactants.csv\", index=False)\n"
   ]
  },
  {
   "cell_type": "code",
   "execution_count": 200,
   "id": "5917e5d3",
   "metadata": {},
   "outputs": [
    {
     "data": {
      "text/html": [
       "<div>\n",
       "<style scoped>\n",
       "    .dataframe tbody tr th:only-of-type {\n",
       "        vertical-align: middle;\n",
       "    }\n",
       "\n",
       "    .dataframe tbody tr th {\n",
       "        vertical-align: top;\n",
       "    }\n",
       "\n",
       "    .dataframe thead th {\n",
       "        text-align: right;\n",
       "    }\n",
       "</style>\n",
       "<table border=\"1\" class=\"dataframe\">\n",
       "  <thead>\n",
       "    <tr style=\"text-align: right;\">\n",
       "      <th></th>\n",
       "      <th>dim</th>\n",
       "      <th>pred_A</th>\n",
       "      <th>pred_B</th>\n",
       "      <th>pred_C</th>\n",
       "    </tr>\n",
       "  </thead>\n",
       "  <tbody>\n",
       "    <tr>\n",
       "      <th>0</th>\n",
       "      <td>1D_I</td>\n",
       "      <td>1</td>\n",
       "      <td>1</td>\n",
       "      <td>0</td>\n",
       "    </tr>\n",
       "    <tr>\n",
       "      <th>1</th>\n",
       "      <td>1D_I</td>\n",
       "      <td>0</td>\n",
       "      <td>0</td>\n",
       "      <td>0</td>\n",
       "    </tr>\n",
       "    <tr>\n",
       "      <th>2</th>\n",
       "      <td>1D_I</td>\n",
       "      <td>0</td>\n",
       "      <td>0</td>\n",
       "      <td>0</td>\n",
       "    </tr>\n",
       "    <tr>\n",
       "      <th>3</th>\n",
       "      <td>1D_I</td>\n",
       "      <td>0</td>\n",
       "      <td>0</td>\n",
       "      <td>0</td>\n",
       "    </tr>\n",
       "    <tr>\n",
       "      <th>4</th>\n",
       "      <td>1D_I</td>\n",
       "      <td>1</td>\n",
       "      <td>0</td>\n",
       "      <td>0</td>\n",
       "    </tr>\n",
       "  </tbody>\n",
       "</table>\n",
       "</div>"
      ],
      "text/plain": [
       "    dim  pred_A  pred_B  pred_C\n",
       "0  1D_I       1       1       0\n",
       "1  1D_I       0       0       0\n",
       "2  1D_I       0       0       0\n",
       "3  1D_I       0       0       0\n",
       "4  1D_I       1       0       0"
      ]
     },
     "execution_count": 200,
     "metadata": {},
     "output_type": "execute_result"
    }
   ],
   "source": [
    "# load predictions\n",
    "preds = pd.read_csv(\"exp101_predictions.csv\")\n",
    "preds.head()"
   ]
  },
  {
   "cell_type": "code",
   "execution_count": 201,
   "id": "0cfc9a67",
   "metadata": {},
   "outputs": [
    {
     "data": {
      "text/html": [
       "<div>\n",
       "<style scoped>\n",
       "    .dataframe tbody tr th:only-of-type {\n",
       "        vertical-align: middle;\n",
       "    }\n",
       "\n",
       "    .dataframe tbody tr th {\n",
       "        vertical-align: top;\n",
       "    }\n",
       "\n",
       "    .dataframe thead th {\n",
       "        text-align: right;\n",
       "    }\n",
       "</style>\n",
       "<table border=\"1\" class=\"dataframe\">\n",
       "  <thead>\n",
       "    <tr style=\"text-align: right;\">\n",
       "      <th></th>\n",
       "      <th>id</th>\n",
       "      <th>vl_id</th>\n",
       "      <th>plate_nr</th>\n",
       "      <th>well</th>\n",
       "      <th>initiator_long</th>\n",
       "      <th>monomer_long</th>\n",
       "      <th>terminator_long</th>\n",
       "      <th>initiator</th>\n",
       "      <th>monomer</th>\n",
       "      <th>terminator</th>\n",
       "      <th>...</th>\n",
       "      <th>product_A_lcms_ratio</th>\n",
       "      <th>product_B_lcms_ratio</th>\n",
       "      <th>product_C_lcms_ratio</th>\n",
       "      <th>binary_A</th>\n",
       "      <th>binary_B</th>\n",
       "      <th>binary_C</th>\n",
       "      <th>dim</th>\n",
       "      <th>pred_A</th>\n",
       "      <th>pred_B</th>\n",
       "      <th>pred_C</th>\n",
       "    </tr>\n",
       "  </thead>\n",
       "  <tbody>\n",
       "    <tr>\n",
       "      <th>0</th>\n",
       "      <td>89314</td>\n",
       "      <td>2023878</td>\n",
       "      <td>1</td>\n",
       "      <td>A10</td>\n",
       "      <td>Ph037</td>\n",
       "      <td>Mon097</td>\n",
       "      <td>TerABT007</td>\n",
       "      <td>CS(=O)(=O)c1ccc(C(=O)[B-](F)(F)F)cc1.[K+]</td>\n",
       "      <td>O=C1OC2(CCCCC2)O[C@@]12C[C@@H](c1cnco1)NO2</td>\n",
       "      <td>Nc1cc(Br)ccc1S</td>\n",
       "      <td>...</td>\n",
       "      <td>0.002873</td>\n",
       "      <td>0.0</td>\n",
       "      <td>0.0</td>\n",
       "      <td>1</td>\n",
       "      <td>0</td>\n",
       "      <td>0</td>\n",
       "      <td>1D_I</td>\n",
       "      <td>1</td>\n",
       "      <td>1</td>\n",
       "      <td>0</td>\n",
       "    </tr>\n",
       "    <tr>\n",
       "      <th>1</th>\n",
       "      <td>89315</td>\n",
       "      <td>1991499</td>\n",
       "      <td>1</td>\n",
       "      <td>A11</td>\n",
       "      <td>Ph037</td>\n",
       "      <td>Spiro013</td>\n",
       "      <td>TerABT007</td>\n",
       "      <td>CS(=O)(=O)c1ccc(C(=O)[B-](F)(F)F)cc1.[K+]</td>\n",
       "      <td>O=C(O[C@H]1CCOC1)N1CC2(C1)C[C@]1(O[NH2+]2)OC2(...</td>\n",
       "      <td>Nc1cc(Br)ccc1S</td>\n",
       "      <td>...</td>\n",
       "      <td>0.000814</td>\n",
       "      <td>0.0</td>\n",
       "      <td>0.0</td>\n",
       "      <td>1</td>\n",
       "      <td>0</td>\n",
       "      <td>0</td>\n",
       "      <td>1D_I</td>\n",
       "      <td>0</td>\n",
       "      <td>0</td>\n",
       "      <td>0</td>\n",
       "    </tr>\n",
       "    <tr>\n",
       "      <th>2</th>\n",
       "      <td>89316</td>\n",
       "      <td>2013141</td>\n",
       "      <td>1</td>\n",
       "      <td>A12</td>\n",
       "      <td>Ph037</td>\n",
       "      <td>Spiro017</td>\n",
       "      <td>TerABT007</td>\n",
       "      <td>CS(=O)(=O)c1ccc(C(=O)[B-](F)(F)F)cc1.[K+]</td>\n",
       "      <td>O=C1OC2(CCCCC2)O[C@@]12C[C@]1(CCCOC1)[NH2+]O2....</td>\n",
       "      <td>Nc1cc(Br)ccc1S</td>\n",
       "      <td>...</td>\n",
       "      <td>0.000783</td>\n",
       "      <td>0.0</td>\n",
       "      <td>0.0</td>\n",
       "      <td>1</td>\n",
       "      <td>0</td>\n",
       "      <td>0</td>\n",
       "      <td>1D_I</td>\n",
       "      <td>0</td>\n",
       "      <td>0</td>\n",
       "      <td>0</td>\n",
       "    </tr>\n",
       "    <tr>\n",
       "      <th>3</th>\n",
       "      <td>89327</td>\n",
       "      <td>1952213</td>\n",
       "      <td>1</td>\n",
       "      <td>A3</td>\n",
       "      <td>Ph037</td>\n",
       "      <td>Fused005</td>\n",
       "      <td>TerABT007</td>\n",
       "      <td>CS(=O)(=O)c1ccc(C(=O)[B-](F)(F)F)cc1.[K+]</td>\n",
       "      <td>Cl.O=C(OCc1ccccc1)N1C[C@@H]2NO[C@]3(OC4(CCCCC4...</td>\n",
       "      <td>Nc1cc(Br)ccc1S</td>\n",
       "      <td>...</td>\n",
       "      <td>0.001276</td>\n",
       "      <td>0.0</td>\n",
       "      <td>0.0</td>\n",
       "      <td>1</td>\n",
       "      <td>0</td>\n",
       "      <td>0</td>\n",
       "      <td>1D_I</td>\n",
       "      <td>0</td>\n",
       "      <td>0</td>\n",
       "      <td>0</td>\n",
       "    </tr>\n",
       "    <tr>\n",
       "      <th>4</th>\n",
       "      <td>89328</td>\n",
       "      <td>2068899</td>\n",
       "      <td>1</td>\n",
       "      <td>A4</td>\n",
       "      <td>Ph037</td>\n",
       "      <td>Mon049</td>\n",
       "      <td>TerABT007</td>\n",
       "      <td>CS(=O)(=O)c1ccc(C(=O)[B-](F)(F)F)cc1.[K+]</td>\n",
       "      <td>Cl.O=C1OC2(CCCCC2)O[C@@]12C[C@H](c1ccc(-c3cncn...</td>\n",
       "      <td>Nc1cc(Br)ccc1S</td>\n",
       "      <td>...</td>\n",
       "      <td>0.001873</td>\n",
       "      <td>0.0</td>\n",
       "      <td>0.0</td>\n",
       "      <td>1</td>\n",
       "      <td>0</td>\n",
       "      <td>0</td>\n",
       "      <td>1D_I</td>\n",
       "      <td>1</td>\n",
       "      <td>0</td>\n",
       "      <td>0</td>\n",
       "    </tr>\n",
       "  </tbody>\n",
       "</table>\n",
       "<p>5 rows × 21 columns</p>\n",
       "</div>"
      ],
      "text/plain": [
       "      id    vl_id  plate_nr well initiator_long monomer_long terminator_long  \\\n",
       "0  89314  2023878         1  A10          Ph037       Mon097       TerABT007   \n",
       "1  89315  1991499         1  A11          Ph037     Spiro013       TerABT007   \n",
       "2  89316  2013141         1  A12          Ph037     Spiro017       TerABT007   \n",
       "3  89327  1952213         1   A3          Ph037     Fused005       TerABT007   \n",
       "4  89328  2068899         1   A4          Ph037       Mon049       TerABT007   \n",
       "\n",
       "                                   initiator  \\\n",
       "0  CS(=O)(=O)c1ccc(C(=O)[B-](F)(F)F)cc1.[K+]   \n",
       "1  CS(=O)(=O)c1ccc(C(=O)[B-](F)(F)F)cc1.[K+]   \n",
       "2  CS(=O)(=O)c1ccc(C(=O)[B-](F)(F)F)cc1.[K+]   \n",
       "3  CS(=O)(=O)c1ccc(C(=O)[B-](F)(F)F)cc1.[K+]   \n",
       "4  CS(=O)(=O)c1ccc(C(=O)[B-](F)(F)F)cc1.[K+]   \n",
       "\n",
       "                                             monomer      terminator  ...  \\\n",
       "0         O=C1OC2(CCCCC2)O[C@@]12C[C@@H](c1cnco1)NO2  Nc1cc(Br)ccc1S  ...   \n",
       "1  O=C(O[C@H]1CCOC1)N1CC2(C1)C[C@]1(O[NH2+]2)OC2(...  Nc1cc(Br)ccc1S  ...   \n",
       "2  O=C1OC2(CCCCC2)O[C@@]12C[C@]1(CCCOC1)[NH2+]O2....  Nc1cc(Br)ccc1S  ...   \n",
       "3  Cl.O=C(OCc1ccccc1)N1C[C@@H]2NO[C@]3(OC4(CCCCC4...  Nc1cc(Br)ccc1S  ...   \n",
       "4  Cl.O=C1OC2(CCCCC2)O[C@@]12C[C@H](c1ccc(-c3cncn...  Nc1cc(Br)ccc1S  ...   \n",
       "\n",
       "  product_A_lcms_ratio  product_B_lcms_ratio  product_C_lcms_ratio  binary_A  \\\n",
       "0             0.002873                   0.0                   0.0         1   \n",
       "1             0.000814                   0.0                   0.0         1   \n",
       "2             0.000783                   0.0                   0.0         1   \n",
       "3             0.001276                   0.0                   0.0         1   \n",
       "4             0.001873                   0.0                   0.0         1   \n",
       "\n",
       "   binary_B  binary_C   dim pred_A  pred_B  pred_C  \n",
       "0         0         0  1D_I      1       1       0  \n",
       "1         0         0  1D_I      0       0       0  \n",
       "2         0         0  1D_I      0       0       0  \n",
       "3         0         0  1D_I      0       0       0  \n",
       "4         0         0  1D_I      1       0       0  \n",
       "\n",
       "[5 rows x 21 columns]"
      ]
     },
     "execution_count": 201,
     "metadata": {},
     "output_type": "execute_result"
    }
   ],
   "source": [
    "# combine predictions and results\n",
    "comb = result.join(preds)\n",
    "comb.head()"
   ]
  },
  {
   "cell_type": "code",
   "execution_count": 202,
   "id": "1e522a14",
   "metadata": {},
   "outputs": [
    {
     "name": "stdout",
     "output_type": "stream",
     "text": [
      "Accuracy: 82.20%\n",
      "Precision: 99.18%\n",
      "Recall: 82.39%\n",
      "Confusion: [[ 12   4]\n",
      " [103 482]]\n"
     ]
    }
   ],
   "source": [
    "# evaluate for binary_A\n",
    "print(f'Accuracy: {accuracy_score(comb[\"binary_A\"], comb[\"pred_A\"]):.2%}')\n",
    "print(f'Precision: {precision_score(comb[\"binary_A\"], comb[\"pred_A\"]):.2%}')\n",
    "print(f'Recall: {recall_score(comb[\"binary_A\"], comb[\"pred_A\"]):.2%}')\n",
    "print(f'Confusion: {confusion_matrix(comb[\"binary_A\"], comb[\"pred_A\"])}')"
   ]
  },
  {
   "cell_type": "code",
   "execution_count": 203,
   "id": "8b25861a",
   "metadata": {},
   "outputs": [
    {
     "name": "stdout",
     "output_type": "stream",
     "text": [
      "Accuracy: 91.35%\n",
      "Precision: 95.82%\n",
      "Recall: 91.07%\n",
      "Confusion: [[182  16]\n",
      " [ 36 367]]\n"
     ]
    }
   ],
   "source": [
    "# evaluate for binary_B\n",
    "print(f'Accuracy: {accuracy_score(comb[\"binary_B\"], comb[\"pred_B\"]):.2%}')\n",
    "print(f'Precision: {precision_score(comb[\"binary_B\"], comb[\"pred_B\"]):.2%}')\n",
    "print(f'Recall: {recall_score(comb[\"binary_B\"], comb[\"pred_B\"]):.2%}')\n",
    "print(f'Confusion: {confusion_matrix(comb[\"binary_B\"], comb[\"pred_B\"])}')"
   ]
  },
  {
   "cell_type": "code",
   "execution_count": 204,
   "id": "fa29ac6f",
   "metadata": {},
   "outputs": [
    {
     "name": "stdout",
     "output_type": "stream",
     "text": [
      "Accuracy: 80.87%\n",
      "Precision: 89.44%\n",
      "Recall: 59.50%\n",
      "Confusion: [[342  17]\n",
      " [ 98 144]]\n"
     ]
    }
   ],
   "source": [
    "# evaluate for binary_C\n",
    "print(f'Accuracy: {accuracy_score(comb[\"binary_C\"], comb[\"pred_C\"]):.2%}')\n",
    "print(f'Precision: {precision_score(comb[\"binary_C\"], comb[\"pred_C\"]):.2%}')\n",
    "print(f'Recall: {recall_score(comb[\"binary_C\"], comb[\"pred_C\"]):.2%}')\n",
    "print(f'Confusion: {confusion_matrix(comb[\"binary_C\"], comb[\"pred_C\"])}')"
   ]
  },
  {
   "cell_type": "code",
   "execution_count": 205,
   "id": "e311ddd5",
   "metadata": {
    "scrolled": false
   },
   "outputs": [
    {
     "name": "stdout",
     "output_type": "stream",
     "text": [
      "Ph037\n",
      "Accuracy: 85.33%\n",
      "Confusion: [[ 2  0]\n",
      " [11 62]]\n",
      "Ph039\n",
      "Accuracy: 85.00%\n",
      "Confusion: [[ 1  0]\n",
      " [12 67]]\n",
      "Ph040\n",
      "Accuracy: 80.77%\n",
      "Confusion: [[ 0  0]\n",
      " [15 63]]\n",
      "Ph016\n",
      "Accuracy: 86.08%\n",
      "Confusion: [[ 4  1]\n",
      " [10 64]]\n",
      "Ph041\n",
      "Accuracy: 82.28%\n",
      "Confusion: [[ 2  1]\n",
      " [13 63]]\n",
      "Ph042\n",
      "Accuracy: 80.77%\n",
      "Confusion: [[ 0  0]\n",
      " [15 63]]\n",
      "Ph011\n",
      "Accuracy: 73.08%\n",
      "Confusion: [[ 0  0]\n",
      " [ 7 19]]\n",
      "BiAl005\n",
      "Accuracy: 80.26%\n",
      "Confusion: [[ 2  2]\n",
      " [13 59]]\n",
      "Ph043\n",
      "Accuracy: 76.67%\n",
      "Confusion: [[ 1  0]\n",
      " [ 7 22]]\n"
     ]
    }
   ],
   "source": [
    "# does this cluster by initiator?\n",
    "for i in comb[\"initiator_long\"].drop_duplicates():\n",
    "    print(i)\n",
    "    select = comb.loc[comb[\"initiator_long\"] == i]\n",
    "    print(f'Accuracy: {accuracy_score(select[\"binary_A\"], select[\"pred_A\"]):.2%}')\n",
    "    print(f'Confusion: {confusion_matrix(select[\"binary_A\"], select[\"pred_A\"])}')"
   ]
  },
  {
   "cell_type": "markdown",
   "id": "fb3115b2",
   "metadata": {},
   "source": [
    "n.b. (because I keep forgetting) sklearn confusion matrix structure is [[tn fp]  [fn tp]]\n",
    "\n",
    "https://scikit-learn.org/stable/modules/generated/sklearn.metrics.confusion_matrix.html"
   ]
  },
  {
   "cell_type": "code",
   "execution_count": 206,
   "id": "149f9c35",
   "metadata": {},
   "outputs": [
    {
     "data": {
      "text/plain": [
       "array([[[1, 1, 1, 1, 1, 1, 1, 1, 1, 1, 0, 0, 0, 0, 0, 0, 0, 0, 0, 0],\n",
       "        [1, 1, 1, 1, 1, 0, 1, 1, 1, 1, 0, 0, 0, 0, 0, 0, 0, 0, 0, 0],\n",
       "        [1, 1, 1, 1, 1, 1, 1, 1, 1, 1, 0, 0, 0, 0, 0, 0, 0, 0, 0, 0],\n",
       "        [1, 1, 1, 1, 1, 1, 1, 1, 1, 1, 0, 0, 0, 0, 0, 0, 0, 0, 0, 0],\n",
       "        [1, 1, 1, 1, 1, 1, 0, 1, 1, 1, 0, 0, 0, 0, 0, 0, 0, 0, 0, 0],\n",
       "        [1, 1, 1, 1, 1, 1, 1, 1, 1, 1, 0, 0, 0, 0, 0, 0, 0, 0, 0, 0],\n",
       "        [0, 1, 1, 1, 1, 1, 1, 1, 0, 1, 0, 0, 0, 0, 0, 0, 0, 0, 0, 0],\n",
       "        [1, 1, 1, 1, 1, 1, 0, 1, 1, 1, 0, 0, 0, 0, 0, 0, 0, 0, 0, 0],\n",
       "        [1, 1, 1, 1, 1, 1, 1, 1, 1, 1, 0, 0, 0, 0, 0, 0, 0, 0, 0, 0],\n",
       "        [1, 1, 1, 1, 1, 1, 1, 1, 1, 1, 0, 0, 0, 0, 0, 0, 0, 0, 0, 0],\n",
       "        [1, 1, 1, 1, 1, 1, 1, 1, 1, 1, 0, 0, 0, 0, 0, 0, 0, 0, 0, 0],\n",
       "        [1, 1, 1, 1, 1, 1, 1, 1, 1, 1, 0, 0, 0, 0, 0, 0, 0, 0, 0, 0],\n",
       "        [1, 1, 1, 1, 1, 1, 1, 1, 1, 1, 0, 0, 0, 0, 0, 0, 0, 0, 0, 0],\n",
       "        [1, 1, 1, 1, 1, 1, 1, 1, 1, 1, 0, 0, 0, 0, 0, 0, 0, 0, 0, 0],\n",
       "        [1, 1, 1, 1, 1, 1, 1, 1, 1, 1, 0, 0, 0, 0, 0, 0, 0, 0, 0, 0],\n",
       "        [1, 1, 1, 1, 1, 1, 1, 1, 1, 1, 0, 0, 0, 0, 0, 0, 0, 0, 0, 0]],\n",
       "\n",
       "       [[0, 0, 0, 0, 0, 0, 0, 0, 0, 0, 0, 1, 1, 1, 1, 1, 1, 1, 1, 1],\n",
       "        [0, 0, 0, 0, 0, 0, 0, 0, 0, 0, 1, 1, 1, 1, 1, 1, 1, 0, 1, 1],\n",
       "        [0, 0, 0, 0, 0, 0, 0, 0, 0, 0, 1, 1, 1, 1, 1, 1, 1, 1, 1, 1],\n",
       "        [0, 0, 0, 0, 0, 0, 0, 0, 0, 0, 1, 1, 1, 1, 1, 1, 1, 1, 1, 1],\n",
       "        [0, 0, 0, 0, 0, 0, 0, 0, 0, 0, 1, 1, 1, 1, 1, 1, 1, 1, 1, 1],\n",
       "        [0, 0, 0, 0, 0, 0, 0, 0, 0, 0, 1, 1, 1, 1, 1, 1, 1, 1, 1, 1],\n",
       "        [0, 0, 0, 0, 0, 0, 0, 0, 0, 0, 1, 1, 1, 1, 1, 1, 1, 1, 1, 1],\n",
       "        [0, 0, 0, 0, 0, 0, 0, 0, 0, 0, 1, 1, 1, 1, 1, 1, 1, 1, 1, 1],\n",
       "        [1, 1, 1, 1, 1, 0, 1, 1, 1, 1, 1, 1, 1, 1, 1, 1, 1, 1, 1, 1],\n",
       "        [1, 1, 1, 1, 1, 1, 1, 1, 1, 1, 1, 1, 1, 1, 1, 1, 1, 1, 1, 1],\n",
       "        [1, 1, 1, 1, 1, 1, 1, 1, 1, 1, 1, 1, 1, 1, 1, 1, 1, 1, 1, 1],\n",
       "        [1, 1, 1, 1, 1, 1, 1, 1, 1, 1, 1, 1, 1, 1, 1, 1, 1, 1, 1, 1],\n",
       "        [1, 1, 1, 1, 1, 1, 1, 1, 1, 1, 1, 1, 1, 1, 1, 1, 1, 1, 1, 1],\n",
       "        [1, 1, 1, 1, 1, 1, 1, 1, 1, 1, 1, 1, 1, 1, 1, 1, 1, 1, 1, 1],\n",
       "        [1, 1, 1, 1, 1, 1, 1, 1, 1, 1, 0, 1, 1, 1, 1, 1, 1, 1, 1, 1],\n",
       "        [1, 1, 1, 1, 1, 1, 1, 1, 1, 1, 1, 1, 1, 1, 1, 1, 1, 1, 1, 1]],\n",
       "\n",
       "       [[1, 1, 1, 1, 1, 1, 1, 1, 1, 1, 1, 1, 1, 1, 1, 1, 1, 1, 1, 0],\n",
       "        [1, 1, 1, 0, 1, 1, 1, 1, 1, 1, 1, 1, 0, 1, 0, 0, 0, 0, 0, 0],\n",
       "        [1, 1, 1, 1, 1, 1, 1, 1, 1, 1, 1, 0, 0, 0, 0, 0, 0, 0, 0, 0],\n",
       "        [1, 1, 1, 1, 1, 1, 1, 1, 1, 1, 1, 1, 1, 0, 0, 0, 0, 0, 0, 0],\n",
       "        [1, 1, 1, 1, 1, 1, 1, 1, 1, 1, 1, 1, 1, 0, 0, 0, 0, 0, 0, 0],\n",
       "        [1, 1, 1, 1, 1, 1, 1, 1, 1, 1, 1, 1, 1, 0, 0, 0, 0, 0, 0, 0],\n",
       "        [1, 1, 1, 1, 1, 1, 1, 1, 1, 1, 1, 1, 1, 0, 0, 0, 0, 0, 0, 0],\n",
       "        [0, 1, 1, 1, 1, 1, 1, 1, 1, 1, 0, 1, 0, 0, 0, 0, 0, 0, 0, 0],\n",
       "        [1, 1, 1, 1, 1, 1, 1, 1, 1, 1, 1, 1, 1, 1, 1, 1, 0, 1, 1, 0],\n",
       "        [1, 1, 1, 1, 1, 1, 1, 1, 1, 1, 1, 1, 1, 0, 0, 0, 0, 0, 0, 0],\n",
       "        [1, 1, 1, 1, 1, 1, 1, 1, 1, 1, 1, 1, 0, 0, 0, 0, 0, 0, 0, 0],\n",
       "        [1, 1, 1, 1, 1, 1, 1, 1, 1, 1, 1, 1, 1, 1, 1, 1, 0, 0, 0, 0],\n",
       "        [1, 1, 1, 1, 1, 1, 0, 1, 1, 0, 1, 1, 1, 0, 0, 0, 0, 0, 0, 0],\n",
       "        [1, 1, 1, 1, 1, 1, 1, 1, 1, 1, 1, 1, 1, 0, 0, 0, 0, 0, 0, 0],\n",
       "        [1, 1, 1, 1, 1, 1, 1, 1, 1, 1, 1, 1, 0, 0, 0, 0, 0, 0, 0, 0],\n",
       "        [1, 1, 1, 1, 1, 1, 0, 0, 1, 1, 1, 1, 1, 0, 0, 0, 0, 0, 0, 0]]])"
      ]
     },
     "execution_count": 206,
     "metadata": {},
     "output_type": "execute_result"
    }
   ],
   "source": [
    "# show the wells that had valid reactions in the plate layout\n",
    "# n.b. we ignore the right half of the plate b/c all of that was invalid (oxalic acid transfer error)\n",
    "arr = np.zeros((3, 16, 20), dtype=int)\n",
    "for plate in comb[\"plate_nr\"]:\n",
    "    for well in comb.loc[comb[\"plate_nr\"] == plate, \"well\"]:\n",
    "        row = ord(well[0]) - 65\n",
    "        col = int(well[1:]) - 3\n",
    "        arr[plate-1, row, col] = 1\n",
    "arr"
   ]
  },
  {
   "cell_type": "code",
   "execution_count": 207,
   "id": "4e28bf56",
   "metadata": {},
   "outputs": [
    {
     "data": {
      "text/plain": [
       "array([[[1, 1, 1, 1, 1, 1, 1, 1, 1, 1, 0, 0, 0, 0, 0, 0, 0, 0, 0, 0],\n",
       "        [1, 1, 1, 1, 1, 0, 1, 1, 1, 1, 0, 0, 0, 0, 0, 0, 0, 0, 0, 0],\n",
       "        [1, 1, 1, 1, 1, 1, 1, 1, 1, 1, 0, 0, 0, 0, 0, 0, 0, 0, 0, 0],\n",
       "        [1, 1, 1, 1, 1, 1, 1, 1, 1, 1, 0, 0, 0, 0, 0, 0, 0, 0, 0, 0],\n",
       "        [1, 1, 1, 1, 1, 1, 0, 1, 1, 1, 0, 0, 0, 0, 0, 0, 0, 0, 0, 0],\n",
       "        [1, 1, 1, 1, 1, 1, 1, 1, 1, 1, 0, 0, 0, 0, 0, 0, 0, 0, 0, 0],\n",
       "        [0, 1, 1, 1, 1, 1, 1, 1, 0, 1, 0, 0, 0, 0, 0, 0, 0, 0, 0, 0],\n",
       "        [1, 1, 1, 1, 1, 1, 0, 1, 1, 1, 0, 0, 0, 0, 0, 0, 0, 0, 0, 0],\n",
       "        [1, 1, 1, 1, 1, 1, 1, 1, 1, 1, 0, 0, 0, 0, 0, 0, 0, 0, 0, 0],\n",
       "        [1, 1, 1, 1, 1, 1, 1, 1, 1, 1, 0, 0, 0, 0, 0, 0, 0, 0, 0, 0],\n",
       "        [1, 1, 1, 1, 1, 1, 1, 1, 1, 1, 0, 0, 0, 0, 0, 0, 0, 0, 0, 0],\n",
       "        [1, 1, 1, 1, 1, 1, 1, 1, 1, 1, 0, 0, 0, 0, 0, 0, 0, 0, 0, 0],\n",
       "        [1, 1, 1, 1, 1, 1, 1, 1, 1, 1, 0, 0, 0, 0, 0, 0, 0, 0, 0, 0],\n",
       "        [1, 1, 1, 1, 1, 1, 1, 1, 1, 1, 0, 0, 0, 0, 0, 0, 0, 0, 0, 0],\n",
       "        [1, 1, 1, 1, 1, 1, 1, 1, 1, 1, 0, 0, 0, 0, 0, 0, 0, 0, 0, 0],\n",
       "        [1, 1, 1, 1, 1, 1, 1, 1, 1, 1, 0, 0, 0, 0, 0, 0, 0, 0, 0, 0]],\n",
       "\n",
       "       [[0, 0, 0, 0, 0, 0, 0, 0, 0, 0, 0, 1, 1, 1, 1, 1, 1, 1, 1, 1],\n",
       "        [0, 0, 0, 0, 0, 0, 0, 0, 0, 0, 1, 1, 1, 1, 1, 1, 1, 0, 1, 1],\n",
       "        [0, 0, 0, 0, 0, 0, 0, 0, 0, 0, 1, 1, 1, 1, 1, 1, 1, 1, 1, 1],\n",
       "        [0, 0, 0, 0, 0, 0, 0, 0, 0, 0, 1, 1, 1, 1, 1, 1, 1, 1, 1, 1],\n",
       "        [0, 0, 0, 0, 0, 0, 0, 0, 0, 0, 1, 1, 1, 1, 1, 1, 1, 1, 1, 1],\n",
       "        [0, 0, 0, 0, 0, 0, 0, 0, 0, 0, 1, 1, 1, 1, 1, 1, 1, 1, 1, 1],\n",
       "        [0, 0, 0, 0, 0, 0, 0, 0, 0, 0, 1, 1, 1, 1, 1, 1, 1, 1, 1, 1],\n",
       "        [0, 0, 0, 0, 0, 0, 0, 0, 0, 0, 1, 1, 1, 1, 1, 1, 1, 1, 1, 1],\n",
       "        [1, 1, 1, 1, 1, 0, 1, 1, 1, 1, 1, 1, 1, 1, 1, 1, 1, 1, 1, 1],\n",
       "        [1, 1, 1, 1, 1, 1, 1, 1, 1, 1, 1, 1, 1, 1, 1, 1, 1, 1, 1, 1],\n",
       "        [1, 1, 1, 1, 1, 1, 1, 1, 1, 1, 1, 1, 1, 1, 1, 1, 1, 1, 1, 1],\n",
       "        [1, 1, 1, 1, 1, 1, 1, 1, 1, 1, 1, 1, 1, 1, 1, 1, 1, 1, 1, 1],\n",
       "        [1, 1, 1, 1, 1, 1, 1, 1, 1, 1, 1, 1, 1, 1, 1, 1, 1, 1, 1, 1],\n",
       "        [1, 1, 1, 1, 1, 1, 1, 1, 1, 1, 1, 1, 1, 1, 1, 1, 1, 1, 1, 1],\n",
       "        [1, 1, 1, 1, 1, 1, 1, 1, 1, 1, 0, 1, 1, 1, 1, 1, 1, 1, 1, 1],\n",
       "        [1, 1, 1, 1, 1, 1, 1, 1, 1, 1, 1, 1, 1, 1, 1, 1, 1, 1, 1, 1]],\n",
       "\n",
       "       [[1, 1, 1, 1, 1, 1, 1, 1, 1, 1, 1, 1, 1, 1, 1, 1, 1, 1, 1, 0],\n",
       "        [1, 1, 1, 0, 1, 1, 1, 1, 1, 1, 1, 1, 0, 1, 0, 0, 0, 0, 0, 0],\n",
       "        [1, 1, 1, 1, 1, 1, 1, 1, 1, 1, 1, 0, 0, 0, 0, 0, 0, 0, 0, 0],\n",
       "        [1, 1, 1, 1, 1, 1, 1, 1, 1, 1, 1, 1, 1, 0, 0, 0, 0, 0, 0, 0],\n",
       "        [1, 1, 1, 1, 1, 1, 1, 1, 1, 1, 1, 1, 1, 0, 0, 0, 0, 0, 0, 0],\n",
       "        [1, 1, 1, 1, 1, 1, 1, 1, 1, 1, 1, 1, 1, 0, 0, 0, 0, 0, 0, 0],\n",
       "        [1, 1, 1, 1, 1, 1, 1, 1, 1, 1, 1, 1, 1, 0, 0, 0, 0, 0, 0, 0],\n",
       "        [0, 1, 1, 1, 1, 1, 1, 1, 1, 1, 0, 1, 0, 0, 0, 0, 0, 0, 0, 0],\n",
       "        [1, 1, 1, 1, 1, 1, 1, 1, 1, 1, 1, 1, 1, 1, 1, 1, 0, 1, 1, 0],\n",
       "        [1, 1, 1, 1, 1, 1, 1, 1, 1, 1, 1, 1, 1, 0, 0, 0, 0, 0, 0, 0],\n",
       "        [1, 1, 1, 1, 1, 1, 1, 1, 1, 1, 1, 1, 0, 0, 0, 0, 0, 0, 0, 0],\n",
       "        [1, 1, 1, 1, 1, 1, 1, 1, 1, 1, 1, 1, 1, 1, 1, 1, 0, 0, 0, 0],\n",
       "        [1, 1, 1, 1, 1, 1, 0, 1, 1, 0, 1, 1, 1, 0, 0, 0, 0, 0, 0, 0],\n",
       "        [1, 1, 1, 1, 1, 1, 1, 1, 1, 1, 1, 1, 1, 0, 0, 0, 0, 0, 0, 0],\n",
       "        [1, 1, 1, 1, 1, 1, 1, 1, 1, 1, 1, 1, 0, 0, 0, 0, 0, 0, 0, 0],\n",
       "        [1, 1, 1, 1, 1, 1, 0, 0, 1, 1, 1, 1, 1, 0, 0, 0, 0, 0, 0, 0]]])"
      ]
     },
     "execution_count": 207,
     "metadata": {},
     "output_type": "execute_result"
    }
   ],
   "source": [
    "# show the wells that had valid reactions in the plate layout\n",
    "# n.b. we ignore the right half of the plate b/c all of that was invalid (oxalic acid transfer error)\n",
    "arr = np.zeros((3, 16, 20), dtype=int)\n",
    "for plate in comb[\"plate_nr\"]:\n",
    "    for well in comb.loc[comb[\"plate_nr\"] == plate, \"well\"]:\n",
    "        row = ord(well[0]) - 65\n",
    "        col = int(well[1:]) - 3\n",
    "        arr[plate-1, row, col] = 1\n",
    "arr"
   ]
  },
  {
   "cell_type": "code",
   "execution_count": 208,
   "id": "2e9f20b7",
   "metadata": {},
   "outputs": [
    {
     "data": {
      "text/plain": [
       "<Axes: >"
      ]
     },
     "execution_count": 208,
     "metadata": {},
     "output_type": "execute_result"
    },
    {
     "data": {
      "image/png": "[encoded data removed]",
      "text/plain": [
       "<Figure size 640x480 with 6 Axes>"
      ]
     },
     "metadata": {},
     "output_type": "display_data"
    }
   ],
   "source": [
    "import seaborn as sns\n",
    "import matplotlib.pyplot as plt\n",
    "fig, ax = plt.subplots(3)\n",
    "sns.heatmap(arr[0], ax=ax[0])\n",
    "sns.heatmap(arr[1], ax=ax[1])\n",
    "sns.heatmap(arr[2], ax=ax[2])"
   ]
  },
  {
   "cell_type": "code",
   "execution_count": 219,
   "id": "ba8f2df6",
   "metadata": {},
   "outputs": [],
   "source": [
    "palette = sns.color_palette([\"#e42536\", \"#f0f0f0\", \"#5790fc\"])\n"
   ]
  },
  {
   "cell_type": "code",
   "execution_count": 222,
   "id": "0753ffb1",
   "metadata": {},
   "outputs": [
    {
     "data": {
      "image/png": "[encoded data removed]",
      "text/plain": [
       "<Figure size 640x480 with 3 Axes>"
      ]
     },
     "metadata": {},
     "output_type": "display_data"
    }
   ],
   "source": [
    "# show where we got it right for product A\n",
    "arr = np.zeros((3, 16, 20), dtype=int)\n",
    "for plate in comb[\"plate_nr\"]:\n",
    "    for i, dfrow in comb.loc[comb[\"plate_nr\"] == plate].iterrows():\n",
    "        row = ord(dfrow[\"well\"][0]) - 65\n",
    "        col = int(dfrow[\"well\"][1:]) - 3\n",
    "        if dfrow[\"pred_A\"] == dfrow[\"binary_A\"]:\n",
    "            arr[plate-1, row, col] = 1\n",
    "        else:\n",
    "            arr[plate-1, row, col] = -1\n",
    "fig, ax = plt.subplots(3)\n",
    "sns.heatmap(arr[0], ax=ax[0], center=0, cmap=palette, cbar=False, linewidths=0.1)\n",
    "sns.heatmap(arr[1], ax=ax[1], center=0, cmap=palette, cbar=False, linewidths=0.1)\n",
    "sns.heatmap(arr[2], ax=ax[2], center=0, cmap=palette, cbar=False, linewidths=0.1)\n",
    "for a in ax:\n",
    "    a.set_xticks([])\n",
    "    a.set_yticks([])\n",
    "fig.savefig(\"exp101_accuracyA.pdf\", transparent=True)"
   ]
  },
  {
   "cell_type": "markdown",
   "id": "f76e712a",
   "metadata": {},
   "source": [
    "#### Note\n",
    "Note how almost all of the wrong predictions for A originate from the first two rows. Which building blocks are these?"
   ]
  },
  {
   "cell_type": "code",
   "execution_count": 210,
   "id": "38ee63e1",
   "metadata": {},
   "outputs": [
    {
     "data": {
      "text/plain": [
       "0     TerABT007\n",
       "10    TerABT012\n",
       "Name: terminator_long, dtype: object"
      ]
     },
     "execution_count": 210,
     "metadata": {},
     "output_type": "execute_result"
    }
   ],
   "source": [
    "comb.loc[comb[\"well\"].str.startswith(\"A\") | comb[\"well\"].str.startswith(\"B\"), \"terminator_long\"].drop_duplicates()"
   ]
  },
  {
   "cell_type": "code",
   "execution_count": 211,
   "id": "a44a463a",
   "metadata": {},
   "outputs": [],
   "source": [
    "from rdkit import Chem\n",
    "from rdkit.Chem import Draw"
   ]
  },
  {
   "cell_type": "code",
   "execution_count": 212,
   "id": "91431d08",
   "metadata": {},
   "outputs": [
    {
     "data": {
      "image/png": "[encoded data removed]",
      "text/plain": [
       "<IPython.core.display.Image object>"
      ]
     },
     "execution_count": 212,
     "metadata": {},
     "output_type": "execute_result"
    }
   ],
   "source": [
    "Draw.MolsToGridImage(\n",
    "    [Chem.MolFromSmiles(con.get_smiles(long=\"TerABT007\")), Chem.MolFromSmiles(con.get_smiles(long=\"TerABT012\"))]\n",
    ")"
   ]
  },
  {
   "cell_type": "code",
   "execution_count": 213,
   "id": "8f392fba",
   "metadata": {},
   "outputs": [
    {
     "data": {
      "text/plain": [
       "(0.5647899910634495,)"
      ]
     },
     "execution_count": 213,
     "metadata": {},
     "output_type": "execute_result"
    }
   ],
   "source": [
    "# average success rate for TerABT007\n",
    "con.con.execute(\"SELECT AVG(product_A_lcms_ratio > 0) FROM experiments WHERE terminator_long = 'TerABT007' AND exp_nr BETWEEN 4 AND 29 AND (valid NOT LIKE 'ERROR%' OR valid IS NULL);\").fetchone()"
   ]
  },
  {
   "cell_type": "code",
   "execution_count": 214,
   "id": "38d3c41c",
   "metadata": {},
   "outputs": [
    {
     "data": {
      "text/plain": [
       "(0.7179161372299873,)"
      ]
     },
     "execution_count": 214,
     "metadata": {},
     "output_type": "execute_result"
    }
   ],
   "source": [
    "# average success rate for TerABT012\n",
    "con.con.execute(\"SELECT AVG(product_A_lcms_ratio > 0) FROM experiments WHERE terminator_long = 'TerABT012' AND exp_nr BETWEEN 4 AND 29 AND (valid NOT LIKE 'ERROR%' OR valid IS NULL);\").fetchone()"
   ]
  },
  {
   "cell_type": "markdown",
   "id": "a75b97a3",
   "metadata": {},
   "source": [
    "The success rate for TerABT007 is indeed markedly lower than for most building blocks giving a hint to why this may have been predicted not to work. For TerABT012 however that is less true. Still the high structural similarity to TerABT007 may play a role."
   ]
  },
  {
   "cell_type": "code",
   "execution_count": 215,
   "id": "165a72bb",
   "metadata": {},
   "outputs": [
    {
     "data": {
      "text/plain": [
       "<Axes: >"
      ]
     },
     "execution_count": 215,
     "metadata": {},
     "output_type": "execute_result"
    },
    {
     "data": {
      "image/png": "[encoded data removed]",
      "text/plain": [
       "<Figure size 640x480 with 6 Axes>"
      ]
     },
     "metadata": {},
     "output_type": "display_data"
    }
   ],
   "source": [
    "# show where we got it right for product B\n",
    "arr = np.zeros((3, 16, 20), dtype=int)\n",
    "for plate in comb[\"plate_nr\"]:\n",
    "    for i, dfrow in comb.loc[comb[\"plate_nr\"] == plate].iterrows():\n",
    "        row = ord(dfrow[\"well\"][0]) - 65\n",
    "        col = int(dfrow[\"well\"][1:]) - 3\n",
    "        if dfrow[\"pred_B\"] == dfrow[\"binary_B\"]:\n",
    "            arr[plate-1, row, col] = 1\n",
    "        else:\n",
    "            arr[plate-1, row, col] = -1\n",
    "fig, ax = plt.subplots(3)\n",
    "sns.heatmap(arr[0], ax=ax[0], center=0, cmap=sns.color_palette(\"coolwarm_r\", n_colors=3))\n",
    "sns.heatmap(arr[1], ax=ax[1], center=0, cmap=sns.color_palette(\"coolwarm_r\", n_colors=3))\n",
    "sns.heatmap(arr[2], ax=ax[2], center=0, cmap=sns.color_palette(\"coolwarm_r\", n_colors=3))"
   ]
  },
  {
   "cell_type": "code",
   "execution_count": 216,
   "id": "587697ea",
   "metadata": {},
   "outputs": [
    {
     "data": {
      "text/plain": [
       "<Axes: >"
      ]
     },
     "execution_count": 216,
     "metadata": {},
     "output_type": "execute_result"
    },
    {
     "data": {
      "image/png": "[encoded data removed]",
      "text/plain": [
       "<Figure size 640x480 with 6 Axes>"
      ]
     },
     "metadata": {},
     "output_type": "display_data"
    }
   ],
   "source": [
    "# show where we got it right for product C\n",
    "arr = np.zeros((3, 16, 20), dtype=int)\n",
    "for plate in comb[\"plate_nr\"]:\n",
    "    for i, dfrow in comb.loc[comb[\"plate_nr\"] == plate].iterrows():\n",
    "        row = ord(dfrow[\"well\"][0]) - 65\n",
    "        col = int(dfrow[\"well\"][1:]) - 3\n",
    "        if dfrow[\"pred_C\"] == dfrow[\"binary_C\"]:\n",
    "            arr[plate-1, row, col] = 1\n",
    "        else:\n",
    "            arr[plate-1, row, col] = -1\n",
    "fig, ax = plt.subplots(3)\n",
    "sns.heatmap(arr[0], ax=ax[0], center=0, cmap=sns.color_palette(\"coolwarm_r\", n_colors=3))\n",
    "sns.heatmap(arr[1], ax=ax[1], center=0, cmap=sns.color_palette(\"coolwarm_r\", n_colors=3))\n",
    "sns.heatmap(arr[2], ax=ax[2], center=0, cmap=sns.color_palette(\"coolwarm_r\", n_colors=3))"
   ]
  },
  {
   "cell_type": "code",
   "execution_count": null,
   "id": "662138be",
   "metadata": {},
   "outputs": [],
   "source": []
  }
 ],
 "metadata": {
  "kernelspec": {
   "display_name": "Python 3 (ipykernel)",
   "language": "python",
   "name": "python3"
  },
  "language_info": {
   "codemirror_mode": {
    "name": "ipython",
    "version": 3
   },
   "file_extension": ".py",
   "mimetype": "text/x-python",
   "name": "python",
   "nbconvert_exporter": "python",
   "pygments_lexer": "ipython3",
   "version": "3.9.7"
  }
 },
 "nbformat": 4,
 "nbformat_minor": 5
}
