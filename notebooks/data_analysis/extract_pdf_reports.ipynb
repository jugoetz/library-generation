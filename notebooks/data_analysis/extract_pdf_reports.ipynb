{
 "cells": [
  {
   "cell_type": "markdown",
   "id": "261b6b1e-9b30-4a3f-9684-190bbbd48df0",
   "metadata": {},
   "source": [
    "# Extract MoBiAS PDF reports\n",
    "\n",
    "The PDF reports are a great source of additional information as they contain data for peaks that may not have been assigned to any known product.\n",
    "Mining these reports is much faster than reprocessing of the raw LCMS data.\n",
    "\n",
    "Here, we are in particular interested to identify\n",
    "1. leftover starting materials\n",
    "2. systematic side products that we have not been previously looking for\n"
   ]
  },
  {
   "cell_type": "code",
   "execution_count": 4,
   "id": "5414c150-132b-4c8d-989f-f84b6f1cb3f7",
   "metadata": {
    "tags": [],
    "ExecuteTime": {
     "end_time": "2023-06-16T11:19:19.709803Z",
     "start_time": "2023-06-16T11:19:19.693809Z"
    }
   },
   "outputs": [],
   "source": [
    "import sys\n",
    "import pathlib\n",
    "import re\n",
    "from datetime import datetime\n",
    "\n",
    "sys.path.insert(0, str(pathlib.Path().resolve().parents[1]))\n",
    "\n",
    "from pypdf import PdfReader\n",
    "import pandas as pd\n",
    "import numpy as np\n",
    "\n",
    "from src.util.db_utils import SynFermDatabaseConnection\n",
    "from src.definitions import DATA_DIR, PLATE_LIST_PATH\n",
    "from src.util.rdkit_util import smiles_to_lcms_mass"
   ]
  },
  {
   "cell_type": "code",
   "execution_count": 5,
   "id": "42e6e3fb-fa8c-4133-b15e-9e32e554d23b",
   "metadata": {
    "tags": [],
    "ExecuteTime": {
     "end_time": "2023-06-16T11:19:20.442860Z",
     "start_time": "2023-06-16T11:19:20.422048Z"
    }
   },
   "outputs": [],
   "source": [
    "con = SynFermDatabaseConnection()"
   ]
  },
  {
   "cell_type": "markdown",
   "id": "9f737ec6-a3cf-45da-951f-34987a5335b8",
   "metadata": {
    "jp-MarkdownHeadingCollapsed": true,
    "tags": []
   },
   "source": [
    "## Extract PDF data"
   ]
  },
  {
   "cell_type": "code",
   "execution_count": 3,
   "id": "e225f6ff-be47-47f0-bcba-7f9db2bc0ea2",
   "metadata": {
    "editable": true,
    "slideshow": {
     "slide_type": ""
    },
    "tags": []
   },
   "outputs": [],
   "source": [
    "def import_lcms_full_report(path):\n",
    "    # set up pdf reader\n",
    "    reader = PdfReader(path)\n",
    "    number_of_pages = len(reader.pages)\n",
    "    lines = []\n",
    "    found_data = False\n",
    "    # iterate from second page until entire peak summary table is read completely\n",
    "    for i in range(1, number_of_pages):\n",
    "        page = reader.pages[i]\n",
    "        text = page.extract_text()\n",
    "        line_list = text.splitlines()\n",
    "        if (line_list[0] != '# RT [min] Area I S/N Max. m/z FWHM [min] Area % Int. %') and found_data:  # stop when not encountering another data header\n",
    "            break\n",
    "        else:\n",
    "            found_data = True\n",
    "        lines += line_list\n",
    "    \n",
    "    if len(lines) == 0:\n",
    "        raise RuntimeError(\"No data extracted\")\n",
    "        \n",
    "    # remove spaces in header\n",
    "    cleaned_lines = ['# RT[min] Area I S/N max_m/z FWHM[min] Area% Int%',]\n",
    "    # remove footers and data headers on not-first page\n",
    "    cleaned_lines += [line for line in lines if line[0].isnumeric()] \n",
    "\n",
    "    # split the lines into individual fields\n",
    "    data = [line.split() for line in cleaned_lines]\n",
    "    \n",
    "    # assemble DataFrame from data\n",
    "    df = pd.DataFrame(data[1:], columns=data[0]).astype(\"float\")\n",
    "\n",
    "    return df"
   ]
  },
  {
   "cell_type": "code",
   "execution_count": null,
   "id": "ac2cca20-6f31-40b0-8469-900526543a3b",
   "metadata": {},
   "outputs": [],
   "source": [
    "%%capture output\n",
    "# import the plate list to obtain LCMS identifier - plate_nr relation\n",
    "plate_list = pd.read_csv(PLATE_LIST_PATH)\n",
    "# we will record any files that cause exceptions for manual inspection\n",
    "files_with_exceptions = []\n",
    "\n",
    "# iterate over all experiments/plates\n",
    "for exp_nr in range(1, 30):\n",
    "    for plate_nr in range(1, 7):\n",
    "        # print progress indicator\n",
    "        now = datetime.now()\n",
    "        print(f\"exp {exp_nr}-{plate_nr}, started {now.strftime('%H:%M:%S')}\")\n",
    " \n",
    "        \n",
    "        lcms_id = plate_list.loc[(plate_list[\"exp_nr\"] == exp_nr) & (plate_list[\"plate_nr\"] == plate_nr), \"results_file_name\"].item().split(\"_\")[0]\n",
    "        exp_path = DATA_DIR / \"pdf_reports\" / lcms_id\n",
    "        full_report_paths = list(exp_path.glob(\"*_LCMS_Fullreport.pdf\"))\n",
    "        \n",
    "        for path in full_report_paths:\n",
    "            try:\n",
    "                # get well from filename\n",
    "                regex = r'_P\\d{1}-[A-Z]-\\d{1,2}_'\n",
    "                match = re.search(regex, path.name)\n",
    "                well = \"\".join(match.group().strip(\"_\").split(\"-\")[1:])\n",
    "                reaction_id = con.get_reaction_id((exp_nr, plate_nr, well))\n",
    "                df = import_lcms_full_report(path)\n",
    "                # we persist this to the database for re-use\n",
    "                # first reformat df to fit DB\n",
    "                df.insert(0, \"reaction_id\", reaction_id)\n",
    "                df.insert(2, \"retention_time_s\", (df[\"RT[min]\"] * 60).astype(\"int\"))\n",
    "                df = df.drop(columns=\"RT[min]\")\n",
    "                df = df.rename(columns={\"#\": \"peak_number\", \n",
    "                           \"Area\": \"area\", \n",
    "                           \"I\": \"intensity\",\n",
    "                           \"S/N\": \"signal_to_noise\",\n",
    "                           \"max_m/z\": \"mz_max\",\n",
    "                           \"FWHM[min]\": \"fwhm_min\", \n",
    "                           \"Area%\": \"%area\",\n",
    "                           \"Int%\": \"%intensity\"\n",
    "                          }).astype({\"peak_number\": \"int\",\n",
    "                                     \"area\": \"int\",\n",
    "                                     \"intensity\": \"int\"})\n",
    "                # write all extracted peaks to DB\n",
    "                with con.con:\n",
    "                    con.con.executemany(\n",
    "                        'INSERT INTO lcms_peaks (experiment_id, peak_nr, retention_time_s, area, intensity, signal_to_noise, mz_max, fwhm_min, \"%area\", \"%intensity\") VALUES (?, ?, ?, ?, ?, ?, ?, ?, ?, ?);', \n",
    "                        [tuple(row) for row in df.to_numpy()]\n",
    "                    )\n",
    "            except Exception as e:\n",
    "                print(f\"Something went wrong for {str(path)}\")\n",
    "                files_with_exceptions.append(path)\n",
    "                print(e)"
   ]
  },
  {
   "cell_type": "markdown",
   "id": "e0c53f45-ea48-4d7f-ad77-f4f81730307f",
   "metadata": {
    "tags": []
   },
   "source": [
    "## Peak assignments - common contaminants"
   ]
  },
  {
   "cell_type": "code",
   "execution_count": 24,
   "id": "c2e7589f-c065-4a0c-a4b7-b9d9b7f2d7b8",
   "metadata": {
    "tags": [],
    "ExecuteTime": {
     "end_time": "2023-06-16T09:10:48.788634Z",
     "start_time": "2023-06-16T09:10:48.779710Z"
    }
   },
   "outputs": [],
   "source": [
    "# define some expected contaminants\n",
    "mz_dmso = [79.0212, 101.0032, 157.0351]  # M+H+, M+Na+ 2M+H+\n",
    "mz_lock_tmp = 142.1590  # tetramethylpiperidine\n",
    "mz_lock_hmp = 322.0481  # hexamethoxyphosphazene\n",
    "mz_is = 361.1201  # fenofibrate"
   ]
  },
  {
   "cell_type": "code",
   "execution_count": 22,
   "outputs": [],
   "source": [
    "# write DMSO assignments to DB\n",
    "# the median retention time for DMSO is 48 seconds, but it's a broad peak, so we just use <120s\n",
    "for mz in mz_dmso:\n",
    "    with con.con:\n",
    "        con.con.execute(\"INSERT INTO lcms_peaks_assignment (peak_id, assignment) SELECT id, 'DMSO' FROM lcms_peaks WHERE mz_max BETWEEN ? AND ? AND retention_time_s < 120\", (mz - 0.02, mz + 0.02))\n"
   ],
   "metadata": {
    "collapsed": false,
    "ExecuteTime": {
     "end_time": "2023-06-16T09:02:34.380397Z",
     "start_time": "2023-06-16T09:02:33.104781Z"
    }
   }
  },
  {
   "cell_type": "code",
   "execution_count": 27,
   "outputs": [],
   "source": [
    "# write lock mass assignments to DB\n",
    "# since lock molecules are part of the solvent, we do not put a retention time constraint\n",
    "with con.con:\n",
    "    con.con.execute(\"INSERT INTO lcms_peaks_assignment (peak_id, assignment) SELECT id, 'lock mass tetramethylpiperidine' FROM lcms_peaks WHERE mz_max BETWEEN ? AND ?\", (mz_lock_tmp - 0.02, mz_lock_tmp + 0.02))\n",
    "with con.con:\n",
    "    con.con.execute(\"INSERT INTO lcms_peaks_assignment (peak_id, assignment) SELECT id, 'lock mass hexamethoxyphosphazene' FROM lcms_peaks WHERE mz_max BETWEEN ? AND ?\", (mz_lock_hmp - 0.02, mz_lock_hmp + 0.02))"
   ],
   "metadata": {
    "collapsed": false,
    "ExecuteTime": {
     "end_time": "2023-06-16T09:13:14.305196Z",
     "start_time": "2023-06-16T09:13:13.555582Z"
    }
   }
  },
  {
   "cell_type": "code",
   "execution_count": 28,
   "outputs": [],
   "source": [
    "# write IS assignments to DB\n",
    "# the median retention time for fenofibrate was 368 s. We allow a 20 s window around this (the latest picked peak is at 388 so the upper bound is not necessary)\n",
    "with con.con:\n",
    "    con.con.execute(\"INSERT INTO lcms_peaks_assignment (peak_id, assignment) SELECT id, 'IS fenofibrate' FROM lcms_peaks WHERE mz_max BETWEEN ? AND ? AND retention_time_s > 348\", (mz_is - 0.02, mz_is + 0.02))"
   ],
   "metadata": {
    "collapsed": false,
    "ExecuteTime": {
     "end_time": "2023-06-16T09:21:43.417193Z",
     "start_time": "2023-06-16T09:21:42.713940Z"
    }
   }
  },
  {
   "cell_type": "markdown",
   "source": [
    "## Peak assignments - Known reactants/products\n",
    "\n",
    "We read extracted data from the DB, compare it with the expected masses and save the results back to the db"
   ],
   "metadata": {
    "collapsed": false
   }
  },
  {
   "cell_type": "code",
   "execution_count": 20,
   "outputs": [],
   "source": [
    "def calculate_lcms_peak_differences(identifier):\n",
    "\n",
    "    # import relevant reactants and products\n",
    "    # import starting material mzs\n",
    "    sms = con.get_starting_materials_for_reaction(identifier)\n",
    "    mz_i, mz_m, mz_t = [smiles_to_lcms_mass(smi) for smi in sms]\n",
    "    mz_iacid = mz_i - 52.0096  # mass difference of degradation KAT-H to carboxylic acid\n",
    "    mz_baa = mz_m - 124.05243  # mass difference of degradation to beta-amino acid\n",
    "    mzs = {\"I\": mz_i, \"M\": mz_m, \"T\": mz_t, \"I_acid\": mz_iacid, \"M_bAA\": mz_baa}\n",
    "\n",
    "    # import product mzs\n",
    "    known_product_smiles = con.get_product_smiles(identifier)\n",
    "    known_product_mzs = {s: smiles_to_lcms_mass(smi) for s, smi in zip(\"ABCDEFGH\", known_product_smiles) if smi}  # \"if smi\" bc we sometimes have None for product H\n",
    "    mzs.update(known_product_mzs)\n",
    "\n",
    "    # assign known peaks\n",
    "    for s, mz in mzs.items():\n",
    "        with con.con:\n",
    "            con.con.execute(\"INSERT INTO lcms_peaks_assignment (peak_id, assignment) SELECT id, ? AS assignment FROM lcms_peaks WHERE experiment_id=? AND mz_max BETWEEN ? AND ?\", (s, identifier, mz - 0.02, mz + 0.02))\n",
    "\n",
    "    # some peaks are still unexplained\n",
    "    # for these, we calculate the difference to known mzs to see if a pattern emerges\n",
    "    lcms_peaks = con.get_lcms_peaks(identifier, with_assignment=True)\n",
    "    # ignore peaks that are already explained or that are insignificant\n",
    "    unexplained_peaks = lcms_peaks.loc[lcms_peaks.assignment.isna() & (lcms_peaks[\"%area\"] > 5)]\n",
    "    unexplained_mzs = unexplained_peaks.mz_max.to_numpy()\n",
    "    mzs_arr = np.array(list(mzs.values()))\n",
    "    # calculate the differences with all the considered masses\n",
    "    delta = pd.concat([unexplained_peaks[[\"experiment_id\", \"id\"]].reset_index(drop=True), pd.DataFrame(unexplained_mzs[:, None] - mzs_arr, columns=list(mzs.keys()))], axis=1)\n",
    "\n",
    "    # add \"H\" column if it does not exist\n",
    "    if \"H\" not in delta.columns:\n",
    "        delta[\"H\"] = np.nan\n",
    "    \n",
    "    with con.con:\n",
    "        # persist differences to DB\n",
    "        con.con.executemany(\"INSERT INTO lcms_peaks_differences (experiment_id, peak_id, delta_I, delta_M, delta_T, delta_Iacid, delta_bAA, delta_A, delta_B, delta_C, delta_D, delta_E, delta_F, delta_G, delta_H) VALUES (?, ?, ?, ?, ?, ?, ?, ?, ?, ?, ?, ?, ?, ?, ?);\",\n",
    "                           delta.to_numpy())\n",
    "    return delta"
   ],
   "metadata": {
    "collapsed": false,
    "ExecuteTime": {
     "end_time": "2023-06-16T12:22:13.363766Z",
     "start_time": "2023-06-16T12:22:13.321516Z"
    }
   }
  },
  {
   "cell_type": "code",
   "execution_count": 21,
   "outputs": [
    {
     "name": "stdout",
     "output_type": "stream",
     "text": [
      "exp 1-1, started 14:22:14\n",
      "exp 1-2, started 14:22:17\n",
      "exp 1-3, started 14:22:19\n",
      "exp 1-4, started 14:22:21\n",
      "exp 1-5, started 14:22:24\n",
      "exp 1-6, started 14:22:26\n",
      "exp 2-1, started 14:22:29\n",
      "exp 2-2, started 14:22:31\n",
      "exp 2-3, started 14:22:33\n",
      "exp 2-4, started 14:22:36\n",
      "exp 2-5, started 14:22:38\n",
      "exp 2-6, started 14:22:41\n",
      "exp 3-1, started 14:22:43\n",
      "exp 3-2, started 14:22:45\n",
      "exp 3-3, started 14:22:48\n",
      "exp 3-4, started 14:22:51\n",
      "exp 3-5, started 14:22:54\n",
      "exp 3-6, started 14:22:56\n",
      "exp 4-1, started 14:22:59\n",
      "exp 4-2, started 14:23:01\n",
      "exp 4-3, started 14:23:04\n",
      "exp 4-4, started 14:23:07\n",
      "exp 4-5, started 14:23:09\n",
      "exp 4-6, started 14:23:12\n",
      "exp 5-1, started 14:23:14\n",
      "exp 5-2, started 14:23:17\n",
      "exp 5-3, started 14:23:19\n",
      "exp 5-4, started 14:23:22\n",
      "exp 5-5, started 14:23:25\n",
      "exp 5-6, started 14:23:28\n",
      "exp 6-1, started 14:23:30\n",
      "exp 6-2, started 14:23:33\n",
      "exp 6-3, started 14:23:35\n",
      "exp 6-4, started 14:23:38\n",
      "exp 6-5, started 14:23:40\n",
      "exp 6-6, started 14:23:42\n",
      "exp 7-1, started 14:23:45\n",
      "exp 7-2, started 14:23:47\n",
      "exp 7-3, started 14:23:49\n",
      "exp 7-4, started 14:23:52\n",
      "exp 7-5, started 14:23:54\n",
      "exp 7-6, started 14:23:57\n",
      "exp 8-1, started 14:23:59\n",
      "exp 8-2, started 14:24:01\n",
      "exp 8-3, started 14:24:04\n",
      "exp 8-4, started 14:24:06\n",
      "exp 8-5, started 14:24:09\n",
      "exp 8-6, started 14:24:11\n",
      "exp 9-1, started 14:24:14\n",
      "exp 9-2, started 14:24:16\n",
      "exp 9-3, started 14:24:18\n",
      "exp 9-4, started 14:24:21\n",
      "exp 9-5, started 14:24:23\n",
      "exp 9-6, started 14:24:25\n",
      "exp 10-1, started 14:24:27\n",
      "exp 10-2, started 14:24:30\n",
      "exp 10-3, started 14:24:32\n",
      "exp 10-4, started 14:24:35\n",
      "exp 10-5, started 14:24:37\n",
      "exp 10-6, started 14:24:39\n",
      "exp 11-1, started 14:24:42\n",
      "exp 11-2, started 14:24:44\n",
      "exp 11-3, started 14:24:46\n",
      "exp 11-4, started 14:24:49\n",
      "exp 11-5, started 14:24:51\n",
      "exp 11-6, started 14:24:54\n",
      "exp 12-1, started 14:24:56\n",
      "exp 12-2, started 14:24:59\n",
      "exp 12-3, started 14:25:01\n",
      "exp 12-4, started 14:25:04\n",
      "exp 12-5, started 14:25:07\n",
      "exp 12-6, started 14:25:09\n",
      "exp 13-1, started 14:25:13\n",
      "exp 13-2, started 14:25:15\n",
      "exp 13-3, started 14:25:17\n",
      "exp 13-4, started 14:25:20\n",
      "exp 13-5, started 14:25:22\n",
      "exp 13-6, started 14:25:24\n",
      "exp 14-1, started 14:25:27\n",
      "exp 14-2, started 14:25:29\n",
      "exp 14-3, started 14:25:31\n",
      "exp 14-4, started 14:25:34\n",
      "exp 14-5, started 14:25:36\n",
      "exp 14-6, started 14:25:39\n",
      "exp 15-1, started 14:25:41\n",
      "exp 15-2, started 14:25:43\n",
      "exp 15-3, started 14:25:45\n",
      "exp 15-4, started 14:25:48\n",
      "exp 15-5, started 14:25:50\n",
      "exp 15-6, started 14:25:53\n",
      "exp 16-1, started 14:25:55\n",
      "exp 16-2, started 14:25:58\n",
      "exp 16-3, started 14:26:00\n",
      "exp 16-4, started 14:26:03\n",
      "exp 16-5, started 14:26:05\n",
      "exp 16-6, started 14:26:08\n",
      "exp 17-1, started 14:26:10\n",
      "exp 17-2, started 14:26:13\n",
      "exp 17-3, started 14:26:15\n",
      "exp 17-4, started 14:26:18\n",
      "exp 17-5, started 14:26:20\n",
      "exp 17-6, started 14:26:23\n",
      "exp 18-1, started 14:26:25\n",
      "exp 18-2, started 14:26:28\n",
      "exp 18-3, started 14:26:30\n",
      "exp 18-4, started 14:26:32\n",
      "exp 18-5, started 14:26:35\n",
      "exp 18-6, started 14:26:37\n",
      "exp 19-1, started 14:26:40\n",
      "exp 19-2, started 14:26:42\n",
      "exp 19-3, started 14:26:44\n",
      "exp 19-4, started 14:26:47\n",
      "exp 19-5, started 14:26:49\n",
      "exp 19-6, started 14:26:51\n",
      "exp 20-1, started 14:26:54\n",
      "exp 20-2, started 14:26:56\n",
      "exp 20-3, started 14:26:59\n",
      "exp 20-4, started 14:27:01\n",
      "exp 20-5, started 14:27:04\n",
      "exp 20-6, started 14:27:06\n",
      "exp 21-1, started 14:27:09\n",
      "exp 21-2, started 14:27:11\n",
      "exp 21-3, started 14:27:14\n",
      "exp 21-4, started 14:27:16\n",
      "exp 21-5, started 14:27:19\n",
      "exp 21-6, started 14:27:23\n",
      "exp 22-1, started 14:27:25\n",
      "exp 22-2, started 14:27:28\n",
      "exp 22-3, started 14:27:31\n",
      "exp 22-4, started 14:27:33\n",
      "exp 22-5, started 14:27:35\n",
      "exp 22-6, started 14:27:38\n",
      "exp 23-1, started 14:27:40\n",
      "exp 23-2, started 14:27:43\n",
      "exp 23-3, started 14:27:45\n",
      "exp 23-4, started 14:27:47\n",
      "exp 23-5, started 14:27:49\n",
      "exp 23-6, started 14:27:52\n",
      "exp 24-1, started 14:27:54\n",
      "exp 24-2, started 14:27:56\n",
      "exp 24-3, started 14:27:59\n",
      "exp 24-4, started 14:28:01\n",
      "exp 24-5, started 14:28:04\n",
      "exp 24-6, started 14:28:06\n",
      "exp 25-1, started 14:28:08\n",
      "exp 25-2, started 14:28:11\n",
      "exp 25-3, started 14:28:13\n",
      "exp 25-4, started 14:28:15\n",
      "exp 25-5, started 14:28:18\n",
      "exp 25-6, started 14:28:20\n",
      "exp 26-1, started 14:28:22\n",
      "exp 26-2, started 14:28:25\n",
      "exp 26-3, started 14:28:27\n",
      "exp 26-4, started 14:28:29\n",
      "exp 26-5, started 14:28:31\n",
      "exp 26-6, started 14:28:34\n",
      "exp 27-1, started 14:28:36\n",
      "exp 27-2, started 14:28:38\n",
      "exp 27-3, started 14:28:40\n",
      "exp 27-4, started 14:28:43\n",
      "exp 27-5, started 14:28:45\n",
      "exp 27-6, started 14:28:47\n",
      "exp 28-1, started 14:28:49\n",
      "exp 28-2, started 14:28:52\n",
      "exp 28-3, started 14:28:54\n",
      "exp 28-4, started 14:28:57\n",
      "exp 28-5, started 14:28:59\n",
      "exp 28-6, started 14:29:01\n",
      "exp 29-1, started 14:29:03\n",
      "exp 29-2, started 14:29:06\n",
      "exp 29-3, started 14:29:08\n",
      "exp 29-4, started 14:29:10\n",
      "exp 29-5, started 14:29:13\n",
      "exp 29-6, started 14:29:15\n"
     ]
    }
   ],
   "source": [
    "# we will record any files that cause exceptions for manual inspection\n",
    "records_with_exceptions = []\n",
    "# iterate over all experiments/plates\n",
    "for exp_nr in range(1, 30):\n",
    "    for plate_nr in range(1, 7):\n",
    "        # print progress indicator\n",
    "        now = datetime.now()\n",
    "        print(f\"exp {exp_nr}-{plate_nr}, started {now.strftime('%H:%M:%S')}\")\n",
    "\n",
    "        identifiers = con.get_reaction_ids_for_plate((exp_nr, plate_nr))\n",
    "        for i in identifiers:\n",
    "            try:\n",
    "                calculate_lcms_peak_differences(i)\n",
    "            except Exception as e:\n",
    "                records_with_exceptions.append(i)"
   ],
   "metadata": {
    "collapsed": false,
    "ExecuteTime": {
     "end_time": "2023-06-16T12:29:17.768537Z",
     "start_time": "2023-06-16T12:22:14.048030Z"
    }
   }
  },
  {
   "cell_type": "code",
   "execution_count": 27,
   "id": "8067d0ce-c08b-4b9a-bfc7-f34b45017fde",
   "metadata": {
    "tags": [],
    "ExecuteTime": {
     "end_time": "2023-06-16T12:43:27.953698Z",
     "start_time": "2023-06-16T12:43:26.468313Z"
    }
   },
   "outputs": [
    {
     "data": {
      "text/plain": "                                 experiment_id\nassignment                                    \nA                                        22943\nB                                        14541\nC                                         3630\nD                                        25151\nDMSO                                     54892\nE                                        27215\nF                                        30292\nG                                        13861\nH                                         5662\nI                                          582\nIS fenofibrate                           54206\nI_acid                                    7911\nM                                        17350\nM_bAA                                    11527\nT                                         3501\nlock mass tetramethylpiperidine           4572",
      "text/html": "<div>\n<style scoped>\n    .dataframe tbody tr th:only-of-type {\n        vertical-align: middle;\n    }\n\n    .dataframe tbody tr th {\n        vertical-align: top;\n    }\n\n    .dataframe thead th {\n        text-align: right;\n    }\n</style>\n<table border=\"1\" class=\"dataframe\">\n  <thead>\n    <tr style=\"text-align: right;\">\n      <th></th>\n      <th>experiment_id</th>\n    </tr>\n    <tr>\n      <th>assignment</th>\n      <th></th>\n    </tr>\n  </thead>\n  <tbody>\n    <tr>\n      <th>A</th>\n      <td>22943</td>\n    </tr>\n    <tr>\n      <th>B</th>\n      <td>14541</td>\n    </tr>\n    <tr>\n      <th>C</th>\n      <td>3630</td>\n    </tr>\n    <tr>\n      <th>D</th>\n      <td>25151</td>\n    </tr>\n    <tr>\n      <th>DMSO</th>\n      <td>54892</td>\n    </tr>\n    <tr>\n      <th>E</th>\n      <td>27215</td>\n    </tr>\n    <tr>\n      <th>F</th>\n      <td>30292</td>\n    </tr>\n    <tr>\n      <th>G</th>\n      <td>13861</td>\n    </tr>\n    <tr>\n      <th>H</th>\n      <td>5662</td>\n    </tr>\n    <tr>\n      <th>I</th>\n      <td>582</td>\n    </tr>\n    <tr>\n      <th>IS fenofibrate</th>\n      <td>54206</td>\n    </tr>\n    <tr>\n      <th>I_acid</th>\n      <td>7911</td>\n    </tr>\n    <tr>\n      <th>M</th>\n      <td>17350</td>\n    </tr>\n    <tr>\n      <th>M_bAA</th>\n      <td>11527</td>\n    </tr>\n    <tr>\n      <th>T</th>\n      <td>3501</td>\n    </tr>\n    <tr>\n      <th>lock mass tetramethylpiperidine</th>\n      <td>4572</td>\n    </tr>\n  </tbody>\n</table>\n</div>"
     },
     "execution_count": 27,
     "metadata": {},
     "output_type": "execute_result"
    }
   ],
   "source": [
    "# count the assigned peaks\n",
    "assigned_peaks = con.con.execute(\"SELECT peak_id, assignment, lp.experiment_id FROM lcms_peaks_assignment JOIN lcms_peaks lp on lcms_peaks_assignment.peak_id = lp.id\").fetchall()\n",
    "df = pd.DataFrame(assigned_peaks, columns=[\"peak_id\", \"assignment\", \"experiment_id\"])\n",
    "# count the number of reaction each species is found in\n",
    "df[[\"assignment\", \"experiment_id\"]].drop_duplicates().groupby([\"assignment\"]).count()"
   ]
  },
  {
   "cell_type": "code",
   "execution_count": 30,
   "outputs": [
    {
     "data": {
      "text/plain": "55477"
     },
     "execution_count": 30,
     "metadata": {},
     "output_type": "execute_result"
    }
   ],
   "source": [
    "len(df[\"experiment_id\"].unique())"
   ],
   "metadata": {
    "collapsed": false,
    "ExecuteTime": {
     "end_time": "2023-06-16T12:45:11.475913Z",
     "start_time": "2023-06-16T12:45:11.441747Z"
    }
   }
  },
  {
   "cell_type": "markdown",
   "source": [
    "## Peak assignments - Find more contaminants"
   ],
   "metadata": {
    "collapsed": false
   }
  },
  {
   "cell_type": "code",
   "execution_count": 31,
   "id": "05dd3d15-f7b8-4aab-8260-88d0aa57e631",
   "metadata": {
    "tags": [],
    "ExecuteTime": {
     "end_time": "2023-06-16T13:12:59.422730Z",
     "start_time": "2023-06-16T13:12:50.358018Z"
    }
   },
   "outputs": [],
   "source": [
    "## get all peaks to identify common contaminants\n",
    "res = con.con.execute('SELECT lcms_peaks.id, lcms_peaks.experiment_id, lcms_peaks.peak_nr, retention_time_s, area, intensity, signal_to_noise, mz_max, fwhm_min, \"%area\", \"%intensity\", a.assignment FROM lcms_peaks LEFT JOIN lcms_peaks_assignment a on lcms_peaks.id = a.peak_id;',\n",
    "                ).fetchall()\n",
    "df = pd.DataFrame(\n",
    "    res,\n",
    "    columns=[\n",
    "       \"peak_id\",\n",
    "        \"reaction_id\",\n",
    "        \"peak_nr\",\n",
    "        \"retention_time_s\",\n",
    "        \"area\",\n",
    "        \"intensity\",\n",
    "        \"signal_to_noise\",\n",
    "        \"mz_max\",\n",
    "        \"fwhm_min\",\n",
    "        \"%area\",\n",
    "        \"%intensity\",\n",
    "        \"assignment\",\n",
    "    ]\n",
    ")"
   ]
  },
  {
   "cell_type": "code",
   "execution_count": 32,
   "id": "5e9bed33-bd8c-414a-98c1-92a48a90946f",
   "metadata": {
    "tags": [],
    "ExecuteTime": {
     "end_time": "2023-06-16T13:12:59.508028Z",
     "start_time": "2023-06-16T13:12:59.457549Z"
    }
   },
   "outputs": [
    {
     "data": {
      "text/plain": "100.11    194848\n128.11     78793\n111.04     70752\n99.53      61966\n84.08      54308\n           ...  \n553.83         1\n756.27         1\n766.21         1\n79.08          1\n253.75         1\nName: mz_max, Length: 27420, dtype: int64"
     },
     "execution_count": 32,
     "metadata": {},
     "output_type": "execute_result"
    }
   ],
   "source": [
    "df.loc[df.assignment.isna(), \"mz_max\"].round(2).value_counts()"
   ]
  },
  {
   "cell_type": "markdown",
   "id": "5d88d1a3-3d38-4e64-95d2-b00a902aae4d",
   "metadata": {
    "jp-MarkdownHeadingCollapsed": true,
    "tags": []
   },
   "source": [
    "#### m/z 128.11"
   ]
  },
  {
   "cell_type": "code",
   "execution_count": 33,
   "id": "cc5e5f04-bca7-4170-975e-b858ad1d86e8",
   "metadata": {
    "tags": [],
    "ExecuteTime": {
     "end_time": "2023-06-16T13:13:34.003477Z",
     "start_time": "2023-06-16T13:13:33.968102Z"
    }
   },
   "outputs": [
    {
     "data": {
      "text/plain": "count    78398.000000\nmean       128.106494\nstd          0.000541\nmin        128.105000\n25%        128.106200\n50%        128.106400\n75%        128.106700\nmax        128.109000\nName: mz_max, dtype: float64"
     },
     "execution_count": 33,
     "metadata": {},
     "output_type": "execute_result"
    }
   ],
   "source": [
    "# what mass exactly do we observe?\n",
    "df.loc[df[\"mz_max\"].between(128.105, 128.109), \"mz_max\"].describe()"
   ]
  },
  {
   "cell_type": "code",
   "execution_count": 34,
   "id": "33673c65-bef3-4321-98be-3a4856555227",
   "metadata": {
    "tags": [],
    "ExecuteTime": {
     "end_time": "2023-06-16T13:13:48.440690Z",
     "start_time": "2023-06-16T13:13:48.382019Z"
    }
   },
   "outputs": [
    {
     "data": {
      "text/plain": "count    78398.000000\nmean       202.097936\nstd         44.703646\nmin         44.000000\n25%        183.000000\n50%        185.000000\n75%        189.000000\nmax        388.000000\nName: retention_time_s, dtype: float64"
     },
     "execution_count": 34,
     "metadata": {},
     "output_type": "execute_result"
    }
   ],
   "source": [
    "# when does the 128.1064 peak occur?\n",
    "df.loc[df[\"mz_max\"].between(128.105, 128.109), \"retention_time_s\"].describe()"
   ]
  },
  {
   "cell_type": "markdown",
   "id": "92aa18a4-7414-4cfb-a3a9-f12c9fa895b7",
   "metadata": {},
   "source": [
    "An m/z of 128.1064 corrsponds to C7H13NO (calc m/z 128.1070)\n",
    "This could e.g. be 2-azacyclooctanone.\n",
    "\n",
    "The peak usually occurs after 184 seconds. We will assign anything with ±15s and ±0.002 m/z to this formula\n"
   ]
  },
  {
   "cell_type": "code",
   "execution_count": 35,
   "id": "4ac3f4d5-d149-4fb9-b710-0ae2511ead65",
   "metadata": {
    "tags": [],
    "ExecuteTime": {
     "end_time": "2023-06-16T13:13:52.735719Z",
     "start_time": "2023-06-16T13:13:52.538779Z"
    }
   },
   "outputs": [],
   "source": [
    "# assign\n",
    "peak_ids = df.loc[df[\"mz_max\"].between(128.105, 128.109) & df[\"retention_time_s\"].between(169, 199), \"peak_id\"].to_numpy()\n",
    "with con.con:\n",
    "    con.con.executemany('INSERT INTO lcms_peaks_assignment (peak_id, assignment) VALUES (?, \"common contaminant C7H13NO\");', peak_ids[:, None].tolist())"
   ]
  },
  {
   "cell_type": "code",
   "execution_count": 36,
   "id": "d808f7f5-2b33-4ead-a778-fa793876104b",
   "metadata": {
    "tags": [],
    "ExecuteTime": {
     "end_time": "2023-06-16T13:13:57.025926Z",
     "start_time": "2023-06-16T13:13:56.913170Z"
    }
   },
   "outputs": [
    {
     "data": {
      "text/plain": "         peak_id  reaction_id  peak_nr  retention_time_s   area  intensity  \\\n444          445        86392       50               302   1399       3947   \n485          486        86413       32               249   4175       2389   \n627          628        86201       13               201  29472      10757   \n657          658        86201       43               310    476       1841   \n659          660        86201       45               314   2394       1152   \n...          ...          ...      ...               ...    ...        ...   \n3116160  3116161        70085       41               268   1512       1794   \n3116402  3116403        70001       17               208   2132       1199   \n3117415  3117416        69925       18               200     32          2   \n3117549  3117550        69916       22               200     33          2   \n3118201  3118202        69938       16               217     43          2   \n\n         signal_to_noise    mz_max  fwhm_min     %area  %intensity assignment  \n444                  1.7  128.1064     0.013  0.053290        4.06       None  \n485                 21.6  128.1066     0.029  0.053340        0.13       None  \n627                135.0  128.1066     0.037  0.204459        0.24       None  \n657                 23.1  128.1065     0.004  0.003304        0.04       None  \n659                 15.5  128.1063     0.037  0.016613        0.03       None  \n...                  ...       ...       ...       ...         ...        ...  \n3116160             17.3  128.1077     0.017  0.006253        0.06       None  \n3116402             14.3  128.1060     0.022  0.009843        0.03       None  \n3117415            209.7  128.1065     0.061  0.000152        0.00       None  \n3117549            297.4  128.1064     0.141  0.000170        0.00       None  \n3118201            143.2  128.1065     0.053  0.000208        0.00       None  \n\n[16089 rows x 12 columns]",
      "text/html": "<div>\n<style scoped>\n    .dataframe tbody tr th:only-of-type {\n        vertical-align: middle;\n    }\n\n    .dataframe tbody tr th {\n        vertical-align: top;\n    }\n\n    .dataframe thead th {\n        text-align: right;\n    }\n</style>\n<table border=\"1\" class=\"dataframe\">\n  <thead>\n    <tr style=\"text-align: right;\">\n      <th></th>\n      <th>peak_id</th>\n      <th>reaction_id</th>\n      <th>peak_nr</th>\n      <th>retention_time_s</th>\n      <th>area</th>\n      <th>intensity</th>\n      <th>signal_to_noise</th>\n      <th>mz_max</th>\n      <th>fwhm_min</th>\n      <th>%area</th>\n      <th>%intensity</th>\n      <th>assignment</th>\n    </tr>\n  </thead>\n  <tbody>\n    <tr>\n      <th>444</th>\n      <td>445</td>\n      <td>86392</td>\n      <td>50</td>\n      <td>302</td>\n      <td>1399</td>\n      <td>3947</td>\n      <td>1.7</td>\n      <td>128.1064</td>\n      <td>0.013</td>\n      <td>0.053290</td>\n      <td>4.06</td>\n      <td>None</td>\n    </tr>\n    <tr>\n      <th>485</th>\n      <td>486</td>\n      <td>86413</td>\n      <td>32</td>\n      <td>249</td>\n      <td>4175</td>\n      <td>2389</td>\n      <td>21.6</td>\n      <td>128.1066</td>\n      <td>0.029</td>\n      <td>0.053340</td>\n      <td>0.13</td>\n      <td>None</td>\n    </tr>\n    <tr>\n      <th>627</th>\n      <td>628</td>\n      <td>86201</td>\n      <td>13</td>\n      <td>201</td>\n      <td>29472</td>\n      <td>10757</td>\n      <td>135.0</td>\n      <td>128.1066</td>\n      <td>0.037</td>\n      <td>0.204459</td>\n      <td>0.24</td>\n      <td>None</td>\n    </tr>\n    <tr>\n      <th>657</th>\n      <td>658</td>\n      <td>86201</td>\n      <td>43</td>\n      <td>310</td>\n      <td>476</td>\n      <td>1841</td>\n      <td>23.1</td>\n      <td>128.1065</td>\n      <td>0.004</td>\n      <td>0.003304</td>\n      <td>0.04</td>\n      <td>None</td>\n    </tr>\n    <tr>\n      <th>659</th>\n      <td>660</td>\n      <td>86201</td>\n      <td>45</td>\n      <td>314</td>\n      <td>2394</td>\n      <td>1152</td>\n      <td>15.5</td>\n      <td>128.1063</td>\n      <td>0.037</td>\n      <td>0.016613</td>\n      <td>0.03</td>\n      <td>None</td>\n    </tr>\n    <tr>\n      <th>...</th>\n      <td>...</td>\n      <td>...</td>\n      <td>...</td>\n      <td>...</td>\n      <td>...</td>\n      <td>...</td>\n      <td>...</td>\n      <td>...</td>\n      <td>...</td>\n      <td>...</td>\n      <td>...</td>\n      <td>...</td>\n    </tr>\n    <tr>\n      <th>3116160</th>\n      <td>3116161</td>\n      <td>70085</td>\n      <td>41</td>\n      <td>268</td>\n      <td>1512</td>\n      <td>1794</td>\n      <td>17.3</td>\n      <td>128.1077</td>\n      <td>0.017</td>\n      <td>0.006253</td>\n      <td>0.06</td>\n      <td>None</td>\n    </tr>\n    <tr>\n      <th>3116402</th>\n      <td>3116403</td>\n      <td>70001</td>\n      <td>17</td>\n      <td>208</td>\n      <td>2132</td>\n      <td>1199</td>\n      <td>14.3</td>\n      <td>128.1060</td>\n      <td>0.022</td>\n      <td>0.009843</td>\n      <td>0.03</td>\n      <td>None</td>\n    </tr>\n    <tr>\n      <th>3117415</th>\n      <td>3117416</td>\n      <td>69925</td>\n      <td>18</td>\n      <td>200</td>\n      <td>32</td>\n      <td>2</td>\n      <td>209.7</td>\n      <td>128.1065</td>\n      <td>0.061</td>\n      <td>0.000152</td>\n      <td>0.00</td>\n      <td>None</td>\n    </tr>\n    <tr>\n      <th>3117549</th>\n      <td>3117550</td>\n      <td>69916</td>\n      <td>22</td>\n      <td>200</td>\n      <td>33</td>\n      <td>2</td>\n      <td>297.4</td>\n      <td>128.1064</td>\n      <td>0.141</td>\n      <td>0.000170</td>\n      <td>0.00</td>\n      <td>None</td>\n    </tr>\n    <tr>\n      <th>3118201</th>\n      <td>3118202</td>\n      <td>69938</td>\n      <td>16</td>\n      <td>217</td>\n      <td>43</td>\n      <td>2</td>\n      <td>143.2</td>\n      <td>128.1065</td>\n      <td>0.053</td>\n      <td>0.000208</td>\n      <td>0.00</td>\n      <td>None</td>\n    </tr>\n  </tbody>\n</table>\n<p>16089 rows × 12 columns</p>\n</div>"
     },
     "execution_count": 36,
     "metadata": {},
     "output_type": "execute_result"
    }
   ],
   "source": [
    "# assign\n",
    "df.loc[df[\"mz_max\"].between(128.105, 128.109) & ~df[\"retention_time_s\"].between(169, 199)]"
   ]
  },
  {
   "cell_type": "markdown",
   "id": "f05c5e88-7bf1-45ee-a01b-deb02a6e740f",
   "metadata": {
    "jp-MarkdownHeadingCollapsed": true,
    "tags": []
   },
   "source": [
    "#### m/z 185.11"
   ]
  },
  {
   "cell_type": "code",
   "execution_count": 37,
   "id": "fd7fe6f9-73c2-425e-bbdb-2c83a5deabb0",
   "metadata": {
    "tags": [],
    "ExecuteTime": {
     "end_time": "2023-06-16T13:14:00.840663Z",
     "start_time": "2023-06-16T13:14:00.812561Z"
    }
   },
   "outputs": [
    {
     "data": {
      "text/plain": "count    53431.000000\nmean       185.114160\nstd          0.000348\nmin        185.106300\n25%        185.113900\n50%        185.114100\n75%        185.114400\nmax        185.118500\nName: mz_max, dtype: float64"
     },
     "execution_count": 37,
     "metadata": {},
     "output_type": "execute_result"
    }
   ],
   "source": [
    "# what mass exactly do we observe?\n",
    "df.loc[df[\"mz_max\"].between(185.10, 185.12), \"mz_max\"].describe()"
   ]
  },
  {
   "cell_type": "code",
   "execution_count": 38,
   "id": "3e15460f-52df-4b07-9cae-82e1f0540323",
   "metadata": {
    "tags": [],
    "ExecuteTime": {
     "end_time": "2023-06-16T13:14:01.591610Z",
     "start_time": "2023-06-16T13:14:01.565471Z"
    }
   },
   "outputs": [
    {
     "data": {
      "text/plain": "count    53303.000000\nmean       196.797460\nstd          4.850153\nmin         64.000000\n25%        193.000000\n50%        198.000000\n75%        200.000000\nmax        326.000000\nName: retention_time_s, dtype: float64"
     },
     "execution_count": 38,
     "metadata": {},
     "output_type": "execute_result"
    }
   ],
   "source": [
    "# when does the 185.1141 peak occur?\n",
    "df.loc[df[\"mz_max\"].between(185.1121, 185.1161), \"retention_time_s\"].describe()"
   ]
  },
  {
   "cell_type": "markdown",
   "id": "cb3d876f-735f-499f-9f7c-1b5879c3b7e8",
   "metadata": {},
   "source": [
    "An m/z of 185.1141 could correspond to C8H18O3Na+ (calc m/z 185.1148)\n",
    "This could e.g. be diethyl-diethyleneglycol (or other short PEG chains) which are common LCMS contaiminants\n",
    "\n",
    "The peak usually occurs after 198 seconds. We will assign anything with ±15s and ±0.002 m/z to this formula\n"
   ]
  },
  {
   "cell_type": "code",
   "execution_count": 39,
   "id": "9ced6871-92d6-43b0-b5e5-759f9c77ff06",
   "metadata": {
    "tags": [],
    "ExecuteTime": {
     "end_time": "2023-06-16T13:14:03.633659Z",
     "start_time": "2023-06-16T13:14:02.998788Z"
    }
   },
   "outputs": [],
   "source": [
    "# assign\n",
    "peak_ids = df.loc[df[\"mz_max\"].between(185.1128, 185.1168) & df[\"retention_time_s\"].between(183, 213), \"peak_id\"].to_numpy()\n",
    "with con.con:\n",
    "    con.con.executemany('INSERT INTO lcms_peaks_assignment (peak_id, assignment) VALUES (?, \"common PEG contaminant\");', peak_ids[:, None].tolist())"
   ]
  },
  {
   "cell_type": "markdown",
   "id": "289a81a0-c0a8-4e39-aaf9-637d9ea13d7b",
   "metadata": {
    "jp-MarkdownHeadingCollapsed": true,
    "tags": []
   },
   "source": [
    "#### m/z 239.09"
   ]
  },
  {
   "cell_type": "code",
   "execution_count": 40,
   "id": "30fa032e-e1d2-4598-a33f-646179fa9d09",
   "metadata": {
    "tags": [],
    "ExecuteTime": {
     "end_time": "2023-06-16T13:14:04.402023Z",
     "start_time": "2023-06-16T13:14:04.362383Z"
    }
   },
   "outputs": [
    {
     "data": {
      "text/plain": "count    37169.000000\nmean       239.088666\nstd          0.000433\nmin        239.080700\n25%        239.088400\n50%        239.088600\n75%        239.088900\nmax        239.099500\nName: mz_max, dtype: float64"
     },
     "execution_count": 40,
     "metadata": {},
     "output_type": "execute_result"
    }
   ],
   "source": [
    "# what mass exactly do we observe?\n",
    "df.loc[df[\"mz_max\"].between(239.08, 239.10), \"mz_max\"].describe()"
   ]
  },
  {
   "cell_type": "code",
   "execution_count": 41,
   "id": "bdacb3d4-ac69-4000-b8a6-d78b04405733",
   "metadata": {
    "tags": [],
    "ExecuteTime": {
     "end_time": "2023-06-16T13:14:05.054077Z",
     "start_time": "2023-06-16T13:14:04.998212Z"
    }
   },
   "outputs": [
    {
     "data": {
      "text/plain": "count    36976.000000\nmean       196.820532\nstd          3.800570\nmin         46.000000\n25%        196.000000\n50%        197.000000\n75%        198.000000\nmax        297.000000\nName: retention_time_s, dtype: float64"
     },
     "execution_count": 41,
     "metadata": {},
     "output_type": "execute_result"
    }
   ],
   "source": [
    "# when does the 239.0885 peak occur?\n",
    "df.loc[df[\"mz_max\"].between(239.0865, 239.0905), \"retention_time_s\"].describe()"
   ]
  },
  {
   "cell_type": "markdown",
   "id": "fbb2a855-2088-4de8-bffd-39dee7b55c2b",
   "metadata": {},
   "source": [
    "An m/z of 239.0885 could correspond to many different compounds.\n",
    "The peak usually occurs after 196 seconds. We will assign anything with ±15s and ±0.002 m/z to \"common contaminant\"\n"
   ]
  },
  {
   "cell_type": "code",
   "execution_count": 42,
   "id": "e3244c94-7526-4446-802a-91de62fd3546",
   "metadata": {
    "tags": [],
    "ExecuteTime": {
     "end_time": "2023-06-16T13:14:06.985807Z",
     "start_time": "2023-06-16T13:14:06.775421Z"
    }
   },
   "outputs": [],
   "source": [
    "# assign\n",
    "peak_ids = df.loc[df[\"mz_max\"].between(239.0865, 239.0905) & df[\"retention_time_s\"].between(181, 211), \"peak_id\"].to_numpy()\n",
    "with con.con:\n",
    "    con.con.executemany('INSERT INTO lcms_peaks_assignment (peak_id, assignment) VALUES (?, \"common contaminant\");', peak_ids[:, None].tolist())"
   ]
  },
  {
   "cell_type": "markdown",
   "id": "b97ec07e-29ed-4f58-a356-9a68038aeeb5",
   "metadata": {},
   "source": [
    "## Identify systematic mass differences [DRAFT]\n",
    "Here's an idea how to go about identifying systematic mass differences:\n",
    "Identify those records, where a certain mass difference (e.g. delta_T) is within a narrow span, but which use different (relevant) building blocks, in the example different terminators.\n",
    "Rationale: If the observed m/z is dependent on terminator mass, the responsible species contains the terminator in some form."
   ]
  },
  {
   "cell_type": "code",
   "execution_count": 43,
   "outputs": [],
   "source": [
    "reaction_ids = con.get_reaction_ids_for_building_block(filter_exp_nr=(4, 29))\n",
    "df = pd.concat([con.get_lcms_peaks(i, with_delta=True, with_assignment=True, with_building_blocks=True) for i in reaction_ids]).reset_index(drop=True)"
   ],
   "metadata": {
    "collapsed": false,
    "ExecuteTime": {
     "end_time": "2023-06-16T13:14:49.474810Z",
     "start_time": "2023-06-16T13:14:23.255546Z"
    }
   }
  },
  {
   "cell_type": "code",
   "execution_count": 44,
   "outputs": [
    {
     "data": {
      "text/plain": "            id experiment_id peak_nr retention_time_s     area intensity  \\\n2       522750         10578     187              343  5609629   2104344   \n4       524156         10579     115              245   371927     72549   \n7       516525         10580     162              362   917843    223037   \n8       516528         10580     165              362   520875    203617   \n10      532645         10581     110              274   362967     89435   \n...        ...           ...     ...              ...      ...       ...   \n205656  401424         85521      28              267   444307    136591   \n205657  401428         85521      32              274   140629     47175   \n205658  401431         85521      35              293   124932     41486   \n205659  401434         85521      38              305   131011     48852   \n205660  401435         85521      39              326   128159     28325   \n\n        signal_to_noise    mz_max  fwhm_min     %area  ...   delta_bAA  \\\n2                 826.3  259.1262     0.041  86.13517  ...   40.987512   \n4                  35.9  274.2743     0.088   5.57669  ...   56.135612   \n7                3555.3  588.0722     0.060  13.73421  ...  369.933512   \n8                  89.5  588.0721     0.051   7.79416  ...  369.933412   \n10                 31.9  405.1966     0.068   5.07251  ...  187.057912   \n...                 ...       ...       ...       ...  ...         ...   \n205656             59.2  475.1570     0.043  25.84048  ...  291.080167   \n205657             20.2  473.1438     0.041   8.17887  ...  289.066967   \n205658             17.4  691.2559     0.043   7.26593  ...  507.179067   \n205659             20.3  711.2244     0.043   7.61949  ...  527.147567   \n205660             10.9  282.1698     0.070   7.45362  ...   98.092967   \n\n           delta_A     delta_B     delta_C     delta_D     delta_E  \\\n2      -239.035070 -285.040550 -267.029985  -39.914227  -31.968849   \n4      -187.861818 -233.867298 -215.856733   11.259025   55.229555   \n7        48.004524    1.999045   20.009610  247.125368  213.164340   \n8        48.004424    1.998945   20.009510  247.125268  213.164240   \n10     -109.991220 -155.996699 -137.986134   89.129624   80.048452   \n...            ...         ...         ...         ...         ...   \n205656   55.998207    9.992728   28.003293  221.057200  198.074229   \n205657   53.985007    7.979528   25.990093  219.044000  196.061029   \n205658  272.097107  226.091628  244.102193  437.156100  414.173129   \n205659  292.065607  246.060128  264.070693  457.124600  434.141629   \n205660 -136.988993 -182.994472 -164.983907   28.070000    5.087029   \n\n           delta_F     delta_G     delta_H  assignment  \n2      -124.994645  -96.999730  -84.021279        None  \n4      -109.846545  -81.851630  -32.848027        None  \n7       203.951355  231.946270  203.018316        None  \n8       203.951255  231.946170  203.018216        None  \n10       21.075755   49.070670   45.022572        None  \n...            ...         ...         ...         ...  \n205656  131.027734  159.022648  205.082271        None  \n205657  129.014534  157.009448  203.069071        None  \n205658  347.126634  375.121548  421.181171        None  \n205659  367.095134  395.090048  441.149671        None  \n205660  -61.959466  -33.964552   12.095071        None  \n\n[76641 rows x 28 columns]",
      "text/html": "<div>\n<style scoped>\n    .dataframe tbody tr th:only-of-type {\n        vertical-align: middle;\n    }\n\n    .dataframe tbody tr th {\n        vertical-align: top;\n    }\n\n    .dataframe thead th {\n        text-align: right;\n    }\n</style>\n<table border=\"1\" class=\"dataframe\">\n  <thead>\n    <tr style=\"text-align: right;\">\n      <th></th>\n      <th>id</th>\n      <th>experiment_id</th>\n      <th>peak_nr</th>\n      <th>retention_time_s</th>\n      <th>area</th>\n      <th>intensity</th>\n      <th>signal_to_noise</th>\n      <th>mz_max</th>\n      <th>fwhm_min</th>\n      <th>%area</th>\n      <th>...</th>\n      <th>delta_bAA</th>\n      <th>delta_A</th>\n      <th>delta_B</th>\n      <th>delta_C</th>\n      <th>delta_D</th>\n      <th>delta_E</th>\n      <th>delta_F</th>\n      <th>delta_G</th>\n      <th>delta_H</th>\n      <th>assignment</th>\n    </tr>\n  </thead>\n  <tbody>\n    <tr>\n      <th>2</th>\n      <td>522750</td>\n      <td>10578</td>\n      <td>187</td>\n      <td>343</td>\n      <td>5609629</td>\n      <td>2104344</td>\n      <td>826.3</td>\n      <td>259.1262</td>\n      <td>0.041</td>\n      <td>86.13517</td>\n      <td>...</td>\n      <td>40.987512</td>\n      <td>-239.035070</td>\n      <td>-285.040550</td>\n      <td>-267.029985</td>\n      <td>-39.914227</td>\n      <td>-31.968849</td>\n      <td>-124.994645</td>\n      <td>-96.999730</td>\n      <td>-84.021279</td>\n      <td>None</td>\n    </tr>\n    <tr>\n      <th>4</th>\n      <td>524156</td>\n      <td>10579</td>\n      <td>115</td>\n      <td>245</td>\n      <td>371927</td>\n      <td>72549</td>\n      <td>35.9</td>\n      <td>274.2743</td>\n      <td>0.088</td>\n      <td>5.57669</td>\n      <td>...</td>\n      <td>56.135612</td>\n      <td>-187.861818</td>\n      <td>-233.867298</td>\n      <td>-215.856733</td>\n      <td>11.259025</td>\n      <td>55.229555</td>\n      <td>-109.846545</td>\n      <td>-81.851630</td>\n      <td>-32.848027</td>\n      <td>None</td>\n    </tr>\n    <tr>\n      <th>7</th>\n      <td>516525</td>\n      <td>10580</td>\n      <td>162</td>\n      <td>362</td>\n      <td>917843</td>\n      <td>223037</td>\n      <td>3555.3</td>\n      <td>588.0722</td>\n      <td>0.060</td>\n      <td>13.73421</td>\n      <td>...</td>\n      <td>369.933512</td>\n      <td>48.004524</td>\n      <td>1.999045</td>\n      <td>20.009610</td>\n      <td>247.125368</td>\n      <td>213.164340</td>\n      <td>203.951355</td>\n      <td>231.946270</td>\n      <td>203.018316</td>\n      <td>None</td>\n    </tr>\n    <tr>\n      <th>8</th>\n      <td>516528</td>\n      <td>10580</td>\n      <td>165</td>\n      <td>362</td>\n      <td>520875</td>\n      <td>203617</td>\n      <td>89.5</td>\n      <td>588.0721</td>\n      <td>0.051</td>\n      <td>7.79416</td>\n      <td>...</td>\n      <td>369.933412</td>\n      <td>48.004424</td>\n      <td>1.998945</td>\n      <td>20.009510</td>\n      <td>247.125268</td>\n      <td>213.164240</td>\n      <td>203.951255</td>\n      <td>231.946170</td>\n      <td>203.018216</td>\n      <td>None</td>\n    </tr>\n    <tr>\n      <th>10</th>\n      <td>532645</td>\n      <td>10581</td>\n      <td>110</td>\n      <td>274</td>\n      <td>362967</td>\n      <td>89435</td>\n      <td>31.9</td>\n      <td>405.1966</td>\n      <td>0.068</td>\n      <td>5.07251</td>\n      <td>...</td>\n      <td>187.057912</td>\n      <td>-109.991220</td>\n      <td>-155.996699</td>\n      <td>-137.986134</td>\n      <td>89.129624</td>\n      <td>80.048452</td>\n      <td>21.075755</td>\n      <td>49.070670</td>\n      <td>45.022572</td>\n      <td>None</td>\n    </tr>\n    <tr>\n      <th>...</th>\n      <td>...</td>\n      <td>...</td>\n      <td>...</td>\n      <td>...</td>\n      <td>...</td>\n      <td>...</td>\n      <td>...</td>\n      <td>...</td>\n      <td>...</td>\n      <td>...</td>\n      <td>...</td>\n      <td>...</td>\n      <td>...</td>\n      <td>...</td>\n      <td>...</td>\n      <td>...</td>\n      <td>...</td>\n      <td>...</td>\n      <td>...</td>\n      <td>...</td>\n      <td>...</td>\n    </tr>\n    <tr>\n      <th>205656</th>\n      <td>401424</td>\n      <td>85521</td>\n      <td>28</td>\n      <td>267</td>\n      <td>444307</td>\n      <td>136591</td>\n      <td>59.2</td>\n      <td>475.1570</td>\n      <td>0.043</td>\n      <td>25.84048</td>\n      <td>...</td>\n      <td>291.080167</td>\n      <td>55.998207</td>\n      <td>9.992728</td>\n      <td>28.003293</td>\n      <td>221.057200</td>\n      <td>198.074229</td>\n      <td>131.027734</td>\n      <td>159.022648</td>\n      <td>205.082271</td>\n      <td>None</td>\n    </tr>\n    <tr>\n      <th>205657</th>\n      <td>401428</td>\n      <td>85521</td>\n      <td>32</td>\n      <td>274</td>\n      <td>140629</td>\n      <td>47175</td>\n      <td>20.2</td>\n      <td>473.1438</td>\n      <td>0.041</td>\n      <td>8.17887</td>\n      <td>...</td>\n      <td>289.066967</td>\n      <td>53.985007</td>\n      <td>7.979528</td>\n      <td>25.990093</td>\n      <td>219.044000</td>\n      <td>196.061029</td>\n      <td>129.014534</td>\n      <td>157.009448</td>\n      <td>203.069071</td>\n      <td>None</td>\n    </tr>\n    <tr>\n      <th>205658</th>\n      <td>401431</td>\n      <td>85521</td>\n      <td>35</td>\n      <td>293</td>\n      <td>124932</td>\n      <td>41486</td>\n      <td>17.4</td>\n      <td>691.2559</td>\n      <td>0.043</td>\n      <td>7.26593</td>\n      <td>...</td>\n      <td>507.179067</td>\n      <td>272.097107</td>\n      <td>226.091628</td>\n      <td>244.102193</td>\n      <td>437.156100</td>\n      <td>414.173129</td>\n      <td>347.126634</td>\n      <td>375.121548</td>\n      <td>421.181171</td>\n      <td>None</td>\n    </tr>\n    <tr>\n      <th>205659</th>\n      <td>401434</td>\n      <td>85521</td>\n      <td>38</td>\n      <td>305</td>\n      <td>131011</td>\n      <td>48852</td>\n      <td>20.3</td>\n      <td>711.2244</td>\n      <td>0.043</td>\n      <td>7.61949</td>\n      <td>...</td>\n      <td>527.147567</td>\n      <td>292.065607</td>\n      <td>246.060128</td>\n      <td>264.070693</td>\n      <td>457.124600</td>\n      <td>434.141629</td>\n      <td>367.095134</td>\n      <td>395.090048</td>\n      <td>441.149671</td>\n      <td>None</td>\n    </tr>\n    <tr>\n      <th>205660</th>\n      <td>401435</td>\n      <td>85521</td>\n      <td>39</td>\n      <td>326</td>\n      <td>128159</td>\n      <td>28325</td>\n      <td>10.9</td>\n      <td>282.1698</td>\n      <td>0.070</td>\n      <td>7.45362</td>\n      <td>...</td>\n      <td>98.092967</td>\n      <td>-136.988993</td>\n      <td>-182.994472</td>\n      <td>-164.983907</td>\n      <td>28.070000</td>\n      <td>5.087029</td>\n      <td>-61.959466</td>\n      <td>-33.964552</td>\n      <td>12.095071</td>\n      <td>None</td>\n    </tr>\n  </tbody>\n</table>\n<p>76641 rows × 28 columns</p>\n</div>"
     },
     "execution_count": 44,
     "metadata": {},
     "output_type": "execute_result"
    }
   ],
   "source": [
    "# filter a bit: only unidentified peaks, and only those with a retention time > 4 min (240 s), and only with an m/z over 200\n",
    "df = df.loc[df[\"assignment\"].isna() & (df[\"retention_time_s\"] > 240) & (df[\"mz_max\"] > 200)]\n",
    "df"
   ],
   "metadata": {
    "collapsed": false,
    "ExecuteTime": {
     "end_time": "2023-06-16T13:16:19.296771Z",
     "start_time": "2023-06-16T13:16:19.204106Z"
    }
   }
  },
  {
   "cell_type": "code",
   "execution_count": 45,
   "outputs": [
    {
     "data": {
      "text/plain": "delta_T\n-91.91         [T26]\n-90.93         [T26]\n-84.94         [T26]\n-81.89         [T26]\n-80.98         [T26]\n             ...    \n 803.27    [T21, T2]\n 804.26        [T39]\n 807.24        [T18]\n 821.26         [T1]\n 841.22         [T1]\nName: terminator, Length: 6404, dtype: object"
     },
     "execution_count": 45,
     "metadata": {},
     "output_type": "execute_result"
    }
   ],
   "source": [
    "# get unique differences\n",
    "t_diff = df.round(2).groupby(\"delta_T\")[\"terminator\"].unique()\n",
    "t_diff"
   ],
   "metadata": {
    "collapsed": false,
    "ExecuteTime": {
     "end_time": "2023-06-16T13:16:27.640068Z",
     "start_time": "2023-06-16T13:16:27.421669Z"
    }
   }
  },
  {
   "cell_type": "code",
   "execution_count": 46,
   "outputs": [
    {
     "data": {
      "text/plain": "delta_T\n80.06     [T25, T34, T18, T22, T36, T1, T28, T32, T31, T...\n103.01    [T18, T12, T2, T11, T29, T19, T33, T5, T26, T4...\n110.02    [T25, T39, T34, T17, T36, T18, T22, T1, T23, T...\n153.02    [T25, T1, T8, T18, T22, T7, T3, T12, T2, T11, ...\n166.92    [T31, T40, T20, T7, T3, T34, T39, T17, T36, T1...\nName: terminator, dtype: object"
     },
     "execution_count": 46,
     "metadata": {},
     "output_type": "execute_result"
    }
   ],
   "source": [
    "t_diff.loc[t_diff.apply(lambda x: len(x) > 20)]"
   ],
   "metadata": {
    "collapsed": false,
    "ExecuteTime": {
     "end_time": "2023-06-16T13:16:38.196074Z",
     "start_time": "2023-06-16T13:16:38.163995Z"
    }
   }
  },
  {
   "cell_type": "code",
   "execution_count": 47,
   "outputs": [
    {
     "data": {
      "text/plain": "            id experiment_id peak_nr retention_time_s     area intensity  \\\n6397    435466         13160      42              344   681948    277515   \n6398    435468         13160      44              344   895042    284261   \n6403    452354         13161      48              274   417192    112765   \n6404    452355         13161      49              274   398529    116612   \n6408    443039         13162      55              335   403455    172618   \n...        ...           ...     ...              ...      ...       ...   \n203114  379448         84915      51              371   414345    142573   \n203125  376386         84917      45              343   825214    330219   \n203126  376387         84917      46              343  1073677    340251   \n204428  393234         85237      48              344   662514    261112   \n204429  393235         85237      49              344   828124    266902   \n\n        signal_to_noise    mz_max  fwhm_min     %area  ...   delta_bAA  \\\n6397              108.0  349.9781     0.043  21.03909  ...  219.891842   \n6398             3795.0  349.9781     0.046  27.61334  ...  219.891842   \n6403             1181.0  360.9690     0.053   6.36450  ...  230.882742   \n6404               48.7  360.9689     0.053   6.07978  ...  230.882642   \n6408               56.5  325.9238     0.042   5.99284  ...  195.837542   \n...                 ...       ...       ...       ...  ...         ...   \n203114           2415.8  387.9546     0.044   6.21591  ...  114.810102   \n203125            124.2  349.9777     0.044  11.96499  ...   76.833202   \n203126           2920.8  349.9778     0.046  15.56751  ...   76.833302   \n204428             74.3  349.9777     0.044   9.35856  ...  165.900867   \n204429           2841.9  349.9777     0.047  11.69795  ...  165.900867   \n\n           delta_A     delta_B     delta_C   delta_D    delta_E     delta_F  \\\n6397   -109.070389 -155.075868 -137.065304  1.998025  50.893221    8.964951   \n6398   -109.070389 -155.075868 -137.065304  1.998025  50.893221    8.964951   \n6403   -109.070321 -155.075801 -137.065236  1.998093  39.902457   19.955851   \n6404   -109.070421 -155.075901 -137.065336  1.997993  39.902357   19.955751   \n6408   -109.070545 -155.076025 -137.065460  1.997869  74.947209  -15.089349   \n...            ...         ...         ...       ...        ...         ...   \n203114 -252.128952 -298.134431 -280.123867  1.997705  12.916081  -96.116792   \n203125 -252.129032 -298.134511 -280.123947  1.997625  50.892821 -134.093692   \n203126 -252.128932 -298.134411 -280.123847  1.997725  50.892921 -134.093592   \n204428 -163.061367 -209.066846 -191.056282  1.997625  50.892821  -45.026027   \n204429 -163.061367 -209.066846 -191.056282  1.997625  50.892821  -45.026027   \n\n           delta_G    delta_H  assignment  \n6397     36.959866  90.888136        None  \n6398     36.959866  90.888136        None  \n6403     47.950766  90.888204        None  \n6404     47.950666  90.888104        None  \n6408     12.905566   90.88798        None  \n...            ...        ...         ...  \n203114  -68.121878 -52.170427        None  \n203125 -106.098778 -52.170507        None  \n203126 -106.098678 -52.170407        None  \n204428  -17.031113  36.897158        None  \n204429  -17.031113  36.897158        None  \n\n[176 rows x 28 columns]",
      "text/html": "<div>\n<style scoped>\n    .dataframe tbody tr th:only-of-type {\n        vertical-align: middle;\n    }\n\n    .dataframe tbody tr th {\n        vertical-align: top;\n    }\n\n    .dataframe thead th {\n        text-align: right;\n    }\n</style>\n<table border=\"1\" class=\"dataframe\">\n  <thead>\n    <tr style=\"text-align: right;\">\n      <th></th>\n      <th>id</th>\n      <th>experiment_id</th>\n      <th>peak_nr</th>\n      <th>retention_time_s</th>\n      <th>area</th>\n      <th>intensity</th>\n      <th>signal_to_noise</th>\n      <th>mz_max</th>\n      <th>fwhm_min</th>\n      <th>%area</th>\n      <th>...</th>\n      <th>delta_bAA</th>\n      <th>delta_A</th>\n      <th>delta_B</th>\n      <th>delta_C</th>\n      <th>delta_D</th>\n      <th>delta_E</th>\n      <th>delta_F</th>\n      <th>delta_G</th>\n      <th>delta_H</th>\n      <th>assignment</th>\n    </tr>\n  </thead>\n  <tbody>\n    <tr>\n      <th>6397</th>\n      <td>435466</td>\n      <td>13160</td>\n      <td>42</td>\n      <td>344</td>\n      <td>681948</td>\n      <td>277515</td>\n      <td>108.0</td>\n      <td>349.9781</td>\n      <td>0.043</td>\n      <td>21.03909</td>\n      <td>...</td>\n      <td>219.891842</td>\n      <td>-109.070389</td>\n      <td>-155.075868</td>\n      <td>-137.065304</td>\n      <td>1.998025</td>\n      <td>50.893221</td>\n      <td>8.964951</td>\n      <td>36.959866</td>\n      <td>90.888136</td>\n      <td>None</td>\n    </tr>\n    <tr>\n      <th>6398</th>\n      <td>435468</td>\n      <td>13160</td>\n      <td>44</td>\n      <td>344</td>\n      <td>895042</td>\n      <td>284261</td>\n      <td>3795.0</td>\n      <td>349.9781</td>\n      <td>0.046</td>\n      <td>27.61334</td>\n      <td>...</td>\n      <td>219.891842</td>\n      <td>-109.070389</td>\n      <td>-155.075868</td>\n      <td>-137.065304</td>\n      <td>1.998025</td>\n      <td>50.893221</td>\n      <td>8.964951</td>\n      <td>36.959866</td>\n      <td>90.888136</td>\n      <td>None</td>\n    </tr>\n    <tr>\n      <th>6403</th>\n      <td>452354</td>\n      <td>13161</td>\n      <td>48</td>\n      <td>274</td>\n      <td>417192</td>\n      <td>112765</td>\n      <td>1181.0</td>\n      <td>360.9690</td>\n      <td>0.053</td>\n      <td>6.36450</td>\n      <td>...</td>\n      <td>230.882742</td>\n      <td>-109.070321</td>\n      <td>-155.075801</td>\n      <td>-137.065236</td>\n      <td>1.998093</td>\n      <td>39.902457</td>\n      <td>19.955851</td>\n      <td>47.950766</td>\n      <td>90.888204</td>\n      <td>None</td>\n    </tr>\n    <tr>\n      <th>6404</th>\n      <td>452355</td>\n      <td>13161</td>\n      <td>49</td>\n      <td>274</td>\n      <td>398529</td>\n      <td>116612</td>\n      <td>48.7</td>\n      <td>360.9689</td>\n      <td>0.053</td>\n      <td>6.07978</td>\n      <td>...</td>\n      <td>230.882642</td>\n      <td>-109.070421</td>\n      <td>-155.075901</td>\n      <td>-137.065336</td>\n      <td>1.997993</td>\n      <td>39.902357</td>\n      <td>19.955751</td>\n      <td>47.950666</td>\n      <td>90.888104</td>\n      <td>None</td>\n    </tr>\n    <tr>\n      <th>6408</th>\n      <td>443039</td>\n      <td>13162</td>\n      <td>55</td>\n      <td>335</td>\n      <td>403455</td>\n      <td>172618</td>\n      <td>56.5</td>\n      <td>325.9238</td>\n      <td>0.042</td>\n      <td>5.99284</td>\n      <td>...</td>\n      <td>195.837542</td>\n      <td>-109.070545</td>\n      <td>-155.076025</td>\n      <td>-137.065460</td>\n      <td>1.997869</td>\n      <td>74.947209</td>\n      <td>-15.089349</td>\n      <td>12.905566</td>\n      <td>90.88798</td>\n      <td>None</td>\n    </tr>\n    <tr>\n      <th>...</th>\n      <td>...</td>\n      <td>...</td>\n      <td>...</td>\n      <td>...</td>\n      <td>...</td>\n      <td>...</td>\n      <td>...</td>\n      <td>...</td>\n      <td>...</td>\n      <td>...</td>\n      <td>...</td>\n      <td>...</td>\n      <td>...</td>\n      <td>...</td>\n      <td>...</td>\n      <td>...</td>\n      <td>...</td>\n      <td>...</td>\n      <td>...</td>\n      <td>...</td>\n      <td>...</td>\n    </tr>\n    <tr>\n      <th>203114</th>\n      <td>379448</td>\n      <td>84915</td>\n      <td>51</td>\n      <td>371</td>\n      <td>414345</td>\n      <td>142573</td>\n      <td>2415.8</td>\n      <td>387.9546</td>\n      <td>0.044</td>\n      <td>6.21591</td>\n      <td>...</td>\n      <td>114.810102</td>\n      <td>-252.128952</td>\n      <td>-298.134431</td>\n      <td>-280.123867</td>\n      <td>1.997705</td>\n      <td>12.916081</td>\n      <td>-96.116792</td>\n      <td>-68.121878</td>\n      <td>-52.170427</td>\n      <td>None</td>\n    </tr>\n    <tr>\n      <th>203125</th>\n      <td>376386</td>\n      <td>84917</td>\n      <td>45</td>\n      <td>343</td>\n      <td>825214</td>\n      <td>330219</td>\n      <td>124.2</td>\n      <td>349.9777</td>\n      <td>0.044</td>\n      <td>11.96499</td>\n      <td>...</td>\n      <td>76.833202</td>\n      <td>-252.129032</td>\n      <td>-298.134511</td>\n      <td>-280.123947</td>\n      <td>1.997625</td>\n      <td>50.892821</td>\n      <td>-134.093692</td>\n      <td>-106.098778</td>\n      <td>-52.170507</td>\n      <td>None</td>\n    </tr>\n    <tr>\n      <th>203126</th>\n      <td>376387</td>\n      <td>84917</td>\n      <td>46</td>\n      <td>343</td>\n      <td>1073677</td>\n      <td>340251</td>\n      <td>2920.8</td>\n      <td>349.9778</td>\n      <td>0.046</td>\n      <td>15.56751</td>\n      <td>...</td>\n      <td>76.833302</td>\n      <td>-252.128932</td>\n      <td>-298.134411</td>\n      <td>-280.123847</td>\n      <td>1.997725</td>\n      <td>50.892921</td>\n      <td>-134.093592</td>\n      <td>-106.098678</td>\n      <td>-52.170407</td>\n      <td>None</td>\n    </tr>\n    <tr>\n      <th>204428</th>\n      <td>393234</td>\n      <td>85237</td>\n      <td>48</td>\n      <td>344</td>\n      <td>662514</td>\n      <td>261112</td>\n      <td>74.3</td>\n      <td>349.9777</td>\n      <td>0.044</td>\n      <td>9.35856</td>\n      <td>...</td>\n      <td>165.900867</td>\n      <td>-163.061367</td>\n      <td>-209.066846</td>\n      <td>-191.056282</td>\n      <td>1.997625</td>\n      <td>50.892821</td>\n      <td>-45.026027</td>\n      <td>-17.031113</td>\n      <td>36.897158</td>\n      <td>None</td>\n    </tr>\n    <tr>\n      <th>204429</th>\n      <td>393235</td>\n      <td>85237</td>\n      <td>49</td>\n      <td>344</td>\n      <td>828124</td>\n      <td>266902</td>\n      <td>2841.9</td>\n      <td>349.9777</td>\n      <td>0.047</td>\n      <td>11.69795</td>\n      <td>...</td>\n      <td>165.900867</td>\n      <td>-163.061367</td>\n      <td>-209.066846</td>\n      <td>-191.056282</td>\n      <td>1.997625</td>\n      <td>50.892821</td>\n      <td>-45.026027</td>\n      <td>-17.031113</td>\n      <td>36.897158</td>\n      <td>None</td>\n    </tr>\n  </tbody>\n</table>\n<p>176 rows × 28 columns</p>\n</div>"
     },
     "execution_count": 47,
     "metadata": {},
     "output_type": "execute_result"
    }
   ],
   "source": [
    "df.loc[df[\"delta_T\"].between(166.915, 166.925)]"
   ],
   "metadata": {
    "collapsed": false,
    "ExecuteTime": {
     "end_time": "2023-06-16T13:17:01.876526Z",
     "start_time": "2023-06-16T13:17:01.846279Z"
    }
   }
  },
  {
   "cell_type": "markdown",
   "source": [
    "These are actually all caused by bromine isotope 81Br. The mass difference to 79Br is 1.9979535, which coincides with delta_T."
   ],
   "metadata": {
    "collapsed": false
   }
  },
  {
   "cell_type": "code",
   "execution_count": 62,
   "outputs": [
    {
     "data": {
      "text/plain": "['I4', 'I11', 'I23', 'I53', 'I68', 'I78', 'M7', 'T5', 'T15', 'I53']"
     },
     "execution_count": 62,
     "metadata": {},
     "output_type": "execute_result"
    }
   ],
   "source": [
    "building_blocks = [x[0] for x in con.con.execute(\"SELECT short FROM building_block_shorts;\").fetchall()]\n",
    "has_bromine = [\"Br\" in con.get_smiles(bb) for bb in building_blocks]\n",
    "building_blocks_with_bromine = [x[0] for x in zip(building_blocks, has_bromine) if x[1]]\n",
    "building_blocks_with_bromine"
   ],
   "metadata": {
    "collapsed": false,
    "ExecuteTime": {
     "end_time": "2023-06-16T13:43:21.343085Z",
     "start_time": "2023-06-16T13:43:21.316854Z"
    }
   }
  },
  {
   "cell_type": "code",
   "execution_count": 63,
   "outputs": [
    {
     "data": {
      "text/plain": "            id experiment_id peak_nr retention_time_s     area intensity  \\\n6397    435466         13160      42              344   681948    277515   \n6398    435468         13160      44              344   895042    284261   \n6403    452354         13161      48              274   417192    112765   \n6404    452355         13161      49              274   398529    116612   \n6408    443039         13162      55              335   403455    172618   \n...        ...           ...     ...              ...      ...       ...   \n203114  379448         84915      51              371   414345    142573   \n203125  376386         84917      45              343   825214    330219   \n203126  376387         84917      46              343  1073677    340251   \n204428  393234         85237      48              344   662514    261112   \n204429  393235         85237      49              344   828124    266902   \n\n        signal_to_noise    mz_max  fwhm_min     %area  ...   delta_bAA  \\\n6397              108.0  349.9781     0.043  21.03909  ...  219.891842   \n6398             3795.0  349.9781     0.046  27.61334  ...  219.891842   \n6403             1181.0  360.9690     0.053   6.36450  ...  230.882742   \n6404               48.7  360.9689     0.053   6.07978  ...  230.882642   \n6408               56.5  325.9238     0.042   5.99284  ...  195.837542   \n...                 ...       ...       ...       ...  ...         ...   \n203114           2415.8  387.9546     0.044   6.21591  ...  114.810102   \n203125            124.2  349.9777     0.044  11.96499  ...   76.833202   \n203126           2920.8  349.9778     0.046  15.56751  ...   76.833302   \n204428             74.3  349.9777     0.044   9.35856  ...  165.900867   \n204429           2841.9  349.9777     0.047  11.69795  ...  165.900867   \n\n           delta_A     delta_B     delta_C   delta_D    delta_E     delta_F  \\\n6397   -109.070389 -155.075868 -137.065304  1.998025  50.893221    8.964951   \n6398   -109.070389 -155.075868 -137.065304  1.998025  50.893221    8.964951   \n6403   -109.070321 -155.075801 -137.065236  1.998093  39.902457   19.955851   \n6404   -109.070421 -155.075901 -137.065336  1.997993  39.902357   19.955751   \n6408   -109.070545 -155.076025 -137.065460  1.997869  74.947209  -15.089349   \n...            ...         ...         ...       ...        ...         ...   \n203114 -252.128952 -298.134431 -280.123867  1.997705  12.916081  -96.116792   \n203125 -252.129032 -298.134511 -280.123947  1.997625  50.892821 -134.093692   \n203126 -252.128932 -298.134411 -280.123847  1.997725  50.892921 -134.093592   \n204428 -163.061367 -209.066846 -191.056282  1.997625  50.892821  -45.026027   \n204429 -163.061367 -209.066846 -191.056282  1.997625  50.892821  -45.026027   \n\n           delta_G    delta_H  assignment  \n6397     36.959866  90.888136        None  \n6398     36.959866  90.888136        None  \n6403     47.950766  90.888204        None  \n6404     47.950666  90.888104        None  \n6408     12.905566   90.88798        None  \n...            ...        ...         ...  \n203114  -68.121878 -52.170427        None  \n203125 -106.098778 -52.170507        None  \n203126 -106.098678 -52.170407        None  \n204428  -17.031113  36.897158        None  \n204429  -17.031113  36.897158        None  \n\n[434 rows x 28 columns]",
      "text/html": "<div>\n<style scoped>\n    .dataframe tbody tr th:only-of-type {\n        vertical-align: middle;\n    }\n\n    .dataframe tbody tr th {\n        vertical-align: top;\n    }\n\n    .dataframe thead th {\n        text-align: right;\n    }\n</style>\n<table border=\"1\" class=\"dataframe\">\n  <thead>\n    <tr style=\"text-align: right;\">\n      <th></th>\n      <th>id</th>\n      <th>experiment_id</th>\n      <th>peak_nr</th>\n      <th>retention_time_s</th>\n      <th>area</th>\n      <th>intensity</th>\n      <th>signal_to_noise</th>\n      <th>mz_max</th>\n      <th>fwhm_min</th>\n      <th>%area</th>\n      <th>...</th>\n      <th>delta_bAA</th>\n      <th>delta_A</th>\n      <th>delta_B</th>\n      <th>delta_C</th>\n      <th>delta_D</th>\n      <th>delta_E</th>\n      <th>delta_F</th>\n      <th>delta_G</th>\n      <th>delta_H</th>\n      <th>assignment</th>\n    </tr>\n  </thead>\n  <tbody>\n    <tr>\n      <th>6397</th>\n      <td>435466</td>\n      <td>13160</td>\n      <td>42</td>\n      <td>344</td>\n      <td>681948</td>\n      <td>277515</td>\n      <td>108.0</td>\n      <td>349.9781</td>\n      <td>0.043</td>\n      <td>21.03909</td>\n      <td>...</td>\n      <td>219.891842</td>\n      <td>-109.070389</td>\n      <td>-155.075868</td>\n      <td>-137.065304</td>\n      <td>1.998025</td>\n      <td>50.893221</td>\n      <td>8.964951</td>\n      <td>36.959866</td>\n      <td>90.888136</td>\n      <td>None</td>\n    </tr>\n    <tr>\n      <th>6398</th>\n      <td>435468</td>\n      <td>13160</td>\n      <td>44</td>\n      <td>344</td>\n      <td>895042</td>\n      <td>284261</td>\n      <td>3795.0</td>\n      <td>349.9781</td>\n      <td>0.046</td>\n      <td>27.61334</td>\n      <td>...</td>\n      <td>219.891842</td>\n      <td>-109.070389</td>\n      <td>-155.075868</td>\n      <td>-137.065304</td>\n      <td>1.998025</td>\n      <td>50.893221</td>\n      <td>8.964951</td>\n      <td>36.959866</td>\n      <td>90.888136</td>\n      <td>None</td>\n    </tr>\n    <tr>\n      <th>6403</th>\n      <td>452354</td>\n      <td>13161</td>\n      <td>48</td>\n      <td>274</td>\n      <td>417192</td>\n      <td>112765</td>\n      <td>1181.0</td>\n      <td>360.9690</td>\n      <td>0.053</td>\n      <td>6.36450</td>\n      <td>...</td>\n      <td>230.882742</td>\n      <td>-109.070321</td>\n      <td>-155.075801</td>\n      <td>-137.065236</td>\n      <td>1.998093</td>\n      <td>39.902457</td>\n      <td>19.955851</td>\n      <td>47.950766</td>\n      <td>90.888204</td>\n      <td>None</td>\n    </tr>\n    <tr>\n      <th>6404</th>\n      <td>452355</td>\n      <td>13161</td>\n      <td>49</td>\n      <td>274</td>\n      <td>398529</td>\n      <td>116612</td>\n      <td>48.7</td>\n      <td>360.9689</td>\n      <td>0.053</td>\n      <td>6.07978</td>\n      <td>...</td>\n      <td>230.882642</td>\n      <td>-109.070421</td>\n      <td>-155.075901</td>\n      <td>-137.065336</td>\n      <td>1.997993</td>\n      <td>39.902357</td>\n      <td>19.955751</td>\n      <td>47.950666</td>\n      <td>90.888104</td>\n      <td>None</td>\n    </tr>\n    <tr>\n      <th>6408</th>\n      <td>443039</td>\n      <td>13162</td>\n      <td>55</td>\n      <td>335</td>\n      <td>403455</td>\n      <td>172618</td>\n      <td>56.5</td>\n      <td>325.9238</td>\n      <td>0.042</td>\n      <td>5.99284</td>\n      <td>...</td>\n      <td>195.837542</td>\n      <td>-109.070545</td>\n      <td>-155.076025</td>\n      <td>-137.065460</td>\n      <td>1.997869</td>\n      <td>74.947209</td>\n      <td>-15.089349</td>\n      <td>12.905566</td>\n      <td>90.88798</td>\n      <td>None</td>\n    </tr>\n    <tr>\n      <th>...</th>\n      <td>...</td>\n      <td>...</td>\n      <td>...</td>\n      <td>...</td>\n      <td>...</td>\n      <td>...</td>\n      <td>...</td>\n      <td>...</td>\n      <td>...</td>\n      <td>...</td>\n      <td>...</td>\n      <td>...</td>\n      <td>...</td>\n      <td>...</td>\n      <td>...</td>\n      <td>...</td>\n      <td>...</td>\n      <td>...</td>\n      <td>...</td>\n      <td>...</td>\n      <td>...</td>\n    </tr>\n    <tr>\n      <th>203114</th>\n      <td>379448</td>\n      <td>84915</td>\n      <td>51</td>\n      <td>371</td>\n      <td>414345</td>\n      <td>142573</td>\n      <td>2415.8</td>\n      <td>387.9546</td>\n      <td>0.044</td>\n      <td>6.21591</td>\n      <td>...</td>\n      <td>114.810102</td>\n      <td>-252.128952</td>\n      <td>-298.134431</td>\n      <td>-280.123867</td>\n      <td>1.997705</td>\n      <td>12.916081</td>\n      <td>-96.116792</td>\n      <td>-68.121878</td>\n      <td>-52.170427</td>\n      <td>None</td>\n    </tr>\n    <tr>\n      <th>203125</th>\n      <td>376386</td>\n      <td>84917</td>\n      <td>45</td>\n      <td>343</td>\n      <td>825214</td>\n      <td>330219</td>\n      <td>124.2</td>\n      <td>349.9777</td>\n      <td>0.044</td>\n      <td>11.96499</td>\n      <td>...</td>\n      <td>76.833202</td>\n      <td>-252.129032</td>\n      <td>-298.134511</td>\n      <td>-280.123947</td>\n      <td>1.997625</td>\n      <td>50.892821</td>\n      <td>-134.093692</td>\n      <td>-106.098778</td>\n      <td>-52.170507</td>\n      <td>None</td>\n    </tr>\n    <tr>\n      <th>203126</th>\n      <td>376387</td>\n      <td>84917</td>\n      <td>46</td>\n      <td>343</td>\n      <td>1073677</td>\n      <td>340251</td>\n      <td>2920.8</td>\n      <td>349.9778</td>\n      <td>0.046</td>\n      <td>15.56751</td>\n      <td>...</td>\n      <td>76.833302</td>\n      <td>-252.128932</td>\n      <td>-298.134411</td>\n      <td>-280.123847</td>\n      <td>1.997725</td>\n      <td>50.892921</td>\n      <td>-134.093592</td>\n      <td>-106.098678</td>\n      <td>-52.170407</td>\n      <td>None</td>\n    </tr>\n    <tr>\n      <th>204428</th>\n      <td>393234</td>\n      <td>85237</td>\n      <td>48</td>\n      <td>344</td>\n      <td>662514</td>\n      <td>261112</td>\n      <td>74.3</td>\n      <td>349.9777</td>\n      <td>0.044</td>\n      <td>9.35856</td>\n      <td>...</td>\n      <td>165.900867</td>\n      <td>-163.061367</td>\n      <td>-209.066846</td>\n      <td>-191.056282</td>\n      <td>1.997625</td>\n      <td>50.892821</td>\n      <td>-45.026027</td>\n      <td>-17.031113</td>\n      <td>36.897158</td>\n      <td>None</td>\n    </tr>\n    <tr>\n      <th>204429</th>\n      <td>393235</td>\n      <td>85237</td>\n      <td>49</td>\n      <td>344</td>\n      <td>828124</td>\n      <td>266902</td>\n      <td>2841.9</td>\n      <td>349.9777</td>\n      <td>0.047</td>\n      <td>11.69795</td>\n      <td>...</td>\n      <td>165.900867</td>\n      <td>-163.061367</td>\n      <td>-209.066846</td>\n      <td>-191.056282</td>\n      <td>1.997625</td>\n      <td>50.892821</td>\n      <td>-45.026027</td>\n      <td>-17.031113</td>\n      <td>36.897158</td>\n      <td>None</td>\n    </tr>\n  </tbody>\n</table>\n<p>434 rows × 28 columns</p>\n</div>"
     },
     "execution_count": 63,
     "metadata": {},
     "output_type": "execute_result"
    }
   ],
   "source": [
    "df.loc[df[\"delta_D\"].between(1.9976, 1.9982) & (df[\"initiator\"].isin(building_blocks_with_bromine) | df[\"terminator\"].isin(building_blocks_with_bromine))]"
   ],
   "metadata": {
    "collapsed": false,
    "ExecuteTime": {
     "end_time": "2023-06-16T13:43:58.884469Z",
     "start_time": "2023-06-16T13:43:58.767349Z"
    }
   }
  },
  {
   "cell_type": "code",
   "execution_count": 52,
   "outputs": [
    {
     "name": "stdout",
     "output_type": "stream",
     "text": [
      "O=C(c1ccc(Br)nc1)[B-](F)(F)F.[K+]\n"
     ]
    },
    {
     "data": {
      "text/plain": "[None]"
     },
     "execution_count": 52,
     "metadata": {},
     "output_type": "execute_result"
    }
   ],
   "source": [
    "[print(con.get_smiles(s)) for s in [\"I11\"]]\n"
   ],
   "metadata": {
    "collapsed": false,
    "ExecuteTime": {
     "end_time": "2023-06-16T13:27:58.998764Z",
     "start_time": "2023-06-16T13:27:58.970167Z"
    }
   }
  },
  {
   "cell_type": "code",
   "execution_count": 48,
   "outputs": [
    {
     "data": {
      "text/plain": "('COc1ccccc1-c1nnc([C@@H]2CCC[C@@H]2NC(=O)c2ccc(Br)cn2)s1',\n 'COc1ccccc1C1=NNC(C(=O)O)([C@@H]2CCC[C@@H]2NC(=O)c2ccc(Br)cn2)S1',\n 'COc1ccccc1C1=N[N+]2=C(c3ccc(Br)cn3)N[C@H]3CCC[C@H]3C2(C(=O)[O-])S1',\n 'COc1ccccc1-c1nnc(-c2ccc(Br)cn2)s1',\n 'COc1ccccc1-c1nnc(-c2ccccc2OC)s1',\n 'O=C(O)C(=O)[C@@H]1CCC[C@@H]1NC(=O)c1ccc(Br)cn1',\n 'O=C(N[C@H]1CCC[C@H]1C(=O)O)c1ccc(Br)cn1',\n 'COc1ccccc1-c1nnc(C2=CCCC2)s1')"
     },
     "execution_count": 48,
     "metadata": {},
     "output_type": "execute_result"
    }
   ],
   "source": [
    "\n",
    "con.get_product_smiles(13160)"
   ],
   "metadata": {
    "collapsed": false,
    "ExecuteTime": {
     "end_time": "2023-06-16T13:24:52.862506Z",
     "start_time": "2023-06-16T13:24:52.841006Z"
    }
   }
  },
  {
   "cell_type": "code",
   "execution_count": 93,
   "outputs": [],
   "source": [
    "# There is an inconsistency here!\n",
    "# The reaction with id 20838 uses initiator I3, and according to the SMILES, this is 2-Pyr005.\n",
    "# However, according to the building blocks table, I3 is Ph002\n",
    "# The culprit is a change that was made after the initial experiment planning that is not reflected in the experiments table\n",
    "\n",
    "# let's check where the things don't align\n",
    "# this pretty confusing query gets the latest version of each building block assignment\n",
    "bb_mapping = con.con.execute(\n",
    "\"\"\"\n",
    "SELECT b.short, b.long\n",
    "FROM building_block_shorts AS b\n",
    "JOIN (\n",
    "  SELECT short, MAX(first_use_exp_nr) AS max_exp\n",
    "  FROM building_block_shorts\n",
    "  GROUP BY short\n",
    ") AS max_exp_table\n",
    "ON b.short = max_exp_table.short AND b.first_use_exp_nr = max_exp_table.max_exp;\n",
    "\"\"\"\n",
    ").fetchall()\n",
    "experiment_bb_mapping = con.con.execute(\"SELECT id, exp_nr, plate_nr, initiator, monomer, terminator, initiator_long, monomer_long, terminator_long FROM experiments;\").fetchall()"
   ],
   "metadata": {
    "collapsed": false,
    "ExecuteTime": {
     "end_time": "2023-06-15T13:47:26.407760Z",
     "start_time": "2023-06-15T13:47:26.167869Z"
    }
   }
  },
  {
   "cell_type": "code",
   "execution_count": 94,
   "outputs": [
    {
     "data": {
      "text/plain": "193"
     },
     "execution_count": 94,
     "metadata": {},
     "output_type": "execute_result"
    }
   ],
   "source": [
    "len(bb_mapping)"
   ],
   "metadata": {
    "collapsed": false,
    "ExecuteTime": {
     "end_time": "2023-06-15T13:47:27.690053Z",
     "start_time": "2023-06-15T13:47:27.683063Z"
    }
   }
  },
  {
   "cell_type": "code",
   "execution_count": 95,
   "outputs": [],
   "source": [
    "bb_mapping = dict(bb_mapping)"
   ],
   "metadata": {
    "collapsed": false,
    "ExecuteTime": {
     "end_time": "2023-06-15T13:47:28.576416Z",
     "start_time": "2023-06-15T13:47:28.566201Z"
    }
   }
  },
  {
   "cell_type": "code",
   "execution_count": 96,
   "outputs": [
    {
     "data": {
      "text/plain": "{'I1': '2-Pyr002',\n 'I2': '2-Pyr003',\n 'I4': '2-Pyr006',\n 'I5': '2-Pyr007',\n 'I6': '2-Pyr008',\n 'I7': '2-Pyr009',\n 'I8': '2-Pyr010',\n 'I9': '2-Thio001',\n 'I10': '3-Fur001',\n 'I11': '3-Pyr002',\n 'I12': '3-Pyr003',\n 'I13': '3-Pyr004',\n 'I14': '3-Thio001',\n 'I15': '4-Pym001',\n 'I17': '4-Pyrazole001',\n 'I18': '4-Pyrazole002',\n 'I19': '5-Quin001',\n 'I20': '6-Quin001',\n 'I21': '8-Quin003',\n 'I22': '8-Quin004',\n 'I23': '8-Quin005',\n 'I24': '8-Quin008',\n 'I25': 'Al001',\n 'I26': 'Al002',\n 'I27': 'Al003',\n 'I28': 'Al004',\n 'I29': 'Al005',\n 'I30': 'Al007',\n 'I31': 'Al013',\n 'I32': 'Al036',\n 'I33': 'Al038',\n 'I34': 'BiAl001',\n 'I35': 'BiAl007',\n 'I36': 'BiAl008',\n 'I37': 'BiAl009',\n 'I38': 'BiPh001',\n 'I39': 'BiPh002',\n 'I41': 'BiPh004',\n 'I43': 'BiPh006',\n 'I44': 'BiPh007',\n 'I45': 'BiPh009',\n 'I46': 'BiPh010',\n 'I47': 'BiPh011',\n 'I49': 'BiPyr002',\n 'I51': 'BiPyr004',\n 'I52': 'Ph001',\n 'I54': 'Ph004',\n 'I55': 'Ph005',\n 'I56': 'Ph006',\n 'I57': 'Ph007',\n 'I58': 'Ph009',\n 'I59': 'Ph010',\n 'I60': 'Ph013',\n 'I63': 'Ph018',\n 'I64': 'Ph020',\n 'I65': 'Ph021',\n 'I66': 'Ph022',\n 'I67': 'Ph023',\n 'I68': 'Ph024',\n 'I69': 'Ph025',\n 'I70': 'Ph026',\n 'I71': 'Ph027',\n 'I72': 'Ph028',\n 'I73': 'Ph030',\n 'I74': 'Ph031',\n 'I76': 'Ph034',\n 'I77': 'Pyrazine001',\n 'I78': 'Pyrazine002',\n 'M1': 'Fused002',\n 'M2': 'Fused005',\n 'M3': 'Fused006',\n 'M4': 'Fused011',\n 'M5': 'Mon096',\n 'M6': 'Fused013',\n 'M7': 'Fused014',\n 'M8': 'Fused015',\n 'M9': 'Mon001',\n 'M10': 'Mon002',\n 'M11': 'Mon003',\n 'M12': 'Mon004',\n 'M13': 'Mon007',\n 'M14': 'Mon011',\n 'M15': 'Mon012',\n 'M16': 'Mon013',\n 'M17': 'Mon014',\n 'M18': 'Mon015',\n 'M19': 'Mon016',\n 'M20': 'Mon017',\n 'M21': 'Mon019',\n 'M22': 'Mon020',\n 'M23': 'Mon021',\n 'M24': 'Mon022',\n 'M25': 'Mon023',\n 'M26': 'Mon030',\n 'M27': 'Mon031',\n 'M28': 'Mon033',\n 'M29': 'Mon036',\n 'M30': 'Mon049',\n 'M31': 'Mon072',\n 'M32': 'Mon074',\n 'M33': 'Mon075',\n 'M34': 'Mon076',\n 'M35': 'Mon077',\n 'M36': 'Mon078',\n 'M37': 'Mon080',\n 'M38': 'Mon081',\n 'M39': 'Mon082',\n 'M40': 'Mon086',\n 'M41': 'Mon087',\n 'M42': 'Mon088',\n 'M43': 'Mon089',\n 'M44': 'Mon090',\n 'M45': 'Mon091',\n 'M46': 'Mon092',\n 'M47': 'Mon093',\n 'M48': 'Mon094',\n 'M49': 'Mon095',\n 'M50': 'Fused012',\n 'M51': 'Mon097',\n 'M52': 'Mon098',\n 'M53': 'Mon099',\n 'M54': 'Mon100',\n 'M55': 'Mon101',\n 'M56': 'Mon102',\n 'M57': 'Mon103',\n 'M58': 'Mon104',\n 'M59': 'Spiro001',\n 'M61': 'Spiro002',\n 'M60': 'Spiro003',\n 'M62': 'Spiro004',\n 'M63': 'Spiro005',\n 'M64': 'Spiro006',\n 'M65': 'Spiro007',\n 'M66': 'Spiro008',\n 'M67': 'Spiro009',\n 'M68': 'Spiro011',\n 'M69': 'Spiro012',\n 'M70': 'Spiro013',\n 'M71': 'Spiro014',\n 'M72': 'Spiro015',\n 'M73': 'Spiro016',\n 'M74': 'Spiro017',\n 'T1': 'TerABT001',\n 'T2': 'TerABT004',\n 'T3': 'TerABT005',\n 'T4': 'TerABT006',\n 'T5': 'TerABT007',\n 'T6': 'TerABT008',\n 'T7': 'TerABT009',\n 'T8': 'TerABT010',\n 'T9': 'TerABT011',\n 'T10': 'TerABT012',\n 'T11': 'TerABT013',\n 'T12': 'TerABT014',\n 'T13': 'TerABT015',\n 'T14': 'TerABT016',\n 'T15': 'TerABT017',\n 'T16': 'TerABT018',\n 'T17': 'TerABT022',\n 'T18': 'TerABT023',\n 'T19': 'TerTH001',\n 'T20': 'TerTH002',\n 'T21': 'TerTH003',\n 'T22': 'TerTH004',\n 'T23': 'TerTH005',\n 'T24': 'TerTH006',\n 'T25': 'TerTH010',\n 'T26': 'TerTH011',\n 'T27': 'TerTH012',\n 'T28': 'TerTH013',\n 'T29': 'TerTH014',\n 'T30': 'TerTH015',\n 'T31': 'TerTH016',\n 'T32': 'TerTH018',\n 'T33': 'TerTH019',\n 'T34': 'TerTH020',\n 'T35': 'TerTH021',\n 'T36': 'TerTH022',\n 'T37': 'TerTH023',\n 'T38': 'TerTH025',\n 'T39': 'TerTH026',\n 'T40': 'TerTH027',\n 'T41': 'TerTH028',\n 'I75': 'BiPh005',\n 'I42': 'Ph033',\n 'I62': 'Ph015',\n 'I61': 'Ph017',\n 'I48': 'BiPh003',\n 'I40': 'BiPyr001',\n 'I50': '4-Pyr002',\n 'I16': 'BiPyr003',\n 'I53': '2-Pyr005',\n 'I3': 'Ph002'}"
     },
     "execution_count": 96,
     "metadata": {},
     "output_type": "execute_result"
    }
   ],
   "source": [
    "bb_mapping"
   ],
   "metadata": {
    "collapsed": false,
    "ExecuteTime": {
     "end_time": "2023-06-15T13:47:29.585319Z",
     "start_time": "2023-06-15T13:47:29.573780Z"
    }
   }
  },
  {
   "cell_type": "code",
   "execution_count": 77,
   "outputs": [],
   "source": [
    "misaligned = []\n",
    "for exp in experiment_bb_mapping:\n",
    "    for i in range(3, 6):\n",
    "        true_long = bb_mapping[exp[i]]\n",
    "        if true_long != exp[i+3]:\n",
    "            misaligned.append([exp[0], exp[1], exp[2], exp[i], true_long, exp[i+3]])\n",
    "misaligned_df = pd.DataFrame(misaligned, columns=[\"experiment_id\", \"exp_nr\", \"plate_nr\", \"short\", \"bb_long\", \"exp_long\"])"
   ],
   "metadata": {
    "collapsed": false,
    "ExecuteTime": {
     "end_time": "2023-06-15T09:30:01.246940Z",
     "start_time": "2023-06-15T09:30:01.193634Z"
    }
   }
  },
  {
   "cell_type": "code",
   "execution_count": 78,
   "outputs": [
    {
     "data": {
      "text/plain": "      experiment_id  exp_nr  plate_nr short bb_long exp_long\n0              2981       2         4   I42   Ph033  BiPh005\n20             3301       2         5   I42   Ph033  BiPh005\n40             3621       2         6   I42   Ph033  BiPh005\n60             6942       3         4   I61   Ph017    Ph015\n80             7262       3         5   I61   Ph017    Ph015\n...             ...     ...       ...   ...     ...      ...\n5120          87494       2         2   I42   Ph033  BiPh005\n5140          87814       2         3   I42   Ph033  BiPh005\n5160          88254       3         1   I61   Ph017    Ph015\n5180          88574       3         2   I61   Ph017    Ph015\n5200          88894       3         3   I61   Ph017    Ph015\n\n[260 rows x 6 columns]",
      "text/html": "<div>\n<style scoped>\n    .dataframe tbody tr th:only-of-type {\n        vertical-align: middle;\n    }\n\n    .dataframe tbody tr th {\n        vertical-align: top;\n    }\n\n    .dataframe thead th {\n        text-align: right;\n    }\n</style>\n<table border=\"1\" class=\"dataframe\">\n  <thead>\n    <tr style=\"text-align: right;\">\n      <th></th>\n      <th>experiment_id</th>\n      <th>exp_nr</th>\n      <th>plate_nr</th>\n      <th>short</th>\n      <th>bb_long</th>\n      <th>exp_long</th>\n    </tr>\n  </thead>\n  <tbody>\n    <tr>\n      <th>0</th>\n      <td>2981</td>\n      <td>2</td>\n      <td>4</td>\n      <td>I42</td>\n      <td>Ph033</td>\n      <td>BiPh005</td>\n    </tr>\n    <tr>\n      <th>20</th>\n      <td>3301</td>\n      <td>2</td>\n      <td>5</td>\n      <td>I42</td>\n      <td>Ph033</td>\n      <td>BiPh005</td>\n    </tr>\n    <tr>\n      <th>40</th>\n      <td>3621</td>\n      <td>2</td>\n      <td>6</td>\n      <td>I42</td>\n      <td>Ph033</td>\n      <td>BiPh005</td>\n    </tr>\n    <tr>\n      <th>60</th>\n      <td>6942</td>\n      <td>3</td>\n      <td>4</td>\n      <td>I61</td>\n      <td>Ph017</td>\n      <td>Ph015</td>\n    </tr>\n    <tr>\n      <th>80</th>\n      <td>7262</td>\n      <td>3</td>\n      <td>5</td>\n      <td>I61</td>\n      <td>Ph017</td>\n      <td>Ph015</td>\n    </tr>\n    <tr>\n      <th>...</th>\n      <td>...</td>\n      <td>...</td>\n      <td>...</td>\n      <td>...</td>\n      <td>...</td>\n      <td>...</td>\n    </tr>\n    <tr>\n      <th>5120</th>\n      <td>87494</td>\n      <td>2</td>\n      <td>2</td>\n      <td>I42</td>\n      <td>Ph033</td>\n      <td>BiPh005</td>\n    </tr>\n    <tr>\n      <th>5140</th>\n      <td>87814</td>\n      <td>2</td>\n      <td>3</td>\n      <td>I42</td>\n      <td>Ph033</td>\n      <td>BiPh005</td>\n    </tr>\n    <tr>\n      <th>5160</th>\n      <td>88254</td>\n      <td>3</td>\n      <td>1</td>\n      <td>I61</td>\n      <td>Ph017</td>\n      <td>Ph015</td>\n    </tr>\n    <tr>\n      <th>5180</th>\n      <td>88574</td>\n      <td>3</td>\n      <td>2</td>\n      <td>I61</td>\n      <td>Ph017</td>\n      <td>Ph015</td>\n    </tr>\n    <tr>\n      <th>5200</th>\n      <td>88894</td>\n      <td>3</td>\n      <td>3</td>\n      <td>I61</td>\n      <td>Ph017</td>\n      <td>Ph015</td>\n    </tr>\n  </tbody>\n</table>\n<p>260 rows × 6 columns</p>\n</div>"
     },
     "execution_count": 78,
     "metadata": {},
     "output_type": "execute_result"
    }
   ],
   "source": [
    "misaligned_df.drop_duplicates(subset=[\"exp_nr\", \"plate_nr\", \"short\"])"
   ],
   "metadata": {
    "collapsed": false,
    "ExecuteTime": {
     "end_time": "2023-06-15T09:30:02.482544Z",
     "start_time": "2023-06-15T09:30:02.448661Z"
    }
   }
  },
  {
   "cell_type": "code",
   "execution_count": 79,
   "outputs": [],
   "source": [
    "# fortunately, this problem is isolated to the experiments table. The building blocks table is correct. The lcms submission files are also correct as they queried `compound_mapping.txt` and the virtuallibrary table at execution which are both correct.\n"
   ],
   "metadata": {
    "collapsed": false,
    "ExecuteTime": {
     "end_time": "2023-06-15T09:45:49.790422Z",
     "start_time": "2023-06-15T09:45:49.775282Z"
    }
   }
  },
  {
   "cell_type": "code",
   "execution_count": 94,
   "id": "20ec9d5a-b6e0-4be1-9c52-d4b4d2edc570",
   "metadata": {
    "tags": []
   },
   "outputs": [],
   "source": [
    "## read data for individual building blocks\n",
    "res = con.con.execute(\"SELECT experiment_id, peak_id, delta_I, delta_M, delta_T, delta_Iacid, delta_bAA, delta_IM, delta_IT, delta_MT, delta_IMT FROM lcms_peaks_differences WHERE experiment_id IN (SELECT id FROM experiments WHERE lab_journal_number=? AND well LIKE ?);\",\n",
    "                (\"JG319\", \"J%\")).fetchall()\n",
    "df = pd.DataFrame(res, columns=[\"experiment_id\", \"peak_id\", \"delta_I\", \"delta_M\", \"delta_T\", \"delta_Iacid\", \"delta_bAA\", \"delta_IM\", \"delta_IT\", \"delta_MT\", \"delta_IMT\"])           "
   ]
  },
  {
   "cell_type": "code",
   "execution_count": 95,
   "id": "a522227e-e186-49a2-b50b-c30fc31099ba",
   "metadata": {
    "tags": []
   },
   "outputs": [
    {
     "data": {
      "text/plain": [
       "20"
      ]
     },
     "execution_count": 95,
     "metadata": {},
     "output_type": "execute_result"
    }
   ],
   "source": [
    "# get the number of experiments\n",
    "len(df.experiment_id.unique())"
   ]
  },
  {
   "cell_type": "code",
   "execution_count": 119,
   "id": "92a5fdf5-5507-40ea-9028-51ebc8cccbaa",
   "metadata": {
    "tags": []
   },
   "outputs": [
    {
     "data": {
      "text/html": [
       "<div>\n",
       "<style scoped>\n",
       "    .dataframe tbody tr th:only-of-type {\n",
       "        vertical-align: middle;\n",
       "    }\n",
       "\n",
       "    .dataframe tbody tr th {\n",
       "        vertical-align: top;\n",
       "    }\n",
       "\n",
       "    .dataframe thead th {\n",
       "        text-align: right;\n",
       "    }\n",
       "</style>\n",
       "<table border=\"1\" class=\"dataframe\">\n",
       "  <thead>\n",
       "    <tr style=\"text-align: right;\">\n",
       "      <th></th>\n",
       "      <th>peak_id</th>\n",
       "      <th>reaction_id</th>\n",
       "      <th>peak_nr</th>\n",
       "      <th>retention_time_s</th>\n",
       "      <th>area</th>\n",
       "      <th>intensity</th>\n",
       "      <th>signal_to_noise</th>\n",
       "      <th>mz_max</th>\n",
       "      <th>fwhm_min</th>\n",
       "      <th>%area</th>\n",
       "      <th>...</th>\n",
       "      <th>delta_I</th>\n",
       "      <th>delta_M</th>\n",
       "      <th>delta_T</th>\n",
       "      <th>delta_Iacid</th>\n",
       "      <th>delta_bAA</th>\n",
       "      <th>delta_IM</th>\n",
       "      <th>delta_IT</th>\n",
       "      <th>delta_MT</th>\n",
       "      <th>delta_IMT</th>\n",
       "      <th>assignment</th>\n",
       "    </tr>\n",
       "  </thead>\n",
       "  <tbody>\n",
       "    <tr>\n",
       "      <th>2</th>\n",
       "      <td>1566991</td>\n",
       "      <td>36115</td>\n",
       "      <td>39</td>\n",
       "      <td>377</td>\n",
       "      <td>602429</td>\n",
       "      <td>209255</td>\n",
       "      <td>49.2</td>\n",
       "      <td>284.2946</td>\n",
       "      <td>0.083</td>\n",
       "      <td>6.042120</td>\n",
       "      <td>...</td>\n",
       "      <td>29.339927</td>\n",
       "      <td>-55.859735</td>\n",
       "      <td>100.240687</td>\n",
       "      <td>81.349527</td>\n",
       "      <td>68.192695</td>\n",
       "      <td>-310.814408</td>\n",
       "      <td>-154.713986</td>\n",
       "      <td>-239.913648</td>\n",
       "      <td>-494.868321</td>\n",
       "      <td>None</td>\n",
       "    </tr>\n",
       "    <tr>\n",
       "      <th>5</th>\n",
       "      <td>1567883</td>\n",
       "      <td>36116</td>\n",
       "      <td>16</td>\n",
       "      <td>248</td>\n",
       "      <td>446580</td>\n",
       "      <td>134828</td>\n",
       "      <td>33.2</td>\n",
       "      <td>455.1892</td>\n",
       "      <td>0.045</td>\n",
       "      <td>9.208070</td>\n",
       "      <td>...</td>\n",
       "      <td>200.234527</td>\n",
       "      <td>115.034865</td>\n",
       "      <td>261.164615</td>\n",
       "      <td>252.244127</td>\n",
       "      <td>239.087295</td>\n",
       "      <td>-139.919808</td>\n",
       "      <td>6.209942</td>\n",
       "      <td>-78.989719</td>\n",
       "      <td>-333.944393</td>\n",
       "      <td>None</td>\n",
       "    </tr>\n",
       "    <tr>\n",
       "      <th>6</th>\n",
       "      <td>1567885</td>\n",
       "      <td>36116</td>\n",
       "      <td>18</td>\n",
       "      <td>267</td>\n",
       "      <td>512274</td>\n",
       "      <td>155375</td>\n",
       "      <td>38.3</td>\n",
       "      <td>475.1581</td>\n",
       "      <td>0.049</td>\n",
       "      <td>10.562610</td>\n",
       "      <td>...</td>\n",
       "      <td>220.203427</td>\n",
       "      <td>135.003765</td>\n",
       "      <td>281.133515</td>\n",
       "      <td>272.213027</td>\n",
       "      <td>259.056195</td>\n",
       "      <td>-119.950908</td>\n",
       "      <td>26.178842</td>\n",
       "      <td>-59.020819</td>\n",
       "      <td>-313.975493</td>\n",
       "      <td>None</td>\n",
       "    </tr>\n",
       "    <tr>\n",
       "      <th>7</th>\n",
       "      <td>1567895</td>\n",
       "      <td>36116</td>\n",
       "      <td>28</td>\n",
       "      <td>366</td>\n",
       "      <td>248728</td>\n",
       "      <td>509717</td>\n",
       "      <td>13.6</td>\n",
       "      <td>644.4946</td>\n",
       "      <td>0.014</td>\n",
       "      <td>5.128540</td>\n",
       "      <td>...</td>\n",
       "      <td>389.539927</td>\n",
       "      <td>304.340265</td>\n",
       "      <td>450.470015</td>\n",
       "      <td>441.549527</td>\n",
       "      <td>428.392695</td>\n",
       "      <td>49.385592</td>\n",
       "      <td>195.515342</td>\n",
       "      <td>110.315681</td>\n",
       "      <td>-144.638993</td>\n",
       "      <td>None</td>\n",
       "    </tr>\n",
       "    <tr>\n",
       "      <th>10</th>\n",
       "      <td>1569205</td>\n",
       "      <td>36117</td>\n",
       "      <td>25</td>\n",
       "      <td>326</td>\n",
       "      <td>3668452</td>\n",
       "      <td>173897</td>\n",
       "      <td>35.9</td>\n",
       "      <td>302.0956</td>\n",
       "      <td>0.264</td>\n",
       "      <td>31.352374</td>\n",
       "      <td>...</td>\n",
       "      <td>47.140927</td>\n",
       "      <td>-38.058735</td>\n",
       "      <td>9.984176</td>\n",
       "      <td>99.150527</td>\n",
       "      <td>85.993695</td>\n",
       "      <td>-293.013408</td>\n",
       "      <td>-244.970498</td>\n",
       "      <td>-330.170159</td>\n",
       "      <td>-585.124832</td>\n",
       "      <td>None</td>\n",
       "    </tr>\n",
       "    <tr>\n",
       "      <th>11</th>\n",
       "      <td>1569219</td>\n",
       "      <td>36117</td>\n",
       "      <td>39</td>\n",
       "      <td>373</td>\n",
       "      <td>1239577</td>\n",
       "      <td>319141</td>\n",
       "      <td>4929.7</td>\n",
       "      <td>417.1383</td>\n",
       "      <td>0.054</td>\n",
       "      <td>10.594032</td>\n",
       "      <td>...</td>\n",
       "      <td>162.183627</td>\n",
       "      <td>76.983965</td>\n",
       "      <td>125.026876</td>\n",
       "      <td>214.193227</td>\n",
       "      <td>201.036395</td>\n",
       "      <td>-177.970708</td>\n",
       "      <td>-129.927798</td>\n",
       "      <td>-215.127459</td>\n",
       "      <td>-470.082132</td>\n",
       "      <td>None</td>\n",
       "    </tr>\n",
       "    <tr>\n",
       "      <th>12</th>\n",
       "      <td>1569220</td>\n",
       "      <td>36117</td>\n",
       "      <td>40</td>\n",
       "      <td>373</td>\n",
       "      <td>913600</td>\n",
       "      <td>314930</td>\n",
       "      <td>62.2</td>\n",
       "      <td>417.1383</td>\n",
       "      <td>0.053</td>\n",
       "      <td>7.808075</td>\n",
       "      <td>...</td>\n",
       "      <td>162.183627</td>\n",
       "      <td>76.983965</td>\n",
       "      <td>125.026876</td>\n",
       "      <td>214.193227</td>\n",
       "      <td>201.036395</td>\n",
       "      <td>-177.970708</td>\n",
       "      <td>-129.927798</td>\n",
       "      <td>-215.127459</td>\n",
       "      <td>-470.082132</td>\n",
       "      <td>None</td>\n",
       "    </tr>\n",
       "    <tr>\n",
       "      <th>15</th>\n",
       "      <td>1578084</td>\n",
       "      <td>36118</td>\n",
       "      <td>15</td>\n",
       "      <td>285</td>\n",
       "      <td>831409</td>\n",
       "      <td>300114</td>\n",
       "      <td>103.2</td>\n",
       "      <td>244.1076</td>\n",
       "      <td>0.042</td>\n",
       "      <td>5.624520</td>\n",
       "      <td>...</td>\n",
       "      <td>-10.847073</td>\n",
       "      <td>-96.046735</td>\n",
       "      <td>46.074423</td>\n",
       "      <td>41.162527</td>\n",
       "      <td>28.005695</td>\n",
       "      <td>-351.001408</td>\n",
       "      <td>-208.880251</td>\n",
       "      <td>-294.079912</td>\n",
       "      <td>-549.034585</td>\n",
       "      <td>None</td>\n",
       "    </tr>\n",
       "    <tr>\n",
       "      <th>16</th>\n",
       "      <td>1578101</td>\n",
       "      <td>36118</td>\n",
       "      <td>32</td>\n",
       "      <td>336</td>\n",
       "      <td>914002</td>\n",
       "      <td>340060</td>\n",
       "      <td>115.3</td>\n",
       "      <td>278.0955</td>\n",
       "      <td>0.040</td>\n",
       "      <td>6.183260</td>\n",
       "      <td>...</td>\n",
       "      <td>23.140827</td>\n",
       "      <td>-62.058835</td>\n",
       "      <td>80.062323</td>\n",
       "      <td>75.150427</td>\n",
       "      <td>61.993595</td>\n",
       "      <td>-317.013508</td>\n",
       "      <td>-174.892351</td>\n",
       "      <td>-260.092012</td>\n",
       "      <td>-515.046685</td>\n",
       "      <td>None</td>\n",
       "    </tr>\n",
       "    <tr>\n",
       "      <th>17</th>\n",
       "      <td>1578113</td>\n",
       "      <td>36118</td>\n",
       "      <td>44</td>\n",
       "      <td>382</td>\n",
       "      <td>907753</td>\n",
       "      <td>397487</td>\n",
       "      <td>82.8</td>\n",
       "      <td>341.2663</td>\n",
       "      <td>0.044</td>\n",
       "      <td>6.140990</td>\n",
       "      <td>...</td>\n",
       "      <td>86.311627</td>\n",
       "      <td>1.111965</td>\n",
       "      <td>143.233123</td>\n",
       "      <td>138.321227</td>\n",
       "      <td>125.164395</td>\n",
       "      <td>-253.842708</td>\n",
       "      <td>-111.721551</td>\n",
       "      <td>-196.921212</td>\n",
       "      <td>-451.875885</td>\n",
       "      <td>None</td>\n",
       "    </tr>\n",
       "    <tr>\n",
       "      <th>20</th>\n",
       "      <td>1579397</td>\n",
       "      <td>36119</td>\n",
       "      <td>33</td>\n",
       "      <td>328</td>\n",
       "      <td>590397</td>\n",
       "      <td>179086</td>\n",
       "      <td>53.6</td>\n",
       "      <td>233.1102</td>\n",
       "      <td>0.048</td>\n",
       "      <td>5.804680</td>\n",
       "      <td>...</td>\n",
       "      <td>-21.844473</td>\n",
       "      <td>-107.044135</td>\n",
       "      <td>80.062104</td>\n",
       "      <td>30.165127</td>\n",
       "      <td>17.008295</td>\n",
       "      <td>-361.998808</td>\n",
       "      <td>-174.892569</td>\n",
       "      <td>-260.092230</td>\n",
       "      <td>-515.046904</td>\n",
       "      <td>None</td>\n",
       "    </tr>\n",
       "    <tr>\n",
       "      <th>22</th>\n",
       "      <td>1565873</td>\n",
       "      <td>36120</td>\n",
       "      <td>10</td>\n",
       "      <td>196</td>\n",
       "      <td>4195372</td>\n",
       "      <td>1226732</td>\n",
       "      <td>204.9</td>\n",
       "      <td>217.1064</td>\n",
       "      <td>0.046</td>\n",
       "      <td>25.291677</td>\n",
       "      <td>...</td>\n",
       "      <td>-37.848273</td>\n",
       "      <td>-123.047935</td>\n",
       "      <td>20.068472</td>\n",
       "      <td>14.161327</td>\n",
       "      <td>1.004495</td>\n",
       "      <td>-378.002608</td>\n",
       "      <td>-234.886202</td>\n",
       "      <td>-320.085863</td>\n",
       "      <td>-575.040537</td>\n",
       "      <td>None</td>\n",
       "    </tr>\n",
       "    <tr>\n",
       "      <th>23</th>\n",
       "      <td>1565879</td>\n",
       "      <td>36120</td>\n",
       "      <td>16</td>\n",
       "      <td>228</td>\n",
       "      <td>879429</td>\n",
       "      <td>309004</td>\n",
       "      <td>47.4</td>\n",
       "      <td>471.1866</td>\n",
       "      <td>0.056</td>\n",
       "      <td>5.301612</td>\n",
       "      <td>...</td>\n",
       "      <td>216.231927</td>\n",
       "      <td>131.032265</td>\n",
       "      <td>274.148672</td>\n",
       "      <td>268.241527</td>\n",
       "      <td>255.084695</td>\n",
       "      <td>-123.922408</td>\n",
       "      <td>19.193998</td>\n",
       "      <td>-66.005663</td>\n",
       "      <td>-320.960337</td>\n",
       "      <td>None</td>\n",
       "    </tr>\n",
       "    <tr>\n",
       "      <th>24</th>\n",
       "      <td>1565882</td>\n",
       "      <td>36120</td>\n",
       "      <td>19</td>\n",
       "      <td>248</td>\n",
       "      <td>2094924</td>\n",
       "      <td>584180</td>\n",
       "      <td>100.1</td>\n",
       "      <td>455.1892</td>\n",
       "      <td>0.056</td>\n",
       "      <td>12.629189</td>\n",
       "      <td>...</td>\n",
       "      <td>200.234527</td>\n",
       "      <td>115.034865</td>\n",
       "      <td>258.151272</td>\n",
       "      <td>252.244127</td>\n",
       "      <td>239.087295</td>\n",
       "      <td>-139.919808</td>\n",
       "      <td>3.196598</td>\n",
       "      <td>-82.003063</td>\n",
       "      <td>-336.957737</td>\n",
       "      <td>None</td>\n",
       "    </tr>\n",
       "    <tr>\n",
       "      <th>25</th>\n",
       "      <td>1565883</td>\n",
       "      <td>36120</td>\n",
       "      <td>20</td>\n",
       "      <td>258</td>\n",
       "      <td>833153</td>\n",
       "      <td>328440</td>\n",
       "      <td>54.9</td>\n",
       "      <td>403.1867</td>\n",
       "      <td>0.039</td>\n",
       "      <td>5.022639</td>\n",
       "      <td>...</td>\n",
       "      <td>148.232027</td>\n",
       "      <td>63.032365</td>\n",
       "      <td>206.148772</td>\n",
       "      <td>200.241627</td>\n",
       "      <td>187.084795</td>\n",
       "      <td>-191.922308</td>\n",
       "      <td>-48.805902</td>\n",
       "      <td>-134.005563</td>\n",
       "      <td>-388.960237</td>\n",
       "      <td>None</td>\n",
       "    </tr>\n",
       "    <tr>\n",
       "      <th>26</th>\n",
       "      <td>1565887</td>\n",
       "      <td>36120</td>\n",
       "      <td>24</td>\n",
       "      <td>267</td>\n",
       "      <td>4651230</td>\n",
       "      <td>1716743</td>\n",
       "      <td>300.0</td>\n",
       "      <td>453.1759</td>\n",
       "      <td>0.042</td>\n",
       "      <td>28.039807</td>\n",
       "      <td>...</td>\n",
       "      <td>198.221227</td>\n",
       "      <td>113.021565</td>\n",
       "      <td>256.137972</td>\n",
       "      <td>250.230827</td>\n",
       "      <td>237.073995</td>\n",
       "      <td>-141.933108</td>\n",
       "      <td>1.183298</td>\n",
       "      <td>-84.016363</td>\n",
       "      <td>-338.971037</td>\n",
       "      <td>None</td>\n",
       "    </tr>\n",
       "    <tr>\n",
       "      <th>27</th>\n",
       "      <td>1565893</td>\n",
       "      <td>36120</td>\n",
       "      <td>30</td>\n",
       "      <td>274</td>\n",
       "      <td>2452822</td>\n",
       "      <td>892823</td>\n",
       "      <td>154.9</td>\n",
       "      <td>473.1447</td>\n",
       "      <td>0.041</td>\n",
       "      <td>14.786770</td>\n",
       "      <td>...</td>\n",
       "      <td>218.190027</td>\n",
       "      <td>132.990365</td>\n",
       "      <td>276.106772</td>\n",
       "      <td>270.199627</td>\n",
       "      <td>257.042795</td>\n",
       "      <td>-121.964308</td>\n",
       "      <td>21.152098</td>\n",
       "      <td>-64.047563</td>\n",
       "      <td>-319.002237</td>\n",
       "      <td>None</td>\n",
       "    </tr>\n",
       "    <tr>\n",
       "      <th>28</th>\n",
       "      <td>1564024</td>\n",
       "      <td>36121</td>\n",
       "      <td>1</td>\n",
       "      <td>45</td>\n",
       "      <td>4960112</td>\n",
       "      <td>173123</td>\n",
       "      <td>46.6</td>\n",
       "      <td>84.0811</td>\n",
       "      <td>0.424</td>\n",
       "      <td>100.000000</td>\n",
       "      <td>...</td>\n",
       "      <td>-170.873573</td>\n",
       "      <td>-256.073235</td>\n",
       "      <td>-58.957497</td>\n",
       "      <td>-118.863973</td>\n",
       "      <td>-132.020805</td>\n",
       "      <td>-511.027908</td>\n",
       "      <td>-313.912171</td>\n",
       "      <td>-399.111832</td>\n",
       "      <td>-654.066505</td>\n",
       "      <td>None</td>\n",
       "    </tr>\n",
       "    <tr>\n",
       "      <th>31</th>\n",
       "      <td>1564041</td>\n",
       "      <td>36121</td>\n",
       "      <td>18</td>\n",
       "      <td>227</td>\n",
       "      <td>253817</td>\n",
       "      <td>51622</td>\n",
       "      <td>13.0</td>\n",
       "      <td>493.1686</td>\n",
       "      <td>0.068</td>\n",
       "      <td>5.117180</td>\n",
       "      <td>...</td>\n",
       "      <td>238.213927</td>\n",
       "      <td>153.014265</td>\n",
       "      <td>350.130003</td>\n",
       "      <td>290.223527</td>\n",
       "      <td>277.066695</td>\n",
       "      <td>-101.940408</td>\n",
       "      <td>95.175329</td>\n",
       "      <td>9.975668</td>\n",
       "      <td>-244.979005</td>\n",
       "      <td>None</td>\n",
       "    </tr>\n",
       "    <tr>\n",
       "      <th>32</th>\n",
       "      <td>1564042</td>\n",
       "      <td>36121</td>\n",
       "      <td>19</td>\n",
       "      <td>248</td>\n",
       "      <td>974299</td>\n",
       "      <td>231394</td>\n",
       "      <td>61.2</td>\n",
       "      <td>455.1893</td>\n",
       "      <td>0.062</td>\n",
       "      <td>19.642690</td>\n",
       "      <td>...</td>\n",
       "      <td>200.234627</td>\n",
       "      <td>115.034965</td>\n",
       "      <td>312.150703</td>\n",
       "      <td>252.244227</td>\n",
       "      <td>239.087395</td>\n",
       "      <td>-139.919708</td>\n",
       "      <td>57.196029</td>\n",
       "      <td>-28.003632</td>\n",
       "      <td>-282.958305</td>\n",
       "      <td>None</td>\n",
       "    </tr>\n",
       "    <tr>\n",
       "      <th>33</th>\n",
       "      <td>1564046</td>\n",
       "      <td>36121</td>\n",
       "      <td>23</td>\n",
       "      <td>266</td>\n",
       "      <td>997022</td>\n",
       "      <td>219448</td>\n",
       "      <td>58.3</td>\n",
       "      <td>475.1580</td>\n",
       "      <td>0.071</td>\n",
       "      <td>20.100800</td>\n",
       "      <td>...</td>\n",
       "      <td>220.203327</td>\n",
       "      <td>135.003665</td>\n",
       "      <td>332.119403</td>\n",
       "      <td>272.212927</td>\n",
       "      <td>259.056095</td>\n",
       "      <td>-119.951008</td>\n",
       "      <td>77.164729</td>\n",
       "      <td>-8.034932</td>\n",
       "      <td>-262.989605</td>\n",
       "      <td>None</td>\n",
       "    </tr>\n",
       "    <tr>\n",
       "      <th>34</th>\n",
       "      <td>1564047</td>\n",
       "      <td>36121</td>\n",
       "      <td>24</td>\n",
       "      <td>273</td>\n",
       "      <td>381849</td>\n",
       "      <td>112998</td>\n",
       "      <td>29.6</td>\n",
       "      <td>473.1448</td>\n",
       "      <td>0.052</td>\n",
       "      <td>7.698410</td>\n",
       "      <td>...</td>\n",
       "      <td>218.190127</td>\n",
       "      <td>132.990465</td>\n",
       "      <td>330.106203</td>\n",
       "      <td>270.199727</td>\n",
       "      <td>257.042895</td>\n",
       "      <td>-121.964208</td>\n",
       "      <td>75.151529</td>\n",
       "      <td>-10.048132</td>\n",
       "      <td>-265.002805</td>\n",
       "      <td>None</td>\n",
       "    </tr>\n",
       "    <tr>\n",
       "      <th>38</th>\n",
       "      <td>1572986</td>\n",
       "      <td>36102</td>\n",
       "      <td>82</td>\n",
       "      <td>240</td>\n",
       "      <td>749999</td>\n",
       "      <td>46051</td>\n",
       "      <td>10.8</td>\n",
       "      <td>211.1324</td>\n",
       "      <td>0.104</td>\n",
       "      <td>5.199639</td>\n",
       "      <td>...</td>\n",
       "      <td>-43.822273</td>\n",
       "      <td>-129.021935</td>\n",
       "      <td>51.134172</td>\n",
       "      <td>8.187327</td>\n",
       "      <td>-4.969505</td>\n",
       "      <td>-383.976608</td>\n",
       "      <td>-203.820501</td>\n",
       "      <td>-289.020162</td>\n",
       "      <td>-543.974836</td>\n",
       "      <td>None</td>\n",
       "    </tr>\n",
       "    <tr>\n",
       "      <th>40</th>\n",
       "      <td>1568573</td>\n",
       "      <td>36103</td>\n",
       "      <td>9</td>\n",
       "      <td>192</td>\n",
       "      <td>474447</td>\n",
       "      <td>160796</td>\n",
       "      <td>75.6</td>\n",
       "      <td>312.2138</td>\n",
       "      <td>0.058</td>\n",
       "      <td>5.061950</td>\n",
       "      <td>...</td>\n",
       "      <td>57.259127</td>\n",
       "      <td>-27.940535</td>\n",
       "      <td>168.186022</td>\n",
       "      <td>109.268727</td>\n",
       "      <td>96.111895</td>\n",
       "      <td>-282.895208</td>\n",
       "      <td>-86.768652</td>\n",
       "      <td>-171.968313</td>\n",
       "      <td>-426.922986</td>\n",
       "      <td>None</td>\n",
       "    </tr>\n",
       "    <tr>\n",
       "      <th>42</th>\n",
       "      <td>1568576</td>\n",
       "      <td>36103</td>\n",
       "      <td>12</td>\n",
       "      <td>251</td>\n",
       "      <td>497103</td>\n",
       "      <td>145604</td>\n",
       "      <td>67.8</td>\n",
       "      <td>254.0642</td>\n",
       "      <td>0.049</td>\n",
       "      <td>5.303670</td>\n",
       "      <td>...</td>\n",
       "      <td>-0.890473</td>\n",
       "      <td>-86.090135</td>\n",
       "      <td>110.036422</td>\n",
       "      <td>51.119127</td>\n",
       "      <td>37.962295</td>\n",
       "      <td>-341.044808</td>\n",
       "      <td>-144.918252</td>\n",
       "      <td>-230.117913</td>\n",
       "      <td>-485.072586</td>\n",
       "      <td>None</td>\n",
       "    </tr>\n",
       "    <tr>\n",
       "      <th>43</th>\n",
       "      <td>1568593</td>\n",
       "      <td>36103</td>\n",
       "      <td>29</td>\n",
       "      <td>358</td>\n",
       "      <td>705121</td>\n",
       "      <td>246898</td>\n",
       "      <td>111.7</td>\n",
       "      <td>363.0797</td>\n",
       "      <td>0.047</td>\n",
       "      <td>7.523040</td>\n",
       "      <td>...</td>\n",
       "      <td>108.125027</td>\n",
       "      <td>22.925365</td>\n",
       "      <td>219.051922</td>\n",
       "      <td>160.134627</td>\n",
       "      <td>146.977795</td>\n",
       "      <td>-232.029308</td>\n",
       "      <td>-35.902752</td>\n",
       "      <td>-121.102413</td>\n",
       "      <td>-376.057086</td>\n",
       "      <td>None</td>\n",
       "    </tr>\n",
       "    <tr>\n",
       "      <th>47</th>\n",
       "      <td>1572296</td>\n",
       "      <td>36104</td>\n",
       "      <td>23</td>\n",
       "      <td>328</td>\n",
       "      <td>1395484</td>\n",
       "      <td>199469</td>\n",
       "      <td>25.8</td>\n",
       "      <td>200.2003</td>\n",
       "      <td>0.236</td>\n",
       "      <td>8.484503</td>\n",
       "      <td>...</td>\n",
       "      <td>-54.754373</td>\n",
       "      <td>-139.954035</td>\n",
       "      <td>-3.747412</td>\n",
       "      <td>-2.744773</td>\n",
       "      <td>-15.901605</td>\n",
       "      <td>-394.908708</td>\n",
       "      <td>-258.702086</td>\n",
       "      <td>-343.901747</td>\n",
       "      <td>-598.856420</td>\n",
       "      <td>None</td>\n",
       "    </tr>\n",
       "  </tbody>\n",
       "</table>\n",
       "<p>27 rows × 21 columns</p>\n",
       "</div>"
      ],
      "text/plain": [
       "    peak_id  reaction_id  peak_nr  retention_time_s     area  intensity  \\\n",
       "2   1566991        36115       39               377   602429     209255   \n",
       "5   1567883        36116       16               248   446580     134828   \n",
       "6   1567885        36116       18               267   512274     155375   \n",
       "7   1567895        36116       28               366   248728     509717   \n",
       "10  1569205        36117       25               326  3668452     173897   \n",
       "11  1569219        36117       39               373  1239577     319141   \n",
       "12  1569220        36117       40               373   913600     314930   \n",
       "15  1578084        36118       15               285   831409     300114   \n",
       "16  1578101        36118       32               336   914002     340060   \n",
       "17  1578113        36118       44               382   907753     397487   \n",
       "20  1579397        36119       33               328   590397     179086   \n",
       "22  1565873        36120       10               196  4195372    1226732   \n",
       "23  1565879        36120       16               228   879429     309004   \n",
       "24  1565882        36120       19               248  2094924     584180   \n",
       "25  1565883        36120       20               258   833153     328440   \n",
       "26  1565887        36120       24               267  4651230    1716743   \n",
       "27  1565893        36120       30               274  2452822     892823   \n",
       "28  1564024        36121        1                45  4960112     173123   \n",
       "31  1564041        36121       18               227   253817      51622   \n",
       "32  1564042        36121       19               248   974299     231394   \n",
       "33  1564046        36121       23               266   997022     219448   \n",
       "34  1564047        36121       24               273   381849     112998   \n",
       "38  1572986        36102       82               240   749999      46051   \n",
       "40  1568573        36103        9               192   474447     160796   \n",
       "42  1568576        36103       12               251   497103     145604   \n",
       "43  1568593        36103       29               358   705121     246898   \n",
       "47  1572296        36104       23               328  1395484     199469   \n",
       "\n",
       "    signal_to_noise    mz_max  fwhm_min       %area  ...     delta_I  \\\n",
       "2              49.2  284.2946     0.083    6.042120  ...   29.339927   \n",
       "5              33.2  455.1892     0.045    9.208070  ...  200.234527   \n",
       "6              38.3  475.1581     0.049   10.562610  ...  220.203427   \n",
       "7              13.6  644.4946     0.014    5.128540  ...  389.539927   \n",
       "10             35.9  302.0956     0.264   31.352374  ...   47.140927   \n",
       "11           4929.7  417.1383     0.054   10.594032  ...  162.183627   \n",
       "12             62.2  417.1383     0.053    7.808075  ...  162.183627   \n",
       "15            103.2  244.1076     0.042    5.624520  ...  -10.847073   \n",
       "16            115.3  278.0955     0.040    6.183260  ...   23.140827   \n",
       "17             82.8  341.2663     0.044    6.140990  ...   86.311627   \n",
       "20             53.6  233.1102     0.048    5.804680  ...  -21.844473   \n",
       "22            204.9  217.1064     0.046   25.291677  ...  -37.848273   \n",
       "23             47.4  471.1866     0.056    5.301612  ...  216.231927   \n",
       "24            100.1  455.1892     0.056   12.629189  ...  200.234527   \n",
       "25             54.9  403.1867     0.039    5.022639  ...  148.232027   \n",
       "26            300.0  453.1759     0.042   28.039807  ...  198.221227   \n",
       "27            154.9  473.1447     0.041   14.786770  ...  218.190027   \n",
       "28             46.6   84.0811     0.424  100.000000  ... -170.873573   \n",
       "31             13.0  493.1686     0.068    5.117180  ...  238.213927   \n",
       "32             61.2  455.1893     0.062   19.642690  ...  200.234627   \n",
       "33             58.3  475.1580     0.071   20.100800  ...  220.203327   \n",
       "34             29.6  473.1448     0.052    7.698410  ...  218.190127   \n",
       "38             10.8  211.1324     0.104    5.199639  ...  -43.822273   \n",
       "40             75.6  312.2138     0.058    5.061950  ...   57.259127   \n",
       "42             67.8  254.0642     0.049    5.303670  ...   -0.890473   \n",
       "43            111.7  363.0797     0.047    7.523040  ...  108.125027   \n",
       "47             25.8  200.2003     0.236    8.484503  ...  -54.754373   \n",
       "\n",
       "       delta_M     delta_T  delta_Iacid   delta_bAA    delta_IM    delta_IT  \\\n",
       "2   -55.859735  100.240687    81.349527   68.192695 -310.814408 -154.713986   \n",
       "5   115.034865  261.164615   252.244127  239.087295 -139.919808    6.209942   \n",
       "6   135.003765  281.133515   272.213027  259.056195 -119.950908   26.178842   \n",
       "7   304.340265  450.470015   441.549527  428.392695   49.385592  195.515342   \n",
       "10  -38.058735    9.984176    99.150527   85.993695 -293.013408 -244.970498   \n",
       "11   76.983965  125.026876   214.193227  201.036395 -177.970708 -129.927798   \n",
       "12   76.983965  125.026876   214.193227  201.036395 -177.970708 -129.927798   \n",
       "15  -96.046735   46.074423    41.162527   28.005695 -351.001408 -208.880251   \n",
       "16  -62.058835   80.062323    75.150427   61.993595 -317.013508 -174.892351   \n",
       "17    1.111965  143.233123   138.321227  125.164395 -253.842708 -111.721551   \n",
       "20 -107.044135   80.062104    30.165127   17.008295 -361.998808 -174.892569   \n",
       "22 -123.047935   20.068472    14.161327    1.004495 -378.002608 -234.886202   \n",
       "23  131.032265  274.148672   268.241527  255.084695 -123.922408   19.193998   \n",
       "24  115.034865  258.151272   252.244127  239.087295 -139.919808    3.196598   \n",
       "25   63.032365  206.148772   200.241627  187.084795 -191.922308  -48.805902   \n",
       "26  113.021565  256.137972   250.230827  237.073995 -141.933108    1.183298   \n",
       "27  132.990365  276.106772   270.199627  257.042795 -121.964308   21.152098   \n",
       "28 -256.073235  -58.957497  -118.863973 -132.020805 -511.027908 -313.912171   \n",
       "31  153.014265  350.130003   290.223527  277.066695 -101.940408   95.175329   \n",
       "32  115.034965  312.150703   252.244227  239.087395 -139.919708   57.196029   \n",
       "33  135.003665  332.119403   272.212927  259.056095 -119.951008   77.164729   \n",
       "34  132.990465  330.106203   270.199727  257.042895 -121.964208   75.151529   \n",
       "38 -129.021935   51.134172     8.187327   -4.969505 -383.976608 -203.820501   \n",
       "40  -27.940535  168.186022   109.268727   96.111895 -282.895208  -86.768652   \n",
       "42  -86.090135  110.036422    51.119127   37.962295 -341.044808 -144.918252   \n",
       "43   22.925365  219.051922   160.134627  146.977795 -232.029308  -35.902752   \n",
       "47 -139.954035   -3.747412    -2.744773  -15.901605 -394.908708 -258.702086   \n",
       "\n",
       "      delta_MT   delta_IMT  assignment  \n",
       "2  -239.913648 -494.868321        None  \n",
       "5   -78.989719 -333.944393        None  \n",
       "6   -59.020819 -313.975493        None  \n",
       "7   110.315681 -144.638993        None  \n",
       "10 -330.170159 -585.124832        None  \n",
       "11 -215.127459 -470.082132        None  \n",
       "12 -215.127459 -470.082132        None  \n",
       "15 -294.079912 -549.034585        None  \n",
       "16 -260.092012 -515.046685        None  \n",
       "17 -196.921212 -451.875885        None  \n",
       "20 -260.092230 -515.046904        None  \n",
       "22 -320.085863 -575.040537        None  \n",
       "23  -66.005663 -320.960337        None  \n",
       "24  -82.003063 -336.957737        None  \n",
       "25 -134.005563 -388.960237        None  \n",
       "26  -84.016363 -338.971037        None  \n",
       "27  -64.047563 -319.002237        None  \n",
       "28 -399.111832 -654.066505        None  \n",
       "31    9.975668 -244.979005        None  \n",
       "32  -28.003632 -282.958305        None  \n",
       "33   -8.034932 -262.989605        None  \n",
       "34  -10.048132 -265.002805        None  \n",
       "38 -289.020162 -543.974836        None  \n",
       "40 -171.968313 -426.922986        None  \n",
       "42 -230.117913 -485.072586        None  \n",
       "43 -121.102413 -376.057086        None  \n",
       "47 -343.901747 -598.856420        None  \n",
       "\n",
       "[27 rows x 21 columns]"
      ]
     },
     "execution_count": 119,
     "metadata": {},
     "output_type": "execute_result"
    }
   ],
   "source": [
    "peaks = pd.concat([con.get_lcms_peaks((\"JG319\", well), with_delta=True, with_assignment=True) for well in [f\"J{i}\" for i in range(3,13)]]).reset_index(drop=True)\n",
    "peaks.loc[peaks.assignment.isna()]"
   ]
  },
  {
   "cell_type": "code",
   "execution_count": 30,
   "id": "3be0123f-f01e-409f-83de-4ff24f07e5b8",
   "metadata": {
    "tags": []
   },
   "outputs": [
    {
     "data": {
      "text/html": [
       "<div>\n",
       "<style scoped>\n",
       "    .dataframe tbody tr th:only-of-type {\n",
       "        vertical-align: middle;\n",
       "    }\n",
       "\n",
       "    .dataframe tbody tr th {\n",
       "        vertical-align: top;\n",
       "    }\n",
       "\n",
       "    .dataframe thead th {\n",
       "        text-align: right;\n",
       "    }\n",
       "</style>\n",
       "<table border=\"1\" class=\"dataframe\">\n",
       "  <thead>\n",
       "    <tr style=\"text-align: right;\">\n",
       "      <th></th>\n",
       "      <th>peak_id</th>\n",
       "      <th>reaction_id</th>\n",
       "      <th>peak_nr</th>\n",
       "      <th>retention_time_s</th>\n",
       "      <th>area</th>\n",
       "      <th>intensity</th>\n",
       "      <th>signal_to_noise</th>\n",
       "      <th>mz_max</th>\n",
       "      <th>fwhm_min</th>\n",
       "      <th>%area</th>\n",
       "      <th>...</th>\n",
       "      <th>delta_I</th>\n",
       "      <th>delta_M</th>\n",
       "      <th>delta_T</th>\n",
       "      <th>delta_Iacid</th>\n",
       "      <th>delta_bAA</th>\n",
       "      <th>delta_IM</th>\n",
       "      <th>delta_IT</th>\n",
       "      <th>delta_MT</th>\n",
       "      <th>delta_IMT</th>\n",
       "      <th>assignment</th>\n",
       "    </tr>\n",
       "  </thead>\n",
       "  <tbody>\n",
       "    <tr>\n",
       "      <th>0</th>\n",
       "      <td>1567881</td>\n",
       "      <td>36116</td>\n",
       "      <td>14</td>\n",
       "      <td>183</td>\n",
       "      <td>4255522</td>\n",
       "      <td>385568</td>\n",
       "      <td>96.8</td>\n",
       "      <td>128.1065</td>\n",
       "      <td>0.172</td>\n",
       "      <td>87.744780</td>\n",
       "      <td>...</td>\n",
       "      <td>-126.848173</td>\n",
       "      <td>-212.047835</td>\n",
       "      <td>-65.918085</td>\n",
       "      <td>-74.838573</td>\n",
       "      <td>-87.995405</td>\n",
       "      <td>-467.002508</td>\n",
       "      <td>-320.872758</td>\n",
       "      <td>-406.072419</td>\n",
       "      <td>-661.027093</td>\n",
       "      <td>None</td>\n",
       "    </tr>\n",
       "    <tr>\n",
       "      <th>1</th>\n",
       "      <td>1567882</td>\n",
       "      <td>36116</td>\n",
       "      <td>15</td>\n",
       "      <td>197</td>\n",
       "      <td>4849886</td>\n",
       "      <td>367399</td>\n",
       "      <td>92.4</td>\n",
       "      <td>239.0885</td>\n",
       "      <td>0.203</td>\n",
       "      <td>100.000000</td>\n",
       "      <td>...</td>\n",
       "      <td>-15.866173</td>\n",
       "      <td>-101.065835</td>\n",
       "      <td>45.063915</td>\n",
       "      <td>36.143427</td>\n",
       "      <td>22.986595</td>\n",
       "      <td>-356.020508</td>\n",
       "      <td>-209.890758</td>\n",
       "      <td>-295.090419</td>\n",
       "      <td>-550.045093</td>\n",
       "      <td>None</td>\n",
       "    </tr>\n",
       "    <tr>\n",
       "      <th>0</th>\n",
       "      <td>1569188</td>\n",
       "      <td>36117</td>\n",
       "      <td>8</td>\n",
       "      <td>181</td>\n",
       "      <td>3901239</td>\n",
       "      <td>296551</td>\n",
       "      <td>63.4</td>\n",
       "      <td>128.1066</td>\n",
       "      <td>0.209</td>\n",
       "      <td>33.341884</td>\n",
       "      <td>...</td>\n",
       "      <td>-126.848073</td>\n",
       "      <td>-212.047735</td>\n",
       "      <td>-164.004824</td>\n",
       "      <td>-74.838473</td>\n",
       "      <td>-87.995305</td>\n",
       "      <td>-467.002408</td>\n",
       "      <td>-418.959498</td>\n",
       "      <td>-504.159159</td>\n",
       "      <td>-759.113832</td>\n",
       "      <td>None</td>\n",
       "    </tr>\n",
       "    <tr>\n",
       "      <th>1</th>\n",
       "      <td>1569190</td>\n",
       "      <td>36117</td>\n",
       "      <td>10</td>\n",
       "      <td>197</td>\n",
       "      <td>3941213</td>\n",
       "      <td>282067</td>\n",
       "      <td>60.3</td>\n",
       "      <td>185.1143</td>\n",
       "      <td>0.209</td>\n",
       "      <td>33.683523</td>\n",
       "      <td>...</td>\n",
       "      <td>-69.840373</td>\n",
       "      <td>-155.040035</td>\n",
       "      <td>-106.997124</td>\n",
       "      <td>-17.830773</td>\n",
       "      <td>-30.987605</td>\n",
       "      <td>-409.994708</td>\n",
       "      <td>-361.951798</td>\n",
       "      <td>-447.151459</td>\n",
       "      <td>-702.106132</td>\n",
       "      <td>None</td>\n",
       "    </tr>\n",
       "    <tr>\n",
       "      <th>2</th>\n",
       "      <td>1569205</td>\n",
       "      <td>36117</td>\n",
       "      <td>25</td>\n",
       "      <td>326</td>\n",
       "      <td>3668452</td>\n",
       "      <td>173897</td>\n",
       "      <td>35.9</td>\n",
       "      <td>302.0956</td>\n",
       "      <td>0.264</td>\n",
       "      <td>31.352374</td>\n",
       "      <td>...</td>\n",
       "      <td>47.140927</td>\n",
       "      <td>-38.058735</td>\n",
       "      <td>9.984176</td>\n",
       "      <td>99.150527</td>\n",
       "      <td>85.993695</td>\n",
       "      <td>-293.013408</td>\n",
       "      <td>-244.970498</td>\n",
       "      <td>-330.170159</td>\n",
       "      <td>-585.124832</td>\n",
       "      <td>None</td>\n",
       "    </tr>\n",
       "    <tr>\n",
       "      <th>0</th>\n",
       "      <td>1564024</td>\n",
       "      <td>36121</td>\n",
       "      <td>1</td>\n",
       "      <td>45</td>\n",
       "      <td>4960112</td>\n",
       "      <td>173123</td>\n",
       "      <td>46.6</td>\n",
       "      <td>84.0811</td>\n",
       "      <td>0.424</td>\n",
       "      <td>100.000000</td>\n",
       "      <td>...</td>\n",
       "      <td>-170.873573</td>\n",
       "      <td>-256.073235</td>\n",
       "      <td>-58.957497</td>\n",
       "      <td>-118.863973</td>\n",
       "      <td>-132.020805</td>\n",
       "      <td>-511.027908</td>\n",
       "      <td>-313.912171</td>\n",
       "      <td>-399.111832</td>\n",
       "      <td>-654.066505</td>\n",
       "      <td>None</td>\n",
       "    </tr>\n",
       "    <tr>\n",
       "      <th>1</th>\n",
       "      <td>1564038</td>\n",
       "      <td>36121</td>\n",
       "      <td>15</td>\n",
       "      <td>183</td>\n",
       "      <td>3863387</td>\n",
       "      <td>304394</td>\n",
       "      <td>81.3</td>\n",
       "      <td>128.1067</td>\n",
       "      <td>0.196</td>\n",
       "      <td>77.889110</td>\n",
       "      <td>...</td>\n",
       "      <td>-126.847973</td>\n",
       "      <td>-212.047635</td>\n",
       "      <td>-14.931897</td>\n",
       "      <td>-74.838373</td>\n",
       "      <td>-87.995205</td>\n",
       "      <td>-467.002308</td>\n",
       "      <td>-269.886571</td>\n",
       "      <td>-355.086232</td>\n",
       "      <td>-610.040905</td>\n",
       "      <td>None</td>\n",
       "    </tr>\n",
       "    <tr>\n",
       "      <th>2</th>\n",
       "      <td>1564039</td>\n",
       "      <td>36121</td>\n",
       "      <td>16</td>\n",
       "      <td>197</td>\n",
       "      <td>4216812</td>\n",
       "      <td>306410</td>\n",
       "      <td>81.8</td>\n",
       "      <td>239.0885</td>\n",
       "      <td>0.202</td>\n",
       "      <td>85.014450</td>\n",
       "      <td>...</td>\n",
       "      <td>-15.866173</td>\n",
       "      <td>-101.065835</td>\n",
       "      <td>96.049903</td>\n",
       "      <td>36.143427</td>\n",
       "      <td>22.986595</td>\n",
       "      <td>-356.020508</td>\n",
       "      <td>-158.904771</td>\n",
       "      <td>-244.104432</td>\n",
       "      <td>-499.059105</td>\n",
       "      <td>None</td>\n",
       "    </tr>\n",
       "    <tr>\n",
       "      <th>0</th>\n",
       "      <td>1568572</td>\n",
       "      <td>36103</td>\n",
       "      <td>8</td>\n",
       "      <td>182</td>\n",
       "      <td>3761834</td>\n",
       "      <td>283929</td>\n",
       "      <td>135.0</td>\n",
       "      <td>128.1066</td>\n",
       "      <td>0.205</td>\n",
       "      <td>40.135520</td>\n",
       "      <td>...</td>\n",
       "      <td>-126.848073</td>\n",
       "      <td>-212.047735</td>\n",
       "      <td>-15.921178</td>\n",
       "      <td>-74.838473</td>\n",
       "      <td>-87.995305</td>\n",
       "      <td>-467.002408</td>\n",
       "      <td>-270.875852</td>\n",
       "      <td>-356.075513</td>\n",
       "      <td>-611.030186</td>\n",
       "      <td>None</td>\n",
       "    </tr>\n",
       "    <tr>\n",
       "      <th>2</th>\n",
       "      <td>1568574</td>\n",
       "      <td>36103</td>\n",
       "      <td>10</td>\n",
       "      <td>198</td>\n",
       "      <td>3417886</td>\n",
       "      <td>269441</td>\n",
       "      <td>127.9</td>\n",
       "      <td>185.1141</td>\n",
       "      <td>0.193</td>\n",
       "      <td>36.465900</td>\n",
       "      <td>...</td>\n",
       "      <td>-69.840573</td>\n",
       "      <td>-155.040235</td>\n",
       "      <td>41.086322</td>\n",
       "      <td>-17.830973</td>\n",
       "      <td>-30.987805</td>\n",
       "      <td>-409.994908</td>\n",
       "      <td>-213.868352</td>\n",
       "      <td>-299.068013</td>\n",
       "      <td>-554.022686</td>\n",
       "      <td>None</td>\n",
       "    </tr>\n",
       "  </tbody>\n",
       "</table>\n",
       "<p>10 rows × 21 columns</p>\n",
       "</div>"
      ],
      "text/plain": [
       "   peak_id  reaction_id  peak_nr  retention_time_s     area  intensity  \\\n",
       "0  1567881        36116       14               183  4255522     385568   \n",
       "1  1567882        36116       15               197  4849886     367399   \n",
       "0  1569188        36117        8               181  3901239     296551   \n",
       "1  1569190        36117       10               197  3941213     282067   \n",
       "2  1569205        36117       25               326  3668452     173897   \n",
       "0  1564024        36121        1                45  4960112     173123   \n",
       "1  1564038        36121       15               183  3863387     304394   \n",
       "2  1564039        36121       16               197  4216812     306410   \n",
       "0  1568572        36103        8               182  3761834     283929   \n",
       "2  1568574        36103       10               198  3417886     269441   \n",
       "\n",
       "   signal_to_noise    mz_max  fwhm_min       %area  ...     delta_I  \\\n",
       "0             96.8  128.1065     0.172   87.744780  ... -126.848173   \n",
       "1             92.4  239.0885     0.203  100.000000  ...  -15.866173   \n",
       "0             63.4  128.1066     0.209   33.341884  ... -126.848073   \n",
       "1             60.3  185.1143     0.209   33.683523  ...  -69.840373   \n",
       "2             35.9  302.0956     0.264   31.352374  ...   47.140927   \n",
       "0             46.6   84.0811     0.424  100.000000  ... -170.873573   \n",
       "1             81.3  128.1067     0.196   77.889110  ... -126.847973   \n",
       "2             81.8  239.0885     0.202   85.014450  ...  -15.866173   \n",
       "0            135.0  128.1066     0.205   40.135520  ... -126.848073   \n",
       "2            127.9  185.1141     0.193   36.465900  ...  -69.840573   \n",
       "\n",
       "      delta_M     delta_T  delta_Iacid   delta_bAA    delta_IM    delta_IT  \\\n",
       "0 -212.047835  -65.918085   -74.838573  -87.995405 -467.002508 -320.872758   \n",
       "1 -101.065835   45.063915    36.143427   22.986595 -356.020508 -209.890758   \n",
       "0 -212.047735 -164.004824   -74.838473  -87.995305 -467.002408 -418.959498   \n",
       "1 -155.040035 -106.997124   -17.830773  -30.987605 -409.994708 -361.951798   \n",
       "2  -38.058735    9.984176    99.150527   85.993695 -293.013408 -244.970498   \n",
       "0 -256.073235  -58.957497  -118.863973 -132.020805 -511.027908 -313.912171   \n",
       "1 -212.047635  -14.931897   -74.838373  -87.995205 -467.002308 -269.886571   \n",
       "2 -101.065835   96.049903    36.143427   22.986595 -356.020508 -158.904771   \n",
       "0 -212.047735  -15.921178   -74.838473  -87.995305 -467.002408 -270.875852   \n",
       "2 -155.040235   41.086322   -17.830973  -30.987805 -409.994908 -213.868352   \n",
       "\n",
       "     delta_MT   delta_IMT  assignment  \n",
       "0 -406.072419 -661.027093        None  \n",
       "1 -295.090419 -550.045093        None  \n",
       "0 -504.159159 -759.113832        None  \n",
       "1 -447.151459 -702.106132        None  \n",
       "2 -330.170159 -585.124832        None  \n",
       "0 -399.111832 -654.066505        None  \n",
       "1 -355.086232 -610.040905        None  \n",
       "2 -244.104432 -499.059105        None  \n",
       "0 -356.075513 -611.030186        None  \n",
       "2 -299.068013 -554.022686        None  \n",
       "\n",
       "[10 rows x 21 columns]"
      ]
     },
     "execution_count": 30,
     "metadata": {},
     "output_type": "execute_result"
    }
   ],
   "source": [
    "peaks.loc[peaks[\"%area\"] > 30]"
   ]
  },
  {
   "cell_type": "code",
   "execution_count": 21,
   "id": "4d34b7db-fc4f-4696-bfb5-499740474586",
   "metadata": {
    "tags": []
   },
   "outputs": [
    {
     "name": "stdout",
     "output_type": "stream",
     "text": [
      "-126.848173    6\n",
      "-69.840473     6\n",
      "Name: delta_I, dtype: int64\n",
      "-212.047835    6\n",
      "-155.040135    6\n",
      "Name: delta_M, dtype: int64\n",
      " 125.026876    2\n",
      "-18.833512     2\n",
      "Name: delta_T, dtype: int64\n",
      "-74.838573    6\n",
      "-17.830873    6\n",
      "Name: delta_Iacid, dtype: int64\n",
      "-87.995405    6\n",
      "-30.987705    6\n",
      "Name: delta_bAA, dtype: int64\n",
      "-467.002508    6\n",
      "-409.994808    6\n",
      "Name: delta_IM, dtype: int64\n",
      "-129.927798    2\n",
      "-273.788186    2\n",
      "Name: delta_IT, dtype: int64\n",
      "-215.127459    2\n",
      "-358.987847    2\n",
      "Name: delta_MT, dtype: int64\n",
      "-470.082132    2\n",
      "-613.942520    2\n",
      "Name: delta_IMT, dtype: int64\n"
     ]
    }
   ],
   "source": [
    "for col in peaks.columns:\n",
    "    if col.startswith(\"delta_\"):\n",
    "        print(peaks[col].value_counts().iloc[:2])"
   ]
  },
  {
   "cell_type": "code",
   "execution_count": 19,
   "id": "056e5b70-9fe6-4f98-9653-09a9a0e923b5",
   "metadata": {
    "tags": []
   },
   "outputs": [
    {
     "data": {
      "text/plain": [
       "False    48\n",
       "Name: delta_M, dtype: int64"
      ]
     },
     "execution_count": 19,
     "metadata": {},
     "output_type": "execute_result"
    }
   ],
   "source": [
    "(peaks.delta_M.round(3) == 0).value_counts()"
   ]
  },
  {
   "cell_type": "code",
   "execution_count": 20,
   "id": "9f571664-6ba6-4f13-83c4-67574568055c",
   "metadata": {
    "tags": []
   },
   "outputs": [
    {
     "data": {
      "text/plain": [
       " 125.03    2\n",
       "-18.83     2\n",
       " 80.06     2\n",
       " 25.12     2\n",
       " 330.11    1\n",
       " 276.11    1\n",
       "-58.96     1\n",
       "-14.93     1\n",
       " 96.05     1\n",
       " 350.13    1\n",
       " 312.15    1\n",
       " 332.12    1\n",
       "-55.95     1\n",
       "-31.89     1\n",
       " 206.15    1\n",
       " 51.13     1\n",
       "-15.92     1\n",
       " 168.19    1\n",
       " 41.09     1\n",
       " 110.04    1\n",
       " 219.05    1\n",
       "-75.84     1\n",
       " 256.14    1\n",
       " 258.15    1\n",
       " 1.06      1\n",
       " 274.15    1\n",
       " 100.24    1\n",
       "-65.92     1\n",
       " 45.06     1\n",
       " 261.16    1\n",
       " 281.13    1\n",
       " 450.47    1\n",
       "-164.00    1\n",
       "-107.00    1\n",
       " 9.98      1\n",
       "-69.93     1\n",
       "-12.92     1\n",
       " 46.07     1\n",
       " 143.23    1\n",
       "-24.94     1\n",
       " 32.07     1\n",
       "-68.93     1\n",
       " 20.07     1\n",
       "-3.75      1\n",
       "Name: delta_T, dtype: int64"
      ]
     },
     "execution_count": 20,
     "metadata": {},
     "output_type": "execute_result"
    }
   ],
   "source": [
    "peaks.delta_T.round(2).value_counts()"
   ]
  },
  {
   "cell_type": "code",
   "execution_count": null,
   "id": "1b6d73fd-3908-40f7-8eee-e7daec39167c",
   "metadata": {},
   "outputs": [],
   "source": []
  }
 ],
 "metadata": {
  "kernelspec": {
   "display_name": "Python 3 (ipykernel)",
   "language": "python",
   "name": "python3"
  },
  "language_info": {
   "codemirror_mode": {
    "name": "ipython",
    "version": 3
   },
   "file_extension": ".py",
   "mimetype": "text/x-python",
   "name": "python",
   "nbconvert_exporter": "python",
   "pygments_lexer": "ipython3",
   "version": "3.9.7"
  }
 },
 "nbformat": 4,
 "nbformat_minor": 5
}
