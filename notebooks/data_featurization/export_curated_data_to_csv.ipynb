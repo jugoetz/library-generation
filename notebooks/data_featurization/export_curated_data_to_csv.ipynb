{
 "cells": [
  {
   "cell_type": "markdown",
   "id": "295e0b34",
   "metadata": {
    "collapsed": true
   },
   "source": [
    "# SynFerm data preparation\n",
    "#### Targets:\n",
    "- Import experiment, representation, and target data from db\n",
    "- Export to CSV"
   ]
  },
  {
   "cell_type": "code",
   "execution_count": 16,
   "id": "69d02537",
   "metadata": {
    "ExecuteTime": {
     "end_time": "2023-07-20T15:17:26.524610Z",
     "start_time": "2023-07-20T15:17:26.522458Z"
    }
   },
   "outputs": [],
   "source": [
    "import os\n",
    "import sys\n",
    "\n",
    "sys.path.insert(0, os.path.abspath('../..'))\n",
    "\n",
    "import pandas as pd\n",
    "\n",
    "from src.util.db_utils import SynFermDatabaseConnection\n",
    "from src.definitions import DATA_DIR\n"
   ]
  },
  {
   "cell_type": "code",
   "execution_count": 5,
   "id": "95259c45",
   "metadata": {
    "ExecuteTime": {
     "end_time": "2023-07-20T12:30:50.451282Z",
     "start_time": "2023-07-20T12:30:50.449013Z"
    }
   },
   "outputs": [],
   "source": [
    "con = SynFermDatabaseConnection()  # we will use this for various simple queries"
   ]
  },
  {
   "cell_type": "code",
   "execution_count": 10,
   "id": "33d4dbab",
   "metadata": {
    "ExecuteTime": {
     "end_time": "2023-07-20T15:15:13.681578Z",
     "start_time": "2023-07-20T15:15:13.282802Z"
    }
   },
   "outputs": [
    {
     "name": "stdout",
     "output_type": "stream",
     "text": [
      "Number of reactions (in total): 40433\n"
     ]
    }
   ],
   "source": [
    "# note that we only select valid reaction by using the INNER JOIN with the labels table\n",
    "res = con.con.execute('SELECT e.id, r.I_long, r.M_long, r.T_long, r.product_A_smiles, r.I_smiles, r.M_smiles, r.T_smiles, r.reaction_smiles, r.reaction_smiles_atom_mapped, l.binary_A, l.binary_B, l.binary_C, l.binary_D, l.binary_E, l.binary_F, l.binary_G, l.binary_H, l.scaled_A, l.scaled_B, l.scaled_C, l.scaled_D, l.scaled_E, l.scaled_F, l.scaled_G, l.scaled_H, l.\"major_A-C\" FROM experiments e LEFT JOIN representations r on e.id = r.experiment_id INNER JOIN labels l on e.id = l.experiment_id;').fetchall()\n",
    "\n",
    "columns = [\"experiment_id\", \"I_long\", \"M_long\", \"T_long\", \"product_A_smiles\", \"I_smiles\", \"M_smiles\", \"T_smiles\", \"reaction_smiles\", \"reaction_smiles_atom_mapped\", \"binary_A\", \"binary_B\", \"binary_C\", \"binary_D\", \"binary_E\", \"binary_F\", \"binary_G\", \"binary_H\", \"scaled_A\", \"scaled_B\", \"scaled_C\", \"scaled_D\", \"scaled_E\", \"scaled_F\", \"scaled_G\", \"scaled_H\", \"major_A-C\"]\n",
    "df = pd.DataFrame(res, columns=columns)\n",
    "print(f'Number of reactions (in total): {len(df)}')"
   ]
  },
  {
   "cell_type": "code",
   "execution_count": 12,
   "id": "d26dc3a9",
   "metadata": {
    "scrolled": false,
    "ExecuteTime": {
     "end_time": "2023-07-20T15:15:58.965716Z",
     "start_time": "2023-07-20T15:15:58.961732Z"
    }
   },
   "outputs": [
    {
     "data": {
      "text/plain": "0"
     },
     "execution_count": 12,
     "metadata": {},
     "output_type": "execute_result"
    }
   ],
   "source": [
    "# doublecheck we don't have missing values\n",
    "df['scaled_A'].isna().sum()"
   ]
  },
  {
   "cell_type": "markdown",
   "id": "8a096a33",
   "metadata": {},
   "source": [
    "Now we have a cleaned dataset. Export to CSV."
   ]
  },
  {
   "cell_type": "code",
   "execution_count": 17,
   "outputs": [],
   "source": [
    "df.to_csv(DATA_DIR / \"curated_data\" / f\"synferm_dataset_2023-07-20_{len(df)}records.csv\", index=False)"
   ],
   "metadata": {
    "collapsed": false,
    "ExecuteTime": {
     "end_time": "2023-07-20T15:17:29.640831Z",
     "start_time": "2023-07-20T15:17:28.947580Z"
    }
   }
  }
 ],
 "metadata": {
  "kernelspec": {
   "display_name": "Python 3 (ipykernel)",
   "language": "python",
   "name": "python3"
  },
  "language_info": {
   "codemirror_mode": {
    "name": "ipython",
    "version": 3
   },
   "file_extension": ".py",
   "mimetype": "text/x-python",
   "name": "python",
   "nbconvert_exporter": "python",
   "pygments_lexer": "ipython3",
   "version": "3.9.16"
  }
 },
 "nbformat": 4,
 "nbformat_minor": 5
}
