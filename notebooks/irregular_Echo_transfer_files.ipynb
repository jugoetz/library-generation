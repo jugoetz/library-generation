{
 "cells": [
  {
   "cell_type": "code",
   "execution_count": 45,
   "metadata": {
    "collapsed": true
   },
   "outputs": [],
   "source": [
    "import csv\n",
    "from  collections import Counter"
   ]
  },
  {
   "cell_type": "code",
   "execution_count": 2,
   "outputs": [
    {
     "data": {
      "text/plain": "['Source Barcode',\n 'Source Well',\n 'Destination Barcode',\n 'Destination Well',\n 'Volume']"
     },
     "execution_count": 2,
     "metadata": {},
     "output_type": "execute_result"
    }
   ],
   "source": [
    "header = ['Source Barcode', 'Source Well', 'Destination Barcode', 'Destination Well', 'Volume']\n",
    "header"
   ],
   "metadata": {
    "collapsed": false,
    "pycharm": {
     "name": "#%%\n"
    }
   }
  },
  {
   "cell_type": "code",
   "execution_count": 11,
   "outputs": [],
   "source": [
    "# static things\n",
    "source_barcode = 'Source1'\n",
    "destination_barcode = ['Synthesis1', 'Synthesis2']\n",
    "volume = [1100, 990]\n",
    "initiator_wells = [['A13', 'A14', 'A15', 'A16'], ['B13', 'B14', 'B15', 'B16'], ['I13', 'I14', 'I15', 'I16'], ['J13', 'J14', 'J15', 'J16']]\n",
    "terminator_wells = [['D13', 'D14', 'D15', 'D16'], ['E13', 'E14', 'E15', 'E16'],  ['F13', 'F14', 'F15', 'F16'], ['G13', 'G14', 'G15', 'G16']]\n",
    "monomer_wells = [[f'{chr(i // 10 + 65)}{i % 10 + 1}' for i in range(74)], [f'{chr(i // 10 + 73)}{i % 10 + 1}' for i in range(74)]]\n",
    "# for destination wells, index 0 is the upper left half of the plate, 1 the upper right, 2 the lower left and 3 the lower right\n",
    "destination_wells = [[f'{chr(i // 10 + 65)}{i % 10 + 3}' for i in range(74)], [f'{chr(i // 10 + 65)}{i % 10 + 13}' for i in range(74)], [f'{chr(i // 10 + 73)}{i % 10 + 3}' for i in range(74)], [f'{chr(i // 10 + 73)}{i % 10 + 13}' for i in range(74)]]\n"
   ],
   "metadata": {
    "collapsed": false,
    "pycharm": {
     "name": "#%%\n"
    }
   }
  },
  {
   "cell_type": "code",
   "execution_count": 18,
   "outputs": [
    {
     "data": {
      "text/plain": "[['Source Barcode',\n  'Source Well',\n  'Destination Barcode',\n  'Destination Well',\n  'Volume']]"
     },
     "execution_count": 18,
     "metadata": {},
     "output_type": "execute_result"
    }
   ],
   "source": [
    "lines = []\n",
    "lines.insert(0, header)\n",
    "lines"
   ],
   "metadata": {
    "collapsed": false,
    "pycharm": {
     "name": "#%%\n"
    }
   }
  },
  {
   "cell_type": "markdown",
   "source": [
    "First, we fill the initiators and monomers in DMSO/oxalic acid solutions"
   ],
   "metadata": {
    "collapsed": false,
    "pycharm": {
     "name": "#%% md\n"
    }
   }
  },
  {
   "cell_type": "code",
   "execution_count": 19,
   "outputs": [],
   "source": [
    "# fill the first initiator, upper left quadrant (with oxalic acid)\n",
    "dest_code = destination_barcode[0]\n",
    "dest_wells = destination_wells[0]\n",
    "vol = volume[0]\n",
    "for dest_well in dest_wells[:len(dest_wells) // 2]:\n",
    "    source_well = initiator_wells[0][0]\n",
    "    lines.append([source_barcode, source_well, dest_code, dest_well, vol])\n",
    "for dest_well in dest_wells[len(dest_wells) // 2:]:\n",
    "    source_well = initiator_wells[0][1]\n",
    "    lines.append([source_barcode, source_well, dest_code, dest_well, vol])"
   ],
   "metadata": {
    "collapsed": false,
    "pycharm": {
     "name": "#%%\n"
    }
   }
  },
  {
   "cell_type": "code",
   "execution_count": 21,
   "outputs": [],
   "source": [
    "# fill the first initiator, upper right quadrant (with oxalic acid)\n",
    "dest_code = destination_barcode[0]\n",
    "dest_wells = destination_wells[1]\n",
    "vol = volume[0]\n",
    "for dest_well in dest_wells[:len(dest_wells) // 2]:\n",
    "    source_well = initiator_wells[0][2]\n",
    "    lines.append([source_barcode, source_well, dest_code, dest_well, vol])\n",
    "for dest_well in dest_wells[len(dest_wells) // 2:]:\n",
    "    source_well = initiator_wells[0][3]\n",
    "    lines.append([source_barcode, source_well, dest_code, dest_well, vol])\n"
   ],
   "metadata": {
    "collapsed": false,
    "pycharm": {
     "name": "#%%\n"
    }
   }
  },
  {
   "cell_type": "code",
   "execution_count": 23,
   "outputs": [],
   "source": [
    "# fill the second initiator, lower left quadrant (with oxalic acid)\n",
    "dest_code = destination_barcode[0]\n",
    "dest_wells = destination_wells[2]\n",
    "vol = volume[0]\n",
    "for dest_well in dest_wells[:len(dest_wells) // 2]:\n",
    "    source_well = initiator_wells[1][0]\n",
    "    lines.append([source_barcode, source_well, dest_code, dest_well, vol])\n",
    "for dest_well in dest_wells[len(dest_wells) // 2:]:\n",
    "    source_well = initiator_wells[1][1]\n",
    "    lines.append([source_barcode, source_well, dest_code, dest_well, vol])"
   ],
   "metadata": {
    "collapsed": false,
    "pycharm": {
     "name": "#%%\n"
    }
   }
  },
  {
   "cell_type": "code",
   "execution_count": 24,
   "outputs": [],
   "source": [
    "# fill the second initiator, lower right quadrant (with oxalic acid)\n",
    "dest_code = destination_barcode[0]\n",
    "dest_wells = destination_wells[3]\n",
    "vol = volume[0]\n",
    "for dest_well in dest_wells[:len(dest_wells) // 2]:\n",
    "    source_well = initiator_wells[1][2]\n",
    "    lines.append([source_barcode, source_well, dest_code, dest_well, vol])\n",
    "for dest_well in dest_wells[len(dest_wells) // 2:]:\n",
    "    source_well = initiator_wells[1][3]\n",
    "    lines.append([source_barcode, source_well, dest_code, dest_well, vol])"
   ],
   "metadata": {
    "collapsed": false,
    "pycharm": {
     "name": "#%%\n"
    }
   }
  },
  {
   "cell_type": "code",
   "execution_count": 34,
   "outputs": [],
   "source": [
    "# fill the monomers (with oxalic acid)\n",
    "dest_code = destination_barcode[0]\n",
    "source_wells = monomer_wells[0]\n",
    "vol = volume[0]\n",
    "for dest_wells in destination_wells:\n",
    "    assert len(source_wells) == len(dest_wells)\n",
    "    for source_well, dest_well in zip(source_wells, dest_wells):\n",
    "        lines.append([source_barcode, source_well, dest_code, dest_well, vol])\n"
   ],
   "metadata": {
    "collapsed": false,
    "pycharm": {
     "name": "#%%\n"
    }
   }
  },
  {
   "cell_type": "markdown",
   "source": [
    "Second, we fill the initiators and monomers in pure DMSO solutions\n"
   ],
   "metadata": {
    "collapsed": false
   }
  },
  {
   "cell_type": "code",
   "execution_count": 37,
   "outputs": [],
   "source": [
    "# fill the first initiator, upper left quadrant (pure DMSO)\n",
    "dest_code = destination_barcode[1]\n",
    "dest_wells = destination_wells[0]\n",
    "vol = volume[1]\n",
    "for dest_well in dest_wells[:len(dest_wells) // 2]:\n",
    "    source_well = initiator_wells[2][0]\n",
    "    lines.append([source_barcode, source_well, dest_code, dest_well, vol])\n",
    "for dest_well in dest_wells[len(dest_wells) // 2:]:\n",
    "    source_well = initiator_wells[2][1]\n",
    "    lines.append([source_barcode, source_well, dest_code, dest_well, vol])"
   ],
   "metadata": {
    "collapsed": false,
    "pycharm": {
     "name": "#%%\n"
    }
   }
  },
  {
   "cell_type": "code",
   "execution_count": 38,
   "outputs": [],
   "source": [
    "# fill the first initiator, upper right quadrant (pure DMSO)\n",
    "dest_code = destination_barcode[1]\n",
    "dest_wells = destination_wells[1]\n",
    "vol = volume[1]\n",
    "for dest_well in dest_wells[:len(dest_wells) // 2]:\n",
    "    source_well = initiator_wells[2][2]\n",
    "    lines.append([source_barcode, source_well, dest_code, dest_well, vol])\n",
    "for dest_well in dest_wells[len(dest_wells) // 2:]:\n",
    "    source_well = initiator_wells[2][3]\n",
    "    lines.append([source_barcode, source_well, dest_code, dest_well, vol])"
   ],
   "metadata": {
    "collapsed": false,
    "pycharm": {
     "name": "#%%\n"
    }
   }
  },
  {
   "cell_type": "code",
   "execution_count": 39,
   "outputs": [],
   "source": [
    "# fill the second initiator, lower left quadrant (pure DMSO)\n",
    "dest_code = destination_barcode[1]\n",
    "dest_wells = destination_wells[2]\n",
    "vol = volume[1]\n",
    "for dest_well in dest_wells[:len(dest_wells) // 2]:\n",
    "    source_well = initiator_wells[3][0]\n",
    "    lines.append([source_barcode, source_well, dest_code, dest_well, vol])\n",
    "for dest_well in dest_wells[len(dest_wells) // 2:]:\n",
    "    source_well = initiator_wells[3][1]\n",
    "    lines.append([source_barcode, source_well, dest_code, dest_well, vol])"
   ],
   "metadata": {
    "collapsed": false,
    "pycharm": {
     "name": "#%%\n"
    }
   }
  },
  {
   "cell_type": "code",
   "execution_count": 40,
   "outputs": [],
   "source": [
    "# fill the second initiator, lower right quadrant (pure DMSO)\n",
    "dest_code = destination_barcode[1]\n",
    "dest_wells = destination_wells[3]\n",
    "vol = volume[1]\n",
    "for dest_well in dest_wells[:len(dest_wells) // 2]:\n",
    "    source_well = initiator_wells[3][2]\n",
    "    lines.append([source_barcode, source_well, dest_code, dest_well, vol])\n",
    "for dest_well in dest_wells[len(dest_wells) // 2:]:\n",
    "    source_well = initiator_wells[3][3]\n",
    "    lines.append([source_barcode, source_well, dest_code, dest_well, vol])"
   ],
   "metadata": {
    "collapsed": false,
    "pycharm": {
     "name": "#%%\n"
    }
   }
  },
  {
   "cell_type": "code",
   "execution_count": 41,
   "outputs": [],
   "source": [
    "# fill the monomers (pure DMSO)\n",
    "dest_code = destination_barcode[1]\n",
    "source_wells = monomer_wells[1]\n",
    "vol = volume[1]\n",
    "for dest_wells in destination_wells:\n",
    "    assert len(source_wells) == len(dest_wells)\n",
    "    for source_well, dest_well in zip(source_wells, dest_wells):\n",
    "        lines.append([source_barcode, source_well, dest_code, dest_well, vol])"
   ],
   "metadata": {
    "collapsed": false,
    "pycharm": {
     "name": "#%%\n"
    }
   }
  },
  {
   "cell_type": "markdown",
   "source": [
    "At this point, I/M transfers are finished. We write some tests before saving."
   ],
   "metadata": {
    "collapsed": false,
    "pycharm": {
     "name": "#%% md\n"
    }
   }
  },
  {
   "cell_type": "code",
   "execution_count": 53,
   "outputs": [],
   "source": [
    "# correct number of transfers?\n",
    "assert len(lines) == 74 * 4 * 2 * 2 + 1\n",
    "# initiator source wells occur 37 times, monomer source wells 4 times?\n",
    "used_wells = [l[1] for l in lines[1:]]\n",
    "for v in Counter(used_wells).values():\n",
    "    assert v in [4, 37]"
   ],
   "metadata": {
    "collapsed": false,
    "pycharm": {
     "name": "#%%\n"
    }
   }
  },
  {
   "cell_type": "code",
   "execution_count": 54,
   "outputs": [],
   "source": [
    "# save to file\n",
    "with open('transfer1.csv', 'w') as file:\n",
    "    writer = csv.writer(file)\n",
    "    writer.writerows(lines)"
   ],
   "metadata": {
    "collapsed": false,
    "pycharm": {
     "name": "#%%\n"
    }
   }
  },
  {
   "cell_type": "markdown",
   "source": [
    "Let's move on to T transfers. Again, we fill plate Synthesis1 first."
   ],
   "metadata": {
    "collapsed": false
   }
  },
  {
   "cell_type": "code",
   "execution_count": 57,
   "outputs": [
    {
     "data": {
      "text/plain": "[['Source Barcode',\n  'Source Well',\n  'Destination Barcode',\n  'Destination Well',\n  'Volume']]"
     },
     "execution_count": 57,
     "metadata": {},
     "output_type": "execute_result"
    }
   ],
   "source": [
    "lines = []\n",
    "lines.insert(0, header)\n",
    "lines"
   ],
   "metadata": {
    "collapsed": false,
    "pycharm": {
     "name": "#%%\n"
    }
   }
  },
  {
   "cell_type": "code",
   "execution_count": 58,
   "outputs": [],
   "source": [
    "# fill the first terminator, upper left quadrant (with oxalic acid)\n",
    "dest_code = destination_barcode[0]\n",
    "dest_wells = destination_wells[0]\n",
    "vol = volume[0]\n",
    "for dest_well in dest_wells[:len(dest_wells) // 2]:\n",
    "    source_well = terminator_wells[0][0]\n",
    "    lines.append([source_barcode, source_well, dest_code, dest_well, vol])\n",
    "for dest_well in dest_wells[len(dest_wells) // 2:]:\n",
    "    source_well = terminator_wells[0][1]\n",
    "    lines.append([source_barcode, source_well, dest_code, dest_well, vol])"
   ],
   "metadata": {
    "collapsed": false,
    "pycharm": {
     "name": "#%%\n"
    }
   }
  },
  {
   "cell_type": "code",
   "execution_count": 59,
   "outputs": [],
   "source": [
    "# fill the first terminator, lower left quadrant (with oxalic acid)\n",
    "dest_code = destination_barcode[0]\n",
    "dest_wells = destination_wells[2]\n",
    "vol = volume[0]\n",
    "for dest_well in dest_wells[:len(dest_wells) // 2]:\n",
    "    source_well = terminator_wells[0][2]\n",
    "    lines.append([source_barcode, source_well, dest_code, dest_well, vol])\n",
    "for dest_well in dest_wells[len(dest_wells) // 2:]:\n",
    "    source_well = terminator_wells[0][3]\n",
    "    lines.append([source_barcode, source_well, dest_code, dest_well, vol])"
   ],
   "metadata": {
    "collapsed": false,
    "pycharm": {
     "name": "#%%\n"
    }
   }
  },
  {
   "cell_type": "code",
   "execution_count": 60,
   "outputs": [],
   "source": [
    "# fill the second terminator, upper right quadrant (with oxalic acid)\n",
    "dest_code = destination_barcode[0]\n",
    "dest_wells = destination_wells[1]\n",
    "vol = volume[0]\n",
    "for dest_well in dest_wells[:len(dest_wells) // 2]:\n",
    "    source_well = terminator_wells[2][0]\n",
    "    lines.append([source_barcode, source_well, dest_code, dest_well, vol])\n",
    "for dest_well in dest_wells[len(dest_wells) // 2:]:\n",
    "    source_well = terminator_wells[2][1]\n",
    "    lines.append([source_barcode, source_well, dest_code, dest_well, vol])"
   ],
   "metadata": {
    "collapsed": false,
    "pycharm": {
     "name": "#%%\n"
    }
   }
  },
  {
   "cell_type": "code",
   "execution_count": 61,
   "outputs": [],
   "source": [
    "# fill the second terminator, lower right quadrant (with oxalic acid)\n",
    "dest_code = destination_barcode[0]\n",
    "dest_wells = destination_wells[3]\n",
    "vol = volume[0]\n",
    "for dest_well in dest_wells[:len(dest_wells) // 2]:\n",
    "    source_well = terminator_wells[2][2]\n",
    "    lines.append([source_barcode, source_well, dest_code, dest_well, vol])\n",
    "for dest_well in dest_wells[len(dest_wells) // 2:]:\n",
    "    source_well = terminator_wells[2][3]\n",
    "    lines.append([source_barcode, source_well, dest_code, dest_well, vol])"
   ],
   "metadata": {
    "collapsed": false,
    "pycharm": {
     "name": "#%%\n"
    }
   }
  },
  {
   "cell_type": "markdown",
   "source": [
    "Second, we fill the terminators into plate Synthesis2\n"
   ],
   "metadata": {
    "collapsed": false
   }
  },
  {
   "cell_type": "code",
   "execution_count": 62,
   "outputs": [],
   "source": [
    "# fill the first terminator, upper left quadrant (with oxalic acid)\n",
    "dest_code = destination_barcode[1]\n",
    "dest_wells = destination_wells[0]\n",
    "vol = volume[0]\n",
    "for dest_well in dest_wells[:len(dest_wells) // 2]:\n",
    "    source_well = terminator_wells[1][0]\n",
    "    lines.append([source_barcode, source_well, dest_code, dest_well, vol])\n",
    "for dest_well in dest_wells[len(dest_wells) // 2:]:\n",
    "    source_well = terminator_wells[1][1]\n",
    "    lines.append([source_barcode, source_well, dest_code, dest_well, vol])"
   ],
   "metadata": {
    "collapsed": false,
    "pycharm": {
     "name": "#%%\n"
    }
   }
  },
  {
   "cell_type": "code",
   "execution_count": 63,
   "outputs": [],
   "source": [
    "# fill the first terminator, lower left quadrant (with oxalic acid)\n",
    "dest_code = destination_barcode[1]\n",
    "dest_wells = destination_wells[2]\n",
    "vol = volume[0]\n",
    "for dest_well in dest_wells[:len(dest_wells) // 2]:\n",
    "    source_well = terminator_wells[1][2]\n",
    "    lines.append([source_barcode, source_well, dest_code, dest_well, vol])\n",
    "for dest_well in dest_wells[len(dest_wells) // 2:]:\n",
    "    source_well = terminator_wells[1][3]\n",
    "    lines.append([source_barcode, source_well, dest_code, dest_well, vol])"
   ],
   "metadata": {
    "collapsed": false,
    "pycharm": {
     "name": "#%%\n"
    }
   }
  },
  {
   "cell_type": "code",
   "execution_count": 64,
   "outputs": [],
   "source": [
    "# fill the second terminator, upper right quadrant (with oxalic acid)\n",
    "dest_code = destination_barcode[1]\n",
    "dest_wells = destination_wells[1]\n",
    "vol = volume[0]\n",
    "for dest_well in dest_wells[:len(dest_wells) // 2]:\n",
    "    source_well = terminator_wells[3][0]\n",
    "    lines.append([source_barcode, source_well, dest_code, dest_well, vol])\n",
    "for dest_well in dest_wells[len(dest_wells) // 2:]:\n",
    "    source_well = terminator_wells[3][1]\n",
    "    lines.append([source_barcode, source_well, dest_code, dest_well, vol])"
   ],
   "metadata": {
    "collapsed": false,
    "pycharm": {
     "name": "#%%\n"
    }
   }
  },
  {
   "cell_type": "code",
   "execution_count": 65,
   "outputs": [],
   "source": [
    "# fill the second terminator, lower right quadrant (with oxalic acid)\n",
    "dest_code = destination_barcode[1]\n",
    "dest_wells = destination_wells[3]\n",
    "vol = volume[0]\n",
    "for dest_well in dest_wells[:len(dest_wells) // 2]:\n",
    "    source_well = terminator_wells[3][2]\n",
    "    lines.append([source_barcode, source_well, dest_code, dest_well, vol])\n",
    "for dest_well in dest_wells[len(dest_wells) // 2:]:\n",
    "    source_well = terminator_wells[3][3]\n",
    "    lines.append([source_barcode, source_well, dest_code, dest_well, vol])\n"
   ],
   "metadata": {
    "collapsed": false,
    "pycharm": {
     "name": "#%%\n"
    }
   }
  },
  {
   "cell_type": "code",
   "execution_count": 66,
   "outputs": [
    {
     "data": {
      "text/plain": "593"
     },
     "execution_count": 66,
     "metadata": {},
     "output_type": "execute_result"
    }
   ],
   "source": [
    "len(lines)"
   ],
   "metadata": {
    "collapsed": false,
    "pycharm": {
     "name": "#%%\n"
    }
   }
  },
  {
   "cell_type": "code",
   "execution_count": 67,
   "outputs": [
    {
     "data": {
      "text/plain": "[['Source Barcode',\n  'Source Well',\n  'Destination Barcode',\n  'Destination Well',\n  'Volume'],\n ['Source1', 'D13', 'Synthesis1', 'A3', 1100],\n ['Source1', 'D13', 'Synthesis1', 'A4', 1100],\n ['Source1', 'D13', 'Synthesis1', 'A5', 1100],\n ['Source1', 'D13', 'Synthesis1', 'A6', 1100],\n ['Source1', 'D13', 'Synthesis1', 'A7', 1100],\n ['Source1', 'D13', 'Synthesis1', 'A8', 1100],\n ['Source1', 'D13', 'Synthesis1', 'A9', 1100],\n ['Source1', 'D13', 'Synthesis1', 'A10', 1100],\n ['Source1', 'D13', 'Synthesis1', 'A11', 1100],\n ['Source1', 'D13', 'Synthesis1', 'A12', 1100],\n ['Source1', 'D13', 'Synthesis1', 'B3', 1100],\n ['Source1', 'D13', 'Synthesis1', 'B4', 1100],\n ['Source1', 'D13', 'Synthesis1', 'B5', 1100],\n ['Source1', 'D13', 'Synthesis1', 'B6', 1100],\n ['Source1', 'D13', 'Synthesis1', 'B7', 1100],\n ['Source1', 'D13', 'Synthesis1', 'B8', 1100],\n ['Source1', 'D13', 'Synthesis1', 'B9', 1100],\n ['Source1', 'D13', 'Synthesis1', 'B10', 1100],\n ['Source1', 'D13', 'Synthesis1', 'B11', 1100],\n ['Source1', 'D13', 'Synthesis1', 'B12', 1100],\n ['Source1', 'D13', 'Synthesis1', 'C3', 1100],\n ['Source1', 'D13', 'Synthesis1', 'C4', 1100],\n ['Source1', 'D13', 'Synthesis1', 'C5', 1100],\n ['Source1', 'D13', 'Synthesis1', 'C6', 1100],\n ['Source1', 'D13', 'Synthesis1', 'C7', 1100],\n ['Source1', 'D13', 'Synthesis1', 'C8', 1100],\n ['Source1', 'D13', 'Synthesis1', 'C9', 1100],\n ['Source1', 'D13', 'Synthesis1', 'C10', 1100],\n ['Source1', 'D13', 'Synthesis1', 'C11', 1100],\n ['Source1', 'D13', 'Synthesis1', 'C12', 1100],\n ['Source1', 'D13', 'Synthesis1', 'D3', 1100],\n ['Source1', 'D13', 'Synthesis1', 'D4', 1100],\n ['Source1', 'D13', 'Synthesis1', 'D5', 1100],\n ['Source1', 'D13', 'Synthesis1', 'D6', 1100],\n ['Source1', 'D13', 'Synthesis1', 'D7', 1100],\n ['Source1', 'D13', 'Synthesis1', 'D8', 1100],\n ['Source1', 'D13', 'Synthesis1', 'D9', 1100],\n ['Source1', 'D14', 'Synthesis1', 'D10', 1100],\n ['Source1', 'D14', 'Synthesis1', 'D11', 1100],\n ['Source1', 'D14', 'Synthesis1', 'D12', 1100],\n ['Source1', 'D14', 'Synthesis1', 'E3', 1100],\n ['Source1', 'D14', 'Synthesis1', 'E4', 1100],\n ['Source1', 'D14', 'Synthesis1', 'E5', 1100],\n ['Source1', 'D14', 'Synthesis1', 'E6', 1100],\n ['Source1', 'D14', 'Synthesis1', 'E7', 1100],\n ['Source1', 'D14', 'Synthesis1', 'E8', 1100],\n ['Source1', 'D14', 'Synthesis1', 'E9', 1100],\n ['Source1', 'D14', 'Synthesis1', 'E10', 1100],\n ['Source1', 'D14', 'Synthesis1', 'E11', 1100],\n ['Source1', 'D14', 'Synthesis1', 'E12', 1100],\n ['Source1', 'D14', 'Synthesis1', 'F3', 1100],\n ['Source1', 'D14', 'Synthesis1', 'F4', 1100],\n ['Source1', 'D14', 'Synthesis1', 'F5', 1100],\n ['Source1', 'D14', 'Synthesis1', 'F6', 1100],\n ['Source1', 'D14', 'Synthesis1', 'F7', 1100],\n ['Source1', 'D14', 'Synthesis1', 'F8', 1100],\n ['Source1', 'D14', 'Synthesis1', 'F9', 1100],\n ['Source1', 'D14', 'Synthesis1', 'F10', 1100],\n ['Source1', 'D14', 'Synthesis1', 'F11', 1100],\n ['Source1', 'D14', 'Synthesis1', 'F12', 1100],\n ['Source1', 'D14', 'Synthesis1', 'G3', 1100],\n ['Source1', 'D14', 'Synthesis1', 'G4', 1100],\n ['Source1', 'D14', 'Synthesis1', 'G5', 1100],\n ['Source1', 'D14', 'Synthesis1', 'G6', 1100],\n ['Source1', 'D14', 'Synthesis1', 'G7', 1100],\n ['Source1', 'D14', 'Synthesis1', 'G8', 1100],\n ['Source1', 'D14', 'Synthesis1', 'G9', 1100],\n ['Source1', 'D14', 'Synthesis1', 'G10', 1100],\n ['Source1', 'D14', 'Synthesis1', 'G11', 1100],\n ['Source1', 'D14', 'Synthesis1', 'G12', 1100],\n ['Source1', 'D14', 'Synthesis1', 'H3', 1100],\n ['Source1', 'D14', 'Synthesis1', 'H4', 1100],\n ['Source1', 'D14', 'Synthesis1', 'H5', 1100],\n ['Source1', 'D14', 'Synthesis1', 'H6', 1100],\n ['Source1', 'D15', 'Synthesis1', 'I3', 1100],\n ['Source1', 'D15', 'Synthesis1', 'I4', 1100],\n ['Source1', 'D15', 'Synthesis1', 'I5', 1100],\n ['Source1', 'D15', 'Synthesis1', 'I6', 1100],\n ['Source1', 'D15', 'Synthesis1', 'I7', 1100],\n ['Source1', 'D15', 'Synthesis1', 'I8', 1100],\n ['Source1', 'D15', 'Synthesis1', 'I9', 1100],\n ['Source1', 'D15', 'Synthesis1', 'I10', 1100],\n ['Source1', 'D15', 'Synthesis1', 'I11', 1100],\n ['Source1', 'D15', 'Synthesis1', 'I12', 1100],\n ['Source1', 'D15', 'Synthesis1', 'J3', 1100],\n ['Source1', 'D15', 'Synthesis1', 'J4', 1100],\n ['Source1', 'D15', 'Synthesis1', 'J5', 1100],\n ['Source1', 'D15', 'Synthesis1', 'J6', 1100],\n ['Source1', 'D15', 'Synthesis1', 'J7', 1100],\n ['Source1', 'D15', 'Synthesis1', 'J8', 1100],\n ['Source1', 'D15', 'Synthesis1', 'J9', 1100],\n ['Source1', 'D15', 'Synthesis1', 'J10', 1100],\n ['Source1', 'D15', 'Synthesis1', 'J11', 1100],\n ['Source1', 'D15', 'Synthesis1', 'J12', 1100],\n ['Source1', 'D15', 'Synthesis1', 'K3', 1100],\n ['Source1', 'D15', 'Synthesis1', 'K4', 1100],\n ['Source1', 'D15', 'Synthesis1', 'K5', 1100],\n ['Source1', 'D15', 'Synthesis1', 'K6', 1100],\n ['Source1', 'D15', 'Synthesis1', 'K7', 1100],\n ['Source1', 'D15', 'Synthesis1', 'K8', 1100],\n ['Source1', 'D15', 'Synthesis1', 'K9', 1100],\n ['Source1', 'D15', 'Synthesis1', 'K10', 1100],\n ['Source1', 'D15', 'Synthesis1', 'K11', 1100],\n ['Source1', 'D15', 'Synthesis1', 'K12', 1100],\n ['Source1', 'D15', 'Synthesis1', 'L3', 1100],\n ['Source1', 'D15', 'Synthesis1', 'L4', 1100],\n ['Source1', 'D15', 'Synthesis1', 'L5', 1100],\n ['Source1', 'D15', 'Synthesis1', 'L6', 1100],\n ['Source1', 'D15', 'Synthesis1', 'L7', 1100],\n ['Source1', 'D15', 'Synthesis1', 'L8', 1100],\n ['Source1', 'D15', 'Synthesis1', 'L9', 1100],\n ['Source1', 'D16', 'Synthesis1', 'L10', 1100],\n ['Source1', 'D16', 'Synthesis1', 'L11', 1100],\n ['Source1', 'D16', 'Synthesis1', 'L12', 1100],\n ['Source1', 'D16', 'Synthesis1', 'M3', 1100],\n ['Source1', 'D16', 'Synthesis1', 'M4', 1100],\n ['Source1', 'D16', 'Synthesis1', 'M5', 1100],\n ['Source1', 'D16', 'Synthesis1', 'M6', 1100],\n ['Source1', 'D16', 'Synthesis1', 'M7', 1100],\n ['Source1', 'D16', 'Synthesis1', 'M8', 1100],\n ['Source1', 'D16', 'Synthesis1', 'M9', 1100],\n ['Source1', 'D16', 'Synthesis1', 'M10', 1100],\n ['Source1', 'D16', 'Synthesis1', 'M11', 1100],\n ['Source1', 'D16', 'Synthesis1', 'M12', 1100],\n ['Source1', 'D16', 'Synthesis1', 'N3', 1100],\n ['Source1', 'D16', 'Synthesis1', 'N4', 1100],\n ['Source1', 'D16', 'Synthesis1', 'N5', 1100],\n ['Source1', 'D16', 'Synthesis1', 'N6', 1100],\n ['Source1', 'D16', 'Synthesis1', 'N7', 1100],\n ['Source1', 'D16', 'Synthesis1', 'N8', 1100],\n ['Source1', 'D16', 'Synthesis1', 'N9', 1100],\n ['Source1', 'D16', 'Synthesis1', 'N10', 1100],\n ['Source1', 'D16', 'Synthesis1', 'N11', 1100],\n ['Source1', 'D16', 'Synthesis1', 'N12', 1100],\n ['Source1', 'D16', 'Synthesis1', 'O3', 1100],\n ['Source1', 'D16', 'Synthesis1', 'O4', 1100],\n ['Source1', 'D16', 'Synthesis1', 'O5', 1100],\n ['Source1', 'D16', 'Synthesis1', 'O6', 1100],\n ['Source1', 'D16', 'Synthesis1', 'O7', 1100],\n ['Source1', 'D16', 'Synthesis1', 'O8', 1100],\n ['Source1', 'D16', 'Synthesis1', 'O9', 1100],\n ['Source1', 'D16', 'Synthesis1', 'O10', 1100],\n ['Source1', 'D16', 'Synthesis1', 'O11', 1100],\n ['Source1', 'D16', 'Synthesis1', 'O12', 1100],\n ['Source1', 'D16', 'Synthesis1', 'P3', 1100],\n ['Source1', 'D16', 'Synthesis1', 'P4', 1100],\n ['Source1', 'D16', 'Synthesis1', 'P5', 1100],\n ['Source1', 'D16', 'Synthesis1', 'P6', 1100],\n ['Source1', 'F13', 'Synthesis1', 'A13', 1100],\n ['Source1', 'F13', 'Synthesis1', 'A14', 1100],\n ['Source1', 'F13', 'Synthesis1', 'A15', 1100],\n ['Source1', 'F13', 'Synthesis1', 'A16', 1100],\n ['Source1', 'F13', 'Synthesis1', 'A17', 1100],\n ['Source1', 'F13', 'Synthesis1', 'A18', 1100],\n ['Source1', 'F13', 'Synthesis1', 'A19', 1100],\n ['Source1', 'F13', 'Synthesis1', 'A20', 1100],\n ['Source1', 'F13', 'Synthesis1', 'A21', 1100],\n ['Source1', 'F13', 'Synthesis1', 'A22', 1100],\n ['Source1', 'F13', 'Synthesis1', 'B13', 1100],\n ['Source1', 'F13', 'Synthesis1', 'B14', 1100],\n ['Source1', 'F13', 'Synthesis1', 'B15', 1100],\n ['Source1', 'F13', 'Synthesis1', 'B16', 1100],\n ['Source1', 'F13', 'Synthesis1', 'B17', 1100],\n ['Source1', 'F13', 'Synthesis1', 'B18', 1100],\n ['Source1', 'F13', 'Synthesis1', 'B19', 1100],\n ['Source1', 'F13', 'Synthesis1', 'B20', 1100],\n ['Source1', 'F13', 'Synthesis1', 'B21', 1100],\n ['Source1', 'F13', 'Synthesis1', 'B22', 1100],\n ['Source1', 'F13', 'Synthesis1', 'C13', 1100],\n ['Source1', 'F13', 'Synthesis1', 'C14', 1100],\n ['Source1', 'F13', 'Synthesis1', 'C15', 1100],\n ['Source1', 'F13', 'Synthesis1', 'C16', 1100],\n ['Source1', 'F13', 'Synthesis1', 'C17', 1100],\n ['Source1', 'F13', 'Synthesis1', 'C18', 1100],\n ['Source1', 'F13', 'Synthesis1', 'C19', 1100],\n ['Source1', 'F13', 'Synthesis1', 'C20', 1100],\n ['Source1', 'F13', 'Synthesis1', 'C21', 1100],\n ['Source1', 'F13', 'Synthesis1', 'C22', 1100],\n ['Source1', 'F13', 'Synthesis1', 'D13', 1100],\n ['Source1', 'F13', 'Synthesis1', 'D14', 1100],\n ['Source1', 'F13', 'Synthesis1', 'D15', 1100],\n ['Source1', 'F13', 'Synthesis1', 'D16', 1100],\n ['Source1', 'F13', 'Synthesis1', 'D17', 1100],\n ['Source1', 'F13', 'Synthesis1', 'D18', 1100],\n ['Source1', 'F13', 'Synthesis1', 'D19', 1100],\n ['Source1', 'F14', 'Synthesis1', 'D20', 1100],\n ['Source1', 'F14', 'Synthesis1', 'D21', 1100],\n ['Source1', 'F14', 'Synthesis1', 'D22', 1100],\n ['Source1', 'F14', 'Synthesis1', 'E13', 1100],\n ['Source1', 'F14', 'Synthesis1', 'E14', 1100],\n ['Source1', 'F14', 'Synthesis1', 'E15', 1100],\n ['Source1', 'F14', 'Synthesis1', 'E16', 1100],\n ['Source1', 'F14', 'Synthesis1', 'E17', 1100],\n ['Source1', 'F14', 'Synthesis1', 'E18', 1100],\n ['Source1', 'F14', 'Synthesis1', 'E19', 1100],\n ['Source1', 'F14', 'Synthesis1', 'E20', 1100],\n ['Source1', 'F14', 'Synthesis1', 'E21', 1100],\n ['Source1', 'F14', 'Synthesis1', 'E22', 1100],\n ['Source1', 'F14', 'Synthesis1', 'F13', 1100],\n ['Source1', 'F14', 'Synthesis1', 'F14', 1100],\n ['Source1', 'F14', 'Synthesis1', 'F15', 1100],\n ['Source1', 'F14', 'Synthesis1', 'F16', 1100],\n ['Source1', 'F14', 'Synthesis1', 'F17', 1100],\n ['Source1', 'F14', 'Synthesis1', 'F18', 1100],\n ['Source1', 'F14', 'Synthesis1', 'F19', 1100],\n ['Source1', 'F14', 'Synthesis1', 'F20', 1100],\n ['Source1', 'F14', 'Synthesis1', 'F21', 1100],\n ['Source1', 'F14', 'Synthesis1', 'F22', 1100],\n ['Source1', 'F14', 'Synthesis1', 'G13', 1100],\n ['Source1', 'F14', 'Synthesis1', 'G14', 1100],\n ['Source1', 'F14', 'Synthesis1', 'G15', 1100],\n ['Source1', 'F14', 'Synthesis1', 'G16', 1100],\n ['Source1', 'F14', 'Synthesis1', 'G17', 1100],\n ['Source1', 'F14', 'Synthesis1', 'G18', 1100],\n ['Source1', 'F14', 'Synthesis1', 'G19', 1100],\n ['Source1', 'F14', 'Synthesis1', 'G20', 1100],\n ['Source1', 'F14', 'Synthesis1', 'G21', 1100],\n ['Source1', 'F14', 'Synthesis1', 'G22', 1100],\n ['Source1', 'F14', 'Synthesis1', 'H13', 1100],\n ['Source1', 'F14', 'Synthesis1', 'H14', 1100],\n ['Source1', 'F14', 'Synthesis1', 'H15', 1100],\n ['Source1', 'F14', 'Synthesis1', 'H16', 1100],\n ['Source1', 'F15', 'Synthesis1', 'I13', 1100],\n ['Source1', 'F15', 'Synthesis1', 'I14', 1100],\n ['Source1', 'F15', 'Synthesis1', 'I15', 1100],\n ['Source1', 'F15', 'Synthesis1', 'I16', 1100],\n ['Source1', 'F15', 'Synthesis1', 'I17', 1100],\n ['Source1', 'F15', 'Synthesis1', 'I18', 1100],\n ['Source1', 'F15', 'Synthesis1', 'I19', 1100],\n ['Source1', 'F15', 'Synthesis1', 'I20', 1100],\n ['Source1', 'F15', 'Synthesis1', 'I21', 1100],\n ['Source1', 'F15', 'Synthesis1', 'I22', 1100],\n ['Source1', 'F15', 'Synthesis1', 'J13', 1100],\n ['Source1', 'F15', 'Synthesis1', 'J14', 1100],\n ['Source1', 'F15', 'Synthesis1', 'J15', 1100],\n ['Source1', 'F15', 'Synthesis1', 'J16', 1100],\n ['Source1', 'F15', 'Synthesis1', 'J17', 1100],\n ['Source1', 'F15', 'Synthesis1', 'J18', 1100],\n ['Source1', 'F15', 'Synthesis1', 'J19', 1100],\n ['Source1', 'F15', 'Synthesis1', 'J20', 1100],\n ['Source1', 'F15', 'Synthesis1', 'J21', 1100],\n ['Source1', 'F15', 'Synthesis1', 'J22', 1100],\n ['Source1', 'F15', 'Synthesis1', 'K13', 1100],\n ['Source1', 'F15', 'Synthesis1', 'K14', 1100],\n ['Source1', 'F15', 'Synthesis1', 'K15', 1100],\n ['Source1', 'F15', 'Synthesis1', 'K16', 1100],\n ['Source1', 'F15', 'Synthesis1', 'K17', 1100],\n ['Source1', 'F15', 'Synthesis1', 'K18', 1100],\n ['Source1', 'F15', 'Synthesis1', 'K19', 1100],\n ['Source1', 'F15', 'Synthesis1', 'K20', 1100],\n ['Source1', 'F15', 'Synthesis1', 'K21', 1100],\n ['Source1', 'F15', 'Synthesis1', 'K22', 1100],\n ['Source1', 'F15', 'Synthesis1', 'L13', 1100],\n ['Source1', 'F15', 'Synthesis1', 'L14', 1100],\n ['Source1', 'F15', 'Synthesis1', 'L15', 1100],\n ['Source1', 'F15', 'Synthesis1', 'L16', 1100],\n ['Source1', 'F15', 'Synthesis1', 'L17', 1100],\n ['Source1', 'F15', 'Synthesis1', 'L18', 1100],\n ['Source1', 'F15', 'Synthesis1', 'L19', 1100],\n ['Source1', 'F16', 'Synthesis1', 'L20', 1100],\n ['Source1', 'F16', 'Synthesis1', 'L21', 1100],\n ['Source1', 'F16', 'Synthesis1', 'L22', 1100],\n ['Source1', 'F16', 'Synthesis1', 'M13', 1100],\n ['Source1', 'F16', 'Synthesis1', 'M14', 1100],\n ['Source1', 'F16', 'Synthesis1', 'M15', 1100],\n ['Source1', 'F16', 'Synthesis1', 'M16', 1100],\n ['Source1', 'F16', 'Synthesis1', 'M17', 1100],\n ['Source1', 'F16', 'Synthesis1', 'M18', 1100],\n ['Source1', 'F16', 'Synthesis1', 'M19', 1100],\n ['Source1', 'F16', 'Synthesis1', 'M20', 1100],\n ['Source1', 'F16', 'Synthesis1', 'M21', 1100],\n ['Source1', 'F16', 'Synthesis1', 'M22', 1100],\n ['Source1', 'F16', 'Synthesis1', 'N13', 1100],\n ['Source1', 'F16', 'Synthesis1', 'N14', 1100],\n ['Source1', 'F16', 'Synthesis1', 'N15', 1100],\n ['Source1', 'F16', 'Synthesis1', 'N16', 1100],\n ['Source1', 'F16', 'Synthesis1', 'N17', 1100],\n ['Source1', 'F16', 'Synthesis1', 'N18', 1100],\n ['Source1', 'F16', 'Synthesis1', 'N19', 1100],\n ['Source1', 'F16', 'Synthesis1', 'N20', 1100],\n ['Source1', 'F16', 'Synthesis1', 'N21', 1100],\n ['Source1', 'F16', 'Synthesis1', 'N22', 1100],\n ['Source1', 'F16', 'Synthesis1', 'O13', 1100],\n ['Source1', 'F16', 'Synthesis1', 'O14', 1100],\n ['Source1', 'F16', 'Synthesis1', 'O15', 1100],\n ['Source1', 'F16', 'Synthesis1', 'O16', 1100],\n ['Source1', 'F16', 'Synthesis1', 'O17', 1100],\n ['Source1', 'F16', 'Synthesis1', 'O18', 1100],\n ['Source1', 'F16', 'Synthesis1', 'O19', 1100],\n ['Source1', 'F16', 'Synthesis1', 'O20', 1100],\n ['Source1', 'F16', 'Synthesis1', 'O21', 1100],\n ['Source1', 'F16', 'Synthesis1', 'O22', 1100],\n ['Source1', 'F16', 'Synthesis1', 'P13', 1100],\n ['Source1', 'F16', 'Synthesis1', 'P14', 1100],\n ['Source1', 'F16', 'Synthesis1', 'P15', 1100],\n ['Source1', 'F16', 'Synthesis1', 'P16', 1100],\n ['Source1', 'E13', 'Synthesis2', 'A3', 1100],\n ['Source1', 'E13', 'Synthesis2', 'A4', 1100],\n ['Source1', 'E13', 'Synthesis2', 'A5', 1100],\n ['Source1', 'E13', 'Synthesis2', 'A6', 1100],\n ['Source1', 'E13', 'Synthesis2', 'A7', 1100],\n ['Source1', 'E13', 'Synthesis2', 'A8', 1100],\n ['Source1', 'E13', 'Synthesis2', 'A9', 1100],\n ['Source1', 'E13', 'Synthesis2', 'A10', 1100],\n ['Source1', 'E13', 'Synthesis2', 'A11', 1100],\n ['Source1', 'E13', 'Synthesis2', 'A12', 1100],\n ['Source1', 'E13', 'Synthesis2', 'B3', 1100],\n ['Source1', 'E13', 'Synthesis2', 'B4', 1100],\n ['Source1', 'E13', 'Synthesis2', 'B5', 1100],\n ['Source1', 'E13', 'Synthesis2', 'B6', 1100],\n ['Source1', 'E13', 'Synthesis2', 'B7', 1100],\n ['Source1', 'E13', 'Synthesis2', 'B8', 1100],\n ['Source1', 'E13', 'Synthesis2', 'B9', 1100],\n ['Source1', 'E13', 'Synthesis2', 'B10', 1100],\n ['Source1', 'E13', 'Synthesis2', 'B11', 1100],\n ['Source1', 'E13', 'Synthesis2', 'B12', 1100],\n ['Source1', 'E13', 'Synthesis2', 'C3', 1100],\n ['Source1', 'E13', 'Synthesis2', 'C4', 1100],\n ['Source1', 'E13', 'Synthesis2', 'C5', 1100],\n ['Source1', 'E13', 'Synthesis2', 'C6', 1100],\n ['Source1', 'E13', 'Synthesis2', 'C7', 1100],\n ['Source1', 'E13', 'Synthesis2', 'C8', 1100],\n ['Source1', 'E13', 'Synthesis2', 'C9', 1100],\n ['Source1', 'E13', 'Synthesis2', 'C10', 1100],\n ['Source1', 'E13', 'Synthesis2', 'C11', 1100],\n ['Source1', 'E13', 'Synthesis2', 'C12', 1100],\n ['Source1', 'E13', 'Synthesis2', 'D3', 1100],\n ['Source1', 'E13', 'Synthesis2', 'D4', 1100],\n ['Source1', 'E13', 'Synthesis2', 'D5', 1100],\n ['Source1', 'E13', 'Synthesis2', 'D6', 1100],\n ['Source1', 'E13', 'Synthesis2', 'D7', 1100],\n ['Source1', 'E13', 'Synthesis2', 'D8', 1100],\n ['Source1', 'E13', 'Synthesis2', 'D9', 1100],\n ['Source1', 'E14', 'Synthesis2', 'D10', 1100],\n ['Source1', 'E14', 'Synthesis2', 'D11', 1100],\n ['Source1', 'E14', 'Synthesis2', 'D12', 1100],\n ['Source1', 'E14', 'Synthesis2', 'E3', 1100],\n ['Source1', 'E14', 'Synthesis2', 'E4', 1100],\n ['Source1', 'E14', 'Synthesis2', 'E5', 1100],\n ['Source1', 'E14', 'Synthesis2', 'E6', 1100],\n ['Source1', 'E14', 'Synthesis2', 'E7', 1100],\n ['Source1', 'E14', 'Synthesis2', 'E8', 1100],\n ['Source1', 'E14', 'Synthesis2', 'E9', 1100],\n ['Source1', 'E14', 'Synthesis2', 'E10', 1100],\n ['Source1', 'E14', 'Synthesis2', 'E11', 1100],\n ['Source1', 'E14', 'Synthesis2', 'E12', 1100],\n ['Source1', 'E14', 'Synthesis2', 'F3', 1100],\n ['Source1', 'E14', 'Synthesis2', 'F4', 1100],\n ['Source1', 'E14', 'Synthesis2', 'F5', 1100],\n ['Source1', 'E14', 'Synthesis2', 'F6', 1100],\n ['Source1', 'E14', 'Synthesis2', 'F7', 1100],\n ['Source1', 'E14', 'Synthesis2', 'F8', 1100],\n ['Source1', 'E14', 'Synthesis2', 'F9', 1100],\n ['Source1', 'E14', 'Synthesis2', 'F10', 1100],\n ['Source1', 'E14', 'Synthesis2', 'F11', 1100],\n ['Source1', 'E14', 'Synthesis2', 'F12', 1100],\n ['Source1', 'E14', 'Synthesis2', 'G3', 1100],\n ['Source1', 'E14', 'Synthesis2', 'G4', 1100],\n ['Source1', 'E14', 'Synthesis2', 'G5', 1100],\n ['Source1', 'E14', 'Synthesis2', 'G6', 1100],\n ['Source1', 'E14', 'Synthesis2', 'G7', 1100],\n ['Source1', 'E14', 'Synthesis2', 'G8', 1100],\n ['Source1', 'E14', 'Synthesis2', 'G9', 1100],\n ['Source1', 'E14', 'Synthesis2', 'G10', 1100],\n ['Source1', 'E14', 'Synthesis2', 'G11', 1100],\n ['Source1', 'E14', 'Synthesis2', 'G12', 1100],\n ['Source1', 'E14', 'Synthesis2', 'H3', 1100],\n ['Source1', 'E14', 'Synthesis2', 'H4', 1100],\n ['Source1', 'E14', 'Synthesis2', 'H5', 1100],\n ['Source1', 'E14', 'Synthesis2', 'H6', 1100],\n ['Source1', 'E15', 'Synthesis2', 'I3', 1100],\n ['Source1', 'E15', 'Synthesis2', 'I4', 1100],\n ['Source1', 'E15', 'Synthesis2', 'I5', 1100],\n ['Source1', 'E15', 'Synthesis2', 'I6', 1100],\n ['Source1', 'E15', 'Synthesis2', 'I7', 1100],\n ['Source1', 'E15', 'Synthesis2', 'I8', 1100],\n ['Source1', 'E15', 'Synthesis2', 'I9', 1100],\n ['Source1', 'E15', 'Synthesis2', 'I10', 1100],\n ['Source1', 'E15', 'Synthesis2', 'I11', 1100],\n ['Source1', 'E15', 'Synthesis2', 'I12', 1100],\n ['Source1', 'E15', 'Synthesis2', 'J3', 1100],\n ['Source1', 'E15', 'Synthesis2', 'J4', 1100],\n ['Source1', 'E15', 'Synthesis2', 'J5', 1100],\n ['Source1', 'E15', 'Synthesis2', 'J6', 1100],\n ['Source1', 'E15', 'Synthesis2', 'J7', 1100],\n ['Source1', 'E15', 'Synthesis2', 'J8', 1100],\n ['Source1', 'E15', 'Synthesis2', 'J9', 1100],\n ['Source1', 'E15', 'Synthesis2', 'J10', 1100],\n ['Source1', 'E15', 'Synthesis2', 'J11', 1100],\n ['Source1', 'E15', 'Synthesis2', 'J12', 1100],\n ['Source1', 'E15', 'Synthesis2', 'K3', 1100],\n ['Source1', 'E15', 'Synthesis2', 'K4', 1100],\n ['Source1', 'E15', 'Synthesis2', 'K5', 1100],\n ['Source1', 'E15', 'Synthesis2', 'K6', 1100],\n ['Source1', 'E15', 'Synthesis2', 'K7', 1100],\n ['Source1', 'E15', 'Synthesis2', 'K8', 1100],\n ['Source1', 'E15', 'Synthesis2', 'K9', 1100],\n ['Source1', 'E15', 'Synthesis2', 'K10', 1100],\n ['Source1', 'E15', 'Synthesis2', 'K11', 1100],\n ['Source1', 'E15', 'Synthesis2', 'K12', 1100],\n ['Source1', 'E15', 'Synthesis2', 'L3', 1100],\n ['Source1', 'E15', 'Synthesis2', 'L4', 1100],\n ['Source1', 'E15', 'Synthesis2', 'L5', 1100],\n ['Source1', 'E15', 'Synthesis2', 'L6', 1100],\n ['Source1', 'E15', 'Synthesis2', 'L7', 1100],\n ['Source1', 'E15', 'Synthesis2', 'L8', 1100],\n ['Source1', 'E15', 'Synthesis2', 'L9', 1100],\n ['Source1', 'E16', 'Synthesis2', 'L10', 1100],\n ['Source1', 'E16', 'Synthesis2', 'L11', 1100],\n ['Source1', 'E16', 'Synthesis2', 'L12', 1100],\n ['Source1', 'E16', 'Synthesis2', 'M3', 1100],\n ['Source1', 'E16', 'Synthesis2', 'M4', 1100],\n ['Source1', 'E16', 'Synthesis2', 'M5', 1100],\n ['Source1', 'E16', 'Synthesis2', 'M6', 1100],\n ['Source1', 'E16', 'Synthesis2', 'M7', 1100],\n ['Source1', 'E16', 'Synthesis2', 'M8', 1100],\n ['Source1', 'E16', 'Synthesis2', 'M9', 1100],\n ['Source1', 'E16', 'Synthesis2', 'M10', 1100],\n ['Source1', 'E16', 'Synthesis2', 'M11', 1100],\n ['Source1', 'E16', 'Synthesis2', 'M12', 1100],\n ['Source1', 'E16', 'Synthesis2', 'N3', 1100],\n ['Source1', 'E16', 'Synthesis2', 'N4', 1100],\n ['Source1', 'E16', 'Synthesis2', 'N5', 1100],\n ['Source1', 'E16', 'Synthesis2', 'N6', 1100],\n ['Source1', 'E16', 'Synthesis2', 'N7', 1100],\n ['Source1', 'E16', 'Synthesis2', 'N8', 1100],\n ['Source1', 'E16', 'Synthesis2', 'N9', 1100],\n ['Source1', 'E16', 'Synthesis2', 'N10', 1100],\n ['Source1', 'E16', 'Synthesis2', 'N11', 1100],\n ['Source1', 'E16', 'Synthesis2', 'N12', 1100],\n ['Source1', 'E16', 'Synthesis2', 'O3', 1100],\n ['Source1', 'E16', 'Synthesis2', 'O4', 1100],\n ['Source1', 'E16', 'Synthesis2', 'O5', 1100],\n ['Source1', 'E16', 'Synthesis2', 'O6', 1100],\n ['Source1', 'E16', 'Synthesis2', 'O7', 1100],\n ['Source1', 'E16', 'Synthesis2', 'O8', 1100],\n ['Source1', 'E16', 'Synthesis2', 'O9', 1100],\n ['Source1', 'E16', 'Synthesis2', 'O10', 1100],\n ['Source1', 'E16', 'Synthesis2', 'O11', 1100],\n ['Source1', 'E16', 'Synthesis2', 'O12', 1100],\n ['Source1', 'E16', 'Synthesis2', 'P3', 1100],\n ['Source1', 'E16', 'Synthesis2', 'P4', 1100],\n ['Source1', 'E16', 'Synthesis2', 'P5', 1100],\n ['Source1', 'E16', 'Synthesis2', 'P6', 1100],\n ['Source1', 'G13', 'Synthesis2', 'A13', 1100],\n ['Source1', 'G13', 'Synthesis2', 'A14', 1100],\n ['Source1', 'G13', 'Synthesis2', 'A15', 1100],\n ['Source1', 'G13', 'Synthesis2', 'A16', 1100],\n ['Source1', 'G13', 'Synthesis2', 'A17', 1100],\n ['Source1', 'G13', 'Synthesis2', 'A18', 1100],\n ['Source1', 'G13', 'Synthesis2', 'A19', 1100],\n ['Source1', 'G13', 'Synthesis2', 'A20', 1100],\n ['Source1', 'G13', 'Synthesis2', 'A21', 1100],\n ['Source1', 'G13', 'Synthesis2', 'A22', 1100],\n ['Source1', 'G13', 'Synthesis2', 'B13', 1100],\n ['Source1', 'G13', 'Synthesis2', 'B14', 1100],\n ['Source1', 'G13', 'Synthesis2', 'B15', 1100],\n ['Source1', 'G13', 'Synthesis2', 'B16', 1100],\n ['Source1', 'G13', 'Synthesis2', 'B17', 1100],\n ['Source1', 'G13', 'Synthesis2', 'B18', 1100],\n ['Source1', 'G13', 'Synthesis2', 'B19', 1100],\n ['Source1', 'G13', 'Synthesis2', 'B20', 1100],\n ['Source1', 'G13', 'Synthesis2', 'B21', 1100],\n ['Source1', 'G13', 'Synthesis2', 'B22', 1100],\n ['Source1', 'G13', 'Synthesis2', 'C13', 1100],\n ['Source1', 'G13', 'Synthesis2', 'C14', 1100],\n ['Source1', 'G13', 'Synthesis2', 'C15', 1100],\n ['Source1', 'G13', 'Synthesis2', 'C16', 1100],\n ['Source1', 'G13', 'Synthesis2', 'C17', 1100],\n ['Source1', 'G13', 'Synthesis2', 'C18', 1100],\n ['Source1', 'G13', 'Synthesis2', 'C19', 1100],\n ['Source1', 'G13', 'Synthesis2', 'C20', 1100],\n ['Source1', 'G13', 'Synthesis2', 'C21', 1100],\n ['Source1', 'G13', 'Synthesis2', 'C22', 1100],\n ['Source1', 'G13', 'Synthesis2', 'D13', 1100],\n ['Source1', 'G13', 'Synthesis2', 'D14', 1100],\n ['Source1', 'G13', 'Synthesis2', 'D15', 1100],\n ['Source1', 'G13', 'Synthesis2', 'D16', 1100],\n ['Source1', 'G13', 'Synthesis2', 'D17', 1100],\n ['Source1', 'G13', 'Synthesis2', 'D18', 1100],\n ['Source1', 'G13', 'Synthesis2', 'D19', 1100],\n ['Source1', 'G14', 'Synthesis2', 'D20', 1100],\n ['Source1', 'G14', 'Synthesis2', 'D21', 1100],\n ['Source1', 'G14', 'Synthesis2', 'D22', 1100],\n ['Source1', 'G14', 'Synthesis2', 'E13', 1100],\n ['Source1', 'G14', 'Synthesis2', 'E14', 1100],\n ['Source1', 'G14', 'Synthesis2', 'E15', 1100],\n ['Source1', 'G14', 'Synthesis2', 'E16', 1100],\n ['Source1', 'G14', 'Synthesis2', 'E17', 1100],\n ['Source1', 'G14', 'Synthesis2', 'E18', 1100],\n ['Source1', 'G14', 'Synthesis2', 'E19', 1100],\n ['Source1', 'G14', 'Synthesis2', 'E20', 1100],\n ['Source1', 'G14', 'Synthesis2', 'E21', 1100],\n ['Source1', 'G14', 'Synthesis2', 'E22', 1100],\n ['Source1', 'G14', 'Synthesis2', 'F13', 1100],\n ['Source1', 'G14', 'Synthesis2', 'F14', 1100],\n ['Source1', 'G14', 'Synthesis2', 'F15', 1100],\n ['Source1', 'G14', 'Synthesis2', 'F16', 1100],\n ['Source1', 'G14', 'Synthesis2', 'F17', 1100],\n ['Source1', 'G14', 'Synthesis2', 'F18', 1100],\n ['Source1', 'G14', 'Synthesis2', 'F19', 1100],\n ['Source1', 'G14', 'Synthesis2', 'F20', 1100],\n ['Source1', 'G14', 'Synthesis2', 'F21', 1100],\n ['Source1', 'G14', 'Synthesis2', 'F22', 1100],\n ['Source1', 'G14', 'Synthesis2', 'G13', 1100],\n ['Source1', 'G14', 'Synthesis2', 'G14', 1100],\n ['Source1', 'G14', 'Synthesis2', 'G15', 1100],\n ['Source1', 'G14', 'Synthesis2', 'G16', 1100],\n ['Source1', 'G14', 'Synthesis2', 'G17', 1100],\n ['Source1', 'G14', 'Synthesis2', 'G18', 1100],\n ['Source1', 'G14', 'Synthesis2', 'G19', 1100],\n ['Source1', 'G14', 'Synthesis2', 'G20', 1100],\n ['Source1', 'G14', 'Synthesis2', 'G21', 1100],\n ['Source1', 'G14', 'Synthesis2', 'G22', 1100],\n ['Source1', 'G14', 'Synthesis2', 'H13', 1100],\n ['Source1', 'G14', 'Synthesis2', 'H14', 1100],\n ['Source1', 'G14', 'Synthesis2', 'H15', 1100],\n ['Source1', 'G14', 'Synthesis2', 'H16', 1100],\n ['Source1', 'G15', 'Synthesis2', 'I13', 1100],\n ['Source1', 'G15', 'Synthesis2', 'I14', 1100],\n ['Source1', 'G15', 'Synthesis2', 'I15', 1100],\n ['Source1', 'G15', 'Synthesis2', 'I16', 1100],\n ['Source1', 'G15', 'Synthesis2', 'I17', 1100],\n ['Source1', 'G15', 'Synthesis2', 'I18', 1100],\n ['Source1', 'G15', 'Synthesis2', 'I19', 1100],\n ['Source1', 'G15', 'Synthesis2', 'I20', 1100],\n ['Source1', 'G15', 'Synthesis2', 'I21', 1100],\n ['Source1', 'G15', 'Synthesis2', 'I22', 1100],\n ['Source1', 'G15', 'Synthesis2', 'J13', 1100],\n ['Source1', 'G15', 'Synthesis2', 'J14', 1100],\n ['Source1', 'G15', 'Synthesis2', 'J15', 1100],\n ['Source1', 'G15', 'Synthesis2', 'J16', 1100],\n ['Source1', 'G15', 'Synthesis2', 'J17', 1100],\n ['Source1', 'G15', 'Synthesis2', 'J18', 1100],\n ['Source1', 'G15', 'Synthesis2', 'J19', 1100],\n ['Source1', 'G15', 'Synthesis2', 'J20', 1100],\n ['Source1', 'G15', 'Synthesis2', 'J21', 1100],\n ['Source1', 'G15', 'Synthesis2', 'J22', 1100],\n ['Source1', 'G15', 'Synthesis2', 'K13', 1100],\n ['Source1', 'G15', 'Synthesis2', 'K14', 1100],\n ['Source1', 'G15', 'Synthesis2', 'K15', 1100],\n ['Source1', 'G15', 'Synthesis2', 'K16', 1100],\n ['Source1', 'G15', 'Synthesis2', 'K17', 1100],\n ['Source1', 'G15', 'Synthesis2', 'K18', 1100],\n ['Source1', 'G15', 'Synthesis2', 'K19', 1100],\n ['Source1', 'G15', 'Synthesis2', 'K20', 1100],\n ['Source1', 'G15', 'Synthesis2', 'K21', 1100],\n ['Source1', 'G15', 'Synthesis2', 'K22', 1100],\n ['Source1', 'G15', 'Synthesis2', 'L13', 1100],\n ['Source1', 'G15', 'Synthesis2', 'L14', 1100],\n ['Source1', 'G15', 'Synthesis2', 'L15', 1100],\n ['Source1', 'G15', 'Synthesis2', 'L16', 1100],\n ['Source1', 'G15', 'Synthesis2', 'L17', 1100],\n ['Source1', 'G15', 'Synthesis2', 'L18', 1100],\n ['Source1', 'G15', 'Synthesis2', 'L19', 1100],\n ['Source1', 'G16', 'Synthesis2', 'L20', 1100],\n ['Source1', 'G16', 'Synthesis2', 'L21', 1100],\n ['Source1', 'G16', 'Synthesis2', 'L22', 1100],\n ['Source1', 'G16', 'Synthesis2', 'M13', 1100],\n ['Source1', 'G16', 'Synthesis2', 'M14', 1100],\n ['Source1', 'G16', 'Synthesis2', 'M15', 1100],\n ['Source1', 'G16', 'Synthesis2', 'M16', 1100],\n ['Source1', 'G16', 'Synthesis2', 'M17', 1100],\n ['Source1', 'G16', 'Synthesis2', 'M18', 1100],\n ['Source1', 'G16', 'Synthesis2', 'M19', 1100],\n ['Source1', 'G16', 'Synthesis2', 'M20', 1100],\n ['Source1', 'G16', 'Synthesis2', 'M21', 1100],\n ['Source1', 'G16', 'Synthesis2', 'M22', 1100],\n ['Source1', 'G16', 'Synthesis2', 'N13', 1100],\n ['Source1', 'G16', 'Synthesis2', 'N14', 1100],\n ['Source1', 'G16', 'Synthesis2', 'N15', 1100],\n ['Source1', 'G16', 'Synthesis2', 'N16', 1100],\n ['Source1', 'G16', 'Synthesis2', 'N17', 1100],\n ['Source1', 'G16', 'Synthesis2', 'N18', 1100],\n ['Source1', 'G16', 'Synthesis2', 'N19', 1100],\n ['Source1', 'G16', 'Synthesis2', 'N20', 1100],\n ['Source1', 'G16', 'Synthesis2', 'N21', 1100],\n ['Source1', 'G16', 'Synthesis2', 'N22', 1100],\n ['Source1', 'G16', 'Synthesis2', 'O13', 1100],\n ['Source1', 'G16', 'Synthesis2', 'O14', 1100],\n ['Source1', 'G16', 'Synthesis2', 'O15', 1100],\n ['Source1', 'G16', 'Synthesis2', 'O16', 1100],\n ['Source1', 'G16', 'Synthesis2', 'O17', 1100],\n ['Source1', 'G16', 'Synthesis2', 'O18', 1100],\n ['Source1', 'G16', 'Synthesis2', 'O19', 1100],\n ['Source1', 'G16', 'Synthesis2', 'O20', 1100],\n ['Source1', 'G16', 'Synthesis2', 'O21', 1100],\n ['Source1', 'G16', 'Synthesis2', 'O22', 1100],\n ['Source1', 'G16', 'Synthesis2', 'P13', 1100],\n ['Source1', 'G16', 'Synthesis2', 'P14', 1100],\n ['Source1', 'G16', 'Synthesis2', 'P15', 1100],\n ['Source1', 'G16', 'Synthesis2', 'P16', 1100]]"
     },
     "execution_count": 67,
     "metadata": {},
     "output_type": "execute_result"
    }
   ],
   "source": [
    "lines\n"
   ],
   "metadata": {
    "collapsed": false,
    "pycharm": {
     "name": "#%%\n"
    }
   }
  },
  {
   "cell_type": "markdown",
   "source": [
    "At this point, T transfers are finished. We write some tests before saving."
   ],
   "metadata": {
    "collapsed": false,
    "pycharm": {
     "name": "#%% md\n"
    }
   }
  },
  {
   "cell_type": "code",
   "execution_count": 68,
   "outputs": [],
   "source": [
    "# correct number of transfers?\n",
    "assert len(lines) == 74 * 4 * 2 + 1\n",
    "# terminator source wells occur 37 times?\n",
    "used_wells = [l[1] for l in lines[1:]]\n",
    "for v in Counter(used_wells).values():\n",
    "    assert v == 37"
   ],
   "metadata": {
    "collapsed": false,
    "pycharm": {
     "name": "#%%\n"
    }
   }
  },
  {
   "cell_type": "code",
   "execution_count": 69,
   "outputs": [],
   "source": [
    "# save to file\n",
    "with open('transfer2.csv', 'w') as file:\n",
    "    writer = csv.writer(file)\n",
    "    writer.writerows(lines)\n",
    "\n",
    "\n"
   ],
   "metadata": {
    "collapsed": false,
    "pycharm": {
     "name": "#%%\n"
    }
   }
  }
 ],
 "metadata": {
  "kernelspec": {
   "display_name": "Python 3",
   "language": "python",
   "name": "python3"
  },
  "language_info": {
   "codemirror_mode": {
    "name": "ipython",
    "version": 2
   },
   "file_extension": ".py",
   "mimetype": "text/x-python",
   "name": "python",
   "nbconvert_exporter": "python",
   "pygments_lexer": "ipython2",
   "version": "2.7.6"
  }
 },
 "nbformat": 4,
 "nbformat_minor": 0
}