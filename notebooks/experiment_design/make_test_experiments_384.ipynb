{
 "cells": [
  {
   "cell_type": "markdown",
   "metadata": {},
   "source": [
    "# Test Experiments for Synthetic Fermentation\n",
    "Here we want to make test experiments for Synthetic Fermentation"
   ]
  },
  {
   "cell_type": "code",
   "execution_count": null,
   "metadata": {},
   "outputs": [],
   "source": [
    "import pathlib\n",
    "import sys\n",
    "\n",
    "sys.path.append(str(pathlib.Path().resolve().parents[1]))\n",
    "from labware.plates import Plate384\n",
    "\n",
    "from src.definitions import PLATES_DIR"
   ]
  },
  {
   "cell_type": "code",
   "execution_count": null,
   "metadata": {},
   "outputs": [],
   "source": [
    "OUTPUT_DIR = PLATES_DIR / 'outputs'\n",
    "if not OUTPUT_DIR.exists():\n",
    "    OUTPUT_DIR.mkdir(parents=True)\n",
    "OUTPUT_DIR"
   ]
  },
  {
   "cell_type": "code",
   "execution_count": null,
   "metadata": {},
   "outputs": [],
   "source": [
    "plate = Plate384(max_vol=45000, dead_vol=2000)\n",
    "print(plate)"
   ]
  },
  {
   "cell_type": "code",
   "execution_count": null,
   "metadata": {},
   "outputs": [],
   "source": [
    "# [f'I{x}' for x in range(1,9)]\n",
    "for ini, row in zip(['I39', 'I2', 'I76', 'I13', 'I12', 'I55', 'I71', 'I30'] * 2, plate.rows()):\n",
    "    plate.fill_block((row,), plate.columns()[0:24], ini, 2000)\n",
    "print(plate)"
   ]
  },
  {
   "cell_type": "code",
   "execution_count": null,
   "metadata": {},
   "outputs": [],
   "source": [
    "plate_letters_384 = 'ABCDEFGHIJKLMNOP'\n",
    "m_wells = []\n",
    "for i in range(0,8):\n",
    "    i_helper = (i // 4) * 8  # used to assign row letters. Will be 0 for i<3 and 8 for 3<=i<6\n",
    "    target_wells = [f'{plate_letters_384[k]}{j}' for k in range(i_helper, i_helper + 8)\n",
    "                    for j in range(((i % 4) * 5) + 3, ((i % 4) * 5) + 8)]\n",
    "    m_wells.append(target_wells)\n",
    "print(m_wells)"
   ]
  },
  {
   "cell_type": "code",
   "execution_count": null,
   "metadata": {},
   "outputs": [],
   "source": [
    "for mon, well_list in zip([f'M{x}' for x in range(1,9)], m_wells):\n",
    "    for well in well_list:\n",
    "        plate.fill_well(well, mon, 2000)\n",
    "print(plate)"
   ]
  },
  {
   "cell_type": "code",
   "execution_count": null,
   "metadata": {},
   "outputs": [],
   "source": [
    "for i,w in zip(['I39', 'I2', 'I76', 'I13', 'I12', 'I55', 'I71', 'I30'], ['I17', 'J17', 'K17', 'L17', 'M17', 'N17', 'O17', 'P17']):\n",
    "    plate.fill_well(w, i, 2000)"
   ]
  },
  {
   "cell_type": "code",
   "execution_count": null,
   "metadata": {},
   "outputs": [],
   "source": [
    "plate.fill_span('I17', 'P17', 'M56', 2000)\n",
    "print(plate)"
   ]
  },
  {
   "cell_type": "code",
   "execution_count": null,
   "metadata": {},
   "outputs": [],
   "source": [
    "plate_letters_384 = 'ABCDEFGHIJKLMNOP'\n",
    "t_wells = []\n",
    "for i in range(0,8):\n",
    "    target_wells = [f'{plate_letters_384[k]}{j}' for j in [i + 1, i + 9, i + 17] for k in range(0, 16)]\n",
    "    t_wells.append(target_wells)\n",
    "print(t_wells)"
   ]
  },
  {
   "cell_type": "code",
   "execution_count": null,
   "metadata": {},
   "outputs": [],
   "source": [
    "# [f'T{x}' for x in range(1,6)]\n",
    "for ter, well_list in zip(['T19', 'T38', 'T5', 'T40', 'T20', 'T7', 'T3', 'T13'], t_wells):\n",
    "    for well in well_list:\n",
    "        plate.fill_well(well, ter, 2000)\n",
    "print(plate)"
   ]
  },
  {
   "cell_type": "code",
   "execution_count": null,
   "metadata": {},
   "outputs": [],
   "source": [
    "OUT_DIR = OUTPUT_DIR / 'JG228'"
   ]
  },
  {
   "cell_type": "code",
   "execution_count": null,
   "metadata": {},
   "outputs": [],
   "source": [
    "plate.to_csv(OUTPUT_DIR / 'plate_layout_0.csv', save_volumes=True)"
   ]
  }
 ],
 "metadata": {
  "kernelspec": {
   "display_name": "Python 3",
   "language": "python",
   "name": "python3"
  },
  "language_info": {
   "codemirror_mode": {
    "name": "ipython",
    "version": 3
   },
   "file_extension": ".py",
   "mimetype": "text/x-python",
   "name": "python",
   "nbconvert_exporter": "python",
   "pygments_lexer": "ipython3",
   "version": "3.8.8"
  }
 },
 "nbformat": 4,
 "nbformat_minor": 1
}
