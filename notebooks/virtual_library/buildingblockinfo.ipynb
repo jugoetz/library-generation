{
 "cells": [
  {
   "cell_type": "code",
   "execution_count": 1,
   "metadata": {
    "collapsed": true
   },
   "outputs": [
    {
     "ename": "ImportError",
     "evalue": "attempted relative import with no known parent package",
     "output_type": "error",
     "traceback": [
      "\u001B[0;31m---------------------------------------------------------------------------\u001B[0m",
      "\u001B[0;31mImportError\u001B[0m                               Traceback (most recent call last)",
      "\u001B[0;32m<ipython-input-1-146aaed0a300>\u001B[0m in \u001B[0;36m<module>\u001B[0;34m\u001B[0m\n\u001B[1;32m      5\u001B[0m \u001B[0;32mfrom\u001B[0m \u001B[0mrdkit\u001B[0m\u001B[0;34m.\u001B[0m\u001B[0mChem\u001B[0m \u001B[0;32mimport\u001B[0m \u001B[0mDraw\u001B[0m\u001B[0;34m\u001B[0m\u001B[0;34m\u001B[0m\u001B[0m\n\u001B[1;32m      6\u001B[0m \u001B[0;32mfrom\u001B[0m \u001B[0mrdkit\u001B[0m \u001B[0;32mimport\u001B[0m \u001B[0mChem\u001B[0m\u001B[0;34m\u001B[0m\u001B[0;34m\u001B[0m\u001B[0m\n\u001B[0;32m----> 7\u001B[0;31m \u001B[0;32mfrom\u001B[0m \u001B[0;34m.\u001B[0m\u001B[0;34m.\u001B[0m\u001B[0msrc\u001B[0m\u001B[0;34m.\u001B[0m\u001B[0mconfig\u001B[0m \u001B[0;32mimport\u001B[0m \u001B[0;34m*\u001B[0m\u001B[0;34m\u001B[0m\u001B[0;34m\u001B[0m\u001B[0m\n\u001B[0m\u001B[1;32m      8\u001B[0m \u001B[0;34m\u001B[0m\u001B[0m\n",
      "\u001B[0;31mImportError\u001B[0m: attempted relative import with no known parent package"
     ]
    }
   ],
   "source": [
    "import json\n",
    "from pathlib import Path\n",
    "\n",
    "import pandas as pd\n",
    "from rdkit import Chem"
   ]
  },
  {
   "cell_type": "code",
   "execution_count": 11,
   "outputs": [],
   "source": [
    "DATA_DIR = Path('..', 'data').resolve()\n",
    "OUTPUT_DIR = DATA_DIR / 'outputs'\n",
    "INFO_PATH = OUTPUT_DIR / 'library_constituents_dataframe.pkl'\n",
    "COMPOUND_MAPPING_PATH = OUTPUT_DIR / 'compound_mapping.txt'\n",
    "EXP_PLAN_PATH = OUTPUT_DIR / 'synthesis_plan.json'"
   ],
   "metadata": {
    "collapsed": false
   }
  },
  {
   "cell_type": "code",
   "execution_count": 12,
   "outputs": [],
   "source": [
    "with open(INFO_PATH, 'rb') as file:\n",
    "    df = pd.read_pickle(file)\n",
    "\n",
    "with open(COMPOUND_MAPPING_PATH, 'r') as file:\n",
    "    compound_mapping = {}\n",
    "    for line in file.readlines():\n",
    "        compound_mapping[line.split()[0]] = line.split()[1]\n",
    "\n",
    "with open(EXP_PLAN_PATH, 'r')as file:\n",
    "    synthesis_plan = json.load(file)"
   ],
   "metadata": {
    "collapsed": false
   }
  },
  {
   "cell_type": "code",
   "execution_count": 13,
   "outputs": [],
   "source": [
    "exp1 = synthesis_plan[0]"
   ],
   "metadata": {
    "collapsed": false
   }
  },
  {
   "cell_type": "code",
   "execution_count": 14,
   "outputs": [
    {
     "data": {
      "text/plain": "38"
     },
     "execution_count": 14,
     "metadata": {},
     "output_type": "execute_result"
    }
   ],
   "source": [
    "building_blocks = [i for x in exp1 for i in x ]\n",
    "len(building_blocks)"
   ],
   "metadata": {
    "collapsed": false
   }
  },
  {
   "cell_type": "code",
   "execution_count": 16,
   "outputs": [
    {
     "data": {
      "text/plain": "[['I15', '4-Pym001', <rdkit.Chem.PropertyMol.PropertyMol at 0x7fd77c48fd10>],\n ['I4', '2-Pyr006', <rdkit.Chem.PropertyMol.PropertyMol at 0x7fd77c48f9a0>],\n ['I36', 'BiAl008', <rdkit.Chem.PropertyMol.PropertyMol at 0x7fd77c495400>],\n ['I32', 'Al036', <rdkit.Chem.PropertyMol.PropertyMol at 0x7fd77c4952c0>],\n ['I29', 'Al005', <rdkit.Chem.PropertyMol.PropertyMol at 0x7fd77c4951d0>],\n ['I18',\n  '4-Pyrazole002',\n  <rdkit.Chem.PropertyMol.PropertyMol at 0x7fd77c48fe00>],\n ['I14', '3-Thio001', <rdkit.Chem.PropertyMol.PropertyMol at 0x7fd77c48fcc0>],\n ['I70', 'Ph026', <rdkit.Chem.PropertyMol.PropertyMol at 0x7fd77c4a4e00>],\n ['I12', '3-Pyr003', <rdkit.Chem.PropertyMol.PropertyMol at 0x7fd77c48fc20>],\n ['I55', 'Ph005', <rdkit.Chem.PropertyMol.PropertyMol at 0x7fd77c4a4950>],\n ['I5', '2-Pyr007', <rdkit.Chem.PropertyMol.PropertyMol at 0x7fd77c48f9f0>],\n ['I77',\n  'Pyrazine001',\n  <rdkit.Chem.PropertyMol.PropertyMol at 0x7fd77b983090>],\n ['I71', 'Ph027', <rdkit.Chem.PropertyMol.PropertyMol at 0x7fd77c4a4e50>],\n ['I28', 'Al004', <rdkit.Chem.PropertyMol.PropertyMol at 0x7fd77c495180>],\n ['I30', 'Al007', <rdkit.Chem.PropertyMol.PropertyMol at 0x7fd77c495220>],\n ['I33', 'Al038', <rdkit.Chem.PropertyMol.PropertyMol at 0x7fd77c495310>],\n ['M60', 'Spiro002', <rdkit.Chem.PropertyMol.PropertyMol at 0x7fd77b983180>],\n ['M44', 'Mon090', <rdkit.Chem.PropertyMol.PropertyMol at 0x7fd77c4a43b0>],\n ['M42', 'Mon088', <rdkit.Chem.PropertyMol.PropertyMol at 0x7fd77c4a4310>],\n ['M5', 'Mon096', <rdkit.Chem.PropertyMol.PropertyMol at 0x7fd77c4a4590>],\n ['M39', 'Mon082', <rdkit.Chem.PropertyMol.PropertyMol at 0x7fd7744aa680>],\n ['M41', 'Mon087', <rdkit.Chem.PropertyMol.PropertyMol at 0x7fd77c4a42c0>],\n ['M11', 'Mon003', <rdkit.Chem.PropertyMol.PropertyMol at 0x7fd77b5edc70>],\n ['M64', 'Spiro006', <rdkit.Chem.PropertyMol.PropertyMol at 0x7fd77b9832c0>],\n ['M69', 'Spiro012', <rdkit.Chem.PropertyMol.PropertyMol at 0x7fd77b983450>],\n ['M16', 'Mon013', <rdkit.Chem.PropertyMol.PropertyMol at 0x7fd77c495ae0>],\n ['M56', 'Mon102', <rdkit.Chem.PropertyMol.PropertyMol at 0x7fd77c4a4770>],\n ['M74', 'Spiro017', <rdkit.Chem.PropertyMol.PropertyMol at 0x7fd77b9835e0>],\n ['T23', 'TerTH005', <rdkit.Chem.PropertyMol.PropertyMol at 0x7fd77b983d10>],\n ['T11', 'TerABT013', <rdkit.Chem.PropertyMol.PropertyMol at 0x7fd77b983950>],\n ['T26', 'TerTH011', <rdkit.Chem.PropertyMol.PropertyMol at 0x7fd77b983e00>],\n ['T29', 'TerTH014', <rdkit.Chem.PropertyMol.PropertyMol at 0x7fd77b983ef0>],\n ['T19', 'TerTH001', <rdkit.Chem.PropertyMol.PropertyMol at 0x7fd77b983bd0>],\n ['T33', 'TerTH019', <rdkit.Chem.PropertyMol.PropertyMol at 0x7fd77b991090>],\n ['T38', 'TerTH025', <rdkit.Chem.PropertyMol.PropertyMol at 0x7fd77b991220>],\n ['T12', 'TerABT014', <rdkit.Chem.PropertyMol.PropertyMol at 0x7fd77b9839a0>],\n ['T2', 'TerABT004', <rdkit.Chem.PropertyMol.PropertyMol at 0x7fd77b983680>],\n ['T5', 'TerABT007', <rdkit.Chem.PropertyMol.PropertyMol at 0x7fd77b983770>]]"
     },
     "execution_count": 16,
     "metadata": {},
     "output_type": "execute_result"
    }
   ],
   "source": [
    "building_blocks_2 = [[i, compound_mapping[i], df.loc[df['Compound Name'] == compound_mapping[i], 'mol' ].values[0]] for i in building_blocks]\n",
    "building_blocks_2\n"
   ],
   "metadata": {
    "collapsed": false
   }
  },
  {
   "cell_type": "code",
   "execution_count": 17,
   "outputs": [
    {
     "name": "stdout",
     "output_type": "stream",
     "text": [
      "I15 4-Pym001\n",
      "I4 2-Pyr006\n",
      "I36 BiAl008\n",
      "I32 Al036\n",
      "I29 Al005\n",
      "I18 4-Pyrazole002\n",
      "I14 3-Thio001\n",
      "I70 Ph026\n",
      "I12 3-Pyr003\n",
      "I55 Ph005\n",
      "I5 2-Pyr007\n",
      "I77 Pyrazine001\n",
      "I71 Ph027\n",
      "I28 Al004\n",
      "I30 Al007\n",
      "I33 Al038\n",
      "M60 Spiro002\n",
      "M44 Mon090\n",
      "M42 Mon088\n",
      "M5 Mon096\n",
      "M39 Mon082\n",
      "M41 Mon087\n",
      "M11 Mon003\n",
      "M64 Spiro006\n",
      "M69 Spiro012\n",
      "M16 Mon013\n",
      "M56 Mon102\n",
      "M74 Spiro017\n",
      "T23 TerTH005\n",
      "T11 TerABT013\n",
      "T26 TerTH011\n",
      "T29 TerTH014\n",
      "T19 TerTH001\n",
      "T33 TerTH019\n",
      "T38 TerTH025\n",
      "T12 TerABT014\n",
      "T2 TerABT004\n",
      "T5 TerABT007\n"
     ]
    },
    {
     "data": {
      "text/plain": "38"
     },
     "execution_count": 17,
     "metadata": {},
     "output_type": "execute_result"
    }
   ],
   "source": [
    "for i in building_blocks_2:\n",
    "    print(i[0], i[1])\n",
    "    i[2].SetProp('short', i[0])\n",
    "len(building_blocks_2)"
   ],
   "metadata": {
    "collapsed": false
   }
  },
  {
   "cell_type": "code",
   "execution_count": 18,
   "outputs": [],
   "source": [
    "with open(OUTPUT_DIR / 'sdf' / 'bb_exp1.sdf', 'w') as file:\n",
    "    writer = Chem.SDWriter(file)\n",
    "    for i in building_blocks_2:\n",
    "        writer.write(i[2])\n",
    "\n",
    "    \"\"\"It is necessary to close the SDWriters manually to prevent an exception during garbage collection\"\"\"\n",
    "    writer.close()\n"
   ],
   "metadata": {
    "collapsed": false
   }
  }
 ],
 "metadata": {
  "kernelspec": {
   "display_name": "Python 3",
   "language": "python",
   "name": "python3"
  },
  "language_info": {
   "codemirror_mode": {
    "name": "ipython",
    "version": 2
   },
   "file_extension": ".py",
   "mimetype": "text/x-python",
   "name": "python",
   "nbconvert_exporter": "python",
   "pygments_lexer": "ipython2",
   "version": "2.7.6"
  }
 },
 "nbformat": 4,
 "nbformat_minor": 0
}
