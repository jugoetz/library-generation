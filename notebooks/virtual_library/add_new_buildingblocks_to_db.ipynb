{
 "cells": [
  {
   "cell_type": "markdown",
   "metadata": {},
   "source": [
    "# Add new building blocks to database"
   ]
  },
  {
   "cell_type": "code",
   "execution_count": 8,
   "metadata": {
    "ExecuteTime": {
     "end_time": "2023-06-15T12:53:56.370738Z",
     "start_time": "2023-06-15T12:53:55.846339Z"
    }
   },
   "outputs": [],
   "source": [
    "import pathlib\n",
    "import sys\n",
    "sys.path.append(str(pathlib.Path().resolve().parents[1]))\n",
    "\n",
    "\n",
    "import pandas as pd\n",
    "\n",
    "from src.util.db_utils import SynFermDatabaseConnection\n",
    "from src.definitions import PLATES_DIR"
   ]
  },
  {
   "cell_type": "code",
   "execution_count": 10,
   "metadata": {
    "ExecuteTime": {
     "end_time": "2023-06-15T12:54:20.176427Z",
     "start_time": "2023-06-15T12:54:20.114348Z"
    }
   },
   "outputs": [
    {
     "data": {
      "text/html": [
       "<div>\n",
       "<style scoped>\n",
       "    .dataframe tbody tr th:only-of-type {\n",
       "        vertical-align: middle;\n",
       "    }\n",
       "\n",
       "    .dataframe tbody tr th {\n",
       "        vertical-align: top;\n",
       "    }\n",
       "\n",
       "    .dataframe thead th {\n",
       "        text-align: right;\n",
       "    }\n",
       "</style>\n",
       "<table border=\"1\" class=\"dataframe\">\n",
       "  <thead>\n",
       "    <tr style=\"text-align: right;\">\n",
       "      <th></th>\n",
       "      <th>long</th>\n",
       "      <th>SMILES</th>\n",
       "      <th>category</th>\n",
       "      <th>boc</th>\n",
       "      <th>cbz</th>\n",
       "      <th>tbu</th>\n",
       "      <th>tms</th>\n",
       "      <th>lcms_mass_1</th>\n",
       "      <th>lcms_mass_alt</th>\n",
       "      <th>comment</th>\n",
       "      <th>lcms_formula_1</th>\n",
       "      <th>lcms_formula_alt</th>\n",
       "      <th>reactant_class</th>\n",
       "    </tr>\n",
       "  </thead>\n",
       "  <tbody>\n",
       "    <tr>\n",
       "      <th>0</th>\n",
       "      <td>Ph037</td>\n",
       "      <td>CS(=O)(=O)c1ccc(C(=O)[B-](F)(F)F)cc1.[K+]</td>\n",
       "      <td>I</td>\n",
       "      <td>0</td>\n",
       "      <td>0</td>\n",
       "      <td>0</td>\n",
       "      <td>0</td>\n",
       "      <td>251.016654</td>\n",
       "      <td>NaN</td>\n",
       "      <td>NaN</td>\n",
       "      <td>C8H7BF3O3S-</td>\n",
       "      <td>NaN</td>\n",
       "      <td>KAT_arom</td>\n",
       "    </tr>\n",
       "    <tr>\n",
       "      <th>1</th>\n",
       "      <td>Ph038</td>\n",
       "      <td>O=C(c1ccc2ccccc2c1)[B-](F)(F)F.[K+]</td>\n",
       "      <td>I</td>\n",
       "      <td>0</td>\n",
       "      <td>0</td>\n",
       "      <td>0</td>\n",
       "      <td>0</td>\n",
       "      <td>223.054753</td>\n",
       "      <td>NaN</td>\n",
       "      <td>NaN</td>\n",
       "      <td>C11H7BF3O-</td>\n",
       "      <td>NaN</td>\n",
       "      <td>KAT_arom</td>\n",
       "    </tr>\n",
       "    <tr>\n",
       "      <th>2</th>\n",
       "      <td>Ph039</td>\n",
       "      <td>N#Cc1cccc(C(=O)[B-](F)(F)F)c1.[K+]</td>\n",
       "      <td>I</td>\n",
       "      <td>0</td>\n",
       "      <td>0</td>\n",
       "      <td>0</td>\n",
       "      <td>0</td>\n",
       "      <td>198.034352</td>\n",
       "      <td>NaN</td>\n",
       "      <td>NaN</td>\n",
       "      <td>C8H4BF3NO-</td>\n",
       "      <td>NaN</td>\n",
       "      <td>KAT_arom</td>\n",
       "    </tr>\n",
       "    <tr>\n",
       "      <th>3</th>\n",
       "      <td>Ph004</td>\n",
       "      <td>COc1cccc(C(=O)[B-](F)(F)F)c1.[K+]</td>\n",
       "      <td>I</td>\n",
       "      <td>0</td>\n",
       "      <td>0</td>\n",
       "      <td>0</td>\n",
       "      <td>0</td>\n",
       "      <td>203.049668</td>\n",
       "      <td>NaN</td>\n",
       "      <td>NaN</td>\n",
       "      <td>C8H7BF3O2-</td>\n",
       "      <td>NaN</td>\n",
       "      <td>KAT_arom</td>\n",
       "    </tr>\n",
       "    <tr>\n",
       "      <th>4</th>\n",
       "      <td>BiAl004</td>\n",
       "      <td>O=C(CCCCCCl)[B-](F)(F)F.[K+]</td>\n",
       "      <td>I</td>\n",
       "      <td>0</td>\n",
       "      <td>0</td>\n",
       "      <td>0</td>\n",
       "      <td>0</td>\n",
       "      <td>201.047081</td>\n",
       "      <td>NaN</td>\n",
       "      <td>NaN</td>\n",
       "      <td>C6H10BClF3O-</td>\n",
       "      <td>NaN</td>\n",
       "      <td>KAT_al</td>\n",
       "    </tr>\n",
       "  </tbody>\n",
       "</table>\n",
       "</div>"
      ],
      "text/plain": [
       "      long                                     SMILES category  boc  cbz  tbu  \\\n",
       "0    Ph037  CS(=O)(=O)c1ccc(C(=O)[B-](F)(F)F)cc1.[K+]        I    0    0    0   \n",
       "1    Ph038        O=C(c1ccc2ccccc2c1)[B-](F)(F)F.[K+]        I    0    0    0   \n",
       "2    Ph039         N#Cc1cccc(C(=O)[B-](F)(F)F)c1.[K+]        I    0    0    0   \n",
       "3    Ph004          COc1cccc(C(=O)[B-](F)(F)F)c1.[K+]        I    0    0    0   \n",
       "4  BiAl004               O=C(CCCCCCl)[B-](F)(F)F.[K+]        I    0    0    0   \n",
       "\n",
       "   tms  lcms_mass_1  lcms_mass_alt  comment lcms_formula_1  lcms_formula_alt  \\\n",
       "0    0   251.016654            NaN      NaN    C8H7BF3O3S-               NaN   \n",
       "1    0   223.054753            NaN      NaN     C11H7BF3O-               NaN   \n",
       "2    0   198.034352            NaN      NaN     C8H4BF3NO-               NaN   \n",
       "3    0   203.049668            NaN      NaN     C8H7BF3O2-               NaN   \n",
       "4    0   201.047081            NaN      NaN   C6H10BClF3O-               NaN   \n",
       "\n",
       "  reactant_class  \n",
       "0       KAT_arom  \n",
       "1       KAT_arom  \n",
       "2       KAT_arom  \n",
       "3       KAT_arom  \n",
       "4         KAT_al  "
      ]
     },
     "execution_count": 10,
     "metadata": {},
     "output_type": "execute_result"
    }
   ],
   "source": [
    "# Import data. We need long name, smiles, category, and reactant class, the rest is handled internally.\n",
    "df = pd.read_csv(PLATES_DIR / \"exp101\" / \"initiators.csv\")\n",
    "df.head()"
   ]
  },
  {
   "cell_type": "code",
   "execution_count": 6,
   "metadata": {
    "ExecuteTime": {
     "end_time": "2023-06-15T13:00:28.257Z",
     "start_time": "2023-06-15T13:00:28.247701Z"
    }
   },
   "outputs": [],
   "source": [
    "# open DB connection\n",
    "con = SynFermDatabaseConnection()"
   ]
  },
  {
   "cell_type": "code",
   "execution_count": 20,
   "metadata": {
    "ExecuteTime": {
     "end_time": "2023-06-15T12:58:03.255427Z",
     "start_time": "2023-06-15T12:58:03.230026Z"
    }
   },
   "outputs": [],
   "source": [
    "# add building blocks to DB\n",
    "for bb in df[[\"long\", \"SMILES\", \"category\", \"reactant_class\"]].to_numpy().tolist():\n",
    "    con.add_building_block(*bb)"
   ]
  }
 ],
 "metadata": {
  "kernelspec": {
   "display_name": "Python 3 (ipykernel)",
   "language": "python",
   "name": "python3"
  },
  "language_info": {
   "codemirror_mode": {
    "name": "ipython",
    "version": 3
   },
   "file_extension": ".py",
   "mimetype": "text/x-python",
   "name": "python",
   "nbconvert_exporter": "python",
   "pygments_lexer": "ipython3",
   "version": "3.9.7"
  }
 },
 "nbformat": 4,
 "nbformat_minor": 1
}
