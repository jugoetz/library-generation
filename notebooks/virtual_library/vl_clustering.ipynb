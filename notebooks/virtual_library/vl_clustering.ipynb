{
 "cells": [
  {
   "cell_type": "markdown",
   "metadata": {},
   "source": [
    "## Virtual Library Clustering\n",
    "The task is simple: Import the SynFerm VL, and cluster reasonably.\n",
    "How to go about this?\n",
    "- Import Mols from DB\n",
    "\n",
    "(Option A)\n",
    "- 260k are too many (260,000^2 distances). Sample 10k members randomly.\n",
    "- Calculate Fingerprints\n",
    "- Calculate Tanimoto coefficients\n",
    "- Clustering using Taylor-Butina algorithm\n",
    "\n",
    "(Option B)\n",
    "- Sample 10k members\n",
    "- Calculate MACCS keys\n",
    "- Dimensionality reduction with t-SNE\n",
    "- Clustering using k-means algorithm\n",
    "\n",
    "(Option C)\n",
    "- MDS: No, this is to expensive\n",
    "\n",
    "(Option D; not implemented, don't like this conceptually as it is nothing but picking the strongest outliers)\n",
    "- MixMaxPicker (see https://rdkit.blogspot.com/search?q=cluster&updated-max=2020-11-18T00:36:00-08:00&max-results=20&start=1&by-date=false)\n",
    "\n",
    "A practitioners overview for this problem:\n",
    "https://www.macinchem.org/reviews/clustering/clustering.php"
   ]
  },
  {
   "cell_type": "markdown",
   "metadata": {},
   "source": [
    "### Preprocessing"
   ]
  },
  {
   "cell_type": "code",
   "execution_count": null,
   "metadata": {},
   "outputs": [],
   "source": [
    "import pathlib\n",
    "import sys\n",
    "\n",
    "sys.path.append(str(pathlib.Path().resolve().parents[1]))\n",
    "\n",
    "import numpy as np\n",
    "import seaborn as sns\n",
    "import matplotlib.pyplot as plt\n",
    "import sqlite3\n",
    "from random import sample\n",
    "from rdkit.Chem import MolFromSmiles\n",
    "from rdkit import Chem\n",
    "from rdkit.Chem import MACCSkeys, rdMolDescriptors, Draw, PandasTools\n",
    "from rdkit.DataManip.Metric.rdMetricMatrixCalc import GetTanimotoSimMat\n",
    "from sklearn.manifold import MDS\n",
    "from sklearn.metrics import silhouette_score\n",
    "from sklearn.cluster import KMeans\n",
    "from sklearn.manifold import TSNE\n",
    "\n",
    "import pandas as pd\n",
    "from src.definitions import DB_PATH"
   ]
  },
  {
   "cell_type": "markdown",
   "metadata": {},
   "source": [
    "Import molecules from database"
   ]
  },
  {
   "cell_type": "code",
   "execution_count": null,
   "metadata": {},
   "outputs": [],
   "source": [
    "\n",
    "con = sqlite3.connect(DB_PATH)\n",
    "cur = con.cursor()\n",
    "molecule_smiles = cur.execute('SELECT smiles, id FROM virtuallibrary WHERE type = \"A\";').fetchall()\n",
    "len(molecule_smiles)"
   ]
  },
  {
   "cell_type": "markdown",
   "metadata": {},
   "source": [
    "Take random (10k) sample"
   ]
  },
  {
   "cell_type": "code",
   "execution_count": null,
   "metadata": {},
   "outputs": [],
   "source": [
    "\n",
    "random_smi = sample(molecule_smiles, 10000)"
   ]
  },
  {
   "cell_type": "markdown",
   "metadata": {},
   "source": [
    "Produce some Morgan Fingerprints"
   ]
  },
  {
   "cell_type": "code",
   "execution_count": null,
   "metadata": {},
   "outputs": [],
   "source": [
    "\n",
    "fps = [rdMolDescriptors.GetMorganFingerprintAsBitVect(MolFromSmiles(smi[0]),2,2048) for smi in random_smi]\n",
    "len(fps)"
   ]
  },
  {
   "cell_type": "markdown",
   "metadata": {},
   "source": [
    "### Clustering\n",
    "Try Taylor-Butina first:\n",
    "(see also https://github.com/volkamerlab/teachopencadd/blob/master/teachopencadd/talktorials/T005_compound_clustering/talktorial.ipynb)"
   ]
  },
  {
   "cell_type": "code",
   "execution_count": null,
   "metadata": {},
   "outputs": [],
   "source": [
    "def getTanimotoDistanceMatrix(fps):\n",
    "    \"\"\"The scipy implementation is convenient (gives array instead of 1D list), but slower than the rdkit implementation\"\"\"\n",
    "    from scipy.spatial.distance import cdist\n",
    "\n",
    "    # first generate the distance matrix:\n",
    "    dists = cdist(fps, fps, metric='rogerstanimoto')\n",
    "    return dists"
   ]
  },
  {
   "cell_type": "code",
   "execution_count": null,
   "metadata": {},
   "outputs": [],
   "source": [
    "def ClusterFps(fps,cutoff=0.2):\n",
    "    \"\"\"clustering implementation from rdkit cookbook. This takes too much memory\"\"\"\n",
    "    from rdkit import DataStructs\n",
    "    from rdkit.ML.Cluster import Butina\n",
    "\n",
    "    # first generate the distance matrix:\n",
    "    dists = []\n",
    "    nfps = len(fps)\n",
    "    for i in range(1,nfps):\n",
    "        sims = DataStructs.BulkTanimotoSimilarity(fps[i],fps[:i])\n",
    "        dists.extend([1-x for x in sims])\n",
    "        if i % 1000 == 0:\n",
    "            print(f'{i}/{len(fps)}')\n",
    "\n",
    "    # now cluster the data:\n",
    "    cs = Butina.ClusterData(dists,nfps,cutoff,isDistData=True)\n",
    "    return cs"
   ]
  },
  {
   "cell_type": "code",
   "execution_count": null,
   "metadata": {},
   "outputs": [],
   "source": [
    "butina_clusters = ClusterFps(fps, cutoff=0.4)"
   ]
  },
  {
   "cell_type": "code",
   "execution_count": null,
   "metadata": {},
   "outputs": [],
   "source": [
    "# Give a short report about the numbers of clusters and their sizes\n",
    "num_clust_g1 = sum(1 for c in butina_clusters if len(c) == 1)\n",
    "num_clust_g5 = sum(1 for c in butina_clusters if len(c) > 5)\n",
    "num_clust_g25 = sum(1 for c in butina_clusters if len(c) > 25)\n",
    "num_clust_g100 = sum(1 for c in butina_clusters if len(c) > 100)\n",
    "\n",
    "print(\"total # clusters: \", len(butina_clusters))\n",
    "print(\"# clusters with only 1 compound: \", num_clust_g1)\n",
    "print(\"# clusters with >5 compounds: \", num_clust_g5)\n",
    "print(\"# clusters with >25 compounds: \", num_clust_g25)\n",
    "print(\"# clusters with >100 compounds: \", num_clust_g100)"
   ]
  },
  {
   "cell_type": "code",
   "execution_count": null,
   "metadata": {},
   "outputs": [],
   "source": [
    "# Plot the size of the clusters\n",
    "\n",
    "fig, ax = plt.subplots(figsize=(15, 4))\n",
    "ax.set_xlabel(\"Cluster index\")\n",
    "ax.set_ylabel(\"Number of molecules\")\n",
    "ax.bar(range(1, len(butina_clusters) + 1), [len(c) for c in butina_clusters], lw=5);"
   ]
  },
  {
   "cell_type": "code",
   "execution_count": null,
   "metadata": {},
   "outputs": [],
   "source": [
    "\n",
    "print(\"Ten molecules from largest cluster:\")\n",
    "Draw.MolsToGridImage(\n",
    "    [MolFromSmiles(random_smi[i][0]) for i in butina_clusters[0][:10]],\n",
    "    legends=[str(random_smi[i][1]) for i in butina_clusters[0][:10]],\n",
    "    molsPerRow=5,\n",
    ")\n",
    "\n"
   ]
  },
  {
   "cell_type": "code",
   "execution_count": null,
   "metadata": {},
   "outputs": [],
   "source": [
    "print(\"Centroids of the 20 largest clusters:\")\n",
    "Draw.MolsToGridImage(\n",
    "    [MolFromSmiles(random_smi[i[0]][0]) for i in butina_clusters[0:20]],\n",
    "     legends=[str(random_smi[i[0]][1]) for i in butina_clusters[0:20]],\n",
    "    molsPerRow=5,\n",
    ")"
   ]
  },
  {
   "cell_type": "markdown",
   "metadata": {},
   "source": [
    "__Conclusion__: Taylor-Butina does not seem to work well. The centroids of the 20 biggest clusters are not very dissimilar. There is not even one alkyl-KAT among them"
   ]
  },
  {
   "cell_type": "markdown",
   "metadata": {},
   "source": [
    "### Option B: t-SNE + k-Means"
   ]
  },
  {
   "cell_type": "markdown",
   "metadata": {},
   "source": [
    "from https://chem-workflows.com/articles/2021/09/05/exploration-of-the-chemical-space-using-rdkit-and-cheminformatics/"
   ]
  },
  {
   "cell_type": "code",
   "execution_count": null,
   "metadata": {},
   "outputs": [],
   "source": [
    "\n",
    "PandasTools.RenderImagesInAllDataFrames(images=True)\n"
   ]
  },
  {
   "cell_type": "markdown",
   "metadata": {},
   "source": [
    "Compute MACCS keys + Tanimoto Distance Matrix"
   ]
  },
  {
   "cell_type": "code",
   "execution_count": null,
   "metadata": {},
   "outputs": [],
   "source": [
    "mols=[Chem.MolFromSmiles(x[0]) for x in random_smi]\n",
    "fps_maccs =  [MACCSkeys.GenMACCSKeys(x) for x in mols] # In this example I'll use MACCSKeys\n",
    "tanimoto_sim_mat_lower_triangle=GetTanimotoSimMat(fps_maccs) # This compute a similartity matrix between all the molecules\n",
    "n_mol = len(fps_maccs)\n",
    "similarity_matrix = np.ones([n_mol,n_mol])\n",
    "i_lower= np.tril_indices(n=n_mol,m=n_mol,k=-1)\n",
    "i_upper= np.triu_indices(n=n_mol,m=n_mol,k=1)\n",
    "similarity_matrix[i_lower] = tanimoto_sim_mat_lower_triangle\n",
    "similarity_matrix[i_upper] = similarity_matrix.T[i_upper] \n",
    "distance_matrix = np.subtract(1,similarity_matrix) #This is the similarity matrix of all vs all molecules in our table"
   ]
  },
  {
   "cell_type": "markdown",
   "metadata": {},
   "source": [
    "Dimensionality reduction with TSNE"
   ]
  },
  {
   "cell_type": "code",
   "execution_count": null,
   "metadata": {},
   "outputs": [],
   "source": [
    "TSNE_sim = TSNE(n_components=2,init='pca',random_state=90, angle = 0.3,perplexity=50).fit_transform(distance_matrix) #Remember to always tune the parameters acording your dataset!!\n",
    "tsne_result = pd.DataFrame(data = TSNE_sim , columns=[\"TC1\",\"TC2\"]) # New table containing the tSNE results\n",
    "tsne_result.head(5) #A new table containing the tSNE results"
   ]
  },
  {
   "cell_type": "markdown",
   "metadata": {},
   "source": [
    "Show tSNE embedding"
   ]
  },
  {
   "cell_type": "code",
   "execution_count": null,
   "metadata": {},
   "outputs": [],
   "source": [
    "plt.rcParams['axes.linewidth'] = 1.5\n",
    "fig, ax = plt.subplots(figsize=(6,6))\n",
    "\n",
    "ax=sns.scatterplot(x='TC1',y='TC2',data=tsne_result,s=15,linewidth=0.2,alpha=1)\n",
    "        \n",
    "\n",
    "plt.xlabel ('tSNE 1',fontsize=24,fontweight='bold')\n",
    "\n",
    "plt.ylabel ('tSNE 2',fontsize=24,fontweight='bold')\n",
    "\n",
    "plt.tick_params ('both',width=2,labelsize=18)\n",
    "\n",
    "ax.spines['top'].set_visible(False)\n",
    "ax.spines['right'].set_visible(False)\n",
    "handles, labels = ax.get_legend_handles_labels()\n",
    "\n",
    "\n",
    "plt.tight_layout()\n",
    "plt.show()"
   ]
  },
  {
   "cell_type": "markdown",
   "metadata": {},
   "source": [
    "It is not a priori known what the correct number of clusters (k) is in k-means. A standard method is to compute the silhouette score for different values of k. It is between 1 and -1 (higher is better) and reflects how close the cluster memebr are to their centroid as opposed to points from the other clusters"
   ]
  },
  {
   "cell_type": "code",
   "execution_count": null,
   "metadata": {},
   "outputs": [],
   "source": [
    "range_n_clusters = range(2,10, 1) # To explore the \"best\" number of cluster to classify our molecules\n",
    "for n_clusters in range_n_clusters:\n",
    "    kmeans = KMeans(n_clusters=n_clusters, random_state=10)\n",
    "    cluster_labels = kmeans.fit_predict(tsne_result[['TC1','TC2']])\n",
    "    silhouette_avg = silhouette_score(tsne_result[['TC1','TC1']], cluster_labels)\n",
    "    print(\"For n_clusters =\", n_clusters,\n",
    "          \"The average silhouette_score is :\", silhouette_avg) #This will print the silhouette score, as higher as our data is better distributed inside the clusters"
   ]
  },
  {
   "cell_type": "code",
   "execution_count": null,
   "metadata": {},
   "outputs": [],
   "source": [
    "# define the number of clusters\n",
    "k = 8"
   ]
  },
  {
   "cell_type": "code",
   "execution_count": null,
   "metadata": {},
   "outputs": [],
   "source": [
    "kmeans = KMeans(n_clusters=k, random_state=10) # We define the best number of clusters\n",
    "clusters = kmeans.fit(tsne_result[['TC1','TC2']]) #TC1vs TC2\n",
    "\n",
    "tsne_result['Cluster'] = pd.Series(clusters.labels_, index=tsne_result.index)\n",
    "tsne_result.head(5) #The tSNE table now contains the number of cluster for each element"
   ]
  },
  {
   "cell_type": "code",
   "execution_count": null,
   "metadata": {},
   "outputs": [],
   "source": [
    "plt.rcParams['axes.linewidth'] = 1.5\n",
    "fig, ax = plt.subplots(figsize=(7,6))\n",
    "\n",
    "ax=sns.scatterplot(x='TC1',y='TC2',data=tsne_result, hue='Cluster',s=22,palette=sns.color_palette(\"colorblind\", k),linewidth=0.2,alpha=1)\n",
    "        \n",
    "\n",
    "plt.xlabel ('tSNE 1',fontsize=24,fontweight='bold')\n",
    "\n",
    "plt.ylabel ('tSNE 2',fontsize=24,fontweight='bold')\n",
    "\n",
    "plt.tick_params ('both',width=2,labelsize=18)\n",
    "\n",
    "ax.spines['top'].set_visible(False)\n",
    "ax.spines['right'].set_visible(False)\n",
    "\n",
    "handles, labels = ax.get_legend_handles_labels()\n",
    "\n",
    "ax.legend(handles=handles[1:], labels=labels[1:])\n",
    "\n",
    "plt.legend(loc='best',bbox_to_anchor=(1,1) ,frameon=False,prop={'size': 8},ncol=2)\n",
    "\n",
    "plt.tight_layout()\n",
    "plt.show()"
   ]
  },
  {
   "cell_type": "code",
   "execution_count": null,
   "metadata": {},
   "outputs": [],
   "source": [
    "kmeans.cluster_centers_"
   ]
  },
  {
   "cell_type": "code",
   "execution_count": null,
   "metadata": {},
   "outputs": [],
   "source": [
    "from sklearn.metrics import pairwise_distances_argmin_min\n",
    "closest, _ = pairwise_distances_argmin_min(kmeans.cluster_centers_, tsne_result[['TC1','TC2']])\n",
    "closest"
   ]
  },
  {
   "cell_type": "code",
   "execution_count": null,
   "metadata": {},
   "outputs": [],
   "source": [
    "print(f\"The {k} molecules closest to their respective cluster centroid:\")\n",
    "Draw.MolsToGridImage(\n",
    "    [MolFromSmiles(random_smi[i][0]) for i in closest],\n",
    "    legends=[str(random_smi[i][1]) for i in closest],\n",
    "    molsPerRow=5,\n",
    "    subImgSize=(300,300)\n",
    ")\n",
    "\n"
   ]
  },
  {
   "cell_type": "markdown",
   "metadata": {},
   "source": [
    "### Option C: Multi-dimensional Scaling (MDS)"
   ]
  },
  {
   "cell_type": "code",
   "execution_count": null,
   "metadata": {},
   "outputs": [],
   "source": [
    "distances = getTanimotoDistanceMatrix(fps)\n",
    "distances"
   ]
  },
  {
   "cell_type": "code",
   "execution_count": null,
   "metadata": {},
   "outputs": [],
   "source": [
    "\n",
    "\n",
    "\n",
    "mds = MDS(n_components=2, max_iter=3000, eps=1e-9, random_state=42,\n",
    "                   dissimilarity=\"precomputed\", n_jobs=-1)\n",
    "\n",
    "pos = mds.fit(distances[:100,:100]).embedding_"
   ]
  },
  {
   "cell_type": "markdown",
   "metadata": {},
   "source": [
    "__Conclusion__: MDS is too expensive to handle 10k datapoints"
   ]
  },
  {
   "cell_type": "code",
   "execution_count": null,
   "metadata": {},
   "outputs": [],
   "source": [
    "pos"
   ]
  },
  {
   "cell_type": "code",
   "execution_count": null,
   "metadata": {},
   "outputs": [],
   "source": []
  }
 ],
 "metadata": {
  "kernelspec": {
   "display_name": "Python 3",
   "language": "python",
   "name": "python3"
  },
  "language_info": {
   "codemirror_mode": {
    "name": "ipython",
    "version": 3
   },
   "file_extension": ".py",
   "mimetype": "text/x-python",
   "name": "python",
   "nbconvert_exporter": "python",
   "pygments_lexer": "ipython3",
   "version": "3.8.8"
  }
 },
 "nbformat": 4,
 "nbformat_minor": 1
}
