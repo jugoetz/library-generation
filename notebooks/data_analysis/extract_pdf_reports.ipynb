{
 "cells": [
  {
   "cell_type": "markdown",
   "id": "0",
   "metadata": {},
   "source": [
    "# Extract MoBiAS PDF reports\n",
    "\n",
    "The PDF reports are a great source of additional information as they contain data for peaks that may not have been assigned to any known product.\n",
    "Mining these reports is much faster than reprocessing of the raw LCMS data.\n",
    "\n",
    "Here, we are in particular interested to identify:\n",
    "1. leftover starting materials\n",
    "2. systematic side products that we have not been previously looking for\n"
   ]
  },
  {
   "cell_type": "code",
   "execution_count": null,
   "id": "1",
   "metadata": {
    "tags": []
   },
   "outputs": [],
   "source": [
    "import pathlib\n",
    "import re\n",
    "import sys\n",
    "from datetime import datetime\n",
    "\n",
    "sys.path.append(str(pathlib.Path().resolve().parents[1]))\n",
    "\n",
    "from pypdf import PdfReader\n",
    "import pandas as pd\n",
    "import numpy as np\n",
    "\n",
    "from src.util.db_utils import SynFermDatabaseConnection\n",
    "from src.definitions import DATA_DIR, PLATE_LIST_PATH\n",
    "from src.util.rdkit_util import smiles_to_lcms_mass"
   ]
  },
  {
   "cell_type": "code",
   "execution_count": null,
   "id": "2",
   "metadata": {
    "tags": []
   },
   "outputs": [],
   "source": [
    "con = SynFermDatabaseConnection()"
   ]
  },
  {
   "cell_type": "code",
   "execution_count": null,
   "id": "3",
   "metadata": {},
   "outputs": [],
   "source": [
    "def count_assigned_peaks():\n",
    "    assigned_peaks = con.con.execute(\"SELECT peak_id, assignment, lp.experiment_id FROM lcms_peaks_assignment JOIN lcms_peaks lp on lcms_peaks_assignment.peak_id = lp.id\").fetchall()\n",
    "    df = pd.DataFrame(assigned_peaks, columns=[\"peak_id\", \"assignment\", \"experiment_id\"])\n",
    "    # count the number of reaction each species is found in\n",
    "    return df[[\"assignment\", \"experiment_id\"]].drop_duplicates().groupby([\"assignment\"]).count()"
   ]
  },
  {
   "cell_type": "markdown",
   "id": "4",
   "metadata": {
    "jp-MarkdownHeadingCollapsed": true,
    "tags": []
   },
   "source": [
    "## Extract PDF data"
   ]
  },
  {
   "cell_type": "code",
   "execution_count": null,
   "id": "5",
   "metadata": {
    "editable": true,
    "slideshow": {
     "slide_type": ""
    },
    "tags": []
   },
   "outputs": [],
   "source": [
    "def import_lcms_full_report(path):\n",
    "    # set up pdf reader\n",
    "    reader = PdfReader(path)\n",
    "    number_of_pages = len(reader.pages)\n",
    "    lines = []\n",
    "    found_data = False\n",
    "    # iterate from second page until entire peak summary table is read completely\n",
    "    for i in range(1, number_of_pages):\n",
    "        page = reader.pages[i]\n",
    "        text = page.extract_text()\n",
    "        line_list = text.splitlines()\n",
    "        if (line_list[0] != '# RT [min] Area I S/N Max. m/z FWHM [min] Area % Int. %') and found_data:  # stop when not encountering another data header\n",
    "            break\n",
    "        else:\n",
    "            found_data = True\n",
    "        lines += line_list\n",
    "    \n",
    "    if len(lines) == 0:\n",
    "        raise RuntimeError(\"No data extracted\")\n",
    "        \n",
    "    # remove spaces in header\n",
    "    cleaned_lines = ['# RT[min] Area I S/N max_m/z FWHM[min] Area% Int%',]\n",
    "    # remove footers and data headers on not-first page\n",
    "    cleaned_lines += [line for line in lines if line[0].isnumeric()] \n",
    "\n",
    "    # split the lines into individual fields\n",
    "    data = [line.split() for line in cleaned_lines]\n",
    "    \n",
    "    # assemble DataFrame from data\n",
    "    df = pd.DataFrame(data[1:], columns=data[0]).astype(\"float\")\n",
    "\n",
    "    return df"
   ]
  },
  {
   "cell_type": "code",
   "execution_count": null,
   "id": "6",
   "metadata": {},
   "outputs": [],
   "source": [
    "%%capture output\n",
    "# import the plate list to obtain LCMS identifier - plate_nr relation\n",
    "plate_list = pd.read_csv(PLATE_LIST_PATH)\n",
    "# we will record any files that cause exceptions for manual inspection\n",
    "files_with_exceptions = []\n",
    "\n",
    "# iterate over all experiments/plates\n",
    "for exp_nr in range(1, 30):\n",
    "    for plate_nr in range(1, 7):\n",
    "        # print progress indicator\n",
    "        now = datetime.now()\n",
    "        print(f\"exp {exp_nr}-{plate_nr}, started {now.strftime('%H:%M:%S')}\")\n",
    " \n",
    "        \n",
    "        lcms_id = plate_list.loc[(plate_list[\"exp_nr\"] == exp_nr) & (plate_list[\"plate_nr\"] == plate_nr), \"results_file_name\"].item().split(\"_\")[0]\n",
    "        exp_path = DATA_DIR / \"pdf_reports\" / lcms_id\n",
    "        full_report_paths = list(exp_path.glob(\"*_LCMS_Fullreport.pdf\"))\n",
    "        \n",
    "        for path in full_report_paths:\n",
    "            try:\n",
    "                # get well from filename\n",
    "                regex = r'_P\\d{1}-[A-Z]-\\d{1,2}_'\n",
    "                match = re.search(regex, path.name)\n",
    "                well = \"\".join(match.group().strip(\"_\").split(\"-\")[1:])\n",
    "                reaction_id = con.get_reaction_id((exp_nr, plate_nr, well))\n",
    "                df = import_lcms_full_report(path)\n",
    "                # we persist this to the database for re-use\n",
    "                # first reformat df to fit DB\n",
    "                df.insert(0, \"reaction_id\", reaction_id)\n",
    "                df.insert(2, \"retention_time_s\", (df[\"RT[min]\"] * 60).astype(\"int\"))\n",
    "                df = df.drop(columns=\"RT[min]\")\n",
    "                df = df.rename(columns={\"#\": \"peak_number\", \n",
    "                           \"Area\": \"area\", \n",
    "                           \"I\": \"intensity\",\n",
    "                           \"S/N\": \"signal_to_noise\",\n",
    "                           \"max_m/z\": \"mz_max\",\n",
    "                           \"FWHM[min]\": \"fwhm_min\", \n",
    "                           \"Area%\": \"%area\",\n",
    "                           \"Int%\": \"%intensity\"\n",
    "                          }).astype({\"peak_number\": \"int\",\n",
    "                                     \"area\": \"int\",\n",
    "                                     \"intensity\": \"int\"})\n",
    "                # write all extracted peaks to DB\n",
    "                with con.con:\n",
    "                    con.con.executemany(\n",
    "                        'INSERT INTO lcms_peaks (experiment_id, peak_nr, retention_time_s, area, intensity, signal_to_noise, mz_max, fwhm_min, \"%area\", \"%intensity\") VALUES (?, ?, ?, ?, ?, ?, ?, ?, ?, ?);', \n",
    "                        [tuple(row) for row in df.to_numpy()]\n",
    "                    )\n",
    "            except Exception as e:\n",
    "                print(f\"Something went wrong for {str(path)}\")\n",
    "                files_with_exceptions.append(path)\n",
    "                print(e)"
   ]
  },
  {
   "cell_type": "markdown",
   "id": "7",
   "metadata": {},
   "source": [
    "Note:\n",
    "We have later found one failure mode for the extraction:\n",
    "Sometimes values (intensity) are missing in the PDF table, in which case, that specific row is parsed incorrectly.\n",
    "We can remove these rows by checking for NaN values in the last column (%intensity).\n"
   ]
  },
  {
   "cell_type": "code",
   "execution_count": null,
   "id": "8",
   "metadata": {},
   "outputs": [],
   "source": [
    "len(con.con.execute('SELECT * FROM lcms_peaks WHERE \"%intensity\" IS NULL').fetchall())"
   ]
  },
  {
   "cell_type": "code",
   "execution_count": null,
   "id": "9",
   "metadata": {},
   "outputs": [],
   "source": [
    "with con.con:\n",
    "    con.con.execute('DELETE FROM lcms_peaks WHERE \"%intensity\" IS NULL')"
   ]
  },
  {
   "cell_type": "markdown",
   "id": "10",
   "metadata": {
    "tags": []
   },
   "source": [
    "## Peak assignments - common contaminants"
   ]
  },
  {
   "cell_type": "code",
   "execution_count": null,
   "id": "11",
   "metadata": {
    "tags": []
   },
   "outputs": [],
   "source": [
    "# define some expected contaminants\n",
    "mz_dmso = [79.0212, 101.0032, 157.0351]  # M+H+, M+Na+ 2M+H+\n",
    "mz_lock_tmp = 142.1590  # tetramethylpiperidine\n",
    "mz_lock_hmp = 322.0481  # hexamethoxyphosphazene\n",
    "mz_is = 361.1201  # fenofibrate"
   ]
  },
  {
   "cell_type": "code",
   "execution_count": null,
   "id": "12",
   "metadata": {},
   "outputs": [],
   "source": [
    "# write DMSO assignments to DB\n",
    "# the median retention time for DMSO is 48 seconds, but it's a broad peak, so we just use <120s\n",
    "for mz in mz_dmso:\n",
    "    with con.con:\n",
    "        con.con.execute(\"INSERT INTO lcms_peaks_assignment (peak_id, assignment) SELECT id, 'DMSO' FROM lcms_peaks WHERE mz_max BETWEEN ? AND ? AND retention_time_s < 120\", (mz - 0.02, mz + 0.02))\n"
   ]
  },
  {
   "cell_type": "code",
   "execution_count": null,
   "id": "13",
   "metadata": {},
   "outputs": [],
   "source": [
    "# write lock mass assignments to DB\n",
    "# since lock molecules are part of the solvent, we do not put a retention time constraint\n",
    "with con.con:\n",
    "    con.con.execute(\"INSERT INTO lcms_peaks_assignment (peak_id, assignment) SELECT id, 'lock mass tetramethylpiperidine' FROM lcms_peaks WHERE mz_max BETWEEN ? AND ?\", (mz_lock_tmp - 0.02, mz_lock_tmp + 0.02))\n",
    "with con.con:\n",
    "    con.con.execute(\"INSERT INTO lcms_peaks_assignment (peak_id, assignment) SELECT id, 'lock mass hexamethoxyphosphazene' FROM lcms_peaks WHERE mz_max BETWEEN ? AND ?\", (mz_lock_hmp - 0.02, mz_lock_hmp + 0.02))"
   ]
  },
  {
   "cell_type": "code",
   "execution_count": null,
   "id": "14",
   "metadata": {},
   "outputs": [],
   "source": [
    "# write IS assignments to DB\n",
    "# the median retention time for fenofibrate was 368 s. We allow a 20 s window around this (the latest picked peak is at 388 so the upper bound is not necessary)\n",
    "with con.con:\n",
    "    con.con.execute(\"INSERT INTO lcms_peaks_assignment (peak_id, assignment) SELECT id, 'IS fenofibrate' FROM lcms_peaks WHERE mz_max BETWEEN ? AND ? AND retention_time_s > 348\", (mz_is - 0.02, mz_is + 0.02))"
   ]
  },
  {
   "cell_type": "markdown",
   "id": "15",
   "metadata": {},
   "source": [
    "## Peak assignments - Known reactants/products\n",
    "\n",
    "We read extracted data from the DB, compare it with the expected masses and save the results back to the db"
   ]
  },
  {
   "cell_type": "code",
   "execution_count": null,
   "id": "16",
   "metadata": {},
   "outputs": [],
   "source": [
    "def calculate_lcms_peak_differences(identifier):\n",
    "\n",
    "    # import relevant reactants and products\n",
    "    # import starting material mzs\n",
    "    sms = con.get_starting_materials_for_reaction(identifier)\n",
    "    mz_i, mz_m, mz_t = [smiles_to_lcms_mass(smi) for smi in sms]\n",
    "    mz_iacid = mz_i - 52.0096  # mass difference of degradation KAT-H to carboxylic acid\n",
    "    mz_baa = mz_m - 124.05243  # mass difference of degradation to beta-amino acid\n",
    "    mzs = {\"I\": mz_i, \"M\": mz_m, \"T\": mz_t, \"I_acid\": mz_iacid, \"M_bAA\": mz_baa}\n",
    "\n",
    "    # import product mzs\n",
    "    known_product_smiles = con.get_product_smiles(identifier)\n",
    "    known_product_mzs = {s: smiles_to_lcms_mass(smi) for s, smi in zip(\"ABCDEFGH\", known_product_smiles) if smi}  # \"if smi\" bc we sometimes have None for product H\n",
    "    mzs.update(known_product_mzs)\n",
    "\n",
    "    # assign known peaks\n",
    "    for s, mz in mzs.items():\n",
    "        with con.con:\n",
    "            con.con.execute(\"INSERT INTO lcms_peaks_assignment (peak_id, assignment) SELECT id, ? AS assignment FROM lcms_peaks WHERE experiment_id=? AND mz_max BETWEEN ? AND ?\", (s, identifier, mz - 0.02, mz + 0.02))\n",
    "\n",
    "    # some peaks are still unexplained\n",
    "    # for these, we calculate the difference to known mzs to see if a pattern emerges\n",
    "    lcms_peaks = con.get_lcms_peaks(identifier, with_assignment=True)\n",
    "    # ignore peaks that are already explained or that are insignificant\n",
    "    unexplained_peaks = lcms_peaks.loc[lcms_peaks.assignment.isna() & (lcms_peaks[\"%area\"] > 5)]\n",
    "    unexplained_mzs = unexplained_peaks.mz_max.to_numpy()\n",
    "    mzs_arr = np.array(list(mzs.values()))\n",
    "    # calculate the differences with all the considered masses\n",
    "    delta = pd.concat([unexplained_peaks[[\"experiment_id\", \"id\"]].reset_index(drop=True), pd.DataFrame(unexplained_mzs[:, None] - mzs_arr, columns=list(mzs.keys()))], axis=1)\n",
    "\n",
    "    # add \"H\" column if it does not exist\n",
    "    if \"H\" not in delta.columns:\n",
    "        delta[\"H\"] = np.nan\n",
    "    \n",
    "    with con.con:\n",
    "        # persist differences to DB\n",
    "        con.con.executemany(\"INSERT INTO lcms_peaks_differences (experiment_id, peak_id, delta_I, delta_M, delta_T, delta_Iacid, delta_bAA, delta_A, delta_B, delta_C, delta_D, delta_E, delta_F, delta_G, delta_H) VALUES (?, ?, ?, ?, ?, ?, ?, ?, ?, ?, ?, ?, ?, ?, ?);\",\n",
    "                           delta.to_numpy())\n",
    "    return delta"
   ]
  },
  {
   "cell_type": "code",
   "execution_count": null,
   "id": "17",
   "metadata": {},
   "outputs": [],
   "source": [
    "# we will record any files that cause exceptions for manual inspection\n",
    "records_with_exceptions = []\n",
    "# iterate over all experiments/plates\n",
    "for exp_nr in range(1, 30):\n",
    "    for plate_nr in range(1, 7):\n",
    "        # print progress indicator\n",
    "        now = datetime.now()\n",
    "        print(f\"exp {exp_nr}-{plate_nr}, started {now.strftime('%H:%M:%S')}\")\n",
    "\n",
    "        identifiers = con.get_reaction_ids_for_plate((exp_nr, plate_nr))\n",
    "        for i in identifiers:\n",
    "            try:\n",
    "                calculate_lcms_peak_differences(i)\n",
    "            except Exception as e:\n",
    "                records_with_exceptions.append(i)"
   ]
  },
  {
   "cell_type": "code",
   "execution_count": null,
   "id": "18",
   "metadata": {},
   "outputs": [],
   "source": [
    "len(df[\"experiment_id\"].unique())"
   ]
  },
  {
   "cell_type": "markdown",
   "id": "19",
   "metadata": {},
   "source": [
    "## Peak assignments - Find more contaminants"
   ]
  },
  {
   "cell_type": "code",
   "execution_count": null,
   "id": "20",
   "metadata": {
    "tags": []
   },
   "outputs": [],
   "source": [
    "## get all peaks to identify common contaminants\n",
    "res = con.con.execute('SELECT lcms_peaks.id, lcms_peaks.experiment_id, lcms_peaks.peak_nr, retention_time_s, area, intensity, signal_to_noise, mz_max, fwhm_min, \"%area\", \"%intensity\", a.assignment FROM lcms_peaks LEFT JOIN lcms_peaks_assignment a on lcms_peaks.id = a.peak_id;',\n",
    "                ).fetchall()\n",
    "df = pd.DataFrame(\n",
    "    res,\n",
    "    columns=[\n",
    "       \"peak_id\",\n",
    "        \"reaction_id\",\n",
    "        \"peak_nr\",\n",
    "        \"retention_time_s\",\n",
    "        \"area\",\n",
    "        \"intensity\",\n",
    "        \"signal_to_noise\",\n",
    "        \"mz_max\",\n",
    "        \"fwhm_min\",\n",
    "        \"%area\",\n",
    "        \"%intensity\",\n",
    "        \"assignment\",\n",
    "    ]\n",
    ")"
   ]
  },
  {
   "cell_type": "code",
   "execution_count": null,
   "id": "21",
   "metadata": {
    "tags": []
   },
   "outputs": [],
   "source": [
    "df.loc[df.assignment.isna(), \"mz_max\"].round(2).value_counts()"
   ]
  },
  {
   "cell_type": "markdown",
   "id": "22",
   "metadata": {
    "jp-MarkdownHeadingCollapsed": true,
    "tags": []
   },
   "source": [
    "#### m/z 128.11"
   ]
  },
  {
   "cell_type": "code",
   "execution_count": null,
   "id": "23",
   "metadata": {
    "tags": []
   },
   "outputs": [],
   "source": [
    "# what mass exactly do we observe?\n",
    "df.loc[df[\"mz_max\"].between(128.105, 128.109), \"mz_max\"].describe()"
   ]
  },
  {
   "cell_type": "code",
   "execution_count": null,
   "id": "24",
   "metadata": {
    "tags": []
   },
   "outputs": [],
   "source": [
    "# when does the 128.1064 peak occur?\n",
    "df.loc[df[\"mz_max\"].between(128.105, 128.109), \"retention_time_s\"].describe()"
   ]
  },
  {
   "cell_type": "markdown",
   "id": "25",
   "metadata": {},
   "source": [
    "An m/z of 128.1064 corrsponds to C7H13NO (calc m/z 128.1070)\n",
    "This could e.g. be 2-azacyclooctanone.\n",
    "\n",
    "The peak usually occurs after 184 seconds. We will assign anything with ±15s and ±0.002 m/z to this formula\n"
   ]
  },
  {
   "cell_type": "code",
   "execution_count": null,
   "id": "26",
   "metadata": {
    "tags": []
   },
   "outputs": [],
   "source": [
    "# assign\n",
    "peak_ids = df.loc[df[\"mz_max\"].between(128.105, 128.109) & df[\"retention_time_s\"].between(169, 199), \"peak_id\"].to_numpy()\n",
    "with con.con:\n",
    "    con.con.executemany('INSERT INTO lcms_peaks_assignment (peak_id, assignment) VALUES (?, \"common contaminant C7H13NO\");', peak_ids[:, None].tolist())"
   ]
  },
  {
   "cell_type": "code",
   "execution_count": null,
   "id": "27",
   "metadata": {
    "tags": []
   },
   "outputs": [],
   "source": [
    "# assign\n",
    "df.loc[df[\"mz_max\"].between(128.105, 128.109) & ~df[\"retention_time_s\"].between(169, 199)]"
   ]
  },
  {
   "cell_type": "markdown",
   "id": "28",
   "metadata": {
    "jp-MarkdownHeadingCollapsed": true,
    "tags": []
   },
   "source": [
    "#### m/z 185.11"
   ]
  },
  {
   "cell_type": "code",
   "execution_count": null,
   "id": "29",
   "metadata": {
    "tags": []
   },
   "outputs": [],
   "source": [
    "# what mass exactly do we observe?\n",
    "df.loc[df[\"mz_max\"].between(185.10, 185.12), \"mz_max\"].describe()"
   ]
  },
  {
   "cell_type": "code",
   "execution_count": null,
   "id": "30",
   "metadata": {
    "tags": []
   },
   "outputs": [],
   "source": [
    "# when does the 185.1141 peak occur?\n",
    "df.loc[df[\"mz_max\"].between(185.1121, 185.1161), \"retention_time_s\"].describe()"
   ]
  },
  {
   "cell_type": "markdown",
   "id": "31",
   "metadata": {},
   "source": [
    "An m/z of 185.1141 could correspond to C8H18O3Na+ (calc m/z 185.1148)\n",
    "This could e.g. be diethyl-diethyleneglycol (or other short PEG chains) which are common LCMS contaiminants\n",
    "\n",
    "The peak usually occurs after 198 seconds. We will assign anything with ±15s and ±0.002 m/z to this formula\n"
   ]
  },
  {
   "cell_type": "code",
   "execution_count": null,
   "id": "32",
   "metadata": {
    "tags": []
   },
   "outputs": [],
   "source": [
    "# assign\n",
    "peak_ids = df.loc[df[\"mz_max\"].between(185.1128, 185.1168) & df[\"retention_time_s\"].between(183, 213), \"peak_id\"].to_numpy()\n",
    "with con.con:\n",
    "    con.con.executemany('INSERT INTO lcms_peaks_assignment (peak_id, assignment) VALUES (?, \"common PEG contaminant\");', peak_ids[:, None].tolist())"
   ]
  },
  {
   "cell_type": "markdown",
   "id": "33",
   "metadata": {
    "jp-MarkdownHeadingCollapsed": true,
    "tags": []
   },
   "source": [
    "#### m/z 239.09"
   ]
  },
  {
   "cell_type": "code",
   "execution_count": null,
   "id": "34",
   "metadata": {
    "tags": []
   },
   "outputs": [],
   "source": [
    "# what mass exactly do we observe?\n",
    "df.loc[df[\"mz_max\"].between(239.08, 239.10), \"mz_max\"].describe()"
   ]
  },
  {
   "cell_type": "code",
   "execution_count": null,
   "id": "35",
   "metadata": {
    "tags": []
   },
   "outputs": [],
   "source": [
    "# when does the 239.0885 peak occur?\n",
    "df.loc[df[\"mz_max\"].between(239.0865, 239.0905), \"retention_time_s\"].describe()"
   ]
  },
  {
   "cell_type": "markdown",
   "id": "36",
   "metadata": {},
   "source": [
    "An m/z of 239.0885 could correspond to many different compounds.\n",
    "The peak usually occurs after 196 seconds. We will assign anything with ±15s and ±0.002 m/z to \"common contaminant\"\n"
   ]
  },
  {
   "cell_type": "code",
   "execution_count": null,
   "id": "37",
   "metadata": {
    "tags": []
   },
   "outputs": [],
   "source": [
    "# assign\n",
    "peak_ids = df.loc[df[\"mz_max\"].between(239.0865, 239.0905) & df[\"retention_time_s\"].between(181, 211), \"peak_id\"].to_numpy()\n",
    "with con.con:\n",
    "    con.con.executemany('INSERT INTO lcms_peaks_assignment (peak_id, assignment) VALUES (?, \"common contaminant\");', peak_ids[:, None].tolist())"
   ]
  },
  {
   "cell_type": "markdown",
   "id": "38",
   "metadata": {},
   "source": [
    "## Identify systematic mass differences\n",
    "Here's an idea how to go about identifying systematic mass differences:\n",
    "Identify those records, where a certain mass difference (e.g. delta_T) is within a narrow span, but which use different (relevant) building blocks, in the example different terminators.\n",
    "Rationale: If the observed m/z is dependent on terminator mass, the responsible species contains the terminator in some form."
   ]
  },
  {
   "cell_type": "code",
   "execution_count": null,
   "id": "39",
   "metadata": {},
   "outputs": [],
   "source": [
    "reaction_ids = con.get_reaction_ids_for_building_block(filter_exp_nr=(4, 29))\n",
    "df = pd.concat([con.get_lcms_peaks(i, with_delta=True, with_assignment=True, with_building_blocks=True) for i in reaction_ids]).reset_index(drop=True)\n",
    "# filter a bit: only those with a retention time > 3 min (180 s), and only with an m/z over 200\n",
    "df = df.loc[(df[\"retention_time_s\"] > 180) & (df[\"mz_max\"] > 200)]\n",
    "df"
   ]
  },
  {
   "cell_type": "code",
   "execution_count": null,
   "id": "40",
   "metadata": {},
   "outputs": [],
   "source": [
    "# get unique differences\n",
    "t_diff = df.round(2).groupby(\"delta_T\")[\"terminator\"].unique()\n",
    "t_diff"
   ]
  },
  {
   "cell_type": "code",
   "execution_count": null,
   "id": "41",
   "metadata": {},
   "outputs": [],
   "source": [
    "t_diff.loc[t_diff.apply(lambda x: len(x) > 20)]"
   ]
  },
  {
   "cell_type": "markdown",
   "id": "42",
   "metadata": {},
   "source": [
    "#### <sup>81</sup>Br isotope"
   ]
  },
  {
   "cell_type": "code",
   "execution_count": null,
   "id": "43",
   "metadata": {},
   "outputs": [],
   "source": [
    "df.loc[df[\"delta_T\"].between(166.915, 166.925)]"
   ]
  },
  {
   "cell_type": "markdown",
   "id": "44",
   "metadata": {},
   "source": [
    "These are actually all caused by bromine isotope 81Br. The mass difference to 79Br is 1.9979535, which coincides with delta_T."
   ]
  },
  {
   "cell_type": "code",
   "execution_count": null,
   "id": "45",
   "metadata": {},
   "outputs": [],
   "source": [
    "delta_br_isotopes = (1.9959, 1.9999)"
   ]
  },
  {
   "cell_type": "code",
   "execution_count": null,
   "id": "46",
   "metadata": {},
   "outputs": [],
   "source": [
    "# obtain a list of building blocks that contain bromine\n",
    "building_blocks = [x[0] for x in con.con.execute(\"SELECT short FROM building_block_shorts;\").fetchall()]\n",
    "has_bromine = [\"Br\" in con.get_smiles(bb) for bb in building_blocks]\n",
    "building_blocks_with_bromine = [x[0] for x in zip(building_blocks, has_bromine) if x[1]]\n",
    "building_blocks_with_bromine"
   ]
  },
  {
   "cell_type": "code",
   "execution_count": null,
   "id": "47",
   "metadata": {},
   "outputs": [],
   "source": [
    "# select based on the isotope mass difference, but only if the relevant building blocks actually contain bromine\n",
    "peaks_br_d = df.loc[df[\"delta_D\"].between(*delta_br_isotopes) & (df[\"initiator\"].isin(building_blocks_with_bromine) | df[\"terminator\"].isin(building_blocks_with_bromine)), \"id\"].to_numpy()\n",
    "with con.con:\n",
    "    con.con.executemany(\"INSERT INTO lcms_peaks_assignment (peak_id, assignment) VALUES (?, 'D 81Br');\", peaks_br_d[:, None].tolist())"
   ]
  },
  {
   "cell_type": "markdown",
   "id": "48",
   "metadata": {},
   "source": [
    "Now obviously, the same problem may occur for other products, so we check the other differences as well"
   ]
  },
  {
   "cell_type": "code",
   "execution_count": null,
   "id": "49",
   "metadata": {},
   "outputs": [],
   "source": [
    "# select based on the isotope mass difference, but only if the relevant building blocks actually contain bromine\n",
    "peaks_br_a = df.loc[df[\"delta_A\"].between(1.9976, 1.9982) & (df[\"initiator\"].isin(building_blocks_with_bromine) | df[\"monomer\"].isin(building_blocks_with_bromine) | df[\"terminator\"].isin(building_blocks_with_bromine)), \"id\"].to_numpy()\n",
    "peaks_br_b = df.loc[df[\"delta_B\"].between(1.9976, 1.9982) & (df[\"initiator\"].isin(building_blocks_with_bromine) | df[\"monomer\"].isin(building_blocks_with_bromine) | df[\"terminator\"].isin(building_blocks_with_bromine)), \"id\"].to_numpy()\n",
    "peaks_br_c = df.loc[df[\"delta_C\"].between(1.9976, 1.9982) & (df[\"initiator\"].isin(building_blocks_with_bromine) | df[\"monomer\"].isin(building_blocks_with_bromine) | df[\"terminator\"].isin(building_blocks_with_bromine)), \"id\"].to_numpy()\n",
    "peaks_br_e = df.loc[df[\"delta_E\"].between(1.9976, 1.9982) & df[\"terminator\"].isin(building_blocks_with_bromine), \"id\"].to_numpy()\n",
    "peaks_br_f = df.loc[df[\"delta_F\"].between(1.9976, 1.9982) & (df[\"initiator\"].isin(building_blocks_with_bromine) | df[\"monomer\"].isin(building_blocks_with_bromine)), \"id\"].to_numpy()\n",
    "peaks_br_g = df.loc[df[\"delta_G\"].between(1.9976, 1.9982) & (df[\"initiator\"].isin(building_blocks_with_bromine) | df[\"monomer\"].isin(building_blocks_with_bromine)), \"id\"].to_numpy()\n",
    "peaks_br_h = df.loc[df[\"delta_H\"].between(1.9976, 1.9982) & (df[\"monomer\"].isin(building_blocks_with_bromine) | df[\"terminator\"].isin(building_blocks_with_bromine)), \"id\"].to_numpy()\n",
    "\n",
    "# check how many we found\n",
    "for s, i in zip(\"ABCDEFGH\", [peaks_br_a, peaks_br_b, peaks_br_c, peaks_br_d, peaks_br_e, peaks_br_f, peaks_br_g, peaks_br_h]):\n",
    "    print(f\"{s}: {len(i)}\")"
   ]
  },
  {
   "cell_type": "code",
   "execution_count": null,
   "id": "50",
   "metadata": {},
   "outputs": [],
   "source": [
    "# commit to DB\n",
    "with con.con:\n",
    "    for s, i in zip(\"ABCEFGH\", [peaks_br_a, peaks_br_b, peaks_br_c, peaks_br_e, peaks_br_f, peaks_br_g, peaks_br_h]):\n",
    "        assignment = [f\"{s} 81Br\" for _ in range(len(i))]\n",
    "        con.con.executemany(\"INSERT INTO lcms_peaks_assignment (peak_id, assignment) VALUES (?, ?);\", tuple(zip(i.tolist(), assignment)))"
   ]
  },
  {
   "cell_type": "code",
   "execution_count": null,
   "id": "51",
   "metadata": {},
   "outputs": [],
   "source": [
    "count_assigned_peaks()"
   ]
  },
  {
   "cell_type": "markdown",
   "id": "52",
   "metadata": {},
   "source": [
    "#### 4-hydroxy version of 8-Quin-4-alkoxy-KATS"
   ]
  },
  {
   "cell_type": "code",
   "execution_count": null,
   "id": "53",
   "metadata": {},
   "outputs": [],
   "source": [
    "df.loc[df[\"delta_T\"].between(153.015, 153.025)]"
   ]
  },
  {
   "cell_type": "code",
   "execution_count": null,
   "id": "54",
   "metadata": {},
   "outputs": [],
   "source": [
    "# these all use either I21 or I22. What's unique about these?\n",
    "con.get_smiles(\"I21\")"
   ]
  },
  {
   "cell_type": "code",
   "execution_count": null,
   "id": "55",
   "metadata": {},
   "outputs": [],
   "source": [
    "con.get_smiles(\"I22\")"
   ]
  },
  {
   "cell_type": "markdown",
   "id": "56",
   "metadata": {},
   "source": [
    "Both contain a 4-hydroxyquinone moiety. The other 8-Quin KATs we have are substituted on the 5-position.\n",
    "\n",
    "The mass difference corresponds to absence of the side on the oxygen atom (i.e. the methyl group for 8-Quin003/I21 and the benzyl group for 8-Quin004/I22).\n",
    "The mass differences for OR-->OH are:\n",
    "- 8-Quin003/I21: -14.01565\n",
    "- 8-Quin004/I22: -90.04695"
   ]
  },
  {
   "cell_type": "code",
   "execution_count": null,
   "id": "57",
   "metadata": {},
   "outputs": [],
   "source": [
    "delta_quin003 = (-14.01565 - 0.002, -14.01565 + 0.002)\n",
    "delta_quin004 = (-90.04695 - 0.002, -90.04695 + 0.002)"
   ]
  },
  {
   "cell_type": "code",
   "execution_count": null,
   "id": "58",
   "metadata": {},
   "outputs": [],
   "source": [
    "# add assignment to DB\n",
    "# select based on the isotope mass difference, but only if the relevant building blocks actually contain bromine\n",
    "for s in \"ABCDEFGH\":\n",
    "    peaks_hydroxy_quin = df.loc[(df[f\"delta_{s}\"].between(*delta_quin003) & (df[\"initiator\"] == \"I21\")) | (df[f\"delta_{s}\"].between(*delta_quin004) & (df[\"initiator\"] == \"I22\")), \"id\"].to_numpy()\n",
    "    print(f\"Found {len(peaks_hydroxy_quin)} peaks for product {s}\")\n",
    "    assignment = [f\"{s} hydroxyquinone lost oxygen substituent\" for _ in range(len(peaks_hydroxy_quin))]\n",
    "    with con.con:\n",
    "        con.con.executemany(\"INSERT INTO lcms_peaks_assignment (peak_id, assignment) VALUES (?, ?);\", tuple(zip(peaks_hydroxy_quin.tolist(), assignment)))"
   ]
  },
  {
   "cell_type": "markdown",
   "id": "59",
   "metadata": {},
   "source": [
    "#### F->OH exchange on aromatic F-containing KATs (−1.9957)\n",
    "(mostly I6, containing 3-fluoropyridine)"
   ]
  },
  {
   "cell_type": "code",
   "execution_count": null,
   "id": "60",
   "metadata": {},
   "outputs": [],
   "source": [
    "df.loc[df[\"delta_T\"].between(110.015, 110.025)]"
   ]
  },
  {
   "cell_type": "code",
   "execution_count": null,
   "id": "61",
   "metadata": {},
   "outputs": [],
   "source": [
    "con.get_smiles(\"I43\")"
   ]
  },
  {
   "cell_type": "markdown",
   "id": "62",
   "metadata": {},
   "source": [
    "This mass difference (occurring exclusively with I43) corresponds to TMS->H exchange"
   ]
  },
  {
   "cell_type": "code",
   "execution_count": null,
   "id": "63",
   "metadata": {},
   "outputs": [],
   "source": [
    "df.loc[df[\"delta_T\"].between(103.005, 103.015)]"
   ]
  },
  {
   "cell_type": "code",
   "execution_count": null,
   "id": "64",
   "metadata": {},
   "outputs": [],
   "source": [
    "con.get_smiles(\"I6\")"
   ]
  },
  {
   "cell_type": "markdown",
   "id": "65",
   "metadata": {},
   "source": [
    "This mass difference (occurring exclusively with I6) corresponds to F->OH exchange (expected difference -1.99566)"
   ]
  },
  {
   "cell_type": "code",
   "execution_count": null,
   "id": "66",
   "metadata": {},
   "outputs": [],
   "source": [
    "delta_f_to_oh = (-1.99566 - 0.002, -1.99566 + 0.002)"
   ]
  },
  {
   "cell_type": "code",
   "execution_count": null,
   "id": "67",
   "metadata": {},
   "outputs": [],
   "source": [
    "# obtain a list of building blocks that contain fluorine, other than the BF3 group\n",
    "# so for initiators, there need to be at least 4 fluorines, for M and T at least 1\n",
    "building_blocks = [x[0] for x in con.con.execute(\"SELECT short FROM building_block_shorts;\").fetchall()]\n",
    "has_arom_fluorine = [\"c(F)\" in con.get_smiles(bb) for bb in building_blocks]  # not 100% safe, but good enough heuristic\n",
    "building_blocks_with_arom_fluorine = [x[0] for x in zip(building_blocks, has_arom_fluorine) if x[1]]\n",
    "list(set(building_blocks_with_arom_fluorine))"
   ]
  },
  {
   "cell_type": "code",
   "execution_count": null,
   "id": "68",
   "metadata": {},
   "outputs": [],
   "source": [
    "# add assignment to DB\n",
    "# select based on the isotope mass difference, but only if the relevant building blocks actually contain aromatic fluorine\n",
    "for s in \"ABCDEFGH\":\n",
    "    peaks_f_to_oh = df.loc[(df[f\"delta_{s}\"].between(*delta_f_to_oh) & (df[\"initiator\"].isin(building_blocks_with_arom_fluorine) | df[\"monomer\"].isin(building_blocks_with_arom_fluorine) | df[\"terminator\"].isin(building_blocks_with_arom_fluorine))), \"id\"].to_numpy()\n",
    "    print(f\"Found {len(peaks_f_to_oh)} peaks for product {s}\")\n",
    "    assignment = [f\"{s} fluorine to OH exchange\" for _ in range(len(peaks_f_to_oh))]\n",
    "    with con.con:\n",
    "        con.con.executemany(\"INSERT INTO lcms_peaks_assignment (peak_id, assignment) VALUES (?, ?);\", tuple(zip(peaks_br_f.tolist(), assignment)))"
   ]
  },
  {
   "cell_type": "markdown",
   "id": "69",
   "metadata": {},
   "source": [
    "#### Terminator + cyclohexanone condensation (+80.06)"
   ]
  },
  {
   "cell_type": "code",
   "execution_count": null,
   "id": "70",
   "metadata": {},
   "outputs": [],
   "source": [
    "df.loc[df[\"delta_T\"].between(80.055, 80.065)].sort_values([\"monomer\", \"terminator\"])"
   ]
  },
  {
   "cell_type": "markdown",
   "id": "71",
   "metadata": {},
   "source": [
    "The mass difference +80.0622 (compared to terminator) occurs for many peaks and occurs across most I, M, and T. Something interesting may be going on here."
   ]
  },
  {
   "cell_type": "code",
   "execution_count": null,
   "id": "72",
   "metadata": {},
   "outputs": [],
   "source": [
    "con.get_product_smiles(79851)"
   ]
  },
  {
   "cell_type": "code",
   "execution_count": null,
   "id": "73",
   "metadata": {},
   "outputs": [],
   "source": [
    "con.get_smiles(\"T22\")"
   ]
  },
  {
   "cell_type": "code",
   "execution_count": null,
   "id": "74",
   "metadata": {},
   "outputs": [],
   "source": [
    "con.get_smiles(\"T23\")"
   ]
  },
  {
   "cell_type": "code",
   "execution_count": null,
   "id": "75",
   "metadata": {},
   "outputs": [],
   "source": [
    "con.get_smiles(\"T25\")"
   ]
  },
  {
   "cell_type": "markdown",
   "id": "76",
   "metadata": {},
   "source": [
    "This seems to be the terminator, condensed with cyclohexanone to form something like `Sc1c(/N=C2CCCCC/2)cccc1` or `Sc1c(NC2=CCCCC2)cccc1` or `Nc1c(SC2=CCCCC2)cccc1`.\n",
    "Under certain circumstances (reaction with the T-dimer) `c1(NC2CCCCC2S3)c3cccc1` may also be possible.\n",
    "(In theory, reaction with hexylKAT would explain the mass, too – but it is highly improbable that we would somehow produce that)\n",
    "\n",
    "The expected mass difference for any of these with the terminator is 80.0626 (C6H8)."
   ]
  },
  {
   "cell_type": "code",
   "execution_count": null,
   "id": "77",
   "metadata": {},
   "outputs": [],
   "source": [
    "delta_cyclohexanone_condensation = (80.0626 - 0.002, 80.0626 + 0.002)"
   ]
  },
  {
   "cell_type": "code",
   "execution_count": null,
   "id": "78",
   "metadata": {},
   "outputs": [],
   "source": [
    "# find and count occurences\n",
    "peaks_cyclohexanone_condensation = df.loc[df[\"delta_T\"].between(*delta_cyclohexanone_condensation), \"id\"].to_numpy()\n",
    "print(len(peaks_cyclohexanone_condensation))"
   ]
  },
  {
   "cell_type": "code",
   "execution_count": null,
   "id": "79",
   "metadata": {},
   "outputs": [],
   "source": [
    "assignment = [f\"T cyclohexanone condensate\" for _ in range(len(peaks_cyclohexanone_condensation))]\n",
    "with con.con:\n",
    "    con.con.executemany(\"INSERT INTO lcms_peaks_assignment (peak_id, assignment) VALUES (?, ?);\", tuple(zip(peaks_cyclohexanone_condensation.tolist(), assignment)))"
   ]
  },
  {
   "cell_type": "code",
   "execution_count": null,
   "id": "80",
   "metadata": {},
   "outputs": [],
   "source": [
    "count_assigned_peaks()"
   ]
  },
  {
   "cell_type": "markdown",
   "id": "81",
   "metadata": {},
   "source": [
    "#### Monomer - H<sub>4</sub>O<sub>2</sub> (−36.02)"
   ]
  },
  {
   "cell_type": "code",
   "execution_count": null,
   "id": "82",
   "metadata": {},
   "outputs": [],
   "source": [
    "# let's try to be systematic and find the most common differences\n",
    "for s in \"IMTABCDEFGH\":\n",
    "    mz_delta_count = df.round(2).groupby(f\"delta_{s}\")[\"id\"].count().sort_values(ascending=False)\n",
    "    print(\"Frequent (>1000 examples) of mass differences for\", s)\n",
    "    print(mz_delta_count[mz_delta_count > 1000].index.tolist())"
   ]
  },
  {
   "cell_type": "code",
   "execution_count": null,
   "id": "83",
   "metadata": {},
   "outputs": [],
   "source": [
    "peaks = df.loc[df.delta_M.round(2) == -36.02]\n",
    "peaks"
   ]
  },
  {
   "cell_type": "code",
   "execution_count": null,
   "id": "84",
   "metadata": {},
   "outputs": [],
   "source": [
    "# check for how many different building blocks this occurs\n",
    "print(\"I:\", len(peaks.initiator.unique()))\n",
    "print(\"M:\", len(peaks.monomer.unique()))\n",
    "print(\"T:\", len(peaks.terminator.unique()))"
   ]
  },
  {
   "cell_type": "code",
   "execution_count": null,
   "id": "85",
   "metadata": {},
   "outputs": [],
   "source": [
    "# let's check which monomers are involved\n",
    "for short in peaks.monomer.unique():\n",
    "    print(short, con.get_long_name(short))"
   ]
  },
  {
   "cell_type": "code",
   "execution_count": null,
   "id": "86",
   "metadata": {},
   "outputs": [],
   "source": [
    "con.get_product_smiles(14739)"
   ]
  },
  {
   "cell_type": "code",
   "execution_count": null,
   "id": "87",
   "metadata": {},
   "outputs": [],
   "source": [
    "con.get_product_smiles(58109)"
   ]
  },
  {
   "cell_type": "code",
   "execution_count": null,
   "id": "88",
   "metadata": {},
   "outputs": [],
   "source": [
    "con.get_smiles(\"M27\")"
   ]
  },
  {
   "cell_type": "markdown",
   "id": "89",
   "metadata": {},
   "source": [
    "This peak comes from the monomer only.\n",
    "Actually, the mz value can typically be found in the QC LCMS data of the individual monomer (I checked for M36, M27 and M13 and found it in 3 out of 4 QC traces as a small but defined peak).\n",
    "We conclude that the contaminant is carried over from the monomer stock solutions.\n",
    "\n",
    "The m/z corresponds to monomer −H4O2 (−36.0211).\n",
    "We don't have a plausible structure, but we mark this peak M−H4O2"
   ]
  },
  {
   "cell_type": "code",
   "execution_count": null,
   "id": "90",
   "metadata": {},
   "outputs": [],
   "source": [
    "delta_h4o2 = (-36.0211 - 0.002, -36.0211 + 0.002)"
   ]
  },
  {
   "cell_type": "code",
   "execution_count": null,
   "id": "91",
   "metadata": {},
   "outputs": [],
   "source": [
    "# find and count occurences\n",
    "peaks_m_h4o2 = df.loc[df[\"delta_M\"].between(*delta_h4o2), \"id\"].to_numpy()\n",
    "print(len(peaks_m_h4o2))"
   ]
  },
  {
   "cell_type": "code",
   "execution_count": null,
   "id": "92",
   "metadata": {},
   "outputs": [],
   "source": [
    "# commit to DB\n",
    "assignment = [f\"M - H4O2\" for _ in range(len(peaks_m_h4o2))]\n",
    "with con.con:\n",
    "    con.con.executemany(\"INSERT INTO lcms_peaks_assignment (peak_id, assignment) VALUES (?, ?);\", tuple(zip(peaks_m_h4o2.tolist(), assignment)))"
   ]
  },
  {
   "cell_type": "markdown",
   "id": "93",
   "metadata": {},
   "source": [
    "#### Boc -> carbamic acid MS fragmentation (-56.06)\n"
   ]
  },
  {
   "cell_type": "code",
   "execution_count": null,
   "id": "94",
   "metadata": {},
   "outputs": [],
   "source": [
    "peaks = df.loc[df.delta_M.round(2) == -56.06]\n",
    "peaks"
   ]
  },
  {
   "cell_type": "code",
   "execution_count": null,
   "id": "95",
   "metadata": {},
   "outputs": [],
   "source": [
    "# check for how many different building blocks this occurs\n",
    "print(\"I:\", len(peaks.initiator.unique()))\n",
    "print(\"M:\", len(peaks.monomer.unique()))\n",
    "print(\"T:\", len(peaks.terminator.unique()))"
   ]
  },
  {
   "cell_type": "code",
   "execution_count": null,
   "id": "96",
   "metadata": {},
   "outputs": [],
   "source": [
    "# let's check which monomers are involved\n",
    "for short in peaks.monomer.unique():\n",
    "    print(short, con.get_long_name(short))"
   ]
  },
  {
   "cell_type": "code",
   "execution_count": null,
   "id": "97",
   "metadata": {},
   "outputs": [],
   "source": [
    "# let's check if all of these have boc\n",
    "print(\"M (#boc, #cbz, #tbu, #tms)\")\n",
    "for short in peaks.monomer.unique():\n",
    "    print(short, con.list_pg(short))"
   ]
  },
  {
   "cell_type": "code",
   "execution_count": null,
   "id": "98",
   "metadata": {},
   "outputs": [],
   "source": [
    "# M52 doesn't have a boc. Check number of peaks for M52 to determine whether this is a random collision\n",
    "peaks.monomer.value_counts()"
   ]
  },
  {
   "cell_type": "markdown",
   "id": "99",
   "metadata": {},
   "source": [
    "The -56.06 difference to monomer occurs from loss of the tert-butyl group (part of the Boc group).\n",
    "The expected mass difference (-C4H8) is 56.0636."
   ]
  },
  {
   "cell_type": "code",
   "execution_count": null,
   "id": "100",
   "metadata": {},
   "outputs": [],
   "source": [
    "delta_tert_butyl = (-56.0636 - 0.002, -56.0636 + 0.002)"
   ]
  },
  {
   "cell_type": "code",
   "execution_count": null,
   "id": "101",
   "metadata": {},
   "outputs": [],
   "source": [
    "# does the collision with M52 still occur in a more precise mass range?\n",
    "df.loc[df[\"delta_M\"].between(*delta_tert_butyl)].monomer.value_counts()"
   ]
  },
  {
   "cell_type": "markdown",
   "id": "102",
   "metadata": {},
   "source": [
    "No, no more collision with M52 or M16. For the rest, the mass difference is safe to apply.\n",
    "However, one question is left: Does this degradation occur in the MS, or do we actually have the carbamic acid species (usually not stable)?\n",
    "\n",
    "To answer this, we need to manually inspect MS traces.\n"
   ]
  },
  {
   "cell_type": "code",
   "execution_count": null,
   "id": "103",
   "metadata": {},
   "outputs": [],
   "source": [
    "def get_lab_journal_number_well(experiment_id):\n",
    "    return con.con.execute(\"SELECT lab_journal_number, well FROM experiments WHERE id = ?\", (experiment_id,)).fetchone()"
   ]
  },
  {
   "cell_type": "code",
   "execution_count": null,
   "id": "104",
   "metadata": {},
   "outputs": [],
   "source": [
    "# let's sample a few of the alrger peaks to inspect manually peaks\n",
    "peaks_to_inspect = df.loc[df[\"delta_M\"].between(*delta_tert_butyl) & (df[\"%area\"] > 20), [\"experiment_id\", \"peak_nr\", \"monomer\"]].sample(3, random_state=1)\n",
    "peaks_to_inspect[\"identifier\"] = peaks_to_inspect[\"experiment_id\"].apply(lambda x: get_lab_journal_number_well(x))\n",
    "peaks_to_inspect"
   ]
  },
  {
   "cell_type": "markdown",
   "id": "105",
   "metadata": {},
   "source": [
    "Outcome of manual inspection:\n",
    "- JG248/A16: Peak 48 contains both monomer and the carbamic acid derivative (ca. 3:5 int.), but not the fully deprotected amine. There is no other monomer peak.\n",
    "- JG366/F16: Same picture here for peak 17. Contains a miniscule amount of fully deprotected amine. No other monomer peak\n",
    "- JG280/F11: Exact same picture again. Only other peaks are shoulders of peak 17.\n",
    "\n",
    "_In conclusion_, our assumption that the conversion to carbamic acid occurs in the LCMS and does not indicate formation of a separate stable species is confirmed by the data."
   ]
  },
  {
   "cell_type": "code",
   "execution_count": null,
   "id": "106",
   "metadata": {},
   "outputs": [],
   "source": [
    "# find and count occurences\n",
    "peaks_m_carbamic_acid = df.loc[df[\"delta_M\"].between(*delta_tert_butyl), \"id\"].to_numpy()\n",
    "print(len(peaks_m_carbamic_acid))"
   ]
  },
  {
   "cell_type": "code",
   "execution_count": null,
   "id": "107",
   "metadata": {},
   "outputs": [],
   "source": [
    "# commit to DB\n",
    "assignment = [f\"M (Boc->carbamic acid fragmentation in MS)\" for _ in range(len(peaks_m_carbamic_acid))]\n",
    "with con.con:\n",
    "    con.con.executemany(\"INSERT INTO lcms_peaks_assignment (peak_id, assignment) VALUES (?, ?);\", tuple(zip(peaks_m_carbamic_acid.tolist(), assignment)))"
   ]
  },
  {
   "cell_type": "markdown",
   "id": "108",
   "metadata": {},
   "source": [
    "#### Terminator +C<sub>6</sub>H<sub>6</sub>O<sub>2</sub> (+110.04)"
   ]
  },
  {
   "cell_type": "code",
   "execution_count": null,
   "id": "109",
   "metadata": {},
   "outputs": [],
   "source": [
    "peaks = df.loc[df.delta_T.round(2) == 110.04]\n",
    "peaks"
   ]
  },
  {
   "cell_type": "code",
   "execution_count": null,
   "id": "110",
   "metadata": {},
   "outputs": [],
   "source": [
    "# check for how many different building blocks this occurs\n",
    "print(\"I:\", len(peaks.initiator.unique()))\n",
    "print(\"M:\", len(peaks.monomer.unique()))\n",
    "print(\"T:\", len(peaks.terminator.unique()))"
   ]
  },
  {
   "cell_type": "code",
   "execution_count": null,
   "id": "111",
   "metadata": {},
   "outputs": [],
   "source": [
    "# let's check which terminators are involved\n",
    "for short in peaks.terminator.unique():\n",
    "    print(short, con.get_long_name(short))"
   ]
  },
  {
   "cell_type": "code",
   "execution_count": null,
   "id": "112",
   "metadata": {},
   "outputs": [],
   "source": [
    "# obviously all are ABTs. Let's see where we have frequent occurences\n",
    "peaks.terminator.value_counts()"
   ]
  },
  {
   "cell_type": "code",
   "execution_count": null,
   "id": "113",
   "metadata": {},
   "outputs": [],
   "source": [
    "con.get_smiles(\"T17\")"
   ]
  },
  {
   "cell_type": "code",
   "execution_count": null,
   "id": "114",
   "metadata": {},
   "outputs": [],
   "source": [
    "con.get_smiles(\"T8\")"
   ]
  },
  {
   "cell_type": "markdown",
   "id": "115",
   "metadata": {},
   "source": [
    "The mass difference is only observed for ABT terminators.\n",
    "It corresponds to +C<sub>6</sub>H<sub>6</sub>O<sub>2</sub> (+110.0368).\n",
    "I don't find a good structure to explain this mass difference.\n",
    "We will leave the peaks unassigned for now."
   ]
  },
  {
   "cell_type": "markdown",
   "id": "116",
   "metadata": {},
   "source": [
    "#### Terminator delta only with methyl-ABT (+215.08)"
   ]
  },
  {
   "cell_type": "code",
   "execution_count": null,
   "id": "117",
   "metadata": {},
   "outputs": [],
   "source": [
    "peaks = df.loc[df.delta_T.round(2) == 215.08]\n",
    "peaks"
   ]
  },
  {
   "cell_type": "code",
   "execution_count": null,
   "id": "118",
   "metadata": {},
   "outputs": [],
   "source": [
    "peaks.mz_max.median()"
   ]
  },
  {
   "cell_type": "code",
   "execution_count": null,
   "id": "119",
   "metadata": {},
   "outputs": [],
   "source": [
    "# check for how many different building blocks this occurs\n",
    "print(\"I:\", len(peaks.initiator.unique()))\n",
    "print(\"M:\", len(peaks.monomer.unique()))\n",
    "print(\"T:\", len(peaks.terminator.unique()))"
   ]
  },
  {
   "cell_type": "code",
   "execution_count": null,
   "id": "120",
   "metadata": {},
   "outputs": [],
   "source": [
    "# let's check which terminators are involved\n",
    "for short in peaks.terminator.unique():\n",
    "    print(short, con.get_long_name(short))"
   ]
  },
  {
   "cell_type": "code",
   "execution_count": null,
   "id": "121",
   "metadata": {},
   "outputs": [],
   "source": [
    "# Let's see where we have frequent occurrences\n",
    "peaks.terminator.value_counts()"
   ]
  },
  {
   "cell_type": "code",
   "execution_count": null,
   "id": "122",
   "metadata": {},
   "outputs": [],
   "source": [
    "con.show_image(\"T18\")"
   ]
  },
  {
   "cell_type": "code",
   "execution_count": null,
   "id": "123",
   "metadata": {},
   "outputs": [],
   "source": [
    "con.show_image(\"T3\")"
   ]
  },
  {
   "cell_type": "code",
   "execution_count": null,
   "id": "124",
   "metadata": {},
   "outputs": [],
   "source": [
    "con.show_image(\"T7\")"
   ]
  },
  {
   "cell_type": "markdown",
   "id": "125",
   "metadata": {},
   "source": [
    "T18, T3, T7 are all isomers of each other (Me-substituted ABTs).\n",
    "Since they all have the same mass, the fact that the same delta_T comes up for all of them does not tell us anything about whether the terminator is part of the unknown species.\n",
    "We don't investigate this one further."
   ]
  },
  {
   "cell_type": "markdown",
   "id": "126",
   "metadata": {},
   "source": [
    "#### Terminator +77.04 / product E +78.05 (C6H6)\n",
    "Initially, we only considered T+77.04 here, but analysis of the spectra showed that this is actually a frequent fragment arising from the product E + C6H6 species."
   ]
  },
  {
   "cell_type": "code",
   "execution_count": null,
   "id": "127",
   "metadata": {},
   "outputs": [],
   "source": [
    "peaks = df.loc[df.delta_T.round(2) == 77.04]\n",
    "peaks"
   ]
  },
  {
   "cell_type": "code",
   "execution_count": null,
   "id": "128",
   "metadata": {},
   "outputs": [],
   "source": [
    "get_lab_journal_number_well(41780)"
   ]
  },
  {
   "cell_type": "code",
   "execution_count": null,
   "id": "129",
   "metadata": {},
   "outputs": [],
   "source": [
    "con.get_product_smiles(26661)"
   ]
  },
  {
   "cell_type": "code",
   "execution_count": null,
   "id": "130",
   "metadata": {},
   "outputs": [],
   "source": [
    "peaks.delta_T.describe()"
   ]
  },
  {
   "cell_type": "code",
   "execution_count": null,
   "id": "131",
   "metadata": {},
   "outputs": [],
   "source": [
    "# check for how many different building blocks this occurs\n",
    "print(\"I:\", len(peaks.initiator.unique()))\n",
    "print(\"M:\", len(peaks.monomer.unique()))\n",
    "print(\"T:\", len(peaks.terminator.unique()))"
   ]
  },
  {
   "cell_type": "code",
   "execution_count": null,
   "id": "132",
   "metadata": {},
   "outputs": [],
   "source": [
    "# let's check which terminators are involved\n",
    "for short in peaks.terminator.unique():\n",
    "    print(short, con.get_long_name(short))"
   ]
  },
  {
   "cell_type": "code",
   "execution_count": null,
   "id": "133",
   "metadata": {},
   "outputs": [],
   "source": [
    "# Let's see where we have frequent occurrences\n",
    "peaks.terminator.value_counts()"
   ]
  },
  {
   "cell_type": "code",
   "execution_count": null,
   "id": "134",
   "metadata": {},
   "outputs": [],
   "source": [
    "con.get_smiles(\"T1\")"
   ]
  },
  {
   "cell_type": "code",
   "execution_count": null,
   "id": "135",
   "metadata": {},
   "outputs": [],
   "source": [
    "con.show_image(\"T7\")"
   ]
  },
  {
   "cell_type": "markdown",
   "id": "136",
   "metadata": {},
   "source": [
    "Again, with only two terminators forming this, we have very little evidence to determine the structure of the unknown species.\n",
    "Looking into the spectrum reveals that the actual base peak has a different m/z (327.0984 for T1 and 355.1296 for T7, difference between the two is C2H4). In both cases, a difference +78.0468 (C6H6) is observed to terminator dimer E.\n",
    "It should be noted that we also observe delta_E +78.05 frequently for other terminators.\n",
    "Let's check those!"
   ]
  },
  {
   "cell_type": "code",
   "execution_count": null,
   "id": "137",
   "metadata": {},
   "outputs": [],
   "source": [
    "peaks = df.loc[df.delta_E.round(2) == 78.05]\n",
    "peaks"
   ]
  },
  {
   "cell_type": "code",
   "execution_count": null,
   "id": "138",
   "metadata": {},
   "outputs": [],
   "source": [
    "# check for how many different building blocks this occurs\n",
    "print(\"I:\", len(peaks.initiator.unique()))\n",
    "print(\"M:\", len(peaks.monomer.unique()))\n",
    "print(\"T:\", len(peaks.terminator.unique()))"
   ]
  },
  {
   "cell_type": "code",
   "execution_count": null,
   "id": "139",
   "metadata": {},
   "outputs": [],
   "source": [
    "# let's check which terminators are involved\n",
    "for short in peaks.terminator.unique():\n",
    "    print(short, con.get_long_name(short))"
   ]
  },
  {
   "cell_type": "code",
   "execution_count": null,
   "id": "140",
   "metadata": {},
   "outputs": [],
   "source": [
    "# Let's see where we have frequent occurrences\n",
    "peaks.terminator.value_counts()"
   ]
  },
  {
   "cell_type": "markdown",
   "id": "141",
   "metadata": {},
   "source": [
    "So this occurs mainly with T1-3, T7, T18, all small ABTs (plain, Me- and F- substituted)"
   ]
  },
  {
   "cell_type": "code",
   "execution_count": null,
   "id": "142",
   "metadata": {},
   "outputs": [],
   "source": [
    "con.get_smiles(\"T18\")"
   ]
  },
  {
   "cell_type": "markdown",
   "id": "143",
   "metadata": {},
   "source": [
    "The mass difference of +78.048 clearly corresponds to +C6H6.\n",
    "A possible explanation is pi-stacking with benzene, but it's not evident where the benzene could come from.\n",
    "In the end, we don't have any good hypothesis for this one."
   ]
  },
  {
   "cell_type": "markdown",
   "id": "144",
   "metadata": {},
   "source": [
    "#### Terminator +73.01"
   ]
  },
  {
   "cell_type": "code",
   "execution_count": null,
   "id": "145",
   "metadata": {},
   "outputs": [],
   "source": [
    "peaks = df.loc[df.delta_T.round(2) == 73.01]\n",
    "peaks"
   ]
  },
  {
   "cell_type": "code",
   "execution_count": null,
   "id": "146",
   "metadata": {},
   "outputs": [],
   "source": [
    "peaks.delta_T.describe()"
   ]
  },
  {
   "cell_type": "code",
   "execution_count": null,
   "id": "147",
   "metadata": {},
   "outputs": [],
   "source": [
    "# check for how many different building blocks this occurs\n",
    "print(\"I:\", len(peaks.initiator.unique()))\n",
    "print(\"M:\", len(peaks.monomer.unique()))\n",
    "print(\"T:\", len(peaks.terminator.unique()))"
   ]
  },
  {
   "cell_type": "code",
   "execution_count": null,
   "id": "148",
   "metadata": {},
   "outputs": [],
   "source": [
    "# let's check which terminators are involved\n",
    "for short in peaks.terminator.unique():\n",
    "    print(short, con.get_long_name(short))"
   ]
  },
  {
   "cell_type": "code",
   "execution_count": null,
   "id": "149",
   "metadata": {},
   "outputs": [],
   "source": [
    "# Let's see where we have frequent occurrences\n",
    "peaks.terminator.value_counts()"
   ]
  },
  {
   "cell_type": "code",
   "execution_count": null,
   "id": "150",
   "metadata": {},
   "outputs": [],
   "source": [
    "con.get_smiles(\"T4\")"
   ]
  },
  {
   "cell_type": "code",
   "execution_count": null,
   "id": "151",
   "metadata": {},
   "outputs": [],
   "source": [
    "con.show_image(\"T3\")"
   ]
  },
  {
   "cell_type": "markdown",
   "id": "152",
   "metadata": {},
   "source": [
    "These are all particularly electron-rich ABTs, raising electrophilic aromatic substitution as a possible mechanism.\n",
    "One way to explain the difference would be +C3H3NCl -O, but T4 does not have an oxygen atom.\n",
    "We don't find an acceptable explanation for this mass difference."
   ]
  },
  {
   "cell_type": "markdown",
   "id": "153",
   "metadata": {},
   "source": [
    "#### Product F −56.06 / Product G -28.07\n",
    "(these are the same, as the difference between F and G is constant)"
   ]
  },
  {
   "cell_type": "code",
   "execution_count": null,
   "id": "154",
   "metadata": {},
   "outputs": [],
   "source": [
    "peaks = df.loc[df.delta_F.round(2) == -56.06]\n",
    "peaks"
   ]
  },
  {
   "cell_type": "code",
   "execution_count": null,
   "id": "155",
   "metadata": {},
   "outputs": [],
   "source": [
    "# check for how many different building blocks this occurs\n",
    "print(\"I:\", len(peaks.initiator.unique()))\n",
    "print(\"M:\", len(peaks.monomer.unique()))\n",
    "print(\"T:\", len(peaks.terminator.unique()))"
   ]
  },
  {
   "cell_type": "code",
   "execution_count": null,
   "id": "156",
   "metadata": {},
   "outputs": [],
   "source": [
    "# let's check which monomers are involved\n",
    "for short in peaks.monomer.unique():\n",
    "    print(short, con.get_long_name(short))"
   ]
  },
  {
   "cell_type": "code",
   "execution_count": null,
   "id": "157",
   "metadata": {},
   "outputs": [],
   "source": [
    "# Let's see where we have frequent occurrences\n",
    "peaks.monomer.value_counts()"
   ]
  },
  {
   "cell_type": "code",
   "execution_count": null,
   "id": "158",
   "metadata": {},
   "outputs": [],
   "source": [
    "con.show_image(\"M20\")"
   ]
  },
  {
   "cell_type": "markdown",
   "id": "159",
   "metadata": {},
   "source": [
    "All of these monomers have a Boc or tert-butyl group. We already know this mass difference from the Boc -> carbamic acid fragmentation seen for monomers. For the tert-butyl esters the same fragmentation can occur."
   ]
  },
  {
   "cell_type": "code",
   "execution_count": null,
   "id": "160",
   "metadata": {},
   "outputs": [],
   "source": [
    "# find and count occurences\n",
    "peaks_f_carbamic_acid = df.loc[df[\"delta_F\"].between(*delta_tert_butyl), \"id\"].to_numpy()\n",
    "print(len(peaks_f_carbamic_acid))"
   ]
  },
  {
   "cell_type": "code",
   "execution_count": null,
   "id": "161",
   "metadata": {},
   "outputs": [],
   "source": [
    "# commit to DB\n",
    "assignment = [f\"F (-tert-butyl fragmentation in MS for Boc or tert-butyl ester)\" for _ in range(len(peaks_f_carbamic_acid))]\n",
    "with con.con:\n",
    "    con.con.executemany(\"INSERT INTO lcms_peaks_assignment (peak_id, assignment) VALUES (?, ?);\", tuple(zip(peaks_f_carbamic_acid.tolist(), assignment)))"
   ]
  },
  {
   "cell_type": "markdown",
   "id": "162",
   "metadata": {},
   "source": [
    "Curiously, we don't usually get the fragmentation peak for all other products, only F and unreacted M."
   ]
  },
  {
   "cell_type": "markdown",
   "id": "163",
   "metadata": {},
   "source": [
    "#### Product F −71.985 / Product G -43.990\n",
    "(these are the same)\n",
    "I found this one during analysing the fate of M58.\n",
    "It corresponds to loss of CO2 from G, which is a plausible decarboxylation for beta-2-monomers."
   ]
  },
  {
   "cell_type": "code",
   "execution_count": null,
   "id": "164",
   "metadata": {},
   "outputs": [],
   "source": [
    "peaks = df.loc[df.delta_G.between(-43.991, -43.989)]\n",
    "peaks"
   ]
  },
  {
   "cell_type": "code",
   "execution_count": null,
   "id": "165",
   "metadata": {},
   "outputs": [],
   "source": [
    "# check for how many different building blocks this occurs\n",
    "print(\"I:\", len(peaks.initiator.unique()))\n",
    "print(\"M:\", len(peaks.monomer.unique()))\n",
    "print(\"T:\", len(peaks.terminator.unique()))"
   ]
  },
  {
   "cell_type": "code",
   "execution_count": null,
   "id": "166",
   "metadata": {},
   "outputs": [],
   "source": [
    "# let's check which monomers are involved\n",
    "for short in peaks.monomer.unique():\n",
    "    print(short, con.get_long_name(short))"
   ]
  },
  {
   "cell_type": "code",
   "execution_count": null,
   "id": "167",
   "metadata": {},
   "outputs": [],
   "source": [
    "# Let's see where we have frequent occurrences\n",
    "peaks.monomer.value_counts()"
   ]
  },
  {
   "cell_type": "markdown",
   "id": "168",
   "metadata": {},
   "source": [
    "The ones with M11, M68, M73 are likely random m/z collisions. We only consider the ones with M57 and M58."
   ]
  },
  {
   "cell_type": "code",
   "execution_count": null,
   "id": "169",
   "metadata": {},
   "outputs": [],
   "source": [
    "# find and count occurences\n",
    "peaks_g_decarbox = peaks.loc[peaks[\"monomer\"].isin([\"M57\", \"M58\"]), \"id\"].to_numpy()\n",
    "print(len(peaks_g_decarbox))"
   ]
  },
  {
   "cell_type": "code",
   "execution_count": null,
   "id": "170",
   "metadata": {},
   "outputs": [],
   "source": [
    "# commit to DB\n",
    "assignment = [f\"G_decarboxylated\" for _ in range(len(peaks_g_decarbox))]\n",
    "with con.con:\n",
    "    con.con.executemany(\"INSERT INTO lcms_peaks_assignment (peak_id, assignment) VALUES (?, ?);\", tuple(zip(peaks_g_decarbox.tolist(), assignment)))"
   ]
  },
  {
   "cell_type": "markdown",
   "id": "171",
   "metadata": {},
   "source": [
    "## Summary"
   ]
  },
  {
   "cell_type": "code",
   "execution_count": null,
   "id": "172",
   "metadata": {},
   "outputs": [],
   "source": [
    "df.loc[df[\"experiment_id\"] == 20589]"
   ]
  },
  {
   "cell_type": "code",
   "execution_count": null,
   "id": "173",
   "metadata": {},
   "outputs": [],
   "source": [
    "# let's get a new version from DB and see what unassigned peaks we have left!\n",
    "reaction_ids = con.get_reaction_ids_for_building_block(filter_exp_nr=(4, 29))\n",
    "df = pd.concat([con.get_lcms_peaks(i, with_delta=True, with_assignment=True, with_building_blocks=True) for i in reaction_ids]).reset_index(drop=True)\n",
    "# filter a bit: only unidentified peaks, and only those with a retention time > 4 min (240 s), and only with an m/z over 200\n",
    "df_unassigned = df.loc[df[\"assignment\"].isna() & (df[\"retention_time_s\"] > 240) & (df[\"mz_max\"] > 200)]\n",
    "df_unassigned"
   ]
  },
  {
   "cell_type": "code",
   "execution_count": null,
   "id": "174",
   "metadata": {},
   "outputs": [],
   "source": [
    "con.con.execute('SELECT COUNT(*) FROM lcms_peaks WHERE \"%area\" = 100').fetchone()[0]\n"
   ]
  },
  {
   "cell_type": "code",
   "execution_count": null,
   "id": "175",
   "metadata": {},
   "outputs": [],
   "source": [
    "con.con.execute('SELECT COUNT(*) FROM lcms_peaks JOIN lcms_peaks_assignment ON lcms_peaks.id = lcms_peaks_assignment.peak_id WHERE assignment IS NOT NULL AND \"%area\" = 100;').fetchone()[0]\n"
   ]
  },
  {
   "cell_type": "code",
   "execution_count": null,
   "id": "176",
   "metadata": {},
   "outputs": [],
   "source": [
    "# number of peaks in the \"interesting\" region\n",
    "len(df.loc[(df[\"retention_time_s\"] > 240) & (df[\"mz_max\"] > 200)])"
   ]
  },
  {
   "cell_type": "code",
   "execution_count": null,
   "id": "177",
   "metadata": {},
   "outputs": [],
   "source": [
    "# number of unassigned peaks in the \"interesting\" region\n",
    "len(df_unassigned)"
   ]
  },
  {
   "cell_type": "code",
   "execution_count": null,
   "id": "178",
   "metadata": {},
   "outputs": [],
   "source": [
    "# total number of peaks >5% area\n",
    "con.con.execute('SELECT COUNT(*) FROM lcms_peaks WHERE \"%area\" > 5;').fetchone()[0]"
   ]
  },
  {
   "cell_type": "code",
   "execution_count": null,
   "id": "179",
   "metadata": {},
   "outputs": [],
   "source": [
    "# total number of assigned peaks >5% area\n",
    "con.con.execute('SELECT COUNT(*) FROM lcms_peaks JOIN lcms_peaks_assignment ON lcms_peaks.id = lcms_peaks_assignment.peak_id WHERE assignment IS NOT NULL AND \"%area\" > 5;').fetchone()[0]"
   ]
  },
  {
   "cell_type": "code",
   "execution_count": null,
   "id": "180",
   "metadata": {},
   "outputs": [],
   "source": []
  }
 ],
 "metadata": {
  "kernelspec": {
   "display_name": "Python 3 (ipykernel)",
   "language": "python",
   "name": "python3"
  },
  "language_info": {
   "codemirror_mode": {
    "name": "ipython",
    "version": 3
   },
   "file_extension": ".py",
   "mimetype": "text/x-python",
   "name": "python",
   "nbconvert_exporter": "python",
   "pygments_lexer": "ipython3",
   "version": "3.9.7"
  }
 },
 "nbformat": 4,
 "nbformat_minor": 5
}
