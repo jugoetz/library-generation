{
 "cells": [
  {
   "cell_type": "markdown",
   "metadata": {},
   "source": [
    "# Add reactionSMILES to VL\n",
    "We add atom-mapped reactionSMILES to the virtual library.\n",
    "We only do this for VL members where type == 'A'."
   ]
  },
  {
   "cell_type": "code",
   "execution_count": null,
   "metadata": {},
   "outputs": [],
   "source": [
    "import pathlib\n",
    "import sys\n",
    "\n",
    "sys.path.append(str(pathlib.Path().resolve().parents[1]))\n",
    "\n",
    "import pandas as pd\n",
    "\n",
    "from src.util.db_utils import SynFermDatabaseConnection\n",
    "from src.library_design.reaction_generator import SFReactionGenerator"
   ]
  },
  {
   "cell_type": "code",
   "execution_count": null,
   "metadata": {},
   "outputs": [],
   "source": [
    "gen = SFReactionGenerator()"
   ]
  },
  {
   "cell_type": "code",
   "execution_count": null,
   "metadata": {},
   "outputs": [],
   "source": [
    "# connect to DB\n",
    "con = SynFermDatabaseConnection()"
   ]
  },
  {
   "cell_type": "code",
   "execution_count": null,
   "metadata": {},
   "outputs": [],
   "source": [
    "# n.b. we just select everything now, later filter for things that the 0D model cannot handle.\n",
    "# Here we don't care whether the reaction has been seen before, we can merge with the reaction data later\n",
    "res = con.con.execute(\"SELECT id, long_name, SMILES FROM virtuallibrary WHERE type = 'A' AND initiator_long != '4-Pyrazole002';\").fetchall()\n",
    "df = pd.DataFrame(res, columns=[\"vl_id\", \"long_name\", \"product_A_smiles\"])\n",
    "df.head()"
   ]
  },
  {
   "cell_type": "code",
   "execution_count": null,
   "metadata": {},
   "outputs": [],
   "source": [
    "%%time\n",
    "df[0:1000][\"product_A_smiles\"].apply(lambda x: gen.get_reaction_smiles(x))"
   ]
  },
  {
   "cell_type": "code",
   "execution_count": null,
   "metadata": {},
   "outputs": [],
   "source": [
    "# expected time in min to go through the entire VL\n",
    "len(df) / 1000 * 19 / 60"
   ]
  },
  {
   "cell_type": "code",
   "execution_count": null,
   "metadata": {},
   "outputs": [],
   "source": [
    "# we wrap the generator to catch errors\n",
    "def get_reaction_smiles(x):\n",
    "    try:\n",
    "        return gen.get_reaction_smiles(x)\n",
    "    except ValueError as e:\n",
    "        print(e)\n",
    "        print(x)\n",
    "        return None\n",
    "        "
   ]
  },
  {
   "cell_type": "code",
   "execution_count": null,
   "metadata": {},
   "outputs": [],
   "source": [
    "# first we need to generate the reactionSMILES. This will take a moment \n",
    "# (to be precise I expect it to take 85 min on my MBA M1)\n",
    "gen = SFReactionGenerator()\n",
    "df[\"reaction_smiles_atom_mapped\"] = df[\"product_A_smiles\"].apply(lambda x: get_reaction_smiles(x))\n",
    "df.head()"
   ]
  },
  {
   "cell_type": "code",
   "execution_count": null,
   "metadata": {},
   "outputs": [],
   "source": [
    "# save this\n",
    "with con.con:\n",
    "    con.con.executemany(\"UPDATE virtuallibrary SET reaction_smiles_atom_mapped = ? WHERE id = ?;\", df[[\"reaction_smiles_atom_mapped\", \"vl_id\"]].values)"
   ]
  },
  {
   "cell_type": "code",
   "execution_count": null,
   "metadata": {},
   "outputs": [],
   "source": []
  }
 ],
 "metadata": {
  "kernelspec": {
   "display_name": "Python 3 (ipykernel)",
   "language": "python",
   "name": "python3"
  },
  "language_info": {
   "codemirror_mode": {
    "name": "ipython",
    "version": 3
   },
   "file_extension": ".py",
   "mimetype": "text/x-python",
   "name": "python",
   "nbconvert_exporter": "python",
   "pygments_lexer": "ipython3",
   "version": "3.9.7"
  }
 },
 "nbformat": 4,
 "nbformat_minor": 1
}
