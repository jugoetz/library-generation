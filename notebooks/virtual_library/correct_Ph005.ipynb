{
 "cells": [
  {
   "cell_type": "markdown",
   "id": "0",
   "metadata": {},
   "source": [
    "# Correct Ph005\n",
    "\n",
    "Ph005 was incorrectly specified as 4-trifluoromethylphenyl-KAT `O=C(c1ccc(C(F)(F)F)cc1)[B-](F)(F)F.[K+]` on ChemInventory. New characterization data showed that it is in fact 3,5-bis(trifluoromethyl)phenyl-KAT `O=C(c1cc(C(F)(F)F)cc(C(F)(F)F)c1)[B-](F)(F)F.[K+]`.\n",
    "\n",
    "We need to:\n",
    "- update `building_blocks` table (SMILES, mass, molecular formula)\n",
    "- enumerate reactions and update `virtuallibrary` table (products A-D, F, G)\n",
    "- update all existing entries in the `experiments` table with new product SMILES (products A-D, F, G)\n",
    "- from corrected DB, prepare MoBiAS submission files for reprocessing the data (affected data: row J of exps 4, 7, 9, 19, 23)\n",
    "- after reprocessing, repeat evaluation for affected plates"
   ]
  },
  {
   "cell_type": "code",
   "execution_count": null,
   "id": "1",
   "metadata": {},
   "outputs": [],
   "source": [
    "import sys\n",
    "import pathlib\n",
    "sys.path.append(str(pathlib.Path().absolute().parents[1]))\n",
    "\n",
    "from rdkit import Chem\n",
    "from rdkit.Chem.MolStandardize import rdMolStandardize\n",
    "from rdkit.Chem.rdMolDescriptors import CalcExactMolWt, CalcMolFormula\n",
    "\n",
    "from src.util.db_utils import SynFermDatabaseConnection\n",
    "from src.definitions import DATA_DIR"
   ]
  },
  {
   "cell_type": "code",
   "execution_count": null,
   "id": "2",
   "metadata": {},
   "outputs": [],
   "source": [
    "# Connect to database\n",
    "con = SynFermDatabaseConnection()"
   ]
  },
  {
   "cell_type": "code",
   "execution_count": null,
   "id": "3",
   "metadata": {},
   "outputs": [],
   "source": [
    "# correct structure for Ph005\n",
    "mol = Chem.MolFromSmiles(\"O=C(c1cc(C(F)(F)F)cc(C(F)(F)F)c1)[B-](F)(F)F.[K+]\")\n",
    "mol"
   ]
  },
  {
   "cell_type": "markdown",
   "id": "4",
   "metadata": {},
   "source": [
    "## Correct `building_blocks` table"
   ]
  },
  {
   "cell_type": "code",
   "execution_count": null,
   "id": "5",
   "metadata": {},
   "outputs": [],
   "source": [
    "# old data\n",
    "con.con.execute(\"SELECT * FROM building_blocks WHERE long = 'Ph005';\").fetchall()"
   ]
  },
  {
   "cell_type": "code",
   "execution_count": null,
   "id": "6",
   "metadata": {},
   "outputs": [],
   "source": [
    "# update image\n",
    "Chem.Draw.MolToFile(mol, DATA_DIR / \"db\" / \"static\" / \"image\" / \"Ph005.png\")"
   ]
  },
  {
   "cell_type": "code",
   "execution_count": null,
   "id": "7",
   "metadata": {},
   "outputs": [],
   "source": [
    "# calc new data\n",
    "smiles = Chem.MolToSmiles(mol)\n",
    "\n",
    "fragment_chooser = rdMolStandardize.LargestFragmentChooser()\n",
    "mol_anion = fragment_chooser.choose(mol)\n",
    "\n",
    "lcms_mass = CalcExactMolWt(mol_anion)\n",
    "lcms_formula = CalcMolFormula(mol_anion)\n",
    "\n",
    "print(smiles, lcms_mass, lcms_formula)"
   ]
  },
  {
   "cell_type": "code",
   "execution_count": null,
   "id": "8",
   "metadata": {},
   "outputs": [],
   "source": [
    "# update building_blocks table\n",
    "with con.con:\n",
    "    con.con.execute(\n",
    "        \"UPDATE building_blocks SET SMILES = ?, lcms_mass_1 = ?, lcms_formula_1 = ? WHERE long = 'Ph005';\",\n",
    "        ((smiles, lcms_mass, lcms_formula))\n",
    "    )"
   ]
  },
  {
   "cell_type": "markdown",
   "id": "9",
   "metadata": {},
   "source": [
    "## Correct `virtuallibrary` table"
   ]
  },
  {
   "cell_type": "markdown",
   "id": "10",
   "metadata": {},
   "source": [
    "We simply correct this externally by dropping all rows with initiator_long = 'Ph005', then running the `add_new_products_to_vl.iypnb` notebook to fill in the missing rows."
   ]
  },
  {
   "cell_type": "markdown",
   "id": "11",
   "metadata": {},
   "source": [
    "## Update `experiments` table"
   ]
  },
  {
   "cell_type": "markdown",
   "id": "12",
   "metadata": {},
   "source": [
    "We did this externally with these SQLite queries:\n",
    "\n",
    "Mark test experiments / legacy experiments that do not need immediate reprocessing as invalid:\n",
    "```sqlite\n",
    "UPDATE experiments SET comment = 'Ph005 needs reprocessing' WHERE initiator_long = 'Ph005' AND exp_nr NOT BETWEEN 4 AND 29;\n",
    "```\n",
    "\n",
    "Delete current data:\n",
    "```sqlite\n",
    "UPDATE experiments SET product_A_lcms_ratio = NULL,\n",
    "                       product_B_lcms_ratio = NULL,\n",
    "                       product_C_lcms_ratio = NULL,\n",
    "                       product_D_lcms_ratio = NULL,\n",
    "                       product_E_lcms_ratio = NULL,\n",
    "                       product_F_lcms_ratio = NULL,\n",
    "                       product_G_lcms_ratio = NULL,\n",
    "                       product_H_lcms_ratio = NULL,\n",
    "                       valid = NULL\n",
    "                   WHERE initiator_long = 'Ph005' AND exp_nr BETWEEN 4 AND 29;\n",
    "```\n",
    "\n",
    "Replace product SMILES with corrected values from virtual library table (run for each product A-D, F, G, substituting the right letter):\n",
    "```sqlite\n",
    "UPDATE experiments\n",
    "SET product_G_smiles = helper.smi\n",
    "FROM (SELECT experiments.id AS eid, v.SMILES AS smi\n",
    "      FROM experiments JOIN virtuallibrary v on experiments.long_name = v.long_name\n",
    "      WHERE v.type = 'G') AS helper\n",
    "WHERE experiments.id = helper.eid AND experiments.initiator_long = 'Ph005' AND experiments.exp_nr BETWEEN 4 AND 29;\n",
    "```\n"
   ]
  },
  {
   "cell_type": "markdown",
   "id": "13",
   "metadata": {},
   "source": [
    "## Update submission files for MoBiAS\n",
    "\n",
    "Rerun \n",
    "```bash\n",
    "python -m src.experiment_planning.generatelcmssubmission JG246 JG247 JG248 JG249 JG250 JG251 JG264 JG265 JG266 JG267 JG268 JG269 JG277 JG278 JG279 JG280 JG281 JG282 JG339 JG340 JG341 JG342 JG343 JG344 JG363 JG364 JG365 JG366 JG367 JG368\n",
    "```\n",
    "Then prune using `head` / `tail` in bash to leave only row J, copy to MoBiAS submission files and submit for reprocessing."
   ]
  }
 ],
 "metadata": {
  "kernelspec": {
   "display_name": "Python 3 (ipykernel)",
   "language": "python",
   "name": "python3"
  },
  "language_info": {
   "codemirror_mode": {
    "name": "ipython",
    "version": 3
   },
   "file_extension": ".py",
   "mimetype": "text/x-python",
   "name": "python",
   "nbconvert_exporter": "python",
   "pygments_lexer": "ipython3",
   "version": "3.9.7"
  }
 },
 "nbformat": 4,
 "nbformat_minor": 5
}
