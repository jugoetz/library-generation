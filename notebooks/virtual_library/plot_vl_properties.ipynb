{
 "cells": [
  {
   "cell_type": "code",
   "execution_count": null,
   "id": "0",
   "metadata": {},
   "outputs": [],
   "source": [
    "import pathlib\n",
    "import sys\n",
    "\n",
    "import numpy as np\n",
    "import matplotlib.pyplot as plt\n",
    "import pandas as pd\n",
    "from rdkit import Chem\n",
    "from rdkit.Chem import PandasTools\n",
    "from rdkit.Chem import Lipinski\n",
    "\n",
    "%matplotlib inline\n"
   ]
  },
  {
   "cell_type": "code",
   "execution_count": null,
   "id": "1",
   "metadata": {},
   "outputs": [],
   "source": [
    "plt.rcParams.update({\n",
    "    \"savefig.transparent\": True,   # Transparent background for saving figures\n",
    "    \"axes.grid\": False,            # No grid on axes\n",
    "    \"axes.spines.bottom\": True,    # Show bottom spine\n",
    "    \"axes.spines.left\": False,     # Hide left spine\n",
    "    \"axes.spines.right\": False,    # Hide right spine\n",
    "    \"axes.spines.top\": False,      # Hide top spine\n",
    "\n",
    "    # Font settings\n",
    "    \"font.size\": 6,                # Font size for the entire figure\n",
    "    \"font.family\": 'sans-serif',\n",
    "    \"font.sans-serif\": [\"Helvetica\", \"Arial\"],\n",
    "    \"text.color\": 'black',         # Set default text color to black\n",
    "\n",
    "    # Tick settings\n",
    "    \"xtick.major.pad\": 1,        # Padding for major x-ticks\n",
    "    \"xtick.minor.pad\": 1,        # Padding for minor x-ticks\n",
    "    \"ytick.major.pad\": 1,        # Padding for major y-ticks\n",
    "    \"ytick.minor.pad\": 1,        # Padding for minor y-ticks\n",
    "\n",
    "    # Axis label settings\n",
    "    \"axes.labelweight\": \"bold\",    # Bold axis labels\n",
    "    \"axes.labelpad\": 2.5,          # Padding between axis and label\n",
    "    \"axes.xmargin\": 0.05,          # Margin on the x-axis\n",
    "\n",
    "    # Additional settings\n",
    "    'axes.labelsize': 6,           # Size for axis labels\n",
    "    'axes.titlesize': 6,           # Size for plot titles\n",
    "    'xtick.labelsize': 6,          # Size for x-axis tick labels\n",
    "    'ytick.labelsize': 6,          # Size for y-axis tick labels\n",
    "    'legend.fontsize': 6,          # Font size for the legend\n",
    "    'svg.fonttype': 'none',        # Necessary to have editable text in SVGs\n",
    "    'axes.labelcolor': 'black',    # Color of axis labels\n",
    "    'xtick.color': 'black',        # Color of x-axis tick labels\n",
    "    'ytick.color': 'black',        # Color of y-axis tick labels\n",
    "})"
   ]
  },
  {
   "cell_type": "code",
   "execution_count": null,
   "id": "2",
   "metadata": {},
   "outputs": [],
   "source": [
    "df_list = [PandasTools.LoadSDF(f\"../data/PRIME_VL_2024-04-18_annotated/data_chunk{i+1:02d}.sdf\") for i in range(23)]\n",
    "df_all = pd.concat(df_list)\n",
    "df_all.head()"
   ]
  },
  {
   "cell_type": "code",
   "execution_count": null,
   "id": "3",
   "metadata": {},
   "outputs": [],
   "source": [
    "# add fraction of sp3 carbons (not calculated by qikprop)\n",
    "df_all[\"fsp3\"] = df_all[\"ROMol\"].apply(Lipinski.FractionCSP3)"
   ]
  },
  {
   "cell_type": "code",
   "execution_count": null,
   "id": "4",
   "metadata": {},
   "outputs": [],
   "source": [
    "# reduce df to columns we are interested in\n",
    "df = df_all[[\n",
    "    \"ID\",  # vl member ID\n",
    "    \"r_qp_mol_MW\",  # mol weight\n",
    "    \"r_qp_QPlogPo/w\",  # logP\n",
    "    \"r_qp_donorHB\",  # HB donors\n",
    "    \"r_qp_accptHB\",  # HB acceptors\n",
    "    \"i_qp_#rotor\",  # rotatable bonds\n",
    "    \"i_qp_RuleOfFive\",  # Ro5 violations\n",
    "    \"fsp3\",  # fraction of sp3 carbons\n",
    "    \"r_user_PMI_ratio_I1/I3\",  # n.b PMIs are calculated with Schrödinger's calculate_pmi.py script\n",
    "    \"r_user_PMI_ratio_I2/I3\",\n",
    "    \"r_epik_Population\",  # Epik can generate multiple ionizations states per molecule. This gives the relative population.\n",
    "]].astype({\"ID\": object,\n",
    "\"r_qp_mol_MW\": float,\n",
    "\"r_qp_QPlogPo/w\": float,\n",
    "\"r_qp_donorHB\": float,\n",
    "\"r_qp_accptHB\": float,\n",
    "\"i_qp_#rotor\": float,\n",
    "\"i_qp_RuleOfFive\": float,\n",
    "\"fsp3\": float,\n",
    "\"r_user_PMI_ratio_I1/I3\": float,\n",
    "\"r_user_PMI_ratio_I2/I3\": float,\n",
    "\"r_epik_Population\": float,})"
   ]
  },
  {
   "cell_type": "code",
   "execution_count": null,
   "id": "5",
   "metadata": {},
   "outputs": [],
   "source": [
    "# reset df index (for unique access with df.loc in weighted mean function)\n",
    "df = df.reset_index(drop=True)"
   ]
  },
  {
   "cell_type": "code",
   "execution_count": null,
   "id": "6",
   "metadata": {},
   "outputs": [],
   "source": [
    "# define lambda function for population-weighted averaging\n",
    "weighted_mean = lambda x: np.average(x, weights=df.loc[x.index, \"r_epik_Population\"])\n",
    "# define lambda function for picking the value of the ionizations state with highest population\n",
    "pick_max = lambda x: x.loc[df[\"r_epik_Population\"].idxmax()]"
   ]
  },
  {
   "cell_type": "code",
   "execution_count": null,
   "id": "7",
   "metadata": {},
   "outputs": [],
   "source": [
    "df.loc[df.loc[[5,4,299], \"fsp3\"].index, \"r_epik_Population\"]"
   ]
  },
  {
   "cell_type": "code",
   "execution_count": null,
   "id": "8",
   "metadata": {},
   "outputs": [],
   "source": [
    "# population-averaged mean of all properties\n",
    "# 1. multiply with respective population\n",
    "df[[\"r_qp_mol_MW\",\n",
    "    \"r_qp_QPlogPo/w\",\n",
    "    \"r_qp_donorHB\",\n",
    "    \"r_qp_accptHB\",\n",
    "    \"i_qp_#rotor\",\n",
    "    \"i_qp_RuleOfFive\",\n",
    "    \"fsp3\",\n",
    "    \"r_user_PMI_ratio_I1/I3\",\n",
    "    \"r_user_PMI_ratio_I2/I3\"]] = df[\n",
    "    [\"r_qp_mol_MW\",\n",
    "    \"r_qp_QPlogPo/w\",\n",
    "    \"r_qp_donorHB\",\n",
    "    \"r_qp_accptHB\",\n",
    "    \"i_qp_#rotor\",\n",
    "    \"i_qp_RuleOfFive\",\n",
    "    \"fsp3\",\n",
    "    \"r_user_PMI_ratio_I1/I3\",\n",
    "    \"r_user_PMI_ratio_I2/I3\"]\n",
    "].mul(df[\"r_epik_Population\"], axis=0)\n",
    "\n",
    "\n",
    "# 2. group by molecule ID and sum over all entries\n",
    "df = df.groupby(\"ID\").sum()\n",
    "\n",
    "# 3. divide by population sum\n",
    "df[\n",
    "    [\"r_qp_mol_MW\",\n",
    "    \"r_qp_QPlogPo/w\",\n",
    "    \"r_qp_donorHB\",\n",
    "    \"r_qp_accptHB\",\n",
    "    \"i_qp_#rotor\",\n",
    "    \"i_qp_RuleOfFive\",\n",
    "    \"fsp3\",\n",
    "    \"r_user_PMI_ratio_I1/I3\",\n",
    "    \"r_user_PMI_ratio_I2/I3\"]\n",
    "] = df[\n",
    "    [\"r_qp_mol_MW\",\n",
    "    \"r_qp_QPlogPo/w\",\n",
    "    \"r_qp_donorHB\",\n",
    "    \"r_qp_accptHB\",\n",
    "    \"i_qp_#rotor\",\n",
    "    \"i_qp_RuleOfFive\",\n",
    "    \"fsp3\",\n",
    "    \"r_user_PMI_ratio_I1/I3\",\n",
    "    \"r_user_PMI_ratio_I2/I3\"]\n",
    "].div(df[\"r_epik_Population\"], axis=0)\n",
    "\n",
    "# 4. reset index (ID)\n",
    "df = df.reset_index()"
   ]
  },
  {
   "cell_type": "code",
   "execution_count": null,
   "id": "9",
   "metadata": {},
   "outputs": [],
   "source": [
    "palette = [\"#5790fc\", \"#f89c20\", \"#e42536\", \"#a1212c\"]  # works for colorblind"
   ]
  },
  {
   "cell_type": "code",
   "execution_count": null,
   "id": "10",
   "metadata": {},
   "outputs": [],
   "source": [
    "plt.figure(figsize=(3.25, 3))\n",
    "plt.hist(df[\"r_qp_mol_MW\"], bins=20, rwidth=0.9, color=palette[0])\n",
    "plt.axvline(500, color=\"black\", ls=\"--\")\n",
    "plt.xlabel('Molecular weight')\n",
    "plt.ylabel('Count')\n",
    "plt.tight_layout()\n",
    "plt.savefig(\"../results/2024-04-18/properties/mw.svg\")\n",
    "plt.show()"
   ]
  },
  {
   "cell_type": "code",
   "execution_count": null,
   "id": "11",
   "metadata": {},
   "outputs": [],
   "source": [
    "plt.figure(figsize=(3.25, 3))\n",
    "plt.hist(df[\"r_qp_QPlogPo/w\"], bins=20, rwidth=0.9, color=palette[0])\n",
    "plt.axvline(5, color=\"black\", ls=\"--\")\n",
    "plt.xlabel('Log P')\n",
    "plt.ylabel('Count')\n",
    "plt.tight_layout()\n",
    "plt.savefig(\"../results/2024-04-18/properties/logp.svg\")\n",
    "plt.show()"
   ]
  },
  {
   "cell_type": "code",
   "execution_count": null,
   "id": "12",
   "metadata": {},
   "outputs": [],
   "source": [
    "plt.figure(figsize=(3.25, 3))\n",
    "plt.hist(df[\"r_qp_donorHB\"], bins=[-0.5, 0.5, 1.5, 2.5, 3.5, 4.5], rwidth=0.9, color=palette[0])\n",
    "plt.axvline(5.5, color=\"black\", ls=\"--\")\n",
    "plt.xlabel('H bond donors')\n",
    "plt.ylabel('Count')\n",
    "plt.tight_layout()\n",
    "plt.savefig(\"../results/2024-04-18/properties/HBdonor.svg\")\n",
    "plt.show()"
   ]
  },
  {
   "cell_type": "code",
   "execution_count": null,
   "id": "13",
   "metadata": {},
   "outputs": [],
   "source": [
    "plt.figure(figsize=(3.25, 3))\n",
    "plt.hist(df[\"r_qp_accptHB\"], bins=[-0.5 + i for i in range(19)], rwidth=0.9, color=palette[0])\n",
    "plt.axvline(10.5, color=\"black\", ls=\"--\")\n",
    "plt.xlabel('H bond acceptors')\n",
    "plt.ylabel('Count')\n",
    "plt.xticks(list(range(0, 19, 2)))\n",
    "plt.tight_layout()\n",
    "plt.savefig(\"../results/2024-04-18/properties/HBacceptor.svg\")\n",
    "plt.show()"
   ]
  },
  {
   "cell_type": "code",
   "execution_count": null,
   "id": "14",
   "metadata": {},
   "outputs": [],
   "source": [
    "plt.figure(figsize=(3.25, 3))\n",
    "plt.hist(df[\"i_qp_#rotor\"], bins=[-0.5 + i for i in range(21)], rwidth=0.9, color=palette[0])\n",
    "plt.axvline(10.5, color=\"black\", ls=\"--\")\n",
    "plt.xlabel('Rotatable bonds')\n",
    "plt.ylabel('Count')\n",
    "plt.xticks(list(range(0, 21, 2)))\n",
    "plt.tight_layout()\n",
    "plt.savefig(\"../results/2024-04-18/properties/rotbonds.svg\")\n",
    "plt.show()"
   ]
  },
  {
   "cell_type": "code",
   "execution_count": null,
   "id": "15",
   "metadata": {},
   "outputs": [],
   "source": [
    "plt.figure(figsize=(3.25, 3))\n",
    "plt.hist(df[\"fsp3\"], bins=[i / 20 for i in range(21)], rwidth=0.9, color=palette[0])\n",
    "plt.axvline(0.5, color=\"black\", ls=\"--\")\n",
    "plt.xlabel('Fraction of sp3 carbons')\n",
    "plt.ylabel('Count')\n",
    "plt.xlim(0,1)\n",
    "plt.tight_layout()\n",
    "plt.savefig(\"../results/2024-04-18/properties/fsp3.svg\")\n",
    "plt.show()"
   ]
  },
  {
   "cell_type": "code",
   "execution_count": null,
   "id": "16",
   "metadata": {},
   "outputs": [],
   "source": [
    "plt.figure(figsize=(3.25, 3))\n",
    "plt.hist(df[\"i_qp_#rotor\"].astype(float).to_numpy(), bins=[-0.5 + i for i in range(21)], rwidth=0.9, color=palette[0])\n",
    "plt.axvline(10.5, color=\"black\", ls=\"--\")\n",
    "plt.xlabel('Rotatable bonds')\n",
    "plt.ylabel('Count')\n",
    "plt.xticks(list(range(0, 21, 2)))\n",
    "plt.tight_layout()\n",
    "plt.savefig(\"../results/2024-04-18/properties/rotbonds.svg\")\n",
    "plt.show()"
   ]
  },
  {
   "cell_type": "code",
   "execution_count": null,
   "id": "17",
   "metadata": {},
   "outputs": [],
   "source": [
    "# how many are RO5 compliant?\n",
    "(df[\"i_qp_RuleOfFive\"].astype(float) < 2).value_counts()"
   ]
  },
  {
   "cell_type": "code",
   "execution_count": null,
   "id": "18",
   "metadata": {},
   "outputs": [],
   "source": [
    "# how many are RO5 compliant?\n",
    "(df[\"i_qp_RuleOfFive\"].astype(float) < 2).value_counts() / len(df)"
   ]
  },
  {
   "cell_type": "code",
   "execution_count": null,
   "id": "19",
   "metadata": {},
   "outputs": [],
   "source": [
    "plt.figure(figsize=(3.25, 3))\n",
    "plt.hist(df[\"i_qp_RuleOfFive\"].astype(float).to_numpy(), bins=[-0.5 + i for i in range(0,5,2)], rwidth=0.9, color=palette[0])\n",
    "plt.axvline(1.5, color=\"black\", ls=\"--\")\n",
    "plt.xlabel('Rule-of-5 violations')\n",
    "plt.ylabel('Count')\n",
    "plt.xticks([0.5, 2.5], [\"0 or 1\", \">1\"])\n",
    "plt.xlim(-0.5, 3.5)\n",
    "plt.tight_layout()\n",
    "plt.savefig(\"../results/2024-04-18/properties/ro5_violations.svg\")\n",
    "plt.show()"
   ]
  },
  {
   "cell_type": "code",
   "execution_count": null,
   "id": "20",
   "metadata": {},
   "outputs": [],
   "source": [
    "# prepare pmi plot\n",
    "\n",
    "# Calculate the point density\n",
    "x = df[\"r_user_PMI_ratio_I1/I3\"]\n",
    "y = df[\"r_user_PMI_ratio_I2/I3\"]\n",
    "hist, xedges, yedges = np.histogram2d(x, y, bins=100, range=[[0, 1], [0, 1]])\n",
    "# Find the bin indices for each point\n",
    "x_bin_idx = np.digitize(x, xedges) - 1\n",
    "y_bin_idx = np.digitize(y, yedges) - 1\n",
    "\n",
    "# Assign density (from the histogram) to each point\n",
    "density = hist[x_bin_idx, y_bin_idx]\n",
    "# Sort points by density (lowest density first, highest last)\n",
    "sorted_indices = np.argsort(density)\n",
    "x_sorted = x[sorted_indices]\n",
    "y_sorted = y[sorted_indices]\n",
    "density_sorted = density[sorted_indices]\n"
   ]
  },
  {
   "cell_type": "code",
   "execution_count": null,
   "id": "21",
   "metadata": {},
   "outputs": [],
   "source": [
    "plt.figure(figsize=(5, 4))\n",
    "# Plot the triangle boundary for sphere-like, rod-like, and disc-like shapes\n",
    "triangle_coords = np.array([[0, 1], [0.5, 0.5], [1, 1], [0, 1]])\n",
    "plt.plot(triangle_coords[:, 0], triangle_coords[:, 1], color=\"black\")\n",
    "\n",
    "# Plot the normalized moments of inertia\n",
    "plt.scatter(x_sorted, y_sorted, c=density_sorted, cmap=\"viridis\", s=.5)\n",
    "plt.colorbar(label='Density')\n",
    "\n",
    "\n",
    "# Set plot limits and aspect ratio\n",
    "plt.xlim(0, 1)\n",
    "plt.ylim(0.5, 1)\n",
    "plt.gca().spines[\"bottom\"].set_visible(False)\n",
    "plt.ylabel(\"NPR2\")\n",
    "plt.xlabel(\"NPR1\")\n",
    "\n",
    "# Add title and legend\n",
    "plt.tight_layout()\n",
    "\n",
    "plt.savefig(\"../results/2024-04-18/properties/pmi.svg\")\n",
    "plt.savefig(\"../results/2024-04-18/properties/pmi.png\", dpi=300)\n",
    "plt.show()"
   ]
  },
  {
   "cell_type": "code",
   "execution_count": null,
   "id": "22",
   "metadata": {},
   "outputs": [],
   "source": []
  }
 ],
 "metadata": {
  "kernelspec": {
   "display_name": "Python 3 (ipykernel)",
   "language": "python",
   "name": "python3"
  },
  "language_info": {
   "codemirror_mode": {
    "name": "ipython",
    "version": 3
   },
   "file_extension": ".py",
   "mimetype": "text/x-python",
   "name": "python",
   "nbconvert_exporter": "python",
   "pygments_lexer": "ipython3",
   "version": "3.9.7"
  }
 },
 "nbformat": 4,
 "nbformat_minor": 5
}
