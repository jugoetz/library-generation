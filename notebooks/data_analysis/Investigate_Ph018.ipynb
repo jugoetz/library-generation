{
 "cells": [
  {
   "cell_type": "markdown",
   "id": "0",
   "metadata": {},
   "source": [
    "# Investigate Ph018\n",
    "\n",
    "We suspect a problem with Ph018 that we want to look into. One hypothesis is that instead of the previously assumed `CN(C)Cc1ccc(C(=O)[B-](F)(F)F)cc1.[K+]`, Ph018 is actually the quarternary ammonium compound `C[N+](C)(Cc1ccc(C(=O)[B-](F)(F)F)cc1)Cc1ccc(C(=O)[B-](F)(F)F)cc1.[K+]`.\n",
    "\n",
    "Here, we want to check if the 50k data contains any products that may arise from this compound."
   ]
  },
  {
   "cell_type": "code",
   "execution_count": null,
   "id": "1",
   "metadata": {},
   "outputs": [],
   "source": [
    "import sys \n",
    "import pathlib\n",
    "sys.path.append(str(pathlib.Path().absolute().parents[1]))\n",
    "\n",
    "from rdkit import Chem\n",
    "import pandas as pd\n",
    "\n",
    "from src.util.db_utils import SynFermDatabaseConnection"
   ]
  },
  {
   "cell_type": "code",
   "execution_count": null,
   "id": "2",
   "metadata": {},
   "outputs": [],
   "source": [
    "con = SynFermDatabaseConnection()"
   ]
  },
  {
   "cell_type": "code",
   "execution_count": null,
   "id": "3",
   "metadata": {},
   "outputs": [],
   "source": [
    "# previous assumption for Ph018\n",
    "mol_prior = con.get_mol(long=\"Ph018\")\n",
    "mol_prior"
   ]
  },
  {
   "cell_type": "code",
   "execution_count": null,
   "id": "4",
   "metadata": {},
   "outputs": [],
   "source": [
    "# alternative hypothesis for Ph018\n",
    "mol_alt = Chem.MolFromSmiles(\"C[N+](C)(Cc1ccc(C(=O)[B-](F)(F)F)cc1)Cc1ccc(C(=O)[B-](F)(F)F)cc1.[K+]\")\n",
    "mol_alt"
   ]
  },
  {
   "cell_type": "code",
   "execution_count": null,
   "id": "5",
   "metadata": {},
   "outputs": [],
   "source": [
    "# get reactants and peaks for all Ph018 reactions\n",
    "res = con.con.execute(\"\"\"\n",
    "SELECT\n",
    "    lp.experiment_id,\n",
    "    e.initiator, e.monomer, e.terminator, e.lab_journal_number, e.well,\n",
    "    d.peak_id,\n",
    "    lp.mz_max, lp.retention_time_s,\n",
    "    delta_I, delta_M, delta_T, delta_Iacid, delta_bAA, delta_A, delta_B, delta_C, delta_D, delta_E, delta_F, delta_G, delta_H,\n",
    "    a.assignment\n",
    "FROM lcms_peaks_differences as d\n",
    "    LEFT OUTER JOIN lcms_peaks_assignment as a on d.peak_id = a.peak_id\n",
    "    LEFT JOIN experiments as e on d.experiment_id = e.id\n",
    "    LEFT JOIN lcms_peaks as lp on d.peak_id = lp.id\n",
    "WHERE d.experiment_id IN (SELECT id FROM experiments WHERE exp_nr BETWEEN 4 and 29)\n",
    "ORDER BY delta_A ASC;\n",
    "\"\"\").fetchall()\n",
    "\n",
    "df_all = pd.DataFrame(res, columns=[\"experiment_id\", \"initiator\", \"monomer\", \"terminator\", \"lab_journal_number\", \"well\", \"peak_id\", \"mz_max\", \"retention_time_s\", \"delta_I\", \"delta_M\", \"delta_T\", \"delta_Iacid\", \"delta_bAA\", \"delta_A\", \"delta_B\", \"delta_C\", \"delta_D\", \"delta_E\", \"delta_F\", \"delta_G\", \"delta_H\", \"assignment\"])\n",
    "df_all.head()"
   ]
  },
  {
   "cell_type": "code",
   "execution_count": null,
   "id": "6",
   "metadata": {},
   "outputs": [],
   "source": [
    "# select Ph018 (short I63)\n",
    "df = df_all.loc[df_all[\"initiator\"] == \"I63\"]"
   ]
  },
  {
   "cell_type": "code",
   "execution_count": null,
   "id": "7",
   "metadata": {},
   "outputs": [],
   "source": [
    "# check the frequent assignments\n",
    "df[\"assignment\"].value_counts()"
   ]
  },
  {
   "cell_type": "code",
   "execution_count": null,
   "id": "8",
   "metadata": {},
   "outputs": [],
   "source": [
    "# exclude the already assigned peaks\n",
    "df = df.loc[df[\"assignment\"].isna()].copy()"
   ]
  },
  {
   "cell_type": "code",
   "execution_count": null,
   "id": "9",
   "metadata": {},
   "outputs": [],
   "source": [
    "# we make columns with lower precision to be able to aggregate differences\n",
    "df_rounded = df.round(3)"
   ]
  },
  {
   "cell_type": "code",
   "execution_count": null,
   "id": "10",
   "metadata": {},
   "outputs": [],
   "source": [
    "# let's look for frequent differences\n",
    "for col in df_rounded.columns:\n",
    "    if col.startswith(\"delta_\"):\n",
    "        print(col)\n",
    "        print(df_rounded[col].value_counts().head(3))"
   ]
  },
  {
   "cell_type": "markdown",
   "id": "11",
   "metadata": {},
   "source": [
    "the most frequent differences we observe are I_acid + 295.056 and I_acid + 275.087"
   ]
  },
  {
   "cell_type": "code",
   "execution_count": null,
   "id": "12",
   "metadata": {},
   "outputs": [],
   "source": [
    "# check I_acid + 295.056\n",
    "\n",
    "df.loc[df_rounded[\"delta_Iacid\"] == 295.056]"
   ]
  },
  {
   "cell_type": "code",
   "execution_count": null,
   "id": "13",
   "metadata": {},
   "outputs": [],
   "source": [
    "df_rounded[\"mz_max\"].value_counts().head(10)"
   ]
  },
  {
   "cell_type": "code",
   "execution_count": null,
   "id": "14",
   "metadata": {},
   "outputs": [],
   "source": [
    "df_all.loc[df_all[\"mz_max\"].between(475.1575, 475.1585)][\"initiator\"].value_counts()"
   ]
  },
  {
   "cell_type": "code",
   "execution_count": null,
   "id": "15",
   "metadata": {},
   "outputs": [],
   "source": [
    "(2 * df_rounded[\"delta_I\"] + df_rounded[\"delta_M\"]).value_counts()"
   ]
  }
 ],
 "metadata": {
  "kernelspec": {
   "display_name": "Python 3 (ipykernel)",
   "language": "python",
   "name": "python3"
  },
  "language_info": {
   "codemirror_mode": {
    "name": "ipython",
    "version": 3
   },
   "file_extension": ".py",
   "mimetype": "text/x-python",
   "name": "python",
   "nbconvert_exporter": "python",
   "pygments_lexer": "ipython3",
   "version": "3.9.7"
  }
 },
 "nbformat": 4,
 "nbformat_minor": 5
}
