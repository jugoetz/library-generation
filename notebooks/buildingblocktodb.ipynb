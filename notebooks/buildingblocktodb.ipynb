{
 "cells": [
  {
   "cell_type": "code",
   "execution_count": 30,
   "metadata": {
    "collapsed": true
   },
   "outputs": [],
   "source": [
    "import pickle\n",
    "import pickle as pkl\n",
    "import json\n",
    "import sqlite3 as sql\n",
    "from pathlib import Path\n",
    "import pandas as pd\n",
    "from rdkit.Chem import Draw\n",
    "from rdkit.Chem.rdMolDescriptors import CalcMolFormula, CalcExactMolWt\n",
    "from rdkit import Chem\n",
    "from PIL import Image\n",
    "import re\n",
    "import copy\n",
    "from util_functions import *"
   ]
  },
  {
   "cell_type": "code",
   "execution_count": 6,
   "outputs": [],
   "source": [
    "DATA_DIR = Path('..', 'data').resolve()\n",
    "OUTPUT_DIR = DATA_DIR / 'outputs'\n",
    "INFO_PATH = OUTPUT_DIR / 'library_constituents_dataframe.pkl'\n",
    "MAPPING_PATH = OUTPUT_DIR / 'compound_mapping.txt'\n",
    "EXP_PLAN_PATH = OUTPUT_DIR / 'synthesis_plan.json'\n",
    "DB_PATH = DATA_DIR / 'db' / '50k_project.db'\n",
    "STATIC_DIR = DATA_DIR / 'db' / 'static'"
   ],
   "metadata": {
    "collapsed": false,
    "pycharm": {
     "name": "#%%\n"
    }
   }
  },
  {
   "cell_type": "code",
   "execution_count": 41,
   "outputs": [],
   "source": [
    "with open(INFO_PATH, 'rb') as file:\n",
    "    df = pd.read_pickle(file)\n",
    "\n",
    "with open(MAPPING_PATH, 'r') as file:\n",
    "    compound_mapping = {}\n",
    "    for line in file.readlines():\n",
    "        compound_mapping[line.split()[0]] = line.split()[1]\n",
    "\n",
    "with open(EXP_PLAN_PATH, 'r')as file:\n",
    "    synthesis_plan = json.load(file)\n",
    "\n",
    "con = sql.connect(DB_PATH)\n",
    "cur = con.cursor()"
   ],
   "metadata": {
    "collapsed": false,
    "pycharm": {
     "name": "#%%\n"
    }
   }
  },
  {
   "cell_type": "code",
   "execution_count": 8,
   "outputs": [],
   "source": [
    "# lets try with I1\n",
    "short = 'I1'"
   ],
   "metadata": {
    "collapsed": false,
    "pycharm": {
     "name": "#%%\n"
    }
   }
  },
  {
   "cell_type": "code",
   "execution_count": 10,
   "outputs": [],
   "source": [
    "\"\"\"Add entries to DB\"\"\"\n",
    "for short in compound_mapping.keys():\n",
    "    long = compound_mapping[short]\n",
    "    mol = df.loc[df['Compound Name'] == long, 'mol'].item()\n",
    "    smiles = Chem.MolToSmiles(mol)  # we regenerate SMILES instead of using the value from df to have a canonical representation\n",
    "    image = Draw.MolToImage(mol)  # TODO change this into the better drawing method\n",
    "    category = df.loc[df['Compound Name'] == long,'Category'].item()\n",
    "    # save image to static dir and keep imagepath to add to db\n",
    "    image_path = STATIC_DIR / 'image' / f'{short}.png'\n",
    "    image.save(image_path)\n",
    "    # write this to the db\n",
    "    cur.execute('INSERT INTO main.buildingblocks(long, short, SMILES, image, category, boc, cbz, tbu, tms) VALUES(?,?,?,?,?,?,?,?,?);', (long, short, smiles, str(image_path.resolve()), category, boc, cbz, tbu, tms))"
   ],
   "metadata": {
    "collapsed": false,
    "pycharm": {
     "name": "#%%\n"
    }
   }
  },
  {
   "cell_type": "code",
   "execution_count": 11,
   "outputs": [],
   "source": [
    "con.commit()"
   ],
   "metadata": {
    "collapsed": false,
    "pycharm": {
     "name": "#%%\n"
    }
   }
  },
  {
   "cell_type": "code",
   "execution_count": 35,
   "outputs": [],
   "source": [
    "\"\"\"A dictionary to look up protecting group properties\"\"\"\n",
    "pg_dict = {\n",
    "    'boc': ('C5H8O2', 100.0524),\n",
    "    'cbz': ('C8H6O2', 134.0368),\n",
    "    'tbu': ('C4H8', 56.0626),\n",
    "    'tms': ('C3H8Si', 72.0395),\n",
    "}"
   ],
   "metadata": {
    "collapsed": false,
    "pycharm": {
     "name": "#%%\n"
    }
   }
  },
  {
   "cell_type": "code",
   "execution_count": 48,
   "outputs": [],
   "source": [
    "\"\"\"For existing entries, use SMILES and number of protecting groups to calculate probable formulae in LCMS\"\"\"\n",
    "for id, smiles, boc, cbz, tbu, tms in cur.execute('SELECT id, SMILES, boc, cbz, tbu, tms FROM buildingblocks;').fetchall():\n",
    "    mol = Chem.MolFromSmiles(smiles)\n",
    "    # TODO we are missing the desalting step here. We could get desalted SMILES from sdf files\n",
    "    lcms_formula_1 = CalcMolFormula(mol)\n",
    "    lcms_mass_1 = CalcExactMolWt(mol)\n",
    "    cur.execute('UPDATE buildingblocks SET lcms_formula_1 = ?, lcms_mass_1 = ? WHERE id = ?', (lcms_formula_1, lcms_mass_1, id))\n",
    "    con.commit()\n",
    "    additional_formulae = []\n",
    "    additional_masses = []\n",
    "    for pg, pgname in zip([boc, cbz, tbu, tms], ['boc', 'cbz', 'tbu', 'tms']):\n",
    "        for i in range(pg):\n",
    "            # if boc == 0, this will not evaluate\n",
    "            additional_formulae.append(string_formula_substraction(lcms_formula_1, pg_dict[pgname][0]))\n",
    "            additional_masses.append(lcms_mass_1 - pg_dict[pgname][1])\n",
    "    additional_masses = [f'{i:.4f}' for i in additional_masses]\n",
    "    if len(additional_formulae) > 0:\n",
    "        cur.execute('UPDATE buildingblocks SET lcms_formula_alt = ?, lcms_mass_alt = ? WHERE id = ?', (','.join(additional_formulae), ','.join(additional_masses), id))\n",
    "        con.commit()"
   ],
   "metadata": {
    "collapsed": false,
    "pycharm": {
     "name": "#%%\n"
    }
   }
  },
  {
   "cell_type": "code",
   "execution_count": 32,
   "outputs": [
    {
     "data": {
      "text/plain": "'C7H4O'"
     },
     "execution_count": 32,
     "metadata": {},
     "output_type": "execute_result"
    }
   ],
   "source": [
    "ex1 = 'C10H5O'\n",
    "ex2 = 'C3H'\n",
    "formula_to_string(substract_formulae(parse_formula(ex1), parse_formula(ex2)))"
   ],
   "metadata": {
    "collapsed": false,
    "pycharm": {
     "name": "#%%\n"
    }
   }
  },
  {
   "cell_type": "code",
   "execution_count": null,
   "outputs": [],
   "source": [
    "con.commit()"
   ],
   "metadata": {
    "collapsed": false,
    "pycharm": {
     "name": "#%%\n"
    }
   }
  },
  {
   "cell_type": "code",
   "execution_count": 37,
   "outputs": [],
   "source": [
    "con.close()"
   ],
   "metadata": {
    "collapsed": false,
    "pycharm": {
     "name": "#%%\n"
    }
   }
  }
 ],
 "metadata": {
  "kernelspec": {
   "display_name": "Python 3",
   "language": "python",
   "name": "python3"
  },
  "language_info": {
   "codemirror_mode": {
    "name": "ipython",
    "version": 2
   },
   "file_extension": ".py",
   "mimetype": "text/x-python",
   "name": "python",
   "nbconvert_exporter": "python",
   "pygments_lexer": "ipython2",
   "version": "2.7.6"
  }
 },
 "nbformat": 4,
 "nbformat_minor": 0
}