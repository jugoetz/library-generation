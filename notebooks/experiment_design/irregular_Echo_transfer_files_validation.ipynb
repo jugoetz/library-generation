{
 "cells": [
  {
   "cell_type": "markdown",
   "metadata": {},
   "source": [
    "# Make Echo transfer files for validation 1D plates (exp101)"
   ]
  },
  {
   "cell_type": "code",
   "execution_count": 1,
   "metadata": {
    "pycharm": {
     "name": "#%%\n"
    }
   },
   "outputs": [],
   "source": [
    "import csv\n",
    "from  collections import Counter"
   ]
  },
  {
   "cell_type": "code",
   "execution_count": 2,
   "metadata": {
    "pycharm": {
     "name": "#%%\n"
    }
   },
   "outputs": [
    {
     "data": {
      "text/plain": [
       "['Source Barcode',\n",
       " 'Source Well',\n",
       " 'Destination Barcode',\n",
       " 'Destination Well',\n",
       " 'Volume']"
      ]
     },
     "execution_count": 2,
     "metadata": {},
     "output_type": "execute_result"
    }
   ],
   "source": [
    "header = ['Source Barcode', 'Source Well', 'Destination Barcode', 'Destination Well', 'Volume']\n",
    "header"
   ]
  },
  {
   "cell_type": "code",
   "execution_count": 4,
   "metadata": {
    "pycharm": {
     "name": "#%%\n"
    }
   },
   "outputs": [],
   "source": [
    "# static things\n",
    "# n.b. Source1 / Synthesis1 are used in concurrent exp100, for that reason we start at 2\n",
    "source_barcode = 'Source2'\n",
    "destination_barcode = ['Synthesis2', 'Synthesis3', 'Synthesis4']\n",
    "volume = [1100, 990]\n",
    "\n",
    "# define source wells\n",
    "initiator_wells = [\n",
    "    ['A1', 'A2'], \n",
    "    ['A3', 'A4'], \n",
    "    ['A5', 'A6'], \n",
    "    ['A7', 'A8'], \n",
    "    ['A9', 'A10'], \n",
    "    ['A11', 'A12'], \n",
    "    ['A13', 'A14'], \n",
    "    ['A15', 'A16'], \n",
    "    ['A17', 'A18'], \n",
    "    ['A19', 'A20'], \n",
    "    ['A21', 'A22'], \n",
    "    ['A23', 'A24'], \n",
    "]\n",
    "\n",
    "monomer_wells = [\n",
    "    ['F1', 'F2'], \n",
    "    ['F3', 'F4'], \n",
    "    ['F5', 'F6'], \n",
    "    ['F7', 'F8'], \n",
    "    ['F9', 'F10'], \n",
    "    ['F11', 'F12'], \n",
    "    ['F13', 'F14'], \n",
    "    ['F15', 'F16'], \n",
    "    ['F17', 'F18'], \n",
    "    ['F19', 'F20'], \n",
    "]\n",
    "\n",
    "terminator_wells = [\n",
    "    ['K1', 'K2', 'K3'],\n",
    "    ['K4', 'K5', 'K6'],\n",
    "    ['K7', 'K8', 'K9'],\n",
    "    ['K10', 'K11', 'K12'],\n",
    "    ['K13', 'K14', 'K15'],\n",
    "    ['K16', 'K17', 'K18'],\n",
    "    ['K19', 'K20', 'K21'],\n",
    "    ['K22', 'K23', 'K24'],\n",
    "    ]\n",
    "\n",
    "# for destination wells list, index 0 is the upper left half of the plate, 1 the upper right, 2 the lower left and 3 the lower right\n",
    "# n.b. this will fill 320 wells in a 384 well plate\n",
    "initiator_destination_wells = [\n",
    "    [f'{chr(i // 10 + 65)}{i % 10 + 3}' for i in range(80)], \n",
    "    [f'{chr(i // 10 + 65)}{i % 10 + 13}' for i in range(80)], \n",
    "    [f'{chr(i // 10 + 73)}{i % 10 + 3}' for i in range(80)], \n",
    "    [f'{chr(i // 10 + 73)}{i % 10 + 13}' for i in range(80)]\n",
    "]\n",
    "\n",
    "monomer_destination_wells = [[f\"{chr(s+65)}{i}\" for s in range(16)] for i in range(3, 23)]\n",
    "\n",
    "terminator_destination_wells = [[f\"{chr(s+65)}{i}\" for i in range(3, 23)] for s in range(16)]\n"
   ]
  },
  {
   "cell_type": "code",
   "execution_count": 5,
   "metadata": {},
   "outputs": [],
   "source": [
    "# some checks\"\n",
    "assert 3 * len(initiator_destination_wells) == len(initiator_wells)\n",
    "assert len(monomer_destination_wells) == 2 * len(monomer_wells)\n",
    "assert len(terminator_destination_wells) == 2 * len(terminator_wells)"
   ]
  },
  {
   "cell_type": "code",
   "execution_count": 6,
   "metadata": {
    "pycharm": {
     "name": "#%%\n"
    }
   },
   "outputs": [
    {
     "data": {
      "text/plain": [
       "[['Source Barcode',\n",
       "  'Source Well',\n",
       "  'Destination Barcode',\n",
       "  'Destination Well',\n",
       "  'Volume']]"
      ]
     },
     "execution_count": 6,
     "metadata": {},
     "output_type": "execute_result"
    }
   ],
   "source": [
    "lines = []\n",
    "lines.insert(0, header)\n",
    "lines"
   ]
  },
  {
   "cell_type": "code",
   "execution_count": 7,
   "metadata": {
    "pycharm": {
     "name": "#%%\n"
    }
   },
   "outputs": [],
   "source": [
    "# fill 12 initiators, in four quadrants of three plates\n",
    "vol = 990\n",
    "for i, dest_code in enumerate(destination_barcode):\n",
    "    for ini_wells, dest_wells in zip(initiator_wells[i*4:i*4+4], initiator_destination_wells):\n",
    "        for dest_well in dest_wells[:len(dest_wells) // 2]:\n",
    "            source_well = ini_wells[0]\n",
    "            lines.append([source_barcode, source_well, dest_code, dest_well, vol])\n",
    "        for dest_well in dest_wells[len(dest_wells) // 2:]:\n",
    "            source_well = ini_wells[1]\n",
    "            lines.append([source_barcode, source_well, dest_code, dest_well, vol])"
   ]
  },
  {
   "cell_type": "code",
   "execution_count": 8,
   "metadata": {
    "pycharm": {
     "name": "#%%\n"
    }
   },
   "outputs": [],
   "source": [
    "# fill 10 monomers in 10 columns, twice for each plate, for three plates\n",
    "vol = 990\n",
    "for dest_code in destination_barcode:\n",
    "    for source_wells, dest_wells in zip(monomer_wells, monomer_destination_wells[:len(monomer_destination_wells) // 2]): \n",
    "        for dest_well in dest_wells:\n",
    "            lines.append([source_barcode, source_wells[0], dest_code, dest_well, vol])\n",
    "    for source_wells, dest_wells in zip(monomer_wells, monomer_destination_wells[len(monomer_destination_wells) // 2:]): \n",
    "        for dest_well in dest_wells:\n",
    "            lines.append([source_barcode, source_wells[1], dest_code, dest_well, vol])"
   ]
  },
  {
   "cell_type": "code",
   "execution_count": 9,
   "metadata": {},
   "outputs": [],
   "source": [
    "# fill oxalic acid in all wells. One source well of oxalic acid is used for half a plate (A3-P12 / A13-P22)\n",
    "vol = 220\n",
    "for dest_code, source_wells in zip(destination_barcode, [[\"P1\", \"P2\"], [\"P3\", \"P4\"], [\"P5\", \"P6\"]]):\n",
    "    for dest_well in [f\"{chr(s+65)}{i}\" for s in range(16) for i in range(3, 13)]:\n",
    "        lines.append([source_barcode, source_wells[0], dest_code, dest_well, vol])\n",
    "    for dest_well in [f\"{chr(s+65)}{i}\" for s in range(16) for i in range(13, 23)]:\n",
    "        lines.append([source_barcode, source_wells[1], dest_code, dest_well, vol])\n"
   ]
  },
  {
   "cell_type": "code",
   "execution_count": 10,
   "metadata": {},
   "outputs": [
    {
     "data": {
      "text/plain": [
       "2881"
      ]
     },
     "execution_count": 10,
     "metadata": {},
     "output_type": "execute_result"
    }
   ],
   "source": [
    "len(lines)"
   ]
  },
  {
   "cell_type": "markdown",
   "metadata": {
    "pycharm": {
     "name": "#%% md\n"
    }
   },
   "source": [
    "At this point, I/M transfers are finished. We write some tests before saving."
   ]
  },
  {
   "cell_type": "code",
   "execution_count": 11,
   "metadata": {
    "pycharm": {
     "name": "#%%\n"
    }
   },
   "outputs": [],
   "source": [
    "# correct number of transfers?\n",
    "assert len(lines) == 80 * 4 * 3 * 3 + 1\n",
    "# initiator source wells occur 40 times, monomer source wells 48 times?\n",
    "used_wells = [l[1] for l in lines[1:]]\n",
    "for k, v in Counter(used_wells).items():\n",
    "    if k.startswith(\"A\"):\n",
    "        assert v == 40\n",
    "    elif k.startswith(\"F\"):\n",
    "        assert v == 48\n",
    "    elif k.startswith(\"P\"):\n",
    "        assert v == 160\n",
    "    else:\n",
    "        raise ValueError(f\"unexpected well {k}\")\n",
    "# all transfers are unique\n",
    "assert len(lines) == len(set([tuple(line) for line in lines]))\n",
    "# all destination wells are used exactly thrice\n",
    "used_dest_wells = [l[2] + \"_\" + l[3] for l in lines[1:]]\n",
    "for k, v in Counter(used_dest_wells).items():\n",
    "    assert v == 3"
   ]
  },
  {
   "cell_type": "code",
   "execution_count": 12,
   "metadata": {
    "pycharm": {
     "name": "#%%\n"
    }
   },
   "outputs": [],
   "source": [
    "# save to file\n",
    "with open('validation_exp101_step1.csv', 'w') as file:\n",
    "    writer = csv.writer(file)\n",
    "    writer.writerows(lines)"
   ]
  },
  {
   "cell_type": "markdown",
   "metadata": {
    "pycharm": {
     "name": "#%% md\n"
    }
   },
   "source": [
    "Let's move on to T transfers."
   ]
  },
  {
   "cell_type": "code",
   "execution_count": 13,
   "metadata": {
    "pycharm": {
     "name": "#%%\n"
    },
    "scrolled": true
   },
   "outputs": [
    {
     "data": {
      "text/plain": [
       "[['Source Barcode',\n",
       "  'Source Well',\n",
       "  'Destination Barcode',\n",
       "  'Destination Well',\n",
       "  'Volume']]"
      ]
     },
     "execution_count": 13,
     "metadata": {},
     "output_type": "execute_result"
    }
   ],
   "source": [
    "lines = []\n",
    "lines.insert(0, header)\n",
    "lines"
   ]
  },
  {
   "cell_type": "code",
   "execution_count": 14,
   "metadata": {
    "pycharm": {
     "name": "#%%\n"
    }
   },
   "outputs": [],
   "source": [
    "# fill 8 monomers in 8 rows, twice for each plate, for three plates\n",
    "vol = 1100\n",
    "for dest_code in destination_barcode:\n",
    "    for source_wells, dest_wells in zip(terminator_wells, terminator_destination_wells[:len(terminator_destination_wells) // 2]): \n",
    "        for dest_well in dest_wells:\n",
    "            lines.append([source_barcode, source_wells[0], dest_code, dest_well, vol])\n",
    "    for source_wells, dest_wells in zip(terminator_wells, terminator_destination_wells[len(terminator_destination_wells) // 2:]): \n",
    "        for dest_well in dest_wells:\n",
    "            lines.append([source_barcode, source_wells[1], dest_code, dest_well, vol])"
   ]
  },
  {
   "cell_type": "code",
   "execution_count": 15,
   "metadata": {
    "pycharm": {
     "name": "#%%\n"
    }
   },
   "outputs": [
    {
     "data": {
      "text/plain": [
       "961"
      ]
     },
     "execution_count": 15,
     "metadata": {},
     "output_type": "execute_result"
    }
   ],
   "source": [
    "len(lines)"
   ]
  },
  {
   "cell_type": "markdown",
   "metadata": {
    "pycharm": {
     "name": "#%% md\n"
    }
   },
   "source": [
    "At this point, T transfers are finished. We write some tests before saving."
   ]
  },
  {
   "cell_type": "code",
   "execution_count": 16,
   "metadata": {
    "pycharm": {
     "name": "#%%\n"
    }
   },
   "outputs": [],
   "source": [
    "# correct number of transfers?\n",
    "assert len(lines) == 320 * 3 + 1\n",
    "# terminator source wells occur 60 times?\n",
    "used_wells = [l[1] for l in lines[1:]]\n",
    "for v in Counter(used_wells).values():\n",
    "    assert v == 60\n",
    "# all transfers are unique\n",
    "assert len(lines) == len(set([tuple(line) for line in lines]))\n",
    "# all destination wells are used exactly once\n",
    "used_dest_wells = [l[2] + \"_\" + l[3] for l in lines[1:]]\n",
    "for k, v in Counter(used_dest_wells).items():\n",
    "    assert v == 1"
   ]
  },
  {
   "cell_type": "code",
   "execution_count": 17,
   "metadata": {
    "pycharm": {
     "name": "#%%\n"
    }
   },
   "outputs": [],
   "source": [
    "# save to file\n",
    "with open('validation_exp101_step2.csv', 'w') as file:\n",
    "    writer = csv.writer(file)\n",
    "    writer.writerows(lines)\n"
   ]
  },
  {
   "cell_type": "code",
   "execution_count": null,
   "metadata": {},
   "outputs": [],
   "source": []
  }
 ],
 "metadata": {
  "kernelspec": {
   "display_name": "Python 3 (ipykernel)",
   "language": "python",
   "name": "python3"
  },
  "language_info": {
   "codemirror_mode": {
    "name": "ipython",
    "version": 3
   },
   "file_extension": ".py",
   "mimetype": "text/x-python",
   "name": "python",
   "nbconvert_exporter": "python",
   "pygments_lexer": "ipython3",
   "version": "3.9.7"
  }
 },
 "nbformat": 4,
 "nbformat_minor": 1
}
