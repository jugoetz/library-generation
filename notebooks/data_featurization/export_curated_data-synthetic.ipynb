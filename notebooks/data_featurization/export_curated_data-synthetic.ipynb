{
 "cells": [
  {
   "cell_type": "markdown",
   "id": "0",
   "metadata": {},
   "source": [
    "# SynFerm synthetic data preparation\n",
    "\n",
    "We have used the 0D model to prepare a synthetic data set.\n",
    "Here, we export the synthetic data set for training.\n",
    "Wherever we have a \"real\" result, this will supersede the synthetic result."
   ]
  },
  {
   "cell_type": "code",
   "execution_count": null,
   "id": "1",
   "metadata": {},
   "outputs": [],
   "source": [
    "import datetime\n",
    "import pathlib\n",
    "import sys\n",
    "\n",
    "sys.path.append(str(pathlib.Path().resolve().parents[1]))\n",
    "\n",
    "import pandas as pd\n",
    "\n",
    "from src.util.db_utils import SynFermDatabaseConnection\n",
    "from src.definitions import DATA_DIR"
   ]
  },
  {
   "cell_type": "code",
   "execution_count": null,
   "id": "2",
   "metadata": {},
   "outputs": [],
   "source": [
    "con = SynFermDatabaseConnection()"
   ]
  },
  {
   "cell_type": "markdown",
   "id": "3",
   "metadata": {},
   "source": [
    "## Obtain real data\n",
    "Here we just import the previously prepared data set."
   ]
  },
  {
   "cell_type": "code",
   "execution_count": null,
   "id": "4",
   "metadata": {},
   "outputs": [],
   "source": [
    "real_df = pd.read_csv(DATA_DIR / \"curated_data\" / f\"synferm_dataset_2023-12-20_39486records.csv\")[[\"I_long\", \"M_long\", \"T_long\", \"reaction_smiles_atom_mapped\", \"binary_A\", \"binary_B\", \"binary_C\"]]\n",
    "real_df.head()"
   ]
  },
  {
   "cell_type": "markdown",
   "id": "5",
   "metadata": {},
   "source": [
    "## Obtain synthetic data"
   ]
  },
  {
   "cell_type": "code",
   "execution_count": null,
   "id": "6",
   "metadata": {},
   "outputs": [],
   "source": [
    "res = con.con.execute(\"SELECT v.initiator_long, v.monomer_long, v.terminator_long, v.type, v.reaction_smiles_atom_mapped, p.binary_outcome FROM virtuallibrary v INNER JOIN virtuallibrary_predictions p on v.id = p.vl_id WHERE p.binary_model = '2024-01-04-085409_305115_fold0' ORDER BY type;\").fetchall()\n",
    "res_df = pd.DataFrame(res, columns=[\"I_long\", \"M_long\", \"T_long\", \"product_type\", \"reaction_smiles_atom_mapped\", \"binary\"])\n",
    "\n",
    "group = res_df.groupby([\"I_long\", \"M_long\", \"T_long\",])\n",
    "res_df[\"reaction_smiles_atom_mapped\"] = group[\"reaction_smiles_atom_mapped\"].ffill()  # save b/c ORDER BY type in SQL"
   ]
  },
  {
   "cell_type": "code",
   "execution_count": null,
   "id": "7",
   "metadata": {},
   "outputs": [],
   "source": [
    "syn_df = res_df.pivot(index=[\"I_long\", \"M_long\", \"T_long\", \"reaction_smiles_atom_mapped\",], columns=\"product_type\", values=\"binary\").rename(columns={\"A\": \"binary_A\", \"B\": \"binary_B\", \"C\": \"binary_C\"}).reset_index()\n",
    "syn_df"
   ]
  },
  {
   "cell_type": "markdown",
   "id": "8",
   "metadata": {},
   "source": [
    "## Merge synthetic and real data\n",
    "If we have real data, we overwrite the synthetic data"
   ]
  },
  {
   "cell_type": "code",
   "execution_count": null,
   "id": "9",
   "metadata": {},
   "outputs": [],
   "source": [
    "comb = syn_df.merge(real_df, on=[\"I_long\", \"M_long\", \"T_long\"], how=\"left\")\n",
    "comb.head()"
   ]
  },
  {
   "cell_type": "code",
   "execution_count": null,
   "id": "10",
   "metadata": {},
   "outputs": [],
   "source": [
    "# where do we have real data?\n",
    "~comb.isna().any(axis=1)"
   ]
  },
  {
   "cell_type": "code",
   "execution_count": null,
   "id": "11",
   "metadata": {},
   "outputs": [],
   "source": []
  },
  {
   "cell_type": "code",
   "execution_count": null,
   "id": "12",
   "metadata": {},
   "outputs": [],
   "source": [
    "# we save the indices to later distinguish real and synthetic data (since we want to evaluate on real data)\n",
    "with open(    DATA_DIR / \"curated_data\" / f\"synferm_dataset_{datetime.datetime.today().strftime('%Y-%m-%d')}_{len(comb)}records_synthetic_real-indices.txt\", \"w\") as f:\n",
    "    for i in comb.loc[~comb.isna().any(axis=1)].index.to_list():\n",
    "        f.write(f\"{i}\\n\")"
   ]
  },
  {
   "cell_type": "code",
   "execution_count": null,
   "id": "13",
   "metadata": {},
   "outputs": [],
   "source": [
    "# overwrite binary_A where we have real data\n",
    "comb.loc[~comb.isna().any(axis=1), [\"binary_A_x\", \"binary_B_x\", \"binary_C_x\"]] = comb.loc[~comb.isna().any(axis=1), [\"binary_A_y\", \"binary_B_y\", \"binary_C_y\"]].values"
   ]
  },
  {
   "cell_type": "code",
   "execution_count": null,
   "id": "14",
   "metadata": {},
   "outputs": [],
   "source": [
    "comb.loc[~comb.isna().any(axis=1), [\"binary_A_y\", \"binary_B_y\", \"binary_C_y\"]]"
   ]
  },
  {
   "cell_type": "code",
   "execution_count": null,
   "id": "15",
   "metadata": {},
   "outputs": [],
   "source": [
    "comb"
   ]
  },
  {
   "cell_type": "markdown",
   "id": "16",
   "metadata": {},
   "source": [
    "## Export\n",
    "Now we have a cleaned dataset. Export to CSV."
   ]
  },
  {
   "cell_type": "code",
   "execution_count": null,
   "id": "17",
   "metadata": {},
   "outputs": [],
   "source": [
    "comb[[\"I_long\", \"M_long\", \"T_long\", \"reaction_smiles_atom_mapped_x\", \"binary_A_x\", \"binary_B_x\", \"binary_C_x\"]]\\\n",
    ".rename(columns={\"reaction_smiles_atom_mapped_x\": \"reaction_smiles_atom_mapped\", \n",
    "                 \"binary_A_x\": \"binary_A\", \n",
    "                 \"binary_B_x\": \"binary_B\", \n",
    "                 \"binary_C_x\": \"binary_C\"\n",
    "                })\n",
    "\n"
   ]
  },
  {
   "cell_type": "code",
   "execution_count": null,
   "id": "18",
   "metadata": {},
   "outputs": [],
   "source": [
    "# export to CSV, with timestamp\n",
    "comb[\n",
    "    [\"I_long\", \"M_long\", \"T_long\", \"reaction_smiles_atom_mapped_x\", \"binary_A_x\", \"binary_B_x\", \"binary_C_x\"]\n",
    "].rename(\n",
    "    columns={\"reaction_smiles_atom_mapped_x\": \"reaction_smiles_atom_mapped\", \n",
    "             \"binary_A_x\": \"binary_A\", \n",
    "             \"binary_B_x\": \"binary_B\", \n",
    "             \"binary_C_x\": \"binary_C\"\n",
    "            }\n",
    ").to_csv(\n",
    "    DATA_DIR / \"curated_data\" / f\"synferm_dataset_{datetime.datetime.today().strftime('%Y-%m-%d')}_{len(comb)}records_synthetic.csv\", \n",
    "    index=False\n",
    ")"
   ]
  },
  {
   "cell_type": "code",
   "execution_count": null,
   "id": "19",
   "metadata": {},
   "outputs": [],
   "source": []
  }
 ],
 "metadata": {
  "kernelspec": {
   "display_name": "Python 3 (ipykernel)",
   "language": "python",
   "name": "python3"
  },
  "language_info": {
   "codemirror_mode": {
    "name": "ipython",
    "version": 3
   },
   "file_extension": ".py",
   "mimetype": "text/x-python",
   "name": "python",
   "nbconvert_exporter": "python",
   "pygments_lexer": "ipython3",
   "version": "3.9.7"
  }
 },
 "nbformat": 4,
 "nbformat_minor": 5
}
