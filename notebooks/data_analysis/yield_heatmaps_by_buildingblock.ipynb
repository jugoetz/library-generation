{
 "cells": [
  {
   "cell_type": "markdown",
   "metadata": {},
   "source": [
    "# Generate heatmaps by building block\n",
    "\n",
    "For a specified building block, generate the heatmap spanning all other building blocks it has been tried with."
   ]
  },
  {
   "cell_type": "code",
   "execution_count": null,
   "metadata": {},
   "outputs": [],
   "source": [
    "import pathlib\n",
    "import sys\n",
    "\n",
    "import matplotlib.pyplot as plt\n",
    "import pandas as pd\n",
    "from matplotlib.colors import LogNorm\n",
    "\n",
    "sys.path.append(str(pathlib.Path().resolve().parents[1]))\n",
    "from src.analysis.heatmapfromdb import normalize_yields, get_plot\n",
    "from src.util.db_utils import SynFermDatabaseConnection\n",
    "from src.util.utils import get_conf\n",
    "con = SynFermDatabaseConnection()\n",
    "conf = get_conf()"
   ]
  },
  {
   "cell_type": "code",
   "execution_count": null,
   "metadata": {},
   "outputs": [],
   "source": [
    "BUILDING_BLOCK = \"TerABT007\""
   ]
  },
  {
   "cell_type": "code",
   "execution_count": null,
   "metadata": {},
   "outputs": [],
   "source": [
    "exps = con.get_experiments_with_buildingblock(BUILDING_BLOCK)"
   ]
  },
  {
   "cell_type": "code",
   "execution_count": null,
   "metadata": {},
   "outputs": [],
   "source": [
    "header = [\n",
    " 'exp_nr',\n",
    " 'plate_nr',\n",
    " 'well',\n",
    " 'lab_journal_number',\n",
    " 'initiator',\n",
    " 'monomer',\n",
    " 'terminator',\n",
    " 'product_A_lcms_ratio',\n",
    " 'product_B_lcms_ratio',\n",
    " 'product_C_lcms_ratio',\n",
    " 'product_D_lcms_ratio',\n",
    " 'product_E_lcms_ratio',\n",
    " 'product_F_lcms_ratio',\n",
    " 'product_G_lcms_ratio',\n",
    " 'product_H_lcms_ratio',\n",
    " 'vl_id',\n",
    " 'valid'\n",
    "]\n",
    "\n",
    "df = pd.DataFrame(data=exps, columns=header)"
   ]
  },
  {
   "cell_type": "code",
   "execution_count": null,
   "metadata": {},
   "outputs": [],
   "source": [
    "# filter invalid stuff\n",
    "df = df.loc[df[\"exp_nr\"].between(4, 29) & (~df[\"valid\"].str.contains(\"ERROR\", na=False))]\n",
    "# normalize\n",
    "yields = normalize_yields(df, conf[\"heatmap\"][\"normalization_constant\"])"
   ]
  },
  {
   "cell_type": "code",
   "execution_count": null,
   "metadata": {},
   "outputs": [],
   "source": [
    "# get rid of duplicates (some syntheses have been done in duplicate)\n",
    "yields = yields.groupby([\"initiator\", \"monomer\", \"terminator\"]).mean(numeric_only=True).reset_index()"
   ]
  },
  {
   "cell_type": "code",
   "execution_count": null,
   "metadata": {
    "pycharm": {
     "name": "#%%\n"
    }
   },
   "outputs": [],
   "source": [
    "# set product type to plot\n",
    "product_type = 'A'\n",
    "\n",
    "# plot\n",
    "fig, ax = plt.subplots(figsize=(30,30))\n",
    "if BUILDING_BLOCK.startswith(\"I\"):\n",
    "    plot_df = yields[['terminator', 'monomer', f'product_{product_type}_lcms_ratio']] \\\n",
    "        .pivot(columns='terminator', index='monomer', values=f'product_{product_type}_lcms_ratio')\n",
    "elif BUILDING_BLOCK.startswith(\"M\"):\n",
    "    plot_df = yields[['terminator', 'initiator', f'product_{product_type}_lcms_ratio']] \\\n",
    "        .pivot(columns='terminator', index='initiator', values=f'product_{product_type}_lcms_ratio')\n",
    "elif BUILDING_BLOCK.startswith(\"T\"):\n",
    "    plot_df = yields[['monomer', 'initiator', f'product_{product_type}_lcms_ratio']] \\\n",
    "        .pivot(columns='monomer', index='initiator', values=f'product_{product_type}_lcms_ratio') + 1e-4\n",
    "#plot_df = sort_by_sparsity(plot_df)\n",
    "#plot_df = sort_by_sparsity(plot_df, axis=1)\n",
    "plot_df = plot_df#.sort_index(axis=0, key=alphanumeric_index_sort)\n",
    "plot_df = plot_df#.sort_index(axis=1, key=alphanumeric_index_sort)\n",
    "# plot the heatmap\n",
    "ax = get_plot(plot_df, product_type, ax=ax, norm=LogNorm(vmin=1e-4, vmax=100))\n",
    "ax.set_xticklabels(ax.get_xticklabels(), rotation=90)\n",
    "plt.show()"
   ]
  },
  {
   "cell_type": "code",
   "execution_count": null,
   "metadata": {},
   "outputs": [],
   "source": []
  }
 ],
 "metadata": {
  "kernelspec": {
   "display_name": "Python 3 (ipykernel)",
   "language": "python",
   "name": "python3"
  },
  "language_info": {
   "codemirror_mode": {
    "name": "ipython",
    "version": 3
   },
   "file_extension": ".py",
   "mimetype": "text/x-python",
   "name": "python",
   "nbconvert_exporter": "python",
   "pygments_lexer": "ipython3",
   "version": "3.9.7"
  }
 },
 "nbformat": 4,
 "nbformat_minor": 1
}
