{
 "cells": [
  {
   "cell_type": "code",
   "execution_count": null,
   "id": "0",
   "metadata": {},
   "outputs": [],
   "source": [
    "import pathlib\n",
    "import sys\n",
    "\n",
    "sys.path.append(str(pathlib.Path().resolve().parents[1]))\n",
    "\n",
    "from rdkit import Chem\n",
    "from rdkit.Chem import (\n",
    "    Draw,\n",
    ")\n",
    "\n",
    "from src.util.db_utils import SynFermDatabaseConnection\n"
   ]
  },
  {
   "cell_type": "code",
   "execution_count": null,
   "id": "1",
   "metadata": {},
   "outputs": [],
   "source": [
    "con = SynFermDatabaseConnection()"
   ]
  },
  {
   "cell_type": "code",
   "execution_count": null,
   "id": "2",
   "metadata": {},
   "outputs": [],
   "source": [
    "res = con.con.execute(\"SELECT long, SMILES FROM building_blocks WHERE category = 'I';\").fetchall()\n",
    "\n",
    "mols = [Chem.MolFromSmiles(x[1]) for x in res]\n",
    "names = [x[0] for x in res]\n",
    "\n",
    "Draw.MolsToGridImage(mols, maxMols=100, legends=names, subImgSize=(300, 300), molsPerRow=5)"
   ]
  },
  {
   "cell_type": "code",
   "execution_count": null,
   "id": "3",
   "metadata": {},
   "outputs": [],
   "source": [
    "res = con.con.execute(\"SELECT long, SMILES FROM building_blocks WHERE category = 'M';\").fetchall()\n",
    "\n",
    "mols = [Chem.MolFromSmiles(x[1]) for x in res]\n",
    "names = [x[0] for x in res]\n",
    "\n",
    "Draw.MolsToGridImage(mols, maxMols=100, legends=names, subImgSize=(300, 300), molsPerRow=5)"
   ]
  },
  {
   "cell_type": "code",
   "execution_count": null,
   "id": "4",
   "metadata": {},
   "outputs": [],
   "source": []
  },
  {
   "cell_type": "code",
   "execution_count": null,
   "id": "5",
   "metadata": {},
   "outputs": [],
   "source": [
    "res = con.con.execute(\"SELECT long, SMILES FROM building_blocks WHERE category = 'T';\").fetchall()\n",
    "\n",
    "mols = [Chem.MolFromSmiles(x[1]) for x in res]\n",
    "names = [x[0] for x in res]\n",
    "\n",
    "Draw.MolsToGridImage(mols, maxMols=100, legends=names, subImgSize=(300, 300), molsPerRow=5)"
   ]
  },
  {
   "cell_type": "code",
   "execution_count": null,
   "id": "6",
   "metadata": {},
   "outputs": [],
   "source": []
  }
 ],
 "metadata": {
  "kernelspec": {
   "display_name": "Python 3 (ipykernel)",
   "language": "python",
   "name": "python3"
  },
  "language_info": {
   "codemirror_mode": {
    "name": "ipython",
    "version": 3
   },
   "file_extension": ".py",
   "mimetype": "text/x-python",
   "name": "python",
   "nbconvert_exporter": "python",
   "pygments_lexer": "ipython3",
   "version": "3.9.7"
  }
 },
 "nbformat": 4,
 "nbformat_minor": 5
}
