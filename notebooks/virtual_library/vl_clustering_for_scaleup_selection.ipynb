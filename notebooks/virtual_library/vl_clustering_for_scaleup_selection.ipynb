{
 "cells": [
  {
   "cell_type": "markdown",
   "metadata": {},
   "source": [
    "## PRIME Virtual Library Clustering\n",
    "Task: Cluster the PRIME VL to select compounds to scale up for assessment of response factors.\n",
    "\n",
    "n.b. this is a legacy notebook and was used to produce some informational materials for interim presentations.\n",
    "None of this was used in the paper.\n",
    "\n",
    "We take this way:\n",
    "- Import ECFP4 (generated with radius 4 and 2048 bits)\n",
    "- Decompose with UMAP\n",
    "- Clustering with HDBSCAN\n"
   ]
  },
  {
   "cell_type": "code",
   "execution_count": null,
   "metadata": {},
   "outputs": [],
   "source": [
    "import numpy as np\n",
    "from sklearn.datasets import load_digits\n",
    "from sklearn.model_selection import train_test_split\n",
    "from sklearn.preprocessing import StandardScaler\n",
    "from sklearn.cluster import MiniBatchKMeans\n",
    "from sklearn.metrics import silhouette_score\n",
    "from scipy.spatial.distance import cdist\n",
    "import matplotlib.pyplot as plt\n",
    "import seaborn as sns\n",
    "import pandas as pd\n",
    "import umap\n",
    "%matplotlib inline\n"
   ]
  },
  {
   "cell_type": "markdown",
   "metadata": {},
   "source": [
    "### Preprocessing"
   ]
  },
  {
   "cell_type": "markdown",
   "metadata": {},
   "source": [
    "Import molecules from virtual library files"
   ]
  },
  {
   "cell_type": "code",
   "execution_count": null,
   "metadata": {},
   "outputs": [],
   "source": [
    "df = pd.read_csv(\"../data/prime_vl_with_ecfp.csv.bz2\")"
   ]
  },
  {
   "cell_type": "code",
   "execution_count": null,
   "metadata": {},
   "outputs": [],
   "source": [
    "# spread the fingerprints into an array\n",
    "fps = np.array([[int(n) for n in s] for s in df[\"ecfp4\"]])"
   ]
  },
  {
   "cell_type": "code",
   "execution_count": null,
   "metadata": {},
   "outputs": [],
   "source": [
    "fps.shape"
   ]
  },
  {
   "cell_type": "markdown",
   "metadata": {},
   "source": [
    "### UMAP"
   ]
  },
  {
   "cell_type": "markdown",
   "metadata": {},
   "source": [
    "Dimensionality reduction with UMAP"
   ]
  },
  {
   "cell_type": "code",
   "execution_count": null,
   "metadata": {},
   "outputs": [],
   "source": [
    "reducer = umap.UMAP(\n",
    "    n_neighbors=125,\n",
    "    min_dist=0.3,\n",
    "    n_components=2,\n",
    "    metric='jaccard',\n",
    ")"
   ]
  },
  {
   "cell_type": "code",
   "execution_count": null,
   "metadata": {},
   "outputs": [],
   "source": [
    "embedding = reducer.fit_transform(X=fps)"
   ]
  },
  {
   "cell_type": "code",
   "execution_count": null,
   "metadata": {},
   "outputs": [],
   "source": [
    "embedding.shape"
   ]
  },
  {
   "cell_type": "markdown",
   "metadata": {},
   "source": [
    "Show UMAP embedding"
   ]
  },
  {
   "cell_type": "code",
   "execution_count": null,
   "metadata": {},
   "outputs": [],
   "source": [
    "bode_colors = ['#161638', '#923c10', '#000000']\n",
    "bode_colors_light = ['#e3e3f0', '#f0f0db']\n",
    "bode_blues = ['#161638', '#4a4a68', '#7d7e96', '#b0b0be', '#e3e3f0']\n",
    "bode_oranges = ['#923c10', '#ae5526', '#bb754d', '#c99470', '#e2d1b6', '#f0f0db']\n",
    "\n",
    "colors = [bode_blues[2], bode_oranges[1]]"
   ]
  },
  {
   "cell_type": "code",
   "execution_count": null,
   "metadata": {},
   "outputs": [],
   "source": [
    "plt.figure(figsize=(3,3))\n",
    "plt.scatter(\n",
    "    embedding[:, 0],\n",
    "    embedding[:, 1],\n",
    "    c=[colors[x] for x in df[\"synthesized\"]],\n",
    "    s=.05,\n",
    ")\n",
    "ax = plt.gca()\n",
    "ax.set_aspect('auto', 'datalim')\n",
    "ax.set_frame_on(False)\n",
    "ax.set_xticks([])\n",
    "ax.set_yticks([])\n",
    "#plt.title(f'UMAP projection of the SynFerm PRIME VL\\n{reducer.n_neighbors}_{reducer.min_dist}_{reducer.n_components}_{reducer.metric}', fontsize=12);\n",
    "plt.tight_layout()\n",
    "plt.savefig(f\"../results/UMAP_{reducer.n_neighbors}_{reducer.min_dist}_{reducer.n_components}_{reducer.metric}.png\", dpi=300)"
   ]
  },
  {
   "cell_type": "code",
   "execution_count": null,
   "metadata": {},
   "outputs": [],
   "source": [
    "# we do't need to repeat saving the pictures as long as the input stays the same\n",
    "\n",
    "#from rdkit import Chem\n",
    "#for i, row in df.iterrows():\n",
    "#    Chem.Draw.MolToFile(Chem.MolFromSmiles(row['SMILES']), f\"../results/mol_images/id{row['id']}.png\")"
   ]
  },
  {
   "cell_type": "code",
   "execution_count": null,
   "metadata": {},
   "outputs": [],
   "source": [
    "df[[\"x\", \"y\"]] = embedding"
   ]
  },
  {
   "cell_type": "code",
   "execution_count": null,
   "metadata": {},
   "outputs": [],
   "source": [
    "df['img_filename'] = df['id'].apply(lambda i: f\"../results/mol_images/id{i}.png\")"
   ]
  },
  {
   "cell_type": "code",
   "execution_count": null,
   "metadata": {},
   "outputs": [],
   "source": [
    "df[\"color\"] = df[\"synthesized\"].map({0: colors[0], 1: colors[1]})"
   ]
  },
  {
   "cell_type": "code",
   "execution_count": null,
   "metadata": {},
   "outputs": [],
   "source": [
    "df.head()"
   ]
  },
  {
   "cell_type": "code",
   "execution_count": null,
   "metadata": {},
   "outputs": [],
   "source": [
    "from bokeh.plotting import figure, show, ColumnDataSource\n",
    "from bokeh.models import CategoricalColorMapper\n",
    "from bokeh.io import output_notebook, output_file, export_png, export_svg\n",
    "from bokeh import palettes\n",
    "from bokeh.transform import linear_cmap\n",
    "output_notebook()"
   ]
  },
  {
   "cell_type": "code",
   "execution_count": null,
   "metadata": {},
   "outputs": [],
   "source": [
    "output_file(f\"../results/umap_{reducer.n_neighbors}_{reducer.min_dist}_{reducer.n_components}_{reducer.metric}_2023-03-13.html\")\n",
    "cds = ColumnDataSource(df)\n",
    "TOOLTIPS = \"\"\"\n",
    "    <div>\n",
    "        <div>\n",
    "            <img\n",
    "                src=@img_filename height=\"200\" alt=\"molecule\" width=\"200\"\n",
    "                style=\"float: left;\"\n",
    "                border=\"2\"\n",
    "            ></img>\n",
    "        </div>\n",
    "        <div>\n",
    "            <span style=\"font-size: 10px; font-family: Helvetica, sans-serif;\">@id</span>\n",
    "        </div>\n",
    "    </div>\n",
    "\"\"\"\n",
    "\n",
    "p = figure(width=800, \n",
    "           height=800, \n",
    "           tooltips=TOOLTIPS,\n",
    "           title=\"UMAP projection of the SynFerm PRIME VL\")\n",
    "p.circle(x='x', \n",
    "         y='y', \n",
    "         size=3, \n",
    "         source=cds, \n",
    "         color=\"color\",\n",
    "         fill_alpha=.6,\n",
    "         line_alpha=.4,\n",
    "         #line_color='line_color', \n",
    "         legend_group=\"synthesized\"\n",
    "        )\n",
    "# now some styling\n",
    "p.title.text_font = 'helvetica'\n",
    "p.title.text_font_size = '20px'\n",
    "p.legend.label_text_font = \"helvetica\"\n",
    "p.legend.label_text_font_size = \"18px\"\n",
    "\n",
    "p.xaxis.visible = False\n",
    "p.yaxis.visible = False\n",
    "p.grid.visible = False\n",
    "\n",
    "p.background_fill_color = None\n",
    "p.border_fill_color = None\n",
    "\n",
    "\n",
    "show(p)"
   ]
  },
  {
   "cell_type": "code",
   "execution_count": null,
   "metadata": {},
   "outputs": [],
   "source": [
    "export_png(p, filename=f\"../results/umap_{reducer.n_neighbors}_{reducer.min_dist}_{reducer.n_components}_{reducer.metric}_2023-03-14.png\")\n"
   ]
  },
  {
   "cell_type": "code",
   "execution_count": null,
   "metadata": {},
   "outputs": [],
   "source": [
    "p.output_backend = \"svg\"\n",
    "\n",
    "export_svg(p, filename=f\"../results/umap_{reducer.n_neighbors}_{reducer.min_dist}_{reducer.n_components}_{reducer.metric}_2023-03-14.svg\")"
   ]
  },
  {
   "cell_type": "code",
   "execution_count": null,
   "metadata": {},
   "outputs": [],
   "source": [
    "scores = []"
   ]
  },
  {
   "cell_type": "code",
   "execution_count": null,
   "metadata": {},
   "outputs": [],
   "source": [
    "for k in range(2, 201):\n",
    "    if k % 5 == 0:\n",
    "        print(k)\n",
    "    clusterer = MiniBatchKMeans(n_clusters=k, n_init=\"auto\")\n",
    "    clusterer.fit(embedding)\n",
    "    scores.append(silhouette_score(embedding, clusterer.labels_, sample_size=30000))"
   ]
  },
  {
   "cell_type": "code",
   "execution_count": null,
   "metadata": {},
   "outputs": [],
   "source": [
    "plt.plot(list(range(2, 52)), scores[:50])"
   ]
  },
  {
   "cell_type": "code",
   "execution_count": null,
   "metadata": {},
   "outputs": [],
   "source": [
    "scores[17]"
   ]
  },
  {
   "cell_type": "code",
   "execution_count": null,
   "metadata": {},
   "outputs": [],
   "source": [
    "# remember that index 0 means n_clusters 2.\n",
    "scores.index(max(scores))"
   ]
  },
  {
   "cell_type": "code",
   "execution_count": null,
   "metadata": {},
   "outputs": [],
   "source": [
    "print(\"Values of n_clusters with highest silhouette scores (top 5):\")\n",
    "for i, v in enumerate(sorted(scores, reverse=True)):\n",
    "    if i > 4:\n",
    "        break\n",
    "    print(scores.index(v) + 2)"
   ]
  },
  {
   "cell_type": "code",
   "execution_count": null,
   "metadata": {},
   "outputs": [],
   "source": [
    "n_clusters = 191\n",
    "clusterer = MiniBatchKMeans(n_clusters=n_clusters, n_init=\"auto\")"
   ]
  },
  {
   "cell_type": "code",
   "execution_count": null,
   "metadata": {},
   "outputs": [],
   "source": [
    "clusterer.fit(embedding)"
   ]
  },
  {
   "cell_type": "code",
   "execution_count": null,
   "metadata": {},
   "outputs": [],
   "source": [
    "clusterer.labels_"
   ]
  },
  {
   "cell_type": "code",
   "execution_count": null,
   "metadata": {},
   "outputs": [],
   "source": [
    "plt.figure(figsize=(3, 3))\n",
    "plt.scatter(\n",
    "    embedding[:, 0],\n",
    "    embedding[:, 1],\n",
    "    c=clusterer.labels_,\n",
    "    cmap=\"tab20\",\n",
    "    s=.05,\n",
    ")\n",
    "ax = plt.gca()\n",
    "ax.set_aspect('auto', 'datalim')\n",
    "ax.set_frame_on(False)\n",
    "ax.set_xticks([])\n",
    "ax.set_yticks([])\n",
    "#plt.title(f'UMAP projection of the SynFerm PRIME VL\\n{reducer.n_neighbors}_{reducer.min_dist}_{reducer.n_components}_{reducer.metric}', fontsize=12);\n",
    "plt.tight_layout()\n",
    "plt.savefig(f\"../results/UMAP_{reducer.n_neighbors}_{reducer.min_dist}_{reducer.n_components}_{reducer.metric}_{n_clusters}clusters.png\", dpi=300)"
   ]
  },
  {
   "cell_type": "code",
   "execution_count": null,
   "metadata": {},
   "outputs": [],
   "source": [
    "# we save the embedding and the labels for later use\n",
    "df_results = pd.DataFrame(data=embedding, columns=[\"x\", \"y\"])\n",
    "df_results[\"labels\"] = clusterer.labels_\n",
    "df_cluster_centers = pd.DataFrame(clusterer.cluster_centers_, columns=[\"x\", \"y\"])"
   ]
  },
  {
   "cell_type": "code",
   "execution_count": null,
   "metadata": {},
   "outputs": [],
   "source": [
    "df_results.to_csv(f\"../results/UMAP_{reducer.n_neighbors}_{reducer.min_dist}_{reducer.n_components}_{reducer.metric}_{n_clusters}clusters_embedding.csv\")\n",
    "df_cluster_centers.to_csv(f\"../results/UMAP_{reducer.n_neighbors}_{reducer.min_dist}_{reducer.n_components}_{reducer.metric}_{n_clusters}clusters_centers.csv\")\n"
   ]
  },
  {
   "cell_type": "markdown",
   "metadata": {},
   "source": [
    "### Identify representative molecules to synthesize"
   ]
  },
  {
   "cell_type": "markdown",
   "metadata": {},
   "source": [
    "We switch gears a bit and use the ideal clustering we obtained to identify representative molecules we want to synthesize on a bigger scale."
   ]
  },
  {
   "cell_type": "code",
   "execution_count": null,
   "metadata": {},
   "outputs": [],
   "source": [
    "# re-load the embedding and clusters for the best clustering\n",
    "n_neighbors = 125\n",
    "min_dist = 0.3\n",
    "n_components = 2\n",
    "metric = \"jaccard\"\n",
    "n_clusters = 15\n",
    "emb = pd.read_csv(f\"../results/UMAP_{n_neighbors}_{min_dist}_{n_components}_{metric}_{n_clusters}clusters_embedding.csv\", index_col=0)\n",
    "centers = pd.read_csv(f\"../results/UMAP_{n_neighbors}_{min_dist}_{n_components}_{metric}_{n_clusters}clusters_centers.csv\", index_col=0)\n"
   ]
  },
  {
   "cell_type": "code",
   "execution_count": null,
   "metadata": {},
   "outputs": [],
   "source": [
    "emb"
   ]
  },
  {
   "cell_type": "code",
   "execution_count": null,
   "metadata": {},
   "outputs": [],
   "source": [
    "centers"
   ]
  },
  {
   "cell_type": "code",
   "execution_count": null,
   "metadata": {},
   "outputs": [],
   "source": [
    "# plot clusters with centroids\n",
    "plt.figure(figsize=(3, 3))\n",
    "plt.scatter(\n",
    "    emb[\"x\"],\n",
    "    emb[\"y\"],\n",
    "    c=emb[\"labels\"],\n",
    "    cmap=\"tab20\",\n",
    "    s=.05,\n",
    ")\n",
    "plt.scatter(\n",
    "    centers[\"x\"],\n",
    "    centers[\"y\"],\n",
    "    c=\"black\",\n",
    "    s=1,\n",
    ")\n",
    "#for i in range(len(centers)):\n",
    "#    plt.annotate(i, (centers.at[i, \"x\"], centers.at[i, \"y\"] + 0.2))\n",
    "    \n",
    "ax = plt.gca()\n",
    "ax.set_aspect('auto', 'datalim')\n",
    "ax.set_frame_on(False)\n",
    "ax.set_xticks([])\n",
    "ax.set_yticks([])\n",
    "plt.tight_layout()\n",
    "plt.savefig(f\"../results/UMAP_{n_neighbors}_{min_dist}_{n_components}_{metric}_{n_clusters}clusters_with_centroids_no_annot.png\", dpi=300)"
   ]
  },
  {
   "cell_type": "code",
   "execution_count": null,
   "metadata": {},
   "outputs": [],
   "source": [
    "# calculate euclidian distance for all points with the cluster centroids\n",
    "dist_arr = cdist(emb[[\"x\", \"y\"]].values, centers[[\"x\", \"y\"]].values)"
   ]
  },
  {
   "cell_type": "code",
   "execution_count": null,
   "metadata": {},
   "outputs": [],
   "source": [
    "# closest point for each cluster\n",
    "closest = dist_arr.argmin(axis=0)\n",
    "closest"
   ]
  },
  {
   "cell_type": "code",
   "execution_count": null,
   "metadata": {},
   "outputs": [],
   "source": [
    "closest_smiles = df[\"SMILES\"][closest].values.tolist()"
   ]
  },
  {
   "cell_type": "code",
   "execution_count": null,
   "metadata": {},
   "outputs": [],
   "source": [
    "from rdkit.Chem import Draw\n",
    "from rdkit import Chem"
   ]
  },
  {
   "cell_type": "code",
   "execution_count": null,
   "metadata": {},
   "outputs": [],
   "source": [
    "Draw.MolsToGridImage([Chem.MolFromSmiles(smi) for smi in closest_smiles], subImgSize=(400, 400), legends=[str(i) for i in range(0,16)])\n",
    "                                                                                                         "
   ]
  },
  {
   "cell_type": "code",
   "execution_count": null,
   "metadata": {},
   "outputs": [],
   "source": [
    "for s in closest_smiles:\n",
    "    print(s)"
   ]
  },
  {
   "cell_type": "code",
   "execution_count": null,
   "metadata": {},
   "outputs": [],
   "source": [
    "# Visualize "
   ]
  },
  {
   "cell_type": "code",
   "execution_count": null,
   "metadata": {},
   "outputs": [],
   "source": [
    "df"
   ]
  },
  {
   "cell_type": "code",
   "execution_count": null,
   "metadata": {},
   "outputs": [],
   "source": [
    "df_synthesized = df.loc[df[\"synthesized\"] == 1]\n",
    "df_synthesized"
   ]
  },
  {
   "cell_type": "code",
   "execution_count": null,
   "metadata": {},
   "outputs": [],
   "source": [
    "idxs = df_synthesized[\"id\"].values.tolist()\n",
    "    "
   ]
  },
  {
   "cell_type": "code",
   "execution_count": null,
   "metadata": {},
   "outputs": [],
   "source": [
    "idxs"
   ]
  },
  {
   "cell_type": "code",
   "execution_count": null,
   "metadata": {},
   "outputs": [],
   "source": [
    "import sqlite3"
   ]
  },
  {
   "cell_type": "code",
   "execution_count": null,
   "metadata": {},
   "outputs": [],
   "source": [
    "con = sqlite3.connect(\"../data/50k_project.db\")"
   ]
  },
  {
   "cell_type": "code",
   "execution_count": null,
   "metadata": {},
   "outputs": [],
   "source": [
    "cur = con.cursor()"
   ]
  },
  {
   "cell_type": "code",
   "execution_count": null,
   "metadata": {},
   "outputs": [],
   "source": [
    "res = cur.execute(f\"SELECT vl_id, product_A_lcms_ratio FROM experiments\").fetchall()"
   ]
  },
  {
   "cell_type": "code",
   "execution_count": null,
   "metadata": {},
   "outputs": [],
   "source": [
    "df_res =pd.DataFrame(res, columns=[\"id\", \"product_A_lcms_ratio\"])"
   ]
  },
  {
   "cell_type": "code",
   "execution_count": null,
   "metadata": {},
   "outputs": [],
   "source": [
    "df_res[\"product_A_normalized\"] = df_res[\"product_A_lcms_ratio\"] / df_res[\"product_A_lcms_ratio\"].max()"
   ]
  },
  {
   "cell_type": "code",
   "execution_count": null,
   "metadata": {},
   "outputs": [],
   "source": [
    "df_res[\"success\"] = np.nan\n",
    "df_res.loc[df_res[\"product_A_normalized\"] > 5e-6, \"success\"] = 1.\n",
    "df_res.loc[df_res[\"product_A_normalized\"] < 1e-10, \"success\"] = 0."
   ]
  },
  {
   "cell_type": "code",
   "execution_count": null,
   "metadata": {},
   "outputs": [],
   "source": [
    "df_res[\"success\"].value_counts()"
   ]
  },
  {
   "cell_type": "code",
   "execution_count": null,
   "metadata": {},
   "outputs": [],
   "source": [
    "df_res[\"success\"].isna().value_counts()"
   ]
  },
  {
   "cell_type": "code",
   "execution_count": null,
   "metadata": {},
   "outputs": [],
   "source": [
    "(df_res[\"product_A_normalized\"] < 5e-6).value_counts()"
   ]
  },
  {
   "cell_type": "code",
   "execution_count": null,
   "metadata": {},
   "outputs": [],
   "source": [
    "df_all = df_synthesized.merge(df_res, how=\"left\")"
   ]
  },
  {
   "cell_type": "code",
   "execution_count": null,
   "metadata": {},
   "outputs": [],
   "source": [
    "from matplotlib.colors import ListedColormap"
   ]
  },
  {
   "cell_type": "code",
   "execution_count": null,
   "metadata": {},
   "outputs": [],
   "source": [
    "# plot clusters with reaction outcome\n",
    "plt.figure(figsize=(3, 3))\n",
    "plt.scatter(\n",
    "    df_all[\"x\"],\n",
    "    df_all[\"y\"],\n",
    "    c=df_all[\"success\"],\n",
    "    cmap=\"Paired_r\",\n",
    "    s=.05,\n",
    ")\n",
    " \n",
    "ax = plt.gca()\n",
    "ax.set_aspect('auto', 'datalim')\n",
    "ax.set_frame_on(False)\n",
    "ax.set_xticks([])\n",
    "ax.set_yticks([])\n",
    "plt.tight_layout()\n",
    "plt.savefig(f\"../results/UMAP_{n_neighbors}_{min_dist}_{n_components}_{metric}_{n_clusters}clusters_with_reaction_outcome.png\", dpi=300)"
   ]
  },
  {
   "cell_type": "code",
   "execution_count": null,
   "metadata": {},
   "outputs": [],
   "source": [
    "colors"
   ]
  },
  {
   "cell_type": "code",
   "execution_count": null,
   "metadata": {},
   "outputs": [],
   "source": []
  }
 ],
 "metadata": {
  "kernelspec": {
   "display_name": "Python 3 (ipykernel)",
   "language": "python",
   "name": "python3"
  },
  "language_info": {
   "codemirror_mode": {
    "name": "ipython",
    "version": 3
   },
   "file_extension": ".py",
   "mimetype": "text/x-python",
   "name": "python",
   "nbconvert_exporter": "python",
   "pygments_lexer": "ipython3",
   "version": "3.9.7"
  }
 },
 "nbformat": 4,
 "nbformat_minor": 1
}
