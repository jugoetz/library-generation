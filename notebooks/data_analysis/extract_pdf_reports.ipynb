{
 "cells": [
  {
   "cell_type": "markdown",
   "id": "261b6b1e-9b30-4a3f-9684-190bbbd48df0",
   "metadata": {},
   "source": [
    "# Extract MoBiAS PDF reports\n",
    "\n",
    "The PDF reports are a great source of additional information as they contain data for peaks that may not have been assigned to any known product.\n",
    "Mining these reports is much faster than reprocessing of the raw LCMS data.\n",
    "\n",
    "Here, we are in particular interested to identify\n",
    "1. leftover starting materials\n",
    "2. systematic side products that we have not been previously looking for\n"
   ]
  },
  {
   "cell_type": "code",
   "execution_count": 1,
   "id": "5414c150-132b-4c8d-989f-f84b6f1cb3f7",
   "metadata": {},
   "outputs": [],
   "source": [
    "import sys\n",
    "import pathlib\n",
    "import re\n",
    "\n",
    "sys.path.insert(0, str(pathlib.Path().resolve().parents[1]))\n",
    "\n",
    "from pypdf import PdfReader\n",
    "import pandas as pd\n",
    "import numpy as np\n",
    "\n",
    "from src.util.db_utils import SynFermDatabaseConnection\n",
    "from src.definitions import DATA_DIR, PLATE_LIST_PATH\n",
    "from src.util.rdkit_util import smiles_to_lcms_mass"
   ]
  },
  {
   "cell_type": "markdown",
   "id": "9f737ec6-a3cf-45da-951f-34987a5335b8",
   "metadata": {},
   "source": [
    "## Extract PDF data"
   ]
  },
  {
   "cell_type": "code",
   "execution_count": 2,
   "id": "42e6e3fb-fa8c-4133-b15e-9e32e554d23b",
   "metadata": {},
   "outputs": [],
   "source": [
    "con = SynFermDatabaseConnection()"
   ]
  },
  {
   "cell_type": "code",
   "execution_count": 5,
   "id": "35d9dc35-e0aa-48f3-a309-97b874cc2892",
   "metadata": {},
   "outputs": [
    {
     "data": {
      "text/plain": [
       "[<rdkit.Chem.rdchem.Mol at 0x1294beea0>,\n",
       " <rdkit.Chem.rdchem.Mol at 0x1294bf290>,\n",
       " <rdkit.Chem.rdchem.Mol at 0x1294bf140>]"
      ]
     },
     "execution_count": 5,
     "metadata": {},
     "output_type": "execute_result"
    }
   ],
   "source": [
    "list(con.get_product_mol(3085, \"ABC\"))"
   ]
  },
  {
   "cell_type": "code",
   "execution_count": 14,
   "id": "e225f6ff-be47-47f0-bcba-7f9db2bc0ea2",
   "metadata": {
    "editable": true,
    "slideshow": {
     "slide_type": ""
    },
    "tags": []
   },
   "outputs": [],
   "source": [
    "def import_lcms_full_report(path):\n",
    "    # set up pdf reader\n",
    "    reader = PdfReader(path)\n",
    "    number_of_pages = len(reader.pages)\n",
    "    i = 1\n",
    "    data_page = True\n",
    "    lines = []\n",
    "    # iterate from second page until entire peak summary table is read\n",
    "    for i in range(1, number_of_pages):\n",
    "        page = reader.pages[i]\n",
    "        text = page.extract_text()\n",
    "        line_list = text.splitlines()\n",
    "        if line_list[0] != '# RT [min] Area I S/N Max. m/z FWHM [min] Area % Int. %':  # stop when not encountering another data header\n",
    "            break\n",
    "        lines += line_list\n",
    "    \n",
    "    if len(lines) == 0:\n",
    "        raise RuntimeError(\"No data extracted\")\n",
    "        \n",
    "    # remove spaces in header\n",
    "    cleaned_lines = ['# RT[min] Area I S/N max_m/z FWHM[min] Area% Int%',]\n",
    "    # remove footers and data headers on not-first page\n",
    "    cleaned_lines += [line for line in lines if line[0].isnumeric()] \n",
    "\n",
    "    # split the lines into individual fields\n",
    "    data = [line.split() for line in cleaned_lines]\n",
    "    \n",
    "    # assemble DataFrame from data\n",
    "    df = pd.DataFrame(data[1:], columns=data[0]).astype(\"float\")\n",
    "\n",
    "    return df"
   ]
  },
  {
   "cell_type": "code",
   "execution_count": 27,
   "id": "ac2cca20-6f31-40b0-8469-900526543a3b",
   "metadata": {},
   "outputs": [
    {
     "name": "stdout",
     "output_type": "stream",
     "text": [
      "BMII002049\n",
      "K7\n",
      "3085\n",
      "BMII002049\n",
      "L21\n",
      "3119\n",
      "BMII002233\n",
      "A4\n",
      "53216\n",
      "BMII002233\n",
      "A6\n",
      "53218\n"
     ]
    }
   ],
   "source": [
    "# import the plate list to obtain LCMS identifier - plate_nr relation\n",
    "plate_list = pd.read_csv(PLATE_LIST_PATH)\n",
    "\n",
    "for exp_nr in range(1, 30):\n",
    "    for plate_nr in range(1, 7):\n",
    "        lcms_id = plate_list.loc[(plate_list[\"exp_nr\"] == exp_nr) & (plate_list[\"plate_nr\"] == plate_nr), \"results_file_name\"].item().split(\"_\")[0]\n",
    "        exp_path = DATA_DIR / \"tmp_pdf_reports\" / lcms_id\n",
    "        full_report_paths = list(exp_path.glob(\"*_LCMS_Fullreport.pdf\"))\n",
    "        \n",
    "        for path in full_report_paths:\n",
    "            print(lcms_id)\n",
    "            # get well from filename\n",
    "            regex = r'_P\\d{1}-[A-Z]-\\d{1,2}_'\n",
    "            match = re.search(regex, path.name)\n",
    "            well = \"\".join(match.group().strip(\"_\").split(\"-\")[1:])\n",
    "            reaction_id = con.get_reaction_id((exp_nr, plate_nr, well))\n",
    "            print(well)\n",
    "            print(reaction_id)\n",
    "            df = import_lcms_full_report(path)\n",
    "            # we persist this to the database for re-use\n",
    "            # first reformat df to fit DB\n",
    "            df.insert(0, \"reaction_id\", reaction_id)\n",
    "            df.insert(2, \"retention_time_s\", (df[\"RT[min]\"] * 60).astype(\"int\"))\n",
    "            df = df.drop(columns=\"RT[min]\")\n",
    "            df = df.rename(columns={\"#\": \"peak_number\", \n",
    "                       \"Area\": \"area\", \n",
    "                       \"I\": \"intensity\",\n",
    "                       \"S/N\": \"signal_to_noise\",\n",
    "                       \"max_m/z\": \"mz_max\",\n",
    "                       \"FWHM[min]\": \"fwhm_min\", \n",
    "                       \"Area%\": \"%area\",\n",
    "                       \"Int%\": \"%intensity\"\n",
    "                      }).astype({\"peak_number\": \"int\",\n",
    "                                 \"area\": \"int\",\n",
    "                                 \"intensity\": \"int\"})\n",
    "            # write all extracted peaks to DB\n",
    "            with con.con:\n",
    "                con.con.executemany(\n",
    "                    'INSERT INTO lcms_peaks (experiment_id, peak_nr, retention_time_s, area, intensity, signal_to_noise, mz_max, fwhm_min, \"%area\", \"%intensity\") VALUES (?, ?, ?, ?, ?, ?, ?, ?, ?, ?);', \n",
    "                    [tuple(row) for row in df.to_numpy()]\n",
    "                )"
   ]
  },
  {
   "cell_type": "code",
   "execution_count": 6,
   "id": "be7b301e-f193-4ffd-bd35-6674643f5657",
   "metadata": {},
   "outputs": [],
   "source": [
    "# now which of these are unexpected / not already explained?\n",
    "mz_dmso = [79.0212, 101.0032, 157.0351]  # M+H+, M+Na+ 2M+H+\n",
    "mz_lock = [142.1590, 322.0481]  # tetramethylpiperidine, hexamethoxyphosphazene\n",
    "mz_is = 361.1201  # fenofibrate\n",
    "\n",
    "known_product_smiles = con.get_product_smiles((exp_nr, plate_nr), \"A3\")\n",
    "known_product_mzs = [smiles_to_lcms_mass(smi) for smi in known_product_smiles]\n",
    "\n",
    "known_mzs = mz_dmso + mz_lock + [mz_is] + known_product_mzs"
   ]
  },
  {
   "cell_type": "code",
   "execution_count": 7,
   "id": "e686a4ab-8724-4a24-af14-a3a04d350bfe",
   "metadata": {},
   "outputs": [
    {
     "data": {
      "text/html": [
       "<div>\n",
       "<style scoped>\n",
       "    .dataframe tbody tr th:only-of-type {\n",
       "        vertical-align: middle;\n",
       "    }\n",
       "\n",
       "    .dataframe tbody tr th {\n",
       "        vertical-align: top;\n",
       "    }\n",
       "\n",
       "    .dataframe thead th {\n",
       "        text-align: right;\n",
       "    }\n",
       "</style>\n",
       "<table border=\"1\" class=\"dataframe\">\n",
       "  <thead>\n",
       "    <tr style=\"text-align: right;\">\n",
       "      <th></th>\n",
       "      <th>RT[min]</th>\n",
       "      <th>Area</th>\n",
       "      <th>I</th>\n",
       "      <th>S/N</th>\n",
       "      <th>max_m/z</th>\n",
       "      <th>FWHM[min]</th>\n",
       "      <th>Area%</th>\n",
       "      <th>Int%</th>\n",
       "    </tr>\n",
       "    <tr>\n",
       "      <th>#</th>\n",
       "      <th></th>\n",
       "      <th></th>\n",
       "      <th></th>\n",
       "      <th></th>\n",
       "      <th></th>\n",
       "      <th></th>\n",
       "      <th></th>\n",
       "      <th></th>\n",
       "    </tr>\n",
       "  </thead>\n",
       "  <tbody>\n",
       "    <tr>\n",
       "      <th>9</th>\n",
       "      <td>2.156</td>\n",
       "      <td>2.589547e+05</td>\n",
       "      <td>62241.0</td>\n",
       "      <td>17.8</td>\n",
       "      <td>146.1175</td>\n",
       "      <td>0.059</td>\n",
       "      <td>5.39209</td>\n",
       "      <td>3.71</td>\n",
       "    </tr>\n",
       "    <tr>\n",
       "      <th>12</th>\n",
       "      <td>2.903</td>\n",
       "      <td>6.490781e+05</td>\n",
       "      <td>146339.0</td>\n",
       "      <td>42.1</td>\n",
       "      <td>365.1712</td>\n",
       "      <td>0.081</td>\n",
       "      <td>13.51545</td>\n",
       "      <td>8.73</td>\n",
       "    </tr>\n",
       "    <tr>\n",
       "      <th>16</th>\n",
       "      <td>3.000</td>\n",
       "      <td>1.114304e+06</td>\n",
       "      <td>440712.0</td>\n",
       "      <td>130.7</td>\n",
       "      <td>365.1709</td>\n",
       "      <td>0.038</td>\n",
       "      <td>23.20264</td>\n",
       "      <td>26.28</td>\n",
       "    </tr>\n",
       "    <tr>\n",
       "      <th>17</th>\n",
       "      <td>3.395</td>\n",
       "      <td>2.613391e+06</td>\n",
       "      <td>1012323.0</td>\n",
       "      <td>306.9</td>\n",
       "      <td>332.0521</td>\n",
       "      <td>0.037</td>\n",
       "      <td>54.41742</td>\n",
       "      <td>60.36</td>\n",
       "    </tr>\n",
       "    <tr>\n",
       "      <th>22</th>\n",
       "      <td>3.592</td>\n",
       "      <td>1.006776e+06</td>\n",
       "      <td>445752.0</td>\n",
       "      <td>132.9</td>\n",
       "      <td>459.1523</td>\n",
       "      <td>0.034</td>\n",
       "      <td>20.96362</td>\n",
       "      <td>26.58</td>\n",
       "    </tr>\n",
       "    <tr>\n",
       "      <th>25</th>\n",
       "      <td>3.730</td>\n",
       "      <td>8.154621e+05</td>\n",
       "      <td>335406.0</td>\n",
       "      <td>100.8</td>\n",
       "      <td>505.1579</td>\n",
       "      <td>0.037</td>\n",
       "      <td>16.97999</td>\n",
       "      <td>20.00</td>\n",
       "    </tr>\n",
       "    <tr>\n",
       "      <th>36</th>\n",
       "      <td>5.032</td>\n",
       "      <td>4.152705e+05</td>\n",
       "      <td>143717.0</td>\n",
       "      <td>1209.5</td>\n",
       "      <td>250.9768</td>\n",
       "      <td>0.043</td>\n",
       "      <td>8.64698</td>\n",
       "      <td>8.57</td>\n",
       "    </tr>\n",
       "    <tr>\n",
       "      <th>37</th>\n",
       "      <td>5.033</td>\n",
       "      <td>3.906193e+05</td>\n",
       "      <td>139087.0</td>\n",
       "      <td>41.9</td>\n",
       "      <td>250.9768</td>\n",
       "      <td>0.043</td>\n",
       "      <td>8.13368</td>\n",
       "      <td>8.29</td>\n",
       "    </tr>\n",
       "  </tbody>\n",
       "</table>\n",
       "</div>"
      ],
      "text/plain": [
       "    RT[min]          Area          I     S/N   max_m/z  FWHM[min]     Area%  \\\n",
       "#                                                                             \n",
       "9     2.156  2.589547e+05    62241.0    17.8  146.1175      0.059   5.39209   \n",
       "12    2.903  6.490781e+05   146339.0    42.1  365.1712      0.081  13.51545   \n",
       "16    3.000  1.114304e+06   440712.0   130.7  365.1709      0.038  23.20264   \n",
       "17    3.395  2.613391e+06  1012323.0   306.9  332.0521      0.037  54.41742   \n",
       "22    3.592  1.006776e+06   445752.0   132.9  459.1523      0.034  20.96362   \n",
       "25    3.730  8.154621e+05   335406.0   100.8  505.1579      0.037  16.97999   \n",
       "36    5.032  4.152705e+05   143717.0  1209.5  250.9768      0.043   8.64698   \n",
       "37    5.033  3.906193e+05   139087.0    41.9  250.9768      0.043   8.13368   \n",
       "\n",
       "     Int%  \n",
       "#          \n",
       "9    3.71  \n",
       "12   8.73  \n",
       "16  26.28  \n",
       "17  60.36  \n",
       "22  26.58  \n",
       "25  20.00  \n",
       "36   8.57  \n",
       "37   8.29  "
      ]
     },
     "execution_count": 7,
     "metadata": {},
     "output_type": "execute_result"
    }
   ],
   "source": [
    "unexplained_peaks = df.loc[((df[\"Area%\"] > 5)  # only significant peaks\n",
    "        & ~np.isclose(df[\"max_m/z\"].to_numpy()[:, None], known_mzs, rtol=5e-6, atol=0).any(axis=1)  # only peaks that are not already explained\n",
    "       ), \n",
    "    ]\n",
    "unexplained_peaks"
   ]
  },
  {
   "cell_type": "markdown",
   "id": "e281629a-6d61-44b2-b3d4-87538c641e48",
   "metadata": {},
   "source": [
    "## Identify starting material peaks"
   ]
  },
  {
   "cell_type": "code",
   "execution_count": 9,
   "id": "3ca77c06-8b7e-47aa-9db8-c80c2ce256ea",
   "metadata": {},
   "outputs": [
    {
     "data": {
      "text/plain": [
       "['O=C(c1ccc(C2=NCCO2)cc1)[B-](F)(F)F.[K+]',\n",
       " 'CC(C)C[C@H]1C[C@]2(O[NH2+]1)OC1(CCCCC1)OC2=O.[Cl-]',\n",
       " '[Cl-].[NH3+]NC(=S)c1cccs1']"
      ]
     },
     "execution_count": 9,
     "metadata": {},
     "output_type": "execute_result"
    }
   ],
   "source": [
    "sms = con.get_starting_materials_for_reaction((exp_nr, plate_nr, \"K7\"))\n",
    "sms"
   ]
  },
  {
   "cell_type": "code",
   "execution_count": 12,
   "id": "f086acfb-2780-4972-86e4-728354c224ab",
   "metadata": {},
   "outputs": [
    {
     "data": {
      "text/plain": [
       "159.00451664409"
      ]
     },
     "execution_count": 12,
     "metadata": {},
     "output_type": "execute_result"
    }
   ],
   "source": [
    "smiles_to_lcms_mass(sms[2])"
   ]
  },
  {
   "cell_type": "code",
   "execution_count": 13,
   "id": "d3e8580e-7953-464c-8793-79249f69a518",
   "metadata": {},
   "outputs": [
    {
     "data": {
      "text/plain": [
       "Index(['RT[min]', 'Area', 'I', 'S/N', 'max_m/z', 'FWHM[min]', 'Area%', 'Int%'], dtype='object')"
      ]
     },
     "execution_count": 13,
     "metadata": {},
     "output_type": "execute_result"
    }
   ],
   "source": [
    "unexplained_peaks.columns"
   ]
  },
  {
   "cell_type": "code",
   "execution_count": null,
   "id": "0dc206d5-c0ad-44d8-9e17-6161c9a6cb7a",
   "metadata": {},
   "outputs": [],
   "source": []
  }
 ],
 "metadata": {
  "kernelspec": {
   "display_name": "Python 3 (ipykernel)",
   "language": "python",
   "name": "python3"
  },
  "language_info": {
   "codemirror_mode": {
    "name": "ipython",
    "version": 3
   },
   "file_extension": ".py",
   "mimetype": "text/x-python",
   "name": "python",
   "nbconvert_exporter": "python",
   "pygments_lexer": "ipython3",
   "version": "3.11.3"
  }
 },
 "nbformat": 4,
 "nbformat_minor": 5
}
