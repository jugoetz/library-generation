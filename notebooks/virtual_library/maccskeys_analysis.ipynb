{
 "cells": [
  {
   "cell_type": "markdown",
   "id": "0",
   "metadata": {},
   "source": [
    "# MACCSKeys analysis"
   ]
  },
  {
   "cell_type": "code",
   "execution_count": null,
   "id": "1",
   "metadata": {},
   "outputs": [],
   "source": [
    "import random\n",
    "\n",
    "import numpy as np\n",
    "import pandas as pd\n",
    "import matplotlib.pyplot as plt\n",
    "from rdkit import Chem\n",
    "from rdkit.Chem import MACCSkeys, Draw"
   ]
  },
  {
   "cell_type": "code",
   "execution_count": null,
   "id": "2",
   "metadata": {},
   "outputs": [],
   "source": [
    "df = pd.read_csv(\"../data/dataS4_with_fps.csv.bz2\")\n",
    "df.head()"
   ]
  },
  {
   "cell_type": "code",
   "execution_count": null,
   "id": "3",
   "metadata": {},
   "outputs": [],
   "source": [
    "# get just the MACCSKeys fingerprints\n",
    "maccs = np.stack([np.array([int(s) for s in i]) for i in df[\"MACCSKeysFP\"]])\n",
    "maccs.shape"
   ]
  },
  {
   "cell_type": "code",
   "execution_count": null,
   "id": "4",
   "metadata": {},
   "outputs": [],
   "source": [
    "# how many of the 167 bits are turned on?\n",
    "np.max(maccs, axis=0).sum()"
   ]
  },
  {
   "cell_type": "code",
   "execution_count": null,
   "id": "5",
   "metadata": {},
   "outputs": [],
   "source": [
    "# is this the same if we just look at 50000 random compounds?\n",
    "random.seed(567)\n",
    "random_idx = random.sample(range(len(maccs)), 50000)\n",
    "np.max(maccs[random_idx], axis=0).sum()"
   ]
  },
  {
   "cell_type": "code",
   "execution_count": null,
   "id": "6",
   "metadata": {},
   "outputs": [],
   "source": [
    "# how often is each bit turned on?\n",
    "[f\"{i}: {ratio:.0%}\" for i, ratio in enumerate(np.sum(maccs, axis=0) / maccs.shape[0])]"
   ]
  },
  {
   "cell_type": "code",
   "execution_count": null,
   "id": "7",
   "metadata": {},
   "outputs": [],
   "source": [
    "plt.bar(list(range(maccs.shape[1])), np.sum(maccs, axis=0) / maccs.shape[0])"
   ]
  },
  {
   "cell_type": "code",
   "execution_count": null,
   "id": "8",
   "metadata": {},
   "outputs": [],
   "source": [
    "# can we get the structural rationales?\n",
    "# we obtain the SMARTSpatterns from rdkit...iirc, the first bit is always 0 and bits 125 and 166 have non-SMARTS definitions\n",
    "\n",
    "\n",
    "Draw.MolToImage(Chem.MolFromSmarts(MACCSkeys.smartsPatts[66][0]))"
   ]
  },
  {
   "cell_type": "code",
   "execution_count": null,
   "id": "9",
   "metadata": {},
   "outputs": [],
   "source": [
    "# compare this to chembl\n",
    "df_chembl = pd.read_csv(\"../data/chembl_34_50k-random_with_FP.csv\")\n",
    "df_chembl.head()"
   ]
  },
  {
   "cell_type": "code",
   "execution_count": null,
   "id": "10",
   "metadata": {},
   "outputs": [],
   "source": [
    "# get just the MACCSKeys fingerprints\n",
    "maccs_chembl = np.stack([np.array([int(s) for s in i]) for i in df_chembl[\"MACCSKeysFP\"]])\n",
    "maccs_chembl.shape"
   ]
  },
  {
   "cell_type": "code",
   "execution_count": null,
   "id": "11",
   "metadata": {},
   "outputs": [],
   "source": [
    "# how many of the 167 bits are turned on?\n",
    "np.max(maccs_chembl, axis=0).sum()"
   ]
  },
  {
   "cell_type": "code",
   "execution_count": null,
   "id": "12",
   "metadata": {},
   "outputs": [],
   "source": [
    "plt.bar(list(range(maccs_chembl.shape[1])), np.sum(maccs_chembl, axis=0) / maccs_chembl.shape[0])"
   ]
  },
  {
   "cell_type": "code",
   "execution_count": null,
   "id": "13",
   "metadata": {},
   "outputs": [],
   "source": [
    "plt.bar(list(range(maccs.shape[1])), np.sum(maccs, axis=0) / maccs.shape[0])\n",
    "plt.bar(list(range(maccs_chembl.shape[1])), np.sum(maccs_chembl, axis=0) / maccs_chembl.shape[0], color=\"red\")"
   ]
  },
  {
   "cell_type": "code",
   "execution_count": null,
   "id": "14",
   "metadata": {},
   "outputs": [],
   "source": [
    "# Calculate the mean values across rows for both datasets\n",
    "maccs_mean = np.mean(maccs[random_idx], axis=0)\n",
    "maccs_chembl_mean = np.mean(maccs_chembl, axis=0)\n",
    "\n",
    "# Define the number of bars and their positions with a slight offset\n",
    "bar_width = 0.4\n",
    "index = np.arange(maccs.shape[1])\n",
    "\n",
    "# Create the plot with a larger figure size for better presentation\n",
    "plt.figure(figsize=(6.75, 4))\n",
    "\n",
    "# Plot the bars with offset\n",
    "plt.bar(index - bar_width/2, maccs_mean, bar_width, label=\"MACCS\", color=\"#4b4c68\")\n",
    "plt.bar(index + bar_width/2, maccs_chembl_mean, bar_width, label=\"MACCS ChEMBL\", color=(175/256, 87/256, 38/256))\n",
    "\n",
    "# Add labels, title, and grid\n",
    "plt.xlabel('MACCSKeys index', fontsize=8)\n",
    "plt.ylabel('Mean', fontsize=8)\n",
    "\n",
    "# Customize tick labels\n",
    "plt.xticks(fontsize=6)\n",
    "plt.yticks(fontsize=6)\n",
    "\n",
    "# Add legend\n",
    "plt.legend([\"PRIME\", \"ChEMBL\"], fontsize=6)\n",
    "\n",
    "# Add gridlines for clarity\n",
    "plt.grid(axis='y', linestyle='--', alpha=0.7)\n",
    "\n",
    "# adjust xaxis\n",
    "plt.xlim(0, 167)\n",
    "\n",
    "# Adjust layout for better fit\n",
    "plt.tight_layout()\n",
    "\n",
    "# Show the plot\n",
    "plt.savefig(\"../results/2024-04-18/MACCSKeysAnalysis.svg\", transparent=True)"
   ]
  },
  {
   "cell_type": "code",
   "execution_count": null,
   "id": "15",
   "metadata": {},
   "outputs": [],
   "source": [
    "# Update the Matplotlib rcParams with your specific settings\n",
    "plt.rcParams.update({\n",
    "    # Settings equivalent to Seaborn theme\n",
    "    \"savefig.transparent\": True,   # Transparent background for saving figures\n",
    "    \"axes.grid\": False,            # No grid on axes\n",
    "    \"axes.spines.bottom\": True,    # Show bottom spine\n",
    "    \"axes.spines.left\": False,     # Hide left spine\n",
    "    \"axes.spines.right\": False,    # Hide right spine\n",
    "    \"axes.spines.top\": False,      # Hide top spine\n",
    "\n",
    "    # Font settings\n",
    "    \"font.size\": 6,                # Font size for the entire figure\n",
    "    \"font.family\": 'sans-serif',\n",
    "    \"font.sans-serif\": [\"Helvetica\", \"Arial\"],\n",
    "    \"text.color\": 'black',         # Set default text color to black\n",
    "\n",
    "    # Tick settings\n",
    "    \"xtick.major.pad\": 0.0,        # Padding for major x-ticks\n",
    "    \"xtick.minor.pad\": 0.0,        # Padding for minor x-ticks\n",
    "    \"ytick.major.pad\": 0.0,        # Padding for major y-ticks\n",
    "    \"ytick.minor.pad\": 0.0,        # Padding for minor y-ticks\n",
    "\n",
    "    # Axis label settings\n",
    "    \"axes.labelweight\": \"bold\",    # Bold axis labels\n",
    "    \"axes.labelpad\": 2.5,          # Padding between axis and label\n",
    "    \"axes.xmargin\": 0.05,          # Margin on the x-axis\n",
    "\n",
    "    # Additional settings\n",
    "    'axes.labelsize': 6,           # Size for axis labels\n",
    "    'axes.titlesize': 6,           # Size for plot titles\n",
    "    'xtick.labelsize': 6,          # Size for x-axis tick labels\n",
    "    'ytick.labelsize': 6,          # Size for y-axis tick labels\n",
    "    'legend.fontsize': 6,          # Font size for the legend\n",
    "    'svg.fonttype': 'none',        # Necessary to have editable text in SVGs\n",
    "    'axes.labelcolor': 'black',    # Color of axis labels\n",
    "    'xtick.color': 'black',        # Color of x-axis tick labels\n",
    "    'ytick.color': 'black',        # Color of y-axis tick labels\n",
    "})\n",
    "\n",
    "# You can reset or customize additional figure or plot properties as needed\n",
    "\n",
    "# To reset or customize additional figure or plot properties, you can use:\n",
    "#plt.style.use('default') # Alternatively, 'white' or 'classic' styles can be customized"
   ]
  },
  {
   "cell_type": "code",
   "execution_count": null,
   "id": "16",
   "metadata": {},
   "outputs": [],
   "source": [
    "# where are the biggest deviations?\n",
    "np.where(np.abs(np.mean(maccs, axis=0) - np.mean(maccs_chembl, axis=0)) > 0.5)"
   ]
  },
  {
   "cell_type": "code",
   "execution_count": null,
   "id": "17",
   "metadata": {},
   "outputs": [],
   "source": [
    "Draw.MolToImage(Chem.MolFromSmarts(MACCSkeys.smartsPatts[88][0]))"
   ]
  },
  {
   "cell_type": "markdown",
   "id": "18",
   "metadata": {},
   "source": [
    "The biggest absolute differences are on bits that are \"always on\" for synferm, \n",
    "e.g. \n",
    "- bit 36 (sulfur in a ring)\n",
    "- bit 47 (sulfur and nitrogen connected to the same atom)\n",
    "- bit 81 (sulfur connected to an atom with two other substituents)\n",
    "- bit 88 (sulfur)\n",
    "\n",
    "it is not very informative to look a these bits that are always on for synferm compounds b/c the substructure is contained in the backbone. We remove all bits that are always on for synferm and repeat the analysis"
   ]
  },
  {
   "cell_type": "code",
   "execution_count": null,
   "id": "19",
   "metadata": {},
   "outputs": [],
   "source": [
    "mask = np.where(np.mean(maccs, axis=0) != 1)[0]\n",
    "mask"
   ]
  },
  {
   "cell_type": "code",
   "execution_count": null,
   "id": "20",
   "metadata": {},
   "outputs": [],
   "source": [
    "mask[np.where(np.mean(maccs, axis=0)[mask] - np.mean(maccs_chembl, axis=0)[mask] > 0.3)]"
   ]
  },
  {
   "cell_type": "code",
   "execution_count": null,
   "id": "21",
   "metadata": {},
   "outputs": [],
   "source": [
    "np.where(np.abs(np.mean(maccs, axis=0) - np.mean(maccs_chembl, axis=0)) > 0.5)"
   ]
  },
  {
   "cell_type": "code",
   "execution_count": null,
   "id": "22",
   "metadata": {},
   "outputs": [],
   "source": [
    "Draw.MolToImage(Chem.MolFromSmarts(MACCSkeys.smartsPatts[52][0]))"
   ]
  },
  {
   "cell_type": "markdown",
   "id": "23",
   "metadata": {},
   "source": [
    "Not looking at the \"always on\" bits, the biggest other differences are:\n",
    "e.g. \n",
    "- bit 52 (a nitrogen-nitrogen bond); overrepresented in PRIME\n",
    "- bit 77 (two nitrogens connected to the same atom); underrepresented in PRIME\n",
    "- bit 104 (a complex pattern involving a hydrogen-carrying heteroatom with a methylene group in the beta position); overrepresented in PRIME\n",
    "- bit 135 (nitrogen substituent on an aromatic ring); underrepresented in PRIME\n"
   ]
  },
  {
   "cell_type": "code",
   "execution_count": null,
   "id": "24",
   "metadata": {},
   "outputs": [],
   "source": [
    "# how many bits are withine 10% deviation?\n",
    "np.where(np.mean(maccs, axis=0) - np.mean(maccs_chembl, axis=0) < 0.1)[0].shape"
   ]
  }
 ],
 "metadata": {
  "kernelspec": {
   "display_name": "Python 3 (ipykernel)",
   "language": "python",
   "name": "python3"
  },
  "language_info": {
   "codemirror_mode": {
    "name": "ipython",
    "version": 3
   },
   "file_extension": ".py",
   "mimetype": "text/x-python",
   "name": "python",
   "nbconvert_exporter": "python",
   "pygments_lexer": "ipython3",
   "version": "3.9.7"
  }
 },
 "nbformat": 4,
 "nbformat_minor": 5
}
