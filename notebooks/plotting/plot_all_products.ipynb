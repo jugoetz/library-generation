{
 "cells": [
  {
   "cell_type": "markdown",
   "id": "dcebca50",
   "metadata": {},
   "source": [
    "# Plot all products\n",
    "\n",
    "Plot all products from the cleaned 50k data set for use with the interactive heatmap"
   ]
  },
  {
   "cell_type": "code",
   "execution_count": 2,
   "id": "f1799e37",
   "metadata": {},
   "outputs": [],
   "source": [
    "import pathlib\n",
    "import re\n",
    "import sys\n",
    "from io import StringIO\n",
    "from IPython.display import display, SVG\n",
    "\n",
    "import numpy as np\n",
    "import pandas as pd\n",
    "from rdkit import Chem\n",
    "from rdkit.Chem import Draw, AllChem\n",
    "from rdkit.Chem.Draw import rdMolDraw2D\n",
    "\n",
    "sys.path.append(str(pathlib.Path().resolve().parents[1]))\n",
    "from src.util.db_utils import SynFermDatabaseConnection\n",
    "from src.util.color_palette import BodeColorPalette"
   ]
  },
  {
   "cell_type": "code",
   "execution_count": 3,
   "id": "d93ad5a1",
   "metadata": {},
   "outputs": [],
   "source": [
    "# connect to DB\n",
    "con = SynFermDatabaseConnection()"
   ]
  },
  {
   "cell_type": "code",
   "execution_count": 4,
   "id": "5ad4c73b",
   "metadata": {},
   "outputs": [],
   "source": [
    "res = con.con.execute('SELECT e.id, r.I_long, r.M_long, r.T_long, r.product_A_smiles, r.reaction_smiles, l.binary_A, l.binary_B, l.binary_C, l.binary_D, l.binary_E, l.binary_F, l.binary_G, l.binary_H, l.scaled_A, l.scaled_B, l.scaled_C, l.scaled_D, l.scaled_E, l.scaled_F, l.scaled_G, l.scaled_H, l.\"major_A-C\" FROM experiments e LEFT JOIN representations r on e.id = r.experiment_id INNER JOIN labels l on e.id = l.experiment_id;').fetchall()\n",
    "\n",
    "columns = [\n",
    "    \"experiment_id\", \n",
    "    \"I_long\", \n",
    "    \"M_long\", \n",
    "    \"T_long\", \n",
    "    \"product_A_smiles\", \n",
    "    \"reaction_smiles\", \n",
    "    \"binary_A\", \n",
    "    \"binary_B\", \n",
    "    \"binary_C\", \n",
    "    \"binary_D\", \n",
    "    \"binary_E\", \n",
    "    \"binary_F\", \n",
    "    \"binary_G\", \n",
    "    \"binary_H\", \n",
    "    \"scaled_A\", \n",
    "    \"scaled_B\", \n",
    "    \"scaled_C\", \n",
    "    \"scaled_D\", \n",
    "    \"scaled_E\", \n",
    "    \"scaled_F\", \n",
    "    \"scaled_G\", \n",
    "    \"scaled_H\", \n",
    "    \"major_A-C\",\n",
    "]\n",
    "df = pd.DataFrame(res, columns=columns)"
   ]
  },
  {
   "cell_type": "code",
   "execution_count": 5,
   "id": "cc0e7cf7",
   "metadata": {},
   "outputs": [
    {
     "data": {
      "text/html": [
       "<div>\n",
       "<style scoped>\n",
       "    .dataframe tbody tr th:only-of-type {\n",
       "        vertical-align: middle;\n",
       "    }\n",
       "\n",
       "    .dataframe tbody tr th {\n",
       "        vertical-align: top;\n",
       "    }\n",
       "\n",
       "    .dataframe thead th {\n",
       "        text-align: right;\n",
       "    }\n",
       "</style>\n",
       "<table border=\"1\" class=\"dataframe\">\n",
       "  <thead>\n",
       "    <tr style=\"text-align: right;\">\n",
       "      <th></th>\n",
       "      <th>experiment_id</th>\n",
       "      <th>I_long</th>\n",
       "      <th>M_long</th>\n",
       "      <th>T_long</th>\n",
       "      <th>product_A_smiles</th>\n",
       "      <th>reaction_smiles</th>\n",
       "      <th>binary_A</th>\n",
       "      <th>binary_B</th>\n",
       "      <th>binary_C</th>\n",
       "      <th>binary_D</th>\n",
       "      <th>...</th>\n",
       "      <th>binary_H</th>\n",
       "      <th>scaled_A</th>\n",
       "      <th>scaled_B</th>\n",
       "      <th>scaled_C</th>\n",
       "      <th>scaled_D</th>\n",
       "      <th>scaled_E</th>\n",
       "      <th>scaled_F</th>\n",
       "      <th>scaled_G</th>\n",
       "      <th>scaled_H</th>\n",
       "      <th>major_A-C</th>\n",
       "    </tr>\n",
       "  </thead>\n",
       "  <tbody>\n",
       "    <tr>\n",
       "      <th>0</th>\n",
       "      <td>10578</td>\n",
       "      <td>Ph023</td>\n",
       "      <td>Mon017</td>\n",
       "      <td>TerTH010</td>\n",
       "      <td>CC(C)(C)OC(=O)CC[C@@H](Cc1nnc(C=Cc2ccccc2)s1)N...</td>\n",
       "      <td>O=C(c1ccc(Cl)cc1)[B-](F)(F)F.CC(C)(C)OC(=O)CC[...</td>\n",
       "      <td>1</td>\n",
       "      <td>1</td>\n",
       "      <td>1</td>\n",
       "      <td>0</td>\n",
       "      <td>...</td>\n",
       "      <td>1.0</td>\n",
       "      <td>2.430935</td>\n",
       "      <td>1.277949</td>\n",
       "      <td>0.285254</td>\n",
       "      <td>0.000000</td>\n",
       "      <td>0.413053</td>\n",
       "      <td>0.232611</td>\n",
       "      <td>5.452566</td>\n",
       "      <td>0.290557</td>\n",
       "      <td>A</td>\n",
       "    </tr>\n",
       "    <tr>\n",
       "      <th>1</th>\n",
       "      <td>10579</td>\n",
       "      <td>Ph023</td>\n",
       "      <td>Mon017</td>\n",
       "      <td>TerTH026</td>\n",
       "      <td>CC(C)(C)OC(=O)CC[C@@H](Cc1nnc(-c2cn[nH]c2)s1)N...</td>\n",
       "      <td>O=C(c1ccc(Cl)cc1)[B-](F)(F)F.CC(C)(C)OC(=O)CC[...</td>\n",
       "      <td>1</td>\n",
       "      <td>1</td>\n",
       "      <td>1</td>\n",
       "      <td>0</td>\n",
       "      <td>...</td>\n",
       "      <td>0.0</td>\n",
       "      <td>0.382317</td>\n",
       "      <td>0.926318</td>\n",
       "      <td>0.240020</td>\n",
       "      <td>0.000000</td>\n",
       "      <td>0.064906</td>\n",
       "      <td>0.339427</td>\n",
       "      <td>5.693844</td>\n",
       "      <td>0.000000</td>\n",
       "      <td>B</td>\n",
       "    </tr>\n",
       "    <tr>\n",
       "      <th>2</th>\n",
       "      <td>10580</td>\n",
       "      <td>Ph023</td>\n",
       "      <td>Mon017</td>\n",
       "      <td>TerTH015</td>\n",
       "      <td>CC(C)(C)OC(=O)CC[C@@H](Cc1nnc(-c2cc(Cl)cc(Cl)c...</td>\n",
       "      <td>O=C(c1ccc(Cl)cc1)[B-](F)(F)F.CC(C)(C)OC(=O)CC[...</td>\n",
       "      <td>1</td>\n",
       "      <td>1</td>\n",
       "      <td>1</td>\n",
       "      <td>0</td>\n",
       "      <td>...</td>\n",
       "      <td>0.0</td>\n",
       "      <td>0.931135</td>\n",
       "      <td>0.867479</td>\n",
       "      <td>0.042005</td>\n",
       "      <td>0.000000</td>\n",
       "      <td>0.000000</td>\n",
       "      <td>0.291865</td>\n",
       "      <td>5.596290</td>\n",
       "      <td>0.000000</td>\n",
       "      <td>A</td>\n",
       "    </tr>\n",
       "    <tr>\n",
       "      <th>3</th>\n",
       "      <td>10581</td>\n",
       "      <td>Ph023</td>\n",
       "      <td>Mon017</td>\n",
       "      <td>TerTH020</td>\n",
       "      <td>CN(C)c1cccc(-c2nnc(C[C@H](CCC(=O)OC(C)(C)C)NC(...</td>\n",
       "      <td>O=C(c1ccc(Cl)cc1)[B-](F)(F)F.CC(C)(C)OC(=O)CC[...</td>\n",
       "      <td>1</td>\n",
       "      <td>1</td>\n",
       "      <td>1</td>\n",
       "      <td>1</td>\n",
       "      <td>...</td>\n",
       "      <td>1.0</td>\n",
       "      <td>2.138999</td>\n",
       "      <td>2.543982</td>\n",
       "      <td>0.074154</td>\n",
       "      <td>0.000830</td>\n",
       "      <td>0.283941</td>\n",
       "      <td>0.321137</td>\n",
       "      <td>6.585098</td>\n",
       "      <td>0.213757</td>\n",
       "      <td>B</td>\n",
       "    </tr>\n",
       "    <tr>\n",
       "      <th>4</th>\n",
       "      <td>10584</td>\n",
       "      <td>Ph023</td>\n",
       "      <td>Mon017</td>\n",
       "      <td>TerABT001</td>\n",
       "      <td>CC(C)(C)OC(=O)CC[C@@H](Cc1nc2ccccc2s1)NC(=O)c1...</td>\n",
       "      <td>O=C(c1ccc(Cl)cc1)[B-](F)(F)F.CC(C)(C)OC(=O)CC[...</td>\n",
       "      <td>1</td>\n",
       "      <td>1</td>\n",
       "      <td>0</td>\n",
       "      <td>1</td>\n",
       "      <td>...</td>\n",
       "      <td>1.0</td>\n",
       "      <td>2.400752</td>\n",
       "      <td>0.011716</td>\n",
       "      <td>0.000000</td>\n",
       "      <td>0.001561</td>\n",
       "      <td>0.209155</td>\n",
       "      <td>1.204209</td>\n",
       "      <td>7.226035</td>\n",
       "      <td>0.811754</td>\n",
       "      <td>A</td>\n",
       "    </tr>\n",
       "  </tbody>\n",
       "</table>\n",
       "<p>5 rows × 23 columns</p>\n",
       "</div>"
      ],
      "text/plain": [
       "   experiment_id I_long  M_long     T_long  \\\n",
       "0          10578  Ph023  Mon017   TerTH010   \n",
       "1          10579  Ph023  Mon017   TerTH026   \n",
       "2          10580  Ph023  Mon017   TerTH015   \n",
       "3          10581  Ph023  Mon017   TerTH020   \n",
       "4          10584  Ph023  Mon017  TerABT001   \n",
       "\n",
       "                                    product_A_smiles  \\\n",
       "0  CC(C)(C)OC(=O)CC[C@@H](Cc1nnc(C=Cc2ccccc2)s1)N...   \n",
       "1  CC(C)(C)OC(=O)CC[C@@H](Cc1nnc(-c2cn[nH]c2)s1)N...   \n",
       "2  CC(C)(C)OC(=O)CC[C@@H](Cc1nnc(-c2cc(Cl)cc(Cl)c...   \n",
       "3  CN(C)c1cccc(-c2nnc(C[C@H](CCC(=O)OC(C)(C)C)NC(...   \n",
       "4  CC(C)(C)OC(=O)CC[C@@H](Cc1nc2ccccc2s1)NC(=O)c1...   \n",
       "\n",
       "                                     reaction_smiles  binary_A  binary_B  \\\n",
       "0  O=C(c1ccc(Cl)cc1)[B-](F)(F)F.CC(C)(C)OC(=O)CC[...         1         1   \n",
       "1  O=C(c1ccc(Cl)cc1)[B-](F)(F)F.CC(C)(C)OC(=O)CC[...         1         1   \n",
       "2  O=C(c1ccc(Cl)cc1)[B-](F)(F)F.CC(C)(C)OC(=O)CC[...         1         1   \n",
       "3  O=C(c1ccc(Cl)cc1)[B-](F)(F)F.CC(C)(C)OC(=O)CC[...         1         1   \n",
       "4  O=C(c1ccc(Cl)cc1)[B-](F)(F)F.CC(C)(C)OC(=O)CC[...         1         1   \n",
       "\n",
       "   binary_C  binary_D  ...  binary_H  scaled_A  scaled_B  scaled_C  scaled_D  \\\n",
       "0         1         0  ...       1.0  2.430935  1.277949  0.285254  0.000000   \n",
       "1         1         0  ...       0.0  0.382317  0.926318  0.240020  0.000000   \n",
       "2         1         0  ...       0.0  0.931135  0.867479  0.042005  0.000000   \n",
       "3         1         1  ...       1.0  2.138999  2.543982  0.074154  0.000830   \n",
       "4         0         1  ...       1.0  2.400752  0.011716  0.000000  0.001561   \n",
       "\n",
       "   scaled_E  scaled_F  scaled_G  scaled_H  major_A-C  \n",
       "0  0.413053  0.232611  5.452566  0.290557          A  \n",
       "1  0.064906  0.339427  5.693844  0.000000          B  \n",
       "2  0.000000  0.291865  5.596290  0.000000          A  \n",
       "3  0.283941  0.321137  6.585098  0.213757          B  \n",
       "4  0.209155  1.204209  7.226035  0.811754          A  \n",
       "\n",
       "[5 rows x 23 columns]"
      ]
     },
     "execution_count": 5,
     "metadata": {},
     "output_type": "execute_result"
    }
   ],
   "source": [
    "df.head()"
   ]
  },
  {
   "cell_type": "code",
   "execution_count": 54,
   "id": "7471c924",
   "metadata": {},
   "outputs": [
    {
     "data": {
      "image/png": "[encoded data removed]",
      "text/plain": [
       "<rdkit.Chem.rdchem.RWMol at 0x13f5bd770>"
      ]
     },
     "execution_count": 54,
     "metadata": {},
     "output_type": "execute_result"
    }
   ],
   "source": [
    "template = Chem.RWMol(Chem.MolFromSmarts(\"[#6]-C(=O)-[NH1]-C(-[*])-C(-[*])-c1:n:[n,c]:c:s:1\"))\n",
    "\n",
    "AllChem.Compute2DCoords(template, canonOrient=False, sampleSeed=50, nSample=200)\n",
    "template"
   ]
  },
  {
   "cell_type": "code",
   "execution_count": 59,
   "id": "3c11c955",
   "metadata": {},
   "outputs": [
    {
     "data": {
      "image/png": "[encoded data removed]",
      "text/plain": [
       "<rdkit.Chem.rdchem.RWMol at 0x14b510630>"
      ]
     },
     "execution_count": 59,
     "metadata": {},
     "output_type": "execute_result"
    }
   ],
   "source": [
    "# n.b. we use the SE-ethers to get a nice orientation for the molecule\n",
    "template = Chem.RWMol(Chem.MolFromSmarts(\"[#6]-C(=O)-[NH1]-C(-[Se]1)-C(-[Se]-C-C-1)-c1:n:[n,c]:c:s:1\"))\n",
    "\n",
    "AllChem.Compute2DCoords(template, canonOrient=True, sampleSeed=0, nSample=1)\n",
    "template"
   ]
  },
  {
   "cell_type": "code",
   "execution_count": 60,
   "id": "f51ac1de",
   "metadata": {},
   "outputs": [
    {
     "name": "stdout",
     "output_type": "stream",
     "text": [
      "0 C\n",
      "1 C\n",
      "2 O\n",
      "3 N\n",
      "4 C\n",
      "5 Se\n",
      "6 C\n",
      "7 Se\n",
      "8 C\n",
      "9 C\n",
      "10 C\n",
      "11 N\n",
      "12 *\n",
      "13 C\n",
      "14 S\n"
     ]
    }
   ],
   "source": [
    "for atom in template.GetAtoms():\n",
    "    print(atom.GetIdx(), atom.GetSymbol())"
   ]
  },
  {
   "cell_type": "code",
   "execution_count": 61,
   "id": "14f7676c",
   "metadata": {},
   "outputs": [],
   "source": [
    "# delete the placeholder atoms\n",
    "template.RemoveAtom(9)\n",
    "template.RemoveAtom(8)\n",
    "template.RemoveAtom(7)\n",
    "template.RemoveAtom(5)"
   ]
  },
  {
   "cell_type": "code",
   "execution_count": 62,
   "id": "2e744004",
   "metadata": {},
   "outputs": [
    {
     "data": {
      "image/png": "[encoded data removed]",
      "text/plain": [
       "<rdkit.Chem.rdchem.RWMol at 0x14b510630>"
      ]
     },
     "execution_count": 62,
     "metadata": {},
     "output_type": "execute_result"
    }
   ],
   "source": [
    "template"
   ]
  },
  {
   "cell_type": "code",
   "execution_count": 63,
   "id": "01c74c72",
   "metadata": {},
   "outputs": [],
   "source": [
    "for i, row in df.iterrows():\n",
    "    m = Chem.MolFromSmiles(row[\"product_A_smiles\"])\n",
    "    _ = AllChem.GenerateDepictionMatching2DStructure(m, template, allowRGroups=True)\n",
    "\n",
    "    d = rdMolDraw2D.MolDraw2DSVG(300, 300)\n",
    "    d.DrawMolecule(m)\n",
    "    d.FinishDrawing()\n",
    "    with open(f\"product_images/{row['I_long']}_{row['M_long']}_{row['T_long']}.svg\", \"w\") as f:\n",
    "        f.write(re.sub('<rect.*</rect>\\n', '', d.GetDrawingText()))  # remove background with regex"
   ]
  },
  {
   "cell_type": "code",
   "execution_count": null,
   "id": "c5e26405",
   "metadata": {},
   "outputs": [],
   "source": []
  }
 ],
 "metadata": {
  "kernelspec": {
   "display_name": "Python 3 (ipykernel)",
   "language": "python",
   "name": "python3"
  },
  "language_info": {
   "codemirror_mode": {
    "name": "ipython",
    "version": 3
   },
   "file_extension": ".py",
   "mimetype": "text/x-python",
   "name": "python",
   "nbconvert_exporter": "python",
   "pygments_lexer": "ipython3",
   "version": "3.9.7"
  }
 },
 "nbformat": 4,
 "nbformat_minor": 5
}
