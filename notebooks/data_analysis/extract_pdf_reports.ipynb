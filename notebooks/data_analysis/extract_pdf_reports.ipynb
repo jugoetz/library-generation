{
 "cells": [
  {
   "cell_type": "markdown",
   "id": "261b6b1e-9b30-4a3f-9684-190bbbd48df0",
   "metadata": {},
   "source": [
    "# Extract MoBiAS PDF reports\n",
    "\n",
    "The PDF reports are a great source of additional information as they contain data for peaks that may not have been assigned to any known product.\n",
    "Mining these reports is much faster than reprocessing of the raw LCMS data.\n",
    "\n",
    "Here, we are in particular interested to identify\n",
    "1. leftover starting materials\n",
    "2. systematic side products that we have not been previously looking for\n"
   ]
  },
  {
   "cell_type": "code",
   "execution_count": 1,
   "id": "5414c150-132b-4c8d-989f-f84b6f1cb3f7",
   "metadata": {},
   "outputs": [],
   "source": [
    "import sys\n",
    "import pathlib\n",
    "import re\n",
    "from datetime import datetime\n",
    "\n",
    "sys.path.insert(0, str(pathlib.Path().resolve().parents[1]))\n",
    "\n",
    "from pypdf import PdfReader\n",
    "import pandas as pd\n",
    "import numpy as np\n",
    "\n",
    "from src.util.db_utils import SynFermDatabaseConnection\n",
    "from src.definitions import DATA_DIR, PLATE_LIST_PATH\n",
    "from src.util.rdkit_util import smiles_to_lcms_mass"
   ]
  },
  {
   "cell_type": "markdown",
   "id": "9f737ec6-a3cf-45da-951f-34987a5335b8",
   "metadata": {},
   "source": [
    "## Extract PDF data"
   ]
  },
  {
   "cell_type": "code",
   "execution_count": 2,
   "id": "42e6e3fb-fa8c-4133-b15e-9e32e554d23b",
   "metadata": {},
   "outputs": [],
   "source": [
    "con = SynFermDatabaseConnection()"
   ]
  },
  {
   "cell_type": "code",
   "execution_count": 15,
   "id": "e225f6ff-be47-47f0-bcba-7f9db2bc0ea2",
   "metadata": {
    "editable": true,
    "slideshow": {
     "slide_type": ""
    },
    "tags": []
   },
   "outputs": [],
   "source": [
    "def import_lcms_full_report(path):\n",
    "    # set up pdf reader\n",
    "    reader = PdfReader(path)\n",
    "    number_of_pages = len(reader.pages)\n",
    "    lines = []\n",
    "    found_data = False\n",
    "    # iterate from second page until entire peak summary table is read completely\n",
    "    for i in range(1, number_of_pages):\n",
    "        page = reader.pages[i]\n",
    "        text = page.extract_text()\n",
    "        line_list = text.splitlines()\n",
    "        if (line_list[0] != '# RT [min] Area I S/N Max. m/z FWHM [min] Area % Int. %') and found_data:  # stop when not encountering another data header\n",
    "            break\n",
    "        else:\n",
    "            found_data = True\n",
    "        lines += line_list\n",
    "    \n",
    "    if len(lines) == 0:\n",
    "        raise RuntimeError(\"No data extracted\")\n",
    "        \n",
    "    # remove spaces in header\n",
    "    cleaned_lines = ['# RT[min] Area I S/N max_m/z FWHM[min] Area% Int%',]\n",
    "    # remove footers and data headers on not-first page\n",
    "    cleaned_lines += [line for line in lines if line[0].isnumeric()] \n",
    "\n",
    "    # split the lines into individual fields\n",
    "    data = [line.split() for line in cleaned_lines]\n",
    "    \n",
    "    # assemble DataFrame from data\n",
    "    df = pd.DataFrame(data[1:], columns=data[0]).astype(\"float\")\n",
    "\n",
    "    return df"
   ]
  },
  {
   "cell_type": "code",
   "execution_count": 19,
   "id": "ac2cca20-6f31-40b0-8469-900526543a3b",
   "metadata": {},
   "outputs": [
    {
     "name": "stdout",
     "output_type": "stream",
     "text": [
      "exp 1-1, started 16:03:54\n",
      "exp 1-2, started 16:04:13\n",
      "exp 1-3, started 16:04:32\n",
      "exp 1-4, started 16:04:50\n",
      "exp 1-5, started 16:05:10\n",
      "exp 1-6, started 16:05:31\n"
     ]
    },
    {
     "ename": "KeyboardInterrupt",
     "evalue": "",
     "output_type": "error",
     "traceback": [
      "\u001b[0;31m---------------------------------------------------------------------------\u001b[0m",
      "\u001b[0;31mKeyboardInterrupt\u001b[0m                         Traceback (most recent call last)",
      "Cell \u001b[0;32mIn[19], line 25\u001b[0m\n\u001b[1;32m     23\u001b[0m well \u001b[38;5;241m=\u001b[39m \u001b[38;5;124m\"\u001b[39m\u001b[38;5;124m\"\u001b[39m\u001b[38;5;241m.\u001b[39mjoin(match\u001b[38;5;241m.\u001b[39mgroup()\u001b[38;5;241m.\u001b[39mstrip(\u001b[38;5;124m\"\u001b[39m\u001b[38;5;124m_\u001b[39m\u001b[38;5;124m\"\u001b[39m)\u001b[38;5;241m.\u001b[39msplit(\u001b[38;5;124m\"\u001b[39m\u001b[38;5;124m-\u001b[39m\u001b[38;5;124m\"\u001b[39m)[\u001b[38;5;241m1\u001b[39m:])\n\u001b[1;32m     24\u001b[0m reaction_id \u001b[38;5;241m=\u001b[39m con\u001b[38;5;241m.\u001b[39mget_reaction_id((exp_nr, plate_nr, well))\n\u001b[0;32m---> 25\u001b[0m df \u001b[38;5;241m=\u001b[39m \u001b[43mimport_lcms_full_report\u001b[49m\u001b[43m(\u001b[49m\u001b[43mpath\u001b[49m\u001b[43m)\u001b[49m\n\u001b[1;32m     26\u001b[0m \u001b[38;5;66;03m# we persist this to the database for re-use\u001b[39;00m\n\u001b[1;32m     27\u001b[0m \u001b[38;5;66;03m# first reformat df to fit DB\u001b[39;00m\n\u001b[1;32m     28\u001b[0m df\u001b[38;5;241m.\u001b[39minsert(\u001b[38;5;241m0\u001b[39m, \u001b[38;5;124m\"\u001b[39m\u001b[38;5;124mreaction_id\u001b[39m\u001b[38;5;124m\"\u001b[39m, reaction_id)\n",
      "Cell \u001b[0;32mIn[15], line 4\u001b[0m, in \u001b[0;36mimport_lcms_full_report\u001b[0;34m(path)\u001b[0m\n\u001b[1;32m      1\u001b[0m \u001b[38;5;28;01mdef\u001b[39;00m \u001b[38;5;21mimport_lcms_full_report\u001b[39m(path):\n\u001b[1;32m      2\u001b[0m     \u001b[38;5;66;03m# set up pdf reader\u001b[39;00m\n\u001b[1;32m      3\u001b[0m     reader \u001b[38;5;241m=\u001b[39m PdfReader(path)\n\u001b[0;32m----> 4\u001b[0m     number_of_pages \u001b[38;5;241m=\u001b[39m \u001b[38;5;28;43mlen\u001b[39;49m\u001b[43m(\u001b[49m\u001b[43mreader\u001b[49m\u001b[38;5;241;43m.\u001b[39;49m\u001b[43mpages\u001b[49m\u001b[43m)\u001b[49m\n\u001b[1;32m      5\u001b[0m     lines \u001b[38;5;241m=\u001b[39m []\n\u001b[1;32m      6\u001b[0m     found_data \u001b[38;5;241m=\u001b[39m \u001b[38;5;28;01mFalse\u001b[39;00m\n",
      "File \u001b[0;32m~/.pyenv/versions/anaconda3-2020.07/envs/library-generation/lib/python3.9/site-packages/pypdf/_page.py:2169\u001b[0m, in \u001b[0;36m_VirtualList.__len__\u001b[0;34m(self)\u001b[0m\n\u001b[1;32m   2168\u001b[0m \u001b[38;5;28;01mdef\u001b[39;00m \u001b[38;5;21m__len__\u001b[39m(\u001b[38;5;28mself\u001b[39m) \u001b[38;5;241m-\u001b[39m\u001b[38;5;241m>\u001b[39m \u001b[38;5;28mint\u001b[39m:\n\u001b[0;32m-> 2169\u001b[0m     \u001b[38;5;28;01mreturn\u001b[39;00m \u001b[38;5;28;43mself\u001b[39;49m\u001b[38;5;241;43m.\u001b[39;49m\u001b[43mlength_function\u001b[49m\u001b[43m(\u001b[49m\u001b[43m)\u001b[49m\n",
      "File \u001b[0;32m~/.pyenv/versions/anaconda3-2020.07/envs/library-generation/lib/python3.9/site-packages/pypdf/_reader.py:452\u001b[0m, in \u001b[0;36mPdfReader._get_num_pages\u001b[0;34m(self)\u001b[0m\n\u001b[1;32m    450\u001b[0m \u001b[38;5;28;01melse\u001b[39;00m:\n\u001b[1;32m    451\u001b[0m     \u001b[38;5;28;01mif\u001b[39;00m \u001b[38;5;28mself\u001b[39m\u001b[38;5;241m.\u001b[39mflattened_pages \u001b[38;5;129;01mis\u001b[39;00m \u001b[38;5;28;01mNone\u001b[39;00m:\n\u001b[0;32m--> 452\u001b[0m         \u001b[38;5;28;43mself\u001b[39;49m\u001b[38;5;241;43m.\u001b[39;49m\u001b[43m_flatten\u001b[49m\u001b[43m(\u001b[49m\u001b[43m)\u001b[49m\n\u001b[1;32m    453\u001b[0m     \u001b[38;5;28;01mreturn\u001b[39;00m \u001b[38;5;28mlen\u001b[39m(\u001b[38;5;28mself\u001b[39m\u001b[38;5;241m.\u001b[39mflattened_pages)\n",
      "File \u001b[0;32m~/.pyenv/versions/anaconda3-2020.07/envs/library-generation/lib/python3.9/site-packages/pypdf/_reader.py:1206\u001b[0m, in \u001b[0;36mPdfReader._flatten\u001b[0;34m(self, pages, inherit, indirect_reference)\u001b[0m\n\u001b[1;32m   1204\u001b[0m         \u001b[38;5;28;01mif\u001b[39;00m \u001b[38;5;28misinstance\u001b[39m(page, IndirectObject):\n\u001b[1;32m   1205\u001b[0m             addt[\u001b[38;5;124m\"\u001b[39m\u001b[38;5;124mindirect_reference\u001b[39m\u001b[38;5;124m\"\u001b[39m] \u001b[38;5;241m=\u001b[39m page\n\u001b[0;32m-> 1206\u001b[0m         \u001b[38;5;28mself\u001b[39m\u001b[38;5;241m.\u001b[39m_flatten(\u001b[43mpage\u001b[49m\u001b[38;5;241;43m.\u001b[39;49m\u001b[43mget_object\u001b[49m\u001b[43m(\u001b[49m\u001b[43m)\u001b[49m, inherit, \u001b[38;5;241m*\u001b[39m\u001b[38;5;241m*\u001b[39maddt)\n\u001b[1;32m   1207\u001b[0m \u001b[38;5;28;01melif\u001b[39;00m t \u001b[38;5;241m==\u001b[39m \u001b[38;5;124m\"\u001b[39m\u001b[38;5;124m/Page\u001b[39m\u001b[38;5;124m\"\u001b[39m:\n\u001b[1;32m   1208\u001b[0m     \u001b[38;5;28;01mfor\u001b[39;00m attr_in, value \u001b[38;5;129;01min\u001b[39;00m \u001b[38;5;28mlist\u001b[39m(inherit\u001b[38;5;241m.\u001b[39mitems()):\n\u001b[1;32m   1209\u001b[0m         \u001b[38;5;66;03m# if the page has it's own value, it does not inherit the\u001b[39;00m\n\u001b[1;32m   1210\u001b[0m         \u001b[38;5;66;03m# parent's value:\u001b[39;00m\n",
      "File \u001b[0;32m~/.pyenv/versions/anaconda3-2020.07/envs/library-generation/lib/python3.9/site-packages/pypdf/generic/_base.py:293\u001b[0m, in \u001b[0;36mIndirectObject.get_object\u001b[0;34m(self)\u001b[0m\n\u001b[1;32m    292\u001b[0m \u001b[38;5;28;01mdef\u001b[39;00m \u001b[38;5;21mget_object\u001b[39m(\u001b[38;5;28mself\u001b[39m) \u001b[38;5;241m-\u001b[39m\u001b[38;5;241m>\u001b[39m Optional[\u001b[38;5;124m\"\u001b[39m\u001b[38;5;124mPdfObject\u001b[39m\u001b[38;5;124m\"\u001b[39m]:\n\u001b[0;32m--> 293\u001b[0m     obj \u001b[38;5;241m=\u001b[39m \u001b[38;5;28;43mself\u001b[39;49m\u001b[38;5;241;43m.\u001b[39;49m\u001b[43mpdf\u001b[49m\u001b[38;5;241;43m.\u001b[39;49m\u001b[43mget_object\u001b[49m\u001b[43m(\u001b[49m\u001b[38;5;28;43mself\u001b[39;49m\u001b[43m)\u001b[49m\n\u001b[1;32m    294\u001b[0m     \u001b[38;5;28;01mif\u001b[39;00m obj \u001b[38;5;129;01mis\u001b[39;00m \u001b[38;5;28;01mNone\u001b[39;00m:\n\u001b[1;32m    295\u001b[0m         \u001b[38;5;28;01mreturn\u001b[39;00m \u001b[38;5;28;01mNone\u001b[39;00m\n",
      "File \u001b[0;32m~/.pyenv/versions/anaconda3-2020.07/envs/library-generation/lib/python3.9/site-packages/pypdf/_reader.py:1357\u001b[0m, in \u001b[0;36mPdfReader.get_object\u001b[0;34m(self, indirect_reference)\u001b[0m\n\u001b[1;32m   1355\u001b[0m \u001b[38;5;28;01mif\u001b[39;00m \u001b[38;5;28mself\u001b[39m\u001b[38;5;241m.\u001b[39mstrict:\n\u001b[1;32m   1356\u001b[0m     \u001b[38;5;28;01massert\u001b[39;00m generation \u001b[38;5;241m==\u001b[39m indirect_reference\u001b[38;5;241m.\u001b[39mgeneration\n\u001b[0;32m-> 1357\u001b[0m retval \u001b[38;5;241m=\u001b[39m \u001b[43mread_object\u001b[49m\u001b[43m(\u001b[49m\u001b[38;5;28;43mself\u001b[39;49m\u001b[38;5;241;43m.\u001b[39;49m\u001b[43mstream\u001b[49m\u001b[43m,\u001b[49m\u001b[43m \u001b[49m\u001b[38;5;28;43mself\u001b[39;49m\u001b[43m)\u001b[49m  \u001b[38;5;66;03m# type: ignore\u001b[39;00m\n\u001b[1;32m   1359\u001b[0m \u001b[38;5;66;03m# override encryption is used for the /Encrypt dictionary\u001b[39;00m\n\u001b[1;32m   1360\u001b[0m \u001b[38;5;28;01mif\u001b[39;00m \u001b[38;5;129;01mnot\u001b[39;00m \u001b[38;5;28mself\u001b[39m\u001b[38;5;241m.\u001b[39m_override_encryption \u001b[38;5;129;01mand\u001b[39;00m \u001b[38;5;28mself\u001b[39m\u001b[38;5;241m.\u001b[39m_encryption \u001b[38;5;129;01mis\u001b[39;00m \u001b[38;5;129;01mnot\u001b[39;00m \u001b[38;5;28;01mNone\u001b[39;00m:\n\u001b[1;32m   1361\u001b[0m     \u001b[38;5;66;03m# if we don't have the encryption key:\u001b[39;00m\n",
      "File \u001b[0;32m~/.pyenv/versions/anaconda3-2020.07/envs/library-generation/lib/python3.9/site-packages/pypdf/generic/_data_structures.py:1141\u001b[0m, in \u001b[0;36mread_object\u001b[0;34m(stream, pdf, forced_encoding)\u001b[0m\n\u001b[1;32m   1139\u001b[0m stream\u001b[38;5;241m.\u001b[39mseek(\u001b[38;5;241m-\u001b[39m\u001b[38;5;241m2\u001b[39m, \u001b[38;5;241m1\u001b[39m)  \u001b[38;5;66;03m# reset to start\u001b[39;00m\n\u001b[1;32m   1140\u001b[0m \u001b[38;5;28;01mif\u001b[39;00m peek \u001b[38;5;241m==\u001b[39m \u001b[38;5;124mb\u001b[39m\u001b[38;5;124m\"\u001b[39m\u001b[38;5;124m<<\u001b[39m\u001b[38;5;124m\"\u001b[39m:\n\u001b[0;32m-> 1141\u001b[0m     \u001b[38;5;28;01mreturn\u001b[39;00m \u001b[43mDictionaryObject\u001b[49m\u001b[38;5;241;43m.\u001b[39;49m\u001b[43mread_from_stream\u001b[49m\u001b[43m(\u001b[49m\u001b[43mstream\u001b[49m\u001b[43m,\u001b[49m\u001b[43m \u001b[49m\u001b[43mpdf\u001b[49m\u001b[43m,\u001b[49m\u001b[43m \u001b[49m\u001b[43mforced_encoding\u001b[49m\u001b[43m)\u001b[49m\n\u001b[1;32m   1142\u001b[0m \u001b[38;5;28;01melse\u001b[39;00m:\n\u001b[1;32m   1143\u001b[0m     \u001b[38;5;28;01mreturn\u001b[39;00m read_hex_string_from_stream(stream, forced_encoding)\n",
      "File \u001b[0;32m~/.pyenv/versions/anaconda3-2020.07/envs/library-generation/lib/python3.9/site-packages/pypdf/generic/_data_structures.py:416\u001b[0m, in \u001b[0;36mDictionaryObject.read_from_stream\u001b[0;34m(stream, pdf, forced_encoding)\u001b[0m\n\u001b[1;32m    414\u001b[0m     tok \u001b[38;5;241m=\u001b[39m read_non_whitespace(stream)\n\u001b[1;32m    415\u001b[0m     stream\u001b[38;5;241m.\u001b[39mseek(\u001b[38;5;241m-\u001b[39m\u001b[38;5;241m1\u001b[39m, \u001b[38;5;241m1\u001b[39m)\n\u001b[0;32m--> 416\u001b[0m     value \u001b[38;5;241m=\u001b[39m \u001b[43mread_object\u001b[49m\u001b[43m(\u001b[49m\u001b[43mstream\u001b[49m\u001b[43m,\u001b[49m\u001b[43m \u001b[49m\u001b[43mpdf\u001b[49m\u001b[43m,\u001b[49m\u001b[43m \u001b[49m\u001b[43mforced_encoding\u001b[49m\u001b[43m)\u001b[49m\n\u001b[1;32m    417\u001b[0m \u001b[38;5;28;01mexcept\u001b[39;00m \u001b[38;5;167;01mException\u001b[39;00m \u001b[38;5;28;01mas\u001b[39;00m exc:\n\u001b[1;32m    418\u001b[0m     \u001b[38;5;28;01mif\u001b[39;00m pdf \u001b[38;5;129;01mis\u001b[39;00m \u001b[38;5;129;01mnot\u001b[39;00m \u001b[38;5;28;01mNone\u001b[39;00m \u001b[38;5;129;01mand\u001b[39;00m pdf\u001b[38;5;241m.\u001b[39mstrict:\n",
      "File \u001b[0;32m~/.pyenv/versions/anaconda3-2020.07/envs/library-generation/lib/python3.9/site-packages/pypdf/generic/_data_structures.py:1172\u001b[0m, in \u001b[0;36mread_object\u001b[0;34m(stream, pdf, forced_encoding)\u001b[0m\n\u001b[1;32m   1170\u001b[0m \u001b[38;5;28;01mif\u001b[39;00m IndirectPattern\u001b[38;5;241m.\u001b[39mmatch(peek) \u001b[38;5;129;01mis\u001b[39;00m \u001b[38;5;129;01mnot\u001b[39;00m \u001b[38;5;28;01mNone\u001b[39;00m:\n\u001b[1;32m   1171\u001b[0m     \u001b[38;5;28;01massert\u001b[39;00m pdf \u001b[38;5;129;01mis\u001b[39;00m \u001b[38;5;129;01mnot\u001b[39;00m \u001b[38;5;28;01mNone\u001b[39;00m  \u001b[38;5;66;03m# hint for mypy\u001b[39;00m\n\u001b[0;32m-> 1172\u001b[0m     \u001b[38;5;28;01mreturn\u001b[39;00m \u001b[43mIndirectObject\u001b[49m\u001b[38;5;241;43m.\u001b[39;49m\u001b[43mread_from_stream\u001b[49m\u001b[43m(\u001b[49m\u001b[43mstream\u001b[49m\u001b[43m,\u001b[49m\u001b[43m \u001b[49m\u001b[43mpdf\u001b[49m\u001b[43m)\u001b[49m\n\u001b[1;32m   1173\u001b[0m \u001b[38;5;28;01melse\u001b[39;00m:\n\u001b[1;32m   1174\u001b[0m     \u001b[38;5;28;01mreturn\u001b[39;00m NumberObject\u001b[38;5;241m.\u001b[39mread_from_stream(stream)\n",
      "File \u001b[0;32m~/.pyenv/versions/anaconda3-2020.07/envs/library-generation/lib/python3.9/site-packages/pypdf/generic/_base.py:349\u001b[0m, in \u001b[0;36mIndirectObject.read_from_stream\u001b[0;34m(stream, pdf)\u001b[0m\n\u001b[1;32m    345\u001b[0m \u001b[38;5;28;01mif\u001b[39;00m r \u001b[38;5;241m!=\u001b[39m \u001b[38;5;124mb\u001b[39m\u001b[38;5;124m\"\u001b[39m\u001b[38;5;124mR\u001b[39m\u001b[38;5;124m\"\u001b[39m:\n\u001b[1;32m    346\u001b[0m     \u001b[38;5;28;01mraise\u001b[39;00m PdfReadError(\n\u001b[1;32m    347\u001b[0m         \u001b[38;5;124mf\u001b[39m\u001b[38;5;124m\"\u001b[39m\u001b[38;5;124mError reading indirect object reference at byte \u001b[39m\u001b[38;5;132;01m{\u001b[39;00mhex_str(stream\u001b[38;5;241m.\u001b[39mtell())\u001b[38;5;132;01m}\u001b[39;00m\u001b[38;5;124m\"\u001b[39m\n\u001b[1;32m    348\u001b[0m     )\n\u001b[0;32m--> 349\u001b[0m \u001b[38;5;28;01mreturn\u001b[39;00m \u001b[43mIndirectObject\u001b[49m\u001b[43m(\u001b[49m\u001b[38;5;28;43mint\u001b[39;49m\u001b[43m(\u001b[49m\u001b[43midnum\u001b[49m\u001b[43m)\u001b[49m\u001b[43m,\u001b[49m\u001b[43m \u001b[49m\u001b[38;5;28;43mint\u001b[39;49m\u001b[43m(\u001b[49m\u001b[43mgeneration\u001b[49m\u001b[43m)\u001b[49m\u001b[43m,\u001b[49m\u001b[43m \u001b[49m\u001b[43mpdf\u001b[49m\u001b[43m)\u001b[49m\n",
      "File \u001b[0;32m~/.pyenv/versions/anaconda3-2020.07/envs/library-generation/lib/python3.9/site-packages/pypdf/generic/_base.py:253\u001b[0m, in \u001b[0;36mIndirectObject.__init__\u001b[0;34m(self, idnum, generation, pdf)\u001b[0m\n\u001b[1;32m    252\u001b[0m \u001b[38;5;28;01mdef\u001b[39;00m \u001b[38;5;21m__init__\u001b[39m(\u001b[38;5;28mself\u001b[39m, idnum: \u001b[38;5;28mint\u001b[39m, generation: \u001b[38;5;28mint\u001b[39m, pdf: Any) \u001b[38;5;241m-\u001b[39m\u001b[38;5;241m>\u001b[39m \u001b[38;5;28;01mNone\u001b[39;00m:  \u001b[38;5;66;03m# PdfReader\u001b[39;00m\n\u001b[0;32m--> 253\u001b[0m     \u001b[38;5;28;43mself\u001b[39;49m\u001b[38;5;241;43m.\u001b[39;49m\u001b[43midnum\u001b[49m \u001b[38;5;241m=\u001b[39m idnum\n\u001b[1;32m    254\u001b[0m     \u001b[38;5;28mself\u001b[39m\u001b[38;5;241m.\u001b[39mgeneration \u001b[38;5;241m=\u001b[39m generation\n\u001b[1;32m    255\u001b[0m     \u001b[38;5;28mself\u001b[39m\u001b[38;5;241m.\u001b[39mpdf \u001b[38;5;241m=\u001b[39m pdf\n",
      "\u001b[0;31mKeyboardInterrupt\u001b[0m: "
     ]
    }
   ],
   "source": [
    "%%capture output\n",
    "# import the plate list to obtain LCMS identifier - plate_nr relation\n",
    "plate_list = pd.read_csv(PLATE_LIST_PATH)\n",
    "# we will record any files that cause exceptions for manual inspection\n",
    "files_with_exceptions = []\n",
    "\n",
    "# iterate over all experiments/plates\n",
    "for exp_nr in range(1, 30):\n",
    "    for plate_nr in range(1, 7):\n",
    "        # print progress indicator\n",
    "        now = datetime.now()\n",
    "        print(f\"exp {exp_nr}-{plate_nr}, started {now.strftime('%H:%M:%S')}\")\n",
    " \n",
    "        \n",
    "        lcms_id = plate_list.loc[(plate_list[\"exp_nr\"] == exp_nr) & (plate_list[\"plate_nr\"] == plate_nr), \"results_file_name\"].item().split(\"_\")[0]\n",
    "        exp_path = DATA_DIR / \"pdf_reports\" / lcms_id\n",
    "        full_report_paths = list(exp_path.glob(\"*_LCMS_Fullreport.pdf\"))\n",
    "        \n",
    "        for path in full_report_paths:\n",
    "            try:\n",
    "                # get well from filename\n",
    "                regex = r'_P\\d{1}-[A-Z]-\\d{1,2}_'\n",
    "                match = re.search(regex, path.name)\n",
    "                well = \"\".join(match.group().strip(\"_\").split(\"-\")[1:])\n",
    "                reaction_id = con.get_reaction_id((exp_nr, plate_nr, well))\n",
    "                df = import_lcms_full_report(path)\n",
    "                # we persist this to the database for re-use\n",
    "                # first reformat df to fit DB\n",
    "                df.insert(0, \"reaction_id\", reaction_id)\n",
    "                df.insert(2, \"retention_time_s\", (df[\"RT[min]\"] * 60).astype(\"int\"))\n",
    "                df = df.drop(columns=\"RT[min]\")\n",
    "                df = df.rename(columns={\"#\": \"peak_number\", \n",
    "                           \"Area\": \"area\", \n",
    "                           \"I\": \"intensity\",\n",
    "                           \"S/N\": \"signal_to_noise\",\n",
    "                           \"max_m/z\": \"mz_max\",\n",
    "                           \"FWHM[min]\": \"fwhm_min\", \n",
    "                           \"Area%\": \"%area\",\n",
    "                           \"Int%\": \"%intensity\"\n",
    "                          }).astype({\"peak_number\": \"int\",\n",
    "                                     \"area\": \"int\",\n",
    "                                     \"intensity\": \"int\"})\n",
    "                # write all extracted peaks to DB\n",
    "                with con.con:\n",
    "                    con.con.executemany(\n",
    "                        'INSERT INTO lcms_peaks (experiment_id, peak_nr, retention_time_s, area, intensity, signal_to_noise, mz_max, fwhm_min, \"%area\", \"%intensity\") VALUES (?, ?, ?, ?, ?, ?, ?, ?, ?, ?);', \n",
    "                        [tuple(row) for row in df.to_numpy()]\n",
    "                    )\n",
    "            except Exception as e:\n",
    "                print(f\"Something went wrong for {str(path)}\")\n",
    "                files_with_exceptions.append(path)\n",
    "                print(e)"
   ]
  },
  {
   "cell_type": "code",
   "execution_count": 6,
   "id": "be7b301e-f193-4ffd-bd35-6674643f5657",
   "metadata": {},
   "outputs": [],
   "source": [
    "# now which of these are unexpected / not already explained?\n",
    "mz_dmso = [79.0212, 101.0032, 157.0351]  # M+H+, M+Na+ 2M+H+\n",
    "mz_lock = [142.1590, 322.0481]  # tetramethylpiperidine, hexamethoxyphosphazene\n",
    "mz_is = 361.1201  # fenofibrate\n",
    "\n",
    "known_product_smiles = con.get_product_smiles((exp_nr, plate_nr), \"A3\")\n",
    "known_product_mzs = [smiles_to_lcms_mass(smi) for smi in known_product_smiles]\n",
    "\n",
    "known_mzs = mz_dmso + mz_lock + [mz_is] + known_product_mzs"
   ]
  },
  {
   "cell_type": "code",
   "execution_count": 7,
   "id": "e686a4ab-8724-4a24-af14-a3a04d350bfe",
   "metadata": {},
   "outputs": [
    {
     "data": {
      "text/html": [
       "<div>\n",
       "<style scoped>\n",
       "    .dataframe tbody tr th:only-of-type {\n",
       "        vertical-align: middle;\n",
       "    }\n",
       "\n",
       "    .dataframe tbody tr th {\n",
       "        vertical-align: top;\n",
       "    }\n",
       "\n",
       "    .dataframe thead th {\n",
       "        text-align: right;\n",
       "    }\n",
       "</style>\n",
       "<table border=\"1\" class=\"dataframe\">\n",
       "  <thead>\n",
       "    <tr style=\"text-align: right;\">\n",
       "      <th></th>\n",
       "      <th>RT[min]</th>\n",
       "      <th>Area</th>\n",
       "      <th>I</th>\n",
       "      <th>S/N</th>\n",
       "      <th>max_m/z</th>\n",
       "      <th>FWHM[min]</th>\n",
       "      <th>Area%</th>\n",
       "      <th>Int%</th>\n",
       "    </tr>\n",
       "    <tr>\n",
       "      <th>#</th>\n",
       "      <th></th>\n",
       "      <th></th>\n",
       "      <th></th>\n",
       "      <th></th>\n",
       "      <th></th>\n",
       "      <th></th>\n",
       "      <th></th>\n",
       "      <th></th>\n",
       "    </tr>\n",
       "  </thead>\n",
       "  <tbody>\n",
       "    <tr>\n",
       "      <th>9</th>\n",
       "      <td>2.156</td>\n",
       "      <td>2.589547e+05</td>\n",
       "      <td>62241.0</td>\n",
       "      <td>17.8</td>\n",
       "      <td>146.1175</td>\n",
       "      <td>0.059</td>\n",
       "      <td>5.39209</td>\n",
       "      <td>3.71</td>\n",
       "    </tr>\n",
       "    <tr>\n",
       "      <th>12</th>\n",
       "      <td>2.903</td>\n",
       "      <td>6.490781e+05</td>\n",
       "      <td>146339.0</td>\n",
       "      <td>42.1</td>\n",
       "      <td>365.1712</td>\n",
       "      <td>0.081</td>\n",
       "      <td>13.51545</td>\n",
       "      <td>8.73</td>\n",
       "    </tr>\n",
       "    <tr>\n",
       "      <th>16</th>\n",
       "      <td>3.000</td>\n",
       "      <td>1.114304e+06</td>\n",
       "      <td>440712.0</td>\n",
       "      <td>130.7</td>\n",
       "      <td>365.1709</td>\n",
       "      <td>0.038</td>\n",
       "      <td>23.20264</td>\n",
       "      <td>26.28</td>\n",
       "    </tr>\n",
       "    <tr>\n",
       "      <th>17</th>\n",
       "      <td>3.395</td>\n",
       "      <td>2.613391e+06</td>\n",
       "      <td>1012323.0</td>\n",
       "      <td>306.9</td>\n",
       "      <td>332.0521</td>\n",
       "      <td>0.037</td>\n",
       "      <td>54.41742</td>\n",
       "      <td>60.36</td>\n",
       "    </tr>\n",
       "    <tr>\n",
       "      <th>22</th>\n",
       "      <td>3.592</td>\n",
       "      <td>1.006776e+06</td>\n",
       "      <td>445752.0</td>\n",
       "      <td>132.9</td>\n",
       "      <td>459.1523</td>\n",
       "      <td>0.034</td>\n",
       "      <td>20.96362</td>\n",
       "      <td>26.58</td>\n",
       "    </tr>\n",
       "    <tr>\n",
       "      <th>25</th>\n",
       "      <td>3.730</td>\n",
       "      <td>8.154621e+05</td>\n",
       "      <td>335406.0</td>\n",
       "      <td>100.8</td>\n",
       "      <td>505.1579</td>\n",
       "      <td>0.037</td>\n",
       "      <td>16.97999</td>\n",
       "      <td>20.00</td>\n",
       "    </tr>\n",
       "    <tr>\n",
       "      <th>36</th>\n",
       "      <td>5.032</td>\n",
       "      <td>4.152705e+05</td>\n",
       "      <td>143717.0</td>\n",
       "      <td>1209.5</td>\n",
       "      <td>250.9768</td>\n",
       "      <td>0.043</td>\n",
       "      <td>8.64698</td>\n",
       "      <td>8.57</td>\n",
       "    </tr>\n",
       "    <tr>\n",
       "      <th>37</th>\n",
       "      <td>5.033</td>\n",
       "      <td>3.906193e+05</td>\n",
       "      <td>139087.0</td>\n",
       "      <td>41.9</td>\n",
       "      <td>250.9768</td>\n",
       "      <td>0.043</td>\n",
       "      <td>8.13368</td>\n",
       "      <td>8.29</td>\n",
       "    </tr>\n",
       "  </tbody>\n",
       "</table>\n",
       "</div>"
      ],
      "text/plain": [
       "    RT[min]          Area          I     S/N   max_m/z  FWHM[min]     Area%  \\\n",
       "#                                                                             \n",
       "9     2.156  2.589547e+05    62241.0    17.8  146.1175      0.059   5.39209   \n",
       "12    2.903  6.490781e+05   146339.0    42.1  365.1712      0.081  13.51545   \n",
       "16    3.000  1.114304e+06   440712.0   130.7  365.1709      0.038  23.20264   \n",
       "17    3.395  2.613391e+06  1012323.0   306.9  332.0521      0.037  54.41742   \n",
       "22    3.592  1.006776e+06   445752.0   132.9  459.1523      0.034  20.96362   \n",
       "25    3.730  8.154621e+05   335406.0   100.8  505.1579      0.037  16.97999   \n",
       "36    5.032  4.152705e+05   143717.0  1209.5  250.9768      0.043   8.64698   \n",
       "37    5.033  3.906193e+05   139087.0    41.9  250.9768      0.043   8.13368   \n",
       "\n",
       "     Int%  \n",
       "#          \n",
       "9    3.71  \n",
       "12   8.73  \n",
       "16  26.28  \n",
       "17  60.36  \n",
       "22  26.58  \n",
       "25  20.00  \n",
       "36   8.57  \n",
       "37   8.29  "
      ]
     },
     "execution_count": 7,
     "metadata": {},
     "output_type": "execute_result"
    }
   ],
   "source": [
    "unexplained_peaks = df.loc[((df[\"Area%\"] > 5)  # only significant peaks\n",
    "        & ~np.isclose(df[\"max_m/z\"].to_numpy()[:, None], known_mzs, rtol=5e-6, atol=0).any(axis=1)  # only peaks that are not already explained\n",
    "       ), \n",
    "    ]\n",
    "unexplained_peaks"
   ]
  },
  {
   "cell_type": "markdown",
   "id": "e281629a-6d61-44b2-b3d4-87538c641e48",
   "metadata": {},
   "source": [
    "## Identify starting material peaks"
   ]
  },
  {
   "cell_type": "code",
   "execution_count": 9,
   "id": "3ca77c06-8b7e-47aa-9db8-c80c2ce256ea",
   "metadata": {},
   "outputs": [
    {
     "data": {
      "text/plain": [
       "['O=C(c1ccc(C2=NCCO2)cc1)[B-](F)(F)F.[K+]',\n",
       " 'CC(C)C[C@H]1C[C@]2(O[NH2+]1)OC1(CCCCC1)OC2=O.[Cl-]',\n",
       " '[Cl-].[NH3+]NC(=S)c1cccs1']"
      ]
     },
     "execution_count": 9,
     "metadata": {},
     "output_type": "execute_result"
    }
   ],
   "source": [
    "sms = con.get_starting_materials_for_reaction((exp_nr, plate_nr, \"K7\"))\n",
    "sms"
   ]
  },
  {
   "cell_type": "code",
   "execution_count": 12,
   "id": "f086acfb-2780-4972-86e4-728354c224ab",
   "metadata": {},
   "outputs": [
    {
     "data": {
      "text/plain": [
       "159.00451664409"
      ]
     },
     "execution_count": 12,
     "metadata": {},
     "output_type": "execute_result"
    }
   ],
   "source": [
    "smiles_to_lcms_mass(sms[2])"
   ]
  },
  {
   "cell_type": "code",
   "execution_count": 13,
   "id": "d3e8580e-7953-464c-8793-79249f69a518",
   "metadata": {},
   "outputs": [
    {
     "data": {
      "text/plain": [
       "Index(['RT[min]', 'Area', 'I', 'S/N', 'max_m/z', 'FWHM[min]', 'Area%', 'Int%'], dtype='object')"
      ]
     },
     "execution_count": 13,
     "metadata": {},
     "output_type": "execute_result"
    }
   ],
   "source": [
    "unexplained_peaks.columns"
   ]
  },
  {
   "cell_type": "code",
   "execution_count": null,
   "id": "0dc206d5-c0ad-44d8-9e17-6161c9a6cb7a",
   "metadata": {},
   "outputs": [],
   "source": []
  }
 ],
 "metadata": {
  "kernelspec": {
   "display_name": "Python 3 (ipykernel)",
   "language": "python",
   "name": "python3"
  },
  "language_info": {
   "codemirror_mode": {
    "name": "ipython",
    "version": 3
   },
   "file_extension": ".py",
   "mimetype": "text/x-python",
   "name": "python",
   "nbconvert_exporter": "python",
   "pygments_lexer": "ipython3",
   "version": "3.9.16"
  }
 },
 "nbformat": 4,
 "nbformat_minor": 5
}
