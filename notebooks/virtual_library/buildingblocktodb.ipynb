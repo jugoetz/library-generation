{
 "cells": [
  {
   "cell_type": "markdown",
   "metadata": {},
   "source": [
    "### Add entries to the building block database\n"
   ]
  },
  {
   "cell_type": "code",
   "execution_count": null,
   "metadata": {},
   "outputs": [],
   "source": [
    "import pathlib\n",
    "import sqlite3 as sql\n",
    "import sys\n",
    "\n",
    "import pandas as pd\n",
    "from rdkit import Chem\n",
    "from rdkit.Chem import Draw\n",
    "from rdkit.Chem.rdMolDescriptors import CalcMolFormula, CalcExactMolWt\n",
    "\n",
    "sys.path.append(str(pathlib.Path().resolve().parents[1]))\n",
    "from src.definitions import DATA_DIR\n",
    "from src.definitions import COMPOUND_MAPPING_PATH, DB_PATH, DB_DIR\n",
    "from src.util.rdkit_util import desalt_building_block\n",
    "from src.util.sumformula_manipulation import string_formula_substraction\n",
    "from src.util.protecting_groups import pg_dict"
   ]
  },
  {
   "cell_type": "code",
   "execution_count": null,
   "metadata": {},
   "outputs": [],
   "source": [
    "DB_STATIC_DIR = DB_DIR / 'static'\n",
    "INFO_PATH = DATA_DIR / 'library_info' / 'library_constituents_dataframe.pkl'"
   ]
  },
  {
   "cell_type": "code",
   "execution_count": null,
   "metadata": {},
   "outputs": [],
   "source": [
    "# Import data\n",
    "with open(INFO_PATH, 'rb') as file:\n",
    "    df = pd.read_pickle(file)\n",
    "\n",
    "with open(COMPOUND_MAPPING_PATH, 'r') as file:\n",
    "    compound_mapping = {}\n",
    "    for line in file.readlines():\n",
    "        compound_mapping[line.split()[0]] = line.split()[1]"
   ]
  },
  {
   "cell_type": "code",
   "execution_count": null,
   "metadata": {},
   "outputs": [],
   "source": [
    "# open DB connection\n",
    "con = sql.connect(DB_PATH)\n",
    "cur = con.cursor()"
   ]
  },
  {
   "cell_type": "code",
   "execution_count": null,
   "metadata": {},
   "outputs": [],
   "source": [
    "df"
   ]
  },
  {
   "cell_type": "code",
   "execution_count": null,
   "metadata": {},
   "outputs": [],
   "source": [
    "# Add entries to DB\n",
    "# Save molecule images to the static directory and add the path to DB\n",
    "# note: originally we would use compound_mapping to add the short name to the building blocks table\n",
    "# however, we realized later that we need to change the relation in some cases, so we now use a separate table building_blocks_shorts\n",
    "for long in compound_mapping.values():\n",
    "    mol = df.loc[df['Compound Name'] == long, 'mol'].item()\n",
    "    smiles = Chem.MolToSmiles(mol)  # we regenerate SMILES instead of using the value from df to have a canonical representation\n",
    "    image = Draw.MolToImage(mol)\n",
    "    category = df.loc[df['Compound Name'] == long,'Category'].item()\n",
    "    # save image to static dir and keep imagepath to add to db\n",
    "    image_path = DB_STATIC_DIR / 'image' / f'{long}.png'\n",
    "    image.save(image_path)\n",
    "    # write this to the db\n",
    "    cur.execute('INSERT INTO building_blocks(long, SMILES, image, category) VALUES(?,?,?,?);', (long, smiles, str(image_path.resolve()), category))\n",
    "con.commit()"
   ]
  },
  {
   "cell_type": "code",
   "execution_count": null,
   "metadata": {},
   "outputs": [],
   "source": [
    "# at this point, boc, cbz, tbu, tms columns were set after manual inspection"
   ]
  },
  {
   "cell_type": "code",
   "execution_count": null,
   "metadata": {},
   "outputs": [],
   "source": [
    "\"\"\"For existing entries, use SMILES and number of protecting groups to calculate probable formulae in LCMS\"\"\"\n",
    "for id, smiles, boc, cbz, tbu, tms in cur.execute('SELECT id, SMILES, boc, cbz, tbu, tms FROM building_blocks;').fetchall():\n",
    "    mol = Chem.MolFromSmiles(smiles)\n",
    "    mol_desalted = desalt_building_block(mol)\n",
    "    lcms_formula_1 = CalcMolFormula(mol_desalted)\n",
    "    lcms_mass_1 = CalcExactMolWt(mol_desalted)\n",
    "    cur.execute('UPDATE building_blocks SET lcms_formula_1 = ?, lcms_mass_1 = ? WHERE id = ?', (lcms_formula_1, lcms_mass_1, id))\n",
    "    con.commit()\n",
    "    additional_formulae = []\n",
    "    additional_masses = []\n",
    "    for pg, pgname in zip([boc, cbz, tbu, tms], ['boc', 'cbz', 'tbu', 'tms']):\n",
    "        for i in range(pg):\n",
    "            # if boc == 0, this will not evaluate\n",
    "            additional_formulae.append(string_formula_substraction(lcms_formula_1, pg_dict[pgname][0]))\n",
    "            additional_masses.append(lcms_mass_1 - pg_dict[pgname][1])\n",
    "    additional_masses = [f'{i:.4f}' for i in additional_masses]\n",
    "    if len(additional_formulae) > 0:\n",
    "        cur.execute('UPDATE building_blocks SET lcms_formula_alt = ?, lcms_mass_alt = ? WHERE id = ?', (','.join(additional_formulae), ','.join(additional_masses), id))\n",
    "        con.commit()"
   ]
  },
  {
   "cell_type": "code",
   "execution_count": null,
   "metadata": {},
   "outputs": [],
   "source": [
    "con.close()"
   ]
  }
 ],
 "metadata": {
  "kernelspec": {
   "display_name": "Python 3",
   "language": "python",
   "name": "python3"
  },
  "language_info": {
   "codemirror_mode": {
    "name": "ipython",
    "version": 2
   },
   "file_extension": ".py",
   "mimetype": "text/x-python",
   "name": "python",
   "nbconvert_exporter": "python",
   "pygments_lexer": "ipython2",
   "version": "2.7.6"
  }
 },
 "nbformat": 4,
 "nbformat_minor": 0
}
