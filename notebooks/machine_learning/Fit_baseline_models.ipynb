{
 "cells": [
  {
   "cell_type": "markdown",
   "id": "600d5503",
   "metadata": {},
   "source": [
    "# Initial attempt to learn from SF data\n",
    "\n",
    "We use only basic algorithms"
   ]
  },
  {
   "cell_type": "code",
   "execution_count": 59,
   "id": "00abe202",
   "metadata": {},
   "outputs": [],
   "source": [
    "import sys\n",
    "import os\n",
    "\n",
    "import numpy as np\n",
    "import pandas as pd\n",
    "import sqlite3\n",
    "from rdkit import Chem\n",
    "from rdkit.Chem.Descriptors import rdMolDescriptors\n",
    "import seaborn as sns\n",
    "from sklearn.linear_model import LogisticRegression\n",
    "from sklearn.model_selection import train_test_split\n",
    "from sklearn.metrics import accuracy_score, balanced_accuracy_score, f1_score, confusion_matrix\n",
    "from sklearn.preprocessing import StandardScaler\n",
    "import matplotlib.pyplot as plt\n",
    "from matplotlib import cm\n",
    "\n",
    "sys.path.insert(0, os.path.abspath('../..'))\n",
    "\n",
    "from src.definitions import DB_PATH\n",
    "from src.util.db_utils import MyDatabaseConnection"
   ]
  },
  {
   "cell_type": "code",
   "execution_count": 60,
   "id": "a1518bc9",
   "metadata": {},
   "outputs": [],
   "source": [
    "db = MyDatabaseConnection()  # we will use this for various simple queries"
   ]
  },
  {
   "cell_type": "code",
   "execution_count": 61,
   "id": "746e38f3",
   "metadata": {},
   "outputs": [
    {
     "name": "stdout",
     "output_type": "stream",
     "text": [
      "Number of reactions (in total): 58664\n"
     ]
    }
   ],
   "source": [
    "con = sqlite3.connect(DB_PATH)\n",
    "df_full = pd.read_sql('SELECT * FROM experiments', con, index_col='id', coerce_float=False)\n",
    "con.close()\n",
    "print(f'Number of reactions (in total): {len(df_full)}')"
   ]
  },
  {
   "cell_type": "code",
   "execution_count": 62,
   "id": "2793859d",
   "metadata": {},
   "outputs": [
    {
     "name": "stdout",
     "output_type": "stream",
     "text": [
      "Number of reactions considered here: 49920\n"
     ]
    }
   ],
   "source": [
    "# select experiment numbers for further analysis\n",
    "start_exp_nr = 4  # kick out invalid experiments (SOP changed after exp3)\n",
    "end_exp_nr = 29  # (inclusive)\n",
    "\n",
    "df_full = df_full.loc[df_full['exp_nr'].between(start_exp_nr, end_exp_nr)]  \n",
    "                      \n",
    "print(f'Number of reactions considered here: {len(df_full)}')"
   ]
  },
  {
   "cell_type": "code",
   "execution_count": 63,
   "id": "a3015de6",
   "metadata": {},
   "outputs": [
    {
     "data": {
      "text/html": [
       "<div>\n",
       "<style scoped>\n",
       "    .dataframe tbody tr th:only-of-type {\n",
       "        vertical-align: middle;\n",
       "    }\n",
       "\n",
       "    .dataframe tbody tr th {\n",
       "        vertical-align: top;\n",
       "    }\n",
       "\n",
       "    .dataframe thead th {\n",
       "        text-align: right;\n",
       "    }\n",
       "</style>\n",
       "<table border=\"1\" class=\"dataframe\">\n",
       "  <thead>\n",
       "    <tr style=\"text-align: right;\">\n",
       "      <th></th>\n",
       "      <th>exp_nr</th>\n",
       "      <th>plate_nr</th>\n",
       "      <th>well</th>\n",
       "      <th>lab_journal_number</th>\n",
       "      <th>synthesis_date_unixepoch</th>\n",
       "      <th>initiator</th>\n",
       "      <th>monomer</th>\n",
       "      <th>terminator</th>\n",
       "      <th>initiator_long</th>\n",
       "      <th>monomer_long</th>\n",
       "      <th>...</th>\n",
       "      <th>product_A_smiles</th>\n",
       "      <th>product_B_smiles</th>\n",
       "      <th>product_C_smiles</th>\n",
       "      <th>product_D_smiles</th>\n",
       "      <th>product_E_smiles</th>\n",
       "      <th>product_F_smiles</th>\n",
       "      <th>product_G_smiles</th>\n",
       "      <th>product_H_smiles</th>\n",
       "      <th>vl_id</th>\n",
       "      <th>valid</th>\n",
       "    </tr>\n",
       "    <tr>\n",
       "      <th>id</th>\n",
       "      <th></th>\n",
       "      <th></th>\n",
       "      <th></th>\n",
       "      <th></th>\n",
       "      <th></th>\n",
       "      <th></th>\n",
       "      <th></th>\n",
       "      <th></th>\n",
       "      <th></th>\n",
       "      <th></th>\n",
       "      <th></th>\n",
       "      <th></th>\n",
       "      <th></th>\n",
       "      <th></th>\n",
       "      <th></th>\n",
       "      <th></th>\n",
       "      <th></th>\n",
       "      <th></th>\n",
       "      <th></th>\n",
       "      <th></th>\n",
       "      <th></th>\n",
       "    </tr>\n",
       "  </thead>\n",
       "  <tbody>\n",
       "  </tbody>\n",
       "</table>\n",
       "<p>0 rows × 31 columns</p>\n",
       "</div>"
      ],
      "text/plain": [
       "Empty DataFrame\n",
       "Columns: [exp_nr, plate_nr, well, lab_journal_number, synthesis_date_unixepoch, initiator, monomer, terminator, initiator_long, monomer_long, terminator_long, long_name, product_A_lcms_ratio, product_B_lcms_ratio, product_C_lcms_ratio, product_D_lcms_ratio, product_E_lcms_ratio, product_F_lcms_ratio, product_G_lcms_ratio, product_H_lcms_ratio, comment, product_A_smiles, product_B_smiles, product_C_smiles, product_D_smiles, product_E_smiles, product_F_smiles, product_G_smiles, product_H_smiles, vl_id, valid]\n",
       "Index: []\n",
       "\n",
       "[0 rows x 31 columns]"
      ]
     },
     "execution_count": 63,
     "metadata": {},
     "output_type": "execute_result"
    }
   ],
   "source": [
    "# doublecheck that there are no \"empty\" experiments where results are missing\n",
    "df_full[df_full[\"product_A_lcms_ratio\"].isna()]"
   ]
  },
  {
   "cell_type": "code",
   "execution_count": 69,
   "id": "7655250a",
   "metadata": {},
   "outputs": [
    {
     "data": {
      "text/plain": [
       "Index(['WARNING: multiple peaks for product A (2)',\n",
       "       'WARNING: multiple peaks for product A (3)', 'heating failure',\n",
       "       'WARNING: multiple peaks for product A (4)',\n",
       "       'too many peaks for product A (2)', 'too many peaks for product A (3)',\n",
       "       'WARNING: IS response differs >50% from mean',\n",
       "       'too many peaks for product A (4)',\n",
       "       'too many peaks for IS (2); WARNING: IS response differs >50% from mean',\n",
       "       'I/M transfer error; Dilution survey low volume',\n",
       "       'too many peaks for product A (5)',\n",
       "       'bad LCMS M54; too many peaks for product A (3)', 'bad LCMS M54',\n",
       "       'I/M transfer error; Dilution transfer error; Dilution survey low volume',\n",
       "       'WARNING: multiple peaks for product A (2); WARNING: IS response differs >50% from mean',\n",
       "       'bad LCMS M54; too many peaks for product A (2)',\n",
       "       'bad LCMS M54; too many peaks for product A (4)',\n",
       "       'too many peaks for IS (2)',\n",
       "       'precipitation I36; I/M transfer error; Dilution survey low volume',\n",
       "       'too many peaks for product A (6)',\n",
       "       'precipitation I36; bad LCMS M54; I/M transfer error; Dilution survey low volume',\n",
       "       'precipitation I36; too many peaks for product A (2)',\n",
       "       'bad LCMS M54; too many peaks for product A (5)', 'precipitation I36',\n",
       "       'bad LCMS M54; too many peaks for product A (7)',\n",
       "       'too many peaks for product A (2); too many peaks for IS (2)',\n",
       "       'WARNING: multiple peaks for product A (3); WARNING: IS response differs >50% from mean',\n",
       "       'too many peaks for product A (2); WARNING: IS response differs >50% from mean',\n",
       "       'too many peaks for product A (7)', 'too many peaks for product A (8)',\n",
       "       'too many peaks for product A (9)',\n",
       "       'precipitation I36; too many peaks for product A (3)',\n",
       "       'bad LCMS M54; too many peaks for product A (10)',\n",
       "       'bad LCMS M54; too many peaks for product A (6)',\n",
       "       'bad LCMS M54; too many peaks for product A (9)',\n",
       "       'too many peaks for product A (3); too many peaks for IS (2); WARNING: IS response differs >50% from mean',\n",
       "       'Dilution transfer error',\n",
       "       'WARNING: multiple peaks for product A (4); WARNING: IS response differs >50% from mean',\n",
       "       'too many peaks for product A (2); too many peaks for IS (2); WARNING: IS response differs >50% from mean',\n",
       "       'too many peaks for IS (3); WARNING: IS response differs >50% from mean',\n",
       "       'bad LCMS M54; too many peaks for product A (13)',\n",
       "       'I/M transfer error; Dilution survey low volume; too many peaks for IS (2); WARNING: IS response differs >50% from mean',\n",
       "       'too many peaks for product A (24)',\n",
       "       'bad LCMS M54; too many peaks for product A (41)',\n",
       "       'precipitation I36; too many peaks for product A (8)',\n",
       "       'precipitation I36; too many peaks for product A (6)',\n",
       "       'bad LCMS M54; too many peaks for IS (2)',\n",
       "       'too many peaks for product A (4); too many peaks for IS (2)',\n",
       "       'precipitation I36; bad LCMS M54; I/M transfer error; Dilution survey low volume; too many peaks for product A (2); too many peaks for IS (2)',\n",
       "       'too many peaks for product A (13)',\n",
       "       'bad LCMS M54; too many peaks for product A (12)',\n",
       "       'too many peaks for product A (6); too many peaks for IS (2); WARNING: IS response differs >50% from mean',\n",
       "       'too many peaks for product A (8); too many peaks for IS (2); WARNING: IS response differs >50% from mean',\n",
       "       'I/M transfer error; Dilution transfer error; Dilution survey low volume; too many peaks for IS (2); WARNING: IS response differs >50% from mean',\n",
       "       'bad LCMS M54; too many peaks for product A (45)',\n",
       "       'too many peaks for product A (4); too many peaks for IS (2); WARNING: IS response differs >50% from mean',\n",
       "       'I/M transfer error',\n",
       "       'bad LCMS M54; too many peaks for product A (3); too many peaks for IS (2); WARNING: IS response differs >50% from mean',\n",
       "       'I/M transfer error; too many peaks for IS (2); WARNING: IS response differs >50% from mean',\n",
       "       'bad LCMS M54; too many peaks for product A (8)',\n",
       "       'bad LCMS M54; too many peaks for IS (2); WARNING: IS response differs >50% from mean',\n",
       "       'bad LCMS M54; too many peaks for product A (3); too many peaks for IS (2)',\n",
       "       'too many peaks for product A (4); too many peaks for IS (3); WARNING: IS response differs >50% from mean',\n",
       "       'bad LCMS M54; too many peaks for product A (2); too many peaks for IS (2); WARNING: IS response differs >50% from mean',\n",
       "       'I/M transfer error; Dilution survey low volume; too many peaks for IS (2)'],\n",
       "      dtype='object')"
      ]
     },
     "execution_count": 69,
     "metadata": {},
     "output_type": "execute_result"
    }
   ],
   "source": [
    "df_full.loc[~df_full[\"valid\"].str.contains(\"ERROR\", na=False), \"valid\"].value_counts().index"
   ]
  },
  {
   "cell_type": "code",
   "execution_count": 71,
   "id": "91b3b625",
   "metadata": {},
   "outputs": [
    {
     "data": {
      "text/plain": [
       "True     39044\n",
       "False     8212\n",
       "Name: valid, dtype: int64"
      ]
     },
     "execution_count": 71,
     "metadata": {},
     "output_type": "execute_result"
    }
   ],
   "source": [
    "df_full[\"valid\"].isna().value_counts()"
   ]
  },
  {
   "cell_type": "code",
   "execution_count": 66,
   "id": "b066dc0a",
   "metadata": {},
   "outputs": [
    {
     "data": {
      "text/plain": [
       "47256"
      ]
     },
     "execution_count": 66,
     "metadata": {},
     "output_type": "execute_result"
    }
   ],
   "source": [
    "# remove everything that says ERROR\n",
    "df_full = df_full.loc[~df_full[\"valid\"].str.contains(\"ERROR\", na=False)]\n",
    "len(df_full)"
   ]
  },
  {
   "cell_type": "code",
   "execution_count": 7,
   "id": "f89b3243",
   "metadata": {},
   "outputs": [
    {
     "data": {
      "text/plain": [
       "<Axes: ylabel='Frequency'>"
      ]
     },
     "execution_count": 7,
     "metadata": {},
     "output_type": "execute_result"
    },
    {
     "data": {
      "image/png": "[encoded data removed]",
      "text/plain": [
       "<Figure size 640x480 with 1 Axes>"
      ]
     },
     "metadata": {},
     "output_type": "display_data"
    }
   ],
   "source": [
    "# plot everything with a value > 0\n",
    "df_full.loc[df_full[\"product_A_lcms_ratio\"].between(1e-10,1), \"product_A_lcms_ratio\"].plot.hist(bins=400)"
   ]
  },
  {
   "cell_type": "code",
   "execution_count": 8,
   "id": "d2968c87",
   "metadata": {},
   "outputs": [
    {
     "data": {
      "text/plain": [
       "<matplotlib.lines.Line2D at 0x138c16650>"
      ]
     },
     "execution_count": 8,
     "metadata": {},
     "output_type": "execute_result"
    },
    {
     "data": {
      "image/png": "[encoded data removed]",
      "text/plain": [
       "<Figure size 640x480 with 1 Axes>"
      ]
     },
     "metadata": {},
     "output_type": "display_data"
    }
   ],
   "source": [
    "# plot only the region where response > 0, but <0.01 \n",
    "df_full.loc[df_full[\"product_A_lcms_ratio\"].between(1e-10,0.01), \"product_A_lcms_ratio\"].plot.hist(bins=400)\n",
    "plt.axvline(5e-4, c=\"brown\", linewidth=1)"
   ]
  },
  {
   "cell_type": "code",
   "execution_count": 9,
   "id": "63e0d7d4",
   "metadata": {},
   "outputs": [],
   "source": [
    "# we exclude everything between 1e-10 and 5e-4 as it may well be noise.\n",
    "# But we exclude it altogether and don't put it in the negative class\n",
    "# To everything else we assign classes 0 (failure) and 1 (success)\n",
    "\n",
    "df_full[\"product_A_outcome\"] = np.nan\n",
    "df_full.loc[df_full[\"product_A_lcms_ratio\"] == 0, \"product_A_outcome\"] = 0\n",
    "df_full.loc[df_full[\"product_A_lcms_ratio\"] > 5e-4, \"product_A_outcome\"] = 1"
   ]
  },
  {
   "cell_type": "code",
   "execution_count": 10,
   "id": "43533904",
   "metadata": {},
   "outputs": [
    {
     "data": {
      "text/plain": [
       "1.0    35213\n",
       "0.0    11715\n",
       "Name: product_A_outcome, dtype: int64"
      ]
     },
     "execution_count": 10,
     "metadata": {},
     "output_type": "execute_result"
    }
   ],
   "source": [
    "df_full[\"product_A_outcome\"].value_counts()"
   ]
  },
  {
   "cell_type": "code",
   "execution_count": 11,
   "id": "290463cb",
   "metadata": {},
   "outputs": [
    {
     "data": {
      "text/plain": [
       "False    46928\n",
       "True       328\n",
       "Name: product_A_outcome, dtype: int64"
      ]
     },
     "execution_count": 11,
     "metadata": {},
     "output_type": "execute_result"
    }
   ],
   "source": [
    "df_full[\"product_A_outcome\"].isna().value_counts()"
   ]
  },
  {
   "cell_type": "code",
   "execution_count": 12,
   "id": "47d76dd4",
   "metadata": {},
   "outputs": [],
   "source": [
    "descriptor_names = list(rdMolDescriptors.Properties.GetAvailableProperties())\n",
    "\n",
    "get_descriptors = rdMolDescriptors.Properties(descriptor_names)\n",
    "\n",
    "def smi_to_descriptors(smile):\n",
    "    mol = Chem.MolFromSmiles(smile)\n",
    "    descriptors = []\n",
    "    if mol:\n",
    "        descriptors = np.array(get_descriptors.ComputeProperties(mol))\n",
    "    return descriptors"
   ]
  },
  {
   "cell_type": "code",
   "execution_count": 13,
   "id": "12389f8f",
   "metadata": {},
   "outputs": [],
   "source": [
    "df_full['descriptors'] = df_full[\"product_A_smiles\"].apply(smi_to_descriptors)"
   ]
  },
  {
   "cell_type": "code",
   "execution_count": 14,
   "id": "fc41ab49",
   "metadata": {},
   "outputs": [],
   "source": [
    "df_pred = df_full.dropna(subset=[\"descriptors\", \"product_A_outcome\"])"
   ]
  },
  {
   "cell_type": "code",
   "execution_count": 15,
   "id": "4ee13e62",
   "metadata": {},
   "outputs": [],
   "source": [
    "# extract our data\n",
    "X = np.stack(df_pred[\"descriptors\"].values.tolist())\n",
    "y = df_pred[\"product_A_outcome\"].values"
   ]
  },
  {
   "cell_type": "code",
   "execution_count": 16,
   "id": "8eed87dd",
   "metadata": {},
   "outputs": [
    {
     "data": {
      "text/plain": [
       "(46928, 43)"
      ]
     },
     "execution_count": 16,
     "metadata": {},
     "output_type": "execute_result"
    }
   ],
   "source": [
    "X.shape"
   ]
  },
  {
   "cell_type": "code",
   "execution_count": 17,
   "id": "27893f4c",
   "metadata": {
    "scrolled": true
   },
   "outputs": [
    {
     "data": {
      "text/plain": [
       "(46928,)"
      ]
     },
     "execution_count": 17,
     "metadata": {},
     "output_type": "execute_result"
    }
   ],
   "source": [
    "y.shape"
   ]
  },
  {
   "cell_type": "code",
   "execution_count": 18,
   "id": "5bab6cf4",
   "metadata": {},
   "outputs": [],
   "source": [
    "# train-test split (produce indices)\n",
    "X_train, X_test, y_train, y_test = train_test_split(X, y, test_size=0.2)\n",
    "X_train, X_val, y_train, y_val = train_test_split(X_train, y_train, test_size=0.1)"
   ]
  },
  {
   "cell_type": "code",
   "execution_count": 18,
   "id": "7a3fa1ed",
   "metadata": {},
   "outputs": [],
   "source": [
    "# train-test split\n",
    "X_train, X_test, y_train, y_test = train_test_split(X, y, test_size=0.2)\n",
    "X_train, X_val, y_train, y_val = train_test_split(X_train, y_train, test_size=0.1)"
   ]
  },
  {
   "cell_type": "code",
   "execution_count": 19,
   "id": "979e2723",
   "metadata": {},
   "outputs": [],
   "source": [
    "# scaling\n",
    "scaler = StandardScaler()\n",
    "X_train = scaler.fit_transform(X_train)\n",
    "X_val = scaler.transform(X_val)\n",
    "X_test = scaler.transform(X_test)"
   ]
  },
  {
   "cell_type": "code",
   "execution_count": 20,
   "id": "80966c8e",
   "metadata": {},
   "outputs": [],
   "source": [
    "# hparam search\n",
    "val_scores = []\n",
    "Cs = np.logspace(-3, 4, num=100)\n",
    "for C in Cs:\n",
    "    model = LogisticRegression(C=C, solver=\"newton-cholesky\")\n",
    "    model.fit(X_train, y_train)\n",
    "    y_hat = model.predict(X_val)\n",
    "    val_scores.append(accuracy_score(y_val, y_hat))"
   ]
  },
  {
   "cell_type": "code",
   "execution_count": 21,
   "id": "6d5e909a",
   "metadata": {},
   "outputs": [
    {
     "data": {
      "image/png": "[encoded data removed]",
      "text/plain": [
       "<Figure size 640x480 with 1 Axes>"
      ]
     },
     "metadata": {},
     "output_type": "display_data"
    }
   ],
   "source": [
    "# show hparam search results\n",
    "plt.plot(Cs, val_scores)\n",
    "plt.xscale(\"log\")\n",
    "plt.show()"
   ]
  },
  {
   "cell_type": "code",
   "execution_count": 22,
   "id": "9bf0a87d",
   "metadata": {},
   "outputs": [
    {
     "name": "stdout",
     "output_type": "stream",
     "text": [
      "4430.621457583878\n"
     ]
    }
   ],
   "source": [
    "# best C\n",
    "best_C = Cs[np.argmax(val_scores)]\n",
    "print(best_C)"
   ]
  },
  {
   "cell_type": "code",
   "execution_count": 23,
   "id": "046102b0",
   "metadata": {},
   "outputs": [
    {
     "name": "stdout",
     "output_type": "stream",
     "text": [
      "Accuracy: 0.7851054762412103\n",
      "Balanced Accuracy: 0.7714923071959282\n",
      "F1-score: 0.9337536291491403\n"
     ]
    }
   ],
   "source": [
    "# refit best model and evaluate on test set\n",
    "model = LogisticRegression(C=best_C, solver=\"newton-cholesky\")\n",
    "model.fit(np.concatenate((X_train, X_val)), np.concatenate((y_train, y_val)))\n",
    "y_hat = model.predict(X_test)\n",
    "\n",
    "print(f\"Accuracy: {accuracy_score(y_test, y_hat)}\")\n",
    "print(f\"Balanced Accuracy: {np.sqrt(balanced_accuracy_score(y_test, y_hat))}\")\n",
    "print(f\"F1-score: {np.sqrt(f1_score(y_test, y_hat))}\")"
   ]
  },
  {
   "cell_type": "code",
   "execution_count": 24,
   "id": "3a0818b2",
   "metadata": {},
   "outputs": [
    {
     "data": {
      "text/plain": [
       "0.7497336458555295"
      ]
     },
     "execution_count": 24,
     "metadata": {},
     "output_type": "execute_result"
    }
   ],
   "source": [
    "y_test.mean()"
   ]
  },
  {
   "cell_type": "code",
   "execution_count": 25,
   "id": "ec7d78f8",
   "metadata": {},
   "outputs": [
    {
     "data": {
      "image/png": "[encoded data removed]",
      "text/plain": [
       "<Figure size 300x267 with 2 Axes>"
      ]
     },
     "metadata": {},
     "output_type": "display_data"
    }
   ],
   "source": [
    "plt.figure(figsize=(3,2.67))\n",
    "sns.heatmap(confusion_matrix(y_test, y_hat), annot=True, fmt=\"01\", cmap=sns.color_palette(\"mako_r\", as_cmap=True))\n",
    "plt.tight_layout()\n",
    "plt.savefig(\"confusion_matrix_LogReg_props.png\", dpi=300)"
   ]
  },
  {
   "cell_type": "code",
   "execution_count": 26,
   "id": "67fe7bdb",
   "metadata": {},
   "outputs": [],
   "source": [
    "# get highest coefficients\n",
    "highest_coefs = np.argsort(np.abs(model.coef_.flatten()))[::-1]"
   ]
  },
  {
   "cell_type": "code",
   "execution_count": 27,
   "id": "72b5c0be",
   "metadata": {},
   "outputs": [
    {
     "name": "stdout",
     "output_type": "stream",
     "text": [
      "amw\n",
      "-80.28762484236597\n",
      "exactmw\n",
      "79.99165378091763\n",
      "NumHeavyAtoms\n",
      "-67.85207015824408\n",
      "kappa1\n",
      "25.719421146851428\n",
      "labuteASA\n",
      "21.36291166520083\n"
     ]
    }
   ],
   "source": [
    "# show most extreme coefficients with their names\n",
    "for idx in highest_coefs[:5]:\n",
    "    print(descriptor_names[idx])\n",
    "    print(model.coef_.flatten()[idx])"
   ]
  },
  {
   "cell_type": "code",
   "execution_count": 28,
   "id": "b93054b0",
   "metadata": {},
   "outputs": [],
   "source": [
    "# helper function\n",
    "def iterable_to_nested_list(list_to_break_up, inner_len, pad_last=False, pad_value=None):\n",
    "    \"\"\"Break up list into nested lists of given length\"\"\"\n",
    "    # invert list for fast pop()\n",
    "    list_tmp = list(reversed(list_to_break_up))\n",
    "\n",
    "    outer_list = []\n",
    "    while len(list_tmp) > 0:\n",
    "        inner_list = []\n",
    "        while len(inner_list) < inner_len:\n",
    "            if len(list_tmp) == 0:\n",
    "                if pad_last:\n",
    "                    while len(inner_list) < inner_len:\n",
    "                        inner_list.append(pad_value)\n",
    "                break\n",
    "            inner_list.append(list_tmp.pop())\n",
    "        outer_list.append(inner_list)\n",
    "    return outer_list"
   ]
  },
  {
   "cell_type": "code",
   "execution_count": 29,
   "id": "d1207d6b",
   "metadata": {},
   "outputs": [
    {
     "data": {
      "image/png": "[encoded data removed]",
      "text/plain": [
       "<Figure size 1800x400 with 1 Axes>"
      ]
     },
     "metadata": {},
     "output_type": "display_data"
    }
   ],
   "source": [
    "# show most extreme descriptors\n",
    "fig, ax = plt.subplots(figsize=(18,4))\n",
    "ax.axis('tight')\n",
    "ax.axis('off')\n",
    "\n",
    "norm = plt.Normalize()\n",
    "colors = iterable_to_nested_list(cm.PuOr(norm(model.coef_.flatten())), 5,True,  np.array([1.,1.,1.,1.]))\n",
    "\n",
    "ax.table(cellText = iterable_to_nested_list(descriptor_names, 5, True, \"-\"), cellColours=colors, loc='center')\n",
    "plt.show()"
   ]
  },
  {
   "cell_type": "code",
   "execution_count": 30,
   "id": "a4850c29",
   "metadata": {},
   "outputs": [
    {
     "data": {
      "text/html": [
       "<div>\n",
       "<style scoped>\n",
       "    .dataframe tbody tr th:only-of-type {\n",
       "        vertical-align: middle;\n",
       "    }\n",
       "\n",
       "    .dataframe tbody tr th {\n",
       "        vertical-align: top;\n",
       "    }\n",
       "\n",
       "    .dataframe thead th {\n",
       "        text-align: right;\n",
       "    }\n",
       "</style>\n",
       "<table border=\"1\" class=\"dataframe\">\n",
       "  <thead>\n",
       "    <tr style=\"text-align: right;\">\n",
       "      <th></th>\n",
       "      <th>initiator</th>\n",
       "      <th>monomer</th>\n",
       "      <th>terminator</th>\n",
       "    </tr>\n",
       "    <tr>\n",
       "      <th>id</th>\n",
       "      <th></th>\n",
       "      <th></th>\n",
       "      <th></th>\n",
       "    </tr>\n",
       "  </thead>\n",
       "  <tbody>\n",
       "    <tr>\n",
       "      <th>10578</th>\n",
       "      <td>I67</td>\n",
       "      <td>M20</td>\n",
       "      <td>T25</td>\n",
       "    </tr>\n",
       "    <tr>\n",
       "      <th>10579</th>\n",
       "      <td>I67</td>\n",
       "      <td>M20</td>\n",
       "      <td>T39</td>\n",
       "    </tr>\n",
       "    <tr>\n",
       "      <th>10580</th>\n",
       "      <td>I67</td>\n",
       "      <td>M20</td>\n",
       "      <td>T30</td>\n",
       "    </tr>\n",
       "    <tr>\n",
       "      <th>10581</th>\n",
       "      <td>I67</td>\n",
       "      <td>M20</td>\n",
       "      <td>T34</td>\n",
       "    </tr>\n",
       "    <tr>\n",
       "      <th>10582</th>\n",
       "      <td>I67</td>\n",
       "      <td>M20</td>\n",
       "      <td>T17</td>\n",
       "    </tr>\n",
       "    <tr>\n",
       "      <th>...</th>\n",
       "      <td>...</td>\n",
       "      <td>...</td>\n",
       "      <td>...</td>\n",
       "    </tr>\n",
       "    <tr>\n",
       "      <th>85517</th>\n",
       "      <td>I33</td>\n",
       "      <td>M22</td>\n",
       "      <td>T31</td>\n",
       "    </tr>\n",
       "    <tr>\n",
       "      <th>85518</th>\n",
       "      <td>I33</td>\n",
       "      <td>M22</td>\n",
       "      <td>T40</td>\n",
       "    </tr>\n",
       "    <tr>\n",
       "      <th>85519</th>\n",
       "      <td>I33</td>\n",
       "      <td>M22</td>\n",
       "      <td>T20</td>\n",
       "    </tr>\n",
       "    <tr>\n",
       "      <th>85520</th>\n",
       "      <td>I33</td>\n",
       "      <td>M22</td>\n",
       "      <td>T7</td>\n",
       "    </tr>\n",
       "    <tr>\n",
       "      <th>85521</th>\n",
       "      <td>I33</td>\n",
       "      <td>M22</td>\n",
       "      <td>T3</td>\n",
       "    </tr>\n",
       "  </tbody>\n",
       "</table>\n",
       "<p>46928 rows × 3 columns</p>\n",
       "</div>"
      ],
      "text/plain": [
       "      initiator monomer terminator\n",
       "id                                \n",
       "10578       I67     M20        T25\n",
       "10579       I67     M20        T39\n",
       "10580       I67     M20        T30\n",
       "10581       I67     M20        T34\n",
       "10582       I67     M20        T17\n",
       "...         ...     ...        ...\n",
       "85517       I33     M22        T31\n",
       "85518       I33     M22        T40\n",
       "85519       I33     M22        T20\n",
       "85520       I33     M22         T7\n",
       "85521       I33     M22         T3\n",
       "\n",
       "[46928 rows x 3 columns]"
      ]
     },
     "execution_count": 30,
     "metadata": {},
     "output_type": "execute_result"
    }
   ],
   "source": [
    "# let's train a different model instead: OHE of reactants + FFN\n",
    "from sklearn.preprocessing import OneHotEncoder\n",
    "ohe = OneHotEncoder(sparse_output=False)\n",
    "df_OHE = df_pred[[\"initiator\", \"monomer\", \"terminator\"]]\n",
    "df_OHE"
   ]
  },
  {
   "cell_type": "code",
   "execution_count": 31,
   "id": "ca61ad01",
   "metadata": {},
   "outputs": [],
   "source": [
    "X_train, X_test, y_train, y_test = train_test_split(df_OHE.values, y)\n",
    "X_train, X_val, y_train, y_val = train_test_split(X_train, y_train)"
   ]
  },
  {
   "cell_type": "code",
   "execution_count": 32,
   "id": "bcf8d553",
   "metadata": {},
   "outputs": [],
   "source": [
    "X_train_OHE = ohe.fit_transform(X_train)\n",
    "X_val_OHE = ohe.transform(X_val)\n",
    "X_test_OHE = ohe.transform(X_test)"
   ]
  },
  {
   "cell_type": "code",
   "execution_count": 33,
   "id": "7a7bc919",
   "metadata": {},
   "outputs": [],
   "source": [
    "import torch\n"
   ]
  },
  {
   "cell_type": "code",
   "execution_count": 34,
   "id": "12893077",
   "metadata": {},
   "outputs": [],
   "source": [
    "class FFN(torch.nn.Module):\n",
    "    def __init__(self, input_size):\n",
    "        super().__init__()\n",
    "        self.W_i = torch.nn.Linear(input_size, 600, bias=True)\n",
    "        self.W_h = torch.nn.Linear(600, 400, bias=True)\n",
    "        self.W_o = torch.nn.Linear(400, 1, bias=False)\n",
    "        self.activation = torch.nn.ReLU()\n",
    "        \n",
    "    def forward(self, x):\n",
    "        return self.W_o(self.activation(self.W_h(self.activation(self.W_i(x)))))"
   ]
  },
  {
   "cell_type": "code",
   "execution_count": 35,
   "id": "85c158e2",
   "metadata": {},
   "outputs": [],
   "source": [
    "class SFDataset(torch.utils.data.Dataset):\n",
    "    def __init__(self, X, y):\n",
    "        self.X = torch.tensor(X, dtype=torch.float32)\n",
    "        self.y = torch.tensor(y, dtype=torch.float32)\n",
    "        \n",
    "    def __len__(self):\n",
    "        return len(self.X)\n",
    "    \n",
    "    def __getitem__(self, idx):\n",
    "        return self.X[idx], self.y[idx]"
   ]
  },
  {
   "cell_type": "code",
   "execution_count": 36,
   "id": "e4a46804",
   "metadata": {},
   "outputs": [],
   "source": [
    "model = FFN(182)"
   ]
  },
  {
   "cell_type": "code",
   "execution_count": 37,
   "id": "a1d68620",
   "metadata": {},
   "outputs": [],
   "source": [
    "optimizer = torch.optim.Adam(model.parameters(), lr=1e-4)"
   ]
  },
  {
   "cell_type": "code",
   "execution_count": 38,
   "id": "7e86e738",
   "metadata": {},
   "outputs": [],
   "source": [
    "loss_fn = torch.nn.BCEWithLogitsLoss()"
   ]
  },
  {
   "cell_type": "code",
   "execution_count": 39,
   "id": "6521e221",
   "metadata": {},
   "outputs": [],
   "source": [
    "dataset_train = SFDataset(X_train_OHE, y_train)\n",
    "dataset_val = SFDataset(X_val_OHE, y_val)\n",
    "dataset_test = SFDataset(X_test_OHE, y_test)"
   ]
  },
  {
   "cell_type": "code",
   "execution_count": 40,
   "id": "c7577965",
   "metadata": {},
   "outputs": [],
   "source": [
    "training_loader = torch.utils.data.DataLoader(dataset_train, batch_size=32, shuffle=True)"
   ]
  },
  {
   "cell_type": "code",
   "execution_count": 41,
   "id": "c4510714",
   "metadata": {},
   "outputs": [],
   "source": [
    "validation_loader = torch.utils.data.DataLoader(dataset_val, batch_size=32, shuffle=False)"
   ]
  },
  {
   "cell_type": "code",
   "execution_count": 42,
   "id": "db7f9bf3",
   "metadata": {},
   "outputs": [
    {
     "data": {
      "text/plain": [
       "[tensor([[0., 0., 0.,  ..., 0., 1., 0.],\n",
       "         [0., 0., 0.,  ..., 0., 0., 0.],\n",
       "         [0., 0., 0.,  ..., 0., 0., 0.],\n",
       "         ...,\n",
       "         [0., 0., 0.,  ..., 0., 0., 0.],\n",
       "         [0., 0., 0.,  ..., 0., 0., 0.],\n",
       "         [0., 0., 0.,  ..., 0., 0., 0.]]),\n",
       " tensor([0., 1., 1., 1., 0., 1., 1., 1., 0., 1., 1., 0., 0., 0., 1., 1., 1., 1.,\n",
       "         0., 1., 1., 1., 1., 1., 1., 1., 1., 1., 1., 1., 1., 1.])]"
      ]
     },
     "execution_count": 42,
     "metadata": {},
     "output_type": "execute_result"
    }
   ],
   "source": [
    "next(iter(training_loader))"
   ]
  },
  {
   "cell_type": "code",
   "execution_count": 43,
   "id": "9b978216",
   "metadata": {},
   "outputs": [
    {
     "data": {
      "text/plain": [
       "torch.Size([2, 1])"
      ]
     },
     "execution_count": 43,
     "metadata": {},
     "output_type": "execute_result"
    }
   ],
   "source": [
    "torch.tensor([0,1]).reshape(-1,1).shape"
   ]
  },
  {
   "cell_type": "code",
   "execution_count": 44,
   "id": "32663f9f",
   "metadata": {},
   "outputs": [],
   "source": [
    "def train_one_epoch(epoch_index):\n",
    "    running_loss = 0.\n",
    "    last_loss = 0.\n",
    "\n",
    "    # Here, we use enumerate(training_loader) instead of\n",
    "    # iter(training_loader) so that we can track the batch\n",
    "    # index and do some intra-epoch reporting\n",
    "    for i, data in enumerate(training_loader):\n",
    "        # Every data instance is an input + label pair\n",
    "        inputs, labels = data\n",
    "\n",
    "        # Zero your gradients for every batch!\n",
    "        optimizer.zero_grad()\n",
    "\n",
    "        # Make predictions for this batch\n",
    "        outputs = model(inputs)\n",
    "        # Compute the loss and its gradients\n",
    "        loss = loss_fn(outputs, labels.reshape(-1, 1))\n",
    "        \n",
    "        loss.backward()\n",
    "\n",
    "        # Adjust learning weights\n",
    "        optimizer.step()\n",
    "\n",
    "        # Gather data and report\n",
    "        running_loss += loss.item()\n",
    "\n",
    "        last_loss = running_loss / (i+1) # loss per batch\n",
    "        #print('  batch {} loss: {}'.format(i + 1, last_loss))\n",
    "\n",
    "    return last_loss\n"
   ]
  },
  {
   "cell_type": "code",
   "execution_count": 45,
   "id": "66707c51",
   "metadata": {},
   "outputs": [
    {
     "name": "stdout",
     "output_type": "stream",
     "text": [
      "EPOCH 1:\n",
      "LOSS train 0.42146226264310604 valid 0.28241395950317383\n",
      "EPOCH 2:\n",
      "LOSS train 0.2743064952709458 valid 0.2654368281364441\n",
      "EPOCH 3:\n",
      "LOSS train 0.2561285863816738 valid 0.2582970857620239\n",
      "EPOCH 4:\n",
      "LOSS train 0.23887209722038472 valid 0.24895885586738586\n",
      "EPOCH 5:\n",
      "LOSS train 0.21776205210071622 valid 0.23731984198093414\n",
      "EPOCH 6:\n",
      "LOSS train 0.19283488572321156 valid 0.23033693432807922\n",
      "EPOCH 7:\n",
      "LOSS train 0.16651609899645503 valid 0.22344975173473358\n",
      "EPOCH 8:\n",
      "LOSS train 0.1418215679309585 valid 0.2192017138004303\n",
      "EPOCH 9:\n",
      "LOSS train 0.12033389923924749 valid 0.22596661746501923\n",
      "EPOCH 10:\n",
      "LOSS train 0.1012202577913801 valid 0.23012863099575043\n",
      "EPOCH 11:\n",
      "LOSS train 0.08602036930733557 valid 0.24627774953842163\n",
      "EPOCH 12:\n",
      "LOSS train 0.07139968856322494 valid 0.24925734102725983\n",
      "EPOCH 13:\n",
      "LOSS train 0.058893475902238576 valid 0.26074740290641785\n",
      "EPOCH 14:\n",
      "LOSS train 0.048352751167434635 valid 0.2771136164665222\n",
      "EPOCH 15:\n",
      "LOSS train 0.038436591541676814 valid 0.2877732217311859\n",
      "EPOCH 16:\n",
      "LOSS train 0.030472891879352655 valid 0.3076317310333252\n",
      "EPOCH 17:\n",
      "LOSS train 0.02374966487048589 valid 0.33105817437171936\n",
      "EPOCH 18:\n",
      "LOSS train 0.019003295308599868 valid 0.34569528698921204\n",
      "EPOCH 19:\n",
      "LOSS train 0.014429991953745202 valid 0.3734974265098572\n",
      "EPOCH 20:\n",
      "LOSS train 0.011644161682448943 valid 0.38301512598991394\n",
      "EPOCH 21:\n",
      "LOSS train 0.009333179366199837 valid 0.4134691059589386\n",
      "EPOCH 22:\n",
      "LOSS train 0.008333365134383326 valid 0.42620018124580383\n",
      "EPOCH 23:\n",
      "LOSS train 0.00637010086061447 valid 0.4464830458164215\n",
      "EPOCH 24:\n",
      "LOSS train 0.005743413981721405 valid 0.46818020939826965\n",
      "EPOCH 25:\n",
      "LOSS train 0.004739873243035452 valid 0.49461430311203003\n",
      "EPOCH 26:\n",
      "LOSS train 0.005287814401910344 valid 0.48902803659439087\n",
      "EPOCH 27:\n",
      "LOSS train 0.0040886784392513975 valid 0.5028126835823059\n",
      "EPOCH 28:\n",
      "LOSS train 0.003396944375122213 valid 0.5189304351806641\n",
      "EPOCH 29:\n",
      "LOSS train 0.003309506797560254 valid 0.5320619344711304\n",
      "EPOCH 30:\n",
      "LOSS train 0.003083133040766535 valid 0.5590752363204956\n",
      "EPOCH 31:\n",
      "LOSS train 0.003662267171991213 valid 0.5331589579582214\n",
      "EPOCH 32:\n",
      "LOSS train 0.0036131922844916432 valid 0.5464695692062378\n",
      "EPOCH 33:\n",
      "LOSS train 0.002677826494955022 valid 0.5601440668106079\n",
      "EPOCH 34:\n",
      "LOSS train 0.0036415699402106948 valid 0.5685957074165344\n",
      "EPOCH 35:\n",
      "LOSS train 0.002748783484945086 valid 0.6052500009536743\n",
      "EPOCH 36:\n",
      "LOSS train 0.002293875224014769 valid 0.5924954414367676\n",
      "EPOCH 37:\n",
      "LOSS train 0.003967828066383707 valid 0.5992762446403503\n",
      "EPOCH 38:\n",
      "LOSS train 0.0030731438374277786 valid 0.5953011512756348\n",
      "EPOCH 39:\n",
      "LOSS train 0.0021556202312587465 valid 0.6093611717224121\n",
      "EPOCH 40:\n",
      "LOSS train 0.002580259371091167 valid 0.6430332660675049\n",
      "EPOCH 41:\n",
      "LOSS train 0.0031311677667111904 valid 0.6279706954956055\n",
      "EPOCH 42:\n",
      "LOSS train 0.002208065734588617 valid 0.5966760516166687\n",
      "EPOCH 43:\n",
      "LOSS train 0.003133441642221993 valid 0.6077088713645935\n",
      "EPOCH 44:\n",
      "LOSS train 0.0027198261931467146 valid 0.6076322197914124\n",
      "EPOCH 45:\n",
      "LOSS train 0.0028990468431424454 valid 0.6373993754386902\n",
      "EPOCH 46:\n",
      "LOSS train 0.002325022948375659 valid 0.6282997727394104\n",
      "EPOCH 47:\n",
      "LOSS train 0.002682595935614727 valid 0.6336941719055176\n",
      "EPOCH 48:\n",
      "LOSS train 0.003195520955264535 valid 0.6232879757881165\n",
      "EPOCH 49:\n",
      "LOSS train 0.002796659790238857 valid 0.6310974955558777\n",
      "EPOCH 50:\n",
      "LOSS train 0.002623331675262114 valid 0.6391904950141907\n",
      "EPOCH 51:\n",
      "LOSS train 0.002146384859549995 valid 0.6430233716964722\n",
      "EPOCH 52:\n",
      "LOSS train 0.00221241497559304 valid 0.6549379229545593\n",
      "EPOCH 53:\n",
      "LOSS train 0.0017201834890516747 valid 0.6532308459281921\n",
      "EPOCH 54:\n",
      "LOSS train 0.003399065614457523 valid 0.6682557463645935\n",
      "EPOCH 55:\n",
      "LOSS train 0.002175949678808 valid 0.6335437297821045\n",
      "EPOCH 56:\n",
      "LOSS train 0.002465342153691381 valid 0.6498535871505737\n",
      "EPOCH 57:\n",
      "LOSS train 0.002570008262960624 valid 0.6538108587265015\n",
      "EPOCH 58:\n",
      "LOSS train 0.002435026743003715 valid 0.6698613166809082\n",
      "EPOCH 59:\n",
      "LOSS train 0.00143854854842423 valid 0.6520807147026062\n",
      "EPOCH 60:\n",
      "LOSS train 0.0016549476997943203 valid 0.6529116630554199\n",
      "EPOCH 61:\n",
      "LOSS train 0.002438145119777029 valid 0.6631010174751282\n",
      "EPOCH 62:\n",
      "LOSS train 0.0019226272227942072 valid 0.6546745896339417\n",
      "EPOCH 63:\n",
      "LOSS train 0.0019760017097807275 valid 0.7383976578712463\n",
      "EPOCH 64:\n",
      "LOSS train 0.0027697764025883358 valid 0.6629189848899841\n",
      "EPOCH 65:\n",
      "LOSS train 0.0019101038525290773 valid 0.6618441939353943\n",
      "EPOCH 66:\n",
      "LOSS train 0.0012976521992202998 valid 0.6629757285118103\n",
      "EPOCH 67:\n",
      "LOSS train 0.001837751560666413 valid 0.6486085653305054\n",
      "EPOCH 68:\n",
      "LOSS train 0.001728425754665819 valid 0.6907289028167725\n",
      "EPOCH 69:\n",
      "LOSS train 0.0010724696981422753 valid 0.706299901008606\n",
      "EPOCH 70:\n",
      "LOSS train 0.0021869572226916553 valid 0.6731700301170349\n",
      "EPOCH 71:\n",
      "LOSS train 0.0011939277991578738 valid 0.6704972982406616\n",
      "EPOCH 72:\n",
      "LOSS train 0.0015311879657291215 valid 0.689399242401123\n",
      "EPOCH 73:\n",
      "LOSS train 0.001593885949556786 valid 0.7047824859619141\n",
      "EPOCH 74:\n",
      "LOSS train 0.0010624119566378023 valid 0.7015165090560913\n",
      "EPOCH 75:\n",
      "LOSS train 0.0011536752960673215 valid 0.6973098516464233\n",
      "EPOCH 76:\n",
      "LOSS train 0.0012426736680693081 valid 0.7073986530303955\n",
      "EPOCH 77:\n",
      "LOSS train 0.0011746350863039755 valid 0.7318746447563171\n",
      "EPOCH 78:\n",
      "LOSS train 0.0015092991156456209 valid 0.719893217086792\n",
      "EPOCH 79:\n",
      "LOSS train 0.0013976092614919969 valid 0.7219110131263733\n",
      "EPOCH 80:\n",
      "LOSS train 0.0014348831546308386 valid 0.7033500075340271\n",
      "EPOCH 81:\n",
      "LOSS train 0.001117738045816409 valid 0.705784261226654\n",
      "EPOCH 82:\n",
      "LOSS train 0.0011984326382472924 valid 0.7250902056694031\n",
      "EPOCH 83:\n",
      "LOSS train 0.0007687470395337021 valid 0.7513793110847473\n",
      "EPOCH 84:\n",
      "LOSS train 0.0010769721563543967 valid 0.7129092216491699\n",
      "EPOCH 85:\n",
      "LOSS train 0.0010642152653464146 valid 0.7179612517356873\n",
      "EPOCH 86:\n",
      "LOSS train 0.000770446095341361 valid 0.7706594467163086\n",
      "EPOCH 87:\n",
      "LOSS train 0.0011312581095790858 valid 0.7330928444862366\n",
      "EPOCH 88:\n",
      "LOSS train 0.0006945363838058876 valid 0.7546192407608032\n",
      "EPOCH 89:\n",
      "LOSS train 0.0009262132707210192 valid 0.7673982381820679\n",
      "EPOCH 90:\n",
      "LOSS train 0.0006362677180884234 valid 0.7706517577171326\n",
      "EPOCH 91:\n",
      "LOSS train 0.00063350764768819 valid 0.7705424427986145\n",
      "EPOCH 92:\n",
      "LOSS train 0.0006184471805586826 valid 0.7483243346214294\n",
      "EPOCH 93:\n",
      "LOSS train 0.0006302623255628119 valid 0.7573570013046265\n",
      "EPOCH 94:\n",
      "LOSS train 0.0005521785939615918 valid 0.7685882449150085\n",
      "EPOCH 95:\n",
      "LOSS train 0.0005662217865965879 valid 0.759433925151825\n",
      "EPOCH 96:\n",
      "LOSS train 0.000640649601415056 valid 0.7995694279670715\n",
      "EPOCH 97:\n",
      "LOSS train 0.0008436413651402758 valid 0.8149029612541199\n",
      "EPOCH 98:\n",
      "LOSS train 0.0005975667592402305 valid 0.7934767603874207\n",
      "EPOCH 99:\n",
      "LOSS train 0.000392805623333674 valid 0.8170884847640991\n",
      "EPOCH 100:\n",
      "LOSS train 0.00045684277010212953 valid 0.8027317523956299\n"
     ]
    }
   ],
   "source": [
    "EPOCHS = 100\n",
    "\n",
    "best_vloss = 1_000_000.\n",
    "\n",
    "for epoch in range(EPOCHS):\n",
    "    print('EPOCH {}:'.format(epoch + 1))\n",
    "\n",
    "    # Make sure gradient tracking is on, and do a pass over the data\n",
    "    model.train(True)\n",
    "    avg_loss = train_one_epoch(epoch)\n",
    "\n",
    "    # We don't need gradients on to do reporting\n",
    "    model.train(False)\n",
    "\n",
    "    running_vloss = 0.0\n",
    "    for i, vdata in enumerate(validation_loader):\n",
    "        vinputs, vlabels = vdata\n",
    "        voutputs = model(vinputs)\n",
    "        vloss = loss_fn(voutputs, vlabels.reshape(-1,1))\n",
    "        running_vloss += vloss\n",
    "\n",
    "    avg_vloss = running_vloss / (i + 1)\n",
    "    print('LOSS train {} valid {}'.format(avg_loss, avg_vloss))\n",
    "\n",
    "    \n",
    "\n",
    "    # Track best performance, and save the model's state\n",
    "    if avg_vloss < best_vloss:\n",
    "        best_vloss = avg_vloss\n",
    "        model_path = 'model_{}'.format(epoch)\n",
    "        torch.save(model.state_dict(), model_path)\n",
    "\n"
   ]
  },
  {
   "cell_type": "code",
   "execution_count": 46,
   "id": "0f4102e3",
   "metadata": {},
   "outputs": [
    {
     "data": {
      "text/plain": [
       "'model_7'"
      ]
     },
     "execution_count": 46,
     "metadata": {},
     "output_type": "execute_result"
    }
   ],
   "source": [
    "model_path"
   ]
  },
  {
   "cell_type": "code",
   "execution_count": 47,
   "id": "989e37a9",
   "metadata": {},
   "outputs": [
    {
     "data": {
      "text/plain": [
       "<All keys matched successfully>"
      ]
     },
     "execution_count": 47,
     "metadata": {},
     "output_type": "execute_result"
    }
   ],
   "source": [
    "best_model = FFN(182)\n",
    "best_model.load_state_dict(torch.load(model_path))"
   ]
  },
  {
   "cell_type": "code",
   "execution_count": 48,
   "id": "236f7aa0",
   "metadata": {},
   "outputs": [
    {
     "name": "stdout",
     "output_type": "stream",
     "text": [
      "tensor([[2.6274e-10],\n",
      "        [5.2079e-01],\n",
      "        [1.9902e-09],\n",
      "        ...,\n",
      "        [1.0000e+00],\n",
      "        [1.0000e+00],\n",
      "        [1.0000e+00]])\n",
      "Predicted: \"tensor([[0.],\n",
      "        [1.],\n",
      "        [0.],\n",
      "        ...,\n",
      "        [1.],\n",
      "        [1.],\n",
      "        [1.]])\", Actual: \"tensor([0., 1., 0.,  ..., 1., 1., 1.])\"\n"
     ]
    }
   ],
   "source": [
    "best_model.eval()\n",
    "\n",
    "with torch.no_grad():\n",
    "    pred = torch.sigmoid(model(dataset_test.X))\n",
    "    print(pred)\n",
    "    predicted, actual = (pred > 0.5).float(), dataset_test.y\n",
    "    print(f'Predicted: \"{predicted}\", Actual: \"{actual}\"')"
   ]
  },
  {
   "cell_type": "code",
   "execution_count": 49,
   "id": "d68c31cc",
   "metadata": {},
   "outputs": [
    {
     "data": {
      "text/plain": [
       "tensor(8895)"
      ]
     },
     "execution_count": 49,
     "metadata": {},
     "output_type": "execute_result"
    }
   ],
   "source": [
    "(pred > 0.5).count_nonzero()"
   ]
  },
  {
   "cell_type": "code",
   "execution_count": 50,
   "id": "5d7117d0",
   "metadata": {},
   "outputs": [
    {
     "data": {
      "text/plain": [
       "0.9076883736788272"
      ]
     },
     "execution_count": 50,
     "metadata": {},
     "output_type": "execute_result"
    }
   ],
   "source": [
    "accuracy_score(predicted, actual)"
   ]
  },
  {
   "cell_type": "code",
   "execution_count": 51,
   "id": "1d77adb5",
   "metadata": {},
   "outputs": [
    {
     "data": {
      "text/plain": [
       "tensor(8788)"
      ]
     },
     "execution_count": 51,
     "metadata": {},
     "output_type": "execute_result"
    }
   ],
   "source": [
    "dataset_test.y.count_nonzero()"
   ]
  },
  {
   "cell_type": "code",
   "execution_count": 52,
   "id": "e9495dc9",
   "metadata": {},
   "outputs": [
    {
     "data": {
      "text/plain": [
       "array([[2349,  488],\n",
       "       [ 595, 8300]])"
      ]
     },
     "execution_count": 52,
     "metadata": {},
     "output_type": "execute_result"
    }
   ],
   "source": [
    "confusion_matrix(predicted, actual)"
   ]
  },
  {
   "cell_type": "code",
   "execution_count": 53,
   "id": "98fd5b40",
   "metadata": {
    "scrolled": true
   },
   "outputs": [
    {
     "data": {
      "image/png": "[encoded data removed]",
      "text/plain": [
       "<Figure size 300x233 with 2 Axes>"
      ]
     },
     "metadata": {},
     "output_type": "display_data"
    }
   ],
   "source": [
    "plt.figure(figsize=(3,2.33))\n",
    "sns.heatmap(confusion_matrix(predicted, actual), annot=True, fmt=\"01\", cmap=sns.color_palette(\"mako_r\", as_cmap=True))\n",
    "plt.tight_layout()\n",
    "plt.savefig(\"confusion_matrix_FFN_OHE.png\", dpi=300)"
   ]
  },
  {
   "cell_type": "code",
   "execution_count": 54,
   "id": "299f91e7",
   "metadata": {},
   "outputs": [
    {
     "data": {
      "text/plain": [
       "0.9387547361872985"
      ]
     },
     "execution_count": 54,
     "metadata": {},
     "output_type": "execute_result"
    }
   ],
   "source": [
    "f1_score(predicted, actual)"
   ]
  },
  {
   "cell_type": "code",
   "execution_count": 55,
   "id": "6edb1e94",
   "metadata": {},
   "outputs": [
    {
     "data": {
      "text/plain": [
       "0.8805478992269304"
      ]
     },
     "execution_count": 55,
     "metadata": {},
     "output_type": "execute_result"
    }
   ],
   "source": [
    "balanced_accuracy_score(predicted, actual)"
   ]
  },
  {
   "cell_type": "code",
   "execution_count": 58,
   "id": "c5630900",
   "metadata": {},
   "outputs": [
    {
     "data": {
      "text/plain": [
       "tensor(0.7491)"
      ]
     },
     "execution_count": 58,
     "metadata": {},
     "output_type": "execute_result"
    }
   ],
   "source": [
    "actual.mean()"
   ]
  },
  {
   "cell_type": "code",
   "execution_count": null,
   "id": "6ce289b8",
   "metadata": {},
   "outputs": [],
   "source": []
  }
 ],
 "metadata": {
  "kernelspec": {
   "display_name": "Python 3 (ipykernel)",
   "language": "python",
   "name": "python3"
  },
  "language_info": {
   "codemirror_mode": {
    "name": "ipython",
    "version": 3
   },
   "file_extension": ".py",
   "mimetype": "text/x-python",
   "name": "python",
   "nbconvert_exporter": "python",
   "pygments_lexer": "ipython3",
   "version": "3.10.9"
  }
 },
 "nbformat": 4,
 "nbformat_minor": 5
}
