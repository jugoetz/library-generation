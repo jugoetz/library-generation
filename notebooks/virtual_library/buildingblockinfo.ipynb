{
 "cells": [
  {
   "cell_type": "code",
   "execution_count": null,
   "metadata": {},
   "outputs": [],
   "source": [
    "import json\n",
    "from pathlib import Path\n",
    "\n",
    "import pandas as pd\n",
    "from rdkit import Chem"
   ]
  },
  {
   "cell_type": "code",
   "execution_count": null,
   "metadata": {},
   "outputs": [],
   "source": [
    "DATA_DIR = Path('..', 'data').resolve()\n",
    "OUTPUT_DIR = DATA_DIR / 'outputs'\n",
    "INFO_PATH = OUTPUT_DIR / 'library_constituents_dataframe.pkl'\n",
    "COMPOUND_MAPPING_PATH = OUTPUT_DIR / 'compound_mapping.txt'\n",
    "EXP_PLAN_PATH = OUTPUT_DIR / 'synthesis_plan.json'"
   ]
  },
  {
   "cell_type": "code",
   "execution_count": null,
   "metadata": {},
   "outputs": [],
   "source": [
    "with open(INFO_PATH, 'rb') as file:\n",
    "    df = pd.read_pickle(file)\n",
    "\n",
    "with open(COMPOUND_MAPPING_PATH, 'r') as file:\n",
    "    compound_mapping = {}\n",
    "    for line in file.readlines():\n",
    "        compound_mapping[line.split()[0]] = line.split()[1]\n",
    "\n",
    "with open(EXP_PLAN_PATH, 'r')as file:\n",
    "    synthesis_plan = json.load(file)"
   ]
  },
  {
   "cell_type": "code",
   "execution_count": null,
   "metadata": {},
   "outputs": [],
   "source": [
    "exp1 = synthesis_plan[0]"
   ]
  },
  {
   "cell_type": "code",
   "execution_count": null,
   "metadata": {},
   "outputs": [],
   "source": [
    "building_blocks = [i for x in exp1 for i in x ]\n",
    "len(building_blocks)"
   ]
  },
  {
   "cell_type": "code",
   "execution_count": null,
   "metadata": {},
   "outputs": [],
   "source": [
    "building_blocks_2 = [[i, compound_mapping[i], df.loc[df['Compound Name'] == compound_mapping[i], 'mol' ].values[0]] for i in building_blocks]\n",
    "building_blocks_2\n"
   ]
  },
  {
   "cell_type": "code",
   "execution_count": null,
   "metadata": {},
   "outputs": [],
   "source": [
    "for i in building_blocks_2:\n",
    "    print(i[0], i[1])\n",
    "    i[2].SetProp('short', i[0])\n",
    "len(building_blocks_2)"
   ]
  },
  {
   "cell_type": "code",
   "execution_count": null,
   "metadata": {},
   "outputs": [],
   "source": [
    "with open(OUTPUT_DIR / 'sdf' / 'bb_exp1.sdf', 'w') as file:\n",
    "    writer = Chem.SDWriter(file)\n",
    "    for i in building_blocks_2:\n",
    "        writer.write(i[2])\n",
    "\n",
    "    \"\"\"It is necessary to close the SDWriters manually to prevent an exception during garbage collection\"\"\"\n",
    "    writer.close()\n"
   ]
  }
 ],
 "metadata": {
  "kernelspec": {
   "display_name": "Python 3 (ipykernel)",
   "language": "python",
   "name": "python3"
  },
  "language_info": {
   "codemirror_mode": {
    "name": "ipython",
    "version": 3
   },
   "file_extension": ".py",
   "mimetype": "text/x-python",
   "name": "python",
   "nbconvert_exporter": "python",
   "pygments_lexer": "ipython3",
   "version": "3.9.7"
  }
 },
 "nbformat": 4,
 "nbformat_minor": 1
}
