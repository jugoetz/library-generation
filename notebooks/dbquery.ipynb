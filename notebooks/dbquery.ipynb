{
 "cells": [
  {
   "cell_type": "code",
   "execution_count": 1,
   "outputs": [],
   "source": [
    "import sqlite3 as sql\n",
    "from pathlib import Path\n",
    "from rdkit.Chem import Draw\n",
    "from rdkit import Chem\n",
    "from PIL import Image"
   ],
   "metadata": {
    "collapsed": false,
    "pycharm": {
     "name": "#%%\n"
    }
   }
  },
  {
   "cell_type": "code",
   "execution_count": 2,
   "outputs": [],
   "source": [
    "DATA_DIR = Path('..', 'data').resolve()\n",
    "DB_PATH = DATA_DIR / 'db' / '50k_project.db'\n",
    "STATIC_DIR = DATA_DIR / 'db' / 'static'"
   ],
   "metadata": {
    "collapsed": false,
    "pycharm": {
     "name": "#%%\n"
    }
   }
  },
  {
   "cell_type": "code",
   "execution_count": 3,
   "outputs": [],
   "source": [
    "con = sql.connect(DB_PATH)\n",
    "cur = con.cursor()"
   ],
   "metadata": {
    "collapsed": false,
    "pycharm": {
     "name": "#%%\n"
    }
   }
  },
  {
   "cell_type": "code",
   "execution_count": 4,
   "outputs": [],
   "source": [
    "\"\"\"Some functions for simple queries to the db\"\"\"\n",
    "def get_mol(short):\n",
    "    smiles = cur.execute('SELECT SMILES FROM main.buildingblocks WHERE short = ?;', (short,)).fetchone()[0]\n",
    "    return Chem.MolFromSmiles(smiles)\n",
    "\n",
    "def get_smiles(short):\n",
    "    smiles = cur.execute('SELECT SMILES FROM main.buildingblocks WHERE short = ?;', (short,)).fetchone()[0]\n",
    "    return smiles\n",
    "\n",
    "def show_image(short):\n",
    "    img_path = cur.execute('SELECT image FROM main.buildingblocks WHERE short = ?;', (short,)).fetchone()[0]\n",
    "    Image.open(img_path).show()\n",
    "    return\n",
    "\n",
    "def list_pg(short):\n",
    "    \"\"\"Returns a 4-tuple: (#boc, #cbz, #tbu, #tms)\"\"\"\n",
    "    return cur.execute('SELECT boc, cbz, tbu, tms FROM main.buildingblocks WHERE short = ?;', (short,)).fetchone()"
   ],
   "metadata": {
    "collapsed": false,
    "pycharm": {
     "name": "#%%\n"
    }
   }
  },
  {
   "cell_type": "code",
   "execution_count": 7,
   "outputs": [
    {
     "data": {
      "text/plain": "(0, 0, 0, 0)"
     },
     "execution_count": 7,
     "metadata": {},
     "output_type": "execute_result"
    }
   ],
   "source": [],
   "metadata": {
    "collapsed": false,
    "pycharm": {
     "name": "#%%\n"
    }
   }
  }
 ],
 "metadata": {
  "kernelspec": {
   "display_name": "Python 3",
   "language": "python",
   "name": "python3"
  },
  "language_info": {
   "codemirror_mode": {
    "name": "ipython",
    "version": 2
   },
   "file_extension": ".py",
   "mimetype": "text/x-python",
   "name": "python",
   "nbconvert_exporter": "python",
   "pygments_lexer": "ipython2",
   "version": "2.7.6"
  }
 },
 "nbformat": 4,
 "nbformat_minor": 0
}