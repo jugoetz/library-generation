{
 "cells": [
  {
   "cell_type": "code",
   "execution_count": null,
   "metadata": {
    "pycharm": {
     "name": "#%%\n"
    }
   },
   "outputs": [],
   "source": [
    "import csv\n",
    "from collections import Counter"
   ]
  },
  {
   "cell_type": "code",
   "execution_count": null,
   "metadata": {
    "pycharm": {
     "name": "#%%\n"
    }
   },
   "outputs": [],
   "source": [
    "header = ['Source Barcode', 'Source Well', 'Destination Barcode', 'Destination Well', 'Volume']\n",
    "header"
   ]
  },
  {
   "cell_type": "code",
   "execution_count": null,
   "metadata": {
    "pycharm": {
     "name": "#%%\n"
    }
   },
   "outputs": [],
   "source": [
    "# static things\n",
    "source_barcode = 'Source1'\n",
    "destination_barcode = ['Synthesis1', 'Synthesis2']\n",
    "volume = [1100, 990]\n",
    "initiator_wells = [['A13', 'A14', 'A15', 'A16'], ['B13', 'B14', 'B15', 'B16'], ['I13', 'I14', 'I15', 'I16'], ['J13', 'J14', 'J15', 'J16']]\n",
    "terminator_wells = [['D13', 'D14', 'D15', 'D16'], ['E13', 'E14', 'E15', 'E16'],  ['F13', 'F14', 'F15', 'F16'], ['G13', 'G14', 'G15', 'G16']]\n",
    "monomer_wells = [[f'{chr(i // 10 + 65)}{i % 10 + 1}' for i in range(74)], [f'{chr(i // 10 + 73)}{i % 10 + 1}' for i in range(74)]]\n",
    "# for destination wells, index 0 is the upper left half of the plate, 1 the upper right, 2 the lower left and 3 the lower right\n",
    "destination_wells = [[f'{chr(i // 10 + 65)}{i % 10 + 3}' for i in range(74)], [f'{chr(i // 10 + 65)}{i % 10 + 13}' for i in range(74)], [f'{chr(i // 10 + 73)}{i % 10 + 3}' for i in range(74)], [f'{chr(i // 10 + 73)}{i % 10 + 13}' for i in range(74)]]\n"
   ]
  },
  {
   "cell_type": "code",
   "execution_count": null,
   "metadata": {
    "pycharm": {
     "name": "#%%\n"
    }
   },
   "outputs": [],
   "source": [
    "lines = []\n",
    "lines.insert(0, header)\n",
    "lines"
   ]
  },
  {
   "cell_type": "markdown",
   "metadata": {
    "pycharm": {
     "name": "#%% md\n"
    }
   },
   "source": [
    "First, we fill the initiators and monomers in DMSO/oxalic acid solutions"
   ]
  },
  {
   "cell_type": "code",
   "execution_count": null,
   "metadata": {
    "pycharm": {
     "name": "#%%\n"
    }
   },
   "outputs": [],
   "source": [
    "# fill the first initiator, upper left quadrant (with oxalic acid)\n",
    "dest_code = destination_barcode[0]\n",
    "dest_wells = destination_wells[0]\n",
    "vol = volume[0]\n",
    "for dest_well in dest_wells[:len(dest_wells) // 2]:\n",
    "    source_well = initiator_wells[0][0]\n",
    "    lines.append([source_barcode, source_well, dest_code, dest_well, vol])\n",
    "for dest_well in dest_wells[len(dest_wells) // 2:]:\n",
    "    source_well = initiator_wells[0][1]\n",
    "    lines.append([source_barcode, source_well, dest_code, dest_well, vol])"
   ]
  },
  {
   "cell_type": "code",
   "execution_count": null,
   "metadata": {
    "pycharm": {
     "name": "#%%\n"
    }
   },
   "outputs": [],
   "source": [
    "# fill the first initiator, upper right quadrant (with oxalic acid)\n",
    "dest_code = destination_barcode[0]\n",
    "dest_wells = destination_wells[1]\n",
    "vol = volume[0]\n",
    "for dest_well in dest_wells[:len(dest_wells) // 2]:\n",
    "    source_well = initiator_wells[0][2]\n",
    "    lines.append([source_barcode, source_well, dest_code, dest_well, vol])\n",
    "for dest_well in dest_wells[len(dest_wells) // 2:]:\n",
    "    source_well = initiator_wells[0][3]\n",
    "    lines.append([source_barcode, source_well, dest_code, dest_well, vol])\n"
   ]
  },
  {
   "cell_type": "code",
   "execution_count": null,
   "metadata": {
    "pycharm": {
     "name": "#%%\n"
    }
   },
   "outputs": [],
   "source": [
    "# fill the second initiator, lower left quadrant (with oxalic acid)\n",
    "dest_code = destination_barcode[0]\n",
    "dest_wells = destination_wells[2]\n",
    "vol = volume[0]\n",
    "for dest_well in dest_wells[:len(dest_wells) // 2]:\n",
    "    source_well = initiator_wells[1][0]\n",
    "    lines.append([source_barcode, source_well, dest_code, dest_well, vol])\n",
    "for dest_well in dest_wells[len(dest_wells) // 2:]:\n",
    "    source_well = initiator_wells[1][1]\n",
    "    lines.append([source_barcode, source_well, dest_code, dest_well, vol])"
   ]
  },
  {
   "cell_type": "code",
   "execution_count": null,
   "metadata": {
    "pycharm": {
     "name": "#%%\n"
    }
   },
   "outputs": [],
   "source": [
    "# fill the second initiator, lower right quadrant (with oxalic acid)\n",
    "dest_code = destination_barcode[0]\n",
    "dest_wells = destination_wells[3]\n",
    "vol = volume[0]\n",
    "for dest_well in dest_wells[:len(dest_wells) // 2]:\n",
    "    source_well = initiator_wells[1][2]\n",
    "    lines.append([source_barcode, source_well, dest_code, dest_well, vol])\n",
    "for dest_well in dest_wells[len(dest_wells) // 2:]:\n",
    "    source_well = initiator_wells[1][3]\n",
    "    lines.append([source_barcode, source_well, dest_code, dest_well, vol])"
   ]
  },
  {
   "cell_type": "code",
   "execution_count": null,
   "metadata": {
    "pycharm": {
     "name": "#%%\n"
    }
   },
   "outputs": [],
   "source": [
    "# fill the monomers (with oxalic acid)\n",
    "dest_code = destination_barcode[0]\n",
    "source_wells = monomer_wells[0]\n",
    "vol = volume[0]\n",
    "for dest_wells in destination_wells:\n",
    "    assert len(source_wells) == len(dest_wells)\n",
    "    for source_well, dest_well in zip(source_wells, dest_wells):\n",
    "        lines.append([source_barcode, source_well, dest_code, dest_well, vol])\n"
   ]
  },
  {
   "cell_type": "markdown",
   "metadata": {
    "pycharm": {
     "name": "#%% md\n"
    }
   },
   "source": [
    "Second, we fill the initiators and monomers in pure DMSO solutions\n"
   ]
  },
  {
   "cell_type": "code",
   "execution_count": null,
   "metadata": {
    "pycharm": {
     "name": "#%%\n"
    }
   },
   "outputs": [],
   "source": [
    "# fill the first initiator, upper left quadrant (pure DMSO)\n",
    "dest_code = destination_barcode[1]\n",
    "dest_wells = destination_wells[0]\n",
    "vol = volume[1]\n",
    "for dest_well in dest_wells[:len(dest_wells) // 2]:\n",
    "    source_well = initiator_wells[2][0]\n",
    "    lines.append([source_barcode, source_well, dest_code, dest_well, vol])\n",
    "for dest_well in dest_wells[len(dest_wells) // 2:]:\n",
    "    source_well = initiator_wells[2][1]\n",
    "    lines.append([source_barcode, source_well, dest_code, dest_well, vol])"
   ]
  },
  {
   "cell_type": "code",
   "execution_count": null,
   "metadata": {
    "pycharm": {
     "name": "#%%\n"
    }
   },
   "outputs": [],
   "source": [
    "# fill the first initiator, upper right quadrant (pure DMSO)\n",
    "dest_code = destination_barcode[1]\n",
    "dest_wells = destination_wells[1]\n",
    "vol = volume[1]\n",
    "for dest_well in dest_wells[:len(dest_wells) // 2]:\n",
    "    source_well = initiator_wells[2][2]\n",
    "    lines.append([source_barcode, source_well, dest_code, dest_well, vol])\n",
    "for dest_well in dest_wells[len(dest_wells) // 2:]:\n",
    "    source_well = initiator_wells[2][3]\n",
    "    lines.append([source_barcode, source_well, dest_code, dest_well, vol])"
   ]
  },
  {
   "cell_type": "code",
   "execution_count": null,
   "metadata": {
    "pycharm": {
     "name": "#%%\n"
    }
   },
   "outputs": [],
   "source": [
    "# fill the second initiator, lower left quadrant (pure DMSO)\n",
    "dest_code = destination_barcode[1]\n",
    "dest_wells = destination_wells[2]\n",
    "vol = volume[1]\n",
    "for dest_well in dest_wells[:len(dest_wells) // 2]:\n",
    "    source_well = initiator_wells[3][0]\n",
    "    lines.append([source_barcode, source_well, dest_code, dest_well, vol])\n",
    "for dest_well in dest_wells[len(dest_wells) // 2:]:\n",
    "    source_well = initiator_wells[3][1]\n",
    "    lines.append([source_barcode, source_well, dest_code, dest_well, vol])"
   ]
  },
  {
   "cell_type": "code",
   "execution_count": null,
   "metadata": {
    "pycharm": {
     "name": "#%%\n"
    }
   },
   "outputs": [],
   "source": [
    "# fill the second initiator, lower right quadrant (pure DMSO)\n",
    "dest_code = destination_barcode[1]\n",
    "dest_wells = destination_wells[3]\n",
    "vol = volume[1]\n",
    "for dest_well in dest_wells[:len(dest_wells) // 2]:\n",
    "    source_well = initiator_wells[3][2]\n",
    "    lines.append([source_barcode, source_well, dest_code, dest_well, vol])\n",
    "for dest_well in dest_wells[len(dest_wells) // 2:]:\n",
    "    source_well = initiator_wells[3][3]\n",
    "    lines.append([source_barcode, source_well, dest_code, dest_well, vol])"
   ]
  },
  {
   "cell_type": "code",
   "execution_count": null,
   "metadata": {
    "pycharm": {
     "name": "#%%\n"
    }
   },
   "outputs": [],
   "source": [
    "# fill the monomers (pure DMSO)\n",
    "dest_code = destination_barcode[1]\n",
    "source_wells = monomer_wells[1]\n",
    "vol = volume[1]\n",
    "for dest_wells in destination_wells:\n",
    "    assert len(source_wells) == len(dest_wells)\n",
    "    for source_well, dest_well in zip(source_wells, dest_wells):\n",
    "        lines.append([source_barcode, source_well, dest_code, dest_well, vol])"
   ]
  },
  {
   "cell_type": "markdown",
   "metadata": {
    "pycharm": {
     "name": "#%% md\n"
    }
   },
   "source": [
    "At this point, I/M transfers are finished. We write some tests before saving."
   ]
  },
  {
   "cell_type": "code",
   "execution_count": null,
   "metadata": {
    "pycharm": {
     "name": "#%%\n"
    }
   },
   "outputs": [],
   "source": [
    "# correct number of transfers?\n",
    "assert len(lines) == 74 * 4 * 2 * 2 + 1\n",
    "# initiator source wells occur 37 times, monomer source wells 4 times?\n",
    "used_wells = [l[1] for l in lines[1:]]\n",
    "for v in Counter(used_wells).values():\n",
    "    assert v in [4, 37]"
   ]
  },
  {
   "cell_type": "code",
   "execution_count": null,
   "metadata": {
    "pycharm": {
     "name": "#%%\n"
    }
   },
   "outputs": [],
   "source": [
    "# save to file\n",
    "with open('transfer1.csv', 'w') as file:\n",
    "    writer = csv.writer(file)\n",
    "    writer.writerows(lines)"
   ]
  },
  {
   "cell_type": "markdown",
   "metadata": {
    "pycharm": {
     "name": "#%% md\n"
    }
   },
   "source": [
    "Let's move on to T transfers. Again, we fill plate Synthesis1 first."
   ]
  },
  {
   "cell_type": "code",
   "execution_count": null,
   "metadata": {
    "pycharm": {
     "name": "#%%\n"
    }
   },
   "outputs": [],
   "source": [
    "lines = []\n",
    "lines.insert(0, header)\n",
    "lines"
   ]
  },
  {
   "cell_type": "code",
   "execution_count": null,
   "metadata": {
    "pycharm": {
     "name": "#%%\n"
    }
   },
   "outputs": [],
   "source": [
    "# fill the first terminator, upper left quadrant (with oxalic acid)\n",
    "dest_code = destination_barcode[0]\n",
    "dest_wells = destination_wells[0]\n",
    "vol = volume[0]\n",
    "for dest_well in dest_wells[:len(dest_wells) // 2]:\n",
    "    source_well = terminator_wells[0][0]\n",
    "    lines.append([source_barcode, source_well, dest_code, dest_well, vol])\n",
    "for dest_well in dest_wells[len(dest_wells) // 2:]:\n",
    "    source_well = terminator_wells[0][1]\n",
    "    lines.append([source_barcode, source_well, dest_code, dest_well, vol])"
   ]
  },
  {
   "cell_type": "code",
   "execution_count": null,
   "metadata": {
    "pycharm": {
     "name": "#%%\n"
    }
   },
   "outputs": [],
   "source": [
    "# fill the first terminator, lower left quadrant (with oxalic acid)\n",
    "dest_code = destination_barcode[0]\n",
    "dest_wells = destination_wells[2]\n",
    "vol = volume[0]\n",
    "for dest_well in dest_wells[:len(dest_wells) // 2]:\n",
    "    source_well = terminator_wells[0][2]\n",
    "    lines.append([source_barcode, source_well, dest_code, dest_well, vol])\n",
    "for dest_well in dest_wells[len(dest_wells) // 2:]:\n",
    "    source_well = terminator_wells[0][3]\n",
    "    lines.append([source_barcode, source_well, dest_code, dest_well, vol])"
   ]
  },
  {
   "cell_type": "code",
   "execution_count": null,
   "metadata": {
    "pycharm": {
     "name": "#%%\n"
    }
   },
   "outputs": [],
   "source": [
    "# fill the second terminator, upper right quadrant (with oxalic acid)\n",
    "dest_code = destination_barcode[0]\n",
    "dest_wells = destination_wells[1]\n",
    "vol = volume[0]\n",
    "for dest_well in dest_wells[:len(dest_wells) // 2]:\n",
    "    source_well = terminator_wells[2][0]\n",
    "    lines.append([source_barcode, source_well, dest_code, dest_well, vol])\n",
    "for dest_well in dest_wells[len(dest_wells) // 2:]:\n",
    "    source_well = terminator_wells[2][1]\n",
    "    lines.append([source_barcode, source_well, dest_code, dest_well, vol])"
   ]
  },
  {
   "cell_type": "code",
   "execution_count": null,
   "metadata": {
    "pycharm": {
     "name": "#%%\n"
    }
   },
   "outputs": [],
   "source": [
    "# fill the second terminator, lower right quadrant (with oxalic acid)\n",
    "dest_code = destination_barcode[0]\n",
    "dest_wells = destination_wells[3]\n",
    "vol = volume[0]\n",
    "for dest_well in dest_wells[:len(dest_wells) // 2]:\n",
    "    source_well = terminator_wells[2][2]\n",
    "    lines.append([source_barcode, source_well, dest_code, dest_well, vol])\n",
    "for dest_well in dest_wells[len(dest_wells) // 2:]:\n",
    "    source_well = terminator_wells[2][3]\n",
    "    lines.append([source_barcode, source_well, dest_code, dest_well, vol])"
   ]
  },
  {
   "cell_type": "markdown",
   "metadata": {
    "pycharm": {
     "name": "#%% md\n"
    }
   },
   "source": [
    "Second, we fill the terminators into plate Synthesis2\n"
   ]
  },
  {
   "cell_type": "code",
   "execution_count": null,
   "metadata": {
    "pycharm": {
     "name": "#%%\n"
    }
   },
   "outputs": [],
   "source": [
    "# fill the first terminator, upper left quadrant (with oxalic acid)\n",
    "dest_code = destination_barcode[1]\n",
    "dest_wells = destination_wells[0]\n",
    "vol = volume[0]\n",
    "for dest_well in dest_wells[:len(dest_wells) // 2]:\n",
    "    source_well = terminator_wells[1][0]\n",
    "    lines.append([source_barcode, source_well, dest_code, dest_well, vol])\n",
    "for dest_well in dest_wells[len(dest_wells) // 2:]:\n",
    "    source_well = terminator_wells[1][1]\n",
    "    lines.append([source_barcode, source_well, dest_code, dest_well, vol])"
   ]
  },
  {
   "cell_type": "code",
   "execution_count": null,
   "metadata": {
    "pycharm": {
     "name": "#%%\n"
    }
   },
   "outputs": [],
   "source": [
    "# fill the first terminator, lower left quadrant (with oxalic acid)\n",
    "dest_code = destination_barcode[1]\n",
    "dest_wells = destination_wells[2]\n",
    "vol = volume[0]\n",
    "for dest_well in dest_wells[:len(dest_wells) // 2]:\n",
    "    source_well = terminator_wells[1][2]\n",
    "    lines.append([source_barcode, source_well, dest_code, dest_well, vol])\n",
    "for dest_well in dest_wells[len(dest_wells) // 2:]:\n",
    "    source_well = terminator_wells[1][3]\n",
    "    lines.append([source_barcode, source_well, dest_code, dest_well, vol])"
   ]
  },
  {
   "cell_type": "code",
   "execution_count": null,
   "metadata": {
    "pycharm": {
     "name": "#%%\n"
    }
   },
   "outputs": [],
   "source": [
    "# fill the second terminator, upper right quadrant (with oxalic acid)\n",
    "dest_code = destination_barcode[1]\n",
    "dest_wells = destination_wells[1]\n",
    "vol = volume[0]\n",
    "for dest_well in dest_wells[:len(dest_wells) // 2]:\n",
    "    source_well = terminator_wells[3][0]\n",
    "    lines.append([source_barcode, source_well, dest_code, dest_well, vol])\n",
    "for dest_well in dest_wells[len(dest_wells) // 2:]:\n",
    "    source_well = terminator_wells[3][1]\n",
    "    lines.append([source_barcode, source_well, dest_code, dest_well, vol])"
   ]
  },
  {
   "cell_type": "code",
   "execution_count": null,
   "metadata": {
    "pycharm": {
     "name": "#%%\n"
    }
   },
   "outputs": [],
   "source": [
    "# fill the second terminator, lower right quadrant (with oxalic acid)\n",
    "dest_code = destination_barcode[1]\n",
    "dest_wells = destination_wells[3]\n",
    "vol = volume[0]\n",
    "for dest_well in dest_wells[:len(dest_wells) // 2]:\n",
    "    source_well = terminator_wells[3][2]\n",
    "    lines.append([source_barcode, source_well, dest_code, dest_well, vol])\n",
    "for dest_well in dest_wells[len(dest_wells) // 2:]:\n",
    "    source_well = terminator_wells[3][3]\n",
    "    lines.append([source_barcode, source_well, dest_code, dest_well, vol])\n"
   ]
  },
  {
   "cell_type": "code",
   "execution_count": null,
   "metadata": {
    "pycharm": {
     "name": "#%%\n"
    }
   },
   "outputs": [],
   "source": [
    "len(lines)"
   ]
  },
  {
   "cell_type": "code",
   "execution_count": null,
   "metadata": {
    "pycharm": {
     "name": "#%%\n"
    }
   },
   "outputs": [],
   "source": [
    "lines\n"
   ]
  },
  {
   "cell_type": "markdown",
   "metadata": {
    "pycharm": {
     "name": "#%% md\n"
    }
   },
   "source": [
    "At this point, T transfers are finished. We write some tests before saving."
   ]
  },
  {
   "cell_type": "code",
   "execution_count": null,
   "metadata": {
    "pycharm": {
     "name": "#%%\n"
    }
   },
   "outputs": [],
   "source": [
    "# correct number of transfers?\n",
    "assert len(lines) == 74 * 4 * 2 + 1\n",
    "# terminator source wells occur 37 times?\n",
    "used_wells = [l[1] for l in lines[1:]]\n",
    "for v in Counter(used_wells).values():\n",
    "    assert v == 37"
   ]
  },
  {
   "cell_type": "code",
   "execution_count": null,
   "metadata": {
    "pycharm": {
     "name": "#%%\n"
    }
   },
   "outputs": [],
   "source": [
    "# save to file\n",
    "with open('transfer2.csv', 'w') as file:\n",
    "    writer = csv.writer(file)\n",
    "    writer.writerows(lines)\n",
    "\n",
    "\n"
   ]
  }
 ],
 "metadata": {
  "kernelspec": {
   "display_name": "Python 3",
   "language": "python",
   "name": "python3"
  },
  "language_info": {
   "codemirror_mode": {
    "name": "ipython",
    "version": 2
   },
   "file_extension": ".py",
   "mimetype": "text/x-python",
   "name": "python",
   "nbconvert_exporter": "python",
   "pygments_lexer": "ipython2",
   "version": "2.7.6"
  }
 },
 "nbformat": 4,
 "nbformat_minor": 0
}
