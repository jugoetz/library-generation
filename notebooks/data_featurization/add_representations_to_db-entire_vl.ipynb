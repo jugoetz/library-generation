{
 "cells": [
  {
   "cell_type": "markdown",
   "metadata": {},
   "source": [
    "# Add reactionSMILES to VL\n",
    "We add atom-mapped reactionSMILES to the virtual library.\n",
    "We only do this for VL members where type == 'A'."
   ]
  },
  {
   "cell_type": "code",
   "execution_count": 6,
   "metadata": {
    "ExecuteTime": {
     "end_time": "2023-07-20T09:41:45.631211Z",
     "start_time": "2023-07-20T09:41:45.506818Z"
    }
   },
   "outputs": [],
   "source": [
    "import pathlib\n",
    "import sys\n",
    "\n",
    "sys.path.append(str(pathlib.Path().resolve().parents[1]))\n",
    "\n",
    "from IPython.display import SVG, display\n",
    "import pandas as pd\n",
    "\n",
    "from src.util.db_utils import SynFermDatabaseConnection\n",
    "from src.util.rdkit_util import map_reactions, desalt_building_block\n",
    "from src.library_design.reaction_generator import SFReactionGenerator"
   ]
  },
  {
   "cell_type": "code",
   "execution_count": 9,
   "metadata": {},
   "outputs": [],
   "source": [
    "gen = SFReactionGenerator()"
   ]
  },
  {
   "cell_type": "code",
   "execution_count": 4,
   "metadata": {
    "ExecuteTime": {
     "end_time": "2023-07-20T09:41:45.725683Z",
     "start_time": "2023-07-20T09:41:45.720095Z"
    }
   },
   "outputs": [],
   "source": [
    "# connect to DB\n",
    "con = SynFermDatabaseConnection()"
   ]
  },
  {
   "cell_type": "code",
   "execution_count": 22,
   "metadata": {
    "ExecuteTime": {
     "end_time": "2023-07-20T09:41:46.908416Z",
     "start_time": "2023-07-20T09:41:46.661363Z"
    }
   },
   "outputs": [
    {
     "data": {
      "text/html": [
       "<div>\n",
       "<style scoped>\n",
       "    .dataframe tbody tr th:only-of-type {\n",
       "        vertical-align: middle;\n",
       "    }\n",
       "\n",
       "    .dataframe tbody tr th {\n",
       "        vertical-align: top;\n",
       "    }\n",
       "\n",
       "    .dataframe thead th {\n",
       "        text-align: right;\n",
       "    }\n",
       "</style>\n",
       "<table border=\"1\" class=\"dataframe\">\n",
       "  <thead>\n",
       "    <tr style=\"text-align: right;\">\n",
       "      <th></th>\n",
       "      <th>vl_id</th>\n",
       "      <th>long_name</th>\n",
       "      <th>product_A_smiles</th>\n",
       "    </tr>\n",
       "  </thead>\n",
       "  <tbody>\n",
       "    <tr>\n",
       "      <th>0</th>\n",
       "      <td>1</td>\n",
       "      <td>2-Pyr002 + Fused002 + TerABT001</td>\n",
       "      <td>COc1ccc(CCOC(=O)N2C[C@H](NC(=O)c3cc(Cl)ccn3)[C...</td>\n",
       "    </tr>\n",
       "    <tr>\n",
       "      <th>1</th>\n",
       "      <td>2</td>\n",
       "      <td>2-Pyr002 + Fused002 + TerABT004</td>\n",
       "      <td>COc1ccc(CCOC(=O)N2C[C@H](NC(=O)c3cc(Cl)ccn3)[C...</td>\n",
       "    </tr>\n",
       "    <tr>\n",
       "      <th>2</th>\n",
       "      <td>3</td>\n",
       "      <td>2-Pyr002 + Fused002 + TerABT005</td>\n",
       "      <td>COc1ccc(CCOC(=O)N2C[C@H](NC(=O)c3cc(Cl)ccn3)[C...</td>\n",
       "    </tr>\n",
       "    <tr>\n",
       "      <th>3</th>\n",
       "      <td>4</td>\n",
       "      <td>2-Pyr002 + Fused002 + TerABT006</td>\n",
       "      <td>COc1ccc(CCOC(=O)N2C[C@H](NC(=O)c3cc(Cl)ccn3)[C...</td>\n",
       "    </tr>\n",
       "    <tr>\n",
       "      <th>4</th>\n",
       "      <td>5</td>\n",
       "      <td>2-Pyr002 + Fused002 + TerABT007</td>\n",
       "      <td>COc1ccc(CCOC(=O)N2C[C@H](NC(=O)c3cc(Cl)ccn3)[C...</td>\n",
       "    </tr>\n",
       "  </tbody>\n",
       "</table>\n",
       "</div>"
      ],
      "text/plain": [
       "   vl_id                        long_name  \\\n",
       "0      1  2-Pyr002 + Fused002 + TerABT001   \n",
       "1      2  2-Pyr002 + Fused002 + TerABT004   \n",
       "2      3  2-Pyr002 + Fused002 + TerABT005   \n",
       "3      4  2-Pyr002 + Fused002 + TerABT006   \n",
       "4      5  2-Pyr002 + Fused002 + TerABT007   \n",
       "\n",
       "                                    product_A_smiles  \n",
       "0  COc1ccc(CCOC(=O)N2C[C@H](NC(=O)c3cc(Cl)ccn3)[C...  \n",
       "1  COc1ccc(CCOC(=O)N2C[C@H](NC(=O)c3cc(Cl)ccn3)[C...  \n",
       "2  COc1ccc(CCOC(=O)N2C[C@H](NC(=O)c3cc(Cl)ccn3)[C...  \n",
       "3  COc1ccc(CCOC(=O)N2C[C@H](NC(=O)c3cc(Cl)ccn3)[C...  \n",
       "4  COc1ccc(CCOC(=O)N2C[C@H](NC(=O)c3cc(Cl)ccn3)[C...  "
      ]
     },
     "execution_count": 22,
     "metadata": {},
     "output_type": "execute_result"
    }
   ],
   "source": [
    "# n.b. we just select everything now, later filter for things that the 0D model cannot handle.\n",
    "# Here we don't care whether the reaction has been seen before, we can merge with the reaction data later\n",
    "res = con.con.execute(\"SELECT id, long_name, SMILES FROM virtuallibrary WHERE type = 'A' AND initiator_long != '4-Pyrazole002';\").fetchall()\n",
    "df = pd.DataFrame(res, columns=[\"vl_id\", \"long_name\", \"product_A_smiles\"])\n",
    "df.head()"
   ]
  },
  {
   "cell_type": "code",
   "execution_count": 23,
   "metadata": {
    "ExecuteTime": {
     "end_time": "2023-07-20T09:41:46.913511Z",
     "start_time": "2023-07-20T09:41:46.909278Z"
    }
   },
   "outputs": [
    {
     "name": "stdout",
     "output_type": "stream",
     "text": [
      "CPU times: user 19.4 s, sys: 148 ms, total: 19.5 s\n",
      "Wall time: 15min 26s\n"
     ]
    },
    {
     "data": {
      "text/plain": [
       "0      F[B-](F)(F)[C:1](=[O:2])[c:15]1[cH:16][c:18]([...\n",
       "1      F[B-](F)(F)[C:1](=[O:2])[c:15]1[cH:16][c:18]([...\n",
       "2      F[B-](F)(F)[C:1](=[O:2])[c:15]1[cH:16][c:18]([...\n",
       "3      F[B-](F)(F)[C:1](=[O:2])[c:15]1[cH:16][c:18]([...\n",
       "4      F[B-](F)(F)[C:1](=[O:2])[c:15]1[cH:16][c:18]([...\n",
       "                             ...                        \n",
       "995    F[B-](F)(F)[C:1](=[O:2])[c:15]1[cH:16][c:18]([...\n",
       "996    F[B-](F)(F)[C:1](=[O:2])[c:15]1[cH:16][c:18]([...\n",
       "997    F[B-](F)(F)[C:1](=[O:2])[c:15]1[cH:16][c:18]([...\n",
       "998    F[B-](F)(F)[C:1](=[O:2])[c:15]1[cH:16][c:18]([...\n",
       "999    F[B-](F)(F)[C:1](=[O:2])[c:15]1[cH:16][c:18]([...\n",
       "Name: product_A_smiles, Length: 1000, dtype: object"
      ]
     },
     "execution_count": 23,
     "metadata": {},
     "output_type": "execute_result"
    }
   ],
   "source": [
    "%%time\n",
    "df[0:1000][\"product_A_smiles\"].apply(lambda x: gen.get_reaction_smiles(x))"
   ]
  },
  {
   "cell_type": "code",
   "execution_count": 24,
   "metadata": {},
   "outputs": [
    {
     "data": {
      "text/plain": [
       "84.54746666666666"
      ]
     },
     "execution_count": 24,
     "metadata": {},
     "output_type": "execute_result"
    }
   ],
   "source": [
    "# expected time in min to go through the entire VL\n",
    "len(df) / 1000 * 19 / 60"
   ]
  },
  {
   "cell_type": "code",
   "execution_count": 25,
   "metadata": {},
   "outputs": [],
   "source": [
    "# we wrap the generator to catch errors\n",
    "def get_reaction_smiles(x):\n",
    "    try:\n",
    "        return gen.get_reaction_smiles(x)\n",
    "    except ValueError as e:\n",
    "        print(e)\n",
    "        print(x)\n",
    "        return None\n",
    "        "
   ]
  },
  {
   "cell_type": "code",
   "execution_count": 26,
   "metadata": {
    "ExecuteTime": {
     "end_time": "2023-07-20T09:41:47.102366Z",
     "start_time": "2023-07-20T09:41:47.078903Z"
    }
   },
   "outputs": [
    {
     "name": "stderr",
     "output_type": "stream",
     "text": [
      "RDKit WARNING:   unmapped numbers are: 2 6 5 4 3 \n",
      " 4 3 \n",
      "[17:34:25] product atom-mapping number 14 found multiple times.\n",
      "[17:34:25] product atom-mapping number 13 found multiple times.\n",
      "[17:34:25] product atom-mapping number 12 found multiple times.\n",
      "[17:34:25] product atom-mapping number 11 found multiple times.\n",
      "[17:34:25] product atom-mapping number 10 found multiple times.\n",
      "[17:34:25] product atom-mapping number 9 found multiple times.\n",
      "[17:34:25] product atom-mapping number 8 found multiple times.\n",
      "[17:34:25] product atom-mapping number 7 found multiple times.\n",
      "[17:34:25] mapped atoms in the reactants were not mapped in the products.\n",
      "  unmapped numbers are: 1 2 6 5 4 3 \n",
      "[17:34:25] mapped atoms in the reactants were not mapped in the products.\n",
      "  unmapped numbers are: 7 8 9 10 11 12 13 14 \n",
      "[17:34:25] mapped atoms in the reactants were not mapped in the products.\n",
      "  unmapped numbers are: 7 8 9 10 11 12 13 14 \n",
      "[17:34:25] mapped atoms in the reactants were not mapped in the products.\n",
      "  unmapped numbers are: 1 2 3 \n",
      "[17:34:25] mapped atoms in thRDKit WARNING: [17:34:25] product atom-mapping number 14 found multiple times.\n",
      "RDKit WARNING: [17:34:25] product atom-mapping number 13 found multiple times.\n",
      "RDKit WARNING: [17:34:25] product atom-mapping number 12 found multiple times.\n",
      "RDKit WARNING: [17:34:25] product atom-mapping number 11 found multiple times.\n",
      "RDKit WARNING: [17:34:25] product atom-mapping number 10 found multiple times.\n",
      "RDKit WARNING: [17:34:25] product atom-mapping number 9 found multiple times.\n",
      "RDKit WARNING: [17:34:25] product atom-mapping number 8 found multiple times.\n",
      "RDKit WARNING: [17:34:25] product atom-mapping number 7 found multiple times.\n",
      "RDKit WARNING: [17:34:25] mapped atoms in the reactants were not mapped in the products.\n",
      "RDKit WARNING:   unmapped numbers are: 1 2 6 5 4 3 \n",
      "RDKit WARNING: [17:34:25] mapped atoms in the reactants were not mapped in the products.\n",
      "RDKit WARNING:   unmapped numbers are: 7 8 9 10 11 12 13 14 \n",
      "RDKit WARNING: [17:34:25] mapped atoms in the reactants were not mapped in the products.\n",
      "RDKit WARNING:   unmapped numbers are: 7 8 9 10 11 12 13 14 \n",
      "RDKit WARNING: [17:34:25] mapped atoms in the reactants were not mapped in the products.\n",
      "RDKit WARNING:   unmapped numbers are: 1 2 3 \n",
      "RDKit WARNING: [17:34:25] mapped atoms in the reactants were not mapped in the products.\n",
      "RDKit WARNING:   unmapped numbers are: 2 \n",
      "RDKit WARNING: [17:34:25] mapped atoms in the reactants were not mapped in the products.\n",
      "RDKit WARNING:   unmapped numbers are: 2 6 5 4 3 \n",
      "RDKit WARNING: [17:34:25] product atom-mapping number 9 found multiple times.\n",
      "RDKit WARNING: [17:34:25] product atom-mapping number 7 found multiple times.\n",
      "RDKit WARNING: [17:34:25] mapped atoms in the reactants were not mapped in the products.\n",
      "RDKit WARNING:   unmapped numbers are: 1 2 6 5 4 3 10 \n",
      "RDKit WARNING: [17:34:25] mapped atoms in the reactants were not mapped in the products.\n",
      "RDKit WARNING:   unmapped numbers are: 7 8 9 10 \n",
      "RDKit WARNING: [17:34:25] mapped atoms in the reactants were not mapped in the products.\n",
      "RDKit WARNING:   unmapped numbers are: 7 8 9 10 \n",
      "RDKit WARNING: [17:34:25] mapped atoms in the reactants were not mapped in the products.\n",
      "RDKit WARNING:   unmapped numbers are: 1 2 3 \n",
      "RDKit WARNING: [11:16:16] mapped atoms in the reactants were not mapped in the products.\n",
      "RDKit WARNING:   unmapped numbers are: 2 \n",
      "RDKit WARNING: [11:16:16] mapped atoms in the reactants were not mapped in the products.\n",
      "RDKit WARNING:   unmapped numbers are: 2 6 5 4 3 \n",
      "RDKit WARNING: [11:16:16] product atom-mapping number 14 found multiple times.\n",
      "RDKit WARNING: [11:16:16] product atom-mapping number 13 found multiple times.\n",
      "RDKit WARNING: [11:16:16] product atom-mapping number 12 found multiple times.\n",
      "RDKit WARNING: [11:16:16] product atom-mapping number 11 found multiple times.\n",
      "RDKit WARNING: [11:16:16] product atom-mapping number 10 found multiple times.\n",
      "RDKit WARNING: [11:16:16] product atom-mapping number 9 found multiple times.\n",
      "RDKit WARNING: [11:16:16] product atom-mapping number 8 found multiple times.\n",
      "RDKit WARNING: [11:16:16] product atom-mapping number 7 found multiple times.\n",
      "RDKit WARNING: [11:16:16] mapped atoms in the reactants were not mapped in the products.\n",
      "RDKit WARNING:   unmapped numbers are: 1 2 6 5 4 3 \n",
      "RDKit WARNING: [11:16:16] mapped atoms in the reactants were not mapped in the products.\n",
      "RDKit WARNING:   unmapped numbers are: 7 8 9 10 11 12 13 14 \n",
      "RDKit WARNING: [11:16:16] mapped atoms in the reactants were not mapped in the products.\n",
      "RDKit WARNING:   unmapped numbers are: 7 8 9 10 11 12 13 14 \n",
      "RDKit WARNING: [11:16:16] mapped atoms in the reactants were not mapped in the products.\n",
      "RDKit WARNING:   unmapped numbers are: 1 2 3 \n",
      "RDKit WARNING: [11:16:16] mapped atoms in the reactants were not mapped in the products.\n",
      "RDKit WARNING:   unmapped numbers are: 2 \n",
      "RDKit WARNING: [11:16:16] mapped atoms in the reactants were not mapped in the products.\n",
      "RDKit WARNING:   unmapped numbers are: 2 6 5 4 3 \n",
      "RDKit WARNING: [11:16:16] product atom-mapping number 9 found multiple times.\n",
      "RDKit WARNING: [11:16:16] product atom-mapping number 7 found multiple times.\n",
      "RDKit WARNING: [11:16:16] mapped atoms in the reactants were not mapped in the products.\n",
      "RDKit WARNING:   unmapped numbers are: 1 2 6 5 4 3 10 \n",
      "RDKit WARNING: [11:16:16] mapped atoms in the reactants were not mapped in the products.\n",
      "RDKit WARNING:   unmapped numbers are: 7 8 9 10 \n",
      "RDKit WARNING: [11:16:16] mapped atoms in the reactants were not mapped in the products.\n",
      "RDKit WARNING:   unmapped numbers are: 7 8 9 10 \n",
      "RDKit WARNING: [11:16:16] mapped atoms in the reactants were not mapped in the products.\n",
      "RDKit WARNING:   unmapped numbers are: 1 2 3 \n",
      "RDKit WARNING: [22:21:38] mapped atoms in the reactants were not mapped in the products.\n",
      "RDKit WARNING:   unmapped numbers are: 2 \n",
      "RDKit WARNING: [22:21:38] mapped atoms in the reactants were not mapped in the products.\n",
      "RDKit WARNING:   unmapped numbers are: 2 6 5 4 3 \n",
      "RDKit WARNING: [22:21:38] product atom-mapping number 14 found multiple times.\n",
      "RDKit WARNING: [22:21:38] product atom-mapping number 13 found multiple times.\n",
      "RDKit WARNING: [22:21:38] product atom-mapping number 12 found multiple times.\n",
      "e reactants were not mapped in the products.\n",
      "  unmapped numbers are: 2 \n",
      "[17:34:25] mapped atoms in the reactants were not mapped in the products.\n",
      "  unmapped numbers are: 2 6 5 4 3 \n",
      "[17:34:25] product atom-mapping number 9 found multiple times.\n",
      "[17:34:25] product atom-mapping number 7 found multiple times.\n",
      "[17:34:25] mapped atoms in the reactants were not mapped in the products.\n",
      "  unmapped numbers are: 1 2 6 5 4 3 10 \n",
      "[17:34:25] mapped atoms in the reactants were not mapped in the products.\n",
      "  unmapped numbers are: 7 8 9 10 \n",
      "[17:34:25] mapped atoms in the reactants were not mapped in the products.\n",
      "  unmapped numbers are: 7 8 9 10 \n",
      "[17:34:25] mapped atoms in the reactants were not mapped in the products.\n",
      "  unmapped numbers are: 1 2 3 \n",
      "[11:16:16] mapped atoms in the reactants were not mapped in the products.\n",
      "  unmapped numbers are: 2 \n",
      "[11:16:16] mapped atoms in the reactants were not mapped in the products.\n",
      "  unmapped numbers are: 2 6 5 4 3 \n",
      "[11:16:16] product atom-mapping number 14 found multiple times.\n",
      "[11:16:16] product atom-mapping number 13 found multiple times.\n",
      "[11:16:16] product atom-mapping number 12 found multiple times.\n",
      "[11:16:16] product atom-mapping number 11 found multiple times.\n",
      "[11:16:16] product atom-mapping number 10 found multiple times.\n",
      "[11:16:16] product atom-mapping number 9 found multiple times.\n",
      "[11:16:16] product atom-mapping number 8 found multiple times.\n",
      "[11:16:16] product atom-mapping number 7 found multiple times.\n",
      "[11:16:16] mapped atoms in the reactants were not mapped in the products.\n",
      "  unmapped numbers are: 1 2 6 5 4 3 \n",
      "[11:16:16] mapped atoms in the reactants were not mapped in the products.\n",
      "  unmapped numbers are: 7 8 9 10 11 12 13 14 \n",
      "[11:16:16] mapped atoms in the reactants were not mapped in the products.\n",
      "  unmapped numbers are: 7 8 9 10 11 12 13 14 \n",
      "[11:16:16] mapped atoms in the reactants were not mapped in the products.\n",
      "  unmapped numbers are: 1 2 3 \n",
      "[11:16:16] mapped atoms in the reactants were not mapped in the products.\n",
      "  unmapped numbers are: 2 \n",
      "[11:16:16] mapped atoms in the reactants were not mapped in the products.\n",
      "  unmapped numbers are: 2 6 5 4 3 \n",
      "[11:16:16] product atom-mapping number 9 found multiple times.\n",
      "[11:16:16] product atom-mapping number 7 found multiple times.\n",
      "[11:16:16] mapped atoms in the reactants were not mapped in the products.\n",
      "  unmapped numbers are: 1 2 6 5 4 3 10 \n",
      "[11:16:16] mapped atoms in the reactants were not mapped in the products.\n",
      "  unmapped numbers are: 7 8 9 10 \n",
      "[11:16:16] mapped atoms in the reactants were not mapped in the products.\n",
      "  unmapped numbers are: 7 8 9 10 \n",
      "[11:16:16] mapped atoms in the reactants were not mapped in the products.\n",
      "  unmapped numbers are: 1 2 3 \n",
      "[22:21:38] mapped atoms in the reactants were not mapped in the products.\n",
      "  unmapped numbers are: 2 \n",
      "[22:21:38] mapped atoms in the reactants were not mapped in the products.\n",
      "  unmapped numbers are: 2 6 5 4 3 \n",
      "[22:21:38] product atom-mapping number 14 found multiple times.\n",
      "[22:21:38] product atom-mapping number 13 found multiple times.\n",
      "[22:21:38] product atom-mapping number 12 found multiple times.\n",
      "[22:21"
     ]
    },
    {
     "data": {
      "text/html": [
       "<div>\n",
       "<style scoped>\n",
       "    .dataframe tbody tr th:only-of-type {\n",
       "        vertical-align: middle;\n",
       "    }\n",
       "\n",
       "    .dataframe tbody tr th {\n",
       "        vertical-align: top;\n",
       "    }\n",
       "\n",
       "    .dataframe thead th {\n",
       "        text-align: right;\n",
       "    }\n",
       "</style>\n",
       "<table border=\"1\" class=\"dataframe\">\n",
       "  <thead>\n",
       "    <tr style=\"text-align: right;\">\n",
       "      <th></th>\n",
       "      <th>vl_id</th>\n",
       "      <th>long_name</th>\n",
       "      <th>product_A_smiles</th>\n",
       "      <th>reaction_smiles_atom_mapped</th>\n",
       "    </tr>\n",
       "  </thead>\n",
       "  <tbody>\n",
       "    <tr>\n",
       "      <th>0</th>\n",
       "      <td>1</td>\n",
       "      <td>2-Pyr002 + Fused002 + TerABT001</td>\n",
       "      <td>COc1ccc(CCOC(=O)N2C[C@H](NC(=O)c3cc(Cl)ccn3)[C...</td>\n",
       "      <td>F[B-](F)(F)[C:1](=[O:2])[c:15]1[cH:16][c:18]([...</td>\n",
       "    </tr>\n",
       "    <tr>\n",
       "      <th>1</th>\n",
       "      <td>2</td>\n",
       "      <td>2-Pyr002 + Fused002 + TerABT004</td>\n",
       "      <td>COc1ccc(CCOC(=O)N2C[C@H](NC(=O)c3cc(Cl)ccn3)[C...</td>\n",
       "      <td>F[B-](F)(F)[C:1](=[O:2])[c:15]1[cH:16][c:18]([...</td>\n",
       "    </tr>\n",
       "    <tr>\n",
       "      <th>2</th>\n",
       "      <td>3</td>\n",
       "      <td>2-Pyr002 + Fused002 + TerABT005</td>\n",
       "      <td>COc1ccc(CCOC(=O)N2C[C@H](NC(=O)c3cc(Cl)ccn3)[C...</td>\n",
       "      <td>F[B-](F)(F)[C:1](=[O:2])[c:15]1[cH:16][c:18]([...</td>\n",
       "    </tr>\n",
       "    <tr>\n",
       "      <th>3</th>\n",
       "      <td>4</td>\n",
       "      <td>2-Pyr002 + Fused002 + TerABT006</td>\n",
       "      <td>COc1ccc(CCOC(=O)N2C[C@H](NC(=O)c3cc(Cl)ccn3)[C...</td>\n",
       "      <td>F[B-](F)(F)[C:1](=[O:2])[c:15]1[cH:16][c:18]([...</td>\n",
       "    </tr>\n",
       "    <tr>\n",
       "      <th>4</th>\n",
       "      <td>5</td>\n",
       "      <td>2-Pyr002 + Fused002 + TerABT007</td>\n",
       "      <td>COc1ccc(CCOC(=O)N2C[C@H](NC(=O)c3cc(Cl)ccn3)[C...</td>\n",
       "      <td>F[B-](F)(F)[C:1](=[O:2])[c:15]1[cH:16][c:18]([...</td>\n",
       "    </tr>\n",
       "  </tbody>\n",
       "</table>\n",
       "</div>"
      ],
      "text/plain": [
       "   vl_id                        long_name  \\\n",
       "0      1  2-Pyr002 + Fused002 + TerABT001   \n",
       "1      2  2-Pyr002 + Fused002 + TerABT004   \n",
       "2      3  2-Pyr002 + Fused002 + TerABT005   \n",
       "3      4  2-Pyr002 + Fused002 + TerABT006   \n",
       "4      5  2-Pyr002 + Fused002 + TerABT007   \n",
       "\n",
       "                                    product_A_smiles  \\\n",
       "0  COc1ccc(CCOC(=O)N2C[C@H](NC(=O)c3cc(Cl)ccn3)[C...   \n",
       "1  COc1ccc(CCOC(=O)N2C[C@H](NC(=O)c3cc(Cl)ccn3)[C...   \n",
       "2  COc1ccc(CCOC(=O)N2C[C@H](NC(=O)c3cc(Cl)ccn3)[C...   \n",
       "3  COc1ccc(CCOC(=O)N2C[C@H](NC(=O)c3cc(Cl)ccn3)[C...   \n",
       "4  COc1ccc(CCOC(=O)N2C[C@H](NC(=O)c3cc(Cl)ccn3)[C...   \n",
       "\n",
       "                         reaction_smiles_atom_mapped  \n",
       "0  F[B-](F)(F)[C:1](=[O:2])[c:15]1[cH:16][c:18]([...  \n",
       "1  F[B-](F)(F)[C:1](=[O:2])[c:15]1[cH:16][c:18]([...  \n",
       "2  F[B-](F)(F)[C:1](=[O:2])[c:15]1[cH:16][c:18]([...  \n",
       "3  F[B-](F)(F)[C:1](=[O:2])[c:15]1[cH:16][c:18]([...  \n",
       "4  F[B-](F)(F)[C:1](=[O:2])[c:15]1[cH:16][c:18]([...  "
      ]
     },
     "execution_count": 26,
     "metadata": {},
     "output_type": "execute_result"
    }
   ],
   "source": [
    "# first we need to generate the reactionSMILES. This will take a moment \n",
    "# (to be precise I expect it to take 85 min on Mac M1)\n",
    "gen = SFReactionGenerator()\n",
    "df[\"reaction_smiles_atom_mapped\"] = df[\"product_A_smiles\"].apply(lambda x: get_reaction_smiles(x))\n",
    "df.head()"
   ]
  },
  {
   "cell_type": "code",
   "execution_count": 27,
   "metadata": {
    "ExecuteTime": {
     "end_time": "2023-07-20T09:41:47.269193Z",
     "start_time": "2023-07-20T09:41:47.262728Z"
    }
   },
   "outputs": [],
   "source": [
    "# save this\n",
    "with con.con:\n",
    "    con.con.executemany(\"UPDATE virtuallibrary SET reaction_smiles_atom_mapped = ? WHERE id = ?;\", df[[\"reaction_smiles_atom_mapped\", \"vl_id\"]].values)"
   ]
  },
  {
   "cell_type": "code",
   "execution_count": null,
   "metadata": {},
   "outputs": [],
   "source": []
  }
 ],
 "metadata": {
  "kernelspec": {
   "display_name": "Python 3 (ipykernel)",
   "language": "python",
   "name": "python3"
  },
  "language_info": {
   "codemirror_mode": {
    "name": "ipython",
    "version": 3
   },
   "file_extension": ".py",
   "mimetype": "text/x-python",
   "name": "python",
   "nbconvert_exporter": "python",
   "pygments_lexer": "ipython3",
   "version": "3.9.7"
  }
 },
 "nbformat": 4,
 "nbformat_minor": 1
}
