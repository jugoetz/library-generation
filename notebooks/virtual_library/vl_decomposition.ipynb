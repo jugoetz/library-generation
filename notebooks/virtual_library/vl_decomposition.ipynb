{
 "cells": [
  {
   "cell_type": "markdown",
   "metadata": {},
   "source": [
    "## PRIME Virtual Library Decomposition\n",
    "Task: Decompose PRIME VL along with other libraries (e.g. Enamine) to compare chemical space coverage \n",
    "\n",
    "We take this way:\n",
    "- Import MorganFP (generated with radius 3 and 1024 bits)\n",
    "- Decompose with UMAP"
   ]
  },
  {
   "cell_type": "code",
   "execution_count": null,
   "metadata": {},
   "outputs": [],
   "source": [
    "import random\n",
    "import pathlib\n",
    "\n",
    "import numpy as np\n",
    "from sklearn.datasets import load_digits\n",
    "from sklearn.model_selection import train_test_split\n",
    "from sklearn.preprocessing import StandardScaler\n",
    "from sklearn.cluster import MiniBatchKMeans\n",
    "from sklearn.metrics import silhouette_score\n",
    "from scipy.spatial.distance import cdist\n",
    "import matplotlib.pyplot as plt\n",
    "import seaborn as sns\n",
    "import pandas as pd\n",
    "import umap\n",
    "%matplotlib inline\n"
   ]
  },
  {
   "cell_type": "code",
   "execution_count": null,
   "metadata": {},
   "outputs": [],
   "source": [
    "plt.rcParams.update({\n",
    "    \"savefig.transparent\": True,   # Transparent background for saving figures\n",
    "    \"axes.grid\": False,            # No grid on axes\n",
    "    \"axes.spines.bottom\": True,    # Show bottom spine\n",
    "    \"axes.spines.left\": False,     # Hide left spine\n",
    "    \"axes.spines.right\": False,    # Hide right spine\n",
    "    \"axes.spines.top\": False,      # Hide top spine\n",
    "\n",
    "    # Font settings\n",
    "    \"font.size\": 6,                # Font size for the entire figure\n",
    "    \"font.family\": 'sans-serif',\n",
    "    \"font.sans-serif\": [\"Helvetica\", \"Arial\"],\n",
    "    \"text.color\": 'black',         # Set default text color to black\n",
    "\n",
    "    # Tick settings\n",
    "    \"xtick.major.pad\": 0.0,        # Padding for major x-ticks\n",
    "    \"xtick.minor.pad\": 0.0,        # Padding for minor x-ticks\n",
    "    \"ytick.major.pad\": 0.0,        # Padding for major y-ticks\n",
    "    \"ytick.minor.pad\": 0.0,        # Padding for minor y-ticks\n",
    "\n",
    "    # Axis label settings\n",
    "    \"axes.labelweight\": \"bold\",    # Bold axis labels\n",
    "    \"axes.labelpad\": 2.5,          # Padding between axis and label\n",
    "    \"axes.xmargin\": 0.05,          # Margin on the x-axis\n",
    "\n",
    "    # Additional settings\n",
    "    'axes.labelsize': 6,           # Size for axis labels\n",
    "    'axes.titlesize': 6,           # Size for plot titles\n",
    "    'xtick.labelsize': 6,          # Size for x-axis tick labels\n",
    "    'ytick.labelsize': 6,          # Size for y-axis tick labels\n",
    "    'legend.fontsize': 6,          # Font size for the legend\n",
    "    'svg.fonttype': 'none',        # Necessary to have editable text in SVGs\n",
    "    'axes.labelcolor': 'black',    # Color of axis labels\n",
    "    'xtick.color': 'black',        # Color of x-axis tick labels\n",
    "    'ytick.color': 'black',        # Color of y-axis tick labels\n",
    "})"
   ]
  },
  {
   "cell_type": "markdown",
   "metadata": {},
   "source": [
    "### Preprocessing"
   ]
  },
  {
   "cell_type": "markdown",
   "metadata": {},
   "source": [
    "Import molecules from virtual library files"
   ]
  },
  {
   "cell_type": "code",
   "execution_count": null,
   "metadata": {},
   "outputs": [],
   "source": [
    "df = pd.read_csv(\"../data/dataS4_with_fps.csv.bz2\")\n",
    "# spread the fingerprints into an array\n",
    "fps_synferm = np.array([[int(n) for n in s] for s in df[\"MorganFP\"]])\n",
    "fps_synferm.shape"
   ]
  },
  {
   "cell_type": "code",
   "execution_count": null,
   "metadata": {},
   "outputs": [],
   "source": [
    "df_enamine = pd.read_csv(\"../data/Enamine_Hit_Locator_Library_HLL-460_460160cmpds_20220221_with_fps.csv\")\n",
    "# spread the fingerprints into an array\n",
    "fps_enamine = np.array([[int(n) for n in s] for s in df_enamine[\"MorganFP\"]])\n",
    "fps_enamine.shape"
   ]
  },
  {
   "cell_type": "code",
   "execution_count": null,
   "metadata": {},
   "outputs": [],
   "source": [
    "df_fda = pd.read_csv(\"../data/Enamine_FDA_with_fps.csv.bz2\")\n",
    "# spread the fingerprints into an array\n",
    "fps_fda = np.array([[int(n) for n in s] for s in df_fda[\"MorganFP\"]])\n",
    "fps_fda.shape"
   ]
  },
  {
   "cell_type": "code",
   "execution_count": null,
   "metadata": {},
   "outputs": [],
   "source": [
    "df_chembl = pd.read_csv(\"../data/chembl_34_50k-random_with_FP.csv\")\n",
    "# spread the fingerprints into an array\n",
    "fps_chembl = np.array([[int(n) for n in s] for s in df_chembl[\"MorganFP\"]])\n",
    "fps_chembl.shape"
   ]
  },
  {
   "cell_type": "code",
   "execution_count": null,
   "metadata": {},
   "outputs": [],
   "source": [
    "# we sample 50000 of each SynFerm and Enamine\n",
    "random.seed(999)\n",
    "random_nrs_synferm = random.sample(list(range(fps_synferm.shape[0])), 50000)\n",
    "random_nrs_enamine = random.sample(list(range(fps_enamine.shape[0])), 50000)                              \n",
    "random_fps = np.concatenate([\n",
    "    fps_synferm[random_nrs_synferm, :], \n",
    "    #fps_enamine[random_nrs_enamine, :], \n",
    "    #fps_chembl, \n",
    "    fps_fda\n",
    "], axis=0)\n",
    "random_fps.shape"
   ]
  },
  {
   "cell_type": "markdown",
   "metadata": {},
   "source": [
    "### UMAP"
   ]
  },
  {
   "cell_type": "markdown",
   "metadata": {},
   "source": [
    "Dimensionality reduction with UMAP"
   ]
  },
  {
   "cell_type": "code",
   "execution_count": null,
   "metadata": {},
   "outputs": [],
   "source": [
    "reducer = umap.UMAP(\n",
    "    n_neighbors=300,\n",
    "    min_dist=0.5,\n",
    "    n_components=2,\n",
    "    metric='jaccard',\n",
    ")"
   ]
  },
  {
   "cell_type": "code",
   "execution_count": null,
   "metadata": {},
   "outputs": [],
   "source": [
    "embedding = reducer.fit_transform(X=random_fps)\n",
    "embedding.shape"
   ]
  },
  {
   "cell_type": "markdown",
   "metadata": {},
   "source": [
    "Show UMAP embedding"
   ]
  },
  {
   "cell_type": "code",
   "execution_count": null,
   "metadata": {},
   "outputs": [],
   "source": [
    "palette = [\"#5790fc\", \"#f89c20\", \"#e42536\", \"#a1212c\"]  # works for colorblind\n",
    "\n",
    "bode_colors = ['#161638', '#923c10', '#000000']\n",
    "bode_colors_light = ['#e3e3f0', '#f0f0db']\n",
    "bode_blues = ['#161638', '#4a4a68', '#7d7e96', '#b0b0be', '#e3e3f0']\n",
    "bode_oranges = ['#923c10', '#ae5526', '#bb754d', '#c99470', '#e2d1b6', '#f0f0db']\n",
    "\n",
    "colors = [bode_blues[2], bode_oranges[1]]\n",
    "\n",
    "colors = ([palette[0]] * len(random_nrs_synferm) \n",
    "           + [palette[1]] * len(random_nrs_enamine) \n",
    "           #+ [palette[2]] * len(fps_chembl) \n",
    "           #+ [palette[3]] * len(fps_fda)\n",
    "         )\n",
    "#colors = [colors[x] for x in df[\"pred_A\"]]"
   ]
  },
  {
   "cell_type": "code",
   "execution_count": null,
   "metadata": {},
   "outputs": [],
   "source": [
    "idx_enamine_start = len(random_nrs_synferm)\n",
    "idx_chembl_start = len(random_nrs_synferm) + len(random_nrs_enamine)\n",
    "idx_fda_start = len(random_nrs_synferm) + len(random_nrs_enamine) + len(fps_chembl)\n",
    "\n",
    "plt.figure(figsize=(8,6))\n",
    "plt.scatter(\n",
    "    embedding[0:idx_enamine_start, 0],\n",
    "    embedding[0:idx_enamine_start, 1],\n",
    "    c=palette[0],\n",
    "    label=\"SynFerm\",\n",
    "    s=1,\n",
    "    marker=\".\",\n",
    ")\n",
    "#plt.scatter(\n",
    "#    embedding[idx_enamine_start:idx_chembl_start, 0],\n",
    "#    embedding[idx_enamine_start:idx_chembl_start, 1],\n",
    "#    c=palette[1],\n",
    "#    label=\"Enamine Hit Locator\",\n",
    "#    s=1,\n",
    "#    marker=\".\",\n",
    "#)\n",
    "#plt.scatter(\n",
    "#    embedding[idx_chembl_start:idx_fda_start, 0],\n",
    "#    embedding[idx_chembl_start:idx_fda_start, 1],\n",
    "#    c=palette[2],\n",
    "#    label=\"ChEMBL\",\n",
    "#    s=1,\n",
    "#    marker=\".\",\n",
    "#)\n",
    "plt.scatter(\n",
    "    embedding[idx_enamine_start:, 0],\n",
    "    embedding[idx_enamine_start:, 1],\n",
    "    c=palette[3],\n",
    "    label=\"FDA\",\n",
    "    s=1,\n",
    "    marker=\".\",\n",
    ")\n",
    "ax = plt.gca()\n",
    "ax.set_aspect('auto', 'datalim')\n",
    "ax.set_frame_on(False)\n",
    "ax.set_xticks([])\n",
    "ax.set_yticks([])\n",
    "legend = plt.legend(bbox_to_anchor=(1, 1), fontsize=8)\n",
    "# Adjust the size of the legend markers\n",
    "for handle in legend.legendHandles:\n",
    "    handle._sizes = [8]  # Size of markers in the legend only\n",
    "#plt.title(f'UMAP projection of the SynFerm PRIME VL\\n{reducer.n_neighbors}_{reducer.min_dist}_{reducer.n_components}_{reducer.metric}', fontsize=12);\n",
    "plt.tight_layout()\n",
    "\n",
    "save_path = pathlib.Path(f\"../results/2024-04-18/{len(random_nrs_synferm)}synferm_{len(fps_fda)}fda/UMAP_{reducer.n_neighbors}_{reducer.min_dist}_{reducer.n_components}_{reducer.metric}.png\")\n",
    "save_path.parent.mkdir(exist_ok=True)\n",
    "plt.savefig(save_path, dpi=300)\n",
    "plt.savefig(save_path.with_suffix(\".svg\"))"
   ]
  }
 ],
 "metadata": {
  "kernelspec": {
   "display_name": "Python 3 (ipykernel)",
   "language": "python",
   "name": "python3"
  },
  "language_info": {
   "codemirror_mode": {
    "name": "ipython",
    "version": 3
   },
   "file_extension": ".py",
   "mimetype": "text/x-python",
   "name": "python",
   "nbconvert_exporter": "python",
   "pygments_lexer": "ipython3",
   "version": "3.9.7"
  }
 },
 "nbformat": 4,
 "nbformat_minor": 1
}
