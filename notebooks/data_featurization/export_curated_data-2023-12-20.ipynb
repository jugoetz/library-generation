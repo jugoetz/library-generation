{
 "cells": [
  {
   "cell_type": "markdown",
   "id": "295e0b34",
   "metadata": {
    "collapsed": true
   },
   "source": [
    "# SynFerm data preparation\n",
    "#### Targets:\n",
    "- Import experiment, representation, and target data from db\n",
    "- Export to CSV\n",
    "#### Difference to previous\n",
    "- Get reactionSMILES from virtuallibrary -> they will not have stereochem on the PG\n",
    "- Exclude Mon078\n",
    "- Don't export to JSON (we don't need this anymore)"
   ]
  },
  {
   "cell_type": "code",
   "execution_count": 3,
   "id": "69d02537",
   "metadata": {
    "ExecuteTime": {
     "end_time": "2023-09-05T17:06:07.606410Z",
     "start_time": "2023-09-05T17:06:06.660058Z"
    }
   },
   "outputs": [],
   "source": [
    "import datetime\n",
    "import pathlib\n",
    "import sys\n",
    "\n",
    "sys.path.append(str(pathlib.Path().resolve().parents[1]))\n",
    "\n",
    "import pandas as pd\n",
    "\n",
    "from src.util.db_utils import SynFermDatabaseConnection\n",
    "from src.definitions import DATA_DIR"
   ]
  },
  {
   "cell_type": "code",
   "execution_count": 4,
   "id": "95259c45",
   "metadata": {
    "ExecuteTime": {
     "end_time": "2023-09-05T17:06:07.609910Z",
     "start_time": "2023-09-05T17:06:07.607054Z"
    }
   },
   "outputs": [],
   "source": [
    "con = SynFermDatabaseConnection()  # we will use this for various simple queries"
   ]
  },
  {
   "cell_type": "markdown",
   "id": "c5e6a1125ac49b09",
   "metadata": {},
   "source": [
    "## Import data"
   ]
  },
  {
   "cell_type": "code",
   "execution_count": 6,
   "id": "33d4dbab",
   "metadata": {
    "ExecuteTime": {
     "end_time": "2023-09-05T17:08:22.657285Z",
     "start_time": "2023-09-05T17:08:22.096081Z"
    }
   },
   "outputs": [
    {
     "name": "stdout",
     "output_type": "stream",
     "text": [
      "Number of reactions (in total): 39857\n"
     ]
    }
   ],
   "source": [
    "# note that we only select valid reactions by using the INNER JOIN with the labels table and excluding Mon078\n",
    "res = con.con.execute(\"\"\"SELECT e.id, r.I_long, r.M_long, r.T_long, r.product_A_smiles, r.I_smiles, r.M_smiles, r.T_smiles, r.reaction_smiles, v.reaction_smiles_atom_mapped, l.binary_A, l.binary_B, l.binary_C, l.binary_D, l.binary_E, l.binary_F, l.binary_G, l.binary_H, l.scaled_A, l.scaled_B, l.scaled_C, l.scaled_D, l.scaled_E, l.scaled_F, l.scaled_G, l.scaled_H, l.\"major_A-C\" FROM experiments e LEFT JOIN representations r on e.id = r.experiment_id INNER JOIN labels l on e.id = l.experiment_id LEFT JOIN virtuallibrary v on e.vl_id = v.id WHERE e.monomer_long != 'Mon078';\"\"\").fetchall()\n",
    "\n",
    "columns = [\"experiment_id\", \"I_long\", \"M_long\", \"T_long\", \"product_A_smiles\", \"I_smiles\", \"M_smiles\", \"T_smiles\", \"reaction_smiles\", \"reaction_smiles_atom_mapped\", \"binary_A\", \"binary_B\", \"binary_C\", \"binary_D\", \"binary_E\", \"binary_F\", \"binary_G\", \"binary_H\", \"scaled_A\", \"scaled_B\", \"scaled_C\", \"scaled_D\", \"scaled_E\", \"scaled_F\", \"scaled_G\", \"scaled_H\", \"major_A-C\"]\n",
    "df = pd.DataFrame(res, columns=columns)\n",
    "print(f'Number of reactions (in total): {len(df)}')"
   ]
  },
  {
   "cell_type": "code",
   "execution_count": 7,
   "id": "d26dc3a9",
   "metadata": {
    "ExecuteTime": {
     "end_time": "2023-09-05T17:08:22.665296Z",
     "start_time": "2023-09-05T17:08:22.657602Z"
    },
    "scrolled": false
   },
   "outputs": [
    {
     "data": {
      "text/plain": [
       "0"
      ]
     },
     "execution_count": 7,
     "metadata": {},
     "output_type": "execute_result"
    }
   ],
   "source": [
    "# doublecheck we don't have missing values\n",
    "df['scaled_A'].isna().sum()"
   ]
  },
  {
   "cell_type": "markdown",
   "id": "8570a4d684e78e59",
   "metadata": {},
   "source": [
    "## Aggregate duplicates\n",
    "For training, we want to remove duplicates from out data.\n",
    "To aggregate we follow these steps:\n",
    "1. Take the mean of the scaled values\n",
    "2. From the mean scaled values, calculate the binary labels and the major_A-C label"
   ]
  },
  {
   "cell_type": "code",
   "execution_count": 8,
   "id": "29a8a52a81fd9c73",
   "metadata": {
    "ExecuteTime": {
     "end_time": "2023-09-05T17:08:40.815683Z",
     "start_time": "2023-09-05T17:08:40.809462Z"
    }
   },
   "outputs": [
    {
     "data": {
      "text/plain": [
       "371"
      ]
     },
     "execution_count": 8,
     "metadata": {},
     "output_type": "execute_result"
    }
   ],
   "source": [
    "# how many duplicates are there?\n",
    "df[\"product_A_smiles\"].duplicated().sum()"
   ]
  },
  {
   "cell_type": "code",
   "execution_count": 9,
   "id": "a807e118057e67b",
   "metadata": {
    "ExecuteTime": {
     "end_time": "2023-09-05T17:08:41.890475Z",
     "start_time": "2023-09-05T17:08:41.878061Z"
    }
   },
   "outputs": [
    {
     "data": {
      "text/html": [
       "<div>\n",
       "<style scoped>\n",
       "    .dataframe tbody tr th:only-of-type {\n",
       "        vertical-align: middle;\n",
       "    }\n",
       "\n",
       "    .dataframe tbody tr th {\n",
       "        vertical-align: top;\n",
       "    }\n",
       "\n",
       "    .dataframe thead th {\n",
       "        text-align: right;\n",
       "    }\n",
       "</style>\n",
       "<table border=\"1\" class=\"dataframe\">\n",
       "  <thead>\n",
       "    <tr style=\"text-align: right;\">\n",
       "      <th></th>\n",
       "      <th>experiment_id</th>\n",
       "      <th>I_long</th>\n",
       "      <th>M_long</th>\n",
       "      <th>T_long</th>\n",
       "      <th>product_A_smiles</th>\n",
       "      <th>I_smiles</th>\n",
       "      <th>M_smiles</th>\n",
       "      <th>T_smiles</th>\n",
       "      <th>reaction_smiles</th>\n",
       "      <th>reaction_smiles_atom_mapped</th>\n",
       "      <th>...</th>\n",
       "      <th>binary_H</th>\n",
       "      <th>scaled_A</th>\n",
       "      <th>scaled_B</th>\n",
       "      <th>scaled_C</th>\n",
       "      <th>scaled_D</th>\n",
       "      <th>scaled_E</th>\n",
       "      <th>scaled_F</th>\n",
       "      <th>scaled_G</th>\n",
       "      <th>scaled_H</th>\n",
       "      <th>major_A-C</th>\n",
       "    </tr>\n",
       "  </thead>\n",
       "  <tbody>\n",
       "    <tr>\n",
       "      <th>0</th>\n",
       "      <td>10578</td>\n",
       "      <td>Ph023</td>\n",
       "      <td>Mon017</td>\n",
       "      <td>TerTH010</td>\n",
       "      <td>CC(C)(C)OC(=O)CC[C@@H](Cc1nnc(C=Cc2ccccc2)s1)N...</td>\n",
       "      <td>O=C(c1ccc(Cl)cc1)[B-](F)(F)F.[K+]</td>\n",
       "      <td>CC(C)(C)OC(=O)CC[C@H]1C[C@]2(ON1)OC1(CCCCC1)OC2=O</td>\n",
       "      <td>Cl.NNC(=S)/C=C/c1ccccc1</td>\n",
       "      <td>O=C(c1ccc(Cl)cc1)[B-](F)(F)F.CC(C)(C)OC(=O)CC[...</td>\n",
       "      <td>F[B-](F)(F)[C:1](=[O:2])[c:11]1[cH:12][cH:14][...</td>\n",
       "      <td>...</td>\n",
       "      <td>1.0</td>\n",
       "      <td>2.430935</td>\n",
       "      <td>1.277949</td>\n",
       "      <td>0.285254</td>\n",
       "      <td>0.000000</td>\n",
       "      <td>0.413053</td>\n",
       "      <td>0.232611</td>\n",
       "      <td>5.452566</td>\n",
       "      <td>0.290557</td>\n",
       "      <td>A</td>\n",
       "    </tr>\n",
       "    <tr>\n",
       "      <th>1</th>\n",
       "      <td>10579</td>\n",
       "      <td>Ph023</td>\n",
       "      <td>Mon017</td>\n",
       "      <td>TerTH026</td>\n",
       "      <td>CC(C)(C)OC(=O)CC[C@@H](Cc1nnc(-c2cn[nH]c2)s1)N...</td>\n",
       "      <td>O=C(c1ccc(Cl)cc1)[B-](F)(F)F.[K+]</td>\n",
       "      <td>CC(C)(C)OC(=O)CC[C@H]1C[C@]2(ON1)OC1(CCCCC1)OC2=O</td>\n",
       "      <td>Cl.NNC(=S)c1cn[nH]c1</td>\n",
       "      <td>O=C(c1ccc(Cl)cc1)[B-](F)(F)F.CC(C)(C)OC(=O)CC[...</td>\n",
       "      <td>F[B-](F)(F)[C:1](=[O:2])[c:11]1[cH:12][cH:14][...</td>\n",
       "      <td>...</td>\n",
       "      <td>0.0</td>\n",
       "      <td>0.382317</td>\n",
       "      <td>0.926318</td>\n",
       "      <td>0.240020</td>\n",
       "      <td>0.000000</td>\n",
       "      <td>0.064906</td>\n",
       "      <td>0.339427</td>\n",
       "      <td>5.693844</td>\n",
       "      <td>0.000000</td>\n",
       "      <td>B</td>\n",
       "    </tr>\n",
       "    <tr>\n",
       "      <th>2</th>\n",
       "      <td>10580</td>\n",
       "      <td>Ph023</td>\n",
       "      <td>Mon017</td>\n",
       "      <td>TerTH015</td>\n",
       "      <td>CC(C)(C)OC(=O)CC[C@@H](Cc1nnc(-c2cc(Cl)cc(Cl)c...</td>\n",
       "      <td>O=C(c1ccc(Cl)cc1)[B-](F)(F)F.[K+]</td>\n",
       "      <td>CC(C)(C)OC(=O)CC[C@H]1C[C@]2(ON1)OC1(CCCCC1)OC2=O</td>\n",
       "      <td>Cl.NNC(=S)c1cc(Cl)cc(Cl)c1</td>\n",
       "      <td>O=C(c1ccc(Cl)cc1)[B-](F)(F)F.CC(C)(C)OC(=O)CC[...</td>\n",
       "      <td>F[B-](F)(F)[C:1](=[O:2])[c:11]1[cH:12][cH:14][...</td>\n",
       "      <td>...</td>\n",
       "      <td>0.0</td>\n",
       "      <td>0.931135</td>\n",
       "      <td>0.867479</td>\n",
       "      <td>0.042005</td>\n",
       "      <td>0.000000</td>\n",
       "      <td>0.000000</td>\n",
       "      <td>0.291865</td>\n",
       "      <td>5.596290</td>\n",
       "      <td>0.000000</td>\n",
       "      <td>A</td>\n",
       "    </tr>\n",
       "    <tr>\n",
       "      <th>3</th>\n",
       "      <td>10581</td>\n",
       "      <td>Ph023</td>\n",
       "      <td>Mon017</td>\n",
       "      <td>TerTH020</td>\n",
       "      <td>CN(C)c1cccc(-c2nnc(C[C@H](CCC(=O)OC(C)(C)C)NC(...</td>\n",
       "      <td>O=C(c1ccc(Cl)cc1)[B-](F)(F)F.[K+]</td>\n",
       "      <td>CC(C)(C)OC(=O)CC[C@H]1C[C@]2(ON1)OC1(CCCCC1)OC2=O</td>\n",
       "      <td>CN(C)c1cccc(C(=S)NN)c1.Cl</td>\n",
       "      <td>O=C(c1ccc(Cl)cc1)[B-](F)(F)F.CC(C)(C)OC(=O)CC[...</td>\n",
       "      <td>F[B-](F)(F)[C:1](=[O:2])[c:11]1[cH:12][cH:14][...</td>\n",
       "      <td>...</td>\n",
       "      <td>1.0</td>\n",
       "      <td>2.138999</td>\n",
       "      <td>2.543982</td>\n",
       "      <td>0.074154</td>\n",
       "      <td>0.000830</td>\n",
       "      <td>0.283941</td>\n",
       "      <td>0.321137</td>\n",
       "      <td>6.585098</td>\n",
       "      <td>0.213757</td>\n",
       "      <td>B</td>\n",
       "    </tr>\n",
       "    <tr>\n",
       "      <th>4</th>\n",
       "      <td>10584</td>\n",
       "      <td>Ph023</td>\n",
       "      <td>Mon017</td>\n",
       "      <td>TerABT001</td>\n",
       "      <td>CC(C)(C)OC(=O)CC[C@@H](Cc1nc2ccccc2s1)NC(=O)c1...</td>\n",
       "      <td>O=C(c1ccc(Cl)cc1)[B-](F)(F)F.[K+]</td>\n",
       "      <td>CC(C)(C)OC(=O)CC[C@H]1C[C@]2(ON1)OC1(CCCCC1)OC2=O</td>\n",
       "      <td>Nc1ccccc1S</td>\n",
       "      <td>O=C(c1ccc(Cl)cc1)[B-](F)(F)F.CC(C)(C)OC(=O)CC[...</td>\n",
       "      <td>F[B-](F)(F)[C:1](=[O:2])[c:15]1[cH:16][cH:18][...</td>\n",
       "      <td>...</td>\n",
       "      <td>1.0</td>\n",
       "      <td>2.400752</td>\n",
       "      <td>0.011716</td>\n",
       "      <td>0.000000</td>\n",
       "      <td>0.001561</td>\n",
       "      <td>0.209155</td>\n",
       "      <td>1.204209</td>\n",
       "      <td>7.226035</td>\n",
       "      <td>0.811754</td>\n",
       "      <td>A</td>\n",
       "    </tr>\n",
       "  </tbody>\n",
       "</table>\n",
       "<p>5 rows × 27 columns</p>\n",
       "</div>"
      ],
      "text/plain": [
       "   experiment_id I_long  M_long     T_long  \\\n",
       "0          10578  Ph023  Mon017   TerTH010   \n",
       "1          10579  Ph023  Mon017   TerTH026   \n",
       "2          10580  Ph023  Mon017   TerTH015   \n",
       "3          10581  Ph023  Mon017   TerTH020   \n",
       "4          10584  Ph023  Mon017  TerABT001   \n",
       "\n",
       "                                    product_A_smiles  \\\n",
       "0  CC(C)(C)OC(=O)CC[C@@H](Cc1nnc(C=Cc2ccccc2)s1)N...   \n",
       "1  CC(C)(C)OC(=O)CC[C@@H](Cc1nnc(-c2cn[nH]c2)s1)N...   \n",
       "2  CC(C)(C)OC(=O)CC[C@@H](Cc1nnc(-c2cc(Cl)cc(Cl)c...   \n",
       "3  CN(C)c1cccc(-c2nnc(C[C@H](CCC(=O)OC(C)(C)C)NC(...   \n",
       "4  CC(C)(C)OC(=O)CC[C@@H](Cc1nc2ccccc2s1)NC(=O)c1...   \n",
       "\n",
       "                            I_smiles  \\\n",
       "0  O=C(c1ccc(Cl)cc1)[B-](F)(F)F.[K+]   \n",
       "1  O=C(c1ccc(Cl)cc1)[B-](F)(F)F.[K+]   \n",
       "2  O=C(c1ccc(Cl)cc1)[B-](F)(F)F.[K+]   \n",
       "3  O=C(c1ccc(Cl)cc1)[B-](F)(F)F.[K+]   \n",
       "4  O=C(c1ccc(Cl)cc1)[B-](F)(F)F.[K+]   \n",
       "\n",
       "                                            M_smiles  \\\n",
       "0  CC(C)(C)OC(=O)CC[C@H]1C[C@]2(ON1)OC1(CCCCC1)OC2=O   \n",
       "1  CC(C)(C)OC(=O)CC[C@H]1C[C@]2(ON1)OC1(CCCCC1)OC2=O   \n",
       "2  CC(C)(C)OC(=O)CC[C@H]1C[C@]2(ON1)OC1(CCCCC1)OC2=O   \n",
       "3  CC(C)(C)OC(=O)CC[C@H]1C[C@]2(ON1)OC1(CCCCC1)OC2=O   \n",
       "4  CC(C)(C)OC(=O)CC[C@H]1C[C@]2(ON1)OC1(CCCCC1)OC2=O   \n",
       "\n",
       "                     T_smiles  \\\n",
       "0     Cl.NNC(=S)/C=C/c1ccccc1   \n",
       "1        Cl.NNC(=S)c1cn[nH]c1   \n",
       "2  Cl.NNC(=S)c1cc(Cl)cc(Cl)c1   \n",
       "3   CN(C)c1cccc(C(=S)NN)c1.Cl   \n",
       "4                  Nc1ccccc1S   \n",
       "\n",
       "                                     reaction_smiles  \\\n",
       "0  O=C(c1ccc(Cl)cc1)[B-](F)(F)F.CC(C)(C)OC(=O)CC[...   \n",
       "1  O=C(c1ccc(Cl)cc1)[B-](F)(F)F.CC(C)(C)OC(=O)CC[...   \n",
       "2  O=C(c1ccc(Cl)cc1)[B-](F)(F)F.CC(C)(C)OC(=O)CC[...   \n",
       "3  O=C(c1ccc(Cl)cc1)[B-](F)(F)F.CC(C)(C)OC(=O)CC[...   \n",
       "4  O=C(c1ccc(Cl)cc1)[B-](F)(F)F.CC(C)(C)OC(=O)CC[...   \n",
       "\n",
       "                         reaction_smiles_atom_mapped  ...  binary_H  scaled_A  \\\n",
       "0  F[B-](F)(F)[C:1](=[O:2])[c:11]1[cH:12][cH:14][...  ...       1.0  2.430935   \n",
       "1  F[B-](F)(F)[C:1](=[O:2])[c:11]1[cH:12][cH:14][...  ...       0.0  0.382317   \n",
       "2  F[B-](F)(F)[C:1](=[O:2])[c:11]1[cH:12][cH:14][...  ...       0.0  0.931135   \n",
       "3  F[B-](F)(F)[C:1](=[O:2])[c:11]1[cH:12][cH:14][...  ...       1.0  2.138999   \n",
       "4  F[B-](F)(F)[C:1](=[O:2])[c:15]1[cH:16][cH:18][...  ...       1.0  2.400752   \n",
       "\n",
       "   scaled_B  scaled_C  scaled_D  scaled_E  scaled_F  scaled_G  scaled_H  \\\n",
       "0  1.277949  0.285254  0.000000  0.413053  0.232611  5.452566  0.290557   \n",
       "1  0.926318  0.240020  0.000000  0.064906  0.339427  5.693844  0.000000   \n",
       "2  0.867479  0.042005  0.000000  0.000000  0.291865  5.596290  0.000000   \n",
       "3  2.543982  0.074154  0.000830  0.283941  0.321137  6.585098  0.213757   \n",
       "4  0.011716  0.000000  0.001561  0.209155  1.204209  7.226035  0.811754   \n",
       "\n",
       "   major_A-C  \n",
       "0          A  \n",
       "1          B  \n",
       "2          A  \n",
       "3          B  \n",
       "4          A  \n",
       "\n",
       "[5 rows x 27 columns]"
      ]
     },
     "execution_count": 9,
     "metadata": {},
     "output_type": "execute_result"
    }
   ],
   "source": [
    "df.head()"
   ]
  },
  {
   "cell_type": "code",
   "execution_count": 10,
   "id": "bd3eed808ddce067",
   "metadata": {
    "ExecuteTime": {
     "end_time": "2023-09-05T17:08:43.055785Z",
     "start_time": "2023-09-05T17:08:42.377089Z"
    }
   },
   "outputs": [
    {
     "data": {
      "text/plain": [
       "39486"
      ]
     },
     "execution_count": 10,
     "metadata": {},
     "output_type": "execute_result"
    }
   ],
   "source": [
    "# aggregate duplicates\n",
    "group = df.groupby([\"I_long\", \"M_long\", \"T_long\", \"product_A_smiles\", \"I_smiles\", \"M_smiles\", \"T_smiles\", \"reaction_smiles\", \"reaction_smiles_atom_mapped\"])\n",
    "\n",
    "# take the mean of the scaled values\n",
    "scaled_responses = group[[f\"scaled_{i}\" for i in \"ABCDEFGH\"]].mean()\n",
    "\n",
    "# reassign the binary labels\n",
    "binary_responses = scaled_responses.applymap(lambda x: 1 if x > 0 else 0).rename(columns={f\"scaled_{i}\": f\"binary_{i}\" for i in \"ABCDEFGH\"})\n",
    "\n",
    "# reassign the major_A-C label\n",
    "major = scaled_responses[[f\"scaled_{i}\" for i in \"ABC\"]].idxmax(axis=1).str.strip(\"scaled_\").rename(\"major_A-C\")\n",
    "major.loc[scaled_responses[[f\"scaled_{i}\" for i in \"ABC\"]].sum(axis=1) == 0] = \"no_product\"\n",
    "\n",
    "# merge the results\n",
    "exp_nr = group[\"experiment_id\"].agg(lambda x: x if len(x) == 1 else \"/\".join([str(i) for i in x]))\n",
    "df = pd.merge(exp_nr, binary_responses, left_index=True, right_index=True).merge(scaled_responses, left_index=True, right_index=True).merge(major, left_index=True, right_index=True).reset_index()\n",
    "# length should be original length minus number of duplicates\n",
    "len(df)"
   ]
  },
  {
   "cell_type": "code",
   "execution_count": 13,
   "id": "992c7f75c730d195",
   "metadata": {
    "ExecuteTime": {
     "end_time": "2023-09-05T17:08:43.760758Z",
     "start_time": "2023-09-05T17:08:43.743896Z"
    }
   },
   "outputs": [
    {
     "data": {
      "text/plain": [
       "0.8208478954566175"
      ]
     },
     "execution_count": 13,
     "metadata": {},
     "output_type": "execute_result"
    }
   ],
   "source": [
    "# how many positives (ratio)?\n",
    "df.binary_A.sum() / len(df)"
   ]
  },
  {
   "cell_type": "markdown",
   "id": "8a096a33",
   "metadata": {},
   "source": [
    "## Export\n",
    "Now we have a cleaned dataset. Export to CSV."
   ]
  },
  {
   "cell_type": "code",
   "execution_count": 14,
   "id": "a706a6a2a07237ad",
   "metadata": {
    "ExecuteTime": {
     "end_time": "2023-09-05T17:08:47.253392Z",
     "start_time": "2023-09-05T17:08:46.624468Z"
    }
   },
   "outputs": [],
   "source": [
    "# export to CSV, with timestamp\n",
    "df.to_csv(DATA_DIR / \"curated_data\" / f\"synferm_dataset_{datetime.datetime.today().strftime('%Y-%m-%d')}_{len(df)}records.csv\", index=False)"
   ]
  }
 ],
 "metadata": {
  "kernelspec": {
   "display_name": "Python 3 (ipykernel)",
   "language": "python",
   "name": "python3"
  },
  "language_info": {
   "codemirror_mode": {
    "name": "ipython",
    "version": 3
   },
   "file_extension": ".py",
   "mimetype": "text/x-python",
   "name": "python",
   "nbconvert_exporter": "python",
   "pygments_lexer": "ipython3",
   "version": "3.9.7"
  }
 },
 "nbformat": 4,
 "nbformat_minor": 5
}
