{
 "cells": [
  {
   "cell_type": "markdown",
   "metadata": {},
   "source": [
    "# Data Splits\n",
    "\n",
    "We want to split the SynFerm data set into train, validation and test data.\n",
    "For all splits, we will do 9 random repetitions.\n",
    "For 1D and 2D split, which both use 3 different groups to split on, these will divide into 3 random repetitions for each of the 3 groups. \n",
    "\n",
    "### 0D Split\n",
    "For the 0D split, we use a random train-test split.\n",
    "We use a 80/10/10 split into train, val, and test set.\n",
    "\n",
    "### 1D Split\n",
    "For the 1D split, we use a (1D) GroupShuffleSplit.\n",
    "Each individual split will be 80/10/10 train/test (of groups not samples!).\n",
    "As groups, we use either initiator, monomer, or terminator.\n",
    "\n",
    "### 2D Split\n",
    "For the 2D split, we use a (2D) GroupShuffleSplit.\n",
    "Each individual split will use 10% of groups as test set and 12.5% of remaining groups as validation set. \n",
    "Due to the dimensionality, this means we expect 0.1 * 0.1 = 1% of samples in the test and validation set and 0.900^2 * 0.875^2 = 62.0% of sample in the training set.\n",
    "The remaining samples are not used to prevent leakage.\n",
    "As groups, we use either \\[initiator, monomer], \\[monomer, terminator] or \\[initiator, terminator].\n",
    "\n",
    "### 3D Split\n",
    "For the 3D split, we use a (3D) GroupShuffleSplit.\n",
    "Each individual split will use 20% of groups as test set, 25% of remaining groups as validation set, and the remaining groups as training set.\n",
    "Due to the dimensionality, this means we expect 0.2^3 = 0.8% of samples in the test and validation set and 0.800^3 * 0.750^3 = 21.6% of sample in the training set."
   ]
  },
  {
   "cell_type": "code",
   "execution_count": 2,
   "metadata": {
    "ExecuteTime": {
     "end_time": "2023-09-07T17:04:53.936618Z",
     "start_time": "2023-09-07T17:04:53.237504Z"
    }
   },
   "outputs": [],
   "source": [
    "import pathlib\n",
    "import sys\n",
    "\n",
    "sys.path.append(str(pathlib.Path().resolve().parents[1]))\n",
    "\n",
    "import numpy as np\n",
    "import pandas as pd\n",
    "from sklearn.model_selection import GroupShuffleSplit, ShuffleSplit\n",
    "\n",
    "from src.definitions import DATA_DIR\n",
    "from src.util.train_test_split import GroupShuffleSplitND\n",
    "from util import write_indices_and_stats"
   ]
  },
  {
   "cell_type": "code",
   "execution_count": 3,
   "metadata": {
    "ExecuteTime": {
     "end_time": "2023-09-07T17:04:54.279631Z",
     "start_time": "2023-09-07T17:04:53.937616Z"
    }
   },
   "outputs": [
    {
     "data": {
      "text/plain": [
       "(39486, 27)"
      ]
     },
     "execution_count": 3,
     "metadata": {},
     "output_type": "execute_result"
    }
   ],
   "source": [
    "# Load data\n",
    "data_filename = \"synferm_dataset_2023-12-20_39486records.csv\"\n",
    "data_name = data_filename.rsplit(\"_\", maxsplit=1)[0]\n",
    "df = pd.read_csv(DATA_DIR / \"curated_data\" / data_filename)\n",
    "df.shape"
   ]
  },
  {
   "cell_type": "code",
   "execution_count": 4,
   "metadata": {
    "ExecuteTime": {
     "end_time": "2023-09-07T17:04:54.290593Z",
     "start_time": "2023-09-07T17:04:54.278995Z"
    }
   },
   "outputs": [
    {
     "data": {
      "text/html": [
       "<div>\n",
       "<style scoped>\n",
       "    .dataframe tbody tr th:only-of-type {\n",
       "        vertical-align: middle;\n",
       "    }\n",
       "\n",
       "    .dataframe tbody tr th {\n",
       "        vertical-align: top;\n",
       "    }\n",
       "\n",
       "    .dataframe thead th {\n",
       "        text-align: right;\n",
       "    }\n",
       "</style>\n",
       "<table border=\"1\" class=\"dataframe\">\n",
       "  <thead>\n",
       "    <tr style=\"text-align: right;\">\n",
       "      <th></th>\n",
       "      <th>I_long</th>\n",
       "      <th>M_long</th>\n",
       "      <th>T_long</th>\n",
       "      <th>product_A_smiles</th>\n",
       "      <th>I_smiles</th>\n",
       "      <th>M_smiles</th>\n",
       "      <th>T_smiles</th>\n",
       "      <th>reaction_smiles</th>\n",
       "      <th>reaction_smiles_atom_mapped</th>\n",
       "      <th>experiment_id</th>\n",
       "      <th>...</th>\n",
       "      <th>binary_H</th>\n",
       "      <th>scaled_A</th>\n",
       "      <th>scaled_B</th>\n",
       "      <th>scaled_C</th>\n",
       "      <th>scaled_D</th>\n",
       "      <th>scaled_E</th>\n",
       "      <th>scaled_F</th>\n",
       "      <th>scaled_G</th>\n",
       "      <th>scaled_H</th>\n",
       "      <th>major_A-C</th>\n",
       "    </tr>\n",
       "  </thead>\n",
       "  <tbody>\n",
       "    <tr>\n",
       "      <th>0</th>\n",
       "      <td>2-Pyr003</td>\n",
       "      <td>Fused002</td>\n",
       "      <td>TerABT004</td>\n",
       "      <td>COc1ccc(CCOC(=O)N2C[C@H](NC(=O)c3cccc(Cl)n3)[C...</td>\n",
       "      <td>O=C(c1cccc(Cl)n1)[B-](F)(F)F.[K+]</td>\n",
       "      <td>COc1ccc(CCOC(=O)N2C[C@@H]3NO[C@]4(OC5(CCCCC5)O...</td>\n",
       "      <td>Nc1ccc(F)cc1S</td>\n",
       "      <td>O=C(c1cccc(Cl)n1)[B-](F)(F)F.COc1ccc(CCOC(=O)N...</td>\n",
       "      <td>F[B-](F)(F)[C:1](=[O:2])[c:15]1[cH:16][cH:18][...</td>\n",
       "      <td>56113</td>\n",
       "      <td>...</td>\n",
       "      <td>0</td>\n",
       "      <td>0.036021</td>\n",
       "      <td>0.003427</td>\n",
       "      <td>0.0</td>\n",
       "      <td>0.020975</td>\n",
       "      <td>0.002958</td>\n",
       "      <td>0.941981</td>\n",
       "      <td>0.914281</td>\n",
       "      <td>0.00000</td>\n",
       "      <td>A</td>\n",
       "    </tr>\n",
       "    <tr>\n",
       "      <th>1</th>\n",
       "      <td>2-Pyr003</td>\n",
       "      <td>Fused002</td>\n",
       "      <td>TerABT007</td>\n",
       "      <td>COc1ccc(CCOC(=O)N2C[C@H](NC(=O)c3cccc(Cl)n3)[C...</td>\n",
       "      <td>O=C(c1cccc(Cl)n1)[B-](F)(F)F.[K+]</td>\n",
       "      <td>COc1ccc(CCOC(=O)N2C[C@@H]3NO[C@]4(OC5(CCCCC5)O...</td>\n",
       "      <td>Nc1cc(Br)ccc1S</td>\n",
       "      <td>O=C(c1cccc(Cl)n1)[B-](F)(F)F.COc1ccc(CCOC(=O)N...</td>\n",
       "      <td>F[B-](F)(F)[C:1](=[O:2])[c:15]1[cH:16][cH:18][...</td>\n",
       "      <td>56114</td>\n",
       "      <td>...</td>\n",
       "      <td>0</td>\n",
       "      <td>0.000000</td>\n",
       "      <td>0.000000</td>\n",
       "      <td>0.0</td>\n",
       "      <td>0.006159</td>\n",
       "      <td>0.364398</td>\n",
       "      <td>0.928851</td>\n",
       "      <td>1.106548</td>\n",
       "      <td>0.00000</td>\n",
       "      <td>no_product</td>\n",
       "    </tr>\n",
       "    <tr>\n",
       "      <th>2</th>\n",
       "      <td>2-Pyr003</td>\n",
       "      <td>Fused002</td>\n",
       "      <td>TerABT013</td>\n",
       "      <td>COc1ccc(CCOC(=O)N2C[C@H](NC(=O)c3cccc(Cl)n3)[C...</td>\n",
       "      <td>O=C(c1cccc(Cl)n1)[B-](F)(F)F.[K+]</td>\n",
       "      <td>COc1ccc(CCOC(=O)N2C[C@@H]3NO[C@]4(OC5(CCCCC5)O...</td>\n",
       "      <td>Nc1cc(C(F)(F)F)ccc1S</td>\n",
       "      <td>O=C(c1cccc(Cl)n1)[B-](F)(F)F.COc1ccc(CCOC(=O)N...</td>\n",
       "      <td>F[B-](F)(F)[C:1](=[O:2])[c:15]1[cH:16][cH:18][...</td>\n",
       "      <td>56106</td>\n",
       "      <td>...</td>\n",
       "      <td>1</td>\n",
       "      <td>0.000000</td>\n",
       "      <td>0.000000</td>\n",
       "      <td>0.0</td>\n",
       "      <td>0.014212</td>\n",
       "      <td>2.166420</td>\n",
       "      <td>1.013596</td>\n",
       "      <td>0.537785</td>\n",
       "      <td>0.05686</td>\n",
       "      <td>no_product</td>\n",
       "    </tr>\n",
       "    <tr>\n",
       "      <th>3</th>\n",
       "      <td>2-Pyr003</td>\n",
       "      <td>Fused002</td>\n",
       "      <td>TerABT014</td>\n",
       "      <td>COc1ccc(CCOC(=O)N2C[C@H](NC(=O)c3cccc(Cl)n3)[C...</td>\n",
       "      <td>O=C(c1cccc(Cl)n1)[B-](F)(F)F.[K+]</td>\n",
       "      <td>COc1ccc(CCOC(=O)N2C[C@@H]3NO[C@]4(OC5(CCCCC5)O...</td>\n",
       "      <td>Nc1ccc(Cl)cc1S</td>\n",
       "      <td>O=C(c1cccc(Cl)n1)[B-](F)(F)F.COc1ccc(CCOC(=O)N...</td>\n",
       "      <td>F[B-](F)(F)[C:1](=[O:2])[c:15]1[cH:16][cH:18][...</td>\n",
       "      <td>56112</td>\n",
       "      <td>...</td>\n",
       "      <td>0</td>\n",
       "      <td>0.028915</td>\n",
       "      <td>0.005039</td>\n",
       "      <td>0.0</td>\n",
       "      <td>0.015578</td>\n",
       "      <td>0.504057</td>\n",
       "      <td>0.992614</td>\n",
       "      <td>0.890646</td>\n",
       "      <td>0.00000</td>\n",
       "      <td>A</td>\n",
       "    </tr>\n",
       "    <tr>\n",
       "      <th>4</th>\n",
       "      <td>2-Pyr003</td>\n",
       "      <td>Fused002</td>\n",
       "      <td>TerTH001</td>\n",
       "      <td>COc1ccc(CCOC(=O)N2C[C@H](NC(=O)c3cccc(Cl)n3)[C...</td>\n",
       "      <td>O=C(c1cccc(Cl)n1)[B-](F)(F)F.[K+]</td>\n",
       "      <td>COc1ccc(CCOC(=O)N2C[C@@H]3NO[C@]4(OC5(CCCCC5)O...</td>\n",
       "      <td>[Cl-].[NH3+]NC(=S)c1ccccc1</td>\n",
       "      <td>O=C(c1cccc(Cl)n1)[B-](F)(F)F.COc1ccc(CCOC(=O)N...</td>\n",
       "      <td>F[B-](F)(F)[C:1](=[O:2])[c:11]1[cH:12][cH:14][...</td>\n",
       "      <td>56109</td>\n",
       "      <td>...</td>\n",
       "      <td>0</td>\n",
       "      <td>0.350061</td>\n",
       "      <td>0.643219</td>\n",
       "      <td>0.0</td>\n",
       "      <td>0.031689</td>\n",
       "      <td>0.613596</td>\n",
       "      <td>0.109309</td>\n",
       "      <td>0.439018</td>\n",
       "      <td>0.00000</td>\n",
       "      <td>B</td>\n",
       "    </tr>\n",
       "  </tbody>\n",
       "</table>\n",
       "<p>5 rows × 27 columns</p>\n",
       "</div>"
      ],
      "text/plain": [
       "     I_long    M_long     T_long  \\\n",
       "0  2-Pyr003  Fused002  TerABT004   \n",
       "1  2-Pyr003  Fused002  TerABT007   \n",
       "2  2-Pyr003  Fused002  TerABT013   \n",
       "3  2-Pyr003  Fused002  TerABT014   \n",
       "4  2-Pyr003  Fused002   TerTH001   \n",
       "\n",
       "                                    product_A_smiles  \\\n",
       "0  COc1ccc(CCOC(=O)N2C[C@H](NC(=O)c3cccc(Cl)n3)[C...   \n",
       "1  COc1ccc(CCOC(=O)N2C[C@H](NC(=O)c3cccc(Cl)n3)[C...   \n",
       "2  COc1ccc(CCOC(=O)N2C[C@H](NC(=O)c3cccc(Cl)n3)[C...   \n",
       "3  COc1ccc(CCOC(=O)N2C[C@H](NC(=O)c3cccc(Cl)n3)[C...   \n",
       "4  COc1ccc(CCOC(=O)N2C[C@H](NC(=O)c3cccc(Cl)n3)[C...   \n",
       "\n",
       "                            I_smiles  \\\n",
       "0  O=C(c1cccc(Cl)n1)[B-](F)(F)F.[K+]   \n",
       "1  O=C(c1cccc(Cl)n1)[B-](F)(F)F.[K+]   \n",
       "2  O=C(c1cccc(Cl)n1)[B-](F)(F)F.[K+]   \n",
       "3  O=C(c1cccc(Cl)n1)[B-](F)(F)F.[K+]   \n",
       "4  O=C(c1cccc(Cl)n1)[B-](F)(F)F.[K+]   \n",
       "\n",
       "                                            M_smiles  \\\n",
       "0  COc1ccc(CCOC(=O)N2C[C@@H]3NO[C@]4(OC5(CCCCC5)O...   \n",
       "1  COc1ccc(CCOC(=O)N2C[C@@H]3NO[C@]4(OC5(CCCCC5)O...   \n",
       "2  COc1ccc(CCOC(=O)N2C[C@@H]3NO[C@]4(OC5(CCCCC5)O...   \n",
       "3  COc1ccc(CCOC(=O)N2C[C@@H]3NO[C@]4(OC5(CCCCC5)O...   \n",
       "4  COc1ccc(CCOC(=O)N2C[C@@H]3NO[C@]4(OC5(CCCCC5)O...   \n",
       "\n",
       "                     T_smiles  \\\n",
       "0               Nc1ccc(F)cc1S   \n",
       "1              Nc1cc(Br)ccc1S   \n",
       "2        Nc1cc(C(F)(F)F)ccc1S   \n",
       "3              Nc1ccc(Cl)cc1S   \n",
       "4  [Cl-].[NH3+]NC(=S)c1ccccc1   \n",
       "\n",
       "                                     reaction_smiles  \\\n",
       "0  O=C(c1cccc(Cl)n1)[B-](F)(F)F.COc1ccc(CCOC(=O)N...   \n",
       "1  O=C(c1cccc(Cl)n1)[B-](F)(F)F.COc1ccc(CCOC(=O)N...   \n",
       "2  O=C(c1cccc(Cl)n1)[B-](F)(F)F.COc1ccc(CCOC(=O)N...   \n",
       "3  O=C(c1cccc(Cl)n1)[B-](F)(F)F.COc1ccc(CCOC(=O)N...   \n",
       "4  O=C(c1cccc(Cl)n1)[B-](F)(F)F.COc1ccc(CCOC(=O)N...   \n",
       "\n",
       "                         reaction_smiles_atom_mapped experiment_id  ...  \\\n",
       "0  F[B-](F)(F)[C:1](=[O:2])[c:15]1[cH:16][cH:18][...         56113  ...   \n",
       "1  F[B-](F)(F)[C:1](=[O:2])[c:15]1[cH:16][cH:18][...         56114  ...   \n",
       "2  F[B-](F)(F)[C:1](=[O:2])[c:15]1[cH:16][cH:18][...         56106  ...   \n",
       "3  F[B-](F)(F)[C:1](=[O:2])[c:15]1[cH:16][cH:18][...         56112  ...   \n",
       "4  F[B-](F)(F)[C:1](=[O:2])[c:11]1[cH:12][cH:14][...         56109  ...   \n",
       "\n",
       "   binary_H  scaled_A  scaled_B  scaled_C  scaled_D  scaled_E  scaled_F  \\\n",
       "0         0  0.036021  0.003427       0.0  0.020975  0.002958  0.941981   \n",
       "1         0  0.000000  0.000000       0.0  0.006159  0.364398  0.928851   \n",
       "2         1  0.000000  0.000000       0.0  0.014212  2.166420  1.013596   \n",
       "3         0  0.028915  0.005039       0.0  0.015578  0.504057  0.992614   \n",
       "4         0  0.350061  0.643219       0.0  0.031689  0.613596  0.109309   \n",
       "\n",
       "   scaled_G  scaled_H   major_A-C  \n",
       "0  0.914281   0.00000           A  \n",
       "1  1.106548   0.00000  no_product  \n",
       "2  0.537785   0.05686  no_product  \n",
       "3  0.890646   0.00000           A  \n",
       "4  0.439018   0.00000           B  \n",
       "\n",
       "[5 rows x 27 columns]"
      ]
     },
     "execution_count": 4,
     "metadata": {},
     "output_type": "execute_result"
    }
   ],
   "source": [
    "df.head()"
   ]
  },
  {
   "cell_type": "code",
   "execution_count": 5,
   "metadata": {},
   "outputs": [],
   "source": [
    "# M_long_dia will be to sort diastereomers into the same group on group shuffle splits\n",
    "diastereomers = {\n",
    "    \"Mon001\": \"Mon087\",\n",
    "    \"Mon003\": \"Mon078\",\n",
    "    \"Mon011\": \"Mon088\",\n",
    "    \"Mon013\": \"Mon074\",\n",
    "    \"Mon014\": \"Mon090\",\n",
    "    \"Mon015\": \"Mon076\",\n",
    "    \"Mon016\": \"Mon096\",\n",
    "    \"Mon017\": \"Mon075\",\n",
    "    \"Mon019\": \"Mon091\",\n",
    "    \"Mon020\": \"Mon077\",\n",
    "    \"Mon080\": \"Mon010\",\n",
    "}\n",
    "df[\"M_long_dia\"] = df[\"M_long\"].replace(diastereomers)"
   ]
  },
  {
   "cell_type": "markdown",
   "metadata": {},
   "source": [
    "## 0D split (not needed, see 0D_80 in truncated splits)"
   ]
  },
  {
   "cell_type": "markdown",
   "metadata": {},
   "source": [
    "## 0D split final-retrain\n",
    "To retrain the best model after selection, for the 0D split we only use one fold, split into training and validation set (used for early stopping of FFN training)"
   ]
  },
  {
   "cell_type": "code",
   "execution_count": 7,
   "metadata": {},
   "outputs": [
    {
     "name": "stdout",
     "output_type": "stream",
     "text": [
      "[(35537, 3949, 0)]\n",
      "[(array([29166, 20532, 10145]), array([3246, 2272, 1124]), array([0., 0., 0.]))]\n"
     ]
    }
   ],
   "source": [
    "splitter = ShuffleSplit(n_splits=1, test_size=0.1, random_state=42)\n",
    "\n",
    "indices = []\n",
    "sizes = []\n",
    "pos_class = []\n",
    "for idx_train, idx_val in splitter.split(df):\n",
    "    idx_test = []  # placeholder so we can use the write_indices_and_stats function, just delete fold0_test.csv later\n",
    "    # add to list\n",
    "    indices.append((idx_train, idx_val, idx_test))\n",
    "    sizes.append((len(idx_train), len(idx_val), len(idx_test)))\n",
    "    pos_class.append(\n",
    "        (np.sum(df[['binary_A', 'binary_B', 'binary_C']].loc[idx_train]).to_numpy(), \n",
    "         np.sum(df[['binary_A', 'binary_B', 'binary_C']].loc[idx_val]).to_numpy(), \n",
    "         np.sum(df[['binary_A', 'binary_B', 'binary_C']].loc[idx_test]).to_numpy(), \n",
    "\n",
    "        )\n",
    "    )\n",
    "    \n",
    "print(sizes)\n",
    "print(pos_class)"
   ]
  },
  {
   "cell_type": "code",
   "execution_count": 8,
   "metadata": {},
   "outputs": [
    {
     "name": "stderr",
     "output_type": "stream",
     "text": [
      "/Users/julian/PycharmProjects/library-generation/notebooks/data_featurization/util.py:91: RuntimeWarning: invalid value encountered in scalar divide\n",
      "  f\"Test samples binary_A has label 1: {count_pos[2][0]} ({count_pos[2][0]/size[2]:.1%})\\n\"\n",
      "/Users/julian/PycharmProjects/library-generation/notebooks/data_featurization/util.py:94: RuntimeWarning: invalid value encountered in scalar divide\n",
      "  f\"Test samples binary_B has label 1: {count_pos[2][1]} ({count_pos[2][1]/size[2]:.1%})\\n\"\n",
      "/Users/julian/PycharmProjects/library-generation/notebooks/data_featurization/util.py:97: RuntimeWarning: invalid value encountered in scalar divide\n",
      "  f\"Test samples binary_C has label 1: {count_pos[2][2]} ({count_pos[2][2]/size[2]:.1%})\\n\"\n",
      "/Users/julian/PycharmProjects/library-generation/notebooks/data_featurization/util.py:104: RuntimeWarning: invalid value encountered in scalar divide\n",
      "  f\"Chance level average precision macro on test set: {np.sum(count_pos[2]) / (3 * size[2]):.3f}\\n\"\n",
      "/Users/julian/PycharmProjects/library-generation/notebooks/data_featurization/util.py:166: RuntimeWarning: invalid value encountered in scalar divide\n",
      "  f\"Mean Test samples binary_A has label 1: {sum_pos_class[2][0] / n_folds:.0f} ({sum_pos_class[2][0]/sum_sizes[2]:.1%})\\n\"\n",
      "/Users/julian/PycharmProjects/library-generation/notebooks/data_featurization/util.py:169: RuntimeWarning: invalid value encountered in scalar divide\n",
      "  f\"Mean Test samples binary_B has label 1: {sum_pos_class[2][1] / n_folds:.0f} ({sum_pos_class[2][1]/sum_sizes[2]:.1%})\\n\"\n",
      "/Users/julian/PycharmProjects/library-generation/notebooks/data_featurization/util.py:172: RuntimeWarning: invalid value encountered in scalar divide\n",
      "  f\"Mean Test samples binary_C has label 1: {sum_pos_class[2][2] / n_folds:.0f} ({sum_pos_class[2][2]/sum_sizes[2]:.1%})\\n\"\n",
      "/Users/julian/PycharmProjects/library-generation/notebooks/data_featurization/util.py:179: RuntimeWarning: invalid value encountered in scalar divide\n",
      "  f\"Mean chance level average precision macro on test set: {np.sum(sum_pos_class[2]) / (3 * sum_sizes[2]):.3f}\\n\"\n"
     ]
    }
   ],
   "source": [
    "write_indices_and_stats(\n",
    "    indices, \n",
    "    sizes, \n",
    "    pos_class,\n",
    "    total_size=len(df),\n",
    "    data_name=data_name,\n",
    "    split_dimension=0, \n",
    "    save_indices=True, \n",
    "    train_size=\"final_retrain\"\n",
    ")"
   ]
  },
  {
   "cell_type": "markdown",
   "metadata": {},
   "source": [
    "## 1D split"
   ]
  },
  {
   "cell_type": "code",
   "execution_count": 34,
   "metadata": {
    "ExecuteTime": {
     "end_time": "2023-09-07T17:04:54.453760Z",
     "start_time": "2023-09-07T17:04:54.450483Z"
    }
   },
   "outputs": [],
   "source": [
    "splitter = GroupShuffleSplit(n_splits=3, test_size=0.1, random_state=np.random.RandomState(42))  # here, we reuse the outer splitter as well, so we use RandomState\n",
    "inner_splitter = GroupShuffleSplit(n_splits=1, test_size=0.1/0.9, random_state=np.random.RandomState(42))  # we use a RandomState instance, not an int, because we will reuse this splitter several times"
   ]
  },
  {
   "cell_type": "code",
   "execution_count": 35,
   "metadata": {
    "ExecuteTime": {
     "end_time": "2023-09-07T17:04:54.633295Z",
     "start_time": "2023-09-07T17:04:54.457693Z"
    }
   },
   "outputs": [
    {
     "name": "stdout",
     "output_type": "stream",
     "text": [
      "[(30594, 4239, 4653), (31800, 3496, 4190), (32067, 3970, 3449), (30034, 6278, 3174), (31058, 4156, 4272), (29698, 5126, 4662), (31638, 3812, 4036), (31307, 3675, 4504), (30812, 4287, 4387)]\n",
      "[(array([25099, 17658,  8945]), array([3310, 2427, 1029]), array([4003, 2719, 1295])), (array([26326, 18584,  9187]), array([2882, 2065, 1070]), array([3204, 2155, 1012])), (array([26642, 18885,  9589]), array([2994, 1966,  907]), array([2776, 1953,  773])), (array([24545, 17312,  8522]), array([5858, 4156, 1997]), array([2009, 1336,  750])), (array([25758, 18035,  9191]), array([2836, 2002,  677]), array([3818, 2767, 1401])), (array([23995, 16869,  8218]), array([4594, 3200, 1696]), array([3823, 2735, 1355])), (array([25866, 18519,  9505]), array([3166, 1658,  565]), array([3380, 2627, 1199])), (array([25902, 17381,  8700]), array([3329, 3231, 1755]), array([3181, 2192,  814])), (array([25402, 17841,  9126]), array([3816, 2944, 1315]), array([3194, 2019,  828]))]\n"
     ]
    }
   ],
   "source": [
    "indices = []\n",
    "sizes = []\n",
    "pos_class = []\n",
    "for idx_train_val, idx_test in splitter.split(list(range(len(df))), groups=df[\"I_long\"]):\n",
    "    train, val = next(inner_splitter.split(idx_train_val, groups=df[\"I_long\"][idx_train_val]))\n",
    "    # use indices to index indices :P (we need to obtain indices referring to the original dataframe)\n",
    "    idx_train = idx_train_val[train]\n",
    "    idx_val = idx_train_val[val]\n",
    "    indices.append((idx_train, idx_val, idx_test))\n",
    "    sizes.append((len(idx_train), len(idx_val), len(idx_test)))\n",
    "    pos_class.append(\n",
    "        (np.sum(df[['binary_A', 'binary_B', 'binary_C']].loc[idx_train]).to_numpy(), \n",
    "         np.sum(df[['binary_A', 'binary_B', 'binary_C']].loc[idx_val]).to_numpy(), \n",
    "         np.sum(df[['binary_A', 'binary_B', 'binary_C']].loc[idx_test]).to_numpy(),\n",
    "        )\n",
    "    )\n",
    "\n",
    "# note: for M_long, we need to obtain diastereomer relationships to sort them into the same group\n",
    "for idx_train_val, idx_test in splitter.split(list(range(len(df))), groups=df[\"M_long_dia\"]):\n",
    "    train, val = next(inner_splitter.split(idx_train_val, groups=df[\"M_long_dia\"][idx_train_val]))\n",
    "    # use indices to index indices :P (we need to obtain indices referring to the original dataframe)\n",
    "    idx_train = idx_train_val[train]\n",
    "    idx_val = idx_train_val[val]\n",
    "    indices.append((idx_train, idx_val, idx_test))\n",
    "    sizes.append((len(idx_train), len(idx_val), len(idx_test)))\n",
    "    pos_class.append(\n",
    "        (np.sum(df[['binary_A', 'binary_B', 'binary_C']].loc[idx_train]).to_numpy(), \n",
    "         np.sum(df[['binary_A', 'binary_B', 'binary_C']].loc[idx_val]).to_numpy(), \n",
    "         np.sum(df[['binary_A', 'binary_B', 'binary_C']].loc[idx_test]).to_numpy(),\n",
    "        )\n",
    "    )\n",
    "        \n",
    "for idx_train_val, idx_test in splitter.split(list(range(len(df))), groups=df[\"T_long\"]):\n",
    "    train, val = next(inner_splitter.split(idx_train_val, groups=df[\"T_long\"][idx_train_val]))\n",
    "    # use indices to index indices :P (we need to obtain indices referring to the original dataframe)\n",
    "    idx_train = idx_train_val[train]\n",
    "    idx_val = idx_train_val[val]\n",
    "    indices.append((idx_train, idx_val, idx_test))\n",
    "    sizes.append((len(idx_train), len(idx_val), len(idx_test)))\n",
    "    pos_class.append(\n",
    "        (np.sum(df[['binary_A', 'binary_B', 'binary_C']].loc[idx_train]).to_numpy(), \n",
    "         np.sum(df[['binary_A', 'binary_B', 'binary_C']].loc[idx_val]).to_numpy(), \n",
    "         np.sum(df[['binary_A', 'binary_B', 'binary_C']].loc[idx_test]).to_numpy(),\n",
    "        )\n",
    "    )\n",
    "    \n",
    "print(sizes)\n",
    "print(pos_class)"
   ]
  },
  {
   "cell_type": "code",
   "execution_count": 36,
   "metadata": {},
   "outputs": [],
   "source": [
    "write_indices_and_stats(\n",
    "    indices, \n",
    "    sizes, \n",
    "    pos_class,\n",
    "    total_size=len(df),\n",
    "    data_name=data_name,\n",
    "    split_dimension=1, \n",
    "    save_indices=True, \n",
    "    train_size=\"\"\n",
    ")"
   ]
  },
  {
   "cell_type": "markdown",
   "metadata": {},
   "source": [
    "## 2D split"
   ]
  },
  {
   "cell_type": "code",
   "execution_count": 15,
   "metadata": {
    "ExecuteTime": {
     "end_time": "2023-09-07T17:04:54.762079Z",
     "start_time": "2023-09-07T17:04:54.758896Z"
    }
   },
   "outputs": [],
   "source": [
    "splitter = GroupShuffleSplitND(n_splits=3, test_size=0.1, random_state=np.random.RandomState(42))  # here, we reuse the outer splitter as well, so we use RandomState\n",
    "inner_splitter = GroupShuffleSplitND(n_splits=1, test_size=0.1/0.9, random_state=np.random.RandomState(42))  # we use a RandomState instance, not an int, because we will reuse this splitter several times"
   ]
  },
  {
   "cell_type": "code",
   "execution_count": 16,
   "metadata": {
    "ExecuteTime": {
     "end_time": "2023-09-07T17:04:55.197117Z",
     "start_time": "2023-09-07T17:04:54.777330Z"
    }
   },
   "outputs": [
    {
     "name": "stdout",
     "output_type": "stream",
     "text": [
      "[(25130, 382, 348), (25341, 376, 362), (24952, 404, 424), (23950, 344, 663), (23920, 559, 473), (23526, 378, 571), (23750, 384, 609), (23781, 569, 470), (23930, 378, 562)]\n",
      "[(array([20935, 14970,  7436]), array([259, 172,  92]), array([311, 193,  89])), (array([21131, 15126,  7541]), array([319, 199, 101]), array([225, 161,  77])), (array([21115, 14421,  7548]), array([307, 276,  91]), array([314, 208,  64])), (array([20400, 14872,  7445]), array([243, 213,  63]), array([449, 186, 126])), (array([19932, 14738,  7232]), array([433, 297, 167]), array([371, 172,  78])), (array([19636, 13675,  7241]), array([263, 179,  61]), array([514, 363, 139])), (array([19188, 12921,  6259]), array([339, 252, 157]), array([475, 394, 149])), (array([19166, 12465,  6410]), array([453, 402, 119]), array([429, 419, 211])), (array([19359, 13345,  6471]), array([278,  94,  34]), array([528, 497, 289]))]\n"
     ]
    }
   ],
   "source": [
    "indices = []\n",
    "sizes = []\n",
    "pos_class = []\n",
    "for idx_train_val, idx_test in splitter.split(df, groups=df[[\"I_long\", \"M_long_dia\"]]):\n",
    "    train, val = next(inner_splitter.split(df.iloc[idx_train_val], groups=df[[\"I_long\", \"M_long_dia\"]].iloc[idx_train_val]))\n",
    "    # use indices to index indices :P (we need to obtain indices referring to the original dataframe)\n",
    "    idx_train = idx_train_val[train]\n",
    "    idx_val = idx_train_val[val]\n",
    "    indices.append((idx_train, idx_val, idx_test))\n",
    "    sizes.append((len(idx_train), len(idx_val), len(idx_test)))\n",
    "    pos_class.append(\n",
    "        (np.sum(df[['binary_A', 'binary_B', 'binary_C']].loc[idx_train]).to_numpy(), \n",
    "         np.sum(df[['binary_A', 'binary_B', 'binary_C']].loc[idx_val]).to_numpy(), \n",
    "         np.sum(df[['binary_A', 'binary_B', 'binary_C']].loc[idx_test]).to_numpy(),\n",
    "        )\n",
    "    )\n",
    "    \n",
    "for idx_train_val, idx_test in splitter.split(list(range(len(df))), groups=df[[\"M_long_dia\", \"T_long\"]]):\n",
    "    train, val = next(inner_splitter.split(idx_train_val, groups=df[[\"M_long_dia\", \"T_long\"]].iloc[idx_train_val]))\n",
    "    # use indices to index indices :P (we need to obtain indices referring to the original dataframe)\n",
    "    idx_train = idx_train_val[train]\n",
    "    idx_val = idx_train_val[val]\n",
    "    indices.append((idx_train, idx_val, idx_test))\n",
    "    sizes.append((len(idx_train), len(idx_val), len(idx_test)))\n",
    "    pos_class.append(\n",
    "        (np.sum(df[['binary_A', 'binary_B', 'binary_C']].loc[idx_train]).to_numpy(), \n",
    "         np.sum(df[['binary_A', 'binary_B', 'binary_C']].loc[idx_val]).to_numpy(), \n",
    "         np.sum(df[['binary_A', 'binary_B', 'binary_C']].loc[idx_test]).to_numpy(),\n",
    "        )\n",
    "    )\n",
    "    \n",
    "for idx_train_val, idx_test in splitter.split(list(range(len(df))), groups=df[[\"I_long\", \"T_long\"]]):\n",
    "    train, val = next(inner_splitter.split(idx_train_val, groups=df[[\"I_long\", \"T_long\"]].iloc[idx_train_val]))\n",
    "    # use indices to index indices :P (we need to obtain indices referring to the original dataframe)\n",
    "    idx_train = idx_train_val[train]\n",
    "    idx_val = idx_train_val[val]\n",
    "    indices.append((idx_train, idx_val, idx_test))\n",
    "    sizes.append((len(idx_train), len(idx_val), len(idx_test)))\n",
    "    pos_class.append(\n",
    "        (np.sum(df[['binary_A', 'binary_B', 'binary_C']].loc[idx_train]).to_numpy(), \n",
    "         np.sum(df[['binary_A', 'binary_B', 'binary_C']].loc[idx_val]).to_numpy(), \n",
    "         np.sum(df[['binary_A', 'binary_B', 'binary_C']].loc[idx_test]).to_numpy(),\n",
    "        )\n",
    "    )\n",
    "        \n",
    "print(sizes)\n",
    "print(pos_class)"
   ]
  },
  {
   "cell_type": "code",
   "execution_count": 17,
   "metadata": {},
   "outputs": [],
   "source": [
    "write_indices_and_stats(\n",
    "    indices, \n",
    "    sizes, \n",
    "    pos_class,\n",
    "    total_size=len(df),\n",
    "    data_name=data_name,\n",
    "    split_dimension=2, \n",
    "    save_indices=True, \n",
    "    train_size=\"\"\n",
    ")"
   ]
  },
  {
   "cell_type": "markdown",
   "metadata": {},
   "source": [
    "## 3D split"
   ]
  },
  {
   "cell_type": "code",
   "execution_count": 18,
   "metadata": {
    "ExecuteTime": {
     "end_time": "2023-09-07T17:04:55.275691Z",
     "start_time": "2023-09-07T17:04:55.270964Z"
    }
   },
   "outputs": [],
   "source": [
    "splitter = GroupShuffleSplitND(n_splits=9, test_size=0.2, random_state=np.random.RandomState(42))  # here, we reuse the outer splitter as well, so we use RandomState (not true, copyPaste error from before. Anyway, not a problem)\n",
    "inner_splitter = GroupShuffleSplitND(n_splits=1, test_size=0.2/0.8, random_state=np.random.RandomState(42))  # we use a RandomState instance, not an int, because we will reuse this splitter several times"
   ]
  },
  {
   "cell_type": "code",
   "execution_count": 19,
   "metadata": {
    "ExecuteTime": {
     "end_time": "2023-09-07T17:04:55.662319Z",
     "start_time": "2023-09-07T17:04:55.277028Z"
    }
   },
   "outputs": [
    {
     "name": "stdout",
     "output_type": "stream",
     "text": [
      "[(7609, 364, 427), (8416, 258, 400), (7518, 449, 343), (6918, 344, 428), (8461, 304, 270), (8482, 298, 274), (8230, 333, 275), (7358, 427, 334), (8899, 203, 414)]\n",
      "[(array([6357, 4807, 2161]), array([310, 219, 133]), array([337, 222,  99])), (array([6869, 4741, 2402]), array([222, 149,  95]), array([313, 237, 131])), (array([6147, 4271, 2290]), array([351, 256, 123]), array([292, 214,  95])), (array([5893, 3896, 1851]), array([255, 155,  98]), array([343, 300, 151])), (array([6912, 5079, 2659]), array([244, 147,  60]), array([201, 130,  60])), (array([7626, 4900, 2542]), array([182,  85,  62]), array([189, 185,  73])), (array([6880, 5290, 2694]), array([296, 224, 116]), array([182,  87,  32])), (array([6025, 4351, 2322]), array([385, 287, 148]), array([257, 165,  59])), (array([7651, 5361, 2746]), array([139,  87,  52]), array([309, 233,  80]))]\n"
     ]
    }
   ],
   "source": [
    "indices = []\n",
    "sizes = []\n",
    "pos_class = []\n",
    "for idx_train_val, idx_test in splitter.split(df, groups=df[[\"I_long\", \"M_long_dia\", \"T_long\"]]):\n",
    "    train, val = next(inner_splitter.split(df.iloc[idx_train_val], groups=df[[\"I_long\", \"M_long_dia\", \"T_long\"]].iloc[idx_train_val]))\n",
    "    # use indices to index indices :P (we need to obtain indices referring to the original dataframe)\n",
    "    idx_train = idx_train_val[train]\n",
    "    idx_val = idx_train_val[val]\n",
    "    indices.append((idx_train, idx_val, idx_test))\n",
    "    sizes.append((len(idx_train), len(idx_val), len(idx_test)))\n",
    "    pos_class.append(\n",
    "        (np.sum(df[['binary_A', 'binary_B', 'binary_C']].loc[idx_train]).to_numpy(), \n",
    "         np.sum(df[['binary_A', 'binary_B', 'binary_C']].loc[idx_val]).to_numpy(), \n",
    "         np.sum(df[['binary_A', 'binary_B', 'binary_C']].loc[idx_test]).to_numpy(),\n",
    "        )\n",
    "    )\n",
    "    \n",
    "print(sizes)\n",
    "print(pos_class)"
   ]
  },
  {
   "cell_type": "code",
   "execution_count": 20,
   "metadata": {},
   "outputs": [],
   "source": [
    "write_indices_and_stats(\n",
    "    indices, \n",
    "    sizes, \n",
    "    pos_class,\n",
    "    total_size=len(df),\n",
    "    data_name=data_name,\n",
    "    split_dimension=3, \n",
    "    save_indices=True, \n",
    "    train_size=\"\"\n",
    ")"
   ]
  },
  {
   "cell_type": "markdown",
   "metadata": {},
   "source": [
    "## Control: Check splits"
   ]
  },
  {
   "cell_type": "markdown",
   "metadata": {},
   "source": [
    "### 1D split"
   ]
  },
  {
   "cell_type": "code",
   "execution_count": 37,
   "metadata": {
    "ExecuteTime": {
     "end_time": "2023-09-07T17:04:56.477788Z",
     "start_time": "2023-09-07T17:04:56.188304Z"
    },
    "scrolled": true
   },
   "outputs": [],
   "source": [
    "split_dimension = 1\n",
    "split_dir = DATA_DIR / \"curated_data\" / \"splits\" / f\"{data_name}_{split_dimension}D_split\"\n",
    "    \n",
    "for fold_idx in range(9): # only these are split on monomers\n",
    "    \n",
    "    # import indices\n",
    "    train_idx = pd.read_csv(split_dir / f\"fold{fold_idx}_train.csv\")[\"index\"].to_numpy()\n",
    "    val_idx = pd.read_csv(split_dir / f\"fold{fold_idx}_val.csv\")[\"index\"].to_numpy()\n",
    "    test_idx = pd.read_csv(split_dir / f\"fold{fold_idx}_test.csv\")[\"index\"].to_numpy()\n",
    "\n",
    "    # check mutually exclusive\n",
    "    assert len(np.intersect1d(train_idx, val_idx)) == 0\n",
    "    assert len(np.intersect1d(train_idx, test_idx)) == 0\n",
    "    assert len(np.intersect1d(val_idx, test_idx)) == 0\n",
    "\n",
    "    # check 1D groups are mutually exclusive\n",
    "    if fold_idx < 3: # first three are split on initiator\n",
    "        assert len(np.intersect1d(df[\"I_long\"].iloc[train_idx], df[\"I_long\"].iloc[val_idx])) == 0\n",
    "        assert len(np.intersect1d(df[\"I_long\"].iloc[train_idx], df[\"I_long\"].iloc[test_idx])) == 0\n",
    "        assert len(np.intersect1d(df[\"I_long\"].iloc[val_idx], df[\"I_long\"].iloc[test_idx])) == 0\n",
    "    elif fold_idx < 6:  # next three are split on monomer\n",
    "        assert len(np.intersect1d(df[\"M_long\"].iloc[train_idx], df[\"M_long\"].iloc[val_idx])) == 0\n",
    "        assert len(np.intersect1d(df[\"M_long\"].iloc[train_idx], df[\"M_long\"].iloc[test_idx])) == 0\n",
    "        assert len(np.intersect1d(df[\"M_long\"].iloc[val_idx], df[\"M_long\"].iloc[test_idx])) == 0\n",
    "        assert len(np.intersect1d(df[\"M_long_dia\"].iloc[train_idx], df[\"M_long_dia\"].iloc[val_idx])) == 0\n",
    "        assert len(np.intersect1d(df[\"M_long_dia\"].iloc[train_idx], df[\"M_long_dia\"].iloc[test_idx])) == 0\n",
    "        assert len(np.intersect1d(df[\"M_long_dia\"].iloc[val_idx], df[\"M_long_dia\"].iloc[test_idx])) == 0\n",
    "        \n",
    "    else:  # last three are split on terminator\n",
    "        assert len(np.intersect1d(df[\"T_long\"].iloc[train_idx], df[\"T_long\"].iloc[val_idx])) == 0\n",
    "        assert len(np.intersect1d(df[\"T_long\"].iloc[train_idx], df[\"T_long\"].iloc[test_idx])) == 0\n",
    "        assert len(np.intersect1d(df[\"T_long\"].iloc[val_idx], df[\"T_long\"].iloc[test_idx])) == 0\n"
   ]
  },
  {
   "cell_type": "markdown",
   "metadata": {},
   "source": [
    "### 2D split"
   ]
  },
  {
   "cell_type": "code",
   "execution_count": 39,
   "metadata": {
    "ExecuteTime": {
     "end_time": "2023-09-07T17:04:56.993523Z",
     "start_time": "2023-09-07T17:04:56.483643Z"
    }
   },
   "outputs": [],
   "source": [
    "split_dimension = 2\n",
    "split_dir = DATA_DIR / \"curated_data\" / \"splits\" / f\"{data_name}_{split_dimension}D_split\"\n",
    "    \n",
    "for fold_idx in range(9):\n",
    "    # import indices\n",
    "    train_idx = pd.read_csv(split_dir / f\"fold{fold_idx}_train.csv\")[\"index\"].to_numpy()\n",
    "    val_idx = pd.read_csv(split_dir / f\"fold{fold_idx}_val.csv\")[\"index\"].to_numpy()\n",
    "    test_idx = pd.read_csv(split_dir / f\"fold{fold_idx}_test.csv\")[\"index\"].to_numpy()\n",
    "\n",
    "    # check mutually exclusive\n",
    "    assert len(np.intersect1d(train_idx, val_idx)) == 0\n",
    "    assert len(np.intersect1d(train_idx, test_idx)) == 0\n",
    "    assert len(np.intersect1d(val_idx, test_idx)) == 0\n",
    "\n",
    "    # check 2D groups are mutually exclusive\n",
    "    if fold_idx < 3: # first three are split on initiator and monomer\n",
    "        assert len(np.intersect1d(np.unique(df[[\"I_long\", \"M_long_dia\"]].iloc[train_idx]), np.unique(df[[\"I_long\", \"M_long_dia\"]].iloc[val_idx]))) == 0\n",
    "        assert len(np.intersect1d(np.unique(df[[\"I_long\", \"M_long_dia\"]].iloc[train_idx]), np.unique(df[[\"I_long\", \"M_long_dia\"]].iloc[test_idx]))) == 0\n",
    "        assert len(np.intersect1d(np.unique(df[[\"I_long\", \"M_long_dia\"]].iloc[val_idx]), np.unique(df[[\"I_long\", \"M_long_dia\"]].iloc[test_idx]))) == 0\n",
    "    elif fold_idx < 6:  # next three are split on monomer and terminator\n",
    "        assert len(np.intersect1d(np.unique(df[[\"M_long\", \"T_long\"]].iloc[train_idx]), np.unique(df[[\"M_long\", \"T_long\"]].iloc[val_idx]))) == 0\n",
    "        assert len(np.intersect1d(np.unique(df[[\"M_long\", \"T_long\"]].iloc[train_idx]), np.unique(df[[\"M_long\", \"T_long\"]].iloc[test_idx]))) == 0\n",
    "        assert len(np.intersect1d(np.unique(df[[\"M_long\", \"T_long\"]].iloc[val_idx]), np.unique(df[[\"M_long\", \"T_long\"]].iloc[test_idx]))) == 0\n",
    "        assert len(np.intersect1d(np.unique(df[[\"M_long_dia\", \"T_long\"]].iloc[train_idx]), np.unique(df[[\"M_long_dia\", \"T_long\"]].iloc[val_idx]))) == 0\n",
    "        assert len(np.intersect1d(np.unique(df[[\"M_long_dia\", \"T_long\"]].iloc[train_idx]), np.unique(df[[\"M_long_dia\", \"T_long\"]].iloc[test_idx]))) == 0\n",
    "        assert len(np.intersect1d(np.unique(df[[\"M_long_dia\", \"T_long\"]].iloc[val_idx]), np.unique(df[[\"M_long_dia\", \"T_long\"]].iloc[test_idx]))) == 0\n",
    "    else:  # last three are split on initiator and terminator\n",
    "        assert len(np.intersect1d(np.unique(df[[\"I_long\", \"T_long\"]].iloc[train_idx]), np.unique(df[[\"I_long\", \"T_long\"]].iloc[val_idx]))) == 0\n",
    "        assert len(np.intersect1d(np.unique(df[[\"I_long\", \"T_long\"]].iloc[train_idx]), np.unique(df[[\"I_long\", \"T_long\"]].iloc[test_idx]))) == 0\n",
    "        assert len(np.intersect1d(np.unique(df[[\"I_long\", \"T_long\"]].iloc[val_idx]), np.unique(df[[\"I_long\", \"T_long\"]].iloc[test_idx]))) == 0\n"
   ]
  },
  {
   "cell_type": "markdown",
   "metadata": {},
   "source": [
    "### 3D split"
   ]
  },
  {
   "cell_type": "code",
   "execution_count": 40,
   "metadata": {
    "ExecuteTime": {
     "end_time": "2023-09-07T17:04:57.240116Z",
     "start_time": "2023-09-07T17:04:56.997579Z"
    }
   },
   "outputs": [],
   "source": [
    "split_dimension = 3\n",
    "split_dir = DATA_DIR / \"curated_data\" / \"splits\" / f\"{data_name}_{split_dimension}D_split\"\n",
    "    \n",
    "for fold_idx in range(9):\n",
    "    # import indices\n",
    "    train_idx = pd.read_csv(split_dir / f\"fold{fold_idx}_train.csv\")[\"index\"].to_numpy()\n",
    "    val_idx = pd.read_csv(split_dir / f\"fold{fold_idx}_val.csv\")[\"index\"].to_numpy()\n",
    "    test_idx = pd.read_csv(split_dir / f\"fold{fold_idx}_test.csv\")[\"index\"].to_numpy()\n",
    "\n",
    "    # check mutually exclusive\n",
    "    assert len(np.intersect1d(train_idx, val_idx)) == 0\n",
    "    assert len(np.intersect1d(train_idx, test_idx)) == 0\n",
    "    assert len(np.intersect1d(val_idx, test_idx)) == 0\n",
    "\n",
    "    # check 3D groups are mutually exclusive\n",
    "    assert len(np.intersect1d(np.unique(df[[\"I_long\", \"M_long\", \"T_long\"]].iloc[train_idx]), np.unique(df[[\"I_long\", \"M_long\", \"T_long\"]].iloc[val_idx]))) == 0\n",
    "    assert len(np.intersect1d(np.unique(df[[\"I_long\", \"M_long\", \"T_long\"]].iloc[train_idx]), np.unique(df[[\"I_long\", \"M_long\", \"T_long\"]].iloc[test_idx]))) == 0\n",
    "    assert len(np.intersect1d(np.unique(df[[\"I_long\", \"M_long\", \"T_long\"]].iloc[val_idx]), np.unique(df[[\"I_long\", \"M_long\", \"T_long\"]].iloc[test_idx]))) == 0\n",
    "    \n",
    "    assert len(np.intersect1d(np.unique(df[[\"I_long\", \"M_long_dia\", \"T_long\"]].iloc[train_idx]), np.unique(df[[\"I_long\", \"M_long_dia\", \"T_long\"]].iloc[val_idx]))) == 0\n",
    "    assert len(np.intersect1d(np.unique(df[[\"I_long\", \"M_long_dia\", \"T_long\"]].iloc[train_idx]), np.unique(df[[\"I_long\", \"M_long_dia\", \"T_long\"]].iloc[test_idx]))) == 0\n",
    "    assert len(np.intersect1d(np.unique(df[[\"I_long\", \"M_long_dia\", \"T_long\"]].iloc[val_idx]), np.unique(df[[\"I_long\", \"M_long_dia\", \"T_long\"]].iloc[test_idx]))) == 0"
   ]
  },
  {
   "cell_type": "code",
   "execution_count": null,
   "metadata": {},
   "outputs": [],
   "source": []
  }
 ],
 "metadata": {
  "kernelspec": {
   "display_name": "Python 3 (ipykernel)",
   "language": "python",
   "name": "python3"
  },
  "language_info": {
   "codemirror_mode": {
    "name": "ipython",
    "version": 3
   },
   "file_extension": ".py",
   "mimetype": "text/x-python",
   "name": "python",
   "nbconvert_exporter": "python",
   "pygments_lexer": "ipython3",
   "version": "3.9.7"
  }
 },
 "nbformat": 4,
 "nbformat_minor": 1
}
