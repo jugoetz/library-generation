{
 "cells": [
  {
   "cell_type": "markdown",
   "id": "0",
   "metadata": {},
   "source": [
    "# Check Building Blocks\n",
    "We go through the building blocks to identify features that a GNN should add to atoms and bonds"
   ]
  },
  {
   "cell_type": "code",
   "execution_count": null,
   "id": "1",
   "metadata": {},
   "outputs": [],
   "source": [
    "import pathlib\n",
    "import sys\n",
    "\n",
    "sys.path.append(str(pathlib.Path().resolve().parents[1]))\n",
    "\n",
    "import pandas as pd\n",
    "from rdkit import Chem\n",
    "\n",
    "from src.util.db_utils import SynFermDatabaseConnection"
   ]
  },
  {
   "cell_type": "code",
   "execution_count": null,
   "id": "2",
   "metadata": {},
   "outputs": [],
   "source": [
    "con = SynFermDatabaseConnection()"
   ]
  },
  {
   "cell_type": "code",
   "execution_count": null,
   "id": "3",
   "metadata": {},
   "outputs": [],
   "source": [
    "# get all building blocks\n",
    "df = pd.DataFrame(con.con.execute('SELECT long, category, SMILES FROM building_blocks').fetchall(), columns=['long', 'category', 'SMILES'])\n",
    "df"
   ]
  },
  {
   "cell_type": "code",
   "execution_count": null,
   "id": "4",
   "metadata": {},
   "outputs": [],
   "source": [
    "# what atom types are there?\n",
    "atom_types = set()\n",
    "for smiles in df.SMILES:\n",
    "    mol = Chem.MolFromSmiles(smiles)\n",
    "    for atom in mol.GetAtoms():\n",
    "        atom_types.add(atom.GetSymbol())\n",
    "atom_types"
   ]
  },
  {
   "cell_type": "code",
   "execution_count": null,
   "id": "5",
   "metadata": {},
   "outputs": [],
   "source": [
    "# what atom degrees are there?\n",
    "atom_degrees = set()\n",
    "for smiles in df.SMILES:\n",
    "    mol = Chem.MolFromSmiles(smiles)\n",
    "    for atom in mol.GetAtoms():\n",
    "        atom_degrees.add(atom.GetDegree())\n",
    "atom_degrees"
   ]
  },
  {
   "cell_type": "code",
   "execution_count": null,
   "id": "6",
   "metadata": {},
   "outputs": [],
   "source": [
    "# what formal charges are there?\n",
    "formal_charges = set()\n",
    "for smiles in df.SMILES:\n",
    "    mol = Chem.MolFromSmiles(smiles)\n",
    "    for atom in mol.GetAtoms():\n",
    "        formal_charges.add(atom.GetFormalCharge())\n",
    "formal_charges"
   ]
  },
  {
   "cell_type": "code",
   "execution_count": null,
   "id": "7",
   "metadata": {},
   "outputs": [],
   "source": [
    "# what number of total Hs are there?\n",
    "total_hs = set()\n",
    "for smiles in df.SMILES:\n",
    "    mol = Chem.MolFromSmiles(smiles)\n",
    "    for atom in mol.GetAtoms():\n",
    "        total_hs.add(atom.GetTotalNumHs())\n",
    "total_hs"
   ]
  },
  {
   "cell_type": "code",
   "execution_count": null,
   "id": "8",
   "metadata": {},
   "outputs": [],
   "source": [
    "# what hybridizations are there?\n",
    "hybridizations = set()\n",
    "for smiles in df.SMILES:\n",
    "    mol = Chem.MolFromSmiles(smiles)\n",
    "    for atom in mol.GetAtoms():\n",
    "        hybridizations.add(atom.GetHybridization())\n",
    "hybridizations"
   ]
  },
  {
   "cell_type": "code",
   "execution_count": null,
   "id": "9",
   "metadata": {},
   "outputs": [],
   "source": [
    "# what bond types are there?\n",
    "bond_types = set()\n",
    "for smiles in df.SMILES:\n",
    "    mol = Chem.MolFromSmiles(smiles)\n",
    "    for bond in mol.GetBonds():\n",
    "        bond_types.add(bond.GetBondType())\n",
    "bond_types"
   ]
  },
  {
   "cell_type": "code",
   "execution_count": null,
   "id": "10",
   "metadata": {},
   "outputs": [],
   "source": [
    "# what bond stereochemistries are there?\n",
    "bond_stereochemistries = set()\n",
    "for smiles in df.SMILES:\n",
    "    mol = Chem.MolFromSmiles(smiles)\n",
    "    for bond in mol.GetBonds():\n",
    "        bond_stereochemistries.add(bond.GetStereo())\n",
    "bond_stereochemistries"
   ]
  },
  {
   "cell_type": "code",
   "execution_count": null,
   "id": "11",
   "metadata": {},
   "outputs": [],
   "source": [
    "# which buildingblocks have E stereochemistry?\n",
    "mols_e = []\n",
    "for smiles in df.SMILES:\n",
    "    mol = Chem.MolFromSmiles(smiles)\n",
    "    for bond in mol.GetBonds():\n",
    "        if bond.GetStereo() == Chem.BondStereo.STEREOE:\n",
    "            mols_e.append(mol)\n",
    "Chem.Draw.MolsToGridImage(mols_e, molsPerRow=3)\n"
   ]
  },
  {
   "cell_type": "markdown",
   "id": "12",
   "metadata": {},
   "source": [
    "## Conclusions\n",
    "\n",
    "For most properties, the data covers the usual values.\n",
    "For bond stereochemistry however, we seem to have only E or no stereochemistry, and we only have a single example of E.\n",
    "This limitation is worth bearing in mind.\n",
    "\n",
    "For the featurization, we should probably leave this out entirely."
   ]
  }
 ],
 "metadata": {
  "kernelspec": {
   "display_name": "Python 3",
   "language": "python",
   "name": "python3"
  },
  "language_info": {
   "codemirror_mode": {
    "name": "ipython",
    "version": 2
   },
   "file_extension": ".py",
   "mimetype": "text/x-python",
   "name": "python",
   "nbconvert_exporter": "python",
   "pygments_lexer": "ipython2",
   "version": "2.7.6"
  }
 },
 "nbformat": 4,
 "nbformat_minor": 5
}
