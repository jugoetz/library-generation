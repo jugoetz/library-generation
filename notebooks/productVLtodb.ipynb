{
 "cells": [
  {
   "cell_type": "code",
   "execution_count": 1,
   "metadata": {
    "collapsed": true
   },
   "outputs": [],
   "source": [
    "import pickle\n",
    "import pickle as pkl\n",
    "import json\n",
    "import sqlite3 as sql\n",
    "from pathlib import Path\n",
    "import pandas as pd\n",
    "from rdkit.Chem import Draw\n",
    "from rdkit.Chem.rdMolDescriptors import CalcMolFormula, CalcExactMolWt\n",
    "from rdkit.Chem.rdmolfiles import ForwardSDMolSupplier\n",
    "from rdkit import Chem\n",
    "from PIL import Image\n",
    "import re\n",
    "import copy\n",
    "import gzip\n",
    "from util_functions import *\n"
   ]
  },
  {
   "cell_type": "code",
   "execution_count": 2,
   "outputs": [],
   "source": [
    "DATA_DIR = Path('..', 'data').resolve()\n",
    "INFO_PATH = DATA_DIR / 'library_static' / 'library_constituents_dataframe.pkl'\n",
    "MAPPING_PATH = DATA_DIR / 'buildingblocks' / 'compound_mapping.txt'\n",
    "EXP_PLAN_PATH = DATA_DIR / 'library_info' / 'synthesis_plan.json'\n",
    "DB_PATH = DATA_DIR / 'db' / '50k_project.db'\n",
    "STATIC_DIR = DATA_DIR / 'db' / 'static'"
   ],
   "metadata": {
    "collapsed": false,
    "pycharm": {
     "name": "#%%\n"
    }
   }
  },
  {
   "cell_type": "code",
   "execution_count": 3,
   "outputs": [],
   "source": [
    "con = sql.connect(DB_PATH)\n",
    "cur = con.cursor()"
   ],
   "metadata": {
    "collapsed": false,
    "pycharm": {
     "name": "#%%\n"
    }
   }
  },
  {
   "cell_type": "code",
   "execution_count": 4,
   "outputs": [],
   "source": [
    "with open(MAPPING_PATH, 'r') as file:\n",
    "    compound_long_names = []\n",
    "    for line in file.readlines():\n",
    "        compound_long_names.append(line.split()[1])"
   ],
   "metadata": {
    "collapsed": false,
    "pycharm": {
     "name": "#%%\n"
    }
   }
  },
  {
   "cell_type": "code",
   "execution_count": 5,
   "outputs": [
    {
     "name": "stdout",
     "output_type": "stream",
     "text": [
      "78 74 41\n"
     ]
    }
   ],
   "source": [
    "# lets grab our building blocks from their db (to determine protecting groups)\n",
    "initiator_ids = [i[0] for i in cur.execute('SELECT id FROM buildingblocks WHERE category = ?;', 'I').fetchall()]\n",
    "monomer_ids = [i[0] for i in cur.execute('SELECT id FROM buildingblocks WHERE category = ?;', 'M').fetchall()]\n",
    "terminator_ids = [i[0] for i in cur.execute('SELECT id FROM buildingblocks WHERE category = ?;', 'T').fetchall()]\n",
    "print(len(initiator_ids), len(monomer_ids), len(terminator_ids))"
   ],
   "metadata": {
    "collapsed": false,
    "pycharm": {
     "name": "#%%\n"
    }
   }
  },
  {
   "cell_type": "code",
   "execution_count": 6,
   "outputs": [],
   "source": [
    "# let's try adding product A for one combination\n",
    "# initiator_short, initiator_long, boc_i, cbz_i, tbu_i, tms_i\\\n",
    "def query_building_block(id):\n",
    "    \"\"\"For a building block id, retrieve short, long, #boc, #cbz, #tbu, #tms in that order from DB\"\"\"\n",
    "    assert type(id) is str or type(id) is int\n",
    "    result = cur.execute('SELECT short, long, boc, cbz, tbu, tms FROM buildingblocks WHERE id = ?;', [id]).fetchone()\n",
    "    if result is None:\n",
    "        raise ValueError(f'No entry in database for id {id}')\n",
    "    return result\n",
    "\n",
    "def count_protecting_groups(initiator, monomer, terminator, product_type):\n",
    "    # we will assume the indices as 2: boc, 3: cbz, 4: tbu, 5:tms\n",
    "    if product_type in ['A', 'B', 'C']:\n",
    "        boc = initiator[2] + monomer[2] + terminator[2]\n",
    "        cbz = initiator[3] + monomer[3] + terminator[3]\n",
    "        tbu = initiator[4] + monomer[4] + terminator[4]\n",
    "        tms = initiator[5] + monomer[5] + terminator[5]\n",
    "    elif product_type in ['D']:\n",
    "        boc = initiator[2] + terminator[2]\n",
    "        cbz = initiator[3] + terminator[3]\n",
    "        tbu = initiator[4] + terminator[4]\n",
    "        tms = initiator[5] + terminator[5]\n",
    "    elif product_type in 'E':\n",
    "        boc = 2 * terminator[2]\n",
    "        cbz = 2 * terminator[3]\n",
    "        tbu = 2 * terminator[4]\n",
    "        tms = 2 * terminator[5]\n",
    "    elif product_type in ['F', 'G']:\n",
    "        boc = initiator[2] + monomer[2]\n",
    "        cbz = initiator[3] + monomer[3]\n",
    "        tbu = initiator[4] + monomer[4]\n",
    "        tms = initiator[5] + monomer[5]\n",
    "    elif product_type == 'H':\n",
    "        boc = monomer[2] + terminator[2]\n",
    "        cbz = monomer[3] + terminator[3]\n",
    "        tbu = monomer[4] + terminator[4]\n",
    "        tms = monomer[5] + terminator[5]\n",
    "    else:\n",
    "        raise ValueError(f'Invalid product type {product_type}')\n",
    "\n",
    "    return boc, cbz, tbu, tms\n",
    "\n",
    "for product_type in ['A', 'B', 'C', 'D', 'E', 'F', 'G', 'H']:\n",
    "    for i in initiator_ids:\n",
    "        for m in monomer_ids:\n",
    "            for t in terminator_ids:\n",
    "                initiator = query_building_block(i)\n",
    "                monomer = query_building_block(m)\n",
    "                terminator = query_building_block(t)\n",
    "                boc, cbz, tbu, tms = count_protecting_groups(initiator, monomer, terminator, product_type)\n",
    "                # Let's add those entries to DB\n",
    "                cur.execute('INSERT INTO virtuallibrary (initiator, monomer, terminator, type, boc, cbz, tbu, tms, initiator_long, monomer_long, terminator_long) VALUES (?,?,?,?,?,?,?,?,?,?,?)', (initiator[0], monomer[0], terminator[0], product_type, boc, cbz, tbu, tms, initiator[1], monomer[1], terminator[1]))\n",
    "            # commit after going through all terminators\n",
    "            con.commit()"
   ],
   "metadata": {
    "collapsed": false,
    "pycharm": {
     "name": "#%%\n"
    }
   }
  },
  {
   "cell_type": "code",
   "execution_count": null,
   "outputs": [],
   "source": [
    "\"\"\"\n",
    "still TODO\n",
    "- get product mol -> image and smiles and molecular formula_1\n",
    "- from pg numbers and pg dict, get the molecular formulae of deprotection products\n",
    "\"\"\""
   ],
   "metadata": {
    "collapsed": false,
    "pycharm": {
     "name": "#%%\n"
    }
   }
  },
  {
   "cell_type": "code",
   "execution_count": 7,
   "outputs": [
    {
     "name": "stdout",
     "output_type": "stream",
     "text": [
      "H done\n"
     ]
    }
   ],
   "source": [
    "# open the sdf.gz\n",
    "product_dicts = {}\n",
    "for product_type in ['A', 'B', 'C', 'D', 'E', 'F', 'G', 'H']:\n",
    "    counter = 0\n",
    "    product_dict = {}\n",
    "    with gzip.open(DATA_DIR / 'library_static' / f'product_{product_type}.sdf.gz') as file:\n",
    "        supplier = ForwardSDMolSupplier(file)\n",
    "        for mol in supplier:\n",
    "            if mol is not None:\n",
    "\n",
    "                smiles = Chem.MolToSmiles(mol)\n",
    "                molecular_formula_1 = CalcMolFormula(mol)\n",
    "                mass_1 = CalcExactMolWt(mol)\n",
    "                name = mol.GetProp('_Name')\n",
    "                product_dict[name] = (smiles, molecular_formula_1, mass_1)\n",
    "\n",
    "                # # now we need to match the mol with a database entry\n",
    "                # result = cur.execute('SELECT id FROM virtuallibrary WHERE long_name = ? AND type = ?;', [name, product_type]).fetchall()\n",
    "                # # check if we got exactly one id back\n",
    "                # try:\n",
    "                #     if len(result) == 0:\n",
    "                #         raise ValueError(f'No entry in DB for long name {name}')\n",
    "                #     elif len(result) > 1:\n",
    "                #         raise ValueError(f'Duplicate entry for long name {name} and type {product_type}. Offending entries: {result}')\n",
    "                #     # sine we now have the correct id, we can add the new info obtained from the sdf file\n",
    "                #     cur.execute('UPDATE virtuallibrary SET SMILES = ?, molecular_formula_1 = ?, lcms_mass_1 = ?  WHERE id = ?', (smiles, molecular_formula_1, mass_1, result[0][0]))\n",
    "                # except ValueError:\n",
    "                #     # only raise the error if the building block was used in 50k project\n",
    "                #     if name.split(' + ')[0] in compound_long_names and name.split(' + ')[1] in compound_long_names and name.split(' + ')[2] in compound_long_names:\n",
    "                #         raise ValueError(f'Failed on product {name}')\n",
    "    product_dicts[product_type] = product_dict\n",
    "    print(f'{product_type} done')\n"
   ],
   "metadata": {
    "collapsed": false,
    "pycharm": {
     "name": "#%%\n"
    }
   }
  },
  {
   "cell_type": "code",
   "execution_count": 26,
   "outputs": [],
   "source": [
    "for id, long, ptype in cur.execute('SELECT id, long_name, type from virtuallibrary;').fetchall():\n",
    "    try:\n",
    "        props = product_dicts[ptype][long]\n",
    "        if props[1] != 'H2O':  # don't write anything if the water placeholder is encountered\n",
    "            cur.execute('UPDATE virtuallibrary SET SMILES = ?, molecular_formula_1 = ?, lcms_mass_1 = ? WHERE id = ?;', (props[0], props[1], props[2], id))\n",
    "    except KeyError:  # raised if the long name is not found in product_dict\n",
    "        if ptype == 'H':  # if this was in H, it is probably ok since we cannot enumerate that with chemical sense for everything\n",
    "            print(f'A KeyError occured for {long}. Please check')\n",
    "        else:\n",
    "            raise KeyError"
   ],
   "metadata": {
    "collapsed": false,
    "pycharm": {
     "name": "#%%\n"
    }
   }
  },
  {
   "cell_type": "code",
   "execution_count": 27,
   "outputs": [],
   "source": [
    "con.commit()"
   ],
   "metadata": {
    "collapsed": false,
    "pycharm": {
     "name": "#%%\n"
    }
   }
  },
  {
   "cell_type": "code",
   "execution_count": 14,
   "outputs": [],
   "source": [
    "\"\"\"A dictionary to look up protecting group properties\"\"\"\n",
    "pg_dict = {\n",
    "    'boc': ('C5H8O2', 100.0524),\n",
    "    'cbz': ('C8H6O2', 134.0368),\n",
    "    'tbu': ('C4H8', 56.0626),\n",
    "    'tms': ('C3H8Si', 72.0395),\n",
    "}"
   ],
   "metadata": {
    "collapsed": false,
    "pycharm": {
     "name": "#%%\n"
    }
   }
  },
  {
   "cell_type": "code",
   "execution_count": 28,
   "outputs": [],
   "source": [
    "\"\"\"Finally we need to do our magic with the protecting groups\"\"\"\n",
    "for id, molecular_formula_1, lcms_mass_1, boc, cbz, tbu, tms in cur.execute('SELECT id, molecular_formula_1, lcms_mass_1, boc, cbz, tbu, tms from virtuallibrary').fetchall():\n",
    "    if molecular_formula_1 is not None and lcms_mass_1 is not None and molecular_formula_1 != 'H2O':  # don't evaluate for missing products (e.g. in H)\n",
    "        additional_formulae = []\n",
    "        additional_masses = []\n",
    "        # generate all the combinations in that we need to leave PGs out\n",
    "        combinations = [(i, j, k, l) for i in range(boc+1) for j in range(cbz+1) for k in range(tbu+1) for l in range(tms + 1) if sum([i,j,k,l]) > 0]\n",
    "        pgname = ['boc', 'cbz', 'tbu', 'tms']\n",
    "        for i in combinations:\n",
    "            new_mass = lcms_mass_1 - i[0] * pg_dict['boc'][1] - i[1] * pg_dict['cbz'][1] - i[2] * pg_dict['tbu'][1] - i[3] * pg_dict['tms'][1]\n",
    "            substrahend_formulae = [j * pg_dict[pgname[idx]][0] for idx, j in enumerate(i)]\n",
    "            new_form = molecular_formula_1\n",
    "            for s in substrahend_formulae:\n",
    "                if s != '':\n",
    "                    new_form = string_formula_substraction(new_form, s)\n",
    "            additional_masses.append(new_mass)\n",
    "            additional_formulae.append(new_form)\n",
    "        additional_masses = [f'{i:.4f}' for i in additional_masses]\n",
    "        if len(additional_formulae) > 0:\n",
    "            cur.execute('UPDATE virtuallibrary SET molecular_formula_alt = ?, lcms_mass_alt = ? WHERE id = ?', (','.join(additional_formulae), ','.join(additional_masses), id))\n",
    "con.commit()"
   ],
   "metadata": {
    "collapsed": false,
    "pycharm": {
     "name": "#%%\n"
    }
   }
  },
  {
   "cell_type": "code",
   "execution_count": null,
   "outputs": [],
   "source": [
    "pgname = ['boc', 'cbz', 'tbu', 'tms']\n",
    "tbu =2\n",
    "lcms_mass_1 = 700.0\n",
    "mol_form = 'C10H27O5N5Si'\n",
    "combinations = [(i, j, k, l) for i in range(boc+1) for j in range(cbz+1) for k in range(tbu+1) for l in range(tms + 1) if sum([i,j,k,l]) > 0]\n",
    "for i in combinations:\n",
    "    new_mass = lcms_mass_1 - i[0] * pg_dict['boc'][1] - i[1] * pg_dict['cbz'][1] - i[2] * pg_dict['tbu'][1] - i[3] * pg_dict['tms'][1]\n",
    "    substrahend_formulae = [j * pg_dict[pgname[idx]][0] for idx, j in enumerate(i)]\n",
    "    new_form = mol_form\n",
    "    for s in substrahend_formulae:\n",
    "        if s != '':\n",
    "            new_form = string_formula_substraction(new_form, s)"
   ],
   "metadata": {
    "collapsed": false,
    "pycharm": {
     "name": "#%%\n"
    }
   }
  },
  {
   "cell_type": "code",
   "execution_count": 20,
   "outputs": [],
   "source": [
    "con.rollback()\n"
   ],
   "metadata": {
    "collapsed": false,
    "pycharm": {
     "name": "#%%\n"
    }
   }
  },
  {
   "cell_type": "code",
   "execution_count": null,
   "outputs": [],
   "source": [
    "con.commit()"
   ],
   "metadata": {
    "collapsed": false,
    "pycharm": {
     "name": "#%%\n"
    }
   }
  },
  {
   "cell_type": "code",
   "execution_count": null,
   "outputs": [],
   "source": [
    "\"\"\"A dictionary to look up protecting group properties\"\"\"\n",
    "pg_dict = {\n",
    "    'boc': ('C5H8O2', 100.0524),\n",
    "    'cbz': ('C8H6O2', 134.0368),\n",
    "    'tbu': ('C4H8', 56.0626),\n",
    "    'tms': ('C3H8Si', 72.0395),\n",
    "}"
   ],
   "metadata": {
    "collapsed": false,
    "pycharm": {
     "name": "#%%\n"
    }
   }
  },
  {
   "cell_type": "code",
   "execution_count": 17,
   "outputs": [],
   "source": [
    "def parse_formula(formula : str) -> dict: # Formula Parsing by Aditya Matam\n",
    "    def multiply(formula: dict, mul: int) -> None:\n",
    "        for key in formula: formula[key] *= mul\n",
    "\n",
    "    formDict = {}\n",
    "    # PARENS\n",
    "    for match in re.finditer(r\"\\((.*?)\\)(\\d*)\", formula):\n",
    "        parens = parse_formula(match.group(1))\n",
    "        mul = match.group(2)\n",
    "        if not mul: mul = 1\n",
    "        multiply(parens, int(mul))\n",
    "        formDict.update(parens)\n",
    "    # REST\n",
    "    for match in re.finditer(r\"(\\(?)([A-Z][a-z]?)(\\d*)(\\)?)\", formula):\n",
    "        left, elem, mul, right = match.groups()\n",
    "        if left or right: continue\n",
    "        if not mul: mul = 1\n",
    "        if elem in formDict:\n",
    "            formDict[elem] += int(mul)\n",
    "        else:\n",
    "            formDict[elem] = int(mul)\n",
    "\n",
    "    return formDict\n",
    "\n",
    "def formula_to_string(formDict):\n",
    "    s = ''\n",
    "    for key, value in formDict.items():\n",
    "        if value == 1:\n",
    "            s += key\n",
    "        elif value > 1:\n",
    "            s += f'{key}{value}'\n",
    "    return s\n",
    "\n",
    "def substract_formulae(minuend, substrahend):\n",
    "    result = copy.deepcopy(minuend)  # we make a deepcopy to not alter the minuend\n",
    "    for key, value in substrahend.items():\n",
    "        result[key] -= value\n",
    "    return result\n",
    "\n",
    "def string_formula_substraction(minuend, substrahend):\n",
    "    return formula_to_string(substract_formulae(parse_formula(minuend), parse_formula(substrahend)))"
   ],
   "metadata": {
    "collapsed": false,
    "pycharm": {
     "name": "#%%\n"
    }
   }
  },
  {
   "cell_type": "code",
   "execution_count": 18,
   "outputs": [],
   "source": [
    "\"\"\"For existing BUILDINGBLOCK entries, use SMILES and number of protecting groups to calculate probable formulae in LCMS\"\"\"\n",
    "for id, smiles, boc, cbz, tbu, tms in cur.execute('SELECT id, SMILES, boc, cbz, tbu, tms FROM buildingblocks;').fetchall():\n",
    "    mol = Chem.MolFromSmiles(smiles)\n",
    "    lcms_formula_1 = CalcMolFormula(mol)\n",
    "    lcms_mass_1 = CalcExactMolWt(mol)\n",
    "    cur.execute('UPDATE buildingblocks SET lcms_formula_1 = ?, lcms_mass_1 = ? WHERE id = ?', (lcms_formula_1, lcms_mass_1, id))\n",
    "    con.commit()\n",
    "    additional_formulae = []\n",
    "    additional_masses = []\n",
    "    for pg, pgname in zip([boc, cbz, tbu, tms], ['boc', 'cbz', 'tbu', 'tms']):\n",
    "        for i in range(pg):\n",
    "            # if boc == 0, this will not evaluate\n",
    "            additional_formulae.append(string_formula_substraction(lcms_formula_1, pg_dict[pgname][0]))\n",
    "            additional_masses.append(lcms_mass_1 - pg_dict[pgname][1])\n",
    "    additional_masses = [f'{i:.4f}' for i in additional_masses]\n",
    "    if len(additional_formulae) > 0:\n",
    "        cur.execute('UPDATE buildingblocks SET lcms_formula_alt = ?, lcms_mass_alt = ? WHERE id = ?', (','.join(additional_formulae), ','.join(additional_masses), id))\n",
    "        con.commit()"
   ],
   "metadata": {
    "collapsed": false,
    "pycharm": {
     "name": "#%%\n"
    }
   }
  },
  {
   "cell_type": "code",
   "execution_count": null,
   "outputs": [],
   "source": [
    "ex1 = 'C10H5O'\n",
    "ex2 = 'C3H'\n",
    "formula_to_string(substract_formulae(parse_formula(ex1), parse_formula(ex2)))"
   ],
   "metadata": {
    "collapsed": false,
    "pycharm": {
     "name": "#%%\n"
    }
   }
  },
  {
   "cell_type": "code",
   "execution_count": null,
   "outputs": [],
   "source": [
    "con.commit()"
   ],
   "metadata": {
    "collapsed": false,
    "pycharm": {
     "name": "#%%\n"
    }
   }
  },
  {
   "cell_type": "code",
   "execution_count": null,
   "outputs": [],
   "source": [
    "con.close()"
   ],
   "metadata": {
    "collapsed": false,
    "pycharm": {
     "name": "#%%\n"
    }
   }
  }
 ],
 "metadata": {
  "kernelspec": {
   "display_name": "Python 3",
   "language": "python",
   "name": "python3"
  },
  "language_info": {
   "codemirror_mode": {
    "name": "ipython",
    "version": 2
   },
   "file_extension": ".py",
   "mimetype": "text/x-python",
   "name": "python",
   "nbconvert_exporter": "python",
   "pygments_lexer": "ipython2",
   "version": "2.7.6"
  }
 },
 "nbformat": 4,
 "nbformat_minor": 0
}