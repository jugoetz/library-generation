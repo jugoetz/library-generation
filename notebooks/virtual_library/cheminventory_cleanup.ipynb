{
 "cells": [
  {
   "cell_type": "markdown",
   "metadata": {
    "collapsed": true,
    "pycharm": {
     "name": "#%% md\n"
    }
   },
   "source": [
    "## ChemInventory cleanup\n",
    "This notebook takes the ChemInventory output Excel sheet and removes all entries in the following categories:\n",
    "- not relevant to the project (e.g. SnAP)\n",
    "- empty bottles (N/A or 0 mass)\n",
    "- bottles below mass threshold 10 mg\n",
    "- bottles/compounds specified in external list\n",
    "- bottles carrying a tag \"impure\" in their comments\n",
    "- duplicates\n",
    "The notebook further removes unneeded columns (e.g. Supplier)\n",
    "\n",
    "### Outputs:\n",
    "- inventory_containers.csv: List of individual containers (there can be multiple containers per compound)\n",
    "- inventory_compounds.csv: List of compounds with name, SMILES, MW, and category (I/M/T)\n",
    "- removed_small_amount.csv, removed_dimers.csv, removed_impure.csv: List of compounds removed at the respective step of\n",
    "    the cleanup process"
   ]
  },
  {
   "cell_type": "code",
   "execution_count": 1,
   "outputs": [],
   "source": [
    "from pathlib import Path\n",
    "\n",
    "import pandas as pd"
   ],
   "metadata": {
    "collapsed": false,
    "pycharm": {
     "name": "#%%\n"
    }
   }
  },
  {
   "cell_type": "code",
   "execution_count": 2,
   "outputs": [],
   "source": [
    "# import data\n",
    "file = Path('..', 'data', 'inputs', 'InventoryExport.xlsx')\n",
    "df = pd.read_excel(file)\n",
    "\n",
    "# import manual exceptions\n",
    "with open(Path('..', 'data','manual_settings', 'exceptions.txt'), 'r') as f:\n",
    "    exceptions = [line.split(',')[0].strip('\\n')\n",
    "                  for line in f.readlines()\n",
    "                  if line.startswith('#') is False and line != '\\n'\n",
    "                  ]\n",
    "# ensure exceptions is not empty (otherwise it will delete entire df downstream)\n",
    "if not exceptions:\n",
    "    exceptions = ['PLACEHOLDER: No exceptions specified']"
   ],
   "metadata": {
    "collapsed": false,
    "pycharm": {
     "name": "#%%\n"
    }
   }
  },
  {
   "cell_type": "code",
   "execution_count": 3,
   "outputs": [
    {
     "data": {
      "text/plain": "(507, 8)"
     },
     "execution_count": 3,
     "metadata": {},
     "output_type": "execute_result"
    }
   ],
   "source": [
    "# drop irrelevant information\n",
    "df.drop(columns=['Substance CAS',\n",
    "                 'Supplier',\n",
    "                 'Date Acquired',\n",
    "                 'Molecular Formula',\n",
    "                 'Molecular Weight',\n",
    "                 'References',\n",
    "                 'References.1',\n",
    "                 'KAT',\n",
    "                 'Class',\n",
    "                 ],\n",
    "        inplace=True\n",
    "        )\n",
    "df.shape"
   ],
   "metadata": {
    "collapsed": false,
    "pycharm": {
     "name": "#%%\n"
    }
   }
  },
  {
   "cell_type": "code",
   "execution_count": 4,
   "outputs": [
    {
     "data": {
      "text/plain": "(373, 8)"
     },
     "execution_count": 4,
     "metadata": {},
     "output_type": "execute_result"
    }
   ],
   "source": [
    "# drop chemicals not needed (everything except I, M, T)\n",
    "df.drop(df.loc[~df['Location'].str.contains('KATs|Monomers|Aminobenzenethiol|Thiohydrazide', regex=True), :].index, inplace=True)\n",
    "df.shape"
   ],
   "metadata": {
    "collapsed": false,
    "pycharm": {
     "name": "#%%\n"
    }
   }
  },
  {
   "cell_type": "code",
   "execution_count": 5,
   "outputs": [],
   "source": [
    "# check if MW is not N/A\n",
    "if df['MW [g/mol]'].isnull().sum() != 0:\n",
    "    print('Warning: MW is not set for some bottles')"
   ],
   "metadata": {
    "collapsed": false,
    "pycharm": {
     "name": "#%%\n"
    }
   }
  },
  {
   "cell_type": "code",
   "execution_count": 6,
   "outputs": [
    {
     "data": {
      "text/plain": "(373, 8)"
     },
     "execution_count": 6,
     "metadata": {},
     "output_type": "execute_result"
    }
   ],
   "source": [
    "df['MW [g/mol]'] = pd.to_numeric(df['MW [g/mol]'])\n",
    "df['Container Size'] = df['Container Size'].str.strip('<> ')\n",
    "df['Container Size'] = pd.to_numeric(df['Container Size'])\n",
    "df.shape"
   ],
   "metadata": {
    "collapsed": false,
    "pycharm": {
     "name": "#%%\n"
    }
   }
  },
  {
   "cell_type": "code",
   "execution_count": 7,
   "outputs": [
    {
     "data": {
      "text/plain": "(301, 8)"
     },
     "execution_count": 7,
     "metadata": {},
     "output_type": "execute_result"
    }
   ],
   "source": [
    "# remove all bottles with mass N/A\n",
    "df.dropna(axis=0, subset=['Container Size'], inplace=True)\n",
    "df.shape"
   ],
   "metadata": {
    "collapsed": false,
    "pycharm": {
     "name": "#%%\n"
    }
   }
  },
  {
   "cell_type": "code",
   "execution_count": 8,
   "outputs": [
    {
     "data": {
      "text/plain": "(270, 8)"
     },
     "execution_count": 8,
     "metadata": {},
     "output_type": "execute_result"
    }
   ],
   "source": [
    "# remove all bottles with mass <= 10 mg\n",
    "df.loc[(df['Container Size'] <= 10) & (df['Unit'] == 'mg')].loc[:,'Container Name']\\\n",
    "    .to_csv(Path('..', 'data', 'logs', 'removed_small_amount.csv'), index=False)\n",
    "df.drop(df.loc[(df['Container Size'] <= 10) & (df['Unit'] == 'mg')].index, axis=0, inplace=True)\n",
    "df.shape"
   ],
   "metadata": {
    "collapsed": false,
    "pycharm": {
     "name": "#%%\n"
    }
   }
  },
  {
   "cell_type": "code",
   "execution_count": 9,
   "outputs": [
    {
     "data": {
      "text/plain": "(265, 8)"
     },
     "execution_count": 9,
     "metadata": {},
     "output_type": "execute_result"
    }
   ],
   "source": [
    "# remove bottles with \"Dimer\" as part of their name\n",
    "df.loc[df['Container Name'].str.contains('Dimer', regex=False, case=False)].loc[:, 'Container Name']\\\n",
    "    .to_csv(Path('..', 'data', 'logs', 'removed_dimers.csv'), index=False)\n",
    "df.drop(df.loc[df['Container Name'].str.contains('Dimer', regex=False, case=False), :].index, axis=0, inplace=True)\n",
    "df.shape"
   ],
   "metadata": {
    "collapsed": false,
    "pycharm": {
     "name": "#%%\n"
    }
   }
  },
  {
   "cell_type": "code",
   "execution_count": 10,
   "outputs": [
    {
     "data": {
      "text/plain": "(262, 8)"
     },
     "execution_count": 10,
     "metadata": {},
     "output_type": "execute_result"
    }
   ],
   "source": [
    "# remove bottles that are specified in the exceptions list\n",
    "df.drop(df.loc[df['Container Name'].str.contains('|'.join(exceptions), regex=True)].index, axis=0, inplace=True)\n",
    "df.shape"
   ],
   "metadata": {
    "collapsed": false,
    "pycharm": {
     "name": "#%%\n"
    }
   }
  },
  {
   "cell_type": "code",
   "execution_count": 11,
   "outputs": [
    {
     "data": {
      "text/plain": "(236, 8)"
     },
     "execution_count": 11,
     "metadata": {},
     "output_type": "execute_result"
    }
   ],
   "source": [
    "# remove bottles with \"impure\" in the comments\n",
    "df.loc[df['Comments'].str.contains('impure', regex=False, na=False, case=False)].loc[:, 'Container Name']\\\n",
    "    .to_csv(Path('..', 'data', 'logs', 'removed_impure.csv'), index=False)\n",
    "df.drop(df.loc[df['Comments'].str.contains('impure', regex=False, na=False, case=False)].index, axis=0, inplace=True)\n",
    "df.shape"
   ],
   "metadata": {
    "collapsed": false,
    "pycharm": {
     "name": "#%%\n"
    }
   }
  },
  {
   "cell_type": "code",
   "execution_count": 12,
   "outputs": [
    {
     "data": {
      "text/plain": "(236, 9)"
     },
     "execution_count": 12,
     "metadata": {},
     "output_type": "execute_result"
    }
   ],
   "source": [
    "# introduce new column 'Compound Name' without trailing supplier initials or numbers\n",
    "df['Compound Name'] = df['Container Name'].str.split('_', expand=True)[0]\n",
    "df.shape"
   ],
   "metadata": {
    "collapsed": false,
    "pycharm": {
     "name": "#%%\n"
    }
   }
  },
  {
   "cell_type": "code",
   "execution_count": 13,
   "outputs": [
    {
     "data": {
      "text/plain": "(236, 10)"
     },
     "execution_count": 13,
     "metadata": {},
     "output_type": "execute_result"
    }
   ],
   "source": [
    "# introduce new column 'Category' to distinguish I, M, T\n",
    "df['Category'] = 'I'\n",
    "df.loc[df['Location'].str.contains('Monomers', regex=False), 'Category'] = 'M'\n",
    "df.loc[df['Location'].str.contains('Terminator', regex=False), 'Category'] = 'T'\n",
    "df.shape"
   ],
   "metadata": {
    "collapsed": false,
    "pycharm": {
     "name": "#%%\n"
    }
   }
  },
  {
   "cell_type": "code",
   "execution_count": 14,
   "outputs": [
    {
     "data": {
      "text/plain": "(193, 4)"
     },
     "execution_count": 14,
     "metadata": {},
     "output_type": "execute_result"
    }
   ],
   "source": [
    "# group by Compound Name\n",
    "df_compounds = df.drop_duplicates(subset=['Compound Name'])\n",
    "df_compounds = df_compounds[['Compound Name', 'SMILES', 'MW [g/mol]', 'Category']]\n",
    "df_compounds.shape"
   ],
   "metadata": {
    "collapsed": false,
    "pycharm": {
     "name": "#%%\n"
    }
   }
  },
  {
   "cell_type": "code",
   "execution_count": 15,
   "outputs": [
    {
     "name": "stdout",
     "output_type": "stream",
     "text": [
      "The Virtual Library contains 78 Initiators, 74 Monomers, 41 Terminators.\n",
      "This results in a total of 236,652 possible products.\n"
     ]
    }
   ],
   "source": [
    "# report data\n",
    "freq = df_compounds[\"Category\"].value_counts()\n",
    "print(f'The Virtual Library contains {freq[\"I\"]} Initiators, {freq[\"M\"]} Monomers, {freq[\"T\"]} Terminators.\\n'\n",
    "      f'This results in a total of {freq[\"I\"] * freq[\"M\"] * freq[\"T\"]:,} possible products.')"
   ],
   "metadata": {
    "collapsed": false,
    "pycharm": {
     "name": "#%%\n"
    }
   }
  },
  {
   "cell_type": "code",
   "execution_count": 16,
   "outputs": [],
   "source": [
    "# save results\n",
    "df.to_csv(Path('..', 'data', 'outputs', 'inventory_containers.csv'), index=False)\n",
    "df_compounds.to_csv(Path('..', 'data', 'outputs', 'inventory_compounds.csv'), index=False)"
   ],
   "metadata": {
    "collapsed": false,
    "pycharm": {
     "name": "#%%\n"
    }
   }
  }
 ],
 "metadata": {
  "kernelspec": {
   "display_name": "Python 3",
   "language": "python",
   "name": "python3"
  },
  "language_info": {
   "codemirror_mode": {
    "name": "ipython",
    "version": 2
   },
   "file_extension": ".py",
   "mimetype": "text/x-python",
   "name": "python",
   "nbconvert_exporter": "python",
   "pygments_lexer": "ipython2",
   "version": "2.7.6"
  }
 },
 "nbformat": 4,
 "nbformat_minor": 0
}
