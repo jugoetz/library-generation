{
 "cells": [
  {
   "cell_type": "markdown",
   "source": [
    "### Add entries to the building block database\n"
   ],
   "metadata": {
    "collapsed": false,
    "pycharm": {
     "name": "#%% md\n"
    }
   }
  },
  {
   "cell_type": "code",
   "execution_count": 26,
   "metadata": {
    "collapsed": true
   },
   "outputs": [],
   "source": [
    "import pickle as pkl\n",
    "import sqlite3 as sql\n",
    "from pathlib import Path\n",
    "import pandas as pd\n",
    "from rdkit.Chem import Draw\n",
    "from rdkit.Chem.rdMolDescriptors import CalcMolFormula, CalcExactMolWt\n",
    "from rdkit import Chem\n",
    "from PIL import Image\n",
    "from util_functions import *\n",
    "from notebook_config import *"
   ]
  },
  {
   "cell_type": "code",
   "execution_count": 27,
   "outputs": [],
   "source": [
    "INFO_PATH = OUTPUT_DIR / 'library_constituents_dataframe.pkl'"
   ],
   "metadata": {
    "collapsed": false,
    "pycharm": {
     "name": "#%%\n"
    }
   }
  },
  {
   "cell_type": "code",
   "execution_count": 28,
   "outputs": [],
   "source": [
    "\"\"\"Import data and open DB connection\"\"\"\n",
    "with open(INFO_PATH, 'rb') as file:\n",
    "    df = pd.read_pickle(file)\n",
    "\n",
    "with open(COMPOUND_MAPPING_PATH, 'r') as file:\n",
    "    compound_mapping = {}\n",
    "    for line in file.readlines():\n",
    "        compound_mapping[line.split()[0]] = line.split()[1]\n",
    "\n",
    "con = sql.connect(DB_PATH)\n",
    "cur = con.cursor()"
   ],
   "metadata": {
    "collapsed": false,
    "pycharm": {
     "name": "#%%\n"
    }
   }
  },
  {
   "cell_type": "code",
   "execution_count": 10,
   "outputs": [],
   "source": [
    "\"\"\"Add entries to DB. Save molecule images to the static directory and add the path to DB\"\"\"\n",
    "for short in compound_mapping.keys():\n",
    "    long = compound_mapping[short]\n",
    "    mol = df.loc[df['Compound Name'] == long, 'mol'].item()\n",
    "    smiles = Chem.MolToSmiles(mol)  # we regenerate SMILES instead of using the value from df to have a canonical representation\n",
    "    image = Draw.MolToImage(mol)  # TODO change this into the better drawing method\n",
    "    category = df.loc[df['Compound Name'] == long,'Category'].item()\n",
    "    # save image to static dir and keep imagepath to add to db\n",
    "    image_path = DB_STATIC_DIR / 'image' / f'{short}.png'\n",
    "    image.save(image_path)\n",
    "    # write this to the db\n",
    "    cur.execute('INSERT INTO main.buildingblocks(long, short, SMILES, image, category, boc, cbz, tbu, tms) VALUES(?,?,?,?,?,?,?,?,?);', (long, short, smiles, str(image_path.resolve()), category, boc, cbz, tbu, tms))\n",
    "con.commit()"
   ],
   "metadata": {
    "collapsed": false,
    "pycharm": {
     "name": "#%%\n"
    }
   }
  },
  {
   "cell_type": "code",
   "execution_count": 29,
   "outputs": [],
   "source": [
    "\"\"\"For existing entries, use SMILES and number of protecting groups to calculate probable formulae in LCMS\"\"\"\n",
    "for id, smiles, boc, cbz, tbu, tms in cur.execute('SELECT id, SMILES, boc, cbz, tbu, tms FROM buildingblocks;').fetchall():\n",
    "    mol = Chem.MolFromSmiles(smiles)\n",
    "    mol_desalted = desalt_building_block(mol)\n",
    "    lcms_formula_1 = CalcMolFormula(mol_desalted)\n",
    "    lcms_mass_1 = CalcExactMolWt(mol_desalted)\n",
    "    cur.execute('UPDATE buildingblocks SET lcms_formula_1 = ?, lcms_mass_1 = ? WHERE id = ?', (lcms_formula_1, lcms_mass_1, id))\n",
    "    con.commit()\n",
    "    additional_formulae = []\n",
    "    additional_masses = []\n",
    "    for pg, pgname in zip([boc, cbz, tbu, tms], ['boc', 'cbz', 'tbu', 'tms']):\n",
    "        for i in range(pg):\n",
    "            # if boc == 0, this will not evaluate\n",
    "            additional_formulae.append(string_formula_substraction(lcms_formula_1, pg_dict[pgname][0]))\n",
    "            additional_masses.append(lcms_mass_1 - pg_dict[pgname][1])\n",
    "    additional_masses = [f'{i:.4f}' for i in additional_masses]\n",
    "    if len(additional_formulae) > 0:\n",
    "        cur.execute('UPDATE buildingblocks SET lcms_formula_alt = ?, lcms_mass_alt = ? WHERE id = ?', (','.join(additional_formulae), ','.join(additional_masses), id))\n",
    "        con.commit()"
   ],
   "metadata": {
    "collapsed": false,
    "pycharm": {
     "name": "#%%\n"
    }
   }
  },
  {
   "cell_type": "code",
   "execution_count": 30,
   "outputs": [],
   "source": [
    "con.close()"
   ],
   "metadata": {
    "collapsed": false,
    "pycharm": {
     "name": "#%%\n"
    }
   }
  }
 ],
 "metadata": {
  "kernelspec": {
   "display_name": "Python 3",
   "language": "python",
   "name": "python3"
  },
  "language_info": {
   "codemirror_mode": {
    "name": "ipython",
    "version": 2
   },
   "file_extension": ".py",
   "mimetype": "text/x-python",
   "name": "python",
   "nbconvert_exporter": "python",
   "pygments_lexer": "ipython2",
   "version": "2.7.6"
  }
 },
 "nbformat": 4,
 "nbformat_minor": 0
}