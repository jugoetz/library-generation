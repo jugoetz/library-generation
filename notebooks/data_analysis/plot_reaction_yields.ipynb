{
 "cells": [
  {
   "cell_type": "markdown",
   "source": [
    "# Plot reaction yields\n",
    "\n",
    "We want to plot the yields of the 50k reactions (or conceivably, only the ones that are not invalid).\n",
    "We may want to use logarithmic bins or just reaction outcome instead of yield.\n",
    "We want a meaningful 2D representation, ideally some kind of grid.\n"
   ],
   "metadata": {
    "collapsed": false
   }
  },
  {
   "cell_type": "markdown",
   "source": [
    "Let's try using a self-organizing map!"
   ],
   "metadata": {
    "collapsed": false
   }
  },
  {
   "cell_type": "code",
   "execution_count": 13,
   "outputs": [],
   "source": [
    "import pathlib\n",
    "import sys\n",
    "sys.path.append(str(pathlib.Path().resolve().parent.parent))\n",
    "\n",
    "import numpy as np\n",
    "import pandas as pd\n",
    "from rdkit import Chem\n",
    "from rdkit.Chem import AllChem\n",
    "import sompy\n",
    "\n",
    "from src.util.db_utils import MyDatabaseConnection"
   ],
   "metadata": {
    "collapsed": false,
    "ExecuteTime": {
     "start_time": "2023-05-03T14:45:52.413106Z",
     "end_time": "2023-05-03T14:45:52.418105Z"
    }
   }
  },
  {
   "cell_type": "code",
   "execution_count": 5,
   "outputs": [
    {
     "data": {
      "text/plain": "49920"
     },
     "execution_count": 5,
     "metadata": {},
     "output_type": "execute_result"
    }
   ],
   "source": [
    "con = MyDatabaseConnection()\n",
    "experiments = con.execute_arbitrary_simple_query(\"SELECT * FROM experiments WHERE exp_nr BETWEEN 4 AND 29\")\n",
    "len(experiments)"
   ],
   "metadata": {
    "collapsed": false,
    "ExecuteTime": {
     "start_time": "2023-05-03T14:38:49.621353Z",
     "end_time": "2023-05-03T14:38:50.109544Z"
    }
   }
  },
  {
   "cell_type": "code",
   "execution_count": 6,
   "outputs": [
    {
     "data": {
      "text/plain": "(10578,\n 5,\n 4,\n 'A3',\n 'JG255',\n '2021-08-17',\n 'I67',\n 'M20',\n 'T25',\n 'Ph023',\n 'Mon017',\n 'TerTH010',\n 'Ph023 + Mon017 + TerTH010',\n 0.37324885530898905,\n 0.273657636613575,\n 0.00852549327655528,\n 0.0,\n 0.0703915205010801,\n 0.06669939673319483,\n 0.1533810158723596,\n 0.006903287821314509,\n None,\n 'CC(C)(C)OC(=O)CC[C@@H](Cc1nnc(C=Cc2ccccc2)s1)NC(=O)c1ccc(Cl)cc1',\n 'CC(C)(C)OC(=O)CC[C@@H](CC1(C(=O)O)NN=C(C=Cc2ccccc2)S1)NC(=O)c1ccc(Cl)cc1',\n 'CC(C)(C)OC(=O)CC[C@H]1CC2(C(=O)[O-])SC(C=Cc3ccccc3)=N[N+]2=C(c2ccc(Cl)cc2)N1',\n 'Clc1ccc(-c2nnc(C=Cc3ccccc3)s2)cc1',\n 'C(=Cc1nnc(C=Cc2ccccc2)s1)c1ccccc1',\n 'CC(C)(C)OC(=O)CC[C@@H](CC(=O)C(=O)O)NC(=O)c1ccc(Cl)cc1',\n 'CC(C)(C)OC(=O)CC[C@@H](CC(=O)O)NC(=O)c1ccc(Cl)cc1',\n 'CC(C)(C)OC(=O)CCC=Cc1nnc(C=Cc2ccccc2)s1',\n 201048,\n 'WARNING: heating failure on first step; WARNING: multiple peaks for product A (2)')"
     },
     "execution_count": 6,
     "metadata": {},
     "output_type": "execute_result"
    }
   ],
   "source": [
    "experiments[0]"
   ],
   "metadata": {
    "collapsed": false,
    "ExecuteTime": {
     "start_time": "2023-05-03T14:39:10.273498Z",
     "end_time": "2023-05-03T14:39:10.284702Z"
    }
   }
  },
  {
   "cell_type": "markdown",
   "source": [],
   "metadata": {
    "collapsed": false
   }
  },
  {
   "cell_type": "code",
   "execution_count": 12,
   "outputs": [
    {
     "data": {
      "text/plain": "['id',\n 'exp_nr',\n 'plate_nr',\n 'well',\n 'lab_journal_number',\n 'synthesis_date_unixepoch',\n 'initiator',\n 'monomer',\n 'terminator',\n 'initiator_long',\n 'monomer_long',\n 'terminator_long',\n 'long_name',\n 'product_A_lcms_ratio',\n 'product_B_lcms_ratio',\n 'product_C_lcms_ratio',\n 'product_D_lcms_ratio',\n 'product_E_lcms_ratio',\n 'product_F_lcms_ratio',\n 'product_G_lcms_ratio',\n 'product_H_lcms_ratio',\n 'comment',\n 'product_A_smiles',\n 'product_B_smiles',\n 'product_C_smiles',\n 'product_D_smiles',\n 'product_E_smiles',\n 'product_F_smiles',\n 'product_G_smiles',\n 'product_H_smiles',\n 'vl_id',\n 'valid']"
     },
     "execution_count": 12,
     "metadata": {},
     "output_type": "execute_result"
    }
   ],
   "source": [
    "# get headers from SQLite DB\n",
    "columns = [i[0] for i in con.execute_arbitrary_simple_query(\"SELECT name FROM PRAGMA_TABLE_INFO('experiments')\")]\n",
    "columns"
   ],
   "metadata": {
    "collapsed": false,
    "ExecuteTime": {
     "start_time": "2023-05-03T14:45:37.969349Z",
     "end_time": "2023-05-03T14:45:37.973005Z"
    }
   }
  },
  {
   "cell_type": "code",
   "execution_count": 16,
   "outputs": [
    {
     "data": {
      "text/plain": "      id  exp_nr  plate_nr well lab_journal_number synthesis_date_unixepoch  \\\n0  10578       5         4   A3              JG255               2021-08-17   \n1  10579       5         4   A4              JG255               2021-08-17   \n2  10580       5         4   A5              JG255               2021-08-17   \n\n  initiator monomer terminator initiator_long  ...  \\\n0       I67     M20        T25          Ph023  ...   \n1       I67     M20        T39          Ph023  ...   \n2       I67     M20        T30          Ph023  ...   \n\n                                    product_A_smiles  \\\n0  CC(C)(C)OC(=O)CC[C@@H](Cc1nnc(C=Cc2ccccc2)s1)N...   \n1  CC(C)(C)OC(=O)CC[C@@H](Cc1nnc(-c2cn[nH]c2)s1)N...   \n2  CC(C)(C)OC(=O)CC[C@@H](Cc1nnc(-c2cc(Cl)cc(Cl)c...   \n\n                                    product_B_smiles  \\\n0  CC(C)(C)OC(=O)CC[C@@H](CC1(C(=O)O)NN=C(C=Cc2cc...   \n1  CC(C)(C)OC(=O)CC[C@@H](CC1(C(=O)O)NN=C(c2cn[nH...   \n2  CC(C)(C)OC(=O)CC[C@@H](CC1(C(=O)O)NN=C(c2cc(Cl...   \n\n                                    product_C_smiles  \\\n0  CC(C)(C)OC(=O)CC[C@H]1CC2(C(=O)[O-])SC(C=Cc3cc...   \n1  CC(C)(C)OC(=O)CC[C@H]1CC2(C(=O)[O-])SC(c3cn[nH...   \n2  CC(C)(C)OC(=O)CC[C@H]1CC2(C(=O)[O-])SC(c3cc(Cl...   \n\n                          product_D_smiles  \\\n0        Clc1ccc(-c2nnc(C=Cc3ccccc3)s2)cc1   \n1        Clc1ccc(-c2nnc(-c3cn[nH]c3)s2)cc1   \n2  Clc1ccc(-c2nnc(-c3cc(Cl)cc(Cl)c3)s2)cc1   \n\n                              product_E_smiles  \\\n0            C(=Cc1nnc(C=Cc2ccccc2)s1)c1ccccc1   \n1              c1n[nH]cc1-c1nnc(-c2cn[nH]c2)s1   \n2  Clc1cc(Cl)cc(-c2nnc(-c3cc(Cl)cc(Cl)c3)s2)c1   \n\n                                    product_F_smiles  \\\n0  CC(C)(C)OC(=O)CC[C@@H](CC(=O)C(=O)O)NC(=O)c1cc...   \n1  CC(C)(C)OC(=O)CC[C@@H](CC(=O)C(=O)O)NC(=O)c1cc...   \n2  CC(C)(C)OC(=O)CC[C@@H](CC(=O)C(=O)O)NC(=O)c1cc...   \n\n                                    product_G_smiles  \\\n0  CC(C)(C)OC(=O)CC[C@@H](CC(=O)O)NC(=O)c1ccc(Cl)cc1   \n1  CC(C)(C)OC(=O)CC[C@@H](CC(=O)O)NC(=O)c1ccc(Cl)cc1   \n2  CC(C)(C)OC(=O)CC[C@@H](CC(=O)O)NC(=O)c1ccc(Cl)cc1   \n\n                                product_H_smiles   vl_id  \\\n0        CC(C)(C)OC(=O)CCC=Cc1nnc(C=Cc2ccccc2)s1  201048   \n1        CC(C)(C)OC(=O)CCC=Cc1nnc(-c2cn[nH]c2)s1  201062   \n2  CC(C)(C)OC(=O)CCC=Cc1nnc(-c2cc(Cl)cc(Cl)c2)s1  201053   \n\n                                               valid  \n0  WARNING: heating failure on first step; WARNIN...  \n1  WARNING: heating failure on first step; WARNIN...  \n2  WARNING: heating failure on first step; WARNIN...  \n\n[3 rows x 32 columns]",
      "text/html": "<div>\n<style scoped>\n    .dataframe tbody tr th:only-of-type {\n        vertical-align: middle;\n    }\n\n    .dataframe tbody tr th {\n        vertical-align: top;\n    }\n\n    .dataframe thead th {\n        text-align: right;\n    }\n</style>\n<table border=\"1\" class=\"dataframe\">\n  <thead>\n    <tr style=\"text-align: right;\">\n      <th></th>\n      <th>id</th>\n      <th>exp_nr</th>\n      <th>plate_nr</th>\n      <th>well</th>\n      <th>lab_journal_number</th>\n      <th>synthesis_date_unixepoch</th>\n      <th>initiator</th>\n      <th>monomer</th>\n      <th>terminator</th>\n      <th>initiator_long</th>\n      <th>...</th>\n      <th>product_A_smiles</th>\n      <th>product_B_smiles</th>\n      <th>product_C_smiles</th>\n      <th>product_D_smiles</th>\n      <th>product_E_smiles</th>\n      <th>product_F_smiles</th>\n      <th>product_G_smiles</th>\n      <th>product_H_smiles</th>\n      <th>vl_id</th>\n      <th>valid</th>\n    </tr>\n  </thead>\n  <tbody>\n    <tr>\n      <th>0</th>\n      <td>10578</td>\n      <td>5</td>\n      <td>4</td>\n      <td>A3</td>\n      <td>JG255</td>\n      <td>2021-08-17</td>\n      <td>I67</td>\n      <td>M20</td>\n      <td>T25</td>\n      <td>Ph023</td>\n      <td>...</td>\n      <td>CC(C)(C)OC(=O)CC[C@@H](Cc1nnc(C=Cc2ccccc2)s1)N...</td>\n      <td>CC(C)(C)OC(=O)CC[C@@H](CC1(C(=O)O)NN=C(C=Cc2cc...</td>\n      <td>CC(C)(C)OC(=O)CC[C@H]1CC2(C(=O)[O-])SC(C=Cc3cc...</td>\n      <td>Clc1ccc(-c2nnc(C=Cc3ccccc3)s2)cc1</td>\n      <td>C(=Cc1nnc(C=Cc2ccccc2)s1)c1ccccc1</td>\n      <td>CC(C)(C)OC(=O)CC[C@@H](CC(=O)C(=O)O)NC(=O)c1cc...</td>\n      <td>CC(C)(C)OC(=O)CC[C@@H](CC(=O)O)NC(=O)c1ccc(Cl)cc1</td>\n      <td>CC(C)(C)OC(=O)CCC=Cc1nnc(C=Cc2ccccc2)s1</td>\n      <td>201048</td>\n      <td>WARNING: heating failure on first step; WARNIN...</td>\n    </tr>\n    <tr>\n      <th>1</th>\n      <td>10579</td>\n      <td>5</td>\n      <td>4</td>\n      <td>A4</td>\n      <td>JG255</td>\n      <td>2021-08-17</td>\n      <td>I67</td>\n      <td>M20</td>\n      <td>T39</td>\n      <td>Ph023</td>\n      <td>...</td>\n      <td>CC(C)(C)OC(=O)CC[C@@H](Cc1nnc(-c2cn[nH]c2)s1)N...</td>\n      <td>CC(C)(C)OC(=O)CC[C@@H](CC1(C(=O)O)NN=C(c2cn[nH...</td>\n      <td>CC(C)(C)OC(=O)CC[C@H]1CC2(C(=O)[O-])SC(c3cn[nH...</td>\n      <td>Clc1ccc(-c2nnc(-c3cn[nH]c3)s2)cc1</td>\n      <td>c1n[nH]cc1-c1nnc(-c2cn[nH]c2)s1</td>\n      <td>CC(C)(C)OC(=O)CC[C@@H](CC(=O)C(=O)O)NC(=O)c1cc...</td>\n      <td>CC(C)(C)OC(=O)CC[C@@H](CC(=O)O)NC(=O)c1ccc(Cl)cc1</td>\n      <td>CC(C)(C)OC(=O)CCC=Cc1nnc(-c2cn[nH]c2)s1</td>\n      <td>201062</td>\n      <td>WARNING: heating failure on first step; WARNIN...</td>\n    </tr>\n    <tr>\n      <th>2</th>\n      <td>10580</td>\n      <td>5</td>\n      <td>4</td>\n      <td>A5</td>\n      <td>JG255</td>\n      <td>2021-08-17</td>\n      <td>I67</td>\n      <td>M20</td>\n      <td>T30</td>\n      <td>Ph023</td>\n      <td>...</td>\n      <td>CC(C)(C)OC(=O)CC[C@@H](Cc1nnc(-c2cc(Cl)cc(Cl)c...</td>\n      <td>CC(C)(C)OC(=O)CC[C@@H](CC1(C(=O)O)NN=C(c2cc(Cl...</td>\n      <td>CC(C)(C)OC(=O)CC[C@H]1CC2(C(=O)[O-])SC(c3cc(Cl...</td>\n      <td>Clc1ccc(-c2nnc(-c3cc(Cl)cc(Cl)c3)s2)cc1</td>\n      <td>Clc1cc(Cl)cc(-c2nnc(-c3cc(Cl)cc(Cl)c3)s2)c1</td>\n      <td>CC(C)(C)OC(=O)CC[C@@H](CC(=O)C(=O)O)NC(=O)c1cc...</td>\n      <td>CC(C)(C)OC(=O)CC[C@@H](CC(=O)O)NC(=O)c1ccc(Cl)cc1</td>\n      <td>CC(C)(C)OC(=O)CCC=Cc1nnc(-c2cc(Cl)cc(Cl)c2)s1</td>\n      <td>201053</td>\n      <td>WARNING: heating failure on first step; WARNIN...</td>\n    </tr>\n  </tbody>\n</table>\n<p>3 rows × 32 columns</p>\n</div>"
     },
     "execution_count": 16,
     "metadata": {},
     "output_type": "execute_result"
    }
   ],
   "source": [
    "# make a dataframe\n",
    "df = pd.DataFrame(experiments, columns=columns)\n",
    "df.head(3)"
   ],
   "metadata": {
    "collapsed": false,
    "ExecuteTime": {
     "start_time": "2023-05-03T14:46:25.166668Z",
     "end_time": "2023-05-03T14:46:25.275121Z"
    }
   }
  },
  {
   "cell_type": "code",
   "execution_count": 24,
   "outputs": [
    {
     "data": {
      "text/plain": "id                                                                      10578\nexp_nr                                                                      5\nplate_nr                                                                    4\nwell                                                                       A3\nlab_journal_number                                                      JG255\nsynthesis_date_unixepoch                                           2021-08-17\ninitiator                                                                 I67\nmonomer                                                                   M20\nterminator                                                                T25\ninitiator_long                                                          Ph023\nmonomer_long                                                           Mon017\nterminator_long                                                      TerTH010\nlong_name                                           Ph023 + Mon017 + TerTH010\nproduct_A_lcms_ratio                                                 0.373249\nproduct_B_lcms_ratio                                                 0.273658\nproduct_C_lcms_ratio                                                 0.008525\nproduct_D_lcms_ratio                                                      0.0\nproduct_E_lcms_ratio                                                 0.070392\nproduct_F_lcms_ratio                                                 0.066699\nproduct_G_lcms_ratio                                                 0.153381\nproduct_H_lcms_ratio                                                 0.006903\ncomment                                                                  None\nproduct_A_smiles            CC(C)(C)OC(=O)CC[C@@H](Cc1nnc(C=Cc2ccccc2)s1)N...\nproduct_B_smiles            CC(C)(C)OC(=O)CC[C@@H](CC1(C(=O)O)NN=C(C=Cc2cc...\nproduct_C_smiles            CC(C)(C)OC(=O)CC[C@H]1CC2(C(=O)[O-])SC(C=Cc3cc...\nproduct_D_smiles                            Clc1ccc(-c2nnc(C=Cc3ccccc3)s2)cc1\nproduct_E_smiles                            C(=Cc1nnc(C=Cc2ccccc2)s1)c1ccccc1\nproduct_F_smiles            CC(C)(C)OC(=O)CC[C@@H](CC(=O)C(=O)O)NC(=O)c1cc...\nproduct_G_smiles            CC(C)(C)OC(=O)CC[C@@H](CC(=O)O)NC(=O)c1ccc(Cl)cc1\nproduct_H_smiles                      CC(C)(C)OC(=O)CCC=Cc1nnc(C=Cc2ccccc2)s1\nvl_id                                                                  201048\nvalid                       WARNING: heating failure on first step; WARNIN...\nName: 0, dtype: object"
     },
     "execution_count": 24,
     "metadata": {},
     "output_type": "execute_result"
    }
   ],
   "source": [
    "df.iloc[0]"
   ],
   "metadata": {
    "collapsed": false,
    "ExecuteTime": {
     "start_time": "2023-05-03T14:49:06.537232Z",
     "end_time": "2023-05-03T14:49:06.543802Z"
    }
   }
  },
  {
   "cell_type": "code",
   "execution_count": 27,
   "outputs": [
    {
     "data": {
      "text/plain": "193"
     },
     "execution_count": 27,
     "metadata": {},
     "output_type": "execute_result"
    }
   ],
   "source": [
    "# get the building block identities from DB\n",
    "building_blocks = con.execute_arbitrary_simple_query(\"SELECT * FROM buildingblocks\")\n",
    "len(building_blocks)"
   ],
   "metadata": {
    "collapsed": false,
    "ExecuteTime": {
     "start_time": "2023-05-03T14:55:14.670877Z",
     "end_time": "2023-05-03T14:55:14.681497Z"
    }
   }
  },
  {
   "cell_type": "code",
   "execution_count": 31,
   "outputs": [
    {
     "data": {
      "text/plain": "(3,\n '2-Pyr002',\n 'I1',\n 'O=C(c1cc(Cl)ccn1)[B-](F)(F)F.[K+]',\n '/Users/julian/PycharmProjects/library-generation/data/db/static/image/I1.png',\n 'I',\n 0,\n 0,\n 0,\n 0,\n 207.99538003591,\n None,\n None,\n None,\n 'C6H3BClF3NO-',\n None,\n 'KAT_hetarom')"
     },
     "execution_count": 31,
     "metadata": {},
     "output_type": "execute_result"
    }
   ],
   "source": [
    "building_blocks[0]"
   ],
   "metadata": {
    "collapsed": false,
    "ExecuteTime": {
     "start_time": "2023-05-03T14:56:37.245009Z",
     "end_time": "2023-05-03T14:56:37.253351Z"
    }
   }
  },
  {
   "cell_type": "code",
   "execution_count": 40,
   "outputs": [],
   "source": [
    "# get ECFP4 for all building blocks using RDKit\n",
    "ecfp4 = [AllChem.GetMorganFingerprintAsBitVect(Chem.MolFromSmiles(i[3]), 4, nBits=512) for i in building_blocks]\n",
    "# convert to numpy array\n",
    "ecfp4 = [np.array(i) for i in ecfp4]\n"
   ],
   "metadata": {
    "collapsed": false,
    "ExecuteTime": {
     "start_time": "2023-05-03T14:59:07.609913Z",
     "end_time": "2023-05-03T14:59:07.799124Z"
    }
   }
  },
  {
   "cell_type": "code",
   "execution_count": 43,
   "outputs": [
    {
     "data": {
      "text/plain": "dict_keys(['I1', 'I2', 'I53', 'I4', 'I5', 'I6', 'I7', 'I8', 'I9', 'I10', 'I11', 'I12', 'I13', 'I14', 'I15', 'I50', 'I17', 'I18', 'I19', 'I20', 'I21', 'I22', 'I23', 'I24', 'I25', 'I26', 'I27', 'I28', 'I29', 'I30', 'I31', 'I32', 'I33', 'I34', 'I35', 'I36', 'I37', 'I38', 'I39', 'I48', 'I41', 'I75', 'I43', 'I44', 'I45', 'I46', 'I47', 'I40', 'I49', 'I16', 'I51', 'I52', 'I3', 'I54', 'I55', 'I56', 'I57', 'I58', 'I59', 'I60', 'I62', 'I61', 'I63', 'I64', 'I65', 'I66', 'I67', 'I68', 'I69', 'I70', 'I71', 'I72', 'I73', 'I74', 'I42', 'I76', 'I77', 'I78', 'M1', 'M2', 'M3', 'M4', 'M5', 'M6', 'M7', 'M8', 'M9', 'M10', 'M11', 'M12', 'M13', 'M14', 'M15', 'M16', 'M17', 'M18', 'M19', 'M20', 'M21', 'M22', 'M23', 'M24', 'M25', 'M26', 'M27', 'M28', 'M29', 'M30', 'M31', 'M32', 'M33', 'M34', 'M35', 'M36', 'M37', 'M38', 'M39', 'M40', 'M41', 'M42', 'M43', 'M44', 'M45', 'M46', 'M47', 'M48', 'M49', 'M50', 'M51', 'M52', 'M53', 'M54', 'M55', 'M56', 'M57', 'M58', 'M59', 'M61', 'M60', 'M62', 'M63', 'M64', 'M65', 'M66', 'M67', 'M68', 'M69', 'M70', 'M71', 'M72', 'M73', 'M74', 'T1', 'T2', 'T3', 'T4', 'T5', 'T6', 'T7', 'T8', 'T9', 'T10', 'T11', 'T12', 'T13', 'T14', 'T15', 'T16', 'T17', 'T18', 'T19', 'T20', 'T21', 'T22', 'T23', 'T24', 'T25', 'T26', 'T27', 'T28', 'T29', 'T30', 'T31', 'T32', 'T33', 'T34', 'T35', 'T36', 'T37', 'T38', 'T39', 'T40', 'T41'])"
     },
     "execution_count": 43,
     "metadata": {},
     "output_type": "execute_result"
    }
   ],
   "source": [
    "# build dictionary from building block short name to ECFP4\n",
    "bb_dict = {bb[2]: ecfp4[i] for i, bb in enumerate(building_blocks)}\n",
    "bb_dict.keys()"
   ],
   "metadata": {
    "collapsed": false,
    "ExecuteTime": {
     "start_time": "2023-05-03T15:02:09.070165Z",
     "end_time": "2023-05-03T15:02:09.082265Z"
    }
   }
  },
  {
   "cell_type": "code",
   "execution_count": 67,
   "outputs": [],
   "source": [
    "df[\"initiator_ecfp4\"] = df[\"initiator\"].apply(lambda x: bb_dict[x])\n",
    "df[\"monomer_ecfp4\"] = df[\"monomer\"].apply(lambda x: bb_dict[x])\n",
    "df[\"terminator_ecfp4\"] = df[\"terminator\"].apply(lambda x: bb_dict[x])\n",
    "concatenated_ecfp4 = np.concatenate([df[\"initiator_ecfp4\"].values.tolist(), df[\"monomer_ecfp4\"].values.tolist(), df[\"terminator_ecfp4\"].values.tolist()], axis=1)"
   ],
   "metadata": {
    "collapsed": false,
    "ExecuteTime": {
     "start_time": "2023-05-03T15:30:00.420446Z",
     "end_time": "2023-05-03T15:30:01.104533Z"
    }
   }
  },
  {
   "cell_type": "code",
   "execution_count": 68,
   "outputs": [
    {
     "data": {
      "text/plain": "(49920, 1536)"
     },
     "execution_count": 68,
     "metadata": {},
     "output_type": "execute_result"
    }
   ],
   "source": [
    "concatenated_ecfp4.shape"
   ],
   "metadata": {
    "collapsed": false,
    "ExecuteTime": {
     "start_time": "2023-05-03T15:30:05.154911Z",
     "end_time": "2023-05-03T15:30:05.167440Z"
    }
   }
  },
  {
   "cell_type": "code",
   "execution_count": 69,
   "outputs": [],
   "source": [
    "som = sompy.SOMFactory.build(concatenated_ecfp4, (260, 192), mask=None, mapshape='planar', lattice='rect', normalization='var', initialization='pca', neighborhood='gaussian', training='batch', name='sompy')  # this will use the default parameters, but i can change the initialization and neighborhood methods"
   ],
   "metadata": {
    "collapsed": false,
    "ExecuteTime": {
     "start_time": "2023-05-03T15:34:51.383617Z",
     "end_time": "2023-05-03T15:35:04.083020Z"
    }
   }
  },
  {
   "cell_type": "code",
   "execution_count": null,
   "outputs": [
    {
     "name": "stderr",
     "output_type": "stream",
     "text": [
      " Training...\n",
      " pca_linear_initialization took: 6.542000 seconds\n",
      " Rough training...\n",
      " radius_ini: 33.000000 , radius_final: 8.250000, trainlen: 100\n",
      "\n"
     ]
    }
   ],
   "source": [
    "som.train(n_job=16, verbose='info', train_rough_len=100, train_finetune_len=100)"
   ],
   "metadata": {
    "collapsed": false,
    "pycharm": {
     "is_executing": true
    }
   }
  },
  {
   "cell_type": "code",
   "execution_count": null,
   "outputs": [],
   "source": [],
   "metadata": {
    "collapsed": false
   }
  }
 ],
 "metadata": {
  "kernelspec": {
   "display_name": "Python 3",
   "language": "python",
   "name": "python3"
  },
  "language_info": {
   "codemirror_mode": {
    "name": "ipython",
    "version": 2
   },
   "file_extension": ".py",
   "mimetype": "text/x-python",
   "name": "python",
   "nbconvert_exporter": "python",
   "pygments_lexer": "ipython2",
   "version": "2.7.6"
  }
 },
 "nbformat": 4,
 "nbformat_minor": 0
}
