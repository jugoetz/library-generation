{
 "cells": [
  {
   "cell_type": "markdown",
   "source": [
    "### What does the Schrödinger workflow do?\n",
    "- Read in sdfs\n",
    "- MM\n",
    "- ionize at pH 7\n",
    "- desalt\n",
    "- generate tautomers\n",
    "- retain chirality as specified in input\n",
    "- reaction-based enumeration\n",
    "\n",
    "### What does Yu's second script (SDFtoFormula) do?\n",
    "- Read in SDFs\n",
    "- Calculate molecular formula\n",
    "- write to file\n",
    "\n",
    "### What is the better rdkit/python equivalent to these?\n",
    "- take the df of mols (from pickle)\n",
    "- desalt\n",
    "- reaction enumeration"
   ],
   "metadata": {
    "collapsed": false
   }
  },
  {
   "cell_type": "code",
   "execution_count": 499,
   "outputs": [],
   "source": [
    "from rdkit import Chem\n",
    "from rdkit.Chem import Draw, SaltRemover, AllChem, FunctionalGroups, rdFMCS, DetectChemistryProblems\n",
    "from rdkit.Chem.SimpleEnum.Enumerator import EnumerateReaction\n",
    "from rdkit.Chem.PropertyMol import PropertyMol\n",
    "from pathlib import Path\n",
    "import pandas as pd\n",
    "import warnings\n",
    "import string\n",
    "import itertools"
   ],
   "metadata": {
    "collapsed": false,
    "pycharm": {
     "name": "#%%\n"
    }
   }
  },
  {
   "cell_type": "code",
   "execution_count": 442,
   "outputs": [],
   "source": [
    "DATA_DIR = Path('..', 'data').resolve()\n",
    "OUTPUT_DIR = DATA_DIR / 'outputs'"
   ],
   "metadata": {
    "collapsed": false,
    "pycharm": {
     "name": "#%%\n"
    }
   }
  },
  {
   "cell_type": "code",
   "execution_count": 443,
   "outputs": [
    {
     "data": {
      "text/plain": "    Compound Name                                  SMILES Category  \\\n0        2-Pyr002  C1=NC(C([B-](F)(F)F)=O)=CC(Cl)=C1.[K+]        I   \n1        2-Pyr003  C1(Cl)C=CC=C(C(=O)[B-](F)(F)F)N=1.[K+]        I   \n2        2-Pyr005  C1(Br)C=CC=C(C(=O)[B-](F)(F)F)N=1.[K+]        I   \n3        2-Pyr006  C1C(Br)=CC=C(C(=O)[B-](F)(F)F)N=1.[K+]        I   \n4        2-Pyr007   C1(F)C=CC=C(C(=O)[B-](F)(F)F)N=1.[K+]        I   \n..            ...                                     ...      ...   \n188      TerTH023             S=C(C1C=CC=C2NN=CC=12)NN.Cl        T   \n189      TerTH025                     S=C(C1N=CNC=1)NN.Cl        T   \n190      TerTH026                     S=C(C1C=NNC=1)NN.Cl        T   \n191      TerTH027             S=C(C1C=CC2NN=NC=2C=1)NN.Cl        T   \n192      TerTH028           S=C(C1C=NC=CC=1)N[NH3+].[Cl-]        T   \n\n                                                   mol  \\\n0    <rdkit.Chem.PropertyMol.PropertyMol object at ...   \n1    <rdkit.Chem.PropertyMol.PropertyMol object at ...   \n2    <rdkit.Chem.PropertyMol.PropertyMol object at ...   \n3    <rdkit.Chem.PropertyMol.PropertyMol object at ...   \n4    <rdkit.Chem.PropertyMol.PropertyMol object at ...   \n..                                                 ...   \n188  <rdkit.Chem.PropertyMol.PropertyMol object at ...   \n189  <rdkit.Chem.PropertyMol.PropertyMol object at ...   \n190  <rdkit.Chem.PropertyMol.PropertyMol object at ...   \n191  <rdkit.Chem.PropertyMol.PropertyMol object at ...   \n192  <rdkit.Chem.PropertyMol.PropertyMol object at ...   \n\n                                                   img  MW_from_mol  \\\n0    <PIL.Image.Image image mode=RGBA size=300x300 ...      247.453   \n1    <PIL.Image.Image image mode=RGBA size=300x300 ...      247.453   \n2    <PIL.Image.Image image mode=RGBA size=300x300 ...      291.904   \n3    <PIL.Image.Image image mode=RGBA size=300x300 ...      291.904   \n4    <PIL.Image.Image image mode=RGBA size=300x300 ...      230.998   \n..                                                 ...          ...   \n188  <PIL.Image.Image image mode=RGBA size=300x300 ...      228.708   \n189  <PIL.Image.Image image mode=RGBA size=300x300 ...      178.648   \n190  <PIL.Image.Image image mode=RGBA size=300x300 ...      178.648   \n191  <PIL.Image.Image image mode=RGBA size=300x300 ...      229.696   \n192  <PIL.Image.Image image mode=RGBA size=300x300 ...      189.671   \n\n     weigh-in [mg] / 100 µL  \n0                      1.24  \n1                      1.24  \n2                      1.46  \n3                      1.46  \n4                      1.15  \n..                      ...  \n188                    1.14  \n189                    0.89  \n190                    0.89  \n191                    1.15  \n192                    0.95  \n\n[193 rows x 7 columns]",
      "text/html": "<div>\n<style scoped>\n    .dataframe tbody tr th:only-of-type {\n        vertical-align: middle;\n    }\n\n    .dataframe tbody tr th {\n        vertical-align: top;\n    }\n\n    .dataframe thead th {\n        text-align: right;\n    }\n</style>\n<table border=\"1\" class=\"dataframe\">\n  <thead>\n    <tr style=\"text-align: right;\">\n      <th></th>\n      <th>Compound Name</th>\n      <th>SMILES</th>\n      <th>Category</th>\n      <th>mol</th>\n      <th>img</th>\n      <th>MW_from_mol</th>\n      <th>weigh-in [mg] / 100 µL</th>\n    </tr>\n  </thead>\n  <tbody>\n    <tr>\n      <th>0</th>\n      <td>2-Pyr002</td>\n      <td>C1=NC(C([B-](F)(F)F)=O)=CC(Cl)=C1.[K+]</td>\n      <td>I</td>\n      <td>&lt;rdkit.Chem.PropertyMol.PropertyMol object at ...</td>\n      <td>&lt;PIL.Image.Image image mode=RGBA size=300x300 ...</td>\n      <td>247.453</td>\n      <td>1.24</td>\n    </tr>\n    <tr>\n      <th>1</th>\n      <td>2-Pyr003</td>\n      <td>C1(Cl)C=CC=C(C(=O)[B-](F)(F)F)N=1.[K+]</td>\n      <td>I</td>\n      <td>&lt;rdkit.Chem.PropertyMol.PropertyMol object at ...</td>\n      <td>&lt;PIL.Image.Image image mode=RGBA size=300x300 ...</td>\n      <td>247.453</td>\n      <td>1.24</td>\n    </tr>\n    <tr>\n      <th>2</th>\n      <td>2-Pyr005</td>\n      <td>C1(Br)C=CC=C(C(=O)[B-](F)(F)F)N=1.[K+]</td>\n      <td>I</td>\n      <td>&lt;rdkit.Chem.PropertyMol.PropertyMol object at ...</td>\n      <td>&lt;PIL.Image.Image image mode=RGBA size=300x300 ...</td>\n      <td>291.904</td>\n      <td>1.46</td>\n    </tr>\n    <tr>\n      <th>3</th>\n      <td>2-Pyr006</td>\n      <td>C1C(Br)=CC=C(C(=O)[B-](F)(F)F)N=1.[K+]</td>\n      <td>I</td>\n      <td>&lt;rdkit.Chem.PropertyMol.PropertyMol object at ...</td>\n      <td>&lt;PIL.Image.Image image mode=RGBA size=300x300 ...</td>\n      <td>291.904</td>\n      <td>1.46</td>\n    </tr>\n    <tr>\n      <th>4</th>\n      <td>2-Pyr007</td>\n      <td>C1(F)C=CC=C(C(=O)[B-](F)(F)F)N=1.[K+]</td>\n      <td>I</td>\n      <td>&lt;rdkit.Chem.PropertyMol.PropertyMol object at ...</td>\n      <td>&lt;PIL.Image.Image image mode=RGBA size=300x300 ...</td>\n      <td>230.998</td>\n      <td>1.15</td>\n    </tr>\n    <tr>\n      <th>...</th>\n      <td>...</td>\n      <td>...</td>\n      <td>...</td>\n      <td>...</td>\n      <td>...</td>\n      <td>...</td>\n      <td>...</td>\n    </tr>\n    <tr>\n      <th>188</th>\n      <td>TerTH023</td>\n      <td>S=C(C1C=CC=C2NN=CC=12)NN.Cl</td>\n      <td>T</td>\n      <td>&lt;rdkit.Chem.PropertyMol.PropertyMol object at ...</td>\n      <td>&lt;PIL.Image.Image image mode=RGBA size=300x300 ...</td>\n      <td>228.708</td>\n      <td>1.14</td>\n    </tr>\n    <tr>\n      <th>189</th>\n      <td>TerTH025</td>\n      <td>S=C(C1N=CNC=1)NN.Cl</td>\n      <td>T</td>\n      <td>&lt;rdkit.Chem.PropertyMol.PropertyMol object at ...</td>\n      <td>&lt;PIL.Image.Image image mode=RGBA size=300x300 ...</td>\n      <td>178.648</td>\n      <td>0.89</td>\n    </tr>\n    <tr>\n      <th>190</th>\n      <td>TerTH026</td>\n      <td>S=C(C1C=NNC=1)NN.Cl</td>\n      <td>T</td>\n      <td>&lt;rdkit.Chem.PropertyMol.PropertyMol object at ...</td>\n      <td>&lt;PIL.Image.Image image mode=RGBA size=300x300 ...</td>\n      <td>178.648</td>\n      <td>0.89</td>\n    </tr>\n    <tr>\n      <th>191</th>\n      <td>TerTH027</td>\n      <td>S=C(C1C=CC2NN=NC=2C=1)NN.Cl</td>\n      <td>T</td>\n      <td>&lt;rdkit.Chem.PropertyMol.PropertyMol object at ...</td>\n      <td>&lt;PIL.Image.Image image mode=RGBA size=300x300 ...</td>\n      <td>229.696</td>\n      <td>1.15</td>\n    </tr>\n    <tr>\n      <th>192</th>\n      <td>TerTH028</td>\n      <td>S=C(C1C=NC=CC=1)N[NH3+].[Cl-]</td>\n      <td>T</td>\n      <td>&lt;rdkit.Chem.PropertyMol.PropertyMol object at ...</td>\n      <td>&lt;PIL.Image.Image image mode=RGBA size=300x300 ...</td>\n      <td>189.671</td>\n      <td>0.95</td>\n    </tr>\n  </tbody>\n</table>\n<p>193 rows × 7 columns</p>\n</div>"
     },
     "execution_count": 443,
     "metadata": {},
     "output_type": "execute_result"
    }
   ],
   "source": [
    "compounds = pd.read_pickle(OUTPUT_DIR / 'library_constituents_dataframe.pkl')\n",
    "compounds"
   ],
   "metadata": {
    "collapsed": false,
    "pycharm": {
     "name": "#%%\n"
    }
   }
  },
  {
   "cell_type": "code",
   "execution_count": 444,
   "outputs": [],
   "source": [
    "# desalt the building block library\n",
    "remover = SaltRemover.SaltRemover()\n",
    "compounds['desalted'] = compounds.loc[:, 'mol'].apply(remover.StripMol)\n"
   ],
   "metadata": {
    "collapsed": false,
    "pycharm": {
     "name": "#%%\n"
    }
   }
  },
  {
   "cell_type": "code",
   "execution_count": 445,
   "outputs": [],
   "source": [
    "def deprotonate_nitrogen(mol):\n",
    "    \"\"\"Remove a proton from ammonium species\"\"\"\n",
    "    mol.UpdatePropertyCache()\n",
    "    print(f'Next: {AllChem.CalcMolFormula(mol)}')\n",
    "    patt = Chem.MolFromSmarts('[#7+;H1,H2,H3,h1,h2,h3]')  # this pattern matches positive N with at least one proton attached\n",
    "    try:\n",
    "        idx = mol.GetSubstructMatches(patt)[0][0]  # this raises IndexError if patt is not found\n",
    "        atom = mol.GetAtomWithIdx(idx)  # get the atom index of the charged N\n",
    "        atom.SetFormalCharge(0)\n",
    "        \"\"\"If H are explicit, we have to do explicit removal. If they are implicit, calling UpdatePropertyCache() suffices\"\"\"\n",
    "        n_hyd = atom.GetNumExplicitHs()\n",
    "        if n_hyd > 0:\n",
    "            n_hyd -= 1\n",
    "            atom.SetNumExplicitHs(n_hyd)\n",
    "        mol.UpdatePropertyCache()\n",
    "    except IndexError:\n",
    "        print('No charged nitrogen found')\n",
    "    print(f'.....{AllChem.CalcMolFormula(mol)}')\n",
    "    return None"
   ],
   "metadata": {
    "collapsed": false,
    "pycharm": {
     "name": "#%%\n"
    }
   }
  },
  {
   "cell_type": "code",
   "execution_count": 446,
   "outputs": [
    {
     "name": "stdout",
     "output_type": "stream",
     "text": [
      "Next: C6H3BClF3NO-\n",
      "No charged nitrogen found\n",
      ".....C6H3BClF3NO-\n",
      "Next: C6H3BClF3NO-\n",
      "No charged nitrogen found\n",
      ".....C6H3BClF3NO-\n",
      "Next: C6H3BBrF3NO-\n",
      "No charged nitrogen found\n",
      ".....C6H3BBrF3NO-\n",
      "Next: C6H3BBrF3NO-\n",
      "No charged nitrogen found\n",
      ".....C6H3BBrF3NO-\n",
      "Next: C6H3BF4NO-\n",
      "No charged nitrogen found\n",
      ".....C6H3BF4NO-\n",
      "Next: C6H3BF4NO-\n",
      "No charged nitrogen found\n",
      ".....C6H3BF4NO-\n",
      "Next: C7H6BF3NO2-\n",
      "No charged nitrogen found\n",
      ".....C7H6BF3NO2-\n",
      "Next: C7H6BF3NO2-\n",
      "No charged nitrogen found\n",
      ".....C7H6BF3NO2-\n",
      "Next: C5H3BF3OS-\n",
      "No charged nitrogen found\n",
      ".....C5H3BF3OS-\n",
      "Next: C5H3BF3O2-\n",
      "No charged nitrogen found\n",
      ".....C5H3BF3O2-\n",
      "Next: C6H3BBrF3NO-\n",
      "No charged nitrogen found\n",
      ".....C6H3BBrF3NO-\n",
      "Next: C6H4BF3NO-\n",
      "No charged nitrogen found\n",
      ".....C6H4BF3NO-\n",
      "Next: C8H9BF3N2O-\n",
      "No charged nitrogen found\n",
      ".....C8H9BF3N2O-\n",
      "Next: C5H3BF3OS-\n",
      "No charged nitrogen found\n",
      ".....C5H3BF3OS-\n",
      "Next: C6H5BF3N2O2-\n",
      "No charged nitrogen found\n",
      ".....C6H5BF3N2O2-\n",
      "Next: C6H3BClF3NO-\n",
      "No charged nitrogen found\n",
      ".....C6H3BClF3NO-\n",
      "Next: C4H3BF3N2O-\n",
      "No charged nitrogen found\n",
      ".....C4H3BF3N2O-\n",
      "Next: C9H11BF3N2O3-\n",
      "No charged nitrogen found\n",
      ".....C9H11BF3N2O3-\n",
      "Next: C10H6BF3NO-\n",
      "No charged nitrogen found\n",
      ".....C10H6BF3NO-\n",
      "Next: C10H6BF3NO-\n",
      "No charged nitrogen found\n",
      ".....C10H6BF3NO-\n",
      "Next: C11H8BF3NO2-\n",
      "No charged nitrogen found\n",
      ".....C11H8BF3NO2-\n",
      "Next: C17H12BF3NO2-\n",
      "No charged nitrogen found\n",
      ".....C17H12BF3NO2-\n",
      "Next: C10H5BBrF3NO-\n",
      "No charged nitrogen found\n",
      ".....C10H5BBrF3NO-\n",
      "Next: C13H10BF3NO3-\n",
      "No charged nitrogen found\n",
      ".....C13H10BF3NO3-\n",
      "Next: C8H7BF3O-\n",
      "No charged nitrogen found\n",
      ".....C8H7BF3O-\n",
      "Next: C10H11BF3O-\n",
      "No charged nitrogen found\n",
      ".....C10H11BF3O-\n",
      "Next: C7H11BF3O-\n",
      "No charged nitrogen found\n",
      ".....C7H11BF3O-\n",
      "Next: C5H9BF3O-\n",
      "No charged nitrogen found\n",
      ".....C5H9BF3O-\n",
      "Next: C5H9BF3O-\n",
      "No charged nitrogen found\n",
      ".....C5H9BF3O-\n",
      "Next: C4H7BF3O-\n",
      "No charged nitrogen found\n",
      ".....C4H7BF3O-\n",
      "Next: C9H17BF3O-\n",
      "No charged nitrogen found\n",
      ".....C9H17BF3O-\n",
      "Next: C8H6BClF3O-\n",
      "No charged nitrogen found\n",
      ".....C8H6BClF3O-\n",
      "Next: C9H9BF3O-\n",
      "No charged nitrogen found\n",
      ".....C9H9BF3O-\n",
      "Next: C8H14BF3NO3-\n",
      "No charged nitrogen found\n",
      ".....C8H14BF3NO3-\n",
      "Next: C13H16BF3NO3-\n",
      "No charged nitrogen found\n",
      ".....C13H16BF3NO3-\n",
      "Next: C7H12BF3NO3-\n",
      "No charged nitrogen found\n",
      ".....C7H12BF3NO3-\n",
      "Next: C9H15BF3OSi-\n",
      "No charged nitrogen found\n",
      ".....C9H15BF3OSi-\n",
      "Next: C14H13BF3N2O2-\n",
      "No charged nitrogen found\n",
      ".....C14H13BF3N2O2-\n",
      "Next: C9H5BF3O-\n",
      "No charged nitrogen found\n",
      ".....C9H5BF3O-\n",
      "Next: C14H4BF8O3-\n",
      "No charged nitrogen found\n",
      ".....C14H4BF8O3-\n",
      "Next: C10H10BClF3O2-\n",
      "No charged nitrogen found\n",
      ".....C10H10BClF3O2-\n",
      "Next: C11H8BF3NO2-\n",
      "No charged nitrogen found\n",
      ".....C11H8BF3NO2-\n",
      "Next: C12H13BF3OSi-\n",
      "No charged nitrogen found\n",
      ".....C12H13BF3OSi-\n",
      "Next: C8H5BF3O3-\n",
      "No charged nitrogen found\n",
      ".....C8H5BF3O3-\n",
      "Next: C10H11BF3OS2-\n",
      "No charged nitrogen found\n",
      ".....C10H11BF3OS2-\n",
      "Next: C10H10BClF3O2-\n",
      "No charged nitrogen found\n",
      ".....C10H10BClF3O2-\n",
      "Next: C10H10BF3N3O2-\n",
      "No charged nitrogen found\n",
      ".....C10H10BF3N3O2-\n",
      "Next: C10H11BF3N4O2-\n",
      "No charged nitrogen found\n",
      ".....C10H11BF3N4O2-\n",
      "Next: C8H6BF3NO-\n",
      "No charged nitrogen found\n",
      ".....C8H6BF3NO-\n",
      "Next: C8H6BF3NO-\n",
      "No charged nitrogen found\n",
      ".....C8H6BF3NO-\n",
      "Next: C8H6BF3NO-\n",
      "No charged nitrogen found\n",
      ".....C8H6BF3NO-\n",
      "Next: C23H30N2O8\n",
      "No charged nitrogen found\n",
      ".....C23H30N2O8\n",
      "Next: C20H24N2O6\n",
      "No charged nitrogen found\n",
      ".....C20H24N2O6\n",
      "Next: C13H19NO4\n",
      "No charged nitrogen found\n",
      ".....C13H19NO4\n",
      "Next: C17H20NO5+\n",
      ".....C17H19NO5\n",
      "Next: C25H28NO7+\n",
      ".....C25H27NO7\n",
      "Next: C24H23N2O5+\n",
      ".....C24H22N2O5\n",
      "Next: C14H17BrN3O4+\n",
      ".....C14H16BrN3O4\n",
      "Next: C14H20N2O5\n",
      "No charged nitrogen found\n",
      ".....C14H20N2O5\n",
      "Next: C12H17F3NO4+\n",
      ".....C12H16F3NO4\n",
      "Next: C13H21NO4\n",
      "No charged nitrogen found\n",
      ".....C13H21NO4\n",
      "Next: C14H23NO4\n",
      "No charged nitrogen found\n",
      ".....C14H23NO4\n",
      "Next: C15H18N2O4\n",
      "No charged nitrogen found\n",
      ".....C15H18N2O4\n",
      "Next: C17H21NO4\n",
      "No charged nitrogen found\n",
      ".....C17H21NO4\n",
      "Next: C16H26NO5+\n",
      ".....C16H25NO5\n",
      "Next: C15H23NO5\n",
      "No charged nitrogen found\n",
      ".....C15H23NO5\n",
      "Next: C17H28N2O6\n",
      "No charged nitrogen found\n",
      ".....C17H28N2O6\n",
      "Next: C21H34N2O6\n",
      "No charged nitrogen found\n",
      ".....C21H34N2O6\n",
      "Next: C20H32N2O6\n",
      "No charged nitrogen found\n",
      ".....C20H32N2O6\n",
      "Next: C18H28N2O6\n",
      "No charged nitrogen found\n",
      ".....C18H28N2O6\n",
      "Next: C17H27NO6\n",
      "No charged nitrogen found\n",
      ".....C17H27NO6\n",
      "Next: C14H22NO4+\n",
      ".....C14H21NO4\n",
      "Next: C16H18FNO4\n",
      "No charged nitrogen found\n",
      ".....C16H18FNO4\n",
      "Next: C21H23NO4\n",
      "No charged nitrogen found\n",
      ".....C21H23NO4\n",
      "Next: C15H25NO4\n",
      "No charged nitrogen found\n",
      ".....C15H25NO4\n",
      "Next: C13H21NO4\n",
      "No charged nitrogen found\n",
      ".....C13H21NO4\n",
      "Next: C21H22N2O4\n",
      "No charged nitrogen found\n",
      ".....C21H22N2O4\n",
      "Next: C24H27NO5\n",
      "No charged nitrogen found\n",
      ".....C24H27NO5\n",
      "Next: C17H21NO5\n",
      "No charged nitrogen found\n",
      ".....C17H21NO5\n",
      "Next: C19H22ClNO4\n",
      "No charged nitrogen found\n",
      ".....C19H22ClNO4\n",
      "Next: C20H21N3O4\n",
      "No charged nitrogen found\n",
      ".....C20H21N3O4\n",
      "Next: C13H21NO4\n",
      "No charged nitrogen found\n",
      ".....C13H21NO4\n",
      "Next: C17H28N2O6\n",
      "No charged nitrogen found\n",
      ".....C17H28N2O6\n",
      "Next: C17H27NO6\n",
      "No charged nitrogen found\n",
      ".....C17H27NO6\n",
      "Next: C20H32N2O6\n",
      "No charged nitrogen found\n",
      ".....C20H32N2O6\n",
      "Next: C16H18FNO4\n",
      "No charged nitrogen found\n",
      ".....C16H18FNO4\n",
      "Next: C14H24NO4+\n",
      ".....C14H23NO4\n",
      "Next: C16H17Cl2NO4\n",
      "No charged nitrogen found\n",
      ".....C16H17Cl2NO4\n",
      "Next: C15H23NO5\n",
      "No charged nitrogen found\n",
      ".....C15H23NO5\n",
      "Next: C24H31N2O6+\n",
      ".....C24H30N2O6\n",
      "Next: C15H19N2O4+\n",
      ".....C15H18N2O4\n",
      "Next: C12H17F3NO4+\n",
      ".....C12H16F3NO4\n",
      "Next: C16H26NO5+\n",
      ".....C16H25NO5\n",
      "Next: C19H21N2O4+\n",
      ".....C19H20N2O4\n",
      "Next: C21H34N2O6\n",
      "No charged nitrogen found\n",
      ".....C21H34N2O6\n",
      "Next: C14H22NO4+\n",
      ".....C14H21NO4\n",
      "Next: C20H22NO4+\n",
      ".....C20H21NO4\n",
      "Next: C19H21N2O4+\n",
      ".....C19H20N2O4\n",
      "Next: C20H22NO4+\n",
      ".....C20H21NO4\n",
      "Next: C15H18N2O4\n",
      "No charged nitrogen found\n",
      ".....C15H18N2O4\n",
      "Next: C18H28N2O6\n",
      "No charged nitrogen found\n",
      ".....C18H28N2O6\n",
      "Next: C13H16N2O5\n",
      "No charged nitrogen found\n",
      ".....C13H16N2O5\n",
      "Next: C19H20N2O4\n",
      "No charged nitrogen found\n",
      ".....C19H20N2O4\n",
      "Next: C14H18NO5+\n",
      ".....C14H17NO5\n",
      "Next: C15H18N2O4\n",
      "No charged nitrogen found\n",
      ".....C15H18N2O4\n",
      "Next: C13H16N2O5\n",
      "No charged nitrogen found\n",
      ".....C13H16N2O5\n",
      "Next: C14H17NO5\n",
      "No charged nitrogen found\n",
      ".....C14H17NO5\n",
      "Next: C15H18N2O4\n",
      "No charged nitrogen found\n",
      ".....C15H18N2O4\n",
      "Next: C15H18N2O4\n",
      "No charged nitrogen found\n",
      ".....C15H18N2O4\n",
      "Next: C7H5BF3O-\n",
      "No charged nitrogen found\n",
      ".....C7H5BF3O-\n",
      "Next: C7H4BF4O-\n",
      "No charged nitrogen found\n",
      ".....C7H4BF4O-\n",
      "Next: C8H7BF3O2-\n",
      "No charged nitrogen found\n",
      ".....C8H7BF3O2-\n",
      "Next: C8H4BF6O-\n",
      "No charged nitrogen found\n",
      ".....C8H4BF6O-\n",
      "Next: C9H10BF3NO-\n",
      "No charged nitrogen found\n",
      ".....C9H10BF3NO-\n",
      "Next: C9H9BF3O3-\n",
      "No charged nitrogen found\n",
      ".....C9H9BF3O3-\n",
      "Next: C11H7BF3O-\n",
      "No charged nitrogen found\n",
      ".....C11H7BF3O-\n",
      "Next: C8H7BF3O-\n",
      "No charged nitrogen found\n",
      ".....C8H7BF3O-\n",
      "Next: C12H14BF3NO3-\n",
      "No charged nitrogen found\n",
      ".....C12H14BF3NO3-\n",
      "Next: C10H6BF3NO2-\n",
      "No charged nitrogen found\n",
      ".....C10H6BF3NO2-\n",
      "Next: C8H7BF3O-\n",
      "No charged nitrogen found\n",
      ".....C8H7BF3O-\n",
      "Next: C10H12BF3NO-\n",
      "No charged nitrogen found\n",
      ".....C10H12BF3NO-\n",
      "Next: C10H9BF3O3-\n",
      "No charged nitrogen found\n",
      ".....C10H9BF3O3-\n",
      "Next: C7H3BF5O-\n",
      "No charged nitrogen found\n",
      ".....C7H3BF5O-\n",
      "Next: C7H2BF6O-\n",
      "No charged nitrogen found\n",
      ".....C7H2BF6O-\n",
      "Next: C7H4BClF3O-\n",
      "No charged nitrogen found\n",
      ".....C7H4BClF3O-\n",
      "Next: C7H4BBrF3O-\n",
      "No charged nitrogen found\n",
      ".....C7H4BBrF3O-\n",
      "Next: C7H4BF3IO-\n",
      "No charged nitrogen found\n",
      ".....C7H4BF3IO-\n",
      "Next: C10H9BF3O3-\n",
      "No charged nitrogen found\n",
      ".....C10H9BF3O3-\n",
      "Next: C9H9BF3O3-\n",
      "No charged nitrogen found\n",
      ".....C9H9BF3O3-\n",
      "Next: C8H7BF3O2-\n",
      "No charged nitrogen found\n",
      ".....C8H7BF3O2-\n",
      "Next: C8H4BF3NO-\n",
      "No charged nitrogen found\n",
      ".....C8H4BF3NO-\n",
      "Next: C10H8BF3NO2-\n",
      "No charged nitrogen found\n",
      ".....C10H8BF3NO2-\n",
      "Next: C8H5BF3O3-\n",
      "No charged nitrogen found\n",
      ".....C8H5BF3O3-\n",
      "Next: C8H7BF3O-\n",
      "No charged nitrogen found\n",
      ".....C8H7BF3O-\n",
      "Next: C5H3BF3N2O-\n",
      "No charged nitrogen found\n",
      ".....C5H3BF3N2O-\n",
      "Next: C5H2BBrF3N2O-\n",
      "No charged nitrogen found\n",
      ".....C5H2BBrF3N2O-\n",
      "Next: C25H34N2O8\n",
      "No charged nitrogen found\n",
      ".....C25H34N2O8\n",
      "Next: C19H28N2O7\n",
      "No charged nitrogen found\n",
      ".....C19H28N2O7\n",
      "Next: C20H30N2O6\n",
      "No charged nitrogen found\n",
      ".....C20H30N2O6\n",
      "Next: C23H29FN2O6\n",
      "No charged nitrogen found\n",
      ".....C23H29FN2O6\n",
      "Next: C14H21NO5\n",
      "No charged nitrogen found\n",
      ".....C14H21NO5\n",
      "Next: C22H28N2O6\n",
      "No charged nitrogen found\n",
      ".....C22H28N2O6\n",
      "Next: C23H30FN2O6+\n",
      ".....C23H29FN2O6\n",
      "Next: C13H20NO4+\n",
      ".....C13H19NO4\n",
      "Next: C14H22NO5+\n",
      ".....C14H21NO5\n",
      "Next: C13H20NO4S+\n",
      ".....C13H19NO4S\n",
      "Next: C18H26N2O6\n",
      "No charged nitrogen found\n",
      ".....C18H26N2O6\n",
      "Next: C17H25N2O7+\n",
      ".....C17H24N2O7\n",
      "Next: C19H29N2O7+\n",
      ".....C19H28N2O7\n",
      "Next: C12H17NO5\n",
      "No charged nitrogen found\n",
      ".....C12H17NO5\n",
      "Next: C12H18NO4S+\n",
      ".....C12H17NO4S\n",
      "Next: C14H22NO5+\n",
      ".....C14H21NO5\n",
      "Next: C6H7NS\n",
      "No charged nitrogen found\n",
      ".....C6H7NS\n",
      "Next: C6H6FNS\n",
      "No charged nitrogen found\n",
      ".....C6H6FNS\n",
      "Next: C7H9NS\n",
      "No charged nitrogen found\n",
      ".....C7H9NS\n",
      "Next: C8H11NS\n",
      "No charged nitrogen found\n",
      ".....C8H11NS\n",
      "Next: C6H6BrNS\n",
      "No charged nitrogen found\n",
      ".....C6H6BrNS\n",
      "Next: C7H6F3NOS\n",
      "No charged nitrogen found\n",
      ".....C7H6F3NOS\n",
      "Next: C7H9NS\n",
      "No charged nitrogen found\n",
      ".....C7H9NS\n",
      "Next: C10H9NS\n",
      "No charged nitrogen found\n",
      ".....C10H9NS\n",
      "Next: C7H9NO2S2\n",
      "No charged nitrogen found\n",
      ".....C7H9NO2S2\n",
      "Next: C6H6ClNS\n",
      "No charged nitrogen found\n",
      ".....C6H6ClNS\n",
      "Next: C7H6F3NS\n",
      "No charged nitrogen found\n",
      ".....C7H6F3NS\n",
      "Next: C6H6ClNS\n",
      "No charged nitrogen found\n",
      ".....C6H6ClNS\n",
      "Next: C7H9NOS\n",
      "No charged nitrogen found\n",
      ".....C7H9NOS\n",
      "Next: C8H11NO2S\n",
      "No charged nitrogen found\n",
      ".....C8H11NO2S\n",
      "Next: C6H7BrNS+\n",
      ".....C6H6BrNS\n",
      "Next: C6H5F2NS\n",
      "No charged nitrogen found\n",
      ".....C6H5F2NS\n",
      "Next: C8H11NOS\n",
      "No charged nitrogen found\n",
      ".....C8H11NOS\n",
      "Next: C7H9NS\n",
      "No charged nitrogen found\n",
      ".....C7H9NS\n",
      "Next: C7H9N2S+\n",
      ".....C7H8N2S\n",
      "Next: C5H7N2S2+\n",
      ".....C5H6N2S2\n",
      "Next: C4H6N3OS+\n",
      ".....C4H5N3OS\n",
      "Next: C8H11N2OS+\n",
      ".....C8H10N2OS\n",
      "Next: C7H9N3OS\n",
      "No charged nitrogen found\n",
      ".....C7H9N3OS\n",
      "Next: C11H16N3OS+\n",
      ".....C11H15N3OS\n",
      "Next: C9H10N2S\n",
      "No charged nitrogen found\n",
      ".....C9H10N2S\n",
      "Next: C14H18N3O2S+\n",
      ".....C14H17N3O2S\n",
      "Next: C7H8N2OS\n",
      "No charged nitrogen found\n",
      ".....C7H8N2OS\n",
      "Next: C8H7F3N2S\n",
      "No charged nitrogen found\n",
      ".....C8H7F3N2S\n",
      "Next: C7H7N3O2S\n",
      "No charged nitrogen found\n",
      ".....C7H7N3O2S\n",
      "Next: C7H6Cl2N2S\n",
      "No charged nitrogen found\n",
      ".....C7H6Cl2N2S\n",
      "Next: C8H10N2OS\n",
      "No charged nitrogen found\n",
      ".....C8H10N2OS\n",
      "Next: C7H7ClN2S\n",
      "No charged nitrogen found\n",
      ".....C7H7ClN2S\n",
      "Next: C8H8N2O2S\n",
      "No charged nitrogen found\n",
      ".....C8H8N2O2S\n",
      "Next: C9H13N3S\n",
      "No charged nitrogen found\n",
      ".....C9H13N3S\n",
      "Next: C5H8N4S\n",
      "No charged nitrogen found\n",
      ".....C5H8N4S\n",
      "Next: C6H10N3OS+\n",
      ".....C6H9N3OS\n",
      "Next: C8H8N4S\n",
      "No charged nitrogen found\n",
      ".....C8H8N4S\n",
      "Next: C4H6N4S\n",
      "No charged nitrogen found\n",
      ".....C4H6N4S\n",
      "Next: C4H6N4S\n",
      "No charged nitrogen found\n",
      ".....C4H6N4S\n",
      "Next: C7H7N5S\n",
      "No charged nitrogen found\n",
      ".....C7H7N5S\n",
      "Next: C6H8N3S+\n",
      ".....C6H7N3S\n"
     ]
    },
    {
     "data": {
      "text/plain": "0      None\n1      None\n2      None\n3      None\n4      None\n       ... \n188    None\n189    None\n190    None\n191    None\n192    None\nName: desalted, Length: 193, dtype: object"
     },
     "execution_count": 446,
     "metadata": {},
     "output_type": "execute_result"
    }
   ],
   "source": [
    "# neutralize ammoniums\n",
    "compounds.loc[:, 'desalted'].apply(deprotonate_nitrogen)\n",
    "# Draw.MolsToGridImage(compounds['neutral'].values, maxMols=300)"
   ],
   "metadata": {
    "collapsed": false,
    "pycharm": {
     "name": "#%%\n"
    }
   }
  },
  {
   "cell_type": "code",
   "execution_count": 447,
   "outputs": [],
   "source": [
    "compounds['desalted_SMILES'] = compounds.loc[:, 'desalted'].apply(Chem.MolToSmiles)"
   ],
   "metadata": {
    "collapsed": false,
    "pycharm": {
     "name": "#%%\n"
    }
   }
  },
  {
   "cell_type": "code",
   "execution_count": 448,
   "outputs": [
    {
     "data": {
      "text/plain": "<rdkit.Chem.rdchem.Mol at 0x1400af120>",
      "image/png": "[encoded data removed]"
     },
     "execution_count": 448,
     "metadata": {},
     "output_type": "execute_result"
    }
   ],
   "source": [
    "compounds.loc[46, 'desalted']"
   ],
   "metadata": {
    "collapsed": false,
    "pycharm": {
     "name": "#%%\n"
    }
   }
  },
  {
   "cell_type": "code",
   "execution_count": 449,
   "outputs": [],
   "source": [
    "# this works for TerTH / prod A >>\n",
    "rxn = AllChem.ReactionFromSmarts('F[B-](F)(F)[#6](-[*:1])=O.O=[#6]1-[#8]C2([#6]-[#6]-[#6]-[#6]-[#6]2)[#8]C11[#6:3]-[#6:2]-[#7]-[#8]1.[#6:4]-[#6](=S)-[#7]-[#7]>>[#6:4]-[#6]-1=[#7]-[#7]=[#6](-[#6:3]-[#6:2]-[#7]-[#6](-[*:1])=O)-[#16]-1')\n",
    "\n",
    "# this attempts making all 7 TerTH prods at once\n",
    "rxn_TH = AllChem.ReactionFromSmarts('F[B-](F)(F)[#6](-[*:1])=O.O=[#6]1-[#8]C2([#6]-[#6]-[#6]-[#6]-[#6]2)[#8]C11[#6:3]-[#6:2]-[#7]-[#8]1.[#6:4]-[#6](=S)-[#7]-[#7]>>[#6:4]-[#6]-1=[#7]-[#7]=[#6](-[#6:3]-[#6:2]-[#7]-[#6](-[*:1])=O)-[#16]-1.[#6:4]-[#6]-1=[#7]-[#7]C([#6:3]-[#6:2]-[#7]-[#6](-[*:1])=O)([#16]-1)[#6](-[#8])=O.[#6:4]-[#6]-1=[#7]-[#7+]-2=[#6](-[*:1])-[#7]-[#6:2]-[#6:3]-[#6]-2-[#16]-1.[#6:4]-[#6]-1=[#7]-[#7]=[#6](-[*:1])-[#16]-1.[#6:4]-[#6]-1=[#7]-[#7]=[#6](-[#6:4])-[#16]-1.[#8]-[#6](=O)-[#6](=O)-[#6:3]-[#6:2]-[#7]-[#6](-[*:1])=O.[#8]-[#6](=O)-[#6:3]-[#6:2]-[#7]-[#6](-[*:1])=O')\n",
    "\n",
    "# all 7 TerABT prods\n",
    "rxn_ABT = AllChem.ReactionFromSmarts('F[B-](F)(F)[#6](-[*:1])=O.O=[#6]1-[#8]C2([#6]-[#6]-[#6]-[#6]-[#6]2)[#8]C11[#6:3]-[#6:2]-[#7]-[#8]1.[#7]-c1[c:4][c:5][c:6][c:7]c1-[#16]>>[*:1]-[#6](=O)-[#7]-[#6:2]-[#6:3]-c1nc2[c:4][c:5][c:6][c:7]c2s1.[#8]-[#6](=O)C1([#6:3]-[#6:2]-[#7]-[#6](-[*:1])=O)[#7]-c2[c:4][c:5][c:6][c:7]c2-[#16]1.[*:1]-[#6]-1=[#7+]-2-[#6](-[#6:3]-[#6:2]-[#7]-1)-[#16]-c1[c:7][c:6][c:5][c:4]c-21.[*:1]-c1nc2[c:4][c:5][c:6][c:7]c2s1.[#7]-c1[c:4][c:5][c:6][c:7]c1-[#16]-[#16]-c1[c:7][c:6][c:5][c:4]c1-[#7].[#8]-[#6](=O)-[#6](=O)-[#6:3]-[#6:2]-[#7]-[#6](-[*:1])=O.[#8]-[#6](=O)-[#6:3]-[#6:2]-[#7]-[#6](-[*:1])=O')"
   ],
   "metadata": {
    "collapsed": false,
    "pycharm": {
     "name": "#%%\n"
    }
   }
  },
  {
   "cell_type": "code",
   "execution_count": 450,
   "outputs": [
    {
     "name": "stderr",
     "output_type": "stream",
     "text": [
      "RDKit WARNING: [17:52:33] product atom-mapping number 2 found multiple times.\n",
      "RDKit WARNING: [17:52:33] product atom-mapping number 7 found multiple times.\n",
      "RDKit WARNING: [17:52:33] product atom-mapping number 6 found multiple times.\n",
      "RDKit WARNING: [17:52:33] product atom-mapping number 5 found multiple times.\n",
      "RDKit WARNING: [17:52:33] product atom-mapping number 4 found multiple times.\n",
      "RDKit WARNING: [17:52:33] product atom-mapping number 1 found multiple times.\n",
      "RDKit WARNING: [17:52:33] product atom-mapping number 4 found multiple times.\n",
      "RDKit WARNING: [17:52:33] product atom-mapping number 5 found multiple times.\n",
      "RDKit WARNING: [17:52:33] product atom-mapping number 6 found multiple times.\n",
      "RDKit WARNING: [17:52:33] product atom-mapping number 7 found multiple times.\n",
      "RDKit WARNING: [17:52:33] product atom-mapping number 4 found multiple times.\n",
      "RDKit WARNING: [17:52:33] product atom-mapping number 5 found multiple times.\n",
      "RDKit WARNING: [17:52:33] product atom-mapping number 6 found multiple times.\n",
      "RDKit WARNING: [17:52:33] product atom-mapping number 7 found multiple times.\n",
      "RDKit WARNING: [17:52:33] product atom-mapping number 7 found multiple times.\n",
      "RDKit WARNING: [17:52:33] product atom-mapping number 6 found multiple times.\n",
      "RDKit WARNING: [17:52:33] product atom-mapping number 5 found multiple times.\n",
      "RDKit WARNING: [17:52:33] product atom-mapping number 4 found multiple times.\n",
      "RDKit WARNING: [17:52:33] product atom-mapping number 3 found multiple times.\n",
      "RDKit WARNING: [17:52:33] product atom-mapping number 2 found multiple times.\n",
      "RDKit WARNING: [17:52:33] product atom-mapping number 1 found multiple times.\n",
      "RDKit WARNING: [17:52:33] product atom-mapping number 3 found multiple times.\n",
      "RDKit WARNING: [17:52:33] product atom-mapping number 2 found multiple times.\n",
      "RDKit WARNING: [17:52:33] product atom-mapping number 1 found multiple times.\n",
      "RDKit WARNING: [17:52:33] product atom-mapping number 3 found multiple times.\n",
      "RDKit WARNING: [17:52:33] product atom-mapping number 2 found multiple times.\n",
      "RDKit WARNING: [17:52:33] product atom-mapping number 1 found multiple times.\n",
      "RDKit WARNING: [17:52:33] product atom-mapping number 4 found multiple times.\n",
      "RDKit WARNING: [17:52:33] product atom-mapping number 5 found multiple times.\n",
      "RDKit WARNING: [17:52:33] product atom-mapping number 6 found multiple times.\n",
      "RDKit WARNING: [17:52:33] product atom-mapping number 7 found multiple times.\n",
      "RDKit WARNING: [17:52:33] product atom-mapping number 1 found multiple times.\n",
      "RDKit WARNING: [17:52:33] product atom-mapping number 3 found multiple times.\n",
      "RDKit WARNING: [17:52:33] product atom-mapping number 2 found multiple times.\n",
      "RDKit WARNING: [17:52:33] product atom-mapping number 7 found multiple times.\n",
      "RDKit WARNING: [17:52:33] product atom-mapping number 6 found multiple times.\n",
      "RDKit WARNING: [17:52:33] product atom-mapping number 5 found multiple times.\n",
      "RDKit WARNING: [17:52:33] product atom-mapping number 4 found multiple times.\n",
      "RDKit WARNING: [17:52:33] product atom-mapping number 1 found multiple times.\n",
      "RDKit WARNING: [17:52:33] product atom-mapping number 4 found multiple times.\n",
      "RDKit WARNING: [17:52:33] product atom-mapping number 5 found multiple times.\n",
      "RDKit WARNING: [17:52:33] product atom-mapping number 6 found multiple times.\n",
      "RDKit WARNING: [17:52:33] product atom-mapping number 7 found multiple times.\n",
      "RDKit WARNING: [17:52:33] product atom-mapping number 4 found multiple times.\n",
      "RDKit WARNING: [17:52:33] product atom-mapping number 5 found multiple times.\n",
      "RDKit WARNING: [17:52:33] product atom-mapping number 6 found multiple times.\n",
      "RDKit WARNING: [17:52:33] product atom-mapping number 7 found multiple times.\n",
      "RDKit WARNING: [17:52:33] product atom-mapping number 7 found multiple times.\n",
      "RDKit WARNING: [17:52:33] product atom-mapping number 6 found multiple times.\n",
      "RDKit WARNING: [17:52:33] product atom-mapping number 5 found multiple times.\n",
      "RDKit WARNING: [17:52:33] product atom-mapping number 4 found multiple times.\n",
      "RDKit WARNING: [17:52:33] product atom-mapping number 3 found multiple times.\n",
      "RDKit WARNING: [17:52:33] product atom-mapping number 2 found multiple times.\n",
      "RDKit WARNING: [17:52:33] product atom-mapping number 1 found multiple times.\n",
      "RDKit WARNING: [17:52:33] product atom-mapping number 3 found multiple times.\n",
      "RDKit WARNING: [17:52:33] product atom-mapping number 2 found multiple times.\n",
      "RDKit WARNING: [17:52:33] product atom-mapping number 1 found multiple times.\n",
      "RDKit WARNING: [17:58:24] product atom-mapping number 4 found multiple times.\n",
      "RDKit WARNING: [17:58:24] product atom-mapping number 3 found multiple times.\n",
      "RDKit WARNING: [17:58:24] product atom-mapping number 2 found multiple times.\n",
      "RDKit WARNING: [17:58:24] product atom-mapping number 1 found multiple times.\n",
      "RDKit WARNING: [17:58:24] product atom-mapping number 4 found multiple times.\n",
      "RDKit WARNING: [17:58:24] product atom-mapping number 1 found multiple times.\n",
      "RDKit WARNING: [17:58:24] product atom-mapping number 2 found multiple times.\n",
      "RDKit WARNING: [17:58:24] product atom-mapping number 3 found multiple times.\n",
      "RDKit WARNING: [17:58:24] product atom-mapping number 4 found multiple times.\n",
      "RDKit WARNING: [17:58:24] product atom-mapping number 1 found multiple times.\n",
      "RDKit WARNING: [17:58:24] product atom-mapping number 4 found multiple times.\n",
      "RDKit WARNING: [17:58:24] product atom-mapping number 4 found multiple times.\n",
      "RDKit WARNING: [17:58:24] product atom-mapping number 3 found multiple times.\n",
      "RDKit WARNING: [17:58:24] product atom-mapping number 2 found multiple times.\n",
      "RDKit WARNING: [17:58:24] product atom-mapping number 1 found multiple times.\n",
      "RDKit WARNING: [17:58:24] product atom-mapping number 3 found multiple times.\n",
      "RDKit WARNING: [17:58:24] product atom-mapping number 2 found multiple times.\n",
      "RDKit WARNING: [17:58:24] product atom-mapping number 1 found multiple times.\n",
      "RDKit WARNING: [17:58:24] product atom-mapping number 4 found multiple times.\n",
      "RDKit WARNING: [17:58:24] product atom-mapping number 3 found multiple times.\n",
      "RDKit WARNING: [17:58:24] product atom-mapping number 2 found multiple times.\n",
      "RDKit WARNING: [17:58:24] product atom-mapping number 1 found multiple times.\n",
      "RDKit WARNING: [17:58:24] product atom-mapping number 4 found multiple times.\n",
      "RDKit WARNING: [17:58:24] product atom-mapping number 1 found multiple times.\n",
      "RDKit WARNING: [17:58:24] product atom-mapping number 2 found multiple times.\n",
      "RDKit WARNING: [17:58:24] product atom-mapping number 3 found multiple times.\n",
      "RDKit WARNING: [17:58:24] product atom-mapping number 4 found multiple times.\n",
      "RDKit WARNING: [17:58:24] product atom-mapping number 1 found multiple times.\n",
      "RDKit WARNING: [17:58:24] product atom-mapping number 4 found multiple times.\n",
      "RDKit WARNING: [17:58:24] product atom-mapping number 4 found multiple times.\n",
      "RDKit WARNING: [17:58:24] product atom-mapping number 3 found multiple times.\n",
      "RDKit WARNING: [17:58:24] product atom-mapping number 2 found multiple times.\n",
      "RDKit WARNING: [17:58:24] product atom-mapping number 1 found multiple times.\n",
      "RDKit WARNING: [17:58:24] product atom-mapping number 3 found multiple times.\n",
      "RDKit WARNING: [17:58:24] product atom-mapping number 2 found multiple times.\n",
      "RDKit WARNING: [17:58:24] product atom-mapping number 1 found multiple times.\n",
      "RDKit WARNING: [17:58:24] product atom-mapping number 3 found multiple times.\n",
      "RDKit WARNING: [17:58:24] product atom-mapping number 2 found multiple times.\n",
      "RDKit WARNING: [17:58:24] product atom-mapping number 1 found multiple times.\n",
      "RDKit WARNING: [17:58:24] product atom-mapping number 4 found multiple times.\n",
      "RDKit WARNING: [17:58:24] product atom-mapping number 5 found multiple times.\n",
      "RDKit WARNING: [17:58:24] product atom-mapping number 6 found multiple times.\n",
      "RDKit WARNING: [17:58:24] product atom-mapping number 7 found multiple times.\n",
      "RDKit WARNING: [17:58:24] product atom-mapping number 1 found multiple times.\n",
      "RDKit WARNING: [17:58:24] product atom-mapping number 3 found multiple times.\n",
      "RDKit WARNING: [17:58:24] product atom-mapping number 2 found multiple times.\n",
      "RDKit WARNING: [17:58:24] product atom-mapping number 7 found multiple times.\n",
      "RDKit WARNING: [17:58:24] product atom-mapping number 6 found multiple times.\n",
      "RDKit WARNING: [17:58:24] product atom-mapping number 5 found multiple times.\n",
      "RDKit WARNING: [17:58:24] product atom-mapping number 4 found multiple times.\n",
      "RDKit WARNING: [17:58:24] product atom-mapping number 1 found multiple times.\n",
      "RDKit WARNING: [17:58:24] product atom-mapping number 4 found multiple times.\n",
      "RDKit WARNING: [17:58:24] product atom-mapping number 5 found multiple times.\n",
      "RDKit WARNING: [17:58:24] product atom-mapping number 6 found multiple times.\n",
      "RDKit WARNING: [17:58:24] product atom-mapping number 7 found multiple times.\n",
      "RDKit WARNING: [17:58:24] product atom-mapping number 4 found multiple times.\n",
      "RDKit WARNING: [17:58:24] product atom-mapping number 5 found multiple times.\n",
      "RDKit WARNING: [17:58:24] product atom-mapping number 6 found multiple times.\n",
      "RDKit WARNING: [17:58:24] product atom-mapping number 7 found multiple times.\n",
      "RDKit WARNING: [17:58:24] product atom-mapping number 7 found multiple times.\n",
      "RDKit WARNING: [17:58:24] product atom-mapping number 6 found multiple times.\n",
      "RDKit WARNING: [17:58:24] product atom-mapping number 5 found multiple times.\n",
      "RDKit WARNING: [17:58:24] product atom-mapping number 4 found multiple times.\n",
      "RDKit WARNING: [17:58:24] product atom-mapping number 3 found multiple times.\n",
      "RDKit WARNING: [17:58:24] product atom-mapping number 2 found multiple times.\n",
      "RDKit WARNING: [17:58:24] product atom-mapping number 1 found multiple times.\n",
      "RDKit WARNING: [17:58:24] product atom-mapping number 3 found multiple times.\n",
      "RDKit WARNING: [17:58:24] product atom-mapping number 2 found multiple times.\n",
      "RDKit WARNING: [17:58:24] product atom-mapping number 1 found multiple times.\n",
      "RDKit WARNING: [17:58:24] product atom-mapping number 3 found multiple times.\n",
      "RDKit WARNING: [17:58:24] product atom-mapping number 2 found multiple times.\n",
      "RDKit WARNING: [17:58:24] product atom-mapping number 1 found multiple times.\n",
      "RDKit WARNING: [17:58:24] product atom-mapping number 4 found multiple times.\n"
     ]
    }
   ],
   "source": [
    "AllChem.Compute2DCoordsForReaction(rxn)\n",
    "AllChem.Compute2DCoordsForReaction(rxn_TH)\n",
    "AllChem.Compute2DCoordsForReaction(rxn_ABT)\n",
    "\n",
    "rxn.Initialize()\n",
    "n_warn, n_err = rxn.Validate()\n",
    "if n_err > 0:\n",
    "    raise ValueError(f'Invalid reaction gave {n_err} errors in validation')\n",
    "rxn_TH.Initialize()\n",
    "n_warn, n_err = rxn_TH.Validate()\n",
    "if n_err > 0:\n",
    "    raise ValueError(f'Invalid reaction gave {n_err} errors in validation')\n",
    "rxn_ABT.Initialize()\n",
    "n_warn, n_err = rxn_ABT.Validate()\n",
    "if n_err > 0:\n",
    "    raise ValueError(f'Invalid reaction gave {n_err} errors in validation')"
   ],
   "metadata": {
    "collapsed": false,
    "pycharm": {
     "name": "#%%\n"
    }
   }
  },
  {
   "cell_type": "code",
   "execution_count": 451,
   "outputs": [
    {
     "name": "stderr",
     "output_type": "stream",
     "text": [
      "RDKit WARNING: [17:58:24] product atom-mapping number 5 found multiple times.\n",
      "RDKit WARNING: [17:58:24] product atom-mapping number 6 found multiple times.\n",
      "RDKit WARNING: [17:58:24] product atom-mapping number 7 found multiple times.\n",
      "RDKit WARNING: [17:58:24] product atom-mapping number 1 found multiple times.\n",
      "RDKit WARNING: [17:58:24] product atom-mapping number 3 found multiple times.\n",
      "RDKit WARNING: [17:58:24] product atom-mapping number 2 found multiple times.\n",
      "RDKit WARNING: [17:58:24] product atom-mapping number 7 found multiple times.\n",
      "RDKit WARNING: [17:58:24] product atom-mapping number 6 found multiple times.\n",
      "RDKit WARNING: [17:58:24] product atom-mapping number 5 found multiple times.\n",
      "RDKit WARNING: [17:58:24] product atom-mapping number 4 found multiple times.\n",
      "RDKit WARNING: [17:58:24] product atom-mapping number 1 found multiple times.\n",
      "RDKit WARNING: [17:58:24] product atom-mapping number 4 found multiple times.\n",
      "RDKit WARNING: [17:58:24] product atom-mapping number 5 found multiple times.\n",
      "RDKit WARNING: [17:58:24] product atom-mapping number 6 found multiple times.\n",
      "RDKit WARNING: [17:58:24] product atom-mapping number 7 found multiple times.\n",
      "RDKit WARNING: [17:58:24] product atom-mapping number 4 found multiple times.\n",
      "RDKit WARNING: [17:58:24] product atom-mapping number 5 found multiple times.\n",
      "RDKit WARNING: [17:58:24] product atom-mapping number 6 found multiple times.\n",
      "RDKit WARNING: [17:58:24] product atom-mapping number 7 found multiple times.\n",
      "RDKit WARNING: [17:58:24] product atom-mapping number 7 found multiple times.\n",
      "RDKit WARNING: [17:58:24] product atom-mapping number 6 found multiple times.\n",
      "RDKit WARNING: [17:58:24] product atom-mapping number 5 found multiple times.\n",
      "RDKit WARNING: [17:58:24] product atom-mapping number 4 found multiple times.\n",
      "RDKit WARNING: [17:58:24] product atom-mapping number 3 found multiple times.\n",
      "RDKit WARNING: [17:58:24] product atom-mapping number 2 found multiple times.\n",
      "RDKit WARNING: [17:58:24] product atom-mapping number 1 found multiple times.\n",
      "RDKit WARNING: [17:58:24] product atom-mapping number 3 found multiple times.\n",
      "RDKit WARNING: [17:58:24] product atom-mapping number 2 found multiple times.\n",
      "RDKit WARNING: [17:58:24] product atom-mapping number 1 found multiple times.\n",
      "RDKit WARNING: [17:58:24] product atom-mapping number 3 found multiple times.\n",
      "RDKit WARNING: [17:58:24] product atom-mapping number 2 found multiple times.\n",
      "RDKit WARNING: [17:58:24] product atom-mapping number 1 found multiple times.\n",
      "RDKit WARNING: [17:58:24] product atom-mapping number 4 found multiple times.\n",
      "RDKit WARNING: [17:58:24] product atom-mapping number 5 found multiple times.\n",
      "RDKit WARNING: [17:58:24] product atom-mapping number 6 found multiple times.\n",
      "RDKit WARNING: [17:58:24] product atom-mapping number 7 found multiple times.\n",
      "RDKit WARNING: [17:58:24] product atom-mapping number 1 found multiple times.\n",
      "RDKit WARNING: [17:58:24] product atom-mapping number 3 found multiple times.\n",
      "RDKit WARNING: [17:58:24] product atom-mapping number 2 found multiple times.\n",
      "RDKit WARNING: [17:58:24] product atom-mapping number 7 found multiple times.\n",
      "RDKit WARNING: [17:58:24] product atom-mapping number 6 found multiple times.\n",
      "RDKit WARNING: [17:58:24] product atom-mapping number 5 found multiple times.\n",
      "RDKit WARNING: [17:58:24] product atom-mapping number 4 found multiple times.\n",
      "RDKit WARNING: [17:58:24] product atom-mapping number 1 found multiple times.\n",
      "RDKit WARNING: [17:58:24] product atom-mapping number 4 found multiple times.\n",
      "RDKit WARNING: [17:58:24] product atom-mapping number 5 found multiple times.\n",
      "RDKit WARNING: [17:58:24] product atom-mapping number 6 found multiple times.\n",
      "RDKit WARNING: [17:58:24] product atom-mapping number 7 found multiple times.\n",
      "RDKit WARNING: [17:58:24] product atom-mapping number 4 found multiple times.\n",
      "RDKit WARNING: [17:58:24] product atom-mapping number 5 found multiple times.\n",
      "RDKit WARNING: [17:58:24] product atom-mapping number 6 found multiple times.\n",
      "RDKit WARNING: [17:58:24] product atom-mapping number 7 found multiple times.\n",
      "RDKit WARNING: [17:58:24] product atom-mapping number 7 found multiple times.\n",
      "RDKit WARNING: [17:58:24] product atom-mapping number 6 found multiple times.\n",
      "RDKit WARNING: [17:58:24] product atom-mapping number 5 found multiple times.\n",
      "RDKit WARNING: [17:58:24] product atom-mapping number 4 found multiple times.\n",
      "RDKit WARNING: [17:58:24] product atom-mapping number 3 found multiple times.\n",
      "RDKit WARNING: [17:58:24] product atom-mapping number 2 found multiple times.\n",
      "RDKit WARNING: [17:58:24] product atom-mapping number 1 found multiple times.\n",
      "RDKit WARNING: [17:58:24] product atom-mapping number 3 found multiple times.\n",
      "RDKit WARNING: [17:58:24] product atom-mapping number 2 found multiple times.\n",
      "RDKit WARNING: [17:58:24] product atom-mapping number 1 found multiple times.\n",
      "RDKit WARNING: [17:58:24] product atom-mapping number 3 found multiple times.\n",
      "RDKit WARNING: [17:58:24] product atom-mapping number 2 found multiple times.\n",
      "RDKit WARNING: [17:58:24] product atom-mapping number 1 found multiple times.\n"
     ]
    },
    {
     "data": {
      "text/plain": "<rdkit.Chem.rdchem.Mol at 0x140373630>",
      "image/png": "[encoded data removed]"
     },
     "execution_count": 451,
     "metadata": {},
     "output_type": "execute_result"
    }
   ],
   "source": [
    "AllChem.PreprocessReaction(rxn_ABT)\n",
    "t = rxn_ABT.GetProducts()\n",
    "t[0]"
   ],
   "metadata": {
    "collapsed": false,
    "pycharm": {
     "name": "#%%\n"
    }
   }
  },
  {
   "cell_type": "code",
   "execution_count": 452,
   "outputs": [
    {
     "data": {
      "text/plain": "[rdkit.Chem.rdmolops.SanitizeFlags.SANITIZE_NONE,\n rdkit.Chem.rdmolops.SanitizeFlags.SANITIZE_NONE]"
     },
     "execution_count": 452,
     "metadata": {},
     "output_type": "execute_result"
    }
   ],
   "source": [
    "tent_prod = Chem.MolFromSmarts('Br[#6]-1=[#6]-[#6]-2=[#6](-[#16]-[#6](-[#6]-[#6@H](-[#6]-[#6]-[#6]-3=[#6]-[#6]=[#6]-[#6]=[#6]-3)-[#7]-[#6](=O)-[#6]-3-[#6]-[#6]-[#6]-[#6]-[#6]-3)=[#7]-2)-[#6]=[#6]-1')\n",
    "tent_prod_2 = Chem.MolFromSmarts('[#6]-[#7]-[#6](=O)-[#7]-[#6]-[#6@H](-[#6])-[#6]-1=[#7]-[#6]-2=[#6](-[#16]-1)-[#6](-[#7])=[#6]-[#6]=[#6]-2-[#6]')\n",
    "tps = [tent_prod, tent_prod_2]\n",
    "[Chem.SanitizeMol(x) for x in tps]"
   ],
   "metadata": {
    "collapsed": false,
    "pycharm": {
     "name": "#%%\n"
    }
   }
  },
  {
   "cell_type": "code",
   "execution_count": 453,
   "outputs": [
    {
     "data": {
      "text/plain": "True"
     },
     "execution_count": 453,
     "metadata": {},
     "output_type": "execute_result"
    }
   ],
   "source": [
    "tps[1].HasSubstructMatch(t[0])\n",
    "# tps[0]"
   ],
   "metadata": {
    "collapsed": false,
    "pycharm": {
     "name": "#%%\n"
    }
   }
  },
  {
   "cell_type": "code",
   "execution_count": 454,
   "outputs": [
    {
     "data": {
      "text/plain": "'[#6](=[#8])-[#7]-[#6]-[#6]-[#6]1:[#7]:[#6]2:[#6](:[#16]:1):[#6]:[#6]:[#6]:[#6]:2'"
     },
     "execution_count": 454,
     "metadata": {},
     "output_type": "execute_result"
    }
   ],
   "source": [
    "r = rdFMCS.FindMCS(tps)\n",
    "r.smartsString"
   ],
   "metadata": {
    "collapsed": false,
    "pycharm": {
     "name": "#%%\n"
    }
   }
  },
  {
   "cell_type": "code",
   "execution_count": 455,
   "outputs": [
    {
     "data": {
      "text/plain": "<PIL.PngImagePlugin.PngImageFile image mode=RGB size=1000x200 at 0x11F93EF70>",
      "image/png": "[encoded data removed]"
     },
     "execution_count": 455,
     "metadata": {},
     "output_type": "execute_result"
    }
   ],
   "source": [
    "Draw.ReactionToImage(rxn)"
   ],
   "metadata": {
    "collapsed": false,
    "pycharm": {
     "name": "#%%\n"
    }
   }
  },
  {
   "cell_type": "code",
   "execution_count": 456,
   "outputs": [
    {
     "data": {
      "text/plain": "<PIL.PngImagePlugin.PngImageFile image mode=RGB size=2200x200 at 0x11F2D1940>",
      "image/png": "[encoded data removed]"
     },
     "execution_count": 456,
     "metadata": {},
     "output_type": "execute_result"
    }
   ],
   "source": [
    "Draw.ReactionToImage(rxn_TH)"
   ],
   "metadata": {
    "collapsed": false,
    "pycharm": {
     "name": "#%%\n"
    }
   }
  },
  {
   "cell_type": "code",
   "execution_count": 457,
   "outputs": [
    {
     "data": {
      "text/plain": "<PIL.PngImagePlugin.PngImageFile image mode=RGB size=2200x200 at 0x11F2D1E20>",
      "image/png": "[encoded data removed]"
     },
     "execution_count": 457,
     "metadata": {},
     "output_type": "execute_result"
    }
   ],
   "source": [
    "Draw.ReactionToImage(rxn_ABT)"
   ],
   "metadata": {
    "collapsed": false,
    "pycharm": {
     "name": "#%%\n"
    }
   }
  },
  {
   "cell_type": "code",
   "execution_count": 458,
   "outputs": [],
   "source": [
    "# some checks\n",
    "# idx 46 is KAT, 54 Fused, 100 Mon, 138 Spiro, 160 is TerABT, 180 is TerTH\n",
    "r_KAT = compounds.loc[46, 'desalted']\n",
    "r_Fused = compounds.loc[54, 'desalted']\n",
    "r_Mon = compounds.loc[100, 'desalted']\n",
    "r_Spiro = compounds.loc[138, 'desalted']\n",
    "r_TerABT = compounds.loc[160, 'desalted']\n",
    "r_TerTH = compounds.loc[180, 'desalted']"
   ],
   "metadata": {
    "collapsed": false,
    "pycharm": {
     "name": "#%%\n"
    }
   }
  },
  {
   "cell_type": "code",
   "execution_count": 459,
   "outputs": [
    {
     "name": "stdout",
     "output_type": "stream",
     "text": [
      "<rdkit.Chem.rdchem.Atom object at 0x121af2300>\n",
      "<rdkit.Chem.rdchem.Atom object at 0x147780530>\n",
      "<rdkit.Chem.rdchem.Atom object at 0x121af2300>\n",
      "<rdkit.Chem.rdchem.Atom object at 0x147780530>\n",
      "<rdkit.Chem.rdchem.Atom object at 0x121af2300>\n",
      "<rdkit.Chem.rdchem.Atom object at 0x147780530>\n"
     ]
    }
   ],
   "source": [
    "for i in r_TerABT.GetAromaticAtoms():\n",
    "    print(i)"
   ],
   "metadata": {
    "collapsed": false,
    "pycharm": {
     "name": "#%%\n"
    }
   }
  },
  {
   "cell_type": "code",
   "execution_count": 460,
   "outputs": [],
   "source": [
    "\"\"\"define reagents\"\"\"\n",
    "all_KAT = compounds[compounds.loc[:, 'Category'].str.startswith('I')]\n",
    "all_Mon = compounds[compounds.loc[:, 'Category'].str.startswith('M')]\n",
    "all_Spiro = compounds[compounds.loc[:, 'Compound Name'].str.startswith('Spiro')]\n",
    "all_Fused = compounds[compounds.loc[:, 'Compound Name'].str.startswith('Fused')]\n",
    "all_Sub = compounds[compounds.loc[:, 'Compound Name'].str.startswith('Mon')]\n",
    "all_TerTH = compounds[compounds.loc[:, 'Compound Name'].str.startswith('TerTH')]\n",
    "all_TerABT = compounds[compounds.loc[:, 'Compound Name'].str.startswith('TerABT')]"
   ],
   "metadata": {
    "collapsed": false,
    "pycharm": {
     "name": "#%%\n"
    }
   }
  },
  {
   "cell_type": "code",
   "execution_count": 461,
   "outputs": [
    {
     "name": "stdout",
     "output_type": "stream",
     "text": [
      "KATs: 78\n",
      "Mons: 74\n",
      " - Spiro: 16\n",
      " - Fused: 8\n",
      " - Sub: 50\n",
      "TerTHs: 23\n",
      "TerABTs: 18\n",
      "\n",
      "expected TH (A) products: 132756\n",
      " - expected TH (A) products (spiro): 28704\n",
      " - expected TH (A) products (fused): 14352\n",
      " - expected TH (A) products (sub): 89700\n",
      "\n",
      "expected ABT (A) products: 103896\n",
      " - expected ABT (A) products (spiro): 22464\n",
      " - expected ABT (A) products (fused): 11232\n",
      " - expected ABT (A) products (sub): 70200\n"
     ]
    }
   ],
   "source": [
    "\"\"\"info\"\"\"\n",
    "print(f'KATs: {all_KAT.shape[0]}')\n",
    "print(f'Mons: {all_Mon.shape[0]}')\n",
    "print(f' - Spiro: {all_Spiro.shape[0]}')\n",
    "print(f' - Fused: {all_Fused.shape[0]}')\n",
    "print(f' - Sub: {all_Sub.shape[0]}')\n",
    "print(f'TerTHs: {all_TerTH.shape[0]}')\n",
    "print(f'TerABTs: {all_TerABT.shape[0]}')\n",
    "print()\n",
    "print(f'expected TH (A) products: {all_KAT.shape[0] * all_Mon.shape[0] * all_TerTH.shape[0]}')\n",
    "print(f' - expected TH (A) products (spiro): {all_KAT.shape[0] * all_Spiro.shape[0] * all_TerTH.shape[0]}')\n",
    "print(f' - expected TH (A) products (fused): {all_KAT.shape[0] * all_Fused.shape[0] * all_TerTH.shape[0]}')\n",
    "print(f' - expected TH (A) products (sub): {all_KAT.shape[0] * all_Sub.shape[0] * all_TerTH.shape[0]}')\n",
    "print()\n",
    "print(f'expected ABT (A) products: {all_KAT.shape[0] * all_Mon.shape[0] * all_TerABT.shape[0]}')\n",
    "print(f' - expected ABT (A) products (spiro): {all_KAT.shape[0] * all_Spiro.shape[0] * all_TerABT.shape[0]}')\n",
    "print(f' - expected ABT (A) products (fused): {all_KAT.shape[0] * all_Fused.shape[0] * all_TerABT.shape[0]}')\n",
    "print(f' - expected ABT (A) products (sub): {all_KAT.shape[0] * all_Sub.shape[0] * all_TerABT.shape[0]}')"
   ],
   "metadata": {
    "collapsed": false,
    "pycharm": {
     "name": "#%%\n"
    }
   }
  },
  {
   "cell_type": "code",
   "execution_count": 462,
   "outputs": [],
   "source": [
    "I = all_KAT['desalted'].tolist()\n",
    "M = all_Mon['desalted'].tolist()\n",
    "fused = all_Fused['desalted'].tolist()\n",
    "spiro = all_Spiro['desalted'].tolist()\n",
    "sub = all_Sub['desalted'].tolist()\n",
    "T_TH = all_TerTH['desalted'].tolist()\n",
    "T_ABT = all_TerABT['desalted'].tolist()"
   ],
   "metadata": {
    "collapsed": false,
    "pycharm": {
     "name": "#%%\n"
    }
   }
  },
  {
   "cell_type": "code",
   "execution_count": 463,
   "outputs": [
    {
     "data": {
      "text/plain": "'[#6]1:[#6]:[#6]:[#6](:[#6](:[#6]:1)-[#7])-[#16]'"
     },
     "execution_count": 463,
     "metadata": {},
     "output_type": "execute_result"
    }
   ],
   "source": [
    "res=rdFMCS.FindMCS(T_ABT)\n",
    "res.smartsString"
   ],
   "metadata": {
    "collapsed": false,
    "pycharm": {
     "name": "#%%\n"
    }
   }
  },
  {
   "cell_type": "code",
   "execution_count": 464,
   "outputs": [
    {
     "name": "stdout",
     "output_type": "stream",
     "text": [
      "Reactant check passed\n"
     ]
    }
   ],
   "source": [
    "\"\"\"check if any of the desired reactants does not work as a reactant in TH reaction\"\"\"\n",
    "TH_reactants = pd.concat([all_KAT, all_Mon, all_TerTH])\n",
    "not_reactant = TH_reactants[~TH_reactants.loc[:, 'desalted'].apply(rxn_TH.IsMoleculeReactant)]\n",
    "if len(not_reactant) > 0:\n",
    "    warnings.warn('A molecule could not be assigned as reactant with the current reaction definition.', Warning)\n",
    "    print('Unassigned reactants:')\n",
    "    print(not_reactant['Compound Name'])\n",
    "else:\n",
    "    print('Reactant check passed')"
   ],
   "metadata": {
    "collapsed": false,
    "pycharm": {
     "name": "#%%\n"
    }
   }
  },
  {
   "cell_type": "code",
   "execution_count": 465,
   "outputs": [
    {
     "name": "stdout",
     "output_type": "stream",
     "text": [
      "Reactant check passed\n"
     ]
    }
   ],
   "source": [
    "\"\"\"check if any of the desired reactants does not work as a reactant in ABT reaction\"\"\"\n",
    "ABT_reactants = pd.concat([all_KAT, all_Mon, all_TerABT])\n",
    "not_reactant = ABT_reactants[~ABT_reactants.loc[:, 'desalted'].apply(rxn_ABT.IsMoleculeReactant)]\n",
    "if len(not_reactant) > 0:\n",
    "    warnings.warn('A molecule could not be assigned as reactant with the current reaction definition.', Warning)\n",
    "    print('Unassigned reactants:')\n",
    "    print(not_reactant['Compound Name'])\n",
    "else:\n",
    "    print('Reactant check passed')"
   ],
   "metadata": {
    "collapsed": false,
    "pycharm": {
     "name": "#%%\n"
    }
   }
  },
  {
   "cell_type": "code",
   "execution_count": 466,
   "outputs": [],
   "source": [
    "# check uniqueness of building blocks\n",
    "uniq_I ={}\n",
    "for i in I:\n",
    "    smi = Chem.MolToSmiles(i)\n",
    "    if smi in uniq_I.keys():\n",
    "        warnings.warn('A building block has a duplicate:', Warning)\n",
    "        print(smi)\n",
    "        z = i\n",
    "    uniq_I[smi] = i\n",
    "# Draw.MolToImage(z)"
   ],
   "metadata": {
    "collapsed": false,
    "pycharm": {
     "name": "#%%\n"
    }
   }
  },
  {
   "cell_type": "code",
   "execution_count": 467,
   "outputs": [
    {
     "data": {
      "text/plain": "    Compound Name                                SMILES Category  \\\n134   Pyrazine001      O=C(C1N=CC=NC=1)[B-](F)(F)F.[K+]        I   \n135   Pyrazine002  O=C(C1C=NC(Br)=CN=1)[B-](F)(F)F.[K+]        I   \n\n                                                   mol  \\\n134  <rdkit.Chem.PropertyMol.PropertyMol object at ...   \n135  <rdkit.Chem.PropertyMol.PropertyMol object at ...   \n\n                                                   img  MW_from_mol  \\\n134  <PIL.Image.Image image mode=RGBA size=300x300 ...      213.996   \n135  <PIL.Image.Image image mode=RGBA size=300x300 ...      292.892   \n\n     weigh-in [mg] / 100 µL                                       desalted  \\\n134                    1.07  <rdkit.Chem.rdchem.Mol object at 0x121b23b20>   \n135                    1.46  <rdkit.Chem.rdchem.Mol object at 0x121b23710>   \n\n                  desalted_SMILES  \n134      O=C(c1cnccn1)[B-](F)(F)F  \n135  O=C(c1cnc(Br)cn1)[B-](F)(F)F  ",
      "text/html": "<div>\n<style scoped>\n    .dataframe tbody tr th:only-of-type {\n        vertical-align: middle;\n    }\n\n    .dataframe tbody tr th {\n        vertical-align: top;\n    }\n\n    .dataframe thead th {\n        text-align: right;\n    }\n</style>\n<table border=\"1\" class=\"dataframe\">\n  <thead>\n    <tr style=\"text-align: right;\">\n      <th></th>\n      <th>Compound Name</th>\n      <th>SMILES</th>\n      <th>Category</th>\n      <th>mol</th>\n      <th>img</th>\n      <th>MW_from_mol</th>\n      <th>weigh-in [mg] / 100 µL</th>\n      <th>desalted</th>\n      <th>desalted_SMILES</th>\n    </tr>\n  </thead>\n  <tbody>\n    <tr>\n      <th>134</th>\n      <td>Pyrazine001</td>\n      <td>O=C(C1N=CC=NC=1)[B-](F)(F)F.[K+]</td>\n      <td>I</td>\n      <td>&lt;rdkit.Chem.PropertyMol.PropertyMol object at ...</td>\n      <td>&lt;PIL.Image.Image image mode=RGBA size=300x300 ...</td>\n      <td>213.996</td>\n      <td>1.07</td>\n      <td>&lt;rdkit.Chem.rdchem.Mol object at 0x121b23b20&gt;</td>\n      <td>O=C(c1cnccn1)[B-](F)(F)F</td>\n    </tr>\n    <tr>\n      <th>135</th>\n      <td>Pyrazine002</td>\n      <td>O=C(C1C=NC(Br)=CN=1)[B-](F)(F)F.[K+]</td>\n      <td>I</td>\n      <td>&lt;rdkit.Chem.PropertyMol.PropertyMol object at ...</td>\n      <td>&lt;PIL.Image.Image image mode=RGBA size=300x300 ...</td>\n      <td>292.892</td>\n      <td>1.46</td>\n      <td>&lt;rdkit.Chem.rdchem.Mol object at 0x121b23710&gt;</td>\n      <td>O=C(c1cnc(Br)cn1)[B-](F)(F)F</td>\n    </tr>\n  </tbody>\n</table>\n</div>"
     },
     "execution_count": 467,
     "metadata": {},
     "output_type": "execute_result"
    }
   ],
   "source": [
    "compounds[compounds.loc[:, 'Compound Name'].str.startswith('Pyrazine')]"
   ],
   "metadata": {
    "collapsed": false,
    "pycharm": {
     "name": "#%%\n"
    }
   }
  },
  {
   "cell_type": "code",
   "execution_count": 468,
   "outputs": [],
   "source": [
    "uniq_M ={}\n",
    "for i in M:\n",
    "    smi = Chem.MolToSmiles(i)\n",
    "    if smi in uniq_I.keys():\n",
    "        warnings.warn('A building block has a duplicate:', Warning)\n",
    "        print(smi)\n",
    "        z = i\n",
    "    uniq_M[smi] = i\n",
    "# Draw.MolToImage(z)"
   ],
   "metadata": {
    "collapsed": false,
    "pycharm": {
     "name": "#%%\n"
    }
   }
  },
  {
   "cell_type": "code",
   "execution_count": 469,
   "outputs": [
    {
     "data": {
      "text/plain": "   Compound Name                                         SMILES Category  \\\n65        Mon012  O=C1[C@@]2(ON[C@@H](C3CCOCC3)C2)OC2(CCCCC2)O1        M   \n\n                                                  mol  \\\n65  <rdkit.Chem.PropertyMol.PropertyMol object at ...   \n\n                                                  img  MW_from_mol  \\\n65  <PIL.Image.Image image mode=RGBA size=300x300 ...      297.351   \n\n    weigh-in [mg] / 100 µL                                       desalted  \\\n65                    1.49  <rdkit.Chem.rdchem.Mol object at 0x13fe0a3a0>   \n\n                               desalted_SMILES  \n65  O=C1OC2(CCCCC2)O[C@@]12C[C@H](C1CCOCC1)NO2  ",
      "text/html": "<div>\n<style scoped>\n    .dataframe tbody tr th:only-of-type {\n        vertical-align: middle;\n    }\n\n    .dataframe tbody tr th {\n        vertical-align: top;\n    }\n\n    .dataframe thead th {\n        text-align: right;\n    }\n</style>\n<table border=\"1\" class=\"dataframe\">\n  <thead>\n    <tr style=\"text-align: right;\">\n      <th></th>\n      <th>Compound Name</th>\n      <th>SMILES</th>\n      <th>Category</th>\n      <th>mol</th>\n      <th>img</th>\n      <th>MW_from_mol</th>\n      <th>weigh-in [mg] / 100 µL</th>\n      <th>desalted</th>\n      <th>desalted_SMILES</th>\n    </tr>\n  </thead>\n  <tbody>\n    <tr>\n      <th>65</th>\n      <td>Mon012</td>\n      <td>O=C1[C@@]2(ON[C@@H](C3CCOCC3)C2)OC2(CCCCC2)O1</td>\n      <td>M</td>\n      <td>&lt;rdkit.Chem.PropertyMol.PropertyMol object at ...</td>\n      <td>&lt;PIL.Image.Image image mode=RGBA size=300x300 ...</td>\n      <td>297.351</td>\n      <td>1.49</td>\n      <td>&lt;rdkit.Chem.rdchem.Mol object at 0x13fe0a3a0&gt;</td>\n      <td>O=C1OC2(CCCCC2)O[C@@]12C[C@H](C1CCOCC1)NO2</td>\n    </tr>\n  </tbody>\n</table>\n</div>"
     },
     "execution_count": 469,
     "metadata": {},
     "output_type": "execute_result"
    }
   ],
   "source": [
    "compounds[compounds.loc[:, 'desalted_SMILES'].str.startswith('O=C1OC2(CCCCC2)O[C@@]12C[C@H](C1CCOCC1)NO2')]"
   ],
   "metadata": {
    "collapsed": false,
    "pycharm": {
     "name": "#%%\n"
    }
   }
  },
  {
   "cell_type": "code",
   "execution_count": 470,
   "outputs": [],
   "source": [
    "uniq_T ={}\n",
    "for i in T_TH + T_ABT:\n",
    "    smi = Chem.MolToSmiles(i)\n",
    "    if smi in uniq_T.keys():\n",
    "        warnings.warn('A building block has a duplicate:', Warning)\n",
    "        print(smi)\n",
    "        z = i\n",
    "    uniq_T[smi] = i\n",
    "# Draw.MolToImage(z)"
   ],
   "metadata": {
    "collapsed": false,
    "pycharm": {
     "name": "#%%\n"
    }
   }
  },
  {
   "cell_type": "code",
   "execution_count": 471,
   "outputs": [
    {
     "data": {
      "text/plain": "<rdkit.Chem.rdchem.Mol at 0x1400b48f0>",
      "image/png": "[encoded data removed]"
     },
     "execution_count": 471,
     "metadata": {},
     "output_type": "execute_result"
    }
   ],
   "source": [
    "T_ABT[4]"
   ],
   "metadata": {
    "collapsed": false,
    "pycharm": {
     "name": "#%%\n"
    }
   }
  },
  {
   "cell_type": "code",
   "execution_count": 488,
   "outputs": [
    {
     "name": "stderr",
     "output_type": "stream",
     "text": [
      "RDKit WARNING: [17:58:25] product atom-mapping number 2 found multiple times.\n",
      "RDKit WARNING: [17:58:25] product atom-mapping number 1 found multiple times.\n",
      "RDKit WARNING: [17:58:25] product atom-mapping number 4 found multiple times.\n",
      "RDKit WARNING: [17:58:25] product atom-mapping number 5 found multiple times.\n",
      "RDKit WARNING: [17:58:25] product atom-mapping number 6 found multiple times.\n",
      "RDKit WARNING: [17:58:25] product atom-mapping number 7 found multiple times.\n",
      "RDKit WARNING: [17:58:25] product atom-mapping number 1 found multiple times.\n",
      "RDKit WARNING: [17:58:25] product atom-mapping number 3 found multiple times.\n",
      "RDKit WARNING: [17:58:25] product atom-mapping number 2 found multiple times.\n",
      "RDKit WARNING: [17:58:25] product atom-mapping number 7 found multiple times.\n",
      "RDKit WARNING: [17:58:25] product atom-mapping number 6 found multiple times.\n",
      "RDKit WARNING: [17:58:25] product atom-mapping number 5 found multiple times.\n",
      "RDKit WARNING: [17:58:25] product atom-mapping number 4 found multiple times.\n",
      "RDKit WARNING: [17:58:25] product atom-mapping number 1 found multiple times.\n",
      "RDKit WARNING: [17:58:25] product atom-mapping number 4 found multiple times.\n",
      "RDKit WARNING: [17:58:25] product atom-mapping number 5 found multiple times.\n",
      "RDKit WARNING: [17:58:25] product atom-mapping number 6 found multiple times.\n",
      "RDKit WARNING: [17:58:25] product atom-mapping number 7 found multiple times.\n",
      "RDKit WARNING: [17:58:25] product atom-mapping number 4 found multiple times.\n",
      "RDKit WARNING: [17:58:25] product atom-mapping number 5 found multiple times.\n",
      "RDKit WARNING: [17:58:25] product atom-mapping number 6 found multiple times.\n",
      "RDKit WARNING: [17:58:25] product atom-mapping number 7 found multiple times.\n",
      "RDKit WARNING: [17:58:25] product atom-mapping number 7 found multiple times.\n",
      "RDKit WARNING: [17:58:25] product atom-mapping number 6 found multiple times.\n",
      "RDKit WARNING: [17:58:25] product atom-mapping number 5 found multiple times.\n",
      "RDKit WARNING: [17:58:25] product atom-mapping number 4 found multiple times.\n",
      "RDKit WARNING: [17:58:25] product atom-mapping number 3 found multiple times.\n",
      "RDKit WARNING: [17:58:25] product atom-mapping number 2 found multiple times.\n",
      "RDKit WARNING: [17:58:25] product atom-mapping number 1 found multiple times.\n",
      "RDKit WARNING: [17:58:25] product atom-mapping number 3 found multiple times.\n",
      "RDKit WARNING: [17:58:25] product atom-mapping number 2 found multiple times.\n",
      "RDKit WARNING: [17:58:25] product atom-mapping number 1 found multiple times.\n",
      "RDKit WARNING: [18:03:45] product atom-mapping number 3 found multiple times.\n",
      "RDKit WARNING: [18:03:45] product atom-mapping number 2 found multiple times.\n",
      "RDKit WARNING: [18:03:45] product atom-mapping number 1 found multiple times.\n",
      "RDKit WARNING: [18:03:45] product atom-mapping number 4 found multiple times.\n",
      "RDKit WARNING: [18:03:45] product atom-mapping number 5 found multiple times.\n",
      "RDKit WARNING: [18:03:45] product atom-mapping number 6 found multiple times.\n",
      "RDKit WARNING: [18:03:45] product atom-mapping number 7 found multiple times.\n",
      "RDKit WARNING: [18:03:45] product atom-mapping number 1 found multiple times.\n",
      "RDKit WARNING: [18:03:45] product atom-mapping number 3 found multiple times.\n",
      "RDKit WARNING: [18:03:45] product atom-mapping number 2 found multiple times.\n",
      "RDKit WARNING: [18:03:45] product atom-mapping number 7 found multiple times.\n",
      "RDKit WARNING: [18:03:45] product atom-mapping number 6 found multiple times.\n",
      "RDKit WARNING: [18:03:45] product atom-mapping number 5 found multiple times.\n",
      "RDKit WARNING: [18:03:45] product atom-mapping number 4 found multiple times.\n",
      "RDKit WARNING: [18:03:45] product atom-mapping number 1 found multiple times.\n",
      "RDKit WARNING: [18:03:45] product atom-mapping number 4 found multiple times.\n",
      "RDKit WARNING: [18:03:45] product atom-mapping number 5 found multiple times.\n",
      "RDKit WARNING: [18:03:45] product atom-mapping number 6 found multiple times.\n",
      "RDKit WARNING: [18:03:45] product atom-mapping number 7 found multiple times.\n",
      "RDKit WARNING: [18:03:45] product atom-mapping number 4 found multiple times.\n",
      "RDKit WARNING: [18:03:45] product atom-mapping number 5 found multiple times.\n",
      "RDKit WARNING: [18:03:45] product atom-mapping number 6 found multiple times.\n",
      "RDKit WARNING: [18:03:45] product atom-mapping number 7 found multiple times.\n",
      "RDKit WARNING: [18:03:45] product atom-mapping number 7 found multiple times.\n",
      "RDKit WARNING: [18:03:45] product atom-mapping number 6 found multiple times.\n",
      "RDKit WARNING: [18:03:45] product atom-mapping number 5 found multiple times.\n",
      "RDKit WARNING: [18:03:45] product atom-mapping number 4 found multiple times.\n",
      "RDKit WARNING: [18:03:45] product atom-mapping number 3 found multiple times.\n",
      "RDKit WARNING: [18:03:45] product atom-mapping number 2 found multiple times.\n",
      "RDKit WARNING: [18:03:45] product atom-mapping number 1 found multiple times.\n",
      "RDKit WARNING: [18:03:45] product atom-mapping number 3 found multiple times.\n",
      "RDKit WARNING: [18:03:45] product atom-mapping number 2 found multiple times.\n",
      "RDKit WARNING: [18:03:45] product atom-mapping number 1 found multiple times.\n",
      "RDKit WARNING: [18:03:45] product atom-mapping number 3 found multiple times.\n",
      "RDKit WARNING: [18:03:45] product atom-mapping number 2 found multiple times.\n",
      "RDKit WARNING: [18:03:45] product atom-mapping number 1 found multiple times.\n",
      "RDKit WARNING: [18:03:45] product atom-mapping number 4 found multiple times.\n",
      "RDKit WARNING: [18:03:45] product atom-mapping number 5 found multiple times.\n",
      "RDKit WARNING: [18:03:45] product atom-mapping number 6 found multiple times.\n",
      "RDKit WARNING: [18:03:45] product atom-mapping number 7 found multiple times.\n",
      "RDKit WARNING: [18:03:45] product atom-mapping number 1 found multiple times.\n",
      "RDKit WARNING: [18:03:45] product atom-mapping number 3 found multiple times.\n",
      "RDKit WARNING: [18:03:45] product atom-mapping number 2 found multiple times.\n",
      "RDKit WARNING: [18:03:45] product atom-mapping number 7 found multiple times.\n",
      "RDKit WARNING: [18:03:45] product atom-mapping number 6 found multiple times.\n",
      "RDKit WARNING: [18:03:45] product atom-mapping number 5 found multiple times.\n",
      "RDKit WARNING: [18:03:45] product atom-mapping number 4 found multiple times.\n",
      "RDKit WARNING: [18:03:45] product atom-mapping number 1 found multiple times.\n",
      "RDKit WARNING: [18:03:45] product atom-mapping number 4 found multiple times.\n",
      "RDKit WARNING: [18:03:45] product atom-mapping number 5 found multiple times.\n",
      "RDKit WARNING: [18:03:45] product atom-mapping number 6 found multiple times.\n",
      "RDKit WARNING: [18:03:45] product atom-mapping number 7 found multiple times.\n",
      "RDKit WARNING: [18:03:45] product atom-mapping number 4 found multiple times.\n",
      "RDKit WARNING: [18:03:45] product atom-mapping number 5 found multiple times.\n",
      "RDKit WARNING: [18:03:45] product atom-mapping number 6 found multiple times.\n",
      "RDKit WARNING: [18:03:45] product atom-mapping number 7 found multiple times.\n",
      "RDKit WARNING: [18:03:45] product atom-mapping number 7 found multiple times.\n",
      "RDKit WARNING: [18:03:45] product atom-mapping number 6 found multiple times.\n",
      "RDKit WARNING: [18:03:45] product atom-mapping number 5 found multiple times.\n",
      "RDKit WARNING: [18:03:45] product atom-mapping number 4 found multiple times.\n",
      "RDKit WARNING: [18:03:45] product atom-mapping number 3 found multiple times.\n",
      "RDKit WARNING: [18:03:45] product atom-mapping number 2 found multiple times.\n",
      "RDKit WARNING: [18:03:45] product atom-mapping number 1 found multiple times.\n",
      "RDKit WARNING: [18:03:45] product atom-mapping number 3 found multiple times.\n",
      "RDKit WARNING: [18:03:45] product atom-mapping number 2 found multiple times.\n",
      "RDKit WARNING: [18:03:45] product atom-mapping number 1 found multiple times.\n",
      "RDKit WARNING: [18:03:45] product atom-mapping number 3 found multiple times.\n",
      "RDKit WARNING: [18:03:45] product atom-mapping number 2 found multiple times.\n",
      "RDKit WARNING: [18:03:45] product atom-mapping number 1 found multiple times.\n",
      "RDKit WARNING: [18:03:45] product atom-mapping number 4 found multiple times.\n",
      "RDKit WARNING: [18:03:45] product atom-mapping number 5 found multiple times.\n",
      "RDKit WARNING: [18:03:45] product atom-mapping number 6 found multiple times.\n",
      "RDKit WARNING: [18:03:45] product atom-mapping number 7 found multiple times.\n",
      "RDKit WARNING: [18:03:45] product atom-mapping number 1 found multiple times.\n",
      "RDKit WARNING: [18:03:45] product atom-mapping number 3 found multiple times.\n",
      "RDKit WARNING: [18:03:45] product atom-mapping number 2 found multiple times.\n",
      "RDKit WARNING: [18:03:45] product atom-mapping number 7 found multiple times.\n",
      "RDKit WARNING: [18:03:45] product atom-mapping number 6 found multiple times.\n",
      "RDKit WARNING: [18:03:45] product atom-mapping number 5 found multiple times.\n",
      "RDKit WARNING: [18:03:45] product atom-mapping number 4 found multiple times.\n",
      "RDKit WARNING: [18:03:45] product atom-mapping number 1 found multiple times.\n",
      "RDKit WARNING: [18:03:45] product atom-mapping number 4 found multiple times.\n",
      "RDKit WARNING: [18:03:45] product atom-mapping number 5 found multiple times.\n",
      "RDKit WARNING: [18:03:45] product atom-mapping number 6 found multiple times.\n",
      "RDKit WARNING: [18:03:45] product atom-mapping number 7 found multiple times.\n",
      "RDKit WARNING: [18:03:45] product atom-mapping number 4 found multiple times.\n",
      "RDKit WARNING: [18:03:45] product atom-mapping number 5 found multiple times.\n",
      "RDKit WARNING: [18:03:45] product atom-mapping number 6 found multiple times.\n",
      "RDKit WARNING: [18:03:45] product atom-mapping number 7 found multiple times.\n",
      "RDKit WARNING: [18:03:45] product atom-mapping number 7 found multiple times.\n",
      "RDKit WARNING: [18:03:45] product atom-mapping number 6 found multiple times.\n",
      "RDKit WARNING: [18:03:45] product atom-mapping number 5 found multiple times.\n",
      "RDKit WARNING: [18:03:45] product atom-mapping number 4 found multiple times.\n",
      "RDKit WARNING: [18:03:45] product atom-mapping number 3 found multiple times.\n",
      "RDKit WARNING: [18:03:45] product atom-mapping number 2 found multiple times.\n",
      "RDKit WARNING: [18:03:45] product atom-mapping number 1 found multiple times.\n",
      "RDKit WARNING: [18:03:45] product atom-mapping number 3 found multiple times.\n",
      "RDKit WARNING: [18:03:45] product atom-mapping number 2 found multiple times.\n"
     ]
    }
   ],
   "source": [
    "\"\"\"run enumeration (consumes lots of RAM)\"\"\"\n",
    "\n",
    "products = EnumerateReaction(rxn_ABT, ([I[0]], [M[0]], T_ABT), uniqueProductsOnly=True)"
   ],
   "metadata": {
    "collapsed": false,
    "pycharm": {
     "name": "#%%\n"
    }
   }
  },
  {
   "cell_type": "code",
   "execution_count": 489,
   "outputs": [
    {
     "data": {
      "text/plain": "[(<rdkit.Chem.rdchem.Mol at 0x13d94fc90>,\n  <rdkit.Chem.rdchem.Mol at 0x121afd330>,\n  <rdkit.Chem.rdchem.Mol at 0x13f2e1150>,\n  <rdkit.Chem.rdchem.Mol at 0x13f2e11b0>,\n  <rdkit.Chem.rdchem.Mol at 0x13f2e1210>,\n  <rdkit.Chem.rdchem.Mol at 0x13f2e1270>,\n  <rdkit.Chem.rdchem.Mol at 0x13f2e12d0>),\n (<rdkit.Chem.rdchem.Mol at 0x13f2e0330>,\n  <rdkit.Chem.rdchem.Mol at 0x13f2e0390>,\n  <rdkit.Chem.rdchem.Mol at 0x13f2e03f0>,\n  <rdkit.Chem.rdchem.Mol at 0x13f2e0450>,\n  <rdkit.Chem.rdchem.Mol at 0x13f2e04b0>,\n  <rdkit.Chem.rdchem.Mol at 0x13f2e0510>,\n  <rdkit.Chem.rdchem.Mol at 0x13f2e0570>),\n (<rdkit.Chem.rdchem.Mol at 0x13f2e1330>,\n  <rdkit.Chem.rdchem.Mol at 0x13f2e1390>,\n  <rdkit.Chem.rdchem.Mol at 0x13f2e13f0>,\n  <rdkit.Chem.rdchem.Mol at 0x13f2e1450>,\n  <rdkit.Chem.rdchem.Mol at 0x13f2e14b0>,\n  <rdkit.Chem.rdchem.Mol at 0x13f2e1510>,\n  <rdkit.Chem.rdchem.Mol at 0x13f2e1570>),\n (<rdkit.Chem.rdchem.Mol at 0x13f2e0630>,\n  <rdkit.Chem.rdchem.Mol at 0x13f2e0690>,\n  <rdkit.Chem.rdchem.Mol at 0x13f2e06f0>,\n  <rdkit.Chem.rdchem.Mol at 0x13f2e0750>,\n  <rdkit.Chem.rdchem.Mol at 0x13f2e07b0>,\n  <rdkit.Chem.rdchem.Mol at 0x13f2e0810>,\n  <rdkit.Chem.rdchem.Mol at 0x13f2e0870>),\n (<rdkit.Chem.rdchem.Mol at 0x13f2e1630>,\n  <rdkit.Chem.rdchem.Mol at 0x13f2e1690>,\n  <rdkit.Chem.rdchem.Mol at 0x13f2e16f0>,\n  <rdkit.Chem.rdchem.Mol at 0x13f2e1750>,\n  <rdkit.Chem.rdchem.Mol at 0x13f2e17b0>,\n  <rdkit.Chem.rdchem.Mol at 0x13f2e1810>,\n  <rdkit.Chem.rdchem.Mol at 0x13f2e1870>),\n (<rdkit.Chem.rdchem.Mol at 0x13f2e0ab0>,\n  <rdkit.Chem.rdchem.Mol at 0x13f2e0b10>,\n  <rdkit.Chem.rdchem.Mol at 0x13f2e0b70>,\n  <rdkit.Chem.rdchem.Mol at 0x13f2e0bd0>,\n  <rdkit.Chem.rdchem.Mol at 0x13f2e0c30>,\n  <rdkit.Chem.rdchem.Mol at 0x13f2e0c90>,\n  <rdkit.Chem.rdchem.Mol at 0x13f2e0cf0>),\n (<rdkit.Chem.rdchem.Mol at 0x13f2e1930>,\n  <rdkit.Chem.rdchem.Mol at 0x13f2e1990>,\n  <rdkit.Chem.rdchem.Mol at 0x13f2e19f0>,\n  <rdkit.Chem.rdchem.Mol at 0x13f2e1a50>,\n  <rdkit.Chem.rdchem.Mol at 0x13f2e1ab0>,\n  <rdkit.Chem.rdchem.Mol at 0x13f2e1b10>,\n  <rdkit.Chem.rdchem.Mol at 0x13f2e1b70>),\n (<rdkit.Chem.rdchem.Mol at 0x13f2e0db0>,\n  <rdkit.Chem.rdchem.Mol at 0x13f2e0e10>,\n  <rdkit.Chem.rdchem.Mol at 0x13f2e0e70>,\n  <rdkit.Chem.rdchem.Mol at 0x13f2e0ed0>,\n  <rdkit.Chem.rdchem.Mol at 0x13f2e0f30>,\n  <rdkit.Chem.rdchem.Mol at 0x13f2e0f90>,\n  <rdkit.Chem.rdchem.Mol at 0x13f2e4030>),\n (<rdkit.Chem.rdchem.Mol at 0x13f2e1c30>,\n  <rdkit.Chem.rdchem.Mol at 0x13f2e1c90>,\n  <rdkit.Chem.rdchem.Mol at 0x13f2e1cf0>,\n  <rdkit.Chem.rdchem.Mol at 0x13f2e1d50>,\n  <rdkit.Chem.rdchem.Mol at 0x13f2e1db0>,\n  <rdkit.Chem.rdchem.Mol at 0x13f2e1e10>,\n  <rdkit.Chem.rdchem.Mol at 0x13f2e1e70>),\n (<rdkit.Chem.rdchem.Mol at 0x13f2e40f0>,\n  <rdkit.Chem.rdchem.Mol at 0x13f2e4150>,\n  <rdkit.Chem.rdchem.Mol at 0x13f2e41b0>,\n  <rdkit.Chem.rdchem.Mol at 0x13f2e4210>,\n  <rdkit.Chem.rdchem.Mol at 0x13f2e4270>,\n  <rdkit.Chem.rdchem.Mol at 0x13f2e42d0>,\n  <rdkit.Chem.rdchem.Mol at 0x13f2e4330>),\n (<rdkit.Chem.rdchem.Mol at 0x13f2e1f30>,\n  <rdkit.Chem.rdchem.Mol at 0x13f2e1f90>,\n  <rdkit.Chem.rdchem.Mol at 0x13f2e3030>,\n  <rdkit.Chem.rdchem.Mol at 0x13f2e3090>,\n  <rdkit.Chem.rdchem.Mol at 0x13f2e30f0>,\n  <rdkit.Chem.rdchem.Mol at 0x13f2e3150>,\n  <rdkit.Chem.rdchem.Mol at 0x13f2e31b0>),\n (<rdkit.Chem.rdchem.Mol at 0x13f2e43f0>,\n  <rdkit.Chem.rdchem.Mol at 0x13f2e4450>,\n  <rdkit.Chem.rdchem.Mol at 0x13f2e44b0>,\n  <rdkit.Chem.rdchem.Mol at 0x13f2e4510>,\n  <rdkit.Chem.rdchem.Mol at 0x13f2e4570>,\n  <rdkit.Chem.rdchem.Mol at 0x13f2e45d0>,\n  <rdkit.Chem.rdchem.Mol at 0x13f2e4630>),\n (<rdkit.Chem.rdchem.Mol at 0x13f2e3270>,\n  <rdkit.Chem.rdchem.Mol at 0x13f2e32d0>,\n  <rdkit.Chem.rdchem.Mol at 0x13f2e3330>,\n  <rdkit.Chem.rdchem.Mol at 0x13f2e3390>,\n  <rdkit.Chem.rdchem.Mol at 0x13f2e33f0>,\n  <rdkit.Chem.rdchem.Mol at 0x13f2e3450>,\n  <rdkit.Chem.rdchem.Mol at 0x13f2e34b0>),\n (<rdkit.Chem.rdchem.Mol at 0x13d94f210>,\n  <rdkit.Chem.rdchem.Mol at 0x13f2e46f0>,\n  <rdkit.Chem.rdchem.Mol at 0x13f2e4750>,\n  <rdkit.Chem.rdchem.Mol at 0x13f2e47b0>,\n  <rdkit.Chem.rdchem.Mol at 0x13f2e4810>,\n  <rdkit.Chem.rdchem.Mol at 0x13f2e4870>,\n  <rdkit.Chem.rdchem.Mol at 0x13f2e48d0>),\n (<rdkit.Chem.rdchem.Mol at 0x13f2e3570>,\n  <rdkit.Chem.rdchem.Mol at 0x13f2e35d0>,\n  <rdkit.Chem.rdchem.Mol at 0x13f2e3630>,\n  <rdkit.Chem.rdchem.Mol at 0x13f2e3690>,\n  <rdkit.Chem.rdchem.Mol at 0x13f2e36f0>,\n  <rdkit.Chem.rdchem.Mol at 0x13f2e3750>,\n  <rdkit.Chem.rdchem.Mol at 0x13f2e37b0>),\n (<rdkit.Chem.rdchem.Mol at 0x13f2e4930>,\n  <rdkit.Chem.rdchem.Mol at 0x13f2e49f0>,\n  <rdkit.Chem.rdchem.Mol at 0x13f2e4a50>,\n  <rdkit.Chem.rdchem.Mol at 0x13f2e4ab0>,\n  <rdkit.Chem.rdchem.Mol at 0x13f2e4b10>,\n  <rdkit.Chem.rdchem.Mol at 0x13f2e4b70>,\n  <rdkit.Chem.rdchem.Mol at 0x13f2e4bd0>),\n (<rdkit.Chem.rdchem.Mol at 0x13f2e3870>,\n  <rdkit.Chem.rdchem.Mol at 0x13f2e38d0>,\n  <rdkit.Chem.rdchem.Mol at 0x13f2e3930>,\n  <rdkit.Chem.rdchem.Mol at 0x13f2e3990>,\n  <rdkit.Chem.rdchem.Mol at 0x13f2e39f0>,\n  <rdkit.Chem.rdchem.Mol at 0x13f2e3a50>,\n  <rdkit.Chem.rdchem.Mol at 0x13f2e3ab0>),\n (<rdkit.Chem.rdchem.Mol at 0x13f2e4c30>,\n  <rdkit.Chem.rdchem.Mol at 0x13f2e4cf0>,\n  <rdkit.Chem.rdchem.Mol at 0x13f2e4d50>,\n  <rdkit.Chem.rdchem.Mol at 0x13f2e4db0>,\n  <rdkit.Chem.rdchem.Mol at 0x13f2e4e10>,\n  <rdkit.Chem.rdchem.Mol at 0x13f2e4e70>,\n  <rdkit.Chem.rdchem.Mol at 0x13f2e4ed0>)]"
     },
     "execution_count": 489,
     "metadata": {},
     "output_type": "execute_result"
    }
   ],
   "source": [
    "prds = list(products)\n",
    "prds"
   ],
   "metadata": {
    "collapsed": false,
    "pycharm": {
     "name": "#%%\n"
    }
   }
  },
  {
   "cell_type": "code",
   "execution_count": 490,
   "outputs": [
    {
     "name": "stdout",
     "output_type": "stream",
     "text": [
      "['2-Pyr002 + Fused002 + TerABT001', '2-Pyr003 + Fused002 + TerABT001', '2-Pyr005 + Fused002 + TerABT001', '2-Pyr006 + Fused002 + TerABT001', '2-Pyr007 + Fused002 + TerABT001']\n"
     ]
    },
    {
     "data": {
      "text/plain": "[None,\n None,\n None,\n None,\n None,\n None,\n None,\n None,\n None,\n None,\n None,\n None,\n None,\n None,\n None,\n None,\n None,\n None,\n None,\n None,\n None,\n None,\n None,\n None,\n None,\n None,\n None,\n None,\n None,\n None,\n None,\n None,\n None,\n None,\n None,\n None,\n None,\n None,\n None,\n None,\n None,\n None,\n None,\n None,\n None,\n None,\n None,\n None,\n None,\n None,\n None,\n None,\n None,\n None,\n None,\n None,\n None,\n None,\n None,\n None,\n None,\n None,\n None,\n None,\n None,\n None,\n None,\n None,\n None,\n None,\n None,\n None,\n None,\n None,\n None,\n None,\n None,\n None,\n None,\n None,\n None,\n None,\n None,\n None,\n None,\n None,\n None,\n None,\n None,\n None,\n None,\n None,\n None,\n None,\n None,\n None,\n None,\n None,\n None,\n None,\n None,\n None,\n None,\n None,\n None,\n None,\n None,\n None,\n None,\n None,\n None,\n None,\n None,\n None,\n None,\n None,\n None,\n None,\n None,\n None,\n None,\n None,\n None,\n None,\n None,\n None]"
     },
     "execution_count": 490,
     "metadata": {},
     "output_type": "execute_result"
    }
   ],
   "source": [
    "\"\"\"Add name properties to enumerated molecules. The cartesian enumeration strategy is (0,0,0), (1,0,0),...\n",
    "WARNING:  This only works for enumeration of the complete library.\"\"\"\n",
    "# TODO adapt to flexible use case\n",
    "\n",
    "names = [f'{i.GetProp(\"_Name\")} + {m.GetProp(\"_Name\")} + {t.GetProp(\"_Name\")}' for t in T_ABT for m in M for i in I]\n",
    "print(names[:5])\n",
    "[p.SetProp('_Name', n) for p_list, n in zip(prds, names) for p in p_list]"
   ],
   "metadata": {
    "collapsed": false,
    "pycharm": {
     "name": "#%%\n"
    }
   }
  },
  {
   "cell_type": "code",
   "execution_count": 498,
   "outputs": [
    {
     "data": {
      "text/plain": "'4-Pyrazole002 + Fused002 + TerABT001'"
     },
     "execution_count": 498,
     "metadata": {},
     "output_type": "execute_result"
    }
   ],
   "source": [
    "prds[17][4].GetProp('_Name')"
   ],
   "metadata": {
    "collapsed": false,
    "pycharm": {
     "name": "#%%\n"
    }
   }
  },
  {
   "cell_type": "code",
   "execution_count": 486,
   "outputs": [
    {
     "data": {
      "text/plain": "[rdkit.Chem.rdmolops.SanitizeFlags.SANITIZE_NONE,\n rdkit.Chem.rdmolops.SanitizeFlags.SANITIZE_NONE,\n rdkit.Chem.rdmolops.SanitizeFlags.SANITIZE_NONE,\n rdkit.Chem.rdmolops.SanitizeFlags.SANITIZE_NONE,\n rdkit.Chem.rdmolops.SanitizeFlags.SANITIZE_NONE,\n rdkit.Chem.rdmolops.SanitizeFlags.SANITIZE_NONE,\n rdkit.Chem.rdmolops.SanitizeFlags.SANITIZE_NONE,\n rdkit.Chem.rdmolops.SanitizeFlags.SANITIZE_NONE,\n rdkit.Chem.rdmolops.SanitizeFlags.SANITIZE_NONE,\n rdkit.Chem.rdmolops.SanitizeFlags.SANITIZE_NONE,\n rdkit.Chem.rdmolops.SanitizeFlags.SANITIZE_NONE,\n rdkit.Chem.rdmolops.SanitizeFlags.SANITIZE_NONE,\n rdkit.Chem.rdmolops.SanitizeFlags.SANITIZE_NONE,\n rdkit.Chem.rdmolops.SanitizeFlags.SANITIZE_NONE,\n rdkit.Chem.rdmolops.SanitizeFlags.SANITIZE_NONE,\n rdkit.Chem.rdmolops.SanitizeFlags.SANITIZE_NONE,\n rdkit.Chem.rdmolops.SanitizeFlags.SANITIZE_NONE,\n rdkit.Chem.rdmolops.SanitizeFlags.SANITIZE_NONE,\n rdkit.Chem.rdmolops.SanitizeFlags.SANITIZE_NONE,\n rdkit.Chem.rdmolops.SanitizeFlags.SANITIZE_NONE,\n rdkit.Chem.rdmolops.SanitizeFlags.SANITIZE_NONE,\n rdkit.Chem.rdmolops.SanitizeFlags.SANITIZE_NONE,\n rdkit.Chem.rdmolops.SanitizeFlags.SANITIZE_NONE,\n rdkit.Chem.rdmolops.SanitizeFlags.SANITIZE_NONE,\n rdkit.Chem.rdmolops.SanitizeFlags.SANITIZE_NONE,\n rdkit.Chem.rdmolops.SanitizeFlags.SANITIZE_NONE,\n rdkit.Chem.rdmolops.SanitizeFlags.SANITIZE_NONE,\n rdkit.Chem.rdmolops.SanitizeFlags.SANITIZE_NONE,\n rdkit.Chem.rdmolops.SanitizeFlags.SANITIZE_NONE,\n rdkit.Chem.rdmolops.SanitizeFlags.SANITIZE_NONE,\n rdkit.Chem.rdmolops.SanitizeFlags.SANITIZE_NONE,\n rdkit.Chem.rdmolops.SanitizeFlags.SANITIZE_NONE,\n rdkit.Chem.rdmolops.SanitizeFlags.SANITIZE_NONE,\n rdkit.Chem.rdmolops.SanitizeFlags.SANITIZE_NONE,\n rdkit.Chem.rdmolops.SanitizeFlags.SANITIZE_NONE,\n rdkit.Chem.rdmolops.SanitizeFlags.SANITIZE_NONE,\n rdkit.Chem.rdmolops.SanitizeFlags.SANITIZE_NONE,\n rdkit.Chem.rdmolops.SanitizeFlags.SANITIZE_NONE,\n rdkit.Chem.rdmolops.SanitizeFlags.SANITIZE_NONE,\n rdkit.Chem.rdmolops.SanitizeFlags.SANITIZE_NONE,\n rdkit.Chem.rdmolops.SanitizeFlags.SANITIZE_NONE,\n rdkit.Chem.rdmolops.SanitizeFlags.SANITIZE_NONE,\n rdkit.Chem.rdmolops.SanitizeFlags.SANITIZE_NONE,\n rdkit.Chem.rdmolops.SanitizeFlags.SANITIZE_NONE,\n rdkit.Chem.rdmolops.SanitizeFlags.SANITIZE_NONE,\n rdkit.Chem.rdmolops.SanitizeFlags.SANITIZE_NONE,\n rdkit.Chem.rdmolops.SanitizeFlags.SANITIZE_NONE,\n rdkit.Chem.rdmolops.SanitizeFlags.SANITIZE_NONE,\n rdkit.Chem.rdmolops.SanitizeFlags.SANITIZE_NONE,\n rdkit.Chem.rdmolops.SanitizeFlags.SANITIZE_NONE,\n rdkit.Chem.rdmolops.SanitizeFlags.SANITIZE_NONE,\n rdkit.Chem.rdmolops.SanitizeFlags.SANITIZE_NONE,\n rdkit.Chem.rdmolops.SanitizeFlags.SANITIZE_NONE,\n rdkit.Chem.rdmolops.SanitizeFlags.SANITIZE_NONE,\n rdkit.Chem.rdmolops.SanitizeFlags.SANITIZE_NONE,\n rdkit.Chem.rdmolops.SanitizeFlags.SANITIZE_NONE,\n rdkit.Chem.rdmolops.SanitizeFlags.SANITIZE_NONE,\n rdkit.Chem.rdmolops.SanitizeFlags.SANITIZE_NONE,\n rdkit.Chem.rdmolops.SanitizeFlags.SANITIZE_NONE,\n rdkit.Chem.rdmolops.SanitizeFlags.SANITIZE_NONE,\n rdkit.Chem.rdmolops.SanitizeFlags.SANITIZE_NONE,\n rdkit.Chem.rdmolops.SanitizeFlags.SANITIZE_NONE,\n rdkit.Chem.rdmolops.SanitizeFlags.SANITIZE_NONE,\n rdkit.Chem.rdmolops.SanitizeFlags.SANITIZE_NONE,\n rdkit.Chem.rdmolops.SanitizeFlags.SANITIZE_NONE,\n rdkit.Chem.rdmolops.SanitizeFlags.SANITIZE_NONE,\n rdkit.Chem.rdmolops.SanitizeFlags.SANITIZE_NONE,\n rdkit.Chem.rdmolops.SanitizeFlags.SANITIZE_NONE,\n rdkit.Chem.rdmolops.SanitizeFlags.SANITIZE_NONE,\n rdkit.Chem.rdmolops.SanitizeFlags.SANITIZE_NONE,\n rdkit.Chem.rdmolops.SanitizeFlags.SANITIZE_NONE,\n rdkit.Chem.rdmolops.SanitizeFlags.SANITIZE_NONE,\n rdkit.Chem.rdmolops.SanitizeFlags.SANITIZE_NONE,\n rdkit.Chem.rdmolops.SanitizeFlags.SANITIZE_NONE,\n rdkit.Chem.rdmolops.SanitizeFlags.SANITIZE_NONE,\n rdkit.Chem.rdmolops.SanitizeFlags.SANITIZE_NONE,\n rdkit.Chem.rdmolops.SanitizeFlags.SANITIZE_NONE,\n rdkit.Chem.rdmolops.SanitizeFlags.SANITIZE_NONE,\n rdkit.Chem.rdmolops.SanitizeFlags.SANITIZE_NONE,\n rdkit.Chem.rdmolops.SanitizeFlags.SANITIZE_NONE,\n rdkit.Chem.rdmolops.SanitizeFlags.SANITIZE_NONE,\n rdkit.Chem.rdmolops.SanitizeFlags.SANITIZE_NONE,\n rdkit.Chem.rdmolops.SanitizeFlags.SANITIZE_NONE,\n rdkit.Chem.rdmolops.SanitizeFlags.SANITIZE_NONE,\n rdkit.Chem.rdmolops.SanitizeFlags.SANITIZE_NONE,\n rdkit.Chem.rdmolops.SanitizeFlags.SANITIZE_NONE,\n rdkit.Chem.rdmolops.SanitizeFlags.SANITIZE_NONE,\n rdkit.Chem.rdmolops.SanitizeFlags.SANITIZE_NONE,\n rdkit.Chem.rdmolops.SanitizeFlags.SANITIZE_NONE,\n rdkit.Chem.rdmolops.SanitizeFlags.SANITIZE_NONE,\n rdkit.Chem.rdmolops.SanitizeFlags.SANITIZE_NONE,\n rdkit.Chem.rdmolops.SanitizeFlags.SANITIZE_NONE,\n rdkit.Chem.rdmolops.SanitizeFlags.SANITIZE_NONE,\n rdkit.Chem.rdmolops.SanitizeFlags.SANITIZE_NONE,\n rdkit.Chem.rdmolops.SanitizeFlags.SANITIZE_NONE,\n rdkit.Chem.rdmolops.SanitizeFlags.SANITIZE_NONE,\n rdkit.Chem.rdmolops.SanitizeFlags.SANITIZE_NONE,\n rdkit.Chem.rdmolops.SanitizeFlags.SANITIZE_NONE,\n rdkit.Chem.rdmolops.SanitizeFlags.SANITIZE_NONE,\n rdkit.Chem.rdmolops.SanitizeFlags.SANITIZE_NONE,\n rdkit.Chem.rdmolops.SanitizeFlags.SANITIZE_NONE,\n rdkit.Chem.rdmolops.SanitizeFlags.SANITIZE_NONE,\n rdkit.Chem.rdmolops.SanitizeFlags.SANITIZE_NONE,\n rdkit.Chem.rdmolops.SanitizeFlags.SANITIZE_NONE,\n rdkit.Chem.rdmolops.SanitizeFlags.SANITIZE_NONE,\n rdkit.Chem.rdmolops.SanitizeFlags.SANITIZE_NONE,\n rdkit.Chem.rdmolops.SanitizeFlags.SANITIZE_NONE,\n rdkit.Chem.rdmolops.SanitizeFlags.SANITIZE_NONE,\n rdkit.Chem.rdmolops.SanitizeFlags.SANITIZE_NONE,\n rdkit.Chem.rdmolops.SanitizeFlags.SANITIZE_NONE,\n rdkit.Chem.rdmolops.SanitizeFlags.SANITIZE_NONE,\n rdkit.Chem.rdmolops.SanitizeFlags.SANITIZE_NONE,\n rdkit.Chem.rdmolops.SanitizeFlags.SANITIZE_NONE,\n rdkit.Chem.rdmolops.SanitizeFlags.SANITIZE_NONE,\n rdkit.Chem.rdmolops.SanitizeFlags.SANITIZE_NONE,\n rdkit.Chem.rdmolops.SanitizeFlags.SANITIZE_NONE,\n rdkit.Chem.rdmolops.SanitizeFlags.SANITIZE_NONE,\n rdkit.Chem.rdmolops.SanitizeFlags.SANITIZE_NONE,\n rdkit.Chem.rdmolops.SanitizeFlags.SANITIZE_NONE,\n rdkit.Chem.rdmolops.SanitizeFlags.SANITIZE_NONE,\n rdkit.Chem.rdmolops.SanitizeFlags.SANITIZE_NONE,\n rdkit.Chem.rdmolops.SanitizeFlags.SANITIZE_NONE,\n rdkit.Chem.rdmolops.SanitizeFlags.SANITIZE_NONE,\n rdkit.Chem.rdmolops.SanitizeFlags.SANITIZE_NONE,\n rdkit.Chem.rdmolops.SanitizeFlags.SANITIZE_NONE,\n rdkit.Chem.rdmolops.SanitizeFlags.SANITIZE_NONE]"
     },
     "execution_count": 486,
     "metadata": {},
     "output_type": "execute_result"
    }
   ],
   "source": [
    "[Chem.SanitizeMol(p) for p_list in prds for p in p_list]"
   ],
   "metadata": {
    "collapsed": false,
    "pycharm": {
     "name": "#%%\n"
    }
   }
  },
  {
   "cell_type": "code",
   "execution_count": 476,
   "outputs": [
    {
     "data": {
      "text/plain": "[[<rdkit.Chem.rdchem.Mol at 0x1400b9c90>,\n  <rdkit.Chem.rdchem.Mol at 0x1400c0990>,\n  <rdkit.Chem.rdchem.Mol at 0x121af6b10>,\n  <rdkit.Chem.rdchem.Mol at 0x1400c0c30>,\n  <rdkit.Chem.rdchem.Mol at 0x121af6030>,\n  <rdkit.Chem.rdchem.Mol at 0x1400c0ed0>,\n  <rdkit.Chem.rdchem.Mol at 0x1400c0870>,\n  <rdkit.Chem.rdchem.Mol at 0x121afd1b0>,\n  <rdkit.Chem.rdchem.Mol at 0x1400c01b0>,\n  <rdkit.Chem.rdchem.Mol at 0x1400be150>,\n  <rdkit.Chem.rdchem.Mol at 0x1400c0450>,\n  <rdkit.Chem.rdchem.Mol at 0x1400be3f0>,\n  <rdkit.Chem.rdchem.Mol at 0x1400bea50>,\n  <rdkit.Chem.rdchem.Mol at 0x121f04b70>,\n  <rdkit.Chem.rdchem.Mol at 0x1400becf0>,\n  <rdkit.Chem.rdchem.Mol at 0x1400bbf30>,\n  <rdkit.Chem.rdchem.Mol at 0x1400bef90>,\n  <rdkit.Chem.rdchem.Mol at 0x1400c1f90>],\n [<rdkit.Chem.rdchem.Mol at 0x121f1e2d0>,\n  <rdkit.Chem.rdchem.Mol at 0x1400c09f0>,\n  <rdkit.Chem.rdchem.Mol at 0x121af66f0>,\n  <rdkit.Chem.rdchem.Mol at 0x1400c0c90>,\n  <rdkit.Chem.rdchem.Mol at 0x121af6e70>,\n  <rdkit.Chem.rdchem.Mol at 0x1400c0f30>,\n  <rdkit.Chem.rdchem.Mol at 0x1400c08d0>,\n  <rdkit.Chem.rdchem.Mol at 0x1400be930>,\n  <rdkit.Chem.rdchem.Mol at 0x1400c0210>,\n  <rdkit.Chem.rdchem.Mol at 0x1400be1b0>,\n  <rdkit.Chem.rdchem.Mol at 0x1400c04b0>,\n  <rdkit.Chem.rdchem.Mol at 0x1400be4b0>,\n  <rdkit.Chem.rdchem.Mol at 0x1400beab0>,\n  <rdkit.Chem.rdchem.Mol at 0x1400be6f0>,\n  <rdkit.Chem.rdchem.Mol at 0x1400bed50>,\n  <rdkit.Chem.rdchem.Mol at 0x1400bbf90>,\n  <rdkit.Chem.rdchem.Mol at 0x1400bbab0>,\n  <rdkit.Chem.rdchem.Mol at 0x1400c1030>],\n [<rdkit.Chem.rdchem.Mol at 0x147a3fc90>,\n  <rdkit.Chem.rdchem.Mol at 0x1400c0a50>,\n  <rdkit.Chem.rdchem.Mol at 0x121af6930>,\n  <rdkit.Chem.rdchem.Mol at 0x1400c0cf0>,\n  <rdkit.Chem.rdchem.Mol at 0x121af6f90>,\n  <rdkit.Chem.rdchem.Mol at 0x1400c0f90>,\n  <rdkit.Chem.rdchem.Mol at 0x1400c0930>,\n  <rdkit.Chem.rdchem.Mol at 0x1400be990>,\n  <rdkit.Chem.rdchem.Mol at 0x1400c0270>,\n  <rdkit.Chem.rdchem.Mol at 0x1400be210>,\n  <rdkit.Chem.rdchem.Mol at 0x1400c0510>,\n  <rdkit.Chem.rdchem.Mol at 0x1400be510>,\n  <rdkit.Chem.rdchem.Mol at 0x1400beb10>,\n  <rdkit.Chem.rdchem.Mol at 0x1400bbd50>,\n  <rdkit.Chem.rdchem.Mol at 0x1400bedb0>,\n  <rdkit.Chem.rdchem.Mol at 0x1400c1db0>,\n  <rdkit.Chem.rdchem.Mol at 0x1400bbb10>,\n  <rdkit.Chem.rdchem.Mol at 0x1400c1090>],\n [<rdkit.Chem.rdchem.Mol at 0x147a3fcf0>,\n  <rdkit.Chem.rdchem.Mol at 0x1400c0ab0>,\n  <rdkit.Chem.rdchem.Mol at 0x121af62d0>,\n  <rdkit.Chem.rdchem.Mol at 0x1400c0d50>,\n  <rdkit.Chem.rdchem.Mol at 0x1400c06f0>,\n  <rdkit.Chem.rdchem.Mol at 0x1400be7b0>,\n  <rdkit.Chem.rdchem.Mol at 0x1400c0030>,\n  <rdkit.Chem.rdchem.Mol at 0x1400be9f0>,\n  <rdkit.Chem.rdchem.Mol at 0x1400c02d0>,\n  <rdkit.Chem.rdchem.Mol at 0x1400be270>,\n  <rdkit.Chem.rdchem.Mol at 0x1400c0570>,\n  <rdkit.Chem.rdchem.Mol at 0x1400be570>,\n  <rdkit.Chem.rdchem.Mol at 0x1400beb70>,\n  <rdkit.Chem.rdchem.Mol at 0x1400bbdb0>,\n  <rdkit.Chem.rdchem.Mol at 0x1400bee10>,\n  <rdkit.Chem.rdchem.Mol at 0x1400c1e10>,\n  <rdkit.Chem.rdchem.Mol at 0x1400bbb70>,\n  <rdkit.Chem.rdchem.Mol at 0x1400c10f0>],\n [<rdkit.Chem.rdchem.Mol at 0x121af6c30>,\n  <rdkit.Chem.rdchem.Mol at 0x1400c0b10>,\n  <rdkit.Chem.rdchem.Mol at 0x121af6510>,\n  <rdkit.Chem.rdchem.Mol at 0x1400c0db0>,\n  <rdkit.Chem.rdchem.Mol at 0x1400c0750>,\n  <rdkit.Chem.rdchem.Mol at 0x1400be810>,\n  <rdkit.Chem.rdchem.Mol at 0x1400c0090>,\n  <rdkit.Chem.rdchem.Mol at 0x1400be030>,\n  <rdkit.Chem.rdchem.Mol at 0x1400c0330>,\n  <rdkit.Chem.rdchem.Mol at 0x1400be2d0>,\n  <rdkit.Chem.rdchem.Mol at 0x1400c05d0>,\n  <rdkit.Chem.rdchem.Mol at 0x1400be5d0>,\n  <rdkit.Chem.rdchem.Mol at 0x1400bebd0>,\n  <rdkit.Chem.rdchem.Mol at 0x1400bbe10>,\n  <rdkit.Chem.rdchem.Mol at 0x1400bee70>,\n  <rdkit.Chem.rdchem.Mol at 0x1400c1e70>,\n  <rdkit.Chem.rdchem.Mol at 0x1400bbbd0>,\n  <rdkit.Chem.rdchem.Mol at 0x1400c1150>],\n [<rdkit.Chem.rdchem.Mol at 0x121af69f0>,\n  <rdkit.Chem.rdchem.Mol at 0x1400c0b70>,\n  <rdkit.Chem.rdchem.Mol at 0x121af6450>,\n  <rdkit.Chem.rdchem.Mol at 0x1400c0e10>,\n  <rdkit.Chem.rdchem.Mol at 0x1400c07b0>,\n  <rdkit.Chem.rdchem.Mol at 0x1400be870>,\n  <rdkit.Chem.rdchem.Mol at 0x1400c00f0>,\n  <rdkit.Chem.rdchem.Mol at 0x1400be090>,\n  <rdkit.Chem.rdchem.Mol at 0x1400c0390>,\n  <rdkit.Chem.rdchem.Mol at 0x1400be330>,\n  <rdkit.Chem.rdchem.Mol at 0x1400c0630>,\n  <rdkit.Chem.rdchem.Mol at 0x1400be630>,\n  <rdkit.Chem.rdchem.Mol at 0x1400bec30>,\n  <rdkit.Chem.rdchem.Mol at 0x1400bbe70>,\n  <rdkit.Chem.rdchem.Mol at 0x1400beed0>,\n  <rdkit.Chem.rdchem.Mol at 0x1400c1ed0>,\n  <rdkit.Chem.rdchem.Mol at 0x1400bbc30>,\n  <rdkit.Chem.rdchem.Mol at 0x1400c11b0>],\n [<rdkit.Chem.rdchem.Mol at 0x121af6a50>,\n  <rdkit.Chem.rdchem.Mol at 0x1400c0bd0>,\n  <rdkit.Chem.rdchem.Mol at 0x121af63f0>,\n  <rdkit.Chem.rdchem.Mol at 0x1400c0e70>,\n  <rdkit.Chem.rdchem.Mol at 0x1400c0810>,\n  <rdkit.Chem.rdchem.Mol at 0x1400be8d0>,\n  <rdkit.Chem.rdchem.Mol at 0x1400c0150>,\n  <rdkit.Chem.rdchem.Mol at 0x1400be0f0>,\n  <rdkit.Chem.rdchem.Mol at 0x1400c03f0>,\n  <rdkit.Chem.rdchem.Mol at 0x1400be390>,\n  <rdkit.Chem.rdchem.Mol at 0x1400c0690>,\n  <rdkit.Chem.rdchem.Mol at 0x1400be690>,\n  <rdkit.Chem.rdchem.Mol at 0x1400bec90>,\n  <rdkit.Chem.rdchem.Mol at 0x1400bbed0>,\n  <rdkit.Chem.rdchem.Mol at 0x1400bef30>,\n  <rdkit.Chem.rdchem.Mol at 0x1400c1f30>,\n  <rdkit.Chem.rdchem.Mol at 0x1400bbc90>,\n  <rdkit.Chem.rdchem.Mol at 0x1400c1210>]]"
     },
     "execution_count": 476,
     "metadata": {},
     "output_type": "execute_result"
    }
   ],
   "source": [
    "resorted_products = list(map(list, itertools.zip_longest(*prds, fillvalue=None)))  # \"transposes\" the list of lists\n",
    "resorted_products"
   ],
   "metadata": {
    "collapsed": false,
    "pycharm": {
     "name": "#%%\n"
    }
   }
  },
  {
   "cell_type": "code",
   "execution_count": 477,
   "outputs": [
    {
     "data": {
      "text/plain": "0"
     },
     "execution_count": 477,
     "metadata": {},
     "output_type": "execute_result"
    }
   ],
   "source": [
    "resorted_products[0][0].HasProp('_Name')"
   ],
   "metadata": {
    "collapsed": false,
    "pycharm": {
     "name": "#%%\n"
    }
   }
  },
  {
   "cell_type": "code",
   "execution_count": 478,
   "outputs": [
    {
     "name": "stdout",
     "output_type": "stream",
     "text": [
      "Products A were saved to SDF\n",
      "Products B were saved to SDF\n",
      "Products C were saved to SDF\n",
      "Products D were saved to SDF\n",
      "Products E were saved to SDF\n",
      "Products F were saved to SDF\n",
      "Products G were saved to SDF\n"
     ]
    }
   ],
   "source": [
    "for p, s in zip(resorted_products, string.ascii_uppercase):\n",
    "    with open(OUTPUT_DIR / 'sdf' / f'product_{s}.sdf', 'w') as file:\n",
    "        writer = Chem.SDWriter(file)\n",
    "        [writer.write(mol) for mol in p]\n",
    "        writer.close()\n",
    "    print(f'Products {s} were saved to SDF')"
   ],
   "metadata": {
    "collapsed": false,
    "pycharm": {
     "name": "#%%\n"
    }
   }
  },
  {
   "cell_type": "markdown",
   "source": [
    "TODO find out how to add monomer info to sdf"
   ],
   "metadata": {
    "collapsed": false,
    "pycharm": {
     "name": "#%% md\n"
    }
   }
  },
  {
   "cell_type": "code",
   "execution_count": 479,
   "outputs": [
    {
     "data": {
      "text/plain": "'TerTH002'"
     },
     "execution_count": 479,
     "metadata": {},
     "output_type": "execute_result"
    }
   ],
   "source": [
    "m = T_ABT[1]\n",
    "m2 = m\n",
    "m2.SetProp('_Name', 'TerTH002')\n",
    "m2.GetProp('_Name')\n"
   ],
   "metadata": {
    "collapsed": false,
    "pycharm": {
     "name": "#%%\n"
    }
   }
  },
  {
   "cell_type": "code",
   "execution_count": 480,
   "outputs": [],
   "source": [
    "with open(OUTPUT_DIR / 'sdf' / f'test.sdf', 'w') as file:\n",
    "        writer = Chem.SDWriter(file)\n",
    "        writer.write(m2)\n",
    "        writer.close()"
   ],
   "metadata": {
    "collapsed": false,
    "pycharm": {
     "name": "#%%\n"
    }
   }
  },
  {
   "cell_type": "code",
   "execution_count": 481,
   "outputs": [
    {
     "data": {
      "text/plain": "'Save products to SDF'"
     },
     "execution_count": 481,
     "metadata": {},
     "output_type": "execute_result"
    }
   ],
   "source": [
    "\"\"\"Save products to SDF\"\"\""
   ],
   "metadata": {
    "collapsed": false,
    "pycharm": {
     "name": "#%%\n"
    }
   }
  }
 ],
 "metadata": {
  "kernelspec": {
   "name": "python3",
   "language": "python",
   "display_name": "Python 3"
  },
  "language_info": {
   "codemirror_mode": {
    "name": "ipython",
    "version": 2
   },
   "file_extension": ".py",
   "mimetype": "text/x-python",
   "name": "python",
   "nbconvert_exporter": "python",
   "pygments_lexer": "ipython2",
   "version": "2.7.6"
  }
 },
 "nbformat": 4,
 "nbformat_minor": 0
}